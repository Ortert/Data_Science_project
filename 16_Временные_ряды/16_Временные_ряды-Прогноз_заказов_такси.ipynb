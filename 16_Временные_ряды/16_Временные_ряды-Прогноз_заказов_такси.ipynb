{
 "cells": [
  {
   "cell_type": "markdown",
   "metadata": {},
   "source": [
    "#  Прогнозирование заказов такси"
   ]
  },
  {
   "cell_type": "markdown",
   "metadata": {},
   "source": [
    "**Описание и цели проекта:**\n",
    "Компания «Чётенькое такси» собрала исторические данные о заказах такси в аэропортах. Чтобы привлекать больше водителей в период пиковой нагрузки, нужно спрогнозировать количество заказов такси на следующий час. Необхоимо построить модель для такого предсказания.\n",
    "\n",
    "Значение метрики *RMSE* на тестовой выборке должно быть не больше 48.\n",
    "\n",
    "План работы:\n",
    "\n",
    "1. Загрузить данные и выполнить их ресемплирование по одному часу.\n",
    "2. Проанализировать данные.\n",
    "3. Обучить разные модели с различными гиперпараметрами. Сделать тестовую выборку размером 10% от исходных данных.\n",
    "4. Проверить данные на тестовой выборке и сделать выводы."
   ]
  },
  {
   "cell_type": "markdown",
   "metadata": {},
   "source": [
    "**Описание данных:**\n",
    "\n",
    "Данные лежат в файле `taxi.csv`.\n",
    "\n",
    "Количество заказов находится в столбце `num_orders` (от англ. *number of orders*, «число заказов»)."
   ]
  },
  {
   "cell_type": "markdown",
   "metadata": {
    "toc": true
   },
   "source": [
    "<h1>Содержание<span class=\"tocSkip\"></span></h1>\n",
    "<div class=\"toc\"><ul class=\"toc-item\"><li><span><a href=\"#Подготовка\" data-toc-modified-id=\"Подготовка-1\"><span class=\"toc-item-num\">1&nbsp;&nbsp;</span>Подготовка</a></span></li><li><span><a href=\"#Анализ\" data-toc-modified-id=\"Анализ-2\"><span class=\"toc-item-num\">2&nbsp;&nbsp;</span>Анализ</a></span></li><li><span><a href=\"#Обучение\" data-toc-modified-id=\"Обучение-3\"><span class=\"toc-item-num\">3&nbsp;&nbsp;</span>Обучение</a></span></li><li><span><a href=\"#Тестирование\" data-toc-modified-id=\"Тестирование-4\"><span class=\"toc-item-num\">4&nbsp;&nbsp;</span>Тестирование</a></span></li><li><span><a href=\"#Общие-выводы\" data-toc-modified-id=\"Общие-выводы-5\"><span class=\"toc-item-num\">5&nbsp;&nbsp;</span>Общие выводы</a></span></li><li><span><a href=\"#Чек-лист-проверки\" data-toc-modified-id=\"Чек-лист-проверки-6\"><span class=\"toc-item-num\">6&nbsp;&nbsp;</span>Чек-лист проверки</a></span></li></ul></div>"
   ]
  },
  {
   "cell_type": "markdown",
   "metadata": {},
   "source": [
    "## Подготовка"
   ]
  },
  {
   "cell_type": "markdown",
   "metadata": {},
   "source": [
    "Выполним импорт всех, необходимых для проведения исследования, библиотек:"
   ]
  },
  {
   "cell_type": "code",
   "execution_count": 1,
   "metadata": {},
   "outputs": [],
   "source": [
    "import pandas as pd\n",
    "import numpy as np\n",
    "from matplotlib import pyplot as plt\n",
    "import seaborn as sns\n",
    "from sklearn.model_selection import train_test_split\n",
    "from sklearn.linear_model import LinearRegression\n",
    "from sklearn.preprocessing import StandardScaler, MinMaxScaler, RobustScaler, PowerTransformer\n",
    "from sklearn.metrics import mean_squared_error, mean_absolute_error, r2_score\n",
    "from sklearn.model_selection import GridSearchCV, RandomizedSearchCV, TimeSeriesSplit\n",
    "from sklearn.neighbors import KNeighborsRegressor\n",
    "from sklearn.ensemble import RandomForestRegressor\n",
    "from sklearn.base import BaseEstimator, TransformerMixin\n",
    "from catboost import CatBoostRegressor\n",
    "from lightgbm import LGBMRegressor\n",
    "from sklearn.compose import ColumnTransformer\n",
    "from sklearn.pipeline import Pipeline\n",
    "from statsmodels.tsa.seasonal import seasonal_decompose\n",
    "import statsmodels.api as sm\n",
    "from statsmodels.graphics.tsaplots import plot_acf\n",
    "import warnings\n",
    "warnings.filterwarnings('ignore')"
   ]
  },
  {
   "cell_type": "markdown",
   "metadata": {},
   "source": [
    "Определим необходимые константы:"
   ]
  },
  {
   "cell_type": "code",
   "execution_count": 2,
   "metadata": {},
   "outputs": [],
   "source": [
    "RANDOM_STATE = 123\n",
    "TEST_SIZE = 0.1"
   ]
  },
  {
   "cell_type": "markdown",
   "metadata": {},
   "source": [
    "Выполним загрузку исследуемого датасета:"
   ]
  },
  {
   "cell_type": "code",
   "execution_count": 3,
   "metadata": {},
   "outputs": [],
   "source": [
    "df = pd.read_csv('/datasets/taxi.csv', index_col=[0], parse_dates=[0])"
   ]
  },
  {
   "cell_type": "markdown",
   "metadata": {},
   "source": [
    "Выведем первые пять строк, чтобы убедиться, что датасет загружен корректно:"
   ]
  },
  {
   "cell_type": "code",
   "execution_count": 4,
   "metadata": {},
   "outputs": [
    {
     "data": {
      "text/html": [
       "<div>\n",
       "<style scoped>\n",
       "    .dataframe tbody tr th:only-of-type {\n",
       "        vertical-align: middle;\n",
       "    }\n",
       "\n",
       "    .dataframe tbody tr th {\n",
       "        vertical-align: top;\n",
       "    }\n",
       "\n",
       "    .dataframe thead th {\n",
       "        text-align: right;\n",
       "    }\n",
       "</style>\n",
       "<table border=\"1\" class=\"dataframe\">\n",
       "  <thead>\n",
       "    <tr style=\"text-align: right;\">\n",
       "      <th></th>\n",
       "      <th>num_orders</th>\n",
       "    </tr>\n",
       "    <tr>\n",
       "      <th>datetime</th>\n",
       "      <th></th>\n",
       "    </tr>\n",
       "  </thead>\n",
       "  <tbody>\n",
       "    <tr>\n",
       "      <th>2018-03-01 00:00:00</th>\n",
       "      <td>9</td>\n",
       "    </tr>\n",
       "    <tr>\n",
       "      <th>2018-03-01 00:10:00</th>\n",
       "      <td>14</td>\n",
       "    </tr>\n",
       "    <tr>\n",
       "      <th>2018-03-01 00:20:00</th>\n",
       "      <td>28</td>\n",
       "    </tr>\n",
       "    <tr>\n",
       "      <th>2018-03-01 00:30:00</th>\n",
       "      <td>20</td>\n",
       "    </tr>\n",
       "    <tr>\n",
       "      <th>2018-03-01 00:40:00</th>\n",
       "      <td>32</td>\n",
       "    </tr>\n",
       "  </tbody>\n",
       "</table>\n",
       "</div>"
      ],
      "text/plain": [
       "                     num_orders\n",
       "datetime                       \n",
       "2018-03-01 00:00:00           9\n",
       "2018-03-01 00:10:00          14\n",
       "2018-03-01 00:20:00          28\n",
       "2018-03-01 00:30:00          20\n",
       "2018-03-01 00:40:00          32"
      ]
     },
     "execution_count": 4,
     "metadata": {},
     "output_type": "execute_result"
    }
   ],
   "source": [
    "df.head()"
   ]
  },
  {
   "cell_type": "markdown",
   "metadata": {},
   "source": [
    "Выведем общую информацию о датасете:"
   ]
  },
  {
   "cell_type": "code",
   "execution_count": 5,
   "metadata": {},
   "outputs": [
    {
     "name": "stdout",
     "output_type": "stream",
     "text": [
      "<class 'pandas.core.frame.DataFrame'>\n",
      "DatetimeIndex: 26496 entries, 2018-03-01 00:00:00 to 2018-08-31 23:50:00\n",
      "Data columns (total 1 columns):\n",
      " #   Column      Non-Null Count  Dtype\n",
      "---  ------      --------------  -----\n",
      " 0   num_orders  26496 non-null  int64\n",
      "dtypes: int64(1)\n",
      "memory usage: 414.0 KB\n"
     ]
    }
   ],
   "source": [
    "df.info()"
   ]
  },
  {
   "cell_type": "markdown",
   "metadata": {},
   "source": [
    "Как видно из таблицы выше, формат данных значений датасета корректен, пропуски отсутствуют."
   ]
  },
  {
   "cell_type": "markdown",
   "metadata": {},
   "source": [
    "Проверим расположены ли наши временные индексы в хронологическом порядке:"
   ]
  },
  {
   "cell_type": "code",
   "execution_count": 6,
   "metadata": {},
   "outputs": [
    {
     "data": {
      "text/plain": [
       "True"
      ]
     },
     "execution_count": 6,
     "metadata": {},
     "output_type": "execute_result"
    }
   ],
   "source": [
    "df.index.is_monotonic"
   ]
  },
  {
   "cell_type": "markdown",
   "metadata": {},
   "source": [
    "**Вывод:** Выполнена загрузка исследуемого датасета. Датасет проверен на корректность вывода, формат данных даты изменен с 'object' на 'datetime', дата назначена в качестве индекса датасета. Индексы проверены на соответствие хронологическому порядку."
   ]
  },
  {
   "cell_type": "markdown",
   "metadata": {},
   "source": [
    "## Анализ"
   ]
  },
  {
   "cell_type": "markdown",
   "metadata": {},
   "source": [
    "Рассмотрим распределение временных дат:"
   ]
  },
  {
   "cell_type": "code",
   "execution_count": 7,
   "metadata": {},
   "outputs": [
    {
     "data": {
      "text/plain": [
       "Timestamp('2018-03-01 00:00:00')"
      ]
     },
     "execution_count": 7,
     "metadata": {},
     "output_type": "execute_result"
    }
   ],
   "source": [
    "df.index.min()"
   ]
  },
  {
   "cell_type": "code",
   "execution_count": 8,
   "metadata": {},
   "outputs": [
    {
     "data": {
      "text/plain": [
       "Timestamp('2018-08-31 23:50:00')"
      ]
     },
     "execution_count": 8,
     "metadata": {},
     "output_type": "execute_result"
    }
   ],
   "source": [
    "df.index.max()"
   ]
  },
  {
   "cell_type": "markdown",
   "metadata": {},
   "source": [
    "В датасете присутствуют данные начиная с 00:00:00 1 марта 2018 года и заканчивая 23:50:00 31 августа 2018 года. Шаг временного ряда - 10 минут."
   ]
  },
  {
   "cell_type": "markdown",
   "metadata": {},
   "source": [
    "Посмотрим на распределение параметра 'num_orders'. Для этого воспользуемся функцией num_stat_and_graph:"
   ]
  },
  {
   "cell_type": "code",
   "execution_count": 9,
   "metadata": {},
   "outputs": [],
   "source": [
    "def num_stat_and_graph(df, col, n, title):\n",
    "    stat = df[col].describe()\n",
    "    fig, axes = plt.subplots(1,2, figsize=(15,5))\n",
    "    sns.histplot(df[col], bins=n, ax=axes[0])\n",
    "    sns.boxplot(data=df, x=col)\n",
    "    fig.suptitle(title);\n",
    "    return stat"
   ]
  },
  {
   "cell_type": "code",
   "execution_count": 10,
   "metadata": {},
   "outputs": [
    {
     "data": {
      "text/plain": [
       "count    26496.000000\n",
       "mean        14.070463\n",
       "std          9.211330\n",
       "min          0.000000\n",
       "25%          8.000000\n",
       "50%         13.000000\n",
       "75%         19.000000\n",
       "max        119.000000\n",
       "Name: num_orders, dtype: float64"
      ]
     },
     "execution_count": 10,
     "metadata": {},
     "output_type": "execute_result"
    },
    {
     "data": {
      "image/png": "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\n",
      "text/plain": [
       "<Figure size 1080x360 with 2 Axes>"
      ]
     },
     "metadata": {
      "needs_background": "light"
     },
     "output_type": "display_data"
    }
   ],
   "source": [
    "num_stat_and_graph(df, 'num_orders', 100, 'Распределение количества заказов, шт.')"
   ]
  },
  {
   "cell_type": "markdown",
   "metadata": {},
   "source": [
    "Как видно из таблицы и гистограммы выше, все значения параметра 'num_orders' укладывются в диапазон от 0 до 119 включительно. Несмотря на то, что \"ящик с усами\" считает все значения больше 35 выбросами, данные значения видятся реальными, т.к. в крупных аэропортах 119 заказов вполне может быть выполнено в течение 10 минут. Значение 0 также не видится аномальным, т.к. легко может бть получено, напрмер во время непогоды, когда аэропорт не принимает рейсы."
   ]
  },
  {
   "cell_type": "markdown",
   "metadata": {},
   "source": [
    "Выполним ресемплирование датасета по 1 часу, в кчестве агрегирующей функции, применим суммирование:"
   ]
  },
  {
   "cell_type": "code",
   "execution_count": 11,
   "metadata": {},
   "outputs": [],
   "source": [
    "df = df.resample('1H').sum()"
   ]
  },
  {
   "cell_type": "markdown",
   "metadata": {},
   "source": [
    "Выведем график зависимости количества заказов, от веремени:"
   ]
  },
  {
   "cell_type": "code",
   "execution_count": 12,
   "metadata": {},
   "outputs": [
    {
     "data": {
      "image/png": "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\n",
      "text/plain": [
       "<Figure size 1080x720 with 1 Axes>"
      ]
     },
     "metadata": {
      "needs_background": "light"
     },
     "output_type": "display_data"
    }
   ],
   "source": [
    "plt.figure(figsize=(15, 10))\n",
    "sns.lineplot(x = df.index, y='num_orders', data=df)\n",
    "plt.xlabel('Дата')\n",
    "plt.ylabel('Количество заказов, шт.')\n",
    "plt.title('Распределение количества заказов, в зависимости от времени, шт.');"
   ]
  },
  {
   "cell_type": "markdown",
   "metadata": {},
   "source": [
    "Как видно на графике выше, количество заказов имеет тенденцию к увеличения в летнее время, что может быть связано с сезоном отпусков."
   ]
  },
  {
   "cell_type": "markdown",
   "metadata": {},
   "source": [
    "Также построим графики тренда и сезонности:"
   ]
  },
  {
   "cell_type": "code",
   "execution_count": 13,
   "metadata": {},
   "outputs": [],
   "source": [
    "decomposed = seasonal_decompose(df) "
   ]
  },
  {
   "cell_type": "code",
   "execution_count": 14,
   "metadata": {},
   "outputs": [
    {
     "data": {
      "image/png": "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\n",
      "text/plain": [
       "<Figure size 1080x720 with 3 Axes>"
      ]
     },
     "metadata": {
      "needs_background": "light"
     },
     "output_type": "display_data"
    }
   ],
   "source": [
    "plt.figure(figsize=(15, 10))\n",
    "plt.subplot(311)\n",
    "decomposed.trend.plot(ax=plt.gca())\n",
    "plt.title('Trend')\n",
    "plt.subplot(312)\n",
    "decomposed.seasonal['2018-08-01':'2018-08-03'].plot(ax=plt.gca())\n",
    "plt.title('Seasonality')\n",
    "plt.subplot(313)\n",
    "decomposed.resid.plot(ax=plt.gca())\n",
    "plt.title('Residuals')\n",
    "plt.tight_layout()"
   ]
  },
  {
   "cell_type": "markdown",
   "metadata": {},
   "source": [
    "Также ресемплируем ряд по дню и посмотрим на данные за август:"
   ]
  },
  {
   "cell_type": "code",
   "execution_count": 15,
   "metadata": {},
   "outputs": [
    {
     "data": {
      "image/png": "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\n",
      "text/plain": [
       "<Figure size 432x288 with 1 Axes>"
      ]
     },
     "metadata": {
      "needs_background": "light"
     },
     "output_type": "display_data"
    }
   ],
   "source": [
    "df_day = df.resample('1D').sum()\n",
    "\n",
    "decomposed = seasonal_decompose(df_day)\n",
    "\n",
    "decomposed.seasonal['2018-08-01':'2018-08-25'].plot();"
   ]
  },
  {
   "cell_type": "markdown",
   "metadata": {},
   "source": [
    "Как видно на графике выше, минимальное количество заказов приходится на вторник и воскресенье, а максимальное количество в понедельник и пятницу, что вцелом коррелирует с активностью работающего человека (в пятницу люди как правило летят на отдых/решить какие-то личные дела или возвращаются из командировки, в понедельник часто вылетают в командировки, в воскресенье люди готовятся к началу рабочему дню и как правило проводят этот день дома, во вторник мало каких-лиюо передвижений, т.к. те, кому нужно было улететь по работе, как правило улетели в понедельник)."
   ]
  },
  {
   "cell_type": "markdown",
   "metadata": {},
   "source": [
    "Как видно на графиках выше, количество заказов имеет тренд к увеличению на отрезке с матра по август 2018 года, увеличение особенно ярко выражено, начиная с июля. На графике сезонности по часам видно, что минимум заказов соответствует раннему утру (около 6:00 утра), а максисму в районе 00:00 ночи."
   ]
  },
  {
   "cell_type": "markdown",
   "metadata": {},
   "source": [
    "**Вывод:** В рамках анализа определен временной диапазон, в котором представлены исследуемые данные. В датасете присутствуют данные начиная с 00:00:00 1 марта 2018 года и заканчивая 23:50:00 31 августа 2018 года. Шаг временного ряда - 10 минут.  \n",
    "Значения параметра 'num_orders' укладывются в диапазон от 0 до 119 включительно. Несмотря на то, что \"ящик с усами\" считает все значения больше 35 выбросами, данные значения видятся реальными, т.к. в крупных аэропортах 119 заказов вполне может быть выполнено в течение 10 минут. Значение 0 также не видится аномальным, т.к. легко может бть получено, напрмер во время непогоды, когда аэропорт не принимает рейсы.\n",
    "Выполнено ресемплирование датасета с интервалом в 1 час\n",
    "В рамках распределения количества заказов от времени по ресемплированному диапазону, выявлено, что количество заказов имеет тенденцию к увеличения в летнее время, что может быть связано с сезоном отпусков. На графике сезонности по часам видно, что минимум заказов соответствует раннему утру (около 6:00 утра), а максисму в районе 00:00 ночи. Если рассмотреть сезонность в разрезе дней недели, то минимальное количество заказов приходится на вторник и воскресенье, а максимальное количество в понедельник и пятницу, что вцелом коррелирует с активностью работающего человека (в пятницу люди как правило летят на отдых/решить какие-то личные дела или возвращаются из командировки, в понедельник часто вылетают в командировки, в воскресенье люди готовятся к началу рабочему дню и как правило проводят этот день дома, во вторник мало каких-лиюо передвижений, т.к. те, кому нужно было улететь по работе, как правило улетели в понедельник)."
   ]
  },
  {
   "cell_type": "markdown",
   "metadata": {},
   "source": [
    "## Обучение"
   ]
  },
  {
   "cell_type": "markdown",
   "metadata": {},
   "source": [
    "В целях дальнейшего обучения моделей, необходимо добавить в исследуемый датасет дополнительные входящие признаки. Создадим календарные признаки, признаки с \"отстающими значениями\" и признак \"скользящее среднее\". Для этого воспользуемся функцией make_features:"
   ]
  },
  {
   "cell_type": "code",
   "execution_count": 16,
   "metadata": {},
   "outputs": [],
   "source": [
    "def make_features(data, max_lag, rolling_mean_size):\n",
    "    data['dayofweek'] = data.index.dayofweek\n",
    "    data['hour'] = data.index.hour\n",
    "     \n",
    "    for lag in range(1, max_lag + 1):\n",
    "        data['lag_{}'.format(lag)] = data['num_orders'].shift(lag)\n",
    "\n",
    "    data['rolling_mean'] = data['num_orders'].shift().rolling(rolling_mean_size).mean()"
   ]
  },
  {
   "cell_type": "markdown",
   "metadata": {},
   "source": [
    "Применим данную функцию к исследуемому датасету:"
   ]
  },
  {
   "cell_type": "code",
   "execution_count": 17,
   "metadata": {},
   "outputs": [],
   "source": [
    "make_features(df, 24, 7)"
   ]
  },
  {
   "cell_type": "code",
   "execution_count": 18,
   "metadata": {},
   "outputs": [
    {
     "data": {
      "text/html": [
       "<div>\n",
       "<style scoped>\n",
       "    .dataframe tbody tr th:only-of-type {\n",
       "        vertical-align: middle;\n",
       "    }\n",
       "\n",
       "    .dataframe tbody tr th {\n",
       "        vertical-align: top;\n",
       "    }\n",
       "\n",
       "    .dataframe thead th {\n",
       "        text-align: right;\n",
       "    }\n",
       "</style>\n",
       "<table border=\"1\" class=\"dataframe\">\n",
       "  <thead>\n",
       "    <tr style=\"text-align: right;\">\n",
       "      <th></th>\n",
       "      <th>num_orders</th>\n",
       "      <th>dayofweek</th>\n",
       "      <th>hour</th>\n",
       "      <th>lag_1</th>\n",
       "      <th>lag_2</th>\n",
       "      <th>lag_3</th>\n",
       "      <th>lag_4</th>\n",
       "      <th>lag_5</th>\n",
       "      <th>lag_6</th>\n",
       "      <th>lag_7</th>\n",
       "      <th>...</th>\n",
       "      <th>lag_16</th>\n",
       "      <th>lag_17</th>\n",
       "      <th>lag_18</th>\n",
       "      <th>lag_19</th>\n",
       "      <th>lag_20</th>\n",
       "      <th>lag_21</th>\n",
       "      <th>lag_22</th>\n",
       "      <th>lag_23</th>\n",
       "      <th>lag_24</th>\n",
       "      <th>rolling_mean</th>\n",
       "    </tr>\n",
       "    <tr>\n",
       "      <th>datetime</th>\n",
       "      <th></th>\n",
       "      <th></th>\n",
       "      <th></th>\n",
       "      <th></th>\n",
       "      <th></th>\n",
       "      <th></th>\n",
       "      <th></th>\n",
       "      <th></th>\n",
       "      <th></th>\n",
       "      <th></th>\n",
       "      <th></th>\n",
       "      <th></th>\n",
       "      <th></th>\n",
       "      <th></th>\n",
       "      <th></th>\n",
       "      <th></th>\n",
       "      <th></th>\n",
       "      <th></th>\n",
       "      <th></th>\n",
       "      <th></th>\n",
       "      <th></th>\n",
       "    </tr>\n",
       "  </thead>\n",
       "  <tbody>\n",
       "    <tr>\n",
       "      <th>2018-03-01 00:00:00</th>\n",
       "      <td>124</td>\n",
       "      <td>3</td>\n",
       "      <td>0</td>\n",
       "      <td>NaN</td>\n",
       "      <td>NaN</td>\n",
       "      <td>NaN</td>\n",
       "      <td>NaN</td>\n",
       "      <td>NaN</td>\n",
       "      <td>NaN</td>\n",
       "      <td>NaN</td>\n",
       "      <td>...</td>\n",
       "      <td>NaN</td>\n",
       "      <td>NaN</td>\n",
       "      <td>NaN</td>\n",
       "      <td>NaN</td>\n",
       "      <td>NaN</td>\n",
       "      <td>NaN</td>\n",
       "      <td>NaN</td>\n",
       "      <td>NaN</td>\n",
       "      <td>NaN</td>\n",
       "      <td>NaN</td>\n",
       "    </tr>\n",
       "    <tr>\n",
       "      <th>2018-03-01 01:00:00</th>\n",
       "      <td>85</td>\n",
       "      <td>3</td>\n",
       "      <td>1</td>\n",
       "      <td>124.0</td>\n",
       "      <td>NaN</td>\n",
       "      <td>NaN</td>\n",
       "      <td>NaN</td>\n",
       "      <td>NaN</td>\n",
       "      <td>NaN</td>\n",
       "      <td>NaN</td>\n",
       "      <td>...</td>\n",
       "      <td>NaN</td>\n",
       "      <td>NaN</td>\n",
       "      <td>NaN</td>\n",
       "      <td>NaN</td>\n",
       "      <td>NaN</td>\n",
       "      <td>NaN</td>\n",
       "      <td>NaN</td>\n",
       "      <td>NaN</td>\n",
       "      <td>NaN</td>\n",
       "      <td>NaN</td>\n",
       "    </tr>\n",
       "    <tr>\n",
       "      <th>2018-03-01 02:00:00</th>\n",
       "      <td>71</td>\n",
       "      <td>3</td>\n",
       "      <td>2</td>\n",
       "      <td>85.0</td>\n",
       "      <td>124.0</td>\n",
       "      <td>NaN</td>\n",
       "      <td>NaN</td>\n",
       "      <td>NaN</td>\n",
       "      <td>NaN</td>\n",
       "      <td>NaN</td>\n",
       "      <td>...</td>\n",
       "      <td>NaN</td>\n",
       "      <td>NaN</td>\n",
       "      <td>NaN</td>\n",
       "      <td>NaN</td>\n",
       "      <td>NaN</td>\n",
       "      <td>NaN</td>\n",
       "      <td>NaN</td>\n",
       "      <td>NaN</td>\n",
       "      <td>NaN</td>\n",
       "      <td>NaN</td>\n",
       "    </tr>\n",
       "    <tr>\n",
       "      <th>2018-03-01 03:00:00</th>\n",
       "      <td>66</td>\n",
       "      <td>3</td>\n",
       "      <td>3</td>\n",
       "      <td>71.0</td>\n",
       "      <td>85.0</td>\n",
       "      <td>124.0</td>\n",
       "      <td>NaN</td>\n",
       "      <td>NaN</td>\n",
       "      <td>NaN</td>\n",
       "      <td>NaN</td>\n",
       "      <td>...</td>\n",
       "      <td>NaN</td>\n",
       "      <td>NaN</td>\n",
       "      <td>NaN</td>\n",
       "      <td>NaN</td>\n",
       "      <td>NaN</td>\n",
       "      <td>NaN</td>\n",
       "      <td>NaN</td>\n",
       "      <td>NaN</td>\n",
       "      <td>NaN</td>\n",
       "      <td>NaN</td>\n",
       "    </tr>\n",
       "    <tr>\n",
       "      <th>2018-03-01 04:00:00</th>\n",
       "      <td>43</td>\n",
       "      <td>3</td>\n",
       "      <td>4</td>\n",
       "      <td>66.0</td>\n",
       "      <td>71.0</td>\n",
       "      <td>85.0</td>\n",
       "      <td>124.0</td>\n",
       "      <td>NaN</td>\n",
       "      <td>NaN</td>\n",
       "      <td>NaN</td>\n",
       "      <td>...</td>\n",
       "      <td>NaN</td>\n",
       "      <td>NaN</td>\n",
       "      <td>NaN</td>\n",
       "      <td>NaN</td>\n",
       "      <td>NaN</td>\n",
       "      <td>NaN</td>\n",
       "      <td>NaN</td>\n",
       "      <td>NaN</td>\n",
       "      <td>NaN</td>\n",
       "      <td>NaN</td>\n",
       "    </tr>\n",
       "    <tr>\n",
       "      <th>2018-03-01 05:00:00</th>\n",
       "      <td>6</td>\n",
       "      <td>3</td>\n",
       "      <td>5</td>\n",
       "      <td>43.0</td>\n",
       "      <td>66.0</td>\n",
       "      <td>71.0</td>\n",
       "      <td>85.0</td>\n",
       "      <td>124.0</td>\n",
       "      <td>NaN</td>\n",
       "      <td>NaN</td>\n",
       "      <td>...</td>\n",
       "      <td>NaN</td>\n",
       "      <td>NaN</td>\n",
       "      <td>NaN</td>\n",
       "      <td>NaN</td>\n",
       "      <td>NaN</td>\n",
       "      <td>NaN</td>\n",
       "      <td>NaN</td>\n",
       "      <td>NaN</td>\n",
       "      <td>NaN</td>\n",
       "      <td>NaN</td>\n",
       "    </tr>\n",
       "    <tr>\n",
       "      <th>2018-03-01 06:00:00</th>\n",
       "      <td>12</td>\n",
       "      <td>3</td>\n",
       "      <td>6</td>\n",
       "      <td>6.0</td>\n",
       "      <td>43.0</td>\n",
       "      <td>66.0</td>\n",
       "      <td>71.0</td>\n",
       "      <td>85.0</td>\n",
       "      <td>124.0</td>\n",
       "      <td>NaN</td>\n",
       "      <td>...</td>\n",
       "      <td>NaN</td>\n",
       "      <td>NaN</td>\n",
       "      <td>NaN</td>\n",
       "      <td>NaN</td>\n",
       "      <td>NaN</td>\n",
       "      <td>NaN</td>\n",
       "      <td>NaN</td>\n",
       "      <td>NaN</td>\n",
       "      <td>NaN</td>\n",
       "      <td>NaN</td>\n",
       "    </tr>\n",
       "    <tr>\n",
       "      <th>2018-03-01 07:00:00</th>\n",
       "      <td>15</td>\n",
       "      <td>3</td>\n",
       "      <td>7</td>\n",
       "      <td>12.0</td>\n",
       "      <td>6.0</td>\n",
       "      <td>43.0</td>\n",
       "      <td>66.0</td>\n",
       "      <td>71.0</td>\n",
       "      <td>85.0</td>\n",
       "      <td>124.0</td>\n",
       "      <td>...</td>\n",
       "      <td>NaN</td>\n",
       "      <td>NaN</td>\n",
       "      <td>NaN</td>\n",
       "      <td>NaN</td>\n",
       "      <td>NaN</td>\n",
       "      <td>NaN</td>\n",
       "      <td>NaN</td>\n",
       "      <td>NaN</td>\n",
       "      <td>NaN</td>\n",
       "      <td>58.142857</td>\n",
       "    </tr>\n",
       "    <tr>\n",
       "      <th>2018-03-01 08:00:00</th>\n",
       "      <td>34</td>\n",
       "      <td>3</td>\n",
       "      <td>8</td>\n",
       "      <td>15.0</td>\n",
       "      <td>12.0</td>\n",
       "      <td>6.0</td>\n",
       "      <td>43.0</td>\n",
       "      <td>66.0</td>\n",
       "      <td>71.0</td>\n",
       "      <td>85.0</td>\n",
       "      <td>...</td>\n",
       "      <td>NaN</td>\n",
       "      <td>NaN</td>\n",
       "      <td>NaN</td>\n",
       "      <td>NaN</td>\n",
       "      <td>NaN</td>\n",
       "      <td>NaN</td>\n",
       "      <td>NaN</td>\n",
       "      <td>NaN</td>\n",
       "      <td>NaN</td>\n",
       "      <td>42.571429</td>\n",
       "    </tr>\n",
       "    <tr>\n",
       "      <th>2018-03-01 09:00:00</th>\n",
       "      <td>69</td>\n",
       "      <td>3</td>\n",
       "      <td>9</td>\n",
       "      <td>34.0</td>\n",
       "      <td>15.0</td>\n",
       "      <td>12.0</td>\n",
       "      <td>6.0</td>\n",
       "      <td>43.0</td>\n",
       "      <td>66.0</td>\n",
       "      <td>71.0</td>\n",
       "      <td>...</td>\n",
       "      <td>NaN</td>\n",
       "      <td>NaN</td>\n",
       "      <td>NaN</td>\n",
       "      <td>NaN</td>\n",
       "      <td>NaN</td>\n",
       "      <td>NaN</td>\n",
       "      <td>NaN</td>\n",
       "      <td>NaN</td>\n",
       "      <td>NaN</td>\n",
       "      <td>35.285714</td>\n",
       "    </tr>\n",
       "  </tbody>\n",
       "</table>\n",
       "<p>10 rows × 28 columns</p>\n",
       "</div>"
      ],
      "text/plain": [
       "                     num_orders  dayofweek  hour  lag_1  lag_2  lag_3  lag_4  \\\n",
       "datetime                                                                       \n",
       "2018-03-01 00:00:00         124          3     0    NaN    NaN    NaN    NaN   \n",
       "2018-03-01 01:00:00          85          3     1  124.0    NaN    NaN    NaN   \n",
       "2018-03-01 02:00:00          71          3     2   85.0  124.0    NaN    NaN   \n",
       "2018-03-01 03:00:00          66          3     3   71.0   85.0  124.0    NaN   \n",
       "2018-03-01 04:00:00          43          3     4   66.0   71.0   85.0  124.0   \n",
       "2018-03-01 05:00:00           6          3     5   43.0   66.0   71.0   85.0   \n",
       "2018-03-01 06:00:00          12          3     6    6.0   43.0   66.0   71.0   \n",
       "2018-03-01 07:00:00          15          3     7   12.0    6.0   43.0   66.0   \n",
       "2018-03-01 08:00:00          34          3     8   15.0   12.0    6.0   43.0   \n",
       "2018-03-01 09:00:00          69          3     9   34.0   15.0   12.0    6.0   \n",
       "\n",
       "                     lag_5  lag_6  lag_7  ...  lag_16  lag_17  lag_18  lag_19  \\\n",
       "datetime                                  ...                                   \n",
       "2018-03-01 00:00:00    NaN    NaN    NaN  ...     NaN     NaN     NaN     NaN   \n",
       "2018-03-01 01:00:00    NaN    NaN    NaN  ...     NaN     NaN     NaN     NaN   \n",
       "2018-03-01 02:00:00    NaN    NaN    NaN  ...     NaN     NaN     NaN     NaN   \n",
       "2018-03-01 03:00:00    NaN    NaN    NaN  ...     NaN     NaN     NaN     NaN   \n",
       "2018-03-01 04:00:00    NaN    NaN    NaN  ...     NaN     NaN     NaN     NaN   \n",
       "2018-03-01 05:00:00  124.0    NaN    NaN  ...     NaN     NaN     NaN     NaN   \n",
       "2018-03-01 06:00:00   85.0  124.0    NaN  ...     NaN     NaN     NaN     NaN   \n",
       "2018-03-01 07:00:00   71.0   85.0  124.0  ...     NaN     NaN     NaN     NaN   \n",
       "2018-03-01 08:00:00   66.0   71.0   85.0  ...     NaN     NaN     NaN     NaN   \n",
       "2018-03-01 09:00:00   43.0   66.0   71.0  ...     NaN     NaN     NaN     NaN   \n",
       "\n",
       "                     lag_20  lag_21  lag_22  lag_23  lag_24  rolling_mean  \n",
       "datetime                                                                   \n",
       "2018-03-01 00:00:00     NaN     NaN     NaN     NaN     NaN           NaN  \n",
       "2018-03-01 01:00:00     NaN     NaN     NaN     NaN     NaN           NaN  \n",
       "2018-03-01 02:00:00     NaN     NaN     NaN     NaN     NaN           NaN  \n",
       "2018-03-01 03:00:00     NaN     NaN     NaN     NaN     NaN           NaN  \n",
       "2018-03-01 04:00:00     NaN     NaN     NaN     NaN     NaN           NaN  \n",
       "2018-03-01 05:00:00     NaN     NaN     NaN     NaN     NaN           NaN  \n",
       "2018-03-01 06:00:00     NaN     NaN     NaN     NaN     NaN           NaN  \n",
       "2018-03-01 07:00:00     NaN     NaN     NaN     NaN     NaN     58.142857  \n",
       "2018-03-01 08:00:00     NaN     NaN     NaN     NaN     NaN     42.571429  \n",
       "2018-03-01 09:00:00     NaN     NaN     NaN     NaN     NaN     35.285714  \n",
       "\n",
       "[10 rows x 28 columns]"
      ]
     },
     "execution_count": 18,
     "metadata": {},
     "output_type": "execute_result"
    }
   ],
   "source": [
    "df.head(10)"
   ]
  },
  {
   "cell_type": "markdown",
   "metadata": {},
   "source": [
    "Проверим полученный датасет на автокорреляцию:"
   ]
  },
  {
   "cell_type": "code",
   "execution_count": 19,
   "metadata": {},
   "outputs": [
    {
     "data": {
      "image/png": "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\n",
      "text/plain": [
       "<Figure size 432x288 with 1 Axes>"
      ]
     },
     "metadata": {
      "needs_background": "light"
     },
     "output_type": "display_data"
    }
   ],
   "source": [
    "plot_acf(df['num_orders'], lags=24)\n",
    "\n",
    "plt.show()"
   ]
  },
  {
   "cell_type": "markdown",
   "metadata": {},
   "source": [
    "Исходя из графика автокорреляции оставим признаки с отсnающими значениями 'lag_1', 'lag_2', lag_3 и 'lag_22', 'lag_23' и 'lag_24' как имеющими максимальную корреляцию с целевым признаком"
   ]
  },
  {
   "cell_type": "code",
   "execution_count": 20,
   "metadata": {},
   "outputs": [],
   "source": [
    "df = df.drop([\n",
    "    'lag_4', 'lag_5', 'lag_6', 'lag_7', 'lag_8', 'lag_9', 'lag_10', 'lag_11', 'lag_12',\n",
    "    'lag_13', 'lag_14', 'lag_15', 'lag_16', 'lag_17', 'lag_18', 'lag_19', 'lag_20', 'lag_21'], axis=1)"
   ]
  },
  {
   "cell_type": "markdown",
   "metadata": {},
   "source": [
    "Удалим из датасета данные содержащие пропуски:"
   ]
  },
  {
   "cell_type": "code",
   "execution_count": 21,
   "metadata": {},
   "outputs": [],
   "source": [
    "df = df.dropna()"
   ]
  },
  {
   "cell_type": "markdown",
   "metadata": {},
   "source": [
    "Проверим корректность удаления:"
   ]
  },
  {
   "cell_type": "code",
   "execution_count": 22,
   "metadata": {},
   "outputs": [
    {
     "data": {
      "text/html": [
       "<div>\n",
       "<style scoped>\n",
       "    .dataframe tbody tr th:only-of-type {\n",
       "        vertical-align: middle;\n",
       "    }\n",
       "\n",
       "    .dataframe tbody tr th {\n",
       "        vertical-align: top;\n",
       "    }\n",
       "\n",
       "    .dataframe thead th {\n",
       "        text-align: right;\n",
       "    }\n",
       "</style>\n",
       "<table border=\"1\" class=\"dataframe\">\n",
       "  <thead>\n",
       "    <tr style=\"text-align: right;\">\n",
       "      <th></th>\n",
       "      <th>num_orders</th>\n",
       "      <th>dayofweek</th>\n",
       "      <th>hour</th>\n",
       "      <th>lag_1</th>\n",
       "      <th>lag_2</th>\n",
       "      <th>lag_3</th>\n",
       "      <th>lag_22</th>\n",
       "      <th>lag_23</th>\n",
       "      <th>lag_24</th>\n",
       "      <th>rolling_mean</th>\n",
       "    </tr>\n",
       "    <tr>\n",
       "      <th>datetime</th>\n",
       "      <th></th>\n",
       "      <th></th>\n",
       "      <th></th>\n",
       "      <th></th>\n",
       "      <th></th>\n",
       "      <th></th>\n",
       "      <th></th>\n",
       "      <th></th>\n",
       "      <th></th>\n",
       "      <th></th>\n",
       "    </tr>\n",
       "  </thead>\n",
       "  <tbody>\n",
       "    <tr>\n",
       "      <th>2018-03-02 00:00:00</th>\n",
       "      <td>90</td>\n",
       "      <td>4</td>\n",
       "      <td>0</td>\n",
       "      <td>58.0</td>\n",
       "      <td>113.0</td>\n",
       "      <td>66.0</td>\n",
       "      <td>71.0</td>\n",
       "      <td>85.0</td>\n",
       "      <td>124.0</td>\n",
       "      <td>65.714286</td>\n",
       "    </tr>\n",
       "    <tr>\n",
       "      <th>2018-03-02 01:00:00</th>\n",
       "      <td>120</td>\n",
       "      <td>4</td>\n",
       "      <td>1</td>\n",
       "      <td>90.0</td>\n",
       "      <td>58.0</td>\n",
       "      <td>113.0</td>\n",
       "      <td>66.0</td>\n",
       "      <td>71.0</td>\n",
       "      <td>85.0</td>\n",
       "      <td>72.285714</td>\n",
       "    </tr>\n",
       "    <tr>\n",
       "      <th>2018-03-02 02:00:00</th>\n",
       "      <td>75</td>\n",
       "      <td>4</td>\n",
       "      <td>2</td>\n",
       "      <td>120.0</td>\n",
       "      <td>90.0</td>\n",
       "      <td>58.0</td>\n",
       "      <td>43.0</td>\n",
       "      <td>66.0</td>\n",
       "      <td>71.0</td>\n",
       "      <td>79.000000</td>\n",
       "    </tr>\n",
       "    <tr>\n",
       "      <th>2018-03-02 03:00:00</th>\n",
       "      <td>64</td>\n",
       "      <td>4</td>\n",
       "      <td>3</td>\n",
       "      <td>75.0</td>\n",
       "      <td>120.0</td>\n",
       "      <td>90.0</td>\n",
       "      <td>6.0</td>\n",
       "      <td>43.0</td>\n",
       "      <td>66.0</td>\n",
       "      <td>83.285714</td>\n",
       "    </tr>\n",
       "    <tr>\n",
       "      <th>2018-03-02 04:00:00</th>\n",
       "      <td>20</td>\n",
       "      <td>4</td>\n",
       "      <td>4</td>\n",
       "      <td>64.0</td>\n",
       "      <td>75.0</td>\n",
       "      <td>120.0</td>\n",
       "      <td>12.0</td>\n",
       "      <td>6.0</td>\n",
       "      <td>43.0</td>\n",
       "      <td>83.714286</td>\n",
       "    </tr>\n",
       "    <tr>\n",
       "      <th>2018-03-02 05:00:00</th>\n",
       "      <td>11</td>\n",
       "      <td>4</td>\n",
       "      <td>5</td>\n",
       "      <td>20.0</td>\n",
       "      <td>64.0</td>\n",
       "      <td>75.0</td>\n",
       "      <td>15.0</td>\n",
       "      <td>12.0</td>\n",
       "      <td>6.0</td>\n",
       "      <td>77.142857</td>\n",
       "    </tr>\n",
       "    <tr>\n",
       "      <th>2018-03-02 06:00:00</th>\n",
       "      <td>11</td>\n",
       "      <td>4</td>\n",
       "      <td>6</td>\n",
       "      <td>11.0</td>\n",
       "      <td>20.0</td>\n",
       "      <td>64.0</td>\n",
       "      <td>34.0</td>\n",
       "      <td>15.0</td>\n",
       "      <td>12.0</td>\n",
       "      <td>62.571429</td>\n",
       "    </tr>\n",
       "    <tr>\n",
       "      <th>2018-03-02 07:00:00</th>\n",
       "      <td>7</td>\n",
       "      <td>4</td>\n",
       "      <td>7</td>\n",
       "      <td>11.0</td>\n",
       "      <td>11.0</td>\n",
       "      <td>20.0</td>\n",
       "      <td>69.0</td>\n",
       "      <td>34.0</td>\n",
       "      <td>15.0</td>\n",
       "      <td>55.857143</td>\n",
       "    </tr>\n",
       "    <tr>\n",
       "      <th>2018-03-02 08:00:00</th>\n",
       "      <td>46</td>\n",
       "      <td>4</td>\n",
       "      <td>8</td>\n",
       "      <td>7.0</td>\n",
       "      <td>11.0</td>\n",
       "      <td>11.0</td>\n",
       "      <td>64.0</td>\n",
       "      <td>69.0</td>\n",
       "      <td>34.0</td>\n",
       "      <td>44.000000</td>\n",
       "    </tr>\n",
       "    <tr>\n",
       "      <th>2018-03-02 09:00:00</th>\n",
       "      <td>45</td>\n",
       "      <td>4</td>\n",
       "      <td>9</td>\n",
       "      <td>46.0</td>\n",
       "      <td>7.0</td>\n",
       "      <td>11.0</td>\n",
       "      <td>96.0</td>\n",
       "      <td>64.0</td>\n",
       "      <td>69.0</td>\n",
       "      <td>33.428571</td>\n",
       "    </tr>\n",
       "  </tbody>\n",
       "</table>\n",
       "</div>"
      ],
      "text/plain": [
       "                     num_orders  dayofweek  hour  lag_1  lag_2  lag_3  lag_22  \\\n",
       "datetime                                                                        \n",
       "2018-03-02 00:00:00          90          4     0   58.0  113.0   66.0    71.0   \n",
       "2018-03-02 01:00:00         120          4     1   90.0   58.0  113.0    66.0   \n",
       "2018-03-02 02:00:00          75          4     2  120.0   90.0   58.0    43.0   \n",
       "2018-03-02 03:00:00          64          4     3   75.0  120.0   90.0     6.0   \n",
       "2018-03-02 04:00:00          20          4     4   64.0   75.0  120.0    12.0   \n",
       "2018-03-02 05:00:00          11          4     5   20.0   64.0   75.0    15.0   \n",
       "2018-03-02 06:00:00          11          4     6   11.0   20.0   64.0    34.0   \n",
       "2018-03-02 07:00:00           7          4     7   11.0   11.0   20.0    69.0   \n",
       "2018-03-02 08:00:00          46          4     8    7.0   11.0   11.0    64.0   \n",
       "2018-03-02 09:00:00          45          4     9   46.0    7.0   11.0    96.0   \n",
       "\n",
       "                     lag_23  lag_24  rolling_mean  \n",
       "datetime                                           \n",
       "2018-03-02 00:00:00    85.0   124.0     65.714286  \n",
       "2018-03-02 01:00:00    71.0    85.0     72.285714  \n",
       "2018-03-02 02:00:00    66.0    71.0     79.000000  \n",
       "2018-03-02 03:00:00    43.0    66.0     83.285714  \n",
       "2018-03-02 04:00:00     6.0    43.0     83.714286  \n",
       "2018-03-02 05:00:00    12.0     6.0     77.142857  \n",
       "2018-03-02 06:00:00    15.0    12.0     62.571429  \n",
       "2018-03-02 07:00:00    34.0    15.0     55.857143  \n",
       "2018-03-02 08:00:00    69.0    34.0     44.000000  \n",
       "2018-03-02 09:00:00    64.0    69.0     33.428571  "
      ]
     },
     "execution_count": 22,
     "metadata": {},
     "output_type": "execute_result"
    }
   ],
   "source": [
    "df.head(10)"
   ]
  },
  {
   "cell_type": "markdown",
   "metadata": {},
   "source": [
    "Выполним циклическое кодирование для временных признаков:"
   ]
  },
  {
   "cell_type": "code",
   "execution_count": 23,
   "metadata": {},
   "outputs": [],
   "source": [
    "df['hour_sin'] = np.sin(2 * np.pi * df['hour']/24.0)\n",
    "df['hour_cos'] = np.cos(2 * np.pi * df['hour']/24.0)\n",
    "df['dayofweek_sin'] = np.sin(2 * np.pi * df['dayofweek']/7.0)\n",
    "df['dayofweek_cos'] = np.cos(2 * np.pi * df['dayofweek']/7.0)"
   ]
  },
  {
   "cell_type": "markdown",
   "metadata": {},
   "source": [
    "Удалим изначальные временные признаки:"
   ]
  },
  {
   "cell_type": "code",
   "execution_count": 24,
   "metadata": {},
   "outputs": [],
   "source": [
    "df = df.drop(['hour', 'dayofweek'], axis=1)"
   ]
  },
  {
   "cell_type": "code",
   "execution_count": 25,
   "metadata": {},
   "outputs": [
    {
     "data": {
      "text/html": [
       "<div>\n",
       "<style scoped>\n",
       "    .dataframe tbody tr th:only-of-type {\n",
       "        vertical-align: middle;\n",
       "    }\n",
       "\n",
       "    .dataframe tbody tr th {\n",
       "        vertical-align: top;\n",
       "    }\n",
       "\n",
       "    .dataframe thead th {\n",
       "        text-align: right;\n",
       "    }\n",
       "</style>\n",
       "<table border=\"1\" class=\"dataframe\">\n",
       "  <thead>\n",
       "    <tr style=\"text-align: right;\">\n",
       "      <th></th>\n",
       "      <th>num_orders</th>\n",
       "      <th>lag_1</th>\n",
       "      <th>lag_2</th>\n",
       "      <th>lag_3</th>\n",
       "      <th>lag_22</th>\n",
       "      <th>lag_23</th>\n",
       "      <th>lag_24</th>\n",
       "      <th>rolling_mean</th>\n",
       "      <th>hour_sin</th>\n",
       "      <th>hour_cos</th>\n",
       "      <th>dayofweek_sin</th>\n",
       "      <th>dayofweek_cos</th>\n",
       "    </tr>\n",
       "    <tr>\n",
       "      <th>datetime</th>\n",
       "      <th></th>\n",
       "      <th></th>\n",
       "      <th></th>\n",
       "      <th></th>\n",
       "      <th></th>\n",
       "      <th></th>\n",
       "      <th></th>\n",
       "      <th></th>\n",
       "      <th></th>\n",
       "      <th></th>\n",
       "      <th></th>\n",
       "      <th></th>\n",
       "    </tr>\n",
       "  </thead>\n",
       "  <tbody>\n",
       "    <tr>\n",
       "      <th>2018-03-02 00:00:00</th>\n",
       "      <td>90</td>\n",
       "      <td>58.0</td>\n",
       "      <td>113.0</td>\n",
       "      <td>66.0</td>\n",
       "      <td>71.0</td>\n",
       "      <td>85.0</td>\n",
       "      <td>124.0</td>\n",
       "      <td>65.714286</td>\n",
       "      <td>0.000000</td>\n",
       "      <td>1.000000</td>\n",
       "      <td>-0.433884</td>\n",
       "      <td>-0.900969</td>\n",
       "    </tr>\n",
       "    <tr>\n",
       "      <th>2018-03-02 01:00:00</th>\n",
       "      <td>120</td>\n",
       "      <td>90.0</td>\n",
       "      <td>58.0</td>\n",
       "      <td>113.0</td>\n",
       "      <td>66.0</td>\n",
       "      <td>71.0</td>\n",
       "      <td>85.0</td>\n",
       "      <td>72.285714</td>\n",
       "      <td>0.258819</td>\n",
       "      <td>0.965926</td>\n",
       "      <td>-0.433884</td>\n",
       "      <td>-0.900969</td>\n",
       "    </tr>\n",
       "    <tr>\n",
       "      <th>2018-03-02 02:00:00</th>\n",
       "      <td>75</td>\n",
       "      <td>120.0</td>\n",
       "      <td>90.0</td>\n",
       "      <td>58.0</td>\n",
       "      <td>43.0</td>\n",
       "      <td>66.0</td>\n",
       "      <td>71.0</td>\n",
       "      <td>79.000000</td>\n",
       "      <td>0.500000</td>\n",
       "      <td>0.866025</td>\n",
       "      <td>-0.433884</td>\n",
       "      <td>-0.900969</td>\n",
       "    </tr>\n",
       "    <tr>\n",
       "      <th>2018-03-02 03:00:00</th>\n",
       "      <td>64</td>\n",
       "      <td>75.0</td>\n",
       "      <td>120.0</td>\n",
       "      <td>90.0</td>\n",
       "      <td>6.0</td>\n",
       "      <td>43.0</td>\n",
       "      <td>66.0</td>\n",
       "      <td>83.285714</td>\n",
       "      <td>0.707107</td>\n",
       "      <td>0.707107</td>\n",
       "      <td>-0.433884</td>\n",
       "      <td>-0.900969</td>\n",
       "    </tr>\n",
       "    <tr>\n",
       "      <th>2018-03-02 04:00:00</th>\n",
       "      <td>20</td>\n",
       "      <td>64.0</td>\n",
       "      <td>75.0</td>\n",
       "      <td>120.0</td>\n",
       "      <td>12.0</td>\n",
       "      <td>6.0</td>\n",
       "      <td>43.0</td>\n",
       "      <td>83.714286</td>\n",
       "      <td>0.866025</td>\n",
       "      <td>0.500000</td>\n",
       "      <td>-0.433884</td>\n",
       "      <td>-0.900969</td>\n",
       "    </tr>\n",
       "  </tbody>\n",
       "</table>\n",
       "</div>"
      ],
      "text/plain": [
       "                     num_orders  lag_1  lag_2  lag_3  lag_22  lag_23  lag_24  \\\n",
       "datetime                                                                       \n",
       "2018-03-02 00:00:00          90   58.0  113.0   66.0    71.0    85.0   124.0   \n",
       "2018-03-02 01:00:00         120   90.0   58.0  113.0    66.0    71.0    85.0   \n",
       "2018-03-02 02:00:00          75  120.0   90.0   58.0    43.0    66.0    71.0   \n",
       "2018-03-02 03:00:00          64   75.0  120.0   90.0     6.0    43.0    66.0   \n",
       "2018-03-02 04:00:00          20   64.0   75.0  120.0    12.0     6.0    43.0   \n",
       "\n",
       "                     rolling_mean  hour_sin  hour_cos  dayofweek_sin  \\\n",
       "datetime                                                               \n",
       "2018-03-02 00:00:00     65.714286  0.000000  1.000000      -0.433884   \n",
       "2018-03-02 01:00:00     72.285714  0.258819  0.965926      -0.433884   \n",
       "2018-03-02 02:00:00     79.000000  0.500000  0.866025      -0.433884   \n",
       "2018-03-02 03:00:00     83.285714  0.707107  0.707107      -0.433884   \n",
       "2018-03-02 04:00:00     83.714286  0.866025  0.500000      -0.433884   \n",
       "\n",
       "                     dayofweek_cos  \n",
       "datetime                            \n",
       "2018-03-02 00:00:00      -0.900969  \n",
       "2018-03-02 01:00:00      -0.900969  \n",
       "2018-03-02 02:00:00      -0.900969  \n",
       "2018-03-02 03:00:00      -0.900969  \n",
       "2018-03-02 04:00:00      -0.900969  "
      ]
     },
     "execution_count": 25,
     "metadata": {},
     "output_type": "execute_result"
    }
   ],
   "source": [
    "df.head()"
   ]
  },
  {
   "cell_type": "markdown",
   "metadata": {},
   "source": [
    "Разделим полученный датасет на тренировочную и тестовую выборки:"
   ]
  },
  {
   "cell_type": "code",
   "execution_count": 26,
   "metadata": {},
   "outputs": [],
   "source": [
    "X = df.drop('num_orders', axis=1)\n",
    "y = df['num_orders']"
   ]
  },
  {
   "cell_type": "code",
   "execution_count": 27,
   "metadata": {},
   "outputs": [],
   "source": [
    "X_train, X_test, y_train, y_test = train_test_split(\n",
    "    X,\n",
    "    y,\n",
    "    shuffle=False,\n",
    "    test_size = TEST_SIZE\n",
    ")"
   ]
  },
  {
   "cell_type": "markdown",
   "metadata": {},
   "source": [
    "Проверим индексы полученных выборок:"
   ]
  },
  {
   "cell_type": "code",
   "execution_count": 28,
   "metadata": {},
   "outputs": [
    {
     "data": {
      "text/plain": [
       "Timestamp('2018-03-02 00:00:00', freq='H')"
      ]
     },
     "execution_count": 28,
     "metadata": {},
     "output_type": "execute_result"
    }
   ],
   "source": [
    "X_train.index.min()"
   ]
  },
  {
   "cell_type": "code",
   "execution_count": 29,
   "metadata": {},
   "outputs": [
    {
     "data": {
      "text/plain": [
       "Timestamp('2018-03-02 00:00:00', freq='H')"
      ]
     },
     "execution_count": 29,
     "metadata": {},
     "output_type": "execute_result"
    }
   ],
   "source": [
    "y_train.index.min()"
   ]
  },
  {
   "cell_type": "code",
   "execution_count": 30,
   "metadata": {},
   "outputs": [
    {
     "data": {
      "text/plain": [
       "Timestamp('2018-08-13 15:00:00', freq='H')"
      ]
     },
     "execution_count": 30,
     "metadata": {},
     "output_type": "execute_result"
    }
   ],
   "source": [
    "X_train.index.max()"
   ]
  },
  {
   "cell_type": "code",
   "execution_count": 31,
   "metadata": {},
   "outputs": [
    {
     "data": {
      "text/plain": [
       "Timestamp('2018-08-13 15:00:00', freq='H')"
      ]
     },
     "execution_count": 31,
     "metadata": {},
     "output_type": "execute_result"
    }
   ],
   "source": [
    "y_train.index.max()"
   ]
  },
  {
   "cell_type": "code",
   "execution_count": 32,
   "metadata": {},
   "outputs": [
    {
     "data": {
      "text/plain": [
       "Timestamp('2018-08-13 16:00:00', freq='H')"
      ]
     },
     "execution_count": 32,
     "metadata": {},
     "output_type": "execute_result"
    }
   ],
   "source": [
    "X_test.index.min()"
   ]
  },
  {
   "cell_type": "code",
   "execution_count": 33,
   "metadata": {},
   "outputs": [
    {
     "data": {
      "text/plain": [
       "Timestamp('2018-08-13 16:00:00', freq='H')"
      ]
     },
     "execution_count": 33,
     "metadata": {},
     "output_type": "execute_result"
    }
   ],
   "source": [
    "y_test.index.min()"
   ]
  },
  {
   "cell_type": "code",
   "execution_count": 34,
   "metadata": {},
   "outputs": [
    {
     "data": {
      "text/plain": [
       "Timestamp('2018-08-31 23:00:00', freq='H')"
      ]
     },
     "execution_count": 34,
     "metadata": {},
     "output_type": "execute_result"
    }
   ],
   "source": [
    "X_test.index.max()"
   ]
  },
  {
   "cell_type": "code",
   "execution_count": 35,
   "metadata": {},
   "outputs": [
    {
     "data": {
      "text/plain": [
       "Timestamp('2018-08-31 23:00:00', freq='H')"
      ]
     },
     "execution_count": 35,
     "metadata": {},
     "output_type": "execute_result"
    }
   ],
   "source": [
    "y_test.index.max()"
   ]
  },
  {
   "cell_type": "markdown",
   "metadata": {},
   "source": [
    "Датасет разделен корректно"
   ]
  },
  {
   "cell_type": "markdown",
   "metadata": {},
   "source": [
    "Выполним предобработку количественных параметров тренировочной и тестовой выборки с помощью метода стандартизации StandardScaler:"
   ]
  },
  {
   "cell_type": "code",
   "execution_count": 36,
   "metadata": {},
   "outputs": [],
   "source": [
    "num_columns = [\n",
    "     'lag_1', 'lag_2', 'lag_3', 'lag_22', 'lag_23', 'lag_24', 'rolling_mean'\n",
    "]\n",
    "data_preprocessor = ColumnTransformer(\n",
    "    [\n",
    "        ('num', StandardScaler(), num_columns)\n",
    "    ], \n",
    "    remainder='passthrough'\n",
    ")"
   ]
  },
  {
   "cell_type": "markdown",
   "metadata": {},
   "source": [
    "С помощью пайплайна, обучим на ранее подготоволенных данных следующие модели:"
   ]
  },
  {
   "cell_type": "code",
   "execution_count": 37,
   "metadata": {},
   "outputs": [
    {
     "data": {
      "text/html": [
       "<div>\n",
       "<style scoped>\n",
       "    .dataframe tbody tr th:only-of-type {\n",
       "        vertical-align: middle;\n",
       "    }\n",
       "\n",
       "    .dataframe tbody tr th {\n",
       "        vertical-align: top;\n",
       "    }\n",
       "\n",
       "    .dataframe thead th {\n",
       "        text-align: right;\n",
       "    }\n",
       "</style>\n",
       "<table border=\"1\" class=\"dataframe\">\n",
       "  <thead>\n",
       "    <tr style=\"text-align: right;\">\n",
       "      <th></th>\n",
       "      <th>lag_1</th>\n",
       "      <th>lag_2</th>\n",
       "      <th>lag_3</th>\n",
       "      <th>lag_22</th>\n",
       "      <th>lag_23</th>\n",
       "      <th>lag_24</th>\n",
       "      <th>rolling_mean</th>\n",
       "      <th>hour_sin</th>\n",
       "      <th>hour_cos</th>\n",
       "      <th>dayofweek_sin</th>\n",
       "      <th>dayofweek_cos</th>\n",
       "    </tr>\n",
       "    <tr>\n",
       "      <th>datetime</th>\n",
       "      <th></th>\n",
       "      <th></th>\n",
       "      <th></th>\n",
       "      <th></th>\n",
       "      <th></th>\n",
       "      <th></th>\n",
       "      <th></th>\n",
       "      <th></th>\n",
       "      <th></th>\n",
       "      <th></th>\n",
       "      <th></th>\n",
       "    </tr>\n",
       "  </thead>\n",
       "  <tbody>\n",
       "    <tr>\n",
       "      <th>2018-03-02 00:00:00</th>\n",
       "      <td>58.0</td>\n",
       "      <td>113.0</td>\n",
       "      <td>66.0</td>\n",
       "      <td>71.0</td>\n",
       "      <td>85.0</td>\n",
       "      <td>124.0</td>\n",
       "      <td>65.714286</td>\n",
       "      <td>0.000000</td>\n",
       "      <td>1.000000</td>\n",
       "      <td>-0.433884</td>\n",
       "      <td>-0.900969</td>\n",
       "    </tr>\n",
       "    <tr>\n",
       "      <th>2018-03-02 01:00:00</th>\n",
       "      <td>90.0</td>\n",
       "      <td>58.0</td>\n",
       "      <td>113.0</td>\n",
       "      <td>66.0</td>\n",
       "      <td>71.0</td>\n",
       "      <td>85.0</td>\n",
       "      <td>72.285714</td>\n",
       "      <td>0.258819</td>\n",
       "      <td>0.965926</td>\n",
       "      <td>-0.433884</td>\n",
       "      <td>-0.900969</td>\n",
       "    </tr>\n",
       "    <tr>\n",
       "      <th>2018-03-02 02:00:00</th>\n",
       "      <td>120.0</td>\n",
       "      <td>90.0</td>\n",
       "      <td>58.0</td>\n",
       "      <td>43.0</td>\n",
       "      <td>66.0</td>\n",
       "      <td>71.0</td>\n",
       "      <td>79.000000</td>\n",
       "      <td>0.500000</td>\n",
       "      <td>0.866025</td>\n",
       "      <td>-0.433884</td>\n",
       "      <td>-0.900969</td>\n",
       "    </tr>\n",
       "    <tr>\n",
       "      <th>2018-03-02 03:00:00</th>\n",
       "      <td>75.0</td>\n",
       "      <td>120.0</td>\n",
       "      <td>90.0</td>\n",
       "      <td>6.0</td>\n",
       "      <td>43.0</td>\n",
       "      <td>66.0</td>\n",
       "      <td>83.285714</td>\n",
       "      <td>0.707107</td>\n",
       "      <td>0.707107</td>\n",
       "      <td>-0.433884</td>\n",
       "      <td>-0.900969</td>\n",
       "    </tr>\n",
       "    <tr>\n",
       "      <th>2018-03-02 04:00:00</th>\n",
       "      <td>64.0</td>\n",
       "      <td>75.0</td>\n",
       "      <td>120.0</td>\n",
       "      <td>12.0</td>\n",
       "      <td>6.0</td>\n",
       "      <td>43.0</td>\n",
       "      <td>83.714286</td>\n",
       "      <td>0.866025</td>\n",
       "      <td>0.500000</td>\n",
       "      <td>-0.433884</td>\n",
       "      <td>-0.900969</td>\n",
       "    </tr>\n",
       "  </tbody>\n",
       "</table>\n",
       "</div>"
      ],
      "text/plain": [
       "                     lag_1  lag_2  lag_3  lag_22  lag_23  lag_24  \\\n",
       "datetime                                                           \n",
       "2018-03-02 00:00:00   58.0  113.0   66.0    71.0    85.0   124.0   \n",
       "2018-03-02 01:00:00   90.0   58.0  113.0    66.0    71.0    85.0   \n",
       "2018-03-02 02:00:00  120.0   90.0   58.0    43.0    66.0    71.0   \n",
       "2018-03-02 03:00:00   75.0  120.0   90.0     6.0    43.0    66.0   \n",
       "2018-03-02 04:00:00   64.0   75.0  120.0    12.0     6.0    43.0   \n",
       "\n",
       "                     rolling_mean  hour_sin  hour_cos  dayofweek_sin  \\\n",
       "datetime                                                               \n",
       "2018-03-02 00:00:00     65.714286  0.000000  1.000000      -0.433884   \n",
       "2018-03-02 01:00:00     72.285714  0.258819  0.965926      -0.433884   \n",
       "2018-03-02 02:00:00     79.000000  0.500000  0.866025      -0.433884   \n",
       "2018-03-02 03:00:00     83.285714  0.707107  0.707107      -0.433884   \n",
       "2018-03-02 04:00:00     83.714286  0.866025  0.500000      -0.433884   \n",
       "\n",
       "                     dayofweek_cos  \n",
       "datetime                            \n",
       "2018-03-02 00:00:00      -0.900969  \n",
       "2018-03-02 01:00:00      -0.900969  \n",
       "2018-03-02 02:00:00      -0.900969  \n",
       "2018-03-02 03:00:00      -0.900969  \n",
       "2018-03-02 04:00:00      -0.900969  "
      ]
     },
     "execution_count": 37,
     "metadata": {},
     "output_type": "execute_result"
    }
   ],
   "source": [
    "X_train.head()"
   ]
  },
  {
   "cell_type": "markdown",
   "metadata": {},
   "source": [
    "**LinearRegression():**"
   ]
  },
  {
   "cell_type": "code",
   "execution_count": 38,
   "metadata": {
    "scrolled": true
   },
   "outputs": [
    {
     "name": "stdout",
     "output_type": "stream",
     "text": [
      "Лучшая модель и её параметры:\n",
      "\n",
      " Pipeline(steps=[('preprocessor',\n",
      "                 ColumnTransformer(remainder='passthrough',\n",
      "                                   transformers=[('num', RobustScaler(),\n",
      "                                                  ['lag_1', 'lag_2', 'lag_3',\n",
      "                                                   'lag_22', 'lag_23', 'lag_24',\n",
      "                                                   'rolling_mean'])])),\n",
      "                ('models', LinearRegression())])\n",
      "Лучшая метрика на кросс-валидационной выборке: 27.88316054447769\n"
     ]
    }
   ],
   "source": [
    "pipe_regression = Pipeline([\n",
    "    ('preprocessor', data_preprocessor),\n",
    "    ('models', LinearRegression()) \n",
    "])\n",
    "\n",
    "param_regression = {\n",
    "    'models': [LinearRegression()],  \n",
    "    'preprocessor__num': [StandardScaler(), MinMaxScaler(), RobustScaler(), 'passthrough']\n",
    "}\n",
    "\n",
    "tscv = TimeSeriesSplit(n_splits=3)\n",
    "grid_regression = GridSearchCV(\n",
    "    pipe_regression,\n",
    "    param_regression,\n",
    "    cv=tscv,\n",
    "    scoring='neg_root_mean_squared_error',  \n",
    "    n_jobs=-1\n",
    ")\n",
    "\n",
    "grid_regression.fit(X_train, y_train)\n",
    "\n",
    "\n",
    "print('Лучшая модель и её параметры:\\n\\n', grid_regression.best_estimator_)\n",
    "print('Лучшая метрика на кросс-валидационной выборке:', grid_regression.best_score_ *-1)"
   ]
  },
  {
   "cell_type": "markdown",
   "metadata": {},
   "source": [
    "**KNeighborsRegressor():**"
   ]
  },
  {
   "cell_type": "code",
   "execution_count": 39,
   "metadata": {},
   "outputs": [
    {
     "name": "stdout",
     "output_type": "stream",
     "text": [
      "Лучшая модель и её параметры:\n",
      "\n",
      " Pipeline(steps=[('preprocessor',\n",
      "                 ColumnTransformer(remainder='passthrough',\n",
      "                                   transformers=[('num', StandardScaler(),\n",
      "                                                  ['lag_1', 'lag_2', 'lag_3',\n",
      "                                                   'lag_22', 'lag_23', 'lag_24',\n",
      "                                                   'rolling_mean'])])),\n",
      "                ('models',\n",
      "                 KNeighborsRegressor(metric='manhattan', n_neighbors=7))])\n",
      "Лучшая метрика на кросс-валидационной выборке: 27.352447030998235\n"
     ]
    }
   ],
   "source": [
    "pipe_knn = Pipeline([\n",
    "    ('preprocessor', data_preprocessor),\n",
    "    ('models', KNeighborsRegressor()) \n",
    "])\n",
    "\n",
    "param_knn = {\n",
    "    'models': [KNeighborsRegressor()], \n",
    "    'models__metric': ['euclidean','manhattan'], \n",
    "    'models__n_neighbors': range(1, 31),  \n",
    "    'preprocessor__num': [StandardScaler(), MinMaxScaler(), RobustScaler(), 'passthrough']\n",
    "}\n",
    "\n",
    "\n",
    "grid_knn = GridSearchCV(\n",
    "    pipe_knn,\n",
    "    param_knn,\n",
    "    cv=tscv,\n",
    "    scoring='neg_root_mean_squared_error',  \n",
    "    n_jobs=-1\n",
    ")\n",
    "\n",
    "grid_knn.fit(X_train, y_train)\n",
    "\n",
    "\n",
    "print('Лучшая модель и её параметры:\\n\\n', grid_knn.best_estimator_)\n",
    "print('Лучшая метрика на кросс-валидационной выборке:', grid_knn.best_score_ *-1)"
   ]
  },
  {
   "cell_type": "markdown",
   "metadata": {},
   "source": [
    "**RandomForestRegressor():**"
   ]
  },
  {
   "cell_type": "code",
   "execution_count": 40,
   "metadata": {},
   "outputs": [
    {
     "name": "stdout",
     "output_type": "stream",
     "text": [
      "Лучшая модель и её параметры:\n",
      "\n",
      " Pipeline(steps=[('preprocessor',\n",
      "                 ColumnTransformer(remainder='passthrough',\n",
      "                                   transformers=[('num', RobustScaler(),\n",
      "                                                  ['lag_1', 'lag_2', 'lag_3',\n",
      "                                                   'lag_22', 'lag_23', 'lag_24',\n",
      "                                                   'rolling_mean'])])),\n",
      "                ('models',\n",
      "                 RandomForestRegressor(max_depth=12, max_features='sqrt',\n",
      "                                       min_samples_leaf=7, n_estimators=200,\n",
      "                                       random_state=123))])\n",
      "Лучшая метрика на кросс-валидационной выборке: 26.27173624763681\n"
     ]
    }
   ],
   "source": [
    "pipe_forest = Pipeline([\n",
    "    ('preprocessor', data_preprocessor),\n",
    "    ('models', RandomForestRegressor(random_state=RANDOM_STATE)) \n",
    "])\n",
    "\n",
    "param_forest = {\n",
    "    'models': [RandomForestRegressor(random_state=RANDOM_STATE)], \n",
    "    'models__n_estimators': range(100, 1100, 100),\n",
    "    'models__max_depth': range(2, 21),\n",
    "    'models__max_features': ['log2', 'sqrt', None],\n",
    "    'models__min_samples_leaf': range(2, 21),\n",
    "    'preprocessor__num': [StandardScaler(), MinMaxScaler(), RobustScaler(), 'passthrough']\n",
    "}\n",
    "\n",
    "\n",
    "grid_forest = RandomizedSearchCV(\n",
    "    pipe_forest,\n",
    "    param_forest,\n",
    "    cv=tscv,\n",
    "    scoring='neg_root_mean_squared_error',  \n",
    "    n_jobs=-1,\n",
    "    random_state=RANDOM_STATE\n",
    ")\n",
    "\n",
    "grid_forest.fit(X_train, y_train)\n",
    "\n",
    "\n",
    "print('Лучшая модель и её параметры:\\n\\n', grid_forest.best_estimator_)\n",
    "print('Лучшая метрика на кросс-валидационной выборке:', grid_forest.best_score_ *-1)"
   ]
  },
  {
   "cell_type": "markdown",
   "metadata": {},
   "source": [
    "**LGBMRegressor():**"
   ]
  },
  {
   "cell_type": "code",
   "execution_count": 41,
   "metadata": {},
   "outputs": [
    {
     "name": "stdout",
     "output_type": "stream",
     "text": [
      "Лучшая модель и её параметры:\n",
      "\n",
      " Pipeline(steps=[('preprocessor',\n",
      "                 ColumnTransformer(remainder='passthrough',\n",
      "                                   transformers=[('num', RobustScaler(),\n",
      "                                                  ['lag_1', 'lag_2', 'lag_3',\n",
      "                                                   'lag_22', 'lag_23', 'lag_24',\n",
      "                                                   'rolling_mean'])])),\n",
      "                ('models',\n",
      "                 LGBMRegressor(learning_rate=0.05, max_depth=9,\n",
      "                               n_estimators=200, num_leaves=14,\n",
      "                               random_state=123))])\n",
      "Лучшая метрика на кросс-валидационной выборке: 25.803313889781567\n"
     ]
    }
   ],
   "source": [
    "pipe_lgbm = Pipeline([\n",
    "    ('preprocessor', data_preprocessor),\n",
    "    ('models', LGBMRegressor(random_state=RANDOM_STATE))\n",
    "])\n",
    "\n",
    "param_lgbm = {\n",
    "    'models': [LGBMRegressor(random_state=RANDOM_STATE)],  \n",
    "    'models__max_depth': range(2, 21),\n",
    "    'models__num_leaves': range(2,21),\n",
    "    'models__learning_rate': np.arange(0.01, 0.1, 0.01),\n",
    "    'models__n_estimators': range(100, 1100, 100),\n",
    "    'preprocessor__num': [StandardScaler(), MinMaxScaler(), RobustScaler(), 'passthrough']\n",
    "}\n",
    "\n",
    "\n",
    "grid_lgbm = RandomizedSearchCV(\n",
    "    pipe_lgbm,\n",
    "    param_lgbm,\n",
    "    cv=tscv,\n",
    "    scoring='neg_root_mean_squared_error',  \n",
    "    n_jobs=-1,\n",
    "    random_state=RANDOM_STATE\n",
    ")\n",
    "\n",
    "\n",
    "grid_lgbm.fit(X_train, y_train)\n",
    "\n",
    "\n",
    "print('Лучшая модель и её параметры:\\n\\n', grid_lgbm.best_estimator_)\n",
    "print('Лучшая метрика на кросс-валидационной выборке:', grid_lgbm.best_score_ *-1)"
   ]
  },
  {
   "cell_type": "markdown",
   "metadata": {},
   "source": [
    "**CatBoostRegressor():**"
   ]
  },
  {
   "cell_type": "code",
   "execution_count": 42,
   "metadata": {
    "scrolled": true
   },
   "outputs": [
    {
     "name": "stdout",
     "output_type": "stream",
     "text": [
      "Лучшая модель и её параметры:\n",
      "\n",
      " Pipeline(steps=[('preprocessor',\n",
      "                 ColumnTransformer(remainder='passthrough',\n",
      "                                   transformers=[('num', MinMaxScaler(),\n",
      "                                                  ['lag_1', 'lag_2', 'lag_3',\n",
      "                                                   'lag_22', 'lag_23', 'lag_24',\n",
      "                                                   'rolling_mean'])])),\n",
      "                ('models',\n",
      "                 <catboost.core.CatBoostRegressor object at 0x7f88a9c33910>)])\n",
      "Лучшая метрика на кросс-валидационной выборке: 25.764346956426028\n"
     ]
    }
   ],
   "source": [
    "pipe_boost = Pipeline([\n",
    "    ('preprocessor', data_preprocessor),\n",
    "    ('models', CatBoostRegressor(random_state=RANDOM_STATE, silent=True))\n",
    "])\n",
    "\n",
    "param_boost = {\n",
    "    'models': [CatBoostRegressor(random_state=RANDOM_STATE, silent=True)],  \n",
    "    'models__depth': range(2,21),\n",
    "    'models__learning_rate': np.arange(0.01, 0.1, 0.01),\n",
    "    'models__iterations': range(100, 1100, 100),\n",
    "    'models__loss_function': [\n",
    "        'RMSE', 'MultiRMSE', 'SurvivalAft', 'MAE', \n",
    "        'Quantile', 'LogLinQuantile', 'Poisson', 'MAPE', 'Lq'],\n",
    "    'preprocessor__num': [StandardScaler(), MinMaxScaler(), RobustScaler(), 'passthrough']\n",
    "}\n",
    "\n",
    "\n",
    "grid_boost = RandomizedSearchCV(\n",
    "    pipe_boost,\n",
    "    param_boost,\n",
    "    cv=tscv,\n",
    "    scoring='neg_root_mean_squared_error',  \n",
    "    n_jobs=-1,\n",
    "    random_state=RANDOM_STATE\n",
    ")\n",
    "\n",
    "\n",
    "grid_boost.fit(X_train, y_train)\n",
    "\n",
    "\n",
    "print('Лучшая модель и её параметры:\\n\\n', grid_boost.best_estimator_)\n",
    "print('Лучшая метрика на кросс-валидационной выборке:', grid_boost.best_score_ *-1)"
   ]
  },
  {
   "cell_type": "markdown",
   "metadata": {},
   "source": [
    "**Вывод:** В рамках подготовки к обучению модели были созданы новые входящие признаки:\n",
    "- календарные признаки, \n",
    "- признаки с \"отстающими значениями\" \n",
    "- признак \"скользящее среднее\". \n",
    "С помощью пайплайна были обучены 5 моделей с перебором гиперпараметров:\n",
    "- LinearRegression()\n",
    "- KNeighborsRegressor()\n",
    "- RandomForestRegressor()\n",
    "- LGBMRegressor()\n",
    "- CatBoostRegressor()  \n",
    "По итогу обучения наилучшая метрика RMSE была получена для модели CatBoostRegressor() и составляет RMSE = 25.7643"
   ]
  },
  {
   "cell_type": "markdown",
   "metadata": {},
   "source": [
    "## Тестирование"
   ]
  },
  {
   "cell_type": "markdown",
   "metadata": {},
   "source": [
    "С помощью ранее обученных моделей получим прогнозы на тестовой выборке:"
   ]
  },
  {
   "cell_type": "markdown",
   "metadata": {},
   "source": [
    "**LinearRegression():**"
   ]
  },
  {
   "cell_type": "code",
   "execution_count": 43,
   "metadata": {},
   "outputs": [],
   "source": [
    "predict_regression_rmse = mean_squared_error(\n",
    "    y_test, grid_regression.best_estimator_.predict(X_test), squared=False)"
   ]
  },
  {
   "cell_type": "code",
   "execution_count": 44,
   "metadata": {},
   "outputs": [],
   "source": [
    "predict_regression_mae = mean_absolute_error(\n",
    "    y_test, grid_regression.best_estimator_.predict(X_test))"
   ]
  },
  {
   "cell_type": "code",
   "execution_count": 45,
   "metadata": {},
   "outputs": [],
   "source": [
    "predict_regression_r2 = r2_score(\n",
    "    y_test, grid_regression.best_estimator_.predict(X_test))"
   ]
  },
  {
   "cell_type": "code",
   "execution_count": 46,
   "metadata": {},
   "outputs": [
    {
     "data": {
      "text/plain": [
       "45.65943666563284"
      ]
     },
     "execution_count": 46,
     "metadata": {},
     "output_type": "execute_result"
    }
   ],
   "source": [
    "predict_regression_rmse"
   ]
  },
  {
   "cell_type": "code",
   "execution_count": 47,
   "metadata": {},
   "outputs": [
    {
     "data": {
      "text/plain": [
       "33.26904173002273"
      ]
     },
     "execution_count": 47,
     "metadata": {},
     "output_type": "execute_result"
    }
   ],
   "source": [
    "predict_regression_mae"
   ]
  },
  {
   "cell_type": "code",
   "execution_count": 48,
   "metadata": {},
   "outputs": [
    {
     "data": {
      "text/plain": [
       "0.39353110688090676"
      ]
     },
     "execution_count": 48,
     "metadata": {},
     "output_type": "execute_result"
    }
   ],
   "source": [
    "predict_regression_r2"
   ]
  },
  {
   "cell_type": "markdown",
   "metadata": {},
   "source": [
    "**KNeighborsRegressor():**"
   ]
  },
  {
   "cell_type": "code",
   "execution_count": 49,
   "metadata": {},
   "outputs": [],
   "source": [
    "predict_knn_rmse = mean_squared_error(\n",
    "    y_test, grid_knn.best_estimator_.predict(X_test), squared=False)"
   ]
  },
  {
   "cell_type": "code",
   "execution_count": 50,
   "metadata": {},
   "outputs": [],
   "source": [
    "predict_knn_mae = mean_absolute_error(\n",
    "    y_test, grid_knn.best_estimator_.predict(X_test))"
   ]
  },
  {
   "cell_type": "code",
   "execution_count": 51,
   "metadata": {},
   "outputs": [],
   "source": [
    "predict_knn_r2 = r2_score(\n",
    "    y_test, grid_knn.best_estimator_.predict(X_test))"
   ]
  },
  {
   "cell_type": "code",
   "execution_count": 52,
   "metadata": {},
   "outputs": [
    {
     "data": {
      "text/plain": [
       "46.579627893467304"
      ]
     },
     "execution_count": 52,
     "metadata": {},
     "output_type": "execute_result"
    }
   ],
   "source": [
    "predict_knn_rmse"
   ]
  },
  {
   "cell_type": "code",
   "execution_count": 53,
   "metadata": {},
   "outputs": [
    {
     "data": {
      "text/plain": [
       "33.47824675324676"
      ]
     },
     "execution_count": 53,
     "metadata": {},
     "output_type": "execute_result"
    }
   ],
   "source": [
    "predict_knn_mae"
   ]
  },
  {
   "cell_type": "code",
   "execution_count": 54,
   "metadata": {},
   "outputs": [
    {
     "data": {
      "text/plain": [
       "0.3688400084476299"
      ]
     },
     "execution_count": 54,
     "metadata": {},
     "output_type": "execute_result"
    }
   ],
   "source": [
    "predict_knn_r2"
   ]
  },
  {
   "cell_type": "markdown",
   "metadata": {},
   "source": [
    "**RandomForestRegressor():**"
   ]
  },
  {
   "cell_type": "code",
   "execution_count": 55,
   "metadata": {},
   "outputs": [],
   "source": [
    "predict_forest_rmse = mean_squared_error(\n",
    "    y_test, grid_forest.best_estimator_.predict(X_test), squared=False)"
   ]
  },
  {
   "cell_type": "code",
   "execution_count": 56,
   "metadata": {},
   "outputs": [],
   "source": [
    "predict_forest_mae = mean_absolute_error(\n",
    "    y_test, grid_forest.best_estimator_.predict(X_test))"
   ]
  },
  {
   "cell_type": "code",
   "execution_count": 57,
   "metadata": {},
   "outputs": [],
   "source": [
    "predict_forest_r2 = r2_score(\n",
    "    y_test, grid_forest.best_estimator_.predict(X_test))"
   ]
  },
  {
   "cell_type": "code",
   "execution_count": 58,
   "metadata": {},
   "outputs": [
    {
     "data": {
      "text/plain": [
       "43.532624012854406"
      ]
     },
     "execution_count": 58,
     "metadata": {},
     "output_type": "execute_result"
    }
   ],
   "source": [
    "predict_forest_rmse"
   ]
  },
  {
   "cell_type": "code",
   "execution_count": 59,
   "metadata": {},
   "outputs": [
    {
     "data": {
      "text/plain": [
       "31.25515860942751"
      ]
     },
     "execution_count": 59,
     "metadata": {},
     "output_type": "execute_result"
    }
   ],
   "source": [
    "predict_forest_mae"
   ]
  },
  {
   "cell_type": "code",
   "execution_count": 60,
   "metadata": {},
   "outputs": [
    {
     "data": {
      "text/plain": [
       "0.44871379663253885"
      ]
     },
     "execution_count": 60,
     "metadata": {},
     "output_type": "execute_result"
    }
   ],
   "source": [
    "predict_forest_r2"
   ]
  },
  {
   "cell_type": "markdown",
   "metadata": {},
   "source": [
    "**LGBMRegressor():**"
   ]
  },
  {
   "cell_type": "code",
   "execution_count": 61,
   "metadata": {},
   "outputs": [],
   "source": [
    "predict_lgbm_rmse = mean_squared_error(\n",
    "    y_test, grid_lgbm.best_estimator_.predict(X_test), squared=False)"
   ]
  },
  {
   "cell_type": "code",
   "execution_count": 62,
   "metadata": {},
   "outputs": [],
   "source": [
    "predict_lgbm_mae = mean_absolute_error(\n",
    "    y_test, grid_lgbm.best_estimator_.predict(X_test))"
   ]
  },
  {
   "cell_type": "code",
   "execution_count": 63,
   "metadata": {},
   "outputs": [],
   "source": [
    "predict_lgbm_r2 = r2_score(\n",
    "    y_test, grid_lgbm.best_estimator_.predict(X_test))"
   ]
  },
  {
   "cell_type": "code",
   "execution_count": 64,
   "metadata": {},
   "outputs": [
    {
     "data": {
      "text/plain": [
       "41.47011646654163"
      ]
     },
     "execution_count": 64,
     "metadata": {},
     "output_type": "execute_result"
    }
   ],
   "source": [
    "predict_lgbm_rmse"
   ]
  },
  {
   "cell_type": "code",
   "execution_count": 65,
   "metadata": {},
   "outputs": [
    {
     "data": {
      "text/plain": [
       "30.78838551153406"
      ]
     },
     "execution_count": 65,
     "metadata": {},
     "output_type": "execute_result"
    }
   ],
   "source": [
    "predict_lgbm_mae"
   ]
  },
  {
   "cell_type": "code",
   "execution_count": 66,
   "metadata": {},
   "outputs": [
    {
     "data": {
      "text/plain": [
       "0.499714469492617"
      ]
     },
     "execution_count": 66,
     "metadata": {},
     "output_type": "execute_result"
    }
   ],
   "source": [
    "predict_lgbm_r2"
   ]
  },
  {
   "cell_type": "markdown",
   "metadata": {},
   "source": [
    "**CatBoostRegressor():**"
   ]
  },
  {
   "cell_type": "code",
   "execution_count": 67,
   "metadata": {},
   "outputs": [],
   "source": [
    "predict_boost_rmse = mean_squared_error(\n",
    "    y_test, grid_boost.best_estimator_.predict(X_test), squared=False)"
   ]
  },
  {
   "cell_type": "code",
   "execution_count": 68,
   "metadata": {},
   "outputs": [],
   "source": [
    "predict_boost_mae = mean_absolute_error(\n",
    "    y_test, grid_boost.best_estimator_.predict(X_test))"
   ]
  },
  {
   "cell_type": "code",
   "execution_count": 69,
   "metadata": {},
   "outputs": [],
   "source": [
    "predict_boost_r2 = r2_score(\n",
    "    y_test, grid_boost.best_estimator_.predict(X_test))"
   ]
  },
  {
   "cell_type": "code",
   "execution_count": 70,
   "metadata": {},
   "outputs": [
    {
     "data": {
      "text/plain": [
       "40.582436968117655"
      ]
     },
     "execution_count": 70,
     "metadata": {},
     "output_type": "execute_result"
    }
   ],
   "source": [
    "predict_boost_rmse"
   ]
  },
  {
   "cell_type": "code",
   "execution_count": 71,
   "metadata": {},
   "outputs": [
    {
     "data": {
      "text/plain": [
       "29.471592228241967"
      ]
     },
     "execution_count": 71,
     "metadata": {},
     "output_type": "execute_result"
    }
   ],
   "source": [
    "predict_boost_mae"
   ]
  },
  {
   "cell_type": "code",
   "execution_count": 72,
   "metadata": {},
   "outputs": [
    {
     "data": {
      "text/plain": [
       "0.5209027504162673"
      ]
     },
     "execution_count": 72,
     "metadata": {},
     "output_type": "execute_result"
    }
   ],
   "source": [
    "predict_boost_r2"
   ]
  },
  {
   "cell_type": "markdown",
   "metadata": {},
   "source": [
    "Сведем метрики RMSE полученные на тестовой выборке в итоговую таблицу:"
   ]
  },
  {
   "cell_type": "code",
   "execution_count": 73,
   "metadata": {},
   "outputs": [],
   "source": [
    "data = [\n",
    "    [predict_regression_rmse, predict_knn_rmse, predict_forest_rmse, predict_lgbm_rmse, predict_boost_rmse],\n",
    "    [predict_regression_mae, predict_knn_mae, predict_forest_mae, predict_lgbm_mae, predict_boost_mae],\n",
    "    [predict_regression_r2, predict_knn_r2, predict_forest_r2, predict_lgbm_r2, predict_boost_r2],\n",
    "]\n",
    "\n",
    "\n",
    "result = pd.DataFrame(\n",
    "    data, columns=['Linear Regression', 'KNN', 'LGBM', 'Random Forest', 'CatBoosting'], \n",
    "    index=['RMSE', 'MAE', 'R2']\n",
    ")"
   ]
  },
  {
   "cell_type": "code",
   "execution_count": 74,
   "metadata": {},
   "outputs": [
    {
     "data": {
      "text/html": [
       "<div>\n",
       "<style scoped>\n",
       "    .dataframe tbody tr th:only-of-type {\n",
       "        vertical-align: middle;\n",
       "    }\n",
       "\n",
       "    .dataframe tbody tr th {\n",
       "        vertical-align: top;\n",
       "    }\n",
       "\n",
       "    .dataframe thead th {\n",
       "        text-align: right;\n",
       "    }\n",
       "</style>\n",
       "<table border=\"1\" class=\"dataframe\">\n",
       "  <thead>\n",
       "    <tr style=\"text-align: right;\">\n",
       "      <th></th>\n",
       "      <th>Linear Regression</th>\n",
       "      <th>KNN</th>\n",
       "      <th>LGBM</th>\n",
       "      <th>Random Forest</th>\n",
       "      <th>CatBoosting</th>\n",
       "    </tr>\n",
       "  </thead>\n",
       "  <tbody>\n",
       "    <tr>\n",
       "      <th>RMSE</th>\n",
       "      <td>45.659437</td>\n",
       "      <td>46.579628</td>\n",
       "      <td>43.532624</td>\n",
       "      <td>41.470116</td>\n",
       "      <td>40.582437</td>\n",
       "    </tr>\n",
       "    <tr>\n",
       "      <th>MAE</th>\n",
       "      <td>33.269042</td>\n",
       "      <td>33.478247</td>\n",
       "      <td>31.255159</td>\n",
       "      <td>30.788386</td>\n",
       "      <td>29.471592</td>\n",
       "    </tr>\n",
       "    <tr>\n",
       "      <th>R2</th>\n",
       "      <td>0.393531</td>\n",
       "      <td>0.368840</td>\n",
       "      <td>0.448714</td>\n",
       "      <td>0.499714</td>\n",
       "      <td>0.520903</td>\n",
       "    </tr>\n",
       "  </tbody>\n",
       "</table>\n",
       "</div>"
      ],
      "text/plain": [
       "      Linear Regression        KNN       LGBM  Random Forest  CatBoosting\n",
       "RMSE          45.659437  46.579628  43.532624      41.470116    40.582437\n",
       "MAE           33.269042  33.478247  31.255159      30.788386    29.471592\n",
       "R2             0.393531   0.368840   0.448714       0.499714     0.520903"
      ]
     },
     "execution_count": 74,
     "metadata": {},
     "output_type": "execute_result"
    }
   ],
   "source": [
    "result"
   ]
  },
  {
   "cell_type": "markdown",
   "metadata": {},
   "source": [
    "**Вывод:**  По итогу получения прогнозов на тестовой выборке с помощью ранее обученных моделей, определено что лучшая метрика RMSE = 40.5824   получена с помощью модели CatBoostRegressor() и соответствует требованию Заказчика, получить метрику RMSE на тестовой выборке RMSE < 48."
   ]
  },
  {
   "cell_type": "markdown",
   "metadata": {},
   "source": [
    "## Общие выводы"
   ]
  },
  {
   "cell_type": "markdown",
   "metadata": {},
   "source": [
    "В рамках задачи о  прогнозировании количества заказов такси в аэропортах на следующий час, для привлечения большего водителей в период пиковой нагрузки,были выполнены следующие исследования:\n",
    "1. Выполнена загрузка исследуемого датасета. Датасет проверен на корректность вывода, формат данных даты изменен с 'object' на 'datetime', дата назначена в качестве индекса датасета. Индексы проверены на соответствие хронологическому порядку.\n",
    "2. Определен временной диапазон, в котором представлены исследуемые данные. В датасете присутствуют данные начиная с 00:00:00 1 марта 2018 года и заканчивая 23:50:00 31 августа 2018 года. Шаг временного ряда - 10 минут.  Значения параметра 'num_orders' укладывются в диапазон от 0 до 119 включительно. Несмотря на то, что \"ящик с усами\" считает все значения больше 35 выбросами, данные значения видятся реальными, т.к. в крупных аэропортах 119 заказов вполне может быть выполнено в течение 10 минут. Значение 0 также не видится аномальным, т.к. легко может бть получено, напрмер во время непогоды, когда аэропорт не принимает рейсы. Выполнено ресемплирование датасета с интервалом в 1 час. В рамках распределения количества заказов от времени по ресемплированному диапазону, выявлено, что количество заказов имеет тенденцию к увеличения в летнее время, что может быть связано с сезоном отпусков.\n",
    "3. В рамках подготовки к обучению модели были созданы новые входящие признаки:\n",
    "- календарные признаки, \n",
    "- признаки с \"отстающими значениями\" \n",
    "- признак \"скользящее среднее\". \n",
    "С помощью пайплайна были обучены 5 моделей с перебором гиперпараметров:\n",
    "- LinearRegression()\n",
    "- KNeighborsRegressor()\n",
    "- RandomForestRegressor()\n",
    "- LGBMRegressor()\n",
    "- CatBoostRegressor()  \n"
    "По итогу обучения наилучшая метрика RMSE была получена для модели CatBoostRegressor() и составляет RMSE = 25.7643\n",
    "4. По итогу получения прогнозов на тестовой выборке с помощью ранее обученных моделей, определено что лучшая метрика RMSE = 40.5824   получена с помощью модели CatBoostRegressor() и соответствует требованию Заказчика, получить метрику RMSE на тестовой выборке RMSE < 48."
   ]
  },
  {
   "cell_type": "markdown",
   "metadata": {},
   "source": [
    "## Чек-лист проверки"
   ]
  },
  {
   "cell_type": "markdown",
   "metadata": {},
   "source": [
    "- [x]  Jupyter Notebook открыт\n",
    "- [x]  Весь код выполняется без ошибок\n",
    "- [x]  Ячейки с кодом расположены в порядке исполнения\n",
    "- [x]  Данные загружены и подготовлены\n",
    "- [x]  Данные проанализированы\n",
    "- [x]  Модель обучена, гиперпараметры подобраны\n",
    "- [x]  Качество моделей проверено, выводы сделаны\n",
    "- [x]  Значение *RMSE* на тестовой выборке не больше 48"
   ]
  }
 ],
 "metadata": {
  "ExecuteTimeLog": [
   {
    "duration": 8,
    "start_time": "2024-12-02T12:35:18.206Z"
   },
   {
    "duration": 101,
    "start_time": "2024-12-02T12:35:20.869Z"
   },
   {
    "duration": 1667,
    "start_time": "2024-12-02T12:35:25.477Z"
   },
   {
    "duration": 98,
    "start_time": "2024-12-02T12:37:04.601Z"
   },
   {
    "duration": 15,
    "start_time": "2024-12-02T12:38:23.655Z"
   },
   {
    "duration": 48,
    "start_time": "2024-12-02T12:39:10.862Z"
   },
   {
    "duration": 8,
    "start_time": "2024-12-02T12:39:12.499Z"
   },
   {
    "duration": 51,
    "start_time": "2024-12-02T12:39:36.269Z"
   },
   {
    "duration": 8,
    "start_time": "2024-12-02T12:39:37.485Z"
   },
   {
    "duration": 11,
    "start_time": "2024-12-02T12:40:10.766Z"
   },
   {
    "duration": 86,
    "start_time": "2024-12-02T12:43:26.274Z"
   },
   {
    "duration": 3,
    "start_time": "2024-12-02T12:43:58.403Z"
   },
   {
    "duration": 106,
    "start_time": "2024-12-02T12:44:49.092Z"
   },
   {
    "duration": 9,
    "start_time": "2024-12-02T12:46:04.460Z"
   },
   {
    "duration": 10,
    "start_time": "2024-12-02T12:46:19.307Z"
   },
   {
    "duration": 1456,
    "start_time": "2024-12-02T12:46:42.145Z"
   },
   {
    "duration": 3,
    "start_time": "2024-12-02T12:46:43.603Z"
   },
   {
    "duration": 151,
    "start_time": "2024-12-02T12:46:43.608Z"
   },
   {
    "duration": 51,
    "start_time": "2024-12-02T12:46:43.761Z"
   },
   {
    "duration": 40,
    "start_time": "2024-12-02T12:46:43.814Z"
   },
   {
    "duration": 21,
    "start_time": "2024-12-02T12:46:43.856Z"
   },
   {
    "duration": 94,
    "start_time": "2024-12-02T12:46:43.879Z"
   },
   {
    "duration": 0,
    "start_time": "2024-12-02T12:46:43.975Z"
   },
   {
    "duration": 124,
    "start_time": "2024-12-02T12:46:55.561Z"
   },
   {
    "duration": 1511,
    "start_time": "2024-12-02T12:47:21.573Z"
   },
   {
    "duration": 2,
    "start_time": "2024-12-02T12:47:23.086Z"
   },
   {
    "duration": 91,
    "start_time": "2024-12-02T12:47:23.090Z"
   },
   {
    "duration": 14,
    "start_time": "2024-12-02T12:47:23.184Z"
   },
   {
    "duration": 22,
    "start_time": "2024-12-02T12:47:23.199Z"
   },
   {
    "duration": 3,
    "start_time": "2024-12-02T12:47:23.223Z"
   },
   {
    "duration": 13,
    "start_time": "2024-12-02T12:47:23.228Z"
   },
   {
    "duration": 1596,
    "start_time": "2024-12-02T12:47:44.617Z"
   },
   {
    "duration": 2,
    "start_time": "2024-12-02T12:47:46.215Z"
   },
   {
    "duration": 84,
    "start_time": "2024-12-02T12:47:46.219Z"
   },
   {
    "duration": 11,
    "start_time": "2024-12-02T12:47:46.306Z"
   },
   {
    "duration": 12,
    "start_time": "2024-12-02T12:47:46.319Z"
   },
   {
    "duration": 3,
    "start_time": "2024-12-02T12:47:46.333Z"
   },
   {
    "duration": 129,
    "start_time": "2024-12-02T12:47:46.338Z"
   },
   {
    "duration": 12,
    "start_time": "2024-12-02T12:48:37.961Z"
   },
   {
    "duration": 1404,
    "start_time": "2024-12-02T12:49:11.964Z"
   },
   {
    "duration": 3,
    "start_time": "2024-12-02T12:49:13.370Z"
   },
   {
    "duration": 65,
    "start_time": "2024-12-02T12:49:13.375Z"
   },
   {
    "duration": 13,
    "start_time": "2024-12-02T12:49:13.443Z"
   },
   {
    "duration": 24,
    "start_time": "2024-12-02T12:49:13.457Z"
   },
   {
    "duration": 3,
    "start_time": "2024-12-02T12:49:13.483Z"
   },
   {
    "duration": 124,
    "start_time": "2024-12-02T12:49:13.488Z"
   },
   {
    "duration": 0,
    "start_time": "2024-12-02T12:49:13.613Z"
   },
   {
    "duration": 1485,
    "start_time": "2024-12-02T12:49:36.131Z"
   },
   {
    "duration": 3,
    "start_time": "2024-12-02T12:49:37.618Z"
   },
   {
    "duration": 50,
    "start_time": "2024-12-02T12:49:37.623Z"
   },
   {
    "duration": 11,
    "start_time": "2024-12-02T12:49:37.676Z"
   },
   {
    "duration": 31,
    "start_time": "2024-12-02T12:49:37.689Z"
   },
   {
    "duration": 5,
    "start_time": "2024-12-02T12:49:37.722Z"
   },
   {
    "duration": 136,
    "start_time": "2024-12-02T12:49:37.728Z"
   },
   {
    "duration": 0,
    "start_time": "2024-12-02T12:49:37.865Z"
   },
   {
    "duration": 9,
    "start_time": "2024-12-02T12:49:57.319Z"
   },
   {
    "duration": 1825,
    "start_time": "2024-12-02T12:54:21.417Z"
   },
   {
    "duration": 3,
    "start_time": "2024-12-02T12:54:23.244Z"
   },
   {
    "duration": 59,
    "start_time": "2024-12-02T12:54:23.249Z"
   },
   {
    "duration": 11,
    "start_time": "2024-12-02T12:54:23.310Z"
   },
   {
    "duration": 30,
    "start_time": "2024-12-02T12:54:23.324Z"
   },
   {
    "duration": 19,
    "start_time": "2024-12-02T12:54:23.356Z"
   },
   {
    "duration": 5,
    "start_time": "2024-12-02T12:54:23.376Z"
   },
   {
    "duration": 150,
    "start_time": "2024-12-02T12:54:23.382Z"
   },
   {
    "duration": 0,
    "start_time": "2024-12-02T12:54:23.534Z"
   },
   {
    "duration": 1531,
    "start_time": "2024-12-02T12:54:45.179Z"
   },
   {
    "duration": 1526,
    "start_time": "2024-12-02T12:54:46.712Z"
   },
   {
    "duration": 3371,
    "start_time": "2024-12-02T12:54:48.240Z"
   },
   {
    "duration": 21,
    "start_time": "2024-12-02T12:54:51.614Z"
   },
   {
    "duration": 91,
    "start_time": "2024-12-02T12:54:51.637Z"
   },
   {
    "duration": 42,
    "start_time": "2024-12-02T12:54:51.730Z"
   },
   {
    "duration": 119,
    "start_time": "2024-12-02T12:54:51.773Z"
   },
   {
    "duration": 173,
    "start_time": "2024-12-02T12:54:51.894Z"
   },
   {
    "duration": 0,
    "start_time": "2024-12-02T12:54:52.069Z"
   },
   {
    "duration": 1583,
    "start_time": "2024-12-02T12:55:34.531Z"
   },
   {
    "duration": 3,
    "start_time": "2024-12-02T12:55:36.116Z"
   },
   {
    "duration": 124,
    "start_time": "2024-12-02T12:55:36.121Z"
   },
   {
    "duration": 13,
    "start_time": "2024-12-02T12:55:36.248Z"
   },
   {
    "duration": 37,
    "start_time": "2024-12-02T12:55:36.263Z"
   },
   {
    "duration": 15,
    "start_time": "2024-12-02T12:55:36.302Z"
   },
   {
    "duration": 164,
    "start_time": "2024-12-02T12:55:36.319Z"
   },
   {
    "duration": 0,
    "start_time": "2024-12-02T12:55:36.485Z"
   },
   {
    "duration": 1439,
    "start_time": "2024-12-02T12:56:17.955Z"
   },
   {
    "duration": 2,
    "start_time": "2024-12-02T12:56:19.396Z"
   },
   {
    "duration": 56,
    "start_time": "2024-12-02T12:56:19.400Z"
   },
   {
    "duration": 13,
    "start_time": "2024-12-02T12:56:19.458Z"
   },
   {
    "duration": 10,
    "start_time": "2024-12-02T12:56:19.473Z"
   },
   {
    "duration": 3,
    "start_time": "2024-12-02T12:56:19.484Z"
   },
   {
    "duration": 125,
    "start_time": "2024-12-02T12:56:19.489Z"
   },
   {
    "duration": 0,
    "start_time": "2024-12-02T12:56:19.616Z"
   },
   {
    "duration": 0,
    "start_time": "2024-12-02T12:56:19.620Z"
   },
   {
    "duration": 1543,
    "start_time": "2024-12-02T12:56:53.487Z"
   },
   {
    "duration": 3,
    "start_time": "2024-12-02T12:56:55.032Z"
   },
   {
    "duration": 91,
    "start_time": "2024-12-02T12:56:55.037Z"
   },
   {
    "duration": 15,
    "start_time": "2024-12-02T12:56:55.130Z"
   },
   {
    "duration": 41,
    "start_time": "2024-12-02T12:56:55.147Z"
   },
   {
    "duration": 10,
    "start_time": "2024-12-02T12:56:55.189Z"
   },
   {
    "duration": 32,
    "start_time": "2024-12-02T12:56:55.201Z"
   },
   {
    "duration": 12,
    "start_time": "2024-12-02T12:56:55.235Z"
   },
   {
    "duration": 4,
    "start_time": "2024-12-02T12:57:46.520Z"
   },
   {
    "duration": 7,
    "start_time": "2024-12-02T12:58:22.463Z"
   },
   {
    "duration": 116,
    "start_time": "2024-12-02T13:02:56.799Z"
   },
   {
    "duration": 5,
    "start_time": "2024-12-02T13:03:02.021Z"
   },
   {
    "duration": 5,
    "start_time": "2024-12-02T13:03:10.624Z"
   },
   {
    "duration": 867,
    "start_time": "2024-12-02T13:05:03.061Z"
   },
   {
    "duration": 767,
    "start_time": "2024-12-02T13:06:03.172Z"
   },
   {
    "duration": 1534,
    "start_time": "2024-12-02T13:06:27.695Z"
   },
   {
    "duration": 3,
    "start_time": "2024-12-02T13:06:29.231Z"
   },
   {
    "duration": 67,
    "start_time": "2024-12-02T13:06:29.236Z"
   },
   {
    "duration": 13,
    "start_time": "2024-12-02T13:06:29.305Z"
   },
   {
    "duration": 11,
    "start_time": "2024-12-02T13:06:29.319Z"
   },
   {
    "duration": 17,
    "start_time": "2024-12-02T13:06:29.332Z"
   },
   {
    "duration": 8,
    "start_time": "2024-12-02T13:06:29.351Z"
   },
   {
    "duration": 8,
    "start_time": "2024-12-02T13:06:29.361Z"
   },
   {
    "duration": 752,
    "start_time": "2024-12-02T13:06:29.371Z"
   },
   {
    "duration": 4,
    "start_time": "2024-12-02T13:10:42.221Z"
   },
   {
    "duration": 306,
    "start_time": "2024-12-02T13:11:36.930Z"
   },
   {
    "duration": 75,
    "start_time": "2024-12-02T13:11:52.263Z"
   },
   {
    "duration": 1490,
    "start_time": "2024-12-02T13:12:07.960Z"
   },
   {
    "duration": 3,
    "start_time": "2024-12-02T13:12:09.452Z"
   },
   {
    "duration": 76,
    "start_time": "2024-12-02T13:12:09.456Z"
   },
   {
    "duration": 11,
    "start_time": "2024-12-02T13:12:09.534Z"
   },
   {
    "duration": 20,
    "start_time": "2024-12-02T13:12:09.547Z"
   },
   {
    "duration": 12,
    "start_time": "2024-12-02T13:12:09.568Z"
   },
   {
    "duration": 4,
    "start_time": "2024-12-02T13:12:09.582Z"
   },
   {
    "duration": 13,
    "start_time": "2024-12-02T13:12:09.588Z"
   },
   {
    "duration": 19,
    "start_time": "2024-12-02T13:12:09.603Z"
   },
   {
    "duration": 448,
    "start_time": "2024-12-02T13:12:09.625Z"
   },
   {
    "duration": 10,
    "start_time": "2024-12-02T13:22:18.988Z"
   },
   {
    "duration": 254,
    "start_time": "2024-12-02T13:22:31.655Z"
   },
   {
    "duration": 310,
    "start_time": "2024-12-02T13:23:42.825Z"
   },
   {
    "duration": 237,
    "start_time": "2024-12-02T13:23:48.354Z"
   },
   {
    "duration": 243,
    "start_time": "2024-12-02T13:23:54.191Z"
   },
   {
    "duration": 243,
    "start_time": "2024-12-02T13:24:05.564Z"
   },
   {
    "duration": 260,
    "start_time": "2024-12-02T13:24:10.984Z"
   },
   {
    "duration": 133,
    "start_time": "2024-12-02T13:24:46.534Z"
   },
   {
    "duration": 330,
    "start_time": "2024-12-02T13:25:52.363Z"
   },
   {
    "duration": 165,
    "start_time": "2024-12-02T13:26:00.965Z"
   },
   {
    "duration": 624,
    "start_time": "2024-12-02T13:26:21.035Z"
   },
   {
    "duration": 623,
    "start_time": "2024-12-02T13:26:33.220Z"
   },
   {
    "duration": 612,
    "start_time": "2024-12-02T13:29:08.668Z"
   },
   {
    "duration": 581,
    "start_time": "2024-12-02T13:29:14.502Z"
   },
   {
    "duration": 614,
    "start_time": "2024-12-02T13:30:51.579Z"
   },
   {
    "duration": 569,
    "start_time": "2024-12-02T13:31:28.855Z"
   },
   {
    "duration": 562,
    "start_time": "2024-12-02T13:31:47.285Z"
   },
   {
    "duration": 577,
    "start_time": "2024-12-02T13:32:11.452Z"
   },
   {
    "duration": 655,
    "start_time": "2024-12-02T13:32:18.722Z"
   },
   {
    "duration": 595,
    "start_time": "2024-12-02T13:32:22.716Z"
   },
   {
    "duration": 4,
    "start_time": "2024-12-02T13:44:14.603Z"
   },
   {
    "duration": 1762,
    "start_time": "2024-12-02T13:45:17.681Z"
   },
   {
    "duration": 4,
    "start_time": "2024-12-02T13:45:39.287Z"
   },
   {
    "duration": 17,
    "start_time": "2024-12-02T13:45:41.131Z"
   },
   {
    "duration": 15,
    "start_time": "2024-12-02T13:45:50.347Z"
   },
   {
    "duration": 20,
    "start_time": "2024-12-02T13:45:54.955Z"
   },
   {
    "duration": 6,
    "start_time": "2024-12-02T13:47:10.533Z"
   },
   {
    "duration": 10,
    "start_time": "2024-12-02T13:47:11.757Z"
   },
   {
    "duration": 17,
    "start_time": "2024-12-02T13:47:13.906Z"
   },
   {
    "duration": 118,
    "start_time": "2024-12-02T13:49:31.916Z"
   },
   {
    "duration": 6,
    "start_time": "2024-12-02T13:50:41.984Z"
   },
   {
    "duration": 7,
    "start_time": "2024-12-02T13:51:47.827Z"
   },
   {
    "duration": 6,
    "start_time": "2024-12-02T13:52:31.347Z"
   },
   {
    "duration": 4,
    "start_time": "2024-12-02T13:52:38.516Z"
   },
   {
    "duration": 4,
    "start_time": "2024-12-02T13:52:50.189Z"
   },
   {
    "duration": 4,
    "start_time": "2024-12-02T13:52:59.508Z"
   },
   {
    "duration": 4,
    "start_time": "2024-12-02T13:53:07.393Z"
   },
   {
    "duration": 1655,
    "start_time": "2024-12-02T13:53:48.884Z"
   },
   {
    "duration": 2,
    "start_time": "2024-12-02T13:53:50.541Z"
   },
   {
    "duration": 65,
    "start_time": "2024-12-02T13:53:50.548Z"
   },
   {
    "duration": 11,
    "start_time": "2024-12-02T13:53:50.615Z"
   },
   {
    "duration": 26,
    "start_time": "2024-12-02T13:53:50.627Z"
   },
   {
    "duration": 33,
    "start_time": "2024-12-02T13:53:50.655Z"
   },
   {
    "duration": 4,
    "start_time": "2024-12-02T13:53:50.690Z"
   },
   {
    "duration": 5,
    "start_time": "2024-12-02T13:53:50.696Z"
   },
   {
    "duration": 48,
    "start_time": "2024-12-02T13:53:50.704Z"
   },
   {
    "duration": 453,
    "start_time": "2024-12-02T13:53:50.754Z"
   },
   {
    "duration": 16,
    "start_time": "2024-12-02T13:53:51.208Z"
   },
   {
    "duration": 825,
    "start_time": "2024-12-02T13:53:51.226Z"
   },
   {
    "duration": 5,
    "start_time": "2024-12-02T13:53:52.053Z"
   },
   {
    "duration": 42,
    "start_time": "2024-12-02T13:53:52.060Z"
   },
   {
    "duration": 32,
    "start_time": "2024-12-02T13:53:52.104Z"
   },
   {
    "duration": 29,
    "start_time": "2024-12-02T13:53:52.138Z"
   },
   {
    "duration": 9,
    "start_time": "2024-12-02T13:53:52.169Z"
   },
   {
    "duration": 6,
    "start_time": "2024-12-02T13:53:52.179Z"
   },
   {
    "duration": 4,
    "start_time": "2024-12-02T13:53:52.187Z"
   },
   {
    "duration": 16,
    "start_time": "2024-12-02T13:53:52.192Z"
   },
   {
    "duration": 14,
    "start_time": "2024-12-02T13:53:52.211Z"
   },
   {
    "duration": 28,
    "start_time": "2024-12-02T13:53:52.228Z"
   },
   {
    "duration": 8,
    "start_time": "2024-12-02T13:53:52.258Z"
   },
   {
    "duration": 14,
    "start_time": "2024-12-02T13:53:52.268Z"
   },
   {
    "duration": 22,
    "start_time": "2024-12-02T13:53:52.285Z"
   },
   {
    "duration": 1513,
    "start_time": "2024-12-02T13:58:48.810Z"
   },
   {
    "duration": 3,
    "start_time": "2024-12-02T13:58:50.325Z"
   },
   {
    "duration": 67,
    "start_time": "2024-12-02T13:58:50.329Z"
   },
   {
    "duration": 11,
    "start_time": "2024-12-02T13:58:50.398Z"
   },
   {
    "duration": 10,
    "start_time": "2024-12-02T13:58:50.410Z"
   },
   {
    "duration": 3,
    "start_time": "2024-12-02T13:58:50.422Z"
   },
   {
    "duration": 9,
    "start_time": "2024-12-02T13:58:50.427Z"
   },
   {
    "duration": 5,
    "start_time": "2024-12-02T13:58:50.437Z"
   },
   {
    "duration": 4,
    "start_time": "2024-12-02T13:58:50.443Z"
   },
   {
    "duration": 419,
    "start_time": "2024-12-02T13:58:50.450Z"
   },
   {
    "duration": 11,
    "start_time": "2024-12-02T13:58:50.872Z"
   },
   {
    "duration": 835,
    "start_time": "2024-12-02T13:58:50.885Z"
   },
   {
    "duration": 6,
    "start_time": "2024-12-02T13:58:51.722Z"
   },
   {
    "duration": 25,
    "start_time": "2024-12-02T13:58:51.730Z"
   },
   {
    "duration": 44,
    "start_time": "2024-12-02T13:58:51.757Z"
   },
   {
    "duration": 38,
    "start_time": "2024-12-02T13:58:51.803Z"
   },
   {
    "duration": 27,
    "start_time": "2024-12-02T13:58:51.843Z"
   },
   {
    "duration": 68,
    "start_time": "2024-12-02T13:58:51.871Z"
   },
   {
    "duration": 40,
    "start_time": "2024-12-02T13:58:51.941Z"
   },
   {
    "duration": 88,
    "start_time": "2024-12-02T13:58:51.983Z"
   },
   {
    "duration": 41,
    "start_time": "2024-12-02T13:58:52.072Z"
   },
   {
    "duration": 19,
    "start_time": "2024-12-02T13:58:52.115Z"
   },
   {
    "duration": 19,
    "start_time": "2024-12-02T13:58:52.136Z"
   },
   {
    "duration": 28,
    "start_time": "2024-12-02T13:58:52.157Z"
   },
   {
    "duration": 29,
    "start_time": "2024-12-02T13:58:52.188Z"
   },
   {
    "duration": 52,
    "start_time": "2024-12-02T13:58:52.219Z"
   },
   {
    "duration": 18,
    "start_time": "2024-12-02T13:58:52.273Z"
   },
   {
    "duration": 79,
    "start_time": "2024-12-02T13:58:52.294Z"
   },
   {
    "duration": 112,
    "start_time": "2024-12-02T14:01:32.844Z"
   },
   {
    "duration": 1513,
    "start_time": "2024-12-02T14:02:14.741Z"
   },
   {
    "duration": 3,
    "start_time": "2024-12-02T14:02:16.256Z"
   },
   {
    "duration": 62,
    "start_time": "2024-12-02T14:02:16.260Z"
   },
   {
    "duration": 11,
    "start_time": "2024-12-02T14:02:16.324Z"
   },
   {
    "duration": 18,
    "start_time": "2024-12-02T14:02:16.337Z"
   },
   {
    "duration": 16,
    "start_time": "2024-12-02T14:02:16.357Z"
   },
   {
    "duration": 19,
    "start_time": "2024-12-02T14:02:16.375Z"
   },
   {
    "duration": 29,
    "start_time": "2024-12-02T14:02:16.396Z"
   },
   {
    "duration": 4,
    "start_time": "2024-12-02T14:02:16.427Z"
   },
   {
    "duration": 407,
    "start_time": "2024-12-02T14:02:16.433Z"
   },
   {
    "duration": 10,
    "start_time": "2024-12-02T14:02:16.841Z"
   },
   {
    "duration": 739,
    "start_time": "2024-12-02T14:02:16.853Z"
   },
   {
    "duration": 5,
    "start_time": "2024-12-02T14:02:17.593Z"
   },
   {
    "duration": 15,
    "start_time": "2024-12-02T14:02:17.599Z"
   },
   {
    "duration": 18,
    "start_time": "2024-12-02T14:02:17.615Z"
   },
   {
    "duration": 6,
    "start_time": "2024-12-02T14:02:17.635Z"
   },
   {
    "duration": 26,
    "start_time": "2024-12-02T14:02:17.643Z"
   },
   {
    "duration": 5,
    "start_time": "2024-12-02T14:02:17.672Z"
   },
   {
    "duration": 10,
    "start_time": "2024-12-02T14:02:17.679Z"
   },
   {
    "duration": 6,
    "start_time": "2024-12-02T14:02:17.691Z"
   },
   {
    "duration": 6,
    "start_time": "2024-12-02T14:02:17.722Z"
   },
   {
    "duration": 17,
    "start_time": "2024-12-02T14:02:17.730Z"
   },
   {
    "duration": 17,
    "start_time": "2024-12-02T14:02:17.749Z"
   },
   {
    "duration": 6,
    "start_time": "2024-12-02T14:02:17.768Z"
   },
   {
    "duration": 18,
    "start_time": "2024-12-02T14:02:17.775Z"
   },
   {
    "duration": 6,
    "start_time": "2024-12-02T14:02:17.794Z"
   },
   {
    "duration": 11,
    "start_time": "2024-12-02T14:02:17.802Z"
   },
   {
    "duration": 24,
    "start_time": "2024-12-02T14:02:17.822Z"
   },
   {
    "duration": 99,
    "start_time": "2024-12-02T14:02:34.605Z"
   },
   {
    "duration": 1541,
    "start_time": "2024-12-02T14:03:20.282Z"
   },
   {
    "duration": 3,
    "start_time": "2024-12-02T14:03:21.825Z"
   },
   {
    "duration": 63,
    "start_time": "2024-12-02T14:03:21.829Z"
   },
   {
    "duration": 11,
    "start_time": "2024-12-02T14:03:21.895Z"
   },
   {
    "duration": 14,
    "start_time": "2024-12-02T14:03:21.908Z"
   },
   {
    "duration": 4,
    "start_time": "2024-12-02T14:03:21.923Z"
   },
   {
    "duration": 38,
    "start_time": "2024-12-02T14:03:21.929Z"
   },
   {
    "duration": 6,
    "start_time": "2024-12-02T14:03:21.969Z"
   },
   {
    "duration": 4,
    "start_time": "2024-12-02T14:03:21.977Z"
   },
   {
    "duration": 399,
    "start_time": "2024-12-02T14:03:21.983Z"
   },
   {
    "duration": 9,
    "start_time": "2024-12-02T14:03:22.383Z"
   },
   {
    "duration": 758,
    "start_time": "2024-12-02T14:03:22.394Z"
   },
   {
    "duration": 5,
    "start_time": "2024-12-02T14:03:23.153Z"
   },
   {
    "duration": 27,
    "start_time": "2024-12-02T14:03:23.159Z"
   },
   {
    "duration": 16,
    "start_time": "2024-12-02T14:03:23.187Z"
   },
   {
    "duration": 8,
    "start_time": "2024-12-02T14:03:23.205Z"
   },
   {
    "duration": 22,
    "start_time": "2024-12-02T14:03:23.214Z"
   },
   {
    "duration": 6,
    "start_time": "2024-12-02T14:03:23.238Z"
   },
   {
    "duration": 6,
    "start_time": "2024-12-02T14:03:23.246Z"
   },
   {
    "duration": 6,
    "start_time": "2024-12-02T14:03:23.254Z"
   },
   {
    "duration": 6,
    "start_time": "2024-12-02T14:03:23.262Z"
   },
   {
    "duration": 5,
    "start_time": "2024-12-02T14:03:23.272Z"
   },
   {
    "duration": 42,
    "start_time": "2024-12-02T14:03:23.279Z"
   },
   {
    "duration": 11,
    "start_time": "2024-12-02T14:03:23.323Z"
   },
   {
    "duration": 22,
    "start_time": "2024-12-02T14:03:23.336Z"
   },
   {
    "duration": 7,
    "start_time": "2024-12-02T14:03:23.360Z"
   },
   {
    "duration": 10,
    "start_time": "2024-12-02T14:03:23.369Z"
   },
   {
    "duration": 13,
    "start_time": "2024-12-02T14:03:23.383Z"
   },
   {
    "duration": 9,
    "start_time": "2024-12-02T14:03:55.385Z"
   },
   {
    "duration": 209,
    "start_time": "2024-12-02T14:04:18.630Z"
   },
   {
    "duration": 101,
    "start_time": "2024-12-02T14:04:26.106Z"
   },
   {
    "duration": 5,
    "start_time": "2024-12-02T14:04:31.943Z"
   },
   {
    "duration": 7,
    "start_time": "2024-12-02T14:05:09.319Z"
   },
   {
    "duration": 1663,
    "start_time": "2024-12-02T14:05:18.980Z"
   },
   {
    "duration": 2,
    "start_time": "2024-12-02T14:05:20.645Z"
   },
   {
    "duration": 63,
    "start_time": "2024-12-02T14:05:20.649Z"
   },
   {
    "duration": 13,
    "start_time": "2024-12-02T14:05:20.714Z"
   },
   {
    "duration": 12,
    "start_time": "2024-12-02T14:05:20.729Z"
   },
   {
    "duration": 4,
    "start_time": "2024-12-02T14:05:20.744Z"
   },
   {
    "duration": 5,
    "start_time": "2024-12-02T14:05:20.750Z"
   },
   {
    "duration": 11,
    "start_time": "2024-12-02T14:05:20.757Z"
   },
   {
    "duration": 13,
    "start_time": "2024-12-02T14:05:20.770Z"
   },
   {
    "duration": 431,
    "start_time": "2024-12-02T14:05:20.786Z"
   },
   {
    "duration": 9,
    "start_time": "2024-12-02T14:05:21.220Z"
   },
   {
    "duration": 817,
    "start_time": "2024-12-02T14:05:21.231Z"
   },
   {
    "duration": 5,
    "start_time": "2024-12-02T14:05:22.049Z"
   },
   {
    "duration": 106,
    "start_time": "2024-12-02T14:05:22.056Z"
   },
   {
    "duration": 33,
    "start_time": "2024-12-02T14:05:22.163Z"
   },
   {
    "duration": 9,
    "start_time": "2024-12-02T14:05:22.198Z"
   },
   {
    "duration": 19,
    "start_time": "2024-12-02T14:05:22.209Z"
   },
   {
    "duration": 7,
    "start_time": "2024-12-02T14:05:22.229Z"
   },
   {
    "duration": 9,
    "start_time": "2024-12-02T14:05:22.238Z"
   },
   {
    "duration": 4,
    "start_time": "2024-12-02T14:05:22.249Z"
   },
   {
    "duration": 4,
    "start_time": "2024-12-02T14:05:22.254Z"
   },
   {
    "duration": 5,
    "start_time": "2024-12-02T14:05:22.259Z"
   },
   {
    "duration": 7,
    "start_time": "2024-12-02T14:05:22.265Z"
   },
   {
    "duration": 5,
    "start_time": "2024-12-02T14:05:22.274Z"
   },
   {
    "duration": 7,
    "start_time": "2024-12-02T14:05:22.281Z"
   },
   {
    "duration": 4,
    "start_time": "2024-12-02T14:05:22.320Z"
   },
   {
    "duration": 6,
    "start_time": "2024-12-02T14:05:22.325Z"
   },
   {
    "duration": 21,
    "start_time": "2024-12-02T14:05:22.334Z"
   },
   {
    "duration": 9,
    "start_time": "2024-12-02T14:05:22.357Z"
   },
   {
    "duration": 55,
    "start_time": "2024-12-02T14:05:22.367Z"
   },
   {
    "duration": 12,
    "start_time": "2024-12-02T14:05:22.424Z"
   },
   {
    "duration": 7,
    "start_time": "2024-12-02T14:07:40.776Z"
   },
   {
    "duration": 4,
    "start_time": "2024-12-02T14:13:00.274Z"
   },
   {
    "duration": 1653,
    "start_time": "2024-12-02T14:13:42.462Z"
   },
   {
    "duration": 6,
    "start_time": "2024-12-02T14:13:44.117Z"
   },
   {
    "duration": 174,
    "start_time": "2024-12-02T14:13:44.136Z"
   },
   {
    "duration": 21,
    "start_time": "2024-12-02T14:13:44.312Z"
   },
   {
    "duration": 59,
    "start_time": "2024-12-02T14:13:44.335Z"
   },
   {
    "duration": 71,
    "start_time": "2024-12-02T14:13:44.395Z"
   },
   {
    "duration": 81,
    "start_time": "2024-12-02T14:13:44.469Z"
   },
   {
    "duration": 87,
    "start_time": "2024-12-02T14:13:44.552Z"
   },
   {
    "duration": 29,
    "start_time": "2024-12-02T14:13:44.640Z"
   },
   {
    "duration": 504,
    "start_time": "2024-12-02T14:13:44.673Z"
   },
   {
    "duration": 9,
    "start_time": "2024-12-02T14:13:45.179Z"
   },
   {
    "duration": 902,
    "start_time": "2024-12-02T14:13:45.190Z"
   },
   {
    "duration": 5,
    "start_time": "2024-12-02T14:13:46.093Z"
   },
   {
    "duration": 190,
    "start_time": "2024-12-02T14:13:46.099Z"
   },
   {
    "duration": 18,
    "start_time": "2024-12-02T14:13:46.290Z"
   },
   {
    "duration": 29,
    "start_time": "2024-12-02T14:13:46.309Z"
   },
   {
    "duration": 24,
    "start_time": "2024-12-02T14:13:46.340Z"
   },
   {
    "duration": 26,
    "start_time": "2024-12-02T14:13:46.366Z"
   },
   {
    "duration": 21,
    "start_time": "2024-12-02T14:13:46.394Z"
   },
   {
    "duration": 17,
    "start_time": "2024-12-02T14:13:46.416Z"
   },
   {
    "duration": 9,
    "start_time": "2024-12-02T14:13:46.434Z"
   },
   {
    "duration": 6,
    "start_time": "2024-12-02T14:13:46.444Z"
   },
   {
    "duration": 39,
    "start_time": "2024-12-02T14:13:46.452Z"
   },
   {
    "duration": 21,
    "start_time": "2024-12-02T14:13:46.493Z"
   },
   {
    "duration": 31,
    "start_time": "2024-12-02T14:13:46.516Z"
   },
   {
    "duration": 21,
    "start_time": "2024-12-02T14:13:46.549Z"
   },
   {
    "duration": 39,
    "start_time": "2024-12-02T14:13:46.572Z"
   },
   {
    "duration": 139,
    "start_time": "2024-12-02T14:13:46.615Z"
   },
   {
    "duration": 0,
    "start_time": "2024-12-02T14:13:46.755Z"
   },
   {
    "duration": 0,
    "start_time": "2024-12-02T14:13:46.757Z"
   },
   {
    "duration": 0,
    "start_time": "2024-12-02T14:13:46.758Z"
   },
   {
    "duration": 0,
    "start_time": "2024-12-02T14:13:46.759Z"
   },
   {
    "duration": 0,
    "start_time": "2024-12-02T14:13:46.760Z"
   },
   {
    "duration": 6,
    "start_time": "2024-12-02T14:18:54.063Z"
   },
   {
    "duration": 1674,
    "start_time": "2024-12-02T14:18:59.201Z"
   },
   {
    "duration": 3,
    "start_time": "2024-12-02T14:19:00.877Z"
   },
   {
    "duration": 120,
    "start_time": "2024-12-02T14:19:00.881Z"
   },
   {
    "duration": 46,
    "start_time": "2024-12-02T14:19:01.003Z"
   },
   {
    "duration": 17,
    "start_time": "2024-12-02T14:19:01.050Z"
   },
   {
    "duration": 37,
    "start_time": "2024-12-02T14:19:01.069Z"
   },
   {
    "duration": 27,
    "start_time": "2024-12-02T14:19:01.108Z"
   },
   {
    "duration": 25,
    "start_time": "2024-12-02T14:19:01.136Z"
   },
   {
    "duration": 22,
    "start_time": "2024-12-02T14:19:01.162Z"
   },
   {
    "duration": 435,
    "start_time": "2024-12-02T14:19:01.186Z"
   },
   {
    "duration": 16,
    "start_time": "2024-12-02T14:19:01.623Z"
   },
   {
    "duration": 910,
    "start_time": "2024-12-02T14:19:01.642Z"
   },
   {
    "duration": 5,
    "start_time": "2024-12-02T14:19:02.553Z"
   },
   {
    "duration": 79,
    "start_time": "2024-12-02T14:19:02.560Z"
   },
   {
    "duration": 18,
    "start_time": "2024-12-02T14:19:02.641Z"
   },
   {
    "duration": 207,
    "start_time": "2024-12-02T14:19:02.661Z"
   },
   {
    "duration": 206,
    "start_time": "2024-12-02T14:19:02.869Z"
   },
   {
    "duration": 23,
    "start_time": "2024-12-02T14:19:03.077Z"
   },
   {
    "duration": 51,
    "start_time": "2024-12-02T14:19:03.101Z"
   },
   {
    "duration": 19,
    "start_time": "2024-12-02T14:19:03.154Z"
   },
   {
    "duration": 23,
    "start_time": "2024-12-02T14:19:03.175Z"
   },
   {
    "duration": 44,
    "start_time": "2024-12-02T14:19:03.199Z"
   },
   {
    "duration": 8,
    "start_time": "2024-12-02T14:19:03.245Z"
   },
   {
    "duration": 9,
    "start_time": "2024-12-02T14:19:03.254Z"
   },
   {
    "duration": 20,
    "start_time": "2024-12-02T14:19:03.264Z"
   },
   {
    "duration": 44,
    "start_time": "2024-12-02T14:19:03.286Z"
   },
   {
    "duration": 33,
    "start_time": "2024-12-02T14:19:03.332Z"
   },
   {
    "duration": 122,
    "start_time": "2024-12-02T14:19:03.369Z"
   },
   {
    "duration": 0,
    "start_time": "2024-12-02T14:19:03.493Z"
   },
   {
    "duration": 0,
    "start_time": "2024-12-02T14:19:03.494Z"
   },
   {
    "duration": 0,
    "start_time": "2024-12-02T14:19:03.495Z"
   },
   {
    "duration": 0,
    "start_time": "2024-12-02T14:19:03.497Z"
   },
   {
    "duration": 0,
    "start_time": "2024-12-02T14:19:03.498Z"
   },
   {
    "duration": 1598,
    "start_time": "2024-12-02T14:22:18.265Z"
   },
   {
    "duration": 3,
    "start_time": "2024-12-02T14:22:19.866Z"
   },
   {
    "duration": 57,
    "start_time": "2024-12-02T14:22:19.871Z"
   },
   {
    "duration": 15,
    "start_time": "2024-12-02T14:22:19.932Z"
   },
   {
    "duration": 19,
    "start_time": "2024-12-02T14:22:19.949Z"
   },
   {
    "duration": 8,
    "start_time": "2024-12-02T14:22:19.970Z"
   },
   {
    "duration": 7,
    "start_time": "2024-12-02T14:22:19.980Z"
   },
   {
    "duration": 28,
    "start_time": "2024-12-02T14:22:19.989Z"
   },
   {
    "duration": 34,
    "start_time": "2024-12-02T14:22:20.018Z"
   },
   {
    "duration": 456,
    "start_time": "2024-12-02T14:22:20.055Z"
   },
   {
    "duration": 19,
    "start_time": "2024-12-02T14:22:20.513Z"
   },
   {
    "duration": 812,
    "start_time": "2024-12-02T14:22:20.535Z"
   },
   {
    "duration": 5,
    "start_time": "2024-12-02T14:22:21.349Z"
   },
   {
    "duration": 42,
    "start_time": "2024-12-02T14:22:21.355Z"
   },
   {
    "duration": 21,
    "start_time": "2024-12-02T14:22:21.399Z"
   },
   {
    "duration": 18,
    "start_time": "2024-12-02T14:22:21.426Z"
   },
   {
    "duration": 37,
    "start_time": "2024-12-02T14:22:21.446Z"
   },
   {
    "duration": 26,
    "start_time": "2024-12-02T14:22:21.485Z"
   },
   {
    "duration": 28,
    "start_time": "2024-12-02T14:22:21.512Z"
   },
   {
    "duration": 22,
    "start_time": "2024-12-02T14:22:21.542Z"
   },
   {
    "duration": 18,
    "start_time": "2024-12-02T14:22:21.566Z"
   },
   {
    "duration": 13,
    "start_time": "2024-12-02T14:22:21.586Z"
   },
   {
    "duration": 15,
    "start_time": "2024-12-02T14:22:21.601Z"
   },
   {
    "duration": 37,
    "start_time": "2024-12-02T14:22:21.618Z"
   },
   {
    "duration": 31,
    "start_time": "2024-12-02T14:22:21.656Z"
   },
   {
    "duration": 25,
    "start_time": "2024-12-02T14:22:21.689Z"
   },
   {
    "duration": 21,
    "start_time": "2024-12-02T14:22:21.716Z"
   },
   {
    "duration": 18,
    "start_time": "2024-12-02T14:22:21.740Z"
   },
   {
    "duration": 84,
    "start_time": "2024-12-02T14:22:21.760Z"
   },
   {
    "duration": 0,
    "start_time": "2024-12-02T14:22:21.846Z"
   },
   {
    "duration": 0,
    "start_time": "2024-12-02T14:22:21.847Z"
   },
   {
    "duration": 0,
    "start_time": "2024-12-02T14:22:21.848Z"
   },
   {
    "duration": 0,
    "start_time": "2024-12-02T14:22:21.849Z"
   },
   {
    "duration": 124,
    "start_time": "2024-12-02T14:23:10.888Z"
   },
   {
    "duration": 1631,
    "start_time": "2024-12-02T14:23:35.780Z"
   },
   {
    "duration": 2,
    "start_time": "2024-12-02T14:23:37.414Z"
   },
   {
    "duration": 71,
    "start_time": "2024-12-02T14:23:37.418Z"
   },
   {
    "duration": 11,
    "start_time": "2024-12-02T14:23:37.491Z"
   },
   {
    "duration": 14,
    "start_time": "2024-12-02T14:23:37.504Z"
   },
   {
    "duration": 11,
    "start_time": "2024-12-02T14:23:37.521Z"
   },
   {
    "duration": 7,
    "start_time": "2024-12-02T14:23:37.534Z"
   },
   {
    "duration": 12,
    "start_time": "2024-12-02T14:23:37.543Z"
   },
   {
    "duration": 31,
    "start_time": "2024-12-02T14:23:37.556Z"
   },
   {
    "duration": 461,
    "start_time": "2024-12-02T14:23:37.591Z"
   },
   {
    "duration": 9,
    "start_time": "2024-12-02T14:23:38.053Z"
   },
   {
    "duration": 832,
    "start_time": "2024-12-02T14:23:38.064Z"
   },
   {
    "duration": 5,
    "start_time": "2024-12-02T14:23:38.897Z"
   },
   {
    "duration": 53,
    "start_time": "2024-12-02T14:23:38.903Z"
   },
   {
    "duration": 17,
    "start_time": "2024-12-02T14:23:38.958Z"
   },
   {
    "duration": 62,
    "start_time": "2024-12-02T14:23:38.976Z"
   },
   {
    "duration": 35,
    "start_time": "2024-12-02T14:23:39.040Z"
   },
   {
    "duration": 30,
    "start_time": "2024-12-02T14:23:39.077Z"
   },
   {
    "duration": 25,
    "start_time": "2024-12-02T14:23:39.109Z"
   },
   {
    "duration": 29,
    "start_time": "2024-12-02T14:23:39.136Z"
   },
   {
    "duration": 21,
    "start_time": "2024-12-02T14:23:39.166Z"
   },
   {
    "duration": 17,
    "start_time": "2024-12-02T14:23:39.189Z"
   },
   {
    "duration": 42,
    "start_time": "2024-12-02T14:23:39.208Z"
   },
   {
    "duration": 9,
    "start_time": "2024-12-02T14:23:39.252Z"
   },
   {
    "duration": 22,
    "start_time": "2024-12-02T14:23:39.263Z"
   },
   {
    "duration": 13,
    "start_time": "2024-12-02T14:23:39.287Z"
   },
   {
    "duration": 27,
    "start_time": "2024-12-02T14:23:39.302Z"
   },
   {
    "duration": 14,
    "start_time": "2024-12-02T14:23:39.335Z"
   },
   {
    "duration": 137,
    "start_time": "2024-12-02T14:23:39.350Z"
   },
   {
    "duration": 0,
    "start_time": "2024-12-02T14:23:39.488Z"
   },
   {
    "duration": 0,
    "start_time": "2024-12-02T14:23:39.489Z"
   },
   {
    "duration": 0,
    "start_time": "2024-12-02T14:23:39.490Z"
   },
   {
    "duration": 0,
    "start_time": "2024-12-02T14:23:39.491Z"
   },
   {
    "duration": 27,
    "start_time": "2024-12-02T14:24:02.112Z"
   },
   {
    "duration": 16,
    "start_time": "2024-12-02T14:24:26.868Z"
   },
   {
    "duration": 13,
    "start_time": "2024-12-02T14:24:43.048Z"
   },
   {
    "duration": 17,
    "start_time": "2024-12-02T14:25:33.532Z"
   },
   {
    "duration": 1705,
    "start_time": "2024-12-02T14:26:03.653Z"
   },
   {
    "duration": 3,
    "start_time": "2024-12-02T14:26:05.360Z"
   },
   {
    "duration": 98,
    "start_time": "2024-12-02T14:26:05.365Z"
   },
   {
    "duration": 11,
    "start_time": "2024-12-02T14:26:05.465Z"
   },
   {
    "duration": 27,
    "start_time": "2024-12-02T14:26:05.478Z"
   },
   {
    "duration": 39,
    "start_time": "2024-12-02T14:26:05.506Z"
   },
   {
    "duration": 17,
    "start_time": "2024-12-02T14:26:05.547Z"
   },
   {
    "duration": 27,
    "start_time": "2024-12-02T14:26:05.567Z"
   },
   {
    "duration": 35,
    "start_time": "2024-12-02T14:26:05.596Z"
   },
   {
    "duration": 526,
    "start_time": "2024-12-02T14:26:05.638Z"
   },
   {
    "duration": 10,
    "start_time": "2024-12-02T14:26:06.165Z"
   },
   {
    "duration": 963,
    "start_time": "2024-12-02T14:26:06.177Z"
   },
   {
    "duration": 5,
    "start_time": "2024-12-02T14:26:07.142Z"
   },
   {
    "duration": 26,
    "start_time": "2024-12-02T14:26:07.148Z"
   },
   {
    "duration": 53,
    "start_time": "2024-12-02T14:26:07.175Z"
   },
   {
    "duration": 16,
    "start_time": "2024-12-02T14:26:07.232Z"
   },
   {
    "duration": 24,
    "start_time": "2024-12-02T14:26:07.251Z"
   },
   {
    "duration": 63,
    "start_time": "2024-12-02T14:26:07.278Z"
   },
   {
    "duration": 37,
    "start_time": "2024-12-02T14:26:07.345Z"
   },
   {
    "duration": 49,
    "start_time": "2024-12-02T14:26:07.384Z"
   },
   {
    "duration": 18,
    "start_time": "2024-12-02T14:26:07.442Z"
   },
   {
    "duration": 50,
    "start_time": "2024-12-02T14:26:07.462Z"
   },
   {
    "duration": 23,
    "start_time": "2024-12-02T14:26:07.515Z"
   },
   {
    "duration": 16,
    "start_time": "2024-12-02T14:26:07.541Z"
   },
   {
    "duration": 7,
    "start_time": "2024-12-02T14:26:07.560Z"
   },
   {
    "duration": 17,
    "start_time": "2024-12-02T14:26:07.569Z"
   },
   {
    "duration": 22,
    "start_time": "2024-12-02T14:26:07.588Z"
   },
   {
    "duration": 35,
    "start_time": "2024-12-02T14:26:07.614Z"
   },
   {
    "duration": 132,
    "start_time": "2024-12-02T14:26:07.651Z"
   },
   {
    "duration": 0,
    "start_time": "2024-12-02T14:26:07.786Z"
   },
   {
    "duration": 0,
    "start_time": "2024-12-02T14:26:07.788Z"
   },
   {
    "duration": 0,
    "start_time": "2024-12-02T14:26:07.789Z"
   },
   {
    "duration": 0,
    "start_time": "2024-12-02T14:26:07.790Z"
   },
   {
    "duration": 18,
    "start_time": "2024-12-02T14:28:26.488Z"
   },
   {
    "duration": 19,
    "start_time": "2024-12-02T14:31:40.744Z"
   },
   {
    "duration": 1621,
    "start_time": "2024-12-02T14:31:53.761Z"
   },
   {
    "duration": 2,
    "start_time": "2024-12-02T14:31:55.384Z"
   },
   {
    "duration": 78,
    "start_time": "2024-12-02T14:31:55.388Z"
   },
   {
    "duration": 10,
    "start_time": "2024-12-02T14:31:55.468Z"
   },
   {
    "duration": 11,
    "start_time": "2024-12-02T14:31:55.480Z"
   },
   {
    "duration": 4,
    "start_time": "2024-12-02T14:31:55.492Z"
   },
   {
    "duration": 5,
    "start_time": "2024-12-02T14:31:55.498Z"
   },
   {
    "duration": 29,
    "start_time": "2024-12-02T14:31:55.505Z"
   },
   {
    "duration": 4,
    "start_time": "2024-12-02T14:31:55.540Z"
   },
   {
    "duration": 447,
    "start_time": "2024-12-02T14:31:55.547Z"
   },
   {
    "duration": 9,
    "start_time": "2024-12-02T14:31:55.996Z"
   },
   {
    "duration": 849,
    "start_time": "2024-12-02T14:31:56.007Z"
   },
   {
    "duration": 4,
    "start_time": "2024-12-02T14:31:56.857Z"
   },
   {
    "duration": 26,
    "start_time": "2024-12-02T14:31:56.863Z"
   },
   {
    "duration": 16,
    "start_time": "2024-12-02T14:31:56.891Z"
   },
   {
    "duration": 130,
    "start_time": "2024-12-02T14:31:56.909Z"
   },
   {
    "duration": 62,
    "start_time": "2024-12-02T14:31:57.040Z"
   },
   {
    "duration": 13,
    "start_time": "2024-12-02T14:31:57.104Z"
   },
   {
    "duration": 26,
    "start_time": "2024-12-02T14:31:57.119Z"
   },
   {
    "duration": 14,
    "start_time": "2024-12-02T14:31:57.146Z"
   },
   {
    "duration": 9,
    "start_time": "2024-12-02T14:31:57.162Z"
   },
   {
    "duration": 8,
    "start_time": "2024-12-02T14:31:57.173Z"
   },
   {
    "duration": 7,
    "start_time": "2024-12-02T14:31:57.183Z"
   },
   {
    "duration": 5,
    "start_time": "2024-12-02T14:31:57.191Z"
   },
   {
    "duration": 12,
    "start_time": "2024-12-02T14:31:57.198Z"
   },
   {
    "duration": 5,
    "start_time": "2024-12-02T14:31:57.212Z"
   },
   {
    "duration": 10,
    "start_time": "2024-12-02T14:31:57.218Z"
   },
   {
    "duration": 18,
    "start_time": "2024-12-02T14:31:57.234Z"
   },
   {
    "duration": 140,
    "start_time": "2024-12-02T14:31:57.254Z"
   },
   {
    "duration": 0,
    "start_time": "2024-12-02T14:31:57.396Z"
   },
   {
    "duration": 0,
    "start_time": "2024-12-02T14:31:57.397Z"
   },
   {
    "duration": 0,
    "start_time": "2024-12-02T14:31:57.399Z"
   },
   {
    "duration": 0,
    "start_time": "2024-12-02T14:31:57.399Z"
   },
   {
    "duration": 50,
    "start_time": "2024-12-02T14:35:08.516Z"
   },
   {
    "duration": 106,
    "start_time": "2024-12-02T14:37:04.844Z"
   },
   {
    "duration": 54,
    "start_time": "2024-12-02T14:37:28.191Z"
   },
   {
    "duration": 7,
    "start_time": "2024-12-02T14:37:44.593Z"
   },
   {
    "duration": 53,
    "start_time": "2024-12-02T14:37:45.190Z"
   },
   {
    "duration": 5,
    "start_time": "2024-12-02T14:38:55.744Z"
   },
   {
    "duration": 6,
    "start_time": "2024-12-02T14:39:57.109Z"
   },
   {
    "duration": 25,
    "start_time": "2024-12-02T14:39:57.627Z"
   },
   {
    "duration": 1606,
    "start_time": "2024-12-02T14:40:21.365Z"
   },
   {
    "duration": 3,
    "start_time": "2024-12-02T14:40:22.972Z"
   },
   {
    "duration": 86,
    "start_time": "2024-12-02T14:40:22.976Z"
   },
   {
    "duration": 11,
    "start_time": "2024-12-02T14:40:23.064Z"
   },
   {
    "duration": 45,
    "start_time": "2024-12-02T14:40:23.077Z"
   },
   {
    "duration": 10,
    "start_time": "2024-12-02T14:40:23.125Z"
   },
   {
    "duration": 9,
    "start_time": "2024-12-02T14:40:23.138Z"
   },
   {
    "duration": 5,
    "start_time": "2024-12-02T14:40:23.148Z"
   },
   {
    "duration": 4,
    "start_time": "2024-12-02T14:40:23.155Z"
   },
   {
    "duration": 447,
    "start_time": "2024-12-02T14:40:23.162Z"
   },
   {
    "duration": 21,
    "start_time": "2024-12-02T14:40:23.610Z"
   },
   {
    "duration": 832,
    "start_time": "2024-12-02T14:40:23.636Z"
   },
   {
    "duration": 5,
    "start_time": "2024-12-02T14:40:24.469Z"
   },
   {
    "duration": 20,
    "start_time": "2024-12-02T14:40:24.475Z"
   },
   {
    "duration": 37,
    "start_time": "2024-12-02T14:40:24.508Z"
   },
   {
    "duration": 37,
    "start_time": "2024-12-02T14:40:24.547Z"
   },
   {
    "duration": 18,
    "start_time": "2024-12-02T14:40:24.585Z"
   },
   {
    "duration": 8,
    "start_time": "2024-12-02T14:40:24.604Z"
   },
   {
    "duration": 7,
    "start_time": "2024-12-02T14:40:24.613Z"
   },
   {
    "duration": 14,
    "start_time": "2024-12-02T14:40:24.624Z"
   },
   {
    "duration": 5,
    "start_time": "2024-12-02T14:40:24.640Z"
   },
   {
    "duration": 7,
    "start_time": "2024-12-02T14:40:24.647Z"
   },
   {
    "duration": 8,
    "start_time": "2024-12-02T14:40:24.655Z"
   },
   {
    "duration": 15,
    "start_time": "2024-12-02T14:40:24.665Z"
   },
   {
    "duration": 7,
    "start_time": "2024-12-02T14:40:24.682Z"
   },
   {
    "duration": 11,
    "start_time": "2024-12-02T14:40:24.691Z"
   },
   {
    "duration": 10,
    "start_time": "2024-12-02T14:40:24.720Z"
   },
   {
    "duration": 19,
    "start_time": "2024-12-02T14:40:24.739Z"
   },
   {
    "duration": 564,
    "start_time": "2024-12-02T14:40:24.760Z"
   },
   {
    "duration": 19,
    "start_time": "2024-12-02T14:40:25.326Z"
   },
   {
    "duration": 80,
    "start_time": "2024-12-02T14:40:25.347Z"
   },
   {
    "duration": 97,
    "start_time": "2024-12-02T14:40:25.431Z"
   },
   {
    "duration": 492,
    "start_time": "2024-12-02T14:40:25.531Z"
   },
   {
    "duration": 461,
    "start_time": "2024-12-02T14:41:00.368Z"
   },
   {
    "duration": 398,
    "start_time": "2024-12-02T14:44:52.737Z"
   },
   {
    "duration": 1773,
    "start_time": "2024-12-02T14:45:09.115Z"
   },
   {
    "duration": 3,
    "start_time": "2024-12-02T14:45:10.890Z"
   },
   {
    "duration": 70,
    "start_time": "2024-12-02T14:45:10.894Z"
   },
   {
    "duration": 11,
    "start_time": "2024-12-02T14:45:10.966Z"
   },
   {
    "duration": 40,
    "start_time": "2024-12-02T14:45:10.978Z"
   },
   {
    "duration": 21,
    "start_time": "2024-12-02T14:45:11.020Z"
   },
   {
    "duration": 14,
    "start_time": "2024-12-02T14:45:11.044Z"
   },
   {
    "duration": 79,
    "start_time": "2024-12-02T14:45:11.060Z"
   },
   {
    "duration": 13,
    "start_time": "2024-12-02T14:45:11.141Z"
   },
   {
    "duration": 468,
    "start_time": "2024-12-02T14:45:11.157Z"
   },
   {
    "duration": 14,
    "start_time": "2024-12-02T14:45:11.628Z"
   },
   {
    "duration": 816,
    "start_time": "2024-12-02T14:45:11.644Z"
   },
   {
    "duration": 4,
    "start_time": "2024-12-02T14:45:12.462Z"
   },
   {
    "duration": 38,
    "start_time": "2024-12-02T14:45:12.468Z"
   },
   {
    "duration": 37,
    "start_time": "2024-12-02T14:45:12.507Z"
   },
   {
    "duration": 8,
    "start_time": "2024-12-02T14:45:12.546Z"
   },
   {
    "duration": 29,
    "start_time": "2024-12-02T14:45:12.556Z"
   },
   {
    "duration": 5,
    "start_time": "2024-12-02T14:45:12.587Z"
   },
   {
    "duration": 12,
    "start_time": "2024-12-02T14:45:12.594Z"
   },
   {
    "duration": 20,
    "start_time": "2024-12-02T14:45:12.608Z"
   },
   {
    "duration": 6,
    "start_time": "2024-12-02T14:45:12.638Z"
   },
   {
    "duration": 24,
    "start_time": "2024-12-02T14:45:12.645Z"
   },
   {
    "duration": 5,
    "start_time": "2024-12-02T14:45:12.671Z"
   },
   {
    "duration": 11,
    "start_time": "2024-12-02T14:45:12.677Z"
   },
   {
    "duration": 11,
    "start_time": "2024-12-02T14:45:12.689Z"
   },
   {
    "duration": 5,
    "start_time": "2024-12-02T14:45:12.702Z"
   },
   {
    "duration": 19,
    "start_time": "2024-12-02T14:45:12.708Z"
   },
   {
    "duration": 18,
    "start_time": "2024-12-02T14:45:12.731Z"
   },
   {
    "duration": 484,
    "start_time": "2024-12-02T14:45:12.750Z"
   },
   {
    "duration": 83,
    "start_time": "2024-12-02T14:45:13.238Z"
   },
   {
    "duration": 10,
    "start_time": "2024-12-02T14:45:13.327Z"
   },
   {
    "duration": 82,
    "start_time": "2024-12-02T14:45:13.339Z"
   },
   {
    "duration": 417,
    "start_time": "2024-12-02T14:45:13.425Z"
   },
   {
    "duration": 85,
    "start_time": "2024-12-02T14:46:26.108Z"
   },
   {
    "duration": 989,
    "start_time": "2024-12-02T14:46:30.845Z"
   },
   {
    "duration": 492,
    "start_time": "2024-12-02T14:47:22.739Z"
   },
   {
    "duration": 85,
    "start_time": "2024-12-02T14:47:38.828Z"
   },
   {
    "duration": 2005,
    "start_time": "2024-12-02T14:47:43.838Z"
   },
   {
    "duration": 1749,
    "start_time": "2024-12-02T14:48:20.694Z"
   },
   {
    "duration": 1856,
    "start_time": "2024-12-02T14:48:28.586Z"
   },
   {
    "duration": 92,
    "start_time": "2024-12-02T14:49:02.692Z"
   },
   {
    "duration": 1554,
    "start_time": "2024-12-02T14:50:38.957Z"
   },
   {
    "duration": 2,
    "start_time": "2024-12-02T14:50:40.513Z"
   },
   {
    "duration": 80,
    "start_time": "2024-12-02T14:50:40.517Z"
   },
   {
    "duration": 11,
    "start_time": "2024-12-02T14:50:40.600Z"
   },
   {
    "duration": 27,
    "start_time": "2024-12-02T14:50:40.612Z"
   },
   {
    "duration": 5,
    "start_time": "2024-12-02T14:50:40.642Z"
   },
   {
    "duration": 22,
    "start_time": "2024-12-02T14:50:40.649Z"
   },
   {
    "duration": 13,
    "start_time": "2024-12-02T14:50:40.672Z"
   },
   {
    "duration": 10,
    "start_time": "2024-12-02T14:50:40.686Z"
   },
   {
    "duration": 417,
    "start_time": "2024-12-02T14:50:40.699Z"
   },
   {
    "duration": 18,
    "start_time": "2024-12-02T14:50:41.118Z"
   },
   {
    "duration": 842,
    "start_time": "2024-12-02T14:50:41.138Z"
   },
   {
    "duration": 4,
    "start_time": "2024-12-02T14:50:41.982Z"
   },
   {
    "duration": 63,
    "start_time": "2024-12-02T14:50:41.988Z"
   },
   {
    "duration": 34,
    "start_time": "2024-12-02T14:50:42.053Z"
   },
   {
    "duration": 56,
    "start_time": "2024-12-02T14:50:42.088Z"
   },
   {
    "duration": 84,
    "start_time": "2024-12-02T14:50:42.146Z"
   },
   {
    "duration": 106,
    "start_time": "2024-12-02T14:50:42.233Z"
   },
   {
    "duration": 97,
    "start_time": "2024-12-02T14:50:42.341Z"
   },
   {
    "duration": 10,
    "start_time": "2024-12-02T14:50:42.439Z"
   },
   {
    "duration": 12,
    "start_time": "2024-12-02T14:50:42.450Z"
   },
   {
    "duration": 29,
    "start_time": "2024-12-02T14:50:42.463Z"
   },
   {
    "duration": 18,
    "start_time": "2024-12-02T14:50:42.494Z"
   },
   {
    "duration": 21,
    "start_time": "2024-12-02T14:50:42.513Z"
   },
   {
    "duration": 16,
    "start_time": "2024-12-02T14:50:42.536Z"
   },
   {
    "duration": 8,
    "start_time": "2024-12-02T14:50:42.553Z"
   },
   {
    "duration": 5,
    "start_time": "2024-12-02T14:50:42.562Z"
   },
   {
    "duration": 36,
    "start_time": "2024-12-02T14:50:42.570Z"
   },
   {
    "duration": 729,
    "start_time": "2024-12-02T14:50:42.608Z"
   },
   {
    "duration": 3703,
    "start_time": "2024-12-02T14:50:43.343Z"
   },
   {
    "duration": 85,
    "start_time": "2024-12-02T14:50:47.048Z"
   },
   {
    "duration": 89,
    "start_time": "2024-12-02T14:50:47.138Z"
   },
   {
    "duration": 18,
    "start_time": "2024-12-02T14:50:47.231Z"
   },
   {
    "duration": 421,
    "start_time": "2024-12-02T14:50:47.321Z"
   },
   {
    "duration": 123,
    "start_time": "2024-12-02T14:53:00.554Z"
   },
   {
    "duration": 1729,
    "start_time": "2024-12-02T14:54:32.428Z"
   },
   {
    "duration": 3,
    "start_time": "2024-12-02T14:54:34.159Z"
   },
   {
    "duration": 87,
    "start_time": "2024-12-02T14:54:34.163Z"
   },
   {
    "duration": 10,
    "start_time": "2024-12-02T14:54:34.252Z"
   },
   {
    "duration": 74,
    "start_time": "2024-12-02T14:54:34.264Z"
   },
   {
    "duration": 5,
    "start_time": "2024-12-02T14:54:34.340Z"
   },
   {
    "duration": 67,
    "start_time": "2024-12-02T14:54:34.347Z"
   },
   {
    "duration": 18,
    "start_time": "2024-12-02T14:54:34.415Z"
   },
   {
    "duration": 5,
    "start_time": "2024-12-02T14:54:34.436Z"
   },
   {
    "duration": 466,
    "start_time": "2024-12-02T14:54:34.444Z"
   },
   {
    "duration": 22,
    "start_time": "2024-12-02T14:54:34.912Z"
   },
   {
    "duration": 890,
    "start_time": "2024-12-02T14:54:34.937Z"
   },
   {
    "duration": 7,
    "start_time": "2024-12-02T14:54:35.829Z"
   },
   {
    "duration": 17,
    "start_time": "2024-12-02T14:54:35.839Z"
   },
   {
    "duration": 18,
    "start_time": "2024-12-02T14:54:35.858Z"
   },
   {
    "duration": 39,
    "start_time": "2024-12-02T14:54:35.878Z"
   },
   {
    "duration": 46,
    "start_time": "2024-12-02T14:54:35.918Z"
   },
   {
    "duration": 38,
    "start_time": "2024-12-02T14:54:35.965Z"
   },
   {
    "duration": 39,
    "start_time": "2024-12-02T14:54:36.005Z"
   },
   {
    "duration": 10,
    "start_time": "2024-12-02T14:54:36.046Z"
   },
   {
    "duration": 11,
    "start_time": "2024-12-02T14:54:36.057Z"
   },
   {
    "duration": 33,
    "start_time": "2024-12-02T14:54:36.070Z"
   },
   {
    "duration": 51,
    "start_time": "2024-12-02T14:54:36.104Z"
   },
   {
    "duration": 48,
    "start_time": "2024-12-02T14:54:36.157Z"
   },
   {
    "duration": 20,
    "start_time": "2024-12-02T14:54:36.207Z"
   },
   {
    "duration": 65,
    "start_time": "2024-12-02T14:54:36.230Z"
   },
   {
    "duration": 44,
    "start_time": "2024-12-02T14:54:36.298Z"
   },
   {
    "duration": 22,
    "start_time": "2024-12-02T14:54:36.345Z"
   },
   {
    "duration": 876,
    "start_time": "2024-12-02T14:54:36.368Z"
   },
   {
    "duration": 4093,
    "start_time": "2024-12-02T14:54:37.246Z"
   },
   {
    "duration": 348287,
    "start_time": "2024-12-02T14:54:41.343Z"
   },
   {
    "duration": 10,
    "start_time": "2024-12-02T15:00:29.631Z"
   },
   {
    "duration": 81,
    "start_time": "2024-12-02T15:00:29.642Z"
   },
   {
    "duration": 8,
    "start_time": "2024-12-02T15:00:29.724Z"
   },
   {
    "duration": 401,
    "start_time": "2024-12-02T15:00:29.733Z"
   },
   {
    "duration": 88,
    "start_time": "2024-12-02T15:01:19.170Z"
   },
   {
    "duration": 145,
    "start_time": "2024-12-02T15:01:41.985Z"
   },
   {
    "duration": 2973,
    "start_time": "2024-12-02T15:02:06.049Z"
   },
   {
    "duration": 39562,
    "start_time": "2024-12-02T15:05:56.964Z"
   },
   {
    "duration": 2589,
    "start_time": "2024-12-02T15:07:25.439Z"
   },
   {
    "duration": 38492,
    "start_time": "2024-12-02T15:07:46.637Z"
   },
   {
    "duration": 1710,
    "start_time": "2024-12-02T15:09:29.865Z"
   },
   {
    "duration": 3,
    "start_time": "2024-12-02T15:09:31.576Z"
   },
   {
    "duration": 81,
    "start_time": "2024-12-02T15:09:31.581Z"
   },
   {
    "duration": 11,
    "start_time": "2024-12-02T15:09:31.664Z"
   },
   {
    "duration": 34,
    "start_time": "2024-12-02T15:09:31.677Z"
   },
   {
    "duration": 25,
    "start_time": "2024-12-02T15:09:31.713Z"
   },
   {
    "duration": 15,
    "start_time": "2024-12-02T15:09:31.739Z"
   },
   {
    "duration": 17,
    "start_time": "2024-12-02T15:09:31.756Z"
   },
   {
    "duration": 23,
    "start_time": "2024-12-02T15:09:31.775Z"
   },
   {
    "duration": 417,
    "start_time": "2024-12-02T15:09:31.801Z"
   },
   {
    "duration": 9,
    "start_time": "2024-12-02T15:09:32.220Z"
   },
   {
    "duration": 733,
    "start_time": "2024-12-02T15:09:32.231Z"
   },
   {
    "duration": 4,
    "start_time": "2024-12-02T15:09:32.966Z"
   },
   {
    "duration": 62,
    "start_time": "2024-12-02T15:09:32.971Z"
   },
   {
    "duration": 30,
    "start_time": "2024-12-02T15:09:33.035Z"
   },
   {
    "duration": 34,
    "start_time": "2024-12-02T15:09:33.067Z"
   },
   {
    "duration": 34,
    "start_time": "2024-12-02T15:09:33.102Z"
   },
   {
    "duration": 12,
    "start_time": "2024-12-02T15:09:33.138Z"
   },
   {
    "duration": 12,
    "start_time": "2024-12-02T15:09:33.152Z"
   },
   {
    "duration": 7,
    "start_time": "2024-12-02T15:09:33.165Z"
   },
   {
    "duration": 175,
    "start_time": "2024-12-02T15:09:33.173Z"
   },
   {
    "duration": 25,
    "start_time": "2024-12-02T15:09:33.350Z"
   },
   {
    "duration": 14,
    "start_time": "2024-12-02T15:09:33.377Z"
   },
   {
    "duration": 30,
    "start_time": "2024-12-02T15:09:33.393Z"
   },
   {
    "duration": 25,
    "start_time": "2024-12-02T15:09:33.425Z"
   },
   {
    "duration": 6,
    "start_time": "2024-12-02T15:09:33.452Z"
   },
   {
    "duration": 11,
    "start_time": "2024-12-02T15:09:33.460Z"
   },
   {
    "duration": 25,
    "start_time": "2024-12-02T15:09:33.476Z"
   },
   {
    "duration": 635,
    "start_time": "2024-12-02T15:09:33.503Z"
   },
   {
    "duration": 39924,
    "start_time": "2024-12-02T15:09:34.139Z"
   },
   {
    "duration": 3299,
    "start_time": "2024-12-02T15:10:14.123Z"
   },
   {
    "duration": 1599,
    "start_time": "2024-12-02T15:11:25.800Z"
   },
   {
    "duration": 2,
    "start_time": "2024-12-02T15:11:27.401Z"
   },
   {
    "duration": 70,
    "start_time": "2024-12-02T15:11:27.405Z"
   },
   {
    "duration": 11,
    "start_time": "2024-12-02T15:11:27.478Z"
   },
   {
    "duration": 25,
    "start_time": "2024-12-02T15:11:27.491Z"
   },
   {
    "duration": 12,
    "start_time": "2024-12-02T15:11:27.518Z"
   },
   {
    "duration": 29,
    "start_time": "2024-12-02T15:11:27.531Z"
   },
   {
    "duration": 7,
    "start_time": "2024-12-02T15:11:27.562Z"
   },
   {
    "duration": 4,
    "start_time": "2024-12-02T15:11:27.571Z"
   },
   {
    "duration": 395,
    "start_time": "2024-12-02T15:11:27.577Z"
   },
   {
    "duration": 10,
    "start_time": "2024-12-02T15:11:27.974Z"
   },
   {
    "duration": 759,
    "start_time": "2024-12-02T15:11:27.985Z"
   },
   {
    "duration": 6,
    "start_time": "2024-12-02T15:11:28.746Z"
   },
   {
    "duration": 31,
    "start_time": "2024-12-02T15:11:28.754Z"
   },
   {
    "duration": 20,
    "start_time": "2024-12-02T15:11:28.788Z"
   },
   {
    "duration": 7,
    "start_time": "2024-12-02T15:11:28.810Z"
   },
   {
    "duration": 26,
    "start_time": "2024-12-02T15:11:28.818Z"
   },
   {
    "duration": 17,
    "start_time": "2024-12-02T15:11:28.846Z"
   },
   {
    "duration": 8,
    "start_time": "2024-12-02T15:11:28.865Z"
   },
   {
    "duration": 5,
    "start_time": "2024-12-02T15:11:28.875Z"
   },
   {
    "duration": 17,
    "start_time": "2024-12-02T15:11:28.882Z"
   },
   {
    "duration": 5,
    "start_time": "2024-12-02T15:11:28.902Z"
   },
   {
    "duration": 6,
    "start_time": "2024-12-02T15:11:28.908Z"
   },
   {
    "duration": 7,
    "start_time": "2024-12-02T15:11:28.915Z"
   },
   {
    "duration": 8,
    "start_time": "2024-12-02T15:11:28.924Z"
   },
   {
    "duration": 17,
    "start_time": "2024-12-02T15:11:28.933Z"
   },
   {
    "duration": 5,
    "start_time": "2024-12-02T15:11:28.952Z"
   },
   {
    "duration": 14,
    "start_time": "2024-12-02T15:11:28.960Z"
   },
   {
    "duration": 663,
    "start_time": "2024-12-02T15:11:28.975Z"
   },
   {
    "duration": 41307,
    "start_time": "2024-12-02T15:11:29.640Z"
   },
   {
    "duration": 213,
    "start_time": "2024-12-02T15:12:11.022Z"
   },
   {
    "duration": 0,
    "start_time": "2024-12-02T15:12:11.237Z"
   },
   {
    "duration": 0,
    "start_time": "2024-12-02T15:12:11.238Z"
   },
   {
    "duration": 0,
    "start_time": "2024-12-02T15:12:11.239Z"
   },
   {
    "duration": 0,
    "start_time": "2024-12-02T15:12:11.240Z"
   },
   {
    "duration": 0,
    "start_time": "2024-12-02T15:12:11.241Z"
   },
   {
    "duration": 2724,
    "start_time": "2024-12-02T15:12:33.798Z"
   },
   {
    "duration": 1523,
    "start_time": "2024-12-02T15:13:01.948Z"
   },
   {
    "duration": 2,
    "start_time": "2024-12-02T15:13:03.473Z"
   },
   {
    "duration": 137,
    "start_time": "2024-12-02T15:13:03.476Z"
   },
   {
    "duration": 10,
    "start_time": "2024-12-02T15:13:03.615Z"
   },
   {
    "duration": 30,
    "start_time": "2024-12-02T15:13:03.626Z"
   },
   {
    "duration": 3,
    "start_time": "2024-12-02T15:13:03.658Z"
   },
   {
    "duration": 28,
    "start_time": "2024-12-02T15:13:03.662Z"
   },
   {
    "duration": 29,
    "start_time": "2024-12-02T15:13:03.692Z"
   },
   {
    "duration": 23,
    "start_time": "2024-12-02T15:13:03.722Z"
   },
   {
    "duration": 369,
    "start_time": "2024-12-02T15:13:03.749Z"
   },
   {
    "duration": 9,
    "start_time": "2024-12-02T15:13:04.120Z"
   },
   {
    "duration": 753,
    "start_time": "2024-12-02T15:13:04.131Z"
   },
   {
    "duration": 4,
    "start_time": "2024-12-02T15:13:04.886Z"
   },
   {
    "duration": 34,
    "start_time": "2024-12-02T15:13:04.891Z"
   },
   {
    "duration": 31,
    "start_time": "2024-12-02T15:13:04.927Z"
   },
   {
    "duration": 27,
    "start_time": "2024-12-02T15:13:04.960Z"
   },
   {
    "duration": 33,
    "start_time": "2024-12-02T15:13:04.988Z"
   },
   {
    "duration": 26,
    "start_time": "2024-12-02T15:13:05.023Z"
   },
   {
    "duration": 17,
    "start_time": "2024-12-02T15:13:05.051Z"
   },
   {
    "duration": 64,
    "start_time": "2024-12-02T15:13:05.070Z"
   },
   {
    "duration": 15,
    "start_time": "2024-12-02T15:13:05.135Z"
   },
   {
    "duration": 40,
    "start_time": "2024-12-02T15:13:05.151Z"
   },
   {
    "duration": 23,
    "start_time": "2024-12-02T15:13:05.192Z"
   },
   {
    "duration": 153,
    "start_time": "2024-12-02T15:13:05.216Z"
   },
   {
    "duration": 50,
    "start_time": "2024-12-02T15:13:05.371Z"
   },
   {
    "duration": 32,
    "start_time": "2024-12-02T15:13:05.422Z"
   },
   {
    "duration": 38,
    "start_time": "2024-12-02T15:13:05.456Z"
   },
   {
    "duration": 32,
    "start_time": "2024-12-02T15:13:05.497Z"
   },
   {
    "duration": 711,
    "start_time": "2024-12-02T15:13:05.531Z"
   },
   {
    "duration": 40713,
    "start_time": "2024-12-02T15:13:06.245Z"
   },
   {
    "duration": 3498,
    "start_time": "2024-12-02T15:13:47.026Z"
   },
   {
    "duration": 1591,
    "start_time": "2024-12-02T15:16:07.296Z"
   },
   {
    "duration": 3,
    "start_time": "2024-12-02T15:16:08.889Z"
   },
   {
    "duration": 89,
    "start_time": "2024-12-02T15:16:08.893Z"
   },
   {
    "duration": 11,
    "start_time": "2024-12-02T15:16:08.984Z"
   },
   {
    "duration": 12,
    "start_time": "2024-12-02T15:16:08.997Z"
   },
   {
    "duration": 4,
    "start_time": "2024-12-02T15:16:09.010Z"
   },
   {
    "duration": 15,
    "start_time": "2024-12-02T15:16:09.015Z"
   },
   {
    "duration": 25,
    "start_time": "2024-12-02T15:16:09.031Z"
   },
   {
    "duration": 5,
    "start_time": "2024-12-02T15:16:09.058Z"
   },
   {
    "duration": 388,
    "start_time": "2024-12-02T15:16:09.065Z"
   },
   {
    "duration": 9,
    "start_time": "2024-12-02T15:16:09.455Z"
   },
   {
    "duration": 779,
    "start_time": "2024-12-02T15:16:09.465Z"
   },
   {
    "duration": 5,
    "start_time": "2024-12-02T15:16:10.245Z"
   },
   {
    "duration": 23,
    "start_time": "2024-12-02T15:16:10.251Z"
   },
   {
    "duration": 16,
    "start_time": "2024-12-02T15:16:10.276Z"
   },
   {
    "duration": 13,
    "start_time": "2024-12-02T15:16:10.294Z"
   },
   {
    "duration": 18,
    "start_time": "2024-12-02T15:16:10.308Z"
   },
   {
    "duration": 78,
    "start_time": "2024-12-02T15:16:10.328Z"
   },
   {
    "duration": 80,
    "start_time": "2024-12-02T15:16:10.407Z"
   },
   {
    "duration": 53,
    "start_time": "2024-12-02T15:16:10.488Z"
   },
   {
    "duration": 6,
    "start_time": "2024-12-02T15:16:10.543Z"
   },
   {
    "duration": 4,
    "start_time": "2024-12-02T15:16:10.551Z"
   },
   {
    "duration": 30,
    "start_time": "2024-12-02T15:16:10.557Z"
   },
   {
    "duration": 15,
    "start_time": "2024-12-02T15:16:10.589Z"
   },
   {
    "duration": 17,
    "start_time": "2024-12-02T15:16:10.605Z"
   },
   {
    "duration": 8,
    "start_time": "2024-12-02T15:16:10.623Z"
   },
   {
    "duration": 15,
    "start_time": "2024-12-02T15:16:10.633Z"
   },
   {
    "duration": 25,
    "start_time": "2024-12-02T15:16:10.651Z"
   },
   {
    "duration": 572,
    "start_time": "2024-12-02T15:16:10.677Z"
   },
   {
    "duration": 39773,
    "start_time": "2024-12-02T15:16:11.251Z"
   },
   {
    "duration": 272,
    "start_time": "2024-12-02T15:16:51.029Z"
   },
   {
    "duration": 0,
    "start_time": "2024-12-02T15:16:51.303Z"
   },
   {
    "duration": 0,
    "start_time": "2024-12-02T15:16:51.304Z"
   },
   {
    "duration": 0,
    "start_time": "2024-12-02T15:16:51.305Z"
   },
   {
    "duration": 0,
    "start_time": "2024-12-02T15:16:51.306Z"
   },
   {
    "duration": 0,
    "start_time": "2024-12-02T15:16:51.321Z"
   },
   {
    "duration": 0,
    "start_time": "2024-12-02T15:16:51.322Z"
   },
   {
    "duration": 1655,
    "start_time": "2024-12-02T15:18:06.679Z"
   },
   {
    "duration": 3,
    "start_time": "2024-12-02T15:18:08.336Z"
   },
   {
    "duration": 96,
    "start_time": "2024-12-02T15:18:08.340Z"
   },
   {
    "duration": 10,
    "start_time": "2024-12-02T15:18:08.438Z"
   },
   {
    "duration": 17,
    "start_time": "2024-12-02T15:18:08.450Z"
   },
   {
    "duration": 4,
    "start_time": "2024-12-02T15:18:08.469Z"
   },
   {
    "duration": 24,
    "start_time": "2024-12-02T15:18:08.474Z"
   },
   {
    "duration": 16,
    "start_time": "2024-12-02T15:18:08.500Z"
   },
   {
    "duration": 28,
    "start_time": "2024-12-02T15:18:08.518Z"
   },
   {
    "duration": 434,
    "start_time": "2024-12-02T15:18:08.548Z"
   },
   {
    "duration": 8,
    "start_time": "2024-12-02T15:18:08.984Z"
   },
   {
    "duration": 774,
    "start_time": "2024-12-02T15:18:08.994Z"
   },
   {
    "duration": 5,
    "start_time": "2024-12-02T15:18:09.769Z"
   },
   {
    "duration": 20,
    "start_time": "2024-12-02T15:18:09.775Z"
   },
   {
    "duration": 16,
    "start_time": "2024-12-02T15:18:09.797Z"
   },
   {
    "duration": 17,
    "start_time": "2024-12-02T15:18:09.820Z"
   },
   {
    "duration": 25,
    "start_time": "2024-12-02T15:18:09.838Z"
   },
   {
    "duration": 5,
    "start_time": "2024-12-02T15:18:09.865Z"
   },
   {
    "duration": 5,
    "start_time": "2024-12-02T15:18:09.872Z"
   },
   {
    "duration": 5,
    "start_time": "2024-12-02T15:18:09.879Z"
   },
   {
    "duration": 15,
    "start_time": "2024-12-02T15:18:09.886Z"
   },
   {
    "duration": 17,
    "start_time": "2024-12-02T15:18:09.903Z"
   },
   {
    "duration": 4,
    "start_time": "2024-12-02T15:18:09.922Z"
   },
   {
    "duration": 6,
    "start_time": "2024-12-02T15:18:09.927Z"
   },
   {
    "duration": 11,
    "start_time": "2024-12-02T15:18:09.934Z"
   },
   {
    "duration": 4,
    "start_time": "2024-12-02T15:18:09.946Z"
   },
   {
    "duration": 4,
    "start_time": "2024-12-02T15:18:09.952Z"
   },
   {
    "duration": 14,
    "start_time": "2024-12-02T15:18:09.960Z"
   },
   {
    "duration": 650,
    "start_time": "2024-12-02T15:18:09.976Z"
   },
   {
    "duration": 39393,
    "start_time": "2024-12-02T15:18:10.628Z"
   },
   {
    "duration": 2595,
    "start_time": "2024-12-02T15:18:50.028Z"
   },
   {
    "duration": 219,
    "start_time": "2024-12-02T15:18:52.625Z"
   },
   {
    "duration": 0,
    "start_time": "2024-12-02T15:18:52.846Z"
   },
   {
    "duration": 0,
    "start_time": "2024-12-02T15:18:52.847Z"
   },
   {
    "duration": 0,
    "start_time": "2024-12-02T15:18:52.848Z"
   },
   {
    "duration": 0,
    "start_time": "2024-12-02T15:18:52.849Z"
   },
   {
    "duration": 0,
    "start_time": "2024-12-02T15:18:52.850Z"
   },
   {
    "duration": 1717,
    "start_time": "2024-12-02T15:19:28.827Z"
   },
   {
    "duration": 3,
    "start_time": "2024-12-02T15:19:30.546Z"
   },
   {
    "duration": 81,
    "start_time": "2024-12-02T15:19:30.550Z"
   },
   {
    "duration": 11,
    "start_time": "2024-12-02T15:19:30.633Z"
   },
   {
    "duration": 20,
    "start_time": "2024-12-02T15:19:30.645Z"
   },
   {
    "duration": 18,
    "start_time": "2024-12-02T15:19:30.667Z"
   },
   {
    "duration": 6,
    "start_time": "2024-12-02T15:19:30.687Z"
   },
   {
    "duration": 32,
    "start_time": "2024-12-02T15:19:30.695Z"
   },
   {
    "duration": 19,
    "start_time": "2024-12-02T15:19:30.728Z"
   },
   {
    "duration": 429,
    "start_time": "2024-12-02T15:19:30.750Z"
   },
   {
    "duration": 9,
    "start_time": "2024-12-02T15:19:31.181Z"
   },
   {
    "duration": 780,
    "start_time": "2024-12-02T15:19:31.191Z"
   },
   {
    "duration": 4,
    "start_time": "2024-12-02T15:19:31.973Z"
   },
   {
    "duration": 16,
    "start_time": "2024-12-02T15:19:31.979Z"
   },
   {
    "duration": 21,
    "start_time": "2024-12-02T15:19:31.997Z"
   },
   {
    "duration": 23,
    "start_time": "2024-12-02T15:19:32.020Z"
   },
   {
    "duration": 21,
    "start_time": "2024-12-02T15:19:32.045Z"
   },
   {
    "duration": 13,
    "start_time": "2024-12-02T15:19:32.067Z"
   },
   {
    "duration": 36,
    "start_time": "2024-12-02T15:19:32.082Z"
   },
   {
    "duration": 22,
    "start_time": "2024-12-02T15:19:32.119Z"
   },
   {
    "duration": 7,
    "start_time": "2024-12-02T15:19:32.143Z"
   },
   {
    "duration": 5,
    "start_time": "2024-12-02T15:19:32.152Z"
   },
   {
    "duration": 28,
    "start_time": "2024-12-02T15:19:32.158Z"
   },
   {
    "duration": 5,
    "start_time": "2024-12-02T15:19:32.187Z"
   },
   {
    "duration": 10,
    "start_time": "2024-12-02T15:19:32.193Z"
   },
   {
    "duration": 35,
    "start_time": "2024-12-02T15:19:32.204Z"
   },
   {
    "duration": 36,
    "start_time": "2024-12-02T15:19:32.241Z"
   },
   {
    "duration": 15,
    "start_time": "2024-12-02T15:19:32.282Z"
   },
   {
    "duration": 549,
    "start_time": "2024-12-02T15:19:32.299Z"
   },
   {
    "duration": 38976,
    "start_time": "2024-12-02T15:19:32.850Z"
   },
   {
    "duration": 2795,
    "start_time": "2024-12-02T15:20:11.828Z"
   },
   {
    "duration": 2696,
    "start_time": "2024-12-02T15:20:14.626Z"
   },
   {
    "duration": 287814,
    "start_time": "2024-12-02T15:20:17.324Z"
   },
   {
    "duration": 83,
    "start_time": "2024-12-02T15:25:05.140Z"
   },
   {
    "duration": 23,
    "start_time": "2024-12-02T15:25:05.224Z"
   },
   {
    "duration": 78,
    "start_time": "2024-12-02T15:25:05.249Z"
   },
   {
    "duration": 305,
    "start_time": "2024-12-02T15:25:05.329Z"
   },
   {
    "duration": 393,
    "start_time": "2024-12-02T15:28:28.986Z"
   },
   {
    "duration": 125,
    "start_time": "2024-12-02T15:31:21.407Z"
   },
   {
    "duration": 15838,
    "start_time": "2024-12-02T15:31:32.671Z"
   },
   {
    "duration": 33864,
    "start_time": "2024-12-02T15:33:42.209Z"
   },
   {
    "duration": 1595,
    "start_time": "2024-12-02T15:35:11.827Z"
   },
   {
    "duration": 3,
    "start_time": "2024-12-02T15:35:13.425Z"
   },
   {
    "duration": 100,
    "start_time": "2024-12-02T15:35:13.430Z"
   },
   {
    "duration": 11,
    "start_time": "2024-12-02T15:35:13.532Z"
   },
   {
    "duration": 13,
    "start_time": "2024-12-02T15:35:13.544Z"
   },
   {
    "duration": 5,
    "start_time": "2024-12-02T15:35:13.558Z"
   },
   {
    "duration": 14,
    "start_time": "2024-12-02T15:35:13.564Z"
   },
   {
    "duration": 6,
    "start_time": "2024-12-02T15:35:13.580Z"
   },
   {
    "duration": 19,
    "start_time": "2024-12-02T15:35:13.587Z"
   },
   {
    "duration": 414,
    "start_time": "2024-12-02T15:35:13.623Z"
   },
   {
    "duration": 8,
    "start_time": "2024-12-02T15:35:14.039Z"
   },
   {
    "duration": 758,
    "start_time": "2024-12-02T15:35:14.049Z"
   },
   {
    "duration": 5,
    "start_time": "2024-12-02T15:35:14.809Z"
   },
   {
    "duration": 21,
    "start_time": "2024-12-02T15:35:14.815Z"
   },
   {
    "duration": 18,
    "start_time": "2024-12-02T15:35:14.838Z"
   },
   {
    "duration": 22,
    "start_time": "2024-12-02T15:35:14.858Z"
   },
   {
    "duration": 19,
    "start_time": "2024-12-02T15:35:14.882Z"
   },
   {
    "duration": 4,
    "start_time": "2024-12-02T15:35:14.903Z"
   },
   {
    "duration": 6,
    "start_time": "2024-12-02T15:35:14.909Z"
   },
   {
    "duration": 6,
    "start_time": "2024-12-02T15:35:14.920Z"
   },
   {
    "duration": 5,
    "start_time": "2024-12-02T15:35:14.928Z"
   },
   {
    "duration": 4,
    "start_time": "2024-12-02T15:35:14.935Z"
   },
   {
    "duration": 4,
    "start_time": "2024-12-02T15:35:14.941Z"
   },
   {
    "duration": 12,
    "start_time": "2024-12-02T15:35:14.947Z"
   },
   {
    "duration": 13,
    "start_time": "2024-12-02T15:35:14.961Z"
   },
   {
    "duration": 8,
    "start_time": "2024-12-02T15:35:14.975Z"
   },
   {
    "duration": 8,
    "start_time": "2024-12-02T15:35:14.985Z"
   },
   {
    "duration": 38,
    "start_time": "2024-12-02T15:35:14.996Z"
   },
   {
    "duration": 802,
    "start_time": "2024-12-02T15:35:15.036Z"
   },
   {
    "duration": 53180,
    "start_time": "2024-12-02T15:35:15.840Z"
   },
   {
    "duration": 5136216,
    "start_time": "2024-12-02T15:36:09.022Z"
   },
   {
    "duration": 0,
    "start_time": "2024-12-02T17:01:45.241Z"
   },
   {
    "duration": 0,
    "start_time": "2024-12-02T17:01:45.242Z"
   },
   {
    "duration": 0,
    "start_time": "2024-12-02T17:01:45.242Z"
   },
   {
    "duration": 0,
    "start_time": "2024-12-02T17:01:45.244Z"
   },
   {
    "duration": 0,
    "start_time": "2024-12-02T17:01:45.244Z"
   },
   {
    "duration": 0,
    "start_time": "2024-12-02T17:01:45.246Z"
   },
   {
    "duration": 1622,
    "start_time": "2024-12-02T17:06:48.007Z"
   },
   {
    "duration": 2,
    "start_time": "2024-12-02T17:06:49.631Z"
   },
   {
    "duration": 70,
    "start_time": "2024-12-02T17:06:49.634Z"
   },
   {
    "duration": 11,
    "start_time": "2024-12-02T17:06:49.706Z"
   },
   {
    "duration": 18,
    "start_time": "2024-12-02T17:06:49.719Z"
   },
   {
    "duration": 6,
    "start_time": "2024-12-02T17:06:49.739Z"
   },
   {
    "duration": 35,
    "start_time": "2024-12-02T17:06:49.747Z"
   },
   {
    "duration": 14,
    "start_time": "2024-12-02T17:06:49.784Z"
   },
   {
    "duration": 22,
    "start_time": "2024-12-02T17:06:49.800Z"
   },
   {
    "duration": 398,
    "start_time": "2024-12-02T17:06:49.826Z"
   },
   {
    "duration": 9,
    "start_time": "2024-12-02T17:06:50.226Z"
   },
   {
    "duration": 768,
    "start_time": "2024-12-02T17:06:50.236Z"
   },
   {
    "duration": 4,
    "start_time": "2024-12-02T17:06:51.006Z"
   },
   {
    "duration": 26,
    "start_time": "2024-12-02T17:06:51.012Z"
   },
   {
    "duration": 44,
    "start_time": "2024-12-02T17:06:51.040Z"
   },
   {
    "duration": 31,
    "start_time": "2024-12-02T17:06:51.085Z"
   },
   {
    "duration": 23,
    "start_time": "2024-12-02T17:06:51.118Z"
   },
   {
    "duration": 29,
    "start_time": "2024-12-02T17:06:51.142Z"
   },
   {
    "duration": 24,
    "start_time": "2024-12-02T17:06:51.173Z"
   },
   {
    "duration": 6,
    "start_time": "2024-12-02T17:06:51.199Z"
   },
   {
    "duration": 20,
    "start_time": "2024-12-02T17:06:51.206Z"
   },
   {
    "duration": 26,
    "start_time": "2024-12-02T17:06:51.227Z"
   },
   {
    "duration": 19,
    "start_time": "2024-12-02T17:06:51.255Z"
   },
   {
    "duration": 25,
    "start_time": "2024-12-02T17:06:51.276Z"
   },
   {
    "duration": 13,
    "start_time": "2024-12-02T17:06:51.303Z"
   },
   {
    "duration": 17,
    "start_time": "2024-12-02T17:06:51.318Z"
   },
   {
    "duration": 25,
    "start_time": "2024-12-02T17:06:51.337Z"
   },
   {
    "duration": 34,
    "start_time": "2024-12-02T17:06:51.365Z"
   },
   {
    "duration": 629,
    "start_time": "2024-12-02T17:06:51.400Z"
   },
   {
    "duration": 53324,
    "start_time": "2024-12-02T17:06:52.031Z"
   },
   {
    "duration": 170335,
    "start_time": "2024-12-02T17:07:45.357Z"
   },
   {
    "duration": 141,
    "start_time": "2024-12-02T17:10:35.694Z"
   },
   {
    "duration": 0,
    "start_time": "2024-12-02T17:10:35.837Z"
   },
   {
    "duration": 13,
    "start_time": "2024-12-02T17:11:57.857Z"
   },
   {
    "duration": 12,
    "start_time": "2024-12-02T17:12:17.313Z"
   },
   {
    "duration": 4,
    "start_time": "2024-12-02T17:13:02.780Z"
   },
   {
    "duration": 731,
    "start_time": "2024-12-02T17:13:08.104Z"
   },
   {
    "duration": 1613,
    "start_time": "2024-12-02T17:13:20.488Z"
   },
   {
    "duration": 8,
    "start_time": "2024-12-02T17:13:22.103Z"
   },
   {
    "duration": 63,
    "start_time": "2024-12-02T17:13:22.114Z"
   },
   {
    "duration": 11,
    "start_time": "2024-12-02T17:13:22.179Z"
   },
   {
    "duration": 13,
    "start_time": "2024-12-02T17:13:22.191Z"
   },
   {
    "duration": 6,
    "start_time": "2024-12-02T17:13:22.205Z"
   },
   {
    "duration": 22,
    "start_time": "2024-12-02T17:13:22.212Z"
   },
   {
    "duration": 5,
    "start_time": "2024-12-02T17:13:22.236Z"
   },
   {
    "duration": 14,
    "start_time": "2024-12-02T17:13:22.243Z"
   },
   {
    "duration": 383,
    "start_time": "2024-12-02T17:13:22.260Z"
   },
   {
    "duration": 9,
    "start_time": "2024-12-02T17:13:22.645Z"
   },
   {
    "duration": 735,
    "start_time": "2024-12-02T17:13:22.656Z"
   },
   {
    "duration": 5,
    "start_time": "2024-12-02T17:13:23.394Z"
   },
   {
    "duration": 24,
    "start_time": "2024-12-02T17:13:23.400Z"
   },
   {
    "duration": 19,
    "start_time": "2024-12-02T17:13:23.426Z"
   },
   {
    "duration": 21,
    "start_time": "2024-12-02T17:13:23.446Z"
   },
   {
    "duration": 17,
    "start_time": "2024-12-02T17:13:23.468Z"
   },
   {
    "duration": 5,
    "start_time": "2024-12-02T17:13:23.487Z"
   },
   {
    "duration": 7,
    "start_time": "2024-12-02T17:13:23.493Z"
   },
   {
    "duration": 23,
    "start_time": "2024-12-02T17:13:23.501Z"
   },
   {
    "duration": 5,
    "start_time": "2024-12-02T17:13:23.525Z"
   },
   {
    "duration": 5,
    "start_time": "2024-12-02T17:13:23.531Z"
   },
   {
    "duration": 4,
    "start_time": "2024-12-02T17:13:23.537Z"
   },
   {
    "duration": 4,
    "start_time": "2024-12-02T17:13:23.543Z"
   },
   {
    "duration": 4,
    "start_time": "2024-12-02T17:13:23.549Z"
   },
   {
    "duration": 6,
    "start_time": "2024-12-02T17:13:23.555Z"
   },
   {
    "duration": 5,
    "start_time": "2024-12-02T17:13:23.563Z"
   },
   {
    "duration": 15,
    "start_time": "2024-12-02T17:13:23.621Z"
   },
   {
    "duration": 595,
    "start_time": "2024-12-02T17:13:23.638Z"
   },
   {
    "duration": 53069,
    "start_time": "2024-12-02T17:13:24.235Z"
   },
   {
    "duration": 21263,
    "start_time": "2024-12-02T17:14:17.306Z"
   },
   {
    "duration": 0,
    "start_time": "2024-12-02T17:14:38.571Z"
   },
   {
    "duration": 0,
    "start_time": "2024-12-02T17:14:38.572Z"
   },
   {
    "duration": 1554,
    "start_time": "2024-12-02T17:14:55.946Z"
   },
   {
    "duration": 2,
    "start_time": "2024-12-02T17:14:57.503Z"
   },
   {
    "duration": 65,
    "start_time": "2024-12-02T17:14:57.506Z"
   },
   {
    "duration": 12,
    "start_time": "2024-12-02T17:14:57.574Z"
   },
   {
    "duration": 21,
    "start_time": "2024-12-02T17:14:57.588Z"
   },
   {
    "duration": 6,
    "start_time": "2024-12-02T17:14:57.612Z"
   },
   {
    "duration": 24,
    "start_time": "2024-12-02T17:14:57.619Z"
   },
   {
    "duration": 19,
    "start_time": "2024-12-02T17:14:57.645Z"
   },
   {
    "duration": 13,
    "start_time": "2024-12-02T17:14:57.665Z"
   },
   {
    "duration": 403,
    "start_time": "2024-12-02T17:14:57.681Z"
   },
   {
    "duration": 11,
    "start_time": "2024-12-02T17:14:58.085Z"
   },
   {
    "duration": 765,
    "start_time": "2024-12-02T17:14:58.098Z"
   },
   {
    "duration": 5,
    "start_time": "2024-12-02T17:14:58.865Z"
   },
   {
    "duration": 24,
    "start_time": "2024-12-02T17:14:58.871Z"
   },
   {
    "duration": 18,
    "start_time": "2024-12-02T17:14:58.897Z"
   },
   {
    "duration": 12,
    "start_time": "2024-12-02T17:14:58.916Z"
   },
   {
    "duration": 18,
    "start_time": "2024-12-02T17:14:58.930Z"
   },
   {
    "duration": 8,
    "start_time": "2024-12-02T17:14:58.950Z"
   },
   {
    "duration": 6,
    "start_time": "2024-12-02T17:14:58.960Z"
   },
   {
    "duration": 7,
    "start_time": "2024-12-02T17:14:58.968Z"
   },
   {
    "duration": 10,
    "start_time": "2024-12-02T17:14:58.977Z"
   },
   {
    "duration": 37,
    "start_time": "2024-12-02T17:14:58.988Z"
   },
   {
    "duration": 127,
    "start_time": "2024-12-02T17:14:59.028Z"
   },
   {
    "duration": 27,
    "start_time": "2024-12-02T17:14:59.157Z"
   },
   {
    "duration": 33,
    "start_time": "2024-12-02T17:14:59.185Z"
   },
   {
    "duration": 7,
    "start_time": "2024-12-02T17:14:59.220Z"
   },
   {
    "duration": 32,
    "start_time": "2024-12-02T17:14:59.228Z"
   },
   {
    "duration": 20,
    "start_time": "2024-12-02T17:14:59.263Z"
   },
   {
    "duration": 654,
    "start_time": "2024-12-02T17:14:59.284Z"
   },
   {
    "duration": 53141,
    "start_time": "2024-12-02T17:14:59.940Z"
   },
   {
    "duration": 144058,
    "start_time": "2024-12-02T17:15:53.083Z"
   },
   {
    "duration": 577,
    "start_time": "2024-12-02T17:18:17.143Z"
   },
   {
    "duration": 587,
    "start_time": "2024-12-02T17:18:17.722Z"
   },
   {
    "duration": 927646,
    "start_time": "2024-12-02T17:20:20.955Z"
   },
   {
    "duration": 96,
    "start_time": "2024-12-02T17:48:39.170Z"
   },
   {
    "duration": 13,
    "start_time": "2024-12-02T17:50:05.186Z"
   },
   {
    "duration": 6,
    "start_time": "2024-12-02T17:50:46.045Z"
   },
   {
    "duration": 4,
    "start_time": "2024-12-02T17:50:52.700Z"
   },
   {
    "duration": 95,
    "start_time": "2024-12-02T17:51:30.757Z"
   },
   {
    "duration": 52,
    "start_time": "2024-12-02T17:54:14.449Z"
   },
   {
    "duration": 4,
    "start_time": "2024-12-02T17:54:15.048Z"
   },
   {
    "duration": 159,
    "start_time": "2024-12-02T17:54:17.811Z"
   },
   {
    "duration": 4,
    "start_time": "2024-12-02T17:54:18.937Z"
   },
   {
    "duration": 5,
    "start_time": "2024-12-02T17:54:21.092Z"
   },
   {
    "duration": 5,
    "start_time": "2024-12-02T17:54:22.112Z"
   },
   {
    "duration": 11,
    "start_time": "2024-12-02T17:54:23.649Z"
   },
   {
    "duration": 9,
    "start_time": "2024-12-02T17:54:29.005Z"
   },
   {
    "duration": 3,
    "start_time": "2024-12-02T17:54:31.636Z"
   },
   {
    "duration": 13,
    "start_time": "2024-12-02T17:57:33.665Z"
   },
   {
    "duration": 6,
    "start_time": "2024-12-02T17:57:41.075Z"
   },
   {
    "duration": 5,
    "start_time": "2024-12-02T17:57:58.196Z"
   },
   {
    "duration": 9,
    "start_time": "2024-12-02T17:58:17.838Z"
   },
   {
    "duration": 6,
    "start_time": "2024-12-02T17:58:22.752Z"
   },
   {
    "duration": 6,
    "start_time": "2024-12-02T17:58:23.162Z"
   },
   {
    "duration": 5,
    "start_time": "2024-12-02T17:58:23.572Z"
   },
   {
    "duration": 4,
    "start_time": "2024-12-02T17:58:23.916Z"
   },
   {
    "duration": 4,
    "start_time": "2024-12-02T17:58:24.495Z"
   },
   {
    "duration": 4,
    "start_time": "2024-12-02T17:58:25.006Z"
   },
   {
    "duration": 7,
    "start_time": "2024-12-02T18:03:07.684Z"
   },
   {
    "duration": 5,
    "start_time": "2024-12-02T18:03:07.939Z"
   },
   {
    "duration": 5,
    "start_time": "2024-12-02T18:03:08.065Z"
   },
   {
    "duration": 4,
    "start_time": "2024-12-02T18:03:08.267Z"
   },
   {
    "duration": 3,
    "start_time": "2024-12-02T18:03:08.460Z"
   },
   {
    "duration": 3,
    "start_time": "2024-12-02T18:03:08.661Z"
   },
   {
    "duration": 51,
    "start_time": "2024-12-02T18:03:09.169Z"
   },
   {
    "duration": 51,
    "start_time": "2024-12-02T18:03:09.278Z"
   },
   {
    "duration": 51,
    "start_time": "2024-12-02T18:03:09.504Z"
   },
   {
    "duration": 4,
    "start_time": "2024-12-02T18:03:09.783Z"
   },
   {
    "duration": 4,
    "start_time": "2024-12-02T18:03:09.987Z"
   },
   {
    "duration": 4,
    "start_time": "2024-12-02T18:03:10.192Z"
   },
   {
    "duration": 150,
    "start_time": "2024-12-02T18:03:10.704Z"
   },
   {
    "duration": 160,
    "start_time": "2024-12-02T18:03:10.856Z"
   },
   {
    "duration": 156,
    "start_time": "2024-12-02T18:03:11.114Z"
   },
   {
    "duration": 5,
    "start_time": "2024-12-02T18:03:11.319Z"
   },
   {
    "duration": 4,
    "start_time": "2024-12-02T18:03:11.524Z"
   },
   {
    "duration": 4,
    "start_time": "2024-12-02T18:03:13.059Z"
   },
   {
    "duration": 6,
    "start_time": "2024-12-02T18:03:13.777Z"
   },
   {
    "duration": 5,
    "start_time": "2024-12-02T18:03:15.518Z"
   },
   {
    "duration": 5,
    "start_time": "2024-12-02T18:03:15.927Z"
   },
   {
    "duration": 3,
    "start_time": "2024-12-02T18:03:16.338Z"
   },
   {
    "duration": 4,
    "start_time": "2024-12-02T18:03:16.951Z"
   },
   {
    "duration": 4,
    "start_time": "2024-12-02T18:03:17.565Z"
   },
   {
    "duration": 9,
    "start_time": "2024-12-02T18:03:19.921Z"
   },
   {
    "duration": 9,
    "start_time": "2024-12-02T18:03:20.125Z"
   },
   {
    "duration": 11,
    "start_time": "2024-12-02T18:03:20.432Z"
   },
   {
    "duration": 3,
    "start_time": "2024-12-02T18:03:20.740Z"
   },
   {
    "duration": 4,
    "start_time": "2024-12-02T18:03:21.354Z"
   },
   {
    "duration": 4,
    "start_time": "2024-12-02T18:03:21.968Z"
   },
   {
    "duration": 17,
    "start_time": "2024-12-02T18:06:05.021Z"
   },
   {
    "duration": 5,
    "start_time": "2024-12-02T18:06:38.487Z"
   },
   {
    "duration": 5,
    "start_time": "2024-12-02T18:06:45.849Z"
   },
   {
    "duration": 10,
    "start_time": "2024-12-02T18:06:54.758Z"
   },
   {
    "duration": 1660,
    "start_time": "2024-12-02T18:07:23.885Z"
   },
   {
    "duration": 3,
    "start_time": "2024-12-02T18:07:25.547Z"
   },
   {
    "duration": 88,
    "start_time": "2024-12-02T18:07:25.552Z"
   },
   {
    "duration": 10,
    "start_time": "2024-12-02T18:07:25.643Z"
   },
   {
    "duration": 40,
    "start_time": "2024-12-02T18:07:25.655Z"
   },
   {
    "duration": 7,
    "start_time": "2024-12-02T18:07:25.697Z"
   },
   {
    "duration": 17,
    "start_time": "2024-12-02T18:07:25.706Z"
   },
   {
    "duration": 5,
    "start_time": "2024-12-02T18:07:25.724Z"
   },
   {
    "duration": 37,
    "start_time": "2024-12-02T18:07:25.731Z"
   },
   {
    "duration": 428,
    "start_time": "2024-12-02T18:07:25.772Z"
   },
   {
    "duration": 9,
    "start_time": "2024-12-02T18:07:26.202Z"
   },
   {
    "duration": 802,
    "start_time": "2024-12-02T18:07:26.213Z"
   },
   {
    "duration": 5,
    "start_time": "2024-12-02T18:07:27.017Z"
   },
   {
    "duration": 43,
    "start_time": "2024-12-02T18:07:27.024Z"
   },
   {
    "duration": 26,
    "start_time": "2024-12-02T18:07:27.069Z"
   },
   {
    "duration": 10,
    "start_time": "2024-12-02T18:07:27.098Z"
   },
   {
    "duration": 17,
    "start_time": "2024-12-02T18:07:27.109Z"
   },
   {
    "duration": 11,
    "start_time": "2024-12-02T18:07:27.128Z"
   },
   {
    "duration": 17,
    "start_time": "2024-12-02T18:07:27.141Z"
   },
   {
    "duration": 17,
    "start_time": "2024-12-02T18:07:27.160Z"
   },
   {
    "duration": 7,
    "start_time": "2024-12-02T18:07:27.178Z"
   },
   {
    "duration": 8,
    "start_time": "2024-12-02T18:07:27.187Z"
   },
   {
    "duration": 5,
    "start_time": "2024-12-02T18:07:27.196Z"
   },
   {
    "duration": 32,
    "start_time": "2024-12-02T18:07:27.202Z"
   },
   {
    "duration": 5,
    "start_time": "2024-12-02T18:07:27.236Z"
   },
   {
    "duration": 6,
    "start_time": "2024-12-02T18:07:27.243Z"
   },
   {
    "duration": 17,
    "start_time": "2024-12-02T18:07:27.251Z"
   },
   {
    "duration": 93,
    "start_time": "2024-12-02T18:07:27.276Z"
   },
   {
    "duration": 961,
    "start_time": "2024-12-02T18:07:27.372Z"
   },
   {
    "duration": 53371,
    "start_time": "2024-12-02T18:07:28.336Z"
   },
   {
    "duration": 116549,
    "start_time": "2024-12-02T18:08:21.709Z"
   },
   {
    "duration": 2368980,
    "start_time": "2024-12-02T18:10:18.260Z"
   },
   {
    "duration": 113380,
    "start_time": "2024-12-02T18:49:47.242Z"
   },
   {
    "duration": 13,
    "start_time": "2024-12-02T18:51:40.625Z"
   },
   {
    "duration": 81,
    "start_time": "2024-12-02T18:51:40.641Z"
   },
   {
    "duration": 13,
    "start_time": "2024-12-02T18:51:40.725Z"
   },
   {
    "duration": 5,
    "start_time": "2024-12-02T18:51:40.740Z"
   },
   {
    "duration": 7,
    "start_time": "2024-12-02T18:51:40.746Z"
   },
   {
    "duration": 5,
    "start_time": "2024-12-02T18:51:40.755Z"
   },
   {
    "duration": 81,
    "start_time": "2024-12-02T18:51:40.761Z"
   },
   {
    "duration": 50,
    "start_time": "2024-12-02T18:51:40.844Z"
   },
   {
    "duration": 71,
    "start_time": "2024-12-02T18:51:40.896Z"
   },
   {
    "duration": 4,
    "start_time": "2024-12-02T18:51:40.968Z"
   },
   {
    "duration": 15,
    "start_time": "2024-12-02T18:51:40.973Z"
   },
   {
    "duration": 16,
    "start_time": "2024-12-02T18:51:40.989Z"
   },
   {
    "duration": 109,
    "start_time": "2024-12-02T18:51:41.007Z"
   },
   {
    "duration": 87,
    "start_time": "2024-12-02T18:51:41.118Z"
   },
   {
    "duration": 98,
    "start_time": "2024-12-02T18:51:41.206Z"
   },
   {
    "duration": 4,
    "start_time": "2024-12-02T18:51:41.306Z"
   },
   {
    "duration": 5,
    "start_time": "2024-12-02T18:51:41.321Z"
   },
   {
    "duration": 9,
    "start_time": "2024-12-02T18:51:41.331Z"
   },
   {
    "duration": 13,
    "start_time": "2024-12-02T18:51:41.342Z"
   },
   {
    "duration": 66,
    "start_time": "2024-12-02T18:51:41.357Z"
   },
   {
    "duration": 17,
    "start_time": "2024-12-02T18:51:41.425Z"
   },
   {
    "duration": 78,
    "start_time": "2024-12-02T18:51:41.444Z"
   },
   {
    "duration": 6,
    "start_time": "2024-12-02T18:51:41.524Z"
   },
   {
    "duration": 79,
    "start_time": "2024-12-02T18:51:41.532Z"
   },
   {
    "duration": 14,
    "start_time": "2024-12-02T18:51:41.613Z"
   },
   {
    "duration": 12,
    "start_time": "2024-12-02T18:51:41.629Z"
   },
   {
    "duration": 8,
    "start_time": "2024-12-02T18:51:41.643Z"
   },
   {
    "duration": 6,
    "start_time": "2024-12-02T18:51:41.653Z"
   },
   {
    "duration": 5,
    "start_time": "2024-12-02T18:51:41.660Z"
   },
   {
    "duration": 13,
    "start_time": "2024-12-02T18:51:41.666Z"
   },
   {
    "duration": 9,
    "start_time": "2024-12-02T18:51:41.680Z"
   },
   {
    "duration": 15,
    "start_time": "2024-12-02T18:51:41.720Z"
   },
   {
    "duration": 73,
    "start_time": "2024-12-03T07:36:42.784Z"
   },
   {
    "duration": 87,
    "start_time": "2024-12-04T16:08:28.689Z"
   },
   {
    "duration": 57,
    "start_time": "2024-12-04T16:10:26.656Z"
   },
   {
    "duration": 1959,
    "start_time": "2024-12-04T16:10:45.827Z"
   },
   {
    "duration": 3,
    "start_time": "2024-12-04T16:10:47.789Z"
   },
   {
    "duration": 112,
    "start_time": "2024-12-04T16:10:47.793Z"
   },
   {
    "duration": 11,
    "start_time": "2024-12-04T16:10:47.908Z"
   },
   {
    "duration": 81,
    "start_time": "2024-12-04T16:10:47.921Z"
   },
   {
    "duration": 9,
    "start_time": "2024-12-04T16:10:48.004Z"
   },
   {
    "duration": 5,
    "start_time": "2024-12-04T16:10:48.015Z"
   },
   {
    "duration": 10,
    "start_time": "2024-12-04T16:10:48.021Z"
   },
   {
    "duration": 4,
    "start_time": "2024-12-04T16:10:48.033Z"
   },
   {
    "duration": 405,
    "start_time": "2024-12-04T16:10:48.040Z"
   },
   {
    "duration": 9,
    "start_time": "2024-12-04T16:10:48.450Z"
   },
   {
    "duration": 779,
    "start_time": "2024-12-04T16:10:48.460Z"
   },
   {
    "duration": 8,
    "start_time": "2024-12-04T16:10:49.241Z"
   },
   {
    "duration": 131,
    "start_time": "2024-12-04T16:10:49.251Z"
   },
   {
    "duration": 0,
    "start_time": "2024-12-04T16:10:49.385Z"
   },
   {
    "duration": 0,
    "start_time": "2024-12-04T16:10:49.387Z"
   },
   {
    "duration": 0,
    "start_time": "2024-12-04T16:10:49.388Z"
   },
   {
    "duration": 0,
    "start_time": "2024-12-04T16:10:49.390Z"
   },
   {
    "duration": 0,
    "start_time": "2024-12-04T16:10:49.391Z"
   },
   {
    "duration": 0,
    "start_time": "2024-12-04T16:10:49.393Z"
   },
   {
    "duration": 0,
    "start_time": "2024-12-04T16:10:49.394Z"
   },
   {
    "duration": 0,
    "start_time": "2024-12-04T16:10:49.396Z"
   },
   {
    "duration": 0,
    "start_time": "2024-12-04T16:10:49.397Z"
   },
   {
    "duration": 0,
    "start_time": "2024-12-04T16:10:49.398Z"
   },
   {
    "duration": 0,
    "start_time": "2024-12-04T16:10:49.399Z"
   },
   {
    "duration": 1,
    "start_time": "2024-12-04T16:10:49.400Z"
   },
   {
    "duration": 0,
    "start_time": "2024-12-04T16:10:49.402Z"
   },
   {
    "duration": 0,
    "start_time": "2024-12-04T16:10:49.403Z"
   },
   {
    "duration": 0,
    "start_time": "2024-12-04T16:10:49.404Z"
   },
   {
    "duration": 0,
    "start_time": "2024-12-04T16:10:49.405Z"
   },
   {
    "duration": 0,
    "start_time": "2024-12-04T16:10:49.406Z"
   },
   {
    "duration": 0,
    "start_time": "2024-12-04T16:10:49.450Z"
   },
   {
    "duration": 0,
    "start_time": "2024-12-04T16:10:49.453Z"
   },
   {
    "duration": 0,
    "start_time": "2024-12-04T16:10:49.454Z"
   },
   {
    "duration": 0,
    "start_time": "2024-12-04T16:10:49.456Z"
   },
   {
    "duration": 0,
    "start_time": "2024-12-04T16:10:49.457Z"
   },
   {
    "duration": 0,
    "start_time": "2024-12-04T16:10:49.459Z"
   },
   {
    "duration": 0,
    "start_time": "2024-12-04T16:10:49.461Z"
   },
   {
    "duration": 0,
    "start_time": "2024-12-04T16:10:49.463Z"
   },
   {
    "duration": 0,
    "start_time": "2024-12-04T16:10:49.465Z"
   },
   {
    "duration": 0,
    "start_time": "2024-12-04T16:10:49.467Z"
   },
   {
    "duration": 0,
    "start_time": "2024-12-04T16:10:49.469Z"
   },
   {
    "duration": 0,
    "start_time": "2024-12-04T16:10:49.470Z"
   },
   {
    "duration": 0,
    "start_time": "2024-12-04T16:10:49.471Z"
   },
   {
    "duration": 0,
    "start_time": "2024-12-04T16:10:49.472Z"
   },
   {
    "duration": 0,
    "start_time": "2024-12-04T16:10:49.475Z"
   },
   {
    "duration": 0,
    "start_time": "2024-12-04T16:10:49.477Z"
   },
   {
    "duration": 0,
    "start_time": "2024-12-04T16:10:49.478Z"
   },
   {
    "duration": 0,
    "start_time": "2024-12-04T16:10:49.479Z"
   },
   {
    "duration": 0,
    "start_time": "2024-12-04T16:10:49.480Z"
   },
   {
    "duration": 0,
    "start_time": "2024-12-04T16:10:49.482Z"
   },
   {
    "duration": 0,
    "start_time": "2024-12-04T16:10:49.483Z"
   },
   {
    "duration": 0,
    "start_time": "2024-12-04T16:10:49.484Z"
   },
   {
    "duration": 0,
    "start_time": "2024-12-04T16:10:49.486Z"
   },
   {
    "duration": 0,
    "start_time": "2024-12-04T16:10:49.487Z"
   },
   {
    "duration": 0,
    "start_time": "2024-12-04T16:10:49.488Z"
   },
   {
    "duration": 0,
    "start_time": "2024-12-04T16:10:49.489Z"
   },
   {
    "duration": 0,
    "start_time": "2024-12-04T16:10:49.490Z"
   },
   {
    "duration": 0,
    "start_time": "2024-12-04T16:10:49.491Z"
   },
   {
    "duration": 0,
    "start_time": "2024-12-04T16:10:49.550Z"
   },
   {
    "duration": 0,
    "start_time": "2024-12-04T16:10:49.551Z"
   },
   {
    "duration": 0,
    "start_time": "2024-12-04T16:10:49.553Z"
   },
   {
    "duration": 0,
    "start_time": "2024-12-04T16:10:49.554Z"
   },
   {
    "duration": 0,
    "start_time": "2024-12-04T16:10:49.555Z"
   },
   {
    "duration": 0,
    "start_time": "2024-12-04T16:10:49.556Z"
   },
   {
    "duration": 0,
    "start_time": "2024-12-04T16:10:49.557Z"
   },
   {
    "duration": 0,
    "start_time": "2024-12-04T16:10:49.558Z"
   },
   {
    "duration": 1666,
    "start_time": "2024-12-04T16:10:59.130Z"
   },
   {
    "duration": 3,
    "start_time": "2024-12-04T16:11:00.798Z"
   },
   {
    "duration": 84,
    "start_time": "2024-12-04T16:11:00.803Z"
   },
   {
    "duration": 12,
    "start_time": "2024-12-04T16:11:00.889Z"
   },
   {
    "duration": 50,
    "start_time": "2024-12-04T16:11:00.903Z"
   },
   {
    "duration": 13,
    "start_time": "2024-12-04T16:11:00.955Z"
   },
   {
    "duration": 32,
    "start_time": "2024-12-04T16:11:00.970Z"
   },
   {
    "duration": 30,
    "start_time": "2024-12-04T16:11:01.004Z"
   },
   {
    "duration": 19,
    "start_time": "2024-12-04T16:11:01.036Z"
   },
   {
    "duration": 514,
    "start_time": "2024-12-04T16:11:01.059Z"
   },
   {
    "duration": 10,
    "start_time": "2024-12-04T16:11:01.575Z"
   },
   {
    "duration": 893,
    "start_time": "2024-12-04T16:11:01.586Z"
   },
   {
    "duration": 7,
    "start_time": "2024-12-04T16:11:02.481Z"
   },
   {
    "duration": 169,
    "start_time": "2024-12-04T16:11:02.490Z"
   },
   {
    "duration": 0,
    "start_time": "2024-12-04T16:11:02.662Z"
   },
   {
    "duration": 0,
    "start_time": "2024-12-04T16:11:02.664Z"
   },
   {
    "duration": 0,
    "start_time": "2024-12-04T16:11:02.665Z"
   },
   {
    "duration": 0,
    "start_time": "2024-12-04T16:11:02.667Z"
   },
   {
    "duration": 0,
    "start_time": "2024-12-04T16:11:02.668Z"
   },
   {
    "duration": 0,
    "start_time": "2024-12-04T16:11:02.669Z"
   },
   {
    "duration": 0,
    "start_time": "2024-12-04T16:11:02.670Z"
   },
   {
    "duration": 0,
    "start_time": "2024-12-04T16:11:02.671Z"
   },
   {
    "duration": 0,
    "start_time": "2024-12-04T16:11:02.673Z"
   },
   {
    "duration": 0,
    "start_time": "2024-12-04T16:11:02.674Z"
   },
   {
    "duration": 0,
    "start_time": "2024-12-04T16:11:02.675Z"
   },
   {
    "duration": 0,
    "start_time": "2024-12-04T16:11:02.676Z"
   },
   {
    "duration": 0,
    "start_time": "2024-12-04T16:11:02.677Z"
   },
   {
    "duration": 0,
    "start_time": "2024-12-04T16:11:02.680Z"
   },
   {
    "duration": 0,
    "start_time": "2024-12-04T16:11:02.682Z"
   },
   {
    "duration": 0,
    "start_time": "2024-12-04T16:11:02.683Z"
   },
   {
    "duration": 0,
    "start_time": "2024-12-04T16:11:02.684Z"
   },
   {
    "duration": 0,
    "start_time": "2024-12-04T16:11:02.685Z"
   },
   {
    "duration": 0,
    "start_time": "2024-12-04T16:11:02.686Z"
   },
   {
    "duration": 0,
    "start_time": "2024-12-04T16:11:02.688Z"
   },
   {
    "duration": 0,
    "start_time": "2024-12-04T16:11:02.689Z"
   },
   {
    "duration": 0,
    "start_time": "2024-12-04T16:11:02.690Z"
   },
   {
    "duration": 0,
    "start_time": "2024-12-04T16:11:02.691Z"
   },
   {
    "duration": 0,
    "start_time": "2024-12-04T16:11:02.693Z"
   },
   {
    "duration": 0,
    "start_time": "2024-12-04T16:11:02.694Z"
   },
   {
    "duration": 0,
    "start_time": "2024-12-04T16:11:02.750Z"
   },
   {
    "duration": 0,
    "start_time": "2024-12-04T16:11:02.751Z"
   },
   {
    "duration": 0,
    "start_time": "2024-12-04T16:11:02.752Z"
   },
   {
    "duration": 0,
    "start_time": "2024-12-04T16:11:02.754Z"
   },
   {
    "duration": 0,
    "start_time": "2024-12-04T16:11:02.755Z"
   },
   {
    "duration": 0,
    "start_time": "2024-12-04T16:11:02.756Z"
   },
   {
    "duration": 0,
    "start_time": "2024-12-04T16:11:02.757Z"
   },
   {
    "duration": 0,
    "start_time": "2024-12-04T16:11:02.758Z"
   },
   {
    "duration": 0,
    "start_time": "2024-12-04T16:11:02.759Z"
   },
   {
    "duration": 0,
    "start_time": "2024-12-04T16:11:02.760Z"
   },
   {
    "duration": 0,
    "start_time": "2024-12-04T16:11:02.761Z"
   },
   {
    "duration": 0,
    "start_time": "2024-12-04T16:11:02.762Z"
   },
   {
    "duration": 0,
    "start_time": "2024-12-04T16:11:02.763Z"
   },
   {
    "duration": 0,
    "start_time": "2024-12-04T16:11:02.764Z"
   },
   {
    "duration": 0,
    "start_time": "2024-12-04T16:11:02.766Z"
   },
   {
    "duration": 0,
    "start_time": "2024-12-04T16:11:02.767Z"
   },
   {
    "duration": 0,
    "start_time": "2024-12-04T16:11:02.768Z"
   },
   {
    "duration": 0,
    "start_time": "2024-12-04T16:11:02.769Z"
   },
   {
    "duration": 0,
    "start_time": "2024-12-04T16:11:02.770Z"
   },
   {
    "duration": 0,
    "start_time": "2024-12-04T16:11:02.771Z"
   },
   {
    "duration": 0,
    "start_time": "2024-12-04T16:11:02.772Z"
   },
   {
    "duration": 0,
    "start_time": "2024-12-04T16:11:02.773Z"
   },
   {
    "duration": 0,
    "start_time": "2024-12-04T16:11:02.774Z"
   },
   {
    "duration": 0,
    "start_time": "2024-12-04T16:11:02.776Z"
   },
   {
    "duration": 0,
    "start_time": "2024-12-04T16:11:02.777Z"
   },
   {
    "duration": 0,
    "start_time": "2024-12-04T16:11:02.778Z"
   },
   {
    "duration": 0,
    "start_time": "2024-12-04T16:11:02.779Z"
   },
   {
    "duration": 0,
    "start_time": "2024-12-04T16:11:02.780Z"
   },
   {
    "duration": 751,
    "start_time": "2024-12-04T16:12:00.865Z"
   },
   {
    "duration": 930,
    "start_time": "2024-12-04T16:12:18.886Z"
   },
   {
    "duration": 10,
    "start_time": "2024-12-04T16:16:50.456Z"
   },
   {
    "duration": 554,
    "start_time": "2024-12-04T16:16:51.368Z"
   },
   {
    "duration": 9,
    "start_time": "2024-12-04T16:17:13.495Z"
   },
   {
    "duration": 583,
    "start_time": "2024-12-04T16:17:15.134Z"
   },
   {
    "duration": 1710,
    "start_time": "2024-12-04T16:18:35.126Z"
   },
   {
    "duration": 3,
    "start_time": "2024-12-04T16:18:36.838Z"
   },
   {
    "duration": 72,
    "start_time": "2024-12-04T16:18:36.843Z"
   },
   {
    "duration": 11,
    "start_time": "2024-12-04T16:18:36.917Z"
   },
   {
    "duration": 11,
    "start_time": "2024-12-04T16:18:36.930Z"
   },
   {
    "duration": 5,
    "start_time": "2024-12-04T16:18:36.943Z"
   },
   {
    "duration": 5,
    "start_time": "2024-12-04T16:18:36.951Z"
   },
   {
    "duration": 5,
    "start_time": "2024-12-04T16:18:36.958Z"
   },
   {
    "duration": 6,
    "start_time": "2024-12-04T16:18:36.965Z"
   },
   {
    "duration": 561,
    "start_time": "2024-12-04T16:18:36.974Z"
   },
   {
    "duration": 20,
    "start_time": "2024-12-04T16:18:37.537Z"
   },
   {
    "duration": 787,
    "start_time": "2024-12-04T16:18:37.559Z"
   },
   {
    "duration": 10,
    "start_time": "2024-12-04T16:18:38.348Z"
   },
   {
    "duration": 763,
    "start_time": "2024-12-04T16:18:38.359Z"
   },
   {
    "duration": 12,
    "start_time": "2024-12-04T16:18:39.124Z"
   },
   {
    "duration": 591,
    "start_time": "2024-12-04T16:18:39.151Z"
   },
   {
    "duration": 137,
    "start_time": "2024-12-04T16:18:39.744Z"
   },
   {
    "duration": 0,
    "start_time": "2024-12-04T16:18:39.885Z"
   },
   {
    "duration": 0,
    "start_time": "2024-12-04T16:18:39.887Z"
   },
   {
    "duration": 0,
    "start_time": "2024-12-04T16:18:39.888Z"
   },
   {
    "duration": 0,
    "start_time": "2024-12-04T16:18:39.890Z"
   },
   {
    "duration": 0,
    "start_time": "2024-12-04T16:18:39.892Z"
   },
   {
    "duration": 0,
    "start_time": "2024-12-04T16:18:39.893Z"
   },
   {
    "duration": 0,
    "start_time": "2024-12-04T16:18:39.895Z"
   },
   {
    "duration": 0,
    "start_time": "2024-12-04T16:18:39.897Z"
   },
   {
    "duration": 0,
    "start_time": "2024-12-04T16:18:39.898Z"
   },
   {
    "duration": 0,
    "start_time": "2024-12-04T16:18:39.899Z"
   },
   {
    "duration": 0,
    "start_time": "2024-12-04T16:18:39.901Z"
   },
   {
    "duration": 0,
    "start_time": "2024-12-04T16:18:39.902Z"
   },
   {
    "duration": 0,
    "start_time": "2024-12-04T16:18:39.904Z"
   },
   {
    "duration": 0,
    "start_time": "2024-12-04T16:18:39.905Z"
   },
   {
    "duration": 0,
    "start_time": "2024-12-04T16:18:39.907Z"
   },
   {
    "duration": 0,
    "start_time": "2024-12-04T16:18:39.908Z"
   },
   {
    "duration": 0,
    "start_time": "2024-12-04T16:18:39.909Z"
   },
   {
    "duration": 0,
    "start_time": "2024-12-04T16:18:39.950Z"
   },
   {
    "duration": 0,
    "start_time": "2024-12-04T16:18:39.952Z"
   },
   {
    "duration": 0,
    "start_time": "2024-12-04T16:18:39.954Z"
   },
   {
    "duration": 0,
    "start_time": "2024-12-04T16:18:39.955Z"
   },
   {
    "duration": 0,
    "start_time": "2024-12-04T16:18:39.956Z"
   },
   {
    "duration": 0,
    "start_time": "2024-12-04T16:18:39.958Z"
   },
   {
    "duration": 0,
    "start_time": "2024-12-04T16:18:39.960Z"
   },
   {
    "duration": 0,
    "start_time": "2024-12-04T16:18:39.962Z"
   },
   {
    "duration": 0,
    "start_time": "2024-12-04T16:18:39.964Z"
   },
   {
    "duration": 0,
    "start_time": "2024-12-04T16:18:39.965Z"
   },
   {
    "duration": 0,
    "start_time": "2024-12-04T16:18:39.967Z"
   },
   {
    "duration": 0,
    "start_time": "2024-12-04T16:18:39.968Z"
   },
   {
    "duration": 0,
    "start_time": "2024-12-04T16:18:39.970Z"
   },
   {
    "duration": 0,
    "start_time": "2024-12-04T16:18:39.971Z"
   },
   {
    "duration": 1,
    "start_time": "2024-12-04T16:18:39.972Z"
   },
   {
    "duration": 0,
    "start_time": "2024-12-04T16:18:39.974Z"
   },
   {
    "duration": 0,
    "start_time": "2024-12-04T16:18:39.975Z"
   },
   {
    "duration": 0,
    "start_time": "2024-12-04T16:18:39.976Z"
   },
   {
    "duration": 0,
    "start_time": "2024-12-04T16:18:39.977Z"
   },
   {
    "duration": 0,
    "start_time": "2024-12-04T16:18:39.978Z"
   },
   {
    "duration": 0,
    "start_time": "2024-12-04T16:18:39.980Z"
   },
   {
    "duration": 0,
    "start_time": "2024-12-04T16:18:39.981Z"
   },
   {
    "duration": 0,
    "start_time": "2024-12-04T16:18:39.982Z"
   },
   {
    "duration": 0,
    "start_time": "2024-12-04T16:18:39.983Z"
   },
   {
    "duration": 0,
    "start_time": "2024-12-04T16:18:39.984Z"
   },
   {
    "duration": 0,
    "start_time": "2024-12-04T16:18:39.985Z"
   },
   {
    "duration": 0,
    "start_time": "2024-12-04T16:18:40.050Z"
   },
   {
    "duration": 1,
    "start_time": "2024-12-04T16:18:40.051Z"
   },
   {
    "duration": 0,
    "start_time": "2024-12-04T16:18:40.053Z"
   },
   {
    "duration": 0,
    "start_time": "2024-12-04T16:18:40.054Z"
   },
   {
    "duration": 0,
    "start_time": "2024-12-04T16:18:40.055Z"
   },
   {
    "duration": 0,
    "start_time": "2024-12-04T16:18:40.057Z"
   },
   {
    "duration": 0,
    "start_time": "2024-12-04T16:18:40.058Z"
   },
   {
    "duration": 1,
    "start_time": "2024-12-04T16:18:40.059Z"
   },
   {
    "duration": 0,
    "start_time": "2024-12-04T16:18:40.060Z"
   },
   {
    "duration": 0,
    "start_time": "2024-12-04T16:18:40.062Z"
   },
   {
    "duration": 13,
    "start_time": "2024-12-04T16:23:13.743Z"
   },
   {
    "duration": 940,
    "start_time": "2024-12-04T16:23:14.154Z"
   },
   {
    "duration": 758,
    "start_time": "2024-12-04T16:23:25.519Z"
   },
   {
    "duration": 812,
    "start_time": "2024-12-04T16:23:32.278Z"
   },
   {
    "duration": 776,
    "start_time": "2024-12-04T16:23:38.666Z"
   },
   {
    "duration": 316,
    "start_time": "2024-12-04T16:27:55.653Z"
   },
   {
    "duration": 198,
    "start_time": "2024-12-04T16:28:00.415Z"
   },
   {
    "duration": 226,
    "start_time": "2024-12-04T16:28:14.740Z"
   },
   {
    "duration": 209,
    "start_time": "2024-12-04T16:29:14.604Z"
   },
   {
    "duration": 209,
    "start_time": "2024-12-04T16:30:11.232Z"
   },
   {
    "duration": 198,
    "start_time": "2024-12-04T16:30:16.454Z"
   },
   {
    "duration": 192,
    "start_time": "2024-12-04T16:30:20.960Z"
   },
   {
    "duration": 243,
    "start_time": "2024-12-04T16:30:24.953Z"
   },
   {
    "duration": 237,
    "start_time": "2024-12-04T16:30:29.152Z"
   },
   {
    "duration": 229,
    "start_time": "2024-12-04T16:30:39.085Z"
   },
   {
    "duration": 82,
    "start_time": "2024-12-04T16:37:06.673Z"
   },
   {
    "duration": 4,
    "start_time": "2024-12-04T16:40:48.678Z"
   },
   {
    "duration": 11,
    "start_time": "2024-12-04T16:43:47.573Z"
   },
   {
    "duration": 309,
    "start_time": "2024-12-04T16:43:55.150Z"
   },
   {
    "duration": 53,
    "start_time": "2024-12-04T16:44:02.030Z"
   },
   {
    "duration": 16,
    "start_time": "2024-12-04T16:47:16.355Z"
   },
   {
    "duration": 265,
    "start_time": "2024-12-04T16:49:24.268Z"
   },
   {
    "duration": 17,
    "start_time": "2024-12-04T16:50:06.882Z"
   },
   {
    "duration": 24,
    "start_time": "2024-12-04T16:50:17.416Z"
   },
   {
    "duration": 376,
    "start_time": "2024-12-04T16:50:27.411Z"
   },
   {
    "duration": 369,
    "start_time": "2024-12-04T16:50:32.467Z"
   },
   {
    "duration": 343,
    "start_time": "2024-12-04T16:50:38.611Z"
   },
   {
    "duration": 265,
    "start_time": "2024-12-04T16:51:55.105Z"
   },
   {
    "duration": 118,
    "start_time": "2024-12-04T16:52:10.568Z"
   },
   {
    "duration": 237,
    "start_time": "2024-12-04T16:52:19.374Z"
   },
   {
    "duration": 47,
    "start_time": "2024-12-05T12:13:15.607Z"
   },
   {
    "duration": 2132,
    "start_time": "2024-12-05T12:13:23.494Z"
   },
   {
    "duration": 111,
    "start_time": "2024-12-05T12:13:33.015Z"
   },
   {
    "duration": 1809,
    "start_time": "2024-12-05T12:13:47.252Z"
   },
   {
    "duration": 2,
    "start_time": "2024-12-05T12:13:49.063Z"
   },
   {
    "duration": 168,
    "start_time": "2024-12-05T12:13:49.066Z"
   },
   {
    "duration": 10,
    "start_time": "2024-12-05T12:13:49.236Z"
   },
   {
    "duration": 12,
    "start_time": "2024-12-05T12:13:49.248Z"
   },
   {
    "duration": 4,
    "start_time": "2024-12-05T12:13:49.261Z"
   },
   {
    "duration": 7,
    "start_time": "2024-12-05T12:13:49.266Z"
   },
   {
    "duration": 4,
    "start_time": "2024-12-05T12:13:49.275Z"
   },
   {
    "duration": 6,
    "start_time": "2024-12-05T12:13:49.281Z"
   },
   {
    "duration": 369,
    "start_time": "2024-12-05T12:13:49.301Z"
   },
   {
    "duration": 8,
    "start_time": "2024-12-05T12:13:49.671Z"
   },
   {
    "duration": 707,
    "start_time": "2024-12-05T12:13:49.681Z"
   },
   {
    "duration": 8,
    "start_time": "2024-12-05T12:13:50.390Z"
   },
   {
    "duration": 850,
    "start_time": "2024-12-05T12:13:50.402Z"
   },
   {
    "duration": 242,
    "start_time": "2024-12-05T12:13:51.254Z"
   },
   {
    "duration": 5,
    "start_time": "2024-12-05T12:13:51.497Z"
   },
   {
    "duration": 36,
    "start_time": "2024-12-05T12:13:51.504Z"
   },
   {
    "duration": 243,
    "start_time": "2024-12-05T12:13:51.542Z"
   },
   {
    "duration": 0,
    "start_time": "2024-12-05T12:13:51.791Z"
   },
   {
    "duration": 0,
    "start_time": "2024-12-05T12:13:51.793Z"
   },
   {
    "duration": 0,
    "start_time": "2024-12-05T12:13:51.794Z"
   },
   {
    "duration": 0,
    "start_time": "2024-12-05T12:13:51.796Z"
   },
   {
    "duration": 0,
    "start_time": "2024-12-05T12:13:51.797Z"
   },
   {
    "duration": 0,
    "start_time": "2024-12-05T12:13:51.799Z"
   },
   {
    "duration": 0,
    "start_time": "2024-12-05T12:13:51.800Z"
   },
   {
    "duration": 0,
    "start_time": "2024-12-05T12:13:51.802Z"
   },
   {
    "duration": 0,
    "start_time": "2024-12-05T12:13:51.804Z"
   },
   {
    "duration": 0,
    "start_time": "2024-12-05T12:13:51.805Z"
   },
   {
    "duration": 0,
    "start_time": "2024-12-05T12:13:51.806Z"
   },
   {
    "duration": 0,
    "start_time": "2024-12-05T12:13:51.808Z"
   },
   {
    "duration": 0,
    "start_time": "2024-12-05T12:13:51.809Z"
   },
   {
    "duration": 0,
    "start_time": "2024-12-05T12:13:51.811Z"
   },
   {
    "duration": 0,
    "start_time": "2024-12-05T12:13:51.813Z"
   },
   {
    "duration": 0,
    "start_time": "2024-12-05T12:13:51.814Z"
   },
   {
    "duration": 0,
    "start_time": "2024-12-05T12:13:51.816Z"
   },
   {
    "duration": 0,
    "start_time": "2024-12-05T12:13:51.817Z"
   },
   {
    "duration": 0,
    "start_time": "2024-12-05T12:13:51.818Z"
   },
   {
    "duration": 0,
    "start_time": "2024-12-05T12:13:51.820Z"
   },
   {
    "duration": 0,
    "start_time": "2024-12-05T12:13:51.821Z"
   },
   {
    "duration": 0,
    "start_time": "2024-12-05T12:13:51.823Z"
   },
   {
    "duration": 0,
    "start_time": "2024-12-05T12:13:51.824Z"
   },
   {
    "duration": 0,
    "start_time": "2024-12-05T12:13:51.826Z"
   },
   {
    "duration": 0,
    "start_time": "2024-12-05T12:13:51.827Z"
   },
   {
    "duration": 0,
    "start_time": "2024-12-05T12:13:51.828Z"
   },
   {
    "duration": 0,
    "start_time": "2024-12-05T12:13:51.830Z"
   },
   {
    "duration": 0,
    "start_time": "2024-12-05T12:13:51.892Z"
   },
   {
    "duration": 0,
    "start_time": "2024-12-05T12:13:51.893Z"
   },
   {
    "duration": 0,
    "start_time": "2024-12-05T12:13:51.894Z"
   },
   {
    "duration": 0,
    "start_time": "2024-12-05T12:13:51.895Z"
   },
   {
    "duration": 0,
    "start_time": "2024-12-05T12:13:51.897Z"
   },
   {
    "duration": 0,
    "start_time": "2024-12-05T12:13:51.898Z"
   },
   {
    "duration": 0,
    "start_time": "2024-12-05T12:13:51.900Z"
   },
   {
    "duration": 0,
    "start_time": "2024-12-05T12:13:51.902Z"
   },
   {
    "duration": 0,
    "start_time": "2024-12-05T12:13:51.903Z"
   },
   {
    "duration": 0,
    "start_time": "2024-12-05T12:13:51.904Z"
   },
   {
    "duration": 0,
    "start_time": "2024-12-05T12:13:51.906Z"
   },
   {
    "duration": 0,
    "start_time": "2024-12-05T12:13:51.907Z"
   },
   {
    "duration": 0,
    "start_time": "2024-12-05T12:13:51.909Z"
   },
   {
    "duration": 0,
    "start_time": "2024-12-05T12:13:51.910Z"
   },
   {
    "duration": 0,
    "start_time": "2024-12-05T12:13:51.912Z"
   },
   {
    "duration": 0,
    "start_time": "2024-12-05T12:13:51.915Z"
   },
   {
    "duration": 0,
    "start_time": "2024-12-05T12:13:51.917Z"
   },
   {
    "duration": 0,
    "start_time": "2024-12-05T12:13:51.917Z"
   },
   {
    "duration": 0,
    "start_time": "2024-12-05T12:13:51.919Z"
   },
   {
    "duration": 0,
    "start_time": "2024-12-05T12:13:51.920Z"
   },
   {
    "duration": 0,
    "start_time": "2024-12-05T12:13:51.920Z"
   },
   {
    "duration": 0,
    "start_time": "2024-12-05T12:13:51.921Z"
   },
   {
    "duration": 0,
    "start_time": "2024-12-05T12:13:51.922Z"
   },
   {
    "duration": 0,
    "start_time": "2024-12-05T12:13:51.924Z"
   },
   {
    "duration": 0,
    "start_time": "2024-12-05T12:13:51.925Z"
   },
   {
    "duration": 15,
    "start_time": "2024-12-05T12:16:18.510Z"
   },
   {
    "duration": 1146,
    "start_time": "2024-12-05T12:17:00.175Z"
   },
   {
    "duration": 21,
    "start_time": "2024-12-05T12:17:15.228Z"
   },
   {
    "duration": 15,
    "start_time": "2024-12-05T12:18:13.597Z"
   },
   {
    "duration": 4,
    "start_time": "2024-12-05T12:19:27.428Z"
   },
   {
    "duration": 4,
    "start_time": "2024-12-05T12:20:09.924Z"
   },
   {
    "duration": 6,
    "start_time": "2024-12-05T12:20:46.173Z"
   },
   {
    "duration": 15,
    "start_time": "2024-12-05T12:20:47.300Z"
   },
   {
    "duration": 110,
    "start_time": "2024-12-05T12:20:52.933Z"
   },
   {
    "duration": 4,
    "start_time": "2024-12-05T12:21:09.931Z"
   },
   {
    "duration": 4,
    "start_time": "2024-12-05T12:21:18.635Z"
   },
   {
    "duration": 5,
    "start_time": "2024-12-05T12:22:22.943Z"
   },
   {
    "duration": 11,
    "start_time": "2024-12-05T12:23:20.185Z"
   },
   {
    "duration": 113,
    "start_time": "2024-12-05T12:23:26.022Z"
   },
   {
    "duration": 114,
    "start_time": "2024-12-05T12:23:53.261Z"
   },
   {
    "duration": 121,
    "start_time": "2024-12-05T12:24:02.989Z"
   },
   {
    "duration": 119,
    "start_time": "2024-12-05T12:25:14.874Z"
   },
   {
    "duration": 117,
    "start_time": "2024-12-05T12:25:53.786Z"
   },
   {
    "duration": 107,
    "start_time": "2024-12-05T12:26:26.554Z"
   },
   {
    "duration": 110,
    "start_time": "2024-12-05T12:26:38.945Z"
   },
   {
    "duration": 117,
    "start_time": "2024-12-05T12:26:47.446Z"
   },
   {
    "duration": 134,
    "start_time": "2024-12-05T12:28:37.423Z"
   },
   {
    "duration": 126,
    "start_time": "2024-12-05T12:28:59.132Z"
   },
   {
    "duration": 124,
    "start_time": "2024-12-05T12:29:03.025Z"
   },
   {
    "duration": 115,
    "start_time": "2024-12-05T12:55:55.838Z"
   },
   {
    "duration": 1748,
    "start_time": "2024-12-05T12:56:11.732Z"
   },
   {
    "duration": 2,
    "start_time": "2024-12-05T12:56:13.482Z"
   },
   {
    "duration": 56,
    "start_time": "2024-12-05T12:56:13.486Z"
   },
   {
    "duration": 13,
    "start_time": "2024-12-05T12:56:13.545Z"
   },
   {
    "duration": 13,
    "start_time": "2024-12-05T12:56:13.559Z"
   },
   {
    "duration": 4,
    "start_time": "2024-12-05T12:56:13.574Z"
   },
   {
    "duration": 5,
    "start_time": "2024-12-05T12:56:13.591Z"
   },
   {
    "duration": 14,
    "start_time": "2024-12-05T12:56:13.597Z"
   },
   {
    "duration": 4,
    "start_time": "2024-12-05T12:56:13.613Z"
   },
   {
    "duration": 386,
    "start_time": "2024-12-05T12:56:13.619Z"
   },
   {
    "duration": 9,
    "start_time": "2024-12-05T12:56:14.006Z"
   },
   {
    "duration": 631,
    "start_time": "2024-12-05T12:56:14.017Z"
   },
   {
    "duration": 7,
    "start_time": "2024-12-05T12:56:14.650Z"
   },
   {
    "duration": 780,
    "start_time": "2024-12-05T12:56:14.658Z"
   },
   {
    "duration": 215,
    "start_time": "2024-12-05T12:56:15.440Z"
   },
   {
    "duration": 4,
    "start_time": "2024-12-05T12:56:15.656Z"
   },
   {
    "duration": 18,
    "start_time": "2024-12-05T12:56:15.661Z"
   },
   {
    "duration": 142,
    "start_time": "2024-12-05T12:56:15.680Z"
   },
   {
    "duration": 0,
    "start_time": "2024-12-05T12:56:15.825Z"
   },
   {
    "duration": 0,
    "start_time": "2024-12-05T12:56:15.827Z"
   },
   {
    "duration": 0,
    "start_time": "2024-12-05T12:56:15.828Z"
   },
   {
    "duration": 0,
    "start_time": "2024-12-05T12:56:15.829Z"
   },
   {
    "duration": 0,
    "start_time": "2024-12-05T12:56:15.831Z"
   },
   {
    "duration": 0,
    "start_time": "2024-12-05T12:56:15.832Z"
   },
   {
    "duration": 0,
    "start_time": "2024-12-05T12:56:15.833Z"
   },
   {
    "duration": 0,
    "start_time": "2024-12-05T12:56:15.834Z"
   },
   {
    "duration": 0,
    "start_time": "2024-12-05T12:56:15.835Z"
   },
   {
    "duration": 0,
    "start_time": "2024-12-05T12:56:15.836Z"
   },
   {
    "duration": 0,
    "start_time": "2024-12-05T12:56:15.837Z"
   },
   {
    "duration": 0,
    "start_time": "2024-12-05T12:56:15.838Z"
   },
   {
    "duration": 0,
    "start_time": "2024-12-05T12:56:15.839Z"
   },
   {
    "duration": 0,
    "start_time": "2024-12-05T12:56:15.840Z"
   },
   {
    "duration": 0,
    "start_time": "2024-12-05T12:56:15.841Z"
   },
   {
    "duration": 0,
    "start_time": "2024-12-05T12:56:15.842Z"
   },
   {
    "duration": 0,
    "start_time": "2024-12-05T12:56:15.843Z"
   },
   {
    "duration": 0,
    "start_time": "2024-12-05T12:56:15.843Z"
   },
   {
    "duration": 0,
    "start_time": "2024-12-05T12:56:15.844Z"
   },
   {
    "duration": 0,
    "start_time": "2024-12-05T12:56:15.845Z"
   },
   {
    "duration": 0,
    "start_time": "2024-12-05T12:56:15.846Z"
   },
   {
    "duration": 0,
    "start_time": "2024-12-05T12:56:15.847Z"
   },
   {
    "duration": 0,
    "start_time": "2024-12-05T12:56:15.848Z"
   },
   {
    "duration": 0,
    "start_time": "2024-12-05T12:56:15.849Z"
   },
   {
    "duration": 0,
    "start_time": "2024-12-05T12:56:15.892Z"
   },
   {
    "duration": 0,
    "start_time": "2024-12-05T12:56:15.893Z"
   },
   {
    "duration": 0,
    "start_time": "2024-12-05T12:56:15.894Z"
   },
   {
    "duration": 0,
    "start_time": "2024-12-05T12:56:15.895Z"
   },
   {
    "duration": 0,
    "start_time": "2024-12-05T12:56:15.896Z"
   },
   {
    "duration": 0,
    "start_time": "2024-12-05T12:56:15.897Z"
   },
   {
    "duration": 0,
    "start_time": "2024-12-05T12:56:15.898Z"
   },
   {
    "duration": 0,
    "start_time": "2024-12-05T12:56:15.899Z"
   },
   {
    "duration": 0,
    "start_time": "2024-12-05T12:56:15.900Z"
   },
   {
    "duration": 0,
    "start_time": "2024-12-05T12:56:15.901Z"
   },
   {
    "duration": 0,
    "start_time": "2024-12-05T12:56:15.902Z"
   },
   {
    "duration": 0,
    "start_time": "2024-12-05T12:56:15.903Z"
   },
   {
    "duration": 0,
    "start_time": "2024-12-05T12:56:15.904Z"
   },
   {
    "duration": 0,
    "start_time": "2024-12-05T12:56:15.905Z"
   },
   {
    "duration": 0,
    "start_time": "2024-12-05T12:56:15.906Z"
   },
   {
    "duration": 0,
    "start_time": "2024-12-05T12:56:15.907Z"
   },
   {
    "duration": 0,
    "start_time": "2024-12-05T12:56:15.908Z"
   },
   {
    "duration": 0,
    "start_time": "2024-12-05T12:56:15.910Z"
   },
   {
    "duration": 0,
    "start_time": "2024-12-05T12:56:15.911Z"
   },
   {
    "duration": 0,
    "start_time": "2024-12-05T12:56:15.911Z"
   },
   {
    "duration": 0,
    "start_time": "2024-12-05T12:56:15.913Z"
   },
   {
    "duration": 0,
    "start_time": "2024-12-05T12:56:15.914Z"
   },
   {
    "duration": 0,
    "start_time": "2024-12-05T12:56:15.915Z"
   },
   {
    "duration": 0,
    "start_time": "2024-12-05T12:56:15.916Z"
   },
   {
    "duration": 0,
    "start_time": "2024-12-05T12:56:15.917Z"
   },
   {
    "duration": 0,
    "start_time": "2024-12-05T12:56:15.918Z"
   },
   {
    "duration": 0,
    "start_time": "2024-12-05T12:56:15.919Z"
   },
   {
    "duration": 0,
    "start_time": "2024-12-05T12:56:15.920Z"
   },
   {
    "duration": 0,
    "start_time": "2024-12-05T12:56:15.921Z"
   },
   {
    "duration": 0,
    "start_time": "2024-12-05T12:56:15.922Z"
   },
   {
    "duration": 0,
    "start_time": "2024-12-05T12:56:15.923Z"
   },
   {
    "duration": 15,
    "start_time": "2024-12-05T12:57:14.292Z"
   },
   {
    "duration": 7,
    "start_time": "2024-12-05T12:57:18.271Z"
   },
   {
    "duration": 14,
    "start_time": "2024-12-05T12:57:19.706Z"
   },
   {
    "duration": 123,
    "start_time": "2024-12-05T12:57:20.523Z"
   },
   {
    "duration": 192,
    "start_time": "2024-12-05T12:57:31.993Z"
   },
   {
    "duration": 290,
    "start_time": "2024-12-05T12:58:05.375Z"
   },
   {
    "duration": 290,
    "start_time": "2024-12-05T12:58:13.261Z"
   },
   {
    "duration": 107,
    "start_time": "2024-12-05T12:58:43.777Z"
   },
   {
    "duration": 214,
    "start_time": "2024-12-05T12:59:54.330Z"
   },
   {
    "duration": 1772,
    "start_time": "2024-12-05T13:00:23.527Z"
   },
   {
    "duration": 2,
    "start_time": "2024-12-05T13:00:25.301Z"
   },
   {
    "duration": 86,
    "start_time": "2024-12-05T13:00:25.304Z"
   },
   {
    "duration": 10,
    "start_time": "2024-12-05T13:00:25.392Z"
   },
   {
    "duration": 13,
    "start_time": "2024-12-05T13:00:25.403Z"
   },
   {
    "duration": 5,
    "start_time": "2024-12-05T13:00:25.417Z"
   },
   {
    "duration": 4,
    "start_time": "2024-12-05T13:00:25.424Z"
   },
   {
    "duration": 6,
    "start_time": "2024-12-05T13:00:25.430Z"
   },
   {
    "duration": 6,
    "start_time": "2024-12-05T13:00:25.437Z"
   },
   {
    "duration": 392,
    "start_time": "2024-12-05T13:00:25.446Z"
   },
   {
    "duration": 10,
    "start_time": "2024-12-05T13:00:25.840Z"
   },
   {
    "duration": 630,
    "start_time": "2024-12-05T13:00:25.851Z"
   },
   {
    "duration": 6,
    "start_time": "2024-12-05T13:00:26.483Z"
   },
   {
    "duration": 813,
    "start_time": "2024-12-05T13:00:26.491Z"
   },
   {
    "duration": 227,
    "start_time": "2024-12-05T13:00:27.306Z"
   },
   {
    "duration": 4,
    "start_time": "2024-12-05T13:00:27.534Z"
   },
   {
    "duration": 13,
    "start_time": "2024-12-05T13:00:27.540Z"
   },
   {
    "duration": 15,
    "start_time": "2024-12-05T13:00:27.554Z"
   },
   {
    "duration": 269,
    "start_time": "2024-12-05T13:00:27.571Z"
   },
   {
    "duration": 6,
    "start_time": "2024-12-05T13:00:27.842Z"
   },
   {
    "duration": 16,
    "start_time": "2024-12-05T13:00:27.850Z"
   },
   {
    "duration": 280,
    "start_time": "2024-12-05T13:00:27.867Z"
   },
   {
    "duration": 160,
    "start_time": "2024-12-05T13:00:28.148Z"
   },
   {
    "duration": 0,
    "start_time": "2024-12-05T13:00:28.310Z"
   },
   {
    "duration": 0,
    "start_time": "2024-12-05T13:00:28.311Z"
   },
   {
    "duration": 0,
    "start_time": "2024-12-05T13:00:28.312Z"
   },
   {
    "duration": 0,
    "start_time": "2024-12-05T13:00:28.313Z"
   },
   {
    "duration": 0,
    "start_time": "2024-12-05T13:00:28.314Z"
   },
   {
    "duration": 0,
    "start_time": "2024-12-05T13:00:28.315Z"
   },
   {
    "duration": 0,
    "start_time": "2024-12-05T13:00:28.316Z"
   },
   {
    "duration": 0,
    "start_time": "2024-12-05T13:00:28.317Z"
   },
   {
    "duration": 0,
    "start_time": "2024-12-05T13:00:28.318Z"
   },
   {
    "duration": 0,
    "start_time": "2024-12-05T13:00:28.319Z"
   },
   {
    "duration": 0,
    "start_time": "2024-12-05T13:00:28.320Z"
   },
   {
    "duration": 0,
    "start_time": "2024-12-05T13:00:28.321Z"
   },
   {
    "duration": 0,
    "start_time": "2024-12-05T13:00:28.322Z"
   },
   {
    "duration": 0,
    "start_time": "2024-12-05T13:00:28.323Z"
   },
   {
    "duration": 0,
    "start_time": "2024-12-05T13:00:28.324Z"
   },
   {
    "duration": 0,
    "start_time": "2024-12-05T13:00:28.325Z"
   },
   {
    "duration": 0,
    "start_time": "2024-12-05T13:00:28.326Z"
   },
   {
    "duration": 0,
    "start_time": "2024-12-05T13:00:28.327Z"
   },
   {
    "duration": 0,
    "start_time": "2024-12-05T13:00:28.327Z"
   },
   {
    "duration": 0,
    "start_time": "2024-12-05T13:00:28.328Z"
   },
   {
    "duration": 0,
    "start_time": "2024-12-05T13:00:28.329Z"
   },
   {
    "duration": 0,
    "start_time": "2024-12-05T13:00:28.330Z"
   },
   {
    "duration": 0,
    "start_time": "2024-12-05T13:00:28.331Z"
   },
   {
    "duration": 0,
    "start_time": "2024-12-05T13:00:28.332Z"
   },
   {
    "duration": 0,
    "start_time": "2024-12-05T13:00:28.333Z"
   },
   {
    "duration": 0,
    "start_time": "2024-12-05T13:00:28.334Z"
   },
   {
    "duration": 0,
    "start_time": "2024-12-05T13:00:28.335Z"
   },
   {
    "duration": 0,
    "start_time": "2024-12-05T13:00:28.336Z"
   },
   {
    "duration": 0,
    "start_time": "2024-12-05T13:00:28.337Z"
   },
   {
    "duration": 0,
    "start_time": "2024-12-05T13:00:28.338Z"
   },
   {
    "duration": 0,
    "start_time": "2024-12-05T13:00:28.339Z"
   },
   {
    "duration": 0,
    "start_time": "2024-12-05T13:00:28.340Z"
   },
   {
    "duration": 0,
    "start_time": "2024-12-05T13:00:28.341Z"
   },
   {
    "duration": 0,
    "start_time": "2024-12-05T13:00:28.342Z"
   },
   {
    "duration": 0,
    "start_time": "2024-12-05T13:00:28.392Z"
   },
   {
    "duration": 0,
    "start_time": "2024-12-05T13:00:28.393Z"
   },
   {
    "duration": 0,
    "start_time": "2024-12-05T13:00:28.394Z"
   },
   {
    "duration": 0,
    "start_time": "2024-12-05T13:00:28.395Z"
   },
   {
    "duration": 0,
    "start_time": "2024-12-05T13:00:28.396Z"
   },
   {
    "duration": 0,
    "start_time": "2024-12-05T13:00:28.397Z"
   },
   {
    "duration": 0,
    "start_time": "2024-12-05T13:00:28.398Z"
   },
   {
    "duration": 0,
    "start_time": "2024-12-05T13:00:28.398Z"
   },
   {
    "duration": 0,
    "start_time": "2024-12-05T13:00:28.399Z"
   },
   {
    "duration": 0,
    "start_time": "2024-12-05T13:00:28.400Z"
   },
   {
    "duration": 0,
    "start_time": "2024-12-05T13:00:28.402Z"
   },
   {
    "duration": 0,
    "start_time": "2024-12-05T13:00:28.402Z"
   },
   {
    "duration": 0,
    "start_time": "2024-12-05T13:00:28.403Z"
   },
   {
    "duration": 0,
    "start_time": "2024-12-05T13:00:28.404Z"
   },
   {
    "duration": 225,
    "start_time": "2024-12-05T13:01:01.608Z"
   },
   {
    "duration": 12,
    "start_time": "2024-12-05T13:01:28.438Z"
   },
   {
    "duration": 20,
    "start_time": "2024-12-05T13:01:30.690Z"
   },
   {
    "duration": 214,
    "start_time": "2024-12-05T13:01:36.425Z"
   },
   {
    "duration": 2052,
    "start_time": "2024-12-05T13:01:48.353Z"
   },
   {
    "duration": 2,
    "start_time": "2024-12-05T13:01:50.407Z"
   },
   {
    "duration": 65,
    "start_time": "2024-12-05T13:01:50.411Z"
   },
   {
    "duration": 10,
    "start_time": "2024-12-05T13:01:50.478Z"
   },
   {
    "duration": 11,
    "start_time": "2024-12-05T13:01:50.490Z"
   },
   {
    "duration": 5,
    "start_time": "2024-12-05T13:01:50.502Z"
   },
   {
    "duration": 12,
    "start_time": "2024-12-05T13:01:50.508Z"
   },
   {
    "duration": 10,
    "start_time": "2024-12-05T13:01:50.521Z"
   },
   {
    "duration": 25,
    "start_time": "2024-12-05T13:01:50.532Z"
   },
   {
    "duration": 391,
    "start_time": "2024-12-05T13:01:50.560Z"
   },
   {
    "duration": 10,
    "start_time": "2024-12-05T13:01:50.953Z"
   },
   {
    "duration": 628,
    "start_time": "2024-12-05T13:01:50.964Z"
   },
   {
    "duration": 7,
    "start_time": "2024-12-05T13:01:51.594Z"
   },
   {
    "duration": 820,
    "start_time": "2024-12-05T13:01:51.603Z"
   },
   {
    "duration": 213,
    "start_time": "2024-12-05T13:01:52.425Z"
   },
   {
    "duration": 4,
    "start_time": "2024-12-05T13:01:52.640Z"
   },
   {
    "duration": 23,
    "start_time": "2024-12-05T13:01:52.646Z"
   },
   {
    "duration": 27,
    "start_time": "2024-12-05T13:01:52.670Z"
   },
   {
    "duration": 241,
    "start_time": "2024-12-05T13:01:52.699Z"
   },
   {
    "duration": 8,
    "start_time": "2024-12-05T13:01:52.942Z"
   },
   {
    "duration": 22,
    "start_time": "2024-12-05T13:01:52.951Z"
   },
   {
    "duration": 5,
    "start_time": "2024-12-05T13:01:52.991Z"
   },
   {
    "duration": 4,
    "start_time": "2024-12-05T13:01:52.998Z"
   },
   {
    "duration": 4,
    "start_time": "2024-12-05T13:01:53.003Z"
   },
   {
    "duration": 16,
    "start_time": "2024-12-05T13:01:53.008Z"
   },
   {
    "duration": 17,
    "start_time": "2024-12-05T13:01:53.026Z"
   },
   {
    "duration": 5,
    "start_time": "2024-12-05T13:01:53.044Z"
   },
   {
    "duration": 6,
    "start_time": "2024-12-05T13:01:53.053Z"
   },
   {
    "duration": 6,
    "start_time": "2024-12-05T13:01:53.060Z"
   },
   {
    "duration": 4,
    "start_time": "2024-12-05T13:01:53.068Z"
   },
   {
    "duration": 61,
    "start_time": "2024-12-05T13:01:53.073Z"
   },
   {
    "duration": 17,
    "start_time": "2024-12-05T13:01:53.135Z"
   },
   {
    "duration": 6206,
    "start_time": "2024-12-05T13:01:53.154Z"
   },
   {
    "duration": 0,
    "start_time": "2024-12-05T13:01:59.362Z"
   },
   {
    "duration": 0,
    "start_time": "2024-12-05T13:01:59.364Z"
   },
   {
    "duration": 0,
    "start_time": "2024-12-05T13:01:59.365Z"
   },
   {
    "duration": 0,
    "start_time": "2024-12-05T13:01:59.366Z"
   },
   {
    "duration": 0,
    "start_time": "2024-12-05T13:01:59.367Z"
   },
   {
    "duration": 0,
    "start_time": "2024-12-05T13:01:59.368Z"
   },
   {
    "duration": 0,
    "start_time": "2024-12-05T13:01:59.369Z"
   },
   {
    "duration": 0,
    "start_time": "2024-12-05T13:01:59.370Z"
   },
   {
    "duration": 0,
    "start_time": "2024-12-05T13:01:59.371Z"
   },
   {
    "duration": 0,
    "start_time": "2024-12-05T13:01:59.372Z"
   },
   {
    "duration": 0,
    "start_time": "2024-12-05T13:01:59.373Z"
   },
   {
    "duration": 0,
    "start_time": "2024-12-05T13:01:59.374Z"
   },
   {
    "duration": 0,
    "start_time": "2024-12-05T13:01:59.375Z"
   },
   {
    "duration": 0,
    "start_time": "2024-12-05T13:01:59.376Z"
   },
   {
    "duration": 0,
    "start_time": "2024-12-05T13:01:59.377Z"
   },
   {
    "duration": 0,
    "start_time": "2024-12-05T13:01:59.378Z"
   },
   {
    "duration": 0,
    "start_time": "2024-12-05T13:01:59.380Z"
   },
   {
    "duration": 0,
    "start_time": "2024-12-05T13:01:59.381Z"
   },
   {
    "duration": 0,
    "start_time": "2024-12-05T13:01:59.382Z"
   },
   {
    "duration": 0,
    "start_time": "2024-12-05T13:01:59.383Z"
   },
   {
    "duration": 0,
    "start_time": "2024-12-05T13:01:59.383Z"
   },
   {
    "duration": 0,
    "start_time": "2024-12-05T13:01:59.384Z"
   },
   {
    "duration": 0,
    "start_time": "2024-12-05T13:01:59.385Z"
   },
   {
    "duration": 0,
    "start_time": "2024-12-05T13:01:59.386Z"
   },
   {
    "duration": 0,
    "start_time": "2024-12-05T13:01:59.387Z"
   },
   {
    "duration": 0,
    "start_time": "2024-12-05T13:01:59.388Z"
   },
   {
    "duration": 0,
    "start_time": "2024-12-05T13:01:59.389Z"
   },
   {
    "duration": 0,
    "start_time": "2024-12-05T13:01:59.390Z"
   },
   {
    "duration": 0,
    "start_time": "2024-12-05T13:01:59.391Z"
   },
   {
    "duration": 0,
    "start_time": "2024-12-05T13:01:59.392Z"
   },
   {
    "duration": 0,
    "start_time": "2024-12-05T13:01:59.393Z"
   },
   {
    "duration": 0,
    "start_time": "2024-12-05T13:01:59.394Z"
   },
   {
    "duration": 0,
    "start_time": "2024-12-05T13:01:59.394Z"
   },
   {
    "duration": 0,
    "start_time": "2024-12-05T13:01:59.396Z"
   },
   {
    "duration": 0,
    "start_time": "2024-12-05T13:01:59.397Z"
   },
   {
    "duration": 0,
    "start_time": "2024-12-05T13:01:59.397Z"
   },
   {
    "duration": 263,
    "start_time": "2024-12-05T13:07:19.570Z"
   },
   {
    "duration": 30,
    "start_time": "2024-12-05T13:10:37.134Z"
   },
   {
    "duration": 4,
    "start_time": "2024-12-05T13:10:44.476Z"
   },
   {
    "duration": 5,
    "start_time": "2024-12-05T13:10:47.240Z"
   },
   {
    "duration": 12,
    "start_time": "2024-12-05T13:10:48.366Z"
   },
   {
    "duration": 12,
    "start_time": "2024-12-05T13:13:01.283Z"
   },
   {
    "duration": 2122,
    "start_time": "2024-12-05T13:13:34.940Z"
   },
   {
    "duration": 2,
    "start_time": "2024-12-05T13:13:37.064Z"
   },
   {
    "duration": 57,
    "start_time": "2024-12-05T13:13:37.067Z"
   },
   {
    "duration": 10,
    "start_time": "2024-12-05T13:13:37.126Z"
   },
   {
    "duration": 49,
    "start_time": "2024-12-05T13:13:37.138Z"
   },
   {
    "duration": 5,
    "start_time": "2024-12-05T13:13:37.188Z"
   },
   {
    "duration": 16,
    "start_time": "2024-12-05T13:13:37.195Z"
   },
   {
    "duration": 14,
    "start_time": "2024-12-05T13:13:37.213Z"
   },
   {
    "duration": 33,
    "start_time": "2024-12-05T13:13:37.228Z"
   },
   {
    "duration": 382,
    "start_time": "2024-12-05T13:13:37.263Z"
   },
   {
    "duration": 8,
    "start_time": "2024-12-05T13:13:37.647Z"
   },
   {
    "duration": 667,
    "start_time": "2024-12-05T13:13:37.657Z"
   },
   {
    "duration": 7,
    "start_time": "2024-12-05T13:13:38.326Z"
   },
   {
    "duration": 868,
    "start_time": "2024-12-05T13:13:38.335Z"
   },
   {
    "duration": 220,
    "start_time": "2024-12-05T13:13:39.204Z"
   },
   {
    "duration": 4,
    "start_time": "2024-12-05T13:13:39.426Z"
   },
   {
    "duration": 15,
    "start_time": "2024-12-05T13:13:39.431Z"
   },
   {
    "duration": 20,
    "start_time": "2024-12-05T13:13:39.448Z"
   },
   {
    "duration": 283,
    "start_time": "2024-12-05T13:13:39.470Z"
   },
   {
    "duration": 4,
    "start_time": "2024-12-05T13:13:39.755Z"
   },
   {
    "duration": 5,
    "start_time": "2024-12-05T13:13:39.760Z"
   },
   {
    "duration": 28,
    "start_time": "2024-12-05T13:13:39.766Z"
   },
   {
    "duration": 5,
    "start_time": "2024-12-05T13:13:39.795Z"
   },
   {
    "duration": 7,
    "start_time": "2024-12-05T13:13:39.802Z"
   },
   {
    "duration": 18,
    "start_time": "2024-12-05T13:13:39.810Z"
   },
   {
    "duration": 25,
    "start_time": "2024-12-05T13:13:39.830Z"
   },
   {
    "duration": 20,
    "start_time": "2024-12-05T13:13:39.856Z"
   },
   {
    "duration": 4,
    "start_time": "2024-12-05T13:13:39.880Z"
   },
   {
    "duration": 5,
    "start_time": "2024-12-05T13:13:39.885Z"
   },
   {
    "duration": 6,
    "start_time": "2024-12-05T13:13:39.892Z"
   },
   {
    "duration": 6,
    "start_time": "2024-12-05T13:13:39.899Z"
   },
   {
    "duration": 4,
    "start_time": "2024-12-05T13:13:39.906Z"
   },
   {
    "duration": 8,
    "start_time": "2024-12-05T13:13:39.912Z"
   },
   {
    "duration": 3458,
    "start_time": "2024-12-05T13:13:39.921Z"
   },
   {
    "duration": 0,
    "start_time": "2024-12-05T13:13:43.380Z"
   },
   {
    "duration": 0,
    "start_time": "2024-12-05T13:13:43.381Z"
   },
   {
    "duration": 0,
    "start_time": "2024-12-05T13:13:43.382Z"
   },
   {
    "duration": 0,
    "start_time": "2024-12-05T13:13:43.383Z"
   },
   {
    "duration": 0,
    "start_time": "2024-12-05T13:13:43.384Z"
   },
   {
    "duration": 0,
    "start_time": "2024-12-05T13:13:43.385Z"
   },
   {
    "duration": 0,
    "start_time": "2024-12-05T13:13:43.386Z"
   },
   {
    "duration": 0,
    "start_time": "2024-12-05T13:13:43.387Z"
   },
   {
    "duration": 0,
    "start_time": "2024-12-05T13:13:43.388Z"
   },
   {
    "duration": 0,
    "start_time": "2024-12-05T13:13:43.389Z"
   },
   {
    "duration": 0,
    "start_time": "2024-12-05T13:13:43.390Z"
   },
   {
    "duration": 0,
    "start_time": "2024-12-05T13:13:43.391Z"
   },
   {
    "duration": 0,
    "start_time": "2024-12-05T13:13:43.392Z"
   },
   {
    "duration": 0,
    "start_time": "2024-12-05T13:13:43.393Z"
   },
   {
    "duration": 0,
    "start_time": "2024-12-05T13:13:43.394Z"
   },
   {
    "duration": 0,
    "start_time": "2024-12-05T13:13:43.396Z"
   },
   {
    "duration": 0,
    "start_time": "2024-12-05T13:13:43.396Z"
   },
   {
    "duration": 0,
    "start_time": "2024-12-05T13:13:43.397Z"
   },
   {
    "duration": 0,
    "start_time": "2024-12-05T13:13:43.398Z"
   },
   {
    "duration": 0,
    "start_time": "2024-12-05T13:13:43.399Z"
   },
   {
    "duration": 0,
    "start_time": "2024-12-05T13:13:43.400Z"
   },
   {
    "duration": 0,
    "start_time": "2024-12-05T13:13:43.401Z"
   },
   {
    "duration": 0,
    "start_time": "2024-12-05T13:13:43.402Z"
   },
   {
    "duration": 0,
    "start_time": "2024-12-05T13:13:43.403Z"
   },
   {
    "duration": 0,
    "start_time": "2024-12-05T13:13:43.404Z"
   },
   {
    "duration": 0,
    "start_time": "2024-12-05T13:13:43.405Z"
   },
   {
    "duration": 0,
    "start_time": "2024-12-05T13:13:43.406Z"
   },
   {
    "duration": 0,
    "start_time": "2024-12-05T13:13:43.407Z"
   },
   {
    "duration": 0,
    "start_time": "2024-12-05T13:13:43.408Z"
   },
   {
    "duration": 0,
    "start_time": "2024-12-05T13:13:43.409Z"
   },
   {
    "duration": 0,
    "start_time": "2024-12-05T13:13:43.410Z"
   },
   {
    "duration": 0,
    "start_time": "2024-12-05T13:13:43.411Z"
   },
   {
    "duration": 0,
    "start_time": "2024-12-05T13:13:43.412Z"
   },
   {
    "duration": 0,
    "start_time": "2024-12-05T13:13:43.413Z"
   },
   {
    "duration": 0,
    "start_time": "2024-12-05T13:13:43.415Z"
   },
   {
    "duration": 0,
    "start_time": "2024-12-05T13:13:43.416Z"
   },
   {
    "duration": 1805,
    "start_time": "2024-12-05T13:16:08.491Z"
   },
   {
    "duration": 3,
    "start_time": "2024-12-05T13:16:10.297Z"
   },
   {
    "duration": 59,
    "start_time": "2024-12-05T13:16:10.301Z"
   },
   {
    "duration": 9,
    "start_time": "2024-12-05T13:16:10.362Z"
   },
   {
    "duration": 13,
    "start_time": "2024-12-05T13:16:10.373Z"
   },
   {
    "duration": 3,
    "start_time": "2024-12-05T13:16:10.388Z"
   },
   {
    "duration": 24,
    "start_time": "2024-12-05T13:16:10.393Z"
   },
   {
    "duration": 13,
    "start_time": "2024-12-05T13:16:10.418Z"
   },
   {
    "duration": 6,
    "start_time": "2024-12-05T13:16:10.432Z"
   },
   {
    "duration": 375,
    "start_time": "2024-12-05T13:16:10.440Z"
   },
   {
    "duration": 8,
    "start_time": "2024-12-05T13:16:10.817Z"
   },
   {
    "duration": 637,
    "start_time": "2024-12-05T13:16:10.827Z"
   },
   {
    "duration": 7,
    "start_time": "2024-12-05T13:16:11.466Z"
   },
   {
    "duration": 799,
    "start_time": "2024-12-05T13:16:11.474Z"
   },
   {
    "duration": 218,
    "start_time": "2024-12-05T13:16:12.274Z"
   },
   {
    "duration": 4,
    "start_time": "2024-12-05T13:16:12.493Z"
   },
   {
    "duration": 18,
    "start_time": "2024-12-05T13:16:12.498Z"
   },
   {
    "duration": 19,
    "start_time": "2024-12-05T13:16:12.517Z"
   },
   {
    "duration": 213,
    "start_time": "2024-12-05T13:16:12.538Z"
   },
   {
    "duration": 5,
    "start_time": "2024-12-05T13:16:12.752Z"
   },
   {
    "duration": 7,
    "start_time": "2024-12-05T13:16:12.758Z"
   },
   {
    "duration": 33,
    "start_time": "2024-12-05T13:16:12.767Z"
   },
   {
    "duration": 12,
    "start_time": "2024-12-05T13:16:12.802Z"
   },
   {
    "duration": 7,
    "start_time": "2024-12-05T13:16:12.816Z"
   },
   {
    "duration": 8,
    "start_time": "2024-12-05T13:16:12.824Z"
   },
   {
    "duration": 7,
    "start_time": "2024-12-05T13:16:12.834Z"
   },
   {
    "duration": 7,
    "start_time": "2024-12-05T13:16:12.843Z"
   },
   {
    "duration": 4,
    "start_time": "2024-12-05T13:16:12.854Z"
   },
   {
    "duration": 5,
    "start_time": "2024-12-05T13:16:12.859Z"
   },
   {
    "duration": 6,
    "start_time": "2024-12-05T13:16:12.865Z"
   },
   {
    "duration": 22,
    "start_time": "2024-12-05T13:16:12.872Z"
   },
   {
    "duration": 5,
    "start_time": "2024-12-05T13:16:12.896Z"
   },
   {
    "duration": 4,
    "start_time": "2024-12-05T13:16:12.902Z"
   },
   {
    "duration": 289,
    "start_time": "2024-12-05T13:16:12.908Z"
   },
   {
    "duration": 17571,
    "start_time": "2024-12-05T13:16:13.199Z"
   },
   {
    "duration": 0,
    "start_time": "2024-12-05T13:16:30.772Z"
   },
   {
    "duration": 0,
    "start_time": "2024-12-05T13:16:30.773Z"
   },
   {
    "duration": 0,
    "start_time": "2024-12-05T13:16:30.774Z"
   },
   {
    "duration": 0,
    "start_time": "2024-12-05T13:16:30.775Z"
   },
   {
    "duration": 0,
    "start_time": "2024-12-05T13:16:30.776Z"
   },
   {
    "duration": 0,
    "start_time": "2024-12-05T13:16:30.777Z"
   },
   {
    "duration": 0,
    "start_time": "2024-12-05T13:16:30.792Z"
   },
   {
    "duration": 0,
    "start_time": "2024-12-05T13:16:30.793Z"
   },
   {
    "duration": 0,
    "start_time": "2024-12-05T13:16:30.794Z"
   },
   {
    "duration": 0,
    "start_time": "2024-12-05T13:16:30.795Z"
   },
   {
    "duration": 0,
    "start_time": "2024-12-05T13:16:30.796Z"
   },
   {
    "duration": 0,
    "start_time": "2024-12-05T13:16:30.797Z"
   },
   {
    "duration": 0,
    "start_time": "2024-12-05T13:16:30.798Z"
   },
   {
    "duration": 0,
    "start_time": "2024-12-05T13:16:30.799Z"
   },
   {
    "duration": 0,
    "start_time": "2024-12-05T13:16:30.800Z"
   },
   {
    "duration": 0,
    "start_time": "2024-12-05T13:16:30.801Z"
   },
   {
    "duration": 0,
    "start_time": "2024-12-05T13:16:30.802Z"
   },
   {
    "duration": 0,
    "start_time": "2024-12-05T13:16:30.803Z"
   },
   {
    "duration": 0,
    "start_time": "2024-12-05T13:16:30.804Z"
   },
   {
    "duration": 0,
    "start_time": "2024-12-05T13:16:30.805Z"
   },
   {
    "duration": 0,
    "start_time": "2024-12-05T13:16:30.806Z"
   },
   {
    "duration": 0,
    "start_time": "2024-12-05T13:16:30.807Z"
   },
   {
    "duration": 0,
    "start_time": "2024-12-05T13:16:30.808Z"
   },
   {
    "duration": 0,
    "start_time": "2024-12-05T13:16:30.808Z"
   },
   {
    "duration": 0,
    "start_time": "2024-12-05T13:16:30.810Z"
   },
   {
    "duration": 0,
    "start_time": "2024-12-05T13:16:30.811Z"
   },
   {
    "duration": 0,
    "start_time": "2024-12-05T13:16:30.813Z"
   },
   {
    "duration": 0,
    "start_time": "2024-12-05T13:16:30.814Z"
   },
   {
    "duration": 0,
    "start_time": "2024-12-05T13:16:30.815Z"
   },
   {
    "duration": 0,
    "start_time": "2024-12-05T13:16:30.816Z"
   },
   {
    "duration": 0,
    "start_time": "2024-12-05T13:16:30.817Z"
   },
   {
    "duration": 0,
    "start_time": "2024-12-05T13:16:30.818Z"
   },
   {
    "duration": 0,
    "start_time": "2024-12-05T13:16:30.819Z"
   },
   {
    "duration": 0,
    "start_time": "2024-12-05T13:16:30.820Z"
   },
   {
    "duration": 0,
    "start_time": "2024-12-05T13:16:30.820Z"
   },
   {
    "duration": 1750,
    "start_time": "2024-12-05T13:17:25.609Z"
   },
   {
    "duration": 3,
    "start_time": "2024-12-05T13:17:27.361Z"
   },
   {
    "duration": 115,
    "start_time": "2024-12-05T13:17:27.365Z"
   },
   {
    "duration": 10,
    "start_time": "2024-12-05T13:17:27.482Z"
   },
   {
    "duration": 12,
    "start_time": "2024-12-05T13:17:27.493Z"
   },
   {
    "duration": 4,
    "start_time": "2024-12-05T13:17:27.506Z"
   },
   {
    "duration": 5,
    "start_time": "2024-12-05T13:17:27.512Z"
   },
   {
    "duration": 4,
    "start_time": "2024-12-05T13:17:27.518Z"
   },
   {
    "duration": 9,
    "start_time": "2024-12-05T13:17:27.523Z"
   },
   {
    "duration": 392,
    "start_time": "2024-12-05T13:17:27.535Z"
   },
   {
    "duration": 9,
    "start_time": "2024-12-05T13:17:27.928Z"
   },
   {
    "duration": 654,
    "start_time": "2024-12-05T13:17:27.938Z"
   },
   {
    "duration": 9,
    "start_time": "2024-12-05T13:17:28.594Z"
   },
   {
    "duration": 812,
    "start_time": "2024-12-05T13:17:28.605Z"
   },
   {
    "duration": 222,
    "start_time": "2024-12-05T13:17:29.419Z"
   },
   {
    "duration": 5,
    "start_time": "2024-12-05T13:17:29.642Z"
   },
   {
    "duration": 21,
    "start_time": "2024-12-05T13:17:29.649Z"
   },
   {
    "duration": 28,
    "start_time": "2024-12-05T13:17:29.671Z"
   },
   {
    "duration": 252,
    "start_time": "2024-12-05T13:17:29.701Z"
   },
   {
    "duration": 6,
    "start_time": "2024-12-05T13:17:29.954Z"
   },
   {
    "duration": 79,
    "start_time": "2024-12-05T13:17:29.961Z"
   },
   {
    "duration": 40,
    "start_time": "2024-12-05T13:17:30.041Z"
   },
   {
    "duration": 21,
    "start_time": "2024-12-05T13:17:30.083Z"
   },
   {
    "duration": 45,
    "start_time": "2024-12-05T13:17:30.106Z"
   },
   {
    "duration": 19,
    "start_time": "2024-12-05T13:17:30.152Z"
   },
   {
    "duration": 27,
    "start_time": "2024-12-05T13:17:30.173Z"
   },
   {
    "duration": 26,
    "start_time": "2024-12-05T13:17:30.202Z"
   },
   {
    "duration": 11,
    "start_time": "2024-12-05T13:17:30.234Z"
   },
   {
    "duration": 26,
    "start_time": "2024-12-05T13:17:30.247Z"
   },
   {
    "duration": 28,
    "start_time": "2024-12-05T13:17:30.275Z"
   },
   {
    "duration": 24,
    "start_time": "2024-12-05T13:17:30.305Z"
   },
   {
    "duration": 74,
    "start_time": "2024-12-05T13:17:30.331Z"
   },
   {
    "duration": 27,
    "start_time": "2024-12-05T13:17:30.406Z"
   },
   {
    "duration": 277,
    "start_time": "2024-12-05T13:17:30.435Z"
   },
   {
    "duration": 18483,
    "start_time": "2024-12-05T13:17:30.714Z"
   },
   {
    "duration": 34539,
    "start_time": "2024-12-05T13:17:49.199Z"
   },
   {
    "duration": 45357,
    "start_time": "2024-12-05T13:18:23.740Z"
   },
   {
    "duration": 2756224,
    "start_time": "2024-12-05T13:19:09.099Z"
   },
   {
    "duration": 7,
    "start_time": "2024-12-05T14:05:05.325Z"
   },
   {
    "duration": 23,
    "start_time": "2024-12-05T14:05:05.334Z"
   },
   {
    "duration": 23,
    "start_time": "2024-12-05T14:05:05.359Z"
   },
   {
    "duration": 15,
    "start_time": "2024-12-05T14:05:05.384Z"
   },
   {
    "duration": 34,
    "start_time": "2024-12-05T14:05:05.401Z"
   },
   {
    "duration": 23,
    "start_time": "2024-12-05T14:05:05.437Z"
   },
   {
    "duration": 32,
    "start_time": "2024-12-05T14:05:05.462Z"
   },
   {
    "duration": 46,
    "start_time": "2024-12-05T14:05:05.496Z"
   },
   {
    "duration": 55,
    "start_time": "2024-12-05T14:05:05.543Z"
   },
   {
    "duration": 19,
    "start_time": "2024-12-05T14:05:05.600Z"
   },
   {
    "duration": 8,
    "start_time": "2024-12-05T14:05:05.621Z"
   },
   {
    "duration": 19,
    "start_time": "2024-12-05T14:05:05.630Z"
   },
   {
    "duration": 37,
    "start_time": "2024-12-05T14:05:05.651Z"
   },
   {
    "duration": 29,
    "start_time": "2024-12-05T14:05:05.690Z"
   },
   {
    "duration": 21,
    "start_time": "2024-12-05T14:05:05.721Z"
   },
   {
    "duration": 28,
    "start_time": "2024-12-05T14:05:05.744Z"
   },
   {
    "duration": 36,
    "start_time": "2024-12-05T14:05:05.774Z"
   },
   {
    "duration": 23,
    "start_time": "2024-12-05T14:05:05.812Z"
   },
   {
    "duration": 33,
    "start_time": "2024-12-05T14:05:05.837Z"
   },
   {
    "duration": 47,
    "start_time": "2024-12-05T14:05:05.871Z"
   },
   {
    "duration": 22,
    "start_time": "2024-12-05T14:05:05.920Z"
   },
   {
    "duration": 49,
    "start_time": "2024-12-05T14:05:05.944Z"
   },
   {
    "duration": 27,
    "start_time": "2024-12-05T14:05:05.995Z"
   },
   {
    "duration": 7,
    "start_time": "2024-12-05T14:05:06.023Z"
   },
   {
    "duration": 22,
    "start_time": "2024-12-05T14:05:06.032Z"
   },
   {
    "duration": 22,
    "start_time": "2024-12-05T14:05:06.056Z"
   },
   {
    "duration": 32,
    "start_time": "2024-12-05T14:05:06.080Z"
   },
   {
    "duration": 19,
    "start_time": "2024-12-05T14:05:06.114Z"
   },
   {
    "duration": 9,
    "start_time": "2024-12-05T14:05:06.134Z"
   },
   {
    "duration": 24,
    "start_time": "2024-12-05T14:05:06.145Z"
   },
   {
    "duration": 15,
    "start_time": "2024-12-05T14:05:06.170Z"
   },
   {
    "duration": 81,
    "start_time": "2024-12-05T14:05:06.187Z"
   },
   {
    "duration": 55,
    "start_time": "2024-12-05T14:07:55.126Z"
   },
   {
    "duration": 1788,
    "start_time": "2024-12-05T14:17:29.098Z"
   },
   {
    "duration": 4,
    "start_time": "2024-12-05T14:17:30.888Z"
   },
   {
    "duration": 58,
    "start_time": "2024-12-05T14:17:30.893Z"
   },
   {
    "duration": 11,
    "start_time": "2024-12-05T14:17:30.953Z"
   },
   {
    "duration": 12,
    "start_time": "2024-12-05T14:17:30.965Z"
   },
   {
    "duration": 14,
    "start_time": "2024-12-05T14:17:30.979Z"
   },
   {
    "duration": 4,
    "start_time": "2024-12-05T14:17:30.994Z"
   },
   {
    "duration": 23,
    "start_time": "2024-12-05T14:17:31.000Z"
   },
   {
    "duration": 24,
    "start_time": "2024-12-05T14:17:31.025Z"
   },
   {
    "duration": 383,
    "start_time": "2024-12-05T14:17:31.052Z"
   },
   {
    "duration": 8,
    "start_time": "2024-12-05T14:17:31.436Z"
   },
   {
    "duration": 607,
    "start_time": "2024-12-05T14:17:31.445Z"
   },
   {
    "duration": 6,
    "start_time": "2024-12-05T14:17:32.054Z"
   },
   {
    "duration": 825,
    "start_time": "2024-12-05T14:17:32.062Z"
   },
   {
    "duration": 213,
    "start_time": "2024-12-05T14:17:32.889Z"
   },
   {
    "duration": 4,
    "start_time": "2024-12-05T14:17:33.104Z"
   },
   {
    "duration": 31,
    "start_time": "2024-12-05T14:17:33.109Z"
   },
   {
    "duration": 22,
    "start_time": "2024-12-05T14:17:33.142Z"
   },
   {
    "duration": 263,
    "start_time": "2024-12-05T14:17:33.166Z"
   },
   {
    "duration": 4,
    "start_time": "2024-12-05T14:17:33.431Z"
   },
   {
    "duration": 8,
    "start_time": "2024-12-05T14:17:33.436Z"
   },
   {
    "duration": 19,
    "start_time": "2024-12-05T14:17:33.446Z"
   },
   {
    "duration": 26,
    "start_time": "2024-12-05T14:17:33.466Z"
   },
   {
    "duration": 11,
    "start_time": "2024-12-05T14:17:33.494Z"
   },
   {
    "duration": 20,
    "start_time": "2024-12-05T14:17:33.507Z"
   },
   {
    "duration": 15,
    "start_time": "2024-12-05T14:17:33.529Z"
   },
   {
    "duration": 9,
    "start_time": "2024-12-05T14:17:33.546Z"
   },
   {
    "duration": 7,
    "start_time": "2024-12-05T14:17:33.560Z"
   },
   {
    "duration": 23,
    "start_time": "2024-12-05T14:17:33.568Z"
   },
   {
    "duration": 21,
    "start_time": "2024-12-05T14:17:33.594Z"
   },
   {
    "duration": 23,
    "start_time": "2024-12-05T14:17:33.616Z"
   },
   {
    "duration": 8,
    "start_time": "2024-12-05T14:17:33.641Z"
   },
   {
    "duration": 132,
    "start_time": "2024-12-05T14:17:33.650Z"
   },
   {
    "duration": 0,
    "start_time": "2024-12-05T14:17:33.783Z"
   },
   {
    "duration": 0,
    "start_time": "2024-12-05T14:17:33.784Z"
   },
   {
    "duration": 0,
    "start_time": "2024-12-05T14:17:33.785Z"
   },
   {
    "duration": 0,
    "start_time": "2024-12-05T14:17:33.786Z"
   },
   {
    "duration": 0,
    "start_time": "2024-12-05T14:17:33.787Z"
   },
   {
    "duration": 0,
    "start_time": "2024-12-05T14:17:33.788Z"
   },
   {
    "duration": 0,
    "start_time": "2024-12-05T14:17:33.789Z"
   },
   {
    "duration": 0,
    "start_time": "2024-12-05T14:17:33.790Z"
   },
   {
    "duration": 0,
    "start_time": "2024-12-05T14:17:33.791Z"
   },
   {
    "duration": 0,
    "start_time": "2024-12-05T14:17:33.792Z"
   },
   {
    "duration": 0,
    "start_time": "2024-12-05T14:17:33.793Z"
   },
   {
    "duration": 0,
    "start_time": "2024-12-05T14:17:33.794Z"
   },
   {
    "duration": 1,
    "start_time": "2024-12-05T14:17:33.794Z"
   },
   {
    "duration": 0,
    "start_time": "2024-12-05T14:17:33.796Z"
   },
   {
    "duration": 0,
    "start_time": "2024-12-05T14:17:33.797Z"
   },
   {
    "duration": 0,
    "start_time": "2024-12-05T14:17:33.797Z"
   },
   {
    "duration": 0,
    "start_time": "2024-12-05T14:17:33.798Z"
   },
   {
    "duration": 0,
    "start_time": "2024-12-05T14:17:33.799Z"
   },
   {
    "duration": 0,
    "start_time": "2024-12-05T14:17:33.800Z"
   },
   {
    "duration": 0,
    "start_time": "2024-12-05T14:17:33.801Z"
   },
   {
    "duration": 0,
    "start_time": "2024-12-05T14:17:33.802Z"
   },
   {
    "duration": 0,
    "start_time": "2024-12-05T14:17:33.803Z"
   },
   {
    "duration": 0,
    "start_time": "2024-12-05T14:17:33.804Z"
   },
   {
    "duration": 0,
    "start_time": "2024-12-05T14:17:33.805Z"
   },
   {
    "duration": 0,
    "start_time": "2024-12-05T14:17:33.806Z"
   },
   {
    "duration": 0,
    "start_time": "2024-12-05T14:17:33.807Z"
   },
   {
    "duration": 0,
    "start_time": "2024-12-05T14:17:33.808Z"
   },
   {
    "duration": 0,
    "start_time": "2024-12-05T14:17:33.809Z"
   },
   {
    "duration": 0,
    "start_time": "2024-12-05T14:17:33.810Z"
   },
   {
    "duration": 0,
    "start_time": "2024-12-05T14:17:33.811Z"
   },
   {
    "duration": 0,
    "start_time": "2024-12-05T14:17:33.812Z"
   },
   {
    "duration": 0,
    "start_time": "2024-12-05T14:17:33.813Z"
   },
   {
    "duration": 0,
    "start_time": "2024-12-05T14:17:33.814Z"
   },
   {
    "duration": 0,
    "start_time": "2024-12-05T14:17:33.815Z"
   },
   {
    "duration": 0,
    "start_time": "2024-12-05T14:17:33.816Z"
   },
   {
    "duration": 0,
    "start_time": "2024-12-05T14:17:33.817Z"
   },
   {
    "duration": 0,
    "start_time": "2024-12-05T14:17:33.818Z"
   },
   {
    "duration": 0,
    "start_time": "2024-12-05T14:17:33.820Z"
   },
   {
    "duration": 1836,
    "start_time": "2024-12-05T14:18:27.494Z"
   },
   {
    "duration": 3,
    "start_time": "2024-12-05T14:18:29.332Z"
   },
   {
    "duration": 71,
    "start_time": "2024-12-05T14:18:29.336Z"
   },
   {
    "duration": 10,
    "start_time": "2024-12-05T14:18:29.409Z"
   },
   {
    "duration": 10,
    "start_time": "2024-12-05T14:18:29.421Z"
   },
   {
    "duration": 5,
    "start_time": "2024-12-05T14:18:29.433Z"
   },
   {
    "duration": 10,
    "start_time": "2024-12-05T14:18:29.439Z"
   },
   {
    "duration": 5,
    "start_time": "2024-12-05T14:18:29.451Z"
   },
   {
    "duration": 35,
    "start_time": "2024-12-05T14:18:29.457Z"
   },
   {
    "duration": 378,
    "start_time": "2024-12-05T14:18:29.498Z"
   },
   {
    "duration": 17,
    "start_time": "2024-12-05T14:18:29.877Z"
   },
   {
    "duration": 617,
    "start_time": "2024-12-05T14:18:29.896Z"
   },
   {
    "duration": 8,
    "start_time": "2024-12-05T14:18:30.514Z"
   },
   {
    "duration": 892,
    "start_time": "2024-12-05T14:18:30.523Z"
   },
   {
    "duration": 217,
    "start_time": "2024-12-05T14:18:31.417Z"
   },
   {
    "duration": 4,
    "start_time": "2024-12-05T14:18:31.635Z"
   },
   {
    "duration": 29,
    "start_time": "2024-12-05T14:18:31.640Z"
   },
   {
    "duration": 22,
    "start_time": "2024-12-05T14:18:31.670Z"
   },
   {
    "duration": 338,
    "start_time": "2024-12-05T14:18:31.693Z"
   },
   {
    "duration": 5,
    "start_time": "2024-12-05T14:18:32.033Z"
   },
   {
    "duration": 6,
    "start_time": "2024-12-05T14:18:32.039Z"
   },
   {
    "duration": 12,
    "start_time": "2024-12-05T14:18:32.047Z"
   },
   {
    "duration": 33,
    "start_time": "2024-12-05T14:18:32.061Z"
   },
   {
    "duration": 15,
    "start_time": "2024-12-05T14:18:32.096Z"
   },
   {
    "duration": 24,
    "start_time": "2024-12-05T14:18:32.113Z"
   },
   {
    "duration": 7,
    "start_time": "2024-12-05T14:18:32.139Z"
   },
   {
    "duration": 5,
    "start_time": "2024-12-05T14:18:32.147Z"
   },
   {
    "duration": 4,
    "start_time": "2024-12-05T14:18:32.157Z"
   },
   {
    "duration": 18,
    "start_time": "2024-12-05T14:18:32.163Z"
   },
   {
    "duration": 19,
    "start_time": "2024-12-05T14:18:32.183Z"
   },
   {
    "duration": 103,
    "start_time": "2024-12-05T14:18:32.203Z"
   },
   {
    "duration": 13,
    "start_time": "2024-12-05T14:18:32.307Z"
   },
   {
    "duration": 1313,
    "start_time": "2024-12-05T14:18:32.321Z"
   },
   {
    "duration": 0,
    "start_time": "2024-12-05T14:18:33.635Z"
   },
   {
    "duration": 0,
    "start_time": "2024-12-05T14:18:33.637Z"
   },
   {
    "duration": 0,
    "start_time": "2024-12-05T14:18:33.638Z"
   },
   {
    "duration": 0,
    "start_time": "2024-12-05T14:18:33.639Z"
   },
   {
    "duration": 0,
    "start_time": "2024-12-05T14:18:33.640Z"
   },
   {
    "duration": 0,
    "start_time": "2024-12-05T14:18:33.641Z"
   },
   {
    "duration": 0,
    "start_time": "2024-12-05T14:18:33.642Z"
   },
   {
    "duration": 0,
    "start_time": "2024-12-05T14:18:33.644Z"
   },
   {
    "duration": 0,
    "start_time": "2024-12-05T14:18:33.646Z"
   },
   {
    "duration": 0,
    "start_time": "2024-12-05T14:18:33.647Z"
   },
   {
    "duration": 0,
    "start_time": "2024-12-05T14:18:33.647Z"
   },
   {
    "duration": 0,
    "start_time": "2024-12-05T14:18:33.648Z"
   },
   {
    "duration": 0,
    "start_time": "2024-12-05T14:18:33.649Z"
   },
   {
    "duration": 0,
    "start_time": "2024-12-05T14:18:33.650Z"
   },
   {
    "duration": 0,
    "start_time": "2024-12-05T14:18:33.651Z"
   },
   {
    "duration": 0,
    "start_time": "2024-12-05T14:18:33.652Z"
   },
   {
    "duration": 0,
    "start_time": "2024-12-05T14:18:33.653Z"
   },
   {
    "duration": 0,
    "start_time": "2024-12-05T14:18:33.654Z"
   },
   {
    "duration": 0,
    "start_time": "2024-12-05T14:18:33.655Z"
   },
   {
    "duration": 0,
    "start_time": "2024-12-05T14:18:33.656Z"
   },
   {
    "duration": 0,
    "start_time": "2024-12-05T14:18:33.657Z"
   },
   {
    "duration": 0,
    "start_time": "2024-12-05T14:18:33.658Z"
   },
   {
    "duration": 0,
    "start_time": "2024-12-05T14:18:33.660Z"
   },
   {
    "duration": 0,
    "start_time": "2024-12-05T14:18:33.661Z"
   },
   {
    "duration": 0,
    "start_time": "2024-12-05T14:18:33.661Z"
   },
   {
    "duration": 0,
    "start_time": "2024-12-05T14:18:33.663Z"
   },
   {
    "duration": 0,
    "start_time": "2024-12-05T14:18:33.664Z"
   },
   {
    "duration": 0,
    "start_time": "2024-12-05T14:18:33.664Z"
   },
   {
    "duration": 0,
    "start_time": "2024-12-05T14:18:33.665Z"
   },
   {
    "duration": 0,
    "start_time": "2024-12-05T14:18:33.666Z"
   },
   {
    "duration": 0,
    "start_time": "2024-12-05T14:18:33.668Z"
   },
   {
    "duration": 0,
    "start_time": "2024-12-05T14:18:33.669Z"
   },
   {
    "duration": 0,
    "start_time": "2024-12-05T14:18:33.669Z"
   },
   {
    "duration": 0,
    "start_time": "2024-12-05T14:18:33.670Z"
   },
   {
    "duration": 0,
    "start_time": "2024-12-05T14:18:33.671Z"
   },
   {
    "duration": 0,
    "start_time": "2024-12-05T14:18:33.692Z"
   },
   {
    "duration": 0,
    "start_time": "2024-12-05T14:18:33.693Z"
   },
   {
    "duration": 0,
    "start_time": "2024-12-05T14:18:33.694Z"
   },
   {
    "duration": 1825,
    "start_time": "2024-12-05T14:19:31.052Z"
   },
   {
    "duration": 3,
    "start_time": "2024-12-05T14:19:32.878Z"
   },
   {
    "duration": 68,
    "start_time": "2024-12-05T14:19:32.882Z"
   },
   {
    "duration": 10,
    "start_time": "2024-12-05T14:19:32.952Z"
   },
   {
    "duration": 31,
    "start_time": "2024-12-05T14:19:32.963Z"
   },
   {
    "duration": 11,
    "start_time": "2024-12-05T14:19:32.996Z"
   },
   {
    "duration": 15,
    "start_time": "2024-12-05T14:19:33.009Z"
   },
   {
    "duration": 20,
    "start_time": "2024-12-05T14:19:33.026Z"
   },
   {
    "duration": 4,
    "start_time": "2024-12-05T14:19:33.047Z"
   },
   {
    "duration": 358,
    "start_time": "2024-12-05T14:19:33.053Z"
   },
   {
    "duration": 8,
    "start_time": "2024-12-05T14:19:33.413Z"
   },
   {
    "duration": 614,
    "start_time": "2024-12-05T14:19:33.422Z"
   },
   {
    "duration": 7,
    "start_time": "2024-12-05T14:19:34.038Z"
   },
   {
    "duration": 781,
    "start_time": "2024-12-05T14:19:34.046Z"
   },
   {
    "duration": 213,
    "start_time": "2024-12-05T14:19:34.829Z"
   },
   {
    "duration": 4,
    "start_time": "2024-12-05T14:19:35.044Z"
   },
   {
    "duration": 16,
    "start_time": "2024-12-05T14:19:35.049Z"
   },
   {
    "duration": 32,
    "start_time": "2024-12-05T14:19:35.066Z"
   },
   {
    "duration": 259,
    "start_time": "2024-12-05T14:19:35.099Z"
   },
   {
    "duration": 5,
    "start_time": "2024-12-05T14:19:35.359Z"
   },
   {
    "duration": 30,
    "start_time": "2024-12-05T14:19:35.365Z"
   },
   {
    "duration": 17,
    "start_time": "2024-12-05T14:19:35.396Z"
   },
   {
    "duration": 23,
    "start_time": "2024-12-05T14:19:35.414Z"
   },
   {
    "duration": 54,
    "start_time": "2024-12-05T14:19:35.438Z"
   },
   {
    "duration": 10,
    "start_time": "2024-12-05T14:19:35.494Z"
   },
   {
    "duration": 12,
    "start_time": "2024-12-05T14:19:35.505Z"
   },
   {
    "duration": 23,
    "start_time": "2024-12-05T14:19:35.518Z"
   },
   {
    "duration": 7,
    "start_time": "2024-12-05T14:19:35.545Z"
   },
   {
    "duration": 50,
    "start_time": "2024-12-05T14:19:35.553Z"
   },
   {
    "duration": 34,
    "start_time": "2024-12-05T14:19:35.604Z"
   },
   {
    "duration": 7,
    "start_time": "2024-12-05T14:19:35.640Z"
   },
   {
    "duration": 15,
    "start_time": "2024-12-05T14:19:35.649Z"
   },
   {
    "duration": 40,
    "start_time": "2024-12-05T14:19:35.665Z"
   },
   {
    "duration": 3,
    "start_time": "2024-12-05T14:19:35.706Z"
   },
   {
    "duration": 149,
    "start_time": "2024-12-05T14:19:35.711Z"
   },
   {
    "duration": 11987,
    "start_time": "2024-12-05T14:19:35.862Z"
   },
   {
    "duration": 41112,
    "start_time": "2024-12-05T14:19:47.851Z"
   },
   {
    "duration": 68146,
    "start_time": "2024-12-05T14:20:28.964Z"
   },
   {
    "duration": 1115288,
    "start_time": "2024-12-05T14:21:37.111Z"
   },
   {
    "duration": 0,
    "start_time": "2024-12-05T14:40:12.401Z"
   },
   {
    "duration": 0,
    "start_time": "2024-12-05T14:40:12.402Z"
   },
   {
    "duration": 0,
    "start_time": "2024-12-05T14:40:12.403Z"
   },
   {
    "duration": 0,
    "start_time": "2024-12-05T14:40:12.404Z"
   },
   {
    "duration": 0,
    "start_time": "2024-12-05T14:40:12.405Z"
   },
   {
    "duration": 0,
    "start_time": "2024-12-05T14:40:12.406Z"
   },
   {
    "duration": 0,
    "start_time": "2024-12-05T14:40:12.407Z"
   },
   {
    "duration": 0,
    "start_time": "2024-12-05T14:40:12.408Z"
   },
   {
    "duration": 0,
    "start_time": "2024-12-05T14:40:12.409Z"
   },
   {
    "duration": 0,
    "start_time": "2024-12-05T14:40:12.410Z"
   },
   {
    "duration": 0,
    "start_time": "2024-12-05T14:40:12.411Z"
   },
   {
    "duration": 0,
    "start_time": "2024-12-05T14:40:12.412Z"
   },
   {
    "duration": 0,
    "start_time": "2024-12-05T14:40:12.413Z"
   },
   {
    "duration": 0,
    "start_time": "2024-12-05T14:40:12.414Z"
   },
   {
    "duration": 0,
    "start_time": "2024-12-05T14:40:12.415Z"
   },
   {
    "duration": 0,
    "start_time": "2024-12-05T14:40:12.416Z"
   },
   {
    "duration": 0,
    "start_time": "2024-12-05T14:40:12.417Z"
   },
   {
    "duration": 0,
    "start_time": "2024-12-05T14:40:12.418Z"
   },
   {
    "duration": 0,
    "start_time": "2024-12-05T14:40:12.419Z"
   },
   {
    "duration": 0,
    "start_time": "2024-12-05T14:40:12.420Z"
   },
   {
    "duration": 0,
    "start_time": "2024-12-05T14:40:12.421Z"
   },
   {
    "duration": 0,
    "start_time": "2024-12-05T14:40:12.422Z"
   },
   {
    "duration": 0,
    "start_time": "2024-12-05T14:40:12.423Z"
   },
   {
    "duration": 0,
    "start_time": "2024-12-05T14:40:12.424Z"
   },
   {
    "duration": 0,
    "start_time": "2024-12-05T14:40:12.425Z"
   },
   {
    "duration": 0,
    "start_time": "2024-12-05T14:40:12.426Z"
   },
   {
    "duration": 0,
    "start_time": "2024-12-05T14:40:12.427Z"
   },
   {
    "duration": 0,
    "start_time": "2024-12-05T14:40:12.428Z"
   },
   {
    "duration": 0,
    "start_time": "2024-12-05T14:40:12.429Z"
   },
   {
    "duration": 0,
    "start_time": "2024-12-05T14:40:12.430Z"
   },
   {
    "duration": 0,
    "start_time": "2024-12-05T14:40:12.431Z"
   },
   {
    "duration": 0,
    "start_time": "2024-12-05T14:40:12.432Z"
   },
   {
    "duration": 13,
    "start_time": "2024-12-05T14:40:33.539Z"
   },
   {
    "duration": 4,
    "start_time": "2024-12-05T14:41:20.541Z"
   },
   {
    "duration": 12,
    "start_time": "2024-12-05T14:41:21.974Z"
   },
   {
    "duration": 1733,
    "start_time": "2024-12-05T14:41:51.539Z"
   },
   {
    "duration": 2,
    "start_time": "2024-12-05T14:41:53.274Z"
   },
   {
    "duration": 50,
    "start_time": "2024-12-05T14:41:53.278Z"
   },
   {
    "duration": 10,
    "start_time": "2024-12-05T14:41:53.330Z"
   },
   {
    "duration": 9,
    "start_time": "2024-12-05T14:41:53.342Z"
   },
   {
    "duration": 4,
    "start_time": "2024-12-05T14:41:53.352Z"
   },
   {
    "duration": 14,
    "start_time": "2024-12-05T14:41:53.357Z"
   },
   {
    "duration": 5,
    "start_time": "2024-12-05T14:41:53.373Z"
   },
   {
    "duration": 13,
    "start_time": "2024-12-05T14:41:53.380Z"
   },
   {
    "duration": 375,
    "start_time": "2024-12-05T14:41:53.395Z"
   },
   {
    "duration": 21,
    "start_time": "2024-12-05T14:41:53.771Z"
   },
   {
    "duration": 607,
    "start_time": "2024-12-05T14:41:53.793Z"
   },
   {
    "duration": 8,
    "start_time": "2024-12-05T14:41:54.403Z"
   },
   {
    "duration": 807,
    "start_time": "2024-12-05T14:41:54.412Z"
   },
   {
    "duration": 209,
    "start_time": "2024-12-05T14:41:55.221Z"
   },
   {
    "duration": 3,
    "start_time": "2024-12-05T14:41:55.432Z"
   },
   {
    "duration": 22,
    "start_time": "2024-12-05T14:41:55.436Z"
   },
   {
    "duration": 18,
    "start_time": "2024-12-05T14:41:55.459Z"
   },
   {
    "duration": 260,
    "start_time": "2024-12-05T14:41:55.478Z"
   },
   {
    "duration": 5,
    "start_time": "2024-12-05T14:41:55.739Z"
   },
   {
    "duration": 5,
    "start_time": "2024-12-05T14:41:55.745Z"
   },
   {
    "duration": 10,
    "start_time": "2024-12-05T14:41:55.751Z"
   },
   {
    "duration": 4,
    "start_time": "2024-12-05T14:41:55.762Z"
   },
   {
    "duration": 27,
    "start_time": "2024-12-05T14:41:55.767Z"
   },
   {
    "duration": 6,
    "start_time": "2024-12-05T14:41:55.796Z"
   },
   {
    "duration": 4,
    "start_time": "2024-12-05T14:41:55.803Z"
   },
   {
    "duration": 5,
    "start_time": "2024-12-05T14:41:55.808Z"
   },
   {
    "duration": 13,
    "start_time": "2024-12-05T14:41:55.817Z"
   },
   {
    "duration": 11,
    "start_time": "2024-12-05T14:41:55.831Z"
   },
   {
    "duration": 7,
    "start_time": "2024-12-05T14:41:55.843Z"
   },
   {
    "duration": 5,
    "start_time": "2024-12-05T14:41:55.851Z"
   },
   {
    "duration": 3,
    "start_time": "2024-12-05T14:41:55.858Z"
   },
   {
    "duration": 35,
    "start_time": "2024-12-05T14:41:55.862Z"
   },
   {
    "duration": 3,
    "start_time": "2024-12-05T14:41:55.899Z"
   },
   {
    "duration": 11,
    "start_time": "2024-12-05T14:41:55.904Z"
   },
   {
    "duration": 26,
    "start_time": "2024-12-05T14:41:55.916Z"
   },
   {
    "duration": 125,
    "start_time": "2024-12-05T14:41:55.943Z"
   },
   {
    "duration": 11787,
    "start_time": "2024-12-05T14:41:56.069Z"
   },
   {
    "duration": 32578,
    "start_time": "2024-12-05T14:42:07.857Z"
   },
   {
    "duration": 33871,
    "start_time": "2024-12-05T14:42:40.437Z"
   },
   {
    "duration": 1789,
    "start_time": "2024-12-05T15:25:10.015Z"
   },
   {
    "duration": 2,
    "start_time": "2024-12-05T15:25:11.806Z"
   },
   {
    "duration": 189,
    "start_time": "2024-12-05T15:25:11.809Z"
   },
   {
    "duration": 11,
    "start_time": "2024-12-05T15:25:12.000Z"
   },
   {
    "duration": 13,
    "start_time": "2024-12-05T15:25:12.012Z"
   },
   {
    "duration": 9,
    "start_time": "2024-12-05T15:25:12.026Z"
   },
   {
    "duration": 6,
    "start_time": "2024-12-05T15:25:12.036Z"
   },
   {
    "duration": 10,
    "start_time": "2024-12-05T15:25:12.043Z"
   },
   {
    "duration": 4,
    "start_time": "2024-12-05T15:25:12.054Z"
   },
   {
    "duration": 369,
    "start_time": "2024-12-05T15:25:12.060Z"
   },
   {
    "duration": 8,
    "start_time": "2024-12-05T15:25:12.431Z"
   },
   {
    "duration": 615,
    "start_time": "2024-12-05T15:25:12.441Z"
   },
   {
    "duration": 7,
    "start_time": "2024-12-05T15:25:13.058Z"
   },
   {
    "duration": 788,
    "start_time": "2024-12-05T15:25:13.066Z"
   },
   {
    "duration": 229,
    "start_time": "2024-12-05T15:25:13.856Z"
   },
   {
    "duration": 9,
    "start_time": "2024-12-05T15:25:14.086Z"
   },
   {
    "duration": 18,
    "start_time": "2024-12-05T15:25:14.096Z"
   },
   {
    "duration": 19,
    "start_time": "2024-12-05T15:25:14.116Z"
   },
   {
    "duration": 217,
    "start_time": "2024-12-05T15:25:14.136Z"
   },
   {
    "duration": 4,
    "start_time": "2024-12-05T15:25:14.355Z"
   },
   {
    "duration": 8,
    "start_time": "2024-12-05T15:25:14.361Z"
   },
   {
    "duration": 23,
    "start_time": "2024-12-05T15:25:14.371Z"
   },
   {
    "duration": 5,
    "start_time": "2024-12-05T15:25:14.396Z"
   },
   {
    "duration": 9,
    "start_time": "2024-12-05T15:25:14.403Z"
   },
   {
    "duration": 18,
    "start_time": "2024-12-05T15:25:14.414Z"
   },
   {
    "duration": 12,
    "start_time": "2024-12-05T15:25:14.433Z"
   },
   {
    "duration": 3,
    "start_time": "2024-12-05T15:25:14.447Z"
   },
   {
    "duration": 8,
    "start_time": "2024-12-05T15:25:14.454Z"
   },
   {
    "duration": 8,
    "start_time": "2024-12-05T15:25:14.464Z"
   },
   {
    "duration": 12,
    "start_time": "2024-12-05T15:25:14.473Z"
   },
   {
    "duration": 11,
    "start_time": "2024-12-05T15:25:14.487Z"
   },
   {
    "duration": 24,
    "start_time": "2024-12-05T15:25:14.499Z"
   },
   {
    "duration": 29,
    "start_time": "2024-12-05T15:25:14.524Z"
   },
   {
    "duration": 65,
    "start_time": "2024-12-05T15:25:14.554Z"
   },
   {
    "duration": 20,
    "start_time": "2024-12-05T15:25:14.621Z"
   },
   {
    "duration": 2,
    "start_time": "2024-12-05T15:25:14.643Z"
   },
   {
    "duration": 126,
    "start_time": "2024-12-05T15:25:14.647Z"
   },
   {
    "duration": 11989,
    "start_time": "2024-12-05T15:25:14.775Z"
   },
   {
    "duration": 41875,
    "start_time": "2024-12-05T15:25:26.765Z"
   },
   {
    "duration": 43469,
    "start_time": "2024-12-05T15:26:08.641Z"
   },
   {
    "duration": 1771,
    "start_time": "2024-12-05T15:31:19.997Z"
   },
   {
    "duration": 2,
    "start_time": "2024-12-05T15:31:21.770Z"
   },
   {
    "duration": 63,
    "start_time": "2024-12-05T15:31:21.774Z"
   },
   {
    "duration": 9,
    "start_time": "2024-12-05T15:31:21.839Z"
   },
   {
    "duration": 15,
    "start_time": "2024-12-05T15:31:21.850Z"
   },
   {
    "duration": 4,
    "start_time": "2024-12-05T15:31:21.866Z"
   },
   {
    "duration": 4,
    "start_time": "2024-12-05T15:31:21.871Z"
   },
   {
    "duration": 4,
    "start_time": "2024-12-05T15:31:21.877Z"
   },
   {
    "duration": 11,
    "start_time": "2024-12-05T15:31:21.882Z"
   },
   {
    "duration": 372,
    "start_time": "2024-12-05T15:31:21.895Z"
   },
   {
    "duration": 9,
    "start_time": "2024-12-05T15:31:22.269Z"
   },
   {
    "duration": 645,
    "start_time": "2024-12-05T15:31:22.279Z"
   },
   {
    "duration": 8,
    "start_time": "2024-12-05T15:31:22.927Z"
   },
   {
    "duration": 768,
    "start_time": "2024-12-05T15:31:22.937Z"
   },
   {
    "duration": 212,
    "start_time": "2024-12-05T15:31:23.706Z"
   },
   {
    "duration": 4,
    "start_time": "2024-12-05T15:31:23.921Z"
   },
   {
    "duration": 12,
    "start_time": "2024-12-05T15:31:23.927Z"
   },
   {
    "duration": 20,
    "start_time": "2024-12-05T15:31:23.941Z"
   },
   {
    "duration": 268,
    "start_time": "2024-12-05T15:31:23.962Z"
   },
   {
    "duration": 5,
    "start_time": "2024-12-05T15:31:24.231Z"
   },
   {
    "duration": 17,
    "start_time": "2024-12-05T15:31:24.237Z"
   },
   {
    "duration": 15,
    "start_time": "2024-12-05T15:31:24.255Z"
   },
   {
    "duration": 4,
    "start_time": "2024-12-05T15:31:24.272Z"
   },
   {
    "duration": 15,
    "start_time": "2024-12-05T15:31:24.277Z"
   },
   {
    "duration": 15,
    "start_time": "2024-12-05T15:31:24.293Z"
   },
   {
    "duration": 6,
    "start_time": "2024-12-05T15:31:24.309Z"
   },
   {
    "duration": 4,
    "start_time": "2024-12-05T15:31:24.316Z"
   },
   {
    "duration": 4,
    "start_time": "2024-12-05T15:31:24.324Z"
   },
   {
    "duration": 4,
    "start_time": "2024-12-05T15:31:24.329Z"
   },
   {
    "duration": 13,
    "start_time": "2024-12-05T15:31:24.335Z"
   },
   {
    "duration": 4,
    "start_time": "2024-12-05T15:31:24.350Z"
   },
   {
    "duration": 7,
    "start_time": "2024-12-05T15:31:24.355Z"
   },
   {
    "duration": 30,
    "start_time": "2024-12-05T15:31:24.363Z"
   },
   {
    "duration": 5,
    "start_time": "2024-12-05T15:31:24.394Z"
   },
   {
    "duration": 13,
    "start_time": "2024-12-05T15:31:24.400Z"
   },
   {
    "duration": 3,
    "start_time": "2024-12-05T15:31:24.415Z"
   },
   {
    "duration": 142,
    "start_time": "2024-12-05T15:31:24.420Z"
   },
   {
    "duration": 11877,
    "start_time": "2024-12-05T15:31:24.564Z"
   },
   {
    "duration": 46191,
    "start_time": "2024-12-05T15:31:36.443Z"
   },
   {
    "duration": 47266,
    "start_time": "2024-12-05T15:32:22.635Z"
   },
   {
    "duration": 348656,
    "start_time": "2024-12-05T15:33:09.903Z"
   },
   {
    "duration": 7,
    "start_time": "2024-12-05T15:38:58.561Z"
   },
   {
    "duration": 7,
    "start_time": "2024-12-05T15:38:58.569Z"
   },
   {
    "duration": 19,
    "start_time": "2024-12-05T15:38:58.578Z"
   },
   {
    "duration": 8,
    "start_time": "2024-12-05T15:38:58.598Z"
   },
   {
    "duration": 5,
    "start_time": "2024-12-05T15:38:58.607Z"
   },
   {
    "duration": 4,
    "start_time": "2024-12-05T15:38:58.613Z"
   },
   {
    "duration": 15,
    "start_time": "2024-12-05T15:38:58.618Z"
   },
   {
    "duration": 11,
    "start_time": "2024-12-05T15:38:58.635Z"
   },
   {
    "duration": 15,
    "start_time": "2024-12-05T15:38:58.647Z"
   },
   {
    "duration": 4,
    "start_time": "2024-12-05T15:38:58.663Z"
   },
   {
    "duration": 4,
    "start_time": "2024-12-05T15:38:58.693Z"
   },
   {
    "duration": 7,
    "start_time": "2024-12-05T15:38:58.698Z"
   },
   {
    "duration": 124,
    "start_time": "2024-12-05T15:38:58.707Z"
   },
   {
    "duration": 117,
    "start_time": "2024-12-05T15:38:58.833Z"
   },
   {
    "duration": 124,
    "start_time": "2024-12-05T15:38:58.951Z"
   },
   {
    "duration": 4,
    "start_time": "2024-12-05T15:38:59.076Z"
   },
   {
    "duration": 13,
    "start_time": "2024-12-05T15:38:59.081Z"
   },
   {
    "duration": 12,
    "start_time": "2024-12-05T15:38:59.096Z"
   },
   {
    "duration": 17,
    "start_time": "2024-12-05T15:38:59.110Z"
   },
   {
    "duration": 64,
    "start_time": "2024-12-05T15:38:59.129Z"
   },
   {
    "duration": 17,
    "start_time": "2024-12-05T15:38:59.195Z"
   },
   {
    "duration": 79,
    "start_time": "2024-12-05T15:38:59.214Z"
   },
   {
    "duration": 4,
    "start_time": "2024-12-05T15:38:59.295Z"
   },
   {
    "duration": 4,
    "start_time": "2024-12-05T15:38:59.301Z"
   },
   {
    "duration": 7,
    "start_time": "2024-12-05T15:38:59.307Z"
   },
   {
    "duration": 6,
    "start_time": "2024-12-05T15:38:59.315Z"
   },
   {
    "duration": 11,
    "start_time": "2024-12-05T15:38:59.322Z"
   },
   {
    "duration": 4,
    "start_time": "2024-12-05T15:38:59.334Z"
   },
   {
    "duration": 3,
    "start_time": "2024-12-05T15:38:59.340Z"
   },
   {
    "duration": 57,
    "start_time": "2024-12-05T15:38:59.345Z"
   },
   {
    "duration": 6,
    "start_time": "2024-12-05T15:38:59.404Z"
   },
   {
    "duration": 11,
    "start_time": "2024-12-05T15:38:59.411Z"
   },
   {
    "duration": 51,
    "start_time": "2024-12-06T06:23:29.375Z"
   },
   {
    "duration": 1719,
    "start_time": "2024-12-06T06:33:50.441Z"
   },
   {
    "duration": 3,
    "start_time": "2024-12-06T06:33:52.162Z"
   },
   {
    "duration": 186,
    "start_time": "2024-12-06T06:33:52.166Z"
   },
   {
    "duration": 11,
    "start_time": "2024-12-06T06:33:52.354Z"
   },
   {
    "duration": 17,
    "start_time": "2024-12-06T06:33:52.366Z"
   },
   {
    "duration": 4,
    "start_time": "2024-12-06T06:33:52.385Z"
   },
   {
    "duration": 6,
    "start_time": "2024-12-06T06:33:52.391Z"
   },
   {
    "duration": 22,
    "start_time": "2024-12-06T06:33:52.398Z"
   },
   {
    "duration": 4,
    "start_time": "2024-12-06T06:33:52.422Z"
   },
   {
    "duration": 395,
    "start_time": "2024-12-06T06:33:52.429Z"
   },
   {
    "duration": 9,
    "start_time": "2024-12-06T06:33:52.826Z"
   },
   {
    "duration": 673,
    "start_time": "2024-12-06T06:33:52.836Z"
   },
   {
    "duration": 7,
    "start_time": "2024-12-06T06:33:53.510Z"
   },
   {
    "duration": 785,
    "start_time": "2024-12-06T06:33:53.519Z"
   },
   {
    "duration": 333,
    "start_time": "2024-12-06T06:33:54.306Z"
   },
   {
    "duration": 4,
    "start_time": "2024-12-06T06:33:54.641Z"
   },
   {
    "duration": 12,
    "start_time": "2024-12-06T06:33:54.652Z"
   },
   {
    "duration": 20,
    "start_time": "2024-12-06T06:33:54.666Z"
   },
   {
    "duration": 229,
    "start_time": "2024-12-06T06:33:54.687Z"
   },
   {
    "duration": 4,
    "start_time": "2024-12-06T06:33:54.918Z"
   },
   {
    "duration": 27,
    "start_time": "2024-12-06T06:33:54.924Z"
   },
   {
    "duration": 22,
    "start_time": "2024-12-06T06:33:54.952Z"
   },
   {
    "duration": 8,
    "start_time": "2024-12-06T06:33:54.975Z"
   },
   {
    "duration": 17,
    "start_time": "2024-12-06T06:33:54.985Z"
   },
   {
    "duration": 19,
    "start_time": "2024-12-06T06:33:55.004Z"
   },
   {
    "duration": 12,
    "start_time": "2024-12-06T06:33:55.025Z"
   },
   {
    "duration": 23,
    "start_time": "2024-12-06T06:33:55.039Z"
   },
   {
    "duration": 26,
    "start_time": "2024-12-06T06:33:55.065Z"
   },
   {
    "duration": 22,
    "start_time": "2024-12-06T06:33:55.093Z"
   },
   {
    "duration": 5,
    "start_time": "2024-12-06T06:33:55.117Z"
   },
   {
    "duration": 7,
    "start_time": "2024-12-06T06:33:55.123Z"
   },
   {
    "duration": 5,
    "start_time": "2024-12-06T06:33:55.131Z"
   },
   {
    "duration": 9,
    "start_time": "2024-12-06T06:33:55.138Z"
   },
   {
    "duration": 4,
    "start_time": "2024-12-06T06:33:55.149Z"
   },
   {
    "duration": 20,
    "start_time": "2024-12-06T06:33:55.155Z"
   },
   {
    "duration": 14,
    "start_time": "2024-12-06T06:33:55.177Z"
   },
   {
    "duration": 18,
    "start_time": "2024-12-06T06:33:55.193Z"
   },
   {
    "duration": 2043,
    "start_time": "2024-12-11T13:45:47.484Z"
   },
   {
    "duration": 3,
    "start_time": "2024-12-11T13:45:49.529Z"
   },
   {
    "duration": 147,
    "start_time": "2024-12-11T13:45:49.533Z"
   },
   {
    "duration": 13,
    "start_time": "2024-12-11T13:45:49.682Z"
   },
   {
    "duration": 32,
    "start_time": "2024-12-11T13:45:49.697Z"
   },
   {
    "duration": 15,
    "start_time": "2024-12-11T13:45:49.732Z"
   },
   {
    "duration": 45,
    "start_time": "2024-12-11T13:45:49.749Z"
   },
   {
    "duration": 21,
    "start_time": "2024-12-11T13:45:49.796Z"
   },
   {
    "duration": 46,
    "start_time": "2024-12-11T13:45:49.819Z"
   },
   {
    "duration": 416,
    "start_time": "2024-12-11T13:45:49.867Z"
   },
   {
    "duration": 14,
    "start_time": "2024-12-11T13:45:50.286Z"
   },
   {
    "duration": 679,
    "start_time": "2024-12-11T13:45:50.301Z"
   },
   {
    "duration": 9,
    "start_time": "2024-12-11T13:45:50.982Z"
   },
   {
    "duration": 896,
    "start_time": "2024-12-11T13:45:50.993Z"
   },
   {
    "duration": 228,
    "start_time": "2024-12-11T13:45:51.891Z"
   },
   {
    "duration": 4,
    "start_time": "2024-12-11T13:45:52.122Z"
   },
   {
    "duration": 26,
    "start_time": "2024-12-11T13:45:52.128Z"
   },
   {
    "duration": 44,
    "start_time": "2024-12-11T13:45:52.156Z"
   },
   {
    "duration": 152,
    "start_time": "2024-12-11T13:45:52.202Z"
   },
   {
    "duration": 0,
    "start_time": "2024-12-11T13:45:52.357Z"
   },
   {
    "duration": 1,
    "start_time": "2024-12-11T13:45:52.358Z"
   },
   {
    "duration": 0,
    "start_time": "2024-12-11T13:45:52.360Z"
   },
   {
    "duration": 0,
    "start_time": "2024-12-11T13:45:52.361Z"
   },
   {
    "duration": 0,
    "start_time": "2024-12-11T13:45:52.362Z"
   },
   {
    "duration": 0,
    "start_time": "2024-12-11T13:45:52.364Z"
   },
   {
    "duration": 0,
    "start_time": "2024-12-11T13:45:52.365Z"
   },
   {
    "duration": 0,
    "start_time": "2024-12-11T13:45:52.366Z"
   },
   {
    "duration": 0,
    "start_time": "2024-12-11T13:45:52.367Z"
   },
   {
    "duration": 1,
    "start_time": "2024-12-11T13:45:52.391Z"
   },
   {
    "duration": 0,
    "start_time": "2024-12-11T13:45:52.393Z"
   },
   {
    "duration": 0,
    "start_time": "2024-12-11T13:45:52.394Z"
   },
   {
    "duration": 0,
    "start_time": "2024-12-11T13:45:52.395Z"
   },
   {
    "duration": 0,
    "start_time": "2024-12-11T13:45:52.396Z"
   },
   {
    "duration": 0,
    "start_time": "2024-12-11T13:45:52.397Z"
   },
   {
    "duration": 0,
    "start_time": "2024-12-11T13:45:52.398Z"
   },
   {
    "duration": 0,
    "start_time": "2024-12-11T13:45:52.400Z"
   },
   {
    "duration": 0,
    "start_time": "2024-12-11T13:45:52.401Z"
   },
   {
    "duration": 0,
    "start_time": "2024-12-11T13:45:52.402Z"
   },
   {
    "duration": 0,
    "start_time": "2024-12-11T13:45:52.403Z"
   },
   {
    "duration": 0,
    "start_time": "2024-12-11T13:45:52.404Z"
   },
   {
    "duration": 0,
    "start_time": "2024-12-11T13:45:52.405Z"
   },
   {
    "duration": 0,
    "start_time": "2024-12-11T13:45:52.406Z"
   },
   {
    "duration": 0,
    "start_time": "2024-12-11T13:45:52.407Z"
   },
   {
    "duration": 0,
    "start_time": "2024-12-11T13:45:52.409Z"
   },
   {
    "duration": 0,
    "start_time": "2024-12-11T13:45:52.410Z"
   },
   {
    "duration": 0,
    "start_time": "2024-12-11T13:45:52.411Z"
   },
   {
    "duration": 0,
    "start_time": "2024-12-11T13:45:52.412Z"
   },
   {
    "duration": 0,
    "start_time": "2024-12-11T13:45:52.413Z"
   },
   {
    "duration": 0,
    "start_time": "2024-12-11T13:45:52.415Z"
   },
   {
    "duration": 0,
    "start_time": "2024-12-11T13:45:52.416Z"
   },
   {
    "duration": 0,
    "start_time": "2024-12-11T13:45:52.417Z"
   },
   {
    "duration": 0,
    "start_time": "2024-12-11T13:45:52.418Z"
   },
   {
    "duration": 0,
    "start_time": "2024-12-11T13:45:52.419Z"
   },
   {
    "duration": 0,
    "start_time": "2024-12-11T13:45:52.420Z"
   },
   {
    "duration": 0,
    "start_time": "2024-12-11T13:45:52.421Z"
   },
   {
    "duration": 0,
    "start_time": "2024-12-11T13:45:52.422Z"
   },
   {
    "duration": 0,
    "start_time": "2024-12-11T13:45:52.424Z"
   },
   {
    "duration": 0,
    "start_time": "2024-12-11T13:45:52.425Z"
   },
   {
    "duration": 0,
    "start_time": "2024-12-11T13:45:52.426Z"
   },
   {
    "duration": 0,
    "start_time": "2024-12-11T13:45:52.427Z"
   },
   {
    "duration": 0,
    "start_time": "2024-12-11T13:45:52.492Z"
   },
   {
    "duration": 0,
    "start_time": "2024-12-11T13:45:52.493Z"
   },
   {
    "duration": 0,
    "start_time": "2024-12-11T13:45:52.494Z"
   },
   {
    "duration": 0,
    "start_time": "2024-12-11T13:45:52.496Z"
   },
   {
    "duration": 0,
    "start_time": "2024-12-11T13:45:52.497Z"
   },
   {
    "duration": 0,
    "start_time": "2024-12-11T13:45:52.498Z"
   },
   {
    "duration": 0,
    "start_time": "2024-12-11T13:45:52.499Z"
   },
   {
    "duration": 0,
    "start_time": "2024-12-11T13:45:52.500Z"
   },
   {
    "duration": 1,
    "start_time": "2024-12-11T13:45:52.501Z"
   },
   {
    "duration": 0,
    "start_time": "2024-12-11T13:45:52.503Z"
   },
   {
    "duration": 0,
    "start_time": "2024-12-11T13:45:52.504Z"
   },
   {
    "duration": 0,
    "start_time": "2024-12-11T13:45:52.505Z"
   },
   {
    "duration": 0,
    "start_time": "2024-12-11T13:45:52.506Z"
   },
   {
    "duration": 0,
    "start_time": "2024-12-11T13:45:52.507Z"
   },
   {
    "duration": 0,
    "start_time": "2024-12-11T13:45:52.509Z"
   },
   {
    "duration": 274,
    "start_time": "2024-12-11T13:46:10.366Z"
   },
   {
    "duration": 252,
    "start_time": "2024-12-11T13:46:18.351Z"
   },
   {
    "duration": 1827,
    "start_time": "2024-12-11T13:52:43.702Z"
   },
   {
    "duration": 2,
    "start_time": "2024-12-11T13:52:45.531Z"
   },
   {
    "duration": 64,
    "start_time": "2024-12-11T13:52:45.535Z"
   },
   {
    "duration": 10,
    "start_time": "2024-12-11T13:52:45.601Z"
   },
   {
    "duration": 10,
    "start_time": "2024-12-11T13:52:45.613Z"
   },
   {
    "duration": 4,
    "start_time": "2024-12-11T13:52:45.625Z"
   },
   {
    "duration": 10,
    "start_time": "2024-12-11T13:52:45.630Z"
   },
   {
    "duration": 10,
    "start_time": "2024-12-11T13:52:45.642Z"
   },
   {
    "duration": 9,
    "start_time": "2024-12-11T13:52:45.654Z"
   },
   {
    "duration": 394,
    "start_time": "2024-12-11T13:52:45.666Z"
   },
   {
    "duration": 9,
    "start_time": "2024-12-11T13:52:46.062Z"
   },
   {
    "duration": 680,
    "start_time": "2024-12-11T13:52:46.072Z"
   },
   {
    "duration": 7,
    "start_time": "2024-12-11T13:52:46.754Z"
   },
   {
    "duration": 911,
    "start_time": "2024-12-11T13:52:46.762Z"
   },
   {
    "duration": 234,
    "start_time": "2024-12-11T13:52:47.674Z"
   },
   {
    "duration": 3,
    "start_time": "2024-12-11T13:52:47.910Z"
   },
   {
    "duration": 23,
    "start_time": "2024-12-11T13:52:47.915Z"
   },
   {
    "duration": 27,
    "start_time": "2024-12-11T13:52:47.939Z"
   },
   {
    "duration": 263,
    "start_time": "2024-12-11T13:52:47.991Z"
   },
   {
    "duration": 7,
    "start_time": "2024-12-11T13:52:48.256Z"
   },
   {
    "duration": 14,
    "start_time": "2024-12-11T13:52:48.265Z"
   },
   {
    "duration": 16,
    "start_time": "2024-12-11T13:52:48.291Z"
   },
   {
    "duration": 7,
    "start_time": "2024-12-11T13:52:48.309Z"
   },
   {
    "duration": 7,
    "start_time": "2024-12-11T13:52:48.317Z"
   },
   {
    "duration": 9,
    "start_time": "2024-12-11T13:52:48.326Z"
   },
   {
    "duration": 7,
    "start_time": "2024-12-11T13:52:48.337Z"
   },
   {
    "duration": 5,
    "start_time": "2024-12-11T13:52:48.345Z"
   },
   {
    "duration": 4,
    "start_time": "2024-12-11T13:52:48.354Z"
   },
   {
    "duration": 35,
    "start_time": "2024-12-11T13:52:48.360Z"
   },
   {
    "duration": 5,
    "start_time": "2024-12-11T13:52:48.398Z"
   },
   {
    "duration": 6,
    "start_time": "2024-12-11T13:52:48.405Z"
   },
   {
    "duration": 5,
    "start_time": "2024-12-11T13:52:48.412Z"
   },
   {
    "duration": 15,
    "start_time": "2024-12-11T13:52:48.419Z"
   },
   {
    "duration": 33,
    "start_time": "2024-12-11T13:52:48.435Z"
   },
   {
    "duration": 21,
    "start_time": "2024-12-11T13:52:48.469Z"
   },
   {
    "duration": 4,
    "start_time": "2024-12-11T13:52:48.491Z"
   },
   {
    "duration": 19,
    "start_time": "2024-12-11T13:52:48.496Z"
   },
   {
    "duration": 4230,
    "start_time": "2024-12-11T13:52:48.517Z"
   },
   {
    "duration": 0,
    "start_time": "2024-12-11T13:52:52.749Z"
   },
   {
    "duration": 0,
    "start_time": "2024-12-11T13:52:52.751Z"
   },
   {
    "duration": 0,
    "start_time": "2024-12-11T13:52:52.752Z"
   },
   {
    "duration": 0,
    "start_time": "2024-12-11T13:52:52.753Z"
   },
   {
    "duration": 0,
    "start_time": "2024-12-11T13:52:52.754Z"
   },
   {
    "duration": 0,
    "start_time": "2024-12-11T13:52:52.755Z"
   },
   {
    "duration": 0,
    "start_time": "2024-12-11T13:52:52.756Z"
   },
   {
    "duration": 0,
    "start_time": "2024-12-11T13:52:52.757Z"
   },
   {
    "duration": 0,
    "start_time": "2024-12-11T13:52:52.758Z"
   },
   {
    "duration": 0,
    "start_time": "2024-12-11T13:52:52.759Z"
   },
   {
    "duration": 0,
    "start_time": "2024-12-11T13:52:52.760Z"
   },
   {
    "duration": 0,
    "start_time": "2024-12-11T13:52:52.761Z"
   },
   {
    "duration": 0,
    "start_time": "2024-12-11T13:52:52.762Z"
   },
   {
    "duration": 0,
    "start_time": "2024-12-11T13:52:52.762Z"
   },
   {
    "duration": 0,
    "start_time": "2024-12-11T13:52:52.764Z"
   },
   {
    "duration": 0,
    "start_time": "2024-12-11T13:52:52.764Z"
   },
   {
    "duration": 0,
    "start_time": "2024-12-11T13:52:52.765Z"
   },
   {
    "duration": 0,
    "start_time": "2024-12-11T13:52:52.766Z"
   },
   {
    "duration": 0,
    "start_time": "2024-12-11T13:52:52.767Z"
   },
   {
    "duration": 0,
    "start_time": "2024-12-11T13:52:52.768Z"
   },
   {
    "duration": 1,
    "start_time": "2024-12-11T13:52:52.768Z"
   },
   {
    "duration": 0,
    "start_time": "2024-12-11T13:52:52.770Z"
   },
   {
    "duration": 0,
    "start_time": "2024-12-11T13:52:52.771Z"
   },
   {
    "duration": 0,
    "start_time": "2024-12-11T13:52:52.772Z"
   },
   {
    "duration": 0,
    "start_time": "2024-12-11T13:52:52.773Z"
   },
   {
    "duration": 0,
    "start_time": "2024-12-11T13:52:52.774Z"
   },
   {
    "duration": 0,
    "start_time": "2024-12-11T13:52:52.775Z"
   },
   {
    "duration": 0,
    "start_time": "2024-12-11T13:52:52.776Z"
   },
   {
    "duration": 0,
    "start_time": "2024-12-11T13:52:52.777Z"
   },
   {
    "duration": 0,
    "start_time": "2024-12-11T13:52:52.778Z"
   },
   {
    "duration": 0,
    "start_time": "2024-12-11T13:52:52.779Z"
   },
   {
    "duration": 0,
    "start_time": "2024-12-11T13:52:52.780Z"
   },
   {
    "duration": 0,
    "start_time": "2024-12-11T13:52:52.781Z"
   },
   {
    "duration": 0,
    "start_time": "2024-12-11T13:52:52.782Z"
   },
   {
    "duration": 1,
    "start_time": "2024-12-11T13:52:52.783Z"
   },
   {
    "duration": 0,
    "start_time": "2024-12-11T13:52:52.784Z"
   },
   {
    "duration": 1786,
    "start_time": "2024-12-11T13:59:54.318Z"
   },
   {
    "duration": 3,
    "start_time": "2024-12-11T13:59:56.106Z"
   },
   {
    "duration": 90,
    "start_time": "2024-12-11T13:59:56.110Z"
   },
   {
    "duration": 10,
    "start_time": "2024-12-11T13:59:56.203Z"
   },
   {
    "duration": 24,
    "start_time": "2024-12-11T13:59:56.215Z"
   },
   {
    "duration": 10,
    "start_time": "2024-12-11T13:59:56.240Z"
   },
   {
    "duration": 34,
    "start_time": "2024-12-11T13:59:56.251Z"
   },
   {
    "duration": 26,
    "start_time": "2024-12-11T13:59:56.287Z"
   },
   {
    "duration": 9,
    "start_time": "2024-12-11T13:59:56.315Z"
   },
   {
    "duration": 387,
    "start_time": "2024-12-11T13:59:56.327Z"
   },
   {
    "duration": 9,
    "start_time": "2024-12-11T13:59:56.716Z"
   },
   {
    "duration": 677,
    "start_time": "2024-12-11T13:59:56.727Z"
   },
   {
    "duration": 8,
    "start_time": "2024-12-11T13:59:57.406Z"
   },
   {
    "duration": 885,
    "start_time": "2024-12-11T13:59:57.416Z"
   },
   {
    "duration": 234,
    "start_time": "2024-12-11T13:59:58.303Z"
   },
   {
    "duration": 4,
    "start_time": "2024-12-11T13:59:58.539Z"
   },
   {
    "duration": 22,
    "start_time": "2024-12-11T13:59:58.545Z"
   },
   {
    "duration": 45,
    "start_time": "2024-12-11T13:59:58.568Z"
   },
   {
    "duration": 234,
    "start_time": "2024-12-11T13:59:58.615Z"
   },
   {
    "duration": 5,
    "start_time": "2024-12-11T13:59:58.851Z"
   },
   {
    "duration": 8,
    "start_time": "2024-12-11T13:59:58.857Z"
   },
   {
    "duration": 35,
    "start_time": "2024-12-11T13:59:58.866Z"
   },
   {
    "duration": 7,
    "start_time": "2024-12-11T13:59:58.902Z"
   },
   {
    "duration": 12,
    "start_time": "2024-12-11T13:59:58.910Z"
   },
   {
    "duration": 5,
    "start_time": "2024-12-11T13:59:58.923Z"
   },
   {
    "duration": 11,
    "start_time": "2024-12-11T13:59:58.929Z"
   },
   {
    "duration": 4,
    "start_time": "2024-12-11T13:59:58.941Z"
   },
   {
    "duration": 3,
    "start_time": "2024-12-11T13:59:58.950Z"
   },
   {
    "duration": 8,
    "start_time": "2024-12-11T13:59:58.955Z"
   },
   {
    "duration": 4,
    "start_time": "2024-12-11T13:59:58.991Z"
   },
   {
    "duration": 4,
    "start_time": "2024-12-11T13:59:58.997Z"
   },
   {
    "duration": 5,
    "start_time": "2024-12-11T13:59:59.003Z"
   },
   {
    "duration": 10,
    "start_time": "2024-12-11T13:59:59.009Z"
   },
   {
    "duration": 5,
    "start_time": "2024-12-11T13:59:59.020Z"
   },
   {
    "duration": 19,
    "start_time": "2024-12-11T13:59:59.026Z"
   },
   {
    "duration": 3,
    "start_time": "2024-12-11T13:59:59.046Z"
   },
   {
    "duration": 48,
    "start_time": "2024-12-11T13:59:59.051Z"
   },
   {
    "duration": 238,
    "start_time": "2024-12-11T13:59:59.100Z"
   },
   {
    "duration": 20723,
    "start_time": "2024-12-11T13:59:59.391Z"
   },
   {
    "duration": 47988,
    "start_time": "2024-12-11T14:00:20.116Z"
   },
   {
    "duration": 47000,
    "start_time": "2024-12-11T14:01:08.105Z"
   },
   {
    "duration": 1811,
    "start_time": "2024-12-11T14:06:00.106Z"
   },
   {
    "duration": 3,
    "start_time": "2024-12-11T14:06:01.919Z"
   },
   {
    "duration": 77,
    "start_time": "2024-12-11T14:06:01.923Z"
   },
   {
    "duration": 10,
    "start_time": "2024-12-11T14:06:02.002Z"
   },
   {
    "duration": 73,
    "start_time": "2024-12-11T14:06:02.014Z"
   },
   {
    "duration": 37,
    "start_time": "2024-12-11T14:06:02.089Z"
   },
   {
    "duration": 43,
    "start_time": "2024-12-11T14:06:02.128Z"
   },
   {
    "duration": 37,
    "start_time": "2024-12-11T14:06:02.172Z"
   },
   {
    "duration": 27,
    "start_time": "2024-12-11T14:06:02.211Z"
   },
   {
    "duration": 446,
    "start_time": "2024-12-11T14:06:02.241Z"
   },
   {
    "duration": 10,
    "start_time": "2024-12-11T14:06:02.689Z"
   },
   {
    "duration": 700,
    "start_time": "2024-12-11T14:06:02.700Z"
   },
   {
    "duration": 8,
    "start_time": "2024-12-11T14:06:03.402Z"
   },
   {
    "duration": 883,
    "start_time": "2024-12-11T14:06:03.412Z"
   },
   {
    "duration": 236,
    "start_time": "2024-12-11T14:06:04.297Z"
   },
   {
    "duration": 5,
    "start_time": "2024-12-11T14:06:04.535Z"
   },
   {
    "duration": 43,
    "start_time": "2024-12-11T14:06:04.542Z"
   },
   {
    "duration": 45,
    "start_time": "2024-12-11T14:06:04.587Z"
   },
   {
    "duration": 263,
    "start_time": "2024-12-11T14:06:04.634Z"
   },
   {
    "duration": 5,
    "start_time": "2024-12-11T14:06:04.900Z"
   },
   {
    "duration": 11,
    "start_time": "2024-12-11T14:06:04.906Z"
   },
   {
    "duration": 17,
    "start_time": "2024-12-11T14:06:04.919Z"
   },
   {
    "duration": 18,
    "start_time": "2024-12-11T14:06:04.938Z"
   },
   {
    "duration": 32,
    "start_time": "2024-12-11T14:06:04.958Z"
   },
   {
    "duration": 29,
    "start_time": "2024-12-11T14:06:04.992Z"
   },
   {
    "duration": 57,
    "start_time": "2024-12-11T14:06:05.022Z"
   },
   {
    "duration": 21,
    "start_time": "2024-12-11T14:06:05.081Z"
   },
   {
    "duration": 5,
    "start_time": "2024-12-11T14:06:05.107Z"
   },
   {
    "duration": 49,
    "start_time": "2024-12-11T14:06:05.113Z"
   },
   {
    "duration": 17,
    "start_time": "2024-12-11T14:06:05.164Z"
   },
   {
    "duration": 24,
    "start_time": "2024-12-11T14:06:05.183Z"
   },
   {
    "duration": 17,
    "start_time": "2024-12-11T14:06:05.209Z"
   },
   {
    "duration": 24,
    "start_time": "2024-12-11T14:06:05.228Z"
   },
   {
    "duration": 10,
    "start_time": "2024-12-11T14:06:05.254Z"
   },
   {
    "duration": 20,
    "start_time": "2024-12-11T14:06:05.265Z"
   },
   {
    "duration": 41,
    "start_time": "2024-12-11T14:06:05.287Z"
   },
   {
    "duration": 62,
    "start_time": "2024-12-11T14:06:05.330Z"
   },
   {
    "duration": 306,
    "start_time": "2024-12-11T14:06:05.394Z"
   },
   {
    "duration": 19968,
    "start_time": "2024-12-11T14:06:05.702Z"
   },
   {
    "duration": 59734,
    "start_time": "2024-12-11T14:06:25.672Z"
   },
   {
    "duration": 37702,
    "start_time": "2024-12-11T14:07:25.407Z"
   },
   {
    "duration": 1834,
    "start_time": "2024-12-11T15:14:05.678Z"
   },
   {
    "duration": 3,
    "start_time": "2024-12-11T15:14:07.513Z"
   },
   {
    "duration": 132,
    "start_time": "2024-12-11T15:14:07.517Z"
   },
   {
    "duration": 11,
    "start_time": "2024-12-11T15:14:07.651Z"
   },
   {
    "duration": 11,
    "start_time": "2024-12-11T15:14:07.663Z"
   },
   {
    "duration": 11,
    "start_time": "2024-12-11T15:14:07.675Z"
   },
   {
    "duration": 18,
    "start_time": "2024-12-11T15:14:07.688Z"
   },
   {
    "duration": 32,
    "start_time": "2024-12-11T15:14:07.708Z"
   },
   {
    "duration": 14,
    "start_time": "2024-12-11T15:14:07.741Z"
   },
   {
    "duration": 391,
    "start_time": "2024-12-11T15:14:07.758Z"
   },
   {
    "duration": 9,
    "start_time": "2024-12-11T15:14:08.151Z"
   },
   {
    "duration": 651,
    "start_time": "2024-12-11T15:14:08.161Z"
   },
   {
    "duration": 7,
    "start_time": "2024-12-11T15:14:08.814Z"
   },
   {
    "duration": 842,
    "start_time": "2024-12-11T15:14:08.822Z"
   },
   {
    "duration": 232,
    "start_time": "2024-12-11T15:14:09.666Z"
   },
   {
    "duration": 4,
    "start_time": "2024-12-11T15:14:09.900Z"
   },
   {
    "duration": 32,
    "start_time": "2024-12-11T15:14:09.905Z"
   },
   {
    "duration": 35,
    "start_time": "2024-12-11T15:14:09.938Z"
   },
   {
    "duration": 269,
    "start_time": "2024-12-11T15:14:09.974Z"
   },
   {
    "duration": 6,
    "start_time": "2024-12-11T15:14:10.245Z"
   },
   {
    "duration": 38,
    "start_time": "2024-12-11T15:14:10.252Z"
   },
   {
    "duration": 38,
    "start_time": "2024-12-11T15:14:10.291Z"
   },
   {
    "duration": 31,
    "start_time": "2024-12-11T15:14:10.331Z"
   },
   {
    "duration": 26,
    "start_time": "2024-12-11T15:14:10.363Z"
   },
   {
    "duration": 45,
    "start_time": "2024-12-11T15:14:10.391Z"
   },
   {
    "duration": 25,
    "start_time": "2024-12-11T15:14:10.437Z"
   },
   {
    "duration": 31,
    "start_time": "2024-12-11T15:14:10.464Z"
   },
   {
    "duration": 26,
    "start_time": "2024-12-11T15:14:10.499Z"
   },
   {
    "duration": 13,
    "start_time": "2024-12-11T15:14:10.527Z"
   },
   {
    "duration": 32,
    "start_time": "2024-12-11T15:14:10.542Z"
   },
   {
    "duration": 45,
    "start_time": "2024-12-11T15:14:10.576Z"
   },
   {
    "duration": 30,
    "start_time": "2024-12-11T15:14:10.623Z"
   },
   {
    "duration": 67,
    "start_time": "2024-12-11T15:14:10.655Z"
   },
   {
    "duration": 23,
    "start_time": "2024-12-11T15:14:10.724Z"
   },
   {
    "duration": 18,
    "start_time": "2024-12-11T15:14:10.748Z"
   },
   {
    "duration": 14,
    "start_time": "2024-12-11T15:14:10.767Z"
   },
   {
    "duration": 50,
    "start_time": "2024-12-11T15:14:10.783Z"
   },
   {
    "duration": 193,
    "start_time": "2024-12-11T15:14:10.834Z"
   },
   {
    "duration": 20334,
    "start_time": "2024-12-11T15:14:11.030Z"
   },
   {
    "duration": 61463,
    "start_time": "2024-12-11T15:14:31.366Z"
   },
   {
    "duration": 70773,
    "start_time": "2024-12-11T15:15:32.831Z"
   },
   {
    "duration": 59825,
    "start_time": "2024-12-11T15:16:43.605Z"
   },
   {
    "duration": 8,
    "start_time": "2024-12-11T15:17:43.432Z"
   },
   {
    "duration": 34,
    "start_time": "2024-12-11T15:17:43.442Z"
   },
   {
    "duration": 7,
    "start_time": "2024-12-11T15:17:43.478Z"
   },
   {
    "duration": 9,
    "start_time": "2024-12-11T15:17:43.486Z"
   },
   {
    "duration": 4,
    "start_time": "2024-12-11T15:17:43.496Z"
   },
   {
    "duration": 3,
    "start_time": "2024-12-11T15:17:43.502Z"
   },
   {
    "duration": 25,
    "start_time": "2024-12-11T15:17:43.507Z"
   },
   {
    "duration": 22,
    "start_time": "2024-12-11T15:17:43.534Z"
   },
   {
    "duration": 41,
    "start_time": "2024-12-11T15:17:43.557Z"
   },
   {
    "duration": 4,
    "start_time": "2024-12-11T15:17:43.600Z"
   },
   {
    "duration": 4,
    "start_time": "2024-12-11T15:17:43.606Z"
   },
   {
    "duration": 16,
    "start_time": "2024-12-11T15:17:43.612Z"
   },
   {
    "duration": 122,
    "start_time": "2024-12-11T15:17:43.630Z"
   },
   {
    "duration": 118,
    "start_time": "2024-12-11T15:17:43.754Z"
   },
   {
    "duration": 123,
    "start_time": "2024-12-11T15:17:43.874Z"
   },
   {
    "duration": 4,
    "start_time": "2024-12-11T15:17:43.999Z"
   },
   {
    "duration": 23,
    "start_time": "2024-12-11T15:17:44.004Z"
   },
   {
    "duration": 10,
    "start_time": "2024-12-11T15:17:44.028Z"
   },
   {
    "duration": 11,
    "start_time": "2024-12-11T15:17:44.039Z"
   },
   {
    "duration": 40,
    "start_time": "2024-12-11T15:17:44.052Z"
   },
   {
    "duration": 13,
    "start_time": "2024-12-11T15:17:44.094Z"
   },
   {
    "duration": 5,
    "start_time": "2024-12-11T15:17:44.108Z"
   },
   {
    "duration": 4,
    "start_time": "2024-12-11T15:17:44.191Z"
   },
   {
    "duration": 4,
    "start_time": "2024-12-11T15:17:44.197Z"
   },
   {
    "duration": 11,
    "start_time": "2024-12-11T15:17:44.202Z"
   },
   {
    "duration": 15,
    "start_time": "2024-12-11T15:17:44.214Z"
   },
   {
    "duration": 15,
    "start_time": "2024-12-11T15:17:44.231Z"
   },
   {
    "duration": 8,
    "start_time": "2024-12-11T15:17:44.248Z"
   },
   {
    "duration": 6,
    "start_time": "2024-12-11T15:17:44.257Z"
   },
   {
    "duration": 3,
    "start_time": "2024-12-11T15:17:44.265Z"
   },
   {
    "duration": 22,
    "start_time": "2024-12-11T15:17:44.270Z"
   },
   {
    "duration": 12,
    "start_time": "2024-12-11T15:17:44.293Z"
   },
   {
    "duration": 1884,
    "start_time": "2024-12-11T17:07:58.929Z"
   },
   {
    "duration": 3,
    "start_time": "2024-12-11T17:08:00.815Z"
   },
   {
    "duration": 63,
    "start_time": "2024-12-11T17:08:00.819Z"
   },
   {
    "duration": 11,
    "start_time": "2024-12-11T17:08:00.884Z"
   },
   {
    "duration": 31,
    "start_time": "2024-12-11T17:08:00.896Z"
   },
   {
    "duration": 8,
    "start_time": "2024-12-11T17:08:00.929Z"
   },
   {
    "duration": 26,
    "start_time": "2024-12-11T17:08:00.939Z"
   },
   {
    "duration": 26,
    "start_time": "2024-12-11T17:08:00.966Z"
   },
   {
    "duration": 15,
    "start_time": "2024-12-11T17:08:00.993Z"
   },
   {
    "duration": 385,
    "start_time": "2024-12-11T17:08:01.010Z"
   },
   {
    "duration": 8,
    "start_time": "2024-12-11T17:08:01.397Z"
   },
   {
    "duration": 669,
    "start_time": "2024-12-11T17:08:01.407Z"
   },
   {
    "duration": 9,
    "start_time": "2024-12-11T17:08:02.078Z"
   },
   {
    "duration": 869,
    "start_time": "2024-12-11T17:08:02.089Z"
   },
   {
    "duration": 235,
    "start_time": "2024-12-11T17:08:02.960Z"
   },
   {
    "duration": 5,
    "start_time": "2024-12-11T17:08:03.197Z"
   },
   {
    "duration": 34,
    "start_time": "2024-12-11T17:08:03.204Z"
   },
   {
    "duration": 28,
    "start_time": "2024-12-11T17:08:03.240Z"
   },
   {
    "duration": 269,
    "start_time": "2024-12-11T17:08:03.270Z"
   },
   {
    "duration": 6,
    "start_time": "2024-12-11T17:08:03.540Z"
   },
   {
    "duration": 14,
    "start_time": "2024-12-11T17:08:03.547Z"
   },
   {
    "duration": 23,
    "start_time": "2024-12-11T17:08:03.563Z"
   },
   {
    "duration": 26,
    "start_time": "2024-12-11T17:08:03.591Z"
   },
   {
    "duration": 4,
    "start_time": "2024-12-11T17:08:03.619Z"
   },
   {
    "duration": 17,
    "start_time": "2024-12-11T17:08:03.625Z"
   },
   {
    "duration": 4,
    "start_time": "2024-12-11T17:08:03.643Z"
   },
   {
    "duration": 12,
    "start_time": "2024-12-11T17:08:03.649Z"
   },
   {
    "duration": 23,
    "start_time": "2024-12-11T17:08:03.666Z"
   },
   {
    "duration": 18,
    "start_time": "2024-12-11T17:08:03.690Z"
   },
   {
    "duration": 10,
    "start_time": "2024-12-11T17:08:03.709Z"
   },
   {
    "duration": 6,
    "start_time": "2024-12-11T17:08:03.721Z"
   },
   {
    "duration": 8,
    "start_time": "2024-12-11T17:08:03.728Z"
   },
   {
    "duration": 6,
    "start_time": "2024-12-11T17:08:03.738Z"
   },
   {
    "duration": 18,
    "start_time": "2024-12-11T17:08:03.746Z"
   },
   {
    "duration": 4,
    "start_time": "2024-12-11T17:08:03.766Z"
   },
   {
    "duration": 4,
    "start_time": "2024-12-11T17:08:03.772Z"
   },
   {
    "duration": 31,
    "start_time": "2024-12-11T17:08:03.777Z"
   },
   {
    "duration": 1983,
    "start_time": "2024-12-11T17:08:03.809Z"
   },
   {
    "duration": 30005,
    "start_time": "2024-12-11T17:08:05.794Z"
   },
   {
    "duration": 88896,
    "start_time": "2024-12-11T17:08:35.801Z"
   },
   {
    "duration": 49601,
    "start_time": "2024-12-11T17:10:04.699Z"
   },
   {
    "duration": 54,
    "start_time": "2024-12-11T18:43:09.782Z"
   },
   {
    "duration": 1855,
    "start_time": "2024-12-11T18:43:21.167Z"
   },
   {
    "duration": 2,
    "start_time": "2024-12-11T18:43:23.024Z"
   },
   {
    "duration": 93,
    "start_time": "2024-12-11T18:43:23.028Z"
   },
   {
    "duration": 11,
    "start_time": "2024-12-11T18:43:23.123Z"
   },
   {
    "duration": 36,
    "start_time": "2024-12-11T18:43:23.136Z"
   },
   {
    "duration": 26,
    "start_time": "2024-12-11T18:43:23.174Z"
   },
   {
    "duration": 18,
    "start_time": "2024-12-11T18:43:23.202Z"
   },
   {
    "duration": 46,
    "start_time": "2024-12-11T18:43:23.222Z"
   },
   {
    "duration": 8,
    "start_time": "2024-12-11T18:43:23.270Z"
   },
   {
    "duration": 390,
    "start_time": "2024-12-11T18:43:23.281Z"
   },
   {
    "duration": 9,
    "start_time": "2024-12-11T18:43:23.672Z"
   },
   {
    "duration": 662,
    "start_time": "2024-12-11T18:43:23.682Z"
   },
   {
    "duration": 6,
    "start_time": "2024-12-11T18:43:24.346Z"
   },
   {
    "duration": 863,
    "start_time": "2024-12-11T18:43:24.354Z"
   },
   {
    "duration": 227,
    "start_time": "2024-12-11T18:43:25.219Z"
   },
   {
    "duration": 3,
    "start_time": "2024-12-11T18:43:25.448Z"
   },
   {
    "duration": 38,
    "start_time": "2024-12-11T18:43:25.453Z"
   },
   {
    "duration": 30,
    "start_time": "2024-12-11T18:43:25.493Z"
   },
   {
    "duration": 227,
    "start_time": "2024-12-11T18:43:25.525Z"
   },
   {
    "duration": 6,
    "start_time": "2024-12-11T18:43:25.754Z"
   },
   {
    "duration": 6,
    "start_time": "2024-12-11T18:43:25.761Z"
   },
   {
    "duration": 36,
    "start_time": "2024-12-11T18:43:25.769Z"
   },
   {
    "duration": 13,
    "start_time": "2024-12-11T18:43:25.807Z"
   },
   {
    "duration": 4,
    "start_time": "2024-12-11T18:43:25.822Z"
   },
   {
    "duration": 19,
    "start_time": "2024-12-11T18:43:25.827Z"
   },
   {
    "duration": 4,
    "start_time": "2024-12-11T18:43:25.847Z"
   },
   {
    "duration": 10,
    "start_time": "2024-12-11T18:43:25.852Z"
   },
   {
    "duration": 24,
    "start_time": "2024-12-11T18:43:25.868Z"
   },
   {
    "duration": 4,
    "start_time": "2024-12-11T18:43:25.894Z"
   },
   {
    "duration": 11,
    "start_time": "2024-12-11T18:43:25.899Z"
   },
   {
    "duration": 7,
    "start_time": "2024-12-11T18:43:25.912Z"
   },
   {
    "duration": 22,
    "start_time": "2024-12-11T18:43:25.920Z"
   },
   {
    "duration": 5,
    "start_time": "2024-12-11T18:43:25.944Z"
   },
   {
    "duration": 5,
    "start_time": "2024-12-11T18:43:25.950Z"
   },
   {
    "duration": 8,
    "start_time": "2024-12-11T18:43:25.956Z"
   },
   {
    "duration": 5,
    "start_time": "2024-12-11T18:43:25.965Z"
   },
   {
    "duration": 29,
    "start_time": "2024-12-11T18:43:25.972Z"
   },
   {
    "duration": 1789,
    "start_time": "2024-12-11T18:43:26.003Z"
   },
   {
    "duration": 30466,
    "start_time": "2024-12-11T18:43:27.795Z"
   },
   {
    "duration": 75259,
    "start_time": "2024-12-11T18:43:58.263Z"
   },
   {
    "duration": 81885,
    "start_time": "2024-12-11T18:45:13.524Z"
   },
   {
    "duration": 50,
    "start_time": "2024-12-12T07:26:45.668Z"
   },
   {
    "duration": 2084,
    "start_time": "2024-12-12T07:26:53.555Z"
   },
   {
    "duration": 3,
    "start_time": "2024-12-12T07:27:04.102Z"
   },
   {
    "duration": 3,
    "start_time": "2024-12-12T07:27:24.275Z"
   },
   {
    "duration": 4,
    "start_time": "2024-12-12T07:33:03.342Z"
   },
   {
    "duration": 1793,
    "start_time": "2024-12-12T07:34:15.854Z"
   },
   {
    "duration": 3,
    "start_time": "2024-12-12T07:34:17.649Z"
   },
   {
    "duration": 116,
    "start_time": "2024-12-12T07:34:17.653Z"
   },
   {
    "duration": 11,
    "start_time": "2024-12-12T07:34:17.771Z"
   },
   {
    "duration": 18,
    "start_time": "2024-12-12T07:34:17.783Z"
   },
   {
    "duration": 15,
    "start_time": "2024-12-12T07:34:17.802Z"
   },
   {
    "duration": 6,
    "start_time": "2024-12-12T07:34:17.818Z"
   },
   {
    "duration": 7,
    "start_time": "2024-12-12T07:34:17.826Z"
   },
   {
    "duration": 8,
    "start_time": "2024-12-12T07:34:17.834Z"
   },
   {
    "duration": 387,
    "start_time": "2024-12-12T07:34:17.844Z"
   },
   {
    "duration": 8,
    "start_time": "2024-12-12T07:34:18.233Z"
   },
   {
    "duration": 692,
    "start_time": "2024-12-12T07:34:18.242Z"
   },
   {
    "duration": 7,
    "start_time": "2024-12-12T07:34:18.936Z"
   },
   {
    "duration": 866,
    "start_time": "2024-12-12T07:34:18.945Z"
   },
   {
    "duration": 238,
    "start_time": "2024-12-12T07:34:19.813Z"
   },
   {
    "duration": 5,
    "start_time": "2024-12-12T07:34:20.052Z"
   },
   {
    "duration": 30,
    "start_time": "2024-12-12T07:34:20.058Z"
   },
   {
    "duration": 40,
    "start_time": "2024-12-12T07:34:20.090Z"
   },
   {
    "duration": 254,
    "start_time": "2024-12-12T07:34:20.131Z"
   },
   {
    "duration": 6,
    "start_time": "2024-12-12T07:34:20.386Z"
   },
   {
    "duration": 10,
    "start_time": "2024-12-12T07:34:20.394Z"
   },
   {
    "duration": 29,
    "start_time": "2024-12-12T07:34:20.405Z"
   },
   {
    "duration": 15,
    "start_time": "2024-12-12T07:34:20.435Z"
   },
   {
    "duration": 10,
    "start_time": "2024-12-12T07:34:20.452Z"
   },
   {
    "duration": 22,
    "start_time": "2024-12-12T07:34:20.464Z"
   },
   {
    "duration": 6,
    "start_time": "2024-12-12T07:34:20.487Z"
   },
   {
    "duration": 7,
    "start_time": "2024-12-12T07:34:20.494Z"
   },
   {
    "duration": 161,
    "start_time": "2024-12-12T07:34:20.505Z"
   },
   {
    "duration": 0,
    "start_time": "2024-12-12T07:34:20.667Z"
   },
   {
    "duration": 0,
    "start_time": "2024-12-12T07:34:20.668Z"
   },
   {
    "duration": 0,
    "start_time": "2024-12-12T07:34:20.670Z"
   },
   {
    "duration": 0,
    "start_time": "2024-12-12T07:34:20.671Z"
   },
   {
    "duration": 0,
    "start_time": "2024-12-12T07:34:20.672Z"
   },
   {
    "duration": 0,
    "start_time": "2024-12-12T07:34:20.673Z"
   },
   {
    "duration": 0,
    "start_time": "2024-12-12T07:34:20.674Z"
   },
   {
    "duration": 0,
    "start_time": "2024-12-12T07:34:20.675Z"
   },
   {
    "duration": 0,
    "start_time": "2024-12-12T07:34:20.676Z"
   },
   {
    "duration": 0,
    "start_time": "2024-12-12T07:34:20.677Z"
   },
   {
    "duration": 0,
    "start_time": "2024-12-12T07:34:20.678Z"
   },
   {
    "duration": 0,
    "start_time": "2024-12-12T07:34:20.678Z"
   },
   {
    "duration": 0,
    "start_time": "2024-12-12T07:34:20.679Z"
   },
   {
    "duration": 0,
    "start_time": "2024-12-12T07:34:20.680Z"
   },
   {
    "duration": 1,
    "start_time": "2024-12-12T07:34:20.681Z"
   },
   {
    "duration": 0,
    "start_time": "2024-12-12T07:34:20.683Z"
   },
   {
    "duration": 0,
    "start_time": "2024-12-12T07:34:20.684Z"
   },
   {
    "duration": 0,
    "start_time": "2024-12-12T07:34:20.685Z"
   },
   {
    "duration": 0,
    "start_time": "2024-12-12T07:34:20.686Z"
   },
   {
    "duration": 0,
    "start_time": "2024-12-12T07:34:20.687Z"
   },
   {
    "duration": 0,
    "start_time": "2024-12-12T07:34:20.688Z"
   },
   {
    "duration": 0,
    "start_time": "2024-12-12T07:34:20.689Z"
   },
   {
    "duration": 0,
    "start_time": "2024-12-12T07:34:20.690Z"
   },
   {
    "duration": 0,
    "start_time": "2024-12-12T07:34:20.691Z"
   },
   {
    "duration": 0,
    "start_time": "2024-12-12T07:34:20.730Z"
   },
   {
    "duration": 0,
    "start_time": "2024-12-12T07:34:20.731Z"
   },
   {
    "duration": 0,
    "start_time": "2024-12-12T07:34:20.732Z"
   },
   {
    "duration": 0,
    "start_time": "2024-12-12T07:34:20.733Z"
   },
   {
    "duration": 0,
    "start_time": "2024-12-12T07:34:20.734Z"
   },
   {
    "duration": 0,
    "start_time": "2024-12-12T07:34:20.735Z"
   },
   {
    "duration": 0,
    "start_time": "2024-12-12T07:34:20.736Z"
   },
   {
    "duration": 0,
    "start_time": "2024-12-12T07:34:20.737Z"
   },
   {
    "duration": 0,
    "start_time": "2024-12-12T07:34:20.738Z"
   },
   {
    "duration": 0,
    "start_time": "2024-12-12T07:34:20.739Z"
   },
   {
    "duration": 0,
    "start_time": "2024-12-12T07:34:20.740Z"
   },
   {
    "duration": 0,
    "start_time": "2024-12-12T07:34:20.741Z"
   },
   {
    "duration": 0,
    "start_time": "2024-12-12T07:34:20.742Z"
   },
   {
    "duration": 0,
    "start_time": "2024-12-12T07:34:20.743Z"
   },
   {
    "duration": 0,
    "start_time": "2024-12-12T07:34:20.744Z"
   },
   {
    "duration": 0,
    "start_time": "2024-12-12T07:34:20.745Z"
   },
   {
    "duration": 0,
    "start_time": "2024-12-12T07:34:20.746Z"
   },
   {
    "duration": 0,
    "start_time": "2024-12-12T07:34:20.747Z"
   },
   {
    "duration": 0,
    "start_time": "2024-12-12T07:34:20.748Z"
   },
   {
    "duration": 0,
    "start_time": "2024-12-12T07:34:20.749Z"
   },
   {
    "duration": 0,
    "start_time": "2024-12-12T07:34:20.750Z"
   },
   {
    "duration": 0,
    "start_time": "2024-12-12T07:34:20.751Z"
   },
   {
    "duration": 0,
    "start_time": "2024-12-12T07:34:20.752Z"
   },
   {
    "duration": 0,
    "start_time": "2024-12-12T07:34:20.754Z"
   },
   {
    "duration": 0,
    "start_time": "2024-12-12T07:34:20.754Z"
   },
   {
    "duration": 1811,
    "start_time": "2024-12-12T07:35:32.859Z"
   },
   {
    "duration": 3,
    "start_time": "2024-12-12T07:35:34.672Z"
   },
   {
    "duration": 84,
    "start_time": "2024-12-12T07:35:34.677Z"
   },
   {
    "duration": 10,
    "start_time": "2024-12-12T07:35:34.763Z"
   },
   {
    "duration": 29,
    "start_time": "2024-12-12T07:35:34.774Z"
   },
   {
    "duration": 4,
    "start_time": "2024-12-12T07:35:34.805Z"
   },
   {
    "duration": 27,
    "start_time": "2024-12-12T07:35:34.810Z"
   },
   {
    "duration": 23,
    "start_time": "2024-12-12T07:35:34.839Z"
   },
   {
    "duration": 21,
    "start_time": "2024-12-12T07:35:34.864Z"
   },
   {
    "duration": 406,
    "start_time": "2024-12-12T07:35:34.888Z"
   },
   {
    "duration": 9,
    "start_time": "2024-12-12T07:35:35.295Z"
   },
   {
    "duration": 653,
    "start_time": "2024-12-12T07:35:35.305Z"
   },
   {
    "duration": 8,
    "start_time": "2024-12-12T07:35:35.960Z"
   },
   {
    "duration": 823,
    "start_time": "2024-12-12T07:35:35.970Z"
   },
   {
    "duration": 233,
    "start_time": "2024-12-12T07:35:36.795Z"
   },
   {
    "duration": 4,
    "start_time": "2024-12-12T07:35:37.030Z"
   },
   {
    "duration": 44,
    "start_time": "2024-12-12T07:35:37.035Z"
   },
   {
    "duration": 26,
    "start_time": "2024-12-12T07:35:37.081Z"
   },
   {
    "duration": 263,
    "start_time": "2024-12-12T07:35:37.109Z"
   },
   {
    "duration": 6,
    "start_time": "2024-12-12T07:35:37.374Z"
   },
   {
    "duration": 12,
    "start_time": "2024-12-12T07:35:37.381Z"
   },
   {
    "duration": 18,
    "start_time": "2024-12-12T07:35:37.395Z"
   },
   {
    "duration": 33,
    "start_time": "2024-12-12T07:35:37.414Z"
   },
   {
    "duration": 9,
    "start_time": "2024-12-12T07:35:37.449Z"
   },
   {
    "duration": 4,
    "start_time": "2024-12-12T07:35:37.459Z"
   },
   {
    "duration": 11,
    "start_time": "2024-12-12T07:35:37.465Z"
   },
   {
    "duration": 158,
    "start_time": "2024-12-12T07:35:37.477Z"
   },
   {
    "duration": 0,
    "start_time": "2024-12-12T07:35:37.639Z"
   },
   {
    "duration": 0,
    "start_time": "2024-12-12T07:35:37.640Z"
   },
   {
    "duration": 0,
    "start_time": "2024-12-12T07:35:37.641Z"
   },
   {
    "duration": 0,
    "start_time": "2024-12-12T07:35:37.642Z"
   },
   {
    "duration": 0,
    "start_time": "2024-12-12T07:35:37.643Z"
   },
   {
    "duration": 0,
    "start_time": "2024-12-12T07:35:37.644Z"
   },
   {
    "duration": 0,
    "start_time": "2024-12-12T07:35:37.646Z"
   },
   {
    "duration": 0,
    "start_time": "2024-12-12T07:35:37.647Z"
   },
   {
    "duration": 0,
    "start_time": "2024-12-12T07:35:37.647Z"
   },
   {
    "duration": 0,
    "start_time": "2024-12-12T07:35:37.648Z"
   },
   {
    "duration": 0,
    "start_time": "2024-12-12T07:35:37.649Z"
   },
   {
    "duration": 0,
    "start_time": "2024-12-12T07:35:37.650Z"
   },
   {
    "duration": 0,
    "start_time": "2024-12-12T07:35:37.651Z"
   },
   {
    "duration": 0,
    "start_time": "2024-12-12T07:35:37.652Z"
   },
   {
    "duration": 0,
    "start_time": "2024-12-12T07:35:37.653Z"
   },
   {
    "duration": 0,
    "start_time": "2024-12-12T07:35:37.655Z"
   },
   {
    "duration": 0,
    "start_time": "2024-12-12T07:35:37.656Z"
   },
   {
    "duration": 0,
    "start_time": "2024-12-12T07:35:37.657Z"
   },
   {
    "duration": 0,
    "start_time": "2024-12-12T07:35:37.658Z"
   },
   {
    "duration": 0,
    "start_time": "2024-12-12T07:35:37.659Z"
   },
   {
    "duration": 0,
    "start_time": "2024-12-12T07:35:37.661Z"
   },
   {
    "duration": 0,
    "start_time": "2024-12-12T07:35:37.662Z"
   },
   {
    "duration": 0,
    "start_time": "2024-12-12T07:35:37.663Z"
   },
   {
    "duration": 0,
    "start_time": "2024-12-12T07:35:37.664Z"
   },
   {
    "duration": 0,
    "start_time": "2024-12-12T07:35:37.665Z"
   },
   {
    "duration": 0,
    "start_time": "2024-12-12T07:35:37.666Z"
   },
   {
    "duration": 0,
    "start_time": "2024-12-12T07:35:37.667Z"
   },
   {
    "duration": 0,
    "start_time": "2024-12-12T07:35:37.668Z"
   },
   {
    "duration": 0,
    "start_time": "2024-12-12T07:35:37.668Z"
   },
   {
    "duration": 1,
    "start_time": "2024-12-12T07:35:37.669Z"
   },
   {
    "duration": 0,
    "start_time": "2024-12-12T07:35:37.671Z"
   },
   {
    "duration": 0,
    "start_time": "2024-12-12T07:35:37.730Z"
   },
   {
    "duration": 0,
    "start_time": "2024-12-12T07:35:37.732Z"
   },
   {
    "duration": 0,
    "start_time": "2024-12-12T07:35:37.733Z"
   },
   {
    "duration": 0,
    "start_time": "2024-12-12T07:35:37.734Z"
   },
   {
    "duration": 0,
    "start_time": "2024-12-12T07:35:37.734Z"
   },
   {
    "duration": 0,
    "start_time": "2024-12-12T07:35:37.735Z"
   },
   {
    "duration": 0,
    "start_time": "2024-12-12T07:35:37.736Z"
   },
   {
    "duration": 0,
    "start_time": "2024-12-12T07:35:37.738Z"
   },
   {
    "duration": 0,
    "start_time": "2024-12-12T07:35:37.739Z"
   },
   {
    "duration": 0,
    "start_time": "2024-12-12T07:35:37.740Z"
   },
   {
    "duration": 0,
    "start_time": "2024-12-12T07:35:37.741Z"
   },
   {
    "duration": 0,
    "start_time": "2024-12-12T07:35:37.743Z"
   },
   {
    "duration": 0,
    "start_time": "2024-12-12T07:35:37.744Z"
   },
   {
    "duration": 0,
    "start_time": "2024-12-12T07:35:37.745Z"
   },
   {
    "duration": 0,
    "start_time": "2024-12-12T07:35:37.746Z"
   },
   {
    "duration": 0,
    "start_time": "2024-12-12T07:35:37.747Z"
   },
   {
    "duration": 0,
    "start_time": "2024-12-12T07:35:37.748Z"
   },
   {
    "duration": 0,
    "start_time": "2024-12-12T07:35:37.749Z"
   },
   {
    "duration": 19,
    "start_time": "2024-12-12T07:36:26.486Z"
   },
   {
    "duration": 19,
    "start_time": "2024-12-12T07:36:45.227Z"
   },
   {
    "duration": 11,
    "start_time": "2024-12-12T07:36:57.935Z"
   },
   {
    "duration": 1829,
    "start_time": "2024-12-12T07:37:06.349Z"
   },
   {
    "duration": 3,
    "start_time": "2024-12-12T07:37:08.180Z"
   },
   {
    "duration": 80,
    "start_time": "2024-12-12T07:37:08.185Z"
   },
   {
    "duration": 11,
    "start_time": "2024-12-12T07:37:08.267Z"
   },
   {
    "duration": 11,
    "start_time": "2024-12-12T07:37:08.279Z"
   },
   {
    "duration": 4,
    "start_time": "2024-12-12T07:37:08.291Z"
   },
   {
    "duration": 5,
    "start_time": "2024-12-12T07:37:08.297Z"
   },
   {
    "duration": 27,
    "start_time": "2024-12-12T07:37:08.303Z"
   },
   {
    "duration": 19,
    "start_time": "2024-12-12T07:37:08.332Z"
   },
   {
    "duration": 395,
    "start_time": "2024-12-12T07:37:08.356Z"
   },
   {
    "duration": 9,
    "start_time": "2024-12-12T07:37:08.752Z"
   },
   {
    "duration": 684,
    "start_time": "2024-12-12T07:37:08.763Z"
   },
   {
    "duration": 8,
    "start_time": "2024-12-12T07:37:09.448Z"
   },
   {
    "duration": 837,
    "start_time": "2024-12-12T07:37:09.458Z"
   },
   {
    "duration": 236,
    "start_time": "2024-12-12T07:37:10.297Z"
   },
   {
    "duration": 4,
    "start_time": "2024-12-12T07:37:10.535Z"
   },
   {
    "duration": 32,
    "start_time": "2024-12-12T07:37:10.540Z"
   },
   {
    "duration": 28,
    "start_time": "2024-12-12T07:37:10.573Z"
   },
   {
    "duration": 296,
    "start_time": "2024-12-12T07:37:10.603Z"
   },
   {
    "duration": 6,
    "start_time": "2024-12-12T07:37:10.901Z"
   },
   {
    "duration": 30,
    "start_time": "2024-12-12T07:37:10.908Z"
   },
   {
    "duration": 16,
    "start_time": "2024-12-12T07:37:10.939Z"
   },
   {
    "duration": 25,
    "start_time": "2024-12-12T07:37:10.957Z"
   },
   {
    "duration": 9,
    "start_time": "2024-12-12T07:37:10.983Z"
   },
   {
    "duration": 5,
    "start_time": "2024-12-12T07:37:10.993Z"
   },
   {
    "duration": 9,
    "start_time": "2024-12-12T07:37:10.999Z"
   },
   {
    "duration": 12,
    "start_time": "2024-12-12T07:37:11.009Z"
   },
   {
    "duration": 159,
    "start_time": "2024-12-12T07:37:11.030Z"
   },
   {
    "duration": 0,
    "start_time": "2024-12-12T07:37:11.190Z"
   },
   {
    "duration": 0,
    "start_time": "2024-12-12T07:37:11.192Z"
   },
   {
    "duration": 0,
    "start_time": "2024-12-12T07:37:11.193Z"
   },
   {
    "duration": 0,
    "start_time": "2024-12-12T07:37:11.194Z"
   },
   {
    "duration": 0,
    "start_time": "2024-12-12T07:37:11.195Z"
   },
   {
    "duration": 0,
    "start_time": "2024-12-12T07:37:11.197Z"
   },
   {
    "duration": 0,
    "start_time": "2024-12-12T07:37:11.199Z"
   },
   {
    "duration": 0,
    "start_time": "2024-12-12T07:37:11.200Z"
   },
   {
    "duration": 0,
    "start_time": "2024-12-12T07:37:11.201Z"
   },
   {
    "duration": 0,
    "start_time": "2024-12-12T07:37:11.202Z"
   },
   {
    "duration": 0,
    "start_time": "2024-12-12T07:37:11.203Z"
   },
   {
    "duration": 0,
    "start_time": "2024-12-12T07:37:11.204Z"
   },
   {
    "duration": 0,
    "start_time": "2024-12-12T07:37:11.205Z"
   },
   {
    "duration": 0,
    "start_time": "2024-12-12T07:37:11.231Z"
   },
   {
    "duration": 0,
    "start_time": "2024-12-12T07:37:11.232Z"
   },
   {
    "duration": 0,
    "start_time": "2024-12-12T07:37:11.234Z"
   },
   {
    "duration": 0,
    "start_time": "2024-12-12T07:37:11.235Z"
   },
   {
    "duration": 0,
    "start_time": "2024-12-12T07:37:11.236Z"
   },
   {
    "duration": 0,
    "start_time": "2024-12-12T07:37:11.237Z"
   },
   {
    "duration": 0,
    "start_time": "2024-12-12T07:37:11.238Z"
   },
   {
    "duration": 0,
    "start_time": "2024-12-12T07:37:11.239Z"
   },
   {
    "duration": 0,
    "start_time": "2024-12-12T07:37:11.240Z"
   },
   {
    "duration": 0,
    "start_time": "2024-12-12T07:37:11.241Z"
   },
   {
    "duration": 0,
    "start_time": "2024-12-12T07:37:11.242Z"
   },
   {
    "duration": 0,
    "start_time": "2024-12-12T07:37:11.243Z"
   },
   {
    "duration": 0,
    "start_time": "2024-12-12T07:37:11.244Z"
   },
   {
    "duration": 0,
    "start_time": "2024-12-12T07:37:11.245Z"
   },
   {
    "duration": 0,
    "start_time": "2024-12-12T07:37:11.246Z"
   },
   {
    "duration": 0,
    "start_time": "2024-12-12T07:37:11.247Z"
   },
   {
    "duration": 0,
    "start_time": "2024-12-12T07:37:11.248Z"
   },
   {
    "duration": 0,
    "start_time": "2024-12-12T07:37:11.249Z"
   },
   {
    "duration": 0,
    "start_time": "2024-12-12T07:37:11.250Z"
   },
   {
    "duration": 0,
    "start_time": "2024-12-12T07:37:11.252Z"
   },
   {
    "duration": 0,
    "start_time": "2024-12-12T07:37:11.253Z"
   },
   {
    "duration": 0,
    "start_time": "2024-12-12T07:37:11.254Z"
   },
   {
    "duration": 0,
    "start_time": "2024-12-12T07:37:11.255Z"
   },
   {
    "duration": 0,
    "start_time": "2024-12-12T07:37:11.256Z"
   },
   {
    "duration": 0,
    "start_time": "2024-12-12T07:37:11.258Z"
   },
   {
    "duration": 0,
    "start_time": "2024-12-12T07:37:11.259Z"
   },
   {
    "duration": 0,
    "start_time": "2024-12-12T07:37:11.260Z"
   },
   {
    "duration": 0,
    "start_time": "2024-12-12T07:37:11.261Z"
   },
   {
    "duration": 0,
    "start_time": "2024-12-12T07:37:11.262Z"
   },
   {
    "duration": 0,
    "start_time": "2024-12-12T07:37:11.263Z"
   },
   {
    "duration": 0,
    "start_time": "2024-12-12T07:37:11.264Z"
   },
   {
    "duration": 0,
    "start_time": "2024-12-12T07:37:11.265Z"
   },
   {
    "duration": 0,
    "start_time": "2024-12-12T07:37:11.330Z"
   },
   {
    "duration": 0,
    "start_time": "2024-12-12T07:37:11.331Z"
   },
   {
    "duration": 0,
    "start_time": "2024-12-12T07:37:11.332Z"
   },
   {
    "duration": 0,
    "start_time": "2024-12-12T07:37:11.333Z"
   },
   {
    "duration": 13,
    "start_time": "2024-12-12T07:39:06.233Z"
   },
   {
    "duration": 6,
    "start_time": "2024-12-12T07:39:19.442Z"
   },
   {
    "duration": 12,
    "start_time": "2024-12-12T07:39:35.520Z"
   },
   {
    "duration": 92,
    "start_time": "2024-12-12T07:41:39.527Z"
   },
   {
    "duration": 87,
    "start_time": "2024-12-12T07:41:57.345Z"
   },
   {
    "duration": 76,
    "start_time": "2024-12-12T07:42:08.404Z"
   },
   {
    "duration": 6,
    "start_time": "2024-12-12T07:42:21.103Z"
   },
   {
    "duration": 28,
    "start_time": "2024-12-12T07:42:28.374Z"
   },
   {
    "duration": 1902,
    "start_time": "2024-12-12T07:43:11.404Z"
   },
   {
    "duration": 3,
    "start_time": "2024-12-12T07:43:13.308Z"
   },
   {
    "duration": 82,
    "start_time": "2024-12-12T07:43:13.312Z"
   },
   {
    "duration": 11,
    "start_time": "2024-12-12T07:43:13.396Z"
   },
   {
    "duration": 47,
    "start_time": "2024-12-12T07:43:13.408Z"
   },
   {
    "duration": 4,
    "start_time": "2024-12-12T07:43:13.457Z"
   },
   {
    "duration": 14,
    "start_time": "2024-12-12T07:43:13.462Z"
   },
   {
    "duration": 13,
    "start_time": "2024-12-12T07:43:13.477Z"
   },
   {
    "duration": 7,
    "start_time": "2024-12-12T07:43:13.491Z"
   },
   {
    "duration": 394,
    "start_time": "2024-12-12T07:43:13.501Z"
   },
   {
    "duration": 9,
    "start_time": "2024-12-12T07:43:13.896Z"
   },
   {
    "duration": 676,
    "start_time": "2024-12-12T07:43:13.907Z"
   },
   {
    "duration": 8,
    "start_time": "2024-12-12T07:43:14.584Z"
   },
   {
    "duration": 902,
    "start_time": "2024-12-12T07:43:14.593Z"
   },
   {
    "duration": 226,
    "start_time": "2024-12-12T07:43:15.497Z"
   },
   {
    "duration": 4,
    "start_time": "2024-12-12T07:43:15.729Z"
   },
   {
    "duration": 67,
    "start_time": "2024-12-12T07:43:15.734Z"
   },
   {
    "duration": 28,
    "start_time": "2024-12-12T07:43:15.803Z"
   },
   {
    "duration": 245,
    "start_time": "2024-12-12T07:43:15.833Z"
   },
   {
    "duration": 6,
    "start_time": "2024-12-12T07:43:16.079Z"
   },
   {
    "duration": 5,
    "start_time": "2024-12-12T07:43:16.086Z"
   },
   {
    "duration": 15,
    "start_time": "2024-12-12T07:43:16.093Z"
   },
   {
    "duration": 33,
    "start_time": "2024-12-12T07:43:16.110Z"
   },
   {
    "duration": 4,
    "start_time": "2024-12-12T07:43:16.144Z"
   },
   {
    "duration": 4,
    "start_time": "2024-12-12T07:43:16.150Z"
   },
   {
    "duration": 159,
    "start_time": "2024-12-12T07:43:16.156Z"
   },
   {
    "duration": 0,
    "start_time": "2024-12-12T07:43:16.318Z"
   },
   {
    "duration": 0,
    "start_time": "2024-12-12T07:43:16.319Z"
   },
   {
    "duration": 0,
    "start_time": "2024-12-12T07:43:16.320Z"
   },
   {
    "duration": 0,
    "start_time": "2024-12-12T07:43:16.321Z"
   },
   {
    "duration": 0,
    "start_time": "2024-12-12T07:43:16.330Z"
   },
   {
    "duration": 0,
    "start_time": "2024-12-12T07:43:16.331Z"
   },
   {
    "duration": 0,
    "start_time": "2024-12-12T07:43:16.332Z"
   },
   {
    "duration": 0,
    "start_time": "2024-12-12T07:43:16.333Z"
   },
   {
    "duration": 0,
    "start_time": "2024-12-12T07:43:16.334Z"
   },
   {
    "duration": 0,
    "start_time": "2024-12-12T07:43:16.335Z"
   },
   {
    "duration": 0,
    "start_time": "2024-12-12T07:43:16.336Z"
   },
   {
    "duration": 0,
    "start_time": "2024-12-12T07:43:16.337Z"
   },
   {
    "duration": 0,
    "start_time": "2024-12-12T07:43:16.338Z"
   },
   {
    "duration": 0,
    "start_time": "2024-12-12T07:43:16.339Z"
   },
   {
    "duration": 0,
    "start_time": "2024-12-12T07:43:16.340Z"
   },
   {
    "duration": 0,
    "start_time": "2024-12-12T07:43:16.342Z"
   },
   {
    "duration": 0,
    "start_time": "2024-12-12T07:43:16.343Z"
   },
   {
    "duration": 0,
    "start_time": "2024-12-12T07:43:16.344Z"
   },
   {
    "duration": 0,
    "start_time": "2024-12-12T07:43:16.346Z"
   },
   {
    "duration": 0,
    "start_time": "2024-12-12T07:43:16.347Z"
   },
   {
    "duration": 0,
    "start_time": "2024-12-12T07:43:16.348Z"
   },
   {
    "duration": 0,
    "start_time": "2024-12-12T07:43:16.348Z"
   },
   {
    "duration": 0,
    "start_time": "2024-12-12T07:43:16.350Z"
   },
   {
    "duration": 0,
    "start_time": "2024-12-12T07:43:16.350Z"
   },
   {
    "duration": 0,
    "start_time": "2024-12-12T07:43:16.351Z"
   },
   {
    "duration": 0,
    "start_time": "2024-12-12T07:43:16.352Z"
   },
   {
    "duration": 0,
    "start_time": "2024-12-12T07:43:16.353Z"
   },
   {
    "duration": 0,
    "start_time": "2024-12-12T07:43:16.354Z"
   },
   {
    "duration": 0,
    "start_time": "2024-12-12T07:43:16.355Z"
   },
   {
    "duration": 0,
    "start_time": "2024-12-12T07:43:16.356Z"
   },
   {
    "duration": 0,
    "start_time": "2024-12-12T07:43:16.357Z"
   },
   {
    "duration": 0,
    "start_time": "2024-12-12T07:43:16.358Z"
   },
   {
    "duration": 0,
    "start_time": "2024-12-12T07:43:16.359Z"
   },
   {
    "duration": 0,
    "start_time": "2024-12-12T07:43:16.360Z"
   },
   {
    "duration": 0,
    "start_time": "2024-12-12T07:43:16.361Z"
   },
   {
    "duration": 0,
    "start_time": "2024-12-12T07:43:16.362Z"
   },
   {
    "duration": 0,
    "start_time": "2024-12-12T07:43:16.363Z"
   },
   {
    "duration": 0,
    "start_time": "2024-12-12T07:43:16.364Z"
   },
   {
    "duration": 0,
    "start_time": "2024-12-12T07:43:16.365Z"
   },
   {
    "duration": 0,
    "start_time": "2024-12-12T07:43:16.366Z"
   },
   {
    "duration": 0,
    "start_time": "2024-12-12T07:43:16.367Z"
   },
   {
    "duration": 0,
    "start_time": "2024-12-12T07:43:16.430Z"
   },
   {
    "duration": 0,
    "start_time": "2024-12-12T07:43:16.431Z"
   },
   {
    "duration": 0,
    "start_time": "2024-12-12T07:43:16.432Z"
   },
   {
    "duration": 0,
    "start_time": "2024-12-12T07:43:16.433Z"
   },
   {
    "duration": 0,
    "start_time": "2024-12-12T07:43:16.434Z"
   },
   {
    "duration": 0,
    "start_time": "2024-12-12T07:43:16.435Z"
   },
   {
    "duration": 0,
    "start_time": "2024-12-12T07:43:16.436Z"
   },
   {
    "duration": 0,
    "start_time": "2024-12-12T07:43:16.437Z"
   },
   {
    "duration": 1909,
    "start_time": "2024-12-12T07:43:40.890Z"
   },
   {
    "duration": 2,
    "start_time": "2024-12-12T07:43:42.801Z"
   },
   {
    "duration": 68,
    "start_time": "2024-12-12T07:43:42.805Z"
   },
   {
    "duration": 11,
    "start_time": "2024-12-12T07:43:42.875Z"
   },
   {
    "duration": 14,
    "start_time": "2024-12-12T07:43:42.887Z"
   },
   {
    "duration": 5,
    "start_time": "2024-12-12T07:43:42.903Z"
   },
   {
    "duration": 5,
    "start_time": "2024-12-12T07:43:42.910Z"
   },
   {
    "duration": 20,
    "start_time": "2024-12-12T07:43:42.917Z"
   },
   {
    "duration": 3,
    "start_time": "2024-12-12T07:43:42.939Z"
   },
   {
    "duration": 387,
    "start_time": "2024-12-12T07:43:42.945Z"
   },
   {
    "duration": 9,
    "start_time": "2024-12-12T07:43:43.334Z"
   },
   {
    "duration": 679,
    "start_time": "2024-12-12T07:43:43.344Z"
   },
   {
    "duration": 8,
    "start_time": "2024-12-12T07:43:44.024Z"
   },
   {
    "duration": 881,
    "start_time": "2024-12-12T07:43:44.034Z"
   },
   {
    "duration": 239,
    "start_time": "2024-12-12T07:43:44.917Z"
   },
   {
    "duration": 4,
    "start_time": "2024-12-12T07:43:45.158Z"
   },
   {
    "duration": 57,
    "start_time": "2024-12-12T07:43:45.163Z"
   },
   {
    "duration": 35,
    "start_time": "2024-12-12T07:43:45.222Z"
   },
   {
    "duration": 325,
    "start_time": "2024-12-12T07:43:45.259Z"
   },
   {
    "duration": 7,
    "start_time": "2024-12-12T07:43:45.586Z"
   },
   {
    "duration": 17,
    "start_time": "2024-12-12T07:43:45.595Z"
   },
   {
    "duration": 26,
    "start_time": "2024-12-12T07:43:45.614Z"
   },
   {
    "duration": 18,
    "start_time": "2024-12-12T07:43:45.641Z"
   },
   {
    "duration": 9,
    "start_time": "2024-12-12T07:43:45.661Z"
   },
   {
    "duration": 11,
    "start_time": "2024-12-12T07:43:45.672Z"
   },
   {
    "duration": 6,
    "start_time": "2024-12-12T07:43:45.685Z"
   },
   {
    "duration": 209,
    "start_time": "2024-12-12T07:43:45.692Z"
   },
   {
    "duration": 0,
    "start_time": "2024-12-12T07:43:45.904Z"
   },
   {
    "duration": 0,
    "start_time": "2024-12-12T07:43:45.905Z"
   },
   {
    "duration": 0,
    "start_time": "2024-12-12T07:43:45.907Z"
   },
   {
    "duration": 0,
    "start_time": "2024-12-12T07:43:45.908Z"
   },
   {
    "duration": 0,
    "start_time": "2024-12-12T07:43:45.909Z"
   },
   {
    "duration": 0,
    "start_time": "2024-12-12T07:43:45.910Z"
   },
   {
    "duration": 0,
    "start_time": "2024-12-12T07:43:45.930Z"
   },
   {
    "duration": 0,
    "start_time": "2024-12-12T07:43:45.932Z"
   },
   {
    "duration": 0,
    "start_time": "2024-12-12T07:43:45.933Z"
   },
   {
    "duration": 0,
    "start_time": "2024-12-12T07:43:45.935Z"
   },
   {
    "duration": 0,
    "start_time": "2024-12-12T07:43:45.936Z"
   },
   {
    "duration": 0,
    "start_time": "2024-12-12T07:43:45.937Z"
   },
   {
    "duration": 0,
    "start_time": "2024-12-12T07:43:45.938Z"
   },
   {
    "duration": 0,
    "start_time": "2024-12-12T07:43:45.940Z"
   },
   {
    "duration": 0,
    "start_time": "2024-12-12T07:43:45.941Z"
   },
   {
    "duration": 0,
    "start_time": "2024-12-12T07:43:45.942Z"
   },
   {
    "duration": 0,
    "start_time": "2024-12-12T07:43:45.943Z"
   },
   {
    "duration": 0,
    "start_time": "2024-12-12T07:43:45.944Z"
   },
   {
    "duration": 0,
    "start_time": "2024-12-12T07:43:45.945Z"
   },
   {
    "duration": 0,
    "start_time": "2024-12-12T07:43:45.946Z"
   },
   {
    "duration": 0,
    "start_time": "2024-12-12T07:43:45.947Z"
   },
   {
    "duration": 0,
    "start_time": "2024-12-12T07:43:45.948Z"
   },
   {
    "duration": 0,
    "start_time": "2024-12-12T07:43:45.949Z"
   },
   {
    "duration": 0,
    "start_time": "2024-12-12T07:43:45.950Z"
   },
   {
    "duration": 0,
    "start_time": "2024-12-12T07:43:45.952Z"
   },
   {
    "duration": 0,
    "start_time": "2024-12-12T07:43:45.952Z"
   },
   {
    "duration": 0,
    "start_time": "2024-12-12T07:43:45.953Z"
   },
   {
    "duration": 0,
    "start_time": "2024-12-12T07:43:45.954Z"
   },
   {
    "duration": 0,
    "start_time": "2024-12-12T07:43:45.955Z"
   },
   {
    "duration": 0,
    "start_time": "2024-12-12T07:43:45.956Z"
   },
   {
    "duration": 0,
    "start_time": "2024-12-12T07:43:45.957Z"
   },
   {
    "duration": 1,
    "start_time": "2024-12-12T07:43:45.958Z"
   },
   {
    "duration": 0,
    "start_time": "2024-12-12T07:43:45.959Z"
   },
   {
    "duration": 0,
    "start_time": "2024-12-12T07:43:45.960Z"
   },
   {
    "duration": 0,
    "start_time": "2024-12-12T07:43:45.961Z"
   },
   {
    "duration": 0,
    "start_time": "2024-12-12T07:43:45.962Z"
   },
   {
    "duration": 0,
    "start_time": "2024-12-12T07:43:45.963Z"
   },
   {
    "duration": 0,
    "start_time": "2024-12-12T07:43:45.964Z"
   },
   {
    "duration": 0,
    "start_time": "2024-12-12T07:43:45.965Z"
   },
   {
    "duration": 0,
    "start_time": "2024-12-12T07:43:45.966Z"
   },
   {
    "duration": 0,
    "start_time": "2024-12-12T07:43:45.967Z"
   },
   {
    "duration": 0,
    "start_time": "2024-12-12T07:43:46.030Z"
   },
   {
    "duration": 0,
    "start_time": "2024-12-12T07:43:46.032Z"
   },
   {
    "duration": 0,
    "start_time": "2024-12-12T07:43:46.033Z"
   },
   {
    "duration": 0,
    "start_time": "2024-12-12T07:43:46.034Z"
   },
   {
    "duration": 0,
    "start_time": "2024-12-12T07:43:46.035Z"
   },
   {
    "duration": 0,
    "start_time": "2024-12-12T07:43:46.036Z"
   },
   {
    "duration": 0,
    "start_time": "2024-12-12T07:43:46.037Z"
   },
   {
    "duration": 0,
    "start_time": "2024-12-12T07:43:46.038Z"
   },
   {
    "duration": 1827,
    "start_time": "2024-12-12T07:44:47.656Z"
   },
   {
    "duration": 3,
    "start_time": "2024-12-12T07:44:49.485Z"
   },
   {
    "duration": 54,
    "start_time": "2024-12-12T07:44:49.489Z"
   },
   {
    "duration": 11,
    "start_time": "2024-12-12T07:44:49.545Z"
   },
   {
    "duration": 21,
    "start_time": "2024-12-12T07:44:49.558Z"
   },
   {
    "duration": 4,
    "start_time": "2024-12-12T07:44:49.580Z"
   },
   {
    "duration": 5,
    "start_time": "2024-12-12T07:44:49.586Z"
   },
   {
    "duration": 10,
    "start_time": "2024-12-12T07:44:49.592Z"
   },
   {
    "duration": 4,
    "start_time": "2024-12-12T07:44:49.603Z"
   },
   {
    "duration": 396,
    "start_time": "2024-12-12T07:44:49.629Z"
   },
   {
    "duration": 10,
    "start_time": "2024-12-12T07:44:50.027Z"
   },
   {
    "duration": 671,
    "start_time": "2024-12-12T07:44:50.039Z"
   },
   {
    "duration": 7,
    "start_time": "2024-12-12T07:44:50.712Z"
   },
   {
    "duration": 914,
    "start_time": "2024-12-12T07:44:50.720Z"
   },
   {
    "duration": 233,
    "start_time": "2024-12-12T07:44:51.635Z"
   },
   {
    "duration": 4,
    "start_time": "2024-12-12T07:44:51.869Z"
   },
   {
    "duration": 46,
    "start_time": "2024-12-12T07:44:51.875Z"
   },
   {
    "duration": 28,
    "start_time": "2024-12-12T07:44:51.923Z"
   },
   {
    "duration": 241,
    "start_time": "2024-12-12T07:44:51.952Z"
   },
   {
    "duration": 6,
    "start_time": "2024-12-12T07:44:52.195Z"
   },
   {
    "duration": 44,
    "start_time": "2024-12-12T07:44:52.203Z"
   },
   {
    "duration": 62,
    "start_time": "2024-12-12T07:44:52.249Z"
   },
   {
    "duration": 40,
    "start_time": "2024-12-12T07:44:52.313Z"
   },
   {
    "duration": 29,
    "start_time": "2024-12-12T07:44:52.355Z"
   },
   {
    "duration": 52,
    "start_time": "2024-12-12T07:44:52.386Z"
   },
   {
    "duration": 28,
    "start_time": "2024-12-12T07:44:52.440Z"
   },
   {
    "duration": 65,
    "start_time": "2024-12-12T07:44:52.469Z"
   },
   {
    "duration": 202,
    "start_time": "2024-12-12T07:44:52.541Z"
   },
   {
    "duration": 0,
    "start_time": "2024-12-12T07:44:52.745Z"
   },
   {
    "duration": 0,
    "start_time": "2024-12-12T07:44:52.747Z"
   },
   {
    "duration": 0,
    "start_time": "2024-12-12T07:44:52.749Z"
   },
   {
    "duration": 0,
    "start_time": "2024-12-12T07:44:52.751Z"
   },
   {
    "duration": 0,
    "start_time": "2024-12-12T07:44:52.752Z"
   },
   {
    "duration": 0,
    "start_time": "2024-12-12T07:44:52.754Z"
   },
   {
    "duration": 0,
    "start_time": "2024-12-12T07:44:52.756Z"
   },
   {
    "duration": 0,
    "start_time": "2024-12-12T07:44:52.757Z"
   },
   {
    "duration": 0,
    "start_time": "2024-12-12T07:44:52.759Z"
   },
   {
    "duration": 0,
    "start_time": "2024-12-12T07:44:52.760Z"
   },
   {
    "duration": 0,
    "start_time": "2024-12-12T07:44:52.762Z"
   },
   {
    "duration": 0,
    "start_time": "2024-12-12T07:44:52.764Z"
   },
   {
    "duration": 0,
    "start_time": "2024-12-12T07:44:52.765Z"
   },
   {
    "duration": 0,
    "start_time": "2024-12-12T07:44:52.767Z"
   },
   {
    "duration": 0,
    "start_time": "2024-12-12T07:44:52.769Z"
   },
   {
    "duration": 0,
    "start_time": "2024-12-12T07:44:52.770Z"
   },
   {
    "duration": 0,
    "start_time": "2024-12-12T07:44:52.772Z"
   },
   {
    "duration": 0,
    "start_time": "2024-12-12T07:44:52.774Z"
   },
   {
    "duration": 0,
    "start_time": "2024-12-12T07:44:52.775Z"
   },
   {
    "duration": 0,
    "start_time": "2024-12-12T07:44:52.777Z"
   },
   {
    "duration": 0,
    "start_time": "2024-12-12T07:44:52.778Z"
   },
   {
    "duration": 0,
    "start_time": "2024-12-12T07:44:52.830Z"
   },
   {
    "duration": 0,
    "start_time": "2024-12-12T07:44:52.831Z"
   },
   {
    "duration": 0,
    "start_time": "2024-12-12T07:44:52.833Z"
   },
   {
    "duration": 0,
    "start_time": "2024-12-12T07:44:52.835Z"
   },
   {
    "duration": 0,
    "start_time": "2024-12-12T07:44:52.836Z"
   },
   {
    "duration": 0,
    "start_time": "2024-12-12T07:44:52.837Z"
   },
   {
    "duration": 0,
    "start_time": "2024-12-12T07:44:52.839Z"
   },
   {
    "duration": 0,
    "start_time": "2024-12-12T07:44:52.840Z"
   },
   {
    "duration": 0,
    "start_time": "2024-12-12T07:44:52.842Z"
   },
   {
    "duration": 0,
    "start_time": "2024-12-12T07:44:52.843Z"
   },
   {
    "duration": 0,
    "start_time": "2024-12-12T07:44:52.844Z"
   },
   {
    "duration": 0,
    "start_time": "2024-12-12T07:44:52.846Z"
   },
   {
    "duration": 0,
    "start_time": "2024-12-12T07:44:52.848Z"
   },
   {
    "duration": 0,
    "start_time": "2024-12-12T07:44:52.849Z"
   },
   {
    "duration": 0,
    "start_time": "2024-12-12T07:44:52.850Z"
   },
   {
    "duration": 0,
    "start_time": "2024-12-12T07:44:52.851Z"
   },
   {
    "duration": 0,
    "start_time": "2024-12-12T07:44:52.853Z"
   },
   {
    "duration": 0,
    "start_time": "2024-12-12T07:44:52.854Z"
   },
   {
    "duration": 0,
    "start_time": "2024-12-12T07:44:52.855Z"
   },
   {
    "duration": 0,
    "start_time": "2024-12-12T07:44:52.857Z"
   },
   {
    "duration": 0,
    "start_time": "2024-12-12T07:44:52.858Z"
   },
   {
    "duration": 0,
    "start_time": "2024-12-12T07:44:52.859Z"
   },
   {
    "duration": 0,
    "start_time": "2024-12-12T07:44:52.861Z"
   },
   {
    "duration": 0,
    "start_time": "2024-12-12T07:44:52.862Z"
   },
   {
    "duration": 0,
    "start_time": "2024-12-12T07:44:52.863Z"
   },
   {
    "duration": 0,
    "start_time": "2024-12-12T07:44:52.865Z"
   },
   {
    "duration": 0,
    "start_time": "2024-12-12T07:44:52.866Z"
   },
   {
    "duration": 1828,
    "start_time": "2024-12-12T07:47:29.152Z"
   },
   {
    "duration": 2,
    "start_time": "2024-12-12T07:47:30.982Z"
   },
   {
    "duration": 75,
    "start_time": "2024-12-12T07:47:30.986Z"
   },
   {
    "duration": 11,
    "start_time": "2024-12-12T07:47:31.063Z"
   },
   {
    "duration": 19,
    "start_time": "2024-12-12T07:47:31.075Z"
   },
   {
    "duration": 8,
    "start_time": "2024-12-12T07:47:31.095Z"
   },
   {
    "duration": 25,
    "start_time": "2024-12-12T07:47:31.104Z"
   },
   {
    "duration": 25,
    "start_time": "2024-12-12T07:47:31.131Z"
   },
   {
    "duration": 12,
    "start_time": "2024-12-12T07:47:31.158Z"
   },
   {
    "duration": 404,
    "start_time": "2024-12-12T07:47:31.172Z"
   },
   {
    "duration": 9,
    "start_time": "2024-12-12T07:47:31.579Z"
   },
   {
    "duration": 680,
    "start_time": "2024-12-12T07:47:31.590Z"
   },
   {
    "duration": 7,
    "start_time": "2024-12-12T07:47:32.272Z"
   },
   {
    "duration": 833,
    "start_time": "2024-12-12T07:47:32.281Z"
   },
   {
    "duration": 239,
    "start_time": "2024-12-12T07:47:33.116Z"
   },
   {
    "duration": 4,
    "start_time": "2024-12-12T07:47:33.357Z"
   },
   {
    "duration": 29,
    "start_time": "2024-12-12T07:47:33.363Z"
   },
   {
    "duration": 37,
    "start_time": "2024-12-12T07:47:33.394Z"
   },
   {
    "duration": 254,
    "start_time": "2024-12-12T07:47:33.433Z"
   },
   {
    "duration": 5,
    "start_time": "2024-12-12T07:47:33.689Z"
   },
   {
    "duration": 55,
    "start_time": "2024-12-12T07:47:33.696Z"
   },
   {
    "duration": 36,
    "start_time": "2024-12-12T07:47:33.753Z"
   },
   {
    "duration": 18,
    "start_time": "2024-12-12T07:47:33.790Z"
   },
   {
    "duration": 38,
    "start_time": "2024-12-12T07:47:33.810Z"
   },
   {
    "duration": 98,
    "start_time": "2024-12-12T07:47:33.850Z"
   },
   {
    "duration": 40,
    "start_time": "2024-12-12T07:47:33.949Z"
   },
   {
    "duration": 69,
    "start_time": "2024-12-12T07:47:33.991Z"
   },
   {
    "duration": 166,
    "start_time": "2024-12-12T07:47:34.065Z"
   },
   {
    "duration": 0,
    "start_time": "2024-12-12T07:47:34.232Z"
   },
   {
    "duration": 0,
    "start_time": "2024-12-12T07:47:34.233Z"
   },
   {
    "duration": 0,
    "start_time": "2024-12-12T07:47:34.235Z"
   },
   {
    "duration": 0,
    "start_time": "2024-12-12T07:47:34.236Z"
   },
   {
    "duration": 0,
    "start_time": "2024-12-12T07:47:34.237Z"
   },
   {
    "duration": 0,
    "start_time": "2024-12-12T07:47:34.238Z"
   },
   {
    "duration": 0,
    "start_time": "2024-12-12T07:47:34.239Z"
   },
   {
    "duration": 0,
    "start_time": "2024-12-12T07:47:34.240Z"
   },
   {
    "duration": 0,
    "start_time": "2024-12-12T07:47:34.242Z"
   },
   {
    "duration": 0,
    "start_time": "2024-12-12T07:47:34.243Z"
   },
   {
    "duration": 0,
    "start_time": "2024-12-12T07:47:34.244Z"
   },
   {
    "duration": 0,
    "start_time": "2024-12-12T07:47:34.246Z"
   },
   {
    "duration": 0,
    "start_time": "2024-12-12T07:47:34.247Z"
   },
   {
    "duration": 0,
    "start_time": "2024-12-12T07:47:34.248Z"
   },
   {
    "duration": 0,
    "start_time": "2024-12-12T07:47:34.249Z"
   },
   {
    "duration": 0,
    "start_time": "2024-12-12T07:47:34.250Z"
   },
   {
    "duration": 0,
    "start_time": "2024-12-12T07:47:34.251Z"
   },
   {
    "duration": 0,
    "start_time": "2024-12-12T07:47:34.252Z"
   },
   {
    "duration": 0,
    "start_time": "2024-12-12T07:47:34.253Z"
   },
   {
    "duration": 0,
    "start_time": "2024-12-12T07:47:34.255Z"
   },
   {
    "duration": 0,
    "start_time": "2024-12-12T07:47:34.256Z"
   },
   {
    "duration": 0,
    "start_time": "2024-12-12T07:47:34.257Z"
   },
   {
    "duration": 0,
    "start_time": "2024-12-12T07:47:34.258Z"
   },
   {
    "duration": 0,
    "start_time": "2024-12-12T07:47:34.259Z"
   },
   {
    "duration": 0,
    "start_time": "2024-12-12T07:47:34.260Z"
   },
   {
    "duration": 0,
    "start_time": "2024-12-12T07:47:34.261Z"
   },
   {
    "duration": 0,
    "start_time": "2024-12-12T07:47:34.262Z"
   },
   {
    "duration": 0,
    "start_time": "2024-12-12T07:47:34.263Z"
   },
   {
    "duration": 0,
    "start_time": "2024-12-12T07:47:34.264Z"
   },
   {
    "duration": 0,
    "start_time": "2024-12-12T07:47:34.265Z"
   },
   {
    "duration": 0,
    "start_time": "2024-12-12T07:47:34.266Z"
   },
   {
    "duration": 0,
    "start_time": "2024-12-12T07:47:34.266Z"
   },
   {
    "duration": 0,
    "start_time": "2024-12-12T07:47:34.267Z"
   },
   {
    "duration": 0,
    "start_time": "2024-12-12T07:47:34.269Z"
   },
   {
    "duration": 0,
    "start_time": "2024-12-12T07:47:34.330Z"
   },
   {
    "duration": 0,
    "start_time": "2024-12-12T07:47:34.331Z"
   },
   {
    "duration": 0,
    "start_time": "2024-12-12T07:47:34.333Z"
   },
   {
    "duration": 0,
    "start_time": "2024-12-12T07:47:34.334Z"
   },
   {
    "duration": 0,
    "start_time": "2024-12-12T07:47:34.335Z"
   },
   {
    "duration": 0,
    "start_time": "2024-12-12T07:47:34.336Z"
   },
   {
    "duration": 0,
    "start_time": "2024-12-12T07:47:34.337Z"
   },
   {
    "duration": 0,
    "start_time": "2024-12-12T07:47:34.338Z"
   },
   {
    "duration": 0,
    "start_time": "2024-12-12T07:47:34.339Z"
   },
   {
    "duration": 0,
    "start_time": "2024-12-12T07:47:34.341Z"
   },
   {
    "duration": 0,
    "start_time": "2024-12-12T07:47:34.342Z"
   },
   {
    "duration": 0,
    "start_time": "2024-12-12T07:47:34.343Z"
   },
   {
    "duration": 0,
    "start_time": "2024-12-12T07:47:34.344Z"
   },
   {
    "duration": 0,
    "start_time": "2024-12-12T07:47:34.345Z"
   },
   {
    "duration": 0,
    "start_time": "2024-12-12T07:47:34.346Z"
   },
   {
    "duration": 1826,
    "start_time": "2024-12-12T07:47:50.142Z"
   },
   {
    "duration": 3,
    "start_time": "2024-12-12T07:47:51.970Z"
   },
   {
    "duration": 57,
    "start_time": "2024-12-12T07:47:51.975Z"
   },
   {
    "duration": 11,
    "start_time": "2024-12-12T07:47:52.035Z"
   },
   {
    "duration": 11,
    "start_time": "2024-12-12T07:47:52.048Z"
   },
   {
    "duration": 14,
    "start_time": "2024-12-12T07:47:52.061Z"
   },
   {
    "duration": 6,
    "start_time": "2024-12-12T07:47:52.077Z"
   },
   {
    "duration": 7,
    "start_time": "2024-12-12T07:47:52.084Z"
   },
   {
    "duration": 4,
    "start_time": "2024-12-12T07:47:52.092Z"
   },
   {
    "duration": 419,
    "start_time": "2024-12-12T07:47:52.099Z"
   },
   {
    "duration": 13,
    "start_time": "2024-12-12T07:47:52.520Z"
   },
   {
    "duration": 655,
    "start_time": "2024-12-12T07:47:52.535Z"
   },
   {
    "duration": 8,
    "start_time": "2024-12-12T07:47:53.192Z"
   },
   {
    "duration": 860,
    "start_time": "2024-12-12T07:47:53.202Z"
   },
   {
    "duration": 231,
    "start_time": "2024-12-12T07:47:54.064Z"
   },
   {
    "duration": 4,
    "start_time": "2024-12-12T07:47:54.297Z"
   },
   {
    "duration": 31,
    "start_time": "2024-12-12T07:47:54.303Z"
   },
   {
    "duration": 37,
    "start_time": "2024-12-12T07:47:54.336Z"
   },
   {
    "duration": 216,
    "start_time": "2024-12-12T07:47:54.375Z"
   },
   {
    "duration": 38,
    "start_time": "2024-12-12T07:47:54.593Z"
   },
   {
    "duration": 6,
    "start_time": "2024-12-12T07:47:54.633Z"
   },
   {
    "duration": 81,
    "start_time": "2024-12-12T07:47:54.640Z"
   },
   {
    "duration": 40,
    "start_time": "2024-12-12T07:47:54.723Z"
   },
   {
    "duration": 6,
    "start_time": "2024-12-12T07:47:54.764Z"
   },
   {
    "duration": 34,
    "start_time": "2024-12-12T07:47:54.771Z"
   },
   {
    "duration": 11,
    "start_time": "2024-12-12T07:47:54.807Z"
   },
   {
    "duration": 54,
    "start_time": "2024-12-12T07:47:54.820Z"
   },
   {
    "duration": 15,
    "start_time": "2024-12-12T07:47:54.879Z"
   },
   {
    "duration": 153,
    "start_time": "2024-12-12T07:47:54.896Z"
   },
   {
    "duration": 0,
    "start_time": "2024-12-12T07:47:55.050Z"
   },
   {
    "duration": 0,
    "start_time": "2024-12-12T07:47:55.052Z"
   },
   {
    "duration": 0,
    "start_time": "2024-12-12T07:47:55.053Z"
   },
   {
    "duration": 0,
    "start_time": "2024-12-12T07:47:55.054Z"
   },
   {
    "duration": 0,
    "start_time": "2024-12-12T07:47:55.055Z"
   },
   {
    "duration": 0,
    "start_time": "2024-12-12T07:47:55.056Z"
   },
   {
    "duration": 0,
    "start_time": "2024-12-12T07:47:55.057Z"
   },
   {
    "duration": 0,
    "start_time": "2024-12-12T07:47:55.058Z"
   },
   {
    "duration": 0,
    "start_time": "2024-12-12T07:47:55.059Z"
   },
   {
    "duration": 0,
    "start_time": "2024-12-12T07:47:55.060Z"
   },
   {
    "duration": 0,
    "start_time": "2024-12-12T07:47:55.061Z"
   },
   {
    "duration": 0,
    "start_time": "2024-12-12T07:47:55.062Z"
   },
   {
    "duration": 0,
    "start_time": "2024-12-12T07:47:55.064Z"
   },
   {
    "duration": 0,
    "start_time": "2024-12-12T07:47:55.065Z"
   },
   {
    "duration": 0,
    "start_time": "2024-12-12T07:47:55.066Z"
   },
   {
    "duration": 0,
    "start_time": "2024-12-12T07:47:55.067Z"
   },
   {
    "duration": 0,
    "start_time": "2024-12-12T07:47:55.067Z"
   },
   {
    "duration": 0,
    "start_time": "2024-12-12T07:47:55.069Z"
   },
   {
    "duration": 0,
    "start_time": "2024-12-12T07:47:55.070Z"
   },
   {
    "duration": 0,
    "start_time": "2024-12-12T07:47:55.070Z"
   },
   {
    "duration": 0,
    "start_time": "2024-12-12T07:47:55.071Z"
   },
   {
    "duration": 0,
    "start_time": "2024-12-12T07:47:55.072Z"
   },
   {
    "duration": 0,
    "start_time": "2024-12-12T07:47:55.073Z"
   },
   {
    "duration": 0,
    "start_time": "2024-12-12T07:47:55.074Z"
   },
   {
    "duration": 0,
    "start_time": "2024-12-12T07:47:55.075Z"
   },
   {
    "duration": 0,
    "start_time": "2024-12-12T07:47:55.076Z"
   },
   {
    "duration": 0,
    "start_time": "2024-12-12T07:47:55.077Z"
   },
   {
    "duration": 0,
    "start_time": "2024-12-12T07:47:55.078Z"
   },
   {
    "duration": 0,
    "start_time": "2024-12-12T07:47:55.079Z"
   },
   {
    "duration": 0,
    "start_time": "2024-12-12T07:47:55.080Z"
   },
   {
    "duration": 0,
    "start_time": "2024-12-12T07:47:55.130Z"
   },
   {
    "duration": 0,
    "start_time": "2024-12-12T07:47:55.131Z"
   },
   {
    "duration": 0,
    "start_time": "2024-12-12T07:47:55.132Z"
   },
   {
    "duration": 0,
    "start_time": "2024-12-12T07:47:55.133Z"
   },
   {
    "duration": 0,
    "start_time": "2024-12-12T07:47:55.134Z"
   },
   {
    "duration": 0,
    "start_time": "2024-12-12T07:47:55.135Z"
   },
   {
    "duration": 0,
    "start_time": "2024-12-12T07:47:55.136Z"
   },
   {
    "duration": 0,
    "start_time": "2024-12-12T07:47:55.138Z"
   },
   {
    "duration": 0,
    "start_time": "2024-12-12T07:47:55.138Z"
   },
   {
    "duration": 0,
    "start_time": "2024-12-12T07:47:55.139Z"
   },
   {
    "duration": 0,
    "start_time": "2024-12-12T07:47:55.140Z"
   },
   {
    "duration": 0,
    "start_time": "2024-12-12T07:47:55.141Z"
   },
   {
    "duration": 0,
    "start_time": "2024-12-12T07:47:55.142Z"
   },
   {
    "duration": 0,
    "start_time": "2024-12-12T07:47:55.143Z"
   },
   {
    "duration": 0,
    "start_time": "2024-12-12T07:47:55.144Z"
   },
   {
    "duration": 0,
    "start_time": "2024-12-12T07:47:55.144Z"
   },
   {
    "duration": 0,
    "start_time": "2024-12-12T07:47:55.145Z"
   },
   {
    "duration": 0,
    "start_time": "2024-12-12T07:47:55.146Z"
   },
   {
    "duration": 9,
    "start_time": "2024-12-12T07:48:51.555Z"
   },
   {
    "duration": 21,
    "start_time": "2024-12-12T07:49:03.434Z"
   },
   {
    "duration": 1931,
    "start_time": "2024-12-12T07:51:56.518Z"
   },
   {
    "duration": 3,
    "start_time": "2024-12-12T07:51:58.451Z"
   },
   {
    "duration": 63,
    "start_time": "2024-12-12T07:51:58.455Z"
   },
   {
    "duration": 11,
    "start_time": "2024-12-12T07:51:58.520Z"
   },
   {
    "duration": 17,
    "start_time": "2024-12-12T07:51:58.532Z"
   },
   {
    "duration": 29,
    "start_time": "2024-12-12T07:51:58.551Z"
   },
   {
    "duration": 7,
    "start_time": "2024-12-12T07:51:58.581Z"
   },
   {
    "duration": 18,
    "start_time": "2024-12-12T07:51:58.590Z"
   },
   {
    "duration": 5,
    "start_time": "2024-12-12T07:51:58.609Z"
   },
   {
    "duration": 436,
    "start_time": "2024-12-12T07:51:58.616Z"
   },
   {
    "duration": 8,
    "start_time": "2024-12-12T07:51:59.054Z"
   },
   {
    "duration": 670,
    "start_time": "2024-12-12T07:51:59.064Z"
   },
   {
    "duration": 7,
    "start_time": "2024-12-12T07:51:59.736Z"
   },
   {
    "duration": 860,
    "start_time": "2024-12-12T07:51:59.745Z"
   },
   {
    "duration": 240,
    "start_time": "2024-12-12T07:52:00.607Z"
   },
   {
    "duration": 4,
    "start_time": "2024-12-12T07:52:00.849Z"
   },
   {
    "duration": 58,
    "start_time": "2024-12-12T07:52:00.854Z"
   },
   {
    "duration": 27,
    "start_time": "2024-12-12T07:52:00.914Z"
   },
   {
    "duration": 240,
    "start_time": "2024-12-12T07:52:00.943Z"
   },
   {
    "duration": 6,
    "start_time": "2024-12-12T07:52:01.184Z"
   },
   {
    "duration": 29,
    "start_time": "2024-12-12T07:52:01.192Z"
   },
   {
    "duration": 15,
    "start_time": "2024-12-12T07:52:01.223Z"
   },
   {
    "duration": 39,
    "start_time": "2024-12-12T07:52:01.240Z"
   },
   {
    "duration": 26,
    "start_time": "2024-12-12T07:52:01.281Z"
   },
   {
    "duration": 32,
    "start_time": "2024-12-12T07:52:01.309Z"
   },
   {
    "duration": 44,
    "start_time": "2024-12-12T07:52:01.343Z"
   },
   {
    "duration": 37,
    "start_time": "2024-12-12T07:52:01.388Z"
   },
   {
    "duration": 10,
    "start_time": "2024-12-12T07:52:01.430Z"
   },
   {
    "duration": 23,
    "start_time": "2024-12-12T07:52:01.441Z"
   },
   {
    "duration": 33,
    "start_time": "2024-12-12T07:52:01.466Z"
   },
   {
    "duration": 169,
    "start_time": "2024-12-12T07:52:01.501Z"
   },
   {
    "duration": 0,
    "start_time": "2024-12-12T07:52:01.671Z"
   },
   {
    "duration": 0,
    "start_time": "2024-12-12T07:52:01.673Z"
   },
   {
    "duration": 0,
    "start_time": "2024-12-12T07:52:01.673Z"
   },
   {
    "duration": 0,
    "start_time": "2024-12-12T07:52:01.674Z"
   },
   {
    "duration": 0,
    "start_time": "2024-12-12T07:52:01.676Z"
   },
   {
    "duration": 1,
    "start_time": "2024-12-12T07:52:01.676Z"
   },
   {
    "duration": 0,
    "start_time": "2024-12-12T07:52:01.677Z"
   },
   {
    "duration": 0,
    "start_time": "2024-12-12T07:52:01.678Z"
   },
   {
    "duration": 0,
    "start_time": "2024-12-12T07:52:01.679Z"
   },
   {
    "duration": 0,
    "start_time": "2024-12-12T07:52:01.680Z"
   },
   {
    "duration": 0,
    "start_time": "2024-12-12T07:52:01.681Z"
   },
   {
    "duration": 0,
    "start_time": "2024-12-12T07:52:01.682Z"
   },
   {
    "duration": 0,
    "start_time": "2024-12-12T07:52:01.683Z"
   },
   {
    "duration": 0,
    "start_time": "2024-12-12T07:52:01.684Z"
   },
   {
    "duration": 0,
    "start_time": "2024-12-12T07:52:01.685Z"
   },
   {
    "duration": 0,
    "start_time": "2024-12-12T07:52:01.686Z"
   },
   {
    "duration": 0,
    "start_time": "2024-12-12T07:52:01.687Z"
   },
   {
    "duration": 0,
    "start_time": "2024-12-12T07:52:01.688Z"
   },
   {
    "duration": 0,
    "start_time": "2024-12-12T07:52:01.689Z"
   },
   {
    "duration": 0,
    "start_time": "2024-12-12T07:52:01.690Z"
   },
   {
    "duration": 0,
    "start_time": "2024-12-12T07:52:01.691Z"
   },
   {
    "duration": 0,
    "start_time": "2024-12-12T07:52:01.693Z"
   },
   {
    "duration": 0,
    "start_time": "2024-12-12T07:52:01.729Z"
   },
   {
    "duration": 0,
    "start_time": "2024-12-12T07:52:01.731Z"
   },
   {
    "duration": 0,
    "start_time": "2024-12-12T07:52:01.732Z"
   },
   {
    "duration": 0,
    "start_time": "2024-12-12T07:52:01.733Z"
   },
   {
    "duration": 0,
    "start_time": "2024-12-12T07:52:01.734Z"
   },
   {
    "duration": 0,
    "start_time": "2024-12-12T07:52:01.735Z"
   },
   {
    "duration": 0,
    "start_time": "2024-12-12T07:52:01.736Z"
   },
   {
    "duration": 0,
    "start_time": "2024-12-12T07:52:01.737Z"
   },
   {
    "duration": 0,
    "start_time": "2024-12-12T07:52:01.738Z"
   },
   {
    "duration": 0,
    "start_time": "2024-12-12T07:52:01.739Z"
   },
   {
    "duration": 0,
    "start_time": "2024-12-12T07:52:01.740Z"
   },
   {
    "duration": 0,
    "start_time": "2024-12-12T07:52:01.741Z"
   },
   {
    "duration": 0,
    "start_time": "2024-12-12T07:52:01.742Z"
   },
   {
    "duration": 0,
    "start_time": "2024-12-12T07:52:01.744Z"
   },
   {
    "duration": 0,
    "start_time": "2024-12-12T07:52:01.745Z"
   },
   {
    "duration": 0,
    "start_time": "2024-12-12T07:52:01.746Z"
   },
   {
    "duration": 0,
    "start_time": "2024-12-12T07:52:01.747Z"
   },
   {
    "duration": 0,
    "start_time": "2024-12-12T07:52:01.748Z"
   },
   {
    "duration": 0,
    "start_time": "2024-12-12T07:52:01.749Z"
   },
   {
    "duration": 0,
    "start_time": "2024-12-12T07:52:01.749Z"
   },
   {
    "duration": 0,
    "start_time": "2024-12-12T07:52:01.750Z"
   },
   {
    "duration": 0,
    "start_time": "2024-12-12T07:52:01.752Z"
   },
   {
    "duration": 0,
    "start_time": "2024-12-12T07:52:01.753Z"
   },
   {
    "duration": 0,
    "start_time": "2024-12-12T07:52:01.753Z"
   },
   {
    "duration": 0,
    "start_time": "2024-12-12T07:52:01.754Z"
   },
   {
    "duration": 0,
    "start_time": "2024-12-12T07:52:01.755Z"
   },
   {
    "duration": 2176,
    "start_time": "2024-12-12T07:54:11.074Z"
   },
   {
    "duration": 2,
    "start_time": "2024-12-12T07:54:13.252Z"
   },
   {
    "duration": 54,
    "start_time": "2024-12-12T07:54:13.256Z"
   },
   {
    "duration": 11,
    "start_time": "2024-12-12T07:54:13.312Z"
   },
   {
    "duration": 10,
    "start_time": "2024-12-12T07:54:13.324Z"
   },
   {
    "duration": 3,
    "start_time": "2024-12-12T07:54:13.336Z"
   },
   {
    "duration": 4,
    "start_time": "2024-12-12T07:54:13.341Z"
   },
   {
    "duration": 11,
    "start_time": "2024-12-12T07:54:13.347Z"
   },
   {
    "duration": 4,
    "start_time": "2024-12-12T07:54:13.359Z"
   },
   {
    "duration": 400,
    "start_time": "2024-12-12T07:54:13.366Z"
   },
   {
    "duration": 10,
    "start_time": "2024-12-12T07:54:13.767Z"
   },
   {
    "duration": 669,
    "start_time": "2024-12-12T07:54:13.778Z"
   },
   {
    "duration": 8,
    "start_time": "2024-12-12T07:54:14.448Z"
   },
   {
    "duration": 852,
    "start_time": "2024-12-12T07:54:14.457Z"
   },
   {
    "duration": 236,
    "start_time": "2024-12-12T07:54:15.310Z"
   },
   {
    "duration": 4,
    "start_time": "2024-12-12T07:54:15.547Z"
   },
   {
    "duration": 26,
    "start_time": "2024-12-12T07:54:15.553Z"
   },
   {
    "duration": 51,
    "start_time": "2024-12-12T07:54:15.581Z"
   },
   {
    "duration": 252,
    "start_time": "2024-12-12T07:54:15.634Z"
   },
   {
    "duration": 5,
    "start_time": "2024-12-12T07:54:15.888Z"
   },
   {
    "duration": 28,
    "start_time": "2024-12-12T07:54:15.895Z"
   },
   {
    "duration": 17,
    "start_time": "2024-12-12T07:54:15.924Z"
   },
   {
    "duration": 29,
    "start_time": "2024-12-12T07:54:15.942Z"
   },
   {
    "duration": 32,
    "start_time": "2024-12-12T07:54:15.972Z"
   },
   {
    "duration": 12,
    "start_time": "2024-12-12T07:54:16.005Z"
   },
   {
    "duration": 14,
    "start_time": "2024-12-12T07:54:16.018Z"
   },
   {
    "duration": 39,
    "start_time": "2024-12-12T07:54:16.034Z"
   },
   {
    "duration": 12,
    "start_time": "2024-12-12T07:54:16.077Z"
   },
   {
    "duration": 12,
    "start_time": "2024-12-12T07:54:16.090Z"
   },
   {
    "duration": 27,
    "start_time": "2024-12-12T07:54:16.103Z"
   },
   {
    "duration": 149,
    "start_time": "2024-12-12T07:54:16.132Z"
   },
   {
    "duration": 0,
    "start_time": "2024-12-12T07:54:16.283Z"
   },
   {
    "duration": 0,
    "start_time": "2024-12-12T07:54:16.284Z"
   },
   {
    "duration": 0,
    "start_time": "2024-12-12T07:54:16.285Z"
   },
   {
    "duration": 0,
    "start_time": "2024-12-12T07:54:16.286Z"
   },
   {
    "duration": 0,
    "start_time": "2024-12-12T07:54:16.287Z"
   },
   {
    "duration": 0,
    "start_time": "2024-12-12T07:54:16.288Z"
   },
   {
    "duration": 0,
    "start_time": "2024-12-12T07:54:16.290Z"
   },
   {
    "duration": 0,
    "start_time": "2024-12-12T07:54:16.291Z"
   },
   {
    "duration": 0,
    "start_time": "2024-12-12T07:54:16.292Z"
   },
   {
    "duration": 0,
    "start_time": "2024-12-12T07:54:16.293Z"
   },
   {
    "duration": 0,
    "start_time": "2024-12-12T07:54:16.294Z"
   },
   {
    "duration": 0,
    "start_time": "2024-12-12T07:54:16.295Z"
   },
   {
    "duration": 0,
    "start_time": "2024-12-12T07:54:16.296Z"
   },
   {
    "duration": 0,
    "start_time": "2024-12-12T07:54:16.297Z"
   },
   {
    "duration": 0,
    "start_time": "2024-12-12T07:54:16.298Z"
   },
   {
    "duration": 0,
    "start_time": "2024-12-12T07:54:16.299Z"
   },
   {
    "duration": 0,
    "start_time": "2024-12-12T07:54:16.301Z"
   },
   {
    "duration": 0,
    "start_time": "2024-12-12T07:54:16.330Z"
   },
   {
    "duration": 0,
    "start_time": "2024-12-12T07:54:16.332Z"
   },
   {
    "duration": 0,
    "start_time": "2024-12-12T07:54:16.333Z"
   },
   {
    "duration": 0,
    "start_time": "2024-12-12T07:54:16.334Z"
   },
   {
    "duration": 0,
    "start_time": "2024-12-12T07:54:16.336Z"
   },
   {
    "duration": 0,
    "start_time": "2024-12-12T07:54:16.337Z"
   },
   {
    "duration": 0,
    "start_time": "2024-12-12T07:54:16.338Z"
   },
   {
    "duration": 0,
    "start_time": "2024-12-12T07:54:16.340Z"
   },
   {
    "duration": 0,
    "start_time": "2024-12-12T07:54:16.341Z"
   },
   {
    "duration": 0,
    "start_time": "2024-12-12T07:54:16.343Z"
   },
   {
    "duration": 0,
    "start_time": "2024-12-12T07:54:16.344Z"
   },
   {
    "duration": 0,
    "start_time": "2024-12-12T07:54:16.346Z"
   },
   {
    "duration": 0,
    "start_time": "2024-12-12T07:54:16.347Z"
   },
   {
    "duration": 0,
    "start_time": "2024-12-12T07:54:16.348Z"
   },
   {
    "duration": 0,
    "start_time": "2024-12-12T07:54:16.349Z"
   },
   {
    "duration": 0,
    "start_time": "2024-12-12T07:54:16.351Z"
   },
   {
    "duration": 0,
    "start_time": "2024-12-12T07:54:16.352Z"
   },
   {
    "duration": 0,
    "start_time": "2024-12-12T07:54:16.353Z"
   },
   {
    "duration": 0,
    "start_time": "2024-12-12T07:54:16.354Z"
   },
   {
    "duration": 0,
    "start_time": "2024-12-12T07:54:16.355Z"
   },
   {
    "duration": 0,
    "start_time": "2024-12-12T07:54:16.356Z"
   },
   {
    "duration": 0,
    "start_time": "2024-12-12T07:54:16.357Z"
   },
   {
    "duration": 0,
    "start_time": "2024-12-12T07:54:16.358Z"
   },
   {
    "duration": 0,
    "start_time": "2024-12-12T07:54:16.359Z"
   },
   {
    "duration": 0,
    "start_time": "2024-12-12T07:54:16.360Z"
   },
   {
    "duration": 0,
    "start_time": "2024-12-12T07:54:16.361Z"
   },
   {
    "duration": 0,
    "start_time": "2024-12-12T07:54:16.362Z"
   },
   {
    "duration": 0,
    "start_time": "2024-12-12T07:54:16.363Z"
   },
   {
    "duration": 0,
    "start_time": "2024-12-12T07:54:16.364Z"
   },
   {
    "duration": 1,
    "start_time": "2024-12-12T07:54:16.365Z"
   },
   {
    "duration": 0,
    "start_time": "2024-12-12T07:54:16.367Z"
   },
   {
    "duration": 23,
    "start_time": "2024-12-12T07:55:11.977Z"
   },
   {
    "duration": 1800,
    "start_time": "2024-12-12T07:56:12.657Z"
   },
   {
    "duration": 3,
    "start_time": "2024-12-12T07:56:14.459Z"
   },
   {
    "duration": 58,
    "start_time": "2024-12-12T07:56:14.463Z"
   },
   {
    "duration": 11,
    "start_time": "2024-12-12T07:56:14.523Z"
   },
   {
    "duration": 11,
    "start_time": "2024-12-12T07:56:14.535Z"
   },
   {
    "duration": 4,
    "start_time": "2024-12-12T07:56:14.547Z"
   },
   {
    "duration": 6,
    "start_time": "2024-12-12T07:56:14.552Z"
   },
   {
    "duration": 24,
    "start_time": "2024-12-12T07:56:14.559Z"
   },
   {
    "duration": 4,
    "start_time": "2024-12-12T07:56:14.584Z"
   },
   {
    "duration": 440,
    "start_time": "2024-12-12T07:56:14.591Z"
   },
   {
    "duration": 10,
    "start_time": "2024-12-12T07:56:15.033Z"
   },
   {
    "duration": 685,
    "start_time": "2024-12-12T07:56:15.045Z"
   },
   {
    "duration": 7,
    "start_time": "2024-12-12T07:56:15.732Z"
   },
   {
    "duration": 848,
    "start_time": "2024-12-12T07:56:15.741Z"
   },
   {
    "duration": 231,
    "start_time": "2024-12-12T07:56:16.590Z"
   },
   {
    "duration": 9,
    "start_time": "2024-12-12T07:56:16.822Z"
   },
   {
    "duration": 22,
    "start_time": "2024-12-12T07:56:16.833Z"
   },
   {
    "duration": 29,
    "start_time": "2024-12-12T07:56:16.857Z"
   },
   {
    "duration": 282,
    "start_time": "2024-12-12T07:56:16.888Z"
   },
   {
    "duration": 5,
    "start_time": "2024-12-12T07:56:17.172Z"
   },
   {
    "duration": 7,
    "start_time": "2024-12-12T07:56:17.179Z"
   },
   {
    "duration": 23,
    "start_time": "2024-12-12T07:56:17.188Z"
   },
   {
    "duration": 29,
    "start_time": "2024-12-12T07:56:17.212Z"
   },
   {
    "duration": 20,
    "start_time": "2024-12-12T07:56:17.242Z"
   },
   {
    "duration": 8,
    "start_time": "2024-12-12T07:56:17.263Z"
   },
   {
    "duration": 24,
    "start_time": "2024-12-12T07:56:17.272Z"
   },
   {
    "duration": 34,
    "start_time": "2024-12-12T07:56:17.298Z"
   },
   {
    "duration": 12,
    "start_time": "2024-12-12T07:56:17.336Z"
   },
   {
    "duration": 32,
    "start_time": "2024-12-12T07:56:17.349Z"
   },
   {
    "duration": 23,
    "start_time": "2024-12-12T07:56:17.383Z"
   },
   {
    "duration": 25,
    "start_time": "2024-12-12T07:56:17.407Z"
   },
   {
    "duration": 148,
    "start_time": "2024-12-12T07:56:17.434Z"
   },
   {
    "duration": 0,
    "start_time": "2024-12-12T07:56:17.584Z"
   },
   {
    "duration": 0,
    "start_time": "2024-12-12T07:56:17.585Z"
   },
   {
    "duration": 0,
    "start_time": "2024-12-12T07:56:17.586Z"
   },
   {
    "duration": 0,
    "start_time": "2024-12-12T07:56:17.588Z"
   },
   {
    "duration": 0,
    "start_time": "2024-12-12T07:56:17.589Z"
   },
   {
    "duration": 0,
    "start_time": "2024-12-12T07:56:17.590Z"
   },
   {
    "duration": 0,
    "start_time": "2024-12-12T07:56:17.591Z"
   },
   {
    "duration": 0,
    "start_time": "2024-12-12T07:56:17.592Z"
   },
   {
    "duration": 0,
    "start_time": "2024-12-12T07:56:17.594Z"
   },
   {
    "duration": 0,
    "start_time": "2024-12-12T07:56:17.595Z"
   },
   {
    "duration": 0,
    "start_time": "2024-12-12T07:56:17.595Z"
   },
   {
    "duration": 0,
    "start_time": "2024-12-12T07:56:17.597Z"
   },
   {
    "duration": 0,
    "start_time": "2024-12-12T07:56:17.598Z"
   },
   {
    "duration": 0,
    "start_time": "2024-12-12T07:56:17.600Z"
   },
   {
    "duration": 0,
    "start_time": "2024-12-12T07:56:17.600Z"
   },
   {
    "duration": 0,
    "start_time": "2024-12-12T07:56:17.630Z"
   },
   {
    "duration": 0,
    "start_time": "2024-12-12T07:56:17.631Z"
   },
   {
    "duration": 0,
    "start_time": "2024-12-12T07:56:17.632Z"
   },
   {
    "duration": 0,
    "start_time": "2024-12-12T07:56:17.633Z"
   },
   {
    "duration": 0,
    "start_time": "2024-12-12T07:56:17.634Z"
   },
   {
    "duration": 0,
    "start_time": "2024-12-12T07:56:17.635Z"
   },
   {
    "duration": 0,
    "start_time": "2024-12-12T07:56:17.636Z"
   },
   {
    "duration": 0,
    "start_time": "2024-12-12T07:56:17.637Z"
   },
   {
    "duration": 0,
    "start_time": "2024-12-12T07:56:17.638Z"
   },
   {
    "duration": 1,
    "start_time": "2024-12-12T07:56:17.639Z"
   },
   {
    "duration": 0,
    "start_time": "2024-12-12T07:56:17.641Z"
   },
   {
    "duration": 0,
    "start_time": "2024-12-12T07:56:17.641Z"
   },
   {
    "duration": 0,
    "start_time": "2024-12-12T07:56:17.643Z"
   },
   {
    "duration": 0,
    "start_time": "2024-12-12T07:56:17.644Z"
   },
   {
    "duration": 0,
    "start_time": "2024-12-12T07:56:17.645Z"
   },
   {
    "duration": 0,
    "start_time": "2024-12-12T07:56:17.646Z"
   },
   {
    "duration": 0,
    "start_time": "2024-12-12T07:56:17.647Z"
   },
   {
    "duration": 0,
    "start_time": "2024-12-12T07:56:17.648Z"
   },
   {
    "duration": 0,
    "start_time": "2024-12-12T07:56:17.649Z"
   },
   {
    "duration": 0,
    "start_time": "2024-12-12T07:56:17.650Z"
   },
   {
    "duration": 0,
    "start_time": "2024-12-12T07:56:17.651Z"
   },
   {
    "duration": 0,
    "start_time": "2024-12-12T07:56:17.652Z"
   },
   {
    "duration": 0,
    "start_time": "2024-12-12T07:56:17.653Z"
   },
   {
    "duration": 0,
    "start_time": "2024-12-12T07:56:17.654Z"
   },
   {
    "duration": 0,
    "start_time": "2024-12-12T07:56:17.655Z"
   },
   {
    "duration": 0,
    "start_time": "2024-12-12T07:56:17.656Z"
   },
   {
    "duration": 0,
    "start_time": "2024-12-12T07:56:17.658Z"
   },
   {
    "duration": 0,
    "start_time": "2024-12-12T07:56:17.659Z"
   },
   {
    "duration": 0,
    "start_time": "2024-12-12T07:56:17.660Z"
   },
   {
    "duration": 0,
    "start_time": "2024-12-12T07:56:17.661Z"
   },
   {
    "duration": 0,
    "start_time": "2024-12-12T07:56:17.663Z"
   },
   {
    "duration": 0,
    "start_time": "2024-12-12T07:56:17.664Z"
   },
   {
    "duration": 0,
    "start_time": "2024-12-12T07:56:17.665Z"
   },
   {
    "duration": 1809,
    "start_time": "2024-12-12T07:59:25.854Z"
   },
   {
    "duration": 3,
    "start_time": "2024-12-12T07:59:27.665Z"
   },
   {
    "duration": 57,
    "start_time": "2024-12-12T07:59:27.669Z"
   },
   {
    "duration": 10,
    "start_time": "2024-12-12T07:59:27.729Z"
   },
   {
    "duration": 11,
    "start_time": "2024-12-12T07:59:27.740Z"
   },
   {
    "duration": 13,
    "start_time": "2024-12-12T07:59:27.753Z"
   },
   {
    "duration": 26,
    "start_time": "2024-12-12T07:59:27.767Z"
   },
   {
    "duration": 70,
    "start_time": "2024-12-12T07:59:27.794Z"
   },
   {
    "duration": 18,
    "start_time": "2024-12-12T07:59:27.866Z"
   },
   {
    "duration": 381,
    "start_time": "2024-12-12T07:59:27.886Z"
   },
   {
    "duration": 8,
    "start_time": "2024-12-12T07:59:28.269Z"
   },
   {
    "duration": 708,
    "start_time": "2024-12-12T07:59:28.279Z"
   },
   {
    "duration": 8,
    "start_time": "2024-12-12T07:59:28.988Z"
   },
   {
    "duration": 845,
    "start_time": "2024-12-12T07:59:28.997Z"
   },
   {
    "duration": 253,
    "start_time": "2024-12-12T07:59:29.844Z"
   },
   {
    "duration": 3,
    "start_time": "2024-12-12T07:59:30.099Z"
   },
   {
    "duration": 44,
    "start_time": "2024-12-12T07:59:30.104Z"
   },
   {
    "duration": 37,
    "start_time": "2024-12-12T07:59:30.150Z"
   },
   {
    "duration": 289,
    "start_time": "2024-12-12T07:59:30.189Z"
   },
   {
    "duration": 5,
    "start_time": "2024-12-12T07:59:30.480Z"
   },
   {
    "duration": 61,
    "start_time": "2024-12-12T07:59:30.487Z"
   },
   {
    "duration": 36,
    "start_time": "2024-12-12T07:59:30.550Z"
   },
   {
    "duration": 52,
    "start_time": "2024-12-12T07:59:30.588Z"
   },
   {
    "duration": 166,
    "start_time": "2024-12-12T07:59:30.642Z"
   },
   {
    "duration": 0,
    "start_time": "2024-12-12T07:59:30.811Z"
   },
   {
    "duration": 0,
    "start_time": "2024-12-12T07:59:30.812Z"
   },
   {
    "duration": 0,
    "start_time": "2024-12-12T07:59:30.813Z"
   },
   {
    "duration": 0,
    "start_time": "2024-12-12T07:59:30.814Z"
   },
   {
    "duration": 0,
    "start_time": "2024-12-12T07:59:30.815Z"
   },
   {
    "duration": 0,
    "start_time": "2024-12-12T07:59:30.816Z"
   },
   {
    "duration": 0,
    "start_time": "2024-12-12T07:59:30.817Z"
   },
   {
    "duration": 0,
    "start_time": "2024-12-12T07:59:30.830Z"
   },
   {
    "duration": 0,
    "start_time": "2024-12-12T07:59:30.831Z"
   },
   {
    "duration": 0,
    "start_time": "2024-12-12T07:59:30.832Z"
   },
   {
    "duration": 0,
    "start_time": "2024-12-12T07:59:30.833Z"
   },
   {
    "duration": 0,
    "start_time": "2024-12-12T07:59:30.834Z"
   },
   {
    "duration": 0,
    "start_time": "2024-12-12T07:59:30.835Z"
   },
   {
    "duration": 0,
    "start_time": "2024-12-12T07:59:30.835Z"
   },
   {
    "duration": 0,
    "start_time": "2024-12-12T07:59:30.836Z"
   },
   {
    "duration": 0,
    "start_time": "2024-12-12T07:59:30.837Z"
   },
   {
    "duration": 0,
    "start_time": "2024-12-12T07:59:30.838Z"
   },
   {
    "duration": 0,
    "start_time": "2024-12-12T07:59:30.839Z"
   },
   {
    "duration": 0,
    "start_time": "2024-12-12T07:59:30.840Z"
   },
   {
    "duration": 0,
    "start_time": "2024-12-12T07:59:30.841Z"
   },
   {
    "duration": 0,
    "start_time": "2024-12-12T07:59:30.842Z"
   },
   {
    "duration": 0,
    "start_time": "2024-12-12T07:59:30.843Z"
   },
   {
    "duration": 0,
    "start_time": "2024-12-12T07:59:30.844Z"
   },
   {
    "duration": 0,
    "start_time": "2024-12-12T07:59:30.845Z"
   },
   {
    "duration": 0,
    "start_time": "2024-12-12T07:59:30.846Z"
   },
   {
    "duration": 0,
    "start_time": "2024-12-12T07:59:30.847Z"
   },
   {
    "duration": 0,
    "start_time": "2024-12-12T07:59:30.848Z"
   },
   {
    "duration": 0,
    "start_time": "2024-12-12T07:59:30.849Z"
   },
   {
    "duration": 0,
    "start_time": "2024-12-12T07:59:30.850Z"
   },
   {
    "duration": 0,
    "start_time": "2024-12-12T07:59:30.851Z"
   },
   {
    "duration": 0,
    "start_time": "2024-12-12T07:59:30.852Z"
   },
   {
    "duration": 0,
    "start_time": "2024-12-12T07:59:30.853Z"
   },
   {
    "duration": 0,
    "start_time": "2024-12-12T07:59:30.854Z"
   },
   {
    "duration": 0,
    "start_time": "2024-12-12T07:59:30.854Z"
   },
   {
    "duration": 0,
    "start_time": "2024-12-12T07:59:30.855Z"
   },
   {
    "duration": 0,
    "start_time": "2024-12-12T07:59:30.856Z"
   },
   {
    "duration": 0,
    "start_time": "2024-12-12T07:59:30.858Z"
   },
   {
    "duration": 0,
    "start_time": "2024-12-12T07:59:30.859Z"
   },
   {
    "duration": 0,
    "start_time": "2024-12-12T07:59:30.860Z"
   },
   {
    "duration": 0,
    "start_time": "2024-12-12T07:59:30.861Z"
   },
   {
    "duration": 0,
    "start_time": "2024-12-12T07:59:30.862Z"
   },
   {
    "duration": 0,
    "start_time": "2024-12-12T07:59:30.864Z"
   },
   {
    "duration": 0,
    "start_time": "2024-12-12T07:59:30.865Z"
   },
   {
    "duration": 0,
    "start_time": "2024-12-12T07:59:30.866Z"
   },
   {
    "duration": 0,
    "start_time": "2024-12-12T07:59:30.867Z"
   },
   {
    "duration": 0,
    "start_time": "2024-12-12T07:59:30.868Z"
   },
   {
    "duration": 0,
    "start_time": "2024-12-12T07:59:30.930Z"
   },
   {
    "duration": 0,
    "start_time": "2024-12-12T07:59:30.931Z"
   },
   {
    "duration": 0,
    "start_time": "2024-12-12T07:59:30.932Z"
   },
   {
    "duration": 0,
    "start_time": "2024-12-12T07:59:30.933Z"
   },
   {
    "duration": 0,
    "start_time": "2024-12-12T07:59:30.934Z"
   },
   {
    "duration": 0,
    "start_time": "2024-12-12T07:59:30.935Z"
   },
   {
    "duration": 0,
    "start_time": "2024-12-12T07:59:30.936Z"
   },
   {
    "duration": 0,
    "start_time": "2024-12-12T07:59:30.937Z"
   },
   {
    "duration": 0,
    "start_time": "2024-12-12T07:59:30.938Z"
   },
   {
    "duration": 0,
    "start_time": "2024-12-12T07:59:30.939Z"
   },
   {
    "duration": 0,
    "start_time": "2024-12-12T07:59:30.940Z"
   },
   {
    "duration": 5,
    "start_time": "2024-12-12T07:59:43.650Z"
   },
   {
    "duration": 3,
    "start_time": "2024-12-12T07:59:45.661Z"
   },
   {
    "duration": 5,
    "start_time": "2024-12-12T07:59:47.434Z"
   },
   {
    "duration": 85,
    "start_time": "2024-12-12T07:59:48.156Z"
   },
   {
    "duration": 9,
    "start_time": "2024-12-12T07:59:49.996Z"
   },
   {
    "duration": 5,
    "start_time": "2024-12-12T07:59:51.121Z"
   },
   {
    "duration": 21,
    "start_time": "2024-12-12T07:59:57.289Z"
   },
   {
    "duration": 1772,
    "start_time": "2024-12-12T08:01:30.580Z"
   },
   {
    "duration": 2,
    "start_time": "2024-12-12T08:01:32.355Z"
   },
   {
    "duration": 57,
    "start_time": "2024-12-12T08:01:32.358Z"
   },
   {
    "duration": 11,
    "start_time": "2024-12-12T08:01:32.417Z"
   },
   {
    "duration": 17,
    "start_time": "2024-12-12T08:01:32.430Z"
   },
   {
    "duration": 18,
    "start_time": "2024-12-12T08:01:32.449Z"
   },
   {
    "duration": 32,
    "start_time": "2024-12-12T08:01:32.469Z"
   },
   {
    "duration": 27,
    "start_time": "2024-12-12T08:01:32.503Z"
   },
   {
    "duration": 16,
    "start_time": "2024-12-12T08:01:32.532Z"
   },
   {
    "duration": 401,
    "start_time": "2024-12-12T08:01:32.551Z"
   },
   {
    "duration": 9,
    "start_time": "2024-12-12T08:01:32.953Z"
   },
   {
    "duration": 656,
    "start_time": "2024-12-12T08:01:32.963Z"
   },
   {
    "duration": 8,
    "start_time": "2024-12-12T08:01:33.620Z"
   },
   {
    "duration": 865,
    "start_time": "2024-12-12T08:01:33.629Z"
   },
   {
    "duration": 254,
    "start_time": "2024-12-12T08:01:34.496Z"
   },
   {
    "duration": 4,
    "start_time": "2024-12-12T08:01:34.752Z"
   },
   {
    "duration": 43,
    "start_time": "2024-12-12T08:01:34.758Z"
   },
   {
    "duration": 42,
    "start_time": "2024-12-12T08:01:34.803Z"
   },
   {
    "duration": 248,
    "start_time": "2024-12-12T08:01:34.847Z"
   },
   {
    "duration": 6,
    "start_time": "2024-12-12T08:01:35.097Z"
   },
   {
    "duration": 21,
    "start_time": "2024-12-12T08:01:35.104Z"
   },
   {
    "duration": 38,
    "start_time": "2024-12-12T08:01:35.126Z"
   },
   {
    "duration": 26,
    "start_time": "2024-12-12T08:01:35.166Z"
   },
   {
    "duration": 6,
    "start_time": "2024-12-12T08:01:35.194Z"
   },
   {
    "duration": 7,
    "start_time": "2024-12-12T08:01:35.202Z"
   },
   {
    "duration": 6,
    "start_time": "2024-12-12T08:01:35.210Z"
   },
   {
    "duration": 21,
    "start_time": "2024-12-12T08:01:35.218Z"
   },
   {
    "duration": 106,
    "start_time": "2024-12-12T08:01:35.244Z"
   },
   {
    "duration": 10,
    "start_time": "2024-12-12T08:01:35.351Z"
   },
   {
    "duration": 13,
    "start_time": "2024-12-12T08:01:35.362Z"
   },
   {
    "duration": 19,
    "start_time": "2024-12-12T08:01:35.377Z"
   },
   {
    "duration": 28,
    "start_time": "2024-12-12T08:01:35.397Z"
   },
   {
    "duration": 23,
    "start_time": "2024-12-12T08:01:35.426Z"
   },
   {
    "duration": 153,
    "start_time": "2024-12-12T08:01:35.450Z"
   },
   {
    "duration": 0,
    "start_time": "2024-12-12T08:01:35.605Z"
   },
   {
    "duration": 0,
    "start_time": "2024-12-12T08:01:35.606Z"
   },
   {
    "duration": 0,
    "start_time": "2024-12-12T08:01:35.607Z"
   },
   {
    "duration": 0,
    "start_time": "2024-12-12T08:01:35.609Z"
   },
   {
    "duration": 0,
    "start_time": "2024-12-12T08:01:35.610Z"
   },
   {
    "duration": 0,
    "start_time": "2024-12-12T08:01:35.611Z"
   },
   {
    "duration": 0,
    "start_time": "2024-12-12T08:01:35.612Z"
   },
   {
    "duration": 0,
    "start_time": "2024-12-12T08:01:35.613Z"
   },
   {
    "duration": 0,
    "start_time": "2024-12-12T08:01:35.614Z"
   },
   {
    "duration": 0,
    "start_time": "2024-12-12T08:01:35.630Z"
   },
   {
    "duration": 0,
    "start_time": "2024-12-12T08:01:35.631Z"
   },
   {
    "duration": 0,
    "start_time": "2024-12-12T08:01:35.633Z"
   },
   {
    "duration": 0,
    "start_time": "2024-12-12T08:01:35.634Z"
   },
   {
    "duration": 0,
    "start_time": "2024-12-12T08:01:35.635Z"
   },
   {
    "duration": 0,
    "start_time": "2024-12-12T08:01:35.636Z"
   },
   {
    "duration": 0,
    "start_time": "2024-12-12T08:01:35.637Z"
   },
   {
    "duration": 0,
    "start_time": "2024-12-12T08:01:35.638Z"
   },
   {
    "duration": 0,
    "start_time": "2024-12-12T08:01:35.639Z"
   },
   {
    "duration": 0,
    "start_time": "2024-12-12T08:01:35.640Z"
   },
   {
    "duration": 0,
    "start_time": "2024-12-12T08:01:35.641Z"
   },
   {
    "duration": 0,
    "start_time": "2024-12-12T08:01:35.642Z"
   },
   {
    "duration": 0,
    "start_time": "2024-12-12T08:01:35.643Z"
   },
   {
    "duration": 0,
    "start_time": "2024-12-12T08:01:35.644Z"
   },
   {
    "duration": 0,
    "start_time": "2024-12-12T08:01:35.645Z"
   },
   {
    "duration": 0,
    "start_time": "2024-12-12T08:01:35.647Z"
   },
   {
    "duration": 0,
    "start_time": "2024-12-12T08:01:35.648Z"
   },
   {
    "duration": 0,
    "start_time": "2024-12-12T08:01:35.649Z"
   },
   {
    "duration": 0,
    "start_time": "2024-12-12T08:01:35.650Z"
   },
   {
    "duration": 0,
    "start_time": "2024-12-12T08:01:35.651Z"
   },
   {
    "duration": 0,
    "start_time": "2024-12-12T08:01:35.652Z"
   },
   {
    "duration": 0,
    "start_time": "2024-12-12T08:01:35.653Z"
   },
   {
    "duration": 0,
    "start_time": "2024-12-12T08:01:35.654Z"
   },
   {
    "duration": 0,
    "start_time": "2024-12-12T08:01:35.655Z"
   },
   {
    "duration": 0,
    "start_time": "2024-12-12T08:01:35.656Z"
   },
   {
    "duration": 0,
    "start_time": "2024-12-12T08:01:35.657Z"
   },
   {
    "duration": 0,
    "start_time": "2024-12-12T08:01:35.659Z"
   },
   {
    "duration": 0,
    "start_time": "2024-12-12T08:01:35.660Z"
   },
   {
    "duration": 0,
    "start_time": "2024-12-12T08:01:35.661Z"
   },
   {
    "duration": 0,
    "start_time": "2024-12-12T08:01:35.662Z"
   },
   {
    "duration": 0,
    "start_time": "2024-12-12T08:01:35.663Z"
   },
   {
    "duration": 0,
    "start_time": "2024-12-12T08:01:35.664Z"
   },
   {
    "duration": 0,
    "start_time": "2024-12-12T08:01:35.665Z"
   },
   {
    "duration": 0,
    "start_time": "2024-12-12T08:01:35.730Z"
   },
   {
    "duration": 0,
    "start_time": "2024-12-12T08:01:35.731Z"
   },
   {
    "duration": 0,
    "start_time": "2024-12-12T08:01:35.732Z"
   },
   {
    "duration": 0,
    "start_time": "2024-12-12T08:01:35.734Z"
   },
   {
    "duration": 0,
    "start_time": "2024-12-12T08:01:35.735Z"
   },
   {
    "duration": 0,
    "start_time": "2024-12-12T08:01:35.736Z"
   },
   {
    "duration": 7,
    "start_time": "2024-12-12T08:05:04.673Z"
   },
   {
    "duration": 4,
    "start_time": "2024-12-12T08:05:09.388Z"
   },
   {
    "duration": 4,
    "start_time": "2024-12-12T08:05:25.154Z"
   },
   {
    "duration": 12,
    "start_time": "2024-12-12T08:08:57.430Z"
   },
   {
    "duration": 5,
    "start_time": "2024-12-12T08:09:21.290Z"
   },
   {
    "duration": 22,
    "start_time": "2024-12-12T08:10:04.514Z"
   },
   {
    "duration": 1858,
    "start_time": "2024-12-12T08:10:20.090Z"
   },
   {
    "duration": 3,
    "start_time": "2024-12-12T08:10:21.949Z"
   },
   {
    "duration": 60,
    "start_time": "2024-12-12T08:10:21.953Z"
   },
   {
    "duration": 10,
    "start_time": "2024-12-12T08:10:22.015Z"
   },
   {
    "duration": 10,
    "start_time": "2024-12-12T08:10:22.027Z"
   },
   {
    "duration": 21,
    "start_time": "2024-12-12T08:10:22.039Z"
   },
   {
    "duration": 9,
    "start_time": "2024-12-12T08:10:22.062Z"
   },
   {
    "duration": 10,
    "start_time": "2024-12-12T08:10:22.073Z"
   },
   {
    "duration": 20,
    "start_time": "2024-12-12T08:10:22.085Z"
   },
   {
    "duration": 399,
    "start_time": "2024-12-12T08:10:22.108Z"
   },
   {
    "duration": 8,
    "start_time": "2024-12-12T08:10:22.509Z"
   },
   {
    "duration": 678,
    "start_time": "2024-12-12T08:10:22.529Z"
   },
   {
    "duration": 7,
    "start_time": "2024-12-12T08:10:23.209Z"
   },
   {
    "duration": 837,
    "start_time": "2024-12-12T08:10:23.218Z"
   },
   {
    "duration": 231,
    "start_time": "2024-12-12T08:10:24.057Z"
   },
   {
    "duration": 4,
    "start_time": "2024-12-12T08:10:24.289Z"
   },
   {
    "duration": 36,
    "start_time": "2024-12-12T08:10:24.295Z"
   },
   {
    "duration": 30,
    "start_time": "2024-12-12T08:10:24.333Z"
   },
   {
    "duration": 227,
    "start_time": "2024-12-12T08:10:24.364Z"
   },
   {
    "duration": 5,
    "start_time": "2024-12-12T08:10:24.592Z"
   },
   {
    "duration": 22,
    "start_time": "2024-12-12T08:10:24.599Z"
   },
   {
    "duration": 27,
    "start_time": "2024-12-12T08:10:24.622Z"
   },
   {
    "duration": 21,
    "start_time": "2024-12-12T08:10:24.650Z"
   },
   {
    "duration": 8,
    "start_time": "2024-12-12T08:10:24.672Z"
   },
   {
    "duration": 12,
    "start_time": "2024-12-12T08:10:24.685Z"
   },
   {
    "duration": 6,
    "start_time": "2024-12-12T08:10:24.699Z"
   },
   {
    "duration": 59,
    "start_time": "2024-12-12T08:10:24.707Z"
   },
   {
    "duration": 6,
    "start_time": "2024-12-12T08:10:24.770Z"
   },
   {
    "duration": 37,
    "start_time": "2024-12-12T08:10:24.777Z"
   },
   {
    "duration": 82,
    "start_time": "2024-12-12T08:10:24.816Z"
   },
   {
    "duration": 9,
    "start_time": "2024-12-12T08:10:24.900Z"
   },
   {
    "duration": 7,
    "start_time": "2024-12-12T08:10:24.911Z"
   },
   {
    "duration": 27,
    "start_time": "2024-12-12T08:10:24.919Z"
   },
   {
    "duration": 11,
    "start_time": "2024-12-12T08:10:24.947Z"
   },
   {
    "duration": 24,
    "start_time": "2024-12-12T08:10:24.959Z"
   },
   {
    "duration": 161,
    "start_time": "2024-12-12T08:10:24.984Z"
   },
   {
    "duration": 0,
    "start_time": "2024-12-12T08:10:25.146Z"
   },
   {
    "duration": 0,
    "start_time": "2024-12-12T08:10:25.148Z"
   },
   {
    "duration": 0,
    "start_time": "2024-12-12T08:10:25.149Z"
   },
   {
    "duration": 0,
    "start_time": "2024-12-12T08:10:25.150Z"
   },
   {
    "duration": 0,
    "start_time": "2024-12-12T08:10:25.151Z"
   },
   {
    "duration": 0,
    "start_time": "2024-12-12T08:10:25.152Z"
   },
   {
    "duration": 0,
    "start_time": "2024-12-12T08:10:25.153Z"
   },
   {
    "duration": 0,
    "start_time": "2024-12-12T08:10:25.154Z"
   },
   {
    "duration": 0,
    "start_time": "2024-12-12T08:10:25.155Z"
   },
   {
    "duration": 0,
    "start_time": "2024-12-12T08:10:25.156Z"
   },
   {
    "duration": 0,
    "start_time": "2024-12-12T08:10:25.157Z"
   },
   {
    "duration": 0,
    "start_time": "2024-12-12T08:10:25.158Z"
   },
   {
    "duration": 0,
    "start_time": "2024-12-12T08:10:25.159Z"
   },
   {
    "duration": 0,
    "start_time": "2024-12-12T08:10:25.160Z"
   },
   {
    "duration": 0,
    "start_time": "2024-12-12T08:10:25.161Z"
   },
   {
    "duration": 0,
    "start_time": "2024-12-12T08:10:25.162Z"
   },
   {
    "duration": 0,
    "start_time": "2024-12-12T08:10:25.163Z"
   },
   {
    "duration": 0,
    "start_time": "2024-12-12T08:10:25.164Z"
   },
   {
    "duration": 0,
    "start_time": "2024-12-12T08:10:25.165Z"
   },
   {
    "duration": 1,
    "start_time": "2024-12-12T08:10:25.166Z"
   },
   {
    "duration": 0,
    "start_time": "2024-12-12T08:10:25.168Z"
   },
   {
    "duration": 0,
    "start_time": "2024-12-12T08:10:25.169Z"
   },
   {
    "duration": 0,
    "start_time": "2024-12-12T08:10:25.170Z"
   },
   {
    "duration": 0,
    "start_time": "2024-12-12T08:10:25.171Z"
   },
   {
    "duration": 0,
    "start_time": "2024-12-12T08:10:25.172Z"
   },
   {
    "duration": 0,
    "start_time": "2024-12-12T08:10:25.173Z"
   },
   {
    "duration": 0,
    "start_time": "2024-12-12T08:10:25.174Z"
   },
   {
    "duration": 0,
    "start_time": "2024-12-12T08:10:25.175Z"
   },
   {
    "duration": 0,
    "start_time": "2024-12-12T08:10:25.176Z"
   },
   {
    "duration": 0,
    "start_time": "2024-12-12T08:10:25.178Z"
   },
   {
    "duration": 0,
    "start_time": "2024-12-12T08:10:25.230Z"
   },
   {
    "duration": 0,
    "start_time": "2024-12-12T08:10:25.231Z"
   },
   {
    "duration": 0,
    "start_time": "2024-12-12T08:10:25.232Z"
   },
   {
    "duration": 0,
    "start_time": "2024-12-12T08:10:25.234Z"
   },
   {
    "duration": 0,
    "start_time": "2024-12-12T08:10:25.235Z"
   },
   {
    "duration": 0,
    "start_time": "2024-12-12T08:10:25.236Z"
   },
   {
    "duration": 0,
    "start_time": "2024-12-12T08:10:25.237Z"
   },
   {
    "duration": 0,
    "start_time": "2024-12-12T08:10:25.238Z"
   },
   {
    "duration": 0,
    "start_time": "2024-12-12T08:10:25.239Z"
   },
   {
    "duration": 1,
    "start_time": "2024-12-12T08:10:25.240Z"
   },
   {
    "duration": 0,
    "start_time": "2024-12-12T08:10:25.242Z"
   },
   {
    "duration": 0,
    "start_time": "2024-12-12T08:10:25.243Z"
   },
   {
    "duration": 0,
    "start_time": "2024-12-12T08:10:25.244Z"
   },
   {
    "duration": 0,
    "start_time": "2024-12-12T08:10:25.245Z"
   },
   {
    "duration": 0,
    "start_time": "2024-12-12T08:10:25.246Z"
   },
   {
    "duration": 0,
    "start_time": "2024-12-12T08:10:25.247Z"
   },
   {
    "duration": 0,
    "start_time": "2024-12-12T08:10:25.248Z"
   },
   {
    "duration": 0,
    "start_time": "2024-12-12T08:10:25.249Z"
   },
   {
    "duration": 22,
    "start_time": "2024-12-12T08:11:48.035Z"
   },
   {
    "duration": 93,
    "start_time": "2024-12-12T08:11:51.003Z"
   },
   {
    "duration": 11,
    "start_time": "2024-12-12T08:11:51.311Z"
   },
   {
    "duration": 4,
    "start_time": "2024-12-12T08:11:51.823Z"
   },
   {
    "duration": 23,
    "start_time": "2024-12-12T08:11:55.305Z"
   },
   {
    "duration": 4,
    "start_time": "2024-12-12T08:12:02.780Z"
   },
   {
    "duration": 18,
    "start_time": "2024-12-12T08:16:48.282Z"
   },
   {
    "duration": 5,
    "start_time": "2024-12-12T08:17:06.604Z"
   },
   {
    "duration": 5,
    "start_time": "2024-12-12T08:17:11.942Z"
   },
   {
    "duration": 4,
    "start_time": "2024-12-12T08:17:36.506Z"
   },
   {
    "duration": 25,
    "start_time": "2024-12-12T08:18:08.864Z"
   },
   {
    "duration": 31,
    "start_time": "2024-12-12T08:21:56.400Z"
   },
   {
    "duration": 11,
    "start_time": "2024-12-12T08:21:57.833Z"
   },
   {
    "duration": 4,
    "start_time": "2024-12-12T08:21:59.267Z"
   },
   {
    "duration": 16,
    "start_time": "2024-12-12T08:22:22.688Z"
   },
   {
    "duration": 4,
    "start_time": "2024-12-12T08:22:49.751Z"
   },
   {
    "duration": 1807,
    "start_time": "2024-12-12T08:24:15.781Z"
   },
   {
    "duration": 3,
    "start_time": "2024-12-12T08:24:17.589Z"
   },
   {
    "duration": 57,
    "start_time": "2024-12-12T08:24:17.594Z"
   },
   {
    "duration": 11,
    "start_time": "2024-12-12T08:24:17.653Z"
   },
   {
    "duration": 25,
    "start_time": "2024-12-12T08:24:17.666Z"
   },
   {
    "duration": 32,
    "start_time": "2024-12-12T08:24:17.693Z"
   },
   {
    "duration": 16,
    "start_time": "2024-12-12T08:24:17.726Z"
   },
   {
    "duration": 28,
    "start_time": "2024-12-12T08:24:17.743Z"
   },
   {
    "duration": 9,
    "start_time": "2024-12-12T08:24:17.773Z"
   },
   {
    "duration": 394,
    "start_time": "2024-12-12T08:24:17.785Z"
   },
   {
    "duration": 9,
    "start_time": "2024-12-12T08:24:18.180Z"
   },
   {
    "duration": 692,
    "start_time": "2024-12-12T08:24:18.190Z"
   },
   {
    "duration": 7,
    "start_time": "2024-12-12T08:24:18.884Z"
   },
   {
    "duration": 827,
    "start_time": "2024-12-12T08:24:18.892Z"
   },
   {
    "duration": 233,
    "start_time": "2024-12-12T08:24:19.721Z"
   },
   {
    "duration": 3,
    "start_time": "2024-12-12T08:24:19.956Z"
   },
   {
    "duration": 31,
    "start_time": "2024-12-12T08:24:19.961Z"
   },
   {
    "duration": 38,
    "start_time": "2024-12-12T08:24:19.993Z"
   },
   {
    "duration": 254,
    "start_time": "2024-12-12T08:24:20.032Z"
   },
   {
    "duration": 5,
    "start_time": "2024-12-12T08:24:20.287Z"
   },
   {
    "duration": 15,
    "start_time": "2024-12-12T08:24:20.294Z"
   },
   {
    "duration": 40,
    "start_time": "2024-12-12T08:24:20.310Z"
   },
   {
    "duration": 42,
    "start_time": "2024-12-12T08:24:20.351Z"
   },
   {
    "duration": 16,
    "start_time": "2024-12-12T08:24:20.394Z"
   },
   {
    "duration": 35,
    "start_time": "2024-12-12T08:24:20.411Z"
   },
   {
    "duration": 20,
    "start_time": "2024-12-12T08:24:20.447Z"
   },
   {
    "duration": 32,
    "start_time": "2024-12-12T08:24:20.469Z"
   },
   {
    "duration": 11,
    "start_time": "2024-12-12T08:24:20.505Z"
   },
   {
    "duration": 26,
    "start_time": "2024-12-12T08:24:20.517Z"
   },
   {
    "duration": 58,
    "start_time": "2024-12-12T08:24:20.545Z"
   },
   {
    "duration": 9,
    "start_time": "2024-12-12T08:24:20.605Z"
   },
   {
    "duration": 21,
    "start_time": "2024-12-12T08:24:20.616Z"
   },
   {
    "duration": 24,
    "start_time": "2024-12-12T08:24:20.638Z"
   },
   {
    "duration": 145,
    "start_time": "2024-12-12T08:24:20.664Z"
   },
   {
    "duration": 0,
    "start_time": "2024-12-12T08:24:20.811Z"
   },
   {
    "duration": 0,
    "start_time": "2024-12-12T08:24:20.812Z"
   },
   {
    "duration": 0,
    "start_time": "2024-12-12T08:24:20.813Z"
   },
   {
    "duration": 0,
    "start_time": "2024-12-12T08:24:20.814Z"
   },
   {
    "duration": 0,
    "start_time": "2024-12-12T08:24:20.816Z"
   },
   {
    "duration": 0,
    "start_time": "2024-12-12T08:24:20.816Z"
   },
   {
    "duration": 0,
    "start_time": "2024-12-12T08:24:20.818Z"
   },
   {
    "duration": 0,
    "start_time": "2024-12-12T08:24:20.830Z"
   },
   {
    "duration": 0,
    "start_time": "2024-12-12T08:24:20.831Z"
   },
   {
    "duration": 0,
    "start_time": "2024-12-12T08:24:20.832Z"
   },
   {
    "duration": 0,
    "start_time": "2024-12-12T08:24:20.833Z"
   },
   {
    "duration": 0,
    "start_time": "2024-12-12T08:24:20.834Z"
   },
   {
    "duration": 0,
    "start_time": "2024-12-12T08:24:20.835Z"
   },
   {
    "duration": 0,
    "start_time": "2024-12-12T08:24:20.837Z"
   },
   {
    "duration": 0,
    "start_time": "2024-12-12T08:24:20.838Z"
   },
   {
    "duration": 0,
    "start_time": "2024-12-12T08:24:20.839Z"
   },
   {
    "duration": 1,
    "start_time": "2024-12-12T08:24:20.839Z"
   },
   {
    "duration": 0,
    "start_time": "2024-12-12T08:24:20.840Z"
   },
   {
    "duration": 0,
    "start_time": "2024-12-12T08:24:20.842Z"
   },
   {
    "duration": 0,
    "start_time": "2024-12-12T08:24:20.842Z"
   },
   {
    "duration": 0,
    "start_time": "2024-12-12T08:24:20.844Z"
   },
   {
    "duration": 0,
    "start_time": "2024-12-12T08:24:20.845Z"
   },
   {
    "duration": 0,
    "start_time": "2024-12-12T08:24:20.846Z"
   },
   {
    "duration": 0,
    "start_time": "2024-12-12T08:24:20.847Z"
   },
   {
    "duration": 0,
    "start_time": "2024-12-12T08:24:20.848Z"
   },
   {
    "duration": 0,
    "start_time": "2024-12-12T08:24:20.849Z"
   },
   {
    "duration": 0,
    "start_time": "2024-12-12T08:24:20.850Z"
   },
   {
    "duration": 0,
    "start_time": "2024-12-12T08:24:20.851Z"
   },
   {
    "duration": 0,
    "start_time": "2024-12-12T08:24:20.852Z"
   },
   {
    "duration": 0,
    "start_time": "2024-12-12T08:24:20.853Z"
   },
   {
    "duration": 0,
    "start_time": "2024-12-12T08:24:20.854Z"
   },
   {
    "duration": 0,
    "start_time": "2024-12-12T08:24:20.856Z"
   },
   {
    "duration": 0,
    "start_time": "2024-12-12T08:24:20.857Z"
   },
   {
    "duration": 0,
    "start_time": "2024-12-12T08:24:20.858Z"
   },
   {
    "duration": 0,
    "start_time": "2024-12-12T08:24:20.859Z"
   },
   {
    "duration": 0,
    "start_time": "2024-12-12T08:24:20.860Z"
   },
   {
    "duration": 0,
    "start_time": "2024-12-12T08:24:20.861Z"
   },
   {
    "duration": 0,
    "start_time": "2024-12-12T08:24:20.862Z"
   },
   {
    "duration": 0,
    "start_time": "2024-12-12T08:24:20.863Z"
   },
   {
    "duration": 0,
    "start_time": "2024-12-12T08:24:20.864Z"
   },
   {
    "duration": 0,
    "start_time": "2024-12-12T08:24:20.865Z"
   },
   {
    "duration": 0,
    "start_time": "2024-12-12T08:24:20.866Z"
   },
   {
    "duration": 0,
    "start_time": "2024-12-12T08:24:20.867Z"
   },
   {
    "duration": 0,
    "start_time": "2024-12-12T08:24:20.868Z"
   },
   {
    "duration": 0,
    "start_time": "2024-12-12T08:24:20.930Z"
   },
   {
    "duration": 0,
    "start_time": "2024-12-12T08:24:20.931Z"
   },
   {
    "duration": 0,
    "start_time": "2024-12-12T08:24:20.932Z"
   },
   {
    "duration": 0,
    "start_time": "2024-12-12T08:24:20.933Z"
   },
   {
    "duration": 0,
    "start_time": "2024-12-12T08:24:20.934Z"
   },
   {
    "duration": 0,
    "start_time": "2024-12-12T08:24:20.935Z"
   },
   {
    "duration": 0,
    "start_time": "2024-12-12T08:24:20.936Z"
   },
   {
    "duration": 1833,
    "start_time": "2024-12-12T08:27:40.056Z"
   },
   {
    "duration": 3,
    "start_time": "2024-12-12T08:27:41.891Z"
   },
   {
    "duration": 103,
    "start_time": "2024-12-12T08:27:41.895Z"
   },
   {
    "duration": 11,
    "start_time": "2024-12-12T08:27:42.000Z"
   },
   {
    "duration": 41,
    "start_time": "2024-12-12T08:27:42.013Z"
   },
   {
    "duration": 4,
    "start_time": "2024-12-12T08:27:42.055Z"
   },
   {
    "duration": 7,
    "start_time": "2024-12-12T08:27:42.061Z"
   },
   {
    "duration": 9,
    "start_time": "2024-12-12T08:27:42.070Z"
   },
   {
    "duration": 4,
    "start_time": "2024-12-12T08:27:42.080Z"
   },
   {
    "duration": 415,
    "start_time": "2024-12-12T08:27:42.086Z"
   },
   {
    "duration": 10,
    "start_time": "2024-12-12T08:27:42.503Z"
   },
   {
    "duration": 693,
    "start_time": "2024-12-12T08:27:42.514Z"
   },
   {
    "duration": 9,
    "start_time": "2024-12-12T08:27:43.208Z"
   },
   {
    "duration": 899,
    "start_time": "2024-12-12T08:27:43.220Z"
   },
   {
    "duration": 240,
    "start_time": "2024-12-12T08:27:44.129Z"
   },
   {
    "duration": 4,
    "start_time": "2024-12-12T08:27:44.371Z"
   },
   {
    "duration": 32,
    "start_time": "2024-12-12T08:27:44.376Z"
   },
   {
    "duration": 41,
    "start_time": "2024-12-12T08:27:44.410Z"
   },
   {
    "duration": 257,
    "start_time": "2024-12-12T08:27:44.453Z"
   },
   {
    "duration": 17,
    "start_time": "2024-12-12T08:27:44.713Z"
   },
   {
    "duration": 7,
    "start_time": "2024-12-12T08:27:44.732Z"
   },
   {
    "duration": 30,
    "start_time": "2024-12-12T08:27:44.741Z"
   },
   {
    "duration": 33,
    "start_time": "2024-12-12T08:27:44.773Z"
   },
   {
    "duration": 46,
    "start_time": "2024-12-12T08:27:44.808Z"
   },
   {
    "duration": 158,
    "start_time": "2024-12-12T08:27:44.856Z"
   },
   {
    "duration": 0,
    "start_time": "2024-12-12T08:27:45.018Z"
   },
   {
    "duration": 0,
    "start_time": "2024-12-12T08:27:45.019Z"
   },
   {
    "duration": 0,
    "start_time": "2024-12-12T08:27:45.021Z"
   },
   {
    "duration": 0,
    "start_time": "2024-12-12T08:27:45.030Z"
   },
   {
    "duration": 0,
    "start_time": "2024-12-12T08:27:45.031Z"
   },
   {
    "duration": 0,
    "start_time": "2024-12-12T08:27:45.032Z"
   },
   {
    "duration": 0,
    "start_time": "2024-12-12T08:27:45.033Z"
   },
   {
    "duration": 0,
    "start_time": "2024-12-12T08:27:45.034Z"
   },
   {
    "duration": 0,
    "start_time": "2024-12-12T08:27:45.036Z"
   },
   {
    "duration": 0,
    "start_time": "2024-12-12T08:27:45.037Z"
   },
   {
    "duration": 0,
    "start_time": "2024-12-12T08:27:45.038Z"
   },
   {
    "duration": 0,
    "start_time": "2024-12-12T08:27:45.039Z"
   },
   {
    "duration": 0,
    "start_time": "2024-12-12T08:27:45.040Z"
   },
   {
    "duration": 0,
    "start_time": "2024-12-12T08:27:45.041Z"
   },
   {
    "duration": 0,
    "start_time": "2024-12-12T08:27:45.042Z"
   },
   {
    "duration": 0,
    "start_time": "2024-12-12T08:27:45.043Z"
   },
   {
    "duration": 0,
    "start_time": "2024-12-12T08:27:45.044Z"
   },
   {
    "duration": 0,
    "start_time": "2024-12-12T08:27:45.045Z"
   },
   {
    "duration": 0,
    "start_time": "2024-12-12T08:27:45.046Z"
   },
   {
    "duration": 0,
    "start_time": "2024-12-12T08:27:45.047Z"
   },
   {
    "duration": 0,
    "start_time": "2024-12-12T08:27:45.048Z"
   },
   {
    "duration": 0,
    "start_time": "2024-12-12T08:27:45.049Z"
   },
   {
    "duration": 0,
    "start_time": "2024-12-12T08:27:45.050Z"
   },
   {
    "duration": 0,
    "start_time": "2024-12-12T08:27:45.051Z"
   },
   {
    "duration": 0,
    "start_time": "2024-12-12T08:27:45.052Z"
   },
   {
    "duration": 0,
    "start_time": "2024-12-12T08:27:45.054Z"
   },
   {
    "duration": 0,
    "start_time": "2024-12-12T08:27:45.055Z"
   },
   {
    "duration": 0,
    "start_time": "2024-12-12T08:27:45.056Z"
   },
   {
    "duration": 0,
    "start_time": "2024-12-12T08:27:45.057Z"
   },
   {
    "duration": 0,
    "start_time": "2024-12-12T08:27:45.059Z"
   },
   {
    "duration": 0,
    "start_time": "2024-12-12T08:27:45.059Z"
   },
   {
    "duration": 0,
    "start_time": "2024-12-12T08:27:45.060Z"
   },
   {
    "duration": 0,
    "start_time": "2024-12-12T08:27:45.061Z"
   },
   {
    "duration": 0,
    "start_time": "2024-12-12T08:27:45.062Z"
   },
   {
    "duration": 0,
    "start_time": "2024-12-12T08:27:45.063Z"
   },
   {
    "duration": 1,
    "start_time": "2024-12-12T08:27:45.064Z"
   },
   {
    "duration": 0,
    "start_time": "2024-12-12T08:27:45.065Z"
   },
   {
    "duration": 0,
    "start_time": "2024-12-12T08:27:45.066Z"
   },
   {
    "duration": 0,
    "start_time": "2024-12-12T08:27:45.130Z"
   },
   {
    "duration": 0,
    "start_time": "2024-12-12T08:27:45.131Z"
   },
   {
    "duration": 0,
    "start_time": "2024-12-12T08:27:45.132Z"
   },
   {
    "duration": 0,
    "start_time": "2024-12-12T08:27:45.133Z"
   },
   {
    "duration": 0,
    "start_time": "2024-12-12T08:27:45.134Z"
   },
   {
    "duration": 0,
    "start_time": "2024-12-12T08:27:45.135Z"
   },
   {
    "duration": 0,
    "start_time": "2024-12-12T08:27:45.136Z"
   },
   {
    "duration": 0,
    "start_time": "2024-12-12T08:27:45.137Z"
   },
   {
    "duration": 0,
    "start_time": "2024-12-12T08:27:45.139Z"
   },
   {
    "duration": 0,
    "start_time": "2024-12-12T08:27:45.140Z"
   },
   {
    "duration": 0,
    "start_time": "2024-12-12T08:27:45.141Z"
   },
   {
    "duration": 0,
    "start_time": "2024-12-12T08:27:45.142Z"
   },
   {
    "duration": 0,
    "start_time": "2024-12-12T08:27:45.143Z"
   },
   {
    "duration": 0,
    "start_time": "2024-12-12T08:27:45.144Z"
   },
   {
    "duration": 0,
    "start_time": "2024-12-12T08:27:45.145Z"
   },
   {
    "duration": 0,
    "start_time": "2024-12-12T08:27:45.146Z"
   },
   {
    "duration": 0,
    "start_time": "2024-12-12T08:27:45.147Z"
   },
   {
    "duration": 0,
    "start_time": "2024-12-12T08:27:45.149Z"
   },
   {
    "duration": 0,
    "start_time": "2024-12-12T08:27:45.151Z"
   },
   {
    "duration": 0,
    "start_time": "2024-12-12T08:27:45.152Z"
   },
   {
    "duration": 0,
    "start_time": "2024-12-12T08:27:45.153Z"
   },
   {
    "duration": 0,
    "start_time": "2024-12-12T08:27:45.155Z"
   },
   {
    "duration": 3,
    "start_time": "2024-12-12T08:28:50.301Z"
   },
   {
    "duration": 4,
    "start_time": "2024-12-12T08:28:55.115Z"
   },
   {
    "duration": 20,
    "start_time": "2024-12-12T08:28:55.728Z"
   },
   {
    "duration": 5,
    "start_time": "2024-12-12T08:28:56.750Z"
   },
   {
    "duration": 21,
    "start_time": "2024-12-12T08:28:58.291Z"
   },
   {
    "duration": 33,
    "start_time": "2024-12-12T08:28:59.415Z"
   },
   {
    "duration": 10,
    "start_time": "2024-12-12T08:29:03.921Z"
   },
   {
    "duration": 4,
    "start_time": "2024-12-12T08:29:04.945Z"
   },
   {
    "duration": 5,
    "start_time": "2024-12-12T08:29:05.997Z"
   },
   {
    "duration": 11,
    "start_time": "2024-12-12T08:29:09.757Z"
   },
   {
    "duration": 4,
    "start_time": "2024-12-12T08:29:31.979Z"
   },
   {
    "duration": 4,
    "start_time": "2024-12-12T08:30:22.659Z"
   },
   {
    "duration": 1863,
    "start_time": "2024-12-12T08:33:38.255Z"
   },
   {
    "duration": 3,
    "start_time": "2024-12-12T08:33:40.120Z"
   },
   {
    "duration": 66,
    "start_time": "2024-12-12T08:33:40.124Z"
   },
   {
    "duration": 11,
    "start_time": "2024-12-12T08:33:40.192Z"
   },
   {
    "duration": 32,
    "start_time": "2024-12-12T08:33:40.205Z"
   },
   {
    "duration": 11,
    "start_time": "2024-12-12T08:33:40.239Z"
   },
   {
    "duration": 5,
    "start_time": "2024-12-12T08:33:40.251Z"
   },
   {
    "duration": 24,
    "start_time": "2024-12-12T08:33:40.257Z"
   },
   {
    "duration": 10,
    "start_time": "2024-12-12T08:33:40.282Z"
   },
   {
    "duration": 388,
    "start_time": "2024-12-12T08:33:40.294Z"
   },
   {
    "duration": 9,
    "start_time": "2024-12-12T08:33:40.684Z"
   },
   {
    "duration": 685,
    "start_time": "2024-12-12T08:33:40.694Z"
   },
   {
    "duration": 7,
    "start_time": "2024-12-12T08:33:41.380Z"
   },
   {
    "duration": 811,
    "start_time": "2024-12-12T08:33:41.390Z"
   },
   {
    "duration": 229,
    "start_time": "2024-12-12T08:33:42.203Z"
   },
   {
    "duration": 3,
    "start_time": "2024-12-12T08:33:42.434Z"
   },
   {
    "duration": 43,
    "start_time": "2024-12-12T08:33:42.439Z"
   },
   {
    "duration": 33,
    "start_time": "2024-12-12T08:33:42.484Z"
   },
   {
    "duration": 253,
    "start_time": "2024-12-12T08:33:42.519Z"
   },
   {
    "duration": 7,
    "start_time": "2024-12-12T08:33:42.774Z"
   },
   {
    "duration": 15,
    "start_time": "2024-12-12T08:33:42.782Z"
   },
   {
    "duration": 71,
    "start_time": "2024-12-12T08:33:42.799Z"
   },
   {
    "duration": 22,
    "start_time": "2024-12-12T08:33:42.872Z"
   },
   {
    "duration": 18,
    "start_time": "2024-12-12T08:33:42.896Z"
   },
   {
    "duration": 22,
    "start_time": "2024-12-12T08:33:42.916Z"
   },
   {
    "duration": 24,
    "start_time": "2024-12-12T08:33:42.940Z"
   },
   {
    "duration": 19,
    "start_time": "2024-12-12T08:33:42.965Z"
   },
   {
    "duration": 6,
    "start_time": "2024-12-12T08:33:42.986Z"
   },
   {
    "duration": 20,
    "start_time": "2024-12-12T08:33:42.994Z"
   },
   {
    "duration": 35,
    "start_time": "2024-12-12T08:33:43.016Z"
   },
   {
    "duration": 158,
    "start_time": "2024-12-12T08:33:43.053Z"
   },
   {
    "duration": 0,
    "start_time": "2024-12-12T08:33:43.215Z"
   },
   {
    "duration": 0,
    "start_time": "2024-12-12T08:33:43.217Z"
   },
   {
    "duration": 0,
    "start_time": "2024-12-12T08:33:43.218Z"
   },
   {
    "duration": 0,
    "start_time": "2024-12-12T08:33:43.219Z"
   },
   {
    "duration": 0,
    "start_time": "2024-12-12T08:33:43.229Z"
   },
   {
    "duration": 0,
    "start_time": "2024-12-12T08:33:43.231Z"
   },
   {
    "duration": 0,
    "start_time": "2024-12-12T08:33:43.232Z"
   },
   {
    "duration": 0,
    "start_time": "2024-12-12T08:33:43.233Z"
   },
   {
    "duration": 0,
    "start_time": "2024-12-12T08:33:43.234Z"
   },
   {
    "duration": 0,
    "start_time": "2024-12-12T08:33:43.235Z"
   },
   {
    "duration": 0,
    "start_time": "2024-12-12T08:33:43.236Z"
   },
   {
    "duration": 0,
    "start_time": "2024-12-12T08:33:43.238Z"
   },
   {
    "duration": 0,
    "start_time": "2024-12-12T08:33:43.239Z"
   },
   {
    "duration": 0,
    "start_time": "2024-12-12T08:33:43.240Z"
   },
   {
    "duration": 0,
    "start_time": "2024-12-12T08:33:43.241Z"
   },
   {
    "duration": 0,
    "start_time": "2024-12-12T08:33:43.242Z"
   },
   {
    "duration": 0,
    "start_time": "2024-12-12T08:33:43.243Z"
   },
   {
    "duration": 0,
    "start_time": "2024-12-12T08:33:43.244Z"
   },
   {
    "duration": 0,
    "start_time": "2024-12-12T08:33:43.245Z"
   },
   {
    "duration": 0,
    "start_time": "2024-12-12T08:33:43.246Z"
   },
   {
    "duration": 0,
    "start_time": "2024-12-12T08:33:43.247Z"
   },
   {
    "duration": 0,
    "start_time": "2024-12-12T08:33:43.248Z"
   },
   {
    "duration": 0,
    "start_time": "2024-12-12T08:33:43.249Z"
   },
   {
    "duration": 0,
    "start_time": "2024-12-12T08:33:43.250Z"
   },
   {
    "duration": 0,
    "start_time": "2024-12-12T08:33:43.251Z"
   },
   {
    "duration": 0,
    "start_time": "2024-12-12T08:33:43.252Z"
   },
   {
    "duration": 0,
    "start_time": "2024-12-12T08:33:43.253Z"
   },
   {
    "duration": 0,
    "start_time": "2024-12-12T08:33:43.254Z"
   },
   {
    "duration": 0,
    "start_time": "2024-12-12T08:33:43.255Z"
   },
   {
    "duration": 0,
    "start_time": "2024-12-12T08:33:43.256Z"
   },
   {
    "duration": 0,
    "start_time": "2024-12-12T08:33:43.257Z"
   },
   {
    "duration": 0,
    "start_time": "2024-12-12T08:33:43.258Z"
   },
   {
    "duration": 0,
    "start_time": "2024-12-12T08:33:43.259Z"
   },
   {
    "duration": 0,
    "start_time": "2024-12-12T08:33:43.260Z"
   },
   {
    "duration": 0,
    "start_time": "2024-12-12T08:33:43.261Z"
   },
   {
    "duration": 0,
    "start_time": "2024-12-12T08:33:43.262Z"
   },
   {
    "duration": 0,
    "start_time": "2024-12-12T08:33:43.263Z"
   },
   {
    "duration": 0,
    "start_time": "2024-12-12T08:33:43.264Z"
   },
   {
    "duration": 0,
    "start_time": "2024-12-12T08:33:43.265Z"
   },
   {
    "duration": 0,
    "start_time": "2024-12-12T08:33:43.266Z"
   },
   {
    "duration": 0,
    "start_time": "2024-12-12T08:33:43.267Z"
   },
   {
    "duration": 0,
    "start_time": "2024-12-12T08:33:43.268Z"
   },
   {
    "duration": 0,
    "start_time": "2024-12-12T08:33:43.331Z"
   },
   {
    "duration": 0,
    "start_time": "2024-12-12T08:33:43.331Z"
   },
   {
    "duration": 1,
    "start_time": "2024-12-12T08:33:43.332Z"
   },
   {
    "duration": 0,
    "start_time": "2024-12-12T08:33:43.334Z"
   },
   {
    "duration": 0,
    "start_time": "2024-12-12T08:33:43.335Z"
   },
   {
    "duration": 0,
    "start_time": "2024-12-12T08:33:43.336Z"
   },
   {
    "duration": 0,
    "start_time": "2024-12-12T08:33:43.337Z"
   },
   {
    "duration": 0,
    "start_time": "2024-12-12T08:33:43.338Z"
   },
   {
    "duration": 0,
    "start_time": "2024-12-12T08:33:43.339Z"
   },
   {
    "duration": 0,
    "start_time": "2024-12-12T08:33:43.340Z"
   },
   {
    "duration": 0,
    "start_time": "2024-12-12T08:33:43.342Z"
   },
   {
    "duration": 0,
    "start_time": "2024-12-12T08:33:43.343Z"
   },
   {
    "duration": 1897,
    "start_time": "2024-12-12T08:35:44.683Z"
   },
   {
    "duration": 2,
    "start_time": "2024-12-12T08:35:46.582Z"
   },
   {
    "duration": 57,
    "start_time": "2024-12-12T08:35:46.586Z"
   },
   {
    "duration": 11,
    "start_time": "2024-12-12T08:35:46.645Z"
   },
   {
    "duration": 25,
    "start_time": "2024-12-12T08:35:46.658Z"
   },
   {
    "duration": 7,
    "start_time": "2024-12-12T08:35:46.685Z"
   },
   {
    "duration": 37,
    "start_time": "2024-12-12T08:35:46.693Z"
   },
   {
    "duration": 10,
    "start_time": "2024-12-12T08:35:46.732Z"
   },
   {
    "duration": 23,
    "start_time": "2024-12-12T08:35:46.743Z"
   },
   {
    "duration": 396,
    "start_time": "2024-12-12T08:35:46.769Z"
   },
   {
    "duration": 9,
    "start_time": "2024-12-12T08:35:47.167Z"
   },
   {
    "duration": 654,
    "start_time": "2024-12-12T08:35:47.177Z"
   },
   {
    "duration": 8,
    "start_time": "2024-12-12T08:35:47.832Z"
   },
   {
    "duration": 864,
    "start_time": "2024-12-12T08:35:47.842Z"
   },
   {
    "duration": 227,
    "start_time": "2024-12-12T08:35:48.707Z"
   },
   {
    "duration": 4,
    "start_time": "2024-12-12T08:35:48.936Z"
   },
   {
    "duration": 43,
    "start_time": "2024-12-12T08:35:48.941Z"
   },
   {
    "duration": 29,
    "start_time": "2024-12-12T08:35:48.985Z"
   },
   {
    "duration": 260,
    "start_time": "2024-12-12T08:35:49.016Z"
   },
   {
    "duration": 5,
    "start_time": "2024-12-12T08:35:49.278Z"
   },
   {
    "duration": 5,
    "start_time": "2024-12-12T08:35:49.285Z"
   },
   {
    "duration": 19,
    "start_time": "2024-12-12T08:35:49.292Z"
   },
   {
    "duration": 15,
    "start_time": "2024-12-12T08:35:49.329Z"
   },
   {
    "duration": 6,
    "start_time": "2024-12-12T08:35:49.346Z"
   },
   {
    "duration": 13,
    "start_time": "2024-12-12T08:35:49.354Z"
   },
   {
    "duration": 11,
    "start_time": "2024-12-12T08:35:49.369Z"
   },
   {
    "duration": 27,
    "start_time": "2024-12-12T08:35:49.382Z"
   },
   {
    "duration": 5,
    "start_time": "2024-12-12T08:35:49.414Z"
   },
   {
    "duration": 20,
    "start_time": "2024-12-12T08:35:49.429Z"
   },
   {
    "duration": 22,
    "start_time": "2024-12-12T08:35:49.451Z"
   },
   {
    "duration": 8,
    "start_time": "2024-12-12T08:35:49.474Z"
   },
   {
    "duration": 13,
    "start_time": "2024-12-12T08:35:49.484Z"
   },
   {
    "duration": 11,
    "start_time": "2024-12-12T08:35:49.498Z"
   },
   {
    "duration": 156,
    "start_time": "2024-12-12T08:35:49.529Z"
   },
   {
    "duration": 0,
    "start_time": "2024-12-12T08:35:49.687Z"
   },
   {
    "duration": 0,
    "start_time": "2024-12-12T08:35:49.689Z"
   },
   {
    "duration": 0,
    "start_time": "2024-12-12T08:35:49.690Z"
   },
   {
    "duration": 0,
    "start_time": "2024-12-12T08:35:49.691Z"
   },
   {
    "duration": 0,
    "start_time": "2024-12-12T08:35:49.692Z"
   },
   {
    "duration": 0,
    "start_time": "2024-12-12T08:35:49.693Z"
   },
   {
    "duration": 0,
    "start_time": "2024-12-12T08:35:49.694Z"
   },
   {
    "duration": 0,
    "start_time": "2024-12-12T08:35:49.695Z"
   },
   {
    "duration": 0,
    "start_time": "2024-12-12T08:35:49.696Z"
   },
   {
    "duration": 0,
    "start_time": "2024-12-12T08:35:49.697Z"
   },
   {
    "duration": 0,
    "start_time": "2024-12-12T08:35:49.698Z"
   },
   {
    "duration": 0,
    "start_time": "2024-12-12T08:35:49.699Z"
   },
   {
    "duration": 0,
    "start_time": "2024-12-12T08:35:49.701Z"
   },
   {
    "duration": 0,
    "start_time": "2024-12-12T08:35:49.702Z"
   },
   {
    "duration": 0,
    "start_time": "2024-12-12T08:35:49.730Z"
   },
   {
    "duration": 0,
    "start_time": "2024-12-12T08:35:49.731Z"
   },
   {
    "duration": 0,
    "start_time": "2024-12-12T08:35:49.732Z"
   },
   {
    "duration": 0,
    "start_time": "2024-12-12T08:35:49.733Z"
   },
   {
    "duration": 0,
    "start_time": "2024-12-12T08:35:49.734Z"
   },
   {
    "duration": 0,
    "start_time": "2024-12-12T08:35:49.735Z"
   },
   {
    "duration": 0,
    "start_time": "2024-12-12T08:35:49.736Z"
   },
   {
    "duration": 0,
    "start_time": "2024-12-12T08:35:49.737Z"
   },
   {
    "duration": 0,
    "start_time": "2024-12-12T08:35:49.738Z"
   },
   {
    "duration": 0,
    "start_time": "2024-12-12T08:35:49.740Z"
   },
   {
    "duration": 0,
    "start_time": "2024-12-12T08:35:49.740Z"
   },
   {
    "duration": 0,
    "start_time": "2024-12-12T08:35:49.742Z"
   },
   {
    "duration": 0,
    "start_time": "2024-12-12T08:35:49.743Z"
   },
   {
    "duration": 0,
    "start_time": "2024-12-12T08:35:49.744Z"
   },
   {
    "duration": 0,
    "start_time": "2024-12-12T08:35:49.745Z"
   },
   {
    "duration": 0,
    "start_time": "2024-12-12T08:35:49.746Z"
   },
   {
    "duration": 0,
    "start_time": "2024-12-12T08:35:49.754Z"
   },
   {
    "duration": 0,
    "start_time": "2024-12-12T08:35:49.755Z"
   },
   {
    "duration": 0,
    "start_time": "2024-12-12T08:35:49.756Z"
   },
   {
    "duration": 0,
    "start_time": "2024-12-12T08:35:49.757Z"
   },
   {
    "duration": 0,
    "start_time": "2024-12-12T08:35:49.758Z"
   },
   {
    "duration": 0,
    "start_time": "2024-12-12T08:35:49.759Z"
   },
   {
    "duration": 0,
    "start_time": "2024-12-12T08:35:49.760Z"
   },
   {
    "duration": 0,
    "start_time": "2024-12-12T08:35:49.761Z"
   },
   {
    "duration": 0,
    "start_time": "2024-12-12T08:35:49.762Z"
   },
   {
    "duration": 0,
    "start_time": "2024-12-12T08:35:49.764Z"
   },
   {
    "duration": 0,
    "start_time": "2024-12-12T08:35:49.764Z"
   },
   {
    "duration": 0,
    "start_time": "2024-12-12T08:35:49.765Z"
   },
   {
    "duration": 0,
    "start_time": "2024-12-12T08:35:49.766Z"
   },
   {
    "duration": 0,
    "start_time": "2024-12-12T08:35:49.768Z"
   },
   {
    "duration": 0,
    "start_time": "2024-12-12T08:35:49.769Z"
   },
   {
    "duration": 0,
    "start_time": "2024-12-12T08:35:49.770Z"
   },
   {
    "duration": 0,
    "start_time": "2024-12-12T08:35:49.829Z"
   },
   {
    "duration": 0,
    "start_time": "2024-12-12T08:35:49.831Z"
   },
   {
    "duration": 0,
    "start_time": "2024-12-12T08:35:49.832Z"
   },
   {
    "duration": 0,
    "start_time": "2024-12-12T08:35:49.833Z"
   },
   {
    "duration": 0,
    "start_time": "2024-12-12T08:35:49.834Z"
   },
   {
    "duration": 1798,
    "start_time": "2024-12-12T08:37:06.577Z"
   },
   {
    "duration": 4,
    "start_time": "2024-12-12T08:37:08.377Z"
   },
   {
    "duration": 78,
    "start_time": "2024-12-12T08:37:08.383Z"
   },
   {
    "duration": 11,
    "start_time": "2024-12-12T08:37:08.463Z"
   },
   {
    "duration": 52,
    "start_time": "2024-12-12T08:37:08.475Z"
   },
   {
    "duration": 15,
    "start_time": "2024-12-12T08:37:08.529Z"
   },
   {
    "duration": 12,
    "start_time": "2024-12-12T08:37:08.546Z"
   },
   {
    "duration": 15,
    "start_time": "2024-12-12T08:37:08.560Z"
   },
   {
    "duration": 20,
    "start_time": "2024-12-12T08:37:08.576Z"
   },
   {
    "duration": 392,
    "start_time": "2024-12-12T08:37:08.599Z"
   },
   {
    "duration": 9,
    "start_time": "2024-12-12T08:37:08.993Z"
   },
   {
    "duration": 676,
    "start_time": "2024-12-12T08:37:09.003Z"
   },
   {
    "duration": 8,
    "start_time": "2024-12-12T08:37:09.680Z"
   },
   {
    "duration": 831,
    "start_time": "2024-12-12T08:37:09.689Z"
   },
   {
    "duration": 236,
    "start_time": "2024-12-12T08:37:10.522Z"
   },
   {
    "duration": 4,
    "start_time": "2024-12-12T08:37:10.760Z"
   },
   {
    "duration": 35,
    "start_time": "2024-12-12T08:37:10.765Z"
   },
   {
    "duration": 32,
    "start_time": "2024-12-12T08:37:10.801Z"
   },
   {
    "duration": 254,
    "start_time": "2024-12-12T08:37:10.835Z"
   },
   {
    "duration": 5,
    "start_time": "2024-12-12T08:37:11.091Z"
   },
   {
    "duration": 5,
    "start_time": "2024-12-12T08:37:11.098Z"
   },
   {
    "duration": 36,
    "start_time": "2024-12-12T08:37:11.105Z"
   },
   {
    "duration": 14,
    "start_time": "2024-12-12T08:37:11.142Z"
   },
   {
    "duration": 5,
    "start_time": "2024-12-12T08:37:11.158Z"
   },
   {
    "duration": 4,
    "start_time": "2024-12-12T08:37:11.164Z"
   },
   {
    "duration": 7,
    "start_time": "2024-12-12T08:37:11.170Z"
   },
   {
    "duration": 26,
    "start_time": "2024-12-12T08:37:11.178Z"
   },
   {
    "duration": 6,
    "start_time": "2024-12-12T08:37:11.230Z"
   },
   {
    "duration": 23,
    "start_time": "2024-12-12T08:37:11.237Z"
   },
   {
    "duration": 23,
    "start_time": "2024-12-12T08:37:11.263Z"
   },
   {
    "duration": 8,
    "start_time": "2024-12-12T08:37:11.288Z"
   },
   {
    "duration": 33,
    "start_time": "2024-12-12T08:37:11.298Z"
   },
   {
    "duration": 18,
    "start_time": "2024-12-12T08:37:11.333Z"
   },
   {
    "duration": 150,
    "start_time": "2024-12-12T08:37:11.353Z"
   },
   {
    "duration": 0,
    "start_time": "2024-12-12T08:37:11.505Z"
   },
   {
    "duration": 0,
    "start_time": "2024-12-12T08:37:11.506Z"
   },
   {
    "duration": 0,
    "start_time": "2024-12-12T08:37:11.508Z"
   },
   {
    "duration": 0,
    "start_time": "2024-12-12T08:37:11.509Z"
   },
   {
    "duration": 0,
    "start_time": "2024-12-12T08:37:11.510Z"
   },
   {
    "duration": 0,
    "start_time": "2024-12-12T08:37:11.511Z"
   },
   {
    "duration": 0,
    "start_time": "2024-12-12T08:37:11.512Z"
   },
   {
    "duration": 0,
    "start_time": "2024-12-12T08:37:11.514Z"
   },
   {
    "duration": 0,
    "start_time": "2024-12-12T08:37:11.515Z"
   },
   {
    "duration": 0,
    "start_time": "2024-12-12T08:37:11.529Z"
   },
   {
    "duration": 0,
    "start_time": "2024-12-12T08:37:11.530Z"
   },
   {
    "duration": 0,
    "start_time": "2024-12-12T08:37:11.531Z"
   },
   {
    "duration": 0,
    "start_time": "2024-12-12T08:37:11.532Z"
   },
   {
    "duration": 0,
    "start_time": "2024-12-12T08:37:11.533Z"
   },
   {
    "duration": 0,
    "start_time": "2024-12-12T08:37:11.534Z"
   },
   {
    "duration": 0,
    "start_time": "2024-12-12T08:37:11.535Z"
   },
   {
    "duration": 0,
    "start_time": "2024-12-12T08:37:11.536Z"
   },
   {
    "duration": 0,
    "start_time": "2024-12-12T08:37:11.537Z"
   },
   {
    "duration": 0,
    "start_time": "2024-12-12T08:37:11.539Z"
   },
   {
    "duration": 0,
    "start_time": "2024-12-12T08:37:11.540Z"
   },
   {
    "duration": 0,
    "start_time": "2024-12-12T08:37:11.541Z"
   },
   {
    "duration": 0,
    "start_time": "2024-12-12T08:37:11.542Z"
   },
   {
    "duration": 0,
    "start_time": "2024-12-12T08:37:11.543Z"
   },
   {
    "duration": 0,
    "start_time": "2024-12-12T08:37:11.544Z"
   },
   {
    "duration": 0,
    "start_time": "2024-12-12T08:37:11.545Z"
   },
   {
    "duration": 0,
    "start_time": "2024-12-12T08:37:11.546Z"
   },
   {
    "duration": 0,
    "start_time": "2024-12-12T08:37:11.547Z"
   },
   {
    "duration": 0,
    "start_time": "2024-12-12T08:37:11.548Z"
   },
   {
    "duration": 0,
    "start_time": "2024-12-12T08:37:11.549Z"
   },
   {
    "duration": 0,
    "start_time": "2024-12-12T08:37:11.550Z"
   },
   {
    "duration": 0,
    "start_time": "2024-12-12T08:37:11.551Z"
   },
   {
    "duration": 0,
    "start_time": "2024-12-12T08:37:11.552Z"
   },
   {
    "duration": 0,
    "start_time": "2024-12-12T08:37:11.553Z"
   },
   {
    "duration": 0,
    "start_time": "2024-12-12T08:37:11.554Z"
   },
   {
    "duration": 0,
    "start_time": "2024-12-12T08:37:11.555Z"
   },
   {
    "duration": 0,
    "start_time": "2024-12-12T08:37:11.556Z"
   },
   {
    "duration": 0,
    "start_time": "2024-12-12T08:37:11.558Z"
   },
   {
    "duration": 0,
    "start_time": "2024-12-12T08:37:11.558Z"
   },
   {
    "duration": 0,
    "start_time": "2024-12-12T08:37:11.559Z"
   },
   {
    "duration": 0,
    "start_time": "2024-12-12T08:37:11.560Z"
   },
   {
    "duration": 0,
    "start_time": "2024-12-12T08:37:11.562Z"
   },
   {
    "duration": 0,
    "start_time": "2024-12-12T08:37:11.563Z"
   },
   {
    "duration": 0,
    "start_time": "2024-12-12T08:37:11.564Z"
   },
   {
    "duration": 0,
    "start_time": "2024-12-12T08:37:11.565Z"
   },
   {
    "duration": 0,
    "start_time": "2024-12-12T08:37:11.630Z"
   },
   {
    "duration": 0,
    "start_time": "2024-12-12T08:37:11.631Z"
   },
   {
    "duration": 0,
    "start_time": "2024-12-12T08:37:11.632Z"
   },
   {
    "duration": 0,
    "start_time": "2024-12-12T08:37:11.633Z"
   },
   {
    "duration": 0,
    "start_time": "2024-12-12T08:37:11.634Z"
   },
   {
    "duration": 0,
    "start_time": "2024-12-12T08:37:11.636Z"
   },
   {
    "duration": 0,
    "start_time": "2024-12-12T08:37:11.636Z"
   },
   {
    "duration": 4,
    "start_time": "2024-12-12T08:38:22.856Z"
   },
   {
    "duration": 1851,
    "start_time": "2024-12-12T08:40:38.525Z"
   },
   {
    "duration": 3,
    "start_time": "2024-12-12T08:40:40.378Z"
   },
   {
    "duration": 59,
    "start_time": "2024-12-12T08:40:40.382Z"
   },
   {
    "duration": 12,
    "start_time": "2024-12-12T08:40:40.444Z"
   },
   {
    "duration": 30,
    "start_time": "2024-12-12T08:40:40.458Z"
   },
   {
    "duration": 11,
    "start_time": "2024-12-12T08:40:40.490Z"
   },
   {
    "duration": 12,
    "start_time": "2024-12-12T08:40:40.503Z"
   },
   {
    "duration": 28,
    "start_time": "2024-12-12T08:40:40.517Z"
   },
   {
    "duration": 26,
    "start_time": "2024-12-12T08:40:40.547Z"
   },
   {
    "duration": 405,
    "start_time": "2024-12-12T08:40:40.577Z"
   },
   {
    "duration": 10,
    "start_time": "2024-12-12T08:40:40.984Z"
   },
   {
    "duration": 692,
    "start_time": "2024-12-12T08:40:40.995Z"
   },
   {
    "duration": 9,
    "start_time": "2024-12-12T08:40:41.689Z"
   },
   {
    "duration": 870,
    "start_time": "2024-12-12T08:40:41.700Z"
   },
   {
    "duration": 234,
    "start_time": "2024-12-12T08:40:42.572Z"
   },
   {
    "duration": 4,
    "start_time": "2024-12-12T08:40:42.808Z"
   },
   {
    "duration": 21,
    "start_time": "2024-12-12T08:40:42.830Z"
   },
   {
    "duration": 65,
    "start_time": "2024-12-12T08:40:42.853Z"
   },
   {
    "duration": 261,
    "start_time": "2024-12-12T08:40:42.920Z"
   },
   {
    "duration": 7,
    "start_time": "2024-12-12T08:40:43.183Z"
   },
   {
    "duration": 15,
    "start_time": "2024-12-12T08:40:43.191Z"
   },
   {
    "duration": 33,
    "start_time": "2024-12-12T08:40:43.207Z"
   },
   {
    "duration": 29,
    "start_time": "2024-12-12T08:40:43.242Z"
   },
   {
    "duration": 27,
    "start_time": "2024-12-12T08:40:43.273Z"
   },
   {
    "duration": 7,
    "start_time": "2024-12-12T08:40:43.302Z"
   },
   {
    "duration": 6,
    "start_time": "2024-12-12T08:40:43.310Z"
   },
   {
    "duration": 22,
    "start_time": "2024-12-12T08:40:43.317Z"
   },
   {
    "duration": 28,
    "start_time": "2024-12-12T08:40:43.345Z"
   },
   {
    "duration": 54,
    "start_time": "2024-12-12T08:40:43.375Z"
   },
   {
    "duration": 47,
    "start_time": "2024-12-12T08:40:43.431Z"
   },
   {
    "duration": 173,
    "start_time": "2024-12-12T08:40:43.480Z"
   },
   {
    "duration": 0,
    "start_time": "2024-12-12T08:40:43.655Z"
   },
   {
    "duration": 0,
    "start_time": "2024-12-12T08:40:43.657Z"
   },
   {
    "duration": 0,
    "start_time": "2024-12-12T08:40:43.658Z"
   },
   {
    "duration": 0,
    "start_time": "2024-12-12T08:40:43.658Z"
   },
   {
    "duration": 0,
    "start_time": "2024-12-12T08:40:43.659Z"
   },
   {
    "duration": 0,
    "start_time": "2024-12-12T08:40:43.660Z"
   },
   {
    "duration": 0,
    "start_time": "2024-12-12T08:40:43.662Z"
   },
   {
    "duration": 0,
    "start_time": "2024-12-12T08:40:43.662Z"
   },
   {
    "duration": 0,
    "start_time": "2024-12-12T08:40:43.663Z"
   },
   {
    "duration": 1,
    "start_time": "2024-12-12T08:40:43.664Z"
   },
   {
    "duration": 0,
    "start_time": "2024-12-12T08:40:43.666Z"
   },
   {
    "duration": 0,
    "start_time": "2024-12-12T08:40:43.667Z"
   },
   {
    "duration": 0,
    "start_time": "2024-12-12T08:40:43.668Z"
   },
   {
    "duration": 0,
    "start_time": "2024-12-12T08:40:43.671Z"
   },
   {
    "duration": 0,
    "start_time": "2024-12-12T08:40:43.672Z"
   },
   {
    "duration": 0,
    "start_time": "2024-12-12T08:40:43.674Z"
   },
   {
    "duration": 0,
    "start_time": "2024-12-12T08:40:43.675Z"
   },
   {
    "duration": 0,
    "start_time": "2024-12-12T08:40:43.677Z"
   },
   {
    "duration": 0,
    "start_time": "2024-12-12T08:40:43.679Z"
   },
   {
    "duration": 0,
    "start_time": "2024-12-12T08:40:43.680Z"
   },
   {
    "duration": 0,
    "start_time": "2024-12-12T08:40:43.682Z"
   },
   {
    "duration": 0,
    "start_time": "2024-12-12T08:40:43.684Z"
   },
   {
    "duration": 0,
    "start_time": "2024-12-12T08:40:43.730Z"
   },
   {
    "duration": 0,
    "start_time": "2024-12-12T08:40:43.731Z"
   },
   {
    "duration": 0,
    "start_time": "2024-12-12T08:40:43.732Z"
   },
   {
    "duration": 0,
    "start_time": "2024-12-12T08:40:43.733Z"
   },
   {
    "duration": 0,
    "start_time": "2024-12-12T08:40:43.734Z"
   },
   {
    "duration": 0,
    "start_time": "2024-12-12T08:40:43.736Z"
   },
   {
    "duration": 0,
    "start_time": "2024-12-12T08:40:43.737Z"
   },
   {
    "duration": 0,
    "start_time": "2024-12-12T08:40:43.738Z"
   },
   {
    "duration": 0,
    "start_time": "2024-12-12T08:40:43.739Z"
   },
   {
    "duration": 0,
    "start_time": "2024-12-12T08:40:43.740Z"
   },
   {
    "duration": 0,
    "start_time": "2024-12-12T08:40:43.741Z"
   },
   {
    "duration": 0,
    "start_time": "2024-12-12T08:40:43.742Z"
   },
   {
    "duration": 0,
    "start_time": "2024-12-12T08:40:43.743Z"
   },
   {
    "duration": 0,
    "start_time": "2024-12-12T08:40:43.744Z"
   },
   {
    "duration": 0,
    "start_time": "2024-12-12T08:40:43.745Z"
   },
   {
    "duration": 0,
    "start_time": "2024-12-12T08:40:43.746Z"
   },
   {
    "duration": 0,
    "start_time": "2024-12-12T08:40:43.747Z"
   },
   {
    "duration": 0,
    "start_time": "2024-12-12T08:40:43.748Z"
   },
   {
    "duration": 0,
    "start_time": "2024-12-12T08:40:43.750Z"
   },
   {
    "duration": 0,
    "start_time": "2024-12-12T08:40:43.751Z"
   },
   {
    "duration": 0,
    "start_time": "2024-12-12T08:40:43.752Z"
   },
   {
    "duration": 0,
    "start_time": "2024-12-12T08:40:43.753Z"
   },
   {
    "duration": 0,
    "start_time": "2024-12-12T08:40:43.754Z"
   },
   {
    "duration": 0,
    "start_time": "2024-12-12T08:40:43.755Z"
   },
   {
    "duration": 0,
    "start_time": "2024-12-12T08:40:43.756Z"
   },
   {
    "duration": 0,
    "start_time": "2024-12-12T08:40:43.757Z"
   },
   {
    "duration": 0,
    "start_time": "2024-12-12T08:40:43.758Z"
   },
   {
    "duration": 0,
    "start_time": "2024-12-12T08:40:43.759Z"
   },
   {
    "duration": 0,
    "start_time": "2024-12-12T08:40:43.760Z"
   },
   {
    "duration": 0,
    "start_time": "2024-12-12T08:40:43.761Z"
   },
   {
    "duration": 0,
    "start_time": "2024-12-12T08:40:43.762Z"
   },
   {
    "duration": 0,
    "start_time": "2024-12-12T08:40:43.763Z"
   },
   {
    "duration": 5,
    "start_time": "2024-12-12T08:41:20.800Z"
   },
   {
    "duration": 3,
    "start_time": "2024-12-12T08:41:21.517Z"
   },
   {
    "duration": 4,
    "start_time": "2024-12-12T08:41:22.251Z"
   },
   {
    "duration": 19,
    "start_time": "2024-12-12T08:41:22.962Z"
   },
   {
    "duration": 5,
    "start_time": "2024-12-12T08:41:23.725Z"
   },
   {
    "duration": 32,
    "start_time": "2024-12-12T08:41:24.691Z"
   },
   {
    "duration": 17,
    "start_time": "2024-12-12T08:41:25.613Z"
   },
   {
    "duration": 8,
    "start_time": "2024-12-12T08:41:26.845Z"
   },
   {
    "duration": 4,
    "start_time": "2024-12-12T08:41:27.968Z"
   },
   {
    "duration": 4,
    "start_time": "2024-12-12T08:41:29.299Z"
   },
   {
    "duration": 6,
    "start_time": "2024-12-12T08:41:43.431Z"
   },
   {
    "duration": 3,
    "start_time": "2024-12-12T08:41:43.718Z"
   },
   {
    "duration": 3,
    "start_time": "2024-12-12T08:41:43.943Z"
   },
   {
    "duration": 19,
    "start_time": "2024-12-12T08:41:44.147Z"
   },
   {
    "duration": 6,
    "start_time": "2024-12-12T08:41:44.352Z"
   },
   {
    "duration": 20,
    "start_time": "2024-12-12T08:41:44.557Z"
   },
   {
    "duration": 18,
    "start_time": "2024-12-12T08:41:44.762Z"
   },
   {
    "duration": 10,
    "start_time": "2024-12-12T08:41:45.069Z"
   },
   {
    "duration": 4,
    "start_time": "2024-12-12T08:41:45.479Z"
   },
   {
    "duration": 4,
    "start_time": "2024-12-12T08:41:46.400Z"
   },
   {
    "duration": 1845,
    "start_time": "2024-12-12T08:41:57.674Z"
   },
   {
    "duration": 2,
    "start_time": "2024-12-12T08:41:59.521Z"
   },
   {
    "duration": 55,
    "start_time": "2024-12-12T08:41:59.529Z"
   },
   {
    "duration": 10,
    "start_time": "2024-12-12T08:41:59.586Z"
   },
   {
    "duration": 38,
    "start_time": "2024-12-12T08:41:59.597Z"
   },
   {
    "duration": 7,
    "start_time": "2024-12-12T08:41:59.636Z"
   },
   {
    "duration": 15,
    "start_time": "2024-12-12T08:41:59.644Z"
   },
   {
    "duration": 5,
    "start_time": "2024-12-12T08:41:59.660Z"
   },
   {
    "duration": 4,
    "start_time": "2024-12-12T08:41:59.666Z"
   },
   {
    "duration": 394,
    "start_time": "2024-12-12T08:41:59.672Z"
   },
   {
    "duration": 9,
    "start_time": "2024-12-12T08:42:00.068Z"
   },
   {
    "duration": 695,
    "start_time": "2024-12-12T08:42:00.079Z"
   },
   {
    "duration": 8,
    "start_time": "2024-12-12T08:42:00.776Z"
   },
   {
    "duration": 862,
    "start_time": "2024-12-12T08:42:00.785Z"
   },
   {
    "duration": 242,
    "start_time": "2024-12-12T08:42:01.649Z"
   },
   {
    "duration": 4,
    "start_time": "2024-12-12T08:42:01.893Z"
   },
   {
    "duration": 53,
    "start_time": "2024-12-12T08:42:01.899Z"
   },
   {
    "duration": 97,
    "start_time": "2024-12-12T08:42:01.953Z"
   },
   {
    "duration": 303,
    "start_time": "2024-12-12T08:42:02.052Z"
   },
   {
    "duration": 6,
    "start_time": "2024-12-12T08:42:02.357Z"
   },
   {
    "duration": 28,
    "start_time": "2024-12-12T08:42:02.364Z"
   },
   {
    "duration": 26,
    "start_time": "2024-12-12T08:42:02.394Z"
   },
   {
    "duration": 32,
    "start_time": "2024-12-12T08:42:02.422Z"
   },
   {
    "duration": 21,
    "start_time": "2024-12-12T08:42:02.456Z"
   },
   {
    "duration": 14,
    "start_time": "2024-12-12T08:42:02.479Z"
   },
   {
    "duration": 9,
    "start_time": "2024-12-12T08:42:02.495Z"
   },
   {
    "duration": 37,
    "start_time": "2024-12-12T08:42:02.505Z"
   },
   {
    "duration": 34,
    "start_time": "2024-12-12T08:42:02.546Z"
   },
   {
    "duration": 25,
    "start_time": "2024-12-12T08:42:02.582Z"
   },
   {
    "duration": 25,
    "start_time": "2024-12-12T08:42:02.609Z"
   },
   {
    "duration": 29,
    "start_time": "2024-12-12T08:42:02.636Z"
   },
   {
    "duration": 24,
    "start_time": "2024-12-12T08:42:02.666Z"
   },
   {
    "duration": 10,
    "start_time": "2024-12-12T08:42:02.691Z"
   },
   {
    "duration": 175,
    "start_time": "2024-12-12T08:42:02.703Z"
   },
   {
    "duration": 0,
    "start_time": "2024-12-12T08:42:02.881Z"
   },
   {
    "duration": 0,
    "start_time": "2024-12-12T08:42:02.882Z"
   },
   {
    "duration": 0,
    "start_time": "2024-12-12T08:42:02.884Z"
   },
   {
    "duration": 0,
    "start_time": "2024-12-12T08:42:02.885Z"
   },
   {
    "duration": 0,
    "start_time": "2024-12-12T08:42:02.887Z"
   },
   {
    "duration": 0,
    "start_time": "2024-12-12T08:42:02.888Z"
   },
   {
    "duration": 0,
    "start_time": "2024-12-12T08:42:02.890Z"
   },
   {
    "duration": 0,
    "start_time": "2024-12-12T08:42:02.891Z"
   },
   {
    "duration": 0,
    "start_time": "2024-12-12T08:42:02.893Z"
   },
   {
    "duration": 0,
    "start_time": "2024-12-12T08:42:02.894Z"
   },
   {
    "duration": 0,
    "start_time": "2024-12-12T08:42:02.896Z"
   },
   {
    "duration": 0,
    "start_time": "2024-12-12T08:42:02.898Z"
   },
   {
    "duration": 0,
    "start_time": "2024-12-12T08:42:02.899Z"
   },
   {
    "duration": 0,
    "start_time": "2024-12-12T08:42:02.930Z"
   },
   {
    "duration": 0,
    "start_time": "2024-12-12T08:42:02.932Z"
   },
   {
    "duration": 0,
    "start_time": "2024-12-12T08:42:02.934Z"
   },
   {
    "duration": 0,
    "start_time": "2024-12-12T08:42:02.935Z"
   },
   {
    "duration": 0,
    "start_time": "2024-12-12T08:42:02.937Z"
   },
   {
    "duration": 0,
    "start_time": "2024-12-12T08:42:02.938Z"
   },
   {
    "duration": 0,
    "start_time": "2024-12-12T08:42:02.940Z"
   },
   {
    "duration": 0,
    "start_time": "2024-12-12T08:42:02.941Z"
   },
   {
    "duration": 0,
    "start_time": "2024-12-12T08:42:02.943Z"
   },
   {
    "duration": 0,
    "start_time": "2024-12-12T08:42:02.944Z"
   },
   {
    "duration": 0,
    "start_time": "2024-12-12T08:42:02.946Z"
   },
   {
    "duration": 0,
    "start_time": "2024-12-12T08:42:02.947Z"
   },
   {
    "duration": 0,
    "start_time": "2024-12-12T08:42:02.949Z"
   },
   {
    "duration": 0,
    "start_time": "2024-12-12T08:42:02.950Z"
   },
   {
    "duration": 0,
    "start_time": "2024-12-12T08:42:02.952Z"
   },
   {
    "duration": 0,
    "start_time": "2024-12-12T08:42:02.953Z"
   },
   {
    "duration": 0,
    "start_time": "2024-12-12T08:42:02.954Z"
   },
   {
    "duration": 0,
    "start_time": "2024-12-12T08:42:02.955Z"
   },
   {
    "duration": 0,
    "start_time": "2024-12-12T08:42:02.956Z"
   },
   {
    "duration": 0,
    "start_time": "2024-12-12T08:42:02.957Z"
   },
   {
    "duration": 0,
    "start_time": "2024-12-12T08:42:02.958Z"
   },
   {
    "duration": 0,
    "start_time": "2024-12-12T08:42:02.960Z"
   },
   {
    "duration": 0,
    "start_time": "2024-12-12T08:42:02.961Z"
   },
   {
    "duration": 0,
    "start_time": "2024-12-12T08:42:02.962Z"
   },
   {
    "duration": 0,
    "start_time": "2024-12-12T08:42:02.963Z"
   },
   {
    "duration": 0,
    "start_time": "2024-12-12T08:42:02.964Z"
   },
   {
    "duration": 0,
    "start_time": "2024-12-12T08:42:02.966Z"
   },
   {
    "duration": 0,
    "start_time": "2024-12-12T08:42:03.030Z"
   },
   {
    "duration": 0,
    "start_time": "2024-12-12T08:42:03.032Z"
   },
   {
    "duration": 0,
    "start_time": "2024-12-12T08:42:03.033Z"
   },
   {
    "duration": 0,
    "start_time": "2024-12-12T08:42:03.034Z"
   },
   {
    "duration": 0,
    "start_time": "2024-12-12T08:42:03.036Z"
   },
   {
    "duration": 0,
    "start_time": "2024-12-12T08:42:03.037Z"
   },
   {
    "duration": 0,
    "start_time": "2024-12-12T08:42:03.038Z"
   },
   {
    "duration": 0,
    "start_time": "2024-12-12T08:42:03.039Z"
   },
   {
    "duration": 0,
    "start_time": "2024-12-12T08:42:03.040Z"
   },
   {
    "duration": 0,
    "start_time": "2024-12-12T08:42:03.041Z"
   },
   {
    "duration": 0,
    "start_time": "2024-12-12T08:42:03.042Z"
   },
   {
    "duration": 1831,
    "start_time": "2024-12-12T08:43:31.157Z"
   },
   {
    "duration": 3,
    "start_time": "2024-12-12T08:43:32.990Z"
   },
   {
    "duration": 73,
    "start_time": "2024-12-12T08:43:32.994Z"
   },
   {
    "duration": 12,
    "start_time": "2024-12-12T08:43:33.069Z"
   },
   {
    "duration": 26,
    "start_time": "2024-12-12T08:43:33.083Z"
   },
   {
    "duration": 24,
    "start_time": "2024-12-12T08:43:33.110Z"
   },
   {
    "duration": 28,
    "start_time": "2024-12-12T08:43:33.135Z"
   },
   {
    "duration": 24,
    "start_time": "2024-12-12T08:43:33.165Z"
   },
   {
    "duration": 11,
    "start_time": "2024-12-12T08:43:33.190Z"
   },
   {
    "duration": 385,
    "start_time": "2024-12-12T08:43:33.203Z"
   },
   {
    "duration": 9,
    "start_time": "2024-12-12T08:43:33.590Z"
   },
   {
    "duration": 693,
    "start_time": "2024-12-12T08:43:33.601Z"
   },
   {
    "duration": 8,
    "start_time": "2024-12-12T08:43:34.296Z"
   },
   {
    "duration": 876,
    "start_time": "2024-12-12T08:43:34.308Z"
   },
   {
    "duration": 239,
    "start_time": "2024-12-12T08:43:35.187Z"
   },
   {
    "duration": 5,
    "start_time": "2024-12-12T08:43:35.430Z"
   },
   {
    "duration": 50,
    "start_time": "2024-12-12T08:43:35.437Z"
   },
   {
    "duration": 29,
    "start_time": "2024-12-12T08:43:35.489Z"
   },
   {
    "duration": 264,
    "start_time": "2024-12-12T08:43:35.520Z"
   },
   {
    "duration": 5,
    "start_time": "2024-12-12T08:43:35.786Z"
   },
   {
    "duration": 35,
    "start_time": "2024-12-12T08:43:35.793Z"
   },
   {
    "duration": 64,
    "start_time": "2024-12-12T08:43:35.829Z"
   },
   {
    "duration": 32,
    "start_time": "2024-12-12T08:43:35.895Z"
   },
   {
    "duration": 69,
    "start_time": "2024-12-12T08:43:35.929Z"
   },
   {
    "duration": 36,
    "start_time": "2024-12-12T08:43:36.000Z"
   },
   {
    "duration": 47,
    "start_time": "2024-12-12T08:43:36.038Z"
   },
   {
    "duration": 29,
    "start_time": "2024-12-12T08:43:36.087Z"
   },
   {
    "duration": 44,
    "start_time": "2024-12-12T08:43:36.118Z"
   },
   {
    "duration": 29,
    "start_time": "2024-12-12T08:43:36.163Z"
   },
   {
    "duration": 32,
    "start_time": "2024-12-12T08:43:36.194Z"
   },
   {
    "duration": 167,
    "start_time": "2024-12-12T08:43:36.228Z"
   },
   {
    "duration": 0,
    "start_time": "2024-12-12T08:43:36.398Z"
   },
   {
    "duration": 0,
    "start_time": "2024-12-12T08:43:36.400Z"
   },
   {
    "duration": 0,
    "start_time": "2024-12-12T08:43:36.402Z"
   },
   {
    "duration": 0,
    "start_time": "2024-12-12T08:43:36.404Z"
   },
   {
    "duration": 0,
    "start_time": "2024-12-12T08:43:36.405Z"
   },
   {
    "duration": 0,
    "start_time": "2024-12-12T08:43:36.406Z"
   },
   {
    "duration": 0,
    "start_time": "2024-12-12T08:43:36.408Z"
   },
   {
    "duration": 0,
    "start_time": "2024-12-12T08:43:36.409Z"
   },
   {
    "duration": 0,
    "start_time": "2024-12-12T08:43:36.431Z"
   },
   {
    "duration": 0,
    "start_time": "2024-12-12T08:43:36.433Z"
   },
   {
    "duration": 0,
    "start_time": "2024-12-12T08:43:36.434Z"
   },
   {
    "duration": 0,
    "start_time": "2024-12-12T08:43:36.435Z"
   },
   {
    "duration": 0,
    "start_time": "2024-12-12T08:43:36.437Z"
   },
   {
    "duration": 0,
    "start_time": "2024-12-12T08:43:36.439Z"
   },
   {
    "duration": 0,
    "start_time": "2024-12-12T08:43:36.440Z"
   },
   {
    "duration": 0,
    "start_time": "2024-12-12T08:43:36.441Z"
   },
   {
    "duration": 0,
    "start_time": "2024-12-12T08:43:36.443Z"
   },
   {
    "duration": 0,
    "start_time": "2024-12-12T08:43:36.445Z"
   },
   {
    "duration": 0,
    "start_time": "2024-12-12T08:43:36.446Z"
   },
   {
    "duration": 0,
    "start_time": "2024-12-12T08:43:36.448Z"
   },
   {
    "duration": 0,
    "start_time": "2024-12-12T08:43:36.449Z"
   },
   {
    "duration": 0,
    "start_time": "2024-12-12T08:43:36.451Z"
   },
   {
    "duration": 0,
    "start_time": "2024-12-12T08:43:36.451Z"
   },
   {
    "duration": 0,
    "start_time": "2024-12-12T08:43:36.452Z"
   },
   {
    "duration": 0,
    "start_time": "2024-12-12T08:43:36.453Z"
   },
   {
    "duration": 0,
    "start_time": "2024-12-12T08:43:36.454Z"
   },
   {
    "duration": 0,
    "start_time": "2024-12-12T08:43:36.455Z"
   },
   {
    "duration": 0,
    "start_time": "2024-12-12T08:43:36.456Z"
   },
   {
    "duration": 0,
    "start_time": "2024-12-12T08:43:36.457Z"
   },
   {
    "duration": 0,
    "start_time": "2024-12-12T08:43:36.459Z"
   },
   {
    "duration": 0,
    "start_time": "2024-12-12T08:43:36.460Z"
   },
   {
    "duration": 0,
    "start_time": "2024-12-12T08:43:36.461Z"
   },
   {
    "duration": 0,
    "start_time": "2024-12-12T08:43:36.462Z"
   },
   {
    "duration": 0,
    "start_time": "2024-12-12T08:43:36.463Z"
   },
   {
    "duration": 0,
    "start_time": "2024-12-12T08:43:36.464Z"
   },
   {
    "duration": 0,
    "start_time": "2024-12-12T08:43:36.465Z"
   },
   {
    "duration": 0,
    "start_time": "2024-12-12T08:43:36.466Z"
   },
   {
    "duration": 0,
    "start_time": "2024-12-12T08:43:36.467Z"
   },
   {
    "duration": 0,
    "start_time": "2024-12-12T08:43:36.468Z"
   },
   {
    "duration": 0,
    "start_time": "2024-12-12T08:43:36.469Z"
   },
   {
    "duration": 0,
    "start_time": "2024-12-12T08:43:36.531Z"
   },
   {
    "duration": 0,
    "start_time": "2024-12-12T08:43:36.532Z"
   },
   {
    "duration": 0,
    "start_time": "2024-12-12T08:43:36.533Z"
   },
   {
    "duration": 0,
    "start_time": "2024-12-12T08:43:36.534Z"
   },
   {
    "duration": 0,
    "start_time": "2024-12-12T08:43:36.536Z"
   },
   {
    "duration": 0,
    "start_time": "2024-12-12T08:43:36.537Z"
   },
   {
    "duration": 0,
    "start_time": "2024-12-12T08:43:36.538Z"
   },
   {
    "duration": 0,
    "start_time": "2024-12-12T08:43:36.539Z"
   },
   {
    "duration": 0,
    "start_time": "2024-12-12T08:43:36.540Z"
   },
   {
    "duration": 0,
    "start_time": "2024-12-12T08:43:36.541Z"
   },
   {
    "duration": 0,
    "start_time": "2024-12-12T08:43:36.542Z"
   },
   {
    "duration": 0,
    "start_time": "2024-12-12T08:43:36.543Z"
   },
   {
    "duration": 0,
    "start_time": "2024-12-12T08:43:36.545Z"
   },
   {
    "duration": 0,
    "start_time": "2024-12-12T08:43:36.546Z"
   },
   {
    "duration": 3,
    "start_time": "2024-12-12T08:48:54.437Z"
   },
   {
    "duration": 5,
    "start_time": "2024-12-12T08:49:08.382Z"
   },
   {
    "duration": 24,
    "start_time": "2024-12-12T08:49:08.772Z"
   },
   {
    "duration": 5,
    "start_time": "2024-12-12T08:49:09.591Z"
   },
   {
    "duration": 20,
    "start_time": "2024-12-12T08:49:10.615Z"
   },
   {
    "duration": 26,
    "start_time": "2024-12-12T08:49:12.844Z"
   },
   {
    "duration": 25,
    "start_time": "2024-12-12T08:49:14.813Z"
   },
   {
    "duration": 25,
    "start_time": "2024-12-12T08:49:21.092Z"
   },
   {
    "duration": 24,
    "start_time": "2024-12-12T08:49:26.283Z"
   },
   {
    "duration": 23,
    "start_time": "2024-12-12T08:49:26.999Z"
   },
   {
    "duration": 21,
    "start_time": "2024-12-12T08:56:07.217Z"
   },
   {
    "duration": 1917,
    "start_time": "2024-12-12T09:11:38.649Z"
   },
   {
    "duration": 3,
    "start_time": "2024-12-12T09:11:40.568Z"
   },
   {
    "duration": 56,
    "start_time": "2024-12-12T09:11:40.572Z"
   },
   {
    "duration": 10,
    "start_time": "2024-12-12T09:11:40.630Z"
   },
   {
    "duration": 22,
    "start_time": "2024-12-12T09:11:40.642Z"
   },
   {
    "duration": 4,
    "start_time": "2024-12-12T09:11:40.666Z"
   },
   {
    "duration": 6,
    "start_time": "2024-12-12T09:11:40.672Z"
   },
   {
    "duration": 6,
    "start_time": "2024-12-12T09:11:40.679Z"
   },
   {
    "duration": 4,
    "start_time": "2024-12-12T09:11:40.686Z"
   },
   {
    "duration": 417,
    "start_time": "2024-12-12T09:11:40.693Z"
   },
   {
    "duration": 23,
    "start_time": "2024-12-12T09:11:41.112Z"
   },
   {
    "duration": 641,
    "start_time": "2024-12-12T09:11:41.137Z"
   },
   {
    "duration": 9,
    "start_time": "2024-12-12T09:11:41.781Z"
   },
   {
    "duration": 855,
    "start_time": "2024-12-12T09:11:41.792Z"
   },
   {
    "duration": 239,
    "start_time": "2024-12-12T09:11:42.649Z"
   },
   {
    "duration": 4,
    "start_time": "2024-12-12T09:11:42.890Z"
   },
   {
    "duration": 34,
    "start_time": "2024-12-12T09:11:42.896Z"
   },
   {
    "duration": 30,
    "start_time": "2024-12-12T09:11:42.931Z"
   },
   {
    "duration": 233,
    "start_time": "2024-12-12T09:11:42.964Z"
   },
   {
    "duration": 6,
    "start_time": "2024-12-12T09:11:43.199Z"
   },
   {
    "duration": 37,
    "start_time": "2024-12-12T09:11:43.207Z"
   },
   {
    "duration": 29,
    "start_time": "2024-12-12T09:11:43.245Z"
   },
   {
    "duration": 25,
    "start_time": "2024-12-12T09:11:43.276Z"
   },
   {
    "duration": 11,
    "start_time": "2024-12-12T09:11:43.303Z"
   },
   {
    "duration": 147,
    "start_time": "2024-12-12T09:11:43.316Z"
   },
   {
    "duration": 0,
    "start_time": "2024-12-12T09:11:43.467Z"
   },
   {
    "duration": 0,
    "start_time": "2024-12-12T09:11:43.468Z"
   },
   {
    "duration": 0,
    "start_time": "2024-12-12T09:11:43.470Z"
   },
   {
    "duration": 0,
    "start_time": "2024-12-12T09:11:43.471Z"
   },
   {
    "duration": 0,
    "start_time": "2024-12-12T09:11:43.473Z"
   },
   {
    "duration": 0,
    "start_time": "2024-12-12T09:11:43.474Z"
   },
   {
    "duration": 0,
    "start_time": "2024-12-12T09:11:43.476Z"
   },
   {
    "duration": 0,
    "start_time": "2024-12-12T09:11:43.477Z"
   },
   {
    "duration": 0,
    "start_time": "2024-12-12T09:11:43.479Z"
   },
   {
    "duration": 0,
    "start_time": "2024-12-12T09:11:43.480Z"
   },
   {
    "duration": 0,
    "start_time": "2024-12-12T09:11:43.482Z"
   },
   {
    "duration": 0,
    "start_time": "2024-12-12T09:11:43.483Z"
   },
   {
    "duration": 0,
    "start_time": "2024-12-12T09:11:43.485Z"
   },
   {
    "duration": 0,
    "start_time": "2024-12-12T09:11:43.487Z"
   },
   {
    "duration": 0,
    "start_time": "2024-12-12T09:11:43.488Z"
   },
   {
    "duration": 0,
    "start_time": "2024-12-12T09:11:43.490Z"
   },
   {
    "duration": 0,
    "start_time": "2024-12-12T09:11:43.491Z"
   },
   {
    "duration": 0,
    "start_time": "2024-12-12T09:11:43.530Z"
   },
   {
    "duration": 0,
    "start_time": "2024-12-12T09:11:43.532Z"
   },
   {
    "duration": 0,
    "start_time": "2024-12-12T09:11:43.533Z"
   },
   {
    "duration": 0,
    "start_time": "2024-12-12T09:11:43.535Z"
   },
   {
    "duration": 0,
    "start_time": "2024-12-12T09:11:43.537Z"
   },
   {
    "duration": 0,
    "start_time": "2024-12-12T09:11:43.538Z"
   },
   {
    "duration": 0,
    "start_time": "2024-12-12T09:11:43.540Z"
   },
   {
    "duration": 0,
    "start_time": "2024-12-12T09:11:43.541Z"
   },
   {
    "duration": 0,
    "start_time": "2024-12-12T09:11:43.542Z"
   },
   {
    "duration": 0,
    "start_time": "2024-12-12T09:11:43.544Z"
   },
   {
    "duration": 0,
    "start_time": "2024-12-12T09:11:43.545Z"
   },
   {
    "duration": 0,
    "start_time": "2024-12-12T09:11:43.547Z"
   },
   {
    "duration": 0,
    "start_time": "2024-12-12T09:11:43.548Z"
   },
   {
    "duration": 0,
    "start_time": "2024-12-12T09:11:43.550Z"
   },
   {
    "duration": 0,
    "start_time": "2024-12-12T09:11:43.551Z"
   },
   {
    "duration": 0,
    "start_time": "2024-12-12T09:11:43.553Z"
   },
   {
    "duration": 0,
    "start_time": "2024-12-12T09:11:43.555Z"
   },
   {
    "duration": 0,
    "start_time": "2024-12-12T09:11:43.556Z"
   },
   {
    "duration": 0,
    "start_time": "2024-12-12T09:11:43.558Z"
   },
   {
    "duration": 0,
    "start_time": "2024-12-12T09:11:43.559Z"
   },
   {
    "duration": 0,
    "start_time": "2024-12-12T09:11:43.559Z"
   },
   {
    "duration": 0,
    "start_time": "2024-12-12T09:11:43.560Z"
   },
   {
    "duration": 0,
    "start_time": "2024-12-12T09:11:43.561Z"
   },
   {
    "duration": 0,
    "start_time": "2024-12-12T09:11:43.562Z"
   },
   {
    "duration": 0,
    "start_time": "2024-12-12T09:11:43.563Z"
   },
   {
    "duration": 0,
    "start_time": "2024-12-12T09:11:43.564Z"
   },
   {
    "duration": 0,
    "start_time": "2024-12-12T09:11:43.565Z"
   },
   {
    "duration": 0,
    "start_time": "2024-12-12T09:11:43.566Z"
   },
   {
    "duration": 0,
    "start_time": "2024-12-12T09:11:43.567Z"
   },
   {
    "duration": 0,
    "start_time": "2024-12-12T09:11:43.630Z"
   },
   {
    "duration": 0,
    "start_time": "2024-12-12T09:11:43.631Z"
   },
   {
    "duration": 0,
    "start_time": "2024-12-12T09:11:43.632Z"
   },
   {
    "duration": 0,
    "start_time": "2024-12-12T09:11:43.633Z"
   },
   {
    "duration": 0,
    "start_time": "2024-12-12T09:11:43.634Z"
   },
   {
    "duration": 0,
    "start_time": "2024-12-12T09:11:43.635Z"
   },
   {
    "duration": 0,
    "start_time": "2024-12-12T09:11:43.636Z"
   },
   {
    "duration": 0,
    "start_time": "2024-12-12T09:11:43.637Z"
   },
   {
    "duration": 0,
    "start_time": "2024-12-12T09:11:43.638Z"
   },
   {
    "duration": 0,
    "start_time": "2024-12-12T09:11:43.639Z"
   },
   {
    "duration": 0,
    "start_time": "2024-12-12T09:11:43.640Z"
   },
   {
    "duration": 0,
    "start_time": "2024-12-12T09:11:43.642Z"
   },
   {
    "duration": 0,
    "start_time": "2024-12-12T09:11:43.643Z"
   },
   {
    "duration": 0,
    "start_time": "2024-12-12T09:11:43.644Z"
   },
   {
    "duration": 0,
    "start_time": "2024-12-12T09:11:43.645Z"
   },
   {
    "duration": 3,
    "start_time": "2024-12-12T09:12:18.265Z"
   },
   {
    "duration": 5,
    "start_time": "2024-12-12T09:12:19.995Z"
   },
   {
    "duration": 19,
    "start_time": "2024-12-12T09:12:20.503Z"
   },
   {
    "duration": 6,
    "start_time": "2024-12-12T09:12:20.913Z"
   },
   {
    "duration": 21,
    "start_time": "2024-12-12T09:12:21.528Z"
   },
   {
    "duration": 31,
    "start_time": "2024-12-12T09:12:23.781Z"
   },
   {
    "duration": 20,
    "start_time": "2024-12-12T09:12:24.396Z"
   },
   {
    "duration": 10,
    "start_time": "2024-12-12T09:12:26.381Z"
   },
   {
    "duration": 3,
    "start_time": "2024-12-12T09:12:28.082Z"
   },
   {
    "duration": 1420,
    "start_time": "2024-12-12T09:12:30.740Z"
   },
   {
    "duration": 0,
    "start_time": "2024-12-12T09:12:32.161Z"
   },
   {
    "duration": 13,
    "start_time": "2024-12-12T09:12:38.629Z"
   },
   {
    "duration": 1873,
    "start_time": "2024-12-12T09:15:31.929Z"
   },
   {
    "duration": 3,
    "start_time": "2024-12-12T09:15:33.805Z"
   },
   {
    "duration": 66,
    "start_time": "2024-12-12T09:15:33.810Z"
   },
   {
    "duration": 11,
    "start_time": "2024-12-12T09:15:33.878Z"
   },
   {
    "duration": 17,
    "start_time": "2024-12-12T09:15:33.891Z"
   },
   {
    "duration": 12,
    "start_time": "2024-12-12T09:15:33.910Z"
   },
   {
    "duration": 22,
    "start_time": "2024-12-12T09:15:33.924Z"
   },
   {
    "duration": 41,
    "start_time": "2024-12-12T09:15:33.948Z"
   },
   {
    "duration": 6,
    "start_time": "2024-12-12T09:15:33.992Z"
   },
   {
    "duration": 423,
    "start_time": "2024-12-12T09:15:34.001Z"
   },
   {
    "duration": 9,
    "start_time": "2024-12-12T09:15:34.430Z"
   },
   {
    "duration": 727,
    "start_time": "2024-12-12T09:15:34.440Z"
   },
   {
    "duration": 8,
    "start_time": "2024-12-12T09:15:35.168Z"
   },
   {
    "duration": 841,
    "start_time": "2024-12-12T09:15:35.177Z"
   },
   {
    "duration": 244,
    "start_time": "2024-12-12T09:15:36.020Z"
   },
   {
    "duration": 4,
    "start_time": "2024-12-12T09:15:36.266Z"
   },
   {
    "duration": 35,
    "start_time": "2024-12-12T09:15:36.271Z"
   },
   {
    "duration": 34,
    "start_time": "2024-12-12T09:15:36.307Z"
   },
   {
    "duration": 240,
    "start_time": "2024-12-12T09:15:36.343Z"
   },
   {
    "duration": 6,
    "start_time": "2024-12-12T09:15:36.584Z"
   },
   {
    "duration": 16,
    "start_time": "2024-12-12T09:15:36.591Z"
   },
   {
    "duration": 56,
    "start_time": "2024-12-12T09:15:36.609Z"
   },
   {
    "duration": 22,
    "start_time": "2024-12-12T09:15:36.667Z"
   },
   {
    "duration": 8,
    "start_time": "2024-12-12T09:15:36.691Z"
   },
   {
    "duration": 37,
    "start_time": "2024-12-12T09:15:36.700Z"
   },
   {
    "duration": 14,
    "start_time": "2024-12-12T09:15:36.738Z"
   },
   {
    "duration": 20,
    "start_time": "2024-12-12T09:15:36.754Z"
   },
   {
    "duration": 6,
    "start_time": "2024-12-12T09:15:36.778Z"
   },
   {
    "duration": 45,
    "start_time": "2024-12-12T09:15:36.785Z"
   },
   {
    "duration": 49,
    "start_time": "2024-12-12T09:15:36.831Z"
   },
   {
    "duration": 18,
    "start_time": "2024-12-12T09:15:36.882Z"
   },
   {
    "duration": 29,
    "start_time": "2024-12-12T09:15:36.902Z"
   },
   {
    "duration": 20,
    "start_time": "2024-12-12T09:15:36.933Z"
   },
   {
    "duration": 20,
    "start_time": "2024-12-12T09:15:36.955Z"
   },
   {
    "duration": 140,
    "start_time": "2024-12-12T09:15:36.977Z"
   },
   {
    "duration": 0,
    "start_time": "2024-12-12T09:15:37.119Z"
   },
   {
    "duration": 0,
    "start_time": "2024-12-12T09:15:37.120Z"
   },
   {
    "duration": 0,
    "start_time": "2024-12-12T09:15:37.130Z"
   },
   {
    "duration": 0,
    "start_time": "2024-12-12T09:15:37.131Z"
   },
   {
    "duration": 0,
    "start_time": "2024-12-12T09:15:37.132Z"
   },
   {
    "duration": 0,
    "start_time": "2024-12-12T09:15:37.133Z"
   },
   {
    "duration": 0,
    "start_time": "2024-12-12T09:15:37.134Z"
   },
   {
    "duration": 0,
    "start_time": "2024-12-12T09:15:37.135Z"
   },
   {
    "duration": 0,
    "start_time": "2024-12-12T09:15:37.137Z"
   },
   {
    "duration": 0,
    "start_time": "2024-12-12T09:15:37.138Z"
   },
   {
    "duration": 0,
    "start_time": "2024-12-12T09:15:37.139Z"
   },
   {
    "duration": 0,
    "start_time": "2024-12-12T09:15:37.140Z"
   },
   {
    "duration": 0,
    "start_time": "2024-12-12T09:15:37.141Z"
   },
   {
    "duration": 0,
    "start_time": "2024-12-12T09:15:37.141Z"
   },
   {
    "duration": 0,
    "start_time": "2024-12-12T09:15:37.142Z"
   },
   {
    "duration": 0,
    "start_time": "2024-12-12T09:15:37.143Z"
   },
   {
    "duration": 0,
    "start_time": "2024-12-12T09:15:37.145Z"
   },
   {
    "duration": 0,
    "start_time": "2024-12-12T09:15:37.146Z"
   },
   {
    "duration": 0,
    "start_time": "2024-12-12T09:15:37.147Z"
   },
   {
    "duration": 0,
    "start_time": "2024-12-12T09:15:37.148Z"
   },
   {
    "duration": 0,
    "start_time": "2024-12-12T09:15:37.149Z"
   },
   {
    "duration": 0,
    "start_time": "2024-12-12T09:15:37.151Z"
   },
   {
    "duration": 0,
    "start_time": "2024-12-12T09:15:37.151Z"
   },
   {
    "duration": 0,
    "start_time": "2024-12-12T09:15:37.153Z"
   },
   {
    "duration": 0,
    "start_time": "2024-12-12T09:15:37.153Z"
   },
   {
    "duration": 0,
    "start_time": "2024-12-12T09:15:37.155Z"
   },
   {
    "duration": 0,
    "start_time": "2024-12-12T09:15:37.156Z"
   },
   {
    "duration": 0,
    "start_time": "2024-12-12T09:15:37.157Z"
   },
   {
    "duration": 0,
    "start_time": "2024-12-12T09:15:37.158Z"
   },
   {
    "duration": 0,
    "start_time": "2024-12-12T09:15:37.159Z"
   },
   {
    "duration": 0,
    "start_time": "2024-12-12T09:15:37.160Z"
   },
   {
    "duration": 0,
    "start_time": "2024-12-12T09:15:37.161Z"
   },
   {
    "duration": 0,
    "start_time": "2024-12-12T09:15:37.163Z"
   },
   {
    "duration": 1,
    "start_time": "2024-12-12T09:15:37.163Z"
   },
   {
    "duration": 0,
    "start_time": "2024-12-12T09:15:37.165Z"
   },
   {
    "duration": 0,
    "start_time": "2024-12-12T09:15:37.165Z"
   },
   {
    "duration": 0,
    "start_time": "2024-12-12T09:15:37.166Z"
   },
   {
    "duration": 0,
    "start_time": "2024-12-12T09:15:37.168Z"
   },
   {
    "duration": 0,
    "start_time": "2024-12-12T09:15:37.169Z"
   },
   {
    "duration": 0,
    "start_time": "2024-12-12T09:15:37.231Z"
   },
   {
    "duration": 0,
    "start_time": "2024-12-12T09:15:37.232Z"
   },
   {
    "duration": 0,
    "start_time": "2024-12-12T09:15:37.233Z"
   },
   {
    "duration": 0,
    "start_time": "2024-12-12T09:15:37.234Z"
   },
   {
    "duration": 0,
    "start_time": "2024-12-12T09:15:37.235Z"
   },
   {
    "duration": 0,
    "start_time": "2024-12-12T09:15:37.236Z"
   },
   {
    "duration": 0,
    "start_time": "2024-12-12T09:15:37.237Z"
   },
   {
    "duration": 0,
    "start_time": "2024-12-12T09:15:37.238Z"
   },
   {
    "duration": 0,
    "start_time": "2024-12-12T09:15:37.239Z"
   },
   {
    "duration": 0,
    "start_time": "2024-12-12T09:15:37.240Z"
   },
   {
    "duration": 0,
    "start_time": "2024-12-12T09:15:37.241Z"
   },
   {
    "duration": 0,
    "start_time": "2024-12-12T09:15:37.242Z"
   },
   {
    "duration": 1819,
    "start_time": "2024-12-12T09:16:45.946Z"
   },
   {
    "duration": 4,
    "start_time": "2024-12-12T09:16:47.767Z"
   },
   {
    "duration": 60,
    "start_time": "2024-12-12T09:16:47.773Z"
   },
   {
    "duration": 11,
    "start_time": "2024-12-12T09:16:47.835Z"
   },
   {
    "duration": 24,
    "start_time": "2024-12-12T09:16:47.847Z"
   },
   {
    "duration": 27,
    "start_time": "2024-12-12T09:16:47.873Z"
   },
   {
    "duration": 13,
    "start_time": "2024-12-12T09:16:47.901Z"
   },
   {
    "duration": 9,
    "start_time": "2024-12-12T09:16:47.916Z"
   },
   {
    "duration": 13,
    "start_time": "2024-12-12T09:16:47.926Z"
   },
   {
    "duration": 396,
    "start_time": "2024-12-12T09:16:47.941Z"
   },
   {
    "duration": 9,
    "start_time": "2024-12-12T09:16:48.339Z"
   },
   {
    "duration": 672,
    "start_time": "2024-12-12T09:16:48.350Z"
   },
   {
    "duration": 8,
    "start_time": "2024-12-12T09:16:49.024Z"
   },
   {
    "duration": 850,
    "start_time": "2024-12-12T09:16:49.033Z"
   },
   {
    "duration": 235,
    "start_time": "2024-12-12T09:16:49.885Z"
   },
   {
    "duration": 4,
    "start_time": "2024-12-12T09:16:50.129Z"
   },
   {
    "duration": 56,
    "start_time": "2024-12-12T09:16:50.134Z"
   },
   {
    "duration": 29,
    "start_time": "2024-12-12T09:16:50.192Z"
   },
   {
    "duration": 255,
    "start_time": "2024-12-12T09:16:50.222Z"
   },
   {
    "duration": 5,
    "start_time": "2024-12-12T09:16:50.479Z"
   },
   {
    "duration": 18,
    "start_time": "2024-12-12T09:16:50.486Z"
   },
   {
    "duration": 26,
    "start_time": "2024-12-12T09:16:50.506Z"
   },
   {
    "duration": 47,
    "start_time": "2024-12-12T09:16:50.534Z"
   },
   {
    "duration": 19,
    "start_time": "2024-12-12T09:16:50.583Z"
   },
   {
    "duration": 69,
    "start_time": "2024-12-12T09:16:50.604Z"
   },
   {
    "duration": 30,
    "start_time": "2024-12-12T09:16:50.675Z"
   },
   {
    "duration": 43,
    "start_time": "2024-12-12T09:16:50.707Z"
   },
   {
    "duration": 20,
    "start_time": "2024-12-12T09:16:50.754Z"
   },
   {
    "duration": 32,
    "start_time": "2024-12-12T09:16:50.776Z"
   },
   {
    "duration": 28,
    "start_time": "2024-12-12T09:16:50.810Z"
   },
   {
    "duration": 19,
    "start_time": "2024-12-12T09:16:50.840Z"
   },
   {
    "duration": 147,
    "start_time": "2024-12-12T09:16:50.860Z"
   },
   {
    "duration": 0,
    "start_time": "2024-12-12T09:16:51.009Z"
   },
   {
    "duration": 0,
    "start_time": "2024-12-12T09:16:51.010Z"
   },
   {
    "duration": 0,
    "start_time": "2024-12-12T09:16:51.011Z"
   },
   {
    "duration": 0,
    "start_time": "2024-12-12T09:16:51.012Z"
   },
   {
    "duration": 0,
    "start_time": "2024-12-12T09:16:51.013Z"
   },
   {
    "duration": 0,
    "start_time": "2024-12-12T09:16:51.015Z"
   },
   {
    "duration": 0,
    "start_time": "2024-12-12T09:16:51.030Z"
   },
   {
    "duration": 0,
    "start_time": "2024-12-12T09:16:51.031Z"
   },
   {
    "duration": 0,
    "start_time": "2024-12-12T09:16:51.032Z"
   },
   {
    "duration": 0,
    "start_time": "2024-12-12T09:16:51.033Z"
   },
   {
    "duration": 0,
    "start_time": "2024-12-12T09:16:51.034Z"
   },
   {
    "duration": 0,
    "start_time": "2024-12-12T09:16:51.035Z"
   },
   {
    "duration": 0,
    "start_time": "2024-12-12T09:16:51.036Z"
   },
   {
    "duration": 0,
    "start_time": "2024-12-12T09:16:51.037Z"
   },
   {
    "duration": 0,
    "start_time": "2024-12-12T09:16:51.038Z"
   },
   {
    "duration": 0,
    "start_time": "2024-12-12T09:16:51.039Z"
   },
   {
    "duration": 0,
    "start_time": "2024-12-12T09:16:51.040Z"
   },
   {
    "duration": 0,
    "start_time": "2024-12-12T09:16:51.041Z"
   },
   {
    "duration": 0,
    "start_time": "2024-12-12T09:16:51.042Z"
   },
   {
    "duration": 1,
    "start_time": "2024-12-12T09:16:51.043Z"
   },
   {
    "duration": 0,
    "start_time": "2024-12-12T09:16:51.044Z"
   },
   {
    "duration": 0,
    "start_time": "2024-12-12T09:16:51.045Z"
   },
   {
    "duration": 0,
    "start_time": "2024-12-12T09:16:51.047Z"
   },
   {
    "duration": 0,
    "start_time": "2024-12-12T09:16:51.047Z"
   },
   {
    "duration": 0,
    "start_time": "2024-12-12T09:16:51.049Z"
   },
   {
    "duration": 0,
    "start_time": "2024-12-12T09:16:51.049Z"
   },
   {
    "duration": 0,
    "start_time": "2024-12-12T09:16:51.050Z"
   },
   {
    "duration": 0,
    "start_time": "2024-12-12T09:16:51.052Z"
   },
   {
    "duration": 0,
    "start_time": "2024-12-12T09:16:51.052Z"
   },
   {
    "duration": 0,
    "start_time": "2024-12-12T09:16:51.054Z"
   },
   {
    "duration": 0,
    "start_time": "2024-12-12T09:16:51.055Z"
   },
   {
    "duration": 0,
    "start_time": "2024-12-12T09:16:51.056Z"
   },
   {
    "duration": 0,
    "start_time": "2024-12-12T09:16:51.057Z"
   },
   {
    "duration": 0,
    "start_time": "2024-12-12T09:16:51.058Z"
   },
   {
    "duration": 0,
    "start_time": "2024-12-12T09:16:51.059Z"
   },
   {
    "duration": 0,
    "start_time": "2024-12-12T09:16:51.060Z"
   },
   {
    "duration": 0,
    "start_time": "2024-12-12T09:16:51.061Z"
   },
   {
    "duration": 0,
    "start_time": "2024-12-12T09:16:51.062Z"
   },
   {
    "duration": 0,
    "start_time": "2024-12-12T09:16:51.063Z"
   },
   {
    "duration": 0,
    "start_time": "2024-12-12T09:16:51.064Z"
   },
   {
    "duration": 0,
    "start_time": "2024-12-12T09:16:51.065Z"
   },
   {
    "duration": 0,
    "start_time": "2024-12-12T09:16:51.065Z"
   },
   {
    "duration": 0,
    "start_time": "2024-12-12T09:16:51.066Z"
   },
   {
    "duration": 0,
    "start_time": "2024-12-12T09:16:51.130Z"
   },
   {
    "duration": 0,
    "start_time": "2024-12-12T09:16:51.131Z"
   },
   {
    "duration": 0,
    "start_time": "2024-12-12T09:16:51.132Z"
   },
   {
    "duration": 0,
    "start_time": "2024-12-12T09:16:51.134Z"
   },
   {
    "duration": 0,
    "start_time": "2024-12-12T09:16:51.134Z"
   },
   {
    "duration": 0,
    "start_time": "2024-12-12T09:16:51.136Z"
   },
   {
    "duration": 0,
    "start_time": "2024-12-12T09:16:51.137Z"
   },
   {
    "duration": 0,
    "start_time": "2024-12-12T09:16:51.138Z"
   },
   {
    "duration": 9,
    "start_time": "2024-12-12T09:17:20.129Z"
   },
   {
    "duration": 24,
    "start_time": "2024-12-12T09:17:20.744Z"
   },
   {
    "duration": 2018,
    "start_time": "2024-12-12T09:35:08.380Z"
   },
   {
    "duration": 2,
    "start_time": "2024-12-12T09:35:10.401Z"
   },
   {
    "duration": 68,
    "start_time": "2024-12-12T09:35:10.405Z"
   },
   {
    "duration": 11,
    "start_time": "2024-12-12T09:35:10.474Z"
   },
   {
    "duration": 17,
    "start_time": "2024-12-12T09:35:10.487Z"
   },
   {
    "duration": 14,
    "start_time": "2024-12-12T09:35:10.506Z"
   },
   {
    "duration": 6,
    "start_time": "2024-12-12T09:35:10.521Z"
   },
   {
    "duration": 21,
    "start_time": "2024-12-12T09:35:10.528Z"
   },
   {
    "duration": 7,
    "start_time": "2024-12-12T09:35:10.550Z"
   },
   {
    "duration": 428,
    "start_time": "2024-12-12T09:35:10.559Z"
   },
   {
    "duration": 9,
    "start_time": "2024-12-12T09:35:10.989Z"
   },
   {
    "duration": 708,
    "start_time": "2024-12-12T09:35:10.999Z"
   },
   {
    "duration": 8,
    "start_time": "2024-12-12T09:35:11.708Z"
   },
   {
    "duration": 885,
    "start_time": "2024-12-12T09:35:11.720Z"
   },
   {
    "duration": 240,
    "start_time": "2024-12-12T09:35:12.606Z"
   },
   {
    "duration": 4,
    "start_time": "2024-12-12T09:35:12.847Z"
   },
   {
    "duration": 31,
    "start_time": "2024-12-12T09:35:12.853Z"
   },
   {
    "duration": 28,
    "start_time": "2024-12-12T09:35:12.886Z"
   },
   {
    "duration": 265,
    "start_time": "2024-12-12T09:35:12.915Z"
   },
   {
    "duration": 5,
    "start_time": "2024-12-12T09:35:13.182Z"
   },
   {
    "duration": 24,
    "start_time": "2024-12-12T09:35:13.189Z"
   },
   {
    "duration": 27,
    "start_time": "2024-12-12T09:35:13.215Z"
   },
   {
    "duration": 14,
    "start_time": "2024-12-12T09:35:13.244Z"
   },
   {
    "duration": 10,
    "start_time": "2024-12-12T09:35:13.259Z"
   },
   {
    "duration": 31,
    "start_time": "2024-12-12T09:35:13.271Z"
   },
   {
    "duration": 20,
    "start_time": "2024-12-12T09:35:13.304Z"
   },
   {
    "duration": 161,
    "start_time": "2024-12-12T09:35:13.326Z"
   },
   {
    "duration": 0,
    "start_time": "2024-12-12T09:35:13.490Z"
   },
   {
    "duration": 0,
    "start_time": "2024-12-12T09:35:13.491Z"
   },
   {
    "duration": 0,
    "start_time": "2024-12-12T09:35:13.493Z"
   },
   {
    "duration": 0,
    "start_time": "2024-12-12T09:35:13.494Z"
   },
   {
    "duration": 0,
    "start_time": "2024-12-12T09:35:13.495Z"
   },
   {
    "duration": 0,
    "start_time": "2024-12-12T09:35:13.496Z"
   },
   {
    "duration": 0,
    "start_time": "2024-12-12T09:35:13.498Z"
   },
   {
    "duration": 0,
    "start_time": "2024-12-12T09:35:13.499Z"
   },
   {
    "duration": 0,
    "start_time": "2024-12-12T09:35:13.500Z"
   },
   {
    "duration": 0,
    "start_time": "2024-12-12T09:35:13.502Z"
   },
   {
    "duration": 0,
    "start_time": "2024-12-12T09:35:13.530Z"
   },
   {
    "duration": 0,
    "start_time": "2024-12-12T09:35:13.531Z"
   },
   {
    "duration": 0,
    "start_time": "2024-12-12T09:35:13.532Z"
   },
   {
    "duration": 0,
    "start_time": "2024-12-12T09:35:13.533Z"
   },
   {
    "duration": 0,
    "start_time": "2024-12-12T09:35:13.534Z"
   },
   {
    "duration": 0,
    "start_time": "2024-12-12T09:35:13.535Z"
   },
   {
    "duration": 0,
    "start_time": "2024-12-12T09:35:13.536Z"
   },
   {
    "duration": 0,
    "start_time": "2024-12-12T09:35:13.537Z"
   },
   {
    "duration": 0,
    "start_time": "2024-12-12T09:35:13.538Z"
   },
   {
    "duration": 0,
    "start_time": "2024-12-12T09:35:13.539Z"
   },
   {
    "duration": 0,
    "start_time": "2024-12-12T09:35:13.540Z"
   },
   {
    "duration": 0,
    "start_time": "2024-12-12T09:35:13.542Z"
   },
   {
    "duration": 0,
    "start_time": "2024-12-12T09:35:13.543Z"
   },
   {
    "duration": 0,
    "start_time": "2024-12-12T09:35:13.544Z"
   },
   {
    "duration": 0,
    "start_time": "2024-12-12T09:35:13.545Z"
   },
   {
    "duration": 0,
    "start_time": "2024-12-12T09:35:13.546Z"
   },
   {
    "duration": 0,
    "start_time": "2024-12-12T09:35:13.547Z"
   },
   {
    "duration": 0,
    "start_time": "2024-12-12T09:35:13.548Z"
   },
   {
    "duration": 0,
    "start_time": "2024-12-12T09:35:13.549Z"
   },
   {
    "duration": 0,
    "start_time": "2024-12-12T09:35:13.550Z"
   },
   {
    "duration": 0,
    "start_time": "2024-12-12T09:35:13.551Z"
   },
   {
    "duration": 0,
    "start_time": "2024-12-12T09:35:13.552Z"
   },
   {
    "duration": 0,
    "start_time": "2024-12-12T09:35:13.553Z"
   },
   {
    "duration": 0,
    "start_time": "2024-12-12T09:35:13.555Z"
   },
   {
    "duration": 0,
    "start_time": "2024-12-12T09:35:13.556Z"
   },
   {
    "duration": 0,
    "start_time": "2024-12-12T09:35:13.557Z"
   },
   {
    "duration": 0,
    "start_time": "2024-12-12T09:35:13.558Z"
   },
   {
    "duration": 0,
    "start_time": "2024-12-12T09:35:13.560Z"
   },
   {
    "duration": 0,
    "start_time": "2024-12-12T09:35:13.561Z"
   },
   {
    "duration": 0,
    "start_time": "2024-12-12T09:35:13.562Z"
   },
   {
    "duration": 0,
    "start_time": "2024-12-12T09:35:13.563Z"
   },
   {
    "duration": 0,
    "start_time": "2024-12-12T09:35:13.564Z"
   },
   {
    "duration": 0,
    "start_time": "2024-12-12T09:35:13.565Z"
   },
   {
    "duration": 0,
    "start_time": "2024-12-12T09:35:13.566Z"
   },
   {
    "duration": 0,
    "start_time": "2024-12-12T09:35:13.631Z"
   },
   {
    "duration": 0,
    "start_time": "2024-12-12T09:35:13.632Z"
   },
   {
    "duration": 0,
    "start_time": "2024-12-12T09:35:13.633Z"
   },
   {
    "duration": 0,
    "start_time": "2024-12-12T09:35:13.634Z"
   },
   {
    "duration": 0,
    "start_time": "2024-12-12T09:35:13.635Z"
   },
   {
    "duration": 0,
    "start_time": "2024-12-12T09:35:13.636Z"
   },
   {
    "duration": 0,
    "start_time": "2024-12-12T09:35:13.637Z"
   },
   {
    "duration": 0,
    "start_time": "2024-12-12T09:35:13.638Z"
   },
   {
    "duration": 0,
    "start_time": "2024-12-12T09:35:13.638Z"
   },
   {
    "duration": 0,
    "start_time": "2024-12-12T09:35:13.639Z"
   },
   {
    "duration": 0,
    "start_time": "2024-12-12T09:35:13.640Z"
   },
   {
    "duration": 0,
    "start_time": "2024-12-12T09:35:13.641Z"
   },
   {
    "duration": 1826,
    "start_time": "2024-12-12T09:36:25.930Z"
   },
   {
    "duration": 3,
    "start_time": "2024-12-12T09:36:27.757Z"
   },
   {
    "duration": 66,
    "start_time": "2024-12-12T09:36:27.762Z"
   },
   {
    "duration": 10,
    "start_time": "2024-12-12T09:36:27.830Z"
   },
   {
    "duration": 10,
    "start_time": "2024-12-12T09:36:27.841Z"
   },
   {
    "duration": 8,
    "start_time": "2024-12-12T09:36:27.852Z"
   },
   {
    "duration": 16,
    "start_time": "2024-12-12T09:36:27.862Z"
   },
   {
    "duration": 23,
    "start_time": "2024-12-12T09:36:27.879Z"
   },
   {
    "duration": 10,
    "start_time": "2024-12-12T09:36:27.903Z"
   },
   {
    "duration": 381,
    "start_time": "2024-12-12T09:36:27.916Z"
   },
   {
    "duration": 9,
    "start_time": "2024-12-12T09:36:28.298Z"
   },
   {
    "duration": 695,
    "start_time": "2024-12-12T09:36:28.308Z"
   },
   {
    "duration": 8,
    "start_time": "2024-12-12T09:36:29.004Z"
   },
   {
    "duration": 827,
    "start_time": "2024-12-12T09:36:29.013Z"
   },
   {
    "duration": 242,
    "start_time": "2024-12-12T09:36:29.841Z"
   },
   {
    "duration": 4,
    "start_time": "2024-12-12T09:36:30.084Z"
   },
   {
    "duration": 68,
    "start_time": "2024-12-12T09:36:30.091Z"
   },
   {
    "duration": 52,
    "start_time": "2024-12-12T09:36:30.162Z"
   },
   {
    "duration": 263,
    "start_time": "2024-12-12T09:36:30.216Z"
   },
   {
    "duration": 7,
    "start_time": "2024-12-12T09:36:30.481Z"
   },
   {
    "duration": 51,
    "start_time": "2024-12-12T09:36:30.490Z"
   },
   {
    "duration": 46,
    "start_time": "2024-12-12T09:36:30.543Z"
   },
   {
    "duration": 15,
    "start_time": "2024-12-12T09:36:30.591Z"
   },
   {
    "duration": 29,
    "start_time": "2024-12-12T09:36:30.609Z"
   },
   {
    "duration": 38,
    "start_time": "2024-12-12T09:36:30.640Z"
   },
   {
    "duration": 8,
    "start_time": "2024-12-12T09:36:30.679Z"
   },
   {
    "duration": 27,
    "start_time": "2024-12-12T09:36:30.689Z"
   },
   {
    "duration": 18,
    "start_time": "2024-12-12T09:36:30.721Z"
   },
   {
    "duration": 34,
    "start_time": "2024-12-12T09:36:30.741Z"
   },
   {
    "duration": 11,
    "start_time": "2024-12-12T09:36:30.777Z"
   },
   {
    "duration": 21,
    "start_time": "2024-12-12T09:36:30.790Z"
   },
   {
    "duration": 157,
    "start_time": "2024-12-12T09:36:30.813Z"
   },
   {
    "duration": 0,
    "start_time": "2024-12-12T09:36:30.972Z"
   },
   {
    "duration": 0,
    "start_time": "2024-12-12T09:36:30.974Z"
   },
   {
    "duration": 0,
    "start_time": "2024-12-12T09:36:30.976Z"
   },
   {
    "duration": 0,
    "start_time": "2024-12-12T09:36:30.978Z"
   },
   {
    "duration": 0,
    "start_time": "2024-12-12T09:36:30.979Z"
   },
   {
    "duration": 0,
    "start_time": "2024-12-12T09:36:30.981Z"
   },
   {
    "duration": 0,
    "start_time": "2024-12-12T09:36:30.982Z"
   },
   {
    "duration": 0,
    "start_time": "2024-12-12T09:36:30.984Z"
   },
   {
    "duration": 0,
    "start_time": "2024-12-12T09:36:30.985Z"
   },
   {
    "duration": 0,
    "start_time": "2024-12-12T09:36:30.986Z"
   },
   {
    "duration": 0,
    "start_time": "2024-12-12T09:36:30.988Z"
   },
   {
    "duration": 0,
    "start_time": "2024-12-12T09:36:30.989Z"
   },
   {
    "duration": 0,
    "start_time": "2024-12-12T09:36:30.991Z"
   },
   {
    "duration": 0,
    "start_time": "2024-12-12T09:36:30.993Z"
   },
   {
    "duration": 0,
    "start_time": "2024-12-12T09:36:30.994Z"
   },
   {
    "duration": 0,
    "start_time": "2024-12-12T09:36:31.030Z"
   },
   {
    "duration": 0,
    "start_time": "2024-12-12T09:36:31.032Z"
   },
   {
    "duration": 0,
    "start_time": "2024-12-12T09:36:31.034Z"
   },
   {
    "duration": 0,
    "start_time": "2024-12-12T09:36:31.035Z"
   },
   {
    "duration": 0,
    "start_time": "2024-12-12T09:36:31.036Z"
   },
   {
    "duration": 0,
    "start_time": "2024-12-12T09:36:31.038Z"
   },
   {
    "duration": 0,
    "start_time": "2024-12-12T09:36:31.039Z"
   },
   {
    "duration": 0,
    "start_time": "2024-12-12T09:36:31.041Z"
   },
   {
    "duration": 0,
    "start_time": "2024-12-12T09:36:31.042Z"
   },
   {
    "duration": 0,
    "start_time": "2024-12-12T09:36:31.044Z"
   },
   {
    "duration": 0,
    "start_time": "2024-12-12T09:36:31.045Z"
   },
   {
    "duration": 0,
    "start_time": "2024-12-12T09:36:31.046Z"
   },
   {
    "duration": 0,
    "start_time": "2024-12-12T09:36:31.048Z"
   },
   {
    "duration": 0,
    "start_time": "2024-12-12T09:36:31.049Z"
   },
   {
    "duration": 0,
    "start_time": "2024-12-12T09:36:31.050Z"
   },
   {
    "duration": 0,
    "start_time": "2024-12-12T09:36:31.052Z"
   },
   {
    "duration": 0,
    "start_time": "2024-12-12T09:36:31.053Z"
   },
   {
    "duration": 0,
    "start_time": "2024-12-12T09:36:31.054Z"
   },
   {
    "duration": 0,
    "start_time": "2024-12-12T09:36:31.055Z"
   },
   {
    "duration": 0,
    "start_time": "2024-12-12T09:36:31.056Z"
   },
   {
    "duration": 0,
    "start_time": "2024-12-12T09:36:31.058Z"
   },
   {
    "duration": 0,
    "start_time": "2024-12-12T09:36:31.059Z"
   },
   {
    "duration": 0,
    "start_time": "2024-12-12T09:36:31.060Z"
   },
   {
    "duration": 0,
    "start_time": "2024-12-12T09:36:31.061Z"
   },
   {
    "duration": 0,
    "start_time": "2024-12-12T09:36:31.062Z"
   },
   {
    "duration": 0,
    "start_time": "2024-12-12T09:36:31.063Z"
   },
   {
    "duration": 0,
    "start_time": "2024-12-12T09:36:31.064Z"
   },
   {
    "duration": 0,
    "start_time": "2024-12-12T09:36:31.065Z"
   },
   {
    "duration": 0,
    "start_time": "2024-12-12T09:36:31.066Z"
   },
   {
    "duration": 0,
    "start_time": "2024-12-12T09:36:31.131Z"
   },
   {
    "duration": 0,
    "start_time": "2024-12-12T09:36:31.133Z"
   },
   {
    "duration": 0,
    "start_time": "2024-12-12T09:36:31.134Z"
   },
   {
    "duration": 0,
    "start_time": "2024-12-12T09:36:31.136Z"
   },
   {
    "duration": 0,
    "start_time": "2024-12-12T09:36:31.137Z"
   },
   {
    "duration": 0,
    "start_time": "2024-12-12T09:36:31.139Z"
   },
   {
    "duration": 0,
    "start_time": "2024-12-12T09:36:31.140Z"
   },
   {
    "duration": 10,
    "start_time": "2024-12-12T10:18:20.886Z"
   },
   {
    "duration": 23,
    "start_time": "2024-12-12T10:18:21.894Z"
   },
   {
    "duration": 1852,
    "start_time": "2024-12-12T10:19:22.436Z"
   },
   {
    "duration": 3,
    "start_time": "2024-12-12T10:19:24.289Z"
   },
   {
    "duration": 66,
    "start_time": "2024-12-12T10:19:24.293Z"
   },
   {
    "duration": 10,
    "start_time": "2024-12-12T10:19:24.361Z"
   },
   {
    "duration": 10,
    "start_time": "2024-12-12T10:19:24.373Z"
   },
   {
    "duration": 7,
    "start_time": "2024-12-12T10:19:24.385Z"
   },
   {
    "duration": 24,
    "start_time": "2024-12-12T10:19:24.394Z"
   },
   {
    "duration": 18,
    "start_time": "2024-12-12T10:19:24.419Z"
   },
   {
    "duration": 12,
    "start_time": "2024-12-12T10:19:24.439Z"
   },
   {
    "duration": 425,
    "start_time": "2024-12-12T10:19:24.453Z"
   },
   {
    "duration": 9,
    "start_time": "2024-12-12T10:19:24.880Z"
   },
   {
    "duration": 660,
    "start_time": "2024-12-12T10:19:24.890Z"
   },
   {
    "duration": 8,
    "start_time": "2024-12-12T10:19:25.552Z"
   },
   {
    "duration": 830,
    "start_time": "2024-12-12T10:19:25.561Z"
   },
   {
    "duration": 232,
    "start_time": "2024-12-12T10:19:26.393Z"
   },
   {
    "duration": 4,
    "start_time": "2024-12-12T10:19:26.626Z"
   },
   {
    "duration": 35,
    "start_time": "2024-12-12T10:19:26.632Z"
   },
   {
    "duration": 28,
    "start_time": "2024-12-12T10:19:26.668Z"
   },
   {
    "duration": 277,
    "start_time": "2024-12-12T10:19:26.697Z"
   },
   {
    "duration": 5,
    "start_time": "2024-12-12T10:19:26.976Z"
   },
   {
    "duration": 5,
    "start_time": "2024-12-12T10:19:26.983Z"
   },
   {
    "duration": 16,
    "start_time": "2024-12-12T10:19:26.990Z"
   },
   {
    "duration": 33,
    "start_time": "2024-12-12T10:19:27.007Z"
   },
   {
    "duration": 22,
    "start_time": "2024-12-12T10:19:27.041Z"
   },
   {
    "duration": 16,
    "start_time": "2024-12-12T10:19:27.064Z"
   },
   {
    "duration": 4,
    "start_time": "2024-12-12T10:19:27.082Z"
   },
   {
    "duration": 34,
    "start_time": "2024-12-12T10:19:27.088Z"
   },
   {
    "duration": 18,
    "start_time": "2024-12-12T10:19:27.127Z"
   },
   {
    "duration": 18,
    "start_time": "2024-12-12T10:19:27.146Z"
   },
   {
    "duration": 4,
    "start_time": "2024-12-12T10:19:27.166Z"
   },
   {
    "duration": 14,
    "start_time": "2024-12-12T10:19:27.172Z"
   },
   {
    "duration": 8,
    "start_time": "2024-12-12T10:19:27.188Z"
   },
   {
    "duration": 40,
    "start_time": "2024-12-12T10:19:27.198Z"
   },
   {
    "duration": 153,
    "start_time": "2024-12-12T10:19:27.240Z"
   },
   {
    "duration": 0,
    "start_time": "2024-12-12T10:19:27.395Z"
   },
   {
    "duration": 0,
    "start_time": "2024-12-12T10:19:27.396Z"
   },
   {
    "duration": 0,
    "start_time": "2024-12-12T10:19:27.398Z"
   },
   {
    "duration": 0,
    "start_time": "2024-12-12T10:19:27.399Z"
   },
   {
    "duration": 0,
    "start_time": "2024-12-12T10:19:27.400Z"
   },
   {
    "duration": 0,
    "start_time": "2024-12-12T10:19:27.401Z"
   },
   {
    "duration": 0,
    "start_time": "2024-12-12T10:19:27.402Z"
   },
   {
    "duration": 0,
    "start_time": "2024-12-12T10:19:27.403Z"
   },
   {
    "duration": 0,
    "start_time": "2024-12-12T10:19:27.404Z"
   },
   {
    "duration": 0,
    "start_time": "2024-12-12T10:19:27.405Z"
   },
   {
    "duration": 0,
    "start_time": "2024-12-12T10:19:27.430Z"
   },
   {
    "duration": 0,
    "start_time": "2024-12-12T10:19:27.431Z"
   },
   {
    "duration": 0,
    "start_time": "2024-12-12T10:19:27.433Z"
   },
   {
    "duration": 0,
    "start_time": "2024-12-12T10:19:27.434Z"
   },
   {
    "duration": 0,
    "start_time": "2024-12-12T10:19:27.435Z"
   },
   {
    "duration": 0,
    "start_time": "2024-12-12T10:19:27.436Z"
   },
   {
    "duration": 0,
    "start_time": "2024-12-12T10:19:27.438Z"
   },
   {
    "duration": 0,
    "start_time": "2024-12-12T10:19:27.439Z"
   },
   {
    "duration": 0,
    "start_time": "2024-12-12T10:19:27.440Z"
   },
   {
    "duration": 0,
    "start_time": "2024-12-12T10:19:27.441Z"
   },
   {
    "duration": 0,
    "start_time": "2024-12-12T10:19:27.442Z"
   },
   {
    "duration": 0,
    "start_time": "2024-12-12T10:19:27.444Z"
   },
   {
    "duration": 0,
    "start_time": "2024-12-12T10:19:27.445Z"
   },
   {
    "duration": 0,
    "start_time": "2024-12-12T10:19:27.446Z"
   },
   {
    "duration": 0,
    "start_time": "2024-12-12T10:19:27.447Z"
   },
   {
    "duration": 0,
    "start_time": "2024-12-12T10:19:27.448Z"
   },
   {
    "duration": 0,
    "start_time": "2024-12-12T10:19:27.449Z"
   },
   {
    "duration": 0,
    "start_time": "2024-12-12T10:19:27.450Z"
   },
   {
    "duration": 0,
    "start_time": "2024-12-12T10:19:27.452Z"
   },
   {
    "duration": 0,
    "start_time": "2024-12-12T10:19:27.453Z"
   },
   {
    "duration": 0,
    "start_time": "2024-12-12T10:19:27.454Z"
   },
   {
    "duration": 0,
    "start_time": "2024-12-12T10:19:27.455Z"
   },
   {
    "duration": 0,
    "start_time": "2024-12-12T10:19:27.456Z"
   },
   {
    "duration": 0,
    "start_time": "2024-12-12T10:19:27.457Z"
   },
   {
    "duration": 0,
    "start_time": "2024-12-12T10:19:27.458Z"
   },
   {
    "duration": 0,
    "start_time": "2024-12-12T10:19:27.460Z"
   },
   {
    "duration": 0,
    "start_time": "2024-12-12T10:19:27.460Z"
   },
   {
    "duration": 0,
    "start_time": "2024-12-12T10:19:27.461Z"
   },
   {
    "duration": 0,
    "start_time": "2024-12-12T10:19:27.462Z"
   },
   {
    "duration": 0,
    "start_time": "2024-12-12T10:19:27.463Z"
   },
   {
    "duration": 0,
    "start_time": "2024-12-12T10:19:27.465Z"
   },
   {
    "duration": 0,
    "start_time": "2024-12-12T10:19:27.530Z"
   },
   {
    "duration": 0,
    "start_time": "2024-12-12T10:19:27.531Z"
   },
   {
    "duration": 0,
    "start_time": "2024-12-12T10:19:27.532Z"
   },
   {
    "duration": 0,
    "start_time": "2024-12-12T10:19:27.533Z"
   },
   {
    "duration": 0,
    "start_time": "2024-12-12T10:19:27.535Z"
   },
   {
    "duration": 0,
    "start_time": "2024-12-12T10:19:27.536Z"
   },
   {
    "duration": 0,
    "start_time": "2024-12-12T10:19:27.537Z"
   },
   {
    "duration": 1834,
    "start_time": "2024-12-12T10:20:55.426Z"
   },
   {
    "duration": 2,
    "start_time": "2024-12-12T10:20:57.262Z"
   },
   {
    "duration": 81,
    "start_time": "2024-12-12T10:20:57.266Z"
   },
   {
    "duration": 11,
    "start_time": "2024-12-12T10:20:57.349Z"
   },
   {
    "duration": 45,
    "start_time": "2024-12-12T10:20:57.362Z"
   },
   {
    "duration": 8,
    "start_time": "2024-12-12T10:20:57.408Z"
   },
   {
    "duration": 18,
    "start_time": "2024-12-12T10:20:57.418Z"
   },
   {
    "duration": 7,
    "start_time": "2024-12-12T10:20:57.438Z"
   },
   {
    "duration": 4,
    "start_time": "2024-12-12T10:20:57.446Z"
   },
   {
    "duration": 398,
    "start_time": "2024-12-12T10:20:57.453Z"
   },
   {
    "duration": 10,
    "start_time": "2024-12-12T10:20:57.853Z"
   },
   {
    "duration": 690,
    "start_time": "2024-12-12T10:20:57.864Z"
   },
   {
    "duration": 8,
    "start_time": "2024-12-12T10:20:58.556Z"
   },
   {
    "duration": 844,
    "start_time": "2024-12-12T10:20:58.565Z"
   },
   {
    "duration": 228,
    "start_time": "2024-12-12T10:20:59.411Z"
   },
   {
    "duration": 4,
    "start_time": "2024-12-12T10:20:59.640Z"
   },
   {
    "duration": 22,
    "start_time": "2024-12-12T10:20:59.646Z"
   },
   {
    "duration": 29,
    "start_time": "2024-12-12T10:20:59.670Z"
   },
   {
    "duration": 275,
    "start_time": "2024-12-12T10:20:59.700Z"
   },
   {
    "duration": 5,
    "start_time": "2024-12-12T10:20:59.977Z"
   },
   {
    "duration": 11,
    "start_time": "2024-12-12T10:20:59.984Z"
   },
   {
    "duration": 35,
    "start_time": "2024-12-12T10:20:59.996Z"
   },
   {
    "duration": 53,
    "start_time": "2024-12-12T10:21:00.032Z"
   },
   {
    "duration": 42,
    "start_time": "2024-12-12T10:21:00.087Z"
   },
   {
    "duration": 60,
    "start_time": "2024-12-12T10:21:00.131Z"
   },
   {
    "duration": 34,
    "start_time": "2024-12-12T10:21:00.193Z"
   },
   {
    "duration": 135,
    "start_time": "2024-12-12T10:21:00.229Z"
   },
   {
    "duration": 50,
    "start_time": "2024-12-12T10:21:00.368Z"
   },
   {
    "duration": 74,
    "start_time": "2024-12-12T10:21:00.419Z"
   },
   {
    "duration": 26,
    "start_time": "2024-12-12T10:21:00.495Z"
   },
   {
    "duration": 47,
    "start_time": "2024-12-12T10:21:00.522Z"
   },
   {
    "duration": 13,
    "start_time": "2024-12-12T10:21:00.571Z"
   },
   {
    "duration": 37,
    "start_time": "2024-12-12T10:21:00.586Z"
   },
   {
    "duration": 164,
    "start_time": "2024-12-12T10:21:00.625Z"
   },
   {
    "duration": 0,
    "start_time": "2024-12-12T10:21:00.792Z"
   },
   {
    "duration": 0,
    "start_time": "2024-12-12T10:21:00.793Z"
   },
   {
    "duration": 0,
    "start_time": "2024-12-12T10:21:00.794Z"
   },
   {
    "duration": 0,
    "start_time": "2024-12-12T10:21:00.796Z"
   },
   {
    "duration": 0,
    "start_time": "2024-12-12T10:21:00.797Z"
   },
   {
    "duration": 0,
    "start_time": "2024-12-12T10:21:00.799Z"
   },
   {
    "duration": 0,
    "start_time": "2024-12-12T10:21:00.800Z"
   },
   {
    "duration": 0,
    "start_time": "2024-12-12T10:21:00.802Z"
   },
   {
    "duration": 0,
    "start_time": "2024-12-12T10:21:00.803Z"
   },
   {
    "duration": 0,
    "start_time": "2024-12-12T10:21:00.804Z"
   },
   {
    "duration": 0,
    "start_time": "2024-12-12T10:21:00.831Z"
   },
   {
    "duration": 0,
    "start_time": "2024-12-12T10:21:00.833Z"
   },
   {
    "duration": 0,
    "start_time": "2024-12-12T10:21:00.834Z"
   },
   {
    "duration": 0,
    "start_time": "2024-12-12T10:21:00.836Z"
   },
   {
    "duration": 0,
    "start_time": "2024-12-12T10:21:00.837Z"
   },
   {
    "duration": 0,
    "start_time": "2024-12-12T10:21:00.839Z"
   },
   {
    "duration": 0,
    "start_time": "2024-12-12T10:21:00.840Z"
   },
   {
    "duration": 0,
    "start_time": "2024-12-12T10:21:00.842Z"
   },
   {
    "duration": 0,
    "start_time": "2024-12-12T10:21:00.843Z"
   },
   {
    "duration": 0,
    "start_time": "2024-12-12T10:21:00.845Z"
   },
   {
    "duration": 0,
    "start_time": "2024-12-12T10:21:00.847Z"
   },
   {
    "duration": 0,
    "start_time": "2024-12-12T10:21:00.848Z"
   },
   {
    "duration": 0,
    "start_time": "2024-12-12T10:21:00.850Z"
   },
   {
    "duration": 0,
    "start_time": "2024-12-12T10:21:00.851Z"
   },
   {
    "duration": 0,
    "start_time": "2024-12-12T10:21:00.852Z"
   },
   {
    "duration": 0,
    "start_time": "2024-12-12T10:21:00.854Z"
   },
   {
    "duration": 0,
    "start_time": "2024-12-12T10:21:00.856Z"
   },
   {
    "duration": 0,
    "start_time": "2024-12-12T10:21:00.857Z"
   },
   {
    "duration": 0,
    "start_time": "2024-12-12T10:21:00.859Z"
   },
   {
    "duration": 0,
    "start_time": "2024-12-12T10:21:00.861Z"
   },
   {
    "duration": 0,
    "start_time": "2024-12-12T10:21:00.862Z"
   },
   {
    "duration": 0,
    "start_time": "2024-12-12T10:21:00.864Z"
   },
   {
    "duration": 0,
    "start_time": "2024-12-12T10:21:00.865Z"
   },
   {
    "duration": 0,
    "start_time": "2024-12-12T10:21:00.866Z"
   },
   {
    "duration": 0,
    "start_time": "2024-12-12T10:21:00.867Z"
   },
   {
    "duration": 0,
    "start_time": "2024-12-12T10:21:00.869Z"
   },
   {
    "duration": 0,
    "start_time": "2024-12-12T10:21:00.869Z"
   },
   {
    "duration": 0,
    "start_time": "2024-12-12T10:21:00.870Z"
   },
   {
    "duration": 0,
    "start_time": "2024-12-12T10:21:00.870Z"
   },
   {
    "duration": 0,
    "start_time": "2024-12-12T10:21:00.871Z"
   },
   {
    "duration": 0,
    "start_time": "2024-12-12T10:21:00.871Z"
   },
   {
    "duration": 0,
    "start_time": "2024-12-12T10:21:00.872Z"
   },
   {
    "duration": 0,
    "start_time": "2024-12-12T10:21:00.872Z"
   },
   {
    "duration": 0,
    "start_time": "2024-12-12T10:21:00.931Z"
   },
   {
    "duration": 0,
    "start_time": "2024-12-12T10:21:00.932Z"
   },
   {
    "duration": 0,
    "start_time": "2024-12-12T10:21:00.933Z"
   },
   {
    "duration": 0,
    "start_time": "2024-12-12T10:21:00.934Z"
   },
   {
    "duration": 0,
    "start_time": "2024-12-12T10:21:00.935Z"
   },
   {
    "duration": 1881,
    "start_time": "2024-12-12T10:22:01.796Z"
   },
   {
    "duration": 2,
    "start_time": "2024-12-12T10:22:03.679Z"
   },
   {
    "duration": 61,
    "start_time": "2024-12-12T10:22:03.683Z"
   },
   {
    "duration": 10,
    "start_time": "2024-12-12T10:22:03.746Z"
   },
   {
    "duration": 17,
    "start_time": "2024-12-12T10:22:03.758Z"
   },
   {
    "duration": 10,
    "start_time": "2024-12-12T10:22:03.776Z"
   },
   {
    "duration": 26,
    "start_time": "2024-12-12T10:22:03.788Z"
   },
   {
    "duration": 8,
    "start_time": "2024-12-12T10:22:03.816Z"
   },
   {
    "duration": 13,
    "start_time": "2024-12-12T10:22:03.826Z"
   },
   {
    "duration": 413,
    "start_time": "2024-12-12T10:22:03.841Z"
   },
   {
    "duration": 9,
    "start_time": "2024-12-12T10:22:04.255Z"
   },
   {
    "duration": 753,
    "start_time": "2024-12-12T10:22:04.266Z"
   },
   {
    "duration": 7,
    "start_time": "2024-12-12T10:22:05.021Z"
   },
   {
    "duration": 886,
    "start_time": "2024-12-12T10:22:05.029Z"
   },
   {
    "duration": 232,
    "start_time": "2024-12-12T10:22:05.916Z"
   },
   {
    "duration": 4,
    "start_time": "2024-12-12T10:22:06.149Z"
   },
   {
    "duration": 48,
    "start_time": "2024-12-12T10:22:06.154Z"
   },
   {
    "duration": 55,
    "start_time": "2024-12-12T10:22:06.204Z"
   },
   {
    "duration": 271,
    "start_time": "2024-12-12T10:22:06.261Z"
   },
   {
    "duration": 6,
    "start_time": "2024-12-12T10:22:06.534Z"
   },
   {
    "duration": 37,
    "start_time": "2024-12-12T10:22:06.541Z"
   },
   {
    "duration": 28,
    "start_time": "2024-12-12T10:22:06.579Z"
   },
   {
    "duration": 52,
    "start_time": "2024-12-12T10:22:06.608Z"
   },
   {
    "duration": 16,
    "start_time": "2024-12-12T10:22:06.661Z"
   },
   {
    "duration": 12,
    "start_time": "2024-12-12T10:22:06.678Z"
   },
   {
    "duration": 15,
    "start_time": "2024-12-12T10:22:06.692Z"
   },
   {
    "duration": 55,
    "start_time": "2024-12-12T10:22:06.709Z"
   },
   {
    "duration": 24,
    "start_time": "2024-12-12T10:22:06.768Z"
   },
   {
    "duration": 32,
    "start_time": "2024-12-12T10:22:06.794Z"
   },
   {
    "duration": 41,
    "start_time": "2024-12-12T10:22:06.827Z"
   },
   {
    "duration": 30,
    "start_time": "2024-12-12T10:22:06.869Z"
   },
   {
    "duration": 26,
    "start_time": "2024-12-12T10:22:06.901Z"
   },
   {
    "duration": 47,
    "start_time": "2024-12-12T10:22:06.929Z"
   },
   {
    "duration": 161,
    "start_time": "2024-12-12T10:22:06.978Z"
   },
   {
    "duration": 0,
    "start_time": "2024-12-12T10:22:07.141Z"
   },
   {
    "duration": 0,
    "start_time": "2024-12-12T10:22:07.141Z"
   },
   {
    "duration": 0,
    "start_time": "2024-12-12T10:22:07.143Z"
   },
   {
    "duration": 0,
    "start_time": "2024-12-12T10:22:07.144Z"
   },
   {
    "duration": 0,
    "start_time": "2024-12-12T10:22:07.145Z"
   },
   {
    "duration": 0,
    "start_time": "2024-12-12T10:22:07.146Z"
   },
   {
    "duration": 0,
    "start_time": "2024-12-12T10:22:07.147Z"
   },
   {
    "duration": 0,
    "start_time": "2024-12-12T10:22:07.148Z"
   },
   {
    "duration": 0,
    "start_time": "2024-12-12T10:22:07.149Z"
   },
   {
    "duration": 0,
    "start_time": "2024-12-12T10:22:07.150Z"
   },
   {
    "duration": 0,
    "start_time": "2024-12-12T10:22:07.151Z"
   },
   {
    "duration": 0,
    "start_time": "2024-12-12T10:22:07.152Z"
   },
   {
    "duration": 0,
    "start_time": "2024-12-12T10:22:07.153Z"
   },
   {
    "duration": 0,
    "start_time": "2024-12-12T10:22:07.154Z"
   },
   {
    "duration": 0,
    "start_time": "2024-12-12T10:22:07.155Z"
   },
   {
    "duration": 0,
    "start_time": "2024-12-12T10:22:07.156Z"
   },
   {
    "duration": 0,
    "start_time": "2024-12-12T10:22:07.157Z"
   },
   {
    "duration": 0,
    "start_time": "2024-12-12T10:22:07.158Z"
   },
   {
    "duration": 0,
    "start_time": "2024-12-12T10:22:07.159Z"
   },
   {
    "duration": 0,
    "start_time": "2024-12-12T10:22:07.160Z"
   },
   {
    "duration": 0,
    "start_time": "2024-12-12T10:22:07.161Z"
   },
   {
    "duration": 0,
    "start_time": "2024-12-12T10:22:07.162Z"
   },
   {
    "duration": 0,
    "start_time": "2024-12-12T10:22:07.163Z"
   },
   {
    "duration": 0,
    "start_time": "2024-12-12T10:22:07.164Z"
   },
   {
    "duration": 0,
    "start_time": "2024-12-12T10:22:07.165Z"
   },
   {
    "duration": 0,
    "start_time": "2024-12-12T10:22:07.166Z"
   },
   {
    "duration": 0,
    "start_time": "2024-12-12T10:22:07.167Z"
   },
   {
    "duration": 0,
    "start_time": "2024-12-12T10:22:07.168Z"
   },
   {
    "duration": 0,
    "start_time": "2024-12-12T10:22:07.169Z"
   },
   {
    "duration": 0,
    "start_time": "2024-12-12T10:22:07.171Z"
   },
   {
    "duration": 0,
    "start_time": "2024-12-12T10:22:07.172Z"
   },
   {
    "duration": 0,
    "start_time": "2024-12-12T10:22:07.173Z"
   },
   {
    "duration": 0,
    "start_time": "2024-12-12T10:22:07.174Z"
   },
   {
    "duration": 0,
    "start_time": "2024-12-12T10:22:07.175Z"
   },
   {
    "duration": 0,
    "start_time": "2024-12-12T10:22:07.176Z"
   },
   {
    "duration": 0,
    "start_time": "2024-12-12T10:22:07.230Z"
   },
   {
    "duration": 0,
    "start_time": "2024-12-12T10:22:07.231Z"
   },
   {
    "duration": 0,
    "start_time": "2024-12-12T10:22:07.232Z"
   },
   {
    "duration": 0,
    "start_time": "2024-12-12T10:22:07.234Z"
   },
   {
    "duration": 0,
    "start_time": "2024-12-12T10:22:07.235Z"
   },
   {
    "duration": 0,
    "start_time": "2024-12-12T10:22:07.236Z"
   },
   {
    "duration": 0,
    "start_time": "2024-12-12T10:22:07.238Z"
   },
   {
    "duration": 0,
    "start_time": "2024-12-12T10:22:07.239Z"
   },
   {
    "duration": 0,
    "start_time": "2024-12-12T10:22:07.240Z"
   },
   {
    "duration": 0,
    "start_time": "2024-12-12T10:22:07.241Z"
   },
   {
    "duration": 0,
    "start_time": "2024-12-12T10:22:07.243Z"
   },
   {
    "duration": 0,
    "start_time": "2024-12-12T10:22:07.244Z"
   },
   {
    "duration": 0,
    "start_time": "2024-12-12T10:22:07.244Z"
   },
   {
    "duration": 73,
    "start_time": "2024-12-12T10:24:43.438Z"
   },
   {
    "duration": 95,
    "start_time": "2024-12-12T10:25:07.605Z"
   },
   {
    "duration": 1855,
    "start_time": "2024-12-12T10:27:26.412Z"
   },
   {
    "duration": 2,
    "start_time": "2024-12-12T10:27:28.269Z"
   },
   {
    "duration": 58,
    "start_time": "2024-12-12T10:27:28.273Z"
   },
   {
    "duration": 11,
    "start_time": "2024-12-12T10:27:28.334Z"
   },
   {
    "duration": 28,
    "start_time": "2024-12-12T10:27:28.347Z"
   },
   {
    "duration": 24,
    "start_time": "2024-12-12T10:27:28.378Z"
   },
   {
    "duration": 11,
    "start_time": "2024-12-12T10:27:28.404Z"
   },
   {
    "duration": 30,
    "start_time": "2024-12-12T10:27:28.417Z"
   },
   {
    "duration": 25,
    "start_time": "2024-12-12T10:27:28.448Z"
   },
   {
    "duration": 396,
    "start_time": "2024-12-12T10:27:28.475Z"
   },
   {
    "duration": 10,
    "start_time": "2024-12-12T10:27:28.873Z"
   },
   {
    "duration": 678,
    "start_time": "2024-12-12T10:27:28.885Z"
   },
   {
    "duration": 9,
    "start_time": "2024-12-12T10:27:29.565Z"
   },
   {
    "duration": 847,
    "start_time": "2024-12-12T10:27:29.576Z"
   },
   {
    "duration": 232,
    "start_time": "2024-12-12T10:27:30.425Z"
   },
   {
    "duration": 4,
    "start_time": "2024-12-12T10:27:30.658Z"
   },
   {
    "duration": 35,
    "start_time": "2024-12-12T10:27:30.664Z"
   },
   {
    "duration": 35,
    "start_time": "2024-12-12T10:27:30.701Z"
   },
   {
    "duration": 249,
    "start_time": "2024-12-12T10:27:30.738Z"
   },
   {
    "duration": 6,
    "start_time": "2024-12-12T10:27:30.988Z"
   },
   {
    "duration": 9,
    "start_time": "2024-12-12T10:27:30.995Z"
   },
   {
    "duration": 34,
    "start_time": "2024-12-12T10:27:31.005Z"
   },
   {
    "duration": 22,
    "start_time": "2024-12-12T10:27:31.040Z"
   },
   {
    "duration": 14,
    "start_time": "2024-12-12T10:27:31.064Z"
   },
   {
    "duration": 32,
    "start_time": "2024-12-12T10:27:31.079Z"
   },
   {
    "duration": 11,
    "start_time": "2024-12-12T10:27:31.112Z"
   },
   {
    "duration": 14,
    "start_time": "2024-12-12T10:27:31.124Z"
   },
   {
    "duration": 8,
    "start_time": "2024-12-12T10:27:31.142Z"
   },
   {
    "duration": 15,
    "start_time": "2024-12-12T10:27:31.152Z"
   },
   {
    "duration": 24,
    "start_time": "2024-12-12T10:27:31.169Z"
   },
   {
    "duration": 6,
    "start_time": "2024-12-12T10:27:31.195Z"
   },
   {
    "duration": 25,
    "start_time": "2024-12-12T10:27:31.202Z"
   },
   {
    "duration": 18,
    "start_time": "2024-12-12T10:27:31.229Z"
   },
   {
    "duration": 21,
    "start_time": "2024-12-12T10:27:31.249Z"
   },
   {
    "duration": 12,
    "start_time": "2024-12-12T10:27:31.272Z"
   },
   {
    "duration": 12,
    "start_time": "2024-12-12T10:27:31.286Z"
   },
   {
    "duration": 19,
    "start_time": "2024-12-12T10:27:31.300Z"
   },
   {
    "duration": 2415,
    "start_time": "2024-12-12T10:27:31.321Z"
   },
   {
    "duration": 30827,
    "start_time": "2024-12-12T10:27:33.738Z"
   },
   {
    "duration": 55236,
    "start_time": "2024-12-12T10:28:04.567Z"
   },
   {
    "duration": 48627,
    "start_time": "2024-12-12T10:28:59.805Z"
   },
   {
    "duration": 1849,
    "start_time": "2024-12-12T10:32:18.638Z"
   },
   {
    "duration": 3,
    "start_time": "2024-12-12T10:32:20.489Z"
   },
   {
    "duration": 85,
    "start_time": "2024-12-12T10:32:20.493Z"
   },
   {
    "duration": 11,
    "start_time": "2024-12-12T10:32:20.580Z"
   },
   {
    "duration": 15,
    "start_time": "2024-12-12T10:32:20.592Z"
   },
   {
    "duration": 27,
    "start_time": "2024-12-12T10:32:20.609Z"
   },
   {
    "duration": 38,
    "start_time": "2024-12-12T10:32:20.637Z"
   },
   {
    "duration": 18,
    "start_time": "2024-12-12T10:32:20.676Z"
   },
   {
    "duration": 13,
    "start_time": "2024-12-12T10:32:20.695Z"
   },
   {
    "duration": 415,
    "start_time": "2024-12-12T10:32:20.710Z"
   },
   {
    "duration": 9,
    "start_time": "2024-12-12T10:32:21.129Z"
   },
   {
    "duration": 704,
    "start_time": "2024-12-12T10:32:21.139Z"
   },
   {
    "duration": 8,
    "start_time": "2024-12-12T10:32:21.844Z"
   },
   {
    "duration": 850,
    "start_time": "2024-12-12T10:32:21.853Z"
   },
   {
    "duration": 238,
    "start_time": "2024-12-12T10:32:22.705Z"
   },
   {
    "duration": 5,
    "start_time": "2024-12-12T10:32:22.944Z"
   },
   {
    "duration": 37,
    "start_time": "2024-12-12T10:32:22.950Z"
   },
   {
    "duration": 28,
    "start_time": "2024-12-12T10:32:22.988Z"
   },
   {
    "duration": 262,
    "start_time": "2024-12-12T10:32:23.018Z"
   },
   {
    "duration": 6,
    "start_time": "2024-12-12T10:32:23.281Z"
   },
   {
    "duration": 47,
    "start_time": "2024-12-12T10:32:23.288Z"
   },
   {
    "duration": 28,
    "start_time": "2024-12-12T10:32:23.336Z"
   },
   {
    "duration": 41,
    "start_time": "2024-12-12T10:32:23.366Z"
   },
   {
    "duration": 25,
    "start_time": "2024-12-12T10:32:23.409Z"
   },
   {
    "duration": 78,
    "start_time": "2024-12-12T10:32:23.436Z"
   },
   {
    "duration": 35,
    "start_time": "2024-12-12T10:32:23.515Z"
   },
   {
    "duration": 12,
    "start_time": "2024-12-12T10:32:23.552Z"
   },
   {
    "duration": 15,
    "start_time": "2024-12-12T10:32:23.569Z"
   },
   {
    "duration": 17,
    "start_time": "2024-12-12T10:32:23.585Z"
   },
   {
    "duration": 19,
    "start_time": "2024-12-12T10:32:23.604Z"
   },
   {
    "duration": 8,
    "start_time": "2024-12-12T10:32:23.625Z"
   },
   {
    "duration": 8,
    "start_time": "2024-12-12T10:32:23.634Z"
   },
   {
    "duration": 28,
    "start_time": "2024-12-12T10:32:23.644Z"
   },
   {
    "duration": 11,
    "start_time": "2024-12-12T10:32:23.674Z"
   },
   {
    "duration": 8,
    "start_time": "2024-12-12T10:32:23.687Z"
   },
   {
    "duration": 14,
    "start_time": "2024-12-12T10:32:23.697Z"
   },
   {
    "duration": 29,
    "start_time": "2024-12-12T10:32:23.713Z"
   },
   {
    "duration": 1596,
    "start_time": "2024-12-12T10:32:23.744Z"
   },
   {
    "duration": 30858,
    "start_time": "2024-12-12T10:32:25.342Z"
   },
   {
    "duration": 54405,
    "start_time": "2024-12-12T10:32:56.202Z"
   },
   {
    "duration": 41137,
    "start_time": "2024-12-12T10:33:50.608Z"
   },
   {
    "duration": 88448,
    "start_time": "2024-12-12T10:34:31.747Z"
   },
   {
    "duration": 0,
    "start_time": "2024-12-12T10:36:00.197Z"
   },
   {
    "duration": 0,
    "start_time": "2024-12-12T10:36:00.199Z"
   },
   {
    "duration": 0,
    "start_time": "2024-12-12T10:36:00.201Z"
   },
   {
    "duration": 0,
    "start_time": "2024-12-12T10:36:00.203Z"
   },
   {
    "duration": 0,
    "start_time": "2024-12-12T10:36:00.204Z"
   },
   {
    "duration": 0,
    "start_time": "2024-12-12T10:36:00.206Z"
   },
   {
    "duration": 0,
    "start_time": "2024-12-12T10:36:00.207Z"
   },
   {
    "duration": 0,
    "start_time": "2024-12-12T10:36:00.209Z"
   },
   {
    "duration": 0,
    "start_time": "2024-12-12T10:36:00.210Z"
   },
   {
    "duration": 0,
    "start_time": "2024-12-12T10:36:00.212Z"
   },
   {
    "duration": 0,
    "start_time": "2024-12-12T10:36:00.213Z"
   },
   {
    "duration": 0,
    "start_time": "2024-12-12T10:36:00.215Z"
   },
   {
    "duration": 0,
    "start_time": "2024-12-12T10:36:00.216Z"
   },
   {
    "duration": 0,
    "start_time": "2024-12-12T10:36:00.217Z"
   },
   {
    "duration": 0,
    "start_time": "2024-12-12T10:36:00.219Z"
   },
   {
    "duration": 1,
    "start_time": "2024-12-12T10:36:00.220Z"
   },
   {
    "duration": 0,
    "start_time": "2024-12-12T10:36:00.222Z"
   },
   {
    "duration": 0,
    "start_time": "2024-12-12T10:36:00.224Z"
   },
   {
    "duration": 0,
    "start_time": "2024-12-12T10:36:00.226Z"
   },
   {
    "duration": 0,
    "start_time": "2024-12-12T10:36:00.228Z"
   },
   {
    "duration": 0,
    "start_time": "2024-12-12T10:36:00.229Z"
   },
   {
    "duration": 0,
    "start_time": "2024-12-12T10:36:00.231Z"
   },
   {
    "duration": 0,
    "start_time": "2024-12-12T10:36:00.232Z"
   },
   {
    "duration": 0,
    "start_time": "2024-12-12T10:36:00.234Z"
   },
   {
    "duration": 0,
    "start_time": "2024-12-12T10:36:00.235Z"
   },
   {
    "duration": 0,
    "start_time": "2024-12-12T10:36:00.237Z"
   },
   {
    "duration": 0,
    "start_time": "2024-12-12T10:36:00.239Z"
   },
   {
    "duration": 0,
    "start_time": "2024-12-12T10:36:00.240Z"
   },
   {
    "duration": 0,
    "start_time": "2024-12-12T10:36:00.242Z"
   },
   {
    "duration": 0,
    "start_time": "2024-12-12T10:36:00.243Z"
   },
   {
    "duration": 0,
    "start_time": "2024-12-12T10:36:00.245Z"
   },
   {
    "duration": 0,
    "start_time": "2024-12-12T10:36:00.246Z"
   },
   {
    "duration": 1918,
    "start_time": "2024-12-12T10:36:33.413Z"
   },
   {
    "duration": 3,
    "start_time": "2024-12-12T10:36:35.333Z"
   },
   {
    "duration": 64,
    "start_time": "2024-12-12T10:36:35.338Z"
   },
   {
    "duration": 11,
    "start_time": "2024-12-12T10:36:35.404Z"
   },
   {
    "duration": 26,
    "start_time": "2024-12-12T10:36:35.417Z"
   },
   {
    "duration": 51,
    "start_time": "2024-12-12T10:36:35.445Z"
   },
   {
    "duration": 26,
    "start_time": "2024-12-12T10:36:35.497Z"
   },
   {
    "duration": 35,
    "start_time": "2024-12-12T10:36:35.525Z"
   },
   {
    "duration": 34,
    "start_time": "2024-12-12T10:36:35.562Z"
   },
   {
    "duration": 391,
    "start_time": "2024-12-12T10:36:35.599Z"
   },
   {
    "duration": 9,
    "start_time": "2024-12-12T10:36:35.991Z"
   },
   {
    "duration": 652,
    "start_time": "2024-12-12T10:36:36.002Z"
   },
   {
    "duration": 7,
    "start_time": "2024-12-12T10:36:36.657Z"
   },
   {
    "duration": 845,
    "start_time": "2024-12-12T10:36:36.665Z"
   },
   {
    "duration": 234,
    "start_time": "2024-12-12T10:36:37.512Z"
   },
   {
    "duration": 4,
    "start_time": "2024-12-12T10:36:37.748Z"
   },
   {
    "duration": 27,
    "start_time": "2024-12-12T10:36:37.754Z"
   },
   {
    "duration": 28,
    "start_time": "2024-12-12T10:36:37.782Z"
   },
   {
    "duration": 251,
    "start_time": "2024-12-12T10:36:37.829Z"
   },
   {
    "duration": 5,
    "start_time": "2024-12-12T10:36:38.082Z"
   },
   {
    "duration": 22,
    "start_time": "2024-12-12T10:36:38.089Z"
   },
   {
    "duration": 18,
    "start_time": "2024-12-12T10:36:38.113Z"
   },
   {
    "duration": 15,
    "start_time": "2024-12-12T10:36:38.133Z"
   },
   {
    "duration": 11,
    "start_time": "2024-12-12T10:36:38.150Z"
   },
   {
    "duration": 47,
    "start_time": "2024-12-12T10:36:38.163Z"
   },
   {
    "duration": 17,
    "start_time": "2024-12-12T10:36:38.212Z"
   },
   {
    "duration": 11,
    "start_time": "2024-12-12T10:36:38.231Z"
   },
   {
    "duration": 5,
    "start_time": "2024-12-12T10:36:38.249Z"
   },
   {
    "duration": 9,
    "start_time": "2024-12-12T10:36:38.256Z"
   },
   {
    "duration": 59,
    "start_time": "2024-12-12T10:36:38.266Z"
   },
   {
    "duration": 21,
    "start_time": "2024-12-12T10:36:38.327Z"
   },
   {
    "duration": 13,
    "start_time": "2024-12-12T10:36:38.350Z"
   },
   {
    "duration": 10,
    "start_time": "2024-12-12T10:36:38.366Z"
   },
   {
    "duration": 13,
    "start_time": "2024-12-12T10:36:38.378Z"
   },
   {
    "duration": 8,
    "start_time": "2024-12-12T10:36:38.393Z"
   },
   {
    "duration": 6,
    "start_time": "2024-12-12T10:36:38.403Z"
   },
   {
    "duration": 19,
    "start_time": "2024-12-12T10:36:38.411Z"
   },
   {
    "duration": 1609,
    "start_time": "2024-12-12T10:36:38.432Z"
   },
   {
    "duration": 30567,
    "start_time": "2024-12-12T10:36:40.044Z"
   },
   {
    "duration": 36353,
    "start_time": "2024-12-12T10:37:10.613Z"
   },
   {
    "duration": 60871,
    "start_time": "2024-12-12T10:37:46.968Z"
   },
   {
    "duration": 1799,
    "start_time": "2024-12-12T10:41:47.671Z"
   },
   {
    "duration": 3,
    "start_time": "2024-12-12T10:41:49.472Z"
   },
   {
    "duration": 107,
    "start_time": "2024-12-12T10:41:49.476Z"
   },
   {
    "duration": 11,
    "start_time": "2024-12-12T10:41:49.585Z"
   },
   {
    "duration": 13,
    "start_time": "2024-12-12T10:41:49.598Z"
   },
   {
    "duration": 4,
    "start_time": "2024-12-12T10:41:49.613Z"
   },
   {
    "duration": 8,
    "start_time": "2024-12-12T10:41:49.618Z"
   },
   {
    "duration": 6,
    "start_time": "2024-12-12T10:41:49.627Z"
   },
   {
    "duration": 9,
    "start_time": "2024-12-12T10:41:49.634Z"
   },
   {
    "duration": 389,
    "start_time": "2024-12-12T10:41:49.646Z"
   },
   {
    "duration": 9,
    "start_time": "2024-12-12T10:41:50.037Z"
   },
   {
    "duration": 674,
    "start_time": "2024-12-12T10:41:50.048Z"
   },
   {
    "duration": 7,
    "start_time": "2024-12-12T10:41:50.724Z"
   },
   {
    "duration": 858,
    "start_time": "2024-12-12T10:41:50.733Z"
   },
   {
    "duration": 227,
    "start_time": "2024-12-12T10:41:51.593Z"
   },
   {
    "duration": 9,
    "start_time": "2024-12-12T10:41:51.822Z"
   },
   {
    "duration": 100,
    "start_time": "2024-12-12T10:41:51.835Z"
   },
   {
    "duration": 27,
    "start_time": "2024-12-12T10:41:51.937Z"
   },
   {
    "duration": 245,
    "start_time": "2024-12-12T10:41:51.965Z"
   },
   {
    "duration": 6,
    "start_time": "2024-12-12T10:41:52.211Z"
   },
   {
    "duration": 12,
    "start_time": "2024-12-12T10:41:52.229Z"
   },
   {
    "duration": 33,
    "start_time": "2024-12-12T10:41:52.243Z"
   },
   {
    "duration": 89,
    "start_time": "2024-12-12T10:41:52.277Z"
   },
   {
    "duration": 4,
    "start_time": "2024-12-12T10:41:52.367Z"
   },
   {
    "duration": 38,
    "start_time": "2024-12-12T10:41:52.373Z"
   },
   {
    "duration": 24,
    "start_time": "2024-12-12T10:41:52.412Z"
   },
   {
    "duration": 19,
    "start_time": "2024-12-12T10:41:52.438Z"
   },
   {
    "duration": 15,
    "start_time": "2024-12-12T10:41:52.461Z"
   },
   {
    "duration": 22,
    "start_time": "2024-12-12T10:41:52.477Z"
   },
   {
    "duration": 21,
    "start_time": "2024-12-12T10:41:52.501Z"
   },
   {
    "duration": 12,
    "start_time": "2024-12-12T10:41:52.523Z"
   },
   {
    "duration": 30,
    "start_time": "2024-12-12T10:41:52.537Z"
   },
   {
    "duration": 55,
    "start_time": "2024-12-12T10:41:52.569Z"
   },
   {
    "duration": 36,
    "start_time": "2024-12-12T10:41:52.625Z"
   },
   {
    "duration": 19,
    "start_time": "2024-12-12T10:41:52.662Z"
   },
   {
    "duration": 30,
    "start_time": "2024-12-12T10:41:52.683Z"
   },
   {
    "duration": 45,
    "start_time": "2024-12-12T10:41:52.715Z"
   },
   {
    "duration": 1388,
    "start_time": "2024-12-12T10:41:52.761Z"
   },
   {
    "duration": 30900,
    "start_time": "2024-12-12T10:41:54.231Z"
   },
   {
    "duration": 36618,
    "start_time": "2024-12-12T10:42:25.132Z"
   },
   {
    "duration": 55379,
    "start_time": "2024-12-12T10:43:01.752Z"
   },
   {
    "duration": 1822,
    "start_time": "2024-12-12T10:46:31.319Z"
   },
   {
    "duration": 2,
    "start_time": "2024-12-12T10:46:33.144Z"
   },
   {
    "duration": 68,
    "start_time": "2024-12-12T10:46:33.148Z"
   },
   {
    "duration": 10,
    "start_time": "2024-12-12T10:46:33.219Z"
   },
   {
    "duration": 27,
    "start_time": "2024-12-12T10:46:33.230Z"
   },
   {
    "duration": 9,
    "start_time": "2024-12-12T10:46:33.258Z"
   },
   {
    "duration": 28,
    "start_time": "2024-12-12T10:46:33.269Z"
   },
   {
    "duration": 29,
    "start_time": "2024-12-12T10:46:33.298Z"
   },
   {
    "duration": 4,
    "start_time": "2024-12-12T10:46:33.328Z"
   },
   {
    "duration": 414,
    "start_time": "2024-12-12T10:46:33.335Z"
   },
   {
    "duration": 10,
    "start_time": "2024-12-12T10:46:33.750Z"
   },
   {
    "duration": 688,
    "start_time": "2024-12-12T10:46:33.762Z"
   },
   {
    "duration": 8,
    "start_time": "2024-12-12T10:46:34.452Z"
   },
   {
    "duration": 857,
    "start_time": "2024-12-12T10:46:34.462Z"
   },
   {
    "duration": 229,
    "start_time": "2024-12-12T10:46:35.321Z"
   },
   {
    "duration": 3,
    "start_time": "2024-12-12T10:46:35.552Z"
   },
   {
    "duration": 42,
    "start_time": "2024-12-12T10:46:35.557Z"
   },
   {
    "duration": 27,
    "start_time": "2024-12-12T10:46:35.600Z"
   },
   {
    "duration": 268,
    "start_time": "2024-12-12T10:46:35.630Z"
   },
   {
    "duration": 6,
    "start_time": "2024-12-12T10:46:35.899Z"
   },
   {
    "duration": 44,
    "start_time": "2024-12-12T10:46:35.907Z"
   },
   {
    "duration": 44,
    "start_time": "2024-12-12T10:46:35.953Z"
   },
   {
    "duration": 12,
    "start_time": "2024-12-12T10:46:35.999Z"
   },
   {
    "duration": 32,
    "start_time": "2024-12-12T10:46:36.013Z"
   },
   {
    "duration": 25,
    "start_time": "2024-12-12T10:46:36.046Z"
   },
   {
    "duration": 8,
    "start_time": "2024-12-12T10:46:36.073Z"
   },
   {
    "duration": 6,
    "start_time": "2024-12-12T10:46:36.082Z"
   },
   {
    "duration": 7,
    "start_time": "2024-12-12T10:46:36.093Z"
   },
   {
    "duration": 5,
    "start_time": "2024-12-12T10:46:36.101Z"
   },
   {
    "duration": 17,
    "start_time": "2024-12-12T10:46:36.108Z"
   },
   {
    "duration": 12,
    "start_time": "2024-12-12T10:46:36.126Z"
   },
   {
    "duration": 9,
    "start_time": "2024-12-12T10:46:36.139Z"
   },
   {
    "duration": 12,
    "start_time": "2024-12-12T10:46:36.149Z"
   },
   {
    "duration": 6,
    "start_time": "2024-12-12T10:46:36.163Z"
   },
   {
    "duration": 18,
    "start_time": "2024-12-12T10:46:36.171Z"
   },
   {
    "duration": 6,
    "start_time": "2024-12-12T10:46:36.191Z"
   },
   {
    "duration": 30,
    "start_time": "2024-12-12T10:46:36.198Z"
   },
   {
    "duration": 2110,
    "start_time": "2024-12-12T10:46:36.230Z"
   },
   {
    "duration": 30721,
    "start_time": "2024-12-12T10:46:38.342Z"
   },
   {
    "duration": 37204,
    "start_time": "2024-12-12T10:47:09.065Z"
   },
   {
    "duration": 69966,
    "start_time": "2024-12-12T10:47:46.271Z"
   },
   {
    "duration": 1994489,
    "start_time": "2024-12-12T10:48:56.239Z"
   },
   {
    "duration": 7,
    "start_time": "2024-12-12T11:22:10.730Z"
   },
   {
    "duration": 125,
    "start_time": "2024-12-12T11:22:10.739Z"
   },
   {
    "duration": 21,
    "start_time": "2024-12-12T11:22:10.866Z"
   },
   {
    "duration": 12,
    "start_time": "2024-12-12T11:22:10.889Z"
   },
   {
    "duration": 13,
    "start_time": "2024-12-12T11:22:10.903Z"
   },
   {
    "duration": 16,
    "start_time": "2024-12-12T11:22:10.918Z"
   },
   {
    "duration": 52,
    "start_time": "2024-12-12T11:22:10.936Z"
   },
   {
    "duration": 40,
    "start_time": "2024-12-12T11:22:10.990Z"
   },
   {
    "duration": 37,
    "start_time": "2024-12-12T11:22:11.032Z"
   },
   {
    "duration": 4,
    "start_time": "2024-12-12T11:22:11.070Z"
   },
   {
    "duration": 7,
    "start_time": "2024-12-12T11:22:11.076Z"
   },
   {
    "duration": 19,
    "start_time": "2024-12-12T11:22:11.085Z"
   },
   {
    "duration": 60,
    "start_time": "2024-12-12T11:22:11.106Z"
   },
   {
    "duration": 32,
    "start_time": "2024-12-12T11:22:11.168Z"
   },
   {
    "duration": 40,
    "start_time": "2024-12-12T11:22:11.202Z"
   },
   {
    "duration": 4,
    "start_time": "2024-12-12T11:22:11.243Z"
   },
   {
    "duration": 5,
    "start_time": "2024-12-12T11:22:11.249Z"
   },
   {
    "duration": 4,
    "start_time": "2024-12-12T11:22:11.256Z"
   },
   {
    "duration": 11,
    "start_time": "2024-12-12T11:22:11.262Z"
   },
   {
    "duration": 59,
    "start_time": "2024-12-12T11:22:11.274Z"
   },
   {
    "duration": 11,
    "start_time": "2024-12-12T11:22:11.334Z"
   },
   {
    "duration": 4,
    "start_time": "2024-12-12T11:22:11.347Z"
   },
   {
    "duration": 79,
    "start_time": "2024-12-12T11:22:11.352Z"
   },
   {
    "duration": 4,
    "start_time": "2024-12-12T11:22:11.433Z"
   },
   {
    "duration": 13,
    "start_time": "2024-12-12T11:22:11.439Z"
   },
   {
    "duration": 10,
    "start_time": "2024-12-12T11:22:11.453Z"
   },
   {
    "duration": 10,
    "start_time": "2024-12-12T11:22:11.464Z"
   },
   {
    "duration": 8,
    "start_time": "2024-12-12T11:22:11.476Z"
   },
   {
    "duration": 18,
    "start_time": "2024-12-12T11:22:11.485Z"
   },
   {
    "duration": 8,
    "start_time": "2024-12-12T11:22:11.504Z"
   },
   {
    "duration": 6,
    "start_time": "2024-12-12T11:22:11.529Z"
   },
   {
    "duration": 13,
    "start_time": "2024-12-12T11:22:11.537Z"
   }
  ],
  "kernelspec": {
   "display_name": "Python 3 (ipykernel)",
   "language": "python",
   "name": "python3"
  },
  "language_info": {
   "codemirror_mode": {
    "name": "ipython",
    "version": 3
   },
   "file_extension": ".py",
   "mimetype": "text/x-python",
   "name": "python",
   "nbconvert_exporter": "python",
   "pygments_lexer": "ipython3",
   "version": "3.9.21"
  },
  "toc": {
   "base_numbering": 1,
   "nav_menu": {},
   "number_sections": true,
   "sideBar": true,
   "skip_h1_title": true,
   "title_cell": "Содержание",
   "title_sidebar": "Contents",
   "toc_cell": true,
   "toc_position": {},
   "toc_section_display": true,
   "toc_window_display": true
  }
 },
 "nbformat": 4,
 "nbformat_minor": 4
}
