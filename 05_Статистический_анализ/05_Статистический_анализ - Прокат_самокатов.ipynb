{
 "cells": [
  {
   "cell_type": "markdown",
   "id": "921ecec9",
   "metadata": {},
   "source": [
    "## Статистический анализ данных сервиса аренды самокатов"
   ]
  },
  {
   "cell_type": "markdown",
   "id": "9a0dc2fa",
   "metadata": {},
   "source": [
    "**Описание и цель проекта:**\n",
    "<bar> Исследовать данные о поездках некоторых пользователей сервиса аренды самокатов GoFast. Данные представлены для пользователей из нескольких городов.\n",
    "    \n",
    "<bar> Пользователи сервиса GoFast пользуются мобильным приложением. Сервисом можно пользоваться:\n",
    "1. без подписки\n",
    " - абонентская плата отсутствует;\n",
    " - стоимость одной минуты поездки — 8 рублей;\n",
    " - стоимость старта (начала поездки) — 50 рублей;\n",
    "2. с подпиской Ultra\n",
    " - абонентская плата — 199 рублей в месяц;\n",
    " - стоимость одной минуты поездки — 6 рублей;\n",
    " - стоимость старта — бесплатно.\n",
    "\n",
    "<bar>***Необходимо проверить следующие гипотезы:***\n",
    "    \n",
    "<bar>    - тратят ли пользователи с подпиской больше времени на поездки?\n",
    "    \n",
    "<bar>    - превышает ли среднее расстояние, которое проезжают пользователи с подпиской за одну поездку величину в 3130 метров? \n",
    "    \n",
    "<bar>    - помесячная выручка от пользователей с подпиской по месяцам выше, чем выручка от пользователей без подписки?\n",
    "    \n",
    "<bar>***Также необходимо дать ответы на вопросы отдела маркетинга, подробно описанные в п.6 в раздела \"План работы\", ниже.***"
   ]
  },
  {
   "cell_type": "markdown",
   "id": "5f61d100",
   "metadata": {},
   "source": [
    "**Описание данных:**\n",
    "    \n",
    "***Пользователи — users_go.csv***\n",
    "    \n",
    "*user_id* - уникальный идентификатор пользователя\n",
    "\n",
    "*name* - имя пользователя\n",
    "\n",
    "*age* - возраст\n",
    "\n",
    "*city* - город\n",
    "\n",
    "*subscription_type* - тип подписки (free, ultra)\n",
    "\n",
    "\n",
    "***Поездки — rides_go.csv***\n",
    "\n",
    "*user_id* - уникальный идентификатор пользователя\n",
    "\n",
    "*distance* - расстояние, которое пользователь проехал в текущей сессии (в метрах)\n",
    "\n",
    "*duration* - продолжительность сессии (в минутах) — время с того момента, как пользователь нажал кнопку «Начать поездку» до момента, как он нажал кнопку «Завершить поездку»\n",
    "\n",
    "*date* - дата совершения поездки\n",
    "\n",
    "***Подписки — subscriptions_go.csv***\n",
    "\n",
    "*subscription_type* - тип подписки\n",
    "\n",
    "*minute_price* - стоимость одной минуты поездки по данной подписке\n",
    "\n",
    "*start_ride_price* - стоимость начала поездки\n",
    "\n",
    "*subscription_fee* - стоимость ежемесячного платежа"
   ]
  },
  {
   "cell_type": "markdown",
   "id": "333677bc",
   "metadata": {},
   "source": [
    "**План работы:**\n",
    "1.  [Загрузка данных:](#section_id)\n",
    "- считать CSV-файлы с данными с помощью библиотеки pandas и сохранить их в датафреймы. \n",
    "- вывести первые строки каждого набора данных. Изучить общую информацию о каждом датафрейме.\n",
    "\n",
    "2. [Предобработка данных:](#section_id2)\n",
    "- привести столбец date к типу даты pandas.\n",
    "- создать новый столбец с номером месяца на основе столбца date.\n",
    "- проверить наличие пропущенных значений и дубликатов в датафреймах. Обработать их, если такие значения присутствуют.\n",
    "\n",
    "3. [Исследовательский анализ данных](#section_id3)\n",
    "Описать и визуализировать общую информацию о пользователях и поездках:\n",
    "- частота встречаемости городов;\n",
    "- соотношение пользователей с подпиской и без подписки;\n",
    "- возраст пользователей;\n",
    "- расстояние, которое пользователь преодолел за одну поездку;\n",
    "- продолжительность поездок.\n",
    "\n",
    "4. [Объединение данных](#section_id4)\n",
    "- объединить данные о пользователях, поездках и подписках в один датафрейм методом merge().\n",
    "- создать ещё два датафрейма из датафрейма, созданного на этапе 4.1:\n",
    "  c данными о пользователях без подписки;\n",
    "  с данными о пользователях с подпиской.   \n",
    "- визуализировать информацию о расстоянии и времени поездок для пользователей обеих категорий.\n",
    "\n",
    "5. [Подсчёт выручки](#section_id5)\n",
    "- создать датафрейм с агрегированными данными о поездках на основе датафрейма с объединёнными данными из шага 4: найти суммарное расстояние, количество поездок и суммарное время для каждого пользователя за каждый месяц.\n",
    "- в этот же датафрейм добавить столбец с помесячной выручкой, которую принёс каждый пользователь.\n",
    "\n",
    "6. [Проверка гипотез](#section_id6)\n",
    "- проверить гипотезу - тратят ли пользователи с подпиской больше времени на поездки? \n",
    "- проверить гипотезу - превышает ли среднее расстояние, которое проезжают пользователи с подпиской за одну поездку величину в 3130 метров?\n",
    "- проверить гипотезу -  будет ли помесячная выручка от пользователей с подпиской по месяцам выше, чем выручка от пользователей без подписки. \n",
    "- техническая команда сервиса обновила сервера, с которыми взаимодействует мобильное приложение. Она надеется, что из-за этого количество обращений в техподдержку значимо снизилось. Некоторый файл содержит для каждого пользователя данные о количестве обращений до обновления и после него. Дать ответ - какой тест понадобился бы для проверки этой гипотезы?\n",
    "\n",
    "7. [Распределения](#section_id7)\n",
    "- нужно провести акцию с раздачей промокодов на один бесплатный месяц подписки, в рамках которой как минимум 100 существующих клиентов должны продлить эту подписку. \n",
    "Эта акция уже проводилась ранее и по итогу выяснилось, что после бесплатного пробного периода подписку продлевают 10 % пользователей. Выяснить, какое минимальное количество промокодов нужно разослать, чтобы вероятность не выполнить план была примерно 5 %. Подобрать параметры распределения, описывающего эту ситуацию, построить график распределения и сформулировать ответ на вопрос о количестве промокодов.\n",
    "- отдел маркетинга рассылает клиентам push-уведомления в мобильном приложении. Клиенты могут открыть его или не открывать. Известно, что уведомления открывают около 40 % получивших клиентов. Отдел планирует разослать 1 млн уведомлений. С помощью аппроксимации постройте примерный график распределения и оцените вероятность того, что уведомление откроют не более 399,5 тыс. пользователей.\n",
    "\n",
    "8. [Общий вывод](#section_id8)"
   ]
  },
  {
   "cell_type": "markdown",
   "id": "d2355192",
   "metadata": {},
   "source": [
    "Загружаем необходимые для выполнения исследований библиотеки:"
   ]
  },
  {
   "cell_type": "code",
   "execution_count": 2,
   "id": "72576667",
   "metadata": {},
   "outputs": [],
   "source": [
    "import pandas as pd\n",
    "import numpy as np \n",
    "from scipy import stats as st\n",
    "from scipy.stats import binom, norm\n",
    "from matplotlib import pyplot as plt\n",
    "from math import factorial\n",
    "from math import sqrt\n",
    "from matplotlib.lines import Line2D"
   ]
  },
  {
   "cell_type": "markdown",
   "id": "c42cbe00",
   "metadata": {},
   "source": [
    "### Шаг 1. Загрузка данных  \n",
    "<a id='section_id'></a>"
   ]
  },
  {
   "cell_type": "markdown",
   "id": "d2ef8c64",
   "metadata": {},
   "source": [
    "Загружаем датафрейм с информацией о пользователях: "
   ]
  },
  {
   "cell_type": "code",
   "execution_count": 3,
   "id": "eff9f206",
   "metadata": {},
   "outputs": [],
   "source": [
    "users = pd.read_csv('/datasets/users_go.csv')"
   ]
  },
  {
   "cell_type": "markdown",
   "id": "8dd6deae",
   "metadata": {},
   "source": [
    "Информация о поездках:"
   ]
  },
  {
   "cell_type": "code",
   "execution_count": 4,
   "id": "8c0564d1",
   "metadata": {},
   "outputs": [],
   "source": [
    "rides = pd.read_csv('/datasets/rides_go.csv')"
   ]
  },
  {
   "cell_type": "markdown",
   "id": "21b6c2cc",
   "metadata": {},
   "source": [
    "Информация о подписках:"
   ]
  },
  {
   "cell_type": "code",
   "execution_count": 5,
   "id": "f6f0ec1b",
   "metadata": {},
   "outputs": [],
   "source": [
    "sub = pd.read_csv('/datasets/subscriptions_go.csv')"
   ]
  },
  {
   "cell_type": "markdown",
   "id": "382add48",
   "metadata": {},
   "source": [
    "Создадим функцию, выводящую первые 5 строк датафрейма, а также общую информацию о нем:"
   ]
  },
  {
   "cell_type": "code",
   "execution_count": 6,
   "id": "f874b404",
   "metadata": {},
   "outputs": [],
   "source": [
    "def preprocess(dataframe):\n",
    "    \n",
    "    print(dataframe.head())\n",
    "    print()\n",
    "    print(dataframe.info())\n",
    "    \n",
    "    return   "
   ]
  },
  {
   "cell_type": "markdown",
   "id": "3035f87e",
   "metadata": {},
   "source": [
    "Применим функцию preprocess к датафрейму users:"
   ]
  },
  {
   "cell_type": "code",
   "execution_count": 7,
   "id": "707fa596",
   "metadata": {},
   "outputs": [
    {
     "name": "stdout",
     "output_type": "stream",
     "text": [
      "   user_id        name  age            city subscription_type\n",
      "0        1        Кира   22          Тюмень             ultra\n",
      "1        2   Станислав   31            Омск             ultra\n",
      "2        3     Алексей   20          Москва             ultra\n",
      "3        4  Константин   26  Ростов-на-Дону             ultra\n",
      "4        5       Адель   28            Омск             ultra\n",
      "\n",
      "<class 'pandas.core.frame.DataFrame'>\n",
      "RangeIndex: 1565 entries, 0 to 1564\n",
      "Data columns (total 5 columns):\n",
      " #   Column             Non-Null Count  Dtype \n",
      "---  ------             --------------  ----- \n",
      " 0   user_id            1565 non-null   int64 \n",
      " 1   name               1565 non-null   object\n",
      " 2   age                1565 non-null   int64 \n",
      " 3   city               1565 non-null   object\n",
      " 4   subscription_type  1565 non-null   object\n",
      "dtypes: int64(2), object(3)\n",
      "memory usage: 61.3+ KB\n",
      "None\n"
     ]
    }
   ],
   "source": [
    "preprocess(users)"
   ]
  },
  {
   "cell_type": "markdown",
   "id": "ba2966b8",
   "metadata": {},
   "source": [
    "Применим функцию preprocess к датафрейму rides:"
   ]
  },
  {
   "cell_type": "code",
   "execution_count": 8,
   "id": "3d2b1ae5",
   "metadata": {},
   "outputs": [
    {
     "name": "stdout",
     "output_type": "stream",
     "text": [
      "   user_id     distance   duration        date\n",
      "0        1  4409.919140  25.599769  2021-01-01\n",
      "1        1  2617.592153  15.816871  2021-01-18\n",
      "2        1   754.159807   6.232113  2021-04-20\n",
      "3        1  2694.783254  18.511000  2021-08-11\n",
      "4        1  4028.687306  26.265803  2021-08-28\n",
      "\n",
      "<class 'pandas.core.frame.DataFrame'>\n",
      "RangeIndex: 18068 entries, 0 to 18067\n",
      "Data columns (total 4 columns):\n",
      " #   Column    Non-Null Count  Dtype  \n",
      "---  ------    --------------  -----  \n",
      " 0   user_id   18068 non-null  int64  \n",
      " 1   distance  18068 non-null  float64\n",
      " 2   duration  18068 non-null  float64\n",
      " 3   date      18068 non-null  object \n",
      "dtypes: float64(2), int64(1), object(1)\n",
      "memory usage: 564.8+ KB\n",
      "None\n"
     ]
    }
   ],
   "source": [
    "preprocess(rides)"
   ]
  },
  {
   "cell_type": "markdown",
   "id": "52338ad5",
   "metadata": {},
   "source": [
    "Применим функцию preprocess к датафрейму sub:"
   ]
  },
  {
   "cell_type": "code",
   "execution_count": 9,
   "id": "eb8af5f3",
   "metadata": {},
   "outputs": [
    {
     "name": "stdout",
     "output_type": "stream",
     "text": [
      "  subscription_type  minute_price  start_ride_price  subscription_fee\n",
      "0              free             8                50                 0\n",
      "1             ultra             6                 0               199\n",
      "\n",
      "<class 'pandas.core.frame.DataFrame'>\n",
      "RangeIndex: 2 entries, 0 to 1\n",
      "Data columns (total 4 columns):\n",
      " #   Column             Non-Null Count  Dtype \n",
      "---  ------             --------------  ----- \n",
      " 0   subscription_type  2 non-null      object\n",
      " 1   minute_price       2 non-null      int64 \n",
      " 2   start_ride_price   2 non-null      int64 \n",
      " 3   subscription_fee   2 non-null      int64 \n",
      "dtypes: int64(3), object(1)\n",
      "memory usage: 192.0+ bytes\n",
      "None\n"
     ]
    }
   ],
   "source": [
    "preprocess(sub)"
   ]
  },
  {
   "cell_type": "markdown",
   "id": "3dae686e",
   "metadata": {},
   "source": [
    "**Вывод:** Необходимые для проведения анализа данные загружены, выведены первые строки каждого датасета и общая информация о нём."
   ]
  },
  {
   "cell_type": "markdown",
   "id": "e95ebca7",
   "metadata": {},
   "source": [
    "### Шаг 2. Предобработка данных\n",
    "<a id='section_id2'></a>"
   ]
  },
  {
   "cell_type": "markdown",
   "id": "dbd69206",
   "metadata": {},
   "source": [
    "В датасете *rides* преобразуем тип столбца date к типу datetime:"
   ]
  },
  {
   "cell_type": "code",
   "execution_count": 9,
   "id": "19c2ba8b",
   "metadata": {},
   "outputs": [],
   "source": [
    "rides['date'] = pd.to_datetime(rides['date'], format = '%Y-%m-%d')"
   ]
  },
  {
   "cell_type": "markdown",
   "id": "86b36c38",
   "metadata": {},
   "source": [
    "Проверим что преобразование прошло корректно:"
   ]
  },
  {
   "cell_type": "code",
   "execution_count": 10,
   "id": "114d1f43",
   "metadata": {},
   "outputs": [
    {
     "data": {
      "text/plain": [
       "user_id              int64\n",
       "distance           float64\n",
       "duration           float64\n",
       "date        datetime64[ns]\n",
       "dtype: object"
      ]
     },
     "execution_count": 10,
     "metadata": {},
     "output_type": "execute_result"
    }
   ],
   "source": [
    "rides.dtypes"
   ]
  },
  {
   "cell_type": "markdown",
   "id": "48707838",
   "metadata": {},
   "source": [
    "В датасете rides cоздадим новый столбец с номером месяца на основе столбца date:"
   ]
  },
  {
   "cell_type": "code",
   "execution_count": 11,
   "id": "b7fc1e11",
   "metadata": {},
   "outputs": [],
   "source": [
    "rides['month'] = rides['date'].dt.month"
   ]
  },
  {
   "cell_type": "markdown",
   "id": "5b0a0c9c",
   "metadata": {},
   "source": [
    "Проверим, что новый столбец сформирован:"
   ]
  },
  {
   "cell_type": "code",
   "execution_count": 12,
   "id": "d09c7190",
   "metadata": {},
   "outputs": [
    {
     "data": {
      "text/html": [
       "<div>\n",
       "<style scoped>\n",
       "    .dataframe tbody tr th:only-of-type {\n",
       "        vertical-align: middle;\n",
       "    }\n",
       "\n",
       "    .dataframe tbody tr th {\n",
       "        vertical-align: top;\n",
       "    }\n",
       "\n",
       "    .dataframe thead th {\n",
       "        text-align: right;\n",
       "    }\n",
       "</style>\n",
       "<table border=\"1\" class=\"dataframe\">\n",
       "  <thead>\n",
       "    <tr style=\"text-align: right;\">\n",
       "      <th></th>\n",
       "      <th>user_id</th>\n",
       "      <th>distance</th>\n",
       "      <th>duration</th>\n",
       "      <th>date</th>\n",
       "      <th>month</th>\n",
       "    </tr>\n",
       "  </thead>\n",
       "  <tbody>\n",
       "    <tr>\n",
       "      <th>0</th>\n",
       "      <td>1</td>\n",
       "      <td>4409.919140</td>\n",
       "      <td>25.599769</td>\n",
       "      <td>2021-01-01</td>\n",
       "      <td>1</td>\n",
       "    </tr>\n",
       "    <tr>\n",
       "      <th>1</th>\n",
       "      <td>1</td>\n",
       "      <td>2617.592153</td>\n",
       "      <td>15.816871</td>\n",
       "      <td>2021-01-18</td>\n",
       "      <td>1</td>\n",
       "    </tr>\n",
       "    <tr>\n",
       "      <th>2</th>\n",
       "      <td>1</td>\n",
       "      <td>754.159807</td>\n",
       "      <td>6.232113</td>\n",
       "      <td>2021-04-20</td>\n",
       "      <td>4</td>\n",
       "    </tr>\n",
       "    <tr>\n",
       "      <th>3</th>\n",
       "      <td>1</td>\n",
       "      <td>2694.783254</td>\n",
       "      <td>18.511000</td>\n",
       "      <td>2021-08-11</td>\n",
       "      <td>8</td>\n",
       "    </tr>\n",
       "    <tr>\n",
       "      <th>4</th>\n",
       "      <td>1</td>\n",
       "      <td>4028.687306</td>\n",
       "      <td>26.265803</td>\n",
       "      <td>2021-08-28</td>\n",
       "      <td>8</td>\n",
       "    </tr>\n",
       "  </tbody>\n",
       "</table>\n",
       "</div>"
      ],
      "text/plain": [
       "   user_id     distance   duration       date  month\n",
       "0        1  4409.919140  25.599769 2021-01-01      1\n",
       "1        1  2617.592153  15.816871 2021-01-18      1\n",
       "2        1   754.159807   6.232113 2021-04-20      4\n",
       "3        1  2694.783254  18.511000 2021-08-11      8\n",
       "4        1  4028.687306  26.265803 2021-08-28      8"
      ]
     },
     "execution_count": 12,
     "metadata": {},
     "output_type": "execute_result"
    }
   ],
   "source": [
    "rides.head()"
   ]
  },
  {
   "cell_type": "markdown",
   "id": "8fbf5436",
   "metadata": {},
   "source": [
    "Для удобства работы округлим значения столбца distance до двух знаков после запятой:"
   ]
  },
  {
   "cell_type": "code",
   "execution_count": 13,
   "id": "bda6d6f3",
   "metadata": {},
   "outputs": [],
   "source": [
    "rides['distance'] = rides['distance'].round(2)"
   ]
  },
  {
   "cell_type": "markdown",
   "id": "d755ebe9",
   "metadata": {},
   "source": [
    "Проверим что округление прошло корректно:"
   ]
  },
  {
   "cell_type": "code",
   "execution_count": 14,
   "id": "15c92559",
   "metadata": {},
   "outputs": [
    {
     "data": {
      "text/html": [
       "<div>\n",
       "<style scoped>\n",
       "    .dataframe tbody tr th:only-of-type {\n",
       "        vertical-align: middle;\n",
       "    }\n",
       "\n",
       "    .dataframe tbody tr th {\n",
       "        vertical-align: top;\n",
       "    }\n",
       "\n",
       "    .dataframe thead th {\n",
       "        text-align: right;\n",
       "    }\n",
       "</style>\n",
       "<table border=\"1\" class=\"dataframe\">\n",
       "  <thead>\n",
       "    <tr style=\"text-align: right;\">\n",
       "      <th></th>\n",
       "      <th>user_id</th>\n",
       "      <th>distance</th>\n",
       "      <th>duration</th>\n",
       "      <th>date</th>\n",
       "      <th>month</th>\n",
       "    </tr>\n",
       "  </thead>\n",
       "  <tbody>\n",
       "    <tr>\n",
       "      <th>0</th>\n",
       "      <td>1</td>\n",
       "      <td>4409.92</td>\n",
       "      <td>25.599769</td>\n",
       "      <td>2021-01-01</td>\n",
       "      <td>1</td>\n",
       "    </tr>\n",
       "    <tr>\n",
       "      <th>1</th>\n",
       "      <td>1</td>\n",
       "      <td>2617.59</td>\n",
       "      <td>15.816871</td>\n",
       "      <td>2021-01-18</td>\n",
       "      <td>1</td>\n",
       "    </tr>\n",
       "    <tr>\n",
       "      <th>2</th>\n",
       "      <td>1</td>\n",
       "      <td>754.16</td>\n",
       "      <td>6.232113</td>\n",
       "      <td>2021-04-20</td>\n",
       "      <td>4</td>\n",
       "    </tr>\n",
       "    <tr>\n",
       "      <th>3</th>\n",
       "      <td>1</td>\n",
       "      <td>2694.78</td>\n",
       "      <td>18.511000</td>\n",
       "      <td>2021-08-11</td>\n",
       "      <td>8</td>\n",
       "    </tr>\n",
       "    <tr>\n",
       "      <th>4</th>\n",
       "      <td>1</td>\n",
       "      <td>4028.69</td>\n",
       "      <td>26.265803</td>\n",
       "      <td>2021-08-28</td>\n",
       "      <td>8</td>\n",
       "    </tr>\n",
       "  </tbody>\n",
       "</table>\n",
       "</div>"
      ],
      "text/plain": [
       "   user_id  distance   duration       date  month\n",
       "0        1   4409.92  25.599769 2021-01-01      1\n",
       "1        1   2617.59  15.816871 2021-01-18      1\n",
       "2        1    754.16   6.232113 2021-04-20      4\n",
       "3        1   2694.78  18.511000 2021-08-11      8\n",
       "4        1   4028.69  26.265803 2021-08-28      8"
      ]
     },
     "execution_count": 14,
     "metadata": {},
     "output_type": "execute_result"
    }
   ],
   "source": [
    "rides.head()"
   ]
  },
  {
   "cell_type": "markdown",
   "id": "8f34f328",
   "metadata": {},
   "source": [
    "Проверим датасеты на наличие пропусков в данных:"
   ]
  },
  {
   "cell_type": "code",
   "execution_count": 15,
   "id": "4ff26f6f",
   "metadata": {},
   "outputs": [
    {
     "data": {
      "text/plain": [
       "user_id              0\n",
       "name                 0\n",
       "age                  0\n",
       "city                 0\n",
       "subscription_type    0\n",
       "dtype: int64"
      ]
     },
     "execution_count": 15,
     "metadata": {},
     "output_type": "execute_result"
    }
   ],
   "source": [
    "users.isna().sum()"
   ]
  },
  {
   "cell_type": "code",
   "execution_count": 16,
   "id": "8aa2d781",
   "metadata": {},
   "outputs": [
    {
     "data": {
      "text/plain": [
       "user_id     0\n",
       "distance    0\n",
       "duration    0\n",
       "date        0\n",
       "month       0\n",
       "dtype: int64"
      ]
     },
     "execution_count": 16,
     "metadata": {},
     "output_type": "execute_result"
    }
   ],
   "source": [
    "rides.isna().sum()"
   ]
  },
  {
   "cell_type": "code",
   "execution_count": 17,
   "id": "269cfb97",
   "metadata": {},
   "outputs": [
    {
     "data": {
      "text/plain": [
       "subscription_type    0\n",
       "minute_price         0\n",
       "start_ride_price     0\n",
       "subscription_fee     0\n",
       "dtype: int64"
      ]
     },
     "execution_count": 17,
     "metadata": {},
     "output_type": "execute_result"
    }
   ],
   "source": [
    "sub.isna().sum()"
   ]
  },
  {
   "cell_type": "markdown",
   "id": "d64f27e8",
   "metadata": {},
   "source": [
    "Проверим датасеты на наличие явных дубликатов:"
   ]
  },
  {
   "cell_type": "code",
   "execution_count": 18,
   "id": "d91f6421",
   "metadata": {},
   "outputs": [
    {
     "data": {
      "text/plain": [
       "31"
      ]
     },
     "execution_count": 18,
     "metadata": {},
     "output_type": "execute_result"
    }
   ],
   "source": [
    "users.duplicated().sum()"
   ]
  },
  {
   "cell_type": "code",
   "execution_count": 19,
   "id": "a3fdca07",
   "metadata": {},
   "outputs": [
    {
     "data": {
      "text/plain": [
       "0"
      ]
     },
     "execution_count": 19,
     "metadata": {},
     "output_type": "execute_result"
    }
   ],
   "source": [
    "rides.duplicated().sum()"
   ]
  },
  {
   "cell_type": "code",
   "execution_count": 20,
   "id": "9ab8bb1b",
   "metadata": {},
   "outputs": [
    {
     "data": {
      "text/plain": [
       "0"
      ]
     },
     "execution_count": 20,
     "metadata": {},
     "output_type": "execute_result"
    }
   ],
   "source": [
    "sub.duplicated().sum()"
   ]
  },
  {
   "cell_type": "markdown",
   "id": "02e5c93d",
   "metadata": {},
   "source": [
    "Удалим выявленные явные дубликаты в датасете *users*:"
   ]
  },
  {
   "cell_type": "code",
   "execution_count": 21,
   "id": "08b1fe69",
   "metadata": {},
   "outputs": [],
   "source": [
    "users = users.drop_duplicates().reset_index(drop=True)"
   ]
  },
  {
   "cell_type": "markdown",
   "id": "9ad6eef8",
   "metadata": {},
   "source": [
    "Проверим что удаление выполнено корректно:"
   ]
  },
  {
   "cell_type": "code",
   "execution_count": 22,
   "id": "d36e6f89",
   "metadata": {},
   "outputs": [
    {
     "data": {
      "text/plain": [
       "0"
      ]
     },
     "execution_count": 22,
     "metadata": {},
     "output_type": "execute_result"
    }
   ],
   "source": [
    "users.duplicated().sum()"
   ]
  },
  {
   "cell_type": "markdown",
   "id": "b2464141",
   "metadata": {},
   "source": [
    "Проверим датасет *users* на возможные неявные дубликаты в столбце 'city':"
   ]
  },
  {
   "cell_type": "code",
   "execution_count": 23,
   "id": "61558d90",
   "metadata": {},
   "outputs": [
    {
     "data": {
      "text/plain": [
       "array(['Тюмень', 'Омск', 'Москва', 'Ростов-на-Дону', 'Краснодар',\n",
       "       'Пятигорск', 'Екатеринбург', 'Сочи'], dtype=object)"
      ]
     },
     "execution_count": 23,
     "metadata": {},
     "output_type": "execute_result"
    }
   ],
   "source": [
    "users['city'].unique()"
   ]
  },
  {
   "cell_type": "markdown",
   "id": "1c55fd14",
   "metadata": {},
   "source": [
    "**Вывод:** Выполнена предобработка данных: \n",
    "- в датасете *rides* тип данных в столбце 'date' приведен к типу *datetime*\n",
    "- в датасете *usrers* удалён 31 выявленный неявный дубликат"
   ]
  },
  {
   "cell_type": "markdown",
   "id": "212593c7",
   "metadata": {},
   "source": [
    "### Шаг 3. Исследовательский анализ данных\n",
    "<a id='section_id3'></a>"
   ]
  },
  {
   "cell_type": "markdown",
   "id": "c9c303f5",
   "metadata": {},
   "source": [
    "Исследуем частоту встречаемости городов в датасете users:"
   ]
  },
  {
   "cell_type": "code",
   "execution_count": 24,
   "id": "03f8756a",
   "metadata": {},
   "outputs": [
    {
     "data": {
      "text/plain": [
       "Пятигорск         219\n",
       "Екатеринбург      204\n",
       "Ростов-на-Дону    198\n",
       "Краснодар         193\n",
       "Сочи              189\n",
       "Омск              183\n",
       "Тюмень            180\n",
       "Москва            168\n",
       "Name: city, dtype: int64"
      ]
     },
     "execution_count": 24,
     "metadata": {},
     "output_type": "execute_result"
    }
   ],
   "source": [
    "users['city'].value_counts()"
   ]
  },
  {
   "cell_type": "code",
   "execution_count": 25,
   "id": "5ff83192",
   "metadata": {},
   "outputs": [
    {
     "data": {
      "image/png": "[encoded data removed]",
      "text/plain": [
       "<Figure size 1080x360 with 1 Axes>"
      ]
     },
     "metadata": {
      "needs_background": "light"
     },
     "output_type": "display_data"
    }
   ],
   "source": [
    "(users['city']\n",
    " .value_counts()\n",
    " .sort_values()\n",
    " .plot(kind='barh', title='Частота встречаемости городов в датасете', figsize=(15,5), grid=True, color='green')\n",
    ");\n",
    "plt.xlabel('Частота')\n",
    "plt.ylabel('Города')\n",
    "plt.show()"
   ]
  },
  {
   "cell_type": "markdown",
   "id": "3bf9938d",
   "metadata": {},
   "source": [
    "Чаще всего в датасете встречается город Пятигорск, реже всего - Москва"
   ]
  },
  {
   "cell_type": "markdown",
   "id": "940354d4",
   "metadata": {},
   "source": [
    "Проанализируем соотношение пользователей с подпиской и без подписки:"
   ]
  },
  {
   "cell_type": "markdown",
   "id": "4d26893c",
   "metadata": {},
   "source": [
    "Подсчитаем количество пользователей c и без подписки:"
   ]
  },
  {
   "cell_type": "code",
   "execution_count": 26,
   "id": "90bb3b1c",
   "metadata": {},
   "outputs": [
    {
     "data": {
      "text/plain": [
       "free     835\n",
       "ultra    699\n",
       "Name: subscription_type, dtype: int64"
      ]
     },
     "execution_count": 26,
     "metadata": {},
     "output_type": "execute_result"
    }
   ],
   "source": [
    "users['subscription_type'].value_counts()"
   ]
  },
  {
   "cell_type": "markdown",
   "id": "2d69352b",
   "metadata": {},
   "source": [
    "Найдем соотношение пользователей без подписки к пользователям с подпиской:"
   ]
  },
  {
   "cell_type": "code",
   "execution_count": 27,
   "id": "1085e74e",
   "metadata": {},
   "outputs": [
    {
     "data": {
      "text/plain": [
       "1.1945636623748213"
      ]
     },
     "execution_count": 27,
     "metadata": {},
     "output_type": "execute_result"
    }
   ],
   "source": [
    "len(users[users['subscription_type'] == 'free'])/len(users[users['subscription_type']== 'ultra'])"
   ]
  },
  {
   "cell_type": "markdown",
   "id": "dca8eeb9",
   "metadata": {},
   "source": [
    "Визуализируем соотношение пользователей с и без подписки:"
   ]
  },
  {
   "cell_type": "code",
   "execution_count": 28,
   "id": "a255ec77",
   "metadata": {},
   "outputs": [
    {
     "data": {
      "image/png": "[encoded data removed]",
      "text/plain": [
       "<Figure size 504x504 with 1 Axes>"
      ]
     },
     "metadata": {},
     "output_type": "display_data"
    }
   ],
   "source": [
    "users['subscription_type'].value_counts().plot(kind='pie', title='Соотношение пользователей без подписки и с подпиской ultra', \n",
    "                                               autopct='%1.0f%%', figsize = (7,7), startangle=90);"
   ]
  },
  {
   "cell_type": "markdown",
   "id": "66acde4d",
   "metadata": {},
   "source": [
    "Доля пользователй без подписки составляет 54%, без подписки - 46%"
   ]
  },
  {
   "cell_type": "markdown",
   "id": "c4ce701f",
   "metadata": {},
   "source": [
    "Изучим возраст пользователей сервиса:"
   ]
  },
  {
   "cell_type": "code",
   "execution_count": 29,
   "id": "96249e0d",
   "metadata": {},
   "outputs": [
    {
     "data": {
      "text/plain": [
       "25    145\n",
       "24    132\n",
       "26    131\n",
       "23    129\n",
       "27    119\n",
       "22    119\n",
       "28    112\n",
       "21     93\n",
       "20     71\n",
       "30     68\n",
       "29     68\n",
       "31     48\n",
       "19     47\n",
       "18     46\n",
       "32     41\n",
       "33     39\n",
       "17     26\n",
       "34     19\n",
       "16     19\n",
       "35     15\n",
       "15     13\n",
       "14      9\n",
       "13      8\n",
       "36      6\n",
       "12      4\n",
       "38      3\n",
       "37      2\n",
       "39      1\n",
       "43      1\n",
       "Name: age, dtype: int64"
      ]
     },
     "execution_count": 29,
     "metadata": {},
     "output_type": "execute_result"
    }
   ],
   "source": [
    "users['age'].value_counts().sort_values(ascending=False)"
   ]
  },
  {
   "cell_type": "code",
   "execution_count": 30,
   "id": "5d599ff6",
   "metadata": {},
   "outputs": [
    {
     "data": {
      "image/png": "[encoded data removed]",
      "text/plain": [
       "<Figure size 1080x576 with 1 Axes>"
      ]
     },
     "metadata": {
      "needs_background": "light"
     },
     "output_type": "display_data"
    }
   ],
   "source": [
    "users['age'].plot(kind='hist', figsize=(15,8), bins = (30), \n",
    "                  grid=True, color='red', title='Распределение количества пользователей по возрасту')\n",
    "\n",
    "plt.xlabel('Возраст пользователей')\n",
    "plt.ylabel('Частота')\n",
    "plt.show()"
   ]
  },
  {
   "cell_type": "markdown",
   "id": "75731d5c",
   "metadata": {},
   "source": [
    "Как видно из гистограммы выше, распределение пользователей по возрастам имеет выраженный пик на отметке в 25 лет,с дальнейшим распределением возраста, близким к нормальному распределению случайной велиины, на интервале от 12-ти до 43-х лет."
   ]
  },
  {
   "cell_type": "markdown",
   "id": "dea45fdd",
   "metadata": {},
   "source": [
    "Для лучшей читаемости графика, разобьем пользователей на следующие категории возрастов:\n",
    "- 0-15 - 'до 15 лет';\n",
    "- 16-20 - 'до 20 лет';\n",
    "- 21-25 - 'до 25 лет';\n",
    "- 26-30 - 'до 30 лет';\n",
    "- 31-35 - 'до 35 лет';\n",
    "- 36-40 - 'до 40 лет';\n",
    "- более 40 - 'более 40 лет'"
   ]
  },
  {
   "cell_type": "code",
   "execution_count": 31,
   "id": "f5b148aa",
   "metadata": {},
   "outputs": [],
   "source": [
    "def categorize_age(age):\n",
    "    try:\n",
    "        if 0 <= age < 16:\n",
    "            return 'до 15 лет'\n",
    "        elif 16 <= age < 21:\n",
    "            return 'до 20 лет'\n",
    "        elif 21 <= age < 26:\n",
    "            return 'до 25 лет'\n",
    "        elif 26 <= age < 31:\n",
    "            return 'до 30 лет'\n",
    "        elif 31 <= age < 36:\n",
    "            return 'до 35 лет'\n",
    "        elif 36 <= age < 41:\n",
    "            return 'до 40 лет'\n",
    "        elif age > 40:\n",
    "            return 'более 40 лет'\n",
    "    except:\n",
    "        pass     "
   ]
  },
  {
   "cell_type": "code",
   "execution_count": 32,
   "id": "a08b1511",
   "metadata": {},
   "outputs": [],
   "source": [
    "users['age_category'] = users['age'].apply(categorize_age)"
   ]
  },
  {
   "cell_type": "code",
   "execution_count": 33,
   "id": "732e4c11",
   "metadata": {},
   "outputs": [
    {
     "data": {
      "text/html": [
       "<div>\n",
       "<style scoped>\n",
       "    .dataframe tbody tr th:only-of-type {\n",
       "        vertical-align: middle;\n",
       "    }\n",
       "\n",
       "    .dataframe tbody tr th {\n",
       "        vertical-align: top;\n",
       "    }\n",
       "\n",
       "    .dataframe thead th {\n",
       "        text-align: right;\n",
       "    }\n",
       "</style>\n",
       "<table border=\"1\" class=\"dataframe\">\n",
       "  <thead>\n",
       "    <tr style=\"text-align: right;\">\n",
       "      <th></th>\n",
       "      <th>user_id</th>\n",
       "      <th>name</th>\n",
       "      <th>age</th>\n",
       "      <th>city</th>\n",
       "      <th>subscription_type</th>\n",
       "      <th>age_category</th>\n",
       "    </tr>\n",
       "  </thead>\n",
       "  <tbody>\n",
       "    <tr>\n",
       "      <th>0</th>\n",
       "      <td>1</td>\n",
       "      <td>Кира</td>\n",
       "      <td>22</td>\n",
       "      <td>Тюмень</td>\n",
       "      <td>ultra</td>\n",
       "      <td>до 25 лет</td>\n",
       "    </tr>\n",
       "    <tr>\n",
       "      <th>1</th>\n",
       "      <td>2</td>\n",
       "      <td>Станислав</td>\n",
       "      <td>31</td>\n",
       "      <td>Омск</td>\n",
       "      <td>ultra</td>\n",
       "      <td>до 35 лет</td>\n",
       "    </tr>\n",
       "    <tr>\n",
       "      <th>2</th>\n",
       "      <td>3</td>\n",
       "      <td>Алексей</td>\n",
       "      <td>20</td>\n",
       "      <td>Москва</td>\n",
       "      <td>ultra</td>\n",
       "      <td>до 20 лет</td>\n",
       "    </tr>\n",
       "    <tr>\n",
       "      <th>3</th>\n",
       "      <td>4</td>\n",
       "      <td>Константин</td>\n",
       "      <td>26</td>\n",
       "      <td>Ростов-на-Дону</td>\n",
       "      <td>ultra</td>\n",
       "      <td>до 30 лет</td>\n",
       "    </tr>\n",
       "    <tr>\n",
       "      <th>4</th>\n",
       "      <td>5</td>\n",
       "      <td>Адель</td>\n",
       "      <td>28</td>\n",
       "      <td>Омск</td>\n",
       "      <td>ultra</td>\n",
       "      <td>до 30 лет</td>\n",
       "    </tr>\n",
       "  </tbody>\n",
       "</table>\n",
       "</div>"
      ],
      "text/plain": [
       "   user_id        name  age            city subscription_type age_category\n",
       "0        1        Кира   22          Тюмень             ultra    до 25 лет\n",
       "1        2   Станислав   31            Омск             ultra    до 35 лет\n",
       "2        3     Алексей   20          Москва             ultra    до 20 лет\n",
       "3        4  Константин   26  Ростов-на-Дону             ultra    до 30 лет\n",
       "4        5       Адель   28            Омск             ultra    до 30 лет"
      ]
     },
     "execution_count": 33,
     "metadata": {},
     "output_type": "execute_result"
    }
   ],
   "source": [
    "users.head()"
   ]
  },
  {
   "cell_type": "code",
   "execution_count": 34,
   "id": "9abf7c35",
   "metadata": {},
   "outputs": [
    {
     "data": {
      "image/png": "[encoded data removed]",
      "text/plain": [
       "<Figure size 1080x360 with 1 Axes>"
      ]
     },
     "metadata": {
      "needs_background": "light"
     },
     "output_type": "display_data"
    }
   ],
   "source": [
    "(users['age_category']\n",
    " .value_counts()\n",
    " .sort_values(ascending=True)\n",
    " .plot(kind='barh', figsize=(15,5), grid=True, color='red',title = 'Распределение количества пользователей по возрасту'));\n",
    "plt.xlabel('Количество пользователей')\n",
    "plt.ylabel('Возрастные группы (включительно)')\n",
    "plt.show()"
   ]
  },
  {
   "cell_type": "markdown",
   "id": "b78f821f",
   "metadata": {},
   "source": [
    "Шире всего в составе пользователей представлена возрастная группа \"до 25 лет\" (от 20-ти до 25-ти вкл.), самая малочисленная группа - \"более 40 лет\" (41 год и старше)."
   ]
  },
  {
   "cell_type": "markdown",
   "id": "43e27b42",
   "metadata": {},
   "source": [
    "Изучим расстояние, которое пользователь преодолевает за одну поездку.\n",
    "\n",
    "\n",
    "Выведем основные статистические параметры по столбцу distance:"
   ]
  },
  {
   "cell_type": "code",
   "execution_count": 35,
   "id": "d6ba1ce0",
   "metadata": {},
   "outputs": [
    {
     "data": {
      "text/plain": [
       "count    18068.000000\n",
       "mean      3070.659992\n",
       "std       1116.831222\n",
       "min          0.860000\n",
       "25%       2543.227500\n",
       "50%       3133.610000\n",
       "75%       3776.220000\n",
       "max       7211.010000\n",
       "Name: distance, dtype: float64"
      ]
     },
     "execution_count": 35,
     "metadata": {},
     "output_type": "execute_result"
    }
   ],
   "source": [
    "rides['distance'].describe()"
   ]
  },
  {
   "cell_type": "markdown",
   "id": "f8ed0e77",
   "metadata": {},
   "source": [
    "Как видно из таблицы выше, между средним значением и медианой нет существенного различия, что говорит об отсутствии в датасете существенных \"выбросов\""
   ]
  },
  {
   "cell_type": "markdown",
   "id": "15f21548",
   "metadata": {},
   "source": [
    "Выведем распределение расстояний предолеваемых пользователями, в виде гистограммы:"
   ]
  },
  {
   "cell_type": "code",
   "execution_count": 36,
   "id": "30362ba3",
   "metadata": {},
   "outputs": [
    {
     "data": {
      "image/png": "[encoded data removed]",
      "text/plain": [
       "<Figure size 1080x360 with 1 Axes>"
      ]
     },
     "metadata": {
      "needs_background": "light"
     },
     "output_type": "display_data"
    }
   ],
   "source": [
    "rides['distance'].plot(kind='hist', figsize=(15,5), bins=100, grid = True,\n",
    "                       title='Распределение расстояний пройденных в рамках поездки')\n",
    "plt.xlabel('Растояние поездки, м')\n",
    "plt.ylabel('Частота')\n",
    "plt.show()"
   ]
  },
  {
   "cell_type": "markdown",
   "id": "3bbe2360",
   "metadata": {},
   "source": [
    "Как видно из графика выше, распределение величины расстояния поездки образует два пика нормального распределения, с вершинами в районе 500 и 3000 метров соответственно. Рассмотрим подробнее первый \"колокол\", в частности его значения в районе 0."
   ]
  },
  {
   "cell_type": "code",
   "execution_count": 37,
   "id": "459be2fe",
   "metadata": {},
   "outputs": [
    {
     "data": {
      "image/png": "[encoded data removed]",
      "text/plain": [
       "<Figure size 1080x360 with 1 Axes>"
      ]
     },
     "metadata": {
      "needs_background": "light"
     },
     "output_type": "display_data"
    }
   ],
   "source": [
    "rides['distance'].plot(kind='hist', figsize=(15,5), bins=100, grid = True,\n",
    "                       title='Распределение расстояний пройденных в рамках поездки', range=(0,1000))\n",
    "plt.xlabel('Растояние поездки, м')\n",
    "plt.ylabel('Частота')\n",
    "plt.show()"
   ]
  },
  {
   "cell_type": "code",
   "execution_count": 38,
   "id": "c828fac7",
   "metadata": {},
   "outputs": [
    {
     "data": {
      "image/png": "[encoded data removed]",
      "text/plain": [
       "<Figure size 1080x360 with 1 Axes>"
      ]
     },
     "metadata": {
      "needs_background": "light"
     },
     "output_type": "display_data"
    }
   ],
   "source": [
    "rides['distance'].plot(kind='hist', figsize=(15,5), bins=100, grid = True,\n",
    "                       title='Распределение расстояний пройденных в рамках поездки', range=(0,100))\n",
    "plt.xlabel('Растояние поездки, м')\n",
    "plt.ylabel('Частота')\n",
    "plt.show()"
   ]
  },
  {
   "cell_type": "code",
   "execution_count": 39,
   "id": "b83c0432",
   "metadata": {},
   "outputs": [
    {
     "data": {
      "image/png": "[encoded data removed]",
      "text/plain": [
       "<Figure size 1080x360 with 1 Axes>"
      ]
     },
     "metadata": {
      "needs_background": "light"
     },
     "output_type": "display_data"
    }
   ],
   "source": [
    "rides['distance'].plot(kind='hist', figsize=(15,5), bins=100, grid = True,\n",
    "                       title='Распределение расстояний пройденных в рамках поездки', range=(0,10))\n",
    "plt.xlabel('Растояние поездки, м')\n",
    "plt.ylabel('Частота')\n",
    "plt.show()"
   ]
  },
  {
   "cell_type": "markdown",
   "id": "0486ecae",
   "metadata": {},
   "source": [
    "На графиках выше мы видим отдельные аномально короткие поездки. Число таких поездок невилико и может быть вызвано единичными причинами (в процессе поездки выяснилось, что самокат неисправен или пользователь внезапно решил отказаться от поездки по личным причинам), поэтому нет оснований для исключения таких данных из датасета."
   ]
  },
  {
   "cell_type": "markdown",
   "id": "e282a55a",
   "metadata": {},
   "source": [
    "Исследуем продолжительность поездок пользователей сервиса.\n",
    "\n",
    "Выведем основные статистические параметры по столбцу duration:"
   ]
  },
  {
   "cell_type": "code",
   "execution_count": 40,
   "id": "9d9820f0",
   "metadata": {},
   "outputs": [
    {
     "data": {
      "text/plain": [
       "count    18068.000000\n",
       "mean        17.805011\n",
       "std          6.091051\n",
       "min          0.500000\n",
       "25%         13.597563\n",
       "50%         17.678395\n",
       "75%         21.724800\n",
       "max         40.823963\n",
       "Name: duration, dtype: float64"
      ]
     },
     "execution_count": 40,
     "metadata": {},
     "output_type": "execute_result"
    }
   ],
   "source": [
    "rides['duration'].describe()"
   ]
  },
  {
   "cell_type": "markdown",
   "id": "af0587d1",
   "metadata": {},
   "source": [
    "Как видно из таблицы выше, среднее и медиана очень близки, что говорит об отсутствии в датасете существенных \"выбросов\""
   ]
  },
  {
   "cell_type": "markdown",
   "id": "c8c60f37",
   "metadata": {},
   "source": [
    "Выведем распределение времени поездок пользователей, в виде гистограммы:"
   ]
  },
  {
   "cell_type": "code",
   "execution_count": 41,
   "id": "8ddd90fd",
   "metadata": {},
   "outputs": [
    {
     "data": {
      "image/png": "[encoded data removed]",
      "text/plain": [
       "<Figure size 1080x360 with 1 Axes>"
      ]
     },
     "metadata": {
      "needs_background": "light"
     },
     "output_type": "display_data"
    }
   ],
   "source": [
    "rides['duration'].plot(kind='hist', figsize=(15,5), bins=40, grid = True,\n",
    "                       title='Распределение времени одной поездки')\n",
    "plt.xlabel('Длительность поездки, мин')\n",
    "plt.ylabel('Частота')\n",
    "plt.show()"
   ]
  },
  {
   "cell_type": "markdown",
   "id": "d313c910",
   "metadata": {},
   "source": [
    "Как видно из графика выше, распределение времени поездки образует пик нормального распределения в интервале 15-20 минут. Рассмотрим подробнее значения в районе 0, т.к. там имеется нехарактерный нормальному, скачок распределения."
   ]
  },
  {
   "cell_type": "code",
   "execution_count": 42,
   "id": "89f83cc6",
   "metadata": {},
   "outputs": [
    {
     "data": {
      "image/png": "[encoded data removed]",
      "text/plain": [
       "<Figure size 1080x360 with 1 Axes>"
      ]
     },
     "metadata": {
      "needs_background": "light"
     },
     "output_type": "display_data"
    }
   ],
   "source": [
    "rides['duration'].plot(kind='hist', figsize=(15,5), bins=20, grid = True,\n",
    "                       title='Распределение времени одной поездки', range=(0,5))\n",
    "plt.xlabel('Длительность поездки, мин')\n",
    "plt.ylabel('Частота')\n",
    "plt.show()"
   ]
  },
  {
   "cell_type": "code",
   "execution_count": 43,
   "id": "7d6bd9f0",
   "metadata": {},
   "outputs": [
    {
     "data": {
      "image/png": "[encoded data removed]",
      "text/plain": [
       "<Figure size 1080x360 with 1 Axes>"
      ]
     },
     "metadata": {
      "needs_background": "light"
     },
     "output_type": "display_data"
    }
   ],
   "source": [
    "rides['duration'].plot(kind='hist', figsize=(15,5), bins=20, grid = True,\n",
    "                       title='Распределение времени одной поездки', range=(0,1))\n",
    "plt.xlabel('Длительность поездки, мин')\n",
    "plt.ylabel('Частота')\n",
    "plt.show()"
   ]
  },
  {
   "cell_type": "markdown",
   "id": "6bddc007",
   "metadata": {},
   "source": [
    "На гистограммах выше мы видим аномально большое число поездок длительностью 0,5 сек. Природа возникновения данной аномалии нам неизвестна, возможно - технический сбой. Т.к. у нас нет возможности уточнить причину возникновения таких коротких поездок, оставим их в датасете, т.к. датасет сформирован на основании реальных данных"
   ]
  },
  {
   "cell_type": "markdown",
   "id": "e556391a",
   "metadata": {},
   "source": [
    "**Вывод:** Исследована частота встречаемости городов в выборке, самый часто встречаемый город - Пятигорск, самый редкий - Москва. \n",
    "\n",
    "Найдено соотношение пользователей без подписки к пользователям с подпиской. Соотношение равно - 1.195, пользователи без подписки составляют 54% от данных датасета, с подпиской - 46%.\n",
    "\n",
    "Изучен возрастной состав пользователей. Чаще всего в выборке встречаются пользователи возрастом 25 лет (145 человек), реже всего 39 и 43 года (по 1 человеку). Шире всего в составе пользователей представлена возрастная группа \"до 25 лет\" (от 20-ти до 25-ти вкл.), самая малочисленная группа - \"более 40 лет\" (41 год и старше).\n",
    "\n",
    "Изучено распределенение расстояний, преодолеваемых пользователями в рамках одной поездки. Выявлено два пика нормального распределения, с вершинами в районе 500 и 3000 метров соответственно. Массово встречающиеся аномальные данные - не выявлены.\n",
    "\n",
    "Изучено распределенение длительности поездок пользователей. Выявлено пик нормального распределения в интервале 15-20 минут. Из датасета удалено аномально часто встречающееся значение длительности поездки в 0,5 сек."
   ]
  },
  {
   "cell_type": "markdown",
   "id": "4ef51331",
   "metadata": {},
   "source": [
    "### Шаг 4. Объединение данных\n",
    "<a id='section_id4'></a>"
   ]
  },
  {
   "cell_type": "markdown",
   "id": "aa594757",
   "metadata": {},
   "source": [
    "Объединим данные о пользователях, поездках и подписках в один датафрейм.\n"
   ]
  },
  {
   "cell_type": "markdown",
   "id": "0b581618",
   "metadata": {},
   "source": [
    "Выведем информацию об исходной размерности датасетов к объединению:"
   ]
  },
  {
   "cell_type": "code",
   "execution_count": 44,
   "id": "e7711f8e",
   "metadata": {},
   "outputs": [
    {
     "data": {
      "text/plain": [
       "1534"
      ]
     },
     "execution_count": 44,
     "metadata": {},
     "output_type": "execute_result"
    }
   ],
   "source": [
    "len(users)"
   ]
  },
  {
   "cell_type": "code",
   "execution_count": 45,
   "id": "89fd5588",
   "metadata": {},
   "outputs": [
    {
     "data": {
      "text/plain": [
       "18068"
      ]
     },
     "execution_count": 45,
     "metadata": {},
     "output_type": "execute_result"
    }
   ],
   "source": [
    "len(rides)"
   ]
  },
  {
   "cell_type": "code",
   "execution_count": 46,
   "id": "b137abe9",
   "metadata": {},
   "outputs": [
    {
     "data": {
      "text/plain": [
       "2"
      ]
     },
     "execution_count": 46,
     "metadata": {},
     "output_type": "execute_result"
    }
   ],
   "source": [
    "len(sub)"
   ]
  },
  {
   "cell_type": "markdown",
   "id": "615e7ef6",
   "metadata": {},
   "source": [
    "Сначала объединим пользователей и поездки:"
   ]
  },
  {
   "cell_type": "code",
   "execution_count": 47,
   "id": "a797d3b6",
   "metadata": {},
   "outputs": [],
   "source": [
    "df_temp = users.merge(rides, on='user_id')"
   ]
  },
  {
   "cell_type": "markdown",
   "id": "829f0679",
   "metadata": {},
   "source": [
    "Проверим что объединение прошло успешно:"
   ]
  },
  {
   "cell_type": "code",
   "execution_count": 48,
   "id": "a2df3bb4",
   "metadata": {
    "scrolled": true
   },
   "outputs": [
    {
     "data": {
      "text/html": [
       "<div>\n",
       "<style scoped>\n",
       "    .dataframe tbody tr th:only-of-type {\n",
       "        vertical-align: middle;\n",
       "    }\n",
       "\n",
       "    .dataframe tbody tr th {\n",
       "        vertical-align: top;\n",
       "    }\n",
       "\n",
       "    .dataframe thead th {\n",
       "        text-align: right;\n",
       "    }\n",
       "</style>\n",
       "<table border=\"1\" class=\"dataframe\">\n",
       "  <thead>\n",
       "    <tr style=\"text-align: right;\">\n",
       "      <th></th>\n",
       "      <th>user_id</th>\n",
       "      <th>name</th>\n",
       "      <th>age</th>\n",
       "      <th>city</th>\n",
       "      <th>subscription_type</th>\n",
       "      <th>age_category</th>\n",
       "      <th>distance</th>\n",
       "      <th>duration</th>\n",
       "      <th>date</th>\n",
       "      <th>month</th>\n",
       "    </tr>\n",
       "  </thead>\n",
       "  <tbody>\n",
       "    <tr>\n",
       "      <th>0</th>\n",
       "      <td>1</td>\n",
       "      <td>Кира</td>\n",
       "      <td>22</td>\n",
       "      <td>Тюмень</td>\n",
       "      <td>ultra</td>\n",
       "      <td>до 25 лет</td>\n",
       "      <td>4409.92</td>\n",
       "      <td>25.599769</td>\n",
       "      <td>2021-01-01</td>\n",
       "      <td>1</td>\n",
       "    </tr>\n",
       "    <tr>\n",
       "      <th>1</th>\n",
       "      <td>1</td>\n",
       "      <td>Кира</td>\n",
       "      <td>22</td>\n",
       "      <td>Тюмень</td>\n",
       "      <td>ultra</td>\n",
       "      <td>до 25 лет</td>\n",
       "      <td>2617.59</td>\n",
       "      <td>15.816871</td>\n",
       "      <td>2021-01-18</td>\n",
       "      <td>1</td>\n",
       "    </tr>\n",
       "    <tr>\n",
       "      <th>2</th>\n",
       "      <td>1</td>\n",
       "      <td>Кира</td>\n",
       "      <td>22</td>\n",
       "      <td>Тюмень</td>\n",
       "      <td>ultra</td>\n",
       "      <td>до 25 лет</td>\n",
       "      <td>754.16</td>\n",
       "      <td>6.232113</td>\n",
       "      <td>2021-04-20</td>\n",
       "      <td>4</td>\n",
       "    </tr>\n",
       "    <tr>\n",
       "      <th>3</th>\n",
       "      <td>1</td>\n",
       "      <td>Кира</td>\n",
       "      <td>22</td>\n",
       "      <td>Тюмень</td>\n",
       "      <td>ultra</td>\n",
       "      <td>до 25 лет</td>\n",
       "      <td>2694.78</td>\n",
       "      <td>18.511000</td>\n",
       "      <td>2021-08-11</td>\n",
       "      <td>8</td>\n",
       "    </tr>\n",
       "    <tr>\n",
       "      <th>4</th>\n",
       "      <td>1</td>\n",
       "      <td>Кира</td>\n",
       "      <td>22</td>\n",
       "      <td>Тюмень</td>\n",
       "      <td>ultra</td>\n",
       "      <td>до 25 лет</td>\n",
       "      <td>4028.69</td>\n",
       "      <td>26.265803</td>\n",
       "      <td>2021-08-28</td>\n",
       "      <td>8</td>\n",
       "    </tr>\n",
       "    <tr>\n",
       "      <th>5</th>\n",
       "      <td>1</td>\n",
       "      <td>Кира</td>\n",
       "      <td>22</td>\n",
       "      <td>Тюмень</td>\n",
       "      <td>ultra</td>\n",
       "      <td>до 25 лет</td>\n",
       "      <td>2770.89</td>\n",
       "      <td>16.650138</td>\n",
       "      <td>2021-10-09</td>\n",
       "      <td>10</td>\n",
       "    </tr>\n",
       "    <tr>\n",
       "      <th>6</th>\n",
       "      <td>1</td>\n",
       "      <td>Кира</td>\n",
       "      <td>22</td>\n",
       "      <td>Тюмень</td>\n",
       "      <td>ultra</td>\n",
       "      <td>до 25 лет</td>\n",
       "      <td>3039.02</td>\n",
       "      <td>14.927879</td>\n",
       "      <td>2021-10-19</td>\n",
       "      <td>10</td>\n",
       "    </tr>\n",
       "    <tr>\n",
       "      <th>7</th>\n",
       "      <td>1</td>\n",
       "      <td>Кира</td>\n",
       "      <td>22</td>\n",
       "      <td>Тюмень</td>\n",
       "      <td>ultra</td>\n",
       "      <td>до 25 лет</td>\n",
       "      <td>2842.12</td>\n",
       "      <td>23.117468</td>\n",
       "      <td>2021-11-06</td>\n",
       "      <td>11</td>\n",
       "    </tr>\n",
       "    <tr>\n",
       "      <th>8</th>\n",
       "      <td>1</td>\n",
       "      <td>Кира</td>\n",
       "      <td>22</td>\n",
       "      <td>Тюмень</td>\n",
       "      <td>ultra</td>\n",
       "      <td>до 25 лет</td>\n",
       "      <td>3412.69</td>\n",
       "      <td>15.238072</td>\n",
       "      <td>2021-11-14</td>\n",
       "      <td>11</td>\n",
       "    </tr>\n",
       "    <tr>\n",
       "      <th>9</th>\n",
       "      <td>1</td>\n",
       "      <td>Кира</td>\n",
       "      <td>22</td>\n",
       "      <td>Тюмень</td>\n",
       "      <td>ultra</td>\n",
       "      <td>до 25 лет</td>\n",
       "      <td>748.69</td>\n",
       "      <td>15.041884</td>\n",
       "      <td>2021-11-22</td>\n",
       "      <td>11</td>\n",
       "    </tr>\n",
       "    <tr>\n",
       "      <th>10</th>\n",
       "      <td>1</td>\n",
       "      <td>Кира</td>\n",
       "      <td>22</td>\n",
       "      <td>Тюмень</td>\n",
       "      <td>ultra</td>\n",
       "      <td>до 25 лет</td>\n",
       "      <td>4031.02</td>\n",
       "      <td>17.674448</td>\n",
       "      <td>2021-12-14</td>\n",
       "      <td>12</td>\n",
       "    </tr>\n",
       "    <tr>\n",
       "      <th>11</th>\n",
       "      <td>1</td>\n",
       "      <td>Кира</td>\n",
       "      <td>22</td>\n",
       "      <td>Тюмень</td>\n",
       "      <td>ultra</td>\n",
       "      <td>до 25 лет</td>\n",
       "      <td>2720.61</td>\n",
       "      <td>9.529463</td>\n",
       "      <td>2021-12-22</td>\n",
       "      <td>12</td>\n",
       "    </tr>\n",
       "    <tr>\n",
       "      <th>12</th>\n",
       "      <td>2</td>\n",
       "      <td>Станислав</td>\n",
       "      <td>31</td>\n",
       "      <td>Омск</td>\n",
       "      <td>ultra</td>\n",
       "      <td>до 35 лет</td>\n",
       "      <td>3105.09</td>\n",
       "      <td>24.307514</td>\n",
       "      <td>2021-03-15</td>\n",
       "      <td>3</td>\n",
       "    </tr>\n",
       "    <tr>\n",
       "      <th>13</th>\n",
       "      <td>2</td>\n",
       "      <td>Станислав</td>\n",
       "      <td>31</td>\n",
       "      <td>Омск</td>\n",
       "      <td>ultra</td>\n",
       "      <td>до 35 лет</td>\n",
       "      <td>3053.52</td>\n",
       "      <td>11.543256</td>\n",
       "      <td>2021-03-18</td>\n",
       "      <td>3</td>\n",
       "    </tr>\n",
       "    <tr>\n",
       "      <th>14</th>\n",
       "      <td>2</td>\n",
       "      <td>Станислав</td>\n",
       "      <td>31</td>\n",
       "      <td>Омск</td>\n",
       "      <td>ultra</td>\n",
       "      <td>до 35 лет</td>\n",
       "      <td>4029.12</td>\n",
       "      <td>25.109188</td>\n",
       "      <td>2021-03-23</td>\n",
       "      <td>3</td>\n",
       "    </tr>\n",
       "    <tr>\n",
       "      <th>15</th>\n",
       "      <td>2</td>\n",
       "      <td>Станислав</td>\n",
       "      <td>31</td>\n",
       "      <td>Омск</td>\n",
       "      <td>ultra</td>\n",
       "      <td>до 35 лет</td>\n",
       "      <td>2805.79</td>\n",
       "      <td>20.652145</td>\n",
       "      <td>2021-04-08</td>\n",
       "      <td>4</td>\n",
       "    </tr>\n",
       "    <tr>\n",
       "      <th>16</th>\n",
       "      <td>2</td>\n",
       "      <td>Станислав</td>\n",
       "      <td>31</td>\n",
       "      <td>Омск</td>\n",
       "      <td>ultra</td>\n",
       "      <td>до 35 лет</td>\n",
       "      <td>3358.60</td>\n",
       "      <td>18.396489</td>\n",
       "      <td>2021-04-13</td>\n",
       "      <td>4</td>\n",
       "    </tr>\n",
       "    <tr>\n",
       "      <th>17</th>\n",
       "      <td>2</td>\n",
       "      <td>Станислав</td>\n",
       "      <td>31</td>\n",
       "      <td>Омск</td>\n",
       "      <td>ultra</td>\n",
       "      <td>до 35 лет</td>\n",
       "      <td>3255.34</td>\n",
       "      <td>13.851127</td>\n",
       "      <td>2021-06-20</td>\n",
       "      <td>6</td>\n",
       "    </tr>\n",
       "    <tr>\n",
       "      <th>18</th>\n",
       "      <td>2</td>\n",
       "      <td>Станислав</td>\n",
       "      <td>31</td>\n",
       "      <td>Омск</td>\n",
       "      <td>ultra</td>\n",
       "      <td>до 35 лет</td>\n",
       "      <td>3942.82</td>\n",
       "      <td>20.142725</td>\n",
       "      <td>2021-07-02</td>\n",
       "      <td>7</td>\n",
       "    </tr>\n",
       "    <tr>\n",
       "      <th>19</th>\n",
       "      <td>2</td>\n",
       "      <td>Станислав</td>\n",
       "      <td>31</td>\n",
       "      <td>Омск</td>\n",
       "      <td>ultra</td>\n",
       "      <td>до 35 лет</td>\n",
       "      <td>2837.91</td>\n",
       "      <td>26.027432</td>\n",
       "      <td>2021-07-18</td>\n",
       "      <td>7</td>\n",
       "    </tr>\n",
       "  </tbody>\n",
       "</table>\n",
       "</div>"
      ],
      "text/plain": [
       "    user_id       name  age    city subscription_type age_category  distance  \\\n",
       "0         1       Кира   22  Тюмень             ultra    до 25 лет   4409.92   \n",
       "1         1       Кира   22  Тюмень             ultra    до 25 лет   2617.59   \n",
       "2         1       Кира   22  Тюмень             ultra    до 25 лет    754.16   \n",
       "3         1       Кира   22  Тюмень             ultra    до 25 лет   2694.78   \n",
       "4         1       Кира   22  Тюмень             ultra    до 25 лет   4028.69   \n",
       "5         1       Кира   22  Тюмень             ultra    до 25 лет   2770.89   \n",
       "6         1       Кира   22  Тюмень             ultra    до 25 лет   3039.02   \n",
       "7         1       Кира   22  Тюмень             ultra    до 25 лет   2842.12   \n",
       "8         1       Кира   22  Тюмень             ultra    до 25 лет   3412.69   \n",
       "9         1       Кира   22  Тюмень             ultra    до 25 лет    748.69   \n",
       "10        1       Кира   22  Тюмень             ultra    до 25 лет   4031.02   \n",
       "11        1       Кира   22  Тюмень             ultra    до 25 лет   2720.61   \n",
       "12        2  Станислав   31    Омск             ultra    до 35 лет   3105.09   \n",
       "13        2  Станислав   31    Омск             ultra    до 35 лет   3053.52   \n",
       "14        2  Станислав   31    Омск             ultra    до 35 лет   4029.12   \n",
       "15        2  Станислав   31    Омск             ultra    до 35 лет   2805.79   \n",
       "16        2  Станислав   31    Омск             ultra    до 35 лет   3358.60   \n",
       "17        2  Станислав   31    Омск             ultra    до 35 лет   3255.34   \n",
       "18        2  Станислав   31    Омск             ultra    до 35 лет   3942.82   \n",
       "19        2  Станислав   31    Омск             ultra    до 35 лет   2837.91   \n",
       "\n",
       "     duration       date  month  \n",
       "0   25.599769 2021-01-01      1  \n",
       "1   15.816871 2021-01-18      1  \n",
       "2    6.232113 2021-04-20      4  \n",
       "3   18.511000 2021-08-11      8  \n",
       "4   26.265803 2021-08-28      8  \n",
       "5   16.650138 2021-10-09     10  \n",
       "6   14.927879 2021-10-19     10  \n",
       "7   23.117468 2021-11-06     11  \n",
       "8   15.238072 2021-11-14     11  \n",
       "9   15.041884 2021-11-22     11  \n",
       "10  17.674448 2021-12-14     12  \n",
       "11   9.529463 2021-12-22     12  \n",
       "12  24.307514 2021-03-15      3  \n",
       "13  11.543256 2021-03-18      3  \n",
       "14  25.109188 2021-03-23      3  \n",
       "15  20.652145 2021-04-08      4  \n",
       "16  18.396489 2021-04-13      4  \n",
       "17  13.851127 2021-06-20      6  \n",
       "18  20.142725 2021-07-02      7  \n",
       "19  26.027432 2021-07-18      7  "
      ]
     },
     "execution_count": 48,
     "metadata": {},
     "output_type": "execute_result"
    }
   ],
   "source": [
    "df_temp.head(20)"
   ]
  },
  {
   "cell_type": "code",
   "execution_count": 49,
   "id": "55d52bac",
   "metadata": {
    "scrolled": true
   },
   "outputs": [
    {
     "data": {
      "text/html": [
       "<div>\n",
       "<style scoped>\n",
       "    .dataframe tbody tr th:only-of-type {\n",
       "        vertical-align: middle;\n",
       "    }\n",
       "\n",
       "    .dataframe tbody tr th {\n",
       "        vertical-align: top;\n",
       "    }\n",
       "\n",
       "    .dataframe thead th {\n",
       "        text-align: right;\n",
       "    }\n",
       "</style>\n",
       "<table border=\"1\" class=\"dataframe\">\n",
       "  <thead>\n",
       "    <tr style=\"text-align: right;\">\n",
       "      <th></th>\n",
       "      <th>user_id</th>\n",
       "      <th>name</th>\n",
       "      <th>age</th>\n",
       "      <th>city</th>\n",
       "      <th>subscription_type</th>\n",
       "      <th>age_category</th>\n",
       "      <th>distance</th>\n",
       "      <th>duration</th>\n",
       "      <th>date</th>\n",
       "      <th>month</th>\n",
       "    </tr>\n",
       "  </thead>\n",
       "  <tbody>\n",
       "    <tr>\n",
       "      <th>18048</th>\n",
       "      <td>1533</td>\n",
       "      <td>Степан</td>\n",
       "      <td>22</td>\n",
       "      <td>Краснодар</td>\n",
       "      <td>free</td>\n",
       "      <td>до 25 лет</td>\n",
       "      <td>2514.50</td>\n",
       "      <td>17.429371</td>\n",
       "      <td>2021-04-23</td>\n",
       "      <td>4</td>\n",
       "    </tr>\n",
       "    <tr>\n",
       "      <th>18049</th>\n",
       "      <td>1533</td>\n",
       "      <td>Степан</td>\n",
       "      <td>22</td>\n",
       "      <td>Краснодар</td>\n",
       "      <td>free</td>\n",
       "      <td>до 25 лет</td>\n",
       "      <td>1035.00</td>\n",
       "      <td>6.299996</td>\n",
       "      <td>2021-06-23</td>\n",
       "      <td>6</td>\n",
       "    </tr>\n",
       "    <tr>\n",
       "      <th>18050</th>\n",
       "      <td>1533</td>\n",
       "      <td>Степан</td>\n",
       "      <td>22</td>\n",
       "      <td>Краснодар</td>\n",
       "      <td>free</td>\n",
       "      <td>до 25 лет</td>\n",
       "      <td>3574.29</td>\n",
       "      <td>13.578294</td>\n",
       "      <td>2021-07-20</td>\n",
       "      <td>7</td>\n",
       "    </tr>\n",
       "    <tr>\n",
       "      <th>18051</th>\n",
       "      <td>1533</td>\n",
       "      <td>Степан</td>\n",
       "      <td>22</td>\n",
       "      <td>Краснодар</td>\n",
       "      <td>free</td>\n",
       "      <td>до 25 лет</td>\n",
       "      <td>2309.37</td>\n",
       "      <td>17.773415</td>\n",
       "      <td>2021-07-28</td>\n",
       "      <td>7</td>\n",
       "    </tr>\n",
       "    <tr>\n",
       "      <th>18052</th>\n",
       "      <td>1533</td>\n",
       "      <td>Степан</td>\n",
       "      <td>22</td>\n",
       "      <td>Краснодар</td>\n",
       "      <td>free</td>\n",
       "      <td>до 25 лет</td>\n",
       "      <td>2888.86</td>\n",
       "      <td>15.555453</td>\n",
       "      <td>2021-07-28</td>\n",
       "      <td>7</td>\n",
       "    </tr>\n",
       "    <tr>\n",
       "      <th>18053</th>\n",
       "      <td>1533</td>\n",
       "      <td>Степан</td>\n",
       "      <td>22</td>\n",
       "      <td>Краснодар</td>\n",
       "      <td>free</td>\n",
       "      <td>до 25 лет</td>\n",
       "      <td>4581.94</td>\n",
       "      <td>21.163887</td>\n",
       "      <td>2021-08-27</td>\n",
       "      <td>8</td>\n",
       "    </tr>\n",
       "    <tr>\n",
       "      <th>18054</th>\n",
       "      <td>1533</td>\n",
       "      <td>Степан</td>\n",
       "      <td>22</td>\n",
       "      <td>Краснодар</td>\n",
       "      <td>free</td>\n",
       "      <td>до 25 лет</td>\n",
       "      <td>3414.45</td>\n",
       "      <td>25.657792</td>\n",
       "      <td>2021-11-09</td>\n",
       "      <td>11</td>\n",
       "    </tr>\n",
       "    <tr>\n",
       "      <th>18055</th>\n",
       "      <td>1534</td>\n",
       "      <td>Альберт</td>\n",
       "      <td>25</td>\n",
       "      <td>Краснодар</td>\n",
       "      <td>free</td>\n",
       "      <td>до 25 лет</td>\n",
       "      <td>4678.42</td>\n",
       "      <td>15.228198</td>\n",
       "      <td>2021-01-20</td>\n",
       "      <td>1</td>\n",
       "    </tr>\n",
       "    <tr>\n",
       "      <th>18056</th>\n",
       "      <td>1534</td>\n",
       "      <td>Альберт</td>\n",
       "      <td>25</td>\n",
       "      <td>Краснодар</td>\n",
       "      <td>free</td>\n",
       "      <td>до 25 лет</td>\n",
       "      <td>2103.91</td>\n",
       "      <td>13.425579</td>\n",
       "      <td>2021-02-28</td>\n",
       "      <td>2</td>\n",
       "    </tr>\n",
       "    <tr>\n",
       "      <th>18057</th>\n",
       "      <td>1534</td>\n",
       "      <td>Альберт</td>\n",
       "      <td>25</td>\n",
       "      <td>Краснодар</td>\n",
       "      <td>free</td>\n",
       "      <td>до 25 лет</td>\n",
       "      <td>3434.29</td>\n",
       "      <td>14.366248</td>\n",
       "      <td>2021-04-29</td>\n",
       "      <td>4</td>\n",
       "    </tr>\n",
       "    <tr>\n",
       "      <th>18058</th>\n",
       "      <td>1534</td>\n",
       "      <td>Альберт</td>\n",
       "      <td>25</td>\n",
       "      <td>Краснодар</td>\n",
       "      <td>free</td>\n",
       "      <td>до 25 лет</td>\n",
       "      <td>195.45</td>\n",
       "      <td>6.469074</td>\n",
       "      <td>2021-06-11</td>\n",
       "      <td>6</td>\n",
       "    </tr>\n",
       "    <tr>\n",
       "      <th>18059</th>\n",
       "      <td>1534</td>\n",
       "      <td>Альберт</td>\n",
       "      <td>25</td>\n",
       "      <td>Краснодар</td>\n",
       "      <td>free</td>\n",
       "      <td>до 25 лет</td>\n",
       "      <td>3214.02</td>\n",
       "      <td>18.343604</td>\n",
       "      <td>2021-06-18</td>\n",
       "      <td>6</td>\n",
       "    </tr>\n",
       "    <tr>\n",
       "      <th>18060</th>\n",
       "      <td>1534</td>\n",
       "      <td>Альберт</td>\n",
       "      <td>25</td>\n",
       "      <td>Краснодар</td>\n",
       "      <td>free</td>\n",
       "      <td>до 25 лет</td>\n",
       "      <td>3644.71</td>\n",
       "      <td>20.289416</td>\n",
       "      <td>2021-08-08</td>\n",
       "      <td>8</td>\n",
       "    </tr>\n",
       "    <tr>\n",
       "      <th>18061</th>\n",
       "      <td>1534</td>\n",
       "      <td>Альберт</td>\n",
       "      <td>25</td>\n",
       "      <td>Краснодар</td>\n",
       "      <td>free</td>\n",
       "      <td>до 25 лет</td>\n",
       "      <td>3977.74</td>\n",
       "      <td>26.916544</td>\n",
       "      <td>2021-08-20</td>\n",
       "      <td>8</td>\n",
       "    </tr>\n",
       "    <tr>\n",
       "      <th>18062</th>\n",
       "      <td>1534</td>\n",
       "      <td>Альберт</td>\n",
       "      <td>25</td>\n",
       "      <td>Краснодар</td>\n",
       "      <td>free</td>\n",
       "      <td>до 25 лет</td>\n",
       "      <td>4928.17</td>\n",
       "      <td>22.560373</td>\n",
       "      <td>2021-09-13</td>\n",
       "      <td>9</td>\n",
       "    </tr>\n",
       "    <tr>\n",
       "      <th>18063</th>\n",
       "      <td>1534</td>\n",
       "      <td>Альберт</td>\n",
       "      <td>25</td>\n",
       "      <td>Краснодар</td>\n",
       "      <td>free</td>\n",
       "      <td>до 25 лет</td>\n",
       "      <td>3781.10</td>\n",
       "      <td>19.822962</td>\n",
       "      <td>2021-11-04</td>\n",
       "      <td>11</td>\n",
       "    </tr>\n",
       "    <tr>\n",
       "      <th>18064</th>\n",
       "      <td>1534</td>\n",
       "      <td>Альберт</td>\n",
       "      <td>25</td>\n",
       "      <td>Краснодар</td>\n",
       "      <td>free</td>\n",
       "      <td>до 25 лет</td>\n",
       "      <td>2840.42</td>\n",
       "      <td>21.409799</td>\n",
       "      <td>2021-11-16</td>\n",
       "      <td>11</td>\n",
       "    </tr>\n",
       "    <tr>\n",
       "      <th>18065</th>\n",
       "      <td>1534</td>\n",
       "      <td>Альберт</td>\n",
       "      <td>25</td>\n",
       "      <td>Краснодар</td>\n",
       "      <td>free</td>\n",
       "      <td>до 25 лет</td>\n",
       "      <td>3826.19</td>\n",
       "      <td>18.435051</td>\n",
       "      <td>2021-11-18</td>\n",
       "      <td>11</td>\n",
       "    </tr>\n",
       "    <tr>\n",
       "      <th>18066</th>\n",
       "      <td>1534</td>\n",
       "      <td>Альберт</td>\n",
       "      <td>25</td>\n",
       "      <td>Краснодар</td>\n",
       "      <td>free</td>\n",
       "      <td>до 25 лет</td>\n",
       "      <td>2902.31</td>\n",
       "      <td>16.674362</td>\n",
       "      <td>2021-11-27</td>\n",
       "      <td>11</td>\n",
       "    </tr>\n",
       "    <tr>\n",
       "      <th>18067</th>\n",
       "      <td>1534</td>\n",
       "      <td>Альберт</td>\n",
       "      <td>25</td>\n",
       "      <td>Краснодар</td>\n",
       "      <td>free</td>\n",
       "      <td>до 25 лет</td>\n",
       "      <td>2371.71</td>\n",
       "      <td>15.893917</td>\n",
       "      <td>2021-12-29</td>\n",
       "      <td>12</td>\n",
       "    </tr>\n",
       "  </tbody>\n",
       "</table>\n",
       "</div>"
      ],
      "text/plain": [
       "       user_id     name  age       city subscription_type age_category  \\\n",
       "18048     1533   Степан   22  Краснодар              free    до 25 лет   \n",
       "18049     1533   Степан   22  Краснодар              free    до 25 лет   \n",
       "18050     1533   Степан   22  Краснодар              free    до 25 лет   \n",
       "18051     1533   Степан   22  Краснодар              free    до 25 лет   \n",
       "18052     1533   Степан   22  Краснодар              free    до 25 лет   \n",
       "18053     1533   Степан   22  Краснодар              free    до 25 лет   \n",
       "18054     1533   Степан   22  Краснодар              free    до 25 лет   \n",
       "18055     1534  Альберт   25  Краснодар              free    до 25 лет   \n",
       "18056     1534  Альберт   25  Краснодар              free    до 25 лет   \n",
       "18057     1534  Альберт   25  Краснодар              free    до 25 лет   \n",
       "18058     1534  Альберт   25  Краснодар              free    до 25 лет   \n",
       "18059     1534  Альберт   25  Краснодар              free    до 25 лет   \n",
       "18060     1534  Альберт   25  Краснодар              free    до 25 лет   \n",
       "18061     1534  Альберт   25  Краснодар              free    до 25 лет   \n",
       "18062     1534  Альберт   25  Краснодар              free    до 25 лет   \n",
       "18063     1534  Альберт   25  Краснодар              free    до 25 лет   \n",
       "18064     1534  Альберт   25  Краснодар              free    до 25 лет   \n",
       "18065     1534  Альберт   25  Краснодар              free    до 25 лет   \n",
       "18066     1534  Альберт   25  Краснодар              free    до 25 лет   \n",
       "18067     1534  Альберт   25  Краснодар              free    до 25 лет   \n",
       "\n",
       "       distance   duration       date  month  \n",
       "18048   2514.50  17.429371 2021-04-23      4  \n",
       "18049   1035.00   6.299996 2021-06-23      6  \n",
       "18050   3574.29  13.578294 2021-07-20      7  \n",
       "18051   2309.37  17.773415 2021-07-28      7  \n",
       "18052   2888.86  15.555453 2021-07-28      7  \n",
       "18053   4581.94  21.163887 2021-08-27      8  \n",
       "18054   3414.45  25.657792 2021-11-09     11  \n",
       "18055   4678.42  15.228198 2021-01-20      1  \n",
       "18056   2103.91  13.425579 2021-02-28      2  \n",
       "18057   3434.29  14.366248 2021-04-29      4  \n",
       "18058    195.45   6.469074 2021-06-11      6  \n",
       "18059   3214.02  18.343604 2021-06-18      6  \n",
       "18060   3644.71  20.289416 2021-08-08      8  \n",
       "18061   3977.74  26.916544 2021-08-20      8  \n",
       "18062   4928.17  22.560373 2021-09-13      9  \n",
       "18063   3781.10  19.822962 2021-11-04     11  \n",
       "18064   2840.42  21.409799 2021-11-16     11  \n",
       "18065   3826.19  18.435051 2021-11-18     11  \n",
       "18066   2902.31  16.674362 2021-11-27     11  \n",
       "18067   2371.71  15.893917 2021-12-29     12  "
      ]
     },
     "execution_count": 49,
     "metadata": {},
     "output_type": "execute_result"
    }
   ],
   "source": [
    "df_temp.tail(20)"
   ]
  },
  {
   "cell_type": "markdown",
   "id": "f0b2dbb9",
   "metadata": {},
   "source": [
    "Проверим что размерность объединенной таблицы совпадает с исходной:"
   ]
  },
  {
   "cell_type": "code",
   "execution_count": 50,
   "id": "525fbb0b",
   "metadata": {},
   "outputs": [
    {
     "data": {
      "text/plain": [
       "18068"
      ]
     },
     "execution_count": 50,
     "metadata": {},
     "output_type": "execute_result"
    }
   ],
   "source": [
    "len(df_temp)"
   ]
  },
  {
   "cell_type": "markdown",
   "id": "a9bb5a0b",
   "metadata": {},
   "source": [
    "Проверим что в процессе объединения, в датасете не образовалось пробелов:"
   ]
  },
  {
   "cell_type": "code",
   "execution_count": 51,
   "id": "f2248685",
   "metadata": {},
   "outputs": [
    {
     "data": {
      "text/plain": [
       "user_id              0\n",
       "name                 0\n",
       "age                  0\n",
       "city                 0\n",
       "subscription_type    0\n",
       "age_category         0\n",
       "distance             0\n",
       "duration             0\n",
       "date                 0\n",
       "month                0\n",
       "dtype: int64"
      ]
     },
     "execution_count": 51,
     "metadata": {},
     "output_type": "execute_result"
    }
   ],
   "source": [
    "df_temp.isna().sum()"
   ]
  },
  {
   "cell_type": "markdown",
   "id": "71579aa2",
   "metadata": {},
   "source": [
    "Добавим к полученному датасету информацию о подписках:"
   ]
  },
  {
   "cell_type": "code",
   "execution_count": 52,
   "id": "58975bcf",
   "metadata": {},
   "outputs": [],
   "source": [
    "df = df_temp.merge(sub, on='subscription_type')"
   ]
  },
  {
   "cell_type": "markdown",
   "id": "31504e46",
   "metadata": {},
   "source": [
    "Проверим что объединение прошло успешно:"
   ]
  },
  {
   "cell_type": "code",
   "execution_count": 53,
   "id": "960e8e48",
   "metadata": {},
   "outputs": [
    {
     "data": {
      "text/html": [
       "<div>\n",
       "<style scoped>\n",
       "    .dataframe tbody tr th:only-of-type {\n",
       "        vertical-align: middle;\n",
       "    }\n",
       "\n",
       "    .dataframe tbody tr th {\n",
       "        vertical-align: top;\n",
       "    }\n",
       "\n",
       "    .dataframe thead th {\n",
       "        text-align: right;\n",
       "    }\n",
       "</style>\n",
       "<table border=\"1\" class=\"dataframe\">\n",
       "  <thead>\n",
       "    <tr style=\"text-align: right;\">\n",
       "      <th></th>\n",
       "      <th>user_id</th>\n",
       "      <th>name</th>\n",
       "      <th>age</th>\n",
       "      <th>city</th>\n",
       "      <th>subscription_type</th>\n",
       "      <th>age_category</th>\n",
       "      <th>distance</th>\n",
       "      <th>duration</th>\n",
       "      <th>date</th>\n",
       "      <th>month</th>\n",
       "      <th>minute_price</th>\n",
       "      <th>start_ride_price</th>\n",
       "      <th>subscription_fee</th>\n",
       "    </tr>\n",
       "  </thead>\n",
       "  <tbody>\n",
       "    <tr>\n",
       "      <th>0</th>\n",
       "      <td>1</td>\n",
       "      <td>Кира</td>\n",
       "      <td>22</td>\n",
       "      <td>Тюмень</td>\n",
       "      <td>ultra</td>\n",
       "      <td>до 25 лет</td>\n",
       "      <td>4409.92</td>\n",
       "      <td>25.599769</td>\n",
       "      <td>2021-01-01</td>\n",
       "      <td>1</td>\n",
       "      <td>6</td>\n",
       "      <td>0</td>\n",
       "      <td>199</td>\n",
       "    </tr>\n",
       "    <tr>\n",
       "      <th>1</th>\n",
       "      <td>1</td>\n",
       "      <td>Кира</td>\n",
       "      <td>22</td>\n",
       "      <td>Тюмень</td>\n",
       "      <td>ultra</td>\n",
       "      <td>до 25 лет</td>\n",
       "      <td>2617.59</td>\n",
       "      <td>15.816871</td>\n",
       "      <td>2021-01-18</td>\n",
       "      <td>1</td>\n",
       "      <td>6</td>\n",
       "      <td>0</td>\n",
       "      <td>199</td>\n",
       "    </tr>\n",
       "    <tr>\n",
       "      <th>2</th>\n",
       "      <td>1</td>\n",
       "      <td>Кира</td>\n",
       "      <td>22</td>\n",
       "      <td>Тюмень</td>\n",
       "      <td>ultra</td>\n",
       "      <td>до 25 лет</td>\n",
       "      <td>754.16</td>\n",
       "      <td>6.232113</td>\n",
       "      <td>2021-04-20</td>\n",
       "      <td>4</td>\n",
       "      <td>6</td>\n",
       "      <td>0</td>\n",
       "      <td>199</td>\n",
       "    </tr>\n",
       "    <tr>\n",
       "      <th>3</th>\n",
       "      <td>1</td>\n",
       "      <td>Кира</td>\n",
       "      <td>22</td>\n",
       "      <td>Тюмень</td>\n",
       "      <td>ultra</td>\n",
       "      <td>до 25 лет</td>\n",
       "      <td>2694.78</td>\n",
       "      <td>18.511000</td>\n",
       "      <td>2021-08-11</td>\n",
       "      <td>8</td>\n",
       "      <td>6</td>\n",
       "      <td>0</td>\n",
       "      <td>199</td>\n",
       "    </tr>\n",
       "    <tr>\n",
       "      <th>4</th>\n",
       "      <td>1</td>\n",
       "      <td>Кира</td>\n",
       "      <td>22</td>\n",
       "      <td>Тюмень</td>\n",
       "      <td>ultra</td>\n",
       "      <td>до 25 лет</td>\n",
       "      <td>4028.69</td>\n",
       "      <td>26.265803</td>\n",
       "      <td>2021-08-28</td>\n",
       "      <td>8</td>\n",
       "      <td>6</td>\n",
       "      <td>0</td>\n",
       "      <td>199</td>\n",
       "    </tr>\n",
       "    <tr>\n",
       "      <th>5</th>\n",
       "      <td>1</td>\n",
       "      <td>Кира</td>\n",
       "      <td>22</td>\n",
       "      <td>Тюмень</td>\n",
       "      <td>ultra</td>\n",
       "      <td>до 25 лет</td>\n",
       "      <td>2770.89</td>\n",
       "      <td>16.650138</td>\n",
       "      <td>2021-10-09</td>\n",
       "      <td>10</td>\n",
       "      <td>6</td>\n",
       "      <td>0</td>\n",
       "      <td>199</td>\n",
       "    </tr>\n",
       "    <tr>\n",
       "      <th>6</th>\n",
       "      <td>1</td>\n",
       "      <td>Кира</td>\n",
       "      <td>22</td>\n",
       "      <td>Тюмень</td>\n",
       "      <td>ultra</td>\n",
       "      <td>до 25 лет</td>\n",
       "      <td>3039.02</td>\n",
       "      <td>14.927879</td>\n",
       "      <td>2021-10-19</td>\n",
       "      <td>10</td>\n",
       "      <td>6</td>\n",
       "      <td>0</td>\n",
       "      <td>199</td>\n",
       "    </tr>\n",
       "    <tr>\n",
       "      <th>7</th>\n",
       "      <td>1</td>\n",
       "      <td>Кира</td>\n",
       "      <td>22</td>\n",
       "      <td>Тюмень</td>\n",
       "      <td>ultra</td>\n",
       "      <td>до 25 лет</td>\n",
       "      <td>2842.12</td>\n",
       "      <td>23.117468</td>\n",
       "      <td>2021-11-06</td>\n",
       "      <td>11</td>\n",
       "      <td>6</td>\n",
       "      <td>0</td>\n",
       "      <td>199</td>\n",
       "    </tr>\n",
       "    <tr>\n",
       "      <th>8</th>\n",
       "      <td>1</td>\n",
       "      <td>Кира</td>\n",
       "      <td>22</td>\n",
       "      <td>Тюмень</td>\n",
       "      <td>ultra</td>\n",
       "      <td>до 25 лет</td>\n",
       "      <td>3412.69</td>\n",
       "      <td>15.238072</td>\n",
       "      <td>2021-11-14</td>\n",
       "      <td>11</td>\n",
       "      <td>6</td>\n",
       "      <td>0</td>\n",
       "      <td>199</td>\n",
       "    </tr>\n",
       "    <tr>\n",
       "      <th>9</th>\n",
       "      <td>1</td>\n",
       "      <td>Кира</td>\n",
       "      <td>22</td>\n",
       "      <td>Тюмень</td>\n",
       "      <td>ultra</td>\n",
       "      <td>до 25 лет</td>\n",
       "      <td>748.69</td>\n",
       "      <td>15.041884</td>\n",
       "      <td>2021-11-22</td>\n",
       "      <td>11</td>\n",
       "      <td>6</td>\n",
       "      <td>0</td>\n",
       "      <td>199</td>\n",
       "    </tr>\n",
       "  </tbody>\n",
       "</table>\n",
       "</div>"
      ],
      "text/plain": [
       "   user_id  name  age    city subscription_type age_category  distance  \\\n",
       "0        1  Кира   22  Тюмень             ultra    до 25 лет   4409.92   \n",
       "1        1  Кира   22  Тюмень             ultra    до 25 лет   2617.59   \n",
       "2        1  Кира   22  Тюмень             ultra    до 25 лет    754.16   \n",
       "3        1  Кира   22  Тюмень             ultra    до 25 лет   2694.78   \n",
       "4        1  Кира   22  Тюмень             ultra    до 25 лет   4028.69   \n",
       "5        1  Кира   22  Тюмень             ultra    до 25 лет   2770.89   \n",
       "6        1  Кира   22  Тюмень             ultra    до 25 лет   3039.02   \n",
       "7        1  Кира   22  Тюмень             ultra    до 25 лет   2842.12   \n",
       "8        1  Кира   22  Тюмень             ultra    до 25 лет   3412.69   \n",
       "9        1  Кира   22  Тюмень             ultra    до 25 лет    748.69   \n",
       "\n",
       "    duration       date  month  minute_price  start_ride_price  \\\n",
       "0  25.599769 2021-01-01      1             6                 0   \n",
       "1  15.816871 2021-01-18      1             6                 0   \n",
       "2   6.232113 2021-04-20      4             6                 0   \n",
       "3  18.511000 2021-08-11      8             6                 0   \n",
       "4  26.265803 2021-08-28      8             6                 0   \n",
       "5  16.650138 2021-10-09     10             6                 0   \n",
       "6  14.927879 2021-10-19     10             6                 0   \n",
       "7  23.117468 2021-11-06     11             6                 0   \n",
       "8  15.238072 2021-11-14     11             6                 0   \n",
       "9  15.041884 2021-11-22     11             6                 0   \n",
       "\n",
       "   subscription_fee  \n",
       "0               199  \n",
       "1               199  \n",
       "2               199  \n",
       "3               199  \n",
       "4               199  \n",
       "5               199  \n",
       "6               199  \n",
       "7               199  \n",
       "8               199  \n",
       "9               199  "
      ]
     },
     "execution_count": 53,
     "metadata": {},
     "output_type": "execute_result"
    }
   ],
   "source": [
    "df.head(10)"
   ]
  },
  {
   "cell_type": "code",
   "execution_count": 54,
   "id": "321521b0",
   "metadata": {},
   "outputs": [
    {
     "data": {
      "text/html": [
       "<div>\n",
       "<style scoped>\n",
       "    .dataframe tbody tr th:only-of-type {\n",
       "        vertical-align: middle;\n",
       "    }\n",
       "\n",
       "    .dataframe tbody tr th {\n",
       "        vertical-align: top;\n",
       "    }\n",
       "\n",
       "    .dataframe thead th {\n",
       "        text-align: right;\n",
       "    }\n",
       "</style>\n",
       "<table border=\"1\" class=\"dataframe\">\n",
       "  <thead>\n",
       "    <tr style=\"text-align: right;\">\n",
       "      <th></th>\n",
       "      <th>user_id</th>\n",
       "      <th>name</th>\n",
       "      <th>age</th>\n",
       "      <th>city</th>\n",
       "      <th>subscription_type</th>\n",
       "      <th>age_category</th>\n",
       "      <th>distance</th>\n",
       "      <th>duration</th>\n",
       "      <th>date</th>\n",
       "      <th>month</th>\n",
       "      <th>minute_price</th>\n",
       "      <th>start_ride_price</th>\n",
       "      <th>subscription_fee</th>\n",
       "    </tr>\n",
       "  </thead>\n",
       "  <tbody>\n",
       "    <tr>\n",
       "      <th>18058</th>\n",
       "      <td>1534</td>\n",
       "      <td>Альберт</td>\n",
       "      <td>25</td>\n",
       "      <td>Краснодар</td>\n",
       "      <td>free</td>\n",
       "      <td>до 25 лет</td>\n",
       "      <td>195.45</td>\n",
       "      <td>6.469074</td>\n",
       "      <td>2021-06-11</td>\n",
       "      <td>6</td>\n",
       "      <td>8</td>\n",
       "      <td>50</td>\n",
       "      <td>0</td>\n",
       "    </tr>\n",
       "    <tr>\n",
       "      <th>18059</th>\n",
       "      <td>1534</td>\n",
       "      <td>Альберт</td>\n",
       "      <td>25</td>\n",
       "      <td>Краснодар</td>\n",
       "      <td>free</td>\n",
       "      <td>до 25 лет</td>\n",
       "      <td>3214.02</td>\n",
       "      <td>18.343604</td>\n",
       "      <td>2021-06-18</td>\n",
       "      <td>6</td>\n",
       "      <td>8</td>\n",
       "      <td>50</td>\n",
       "      <td>0</td>\n",
       "    </tr>\n",
       "    <tr>\n",
       "      <th>18060</th>\n",
       "      <td>1534</td>\n",
       "      <td>Альберт</td>\n",
       "      <td>25</td>\n",
       "      <td>Краснодар</td>\n",
       "      <td>free</td>\n",
       "      <td>до 25 лет</td>\n",
       "      <td>3644.71</td>\n",
       "      <td>20.289416</td>\n",
       "      <td>2021-08-08</td>\n",
       "      <td>8</td>\n",
       "      <td>8</td>\n",
       "      <td>50</td>\n",
       "      <td>0</td>\n",
       "    </tr>\n",
       "    <tr>\n",
       "      <th>18061</th>\n",
       "      <td>1534</td>\n",
       "      <td>Альберт</td>\n",
       "      <td>25</td>\n",
       "      <td>Краснодар</td>\n",
       "      <td>free</td>\n",
       "      <td>до 25 лет</td>\n",
       "      <td>3977.74</td>\n",
       "      <td>26.916544</td>\n",
       "      <td>2021-08-20</td>\n",
       "      <td>8</td>\n",
       "      <td>8</td>\n",
       "      <td>50</td>\n",
       "      <td>0</td>\n",
       "    </tr>\n",
       "    <tr>\n",
       "      <th>18062</th>\n",
       "      <td>1534</td>\n",
       "      <td>Альберт</td>\n",
       "      <td>25</td>\n",
       "      <td>Краснодар</td>\n",
       "      <td>free</td>\n",
       "      <td>до 25 лет</td>\n",
       "      <td>4928.17</td>\n",
       "      <td>22.560373</td>\n",
       "      <td>2021-09-13</td>\n",
       "      <td>9</td>\n",
       "      <td>8</td>\n",
       "      <td>50</td>\n",
       "      <td>0</td>\n",
       "    </tr>\n",
       "    <tr>\n",
       "      <th>18063</th>\n",
       "      <td>1534</td>\n",
       "      <td>Альберт</td>\n",
       "      <td>25</td>\n",
       "      <td>Краснодар</td>\n",
       "      <td>free</td>\n",
       "      <td>до 25 лет</td>\n",
       "      <td>3781.10</td>\n",
       "      <td>19.822962</td>\n",
       "      <td>2021-11-04</td>\n",
       "      <td>11</td>\n",
       "      <td>8</td>\n",
       "      <td>50</td>\n",
       "      <td>0</td>\n",
       "    </tr>\n",
       "    <tr>\n",
       "      <th>18064</th>\n",
       "      <td>1534</td>\n",
       "      <td>Альберт</td>\n",
       "      <td>25</td>\n",
       "      <td>Краснодар</td>\n",
       "      <td>free</td>\n",
       "      <td>до 25 лет</td>\n",
       "      <td>2840.42</td>\n",
       "      <td>21.409799</td>\n",
       "      <td>2021-11-16</td>\n",
       "      <td>11</td>\n",
       "      <td>8</td>\n",
       "      <td>50</td>\n",
       "      <td>0</td>\n",
       "    </tr>\n",
       "    <tr>\n",
       "      <th>18065</th>\n",
       "      <td>1534</td>\n",
       "      <td>Альберт</td>\n",
       "      <td>25</td>\n",
       "      <td>Краснодар</td>\n",
       "      <td>free</td>\n",
       "      <td>до 25 лет</td>\n",
       "      <td>3826.19</td>\n",
       "      <td>18.435051</td>\n",
       "      <td>2021-11-18</td>\n",
       "      <td>11</td>\n",
       "      <td>8</td>\n",
       "      <td>50</td>\n",
       "      <td>0</td>\n",
       "    </tr>\n",
       "    <tr>\n",
       "      <th>18066</th>\n",
       "      <td>1534</td>\n",
       "      <td>Альберт</td>\n",
       "      <td>25</td>\n",
       "      <td>Краснодар</td>\n",
       "      <td>free</td>\n",
       "      <td>до 25 лет</td>\n",
       "      <td>2902.31</td>\n",
       "      <td>16.674362</td>\n",
       "      <td>2021-11-27</td>\n",
       "      <td>11</td>\n",
       "      <td>8</td>\n",
       "      <td>50</td>\n",
       "      <td>0</td>\n",
       "    </tr>\n",
       "    <tr>\n",
       "      <th>18067</th>\n",
       "      <td>1534</td>\n",
       "      <td>Альберт</td>\n",
       "      <td>25</td>\n",
       "      <td>Краснодар</td>\n",
       "      <td>free</td>\n",
       "      <td>до 25 лет</td>\n",
       "      <td>2371.71</td>\n",
       "      <td>15.893917</td>\n",
       "      <td>2021-12-29</td>\n",
       "      <td>12</td>\n",
       "      <td>8</td>\n",
       "      <td>50</td>\n",
       "      <td>0</td>\n",
       "    </tr>\n",
       "  </tbody>\n",
       "</table>\n",
       "</div>"
      ],
      "text/plain": [
       "       user_id     name  age       city subscription_type age_category  \\\n",
       "18058     1534  Альберт   25  Краснодар              free    до 25 лет   \n",
       "18059     1534  Альберт   25  Краснодар              free    до 25 лет   \n",
       "18060     1534  Альберт   25  Краснодар              free    до 25 лет   \n",
       "18061     1534  Альберт   25  Краснодар              free    до 25 лет   \n",
       "18062     1534  Альберт   25  Краснодар              free    до 25 лет   \n",
       "18063     1534  Альберт   25  Краснодар              free    до 25 лет   \n",
       "18064     1534  Альберт   25  Краснодар              free    до 25 лет   \n",
       "18065     1534  Альберт   25  Краснодар              free    до 25 лет   \n",
       "18066     1534  Альберт   25  Краснодар              free    до 25 лет   \n",
       "18067     1534  Альберт   25  Краснодар              free    до 25 лет   \n",
       "\n",
       "       distance   duration       date  month  minute_price  start_ride_price  \\\n",
       "18058    195.45   6.469074 2021-06-11      6             8                50   \n",
       "18059   3214.02  18.343604 2021-06-18      6             8                50   \n",
       "18060   3644.71  20.289416 2021-08-08      8             8                50   \n",
       "18061   3977.74  26.916544 2021-08-20      8             8                50   \n",
       "18062   4928.17  22.560373 2021-09-13      9             8                50   \n",
       "18063   3781.10  19.822962 2021-11-04     11             8                50   \n",
       "18064   2840.42  21.409799 2021-11-16     11             8                50   \n",
       "18065   3826.19  18.435051 2021-11-18     11             8                50   \n",
       "18066   2902.31  16.674362 2021-11-27     11             8                50   \n",
       "18067   2371.71  15.893917 2021-12-29     12             8                50   \n",
       "\n",
       "       subscription_fee  \n",
       "18058                 0  \n",
       "18059                 0  \n",
       "18060                 0  \n",
       "18061                 0  \n",
       "18062                 0  \n",
       "18063                 0  \n",
       "18064                 0  \n",
       "18065                 0  \n",
       "18066                 0  \n",
       "18067                 0  "
      ]
     },
     "execution_count": 54,
     "metadata": {},
     "output_type": "execute_result"
    }
   ],
   "source": [
    "df.tail(10)"
   ]
  },
  {
   "cell_type": "markdown",
   "id": "c0704db7",
   "metadata": {},
   "source": [
    "Проверим размерность итоговой таблицы:"
   ]
  },
  {
   "cell_type": "code",
   "execution_count": 55,
   "id": "92715a05",
   "metadata": {},
   "outputs": [
    {
     "data": {
      "text/plain": [
       "18068"
      ]
     },
     "execution_count": 55,
     "metadata": {},
     "output_type": "execute_result"
    }
   ],
   "source": [
    "len(df)"
   ]
  },
  {
   "cell_type": "markdown",
   "id": "af7e8f20",
   "metadata": {},
   "source": [
    "Проверим итоговую таблицу на наличие пропусков:"
   ]
  },
  {
   "cell_type": "code",
   "execution_count": 56,
   "id": "958c9437",
   "metadata": {},
   "outputs": [
    {
     "data": {
      "text/plain": [
       "user_id              0\n",
       "name                 0\n",
       "age                  0\n",
       "city                 0\n",
       "subscription_type    0\n",
       "age_category         0\n",
       "distance             0\n",
       "duration             0\n",
       "date                 0\n",
       "month                0\n",
       "minute_price         0\n",
       "start_ride_price     0\n",
       "subscription_fee     0\n",
       "dtype: int64"
      ]
     },
     "execution_count": 56,
     "metadata": {},
     "output_type": "execute_result"
    }
   ],
   "source": [
    "df.isna().sum()"
   ]
  },
  {
   "cell_type": "markdown",
   "id": "7ae2f5a4",
   "metadata": {},
   "source": [
    "Создадим отдельные датафреймы для пользователей с подпиской и без таковой:"
   ]
  },
  {
   "cell_type": "code",
   "execution_count": 57,
   "id": "6e232274",
   "metadata": {},
   "outputs": [],
   "source": [
    "df_free = df.query('subscription_type == \"free\"')"
   ]
  },
  {
   "cell_type": "code",
   "execution_count": 58,
   "id": "2009d0de",
   "metadata": {},
   "outputs": [],
   "source": [
    "df_ultra = df.query('subscription_type == \"ultra\"')"
   ]
  },
  {
   "cell_type": "markdown",
   "id": "e735ccc4",
   "metadata": {},
   "source": [
    "Визуализируем данные о расстоянии поездок пользователей без подписки и с подпиской:"
   ]
  },
  {
   "cell_type": "code",
   "execution_count": 59,
   "id": "91ce0eb6",
   "metadata": {},
   "outputs": [
    {
     "data": {
      "image/png": "[encoded data removed]",
      "text/plain": [
       "<Figure size 1080x360 with 1 Axes>"
      ]
     },
     "metadata": {
      "needs_background": "light"
     },
     "output_type": "display_data"
    }
   ],
   "source": [
    "df_free['distance'].plot(kind='hist', figsize=(15,5), bins=100, grid = True,\n",
    "                       title='Распределение расстояний поездки для пользователей без подписки')\n",
    "plt.xlabel('Растояние поездки, м')\n",
    "plt.ylabel('Частота')\n",
    "plt.show()"
   ]
  },
  {
   "cell_type": "code",
   "execution_count": 60,
   "id": "feb52965",
   "metadata": {},
   "outputs": [
    {
     "data": {
      "text/plain": [
       "count    11568.000000\n",
       "mean      3045.495284\n",
       "std       1246.173810\n",
       "min          0.860000\n",
       "25%       2366.560000\n",
       "50%       3114.650000\n",
       "75%       3905.695000\n",
       "max       7211.010000\n",
       "Name: distance, dtype: float64"
      ]
     },
     "execution_count": 60,
     "metadata": {},
     "output_type": "execute_result"
    }
   ],
   "source": [
    "df_free['distance'].describe()"
   ]
  },
  {
   "cell_type": "code",
   "execution_count": 61,
   "id": "7bfbb303",
   "metadata": {},
   "outputs": [
    {
     "data": {
      "image/png": "[encoded data removed]",
      "text/plain": [
       "<Figure size 1080x360 with 1 Axes>"
      ]
     },
     "metadata": {
      "needs_background": "light"
     },
     "output_type": "display_data"
    }
   ],
   "source": [
    "df_ultra['distance'].plot(kind='hist', figsize=(15,5), bins=100, grid = True,\n",
    "                       title='Распределение расстояний поездки для пользователей c подпиской')\n",
    "plt.xlabel('Растояние поездки, м')\n",
    "plt.ylabel('Частота')\n",
    "plt.show()"
   ]
  },
  {
   "cell_type": "code",
   "execution_count": 62,
   "id": "dcd4d5b3",
   "metadata": {},
   "outputs": [
    {
     "data": {
      "text/plain": [
       "count    6500.000000\n",
       "mean     3115.445431\n",
       "std       836.895369\n",
       "min       244.210000\n",
       "25%      2785.447500\n",
       "50%      3148.640000\n",
       "75%      3560.577500\n",
       "max      5699.770000\n",
       "Name: distance, dtype: float64"
      ]
     },
     "execution_count": 62,
     "metadata": {},
     "output_type": "execute_result"
    }
   ],
   "source": [
    "df_ultra['distance'].describe()"
   ]
  },
  {
   "cell_type": "markdown",
   "id": "95fcd77b",
   "metadata": {},
   "source": [
    "Построим совмещенный график распределения расстояния поездки для пользователей с подпиской и без подписки"
   ]
  },
  {
   "cell_type": "code",
   "execution_count": 63,
   "id": "216ba9e1",
   "metadata": {},
   "outputs": [
    {
     "data": {
      "image/png": "[encoded data removed]",
      "text/plain": [
       "<Figure size 1080x360 with 1 Axes>"
      ]
     },
     "metadata": {
      "needs_background": "light"
     },
     "output_type": "display_data"
    }
   ],
   "source": [
    "fig, ax = plt.subplots(figsize=(15,5))\n",
    "ax.hist([df_free['distance'], df_ultra['distance']], bins=100, histtype='step', linewidth=2, \n",
    "        alpha=0.7, label=['df_free','df_ultra']);\n",
    "\n",
    "handles, labels = ax.get_legend_handles_labels()\n",
    "leg_entries = {}\n",
    "for h, label in zip(handles, labels):\n",
    "    leg_entries[label] = Line2D([0], [0], color=h.get_facecolor()[:-1],\n",
    "                                alpha=h.get_alpha(), lw=h.get_linewidth())\n",
    "labels_sorted, lines = zip(*sorted(leg_entries.items()))\n",
    "ax.legend(lines, labels_sorted, frameon=True)\n",
    "\n",
    "\n",
    "plt.ylabel('Частота')\n",
    "plt.xlabel('Распределение расстояния поездки для пользователей с подпиской и без подписки, м')\n",
    "plt.show()"
   ]
  },
  {
   "cell_type": "markdown",
   "id": "96e6c56b",
   "metadata": {},
   "source": [
    "Как видно из графиков и основных статистических параметров, выведенных выше, несмотря на близкие показатели средних значений и очень близкие показатели медиан, распредленение расстояния поездок для пользователей без подписки и  с подпиской существенно различается первым квартилем, что говорит нам о том, что пользователи без подписки совершают больше коротких поездок. Также имеется существенное раздичие в значениях третьего квартиля, что говорит о том, что пользователи без подписки совершают и больше длительных поездок, что по итогу и уравнивает медианное значение, относительно пользователей с подпиской. Стандартное отклонение у пользователей с подпиской существенно ниже."
   ]
  },
  {
   "cell_type": "markdown",
   "id": "870cbbd6",
   "metadata": {},
   "source": [
    "Визуализируем данные о времени поездок пользователей без подписки и с подпиской:"
   ]
  },
  {
   "cell_type": "code",
   "execution_count": 64,
   "id": "db615419",
   "metadata": {},
   "outputs": [
    {
     "data": {
      "image/png": "[encoded data removed]",
      "text/plain": [
       "<Figure size 1080x360 with 1 Axes>"
      ]
     },
     "metadata": {
      "needs_background": "light"
     },
     "output_type": "display_data"
    }
   ],
   "source": [
    "df_free['duration'].plot(kind='hist', figsize=(15,5), bins=100, grid = True,\n",
    "                       title='Распределение времени поездки для пользователей без подписки')\n",
    "plt.xlabel('Длительность поездки, мин')\n",
    "plt.ylabel('Частота')\n",
    "plt.show()"
   ]
  },
  {
   "cell_type": "code",
   "execution_count": 65,
   "id": "8ca0794b",
   "metadata": {},
   "outputs": [
    {
     "data": {
      "text/plain": [
       "count    11568.000000\n",
       "mean        17.390909\n",
       "std          6.326803\n",
       "min          0.500000\n",
       "25%         12.958437\n",
       "50%         17.326890\n",
       "75%         21.594071\n",
       "max         34.948498\n",
       "Name: duration, dtype: float64"
      ]
     },
     "execution_count": 65,
     "metadata": {},
     "output_type": "execute_result"
    }
   ],
   "source": [
    "df_free['duration'].describe()"
   ]
  },
  {
   "cell_type": "code",
   "execution_count": 66,
   "id": "124eb900",
   "metadata": {},
   "outputs": [
    {
     "data": {
      "image/png": "[encoded data removed]",
      "text/plain": [
       "<Figure size 1080x360 with 1 Axes>"
      ]
     },
     "metadata": {
      "needs_background": "light"
     },
     "output_type": "display_data"
    }
   ],
   "source": [
    "df_ultra['duration'].plot(kind='hist', figsize=(15,5), bins=100, grid = True,\n",
    "                       title='Распределение времени поездки для пользователей с подпиской')\n",
    "plt.xlabel('Длительность поездки, мин')\n",
    "plt.ylabel('Частота')\n",
    "plt.show()"
   ]
  },
  {
   "cell_type": "code",
   "execution_count": 67,
   "id": "4505a1c1",
   "metadata": {},
   "outputs": [
    {
     "data": {
      "text/plain": [
       "count    6500.000000\n",
       "mean       18.541985\n",
       "std         5.572048\n",
       "min         3.760353\n",
       "25%        14.524654\n",
       "50%        18.178153\n",
       "75%        21.884129\n",
       "max        40.823963\n",
       "Name: duration, dtype: float64"
      ]
     },
     "execution_count": 67,
     "metadata": {},
     "output_type": "execute_result"
    }
   ],
   "source": [
    "df_ultra['duration'].describe()"
   ]
  },
  {
   "cell_type": "markdown",
   "id": "6808e51f",
   "metadata": {},
   "source": [
    "Построим совмещенный график распределения времени поездки для пользователей с подпиской и без подписки"
   ]
  },
  {
   "cell_type": "code",
   "execution_count": 68,
   "id": "851eeb76",
   "metadata": {},
   "outputs": [
    {
     "data": {
      "image/png": "[encoded data removed]",
      "text/plain": [
       "<Figure size 1080x360 with 1 Axes>"
      ]
     },
     "metadata": {
      "needs_background": "light"
     },
     "output_type": "display_data"
    }
   ],
   "source": [
    "fig, ax = plt.subplots(figsize=(15,5))\n",
    "ax.hist([df_free['duration'], df_ultra['duration']], bins=100, histtype='step', linewidth=2, \n",
    "        alpha=0.7, label=['df_free','df_ultra']);\n",
    "\n",
    "handles, labels = ax.get_legend_handles_labels()\n",
    "leg_entries = {}\n",
    "for h, label in zip(handles, labels):\n",
    "    leg_entries[label] = Line2D([0], [0], color=h.get_facecolor()[:-1],\n",
    "                                alpha=h.get_alpha(), lw=h.get_linewidth())\n",
    "labels_sorted, lines = zip(*sorted(leg_entries.items()))\n",
    "ax.legend(lines, labels_sorted, frameon=True)\n",
    "\n",
    "\n",
    "plt.ylabel('Частота')\n",
    "plt.xlabel('Распределение времени поездки для пользователей с подпиской и без подписки, мин')\n",
    "plt.show()"
   ]
  },
  {
   "cell_type": "markdown",
   "id": "47b2590e",
   "metadata": {},
   "source": [
    "Как видно из графиков и основных статистических параметров, выведенных выше, среднее значение и  медиана длительности поездок выше для пользователей с подпиской, такая же тенденция сохраняется при рассмотрении величин длительности поездок первого квартиля. В рамках третьего квартиля длительности поездок для сравниваемых категорий пользователей практически равны. Полученные зависимости выглядят логично, т.к. для пользователей с подпиской, 1 минута пробега самоката обходится дешевле. Стандартное отклонение незначительно ниже, для пользователей с подпиской."
   ]
  },
  {
   "cell_type": "markdown",
   "id": "c0b276bb",
   "metadata": {},
   "source": [
    "**Вывод:** Выполнено объединение данных о пользователях, поездках и подписках в один датафрейм. \n",
    "\n",
    "Из полученного датафрейма создано еще два датафрейма, отфильтрованных по следующим принципам:\n",
    "c данными о пользователях без подписки;\n",
    "с данными о пользователях с подпиской.\n",
    "\n",
    "Визуализирована информация о расстоянии и времени поездок для пользователей обеих категорий. Несмотря на близкие показатели средних значений и очень близкие показатели медиан, распредленение расстояния поездок для пользователей без подписки и с подпиской существенно различается первым квартилем, что говорит нам о том, что пользователи без подписки совершают больше коротких поездок. Также имеется существенное раздичие в значениях третьего квартиля, что говорит о том, что пользователи без подписки совершают и больше длительных поездок, что по итогу и уравнивает медианное значение, относительно пользователей с подпиской. Стандартное отклонение у пользователей с подпиской существенно ниже. \n",
    "\n",
    "Среднее значение и медиана длительности поездок выше для пользователей с подпиской, такая же тенденция сохраняется при рассмотрении величин длительности поездок первого квартиля. В рамках третьего квартиля длительности поездок для сравниваемых категорий пользователей практически равны. Полученные зависимости выглядят логично, т.к. для пользователей с подпиской 1 минута пробега самоката обходится дешевле. Стандартное отклонение незначительно ниже, для пользователей с подпиской."
   ]
  },
  {
   "cell_type": "markdown",
   "id": "402d620f",
   "metadata": {},
   "source": [
    "### Шаг 5. Подсчёт выручки\n",
    "<a id='section_id5'></a>"
   ]
  },
  {
   "cell_type": "markdown",
   "id": "8d04b893",
   "metadata": {},
   "source": [
    "Создадим датафрейм с агрегированными данными о поездках на основе датафрейма с объединёнными данными из шага 1.4: суммарное расстояние, количество поездок и суммарное время для каждого пользователя за каждый месяц."
   ]
  },
  {
   "cell_type": "code",
   "execution_count": 69,
   "id": "5eb53478",
   "metadata": {},
   "outputs": [],
   "source": [
    "df_agg = df.pivot_table(index=['user_id','month'], values=['distance', 'duration', 'subscription_type'], \n",
    "                        aggfunc=({'distance': 'sum', 'duration': ['sum', 'count'], 'subscription_type': 'first'}))\n",
    "df_agg.columns = ['distance', 'count', 'duration', 'subscription_type']\n",
    "df_agg['duration'] = np.ceil(df_agg['duration'])"
   ]
  },
  {
   "cell_type": "markdown",
   "id": "d0386720",
   "metadata": {},
   "source": [
    "Создадим вспомогательную таблицу, чтобы подсчитать значения выручки по месяцам:"
   ]
  },
  {
   "cell_type": "code",
   "execution_count": 70,
   "id": "9782eed3",
   "metadata": {},
   "outputs": [],
   "source": [
    "df_revenue = df.pivot_table(index=['user_id','month'], values=['minute_price', 'start_ride_price', 'subscription_fee'])\n",
    "df_revenue['revenue'] = \\\n",
    "df_revenue['subscription_fee'] + df_revenue['minute_price']*df_agg['duration'] + df_revenue['start_ride_price']*df_agg['count']"
   ]
  },
  {
   "cell_type": "code",
   "execution_count": 71,
   "id": "ec93eb18",
   "metadata": {},
   "outputs": [
    {
     "data": {
      "text/html": [
       "<div>\n",
       "<style scoped>\n",
       "    .dataframe tbody tr th:only-of-type {\n",
       "        vertical-align: middle;\n",
       "    }\n",
       "\n",
       "    .dataframe tbody tr th {\n",
       "        vertical-align: top;\n",
       "    }\n",
       "\n",
       "    .dataframe thead th {\n",
       "        text-align: right;\n",
       "    }\n",
       "</style>\n",
       "<table border=\"1\" class=\"dataframe\">\n",
       "  <thead>\n",
       "    <tr style=\"text-align: right;\">\n",
       "      <th></th>\n",
       "      <th></th>\n",
       "      <th>minute_price</th>\n",
       "      <th>start_ride_price</th>\n",
       "      <th>subscription_fee</th>\n",
       "      <th>revenue</th>\n",
       "    </tr>\n",
       "    <tr>\n",
       "      <th>user_id</th>\n",
       "      <th>month</th>\n",
       "      <th></th>\n",
       "      <th></th>\n",
       "      <th></th>\n",
       "      <th></th>\n",
       "    </tr>\n",
       "  </thead>\n",
       "  <tbody>\n",
       "    <tr>\n",
       "      <th rowspan=\"5\" valign=\"top\">1</th>\n",
       "      <th>1</th>\n",
       "      <td>6</td>\n",
       "      <td>0</td>\n",
       "      <td>199</td>\n",
       "      <td>451.0</td>\n",
       "    </tr>\n",
       "    <tr>\n",
       "      <th>4</th>\n",
       "      <td>6</td>\n",
       "      <td>0</td>\n",
       "      <td>199</td>\n",
       "      <td>241.0</td>\n",
       "    </tr>\n",
       "    <tr>\n",
       "      <th>8</th>\n",
       "      <td>6</td>\n",
       "      <td>0</td>\n",
       "      <td>199</td>\n",
       "      <td>469.0</td>\n",
       "    </tr>\n",
       "    <tr>\n",
       "      <th>10</th>\n",
       "      <td>6</td>\n",
       "      <td>0</td>\n",
       "      <td>199</td>\n",
       "      <td>391.0</td>\n",
       "    </tr>\n",
       "    <tr>\n",
       "      <th>11</th>\n",
       "      <td>6</td>\n",
       "      <td>0</td>\n",
       "      <td>199</td>\n",
       "      <td>523.0</td>\n",
       "    </tr>\n",
       "  </tbody>\n",
       "</table>\n",
       "</div>"
      ],
      "text/plain": [
       "               minute_price  start_ride_price  subscription_fee  revenue\n",
       "user_id month                                                           \n",
       "1       1                 6                 0               199    451.0\n",
       "        4                 6                 0               199    241.0\n",
       "        8                 6                 0               199    469.0\n",
       "        10                6                 0               199    391.0\n",
       "        11                6                 0               199    523.0"
      ]
     },
     "execution_count": 71,
     "metadata": {},
     "output_type": "execute_result"
    }
   ],
   "source": [
    "df_revenue.head()"
   ]
  },
  {
   "cell_type": "markdown",
   "id": "ed4d4186",
   "metadata": {},
   "source": [
    "Добавим столбец 'revenue' в ранее сформированную таблицу df_agg:"
   ]
  },
  {
   "cell_type": "code",
   "execution_count": 72,
   "id": "11a4299c",
   "metadata": {},
   "outputs": [],
   "source": [
    "df_agg['revenue'] = df_revenue['revenue']"
   ]
  },
  {
   "cell_type": "markdown",
   "id": "d6bf750d",
   "metadata": {},
   "source": [
    "Проверим что таблица сформирована корректно:"
   ]
  },
  {
   "cell_type": "code",
   "execution_count": 73,
   "id": "6e4c919c",
   "metadata": {},
   "outputs": [
    {
     "data": {
      "text/html": [
       "<div>\n",
       "<style scoped>\n",
       "    .dataframe tbody tr th:only-of-type {\n",
       "        vertical-align: middle;\n",
       "    }\n",
       "\n",
       "    .dataframe tbody tr th {\n",
       "        vertical-align: top;\n",
       "    }\n",
       "\n",
       "    .dataframe thead th {\n",
       "        text-align: right;\n",
       "    }\n",
       "</style>\n",
       "<table border=\"1\" class=\"dataframe\">\n",
       "  <thead>\n",
       "    <tr style=\"text-align: right;\">\n",
       "      <th></th>\n",
       "      <th></th>\n",
       "      <th>distance</th>\n",
       "      <th>count</th>\n",
       "      <th>duration</th>\n",
       "      <th>subscription_type</th>\n",
       "      <th>revenue</th>\n",
       "    </tr>\n",
       "    <tr>\n",
       "      <th>user_id</th>\n",
       "      <th>month</th>\n",
       "      <th></th>\n",
       "      <th></th>\n",
       "      <th></th>\n",
       "      <th></th>\n",
       "      <th></th>\n",
       "    </tr>\n",
       "  </thead>\n",
       "  <tbody>\n",
       "    <tr>\n",
       "      <th rowspan=\"6\" valign=\"top\">1</th>\n",
       "      <th>1</th>\n",
       "      <td>7027.51</td>\n",
       "      <td>2</td>\n",
       "      <td>42.0</td>\n",
       "      <td>ultra</td>\n",
       "      <td>451.0</td>\n",
       "    </tr>\n",
       "    <tr>\n",
       "      <th>4</th>\n",
       "      <td>754.16</td>\n",
       "      <td>1</td>\n",
       "      <td>7.0</td>\n",
       "      <td>ultra</td>\n",
       "      <td>241.0</td>\n",
       "    </tr>\n",
       "    <tr>\n",
       "      <th>8</th>\n",
       "      <td>6723.47</td>\n",
       "      <td>2</td>\n",
       "      <td>45.0</td>\n",
       "      <td>ultra</td>\n",
       "      <td>469.0</td>\n",
       "    </tr>\n",
       "    <tr>\n",
       "      <th>10</th>\n",
       "      <td>5809.91</td>\n",
       "      <td>2</td>\n",
       "      <td>32.0</td>\n",
       "      <td>ultra</td>\n",
       "      <td>391.0</td>\n",
       "    </tr>\n",
       "    <tr>\n",
       "      <th>11</th>\n",
       "      <td>7003.50</td>\n",
       "      <td>3</td>\n",
       "      <td>54.0</td>\n",
       "      <td>ultra</td>\n",
       "      <td>523.0</td>\n",
       "    </tr>\n",
       "    <tr>\n",
       "      <th>12</th>\n",
       "      <td>6751.63</td>\n",
       "      <td>2</td>\n",
       "      <td>28.0</td>\n",
       "      <td>ultra</td>\n",
       "      <td>367.0</td>\n",
       "    </tr>\n",
       "    <tr>\n",
       "      <th rowspan=\"7\" valign=\"top\">2</th>\n",
       "      <th>3</th>\n",
       "      <td>10187.73</td>\n",
       "      <td>3</td>\n",
       "      <td>61.0</td>\n",
       "      <td>ultra</td>\n",
       "      <td>565.0</td>\n",
       "    </tr>\n",
       "    <tr>\n",
       "      <th>4</th>\n",
       "      <td>6164.39</td>\n",
       "      <td>2</td>\n",
       "      <td>40.0</td>\n",
       "      <td>ultra</td>\n",
       "      <td>439.0</td>\n",
       "    </tr>\n",
       "    <tr>\n",
       "      <th>6</th>\n",
       "      <td>3255.34</td>\n",
       "      <td>1</td>\n",
       "      <td>14.0</td>\n",
       "      <td>ultra</td>\n",
       "      <td>283.0</td>\n",
       "    </tr>\n",
       "    <tr>\n",
       "      <th>7</th>\n",
       "      <td>6780.73</td>\n",
       "      <td>2</td>\n",
       "      <td>47.0</td>\n",
       "      <td>ultra</td>\n",
       "      <td>481.0</td>\n",
       "    </tr>\n",
       "    <tr>\n",
       "      <th>8</th>\n",
       "      <td>923.01</td>\n",
       "      <td>1</td>\n",
       "      <td>7.0</td>\n",
       "      <td>ultra</td>\n",
       "      <td>241.0</td>\n",
       "    </tr>\n",
       "    <tr>\n",
       "      <th>10</th>\n",
       "      <td>2824.64</td>\n",
       "      <td>1</td>\n",
       "      <td>19.0</td>\n",
       "      <td>ultra</td>\n",
       "      <td>313.0</td>\n",
       "    </tr>\n",
       "    <tr>\n",
       "      <th>12</th>\n",
       "      <td>3828.25</td>\n",
       "      <td>1</td>\n",
       "      <td>12.0</td>\n",
       "      <td>ultra</td>\n",
       "      <td>271.0</td>\n",
       "    </tr>\n",
       "    <tr>\n",
       "      <th rowspan=\"7\" valign=\"top\">3</th>\n",
       "      <th>1</th>\n",
       "      <td>3061.78</td>\n",
       "      <td>1</td>\n",
       "      <td>13.0</td>\n",
       "      <td>ultra</td>\n",
       "      <td>277.0</td>\n",
       "    </tr>\n",
       "    <tr>\n",
       "      <th>2</th>\n",
       "      <td>5421.16</td>\n",
       "      <td>2</td>\n",
       "      <td>38.0</td>\n",
       "      <td>ultra</td>\n",
       "      <td>427.0</td>\n",
       "    </tr>\n",
       "    <tr>\n",
       "      <th>4</th>\n",
       "      <td>2956.65</td>\n",
       "      <td>1</td>\n",
       "      <td>21.0</td>\n",
       "      <td>ultra</td>\n",
       "      <td>325.0</td>\n",
       "    </tr>\n",
       "    <tr>\n",
       "      <th>5</th>\n",
       "      <td>9064.03</td>\n",
       "      <td>3</td>\n",
       "      <td>62.0</td>\n",
       "      <td>ultra</td>\n",
       "      <td>571.0</td>\n",
       "    </tr>\n",
       "    <tr>\n",
       "      <th>7</th>\n",
       "      <td>10919.59</td>\n",
       "      <td>3</td>\n",
       "      <td>66.0</td>\n",
       "      <td>ultra</td>\n",
       "      <td>595.0</td>\n",
       "    </tr>\n",
       "    <tr>\n",
       "      <th>9</th>\n",
       "      <td>2891.01</td>\n",
       "      <td>1</td>\n",
       "      <td>23.0</td>\n",
       "      <td>ultra</td>\n",
       "      <td>337.0</td>\n",
       "    </tr>\n",
       "    <tr>\n",
       "      <th>12</th>\n",
       "      <td>2593.38</td>\n",
       "      <td>1</td>\n",
       "      <td>13.0</td>\n",
       "      <td>ultra</td>\n",
       "      <td>277.0</td>\n",
       "    </tr>\n",
       "  </tbody>\n",
       "</table>\n",
       "</div>"
      ],
      "text/plain": [
       "               distance  count  duration subscription_type  revenue\n",
       "user_id month                                                      \n",
       "1       1       7027.51      2      42.0             ultra    451.0\n",
       "        4        754.16      1       7.0             ultra    241.0\n",
       "        8       6723.47      2      45.0             ultra    469.0\n",
       "        10      5809.91      2      32.0             ultra    391.0\n",
       "        11      7003.50      3      54.0             ultra    523.0\n",
       "        12      6751.63      2      28.0             ultra    367.0\n",
       "2       3      10187.73      3      61.0             ultra    565.0\n",
       "        4       6164.39      2      40.0             ultra    439.0\n",
       "        6       3255.34      1      14.0             ultra    283.0\n",
       "        7       6780.73      2      47.0             ultra    481.0\n",
       "        8        923.01      1       7.0             ultra    241.0\n",
       "        10      2824.64      1      19.0             ultra    313.0\n",
       "        12      3828.25      1      12.0             ultra    271.0\n",
       "3       1       3061.78      1      13.0             ultra    277.0\n",
       "        2       5421.16      2      38.0             ultra    427.0\n",
       "        4       2956.65      1      21.0             ultra    325.0\n",
       "        5       9064.03      3      62.0             ultra    571.0\n",
       "        7      10919.59      3      66.0             ultra    595.0\n",
       "        9       2891.01      1      23.0             ultra    337.0\n",
       "        12      2593.38      1      13.0             ultra    277.0"
      ]
     },
     "execution_count": 73,
     "metadata": {},
     "output_type": "execute_result"
    }
   ],
   "source": [
    "df_agg.head(20)"
   ]
  },
  {
   "cell_type": "code",
   "execution_count": 74,
   "id": "f7105080",
   "metadata": {},
   "outputs": [
    {
     "data": {
      "text/html": [
       "<div>\n",
       "<style scoped>\n",
       "    .dataframe tbody tr th:only-of-type {\n",
       "        vertical-align: middle;\n",
       "    }\n",
       "\n",
       "    .dataframe tbody tr th {\n",
       "        vertical-align: top;\n",
       "    }\n",
       "\n",
       "    .dataframe thead th {\n",
       "        text-align: right;\n",
       "    }\n",
       "</style>\n",
       "<table border=\"1\" class=\"dataframe\">\n",
       "  <thead>\n",
       "    <tr style=\"text-align: right;\">\n",
       "      <th></th>\n",
       "      <th></th>\n",
       "      <th>distance</th>\n",
       "      <th>count</th>\n",
       "      <th>duration</th>\n",
       "      <th>subscription_type</th>\n",
       "      <th>revenue</th>\n",
       "    </tr>\n",
       "    <tr>\n",
       "      <th>user_id</th>\n",
       "      <th>month</th>\n",
       "      <th></th>\n",
       "      <th></th>\n",
       "      <th></th>\n",
       "      <th></th>\n",
       "      <th></th>\n",
       "    </tr>\n",
       "  </thead>\n",
       "  <tbody>\n",
       "    <tr>\n",
       "      <th rowspan=\"4\" valign=\"top\">1532</th>\n",
       "      <th>8</th>\n",
       "      <td>8774.46</td>\n",
       "      <td>2</td>\n",
       "      <td>46.0</td>\n",
       "      <td>free</td>\n",
       "      <td>468.0</td>\n",
       "    </tr>\n",
       "    <tr>\n",
       "      <th>10</th>\n",
       "      <td>2891.12</td>\n",
       "      <td>1</td>\n",
       "      <td>21.0</td>\n",
       "      <td>free</td>\n",
       "      <td>218.0</td>\n",
       "    </tr>\n",
       "    <tr>\n",
       "      <th>11</th>\n",
       "      <td>8627.50</td>\n",
       "      <td>4</td>\n",
       "      <td>58.0</td>\n",
       "      <td>free</td>\n",
       "      <td>664.0</td>\n",
       "    </tr>\n",
       "    <tr>\n",
       "      <th>12</th>\n",
       "      <td>6111.89</td>\n",
       "      <td>2</td>\n",
       "      <td>41.0</td>\n",
       "      <td>free</td>\n",
       "      <td>428.0</td>\n",
       "    </tr>\n",
       "    <tr>\n",
       "      <th rowspan=\"8\" valign=\"top\">1533</th>\n",
       "      <th>1</th>\n",
       "      <td>3438.60</td>\n",
       "      <td>1</td>\n",
       "      <td>21.0</td>\n",
       "      <td>free</td>\n",
       "      <td>218.0</td>\n",
       "    </tr>\n",
       "    <tr>\n",
       "      <th>2</th>\n",
       "      <td>310.49</td>\n",
       "      <td>1</td>\n",
       "      <td>11.0</td>\n",
       "      <td>free</td>\n",
       "      <td>138.0</td>\n",
       "    </tr>\n",
       "    <tr>\n",
       "      <th>3</th>\n",
       "      <td>12822.70</td>\n",
       "      <td>4</td>\n",
       "      <td>93.0</td>\n",
       "      <td>free</td>\n",
       "      <td>944.0</td>\n",
       "    </tr>\n",
       "    <tr>\n",
       "      <th>4</th>\n",
       "      <td>2514.50</td>\n",
       "      <td>1</td>\n",
       "      <td>18.0</td>\n",
       "      <td>free</td>\n",
       "      <td>194.0</td>\n",
       "    </tr>\n",
       "    <tr>\n",
       "      <th>6</th>\n",
       "      <td>1035.00</td>\n",
       "      <td>1</td>\n",
       "      <td>7.0</td>\n",
       "      <td>free</td>\n",
       "      <td>106.0</td>\n",
       "    </tr>\n",
       "    <tr>\n",
       "      <th>7</th>\n",
       "      <td>8772.52</td>\n",
       "      <td>3</td>\n",
       "      <td>47.0</td>\n",
       "      <td>free</td>\n",
       "      <td>526.0</td>\n",
       "    </tr>\n",
       "    <tr>\n",
       "      <th>8</th>\n",
       "      <td>4581.94</td>\n",
       "      <td>1</td>\n",
       "      <td>22.0</td>\n",
       "      <td>free</td>\n",
       "      <td>226.0</td>\n",
       "    </tr>\n",
       "    <tr>\n",
       "      <th>11</th>\n",
       "      <td>3414.45</td>\n",
       "      <td>1</td>\n",
       "      <td>26.0</td>\n",
       "      <td>free</td>\n",
       "      <td>258.0</td>\n",
       "    </tr>\n",
       "    <tr>\n",
       "      <th rowspan=\"8\" valign=\"top\">1534</th>\n",
       "      <th>1</th>\n",
       "      <td>4678.42</td>\n",
       "      <td>1</td>\n",
       "      <td>16.0</td>\n",
       "      <td>free</td>\n",
       "      <td>178.0</td>\n",
       "    </tr>\n",
       "    <tr>\n",
       "      <th>2</th>\n",
       "      <td>2103.91</td>\n",
       "      <td>1</td>\n",
       "      <td>14.0</td>\n",
       "      <td>free</td>\n",
       "      <td>162.0</td>\n",
       "    </tr>\n",
       "    <tr>\n",
       "      <th>4</th>\n",
       "      <td>3434.29</td>\n",
       "      <td>1</td>\n",
       "      <td>15.0</td>\n",
       "      <td>free</td>\n",
       "      <td>170.0</td>\n",
       "    </tr>\n",
       "    <tr>\n",
       "      <th>6</th>\n",
       "      <td>3409.47</td>\n",
       "      <td>2</td>\n",
       "      <td>25.0</td>\n",
       "      <td>free</td>\n",
       "      <td>300.0</td>\n",
       "    </tr>\n",
       "    <tr>\n",
       "      <th>8</th>\n",
       "      <td>7622.45</td>\n",
       "      <td>2</td>\n",
       "      <td>48.0</td>\n",
       "      <td>free</td>\n",
       "      <td>484.0</td>\n",
       "    </tr>\n",
       "    <tr>\n",
       "      <th>9</th>\n",
       "      <td>4928.17</td>\n",
       "      <td>1</td>\n",
       "      <td>23.0</td>\n",
       "      <td>free</td>\n",
       "      <td>234.0</td>\n",
       "    </tr>\n",
       "    <tr>\n",
       "      <th>11</th>\n",
       "      <td>13350.02</td>\n",
       "      <td>4</td>\n",
       "      <td>77.0</td>\n",
       "      <td>free</td>\n",
       "      <td>816.0</td>\n",
       "    </tr>\n",
       "    <tr>\n",
       "      <th>12</th>\n",
       "      <td>2371.71</td>\n",
       "      <td>1</td>\n",
       "      <td>16.0</td>\n",
       "      <td>free</td>\n",
       "      <td>178.0</td>\n",
       "    </tr>\n",
       "  </tbody>\n",
       "</table>\n",
       "</div>"
      ],
      "text/plain": [
       "               distance  count  duration subscription_type  revenue\n",
       "user_id month                                                      \n",
       "1532    8       8774.46      2      46.0              free    468.0\n",
       "        10      2891.12      1      21.0              free    218.0\n",
       "        11      8627.50      4      58.0              free    664.0\n",
       "        12      6111.89      2      41.0              free    428.0\n",
       "1533    1       3438.60      1      21.0              free    218.0\n",
       "        2        310.49      1      11.0              free    138.0\n",
       "        3      12822.70      4      93.0              free    944.0\n",
       "        4       2514.50      1      18.0              free    194.0\n",
       "        6       1035.00      1       7.0              free    106.0\n",
       "        7       8772.52      3      47.0              free    526.0\n",
       "        8       4581.94      1      22.0              free    226.0\n",
       "        11      3414.45      1      26.0              free    258.0\n",
       "1534    1       4678.42      1      16.0              free    178.0\n",
       "        2       2103.91      1      14.0              free    162.0\n",
       "        4       3434.29      1      15.0              free    170.0\n",
       "        6       3409.47      2      25.0              free    300.0\n",
       "        8       7622.45      2      48.0              free    484.0\n",
       "        9       4928.17      1      23.0              free    234.0\n",
       "        11     13350.02      4      77.0              free    816.0\n",
       "        12      2371.71      1      16.0              free    178.0"
      ]
     },
     "execution_count": 74,
     "metadata": {},
     "output_type": "execute_result"
    }
   ],
   "source": [
    "df_agg.tail(20)"
   ]
  },
  {
   "cell_type": "markdown",
   "id": "6f35d62a",
   "metadata": {},
   "source": [
    "**Выводы:** Создан датафрейм с агрегированными данными о поездках на основе датафрейма с объединёнными данными из пункта 1.4: суммарное расстояние, количество поездок и суммарное время для каждого пользователя за каждый месяц.\n",
    "\n",
    "В полученный датафрейм добавлен столбец с помесячной выручкой, которую принёс каждый пользователь"
   ]
  },
  {
   "cell_type": "markdown",
   "id": "41545ac0",
   "metadata": {},
   "source": [
    "### Шаг 6. Проверка гипотез\n",
    "<a id='section_id6'></a>"
   ]
  },
  {
   "cell_type": "markdown",
   "id": "ecb6dab6",
   "metadata": {},
   "source": [
    "Требуется проверить гипотезу - тратят ли пользователи с подпиской больше времени на поездки?\n",
    "\n",
    "В качестве нулевой гипотезы примем гипотезу о том, что среднее время поездки пользователей с и без подписки одинаковое. Альтернативная гипотеза - средняя продолжительность поездок пользователей с подпиской - выше."
   ]
  },
  {
   "cell_type": "code",
   "execution_count": 75,
   "id": "34f9b9fc",
   "metadata": {},
   "outputs": [
    {
     "name": "stdout",
     "output_type": "stream",
     "text": [
      "Средняя продолжительность поездки для пользователей без подписки равна: 17.39090929866399\n",
      "Средняя продолжительность поездки для пользователей c подпиской равна: 18.54198516280583\n",
      "p-значение: 1.2804098316645618e-34\n",
      "Нулевая гипотеза может быть отвергнута\n"
     ]
    }
   ],
   "source": [
    "print(f'Средняя продолжительность поездки для пользователей без подписки равна: {df_free[\"duration\"].mean()}')\n",
    "print(f'Средняя продолжительность поездки для пользователей c подпиской равна: {df_ultra[\"duration\"].mean()}')\n",
    "\n",
    "#установим уровень статистической значимости равный 5%\n",
    "\n",
    "alpha = 0.05\n",
    "\n",
    "result = st.ttest_ind(df_ultra['duration'], df_free['duration'], alternative = 'greater')\n",
    "print('p-значение:', result.pvalue)\n",
    "\n",
    "if result.pvalue < alpha:\n",
    "    print('Нулевая гипотеза может быть отвергнута')\n",
    "else:\n",
    "    print('Не удалось отвергнуть нулевую гипотезу')"
   ]
  },
  {
   "cell_type": "markdown",
   "id": "776e2f00",
   "metadata": {},
   "source": [
    "Исходя из результатов t-теста выше, можем принять гипотезу о том, что пользователи с подпиской тратят больше времени на поездки."
   ]
  },
  {
   "cell_type": "markdown",
   "id": "9be22d3b",
   "metadata": {},
   "source": [
    "Проверить гипотезу о том, что среднее расстояние, которое проезжают пользователи с подпиской за одну поездку, не превышает 3130 метров.\n",
    "\n",
    "В качестве нулевой гипотезы примем гипотезу о том, что пользователи с подпиской в среднем проезжают расстояние равное 3130 метрам. Альтернативная гипотеза - средняя продолжительность поездок пользователей с подпиской более 3130 метров."
   ]
  },
  {
   "cell_type": "code",
   "execution_count": 76,
   "id": "5790481f",
   "metadata": {},
   "outputs": [
    {
     "name": "stdout",
     "output_type": "stream",
     "text": [
      "Среднее расстояние поездки для пользователей с подпиской равна: 3115.445430769231\n",
      "p-значение: 0.9195362605842414\n",
      "Не удалось отвергнуть нулевую гипотезу\n"
     ]
    }
   ],
   "source": [
    "print(f'Среднее расстояние поездки для пользователей с подпиской равна: {df_ultra[\"distance\"].mean()}')\n",
    "\n",
    "#определим число, к которому стремится среднее генеральной совокупности\n",
    "\n",
    "value = 3130\n",
    "\n",
    "#установим уровень статистической значимости равный 5%\n",
    "\n",
    "alpha = 0.05\n",
    "\n",
    "result = st.ttest_1samp(df_ultra['distance'], value, alternative = 'greater')\n",
    "print('p-значение:', result.pvalue)\n",
    "\n",
    "if result.pvalue < alpha:\n",
    "    print('Нулевая гипотеза может быть отвергнута')\n",
    "else:\n",
    "    print('Не удалось отвергнуть нулевую гипотезу')"
   ]
  },
  {
   "cell_type": "markdown",
   "id": "95ca4438",
   "metadata": {},
   "source": [
    "Исходя из результатов t-теста выше, можем принять гипотезу о том, что среднее расстояние, которое проезжают пользователи с подпиской не превышает 3130 метров."
   ]
  },
  {
   "cell_type": "markdown",
   "id": "7096b4bb",
   "metadata": {},
   "source": [
    "Проверить гипотезу о том, будет ли помесячная выручка от пользователей с подпиской по месяцам выше, чем выручка от пользователей без подписки.\n",
    "\n",
    "В качестве нулевой гипотезы примем гипотезу о том, что средняя помесячная выручка от пользователей с подпиской, выше чем от пользователей без подписки. Альтернативная гипотеза - средняя помесячная выручка от пользователей с подпиской - выше."
   ]
  },
  {
   "cell_type": "markdown",
   "id": "7fc2dcdd",
   "metadata": {},
   "source": [
    "На основании имеющихся датасетов, сформируем новые - с информацией о средней помесяной выручке, в зависимости от типа подписки:"
   ]
  },
  {
   "cell_type": "markdown",
   "id": "98c0da10",
   "metadata": {},
   "source": [
    "Для пользователей без подписки:"
   ]
  },
  {
   "cell_type": "code",
   "execution_count": 77,
   "id": "764e6a4a",
   "metadata": {},
   "outputs": [],
   "source": [
    "df_revenue_free = df_agg.query('subscription_type == \"free\"')"
   ]
  },
  {
   "cell_type": "code",
   "execution_count": 78,
   "id": "6f03cf1e",
   "metadata": {},
   "outputs": [
    {
     "data": {
      "text/html": [
       "<div>\n",
       "<style scoped>\n",
       "    .dataframe tbody tr th:only-of-type {\n",
       "        vertical-align: middle;\n",
       "    }\n",
       "\n",
       "    .dataframe tbody tr th {\n",
       "        vertical-align: top;\n",
       "    }\n",
       "\n",
       "    .dataframe thead th {\n",
       "        text-align: right;\n",
       "    }\n",
       "</style>\n",
       "<table border=\"1\" class=\"dataframe\">\n",
       "  <thead>\n",
       "    <tr style=\"text-align: right;\">\n",
       "      <th></th>\n",
       "      <th></th>\n",
       "      <th>distance</th>\n",
       "      <th>count</th>\n",
       "      <th>duration</th>\n",
       "      <th>subscription_type</th>\n",
       "      <th>revenue</th>\n",
       "    </tr>\n",
       "    <tr>\n",
       "      <th>user_id</th>\n",
       "      <th>month</th>\n",
       "      <th></th>\n",
       "      <th></th>\n",
       "      <th></th>\n",
       "      <th></th>\n",
       "      <th></th>\n",
       "    </tr>\n",
       "  </thead>\n",
       "  <tbody>\n",
       "    <tr>\n",
       "      <th rowspan=\"5\" valign=\"top\">700</th>\n",
       "      <th>1</th>\n",
       "      <td>2515.69</td>\n",
       "      <td>1</td>\n",
       "      <td>15.0</td>\n",
       "      <td>free</td>\n",
       "      <td>170.0</td>\n",
       "    </tr>\n",
       "    <tr>\n",
       "      <th>2</th>\n",
       "      <td>13446.65</td>\n",
       "      <td>5</td>\n",
       "      <td>86.0</td>\n",
       "      <td>free</td>\n",
       "      <td>938.0</td>\n",
       "    </tr>\n",
       "    <tr>\n",
       "      <th>3</th>\n",
       "      <td>3798.33</td>\n",
       "      <td>1</td>\n",
       "      <td>19.0</td>\n",
       "      <td>free</td>\n",
       "      <td>202.0</td>\n",
       "    </tr>\n",
       "    <tr>\n",
       "      <th>4</th>\n",
       "      <td>2984.55</td>\n",
       "      <td>1</td>\n",
       "      <td>16.0</td>\n",
       "      <td>free</td>\n",
       "      <td>178.0</td>\n",
       "    </tr>\n",
       "    <tr>\n",
       "      <th>6</th>\n",
       "      <td>5927.65</td>\n",
       "      <td>2</td>\n",
       "      <td>29.0</td>\n",
       "      <td>free</td>\n",
       "      <td>332.0</td>\n",
       "    </tr>\n",
       "  </tbody>\n",
       "</table>\n",
       "</div>"
      ],
      "text/plain": [
       "               distance  count  duration subscription_type  revenue\n",
       "user_id month                                                      \n",
       "700     1       2515.69      1      15.0              free    170.0\n",
       "        2      13446.65      5      86.0              free    938.0\n",
       "        3       3798.33      1      19.0              free    202.0\n",
       "        4       2984.55      1      16.0              free    178.0\n",
       "        6       5927.65      2      29.0              free    332.0"
      ]
     },
     "execution_count": 78,
     "metadata": {},
     "output_type": "execute_result"
    }
   ],
   "source": [
    "df_revenue_free.head()"
   ]
  },
  {
   "cell_type": "markdown",
   "id": "c9c30949",
   "metadata": {},
   "source": [
    "Для пользователей с подпиской:"
   ]
  },
  {
   "cell_type": "code",
   "execution_count": 79,
   "id": "d7635532",
   "metadata": {},
   "outputs": [],
   "source": [
    "df_revenue_ultra = df_agg.query('subscription_type == \"ultra\"')"
   ]
  },
  {
   "cell_type": "code",
   "execution_count": 80,
   "id": "4ab1840f",
   "metadata": {},
   "outputs": [
    {
     "data": {
      "text/html": [
       "<div>\n",
       "<style scoped>\n",
       "    .dataframe tbody tr th:only-of-type {\n",
       "        vertical-align: middle;\n",
       "    }\n",
       "\n",
       "    .dataframe tbody tr th {\n",
       "        vertical-align: top;\n",
       "    }\n",
       "\n",
       "    .dataframe thead th {\n",
       "        text-align: right;\n",
       "    }\n",
       "</style>\n",
       "<table border=\"1\" class=\"dataframe\">\n",
       "  <thead>\n",
       "    <tr style=\"text-align: right;\">\n",
       "      <th></th>\n",
       "      <th></th>\n",
       "      <th>distance</th>\n",
       "      <th>count</th>\n",
       "      <th>duration</th>\n",
       "      <th>subscription_type</th>\n",
       "      <th>revenue</th>\n",
       "    </tr>\n",
       "    <tr>\n",
       "      <th>user_id</th>\n",
       "      <th>month</th>\n",
       "      <th></th>\n",
       "      <th></th>\n",
       "      <th></th>\n",
       "      <th></th>\n",
       "      <th></th>\n",
       "    </tr>\n",
       "  </thead>\n",
       "  <tbody>\n",
       "    <tr>\n",
       "      <th rowspan=\"5\" valign=\"top\">1</th>\n",
       "      <th>1</th>\n",
       "      <td>7027.51</td>\n",
       "      <td>2</td>\n",
       "      <td>42.0</td>\n",
       "      <td>ultra</td>\n",
       "      <td>451.0</td>\n",
       "    </tr>\n",
       "    <tr>\n",
       "      <th>4</th>\n",
       "      <td>754.16</td>\n",
       "      <td>1</td>\n",
       "      <td>7.0</td>\n",
       "      <td>ultra</td>\n",
       "      <td>241.0</td>\n",
       "    </tr>\n",
       "    <tr>\n",
       "      <th>8</th>\n",
       "      <td>6723.47</td>\n",
       "      <td>2</td>\n",
       "      <td>45.0</td>\n",
       "      <td>ultra</td>\n",
       "      <td>469.0</td>\n",
       "    </tr>\n",
       "    <tr>\n",
       "      <th>10</th>\n",
       "      <td>5809.91</td>\n",
       "      <td>2</td>\n",
       "      <td>32.0</td>\n",
       "      <td>ultra</td>\n",
       "      <td>391.0</td>\n",
       "    </tr>\n",
       "    <tr>\n",
       "      <th>11</th>\n",
       "      <td>7003.50</td>\n",
       "      <td>3</td>\n",
       "      <td>54.0</td>\n",
       "      <td>ultra</td>\n",
       "      <td>523.0</td>\n",
       "    </tr>\n",
       "  </tbody>\n",
       "</table>\n",
       "</div>"
      ],
      "text/plain": [
       "               distance  count  duration subscription_type  revenue\n",
       "user_id month                                                      \n",
       "1       1       7027.51      2      42.0             ultra    451.0\n",
       "        4        754.16      1       7.0             ultra    241.0\n",
       "        8       6723.47      2      45.0             ultra    469.0\n",
       "        10      5809.91      2      32.0             ultra    391.0\n",
       "        11      7003.50      3      54.0             ultra    523.0"
      ]
     },
     "execution_count": 80,
     "metadata": {},
     "output_type": "execute_result"
    }
   ],
   "source": [
    "df_revenue_ultra.head()"
   ]
  },
  {
   "cell_type": "markdown",
   "id": "675b5bea",
   "metadata": {},
   "source": [
    "Проведём t-тест:"
   ]
  },
  {
   "cell_type": "code",
   "execution_count": 81,
   "id": "5e86361a",
   "metadata": {},
   "outputs": [
    {
     "name": "stdout",
     "output_type": "stream",
     "text": [
      "Средняя помесячная выручка для пользователей без подписки равна: 325.84289496910856\n",
      "Средняя помесячная выручка  для пользователей c подпиской равна: 361.48180013236265\n",
      "p-значение: 2.8130926188487286e-35\n",
      "Нулевая гипотеза может быть отвергнута\n"
     ]
    }
   ],
   "source": [
    "print(f'Средняя помесячная выручка для пользователей без подписки равна: {df_revenue_free[\"revenue\"].mean()}')\n",
    "print(f'Средняя помесячная выручка  для пользователей c подпиской равна: {df_revenue_ultra[\"revenue\"].mean()}')\n",
    "\n",
    "#установим уровень статистической значимости равный 5%\n",
    "\n",
    "alpha = 0.05\n",
    "\n",
    "result = st.ttest_ind(df_revenue_ultra[\"revenue\"], df_revenue_free[\"revenue\"], alternative = 'greater')\n",
    "print('p-значение:', result.pvalue)\n",
    "\n",
    "if result.pvalue < alpha:\n",
    "    print('Нулевая гипотеза может быть отвергнута')\n",
    "else:\n",
    "    print('Не удалось отвергнуть нулевую гипотезу')"
   ]
  },
  {
   "cell_type": "markdown",
   "id": "fd6737d9",
   "metadata": {},
   "source": [
    "Исходя из результатов t-теста выше, можем принять гипотезу о том, что средняя помесячная выручка от пользователей с подпиской больше, чем от пользователей без подписки"
   ]
  },
  {
   "cell_type": "markdown",
   "id": "7ccf7ece",
   "metadata": {},
   "source": [
    "Задача: техническая команда сервиса обновила сервера, с которыми взаимодействует мобильное приложение. Она надеется, что из-за этого количество обращений в техподдержку значимо снизилось. Некоторый файл содержит для каждого пользователя данные о количестве обращений до обновления и после него. Какой тест вам понадобился бы для проверки этой гипотезы?\n",
    "\n",
    "Ответ: для решения такой задачи потребуется провести двухвыборочный t-тест для зависимых выборок. Нулевая гипотеза - количество обращаений в техподдержку одинаково до и после обновления серверов. Альтернативная гипотеза - количество обращений в техподдержку после обновления меньше, чем до него (односторонняя гипотеза)."
   ]
  },
  {
   "cell_type": "markdown",
   "id": "a5907c4b",
   "metadata": {},
   "source": [
    "**Вывод:** По заданию от отдела маркетинга проверены следующие гипотезы:\n",
    " \n",
    "1. Тратят ли пользователи с подпиской больше времени на поездки? - ответ положительный, гипотеза может быть принята.\n",
    "\n",
    "2. Среднее расстояние, которое проезжают пользователи с подпиской за одну поездку, не превышает 3130 метров - ответ положительный, гипотеза может быть принята. Вывод - большинство пользователей с подпиской в рамках одной поездки преодолевают расстояние, оптимальное с точки зрения износа самоката (близкое и не превышающее 3130 метров)\n",
    "\n",
    "3. Будет ли помесячная выручка от пользователей с подпиской по месяцам выше, чем выручка от пользователей без подписки - ответ положительный, гипотеза мождет быть принята. \n",
    "\n",
    "На основании гипотез подтвержденных в п. 1-3 можно рекомендовать отделу маркетинга провести акции, направленные на увеличение количества пользователей с подпиской. т.к. они в среднем тратят больше времени на поездки, проезжают среднее расстояние, оптимальное с точки зрения износа самоката и генерируют больше помесячной выручки, относительно пользователей без подписки\n",
    "\n",
    "Для решения задачи от технической команды сервиса, о влиянии обновления серверов, с которыми взаимодействует мобильное приложение на снижение количества обращений в техподдержку,  потребуется провести двухвыборочный t-тест для зависимых выборок с односторонней гипотезой."
   ]
  },
  {
   "cell_type": "markdown",
   "id": "61213c5e",
   "metadata": {},
   "source": [
    "### Шаг 7. Распределения\n",
    "<a id='section_id7'></a>"
   ]
  },
  {
   "cell_type": "markdown",
   "id": "28a1edd4",
   "metadata": {},
   "source": [
    "Отделу маркетинга поставили задачу: нужно провести акцию с раздачей промокодов на один бесплатный месяц подписки, в рамках которой как минимум 100 существующих клиентов должны продлить эту подписку. То есть по завершении периода действия подписки пользователь может либо отказаться от неё, либо продлить, совершив соответствующий платёж. \n",
    "\n",
    "\n",
    "Эта акция уже проводилась ранее и по итогу выяснилось, что после бесплатного пробного периода подписку продлевают 10 % пользователей. Необходимо выяснить, какое минимальное количество промокодов нужно разослать, чтобы вероятность не выполнить план была примерно 5 %. \n",
    "\n",
    "Данный эксперимент описывается биномиальным распределением - ряд повторяющихся независимый экспериментов, исходом которых может быть успех (подписка продлена) или неудача (подписка не продлена). "
   ]
  },
  {
   "cell_type": "markdown",
   "id": "f791cac7",
   "metadata": {},
   "source": [
    "C помощью binom.cdf перебором подберем количество попыток n, такое, чтобы \"левый хвост\" распределения был менее 5%, т.е. определим вероятность получить  100 успешных попыток или меньше."
   ]
  },
  {
   "cell_type": "code",
   "execution_count": 82,
   "id": "15fdf5e1",
   "metadata": {},
   "outputs": [
    {
     "name": "stdout",
     "output_type": "stream",
     "text": [
      "При количестве промокодов 1163 вероятность не выполнить план составляет 5.89% %\n",
      "При количестве промокодов 1164 вероятность не выполнить план составляет 5.78% %\n",
      "При количестве промокодов 1165 вероятность не выполнить план составляет 5.67% %\n",
      "При количестве промокодов 1166 вероятность не выполнить план составляет 5.56% %\n",
      "При количестве промокодов 1167 вероятность не выполнить план составляет 5.46% %\n",
      "При количестве промокодов 1168 вероятность не выполнить план составляет 5.35% %\n",
      "При количестве промокодов 1169 вероятность не выполнить план составляет 5.25% %\n",
      "При количестве промокодов 1170 вероятность не выполнить план составляет 5.15% %\n",
      "При количестве промокодов 1171 вероятность не выполнить план составляет 5.05% %\n",
      "При количестве промокодов 1172 вероятность не выполнить план составляет 4.95% %\n",
      "При количестве промокодов 1173 вероятность не выполнить план составляет 4.86% %\n",
      "При количестве промокодов 1174 вероятность не выполнить план составляет 4.76% %\n",
      "При количестве промокодов 1175 вероятность не выполнить план составляет 4.67% %\n",
      "При количестве промокодов 1176 вероятность не выполнить план составляет 4.58% %\n",
      "При количестве промокодов 1177 вероятность не выполнить план составляет 4.49% %\n",
      "При количестве промокодов 1178 вероятность не выполнить план составляет 4.40% %\n",
      "При количестве промокодов 1179 вероятность не выполнить план составляет 4.31% %\n",
      "При количестве промокодов 1180 вероятность не выполнить план составляет 4.23% %\n",
      "При количестве промокодов 1181 вероятность не выполнить план составляет 4.15% %\n",
      "При количестве промокодов 1182 вероятность не выполнить план составляет 4.06% %\n"
     ]
    }
   ],
   "source": [
    "p = 0.1 # вероятность успеха\n",
    "k = 100 # количество успешных попыток\n",
    "#количество необходимых попыток подберем с помощью цикла:\n",
    "\n",
    "for i in range (k, k*20):\n",
    "    if 0.04 <= binom.cdf(k, i, p) <= 0.06:\n",
    "        print(f'При количестве промокодов {i} вероятность не выполнить план составляет {binom.cdf(k, i, p):.2%} %')"
   ]
  },
  {
   "cell_type": "markdown",
   "id": "6d1d41b4",
   "metadata": {},
   "source": [
    "Как видно из результатов расчета выше, вероятность не выполнить план по привлечению 100 новых подписчиков становится менее 5%, при рассылке 1172 промокодов (это минимальное значение промокодов для выполнения заданного условия)."
   ]
  },
  {
   "cell_type": "markdown",
   "id": "92d971a3",
   "metadata": {},
   "source": [
    "Построим для данного количества попыток график распределения успешных попыток"
   ]
  },
  {
   "cell_type": "code",
   "execution_count": 83,
   "id": "ce8f60e6",
   "metadata": {},
   "outputs": [
    {
     "name": "stderr",
     "output_type": "stream",
     "text": [
      "/opt/conda/lib/python3.9/site-packages/scipy/stats/_discrete_distns.py:78: RuntimeWarning: divide by zero encountered in _binom_pdf\n",
      "  return _boost._binom_pdf(x, n, p)\n"
     ]
    },
    {
     "data": {
      "image/png": "[encoded data removed]",
      "text/plain": [
       "<Figure size 1080x576 with 1 Axes>"
      ]
     },
     "metadata": {
      "needs_background": "light"
     },
     "output_type": "display_data"
    }
   ],
   "source": [
    "n = 1172 # количество попыток\n",
    "p = 0.1 # вероятность успеха\n",
    "\n",
    "distr = []\n",
    "\n",
    "for k in range(0, n + 1):\n",
    "    current_value = binom.pmf(k, n, p)\n",
    "    distr.append(current_value)\n",
    "        \n",
    "plt.figure(figsize=(15,8))    \n",
    "plt.bar(range(0, n + 1), distr)\n",
    "plt.xlim(50, 200)\n",
    "plt.ylim(0, 0.04)\n",
    "plt.title('Распределение вероятности успеха от количества попыток')\n",
    "plt.xlabel('Количество попыток')\n",
    "plt.ylabel('Вероятность успеха')\n",
    "plt.show()"
   ]
  },
  {
   "cell_type": "markdown",
   "id": "219e9c29",
   "metadata": {},
   "source": [
    "Отделу маркетинга необходимо разослать промокоды не менее чем 1172 пользователям, чтобы вероятность продления подписки как минимум 100 пользователями была более 95% (а соответсвено вероятность неудачи такого исхода событий - менее 5%)"
   ]
  },
  {
   "cell_type": "markdown",
   "id": "43f23438",
   "metadata": {},
   "source": [
    "Отдел маркетинга рассылает клиентам push-уведомления в мобильном приложении. Клиенты могут открыть его или не открывать. Известно, что уведомления открывают около 40 % получивших клиентов. Отдел планирует разослать 1 млн уведомлений.\n",
    "\n",
    "Необходимо с помощью аппроксимации построить примерный график распределения и оценить вероятность того, что уведомление откроют не более 399,5 тыс. пользователей."
   ]
  },
  {
   "cell_type": "markdown",
   "id": "5d0a527f",
   "metadata": {},
   "source": [
    "Данное распределение также является биномиальным, однако ввиду того, что вероятность успеха p = 0.4, а количество экспериментов n = 1 млн., разумно будет использовать апроксимацию биномиального распределения нормальным"
   ]
  },
  {
   "cell_type": "markdown",
   "id": "3f09a491",
   "metadata": {},
   "source": [
    "В данном случае мы также будем использовать метод cdf для получения \"левого хвоста\" нормального распределения:"
   ]
  },
  {
   "cell_type": "code",
   "execution_count": 84,
   "id": "ea355263",
   "metadata": {},
   "outputs": [
    {
     "name": "stdout",
     "output_type": "stream",
     "text": [
      "0.15371708296369768\n"
     ]
    }
   ],
   "source": [
    "n = 1000000\n",
    "p = 0.4\n",
    "\n",
    "mu = n * p\n",
    "sigma = sqrt (n * p *(1-p))\n",
    "\n",
    "distr = st.norm(mu, sigma)\n",
    "\n",
    "result = distr.cdf(399500)\n",
    "print(result)"
   ]
  },
  {
   "cell_type": "markdown",
   "id": "03003704",
   "metadata": {},
   "source": [
    "Также построим график полученного распределения:"
   ]
  },
  {
   "cell_type": "code",
   "execution_count": 85,
   "id": "def41c0a",
   "metadata": {},
   "outputs": [
    {
     "data": {
      "image/png": "[encoded data removed]",
      "text/plain": [
       "<Figure size 1080x576 with 1 Axes>"
      ]
     },
     "metadata": {
      "needs_background": "light"
     },
     "output_type": "display_data"
    },
    {
     "name": "stdout",
     "output_type": "stream",
     "text": [
      "Условие выполняется\n"
     ]
    }
   ],
   "source": [
    "# зададим функцию, которая выдаёт <num> чисел,\n",
    "# равномерно распределённых от <start> до <stop>\n",
    "# (понадобится для визуализации нормального распределения)\n",
    "def linspace(start, stop, num):\n",
    "    step = (stop - start) / (num - 1)\n",
    "    result = []\n",
    "    for i in range(num):\n",
    "        result.append(start + step * i)\n",
    "    return result\n",
    " \n",
    "# задаём параметры биномиального распределения\n",
    "n = 1000000\n",
    "p = 0.4\n",
    "\n",
    "# границы промежутка, в котором будем строить аппроксимацию -\n",
    "# от n*p минус 4 ст.отклонения бином.распределения\n",
    "# до n*p плюс 4 ст.отклонения бином.распределения\n",
    "# (там, где вероятности значений почти не равны нулю)\n",
    "left = int(n * p - 4 * sqrt(n * p * (1 - p)))\n",
    "right = int(n * p + 4 * sqrt(n * p * (1 - p)))\n",
    " \n",
    "# зададим набор значений биномиальной величины на выбранном промежутке:\n",
    "# все неотрицательные целые числа от left до right\n",
    "x = list(range(max(0, left), right))\n",
    "# рисуем график биномиального распределения\n",
    "plt.figure(figsize=(15,8))   \n",
    "ax = plt.subplot()\n",
    "# используем синие о-образные маркеры и размер маркера 5\n",
    "ax.plot(x, binom.pmf(x, n, p), 'bo', ms=5, label='вероятности биномиального распределения')\n",
    "\n",
    "# зададим мат.ожидание и ст.отклонение нормального распределения равными\n",
    "# мат.ожиданию и ст.отклонению биномиального распределения\n",
    "mu = n * p\n",
    "sigma = sqrt(n * p * (1 - p))\n",
    " \n",
    "# рисуем график нормального распределения:\n",
    "# получим список из 100 чисел от left до right\n",
    "x = linspace(left, right, 100)\n",
    "# используем красную линию ширины 3 и прозрачности 0.3\n",
    "ax.plot(x, norm.pdf(x, mu, sigma), 'r-', lw=3, alpha=0.3, label='плотность вероятности нормального распределения')\n",
    " \n",
    "# зададим подписи по оси x в пределах ± 3 ст.отклонений от мат.ожидания\n",
    "# (последний аргумент в методе range - интервал между подписями)\n",
    "x_ticks = list(range(int(mu - 3 * sigma), int(mu + 3 * sigma), 1))\n",
    "ax.set_xticks(x_ticks)\n",
    "\n",
    "# настраиваем оптимальное расположение легенды и выводим график\n",
    "ax.legend(loc='best')\n",
    "plt.title('Распределение вероятности успеха от количества попыток')\n",
    "plt.xlabel('Количество попыток')\n",
    "plt.ylabel('Вероятность успеха')\n",
    "plt.show()\n",
    "\n",
    "# выводим, выполняется ли наше условие аппроксимации:\n",
    "# лежит ли mu ± 3 sigma в промежутке от 0 до n:\n",
    "if (mu - (3 * sigma) >= 0) and ((mu + (3 * sigma) <= n)):\n",
    "    print('Условие выполняется')\n",
    "else:\n",
    "    print('Условие не выполняется')"
   ]
  },
  {
   "cell_type": "markdown",
   "id": "dd459621",
   "metadata": {},
   "source": [
    "Исходя из расчетов выше, вероятность того, что направленные push-уведомления откроют не более 399500 человек, составляет 15,4%"
   ]
  },
  {
   "cell_type": "markdown",
   "id": "36196743",
   "metadata": {},
   "source": [
    "**Вывод:** По результатам анализа задачи от отдела маркетинга о проведении акции с раздачей промокодов на один бесплатный месяц подписки, в рамках которой как минимум 100 существующих клиентов должны продлить эту подписку, установлено, что необходимо разослать как минимум 1172 промокода, чтобы вероятность не выполнить план была примерно 5 %.\n",
    "\n",
    "По результатам анализа задачи от отдел маркетинга о рассылке клиентам 1 млн. push-уведомлений в мобильном приложении, установлено, что  вероятность того, что данные уведомления откроют не более 399,5 тыс. пользователей, составляет 15,4%."
   ]
  },
  {
   "cell_type": "markdown",
   "id": "18d26f8b",
   "metadata": {},
   "source": [
    "### Шаг 8. Общий вывод:\n",
    "<a id='section_id8'></a>"
   ]
  },
  {
   "cell_type": "markdown",
   "id": "26bdb849",
   "metadata": {},
   "source": [
    "**Общий вывод:** В рамках анализа данных о поездках некоторых пользователей сервиса аренды самокатов GoFast, были выполнены следующие работы и исследования:\n",
    "\n",
    "1. Загружены Необходимые для проведения анализа данные, выведены первые строки каждого датасета и общая информация о нём.\n",
    "\n",
    "\n",
    "2. Выполнена предобработка данных: \n",
    "- в датасете *rides* тип данных в столбце 'date' приведен к типу *datetime*\n",
    "- в датасете *usrers* удалён 31 выявленный неявный дубликат\n",
    "\n",
    "3. Исследована частота встречаемости городов в выборке, самый часто встречаемый город - Пятигорск, самый редкий - Москва. Найдено соотношение пользователей без подписки к пользователям с подпиской. Соотношение равно - 1.195, пользователи без подписки составляют 54% от данных датасета, с подпиской - 46%. Изучен возрастной состав пользователей, больше всего в выборке встречаются пользователи возрастом 25 лет (145 человек), реже всего 39 и 43 года (по 1 человеку). Шире всего в составе пользователей представлена возрастная группа \"до 25 лет\" (от 20-ти до 25-ти вкл.), самая малочисленная группа - \"более 40 лет\" (41 год и старше). Изучено распределенение расстояний, преодолеваемых пользователями в рамках одной поездки. Выявлено два пика нормального распределения, с вершинами в районе 500 и 3000 метров соответственно. Массово встречающиеся аномальные данные - не выявлены. Изучено распределенение длительности поездок пользователей. Выявлено пик нормального распределения в интервале 15-20 минут. Из дата удалено аномально часто встречающееся значение длительности поездки в 0,5 сек.\n",
    "\n",
    "4. Выполнено объединение данных о пользователях, поездках и подписках в один датафрейм. Из полученного датафрейма создано еще два датафрейма, отфильтрованных по следующим принципам: c данными о пользователях без подписки; с данными о пользователях с подпиской. Визуализирована информация о расстоянии и времени поездок для пользователей обеих категорий. Несмотря на близкие показатели средних значений и очень близкие показатели медиан, распредленение расстояния поездок для пользователей без подписки и с подпиской существенно различается первым квартилем, что говорит нам о том, что пользователи без подписки совершают больше коротких поездок. Также имеется существенное раздичие в значениях третьего квартиля, что говорит о том, что пользователи без подписки совершают и больше длительных поездок, что по итогу и уравнивает медианное значение, относительно пользователей с подпиской. Стандартное отклонение у пользователей с подпиской существенно ниже. Среднее значение и медиана длительности поездок выше для пользователей с подпиской, такая же тенденция сохраняется при рассмотрении величин длительности поездок первого квартиля. В рамках третьего квартиля длительности поездок для сравниваемых категорий пользователей практически равны. Полученные зависимости выглядят логично, т.к. для пользователей с подпиской 1 минута пробега самоката обходится дешевле. Стандартное отклонение незначительно ниже, для пользователей с подпиской.\n",
    "\n",
    "5. Создан датафрейм с агрегированными данными о поездках на основе датафрейма с объединёнными данными из пункта 1.4: суммарное расстояние, количество поездок и суммарное время для каждого пользователя за каждый месяц. В полученный датафрейм добавлен столбец с помесячной выручкой, которую принёс каждый пользователь\n",
    "\n",
    "6. По заданию от отдела маркетинга проверены следующие гипотезы:\n",
    " \n",
    "- Тратят ли пользователи с подпиской больше времени на поездки? - ответ положительный, гипотеза может быть принята.\n",
    "\n",
    "- Среднее расстояние, которое проезжают пользователи с подпиской за одну поездку, не превышает 3130 метров - ответ положительный, гипотеза может быть принята. Вывод - большинство пользователей с подпиской в рамках одной поездки преодолевают расстояние, оптимальное с точки зрения износа самоката (близкое и не превышающее 3130 метров)\n",
    "\n",
    "-  Будет ли помесячная выручка от пользователей с подпиской по месяцам выше, чем выручка от пользователей без подписки - ответ положительный, гипотеза мождет быть принята. \n",
    "\n",
    "На основании гипотез подтвержденных в п. 1-3 можно рекомендовать отделу маркетинга провести акции, направленные на увеличение количества пользователей с подпиской. т.к. они в среднем тратят больше времени на поездки, проезжают среднее расстояние, оптимальное с точки зрения износа самоката и генерируют больше помесячной выручки, относительно пользователей без подписки\n",
    "\n",
    "Для решения задачи от технической команды сервиса, о влиянии обновления серверов, с которыми взаимодействует мобильное приложение на снижение количества обращений в техподдержку,  потребуется провести двухвыборочный t-тест для зависимых выборок с односторонней гипотезой.\n",
    "\n",
    "7. По результатам анализа задачи от отдела маркетинга о проведении акции с раздачей промокодов на один бесплатный месяц подписки, в рамках которой как минимум 100 существующих клиентов должны продлить эту подписку, установлено, что необходимо разослать как минимум 1172 промокода, чтобы вероятность не выполнить план была примерно 5 %. По результатам анализа задачи от отдел маркетинга о рассылке клиентам 1 млн. push-уведомлений в мобильном приложении, установлено, что  вероятность того, что данные уведомления откроют не более 399,5 тыс. пользователей, составляет 15,4%."
   ]
  }
 ],
 "metadata": {
  "ExecuteTimeLog": [
   {
    "duration": 106,
    "start_time": "2024-03-07T13:37:16.785Z"
   },
   {
    "duration": 82,
    "start_time": "2024-03-07T13:37:18.643Z"
   },
   {
    "duration": 425,
    "start_time": "2024-03-07T14:05:30.634Z"
   },
   {
    "duration": 78,
    "start_time": "2024-03-07T14:06:29.374Z"
   },
   {
    "duration": 75,
    "start_time": "2024-03-07T14:12:15.157Z"
   },
   {
    "duration": 443,
    "start_time": "2024-03-07T14:12:59.279Z"
   },
   {
    "duration": 79,
    "start_time": "2024-03-07T14:13:01.975Z"
   },
   {
    "duration": 95,
    "start_time": "2024-03-07T14:13:04.870Z"
   },
   {
    "duration": 78,
    "start_time": "2024-03-07T14:13:06.370Z"
   },
   {
    "duration": 64,
    "start_time": "2024-03-07T14:13:14.913Z"
   },
   {
    "duration": 16,
    "start_time": "2024-03-07T14:13:19.003Z"
   },
   {
    "duration": 10,
    "start_time": "2024-03-07T14:13:42.379Z"
   },
   {
    "duration": 8,
    "start_time": "2024-03-07T14:13:48.905Z"
   },
   {
    "duration": 12,
    "start_time": "2024-03-07T14:15:55.848Z"
   },
   {
    "duration": 13,
    "start_time": "2024-03-07T14:16:04.976Z"
   },
   {
    "duration": 12,
    "start_time": "2024-03-07T14:16:13.290Z"
   },
   {
    "duration": 71,
    "start_time": "2024-03-07T14:17:53.271Z"
   },
   {
    "duration": 10,
    "start_time": "2024-03-07T14:23:52.774Z"
   },
   {
    "duration": 5,
    "start_time": "2024-03-07T14:25:07.653Z"
   },
   {
    "duration": 5,
    "start_time": "2024-03-07T14:28:25.972Z"
   },
   {
    "duration": 12,
    "start_time": "2024-03-07T14:29:35.292Z"
   },
   {
    "duration": 5,
    "start_time": "2024-03-07T14:30:16.031Z"
   },
   {
    "duration": 7,
    "start_time": "2024-03-07T14:32:00.967Z"
   },
   {
    "duration": 9,
    "start_time": "2024-03-07T14:32:26.842Z"
   },
   {
    "duration": 6,
    "start_time": "2024-03-07T14:32:48.170Z"
   },
   {
    "duration": 7,
    "start_time": "2024-03-07T14:36:42.916Z"
   },
   {
    "duration": 9,
    "start_time": "2024-03-07T14:37:52.083Z"
   },
   {
    "duration": 6,
    "start_time": "2024-03-07T14:38:43.369Z"
   },
   {
    "duration": 22,
    "start_time": "2024-03-07T14:39:57.944Z"
   },
   {
    "duration": 15,
    "start_time": "2024-03-07T14:41:21.888Z"
   },
   {
    "duration": 3,
    "start_time": "2024-03-07T14:43:39.567Z"
   },
   {
    "duration": 17,
    "start_time": "2024-03-07T14:43:40.253Z"
   },
   {
    "duration": 182,
    "start_time": "2024-03-07T14:49:03.195Z"
   },
   {
    "duration": 463,
    "start_time": "2024-03-07T14:49:18.353Z"
   },
   {
    "duration": 29,
    "start_time": "2024-03-07T14:49:18.818Z"
   },
   {
    "duration": 39,
    "start_time": "2024-03-07T14:49:18.848Z"
   },
   {
    "duration": 16,
    "start_time": "2024-03-07T14:49:18.889Z"
   },
   {
    "duration": 16,
    "start_time": "2024-03-07T14:49:18.907Z"
   },
   {
    "duration": 9,
    "start_time": "2024-03-07T14:49:18.924Z"
   },
   {
    "duration": 12,
    "start_time": "2024-03-07T14:49:18.934Z"
   },
   {
    "duration": 15,
    "start_time": "2024-03-07T14:49:18.948Z"
   },
   {
    "duration": 25,
    "start_time": "2024-03-07T14:49:18.965Z"
   },
   {
    "duration": 12,
    "start_time": "2024-03-07T14:49:18.994Z"
   },
   {
    "duration": 14,
    "start_time": "2024-03-07T14:49:19.008Z"
   },
   {
    "duration": 6,
    "start_time": "2024-03-07T14:49:19.023Z"
   },
   {
    "duration": 8,
    "start_time": "2024-03-07T14:49:19.030Z"
   },
   {
    "duration": 11,
    "start_time": "2024-03-07T14:49:19.040Z"
   },
   {
    "duration": 6,
    "start_time": "2024-03-07T14:49:19.083Z"
   },
   {
    "duration": 10,
    "start_time": "2024-03-07T14:49:19.091Z"
   },
   {
    "duration": 8,
    "start_time": "2024-03-07T14:49:19.103Z"
   },
   {
    "duration": 11,
    "start_time": "2024-03-07T14:49:19.113Z"
   },
   {
    "duration": 13,
    "start_time": "2024-03-07T14:49:19.126Z"
   },
   {
    "duration": 41,
    "start_time": "2024-03-07T14:49:19.141Z"
   },
   {
    "duration": 18,
    "start_time": "2024-03-07T14:49:19.184Z"
   },
   {
    "duration": 5,
    "start_time": "2024-03-07T14:49:32.886Z"
   },
   {
    "duration": 8,
    "start_time": "2024-03-07T14:50:55.936Z"
   },
   {
    "duration": 6,
    "start_time": "2024-03-07T15:12:12.746Z"
   },
   {
    "duration": 5,
    "start_time": "2024-03-07T15:12:18.894Z"
   },
   {
    "duration": 6,
    "start_time": "2024-03-07T15:12:25.930Z"
   },
   {
    "duration": 5,
    "start_time": "2024-03-07T15:13:01.495Z"
   },
   {
    "duration": 67,
    "start_time": "2024-03-07T15:13:24.827Z"
   },
   {
    "duration": 5,
    "start_time": "2024-03-07T15:15:08.912Z"
   },
   {
    "duration": 77,
    "start_time": "2024-03-07T15:20:16.548Z"
   },
   {
    "duration": 6,
    "start_time": "2024-03-07T15:20:54.676Z"
   },
   {
    "duration": 514,
    "start_time": "2024-03-07T15:22:26.012Z"
   },
   {
    "duration": 15,
    "start_time": "2024-03-07T15:23:19.809Z"
   },
   {
    "duration": 139,
    "start_time": "2024-03-07T15:23:50.265Z"
   },
   {
    "duration": 148,
    "start_time": "2024-03-07T15:24:14.359Z"
   },
   {
    "duration": 131,
    "start_time": "2024-03-07T15:24:26.193Z"
   },
   {
    "duration": 87,
    "start_time": "2024-03-07T15:25:57.793Z"
   },
   {
    "duration": 132,
    "start_time": "2024-03-07T15:26:06.400Z"
   },
   {
    "duration": 190,
    "start_time": "2024-03-07T15:26:18.532Z"
   },
   {
    "duration": 131,
    "start_time": "2024-03-07T15:26:30.045Z"
   },
   {
    "duration": 141,
    "start_time": "2024-03-07T15:28:37.151Z"
   },
   {
    "duration": 138,
    "start_time": "2024-03-07T15:28:47.210Z"
   },
   {
    "duration": 139,
    "start_time": "2024-03-07T15:28:57.509Z"
   },
   {
    "duration": 134,
    "start_time": "2024-03-07T15:29:03.595Z"
   },
   {
    "duration": 130,
    "start_time": "2024-03-07T15:29:08.936Z"
   },
   {
    "duration": 398,
    "start_time": "2024-03-07T15:29:21.415Z"
   },
   {
    "duration": 28,
    "start_time": "2024-03-07T15:29:21.815Z"
   },
   {
    "duration": 29,
    "start_time": "2024-03-07T15:29:21.845Z"
   },
   {
    "duration": 16,
    "start_time": "2024-03-07T15:29:21.876Z"
   },
   {
    "duration": 19,
    "start_time": "2024-03-07T15:29:21.895Z"
   },
   {
    "duration": 10,
    "start_time": "2024-03-07T15:29:21.916Z"
   },
   {
    "duration": 13,
    "start_time": "2024-03-07T15:29:21.928Z"
   },
   {
    "duration": 24,
    "start_time": "2024-03-07T15:29:21.942Z"
   },
   {
    "duration": 23,
    "start_time": "2024-03-07T15:29:21.967Z"
   },
   {
    "duration": 15,
    "start_time": "2024-03-07T15:29:21.992Z"
   },
   {
    "duration": 16,
    "start_time": "2024-03-07T15:29:22.009Z"
   },
   {
    "duration": 6,
    "start_time": "2024-03-07T15:29:22.027Z"
   },
   {
    "duration": 7,
    "start_time": "2024-03-07T15:29:22.035Z"
   },
   {
    "duration": 37,
    "start_time": "2024-03-07T15:29:22.046Z"
   },
   {
    "duration": 8,
    "start_time": "2024-03-07T15:29:22.086Z"
   },
   {
    "duration": 8,
    "start_time": "2024-03-07T15:29:22.096Z"
   },
   {
    "duration": 6,
    "start_time": "2024-03-07T15:29:22.107Z"
   },
   {
    "duration": 5,
    "start_time": "2024-03-07T15:29:22.115Z"
   },
   {
    "duration": 9,
    "start_time": "2024-03-07T15:29:22.121Z"
   },
   {
    "duration": 5,
    "start_time": "2024-03-07T15:29:22.132Z"
   },
   {
    "duration": 48,
    "start_time": "2024-03-07T15:29:22.139Z"
   },
   {
    "duration": 7,
    "start_time": "2024-03-07T15:29:22.188Z"
   },
   {
    "duration": 4,
    "start_time": "2024-03-07T15:29:22.196Z"
   },
   {
    "duration": 14,
    "start_time": "2024-03-07T15:29:22.202Z"
   },
   {
    "duration": 452,
    "start_time": "2024-03-07T15:29:22.218Z"
   },
   {
    "duration": 166,
    "start_time": "2024-03-07T15:30:24.181Z"
   },
   {
    "duration": 79,
    "start_time": "2024-03-07T15:30:45.194Z"
   },
   {
    "duration": 9,
    "start_time": "2024-03-07T15:30:51.769Z"
   },
   {
    "duration": 171,
    "start_time": "2024-03-07T15:31:54.878Z"
   },
   {
    "duration": 6,
    "start_time": "2024-03-07T15:35:56.019Z"
   },
   {
    "duration": 7,
    "start_time": "2024-03-07T15:38:27.996Z"
   },
   {
    "duration": 14,
    "start_time": "2024-03-07T15:38:39.281Z"
   },
   {
    "duration": 6,
    "start_time": "2024-03-07T15:39:15.758Z"
   },
   {
    "duration": 77,
    "start_time": "2024-03-07T15:39:36.033Z"
   },
   {
    "duration": 88,
    "start_time": "2024-03-07T15:39:40.519Z"
   },
   {
    "duration": 3,
    "start_time": "2024-03-07T15:39:46.072Z"
   },
   {
    "duration": 4,
    "start_time": "2024-03-07T15:40:05.923Z"
   },
   {
    "duration": 7,
    "start_time": "2024-03-07T15:40:21.045Z"
   },
   {
    "duration": 112,
    "start_time": "2024-03-07T15:41:01.064Z"
   },
   {
    "duration": 10,
    "start_time": "2024-03-07T15:41:22.575Z"
   },
   {
    "duration": 10,
    "start_time": "2024-03-07T15:41:36.546Z"
   },
   {
    "duration": 6,
    "start_time": "2024-03-07T15:43:12.550Z"
   },
   {
    "duration": 12,
    "start_time": "2024-03-07T15:43:23.079Z"
   },
   {
    "duration": 8,
    "start_time": "2024-03-07T15:43:35.146Z"
   },
   {
    "duration": 3,
    "start_time": "2024-03-07T15:44:36.686Z"
   },
   {
    "duration": 405,
    "start_time": "2024-03-07T15:44:44.618Z"
   },
   {
    "duration": 29,
    "start_time": "2024-03-07T15:44:45.025Z"
   },
   {
    "duration": 88,
    "start_time": "2024-03-07T15:44:45.056Z"
   },
   {
    "duration": 35,
    "start_time": "2024-03-07T15:44:45.146Z"
   },
   {
    "duration": 51,
    "start_time": "2024-03-07T15:44:45.182Z"
   },
   {
    "duration": 9,
    "start_time": "2024-03-07T15:44:45.236Z"
   },
   {
    "duration": 16,
    "start_time": "2024-03-07T15:44:45.247Z"
   },
   {
    "duration": 37,
    "start_time": "2024-03-07T15:44:45.265Z"
   },
   {
    "duration": 42,
    "start_time": "2024-03-07T15:44:45.304Z"
   },
   {
    "duration": 28,
    "start_time": "2024-03-07T15:44:45.349Z"
   },
   {
    "duration": 21,
    "start_time": "2024-03-07T15:44:45.378Z"
   },
   {
    "duration": 14,
    "start_time": "2024-03-07T15:44:45.400Z"
   },
   {
    "duration": 40,
    "start_time": "2024-03-07T15:44:45.416Z"
   },
   {
    "duration": 33,
    "start_time": "2024-03-07T15:44:45.457Z"
   },
   {
    "duration": 17,
    "start_time": "2024-03-07T15:44:45.492Z"
   },
   {
    "duration": 20,
    "start_time": "2024-03-07T15:44:45.511Z"
   },
   {
    "duration": 16,
    "start_time": "2024-03-07T15:44:45.532Z"
   },
   {
    "duration": 17,
    "start_time": "2024-03-07T15:44:45.550Z"
   },
   {
    "duration": 24,
    "start_time": "2024-03-07T15:44:45.569Z"
   },
   {
    "duration": 10,
    "start_time": "2024-03-07T15:44:45.595Z"
   },
   {
    "duration": 19,
    "start_time": "2024-03-07T15:44:45.607Z"
   },
   {
    "duration": 12,
    "start_time": "2024-03-07T15:44:45.628Z"
   },
   {
    "duration": 8,
    "start_time": "2024-03-07T15:44:45.641Z"
   },
   {
    "duration": 12,
    "start_time": "2024-03-07T15:44:45.651Z"
   },
   {
    "duration": 471,
    "start_time": "2024-03-07T15:44:45.665Z"
   },
   {
    "duration": 5,
    "start_time": "2024-03-07T15:44:46.138Z"
   },
   {
    "duration": 9,
    "start_time": "2024-03-07T15:44:46.145Z"
   },
   {
    "duration": 6,
    "start_time": "2024-03-07T15:44:51.316Z"
   },
   {
    "duration": 396,
    "start_time": "2024-03-07T15:45:12.622Z"
   },
   {
    "duration": 29,
    "start_time": "2024-03-07T15:45:13.020Z"
   },
   {
    "duration": 31,
    "start_time": "2024-03-07T15:45:13.050Z"
   },
   {
    "duration": 15,
    "start_time": "2024-03-07T15:45:13.083Z"
   },
   {
    "duration": 18,
    "start_time": "2024-03-07T15:45:13.101Z"
   },
   {
    "duration": 14,
    "start_time": "2024-03-07T15:45:13.120Z"
   },
   {
    "duration": 9,
    "start_time": "2024-03-07T15:45:13.136Z"
   },
   {
    "duration": 35,
    "start_time": "2024-03-07T15:45:13.147Z"
   },
   {
    "duration": 11,
    "start_time": "2024-03-07T15:45:13.185Z"
   },
   {
    "duration": 10,
    "start_time": "2024-03-07T15:45:13.198Z"
   },
   {
    "duration": 12,
    "start_time": "2024-03-07T15:45:13.210Z"
   },
   {
    "duration": 5,
    "start_time": "2024-03-07T15:45:13.223Z"
   },
   {
    "duration": 11,
    "start_time": "2024-03-07T15:45:13.229Z"
   },
   {
    "duration": 10,
    "start_time": "2024-03-07T15:45:13.242Z"
   },
   {
    "duration": 32,
    "start_time": "2024-03-07T15:45:13.253Z"
   },
   {
    "duration": 6,
    "start_time": "2024-03-07T15:45:13.287Z"
   },
   {
    "duration": 5,
    "start_time": "2024-03-07T15:45:13.294Z"
   },
   {
    "duration": 15,
    "start_time": "2024-03-07T15:45:13.300Z"
   },
   {
    "duration": 10,
    "start_time": "2024-03-07T15:45:13.316Z"
   },
   {
    "duration": 4,
    "start_time": "2024-03-07T15:45:13.328Z"
   },
   {
    "duration": 7,
    "start_time": "2024-03-07T15:45:13.334Z"
   },
   {
    "duration": 41,
    "start_time": "2024-03-07T15:45:13.342Z"
   },
   {
    "duration": 5,
    "start_time": "2024-03-07T15:45:13.385Z"
   },
   {
    "duration": 15,
    "start_time": "2024-03-07T15:45:13.391Z"
   },
   {
    "duration": 456,
    "start_time": "2024-03-07T15:45:13.407Z"
   },
   {
    "duration": 7,
    "start_time": "2024-03-07T15:45:13.865Z"
   },
   {
    "duration": 7,
    "start_time": "2024-03-07T15:45:13.882Z"
   },
   {
    "duration": 6,
    "start_time": "2024-03-07T15:46:16.548Z"
   },
   {
    "duration": 73,
    "start_time": "2024-03-07T15:47:30.366Z"
   },
   {
    "duration": 10,
    "start_time": "2024-03-07T15:47:58.965Z"
   },
   {
    "duration": 82,
    "start_time": "2024-03-07T15:49:43.780Z"
   },
   {
    "duration": 80,
    "start_time": "2024-03-07T15:51:34.236Z"
   },
   {
    "duration": 95,
    "start_time": "2024-03-07T15:51:49.595Z"
   },
   {
    "duration": 85,
    "start_time": "2024-03-07T15:51:55.792Z"
   },
   {
    "duration": 88,
    "start_time": "2024-03-07T15:53:27.921Z"
   },
   {
    "duration": 21,
    "start_time": "2024-03-07T15:53:54.679Z"
   },
   {
    "duration": 72,
    "start_time": "2024-03-07T15:54:10.667Z"
   },
   {
    "duration": 155,
    "start_time": "2024-03-07T15:54:16.234Z"
   },
   {
    "duration": 1431,
    "start_time": "2024-03-07T15:54:23.153Z"
   },
   {
    "duration": 93,
    "start_time": "2024-03-07T15:54:31.728Z"
   },
   {
    "duration": 133,
    "start_time": "2024-03-07T15:54:35.865Z"
   },
   {
    "duration": 44,
    "start_time": "2024-03-07T15:54:40.726Z"
   },
   {
    "duration": 54,
    "start_time": "2024-03-07T15:54:47.393Z"
   },
   {
    "duration": 42,
    "start_time": "2024-03-07T15:54:49.780Z"
   },
   {
    "duration": 39,
    "start_time": "2024-03-07T15:54:51.995Z"
   },
   {
    "duration": 126,
    "start_time": "2024-03-07T15:54:54.124Z"
   },
   {
    "duration": 161,
    "start_time": "2024-03-07T15:54:57.785Z"
   },
   {
    "duration": 90,
    "start_time": "2024-03-07T15:55:02.565Z"
   },
   {
    "duration": 87,
    "start_time": "2024-03-07T15:55:08.123Z"
   },
   {
    "duration": 93,
    "start_time": "2024-03-07T15:55:12.446Z"
   },
   {
    "duration": 103,
    "start_time": "2024-03-07T15:55:15.187Z"
   },
   {
    "duration": 164,
    "start_time": "2024-03-07T15:55:21.766Z"
   },
   {
    "duration": 134,
    "start_time": "2024-03-07T15:55:25.337Z"
   },
   {
    "duration": 41,
    "start_time": "2024-03-07T15:55:30.542Z"
   },
   {
    "duration": 124,
    "start_time": "2024-03-07T15:55:41.932Z"
   },
   {
    "duration": 1349,
    "start_time": "2024-03-07T15:55:46.621Z"
   },
   {
    "duration": 113,
    "start_time": "2024-03-07T15:55:57.697Z"
   },
   {
    "duration": 98,
    "start_time": "2024-03-07T15:56:11.212Z"
   },
   {
    "duration": 96,
    "start_time": "2024-03-07T15:57:09.348Z"
   },
   {
    "duration": 95,
    "start_time": "2024-03-07T15:57:18.439Z"
   },
   {
    "duration": 112,
    "start_time": "2024-03-07T15:58:52.066Z"
   },
   {
    "duration": 96,
    "start_time": "2024-03-07T15:58:58.757Z"
   },
   {
    "duration": 101,
    "start_time": "2024-03-07T16:00:10.383Z"
   },
   {
    "duration": 344,
    "start_time": "2024-03-07T16:01:58.903Z"
   },
   {
    "duration": 383,
    "start_time": "2024-03-07T16:02:06.041Z"
   },
   {
    "duration": 29,
    "start_time": "2024-03-07T16:02:06.426Z"
   },
   {
    "duration": 29,
    "start_time": "2024-03-07T16:02:06.456Z"
   },
   {
    "duration": 15,
    "start_time": "2024-03-07T16:02:06.487Z"
   },
   {
    "duration": 15,
    "start_time": "2024-03-07T16:02:06.504Z"
   },
   {
    "duration": 8,
    "start_time": "2024-03-07T16:02:06.520Z"
   },
   {
    "duration": 9,
    "start_time": "2024-03-07T16:02:06.530Z"
   },
   {
    "duration": 31,
    "start_time": "2024-03-07T16:02:06.540Z"
   },
   {
    "duration": 12,
    "start_time": "2024-03-07T16:02:06.573Z"
   },
   {
    "duration": 10,
    "start_time": "2024-03-07T16:02:06.586Z"
   },
   {
    "duration": 9,
    "start_time": "2024-03-07T16:02:06.597Z"
   },
   {
    "duration": 5,
    "start_time": "2024-03-07T16:02:06.608Z"
   },
   {
    "duration": 18,
    "start_time": "2024-03-07T16:02:06.614Z"
   },
   {
    "duration": 12,
    "start_time": "2024-03-07T16:02:06.635Z"
   },
   {
    "duration": 8,
    "start_time": "2024-03-07T16:02:06.649Z"
   },
   {
    "duration": 24,
    "start_time": "2024-03-07T16:02:06.659Z"
   },
   {
    "duration": 5,
    "start_time": "2024-03-07T16:02:06.685Z"
   },
   {
    "duration": 7,
    "start_time": "2024-03-07T16:02:06.692Z"
   },
   {
    "duration": 8,
    "start_time": "2024-03-07T16:02:06.701Z"
   },
   {
    "duration": 11,
    "start_time": "2024-03-07T16:02:06.710Z"
   },
   {
    "duration": 12,
    "start_time": "2024-03-07T16:02:06.723Z"
   },
   {
    "duration": 7,
    "start_time": "2024-03-07T16:02:06.736Z"
   },
   {
    "duration": 39,
    "start_time": "2024-03-07T16:02:06.744Z"
   },
   {
    "duration": 6,
    "start_time": "2024-03-07T16:02:06.785Z"
   },
   {
    "duration": 429,
    "start_time": "2024-03-07T16:02:06.793Z"
   },
   {
    "duration": 6,
    "start_time": "2024-03-07T16:02:07.225Z"
   },
   {
    "duration": 7,
    "start_time": "2024-03-07T16:02:07.232Z"
   },
   {
    "duration": 117,
    "start_time": "2024-03-07T16:02:07.241Z"
   },
   {
    "duration": 6,
    "start_time": "2024-03-07T16:03:16.277Z"
   },
   {
    "duration": 77,
    "start_time": "2024-03-07T16:03:36.537Z"
   },
   {
    "duration": 5,
    "start_time": "2024-03-07T16:04:13.334Z"
   },
   {
    "duration": 8,
    "start_time": "2024-03-07T16:04:38.832Z"
   },
   {
    "duration": 5,
    "start_time": "2024-03-07T16:04:56.751Z"
   },
   {
    "duration": 8,
    "start_time": "2024-03-07T16:05:14.387Z"
   },
   {
    "duration": 100,
    "start_time": "2024-03-08T06:55:57.514Z"
   },
   {
    "duration": 40,
    "start_time": "2024-03-08T06:56:07.968Z"
   },
   {
    "duration": 383,
    "start_time": "2024-03-08T06:56:17.937Z"
   },
   {
    "duration": 73,
    "start_time": "2024-03-08T06:56:18.322Z"
   },
   {
    "duration": 68,
    "start_time": "2024-03-08T06:56:18.397Z"
   },
   {
    "duration": 51,
    "start_time": "2024-03-08T06:56:18.466Z"
   },
   {
    "duration": 21,
    "start_time": "2024-03-08T06:56:18.519Z"
   },
   {
    "duration": 15,
    "start_time": "2024-03-08T06:56:18.542Z"
   },
   {
    "duration": 20,
    "start_time": "2024-03-08T06:56:18.558Z"
   },
   {
    "duration": 23,
    "start_time": "2024-03-08T06:56:18.580Z"
   },
   {
    "duration": 23,
    "start_time": "2024-03-08T06:56:18.605Z"
   },
   {
    "duration": 19,
    "start_time": "2024-03-08T06:56:18.630Z"
   },
   {
    "duration": 20,
    "start_time": "2024-03-08T06:56:18.651Z"
   },
   {
    "duration": 7,
    "start_time": "2024-03-08T06:56:18.672Z"
   },
   {
    "duration": 23,
    "start_time": "2024-03-08T06:56:18.680Z"
   },
   {
    "duration": 18,
    "start_time": "2024-03-08T06:56:18.706Z"
   },
   {
    "duration": 19,
    "start_time": "2024-03-08T06:56:18.725Z"
   },
   {
    "duration": 19,
    "start_time": "2024-03-08T06:56:18.746Z"
   },
   {
    "duration": 11,
    "start_time": "2024-03-08T06:56:18.767Z"
   },
   {
    "duration": 17,
    "start_time": "2024-03-08T06:56:18.779Z"
   },
   {
    "duration": 27,
    "start_time": "2024-03-08T06:56:18.797Z"
   },
   {
    "duration": 7,
    "start_time": "2024-03-08T06:56:18.825Z"
   },
   {
    "duration": 16,
    "start_time": "2024-03-08T06:56:18.834Z"
   },
   {
    "duration": 15,
    "start_time": "2024-03-08T06:56:18.852Z"
   },
   {
    "duration": 19,
    "start_time": "2024-03-08T06:56:18.868Z"
   },
   {
    "duration": 9,
    "start_time": "2024-03-08T06:56:18.889Z"
   },
   {
    "duration": 550,
    "start_time": "2024-03-08T06:56:18.900Z"
   },
   {
    "duration": 5,
    "start_time": "2024-03-08T06:56:19.452Z"
   },
   {
    "duration": 7,
    "start_time": "2024-03-08T06:56:19.458Z"
   },
   {
    "duration": 103,
    "start_time": "2024-03-08T06:56:19.467Z"
   },
   {
    "duration": 5,
    "start_time": "2024-03-08T06:56:19.572Z"
   },
   {
    "duration": 295,
    "start_time": "2024-03-08T06:56:19.578Z"
   },
   {
    "duration": 322,
    "start_time": "2024-03-08T06:56:37.151Z"
   },
   {
    "duration": 311,
    "start_time": "2024-03-08T06:56:46.107Z"
   },
   {
    "duration": 258,
    "start_time": "2024-03-08T06:56:58.248Z"
   },
   {
    "duration": 292,
    "start_time": "2024-03-08T06:57:39.505Z"
   },
   {
    "duration": 70,
    "start_time": "2024-03-08T06:57:47.486Z"
   },
   {
    "duration": 250,
    "start_time": "2024-03-08T06:57:53.039Z"
   },
   {
    "duration": 98,
    "start_time": "2024-03-08T06:57:59.598Z"
   },
   {
    "duration": 198,
    "start_time": "2024-03-08T06:58:08.929Z"
   },
   {
    "duration": 263,
    "start_time": "2024-03-08T06:58:44.458Z"
   },
   {
    "duration": 289,
    "start_time": "2024-03-08T06:58:51.783Z"
   },
   {
    "duration": 318,
    "start_time": "2024-03-08T06:59:35.651Z"
   },
   {
    "duration": 95,
    "start_time": "2024-03-08T07:00:20.391Z"
   },
   {
    "duration": 74,
    "start_time": "2024-03-08T07:12:06.637Z"
   },
   {
    "duration": 75,
    "start_time": "2024-03-08T07:20:33.647Z"
   },
   {
    "duration": 5,
    "start_time": "2024-03-08T07:20:48.734Z"
   },
   {
    "duration": 4,
    "start_time": "2024-03-08T07:21:43.479Z"
   },
   {
    "duration": 10,
    "start_time": "2024-03-08T07:21:56.599Z"
   },
   {
    "duration": 288,
    "start_time": "2024-03-08T07:22:26.897Z"
   },
   {
    "duration": 292,
    "start_time": "2024-03-08T07:22:32.140Z"
   },
   {
    "duration": 239,
    "start_time": "2024-03-08T07:22:43.993Z"
   },
   {
    "duration": 151,
    "start_time": "2024-03-08T07:23:15.293Z"
   },
   {
    "duration": 169,
    "start_time": "2024-03-08T07:24:27.772Z"
   },
   {
    "duration": 170,
    "start_time": "2024-03-08T07:24:32.421Z"
   },
   {
    "duration": 4,
    "start_time": "2024-03-08T07:45:31.104Z"
   },
   {
    "duration": 10,
    "start_time": "2024-03-08T07:45:52.635Z"
   },
   {
    "duration": 135,
    "start_time": "2024-03-08T07:46:42.826Z"
   },
   {
    "duration": 157,
    "start_time": "2024-03-08T07:47:54.200Z"
   },
   {
    "duration": 184,
    "start_time": "2024-03-08T07:48:06.913Z"
   },
   {
    "duration": 210,
    "start_time": "2024-03-08T07:48:17.180Z"
   },
   {
    "duration": 247,
    "start_time": "2024-03-08T07:48:24.646Z"
   },
   {
    "duration": 319,
    "start_time": "2024-03-08T07:51:08.638Z"
   },
   {
    "duration": 245,
    "start_time": "2024-03-08T07:51:42.276Z"
   },
   {
    "duration": 68,
    "start_time": "2024-03-08T07:55:26.688Z"
   },
   {
    "duration": 260,
    "start_time": "2024-03-08T07:55:40.815Z"
   },
   {
    "duration": 255,
    "start_time": "2024-03-08T07:55:45.689Z"
   },
   {
    "duration": 265,
    "start_time": "2024-03-08T07:55:51.321Z"
   },
   {
    "duration": 238,
    "start_time": "2024-03-08T07:56:10.872Z"
   },
   {
    "duration": 464,
    "start_time": "2024-03-11T07:16:56.353Z"
   },
   {
    "duration": 75,
    "start_time": "2024-03-11T07:16:56.818Z"
   },
   {
    "duration": 68,
    "start_time": "2024-03-11T07:16:56.894Z"
   },
   {
    "duration": 52,
    "start_time": "2024-03-11T07:16:56.964Z"
   },
   {
    "duration": 16,
    "start_time": "2024-03-11T07:16:57.018Z"
   },
   {
    "duration": 9,
    "start_time": "2024-03-11T07:16:57.036Z"
   },
   {
    "duration": 9,
    "start_time": "2024-03-11T07:16:57.047Z"
   },
   {
    "duration": 13,
    "start_time": "2024-03-11T07:16:57.057Z"
   },
   {
    "duration": 17,
    "start_time": "2024-03-11T07:16:57.072Z"
   },
   {
    "duration": 22,
    "start_time": "2024-03-11T07:16:57.093Z"
   },
   {
    "duration": 13,
    "start_time": "2024-03-11T07:16:57.118Z"
   },
   {
    "duration": 5,
    "start_time": "2024-03-11T07:16:57.133Z"
   },
   {
    "duration": 18,
    "start_time": "2024-03-11T07:16:57.140Z"
   },
   {
    "duration": 16,
    "start_time": "2024-03-11T07:16:57.160Z"
   },
   {
    "duration": 10,
    "start_time": "2024-03-11T07:16:57.178Z"
   },
   {
    "duration": 9,
    "start_time": "2024-03-11T07:16:57.190Z"
   },
   {
    "duration": 7,
    "start_time": "2024-03-11T07:16:57.201Z"
   },
   {
    "duration": 7,
    "start_time": "2024-03-11T07:16:57.210Z"
   },
   {
    "duration": 13,
    "start_time": "2024-03-11T07:16:57.219Z"
   },
   {
    "duration": 5,
    "start_time": "2024-03-11T07:16:57.234Z"
   },
   {
    "duration": 45,
    "start_time": "2024-03-11T07:16:57.241Z"
   },
   {
    "duration": 6,
    "start_time": "2024-03-11T07:16:57.288Z"
   },
   {
    "duration": 7,
    "start_time": "2024-03-11T07:16:57.295Z"
   },
   {
    "duration": 12,
    "start_time": "2024-03-11T07:16:57.303Z"
   },
   {
    "duration": 635,
    "start_time": "2024-03-11T07:16:57.317Z"
   },
   {
    "duration": 7,
    "start_time": "2024-03-11T07:16:57.954Z"
   },
   {
    "duration": 21,
    "start_time": "2024-03-11T07:16:57.963Z"
   },
   {
    "duration": 106,
    "start_time": "2024-03-11T07:16:57.989Z"
   },
   {
    "duration": 6,
    "start_time": "2024-03-11T07:16:58.097Z"
   },
   {
    "duration": 315,
    "start_time": "2024-03-11T07:16:58.105Z"
   },
   {
    "duration": 5,
    "start_time": "2024-03-11T07:16:58.422Z"
   },
   {
    "duration": 10,
    "start_time": "2024-03-11T07:16:58.429Z"
   },
   {
    "duration": 12,
    "start_time": "2024-03-11T07:16:58.441Z"
   },
   {
    "duration": 251,
    "start_time": "2024-03-11T07:16:58.454Z"
   },
   {
    "duration": 9,
    "start_time": "2024-03-11T07:16:58.706Z"
   },
   {
    "duration": 303,
    "start_time": "2024-03-11T07:16:58.716Z"
   },
   {
    "duration": 274,
    "start_time": "2024-03-11T07:16:59.021Z"
   },
   {
    "duration": 262,
    "start_time": "2024-03-11T07:16:59.297Z"
   },
   {
    "duration": 271,
    "start_time": "2024-03-11T07:16:59.561Z"
   },
   {
    "duration": 10,
    "start_time": "2024-03-11T07:45:41.438Z"
   },
   {
    "duration": 284,
    "start_time": "2024-03-11T07:48:10.765Z"
   },
   {
    "duration": 448,
    "start_time": "2024-03-11T07:49:01.682Z"
   },
   {
    "duration": 249,
    "start_time": "2024-03-11T07:49:09.685Z"
   },
   {
    "duration": 257,
    "start_time": "2024-03-11T07:50:15.421Z"
   },
   {
    "duration": 9,
    "start_time": "2024-03-11T07:55:17.788Z"
   },
   {
    "duration": 10,
    "start_time": "2024-03-11T07:55:57.436Z"
   },
   {
    "duration": 73,
    "start_time": "2024-03-11T07:58:48.559Z"
   },
   {
    "duration": 15,
    "start_time": "2024-03-11T08:00:04.544Z"
   },
   {
    "duration": 9,
    "start_time": "2024-03-11T08:00:13.804Z"
   },
   {
    "duration": 10,
    "start_time": "2024-03-11T08:01:14.283Z"
   },
   {
    "duration": 15,
    "start_time": "2024-03-11T08:01:20.623Z"
   },
   {
    "duration": 13,
    "start_time": "2024-03-11T08:01:55.387Z"
   },
   {
    "duration": 16,
    "start_time": "2024-03-11T08:02:04.789Z"
   },
   {
    "duration": 16,
    "start_time": "2024-03-11T08:02:57.504Z"
   },
   {
    "duration": 64,
    "start_time": "2024-03-11T08:03:44.537Z"
   },
   {
    "duration": 9,
    "start_time": "2024-03-11T08:09:28.208Z"
   },
   {
    "duration": 28,
    "start_time": "2024-03-11T08:09:36.215Z"
   },
   {
    "duration": 11,
    "start_time": "2024-03-11T08:10:49.755Z"
   },
   {
    "duration": 27,
    "start_time": "2024-03-11T08:11:10.762Z"
   },
   {
    "duration": 14,
    "start_time": "2024-03-11T08:11:18.900Z"
   },
   {
    "duration": 14,
    "start_time": "2024-03-11T08:11:30.228Z"
   },
   {
    "duration": 11,
    "start_time": "2024-03-11T08:16:46.350Z"
   },
   {
    "duration": 9,
    "start_time": "2024-03-11T08:16:54.586Z"
   },
   {
    "duration": 10,
    "start_time": "2024-03-11T08:17:16.060Z"
   },
   {
    "duration": 6,
    "start_time": "2024-03-11T08:17:36.182Z"
   },
   {
    "duration": 82,
    "start_time": "2024-03-11T08:18:37.591Z"
   },
   {
    "duration": 282,
    "start_time": "2024-03-11T08:19:36.983Z"
   },
   {
    "duration": 262,
    "start_time": "2024-03-11T08:19:50.530Z"
   },
   {
    "duration": 9,
    "start_time": "2024-03-11T08:20:07.746Z"
   },
   {
    "duration": 9,
    "start_time": "2024-03-11T08:20:19.036Z"
   },
   {
    "duration": 74,
    "start_time": "2024-03-11T08:54:48.204Z"
   },
   {
    "duration": 357,
    "start_time": "2024-03-11T08:56:01.045Z"
   },
   {
    "duration": 9,
    "start_time": "2024-03-11T08:56:01.695Z"
   },
   {
    "duration": 263,
    "start_time": "2024-03-11T08:56:04.098Z"
   },
   {
    "duration": 9,
    "start_time": "2024-03-11T08:56:06.331Z"
   },
   {
    "duration": 9,
    "start_time": "2024-03-11T09:19:04.636Z"
   },
   {
    "duration": 11,
    "start_time": "2024-03-11T09:19:12.165Z"
   },
   {
    "duration": 7,
    "start_time": "2024-03-11T09:19:24.743Z"
   },
   {
    "duration": 84,
    "start_time": "2024-03-11T12:51:32.596Z"
   },
   {
    "duration": 18,
    "start_time": "2024-03-11T12:52:07.564Z"
   },
   {
    "duration": 13,
    "start_time": "2024-03-11T12:52:13.581Z"
   },
   {
    "duration": 19,
    "start_time": "2024-03-11T12:52:42.171Z"
   },
   {
    "duration": 12,
    "start_time": "2024-03-11T12:52:43.038Z"
   },
   {
    "duration": 17,
    "start_time": "2024-03-11T12:53:49.959Z"
   },
   {
    "duration": 9,
    "start_time": "2024-03-11T12:53:51.498Z"
   },
   {
    "duration": 334,
    "start_time": "2024-03-11T12:58:16.059Z"
   },
   {
    "duration": 27,
    "start_time": "2024-03-11T12:59:13.666Z"
   },
   {
    "duration": 31,
    "start_time": "2024-03-11T12:59:17.319Z"
   },
   {
    "duration": 552,
    "start_time": "2024-03-11T13:04:40.180Z"
   },
   {
    "duration": 26,
    "start_time": "2024-03-11T13:04:47.016Z"
   },
   {
    "duration": 454,
    "start_time": "2024-03-11T13:07:15.383Z"
   },
   {
    "duration": 93,
    "start_time": "2024-03-11T13:07:15.839Z"
   },
   {
    "duration": 68,
    "start_time": "2024-03-11T13:07:15.933Z"
   },
   {
    "duration": 51,
    "start_time": "2024-03-11T13:07:16.003Z"
   },
   {
    "duration": 19,
    "start_time": "2024-03-11T13:07:16.056Z"
   },
   {
    "duration": 10,
    "start_time": "2024-03-11T13:07:16.078Z"
   },
   {
    "duration": 16,
    "start_time": "2024-03-11T13:07:16.090Z"
   },
   {
    "duration": 18,
    "start_time": "2024-03-11T13:07:16.108Z"
   },
   {
    "duration": 12,
    "start_time": "2024-03-11T13:07:16.128Z"
   },
   {
    "duration": 10,
    "start_time": "2024-03-11T13:07:16.143Z"
   },
   {
    "duration": 13,
    "start_time": "2024-03-11T13:07:16.155Z"
   },
   {
    "duration": 16,
    "start_time": "2024-03-11T13:07:16.170Z"
   },
   {
    "duration": 11,
    "start_time": "2024-03-11T13:07:16.188Z"
   },
   {
    "duration": 15,
    "start_time": "2024-03-11T13:07:16.200Z"
   },
   {
    "duration": 7,
    "start_time": "2024-03-11T13:07:16.217Z"
   },
   {
    "duration": 10,
    "start_time": "2024-03-11T13:07:16.226Z"
   },
   {
    "duration": 6,
    "start_time": "2024-03-11T13:07:16.238Z"
   },
   {
    "duration": 6,
    "start_time": "2024-03-11T13:07:16.245Z"
   },
   {
    "duration": 31,
    "start_time": "2024-03-11T13:07:16.252Z"
   },
   {
    "duration": 5,
    "start_time": "2024-03-11T13:07:16.285Z"
   },
   {
    "duration": 9,
    "start_time": "2024-03-11T13:07:16.292Z"
   },
   {
    "duration": 6,
    "start_time": "2024-03-11T13:07:16.303Z"
   },
   {
    "duration": 6,
    "start_time": "2024-03-11T13:07:16.310Z"
   },
   {
    "duration": 7,
    "start_time": "2024-03-11T13:07:16.317Z"
   },
   {
    "duration": 451,
    "start_time": "2024-03-11T13:07:16.326Z"
   },
   {
    "duration": 5,
    "start_time": "2024-03-11T13:07:16.779Z"
   },
   {
    "duration": 6,
    "start_time": "2024-03-11T13:07:16.786Z"
   },
   {
    "duration": 114,
    "start_time": "2024-03-11T13:07:16.796Z"
   },
   {
    "duration": 5,
    "start_time": "2024-03-11T13:07:16.912Z"
   },
   {
    "duration": 315,
    "start_time": "2024-03-11T13:07:16.919Z"
   },
   {
    "duration": 4,
    "start_time": "2024-03-11T13:07:17.236Z"
   },
   {
    "duration": 9,
    "start_time": "2024-03-11T13:07:17.241Z"
   },
   {
    "duration": 15,
    "start_time": "2024-03-11T13:07:17.252Z"
   },
   {
    "duration": 191,
    "start_time": "2024-03-11T13:07:17.269Z"
   },
   {
    "duration": 25,
    "start_time": "2024-03-11T13:07:17.463Z"
   },
   {
    "duration": 325,
    "start_time": "2024-03-11T13:07:17.490Z"
   },
   {
    "duration": 269,
    "start_time": "2024-03-11T13:07:17.816Z"
   },
   {
    "duration": 255,
    "start_time": "2024-03-11T13:07:18.086Z"
   },
   {
    "duration": 269,
    "start_time": "2024-03-11T13:07:18.343Z"
   },
   {
    "duration": 8,
    "start_time": "2024-03-11T13:07:18.614Z"
   },
   {
    "duration": 78,
    "start_time": "2024-03-11T13:07:18.624Z"
   },
   {
    "duration": 0,
    "start_time": "2024-03-11T13:07:18.703Z"
   },
   {
    "duration": 0,
    "start_time": "2024-03-11T13:07:18.705Z"
   },
   {
    "duration": 0,
    "start_time": "2024-03-11T13:07:18.706Z"
   },
   {
    "duration": 0,
    "start_time": "2024-03-11T13:07:18.707Z"
   },
   {
    "duration": 0,
    "start_time": "2024-03-11T13:07:18.708Z"
   },
   {
    "duration": 0,
    "start_time": "2024-03-11T13:07:18.709Z"
   },
   {
    "duration": 0,
    "start_time": "2024-03-11T13:07:18.710Z"
   },
   {
    "duration": 0,
    "start_time": "2024-03-11T13:07:18.711Z"
   },
   {
    "duration": 0,
    "start_time": "2024-03-11T13:07:18.713Z"
   },
   {
    "duration": 0,
    "start_time": "2024-03-11T13:07:18.714Z"
   },
   {
    "duration": 0,
    "start_time": "2024-03-11T13:07:18.715Z"
   },
   {
    "duration": 0,
    "start_time": "2024-03-11T13:07:18.716Z"
   },
   {
    "duration": 0,
    "start_time": "2024-03-11T13:07:18.717Z"
   },
   {
    "duration": 0,
    "start_time": "2024-03-11T13:07:18.718Z"
   },
   {
    "duration": 0,
    "start_time": "2024-03-11T13:07:18.719Z"
   },
   {
    "duration": 0,
    "start_time": "2024-03-11T13:07:18.720Z"
   },
   {
    "duration": 0,
    "start_time": "2024-03-11T13:07:18.721Z"
   },
   {
    "duration": 0,
    "start_time": "2024-03-11T13:07:18.723Z"
   },
   {
    "duration": 0,
    "start_time": "2024-03-11T13:07:18.724Z"
   },
   {
    "duration": 0,
    "start_time": "2024-03-11T13:07:18.725Z"
   },
   {
    "duration": 0,
    "start_time": "2024-03-11T13:07:18.726Z"
   },
   {
    "duration": 0,
    "start_time": "2024-03-11T13:07:18.727Z"
   },
   {
    "duration": 0,
    "start_time": "2024-03-11T13:07:18.729Z"
   },
   {
    "duration": 0,
    "start_time": "2024-03-11T13:07:18.730Z"
   },
   {
    "duration": 434,
    "start_time": "2024-03-11T13:07:39.550Z"
   },
   {
    "duration": 29,
    "start_time": "2024-03-11T13:07:39.986Z"
   },
   {
    "duration": 30,
    "start_time": "2024-03-11T13:07:40.016Z"
   },
   {
    "duration": 16,
    "start_time": "2024-03-11T13:07:40.048Z"
   },
   {
    "duration": 15,
    "start_time": "2024-03-11T13:07:40.065Z"
   },
   {
    "duration": 8,
    "start_time": "2024-03-11T13:07:40.081Z"
   },
   {
    "duration": 8,
    "start_time": "2024-03-11T13:07:40.091Z"
   },
   {
    "duration": 19,
    "start_time": "2024-03-11T13:07:40.100Z"
   },
   {
    "duration": 13,
    "start_time": "2024-03-11T13:07:40.121Z"
   },
   {
    "duration": 9,
    "start_time": "2024-03-11T13:07:40.137Z"
   },
   {
    "duration": 14,
    "start_time": "2024-03-11T13:07:40.148Z"
   },
   {
    "duration": 21,
    "start_time": "2024-03-11T13:07:40.163Z"
   },
   {
    "duration": 18,
    "start_time": "2024-03-11T13:07:40.186Z"
   },
   {
    "duration": 17,
    "start_time": "2024-03-11T13:07:40.206Z"
   },
   {
    "duration": 19,
    "start_time": "2024-03-11T13:07:40.224Z"
   },
   {
    "duration": 11,
    "start_time": "2024-03-11T13:07:40.245Z"
   },
   {
    "duration": 6,
    "start_time": "2024-03-11T13:07:40.258Z"
   },
   {
    "duration": 7,
    "start_time": "2024-03-11T13:07:40.266Z"
   },
   {
    "duration": 9,
    "start_time": "2024-03-11T13:07:40.281Z"
   },
   {
    "duration": 5,
    "start_time": "2024-03-11T13:07:40.291Z"
   },
   {
    "duration": 18,
    "start_time": "2024-03-11T13:07:40.298Z"
   },
   {
    "duration": 6,
    "start_time": "2024-03-11T13:07:40.318Z"
   },
   {
    "duration": 5,
    "start_time": "2024-03-11T13:07:40.325Z"
   },
   {
    "duration": 7,
    "start_time": "2024-03-11T13:07:40.332Z"
   },
   {
    "duration": 480,
    "start_time": "2024-03-11T13:07:40.340Z"
   },
   {
    "duration": 5,
    "start_time": "2024-03-11T13:07:40.822Z"
   },
   {
    "duration": 9,
    "start_time": "2024-03-11T13:07:40.829Z"
   },
   {
    "duration": 109,
    "start_time": "2024-03-11T13:07:40.842Z"
   },
   {
    "duration": 6,
    "start_time": "2024-03-11T13:07:40.953Z"
   },
   {
    "duration": 303,
    "start_time": "2024-03-11T13:07:40.960Z"
   },
   {
    "duration": 5,
    "start_time": "2024-03-11T13:07:41.264Z"
   },
   {
    "duration": 27,
    "start_time": "2024-03-11T13:07:41.270Z"
   },
   {
    "duration": 13,
    "start_time": "2024-03-11T13:07:41.298Z"
   },
   {
    "duration": 176,
    "start_time": "2024-03-11T13:07:41.313Z"
   },
   {
    "duration": 9,
    "start_time": "2024-03-11T13:07:41.490Z"
   },
   {
    "duration": 353,
    "start_time": "2024-03-11T13:07:41.500Z"
   },
   {
    "duration": 262,
    "start_time": "2024-03-11T13:07:41.855Z"
   },
   {
    "duration": 275,
    "start_time": "2024-03-11T13:07:42.119Z"
   },
   {
    "duration": 278,
    "start_time": "2024-03-11T13:07:42.396Z"
   },
   {
    "duration": 13,
    "start_time": "2024-03-11T13:07:42.676Z"
   },
   {
    "duration": 280,
    "start_time": "2024-03-11T13:07:42.691Z"
   },
   {
    "duration": 345,
    "start_time": "2024-03-11T13:07:42.972Z"
   },
   {
    "duration": 271,
    "start_time": "2024-03-11T13:07:43.319Z"
   },
   {
    "duration": 6,
    "start_time": "2024-03-11T13:07:43.591Z"
   },
   {
    "duration": 11,
    "start_time": "2024-03-11T13:07:43.599Z"
   },
   {
    "duration": 9,
    "start_time": "2024-03-11T13:07:43.612Z"
   },
   {
    "duration": 98,
    "start_time": "2024-03-11T13:07:43.623Z"
   },
   {
    "duration": 0,
    "start_time": "2024-03-11T13:07:43.722Z"
   },
   {
    "duration": 0,
    "start_time": "2024-03-11T13:07:43.724Z"
   },
   {
    "duration": 0,
    "start_time": "2024-03-11T13:07:43.725Z"
   },
   {
    "duration": 0,
    "start_time": "2024-03-11T13:07:43.726Z"
   },
   {
    "duration": 0,
    "start_time": "2024-03-11T13:07:43.727Z"
   },
   {
    "duration": 0,
    "start_time": "2024-03-11T13:07:43.728Z"
   },
   {
    "duration": 0,
    "start_time": "2024-03-11T13:07:43.729Z"
   },
   {
    "duration": 0,
    "start_time": "2024-03-11T13:07:43.730Z"
   },
   {
    "duration": 0,
    "start_time": "2024-03-11T13:07:43.731Z"
   },
   {
    "duration": 0,
    "start_time": "2024-03-11T13:07:43.732Z"
   },
   {
    "duration": 0,
    "start_time": "2024-03-11T13:07:43.733Z"
   },
   {
    "duration": 0,
    "start_time": "2024-03-11T13:07:43.734Z"
   },
   {
    "duration": 0,
    "start_time": "2024-03-11T13:07:43.735Z"
   },
   {
    "duration": 0,
    "start_time": "2024-03-11T13:07:43.736Z"
   },
   {
    "duration": 0,
    "start_time": "2024-03-11T13:07:43.737Z"
   },
   {
    "duration": 0,
    "start_time": "2024-03-11T13:07:43.738Z"
   },
   {
    "duration": 0,
    "start_time": "2024-03-11T13:07:43.739Z"
   },
   {
    "duration": 389,
    "start_time": "2024-03-11T13:07:55.735Z"
   },
   {
    "duration": 28,
    "start_time": "2024-03-11T13:07:56.126Z"
   },
   {
    "duration": 30,
    "start_time": "2024-03-11T13:07:56.156Z"
   },
   {
    "duration": 15,
    "start_time": "2024-03-11T13:07:56.188Z"
   },
   {
    "duration": 22,
    "start_time": "2024-03-11T13:07:56.204Z"
   },
   {
    "duration": 29,
    "start_time": "2024-03-11T13:07:56.228Z"
   },
   {
    "duration": 15,
    "start_time": "2024-03-11T13:07:56.258Z"
   },
   {
    "duration": 43,
    "start_time": "2024-03-11T13:07:56.274Z"
   },
   {
    "duration": 33,
    "start_time": "2024-03-11T13:07:56.319Z"
   },
   {
    "duration": 17,
    "start_time": "2024-03-11T13:07:56.355Z"
   },
   {
    "duration": 23,
    "start_time": "2024-03-11T13:07:56.373Z"
   },
   {
    "duration": 22,
    "start_time": "2024-03-11T13:07:56.398Z"
   },
   {
    "duration": 17,
    "start_time": "2024-03-11T13:07:56.422Z"
   },
   {
    "duration": 16,
    "start_time": "2024-03-11T13:07:56.441Z"
   },
   {
    "duration": 15,
    "start_time": "2024-03-11T13:07:56.459Z"
   },
   {
    "duration": 15,
    "start_time": "2024-03-11T13:07:56.476Z"
   },
   {
    "duration": 40,
    "start_time": "2024-03-11T13:07:56.493Z"
   },
   {
    "duration": 15,
    "start_time": "2024-03-11T13:07:56.535Z"
   },
   {
    "duration": 30,
    "start_time": "2024-03-11T13:07:56.551Z"
   },
   {
    "duration": 24,
    "start_time": "2024-03-11T13:07:56.582Z"
   },
   {
    "duration": 20,
    "start_time": "2024-03-11T13:07:56.607Z"
   },
   {
    "duration": 14,
    "start_time": "2024-03-11T13:07:56.628Z"
   },
   {
    "duration": 17,
    "start_time": "2024-03-11T13:07:56.643Z"
   },
   {
    "duration": 19,
    "start_time": "2024-03-11T13:07:56.661Z"
   },
   {
    "duration": 441,
    "start_time": "2024-03-11T13:07:56.681Z"
   },
   {
    "duration": 6,
    "start_time": "2024-03-11T13:07:57.123Z"
   },
   {
    "duration": 9,
    "start_time": "2024-03-11T13:07:57.130Z"
   },
   {
    "duration": 125,
    "start_time": "2024-03-11T13:07:57.142Z"
   },
   {
    "duration": 14,
    "start_time": "2024-03-11T13:07:57.269Z"
   },
   {
    "duration": 310,
    "start_time": "2024-03-11T13:07:57.284Z"
   },
   {
    "duration": 4,
    "start_time": "2024-03-11T13:07:57.595Z"
   },
   {
    "duration": 14,
    "start_time": "2024-03-11T13:07:57.601Z"
   },
   {
    "duration": 27,
    "start_time": "2024-03-11T13:07:57.617Z"
   },
   {
    "duration": 179,
    "start_time": "2024-03-11T13:07:57.646Z"
   },
   {
    "duration": 9,
    "start_time": "2024-03-11T13:07:57.827Z"
   },
   {
    "duration": 345,
    "start_time": "2024-03-11T13:07:57.838Z"
   },
   {
    "duration": 282,
    "start_time": "2024-03-11T13:07:58.185Z"
   },
   {
    "duration": 281,
    "start_time": "2024-03-11T13:07:58.469Z"
   },
   {
    "duration": 265,
    "start_time": "2024-03-11T13:07:58.752Z"
   },
   {
    "duration": 9,
    "start_time": "2024-03-11T13:07:59.019Z"
   },
   {
    "duration": 281,
    "start_time": "2024-03-11T13:07:59.029Z"
   },
   {
    "duration": 332,
    "start_time": "2024-03-11T13:07:59.312Z"
   },
   {
    "duration": 267,
    "start_time": "2024-03-11T13:07:59.646Z"
   },
   {
    "duration": 7,
    "start_time": "2024-03-11T13:07:59.914Z"
   },
   {
    "duration": 13,
    "start_time": "2024-03-11T13:07:59.922Z"
   },
   {
    "duration": 9,
    "start_time": "2024-03-11T13:07:59.937Z"
   },
   {
    "duration": 38,
    "start_time": "2024-03-11T13:07:59.948Z"
   },
   {
    "duration": 16,
    "start_time": "2024-03-11T13:07:59.988Z"
   },
   {
    "duration": 34,
    "start_time": "2024-03-11T13:08:00.006Z"
   },
   {
    "duration": 46,
    "start_time": "2024-03-11T13:08:00.042Z"
   },
   {
    "duration": 45,
    "start_time": "2024-03-11T13:08:00.090Z"
   },
   {
    "duration": 61,
    "start_time": "2024-03-11T13:08:00.136Z"
   },
   {
    "duration": 46,
    "start_time": "2024-03-11T13:08:00.199Z"
   },
   {
    "duration": 295,
    "start_time": "2024-03-11T13:08:00.246Z"
   },
   {
    "duration": 9,
    "start_time": "2024-03-11T13:08:00.543Z"
   },
   {
    "duration": 287,
    "start_time": "2024-03-11T13:08:00.554Z"
   },
   {
    "duration": 9,
    "start_time": "2024-03-11T13:08:00.842Z"
   },
   {
    "duration": 272,
    "start_time": "2024-03-11T13:08:00.852Z"
   },
   {
    "duration": 8,
    "start_time": "2024-03-11T13:08:01.126Z"
   },
   {
    "duration": 315,
    "start_time": "2024-03-11T13:08:01.136Z"
   },
   {
    "duration": 10,
    "start_time": "2024-03-11T13:08:01.453Z"
   },
   {
    "duration": 453,
    "start_time": "2024-03-11T13:08:24.561Z"
   },
   {
    "duration": 76,
    "start_time": "2024-03-11T13:08:25.016Z"
   },
   {
    "duration": 67,
    "start_time": "2024-03-11T13:08:25.093Z"
   },
   {
    "duration": 56,
    "start_time": "2024-03-11T13:08:25.162Z"
   },
   {
    "duration": 15,
    "start_time": "2024-03-11T13:08:25.220Z"
   },
   {
    "duration": 30,
    "start_time": "2024-03-11T13:08:25.236Z"
   },
   {
    "duration": 15,
    "start_time": "2024-03-11T13:08:25.268Z"
   },
   {
    "duration": 31,
    "start_time": "2024-03-11T13:08:25.284Z"
   },
   {
    "duration": 31,
    "start_time": "2024-03-11T13:08:25.317Z"
   },
   {
    "duration": 39,
    "start_time": "2024-03-11T13:08:25.351Z"
   },
   {
    "duration": 18,
    "start_time": "2024-03-11T13:08:25.391Z"
   },
   {
    "duration": 14,
    "start_time": "2024-03-11T13:08:25.411Z"
   },
   {
    "duration": 21,
    "start_time": "2024-03-11T13:08:25.427Z"
   },
   {
    "duration": 17,
    "start_time": "2024-03-11T13:08:25.449Z"
   },
   {
    "duration": 9,
    "start_time": "2024-03-11T13:08:25.467Z"
   },
   {
    "duration": 13,
    "start_time": "2024-03-11T13:08:25.477Z"
   },
   {
    "duration": 28,
    "start_time": "2024-03-11T13:08:25.492Z"
   },
   {
    "duration": 9,
    "start_time": "2024-03-11T13:08:25.522Z"
   },
   {
    "duration": 19,
    "start_time": "2024-03-11T13:08:25.533Z"
   },
   {
    "duration": 17,
    "start_time": "2024-03-11T13:08:25.553Z"
   },
   {
    "duration": 8,
    "start_time": "2024-03-11T13:08:25.572Z"
   },
   {
    "duration": 17,
    "start_time": "2024-03-11T13:08:25.581Z"
   },
   {
    "duration": 23,
    "start_time": "2024-03-11T13:08:25.599Z"
   },
   {
    "duration": 16,
    "start_time": "2024-03-11T13:08:25.623Z"
   },
   {
    "duration": 463,
    "start_time": "2024-03-11T13:08:25.640Z"
   },
   {
    "duration": 6,
    "start_time": "2024-03-11T13:08:26.105Z"
   },
   {
    "duration": 8,
    "start_time": "2024-03-11T13:08:26.113Z"
   },
   {
    "duration": 126,
    "start_time": "2024-03-11T13:08:26.125Z"
   },
   {
    "duration": 6,
    "start_time": "2024-03-11T13:08:26.253Z"
   },
   {
    "duration": 318,
    "start_time": "2024-03-11T13:08:26.261Z"
   },
   {
    "duration": 4,
    "start_time": "2024-03-11T13:08:26.581Z"
   },
   {
    "duration": 4,
    "start_time": "2024-03-11T13:08:26.587Z"
   },
   {
    "duration": 18,
    "start_time": "2024-03-11T13:08:26.592Z"
   },
   {
    "duration": 183,
    "start_time": "2024-03-11T13:08:26.612Z"
   },
   {
    "duration": 9,
    "start_time": "2024-03-11T13:08:26.796Z"
   },
   {
    "duration": 334,
    "start_time": "2024-03-11T13:08:26.806Z"
   },
   {
    "duration": 259,
    "start_time": "2024-03-11T13:08:27.142Z"
   },
   {
    "duration": 260,
    "start_time": "2024-03-11T13:08:27.403Z"
   },
   {
    "duration": 265,
    "start_time": "2024-03-11T13:08:27.665Z"
   },
   {
    "duration": 9,
    "start_time": "2024-03-11T13:08:27.932Z"
   },
   {
    "duration": 294,
    "start_time": "2024-03-11T13:08:27.943Z"
   },
   {
    "duration": 331,
    "start_time": "2024-03-11T13:08:28.240Z"
   },
   {
    "duration": 266,
    "start_time": "2024-03-11T13:08:28.573Z"
   },
   {
    "duration": 6,
    "start_time": "2024-03-11T13:08:28.840Z"
   },
   {
    "duration": 72,
    "start_time": "2024-03-11T13:08:28.848Z"
   },
   {
    "duration": 12,
    "start_time": "2024-03-11T13:08:28.921Z"
   },
   {
    "duration": 15,
    "start_time": "2024-03-11T13:08:28.934Z"
   },
   {
    "duration": 17,
    "start_time": "2024-03-11T13:08:28.951Z"
   },
   {
    "duration": 9,
    "start_time": "2024-03-11T13:08:28.970Z"
   },
   {
    "duration": 15,
    "start_time": "2024-03-11T13:08:28.980Z"
   },
   {
    "duration": 19,
    "start_time": "2024-03-11T13:08:28.996Z"
   },
   {
    "duration": 10,
    "start_time": "2024-03-11T13:08:29.017Z"
   },
   {
    "duration": 14,
    "start_time": "2024-03-11T13:08:29.028Z"
   },
   {
    "duration": 277,
    "start_time": "2024-03-11T13:08:29.044Z"
   },
   {
    "duration": 8,
    "start_time": "2024-03-11T13:08:29.323Z"
   },
   {
    "duration": 275,
    "start_time": "2024-03-11T13:08:29.333Z"
   },
   {
    "duration": 9,
    "start_time": "2024-03-11T13:08:29.609Z"
   },
   {
    "duration": 276,
    "start_time": "2024-03-11T13:08:29.620Z"
   },
   {
    "duration": 9,
    "start_time": "2024-03-11T13:08:29.897Z"
   },
   {
    "duration": 311,
    "start_time": "2024-03-11T13:08:29.907Z"
   },
   {
    "duration": 8,
    "start_time": "2024-03-11T13:08:30.220Z"
   },
   {
    "duration": 52,
    "start_time": "2024-03-11T13:08:40.547Z"
   },
   {
    "duration": 473,
    "start_time": "2024-03-11T13:08:51.985Z"
   },
   {
    "duration": 74,
    "start_time": "2024-03-11T13:08:52.460Z"
   },
   {
    "duration": 68,
    "start_time": "2024-03-11T13:08:52.536Z"
   },
   {
    "duration": 53,
    "start_time": "2024-03-11T13:08:52.606Z"
   },
   {
    "duration": 16,
    "start_time": "2024-03-11T13:08:52.660Z"
   },
   {
    "duration": 9,
    "start_time": "2024-03-11T13:08:52.677Z"
   },
   {
    "duration": 14,
    "start_time": "2024-03-11T13:08:52.688Z"
   },
   {
    "duration": 12,
    "start_time": "2024-03-11T13:08:52.704Z"
   },
   {
    "duration": 11,
    "start_time": "2024-03-11T13:08:52.718Z"
   },
   {
    "duration": 9,
    "start_time": "2024-03-11T13:08:52.732Z"
   },
   {
    "duration": 9,
    "start_time": "2024-03-11T13:08:52.743Z"
   },
   {
    "duration": 5,
    "start_time": "2024-03-11T13:08:52.754Z"
   },
   {
    "duration": 5,
    "start_time": "2024-03-11T13:08:52.783Z"
   },
   {
    "duration": 13,
    "start_time": "2024-03-11T13:08:52.789Z"
   },
   {
    "duration": 6,
    "start_time": "2024-03-11T13:08:52.804Z"
   },
   {
    "duration": 12,
    "start_time": "2024-03-11T13:08:52.811Z"
   },
   {
    "duration": 14,
    "start_time": "2024-03-11T13:08:52.824Z"
   },
   {
    "duration": 7,
    "start_time": "2024-03-11T13:08:52.840Z"
   },
   {
    "duration": 34,
    "start_time": "2024-03-11T13:08:52.848Z"
   },
   {
    "duration": 6,
    "start_time": "2024-03-11T13:08:52.884Z"
   },
   {
    "duration": 7,
    "start_time": "2024-03-11T13:08:52.891Z"
   },
   {
    "duration": 19,
    "start_time": "2024-03-11T13:08:52.900Z"
   },
   {
    "duration": 16,
    "start_time": "2024-03-11T13:08:52.921Z"
   },
   {
    "duration": 6,
    "start_time": "2024-03-11T13:08:52.939Z"
   },
   {
    "duration": 454,
    "start_time": "2024-03-11T13:08:52.946Z"
   },
   {
    "duration": 6,
    "start_time": "2024-03-11T13:08:53.402Z"
   },
   {
    "duration": 8,
    "start_time": "2024-03-11T13:08:53.410Z"
   },
   {
    "duration": 125,
    "start_time": "2024-03-11T13:08:53.422Z"
   },
   {
    "duration": 7,
    "start_time": "2024-03-11T13:08:53.548Z"
   },
   {
    "duration": 347,
    "start_time": "2024-03-11T13:08:53.556Z"
   },
   {
    "duration": 4,
    "start_time": "2024-03-11T13:08:53.905Z"
   },
   {
    "duration": 5,
    "start_time": "2024-03-11T13:08:53.911Z"
   },
   {
    "duration": 10,
    "start_time": "2024-03-11T13:08:53.917Z"
   },
   {
    "duration": 192,
    "start_time": "2024-03-11T13:08:53.928Z"
   },
   {
    "duration": 9,
    "start_time": "2024-03-11T13:08:54.121Z"
   },
   {
    "duration": 340,
    "start_time": "2024-03-11T13:08:54.132Z"
   },
   {
    "duration": 257,
    "start_time": "2024-03-11T13:08:54.474Z"
   },
   {
    "duration": 265,
    "start_time": "2024-03-11T13:08:54.733Z"
   },
   {
    "duration": 282,
    "start_time": "2024-03-11T13:08:55.000Z"
   },
   {
    "duration": 9,
    "start_time": "2024-03-11T13:08:55.283Z"
   },
   {
    "duration": 301,
    "start_time": "2024-03-11T13:08:55.294Z"
   },
   {
    "duration": 371,
    "start_time": "2024-03-11T13:08:55.597Z"
   },
   {
    "duration": 260,
    "start_time": "2024-03-11T13:08:55.970Z"
   },
   {
    "duration": 7,
    "start_time": "2024-03-11T13:08:56.231Z"
   },
   {
    "duration": 20,
    "start_time": "2024-03-11T13:08:56.239Z"
   },
   {
    "duration": 26,
    "start_time": "2024-03-11T13:08:56.260Z"
   },
   {
    "duration": 15,
    "start_time": "2024-03-11T13:08:56.288Z"
   },
   {
    "duration": 16,
    "start_time": "2024-03-11T13:08:56.305Z"
   },
   {
    "duration": 18,
    "start_time": "2024-03-11T13:08:56.323Z"
   },
   {
    "duration": 14,
    "start_time": "2024-03-11T13:08:56.343Z"
   },
   {
    "duration": 35,
    "start_time": "2024-03-11T13:08:56.358Z"
   },
   {
    "duration": 10,
    "start_time": "2024-03-11T13:08:56.395Z"
   },
   {
    "duration": 9,
    "start_time": "2024-03-11T13:08:56.407Z"
   },
   {
    "duration": 304,
    "start_time": "2024-03-11T13:08:56.417Z"
   },
   {
    "duration": 9,
    "start_time": "2024-03-11T13:08:56.723Z"
   },
   {
    "duration": 268,
    "start_time": "2024-03-11T13:08:56.734Z"
   },
   {
    "duration": 8,
    "start_time": "2024-03-11T13:08:57.004Z"
   },
   {
    "duration": 267,
    "start_time": "2024-03-11T13:08:57.013Z"
   },
   {
    "duration": 9,
    "start_time": "2024-03-11T13:08:57.281Z"
   },
   {
    "duration": 281,
    "start_time": "2024-03-11T13:08:57.291Z"
   },
   {
    "duration": 15,
    "start_time": "2024-03-11T13:08:57.573Z"
   },
   {
    "duration": 448,
    "start_time": "2024-03-11T13:09:21.876Z"
   },
   {
    "duration": 74,
    "start_time": "2024-03-11T13:09:22.326Z"
   },
   {
    "duration": 69,
    "start_time": "2024-03-11T13:09:22.402Z"
   },
   {
    "duration": 52,
    "start_time": "2024-03-11T13:09:22.473Z"
   },
   {
    "duration": 21,
    "start_time": "2024-03-11T13:09:22.527Z"
   },
   {
    "duration": 11,
    "start_time": "2024-03-11T13:09:22.549Z"
   },
   {
    "duration": 10,
    "start_time": "2024-03-11T13:09:22.561Z"
   },
   {
    "duration": 24,
    "start_time": "2024-03-11T13:09:22.572Z"
   },
   {
    "duration": 15,
    "start_time": "2024-03-11T13:09:22.597Z"
   },
   {
    "duration": 9,
    "start_time": "2024-03-11T13:09:22.615Z"
   },
   {
    "duration": 9,
    "start_time": "2024-03-11T13:09:22.626Z"
   },
   {
    "duration": 6,
    "start_time": "2024-03-11T13:09:22.637Z"
   },
   {
    "duration": 8,
    "start_time": "2024-03-11T13:09:22.644Z"
   },
   {
    "duration": 35,
    "start_time": "2024-03-11T13:09:22.654Z"
   },
   {
    "duration": 15,
    "start_time": "2024-03-11T13:09:22.691Z"
   },
   {
    "duration": 10,
    "start_time": "2024-03-11T13:09:22.708Z"
   },
   {
    "duration": 5,
    "start_time": "2024-03-11T13:09:22.720Z"
   },
   {
    "duration": 6,
    "start_time": "2024-03-11T13:09:22.727Z"
   },
   {
    "duration": 10,
    "start_time": "2024-03-11T13:09:22.734Z"
   },
   {
    "duration": 8,
    "start_time": "2024-03-11T13:09:22.745Z"
   },
   {
    "duration": 5,
    "start_time": "2024-03-11T13:09:22.783Z"
   },
   {
    "duration": 22,
    "start_time": "2024-03-11T13:09:22.789Z"
   },
   {
    "duration": 8,
    "start_time": "2024-03-11T13:09:22.813Z"
   },
   {
    "duration": 7,
    "start_time": "2024-03-11T13:09:22.822Z"
   },
   {
    "duration": 468,
    "start_time": "2024-03-11T13:09:22.831Z"
   },
   {
    "duration": 6,
    "start_time": "2024-03-11T13:09:23.301Z"
   },
   {
    "duration": 9,
    "start_time": "2024-03-11T13:09:23.309Z"
   },
   {
    "duration": 114,
    "start_time": "2024-03-11T13:09:23.323Z"
   },
   {
    "duration": 6,
    "start_time": "2024-03-11T13:09:23.439Z"
   },
   {
    "duration": 319,
    "start_time": "2024-03-11T13:09:23.447Z"
   },
   {
    "duration": 4,
    "start_time": "2024-03-11T13:09:23.769Z"
   },
   {
    "duration": 18,
    "start_time": "2024-03-11T13:09:23.775Z"
   },
   {
    "duration": 13,
    "start_time": "2024-03-11T13:09:23.795Z"
   },
   {
    "duration": 201,
    "start_time": "2024-03-11T13:09:23.809Z"
   },
   {
    "duration": 10,
    "start_time": "2024-03-11T13:09:24.012Z"
   },
   {
    "duration": 354,
    "start_time": "2024-03-11T13:09:24.024Z"
   },
   {
    "duration": 263,
    "start_time": "2024-03-11T13:09:24.382Z"
   },
   {
    "duration": 258,
    "start_time": "2024-03-11T13:09:24.647Z"
   },
   {
    "duration": 265,
    "start_time": "2024-03-11T13:09:24.907Z"
   },
   {
    "duration": 12,
    "start_time": "2024-03-11T13:09:25.174Z"
   },
   {
    "duration": 314,
    "start_time": "2024-03-11T13:09:25.187Z"
   },
   {
    "duration": 342,
    "start_time": "2024-03-11T13:09:25.503Z"
   },
   {
    "duration": 290,
    "start_time": "2024-03-11T13:09:25.847Z"
   },
   {
    "duration": 6,
    "start_time": "2024-03-11T13:09:26.138Z"
   },
   {
    "duration": 26,
    "start_time": "2024-03-11T13:09:26.145Z"
   },
   {
    "duration": 15,
    "start_time": "2024-03-11T13:09:26.173Z"
   },
   {
    "duration": 16,
    "start_time": "2024-03-11T13:09:26.189Z"
   },
   {
    "duration": 29,
    "start_time": "2024-03-11T13:09:26.207Z"
   },
   {
    "duration": 10,
    "start_time": "2024-03-11T13:09:26.238Z"
   },
   {
    "duration": 21,
    "start_time": "2024-03-11T13:09:26.250Z"
   },
   {
    "duration": 20,
    "start_time": "2024-03-11T13:09:26.272Z"
   },
   {
    "duration": 10,
    "start_time": "2024-03-11T13:09:26.294Z"
   },
   {
    "duration": 11,
    "start_time": "2024-03-11T13:09:26.305Z"
   },
   {
    "duration": 293,
    "start_time": "2024-03-11T13:09:26.317Z"
   },
   {
    "duration": 10,
    "start_time": "2024-03-11T13:09:26.612Z"
   },
   {
    "duration": 290,
    "start_time": "2024-03-11T13:09:26.624Z"
   },
   {
    "duration": 8,
    "start_time": "2024-03-11T13:09:26.916Z"
   },
   {
    "duration": 292,
    "start_time": "2024-03-11T13:09:26.925Z"
   },
   {
    "duration": 8,
    "start_time": "2024-03-11T13:09:27.219Z"
   },
   {
    "duration": 399,
    "start_time": "2024-03-11T13:09:27.229Z"
   },
   {
    "duration": 10,
    "start_time": "2024-03-11T13:09:27.630Z"
   },
   {
    "duration": 62,
    "start_time": "2024-03-11T13:09:27.641Z"
   },
   {
    "duration": 119,
    "start_time": "2024-03-11T13:09:27.705Z"
   },
   {
    "duration": 99,
    "start_time": "2024-03-11T13:09:58.840Z"
   },
   {
    "duration": 72,
    "start_time": "2024-03-11T13:10:14.247Z"
   },
   {
    "duration": 81,
    "start_time": "2024-03-11T13:10:21.174Z"
   },
   {
    "duration": 90,
    "start_time": "2024-03-11T13:10:25.876Z"
   },
   {
    "duration": 80,
    "start_time": "2024-03-11T13:10:39.795Z"
   },
   {
    "duration": 488,
    "start_time": "2024-03-11T13:10:50.981Z"
   },
   {
    "duration": 30,
    "start_time": "2024-03-11T13:10:53.199Z"
   },
   {
    "duration": 455,
    "start_time": "2024-03-11T13:11:41.375Z"
   },
   {
    "duration": 75,
    "start_time": "2024-03-11T13:11:41.833Z"
   },
   {
    "duration": 73,
    "start_time": "2024-03-11T13:11:41.910Z"
   },
   {
    "duration": 52,
    "start_time": "2024-03-11T13:11:41.985Z"
   },
   {
    "duration": 17,
    "start_time": "2024-03-11T13:11:42.039Z"
   },
   {
    "duration": 9,
    "start_time": "2024-03-11T13:11:42.058Z"
   },
   {
    "duration": 8,
    "start_time": "2024-03-11T13:11:42.069Z"
   },
   {
    "duration": 13,
    "start_time": "2024-03-11T13:11:42.078Z"
   },
   {
    "duration": 16,
    "start_time": "2024-03-11T13:11:42.093Z"
   },
   {
    "duration": 12,
    "start_time": "2024-03-11T13:11:42.112Z"
   },
   {
    "duration": 9,
    "start_time": "2024-03-11T13:11:42.126Z"
   },
   {
    "duration": 6,
    "start_time": "2024-03-11T13:11:42.137Z"
   },
   {
    "duration": 37,
    "start_time": "2024-03-11T13:11:42.145Z"
   },
   {
    "duration": 10,
    "start_time": "2024-03-11T13:11:42.184Z"
   },
   {
    "duration": 14,
    "start_time": "2024-03-11T13:11:42.195Z"
   },
   {
    "duration": 18,
    "start_time": "2024-03-11T13:11:42.211Z"
   },
   {
    "duration": 6,
    "start_time": "2024-03-11T13:11:42.231Z"
   },
   {
    "duration": 10,
    "start_time": "2024-03-11T13:11:42.239Z"
   },
   {
    "duration": 32,
    "start_time": "2024-03-11T13:11:42.251Z"
   },
   {
    "duration": 6,
    "start_time": "2024-03-11T13:11:42.285Z"
   },
   {
    "duration": 7,
    "start_time": "2024-03-11T13:11:42.293Z"
   },
   {
    "duration": 8,
    "start_time": "2024-03-11T13:11:42.302Z"
   },
   {
    "duration": 5,
    "start_time": "2024-03-11T13:11:42.311Z"
   },
   {
    "duration": 7,
    "start_time": "2024-03-11T13:11:42.318Z"
   },
   {
    "duration": 526,
    "start_time": "2024-03-11T13:11:42.327Z"
   },
   {
    "duration": 6,
    "start_time": "2024-03-11T13:11:42.855Z"
   },
   {
    "duration": 21,
    "start_time": "2024-03-11T13:11:42.863Z"
   },
   {
    "duration": 106,
    "start_time": "2024-03-11T13:11:42.888Z"
   },
   {
    "duration": 5,
    "start_time": "2024-03-11T13:11:42.996Z"
   },
   {
    "duration": 343,
    "start_time": "2024-03-11T13:11:43.003Z"
   },
   {
    "duration": 4,
    "start_time": "2024-03-11T13:11:43.348Z"
   },
   {
    "duration": 7,
    "start_time": "2024-03-11T13:11:43.353Z"
   },
   {
    "duration": 22,
    "start_time": "2024-03-11T13:11:43.361Z"
   },
   {
    "duration": 183,
    "start_time": "2024-03-11T13:11:43.385Z"
   },
   {
    "duration": 13,
    "start_time": "2024-03-11T13:11:43.570Z"
   },
   {
    "duration": 359,
    "start_time": "2024-03-11T13:11:43.584Z"
   },
   {
    "duration": 269,
    "start_time": "2024-03-11T13:11:43.945Z"
   },
   {
    "duration": 267,
    "start_time": "2024-03-11T13:11:44.216Z"
   },
   {
    "duration": 263,
    "start_time": "2024-03-11T13:11:44.485Z"
   },
   {
    "duration": 9,
    "start_time": "2024-03-11T13:11:44.750Z"
   },
   {
    "duration": 282,
    "start_time": "2024-03-11T13:11:44.761Z"
   },
   {
    "duration": 374,
    "start_time": "2024-03-11T13:11:45.045Z"
   },
   {
    "duration": 251,
    "start_time": "2024-03-11T13:11:45.420Z"
   },
   {
    "duration": 10,
    "start_time": "2024-03-11T13:11:45.673Z"
   },
   {
    "duration": 19,
    "start_time": "2024-03-11T13:11:45.685Z"
   },
   {
    "duration": 25,
    "start_time": "2024-03-11T13:11:45.706Z"
   },
   {
    "duration": 19,
    "start_time": "2024-03-11T13:11:45.733Z"
   },
   {
    "duration": 31,
    "start_time": "2024-03-11T13:11:45.754Z"
   },
   {
    "duration": 19,
    "start_time": "2024-03-11T13:11:45.786Z"
   },
   {
    "duration": 15,
    "start_time": "2024-03-11T13:11:45.806Z"
   },
   {
    "duration": 24,
    "start_time": "2024-03-11T13:11:45.822Z"
   },
   {
    "duration": 11,
    "start_time": "2024-03-11T13:11:45.848Z"
   },
   {
    "duration": 21,
    "start_time": "2024-03-11T13:11:45.861Z"
   },
   {
    "duration": 279,
    "start_time": "2024-03-11T13:11:45.885Z"
   },
   {
    "duration": 18,
    "start_time": "2024-03-11T13:11:46.165Z"
   },
   {
    "duration": 266,
    "start_time": "2024-03-11T13:11:46.185Z"
   },
   {
    "duration": 10,
    "start_time": "2024-03-11T13:11:46.453Z"
   },
   {
    "duration": 280,
    "start_time": "2024-03-11T13:11:46.464Z"
   },
   {
    "duration": 10,
    "start_time": "2024-03-11T13:11:46.746Z"
   },
   {
    "duration": 291,
    "start_time": "2024-03-11T13:11:46.758Z"
   },
   {
    "duration": 9,
    "start_time": "2024-03-11T13:11:47.052Z"
   },
   {
    "duration": 51,
    "start_time": "2024-03-11T13:11:58.052Z"
   },
   {
    "duration": 459,
    "start_time": "2024-03-11T13:12:04.857Z"
   },
   {
    "duration": 75,
    "start_time": "2024-03-11T13:12:05.318Z"
   },
   {
    "duration": 68,
    "start_time": "2024-03-11T13:12:05.394Z"
   },
   {
    "duration": 52,
    "start_time": "2024-03-11T13:12:05.464Z"
   },
   {
    "duration": 15,
    "start_time": "2024-03-11T13:12:05.518Z"
   },
   {
    "duration": 10,
    "start_time": "2024-03-11T13:12:05.535Z"
   },
   {
    "duration": 8,
    "start_time": "2024-03-11T13:12:05.547Z"
   },
   {
    "duration": 32,
    "start_time": "2024-03-11T13:12:05.557Z"
   },
   {
    "duration": 13,
    "start_time": "2024-03-11T13:12:05.590Z"
   },
   {
    "duration": 10,
    "start_time": "2024-03-11T13:12:05.606Z"
   },
   {
    "duration": 26,
    "start_time": "2024-03-11T13:12:05.618Z"
   },
   {
    "duration": 38,
    "start_time": "2024-03-11T13:12:05.646Z"
   },
   {
    "duration": 9,
    "start_time": "2024-03-11T13:12:05.685Z"
   },
   {
    "duration": 9,
    "start_time": "2024-03-11T13:12:05.695Z"
   },
   {
    "duration": 9,
    "start_time": "2024-03-11T13:12:05.706Z"
   },
   {
    "duration": 8,
    "start_time": "2024-03-11T13:12:05.716Z"
   },
   {
    "duration": 5,
    "start_time": "2024-03-11T13:12:05.726Z"
   },
   {
    "duration": 10,
    "start_time": "2024-03-11T13:12:05.733Z"
   },
   {
    "duration": 13,
    "start_time": "2024-03-11T13:12:05.744Z"
   },
   {
    "duration": 6,
    "start_time": "2024-03-11T13:12:05.783Z"
   },
   {
    "duration": 15,
    "start_time": "2024-03-11T13:12:05.790Z"
   },
   {
    "duration": 14,
    "start_time": "2024-03-11T13:12:05.807Z"
   },
   {
    "duration": 5,
    "start_time": "2024-03-11T13:12:05.822Z"
   },
   {
    "duration": 8,
    "start_time": "2024-03-11T13:12:05.829Z"
   },
   {
    "duration": 487,
    "start_time": "2024-03-11T13:12:05.838Z"
   },
   {
    "duration": 6,
    "start_time": "2024-03-11T13:12:06.326Z"
   },
   {
    "duration": 24,
    "start_time": "2024-03-11T13:12:06.334Z"
   },
   {
    "duration": 104,
    "start_time": "2024-03-11T13:12:06.362Z"
   },
   {
    "duration": 14,
    "start_time": "2024-03-11T13:12:06.468Z"
   },
   {
    "duration": 318,
    "start_time": "2024-03-11T13:12:06.484Z"
   },
   {
    "duration": 5,
    "start_time": "2024-03-11T13:12:06.803Z"
   },
   {
    "duration": 8,
    "start_time": "2024-03-11T13:12:06.809Z"
   },
   {
    "duration": 13,
    "start_time": "2024-03-11T13:12:06.818Z"
   },
   {
    "duration": 203,
    "start_time": "2024-03-11T13:12:06.832Z"
   },
   {
    "duration": 9,
    "start_time": "2024-03-11T13:12:07.037Z"
   },
   {
    "duration": 355,
    "start_time": "2024-03-11T13:12:07.047Z"
   },
   {
    "duration": 274,
    "start_time": "2024-03-11T13:12:07.403Z"
   },
   {
    "duration": 274,
    "start_time": "2024-03-11T13:12:07.682Z"
   },
   {
    "duration": 272,
    "start_time": "2024-03-11T13:12:07.957Z"
   },
   {
    "duration": 9,
    "start_time": "2024-03-11T13:12:08.231Z"
   },
   {
    "duration": 287,
    "start_time": "2024-03-11T13:12:08.241Z"
   },
   {
    "duration": 366,
    "start_time": "2024-03-11T13:12:08.530Z"
   },
   {
    "duration": 270,
    "start_time": "2024-03-11T13:12:08.899Z"
   },
   {
    "duration": 12,
    "start_time": "2024-03-11T13:12:09.171Z"
   },
   {
    "duration": 16,
    "start_time": "2024-03-11T13:12:09.186Z"
   },
   {
    "duration": 13,
    "start_time": "2024-03-11T13:12:09.204Z"
   },
   {
    "duration": 15,
    "start_time": "2024-03-11T13:12:09.219Z"
   },
   {
    "duration": 17,
    "start_time": "2024-03-11T13:12:09.236Z"
   },
   {
    "duration": 30,
    "start_time": "2024-03-11T13:12:09.255Z"
   },
   {
    "duration": 14,
    "start_time": "2024-03-11T13:12:09.287Z"
   },
   {
    "duration": 18,
    "start_time": "2024-03-11T13:12:09.303Z"
   },
   {
    "duration": 10,
    "start_time": "2024-03-11T13:12:09.323Z"
   },
   {
    "duration": 9,
    "start_time": "2024-03-11T13:12:09.334Z"
   },
   {
    "duration": 299,
    "start_time": "2024-03-11T13:12:09.345Z"
   },
   {
    "duration": 9,
    "start_time": "2024-03-11T13:12:09.645Z"
   },
   {
    "duration": 286,
    "start_time": "2024-03-11T13:12:09.655Z"
   },
   {
    "duration": 7,
    "start_time": "2024-03-11T13:12:09.943Z"
   },
   {
    "duration": 273,
    "start_time": "2024-03-11T13:12:09.952Z"
   },
   {
    "duration": 9,
    "start_time": "2024-03-11T13:12:10.227Z"
   },
   {
    "duration": 290,
    "start_time": "2024-03-11T13:12:10.238Z"
   },
   {
    "duration": 8,
    "start_time": "2024-03-11T13:12:10.530Z"
   },
   {
    "duration": 26,
    "start_time": "2024-03-11T13:12:10.539Z"
   },
   {
    "duration": 116,
    "start_time": "2024-03-11T13:12:10.582Z"
   },
   {
    "duration": 2,
    "start_time": "2024-03-11T13:12:10.700Z"
   },
   {
    "duration": 412,
    "start_time": "2024-03-11T13:13:46.308Z"
   },
   {
    "duration": 29,
    "start_time": "2024-03-11T13:13:46.722Z"
   },
   {
    "duration": 29,
    "start_time": "2024-03-11T13:13:46.753Z"
   },
   {
    "duration": 15,
    "start_time": "2024-03-11T13:13:46.785Z"
   },
   {
    "duration": 20,
    "start_time": "2024-03-11T13:13:46.802Z"
   },
   {
    "duration": 9,
    "start_time": "2024-03-11T13:13:46.824Z"
   },
   {
    "duration": 35,
    "start_time": "2024-03-11T13:13:46.835Z"
   },
   {
    "duration": 13,
    "start_time": "2024-03-11T13:13:46.871Z"
   },
   {
    "duration": 25,
    "start_time": "2024-03-11T13:13:46.885Z"
   },
   {
    "duration": 21,
    "start_time": "2024-03-11T13:13:46.913Z"
   },
   {
    "duration": 10,
    "start_time": "2024-03-11T13:13:46.936Z"
   },
   {
    "duration": 14,
    "start_time": "2024-03-11T13:13:46.947Z"
   },
   {
    "duration": 13,
    "start_time": "2024-03-11T13:13:46.963Z"
   },
   {
    "duration": 20,
    "start_time": "2024-03-11T13:13:46.978Z"
   },
   {
    "duration": 20,
    "start_time": "2024-03-11T13:13:47.000Z"
   },
   {
    "duration": 8,
    "start_time": "2024-03-11T13:13:47.022Z"
   },
   {
    "duration": 6,
    "start_time": "2024-03-11T13:13:47.031Z"
   },
   {
    "duration": 8,
    "start_time": "2024-03-11T13:13:47.038Z"
   },
   {
    "duration": 8,
    "start_time": "2024-03-11T13:13:47.048Z"
   },
   {
    "duration": 6,
    "start_time": "2024-03-11T13:13:47.058Z"
   },
   {
    "duration": 16,
    "start_time": "2024-03-11T13:13:47.066Z"
   },
   {
    "duration": 9,
    "start_time": "2024-03-11T13:13:47.084Z"
   },
   {
    "duration": 29,
    "start_time": "2024-03-11T13:13:47.095Z"
   },
   {
    "duration": 14,
    "start_time": "2024-03-11T13:13:47.126Z"
   },
   {
    "duration": 421,
    "start_time": "2024-03-11T13:13:47.142Z"
   },
   {
    "duration": 6,
    "start_time": "2024-03-11T13:13:47.565Z"
   },
   {
    "duration": 7,
    "start_time": "2024-03-11T13:13:47.582Z"
   },
   {
    "duration": 112,
    "start_time": "2024-03-11T13:13:47.593Z"
   },
   {
    "duration": 6,
    "start_time": "2024-03-11T13:13:47.706Z"
   },
   {
    "duration": 341,
    "start_time": "2024-03-11T13:13:47.714Z"
   },
   {
    "duration": 4,
    "start_time": "2024-03-11T13:13:48.057Z"
   },
   {
    "duration": 17,
    "start_time": "2024-03-11T13:13:48.062Z"
   },
   {
    "duration": 32,
    "start_time": "2024-03-11T13:13:48.081Z"
   },
   {
    "duration": 181,
    "start_time": "2024-03-11T13:13:48.114Z"
   },
   {
    "duration": 9,
    "start_time": "2024-03-11T13:13:48.296Z"
   },
   {
    "duration": 352,
    "start_time": "2024-03-11T13:13:48.307Z"
   },
   {
    "duration": 259,
    "start_time": "2024-03-11T13:13:48.661Z"
   },
   {
    "duration": 264,
    "start_time": "2024-03-11T13:13:48.922Z"
   },
   {
    "duration": 269,
    "start_time": "2024-03-11T13:13:49.187Z"
   },
   {
    "duration": 10,
    "start_time": "2024-03-11T13:13:49.458Z"
   },
   {
    "duration": 290,
    "start_time": "2024-03-11T13:13:49.470Z"
   },
   {
    "duration": 347,
    "start_time": "2024-03-11T13:13:49.762Z"
   },
   {
    "duration": 252,
    "start_time": "2024-03-11T13:13:50.111Z"
   },
   {
    "duration": 18,
    "start_time": "2024-03-11T13:13:50.365Z"
   },
   {
    "duration": 9,
    "start_time": "2024-03-11T13:13:50.385Z"
   },
   {
    "duration": 11,
    "start_time": "2024-03-11T13:13:50.396Z"
   },
   {
    "duration": 16,
    "start_time": "2024-03-11T13:13:50.408Z"
   },
   {
    "duration": 28,
    "start_time": "2024-03-11T13:13:50.426Z"
   },
   {
    "duration": 31,
    "start_time": "2024-03-11T13:13:50.456Z"
   },
   {
    "duration": 19,
    "start_time": "2024-03-11T13:13:50.488Z"
   },
   {
    "duration": 27,
    "start_time": "2024-03-11T13:13:50.509Z"
   },
   {
    "duration": 26,
    "start_time": "2024-03-11T13:13:50.538Z"
   },
   {
    "duration": 17,
    "start_time": "2024-03-11T13:13:50.565Z"
   },
   {
    "duration": 288,
    "start_time": "2024-03-11T13:13:50.584Z"
   },
   {
    "duration": 10,
    "start_time": "2024-03-11T13:13:50.874Z"
   },
   {
    "duration": 297,
    "start_time": "2024-03-11T13:13:50.885Z"
   },
   {
    "duration": 8,
    "start_time": "2024-03-11T13:13:51.183Z"
   },
   {
    "duration": 278,
    "start_time": "2024-03-11T13:13:51.193Z"
   },
   {
    "duration": 11,
    "start_time": "2024-03-11T13:13:51.472Z"
   },
   {
    "duration": 290,
    "start_time": "2024-03-11T13:13:51.485Z"
   },
   {
    "duration": 11,
    "start_time": "2024-03-11T13:13:51.777Z"
   },
   {
    "duration": 130,
    "start_time": "2024-03-11T13:13:51.790Z"
   },
   {
    "duration": 40,
    "start_time": "2024-03-11T13:13:51.921Z"
   },
   {
    "duration": 3,
    "start_time": "2024-03-11T13:13:51.962Z"
   },
   {
    "duration": 21,
    "start_time": "2024-03-11T13:22:44.933Z"
   },
   {
    "duration": 10,
    "start_time": "2024-03-11T13:22:47.531Z"
   },
   {
    "duration": 21,
    "start_time": "2024-03-11T13:23:15.726Z"
   },
   {
    "duration": 9,
    "start_time": "2024-03-11T13:23:17.186Z"
   },
   {
    "duration": 10,
    "start_time": "2024-03-11T13:23:21.487Z"
   },
   {
    "duration": 23,
    "start_time": "2024-03-11T13:29:26.942Z"
   },
   {
    "duration": 11,
    "start_time": "2024-03-11T13:29:29.612Z"
   },
   {
    "duration": 106,
    "start_time": "2024-03-11T13:44:22.717Z"
   },
   {
    "duration": 24,
    "start_time": "2024-03-11T13:45:23.430Z"
   },
   {
    "duration": 15,
    "start_time": "2024-03-11T13:48:15.425Z"
   },
   {
    "duration": 8,
    "start_time": "2024-03-11T13:48:30.058Z"
   },
   {
    "duration": 17,
    "start_time": "2024-03-11T13:54:07.970Z"
   },
   {
    "duration": 9,
    "start_time": "2024-03-11T13:54:09.632Z"
   },
   {
    "duration": 72,
    "start_time": "2024-03-11T13:58:23.189Z"
   },
   {
    "duration": 71,
    "start_time": "2024-03-11T13:58:35.093Z"
   },
   {
    "duration": 89,
    "start_time": "2024-03-11T13:58:47.472Z"
   },
   {
    "duration": 71,
    "start_time": "2024-03-11T13:58:51.206Z"
   },
   {
    "duration": 87,
    "start_time": "2024-03-11T13:59:03.002Z"
   },
   {
    "duration": 83,
    "start_time": "2024-03-11T13:59:18.026Z"
   },
   {
    "duration": 77,
    "start_time": "2024-03-11T13:59:32.329Z"
   },
   {
    "duration": 85,
    "start_time": "2024-03-11T13:59:43.312Z"
   },
   {
    "duration": 74,
    "start_time": "2024-03-11T13:59:52.388Z"
   },
   {
    "duration": 77,
    "start_time": "2024-03-11T14:00:12.485Z"
   },
   {
    "duration": 76,
    "start_time": "2024-03-11T14:00:20.882Z"
   },
   {
    "duration": 17,
    "start_time": "2024-03-11T14:00:32.779Z"
   },
   {
    "duration": 28,
    "start_time": "2024-03-11T14:00:46.866Z"
   },
   {
    "duration": 11,
    "start_time": "2024-03-11T14:00:53.922Z"
   },
   {
    "duration": 5,
    "start_time": "2024-03-11T14:02:30.125Z"
   },
   {
    "duration": 13,
    "start_time": "2024-03-11T14:02:34.241Z"
   },
   {
    "duration": 423,
    "start_time": "2024-03-11T14:02:47.722Z"
   },
   {
    "duration": 37,
    "start_time": "2024-03-11T14:02:48.147Z"
   },
   {
    "duration": 31,
    "start_time": "2024-03-11T14:02:48.185Z"
   },
   {
    "duration": 15,
    "start_time": "2024-03-11T14:02:48.218Z"
   },
   {
    "duration": 15,
    "start_time": "2024-03-11T14:02:48.234Z"
   },
   {
    "duration": 9,
    "start_time": "2024-03-11T14:02:48.250Z"
   },
   {
    "duration": 7,
    "start_time": "2024-03-11T14:02:48.260Z"
   },
   {
    "duration": 18,
    "start_time": "2024-03-11T14:02:48.268Z"
   },
   {
    "duration": 12,
    "start_time": "2024-03-11T14:02:48.288Z"
   },
   {
    "duration": 11,
    "start_time": "2024-03-11T14:02:48.303Z"
   },
   {
    "duration": 26,
    "start_time": "2024-03-11T14:02:48.316Z"
   },
   {
    "duration": 16,
    "start_time": "2024-03-11T14:02:48.343Z"
   },
   {
    "duration": 7,
    "start_time": "2024-03-11T14:02:48.360Z"
   },
   {
    "duration": 17,
    "start_time": "2024-03-11T14:02:48.368Z"
   },
   {
    "duration": 9,
    "start_time": "2024-03-11T14:02:48.387Z"
   },
   {
    "duration": 16,
    "start_time": "2024-03-11T14:02:48.397Z"
   },
   {
    "duration": 7,
    "start_time": "2024-03-11T14:02:48.414Z"
   },
   {
    "duration": 7,
    "start_time": "2024-03-11T14:02:48.423Z"
   },
   {
    "duration": 9,
    "start_time": "2024-03-11T14:02:48.432Z"
   },
   {
    "duration": 39,
    "start_time": "2024-03-11T14:02:48.443Z"
   },
   {
    "duration": 5,
    "start_time": "2024-03-11T14:02:48.484Z"
   },
   {
    "duration": 6,
    "start_time": "2024-03-11T14:02:48.490Z"
   },
   {
    "duration": 4,
    "start_time": "2024-03-11T14:02:48.498Z"
   },
   {
    "duration": 6,
    "start_time": "2024-03-11T14:02:48.503Z"
   },
   {
    "duration": 455,
    "start_time": "2024-03-11T14:02:48.510Z"
   },
   {
    "duration": 6,
    "start_time": "2024-03-11T14:02:48.967Z"
   },
   {
    "duration": 6,
    "start_time": "2024-03-11T14:02:48.982Z"
   },
   {
    "duration": 114,
    "start_time": "2024-03-11T14:02:48.992Z"
   },
   {
    "duration": 6,
    "start_time": "2024-03-11T14:02:49.108Z"
   },
   {
    "duration": 352,
    "start_time": "2024-03-11T14:02:49.116Z"
   },
   {
    "duration": 4,
    "start_time": "2024-03-11T14:02:49.470Z"
   },
   {
    "duration": 9,
    "start_time": "2024-03-11T14:02:49.475Z"
   },
   {
    "duration": 11,
    "start_time": "2024-03-11T14:02:49.486Z"
   },
   {
    "duration": 201,
    "start_time": "2024-03-11T14:02:49.499Z"
   },
   {
    "duration": 9,
    "start_time": "2024-03-11T14:02:49.701Z"
   },
   {
    "duration": 346,
    "start_time": "2024-03-11T14:02:49.711Z"
   },
   {
    "duration": 268,
    "start_time": "2024-03-11T14:02:50.058Z"
   },
   {
    "duration": 270,
    "start_time": "2024-03-11T14:02:50.328Z"
   },
   {
    "duration": 275,
    "start_time": "2024-03-11T14:02:50.600Z"
   },
   {
    "duration": 11,
    "start_time": "2024-03-11T14:02:50.877Z"
   },
   {
    "duration": 286,
    "start_time": "2024-03-11T14:02:50.889Z"
   },
   {
    "duration": 333,
    "start_time": "2024-03-11T14:02:51.177Z"
   },
   {
    "duration": 256,
    "start_time": "2024-03-11T14:02:51.512Z"
   },
   {
    "duration": 13,
    "start_time": "2024-03-11T14:02:51.769Z"
   },
   {
    "duration": 17,
    "start_time": "2024-03-11T14:02:51.784Z"
   },
   {
    "duration": 11,
    "start_time": "2024-03-11T14:02:51.803Z"
   },
   {
    "duration": 16,
    "start_time": "2024-03-11T14:02:51.815Z"
   },
   {
    "duration": 17,
    "start_time": "2024-03-11T14:02:51.832Z"
   },
   {
    "duration": 31,
    "start_time": "2024-03-11T14:02:51.851Z"
   },
   {
    "duration": 20,
    "start_time": "2024-03-11T14:02:51.890Z"
   },
   {
    "duration": 29,
    "start_time": "2024-03-11T14:02:51.911Z"
   },
   {
    "duration": 12,
    "start_time": "2024-03-11T14:02:51.942Z"
   },
   {
    "duration": 7,
    "start_time": "2024-03-11T14:02:51.955Z"
   },
   {
    "duration": 309,
    "start_time": "2024-03-11T14:02:51.963Z"
   },
   {
    "duration": 15,
    "start_time": "2024-03-11T14:02:52.274Z"
   },
   {
    "duration": 276,
    "start_time": "2024-03-11T14:02:52.291Z"
   },
   {
    "duration": 14,
    "start_time": "2024-03-11T14:02:52.569Z"
   },
   {
    "duration": 261,
    "start_time": "2024-03-11T14:02:52.584Z"
   },
   {
    "duration": 9,
    "start_time": "2024-03-11T14:02:52.847Z"
   },
   {
    "duration": 289,
    "start_time": "2024-03-11T14:02:52.858Z"
   },
   {
    "duration": 11,
    "start_time": "2024-03-11T14:02:53.149Z"
   },
   {
    "duration": 126,
    "start_time": "2024-03-11T14:02:53.162Z"
   },
   {
    "duration": 16,
    "start_time": "2024-03-11T14:02:53.289Z"
   },
   {
    "duration": 9,
    "start_time": "2024-03-11T14:02:53.307Z"
   },
   {
    "duration": 73,
    "start_time": "2024-03-11T14:02:53.317Z"
   },
   {
    "duration": 0,
    "start_time": "2024-03-11T14:02:53.392Z"
   },
   {
    "duration": 0,
    "start_time": "2024-03-11T14:02:53.394Z"
   },
   {
    "duration": 0,
    "start_time": "2024-03-11T14:02:53.396Z"
   },
   {
    "duration": 426,
    "start_time": "2024-03-11T14:03:01.725Z"
   },
   {
    "duration": 28,
    "start_time": "2024-03-11T14:03:02.153Z"
   },
   {
    "duration": 54,
    "start_time": "2024-03-11T14:03:02.183Z"
   },
   {
    "duration": 23,
    "start_time": "2024-03-11T14:03:02.239Z"
   },
   {
    "duration": 21,
    "start_time": "2024-03-11T14:03:02.263Z"
   },
   {
    "duration": 21,
    "start_time": "2024-03-11T14:03:02.285Z"
   },
   {
    "duration": 20,
    "start_time": "2024-03-11T14:03:02.308Z"
   },
   {
    "duration": 13,
    "start_time": "2024-03-11T14:03:02.330Z"
   },
   {
    "duration": 27,
    "start_time": "2024-03-11T14:03:02.344Z"
   },
   {
    "duration": 22,
    "start_time": "2024-03-11T14:03:02.375Z"
   },
   {
    "duration": 28,
    "start_time": "2024-03-11T14:03:02.399Z"
   },
   {
    "duration": 20,
    "start_time": "2024-03-11T14:03:02.429Z"
   },
   {
    "duration": 34,
    "start_time": "2024-03-11T14:03:02.450Z"
   },
   {
    "duration": 21,
    "start_time": "2024-03-11T14:03:02.486Z"
   },
   {
    "duration": 24,
    "start_time": "2024-03-11T14:03:02.509Z"
   },
   {
    "duration": 31,
    "start_time": "2024-03-11T14:03:02.535Z"
   },
   {
    "duration": 32,
    "start_time": "2024-03-11T14:03:02.568Z"
   },
   {
    "duration": 15,
    "start_time": "2024-03-11T14:03:02.602Z"
   },
   {
    "duration": 18,
    "start_time": "2024-03-11T14:03:02.619Z"
   },
   {
    "duration": 6,
    "start_time": "2024-03-11T14:03:02.639Z"
   },
   {
    "duration": 7,
    "start_time": "2024-03-11T14:03:02.646Z"
   },
   {
    "duration": 5,
    "start_time": "2024-03-11T14:03:02.655Z"
   },
   {
    "duration": 12,
    "start_time": "2024-03-11T14:03:02.662Z"
   },
   {
    "duration": 12,
    "start_time": "2024-03-11T14:03:02.676Z"
   },
   {
    "duration": 439,
    "start_time": "2024-03-11T14:03:02.689Z"
   },
   {
    "duration": 7,
    "start_time": "2024-03-11T14:03:03.130Z"
   },
   {
    "duration": 9,
    "start_time": "2024-03-11T14:03:03.138Z"
   },
   {
    "duration": 125,
    "start_time": "2024-03-11T14:03:03.151Z"
   },
   {
    "duration": 7,
    "start_time": "2024-03-11T14:03:03.281Z"
   },
   {
    "duration": 324,
    "start_time": "2024-03-11T14:03:03.289Z"
   },
   {
    "duration": 4,
    "start_time": "2024-03-11T14:03:03.615Z"
   },
   {
    "duration": 9,
    "start_time": "2024-03-11T14:03:03.620Z"
   },
   {
    "duration": 10,
    "start_time": "2024-03-11T14:03:03.631Z"
   },
   {
    "duration": 211,
    "start_time": "2024-03-11T14:03:03.643Z"
   },
   {
    "duration": 10,
    "start_time": "2024-03-11T14:03:03.856Z"
   },
   {
    "duration": 363,
    "start_time": "2024-03-11T14:03:03.868Z"
   },
   {
    "duration": 269,
    "start_time": "2024-03-11T14:03:04.234Z"
   },
   {
    "duration": 268,
    "start_time": "2024-03-11T14:03:04.505Z"
   },
   {
    "duration": 266,
    "start_time": "2024-03-11T14:03:04.775Z"
   },
   {
    "duration": 10,
    "start_time": "2024-03-11T14:03:05.042Z"
   },
   {
    "duration": 283,
    "start_time": "2024-03-11T14:03:05.054Z"
   },
   {
    "duration": 354,
    "start_time": "2024-03-11T14:03:05.339Z"
   },
   {
    "duration": 286,
    "start_time": "2024-03-11T14:03:05.695Z"
   },
   {
    "duration": 8,
    "start_time": "2024-03-11T14:03:05.983Z"
   },
   {
    "duration": 14,
    "start_time": "2024-03-11T14:03:05.992Z"
   },
   {
    "duration": 10,
    "start_time": "2024-03-11T14:03:06.008Z"
   },
   {
    "duration": 17,
    "start_time": "2024-03-11T14:03:06.020Z"
   },
   {
    "duration": 49,
    "start_time": "2024-03-11T14:03:06.039Z"
   },
   {
    "duration": 18,
    "start_time": "2024-03-11T14:03:06.089Z"
   },
   {
    "duration": 15,
    "start_time": "2024-03-11T14:03:06.109Z"
   },
   {
    "duration": 15,
    "start_time": "2024-03-11T14:03:06.126Z"
   },
   {
    "duration": 12,
    "start_time": "2024-03-11T14:03:06.144Z"
   },
   {
    "duration": 27,
    "start_time": "2024-03-11T14:03:06.157Z"
   },
   {
    "duration": 282,
    "start_time": "2024-03-11T14:03:06.186Z"
   },
   {
    "duration": 15,
    "start_time": "2024-03-11T14:03:06.470Z"
   },
   {
    "duration": 267,
    "start_time": "2024-03-11T14:03:06.487Z"
   },
   {
    "duration": 8,
    "start_time": "2024-03-11T14:03:06.756Z"
   },
   {
    "duration": 271,
    "start_time": "2024-03-11T14:03:06.766Z"
   },
   {
    "duration": 14,
    "start_time": "2024-03-11T14:03:07.039Z"
   },
   {
    "duration": 319,
    "start_time": "2024-03-11T14:03:07.055Z"
   },
   {
    "duration": 12,
    "start_time": "2024-03-11T14:03:07.376Z"
   },
   {
    "duration": 130,
    "start_time": "2024-03-11T14:03:07.389Z"
   },
   {
    "duration": 17,
    "start_time": "2024-03-11T14:03:07.520Z"
   },
   {
    "duration": 9,
    "start_time": "2024-03-11T14:03:07.539Z"
   },
   {
    "duration": 8,
    "start_time": "2024-03-11T14:03:07.549Z"
   },
   {
    "duration": 32,
    "start_time": "2024-03-11T14:03:07.559Z"
   },
   {
    "duration": 13,
    "start_time": "2024-03-11T14:03:07.592Z"
   },
   {
    "duration": 452,
    "start_time": "2024-03-11T14:24:45.593Z"
   },
   {
    "duration": 1011,
    "start_time": "2024-03-11T14:24:51.581Z"
   },
   {
    "duration": 29,
    "start_time": "2024-03-11T14:24:52.594Z"
   },
   {
    "duration": 29,
    "start_time": "2024-03-11T14:24:52.625Z"
   },
   {
    "duration": 15,
    "start_time": "2024-03-11T14:24:52.657Z"
   },
   {
    "duration": 23,
    "start_time": "2024-03-11T14:24:52.673Z"
   },
   {
    "duration": 15,
    "start_time": "2024-03-11T14:24:52.698Z"
   },
   {
    "duration": 29,
    "start_time": "2024-03-11T14:24:52.715Z"
   },
   {
    "duration": 30,
    "start_time": "2024-03-11T14:24:52.746Z"
   },
   {
    "duration": 37,
    "start_time": "2024-03-11T14:24:52.778Z"
   },
   {
    "duration": 37,
    "start_time": "2024-03-11T14:24:52.818Z"
   },
   {
    "duration": 19,
    "start_time": "2024-03-11T14:24:52.857Z"
   },
   {
    "duration": 22,
    "start_time": "2024-03-11T14:24:52.878Z"
   },
   {
    "duration": 19,
    "start_time": "2024-03-11T14:24:52.902Z"
   },
   {
    "duration": 26,
    "start_time": "2024-03-11T14:24:52.923Z"
   },
   {
    "duration": 7,
    "start_time": "2024-03-11T14:24:52.951Z"
   },
   {
    "duration": 20,
    "start_time": "2024-03-11T14:24:52.960Z"
   },
   {
    "duration": 21,
    "start_time": "2024-03-11T14:24:52.987Z"
   },
   {
    "duration": 28,
    "start_time": "2024-03-11T14:24:53.009Z"
   },
   {
    "duration": 13,
    "start_time": "2024-03-11T14:24:53.039Z"
   },
   {
    "duration": 22,
    "start_time": "2024-03-11T14:24:53.054Z"
   },
   {
    "duration": 28,
    "start_time": "2024-03-11T14:24:53.077Z"
   },
   {
    "duration": 9,
    "start_time": "2024-03-11T14:24:53.107Z"
   },
   {
    "duration": 19,
    "start_time": "2024-03-11T14:24:53.117Z"
   },
   {
    "duration": 11,
    "start_time": "2024-03-11T14:24:53.138Z"
   },
   {
    "duration": 550,
    "start_time": "2024-03-11T14:24:53.151Z"
   },
   {
    "duration": 6,
    "start_time": "2024-03-11T14:24:53.703Z"
   },
   {
    "duration": 27,
    "start_time": "2024-03-11T14:24:53.710Z"
   },
   {
    "duration": 125,
    "start_time": "2024-03-11T14:24:53.741Z"
   },
   {
    "duration": 6,
    "start_time": "2024-03-11T14:24:53.868Z"
   },
   {
    "duration": 364,
    "start_time": "2024-03-11T14:24:53.876Z"
   },
   {
    "duration": 5,
    "start_time": "2024-03-11T14:24:54.241Z"
   },
   {
    "duration": 19,
    "start_time": "2024-03-11T14:24:54.248Z"
   },
   {
    "duration": 34,
    "start_time": "2024-03-11T14:24:54.271Z"
   },
   {
    "duration": 205,
    "start_time": "2024-03-11T14:24:54.307Z"
   },
   {
    "duration": 9,
    "start_time": "2024-03-11T14:24:54.514Z"
   },
   {
    "duration": 346,
    "start_time": "2024-03-11T14:24:54.524Z"
   },
   {
    "duration": 299,
    "start_time": "2024-03-11T14:24:54.872Z"
   },
   {
    "duration": 298,
    "start_time": "2024-03-11T14:24:55.172Z"
   },
   {
    "duration": 379,
    "start_time": "2024-03-11T14:24:55.471Z"
   },
   {
    "duration": 11,
    "start_time": "2024-03-11T14:24:55.852Z"
   },
   {
    "duration": 331,
    "start_time": "2024-03-11T14:24:55.865Z"
   },
   {
    "duration": 279,
    "start_time": "2024-03-11T14:24:56.198Z"
   },
   {
    "duration": 274,
    "start_time": "2024-03-11T14:24:56.479Z"
   },
   {
    "duration": 6,
    "start_time": "2024-03-11T14:24:56.755Z"
   },
   {
    "duration": 18,
    "start_time": "2024-03-11T14:24:56.763Z"
   },
   {
    "duration": 10,
    "start_time": "2024-03-11T14:24:56.793Z"
   },
   {
    "duration": 16,
    "start_time": "2024-03-11T14:24:56.805Z"
   },
   {
    "duration": 15,
    "start_time": "2024-03-11T14:24:56.823Z"
   },
   {
    "duration": 12,
    "start_time": "2024-03-11T14:24:56.839Z"
   },
   {
    "duration": 41,
    "start_time": "2024-03-11T14:24:56.853Z"
   },
   {
    "duration": 16,
    "start_time": "2024-03-11T14:24:56.896Z"
   },
   {
    "duration": 13,
    "start_time": "2024-03-11T14:24:56.913Z"
   },
   {
    "duration": 12,
    "start_time": "2024-03-11T14:24:56.927Z"
   },
   {
    "duration": 323,
    "start_time": "2024-03-11T14:24:56.941Z"
   },
   {
    "duration": 9,
    "start_time": "2024-03-11T14:24:57.266Z"
   },
   {
    "duration": 417,
    "start_time": "2024-03-11T14:24:57.277Z"
   },
   {
    "duration": 9,
    "start_time": "2024-03-11T14:24:57.696Z"
   },
   {
    "duration": 308,
    "start_time": "2024-03-11T14:24:57.707Z"
   },
   {
    "duration": 9,
    "start_time": "2024-03-11T14:24:58.016Z"
   },
   {
    "duration": 302,
    "start_time": "2024-03-11T14:24:58.027Z"
   },
   {
    "duration": 7,
    "start_time": "2024-03-11T14:24:58.331Z"
   },
   {
    "duration": 21,
    "start_time": "2024-03-11T14:24:58.340Z"
   },
   {
    "duration": 39,
    "start_time": "2024-03-11T14:24:58.363Z"
   },
   {
    "duration": 10,
    "start_time": "2024-03-11T14:24:58.404Z"
   },
   {
    "duration": 5,
    "start_time": "2024-03-11T14:24:58.416Z"
   },
   {
    "duration": 12,
    "start_time": "2024-03-11T14:24:58.423Z"
   },
   {
    "duration": 70,
    "start_time": "2024-03-11T14:28:06.134Z"
   },
   {
    "duration": 72,
    "start_time": "2024-03-11T14:28:18.608Z"
   },
   {
    "duration": 74,
    "start_time": "2024-03-11T14:29:27.450Z"
   },
   {
    "duration": 6,
    "start_time": "2024-03-11T14:29:38.492Z"
   },
   {
    "duration": 5,
    "start_time": "2024-03-11T14:30:10.420Z"
   },
   {
    "duration": 115,
    "start_time": "2024-03-11T14:36:47.533Z"
   },
   {
    "duration": 10,
    "start_time": "2024-03-11T14:37:01.927Z"
   },
   {
    "duration": 7,
    "start_time": "2024-03-11T14:53:47.248Z"
   },
   {
    "duration": 48,
    "start_time": "2024-03-12T08:00:45.861Z"
   },
   {
    "duration": 824,
    "start_time": "2024-03-12T08:00:51.812Z"
   },
   {
    "duration": 85,
    "start_time": "2024-03-12T08:00:52.638Z"
   },
   {
    "duration": 154,
    "start_time": "2024-03-12T08:00:52.725Z"
   },
   {
    "duration": 56,
    "start_time": "2024-03-12T08:00:52.880Z"
   },
   {
    "duration": 15,
    "start_time": "2024-03-12T08:00:52.938Z"
   },
   {
    "duration": 8,
    "start_time": "2024-03-12T08:00:52.954Z"
   },
   {
    "duration": 9,
    "start_time": "2024-03-12T08:00:52.963Z"
   },
   {
    "duration": 31,
    "start_time": "2024-03-12T08:00:52.973Z"
   },
   {
    "duration": 15,
    "start_time": "2024-03-12T08:00:53.006Z"
   },
   {
    "duration": 25,
    "start_time": "2024-03-12T08:00:53.022Z"
   },
   {
    "duration": 32,
    "start_time": "2024-03-12T08:00:53.049Z"
   },
   {
    "duration": 25,
    "start_time": "2024-03-12T08:00:53.083Z"
   },
   {
    "duration": 32,
    "start_time": "2024-03-12T08:00:53.109Z"
   },
   {
    "duration": 30,
    "start_time": "2024-03-12T08:00:53.144Z"
   },
   {
    "duration": 45,
    "start_time": "2024-03-12T08:00:53.176Z"
   },
   {
    "duration": 22,
    "start_time": "2024-03-12T08:00:53.222Z"
   },
   {
    "duration": 5,
    "start_time": "2024-03-12T08:00:53.246Z"
   },
   {
    "duration": 15,
    "start_time": "2024-03-12T08:00:53.253Z"
   },
   {
    "duration": 13,
    "start_time": "2024-03-12T08:00:53.269Z"
   },
   {
    "duration": 8,
    "start_time": "2024-03-12T08:00:53.284Z"
   },
   {
    "duration": 11,
    "start_time": "2024-03-12T08:00:53.293Z"
   },
   {
    "duration": 20,
    "start_time": "2024-03-12T08:00:53.305Z"
   },
   {
    "duration": 7,
    "start_time": "2024-03-12T08:00:53.326Z"
   },
   {
    "duration": 14,
    "start_time": "2024-03-12T08:00:53.334Z"
   },
   {
    "duration": 650,
    "start_time": "2024-03-12T08:00:53.350Z"
   },
   {
    "duration": 6,
    "start_time": "2024-03-12T08:00:54.001Z"
   },
   {
    "duration": 30,
    "start_time": "2024-03-12T08:00:54.008Z"
   },
   {
    "duration": 104,
    "start_time": "2024-03-12T08:00:54.039Z"
   },
   {
    "duration": 5,
    "start_time": "2024-03-12T08:00:54.145Z"
   },
   {
    "duration": 319,
    "start_time": "2024-03-12T08:00:54.152Z"
   },
   {
    "duration": 5,
    "start_time": "2024-03-12T08:00:54.472Z"
   },
   {
    "duration": 44,
    "start_time": "2024-03-12T08:00:54.478Z"
   },
   {
    "duration": 11,
    "start_time": "2024-03-12T08:00:54.524Z"
   },
   {
    "duration": 188,
    "start_time": "2024-03-12T08:00:54.537Z"
   },
   {
    "duration": 9,
    "start_time": "2024-03-12T08:00:54.727Z"
   },
   {
    "duration": 281,
    "start_time": "2024-03-12T08:00:54.738Z"
   },
   {
    "duration": 254,
    "start_time": "2024-03-12T08:00:55.022Z"
   },
   {
    "duration": 326,
    "start_time": "2024-03-12T08:00:55.277Z"
   },
   {
    "duration": 250,
    "start_time": "2024-03-12T08:00:55.604Z"
   },
   {
    "duration": 9,
    "start_time": "2024-03-12T08:00:55.856Z"
   },
   {
    "duration": 312,
    "start_time": "2024-03-12T08:00:55.870Z"
   },
   {
    "duration": 245,
    "start_time": "2024-03-12T08:00:56.184Z"
   },
   {
    "duration": 244,
    "start_time": "2024-03-12T08:00:56.431Z"
   },
   {
    "duration": 18,
    "start_time": "2024-03-12T08:00:56.676Z"
   },
   {
    "duration": 33,
    "start_time": "2024-03-12T08:00:56.695Z"
   },
   {
    "duration": 39,
    "start_time": "2024-03-12T08:00:56.729Z"
   },
   {
    "duration": 23,
    "start_time": "2024-03-12T08:00:56.769Z"
   },
   {
    "duration": 47,
    "start_time": "2024-03-12T08:00:56.794Z"
   },
   {
    "duration": 22,
    "start_time": "2024-03-12T08:00:56.843Z"
   },
   {
    "duration": 43,
    "start_time": "2024-03-12T08:00:56.867Z"
   },
   {
    "duration": 29,
    "start_time": "2024-03-12T08:00:56.912Z"
   },
   {
    "duration": 20,
    "start_time": "2024-03-12T08:00:56.942Z"
   },
   {
    "duration": 22,
    "start_time": "2024-03-12T08:00:56.964Z"
   },
   {
    "duration": 367,
    "start_time": "2024-03-12T08:00:56.987Z"
   },
   {
    "duration": 8,
    "start_time": "2024-03-12T08:00:57.355Z"
   },
   {
    "duration": 287,
    "start_time": "2024-03-12T08:00:57.364Z"
   },
   {
    "duration": 7,
    "start_time": "2024-03-12T08:00:57.653Z"
   },
   {
    "duration": 261,
    "start_time": "2024-03-12T08:00:57.662Z"
   },
   {
    "duration": 8,
    "start_time": "2024-03-12T08:00:57.925Z"
   },
   {
    "duration": 270,
    "start_time": "2024-03-12T08:00:57.934Z"
   },
   {
    "duration": 9,
    "start_time": "2024-03-12T08:00:58.206Z"
   },
   {
    "duration": 35,
    "start_time": "2024-03-12T08:00:58.217Z"
   },
   {
    "duration": 15,
    "start_time": "2024-03-12T08:00:58.253Z"
   },
   {
    "duration": 47,
    "start_time": "2024-03-12T08:00:58.270Z"
   },
   {
    "duration": 16,
    "start_time": "2024-03-12T08:00:58.318Z"
   },
   {
    "duration": 36,
    "start_time": "2024-03-12T08:00:58.335Z"
   },
   {
    "duration": 49,
    "start_time": "2024-03-12T08:00:58.372Z"
   },
   {
    "duration": 12,
    "start_time": "2024-03-12T08:00:58.423Z"
   },
   {
    "duration": 140,
    "start_time": "2024-03-12T08:00:58.437Z"
   },
   {
    "duration": 8,
    "start_time": "2024-03-12T08:01:37.817Z"
   },
   {
    "duration": 38,
    "start_time": "2024-03-12T08:05:17.782Z"
   },
   {
    "duration": 17,
    "start_time": "2024-03-12T08:05:28.518Z"
   },
   {
    "duration": 8,
    "start_time": "2024-03-12T08:08:43.668Z"
   },
   {
    "duration": 16,
    "start_time": "2024-03-12T08:09:04.238Z"
   },
   {
    "duration": 13,
    "start_time": "2024-03-12T08:18:40.559Z"
   },
   {
    "duration": 8,
    "start_time": "2024-03-12T08:18:53.464Z"
   },
   {
    "duration": 34,
    "start_time": "2024-03-12T08:20:33.337Z"
   },
   {
    "duration": 30,
    "start_time": "2024-03-12T08:20:49.224Z"
   },
   {
    "duration": 31,
    "start_time": "2024-03-12T08:20:59.307Z"
   },
   {
    "duration": 29,
    "start_time": "2024-03-12T08:21:08.655Z"
   },
   {
    "duration": 22,
    "start_time": "2024-03-12T08:21:28.394Z"
   },
   {
    "duration": 19,
    "start_time": "2024-03-12T08:22:13.733Z"
   },
   {
    "duration": 6,
    "start_time": "2024-03-12T08:22:14.382Z"
   },
   {
    "duration": 10,
    "start_time": "2024-03-12T08:22:37.965Z"
   },
   {
    "duration": 16,
    "start_time": "2024-03-12T08:23:45.934Z"
   },
   {
    "duration": 10,
    "start_time": "2024-03-12T08:23:56.654Z"
   },
   {
    "duration": 31,
    "start_time": "2024-03-12T08:24:26.595Z"
   },
   {
    "duration": 10,
    "start_time": "2024-03-12T08:24:30.655Z"
   },
   {
    "duration": 20,
    "start_time": "2024-03-12T08:24:33.819Z"
   },
   {
    "duration": 12,
    "start_time": "2024-03-12T08:24:34.399Z"
   },
   {
    "duration": 10,
    "start_time": "2024-03-12T08:24:37.061Z"
   },
   {
    "duration": 19,
    "start_time": "2024-03-12T08:24:49.089Z"
   },
   {
    "duration": 14,
    "start_time": "2024-03-12T08:24:49.728Z"
   },
   {
    "duration": 18,
    "start_time": "2024-03-12T08:25:05.467Z"
   },
   {
    "duration": 11,
    "start_time": "2024-03-12T08:25:06.320Z"
   },
   {
    "duration": 9,
    "start_time": "2024-03-12T08:36:16.001Z"
   },
   {
    "duration": 92,
    "start_time": "2024-03-12T08:37:51.095Z"
   },
   {
    "duration": 10,
    "start_time": "2024-03-12T09:12:45.780Z"
   },
   {
    "duration": 13,
    "start_time": "2024-03-12T09:13:01.540Z"
   },
   {
    "duration": 8,
    "start_time": "2024-03-12T09:13:07.549Z"
   },
   {
    "duration": 1020,
    "start_time": "2024-03-12T10:08:40.716Z"
   },
   {
    "duration": 78,
    "start_time": "2024-03-12T10:08:41.738Z"
   },
   {
    "duration": 27,
    "start_time": "2024-03-12T10:08:41.818Z"
   },
   {
    "duration": 14,
    "start_time": "2024-03-12T10:08:41.847Z"
   },
   {
    "duration": 49,
    "start_time": "2024-03-12T10:08:41.863Z"
   },
   {
    "duration": 17,
    "start_time": "2024-03-12T10:08:41.914Z"
   },
   {
    "duration": 34,
    "start_time": "2024-03-12T10:08:41.932Z"
   },
   {
    "duration": 21,
    "start_time": "2024-03-12T10:08:41.967Z"
   },
   {
    "duration": 30,
    "start_time": "2024-03-12T10:08:41.990Z"
   },
   {
    "duration": 26,
    "start_time": "2024-03-12T10:08:42.023Z"
   },
   {
    "duration": 10,
    "start_time": "2024-03-12T10:08:42.051Z"
   },
   {
    "duration": 24,
    "start_time": "2024-03-12T10:08:42.062Z"
   },
   {
    "duration": 21,
    "start_time": "2024-03-12T10:08:42.088Z"
   },
   {
    "duration": 13,
    "start_time": "2024-03-12T10:08:42.110Z"
   },
   {
    "duration": 8,
    "start_time": "2024-03-12T10:08:42.125Z"
   },
   {
    "duration": 46,
    "start_time": "2024-03-12T10:08:42.134Z"
   },
   {
    "duration": 21,
    "start_time": "2024-03-12T10:08:42.181Z"
   },
   {
    "duration": 21,
    "start_time": "2024-03-12T10:08:42.203Z"
   },
   {
    "duration": 37,
    "start_time": "2024-03-12T10:08:42.225Z"
   },
   {
    "duration": 20,
    "start_time": "2024-03-12T10:08:42.263Z"
   },
   {
    "duration": 17,
    "start_time": "2024-03-12T10:08:42.285Z"
   },
   {
    "duration": 27,
    "start_time": "2024-03-12T10:08:42.303Z"
   },
   {
    "duration": 12,
    "start_time": "2024-03-12T10:08:42.332Z"
   },
   {
    "duration": 18,
    "start_time": "2024-03-12T10:08:42.345Z"
   },
   {
    "duration": 188,
    "start_time": "2024-03-12T10:08:42.364Z"
   },
   {
    "duration": 5,
    "start_time": "2024-03-12T10:08:42.553Z"
   },
   {
    "duration": 19,
    "start_time": "2024-03-12T10:08:42.559Z"
   },
   {
    "duration": 102,
    "start_time": "2024-03-12T10:08:42.582Z"
   },
   {
    "duration": 8,
    "start_time": "2024-03-12T10:08:42.686Z"
   },
   {
    "duration": 402,
    "start_time": "2024-03-12T10:08:42.695Z"
   },
   {
    "duration": 4,
    "start_time": "2024-03-12T10:08:43.098Z"
   },
   {
    "duration": 8,
    "start_time": "2024-03-12T10:08:43.104Z"
   },
   {
    "duration": 15,
    "start_time": "2024-03-12T10:08:43.113Z"
   },
   {
    "duration": 199,
    "start_time": "2024-03-12T10:08:43.129Z"
   },
   {
    "duration": 9,
    "start_time": "2024-03-12T10:08:43.329Z"
   },
   {
    "duration": 276,
    "start_time": "2024-03-12T10:08:43.340Z"
   },
   {
    "duration": 228,
    "start_time": "2024-03-12T10:08:43.618Z"
   },
   {
    "duration": 302,
    "start_time": "2024-03-12T10:08:43.848Z"
   },
   {
    "duration": 235,
    "start_time": "2024-03-12T10:08:44.152Z"
   },
   {
    "duration": 12,
    "start_time": "2024-03-12T10:08:44.388Z"
   },
   {
    "duration": 247,
    "start_time": "2024-03-12T10:08:44.402Z"
   },
   {
    "duration": 234,
    "start_time": "2024-03-12T10:08:44.650Z"
   },
   {
    "duration": 240,
    "start_time": "2024-03-12T10:08:44.886Z"
   },
   {
    "duration": 6,
    "start_time": "2024-03-12T10:08:45.127Z"
   },
   {
    "duration": 40,
    "start_time": "2024-03-12T10:08:45.134Z"
   },
   {
    "duration": 48,
    "start_time": "2024-03-12T10:08:45.175Z"
   },
   {
    "duration": 82,
    "start_time": "2024-03-12T10:08:45.225Z"
   },
   {
    "duration": 54,
    "start_time": "2024-03-12T10:08:45.308Z"
   },
   {
    "duration": 64,
    "start_time": "2024-03-12T10:08:45.364Z"
   },
   {
    "duration": 61,
    "start_time": "2024-03-12T10:08:45.429Z"
   },
   {
    "duration": 37,
    "start_time": "2024-03-12T10:08:45.492Z"
   },
   {
    "duration": 36,
    "start_time": "2024-03-12T10:08:45.530Z"
   },
   {
    "duration": 48,
    "start_time": "2024-03-12T10:08:45.567Z"
   },
   {
    "duration": 279,
    "start_time": "2024-03-12T10:08:45.617Z"
   },
   {
    "duration": 7,
    "start_time": "2024-03-12T10:08:45.898Z"
   },
   {
    "duration": 309,
    "start_time": "2024-03-12T10:08:45.906Z"
   },
   {
    "duration": 8,
    "start_time": "2024-03-12T10:08:46.216Z"
   },
   {
    "duration": 241,
    "start_time": "2024-03-12T10:08:46.225Z"
   },
   {
    "duration": 8,
    "start_time": "2024-03-12T10:08:46.467Z"
   },
   {
    "duration": 285,
    "start_time": "2024-03-12T10:08:46.476Z"
   },
   {
    "duration": 10,
    "start_time": "2024-03-12T10:08:46.762Z"
   },
   {
    "duration": 51,
    "start_time": "2024-03-12T10:08:46.775Z"
   },
   {
    "duration": 15,
    "start_time": "2024-03-12T10:08:46.827Z"
   },
   {
    "duration": 13,
    "start_time": "2024-03-12T10:08:46.843Z"
   },
   {
    "duration": 51,
    "start_time": "2024-03-12T10:08:46.858Z"
   },
   {
    "duration": 26,
    "start_time": "2024-03-12T10:08:46.910Z"
   },
   {
    "duration": 11,
    "start_time": "2024-03-12T10:08:46.938Z"
   },
   {
    "duration": 20,
    "start_time": "2024-03-12T10:08:46.951Z"
   },
   {
    "duration": 25,
    "start_time": "2024-03-12T10:08:46.972Z"
   },
   {
    "duration": 15,
    "start_time": "2024-03-12T10:08:46.998Z"
   },
   {
    "duration": 89,
    "start_time": "2024-03-12T10:08:47.014Z"
   },
   {
    "duration": 0,
    "start_time": "2024-03-12T10:08:47.104Z"
   },
   {
    "duration": 0,
    "start_time": "2024-03-12T10:08:47.105Z"
   },
   {
    "duration": 0,
    "start_time": "2024-03-12T10:08:47.106Z"
   },
   {
    "duration": 133,
    "start_time": "2024-03-12T10:19:33.438Z"
   },
   {
    "duration": 433,
    "start_time": "2024-03-12T10:19:43.442Z"
   },
   {
    "duration": 105,
    "start_time": "2024-03-12T10:23:48.369Z"
   },
   {
    "duration": 300,
    "start_time": "2024-03-12T10:23:54.857Z"
   },
   {
    "duration": 1407,
    "start_time": "2024-03-12T10:24:24.187Z"
   },
   {
    "duration": 97,
    "start_time": "2024-03-12T10:30:15.375Z"
   },
   {
    "duration": 1042,
    "start_time": "2024-03-12T10:30:25.400Z"
   },
   {
    "duration": 71,
    "start_time": "2024-03-12T10:30:26.443Z"
   },
   {
    "duration": 28,
    "start_time": "2024-03-12T10:30:26.515Z"
   },
   {
    "duration": 15,
    "start_time": "2024-03-12T10:30:26.545Z"
   },
   {
    "duration": 21,
    "start_time": "2024-03-12T10:30:26.561Z"
   },
   {
    "duration": 41,
    "start_time": "2024-03-12T10:30:26.583Z"
   },
   {
    "duration": 11,
    "start_time": "2024-03-12T10:30:26.626Z"
   },
   {
    "duration": 14,
    "start_time": "2024-03-12T10:30:26.638Z"
   },
   {
    "duration": 24,
    "start_time": "2024-03-12T10:30:26.653Z"
   },
   {
    "duration": 42,
    "start_time": "2024-03-12T10:30:26.680Z"
   },
   {
    "duration": 51,
    "start_time": "2024-03-12T10:30:26.724Z"
   },
   {
    "duration": 18,
    "start_time": "2024-03-12T10:30:26.776Z"
   },
   {
    "duration": 9,
    "start_time": "2024-03-12T10:30:26.795Z"
   },
   {
    "duration": 10,
    "start_time": "2024-03-12T10:30:26.807Z"
   },
   {
    "duration": 8,
    "start_time": "2024-03-12T10:30:26.819Z"
   },
   {
    "duration": 18,
    "start_time": "2024-03-12T10:30:26.828Z"
   },
   {
    "duration": 8,
    "start_time": "2024-03-12T10:30:26.848Z"
   },
   {
    "duration": 15,
    "start_time": "2024-03-12T10:30:26.857Z"
   },
   {
    "duration": 22,
    "start_time": "2024-03-12T10:30:26.873Z"
   },
   {
    "duration": 7,
    "start_time": "2024-03-12T10:30:26.897Z"
   },
   {
    "duration": 10,
    "start_time": "2024-03-12T10:30:26.905Z"
   },
   {
    "duration": 6,
    "start_time": "2024-03-12T10:30:26.916Z"
   },
   {
    "duration": 5,
    "start_time": "2024-03-12T10:30:26.924Z"
   },
   {
    "duration": 17,
    "start_time": "2024-03-12T10:30:26.930Z"
   },
   {
    "duration": 159,
    "start_time": "2024-03-12T10:30:26.948Z"
   },
   {
    "duration": 5,
    "start_time": "2024-03-12T10:30:27.109Z"
   },
   {
    "duration": 47,
    "start_time": "2024-03-12T10:30:27.116Z"
   },
   {
    "duration": 97,
    "start_time": "2024-03-12T10:30:27.168Z"
   },
   {
    "duration": 7,
    "start_time": "2024-03-12T10:30:27.266Z"
   },
   {
    "duration": 314,
    "start_time": "2024-03-12T10:30:27.274Z"
   },
   {
    "duration": 4,
    "start_time": "2024-03-12T10:30:27.593Z"
   },
   {
    "duration": 14,
    "start_time": "2024-03-12T10:30:27.598Z"
   },
   {
    "duration": 15,
    "start_time": "2024-03-12T10:30:27.614Z"
   },
   {
    "duration": 164,
    "start_time": "2024-03-12T10:30:27.631Z"
   },
   {
    "duration": 8,
    "start_time": "2024-03-12T10:30:27.797Z"
   },
   {
    "duration": 257,
    "start_time": "2024-03-12T10:30:27.807Z"
   },
   {
    "duration": 232,
    "start_time": "2024-03-12T10:30:28.066Z"
   },
   {
    "duration": 296,
    "start_time": "2024-03-12T10:30:28.299Z"
   },
   {
    "duration": 248,
    "start_time": "2024-03-12T10:30:28.597Z"
   },
   {
    "duration": 8,
    "start_time": "2024-03-12T10:30:28.847Z"
   },
   {
    "duration": 275,
    "start_time": "2024-03-12T10:30:28.856Z"
   },
   {
    "duration": 214,
    "start_time": "2024-03-12T10:30:29.133Z"
   },
   {
    "duration": 233,
    "start_time": "2024-03-12T10:30:29.348Z"
   },
   {
    "duration": 6,
    "start_time": "2024-03-12T10:30:29.582Z"
   },
   {
    "duration": 13,
    "start_time": "2024-03-12T10:30:29.593Z"
   },
   {
    "duration": 8,
    "start_time": "2024-03-12T10:30:29.607Z"
   },
   {
    "duration": 12,
    "start_time": "2024-03-12T10:30:29.617Z"
   },
   {
    "duration": 26,
    "start_time": "2024-03-12T10:30:29.630Z"
   },
   {
    "duration": 14,
    "start_time": "2024-03-12T10:30:29.657Z"
   },
   {
    "duration": 12,
    "start_time": "2024-03-12T10:30:29.672Z"
   },
   {
    "duration": 19,
    "start_time": "2024-03-12T10:30:29.685Z"
   },
   {
    "duration": 13,
    "start_time": "2024-03-12T10:30:29.706Z"
   },
   {
    "duration": 6,
    "start_time": "2024-03-12T10:30:29.720Z"
   },
   {
    "duration": 258,
    "start_time": "2024-03-12T10:30:29.727Z"
   },
   {
    "duration": 13,
    "start_time": "2024-03-12T10:30:29.986Z"
   },
   {
    "duration": 333,
    "start_time": "2024-03-12T10:30:30.001Z"
   },
   {
    "duration": 7,
    "start_time": "2024-03-12T10:30:30.335Z"
   },
   {
    "duration": 311,
    "start_time": "2024-03-12T10:30:30.344Z"
   },
   {
    "duration": 7,
    "start_time": "2024-03-12T10:30:30.657Z"
   },
   {
    "duration": 302,
    "start_time": "2024-03-12T10:30:30.665Z"
   },
   {
    "duration": 7,
    "start_time": "2024-03-12T10:30:30.968Z"
   },
   {
    "duration": 62,
    "start_time": "2024-03-12T10:30:30.977Z"
   },
   {
    "duration": 48,
    "start_time": "2024-03-12T10:30:31.041Z"
   },
   {
    "duration": 45,
    "start_time": "2024-03-12T10:30:31.090Z"
   },
   {
    "duration": 48,
    "start_time": "2024-03-12T10:30:31.137Z"
   },
   {
    "duration": 46,
    "start_time": "2024-03-12T10:30:31.187Z"
   },
   {
    "duration": 39,
    "start_time": "2024-03-12T10:30:31.234Z"
   },
   {
    "duration": 48,
    "start_time": "2024-03-12T10:30:31.275Z"
   },
   {
    "duration": 73,
    "start_time": "2024-03-12T10:30:31.325Z"
   },
   {
    "duration": 36,
    "start_time": "2024-03-12T10:30:31.399Z"
   },
   {
    "duration": 97,
    "start_time": "2024-03-12T10:30:31.437Z"
   },
   {
    "duration": 0,
    "start_time": "2024-03-12T10:30:31.535Z"
   },
   {
    "duration": 0,
    "start_time": "2024-03-12T10:30:31.537Z"
   },
   {
    "duration": 0,
    "start_time": "2024-03-12T10:30:31.538Z"
   },
   {
    "duration": 1,
    "start_time": "2024-03-12T10:30:31.538Z"
   },
   {
    "duration": 1014,
    "start_time": "2024-03-12T10:31:00.223Z"
   },
   {
    "duration": 75,
    "start_time": "2024-03-12T10:31:01.239Z"
   },
   {
    "duration": 60,
    "start_time": "2024-03-12T10:31:01.316Z"
   },
   {
    "duration": 84,
    "start_time": "2024-03-12T10:31:01.378Z"
   },
   {
    "duration": 57,
    "start_time": "2024-03-12T10:31:01.464Z"
   },
   {
    "duration": 118,
    "start_time": "2024-03-12T10:31:01.522Z"
   },
   {
    "duration": 81,
    "start_time": "2024-03-12T10:31:01.641Z"
   },
   {
    "duration": 50,
    "start_time": "2024-03-12T10:31:01.724Z"
   },
   {
    "duration": 64,
    "start_time": "2024-03-12T10:31:01.775Z"
   },
   {
    "duration": 77,
    "start_time": "2024-03-12T10:31:01.841Z"
   },
   {
    "duration": 125,
    "start_time": "2024-03-12T10:31:01.920Z"
   },
   {
    "duration": 85,
    "start_time": "2024-03-12T10:31:02.047Z"
   },
   {
    "duration": 110,
    "start_time": "2024-03-12T10:31:02.133Z"
   },
   {
    "duration": 23,
    "start_time": "2024-03-12T10:31:02.244Z"
   },
   {
    "duration": 16,
    "start_time": "2024-03-12T10:31:02.269Z"
   },
   {
    "duration": 13,
    "start_time": "2024-03-12T10:31:02.286Z"
   },
   {
    "duration": 25,
    "start_time": "2024-03-12T10:31:02.300Z"
   },
   {
    "duration": 17,
    "start_time": "2024-03-12T10:31:02.327Z"
   },
   {
    "duration": 22,
    "start_time": "2024-03-12T10:31:02.345Z"
   },
   {
    "duration": 14,
    "start_time": "2024-03-12T10:31:02.368Z"
   },
   {
    "duration": 18,
    "start_time": "2024-03-12T10:31:02.384Z"
   },
   {
    "duration": 6,
    "start_time": "2024-03-12T10:31:02.404Z"
   },
   {
    "duration": 7,
    "start_time": "2024-03-12T10:31:02.411Z"
   },
   {
    "duration": 26,
    "start_time": "2024-03-12T10:31:02.419Z"
   },
   {
    "duration": 177,
    "start_time": "2024-03-12T10:31:02.446Z"
   },
   {
    "duration": 5,
    "start_time": "2024-03-12T10:31:02.625Z"
   },
   {
    "duration": 28,
    "start_time": "2024-03-12T10:31:02.632Z"
   },
   {
    "duration": 115,
    "start_time": "2024-03-12T10:31:02.664Z"
   },
   {
    "duration": 5,
    "start_time": "2024-03-12T10:31:02.781Z"
   },
   {
    "duration": 284,
    "start_time": "2024-03-12T10:31:02.794Z"
   },
   {
    "duration": 4,
    "start_time": "2024-03-12T10:31:03.079Z"
   },
   {
    "duration": 187,
    "start_time": "2024-03-12T10:31:03.084Z"
   },
   {
    "duration": 216,
    "start_time": "2024-03-12T10:31:03.273Z"
   },
   {
    "duration": 285,
    "start_time": "2024-03-12T10:31:03.491Z"
   },
   {
    "duration": 8,
    "start_time": "2024-03-12T10:31:03.777Z"
   },
   {
    "duration": 334,
    "start_time": "2024-03-12T10:31:03.786Z"
   },
   {
    "duration": 224,
    "start_time": "2024-03-12T10:31:04.121Z"
   },
   {
    "duration": 279,
    "start_time": "2024-03-12T10:31:04.346Z"
   },
   {
    "duration": 243,
    "start_time": "2024-03-12T10:31:04.627Z"
   },
   {
    "duration": 8,
    "start_time": "2024-03-12T10:31:04.872Z"
   },
   {
    "duration": 277,
    "start_time": "2024-03-12T10:31:04.881Z"
   },
   {
    "duration": 210,
    "start_time": "2024-03-12T10:31:05.159Z"
   },
   {
    "duration": 238,
    "start_time": "2024-03-12T10:31:05.370Z"
   },
   {
    "duration": 5,
    "start_time": "2024-03-12T10:31:05.610Z"
   },
   {
    "duration": 45,
    "start_time": "2024-03-12T10:31:05.616Z"
   },
   {
    "duration": 55,
    "start_time": "2024-03-12T10:31:05.662Z"
   },
   {
    "duration": 45,
    "start_time": "2024-03-12T10:31:05.718Z"
   },
   {
    "duration": 39,
    "start_time": "2024-03-12T10:31:05.764Z"
   },
   {
    "duration": 36,
    "start_time": "2024-03-12T10:31:05.805Z"
   },
   {
    "duration": 55,
    "start_time": "2024-03-12T10:31:05.842Z"
   },
   {
    "duration": 28,
    "start_time": "2024-03-12T10:31:05.898Z"
   },
   {
    "duration": 44,
    "start_time": "2024-03-12T10:31:05.927Z"
   },
   {
    "duration": 25,
    "start_time": "2024-03-12T10:31:05.973Z"
   },
   {
    "duration": 279,
    "start_time": "2024-03-12T10:31:05.999Z"
   },
   {
    "duration": 7,
    "start_time": "2024-03-12T10:31:06.280Z"
   },
   {
    "duration": 314,
    "start_time": "2024-03-12T10:31:06.294Z"
   },
   {
    "duration": 8,
    "start_time": "2024-03-12T10:31:06.609Z"
   },
   {
    "duration": 257,
    "start_time": "2024-03-12T10:31:06.618Z"
   },
   {
    "duration": 8,
    "start_time": "2024-03-12T10:31:06.876Z"
   },
   {
    "duration": 251,
    "start_time": "2024-03-12T10:31:06.885Z"
   },
   {
    "duration": 7,
    "start_time": "2024-03-12T10:31:07.137Z"
   },
   {
    "duration": 96,
    "start_time": "2024-03-12T10:31:07.146Z"
   },
   {
    "duration": 19,
    "start_time": "2024-03-12T10:31:07.243Z"
   },
   {
    "duration": 28,
    "start_time": "2024-03-12T10:31:07.264Z"
   },
   {
    "duration": 45,
    "start_time": "2024-03-12T10:31:07.293Z"
   },
   {
    "duration": 34,
    "start_time": "2024-03-12T10:31:07.339Z"
   },
   {
    "duration": 48,
    "start_time": "2024-03-12T10:31:07.374Z"
   },
   {
    "duration": 56,
    "start_time": "2024-03-12T10:31:07.425Z"
   },
   {
    "duration": 65,
    "start_time": "2024-03-12T10:31:07.483Z"
   },
   {
    "duration": 41,
    "start_time": "2024-03-12T10:31:07.550Z"
   },
   {
    "duration": 248,
    "start_time": "2024-03-12T10:31:07.593Z"
   },
   {
    "duration": 20,
    "start_time": "2024-03-12T10:31:07.843Z"
   },
   {
    "duration": 57,
    "start_time": "2024-03-12T10:31:07.865Z"
   },
   {
    "duration": 50,
    "start_time": "2024-03-12T10:31:07.923Z"
   },
   {
    "duration": 5,
    "start_time": "2024-03-12T10:31:27.065Z"
   },
   {
    "duration": 4,
    "start_time": "2024-03-12T10:31:46.625Z"
   },
   {
    "duration": 4,
    "start_time": "2024-03-12T10:31:53.079Z"
   },
   {
    "duration": 5,
    "start_time": "2024-03-12T10:32:04.410Z"
   },
   {
    "duration": 4,
    "start_time": "2024-03-12T10:32:09.157Z"
   },
   {
    "duration": 5,
    "start_time": "2024-03-12T10:34:53.100Z"
   },
   {
    "duration": 3,
    "start_time": "2024-03-12T10:40:06.110Z"
   },
   {
    "duration": 159,
    "start_time": "2024-03-12T10:40:40.099Z"
   },
   {
    "duration": 171,
    "start_time": "2024-03-12T10:40:48.443Z"
   },
   {
    "duration": 635,
    "start_time": "2024-03-12T10:40:55.568Z"
   },
   {
    "duration": 729,
    "start_time": "2024-03-12T10:43:33.972Z"
   },
   {
    "duration": 649,
    "start_time": "2024-03-12T10:44:08.439Z"
   },
   {
    "duration": 686,
    "start_time": "2024-03-12T10:44:40.042Z"
   },
   {
    "duration": 6,
    "start_time": "2024-03-12T10:46:04.250Z"
   },
   {
    "duration": 5,
    "start_time": "2024-03-12T10:46:50.232Z"
   },
   {
    "duration": 4,
    "start_time": "2024-03-12T10:46:54.742Z"
   },
   {
    "duration": 5,
    "start_time": "2024-03-12T10:47:09.302Z"
   },
   {
    "duration": 6,
    "start_time": "2024-03-12T10:47:14.720Z"
   },
   {
    "duration": 5,
    "start_time": "2024-03-12T10:47:23.382Z"
   },
   {
    "duration": 5,
    "start_time": "2024-03-12T10:47:31.872Z"
   },
   {
    "duration": 5,
    "start_time": "2024-03-12T10:47:36.874Z"
   },
   {
    "duration": 5,
    "start_time": "2024-03-12T10:47:43.636Z"
   },
   {
    "duration": 5,
    "start_time": "2024-03-12T10:47:55.265Z"
   },
   {
    "duration": 5,
    "start_time": "2024-03-12T10:48:00.232Z"
   },
   {
    "duration": 5,
    "start_time": "2024-03-12T10:48:05.997Z"
   },
   {
    "duration": 5,
    "start_time": "2024-03-12T10:48:10.358Z"
   },
   {
    "duration": 5,
    "start_time": "2024-03-12T10:48:16.483Z"
   },
   {
    "duration": 5,
    "start_time": "2024-03-12T10:48:22.617Z"
   },
   {
    "duration": 5,
    "start_time": "2024-03-12T10:48:26.625Z"
   },
   {
    "duration": 6,
    "start_time": "2024-03-12T10:48:29.849Z"
   },
   {
    "duration": 5,
    "start_time": "2024-03-12T10:48:32.757Z"
   },
   {
    "duration": 5,
    "start_time": "2024-03-12T10:48:36.245Z"
   },
   {
    "duration": 301,
    "start_time": "2024-03-12T10:51:01.945Z"
   },
   {
    "duration": 105,
    "start_time": "2024-03-12T10:54:26.531Z"
   },
   {
    "duration": 225,
    "start_time": "2024-03-12T10:54:42.578Z"
   },
   {
    "duration": 1460,
    "start_time": "2024-03-12T10:54:47.235Z"
   },
   {
    "duration": 337,
    "start_time": "2024-03-12T12:33:10.611Z"
   },
   {
    "duration": 10,
    "start_time": "2024-03-12T12:35:21.576Z"
   },
   {
    "duration": 10,
    "start_time": "2024-03-12T12:36:16.107Z"
   },
   {
    "duration": 9,
    "start_time": "2024-03-12T12:36:24.107Z"
   },
   {
    "duration": 10,
    "start_time": "2024-03-12T12:37:39.283Z"
   },
   {
    "duration": 9,
    "start_time": "2024-03-12T12:37:43.758Z"
   },
   {
    "duration": 9,
    "start_time": "2024-03-12T12:37:48.045Z"
   },
   {
    "duration": 108,
    "start_time": "2024-03-12T12:39:27.128Z"
   },
   {
    "duration": 167,
    "start_time": "2024-03-12T12:39:49.095Z"
   },
   {
    "duration": 710,
    "start_time": "2024-03-12T12:40:09.143Z"
   },
   {
    "duration": 67,
    "start_time": "2024-03-12T12:40:16.524Z"
   },
   {
    "duration": 43,
    "start_time": "2024-03-12T12:40:24.368Z"
   },
   {
    "duration": 40,
    "start_time": "2024-03-12T12:40:29.846Z"
   },
   {
    "duration": 167,
    "start_time": "2024-03-12T12:40:38.728Z"
   },
   {
    "duration": 165,
    "start_time": "2024-03-12T12:40:57.546Z"
   },
   {
    "duration": 188,
    "start_time": "2024-03-12T12:42:06.581Z"
   },
   {
    "duration": 163,
    "start_time": "2024-03-12T12:42:19.452Z"
   },
   {
    "duration": 166,
    "start_time": "2024-03-12T12:42:29.730Z"
   },
   {
    "duration": 78,
    "start_time": "2024-03-12T12:44:24.836Z"
   },
   {
    "duration": 1396,
    "start_time": "2024-03-12T12:45:30.261Z"
   },
   {
    "duration": 1448,
    "start_time": "2024-03-12T12:50:15.159Z"
   },
   {
    "duration": 1607,
    "start_time": "2024-03-12T12:50:26.812Z"
   },
   {
    "duration": 1521,
    "start_time": "2024-03-12T12:50:31.573Z"
   },
   {
    "duration": 1457,
    "start_time": "2024-03-12T12:50:37.157Z"
   },
   {
    "duration": 1583,
    "start_time": "2024-03-12T12:50:48.976Z"
   },
   {
    "duration": 1562,
    "start_time": "2024-03-12T12:50:55.273Z"
   },
   {
    "duration": 1460,
    "start_time": "2024-03-12T12:51:05.546Z"
   },
   {
    "duration": 1494,
    "start_time": "2024-03-12T12:52:03.834Z"
   },
   {
    "duration": 1505,
    "start_time": "2024-03-12T12:52:12.030Z"
   },
   {
    "duration": 1487,
    "start_time": "2024-03-12T12:53:08.855Z"
   },
   {
    "duration": 1518,
    "start_time": "2024-03-12T12:53:32.873Z"
   },
   {
    "duration": 1485,
    "start_time": "2024-03-12T12:54:30.158Z"
   },
   {
    "duration": 1538,
    "start_time": "2024-03-12T12:54:56.599Z"
   },
   {
    "duration": 12,
    "start_time": "2024-03-12T12:55:16.217Z"
   },
   {
    "duration": 1573,
    "start_time": "2024-03-12T12:55:27.425Z"
   },
   {
    "duration": 1506,
    "start_time": "2024-03-12T12:56:44.485Z"
   },
   {
    "duration": 122,
    "start_time": "2024-03-12T12:57:06.891Z"
   },
   {
    "duration": 126,
    "start_time": "2024-03-12T12:57:31.493Z"
   },
   {
    "duration": 126,
    "start_time": "2024-03-12T12:57:42.544Z"
   },
   {
    "duration": 125,
    "start_time": "2024-03-12T12:57:54.041Z"
   },
   {
    "duration": 124,
    "start_time": "2024-03-12T12:58:00.278Z"
   },
   {
    "duration": 139,
    "start_time": "2024-03-12T12:58:15.215Z"
   },
   {
    "duration": 42,
    "start_time": "2024-03-12T13:00:00.703Z"
   },
   {
    "duration": 131,
    "start_time": "2024-03-12T13:00:08.036Z"
   },
   {
    "duration": 287,
    "start_time": "2024-03-12T13:00:18.472Z"
   },
   {
    "duration": 123,
    "start_time": "2024-03-12T13:00:23.556Z"
   },
   {
    "duration": 122,
    "start_time": "2024-03-12T13:00:28.700Z"
   },
   {
    "duration": 131,
    "start_time": "2024-03-12T13:00:35.367Z"
   },
   {
    "duration": 120,
    "start_time": "2024-03-12T13:00:41.202Z"
   },
   {
    "duration": 120,
    "start_time": "2024-03-12T13:00:52.380Z"
   },
   {
    "duration": 132,
    "start_time": "2024-03-12T13:01:00.033Z"
   },
   {
    "duration": 134,
    "start_time": "2024-03-12T13:01:04.585Z"
   },
   {
    "duration": 157,
    "start_time": "2024-03-12T13:01:12.617Z"
   },
   {
    "duration": 134,
    "start_time": "2024-03-12T13:04:38.871Z"
   },
   {
    "duration": 125,
    "start_time": "2024-03-12T13:04:42.942Z"
   },
   {
    "duration": 136,
    "start_time": "2024-03-12T13:04:48.386Z"
   },
   {
    "duration": 133,
    "start_time": "2024-03-12T13:04:55.897Z"
   },
   {
    "duration": 92,
    "start_time": "2024-03-12T13:05:16.278Z"
   },
   {
    "duration": 136,
    "start_time": "2024-03-12T13:05:23.511Z"
   },
   {
    "duration": 274,
    "start_time": "2024-03-12T13:09:30.943Z"
   },
   {
    "duration": 253,
    "start_time": "2024-03-12T13:10:32.675Z"
   },
   {
    "duration": 4,
    "start_time": "2024-03-12T13:10:48.388Z"
   },
   {
    "duration": 4,
    "start_time": "2024-03-12T13:11:00.821Z"
   },
   {
    "duration": 5,
    "start_time": "2024-03-12T13:11:22.162Z"
   },
   {
    "duration": 5,
    "start_time": "2024-03-12T13:11:33.732Z"
   },
   {
    "duration": 252,
    "start_time": "2024-03-12T13:17:26.678Z"
   },
   {
    "duration": 257,
    "start_time": "2024-03-12T13:17:43.357Z"
   },
   {
    "duration": 1575,
    "start_time": "2024-03-12T13:18:19.987Z"
   },
   {
    "duration": 1585,
    "start_time": "2024-03-12T13:19:46.577Z"
   },
   {
    "duration": 1587,
    "start_time": "2024-03-12T13:20:04.879Z"
   },
   {
    "duration": 1664,
    "start_time": "2024-03-12T13:20:56.805Z"
   },
   {
    "duration": 1843,
    "start_time": "2024-03-12T13:21:15.274Z"
   },
   {
    "duration": 1503,
    "start_time": "2024-03-12T13:21:22.013Z"
   },
   {
    "duration": 1371,
    "start_time": "2024-03-12T13:21:29.275Z"
   },
   {
    "duration": 1399,
    "start_time": "2024-03-12T13:21:56.379Z"
   },
   {
    "duration": 1350,
    "start_time": "2024-03-12T13:22:10.369Z"
   },
   {
    "duration": 1467,
    "start_time": "2024-03-12T13:22:29.554Z"
   },
   {
    "duration": 2955,
    "start_time": "2024-03-12T13:24:18.090Z"
   },
   {
    "duration": 3058,
    "start_time": "2024-03-12T13:24:33.777Z"
   },
   {
    "duration": 3030,
    "start_time": "2024-03-12T13:24:44.773Z"
   },
   {
    "duration": 1858,
    "start_time": "2024-03-12T13:26:29.811Z"
   },
   {
    "duration": 1804,
    "start_time": "2024-03-12T13:33:29.205Z"
   },
   {
    "duration": 1856,
    "start_time": "2024-03-12T13:33:47.958Z"
   },
   {
    "duration": 1495,
    "start_time": "2024-03-12T13:34:21.013Z"
   },
   {
    "duration": 1700,
    "start_time": "2024-03-12T13:34:44.514Z"
   },
   {
    "duration": 1889,
    "start_time": "2024-03-12T13:34:57.456Z"
   },
   {
    "duration": 1813,
    "start_time": "2024-03-12T13:35:19.752Z"
   },
   {
    "duration": 1868,
    "start_time": "2024-03-12T13:35:55.697Z"
   },
   {
    "duration": 1887,
    "start_time": "2024-03-12T13:36:10.149Z"
   },
   {
    "duration": 1834,
    "start_time": "2024-03-12T13:36:27.638Z"
   },
   {
    "duration": 5,
    "start_time": "2024-03-12T13:40:47.321Z"
   },
   {
    "duration": 5,
    "start_time": "2024-03-12T13:41:19.589Z"
   },
   {
    "duration": 4,
    "start_time": "2024-03-12T13:43:16.838Z"
   },
   {
    "duration": 4,
    "start_time": "2024-03-12T13:43:21.650Z"
   },
   {
    "duration": 4,
    "start_time": "2024-03-12T13:43:39.990Z"
   },
   {
    "duration": 5,
    "start_time": "2024-03-12T13:43:48.463Z"
   },
   {
    "duration": 4,
    "start_time": "2024-03-12T13:44:33.583Z"
   },
   {
    "duration": 4,
    "start_time": "2024-03-12T13:44:37.628Z"
   },
   {
    "duration": 5,
    "start_time": "2024-03-12T13:44:45.220Z"
   },
   {
    "duration": 5,
    "start_time": "2024-03-12T13:46:07.381Z"
   },
   {
    "duration": 6,
    "start_time": "2024-03-12T13:46:23.202Z"
   },
   {
    "duration": 4,
    "start_time": "2024-03-12T13:46:30.740Z"
   },
   {
    "duration": 5,
    "start_time": "2024-03-12T13:46:52.471Z"
   },
   {
    "duration": 8,
    "start_time": "2024-03-12T13:46:56.945Z"
   },
   {
    "duration": 4,
    "start_time": "2024-03-12T13:47:02.903Z"
   },
   {
    "duration": 6,
    "start_time": "2024-03-12T13:47:15.375Z"
   },
   {
    "duration": 5,
    "start_time": "2024-03-12T13:47:35.146Z"
   },
   {
    "duration": 5,
    "start_time": "2024-03-12T13:48:27.355Z"
   },
   {
    "duration": 4,
    "start_time": "2024-03-12T13:48:35.198Z"
   },
   {
    "duration": 5,
    "start_time": "2024-03-12T13:48:40.817Z"
   },
   {
    "duration": 5,
    "start_time": "2024-03-12T13:48:44.508Z"
   },
   {
    "duration": 4,
    "start_time": "2024-03-12T13:48:58.744Z"
   },
   {
    "duration": 4,
    "start_time": "2024-03-12T13:49:07.048Z"
   },
   {
    "duration": 4,
    "start_time": "2024-03-12T13:49:49.263Z"
   },
   {
    "duration": 4,
    "start_time": "2024-03-12T13:49:58.519Z"
   },
   {
    "duration": 4,
    "start_time": "2024-03-12T13:50:10.103Z"
   },
   {
    "duration": 5,
    "start_time": "2024-03-12T13:51:13.398Z"
   },
   {
    "duration": 4,
    "start_time": "2024-03-12T13:51:18.524Z"
   },
   {
    "duration": 5,
    "start_time": "2024-03-12T13:51:24.936Z"
   },
   {
    "duration": 4,
    "start_time": "2024-03-12T13:51:41.953Z"
   },
   {
    "duration": 5,
    "start_time": "2024-03-12T13:52:41.441Z"
   },
   {
    "duration": 5,
    "start_time": "2024-03-12T13:54:10.277Z"
   },
   {
    "duration": 5,
    "start_time": "2024-03-12T13:54:22.873Z"
   },
   {
    "duration": 4,
    "start_time": "2024-03-12T13:54:32.434Z"
   },
   {
    "duration": 4,
    "start_time": "2024-03-12T13:54:38.362Z"
   },
   {
    "duration": 5,
    "start_time": "2024-03-12T13:54:45.814Z"
   },
   {
    "duration": 4,
    "start_time": "2024-03-12T13:56:15.234Z"
   },
   {
    "duration": 2878,
    "start_time": "2024-03-12T13:56:47.786Z"
   },
   {
    "duration": 3008,
    "start_time": "2024-03-12T13:57:04.004Z"
   },
   {
    "duration": 5,
    "start_time": "2024-03-12T14:00:28.863Z"
   },
   {
    "duration": 5,
    "start_time": "2024-03-12T14:00:38.206Z"
   },
   {
    "duration": 4,
    "start_time": "2024-03-12T14:00:53.499Z"
   },
   {
    "duration": 4,
    "start_time": "2024-03-12T14:01:06.178Z"
   },
   {
    "duration": 4,
    "start_time": "2024-03-12T14:04:21.655Z"
   },
   {
    "duration": 4,
    "start_time": "2024-03-12T14:04:27.597Z"
   },
   {
    "duration": 5,
    "start_time": "2024-03-12T14:04:31.561Z"
   },
   {
    "duration": 4,
    "start_time": "2024-03-12T14:04:36.534Z"
   },
   {
    "duration": 4,
    "start_time": "2024-03-12T14:04:42.311Z"
   },
   {
    "duration": 4,
    "start_time": "2024-03-12T14:04:48.323Z"
   },
   {
    "duration": 4,
    "start_time": "2024-03-12T14:04:55.630Z"
   },
   {
    "duration": 4,
    "start_time": "2024-03-12T14:05:02.531Z"
   },
   {
    "duration": 4,
    "start_time": "2024-03-12T14:05:10.743Z"
   },
   {
    "duration": 5,
    "start_time": "2024-03-12T14:05:18.963Z"
   },
   {
    "duration": 4,
    "start_time": "2024-03-12T14:05:22.738Z"
   },
   {
    "duration": 5,
    "start_time": "2024-03-12T14:05:26.896Z"
   },
   {
    "duration": 4,
    "start_time": "2024-03-12T14:05:33.230Z"
   },
   {
    "duration": 4,
    "start_time": "2024-03-12T14:05:46.067Z"
   },
   {
    "duration": 4,
    "start_time": "2024-03-12T14:05:51.923Z"
   },
   {
    "duration": 4,
    "start_time": "2024-03-12T14:05:56.346Z"
   },
   {
    "duration": 5,
    "start_time": "2024-03-12T14:06:03.066Z"
   },
   {
    "duration": 4,
    "start_time": "2024-03-12T14:06:08.092Z"
   },
   {
    "duration": 4,
    "start_time": "2024-03-12T14:06:13.327Z"
   },
   {
    "duration": 4,
    "start_time": "2024-03-12T14:06:17.582Z"
   },
   {
    "duration": 1893,
    "start_time": "2024-03-12T14:06:28.609Z"
   },
   {
    "duration": 5,
    "start_time": "2024-03-12T14:10:04.823Z"
   },
   {
    "duration": 118,
    "start_time": "2024-03-12T14:13:23.991Z"
   },
   {
    "duration": 1746,
    "start_time": "2024-03-12T14:13:42.005Z"
   },
   {
    "duration": 5,
    "start_time": "2024-03-12T14:23:35.086Z"
   },
   {
    "duration": 5,
    "start_time": "2024-03-12T14:26:03.088Z"
   },
   {
    "duration": 5,
    "start_time": "2024-03-12T14:26:13.152Z"
   },
   {
    "duration": 1089,
    "start_time": "2024-03-12T14:29:53.589Z"
   },
   {
    "duration": 84,
    "start_time": "2024-03-12T14:29:54.680Z"
   },
   {
    "duration": 28,
    "start_time": "2024-03-12T14:29:54.766Z"
   },
   {
    "duration": 19,
    "start_time": "2024-03-12T14:29:54.796Z"
   },
   {
    "duration": 30,
    "start_time": "2024-03-12T14:29:54.817Z"
   },
   {
    "duration": 9,
    "start_time": "2024-03-12T14:29:54.849Z"
   },
   {
    "duration": 43,
    "start_time": "2024-03-12T14:29:54.860Z"
   },
   {
    "duration": 121,
    "start_time": "2024-03-12T14:29:54.904Z"
   },
   {
    "duration": 39,
    "start_time": "2024-03-12T14:29:55.027Z"
   },
   {
    "duration": 28,
    "start_time": "2024-03-12T14:29:55.069Z"
   },
   {
    "duration": 24,
    "start_time": "2024-03-12T14:29:55.099Z"
   },
   {
    "duration": 17,
    "start_time": "2024-03-12T14:29:55.125Z"
   },
   {
    "duration": 30,
    "start_time": "2024-03-12T14:29:55.144Z"
   },
   {
    "duration": 26,
    "start_time": "2024-03-12T14:29:55.175Z"
   },
   {
    "duration": 33,
    "start_time": "2024-03-12T14:29:55.202Z"
   },
   {
    "duration": 61,
    "start_time": "2024-03-12T14:29:55.236Z"
   },
   {
    "duration": 25,
    "start_time": "2024-03-12T14:29:55.299Z"
   },
   {
    "duration": 48,
    "start_time": "2024-03-12T14:29:55.326Z"
   },
   {
    "duration": 42,
    "start_time": "2024-03-12T14:29:55.376Z"
   },
   {
    "duration": 33,
    "start_time": "2024-03-12T14:29:55.420Z"
   },
   {
    "duration": 34,
    "start_time": "2024-03-12T14:29:55.455Z"
   },
   {
    "duration": 29,
    "start_time": "2024-03-12T14:29:55.491Z"
   },
   {
    "duration": 38,
    "start_time": "2024-03-12T14:29:55.522Z"
   },
   {
    "duration": 29,
    "start_time": "2024-03-12T14:29:55.562Z"
   },
   {
    "duration": 190,
    "start_time": "2024-03-12T14:29:55.593Z"
   },
   {
    "duration": 7,
    "start_time": "2024-03-12T14:29:55.784Z"
   },
   {
    "duration": 25,
    "start_time": "2024-03-12T14:29:55.793Z"
   },
   {
    "duration": 120,
    "start_time": "2024-03-12T14:29:55.822Z"
   },
   {
    "duration": 6,
    "start_time": "2024-03-12T14:29:55.944Z"
   },
   {
    "duration": 314,
    "start_time": "2024-03-12T14:29:55.951Z"
   },
   {
    "duration": 4,
    "start_time": "2024-03-12T14:29:56.266Z"
   },
   {
    "duration": 35,
    "start_time": "2024-03-12T14:29:56.272Z"
   },
   {
    "duration": 37,
    "start_time": "2024-03-12T14:29:56.308Z"
   },
   {
    "duration": 187,
    "start_time": "2024-03-12T14:29:56.347Z"
   },
   {
    "duration": 9,
    "start_time": "2024-03-12T14:29:56.535Z"
   },
   {
    "duration": 281,
    "start_time": "2024-03-12T14:29:56.545Z"
   },
   {
    "duration": 274,
    "start_time": "2024-03-12T14:29:56.828Z"
   },
   {
    "duration": 312,
    "start_time": "2024-03-12T14:29:57.104Z"
   },
   {
    "duration": 267,
    "start_time": "2024-03-12T14:29:57.418Z"
   },
   {
    "duration": 14,
    "start_time": "2024-03-12T14:29:57.687Z"
   },
   {
    "duration": 280,
    "start_time": "2024-03-12T14:29:57.703Z"
   },
   {
    "duration": 237,
    "start_time": "2024-03-12T14:29:57.985Z"
   },
   {
    "duration": 239,
    "start_time": "2024-03-12T14:29:58.223Z"
   },
   {
    "duration": 7,
    "start_time": "2024-03-12T14:29:58.463Z"
   },
   {
    "duration": 33,
    "start_time": "2024-03-12T14:29:58.472Z"
   },
   {
    "duration": 27,
    "start_time": "2024-03-12T14:29:58.506Z"
   },
   {
    "duration": 31,
    "start_time": "2024-03-12T14:29:58.535Z"
   },
   {
    "duration": 35,
    "start_time": "2024-03-12T14:29:58.568Z"
   },
   {
    "duration": 30,
    "start_time": "2024-03-12T14:29:58.605Z"
   },
   {
    "duration": 40,
    "start_time": "2024-03-12T14:29:58.636Z"
   },
   {
    "duration": 41,
    "start_time": "2024-03-12T14:29:58.678Z"
   },
   {
    "duration": 29,
    "start_time": "2024-03-12T14:29:58.720Z"
   },
   {
    "duration": 40,
    "start_time": "2024-03-12T14:29:58.751Z"
   },
   {
    "duration": 292,
    "start_time": "2024-03-12T14:29:58.793Z"
   },
   {
    "duration": 14,
    "start_time": "2024-03-12T14:29:59.087Z"
   },
   {
    "duration": 424,
    "start_time": "2024-03-12T14:29:59.103Z"
   },
   {
    "duration": 8,
    "start_time": "2024-03-12T14:29:59.529Z"
   },
   {
    "duration": 298,
    "start_time": "2024-03-12T14:29:59.539Z"
   },
   {
    "duration": 10,
    "start_time": "2024-03-12T14:29:59.839Z"
   },
   {
    "duration": 277,
    "start_time": "2024-03-12T14:29:59.850Z"
   },
   {
    "duration": 11,
    "start_time": "2024-03-12T14:30:00.129Z"
   },
   {
    "duration": 237,
    "start_time": "2024-03-12T14:30:00.142Z"
   },
   {
    "duration": 158,
    "start_time": "2024-03-12T14:30:00.380Z"
   },
   {
    "duration": 359,
    "start_time": "2024-03-12T14:30:00.539Z"
   },
   {
    "duration": 75,
    "start_time": "2024-03-12T14:30:00.899Z"
   },
   {
    "duration": 103,
    "start_time": "2024-03-12T14:30:00.976Z"
   },
   {
    "duration": 72,
    "start_time": "2024-03-12T14:30:01.081Z"
   },
   {
    "duration": 259,
    "start_time": "2024-03-12T14:30:01.155Z"
   },
   {
    "duration": 231,
    "start_time": "2024-03-12T14:30:01.417Z"
   },
   {
    "duration": 174,
    "start_time": "2024-03-12T14:30:01.650Z"
   },
   {
    "duration": 149,
    "start_time": "2024-03-12T14:30:01.826Z"
   },
   {
    "duration": 341,
    "start_time": "2024-03-12T14:30:01.977Z"
   },
   {
    "duration": 93,
    "start_time": "2024-03-12T14:30:02.320Z"
   },
   {
    "duration": 40,
    "start_time": "2024-03-12T14:30:02.415Z"
   },
   {
    "duration": 1928,
    "start_time": "2024-03-12T14:30:02.457Z"
   },
   {
    "duration": 100,
    "start_time": "2024-03-12T14:30:04.388Z"
   },
   {
    "duration": 0,
    "start_time": "2024-03-12T14:30:04.490Z"
   },
   {
    "duration": 0,
    "start_time": "2024-03-12T14:30:04.491Z"
   },
   {
    "duration": 1009,
    "start_time": "2024-03-12T14:30:12.441Z"
   },
   {
    "duration": 78,
    "start_time": "2024-03-12T14:30:13.452Z"
   },
   {
    "duration": 28,
    "start_time": "2024-03-12T14:30:13.532Z"
   },
   {
    "duration": 44,
    "start_time": "2024-03-12T14:30:13.562Z"
   },
   {
    "duration": 24,
    "start_time": "2024-03-12T14:30:13.608Z"
   },
   {
    "duration": 48,
    "start_time": "2024-03-12T14:30:13.633Z"
   },
   {
    "duration": 49,
    "start_time": "2024-03-12T14:30:13.683Z"
   },
   {
    "duration": 41,
    "start_time": "2024-03-12T14:30:13.733Z"
   },
   {
    "duration": 32,
    "start_time": "2024-03-12T14:30:13.776Z"
   },
   {
    "duration": 28,
    "start_time": "2024-03-12T14:30:13.810Z"
   },
   {
    "duration": 129,
    "start_time": "2024-03-12T14:30:13.839Z"
   },
   {
    "duration": 21,
    "start_time": "2024-03-12T14:30:13.970Z"
   },
   {
    "duration": 58,
    "start_time": "2024-03-12T14:30:13.992Z"
   },
   {
    "duration": 43,
    "start_time": "2024-03-12T14:30:14.051Z"
   },
   {
    "duration": 22,
    "start_time": "2024-03-12T14:30:14.096Z"
   },
   {
    "duration": 12,
    "start_time": "2024-03-12T14:30:14.120Z"
   },
   {
    "duration": 25,
    "start_time": "2024-03-12T14:30:14.134Z"
   },
   {
    "duration": 21,
    "start_time": "2024-03-12T14:30:14.160Z"
   },
   {
    "duration": 38,
    "start_time": "2024-03-12T14:30:14.182Z"
   },
   {
    "duration": 21,
    "start_time": "2024-03-12T14:30:14.222Z"
   },
   {
    "duration": 48,
    "start_time": "2024-03-12T14:30:14.244Z"
   },
   {
    "duration": 47,
    "start_time": "2024-03-12T14:30:14.294Z"
   },
   {
    "duration": 16,
    "start_time": "2024-03-12T14:30:14.342Z"
   },
   {
    "duration": 21,
    "start_time": "2024-03-12T14:30:14.359Z"
   },
   {
    "duration": 183,
    "start_time": "2024-03-12T14:30:14.381Z"
   },
   {
    "duration": 5,
    "start_time": "2024-03-12T14:30:14.566Z"
   },
   {
    "duration": 10,
    "start_time": "2024-03-12T14:30:14.572Z"
   },
   {
    "duration": 113,
    "start_time": "2024-03-12T14:30:14.596Z"
   },
   {
    "duration": 6,
    "start_time": "2024-03-12T14:30:14.711Z"
   },
   {
    "duration": 323,
    "start_time": "2024-03-12T14:30:14.718Z"
   },
   {
    "duration": 4,
    "start_time": "2024-03-12T14:30:15.042Z"
   },
   {
    "duration": 151,
    "start_time": "2024-03-12T14:30:15.048Z"
   },
   {
    "duration": 225,
    "start_time": "2024-03-12T14:30:15.201Z"
   },
   {
    "duration": 249,
    "start_time": "2024-03-12T14:30:15.428Z"
   },
   {
    "duration": 16,
    "start_time": "2024-03-12T14:30:15.679Z"
   },
   {
    "duration": 341,
    "start_time": "2024-03-12T14:30:15.696Z"
   },
   {
    "duration": 251,
    "start_time": "2024-03-12T14:30:16.039Z"
   },
   {
    "duration": 314,
    "start_time": "2024-03-12T14:30:16.293Z"
   },
   {
    "duration": 243,
    "start_time": "2024-03-12T14:30:16.609Z"
   },
   {
    "duration": 8,
    "start_time": "2024-03-12T14:30:16.854Z"
   },
   {
    "duration": 308,
    "start_time": "2024-03-12T14:30:16.863Z"
   },
   {
    "duration": 231,
    "start_time": "2024-03-12T14:30:17.173Z"
   },
   {
    "duration": 242,
    "start_time": "2024-03-12T14:30:17.406Z"
   },
   {
    "duration": 5,
    "start_time": "2024-03-12T14:30:17.650Z"
   },
   {
    "duration": 47,
    "start_time": "2024-03-12T14:30:17.657Z"
   },
   {
    "duration": 74,
    "start_time": "2024-03-12T14:30:17.706Z"
   },
   {
    "duration": 19,
    "start_time": "2024-03-12T14:30:17.782Z"
   },
   {
    "duration": 64,
    "start_time": "2024-03-12T14:30:17.803Z"
   },
   {
    "duration": 49,
    "start_time": "2024-03-12T14:30:17.869Z"
   },
   {
    "duration": 207,
    "start_time": "2024-03-12T14:30:17.920Z"
   },
   {
    "duration": 89,
    "start_time": "2024-03-12T14:30:18.128Z"
   },
   {
    "duration": 41,
    "start_time": "2024-03-12T14:30:18.219Z"
   },
   {
    "duration": 16,
    "start_time": "2024-03-12T14:30:18.262Z"
   },
   {
    "duration": 261,
    "start_time": "2024-03-12T14:30:18.279Z"
   },
   {
    "duration": 8,
    "start_time": "2024-03-12T14:30:18.541Z"
   },
   {
    "duration": 334,
    "start_time": "2024-03-12T14:30:18.551Z"
   },
   {
    "duration": 12,
    "start_time": "2024-03-12T14:30:18.887Z"
   },
   {
    "duration": 282,
    "start_time": "2024-03-12T14:30:18.900Z"
   },
   {
    "duration": 13,
    "start_time": "2024-03-12T14:30:19.183Z"
   },
   {
    "duration": 317,
    "start_time": "2024-03-12T14:30:19.197Z"
   },
   {
    "duration": 8,
    "start_time": "2024-03-12T14:30:19.516Z"
   },
   {
    "duration": 49,
    "start_time": "2024-03-12T14:30:19.526Z"
   },
   {
    "duration": 15,
    "start_time": "2024-03-12T14:30:19.577Z"
   },
   {
    "duration": 26,
    "start_time": "2024-03-12T14:30:19.594Z"
   },
   {
    "duration": 57,
    "start_time": "2024-03-12T14:30:19.621Z"
   },
   {
    "duration": 29,
    "start_time": "2024-03-12T14:30:19.679Z"
   },
   {
    "duration": 23,
    "start_time": "2024-03-12T14:30:19.710Z"
   },
   {
    "duration": 15,
    "start_time": "2024-03-12T14:30:19.735Z"
   },
   {
    "duration": 18,
    "start_time": "2024-03-12T14:30:19.751Z"
   },
   {
    "duration": 14,
    "start_time": "2024-03-12T14:30:19.771Z"
   },
   {
    "duration": 37,
    "start_time": "2024-03-12T14:30:19.786Z"
   },
   {
    "duration": 13,
    "start_time": "2024-03-12T14:30:19.825Z"
   },
   {
    "duration": 7,
    "start_time": "2024-03-12T14:30:19.839Z"
   },
   {
    "duration": 17,
    "start_time": "2024-03-12T14:30:19.848Z"
   },
   {
    "duration": 1737,
    "start_time": "2024-03-12T14:30:19.866Z"
   },
   {
    "duration": 5,
    "start_time": "2024-03-12T14:30:21.605Z"
   },
   {
    "duration": 33441,
    "start_time": "2024-03-12T14:30:21.611Z"
   },
   {
    "duration": 225,
    "start_time": "2024-03-12T14:33:42.891Z"
   },
   {
    "duration": 34036,
    "start_time": "2024-03-12T14:34:27.939Z"
   },
   {
    "duration": 13,
    "start_time": "2024-03-12T14:39:32.421Z"
   },
   {
    "duration": 34503,
    "start_time": "2024-03-12T14:39:47.386Z"
   },
   {
    "duration": 33979,
    "start_time": "2024-03-12T14:41:37.321Z"
   },
   {
    "duration": 106,
    "start_time": "2024-03-12T14:52:42.316Z"
   },
   {
    "duration": 1248,
    "start_time": "2024-03-12T17:52:27.558Z"
   },
   {
    "duration": 145,
    "start_time": "2024-03-12T17:52:28.808Z"
   },
   {
    "duration": 154,
    "start_time": "2024-03-12T17:52:28.954Z"
   },
   {
    "duration": 54,
    "start_time": "2024-03-12T17:52:29.111Z"
   },
   {
    "duration": 11,
    "start_time": "2024-03-12T17:52:29.167Z"
   },
   {
    "duration": 39,
    "start_time": "2024-03-12T17:52:29.180Z"
   },
   {
    "duration": 45,
    "start_time": "2024-03-12T17:52:29.220Z"
   },
   {
    "duration": 45,
    "start_time": "2024-03-12T17:52:29.266Z"
   },
   {
    "duration": 46,
    "start_time": "2024-03-12T17:52:29.315Z"
   },
   {
    "duration": 50,
    "start_time": "2024-03-12T17:52:29.363Z"
   },
   {
    "duration": 75,
    "start_time": "2024-03-12T17:52:29.415Z"
   },
   {
    "duration": 32,
    "start_time": "2024-03-12T17:52:29.492Z"
   },
   {
    "duration": 25,
    "start_time": "2024-03-12T17:52:29.525Z"
   },
   {
    "duration": 36,
    "start_time": "2024-03-12T17:52:29.551Z"
   },
   {
    "duration": 30,
    "start_time": "2024-03-12T17:52:29.589Z"
   },
   {
    "duration": 29,
    "start_time": "2024-03-12T17:52:29.620Z"
   },
   {
    "duration": 13,
    "start_time": "2024-03-12T17:52:29.650Z"
   },
   {
    "duration": 46,
    "start_time": "2024-03-12T17:52:29.665Z"
   },
   {
    "duration": 41,
    "start_time": "2024-03-12T17:52:29.713Z"
   },
   {
    "duration": 16,
    "start_time": "2024-03-12T17:52:29.755Z"
   },
   {
    "duration": 44,
    "start_time": "2024-03-12T17:52:29.772Z"
   },
   {
    "duration": 29,
    "start_time": "2024-03-12T17:52:29.818Z"
   },
   {
    "duration": 22,
    "start_time": "2024-03-12T17:52:29.848Z"
   },
   {
    "duration": 49,
    "start_time": "2024-03-12T17:52:29.871Z"
   },
   {
    "duration": 194,
    "start_time": "2024-03-12T17:52:29.922Z"
   },
   {
    "duration": 5,
    "start_time": "2024-03-12T17:52:30.118Z"
   },
   {
    "duration": 173,
    "start_time": "2024-03-12T17:52:30.125Z"
   },
   {
    "duration": 293,
    "start_time": "2024-03-12T17:52:30.304Z"
   },
   {
    "duration": 21,
    "start_time": "2024-03-12T17:52:30.599Z"
   },
   {
    "duration": 350,
    "start_time": "2024-03-12T17:52:30.622Z"
   },
   {
    "duration": 5,
    "start_time": "2024-03-12T17:52:30.974Z"
   },
   {
    "duration": 70,
    "start_time": "2024-03-12T17:52:30.980Z"
   },
   {
    "duration": 37,
    "start_time": "2024-03-12T17:52:31.051Z"
   },
   {
    "duration": 271,
    "start_time": "2024-03-12T17:52:31.089Z"
   },
   {
    "duration": 8,
    "start_time": "2024-03-12T17:52:31.362Z"
   },
   {
    "duration": 444,
    "start_time": "2024-03-12T17:52:31.371Z"
   },
   {
    "duration": 285,
    "start_time": "2024-03-12T17:52:31.816Z"
   },
   {
    "duration": 322,
    "start_time": "2024-03-12T17:52:32.103Z"
   },
   {
    "duration": 243,
    "start_time": "2024-03-12T17:52:32.427Z"
   },
   {
    "duration": 8,
    "start_time": "2024-03-12T17:52:32.671Z"
   },
   {
    "duration": 393,
    "start_time": "2024-03-12T17:52:32.681Z"
   },
   {
    "duration": 266,
    "start_time": "2024-03-12T17:52:33.075Z"
   },
   {
    "duration": 269,
    "start_time": "2024-03-12T17:52:33.342Z"
   },
   {
    "duration": 7,
    "start_time": "2024-03-12T17:52:33.615Z"
   },
   {
    "duration": 67,
    "start_time": "2024-03-12T17:52:33.623Z"
   },
   {
    "duration": 38,
    "start_time": "2024-03-12T17:52:33.691Z"
   },
   {
    "duration": 25,
    "start_time": "2024-03-12T17:52:33.730Z"
   },
   {
    "duration": 31,
    "start_time": "2024-03-12T17:52:33.757Z"
   },
   {
    "duration": 37,
    "start_time": "2024-03-12T17:52:33.789Z"
   },
   {
    "duration": 44,
    "start_time": "2024-03-12T17:52:33.828Z"
   },
   {
    "duration": 45,
    "start_time": "2024-03-12T17:52:33.873Z"
   },
   {
    "duration": 27,
    "start_time": "2024-03-12T17:52:33.919Z"
   },
   {
    "duration": 35,
    "start_time": "2024-03-12T17:52:33.948Z"
   },
   {
    "duration": 294,
    "start_time": "2024-03-12T17:52:33.985Z"
   },
   {
    "duration": 20,
    "start_time": "2024-03-12T17:52:34.281Z"
   },
   {
    "duration": 378,
    "start_time": "2024-03-12T17:52:34.303Z"
   },
   {
    "duration": 13,
    "start_time": "2024-03-12T17:52:34.682Z"
   },
   {
    "duration": 269,
    "start_time": "2024-03-12T17:52:34.697Z"
   },
   {
    "duration": 10,
    "start_time": "2024-03-12T17:52:34.967Z"
   },
   {
    "duration": 295,
    "start_time": "2024-03-12T17:52:34.979Z"
   },
   {
    "duration": 8,
    "start_time": "2024-03-12T17:52:35.276Z"
   },
   {
    "duration": 60,
    "start_time": "2024-03-12T17:52:35.285Z"
   },
   {
    "duration": 47,
    "start_time": "2024-03-12T17:52:35.346Z"
   },
   {
    "duration": 56,
    "start_time": "2024-03-12T17:52:35.395Z"
   },
   {
    "duration": 12,
    "start_time": "2024-03-12T17:52:35.452Z"
   },
   {
    "duration": 50,
    "start_time": "2024-03-12T17:52:35.465Z"
   },
   {
    "duration": 24,
    "start_time": "2024-03-12T17:52:35.517Z"
   },
   {
    "duration": 30,
    "start_time": "2024-03-12T17:52:35.542Z"
   },
   {
    "duration": 63,
    "start_time": "2024-03-12T17:52:35.573Z"
   },
   {
    "duration": 31,
    "start_time": "2024-03-12T17:52:35.638Z"
   },
   {
    "duration": 59,
    "start_time": "2024-03-12T17:52:35.671Z"
   },
   {
    "duration": 29,
    "start_time": "2024-03-12T17:52:35.732Z"
   },
   {
    "duration": 47,
    "start_time": "2024-03-12T17:52:35.763Z"
   },
   {
    "duration": 40,
    "start_time": "2024-03-12T17:52:35.812Z"
   },
   {
    "duration": 1875,
    "start_time": "2024-03-12T17:52:35.854Z"
   },
   {
    "duration": 6,
    "start_time": "2024-03-12T17:52:37.731Z"
   },
   {
    "duration": 36008,
    "start_time": "2024-03-12T17:52:37.739Z"
   },
   {
    "duration": 14,
    "start_time": "2024-03-12T18:01:50.822Z"
   },
   {
    "duration": 11,
    "start_time": "2024-03-12T18:04:51.044Z"
   },
   {
    "duration": 51,
    "start_time": "2024-03-13T06:38:46.434Z"
   },
   {
    "duration": 1325,
    "start_time": "2024-03-13T06:38:57.097Z"
   },
   {
    "duration": 171,
    "start_time": "2024-03-13T06:38:58.425Z"
   },
   {
    "duration": 151,
    "start_time": "2024-03-13T06:38:58.600Z"
   },
   {
    "duration": 63,
    "start_time": "2024-03-13T06:38:58.753Z"
   },
   {
    "duration": 15,
    "start_time": "2024-03-13T06:38:58.818Z"
   },
   {
    "duration": 23,
    "start_time": "2024-03-13T06:38:58.834Z"
   },
   {
    "duration": 29,
    "start_time": "2024-03-13T06:38:58.859Z"
   },
   {
    "duration": 35,
    "start_time": "2024-03-13T06:38:58.890Z"
   },
   {
    "duration": 12,
    "start_time": "2024-03-13T06:38:58.927Z"
   },
   {
    "duration": 12,
    "start_time": "2024-03-13T06:38:58.942Z"
   },
   {
    "duration": 13,
    "start_time": "2024-03-13T06:38:58.956Z"
   },
   {
    "duration": 32,
    "start_time": "2024-03-13T06:38:58.971Z"
   },
   {
    "duration": 38,
    "start_time": "2024-03-13T06:38:59.004Z"
   },
   {
    "duration": 18,
    "start_time": "2024-03-13T06:38:59.044Z"
   },
   {
    "duration": 28,
    "start_time": "2024-03-13T06:38:59.064Z"
   },
   {
    "duration": 27,
    "start_time": "2024-03-13T06:38:59.094Z"
   },
   {
    "duration": 9,
    "start_time": "2024-03-13T06:38:59.122Z"
   },
   {
    "duration": 8,
    "start_time": "2024-03-13T06:38:59.132Z"
   },
   {
    "duration": 7,
    "start_time": "2024-03-13T06:38:59.142Z"
   },
   {
    "duration": 4,
    "start_time": "2024-03-13T06:38:59.151Z"
   },
   {
    "duration": 21,
    "start_time": "2024-03-13T06:38:59.156Z"
   },
   {
    "duration": 6,
    "start_time": "2024-03-13T06:38:59.178Z"
   },
   {
    "duration": 35,
    "start_time": "2024-03-13T06:38:59.185Z"
   },
   {
    "duration": 17,
    "start_time": "2024-03-13T06:38:59.222Z"
   },
   {
    "duration": 207,
    "start_time": "2024-03-13T06:38:59.240Z"
   },
   {
    "duration": 22,
    "start_time": "2024-03-13T06:38:59.449Z"
   },
   {
    "duration": 56,
    "start_time": "2024-03-13T06:38:59.474Z"
   },
   {
    "duration": 185,
    "start_time": "2024-03-13T06:38:59.534Z"
   },
   {
    "duration": 11,
    "start_time": "2024-03-13T06:38:59.727Z"
   },
   {
    "duration": 384,
    "start_time": "2024-03-13T06:38:59.740Z"
   },
   {
    "duration": 5,
    "start_time": "2024-03-13T06:39:00.126Z"
   },
   {
    "duration": 394,
    "start_time": "2024-03-13T06:39:00.133Z"
   },
   {
    "duration": 154,
    "start_time": "2024-03-13T06:39:00.528Z"
   },
   {
    "duration": 261,
    "start_time": "2024-03-13T06:39:00.683Z"
   },
   {
    "duration": 8,
    "start_time": "2024-03-13T06:39:00.946Z"
   },
   {
    "duration": 398,
    "start_time": "2024-03-13T06:39:00.956Z"
   },
   {
    "duration": 296,
    "start_time": "2024-03-13T06:39:01.356Z"
   },
   {
    "duration": 392,
    "start_time": "2024-03-13T06:39:01.654Z"
   },
   {
    "duration": 273,
    "start_time": "2024-03-13T06:39:02.047Z"
   },
   {
    "duration": 11,
    "start_time": "2024-03-13T06:39:02.322Z"
   },
   {
    "duration": 340,
    "start_time": "2024-03-13T06:39:02.334Z"
   },
   {
    "duration": 284,
    "start_time": "2024-03-13T06:39:02.676Z"
   },
   {
    "duration": 281,
    "start_time": "2024-03-13T06:39:02.961Z"
   },
   {
    "duration": 6,
    "start_time": "2024-03-13T06:39:03.244Z"
   },
   {
    "duration": 133,
    "start_time": "2024-03-13T06:39:03.251Z"
   },
   {
    "duration": 52,
    "start_time": "2024-03-13T06:39:03.386Z"
   },
   {
    "duration": 103,
    "start_time": "2024-03-13T06:39:03.439Z"
   },
   {
    "duration": 112,
    "start_time": "2024-03-13T06:39:03.543Z"
   },
   {
    "duration": 59,
    "start_time": "2024-03-13T06:39:03.657Z"
   },
   {
    "duration": 171,
    "start_time": "2024-03-13T06:39:03.718Z"
   },
   {
    "duration": 172,
    "start_time": "2024-03-13T06:39:03.894Z"
   },
   {
    "duration": 390,
    "start_time": "2024-03-13T06:39:04.068Z"
   },
   {
    "duration": 195,
    "start_time": "2024-03-13T06:39:04.460Z"
   },
   {
    "duration": 337,
    "start_time": "2024-03-13T06:39:04.657Z"
   },
   {
    "duration": 15,
    "start_time": "2024-03-13T06:39:04.996Z"
   },
   {
    "duration": 380,
    "start_time": "2024-03-13T06:39:05.013Z"
   },
   {
    "duration": 14,
    "start_time": "2024-03-13T06:39:05.401Z"
   },
   {
    "duration": 265,
    "start_time": "2024-03-13T06:39:05.418Z"
   },
   {
    "duration": 13,
    "start_time": "2024-03-13T06:39:05.684Z"
   },
   {
    "duration": 273,
    "start_time": "2024-03-13T06:39:05.698Z"
   },
   {
    "duration": 9,
    "start_time": "2024-03-13T06:39:05.972Z"
   },
   {
    "duration": 40,
    "start_time": "2024-03-13T06:39:05.982Z"
   },
   {
    "duration": 14,
    "start_time": "2024-03-13T06:39:06.024Z"
   },
   {
    "duration": 9,
    "start_time": "2024-03-13T06:39:06.039Z"
   },
   {
    "duration": 19,
    "start_time": "2024-03-13T06:39:06.049Z"
   },
   {
    "duration": 21,
    "start_time": "2024-03-13T06:39:06.070Z"
   },
   {
    "duration": 12,
    "start_time": "2024-03-13T06:39:06.093Z"
   },
   {
    "duration": 14,
    "start_time": "2024-03-13T06:39:06.108Z"
   },
   {
    "duration": 40,
    "start_time": "2024-03-13T06:39:06.124Z"
   },
   {
    "duration": 10,
    "start_time": "2024-03-13T06:39:06.165Z"
   },
   {
    "duration": 39,
    "start_time": "2024-03-13T06:39:06.176Z"
   },
   {
    "duration": 47,
    "start_time": "2024-03-13T06:39:06.217Z"
   },
   {
    "duration": 19,
    "start_time": "2024-03-13T06:39:06.266Z"
   },
   {
    "duration": 25,
    "start_time": "2024-03-13T06:39:06.287Z"
   },
   {
    "duration": 1890,
    "start_time": "2024-03-13T06:39:06.314Z"
   },
   {
    "duration": 6,
    "start_time": "2024-03-13T06:39:08.206Z"
   },
   {
    "duration": 36924,
    "start_time": "2024-03-13T06:39:08.214Z"
   },
   {
    "duration": 27,
    "start_time": "2024-03-13T06:40:17.551Z"
   },
   {
    "duration": 108,
    "start_time": "2024-03-13T06:47:55.053Z"
   },
   {
    "duration": 207,
    "start_time": "2024-03-13T06:59:49.089Z"
   },
   {
    "duration": 5,
    "start_time": "2024-03-13T06:59:59.113Z"
   },
   {
    "duration": 16,
    "start_time": "2024-03-13T07:00:16.762Z"
   },
   {
    "duration": 3,
    "start_time": "2024-03-13T07:00:31.676Z"
   },
   {
    "duration": 13,
    "start_time": "2024-03-13T07:00:33.344Z"
   },
   {
    "duration": 4,
    "start_time": "2024-03-13T07:01:05.050Z"
   },
   {
    "duration": 12,
    "start_time": "2024-03-13T07:01:06.634Z"
   },
   {
    "duration": 7,
    "start_time": "2024-03-13T07:01:18.310Z"
   },
   {
    "duration": 12,
    "start_time": "2024-03-13T07:01:19.845Z"
   },
   {
    "duration": 113,
    "start_time": "2024-03-13T07:01:36.189Z"
   },
   {
    "duration": 106,
    "start_time": "2024-03-13T07:01:51.583Z"
   },
   {
    "duration": 3,
    "start_time": "2024-03-13T07:02:06.170Z"
   },
   {
    "duration": 21,
    "start_time": "2024-03-13T07:02:13.441Z"
   },
   {
    "duration": 17,
    "start_time": "2024-03-13T07:02:35.121Z"
   },
   {
    "duration": 12,
    "start_time": "2024-03-13T07:02:48.050Z"
   },
   {
    "duration": 104,
    "start_time": "2024-03-13T07:04:04.454Z"
   },
   {
    "duration": 12,
    "start_time": "2024-03-13T07:04:58.615Z"
   },
   {
    "duration": 12,
    "start_time": "2024-03-13T07:05:02.454Z"
   },
   {
    "duration": 12,
    "start_time": "2024-03-13T07:05:06.554Z"
   },
   {
    "duration": 11,
    "start_time": "2024-03-13T07:05:16.847Z"
   },
   {
    "duration": 111,
    "start_time": "2024-03-13T07:06:09.478Z"
   },
   {
    "duration": 99,
    "start_time": "2024-03-13T07:06:28.465Z"
   },
   {
    "duration": 1170,
    "start_time": "2024-03-13T07:06:44.669Z"
   },
   {
    "duration": 82,
    "start_time": "2024-03-13T07:06:45.840Z"
   },
   {
    "duration": 28,
    "start_time": "2024-03-13T07:06:45.923Z"
   },
   {
    "duration": 35,
    "start_time": "2024-03-13T07:06:45.953Z"
   },
   {
    "duration": 28,
    "start_time": "2024-03-13T07:06:45.989Z"
   },
   {
    "duration": 38,
    "start_time": "2024-03-13T07:06:46.018Z"
   },
   {
    "duration": 29,
    "start_time": "2024-03-13T07:06:46.058Z"
   },
   {
    "duration": 39,
    "start_time": "2024-03-13T07:06:46.088Z"
   },
   {
    "duration": 23,
    "start_time": "2024-03-13T07:06:46.128Z"
   },
   {
    "duration": 25,
    "start_time": "2024-03-13T07:06:46.154Z"
   },
   {
    "duration": 53,
    "start_time": "2024-03-13T07:06:46.180Z"
   },
   {
    "duration": 47,
    "start_time": "2024-03-13T07:06:46.235Z"
   },
   {
    "duration": 41,
    "start_time": "2024-03-13T07:06:46.284Z"
   },
   {
    "duration": 16,
    "start_time": "2024-03-13T07:06:46.327Z"
   },
   {
    "duration": 29,
    "start_time": "2024-03-13T07:06:46.345Z"
   },
   {
    "duration": 53,
    "start_time": "2024-03-13T07:06:46.375Z"
   },
   {
    "duration": 20,
    "start_time": "2024-03-13T07:06:46.430Z"
   },
   {
    "duration": 38,
    "start_time": "2024-03-13T07:06:46.452Z"
   },
   {
    "duration": 39,
    "start_time": "2024-03-13T07:06:46.492Z"
   },
   {
    "duration": 10,
    "start_time": "2024-03-13T07:06:46.535Z"
   },
   {
    "duration": 34,
    "start_time": "2024-03-13T07:06:46.546Z"
   },
   {
    "duration": 51,
    "start_time": "2024-03-13T07:06:46.581Z"
   },
   {
    "duration": 226,
    "start_time": "2024-03-13T07:06:46.634Z"
   },
   {
    "duration": 4,
    "start_time": "2024-03-13T07:06:46.862Z"
   },
   {
    "duration": 50,
    "start_time": "2024-03-13T07:06:46.868Z"
   },
   {
    "duration": 113,
    "start_time": "2024-03-13T07:06:46.919Z"
   },
   {
    "duration": 7,
    "start_time": "2024-03-13T07:06:47.034Z"
   },
   {
    "duration": 323,
    "start_time": "2024-03-13T07:06:47.045Z"
   },
   {
    "duration": 4,
    "start_time": "2024-03-13T07:06:47.370Z"
   },
   {
    "duration": 43,
    "start_time": "2024-03-13T07:06:47.375Z"
   },
   {
    "duration": 14,
    "start_time": "2024-03-13T07:06:47.422Z"
   },
   {
    "duration": 235,
    "start_time": "2024-03-13T07:06:47.437Z"
   },
   {
    "duration": 8,
    "start_time": "2024-03-13T07:06:47.673Z"
   },
   {
    "duration": 341,
    "start_time": "2024-03-13T07:06:47.682Z"
   },
   {
    "duration": 310,
    "start_time": "2024-03-13T07:06:48.025Z"
   },
   {
    "duration": 341,
    "start_time": "2024-03-13T07:06:48.337Z"
   },
   {
    "duration": 290,
    "start_time": "2024-03-13T07:06:48.680Z"
   },
   {
    "duration": 8,
    "start_time": "2024-03-13T07:06:48.971Z"
   },
   {
    "duration": 304,
    "start_time": "2024-03-13T07:06:48.980Z"
   },
   {
    "duration": 317,
    "start_time": "2024-03-13T07:06:49.285Z"
   },
   {
    "duration": 257,
    "start_time": "2024-03-13T07:06:49.604Z"
   },
   {
    "duration": 6,
    "start_time": "2024-03-13T07:06:49.862Z"
   },
   {
    "duration": 11,
    "start_time": "2024-03-13T07:06:49.869Z"
   },
   {
    "duration": 34,
    "start_time": "2024-03-13T07:06:49.882Z"
   },
   {
    "duration": 22,
    "start_time": "2024-03-13T07:06:49.917Z"
   },
   {
    "duration": 28,
    "start_time": "2024-03-13T07:06:49.941Z"
   },
   {
    "duration": 16,
    "start_time": "2024-03-13T07:06:49.970Z"
   },
   {
    "duration": 20,
    "start_time": "2024-03-13T07:06:49.987Z"
   },
   {
    "duration": 36,
    "start_time": "2024-03-13T07:06:50.008Z"
   },
   {
    "duration": 43,
    "start_time": "2024-03-13T07:06:50.045Z"
   },
   {
    "duration": 51,
    "start_time": "2024-03-13T07:06:50.090Z"
   },
   {
    "duration": 305,
    "start_time": "2024-03-13T07:06:50.143Z"
   },
   {
    "duration": 8,
    "start_time": "2024-03-13T07:06:50.449Z"
   },
   {
    "duration": 385,
    "start_time": "2024-03-13T07:06:50.458Z"
   },
   {
    "duration": 19,
    "start_time": "2024-03-13T07:06:50.845Z"
   },
   {
    "duration": 287,
    "start_time": "2024-03-13T07:06:50.866Z"
   },
   {
    "duration": 7,
    "start_time": "2024-03-13T07:06:51.154Z"
   },
   {
    "duration": 301,
    "start_time": "2024-03-13T07:06:51.163Z"
   },
   {
    "duration": 8,
    "start_time": "2024-03-13T07:06:51.465Z"
   },
   {
    "duration": 45,
    "start_time": "2024-03-13T07:06:51.474Z"
   },
   {
    "duration": 22,
    "start_time": "2024-03-13T07:06:51.520Z"
   },
   {
    "duration": 14,
    "start_time": "2024-03-13T07:06:51.544Z"
   },
   {
    "duration": 8,
    "start_time": "2024-03-13T07:06:51.559Z"
   },
   {
    "duration": 37,
    "start_time": "2024-03-13T07:06:51.569Z"
   },
   {
    "duration": 13,
    "start_time": "2024-03-13T07:06:51.607Z"
   },
   {
    "duration": 13,
    "start_time": "2024-03-13T07:06:51.623Z"
   },
   {
    "duration": 21,
    "start_time": "2024-03-13T07:06:51.638Z"
   },
   {
    "duration": 9,
    "start_time": "2024-03-13T07:06:51.660Z"
   },
   {
    "duration": 25,
    "start_time": "2024-03-13T07:06:51.671Z"
   },
   {
    "duration": 23,
    "start_time": "2024-03-13T07:06:51.704Z"
   },
   {
    "duration": 8,
    "start_time": "2024-03-13T07:06:51.732Z"
   },
   {
    "duration": 4,
    "start_time": "2024-03-13T07:06:51.742Z"
   },
   {
    "duration": 2009,
    "start_time": "2024-03-13T07:06:51.748Z"
   },
   {
    "duration": 4,
    "start_time": "2024-03-13T07:06:53.759Z"
   },
   {
    "duration": 38844,
    "start_time": "2024-03-13T07:06:53.765Z"
   },
   {
    "duration": 97,
    "start_time": "2024-03-13T07:08:29.042Z"
   },
   {
    "duration": 116,
    "start_time": "2024-03-13T07:12:06.248Z"
   },
   {
    "duration": 3,
    "start_time": "2024-03-13T07:14:06.468Z"
   },
   {
    "duration": 18,
    "start_time": "2024-03-13T07:14:11.794Z"
   },
   {
    "duration": 123,
    "start_time": "2024-03-13T07:15:14.769Z"
   },
   {
    "duration": 3,
    "start_time": "2024-03-13T07:15:22.348Z"
   },
   {
    "duration": 93,
    "start_time": "2024-03-13T07:15:43.652Z"
   },
   {
    "duration": 13,
    "start_time": "2024-03-13T07:15:49.606Z"
   },
   {
    "duration": 154,
    "start_time": "2024-03-13T07:16:54.100Z"
   },
   {
    "duration": 264,
    "start_time": "2024-03-13T07:17:15.912Z"
   },
   {
    "duration": 4,
    "start_time": "2024-03-13T07:19:04.044Z"
   },
   {
    "duration": 3,
    "start_time": "2024-03-13T07:19:04.863Z"
   },
   {
    "duration": 14,
    "start_time": "2024-03-13T07:19:06.510Z"
   },
   {
    "duration": 3,
    "start_time": "2024-03-13T07:20:15.826Z"
   },
   {
    "duration": 3,
    "start_time": "2024-03-13T07:20:16.544Z"
   },
   {
    "duration": 9,
    "start_time": "2024-03-13T07:20:17.669Z"
   },
   {
    "duration": 104,
    "start_time": "2024-03-13T07:23:43.293Z"
   },
   {
    "duration": 176,
    "start_time": "2024-03-13T08:01:17.451Z"
   },
   {
    "duration": 218,
    "start_time": "2024-03-13T08:01:54.871Z"
   },
   {
    "duration": 206,
    "start_time": "2024-03-13T08:02:31.399Z"
   },
   {
    "duration": 246,
    "start_time": "2024-03-13T08:03:01.952Z"
   },
   {
    "duration": 243,
    "start_time": "2024-03-13T08:03:23.275Z"
   },
   {
    "duration": 212,
    "start_time": "2024-03-13T08:03:47.977Z"
   },
   {
    "duration": 232,
    "start_time": "2024-03-13T08:03:53.300Z"
   },
   {
    "duration": 233,
    "start_time": "2024-03-13T08:03:57.290Z"
   },
   {
    "duration": 98,
    "start_time": "2024-03-13T08:11:40.163Z"
   },
   {
    "duration": 576,
    "start_time": "2024-03-13T08:14:54.164Z"
   },
   {
    "duration": 498,
    "start_time": "2024-03-13T08:15:13.652Z"
   },
   {
    "duration": 282,
    "start_time": "2024-03-13T08:15:50.916Z"
   },
   {
    "duration": 288,
    "start_time": "2024-03-13T08:16:15.289Z"
   },
   {
    "duration": 131,
    "start_time": "2024-03-13T08:16:40.455Z"
   },
   {
    "duration": 259,
    "start_time": "2024-03-13T08:16:46.448Z"
   },
   {
    "duration": 276,
    "start_time": "2024-03-13T08:16:58.573Z"
   },
   {
    "duration": 262,
    "start_time": "2024-03-13T08:17:14.439Z"
   },
   {
    "duration": 289,
    "start_time": "2024-03-13T08:18:17.176Z"
   },
   {
    "duration": 417,
    "start_time": "2024-03-13T08:18:57.179Z"
   },
   {
    "duration": 262,
    "start_time": "2024-03-13T08:19:53.650Z"
   },
   {
    "duration": 200,
    "start_time": "2024-03-13T08:19:57.763Z"
   },
   {
    "duration": 180,
    "start_time": "2024-03-13T08:20:04.370Z"
   },
   {
    "duration": 201,
    "start_time": "2024-03-13T08:20:08.937Z"
   },
   {
    "duration": 171,
    "start_time": "2024-03-13T08:20:34.672Z"
   },
   {
    "duration": 247,
    "start_time": "2024-03-13T08:20:43.053Z"
   },
   {
    "duration": 185,
    "start_time": "2024-03-13T08:20:50.694Z"
   },
   {
    "duration": 145,
    "start_time": "2024-03-13T08:20:55.175Z"
   },
   {
    "duration": 148,
    "start_time": "2024-03-13T08:21:09.821Z"
   },
   {
    "duration": 1091,
    "start_time": "2024-03-13T08:22:22.221Z"
   },
   {
    "duration": 74,
    "start_time": "2024-03-13T08:22:23.314Z"
   },
   {
    "duration": 33,
    "start_time": "2024-03-13T08:22:23.389Z"
   },
   {
    "duration": 15,
    "start_time": "2024-03-13T08:22:23.424Z"
   },
   {
    "duration": 3,
    "start_time": "2024-03-13T08:22:23.440Z"
   },
   {
    "duration": 40,
    "start_time": "2024-03-13T08:22:23.445Z"
   },
   {
    "duration": 28,
    "start_time": "2024-03-13T08:22:23.487Z"
   },
   {
    "duration": 13,
    "start_time": "2024-03-13T08:22:23.517Z"
   },
   {
    "duration": 27,
    "start_time": "2024-03-13T08:22:23.532Z"
   },
   {
    "duration": 52,
    "start_time": "2024-03-13T08:22:23.562Z"
   },
   {
    "duration": 49,
    "start_time": "2024-03-13T08:22:23.615Z"
   },
   {
    "duration": 48,
    "start_time": "2024-03-13T08:22:23.666Z"
   },
   {
    "duration": 12,
    "start_time": "2024-03-13T08:22:23.716Z"
   },
   {
    "duration": 22,
    "start_time": "2024-03-13T08:22:23.729Z"
   },
   {
    "duration": 31,
    "start_time": "2024-03-13T08:22:23.752Z"
   },
   {
    "duration": 19,
    "start_time": "2024-03-13T08:22:23.784Z"
   },
   {
    "duration": 61,
    "start_time": "2024-03-13T08:22:23.806Z"
   },
   {
    "duration": 23,
    "start_time": "2024-03-13T08:22:23.869Z"
   },
   {
    "duration": 23,
    "start_time": "2024-03-13T08:22:23.895Z"
   },
   {
    "duration": 23,
    "start_time": "2024-03-13T08:22:23.920Z"
   },
   {
    "duration": 40,
    "start_time": "2024-03-13T08:22:23.945Z"
   },
   {
    "duration": 23,
    "start_time": "2024-03-13T08:22:23.987Z"
   },
   {
    "duration": 30,
    "start_time": "2024-03-13T08:22:24.013Z"
   },
   {
    "duration": 31,
    "start_time": "2024-03-13T08:22:24.045Z"
   },
   {
    "duration": 191,
    "start_time": "2024-03-13T08:22:24.078Z"
   },
   {
    "duration": 5,
    "start_time": "2024-03-13T08:22:24.271Z"
   },
   {
    "duration": 29,
    "start_time": "2024-03-13T08:22:24.277Z"
   },
   {
    "duration": 122,
    "start_time": "2024-03-13T08:22:24.313Z"
   },
   {
    "duration": 5,
    "start_time": "2024-03-13T08:22:24.437Z"
   },
   {
    "duration": 231,
    "start_time": "2024-03-13T08:22:24.444Z"
   },
   {
    "duration": 4,
    "start_time": "2024-03-13T08:22:24.677Z"
   },
   {
    "duration": 27,
    "start_time": "2024-03-13T08:22:24.682Z"
   },
   {
    "duration": 26,
    "start_time": "2024-03-13T08:22:24.711Z"
   },
   {
    "duration": 172,
    "start_time": "2024-03-13T08:22:24.739Z"
   },
   {
    "duration": 8,
    "start_time": "2024-03-13T08:22:24.913Z"
   },
   {
    "duration": 336,
    "start_time": "2024-03-13T08:22:24.922Z"
   },
   {
    "duration": 277,
    "start_time": "2024-03-13T08:22:25.260Z"
   },
   {
    "duration": 277,
    "start_time": "2024-03-13T08:22:25.538Z"
   },
   {
    "duration": 340,
    "start_time": "2024-03-13T08:22:25.816Z"
   },
   {
    "duration": 8,
    "start_time": "2024-03-13T08:22:26.158Z"
   },
   {
    "duration": 234,
    "start_time": "2024-03-13T08:22:26.167Z"
   },
   {
    "duration": 163,
    "start_time": "2024-03-13T08:22:26.408Z"
   },
   {
    "duration": 172,
    "start_time": "2024-03-13T08:22:26.573Z"
   },
   {
    "duration": 5,
    "start_time": "2024-03-13T08:22:26.747Z"
   },
   {
    "duration": 19,
    "start_time": "2024-03-13T08:22:26.754Z"
   },
   {
    "duration": 35,
    "start_time": "2024-03-13T08:22:26.774Z"
   },
   {
    "duration": 65,
    "start_time": "2024-03-13T08:22:26.811Z"
   },
   {
    "duration": 45,
    "start_time": "2024-03-13T08:22:26.877Z"
   },
   {
    "duration": 76,
    "start_time": "2024-03-13T08:22:26.924Z"
   },
   {
    "duration": 19,
    "start_time": "2024-03-13T08:22:27.002Z"
   },
   {
    "duration": 58,
    "start_time": "2024-03-13T08:22:27.023Z"
   },
   {
    "duration": 51,
    "start_time": "2024-03-13T08:22:27.083Z"
   },
   {
    "duration": 38,
    "start_time": "2024-03-13T08:22:27.136Z"
   },
   {
    "duration": 293,
    "start_time": "2024-03-13T08:22:27.176Z"
   },
   {
    "duration": 8,
    "start_time": "2024-03-13T08:22:27.471Z"
   },
   {
    "duration": 305,
    "start_time": "2024-03-13T08:22:27.481Z"
   },
   {
    "duration": 12,
    "start_time": "2024-03-13T08:22:27.787Z"
   },
   {
    "duration": 278,
    "start_time": "2024-03-13T08:22:27.801Z"
   },
   {
    "duration": 16,
    "start_time": "2024-03-13T08:22:28.080Z"
   },
   {
    "duration": 352,
    "start_time": "2024-03-13T08:22:28.105Z"
   },
   {
    "duration": 8,
    "start_time": "2024-03-13T08:22:28.459Z"
   },
   {
    "duration": 36,
    "start_time": "2024-03-13T08:22:28.468Z"
   },
   {
    "duration": 18,
    "start_time": "2024-03-13T08:22:28.505Z"
   },
   {
    "duration": 56,
    "start_time": "2024-03-13T08:22:28.525Z"
   },
   {
    "duration": 39,
    "start_time": "2024-03-13T08:22:28.582Z"
   },
   {
    "duration": 48,
    "start_time": "2024-03-13T08:22:28.622Z"
   },
   {
    "duration": 29,
    "start_time": "2024-03-13T08:22:28.671Z"
   },
   {
    "duration": 11,
    "start_time": "2024-03-13T08:22:28.703Z"
   },
   {
    "duration": 41,
    "start_time": "2024-03-13T08:22:28.716Z"
   },
   {
    "duration": 22,
    "start_time": "2024-03-13T08:22:28.759Z"
   },
   {
    "duration": 37,
    "start_time": "2024-03-13T08:22:28.782Z"
   },
   {
    "duration": 26,
    "start_time": "2024-03-13T08:22:28.820Z"
   },
   {
    "duration": 33,
    "start_time": "2024-03-13T08:22:28.847Z"
   },
   {
    "duration": 30,
    "start_time": "2024-03-13T08:22:28.882Z"
   },
   {
    "duration": 1864,
    "start_time": "2024-03-13T08:22:28.914Z"
   },
   {
    "duration": 5,
    "start_time": "2024-03-13T08:22:30.780Z"
   },
   {
    "duration": 35540,
    "start_time": "2024-03-13T08:22:30.797Z"
   },
   {
    "duration": 99,
    "start_time": "2024-03-13T08:24:18.465Z"
   },
   {
    "duration": 276,
    "start_time": "2024-03-13T08:26:55.812Z"
   },
   {
    "duration": 293,
    "start_time": "2024-03-13T08:27:05.729Z"
   },
   {
    "duration": 284,
    "start_time": "2024-03-13T08:27:40.248Z"
   },
   {
    "duration": 275,
    "start_time": "2024-03-13T08:28:30.783Z"
   },
   {
    "duration": 301,
    "start_time": "2024-03-13T08:31:50.413Z"
   },
   {
    "duration": 274,
    "start_time": "2024-03-13T08:32:05.090Z"
   },
   {
    "duration": 139,
    "start_time": "2024-03-13T08:52:54.211Z"
   },
   {
    "duration": 153,
    "start_time": "2024-03-13T08:52:58.904Z"
   },
   {
    "duration": 360,
    "start_time": "2024-03-13T08:53:13.774Z"
   },
   {
    "duration": 139,
    "start_time": "2024-03-13T08:53:19.862Z"
   },
   {
    "duration": 134,
    "start_time": "2024-03-13T08:53:24.054Z"
   },
   {
    "duration": 136,
    "start_time": "2024-03-13T08:53:33.133Z"
   },
   {
    "duration": 162,
    "start_time": "2024-03-13T08:53:37.318Z"
   },
   {
    "duration": 139,
    "start_time": "2024-03-13T08:53:40.839Z"
   },
   {
    "duration": 242,
    "start_time": "2024-03-13T08:53:48.005Z"
   },
   {
    "duration": 196,
    "start_time": "2024-03-13T08:53:58.272Z"
   },
   {
    "duration": 145,
    "start_time": "2024-03-13T08:54:36.395Z"
   },
   {
    "duration": 167,
    "start_time": "2024-03-13T08:54:54.251Z"
   },
   {
    "duration": 141,
    "start_time": "2024-03-13T08:54:59.052Z"
   },
   {
    "duration": 158,
    "start_time": "2024-03-13T08:56:41.617Z"
   },
   {
    "duration": 219,
    "start_time": "2024-03-13T08:56:48.477Z"
   },
   {
    "duration": 166,
    "start_time": "2024-03-13T08:56:58.097Z"
   },
   {
    "duration": 138,
    "start_time": "2024-03-13T08:59:00.640Z"
   },
   {
    "duration": 5,
    "start_time": "2024-03-13T08:59:12.375Z"
   },
   {
    "duration": 139,
    "start_time": "2024-03-13T08:59:20.629Z"
   },
   {
    "duration": 156,
    "start_time": "2024-03-13T08:59:30.164Z"
   },
   {
    "duration": 5,
    "start_time": "2024-03-13T09:00:07.311Z"
   },
   {
    "duration": 174,
    "start_time": "2024-03-13T09:00:12.542Z"
   },
   {
    "duration": 159,
    "start_time": "2024-03-13T09:00:57.808Z"
   },
   {
    "duration": 11,
    "start_time": "2024-03-13T09:02:10.408Z"
   },
   {
    "duration": 169,
    "start_time": "2024-03-13T09:02:27.313Z"
   },
   {
    "duration": 207,
    "start_time": "2024-03-13T09:03:07.712Z"
   },
   {
    "duration": 199,
    "start_time": "2024-03-13T09:03:42.327Z"
   },
   {
    "duration": 240,
    "start_time": "2024-03-13T09:04:18.781Z"
   },
   {
    "duration": 250,
    "start_time": "2024-03-13T09:04:40.057Z"
   },
   {
    "duration": 173,
    "start_time": "2024-03-13T09:04:55.803Z"
   },
   {
    "duration": 191,
    "start_time": "2024-03-13T09:05:01.422Z"
   },
   {
    "duration": 214,
    "start_time": "2024-03-13T09:05:06.813Z"
   },
   {
    "duration": 233,
    "start_time": "2024-03-13T09:05:13.355Z"
   },
   {
    "duration": 191,
    "start_time": "2024-03-13T09:05:18.290Z"
   },
   {
    "duration": 204,
    "start_time": "2024-03-13T09:05:24.019Z"
   },
   {
    "duration": 237,
    "start_time": "2024-03-13T09:05:37.150Z"
   },
   {
    "duration": 182,
    "start_time": "2024-03-13T09:05:42.141Z"
   },
   {
    "duration": 196,
    "start_time": "2024-03-13T09:05:50.326Z"
   },
   {
    "duration": 201,
    "start_time": "2024-03-13T09:05:57.636Z"
   },
   {
    "duration": 286,
    "start_time": "2024-03-13T09:06:30.776Z"
   },
   {
    "duration": 203,
    "start_time": "2024-03-13T09:06:38.941Z"
   },
   {
    "duration": 198,
    "start_time": "2024-03-13T09:07:42.111Z"
   },
   {
    "duration": 207,
    "start_time": "2024-03-13T09:07:50.436Z"
   },
   {
    "duration": 220,
    "start_time": "2024-03-13T09:07:57.421Z"
   },
   {
    "duration": 161,
    "start_time": "2024-03-13T09:08:10.556Z"
   },
   {
    "duration": 202,
    "start_time": "2024-03-13T09:08:36.812Z"
   },
   {
    "duration": 195,
    "start_time": "2024-03-13T09:08:48.834Z"
   },
   {
    "duration": 186,
    "start_time": "2024-03-13T09:09:00.432Z"
   },
   {
    "duration": 200,
    "start_time": "2024-03-13T09:09:13.793Z"
   },
   {
    "duration": 191,
    "start_time": "2024-03-13T09:09:36.256Z"
   },
   {
    "duration": 1154,
    "start_time": "2024-03-13T09:10:10.512Z"
   },
   {
    "duration": 90,
    "start_time": "2024-03-13T09:10:11.668Z"
   },
   {
    "duration": 33,
    "start_time": "2024-03-13T09:10:11.760Z"
   },
   {
    "duration": 44,
    "start_time": "2024-03-13T09:10:11.804Z"
   },
   {
    "duration": 41,
    "start_time": "2024-03-13T09:10:11.850Z"
   },
   {
    "duration": 38,
    "start_time": "2024-03-13T09:10:11.892Z"
   },
   {
    "duration": 18,
    "start_time": "2024-03-13T09:10:11.932Z"
   },
   {
    "duration": 36,
    "start_time": "2024-03-13T09:10:11.951Z"
   },
   {
    "duration": 29,
    "start_time": "2024-03-13T09:10:11.989Z"
   },
   {
    "duration": 27,
    "start_time": "2024-03-13T09:10:12.020Z"
   },
   {
    "duration": 34,
    "start_time": "2024-03-13T09:10:12.049Z"
   },
   {
    "duration": 34,
    "start_time": "2024-03-13T09:10:12.084Z"
   },
   {
    "duration": 20,
    "start_time": "2024-03-13T09:10:12.120Z"
   },
   {
    "duration": 38,
    "start_time": "2024-03-13T09:10:12.142Z"
   },
   {
    "duration": 30,
    "start_time": "2024-03-13T09:10:12.182Z"
   },
   {
    "duration": 22,
    "start_time": "2024-03-13T09:10:12.213Z"
   },
   {
    "duration": 26,
    "start_time": "2024-03-13T09:10:12.237Z"
   },
   {
    "duration": 23,
    "start_time": "2024-03-13T09:10:12.265Z"
   },
   {
    "duration": 33,
    "start_time": "2024-03-13T09:10:12.289Z"
   },
   {
    "duration": 21,
    "start_time": "2024-03-13T09:10:12.324Z"
   },
   {
    "duration": 56,
    "start_time": "2024-03-13T09:10:12.346Z"
   },
   {
    "duration": 23,
    "start_time": "2024-03-13T09:10:12.405Z"
   },
   {
    "duration": 44,
    "start_time": "2024-03-13T09:10:12.430Z"
   },
   {
    "duration": 34,
    "start_time": "2024-03-13T09:10:12.476Z"
   },
   {
    "duration": 201,
    "start_time": "2024-03-13T09:10:12.512Z"
   },
   {
    "duration": 5,
    "start_time": "2024-03-13T09:10:12.716Z"
   },
   {
    "duration": 41,
    "start_time": "2024-03-13T09:10:12.723Z"
   },
   {
    "duration": 104,
    "start_time": "2024-03-13T09:10:12.768Z"
   },
   {
    "duration": 6,
    "start_time": "2024-03-13T09:10:12.873Z"
   },
   {
    "duration": 241,
    "start_time": "2024-03-13T09:10:12.881Z"
   },
   {
    "duration": 4,
    "start_time": "2024-03-13T09:10:13.124Z"
   },
   {
    "duration": 24,
    "start_time": "2024-03-13T09:10:13.129Z"
   },
   {
    "duration": 36,
    "start_time": "2024-03-13T09:10:13.155Z"
   },
   {
    "duration": 209,
    "start_time": "2024-03-13T09:10:13.192Z"
   },
   {
    "duration": 15,
    "start_time": "2024-03-13T09:10:13.407Z"
   },
   {
    "duration": 360,
    "start_time": "2024-03-13T09:10:13.424Z"
   },
   {
    "duration": 330,
    "start_time": "2024-03-13T09:10:13.786Z"
   },
   {
    "duration": 310,
    "start_time": "2024-03-13T09:10:14.117Z"
   },
   {
    "duration": 410,
    "start_time": "2024-03-13T09:10:14.429Z"
   },
   {
    "duration": 9,
    "start_time": "2024-03-13T09:10:14.841Z"
   },
   {
    "duration": 280,
    "start_time": "2024-03-13T09:10:14.853Z"
   },
   {
    "duration": 183,
    "start_time": "2024-03-13T09:10:15.134Z"
   },
   {
    "duration": 238,
    "start_time": "2024-03-13T09:10:15.318Z"
   },
   {
    "duration": 6,
    "start_time": "2024-03-13T09:10:15.558Z"
   },
   {
    "duration": 63,
    "start_time": "2024-03-13T09:10:15.565Z"
   },
   {
    "duration": 20,
    "start_time": "2024-03-13T09:10:15.630Z"
   },
   {
    "duration": 19,
    "start_time": "2024-03-13T09:10:15.652Z"
   },
   {
    "duration": 48,
    "start_time": "2024-03-13T09:10:15.673Z"
   },
   {
    "duration": 12,
    "start_time": "2024-03-13T09:10:15.724Z"
   },
   {
    "duration": 25,
    "start_time": "2024-03-13T09:10:15.738Z"
   },
   {
    "duration": 14,
    "start_time": "2024-03-13T09:10:15.765Z"
   },
   {
    "duration": 20,
    "start_time": "2024-03-13T09:10:15.781Z"
   },
   {
    "duration": 8,
    "start_time": "2024-03-13T09:10:15.812Z"
   },
   {
    "duration": 350,
    "start_time": "2024-03-13T09:10:15.822Z"
   },
   {
    "duration": 9,
    "start_time": "2024-03-13T09:10:16.174Z"
   },
   {
    "duration": 307,
    "start_time": "2024-03-13T09:10:16.185Z"
   },
   {
    "duration": 23,
    "start_time": "2024-03-13T09:10:16.493Z"
   },
   {
    "duration": 349,
    "start_time": "2024-03-13T09:10:16.518Z"
   },
   {
    "duration": 9,
    "start_time": "2024-03-13T09:10:16.869Z"
   },
   {
    "duration": 449,
    "start_time": "2024-03-13T09:10:16.880Z"
   },
   {
    "duration": 325,
    "start_time": "2024-03-13T09:10:17.331Z"
   },
   {
    "duration": 196,
    "start_time": "2024-03-13T09:10:17.658Z"
   },
   {
    "duration": 22,
    "start_time": "2024-03-13T09:10:17.855Z"
   },
   {
    "duration": 36,
    "start_time": "2024-03-13T09:10:17.879Z"
   },
   {
    "duration": 9,
    "start_time": "2024-03-13T09:10:17.917Z"
   },
   {
    "duration": 9,
    "start_time": "2024-03-13T09:10:17.927Z"
   },
   {
    "duration": 25,
    "start_time": "2024-03-13T09:10:17.937Z"
   },
   {
    "duration": 11,
    "start_time": "2024-03-13T09:10:17.964Z"
   },
   {
    "duration": 28,
    "start_time": "2024-03-13T09:10:17.977Z"
   },
   {
    "duration": 20,
    "start_time": "2024-03-13T09:10:18.007Z"
   },
   {
    "duration": 10,
    "start_time": "2024-03-13T09:10:18.028Z"
   },
   {
    "duration": 19,
    "start_time": "2024-03-13T09:10:18.040Z"
   },
   {
    "duration": 13,
    "start_time": "2024-03-13T09:10:18.060Z"
   },
   {
    "duration": 15,
    "start_time": "2024-03-13T09:10:18.100Z"
   },
   {
    "duration": 10,
    "start_time": "2024-03-13T09:10:18.117Z"
   },
   {
    "duration": 1946,
    "start_time": "2024-03-13T09:10:18.129Z"
   },
   {
    "duration": 7,
    "start_time": "2024-03-13T09:10:20.077Z"
   },
   {
    "duration": 37181,
    "start_time": "2024-03-13T09:10:20.101Z"
   },
   {
    "duration": 198,
    "start_time": "2024-03-13T09:10:57.481Z"
   },
   {
    "duration": 211,
    "start_time": "2024-03-13T09:11:21.174Z"
   },
   {
    "duration": 4,
    "start_time": "2024-03-13T09:11:32.229Z"
   },
   {
    "duration": 126,
    "start_time": "2024-03-13T09:11:38.089Z"
   },
   {
    "duration": 118,
    "start_time": "2024-03-13T09:11:53.610Z"
   },
   {
    "duration": 107,
    "start_time": "2024-03-13T09:14:14.601Z"
   },
   {
    "duration": 94,
    "start_time": "2024-03-13T09:14:19.789Z"
   },
   {
    "duration": 237,
    "start_time": "2024-03-13T09:14:26.297Z"
   },
   {
    "duration": 95,
    "start_time": "2024-03-13T09:14:31.343Z"
   },
   {
    "duration": 218,
    "start_time": "2024-03-13T09:14:40.916Z"
   },
   {
    "duration": 207,
    "start_time": "2024-03-13T09:14:47.810Z"
   },
   {
    "duration": 208,
    "start_time": "2024-03-13T09:15:13.840Z"
   },
   {
    "duration": 196,
    "start_time": "2024-03-13T09:15:25.930Z"
   },
   {
    "duration": 210,
    "start_time": "2024-03-13T09:15:49.846Z"
   },
   {
    "duration": 220,
    "start_time": "2024-03-13T09:16:00.989Z"
   },
   {
    "duration": 101,
    "start_time": "2024-03-13T09:17:32.939Z"
   },
   {
    "duration": 214,
    "start_time": "2024-03-13T09:17:37.400Z"
   },
   {
    "duration": 236,
    "start_time": "2024-03-13T09:18:18.969Z"
   },
   {
    "duration": 203,
    "start_time": "2024-03-13T09:18:56.424Z"
   },
   {
    "duration": 205,
    "start_time": "2024-03-13T09:19:05.772Z"
   },
   {
    "duration": 210,
    "start_time": "2024-03-13T09:19:17.010Z"
   },
   {
    "duration": 392,
    "start_time": "2024-03-13T09:19:55.100Z"
   },
   {
    "duration": 228,
    "start_time": "2024-03-13T09:20:35.221Z"
   },
   {
    "duration": 237,
    "start_time": "2024-03-13T09:20:48.923Z"
   },
   {
    "duration": 228,
    "start_time": "2024-03-13T09:21:17.130Z"
   },
   {
    "duration": 231,
    "start_time": "2024-03-13T09:21:29.123Z"
   },
   {
    "duration": 220,
    "start_time": "2024-03-13T09:21:32.840Z"
   },
   {
    "duration": 209,
    "start_time": "2024-03-13T09:22:16.836Z"
   },
   {
    "duration": 200,
    "start_time": "2024-03-13T09:22:55.471Z"
   },
   {
    "duration": 174,
    "start_time": "2024-03-13T09:23:14.750Z"
   },
   {
    "duration": 181,
    "start_time": "2024-03-13T09:23:25.680Z"
   },
   {
    "duration": 207,
    "start_time": "2024-03-13T09:23:46.057Z"
   },
   {
    "duration": 294,
    "start_time": "2024-03-13T09:25:09.873Z"
   },
   {
    "duration": 349,
    "start_time": "2024-03-13T09:25:31.676Z"
   },
   {
    "duration": 446,
    "start_time": "2024-03-13T09:25:38.494Z"
   },
   {
    "duration": 282,
    "start_time": "2024-03-13T09:25:45.528Z"
   },
   {
    "duration": 223,
    "start_time": "2024-03-13T09:26:14.285Z"
   },
   {
    "duration": 426,
    "start_time": "2024-03-13T09:26:22.400Z"
   },
   {
    "duration": 339,
    "start_time": "2024-03-13T09:26:28.911Z"
   },
   {
    "duration": 268,
    "start_time": "2024-03-13T09:26:34.673Z"
   },
   {
    "duration": 279,
    "start_time": "2024-03-13T09:27:07.830Z"
   },
   {
    "duration": 178,
    "start_time": "2024-03-13T09:27:24.412Z"
   },
   {
    "duration": 162,
    "start_time": "2024-03-13T09:27:29.697Z"
   },
   {
    "duration": 90,
    "start_time": "2024-03-13T09:30:54.296Z"
   },
   {
    "duration": 141,
    "start_time": "2024-03-13T09:37:20.140Z"
   },
   {
    "duration": 497,
    "start_time": "2024-03-13T09:38:01.656Z"
   },
   {
    "duration": 291,
    "start_time": "2024-03-13T09:38:13.858Z"
   },
   {
    "duration": 311,
    "start_time": "2024-03-13T09:38:39.377Z"
   },
   {
    "duration": 314,
    "start_time": "2024-03-13T09:38:53.356Z"
   },
   {
    "duration": 294,
    "start_time": "2024-03-13T09:39:02.775Z"
   },
   {
    "duration": 177,
    "start_time": "2024-03-13T09:40:39.174Z"
   },
   {
    "duration": 124,
    "start_time": "2024-03-13T09:41:20.853Z"
   },
   {
    "duration": 154,
    "start_time": "2024-03-13T09:41:26.486Z"
   },
   {
    "duration": 177,
    "start_time": "2024-03-13T09:41:50.715Z"
   },
   {
    "duration": 175,
    "start_time": "2024-03-13T09:42:03.101Z"
   },
   {
    "duration": 179,
    "start_time": "2024-03-13T09:42:21.309Z"
   },
   {
    "duration": 170,
    "start_time": "2024-03-13T09:42:32.527Z"
   },
   {
    "duration": 176,
    "start_time": "2024-03-13T09:42:40.478Z"
   },
   {
    "duration": 181,
    "start_time": "2024-03-13T09:43:05.472Z"
   },
   {
    "duration": 175,
    "start_time": "2024-03-13T09:43:25.040Z"
   },
   {
    "duration": 417,
    "start_time": "2024-03-13T09:43:36.833Z"
   },
   {
    "duration": 170,
    "start_time": "2024-03-13T09:43:45.047Z"
   },
   {
    "duration": 9,
    "start_time": "2024-03-13T09:44:32.864Z"
   },
   {
    "duration": 98,
    "start_time": "2024-03-13T09:45:17.312Z"
   },
   {
    "duration": 173,
    "start_time": "2024-03-13T09:45:26.212Z"
   },
   {
    "duration": 207,
    "start_time": "2024-03-13T09:45:34.928Z"
   },
   {
    "duration": 190,
    "start_time": "2024-03-13T09:46:40.099Z"
   },
   {
    "duration": 121,
    "start_time": "2024-03-13T09:56:49.326Z"
   },
   {
    "duration": 5,
    "start_time": "2024-03-13T10:01:09.567Z"
   },
   {
    "duration": 5,
    "start_time": "2024-03-13T10:01:20.001Z"
   },
   {
    "duration": 4,
    "start_time": "2024-03-13T10:01:31.407Z"
   },
   {
    "duration": 4,
    "start_time": "2024-03-13T10:02:00.239Z"
   },
   {
    "duration": 10,
    "start_time": "2024-03-13T10:03:12.681Z"
   },
   {
    "duration": 14,
    "start_time": "2024-03-13T10:03:15.329Z"
   },
   {
    "duration": 16,
    "start_time": "2024-03-13T10:03:20.855Z"
   },
   {
    "duration": 3,
    "start_time": "2024-03-13T10:03:27.043Z"
   },
   {
    "duration": 3,
    "start_time": "2024-03-13T10:03:28.330Z"
   },
   {
    "duration": 13,
    "start_time": "2024-03-13T10:03:44.319Z"
   },
   {
    "duration": 10,
    "start_time": "2024-03-13T10:04:07.225Z"
   },
   {
    "duration": 14,
    "start_time": "2024-03-13T10:05:03.208Z"
   },
   {
    "duration": 15,
    "start_time": "2024-03-13T10:06:05.716Z"
   },
   {
    "duration": 5,
    "start_time": "2024-03-13T10:07:15.014Z"
   },
   {
    "duration": 10,
    "start_time": "2024-03-13T10:07:26.144Z"
   },
   {
    "duration": 3,
    "start_time": "2024-03-13T10:07:56.025Z"
   },
   {
    "duration": 7,
    "start_time": "2024-03-13T10:07:59.891Z"
   },
   {
    "duration": 4,
    "start_time": "2024-03-13T10:08:01.344Z"
   },
   {
    "duration": 4,
    "start_time": "2024-03-13T10:08:02.432Z"
   },
   {
    "duration": 138,
    "start_time": "2024-03-13T10:08:04.172Z"
   },
   {
    "duration": 9,
    "start_time": "2024-03-13T10:08:11.866Z"
   },
   {
    "duration": 1109,
    "start_time": "2024-03-13T10:08:59.138Z"
   },
   {
    "duration": 103,
    "start_time": "2024-03-13T10:09:00.249Z"
   },
   {
    "duration": 65,
    "start_time": "2024-03-13T10:09:00.354Z"
   },
   {
    "duration": 242,
    "start_time": "2024-03-13T10:09:00.421Z"
   },
   {
    "duration": 58,
    "start_time": "2024-03-13T10:09:00.665Z"
   },
   {
    "duration": 86,
    "start_time": "2024-03-13T10:09:00.724Z"
   },
   {
    "duration": 32,
    "start_time": "2024-03-13T10:09:00.812Z"
   },
   {
    "duration": 47,
    "start_time": "2024-03-13T10:09:00.846Z"
   },
   {
    "duration": 23,
    "start_time": "2024-03-13T10:09:00.904Z"
   },
   {
    "duration": 26,
    "start_time": "2024-03-13T10:09:00.931Z"
   },
   {
    "duration": 54,
    "start_time": "2024-03-13T10:09:00.959Z"
   },
   {
    "duration": 27,
    "start_time": "2024-03-13T10:09:01.014Z"
   },
   {
    "duration": 43,
    "start_time": "2024-03-13T10:09:01.042Z"
   },
   {
    "duration": 60,
    "start_time": "2024-03-13T10:09:01.087Z"
   },
   {
    "duration": 76,
    "start_time": "2024-03-13T10:09:01.148Z"
   },
   {
    "duration": 40,
    "start_time": "2024-03-13T10:09:01.226Z"
   },
   {
    "duration": 46,
    "start_time": "2024-03-13T10:09:01.268Z"
   },
   {
    "duration": 49,
    "start_time": "2024-03-13T10:09:01.317Z"
   },
   {
    "duration": 45,
    "start_time": "2024-03-13T10:09:01.368Z"
   },
   {
    "duration": 49,
    "start_time": "2024-03-13T10:09:01.414Z"
   },
   {
    "duration": 49,
    "start_time": "2024-03-13T10:09:01.465Z"
   },
   {
    "duration": 76,
    "start_time": "2024-03-13T10:09:01.516Z"
   },
   {
    "duration": 84,
    "start_time": "2024-03-13T10:09:01.593Z"
   },
   {
    "duration": 46,
    "start_time": "2024-03-13T10:09:01.678Z"
   },
   {
    "duration": 207,
    "start_time": "2024-03-13T10:09:01.726Z"
   },
   {
    "duration": 5,
    "start_time": "2024-03-13T10:09:01.935Z"
   },
   {
    "duration": 100,
    "start_time": "2024-03-13T10:09:01.942Z"
   },
   {
    "duration": 126,
    "start_time": "2024-03-13T10:09:02.046Z"
   },
   {
    "duration": 5,
    "start_time": "2024-03-13T10:09:02.174Z"
   },
   {
    "duration": 319,
    "start_time": "2024-03-13T10:09:02.181Z"
   },
   {
    "duration": 7,
    "start_time": "2024-03-13T10:09:02.502Z"
   },
   {
    "duration": 52,
    "start_time": "2024-03-13T10:09:02.510Z"
   },
   {
    "duration": 39,
    "start_time": "2024-03-13T10:09:02.563Z"
   },
   {
    "duration": 264,
    "start_time": "2024-03-13T10:09:02.603Z"
   },
   {
    "duration": 19,
    "start_time": "2024-03-13T10:09:02.868Z"
   },
   {
    "duration": 433,
    "start_time": "2024-03-13T10:09:02.888Z"
   },
   {
    "duration": 297,
    "start_time": "2024-03-13T10:09:03.322Z"
   },
   {
    "duration": 282,
    "start_time": "2024-03-13T10:09:03.628Z"
   },
   {
    "duration": 408,
    "start_time": "2024-03-13T10:09:03.916Z"
   },
   {
    "duration": 12,
    "start_time": "2024-03-13T10:09:04.330Z"
   },
   {
    "duration": 281,
    "start_time": "2024-03-13T10:09:04.343Z"
   },
   {
    "duration": 160,
    "start_time": "2024-03-13T10:09:04.628Z"
   },
   {
    "duration": 262,
    "start_time": "2024-03-13T10:09:04.790Z"
   },
   {
    "duration": 147,
    "start_time": "2024-03-13T10:09:05.054Z"
   },
   {
    "duration": 0,
    "start_time": "2024-03-13T10:09:05.203Z"
   },
   {
    "duration": 0,
    "start_time": "2024-03-13T10:09:05.204Z"
   },
   {
    "duration": 0,
    "start_time": "2024-03-13T10:09:05.205Z"
   },
   {
    "duration": 0,
    "start_time": "2024-03-13T10:09:05.207Z"
   },
   {
    "duration": 0,
    "start_time": "2024-03-13T10:09:05.208Z"
   },
   {
    "duration": 0,
    "start_time": "2024-03-13T10:09:05.209Z"
   },
   {
    "duration": 0,
    "start_time": "2024-03-13T10:09:05.211Z"
   },
   {
    "duration": 0,
    "start_time": "2024-03-13T10:09:05.212Z"
   },
   {
    "duration": 0,
    "start_time": "2024-03-13T10:09:05.213Z"
   },
   {
    "duration": 0,
    "start_time": "2024-03-13T10:09:05.215Z"
   },
   {
    "duration": 0,
    "start_time": "2024-03-13T10:09:05.216Z"
   },
   {
    "duration": 0,
    "start_time": "2024-03-13T10:09:05.217Z"
   },
   {
    "duration": 0,
    "start_time": "2024-03-13T10:09:05.219Z"
   },
   {
    "duration": 0,
    "start_time": "2024-03-13T10:09:05.220Z"
   },
   {
    "duration": 0,
    "start_time": "2024-03-13T10:09:05.221Z"
   },
   {
    "duration": 0,
    "start_time": "2024-03-13T10:09:05.222Z"
   },
   {
    "duration": 0,
    "start_time": "2024-03-13T10:09:05.224Z"
   },
   {
    "duration": 0,
    "start_time": "2024-03-13T10:09:05.225Z"
   },
   {
    "duration": 0,
    "start_time": "2024-03-13T10:09:05.226Z"
   },
   {
    "duration": 0,
    "start_time": "2024-03-13T10:09:05.227Z"
   },
   {
    "duration": 0,
    "start_time": "2024-03-13T10:09:05.228Z"
   },
   {
    "duration": 0,
    "start_time": "2024-03-13T10:09:05.229Z"
   },
   {
    "duration": 0,
    "start_time": "2024-03-13T10:09:05.231Z"
   },
   {
    "duration": 0,
    "start_time": "2024-03-13T10:09:05.232Z"
   },
   {
    "duration": 0,
    "start_time": "2024-03-13T10:09:05.233Z"
   },
   {
    "duration": 0,
    "start_time": "2024-03-13T10:09:05.235Z"
   },
   {
    "duration": 0,
    "start_time": "2024-03-13T10:09:05.236Z"
   },
   {
    "duration": 1,
    "start_time": "2024-03-13T10:09:05.237Z"
   },
   {
    "duration": 0,
    "start_time": "2024-03-13T10:09:05.238Z"
   },
   {
    "duration": 0,
    "start_time": "2024-03-13T10:09:05.240Z"
   },
   {
    "duration": 0,
    "start_time": "2024-03-13T10:09:05.241Z"
   },
   {
    "duration": 0,
    "start_time": "2024-03-13T10:09:05.242Z"
   },
   {
    "duration": 0,
    "start_time": "2024-03-13T10:09:05.243Z"
   },
   {
    "duration": 0,
    "start_time": "2024-03-13T10:09:05.245Z"
   },
   {
    "duration": 0,
    "start_time": "2024-03-13T10:09:05.246Z"
   },
   {
    "duration": 0,
    "start_time": "2024-03-13T10:09:05.247Z"
   },
   {
    "duration": 0,
    "start_time": "2024-03-13T10:09:05.298Z"
   },
   {
    "duration": 0,
    "start_time": "2024-03-13T10:09:05.299Z"
   },
   {
    "duration": 0,
    "start_time": "2024-03-13T10:09:05.300Z"
   },
   {
    "duration": 0,
    "start_time": "2024-03-13T10:09:05.301Z"
   },
   {
    "duration": 0,
    "start_time": "2024-03-13T10:09:05.302Z"
   },
   {
    "duration": 0,
    "start_time": "2024-03-13T10:09:05.305Z"
   },
   {
    "duration": 0,
    "start_time": "2024-03-13T10:09:05.307Z"
   },
   {
    "duration": 1123,
    "start_time": "2024-03-13T10:09:29.612Z"
   },
   {
    "duration": 86,
    "start_time": "2024-03-13T10:09:30.737Z"
   },
   {
    "duration": 27,
    "start_time": "2024-03-13T10:09:30.826Z"
   },
   {
    "duration": 92,
    "start_time": "2024-03-13T10:09:30.855Z"
   },
   {
    "duration": 52,
    "start_time": "2024-03-13T10:09:30.949Z"
   },
   {
    "duration": 48,
    "start_time": "2024-03-13T10:09:31.003Z"
   },
   {
    "duration": 84,
    "start_time": "2024-03-13T10:09:31.052Z"
   },
   {
    "duration": 114,
    "start_time": "2024-03-13T10:09:31.138Z"
   },
   {
    "duration": 92,
    "start_time": "2024-03-13T10:09:31.254Z"
   },
   {
    "duration": 45,
    "start_time": "2024-03-13T10:09:31.349Z"
   },
   {
    "duration": 71,
    "start_time": "2024-03-13T10:09:31.396Z"
   },
   {
    "duration": 57,
    "start_time": "2024-03-13T10:09:31.469Z"
   },
   {
    "duration": 36,
    "start_time": "2024-03-13T10:09:31.528Z"
   },
   {
    "duration": 61,
    "start_time": "2024-03-13T10:09:31.565Z"
   },
   {
    "duration": 43,
    "start_time": "2024-03-13T10:09:31.627Z"
   },
   {
    "duration": 52,
    "start_time": "2024-03-13T10:09:31.672Z"
   },
   {
    "duration": 49,
    "start_time": "2024-03-13T10:09:31.725Z"
   },
   {
    "duration": 62,
    "start_time": "2024-03-13T10:09:31.776Z"
   },
   {
    "duration": 48,
    "start_time": "2024-03-13T10:09:31.840Z"
   },
   {
    "duration": 40,
    "start_time": "2024-03-13T10:09:31.890Z"
   },
   {
    "duration": 43,
    "start_time": "2024-03-13T10:09:31.932Z"
   },
   {
    "duration": 61,
    "start_time": "2024-03-13T10:09:31.976Z"
   },
   {
    "duration": 36,
    "start_time": "2024-03-13T10:09:32.039Z"
   },
   {
    "duration": 39,
    "start_time": "2024-03-13T10:09:32.076Z"
   },
   {
    "duration": 218,
    "start_time": "2024-03-13T10:09:32.117Z"
   },
   {
    "duration": 6,
    "start_time": "2024-03-13T10:09:32.336Z"
   },
   {
    "duration": 59,
    "start_time": "2024-03-13T10:09:32.343Z"
   },
   {
    "duration": 141,
    "start_time": "2024-03-13T10:09:32.408Z"
   },
   {
    "duration": 7,
    "start_time": "2024-03-13T10:09:32.551Z"
   },
   {
    "duration": 278,
    "start_time": "2024-03-13T10:09:32.559Z"
   },
   {
    "duration": 5,
    "start_time": "2024-03-13T10:09:32.839Z"
   },
   {
    "duration": 116,
    "start_time": "2024-03-13T10:09:32.846Z"
   },
   {
    "duration": 123,
    "start_time": "2024-03-13T10:09:32.964Z"
   },
   {
    "duration": 290,
    "start_time": "2024-03-13T10:09:33.089Z"
   },
   {
    "duration": 26,
    "start_time": "2024-03-13T10:09:33.381Z"
   },
   {
    "duration": 333,
    "start_time": "2024-03-13T10:09:33.411Z"
   },
   {
    "duration": 301,
    "start_time": "2024-03-13T10:09:33.745Z"
   },
   {
    "duration": 297,
    "start_time": "2024-03-13T10:09:34.047Z"
   },
   {
    "duration": 429,
    "start_time": "2024-03-13T10:09:34.345Z"
   },
   {
    "duration": 8,
    "start_time": "2024-03-13T10:09:34.775Z"
   },
   {
    "duration": 253,
    "start_time": "2024-03-13T10:09:34.784Z"
   },
   {
    "duration": 191,
    "start_time": "2024-03-13T10:09:35.039Z"
   },
   {
    "duration": 183,
    "start_time": "2024-03-13T10:09:35.231Z"
   },
   {
    "duration": 5,
    "start_time": "2024-03-13T10:09:35.416Z"
   },
   {
    "duration": 126,
    "start_time": "2024-03-13T10:09:35.422Z"
   },
   {
    "duration": 0,
    "start_time": "2024-03-13T10:09:35.549Z"
   },
   {
    "duration": 0,
    "start_time": "2024-03-13T10:09:35.550Z"
   },
   {
    "duration": 0,
    "start_time": "2024-03-13T10:09:35.551Z"
   },
   {
    "duration": 0,
    "start_time": "2024-03-13T10:09:35.552Z"
   },
   {
    "duration": 0,
    "start_time": "2024-03-13T10:09:35.553Z"
   },
   {
    "duration": 0,
    "start_time": "2024-03-13T10:09:35.554Z"
   },
   {
    "duration": 0,
    "start_time": "2024-03-13T10:09:35.555Z"
   },
   {
    "duration": 0,
    "start_time": "2024-03-13T10:09:35.556Z"
   },
   {
    "duration": 0,
    "start_time": "2024-03-13T10:09:35.557Z"
   },
   {
    "duration": 0,
    "start_time": "2024-03-13T10:09:35.558Z"
   },
   {
    "duration": 0,
    "start_time": "2024-03-13T10:09:35.558Z"
   },
   {
    "duration": 0,
    "start_time": "2024-03-13T10:09:35.559Z"
   },
   {
    "duration": 0,
    "start_time": "2024-03-13T10:09:35.561Z"
   },
   {
    "duration": 0,
    "start_time": "2024-03-13T10:09:35.562Z"
   },
   {
    "duration": 0,
    "start_time": "2024-03-13T10:09:35.563Z"
   },
   {
    "duration": 0,
    "start_time": "2024-03-13T10:09:35.564Z"
   },
   {
    "duration": 0,
    "start_time": "2024-03-13T10:09:35.564Z"
   },
   {
    "duration": 0,
    "start_time": "2024-03-13T10:09:35.565Z"
   },
   {
    "duration": 1,
    "start_time": "2024-03-13T10:09:35.593Z"
   },
   {
    "duration": 0,
    "start_time": "2024-03-13T10:09:35.594Z"
   },
   {
    "duration": 0,
    "start_time": "2024-03-13T10:09:35.596Z"
   },
   {
    "duration": 0,
    "start_time": "2024-03-13T10:09:35.597Z"
   },
   {
    "duration": 0,
    "start_time": "2024-03-13T10:09:35.597Z"
   },
   {
    "duration": 0,
    "start_time": "2024-03-13T10:09:35.601Z"
   },
   {
    "duration": 0,
    "start_time": "2024-03-13T10:09:35.606Z"
   },
   {
    "duration": 0,
    "start_time": "2024-03-13T10:09:35.607Z"
   },
   {
    "duration": 0,
    "start_time": "2024-03-13T10:09:35.608Z"
   },
   {
    "duration": 0,
    "start_time": "2024-03-13T10:09:35.608Z"
   },
   {
    "duration": 0,
    "start_time": "2024-03-13T10:09:35.609Z"
   },
   {
    "duration": 0,
    "start_time": "2024-03-13T10:09:35.609Z"
   },
   {
    "duration": 0,
    "start_time": "2024-03-13T10:09:35.610Z"
   },
   {
    "duration": 0,
    "start_time": "2024-03-13T10:09:35.611Z"
   },
   {
    "duration": 0,
    "start_time": "2024-03-13T10:09:35.611Z"
   },
   {
    "duration": 0,
    "start_time": "2024-03-13T10:09:35.612Z"
   },
   {
    "duration": 0,
    "start_time": "2024-03-13T10:09:35.612Z"
   },
   {
    "duration": 0,
    "start_time": "2024-03-13T10:09:35.619Z"
   },
   {
    "duration": 0,
    "start_time": "2024-03-13T10:09:35.620Z"
   },
   {
    "duration": 0,
    "start_time": "2024-03-13T10:09:35.621Z"
   },
   {
    "duration": 0,
    "start_time": "2024-03-13T10:09:35.621Z"
   },
   {
    "duration": 0,
    "start_time": "2024-03-13T10:09:35.622Z"
   },
   {
    "duration": 0,
    "start_time": "2024-03-13T10:09:35.622Z"
   },
   {
    "duration": 4,
    "start_time": "2024-03-13T10:10:06.956Z"
   },
   {
    "duration": 3,
    "start_time": "2024-03-13T10:10:08.416Z"
   },
   {
    "duration": 8,
    "start_time": "2024-03-13T10:10:14.784Z"
   },
   {
    "duration": 11,
    "start_time": "2024-03-13T10:10:20.278Z"
   },
   {
    "duration": 24,
    "start_time": "2024-03-13T10:10:23.379Z"
   },
   {
    "duration": 14,
    "start_time": "2024-03-13T10:10:25.746Z"
   },
   {
    "duration": 116,
    "start_time": "2024-03-13T10:10:27.719Z"
   },
   {
    "duration": 5,
    "start_time": "2024-03-13T10:10:56.277Z"
   },
   {
    "duration": 14,
    "start_time": "2024-03-13T10:10:59.570Z"
   },
   {
    "duration": 10,
    "start_time": "2024-03-13T10:11:34.730Z"
   },
   {
    "duration": 9,
    "start_time": "2024-03-13T10:11:43.420Z"
   },
   {
    "duration": 13,
    "start_time": "2024-03-13T10:11:46.320Z"
   },
   {
    "duration": 14,
    "start_time": "2024-03-13T10:11:48.225Z"
   },
   {
    "duration": 3,
    "start_time": "2024-03-13T10:11:50.285Z"
   },
   {
    "duration": 10,
    "start_time": "2024-03-13T10:11:51.449Z"
   },
   {
    "duration": 152,
    "start_time": "2024-03-13T10:12:30.391Z"
   },
   {
    "duration": 15,
    "start_time": "2024-03-13T10:12:38.377Z"
   },
   {
    "duration": 98,
    "start_time": "2024-03-13T10:12:56.474Z"
   },
   {
    "duration": 1123,
    "start_time": "2024-03-13T10:13:27.058Z"
   },
   {
    "duration": 83,
    "start_time": "2024-03-13T10:13:28.183Z"
   },
   {
    "duration": 31,
    "start_time": "2024-03-13T10:13:28.267Z"
   },
   {
    "duration": 16,
    "start_time": "2024-03-13T10:13:28.300Z"
   },
   {
    "duration": 56,
    "start_time": "2024-03-13T10:13:28.317Z"
   },
   {
    "duration": 26,
    "start_time": "2024-03-13T10:13:28.374Z"
   },
   {
    "duration": 41,
    "start_time": "2024-03-13T10:13:28.402Z"
   },
   {
    "duration": 11,
    "start_time": "2024-03-13T10:13:28.444Z"
   },
   {
    "duration": 26,
    "start_time": "2024-03-13T10:13:28.457Z"
   },
   {
    "duration": 13,
    "start_time": "2024-03-13T10:13:28.485Z"
   },
   {
    "duration": 23,
    "start_time": "2024-03-13T10:13:28.501Z"
   },
   {
    "duration": 14,
    "start_time": "2024-03-13T10:13:28.525Z"
   },
   {
    "duration": 16,
    "start_time": "2024-03-13T10:13:28.541Z"
   },
   {
    "duration": 28,
    "start_time": "2024-03-13T10:13:28.558Z"
   },
   {
    "duration": 24,
    "start_time": "2024-03-13T10:13:28.587Z"
   },
   {
    "duration": 10,
    "start_time": "2024-03-13T10:13:28.612Z"
   },
   {
    "duration": 11,
    "start_time": "2024-03-13T10:13:28.624Z"
   },
   {
    "duration": 17,
    "start_time": "2024-03-13T10:13:28.637Z"
   },
   {
    "duration": 11,
    "start_time": "2024-03-13T10:13:28.655Z"
   },
   {
    "duration": 7,
    "start_time": "2024-03-13T10:13:28.668Z"
   },
   {
    "duration": 9,
    "start_time": "2024-03-13T10:13:28.677Z"
   },
   {
    "duration": 22,
    "start_time": "2024-03-13T10:13:28.687Z"
   },
   {
    "duration": 19,
    "start_time": "2024-03-13T10:13:28.710Z"
   },
   {
    "duration": 17,
    "start_time": "2024-03-13T10:13:28.731Z"
   },
   {
    "duration": 195,
    "start_time": "2024-03-13T10:13:28.750Z"
   },
   {
    "duration": 5,
    "start_time": "2024-03-13T10:13:28.947Z"
   },
   {
    "duration": 19,
    "start_time": "2024-03-13T10:13:28.953Z"
   },
   {
    "duration": 113,
    "start_time": "2024-03-13T10:13:28.977Z"
   },
   {
    "duration": 8,
    "start_time": "2024-03-13T10:13:29.092Z"
   },
   {
    "duration": 269,
    "start_time": "2024-03-13T10:13:29.104Z"
   },
   {
    "duration": 5,
    "start_time": "2024-03-13T10:13:29.375Z"
   },
   {
    "duration": 46,
    "start_time": "2024-03-13T10:13:29.382Z"
   },
   {
    "duration": 59,
    "start_time": "2024-03-13T10:13:29.431Z"
   },
   {
    "duration": 221,
    "start_time": "2024-03-13T10:13:29.492Z"
   },
   {
    "duration": 8,
    "start_time": "2024-03-13T10:13:29.714Z"
   },
   {
    "duration": 332,
    "start_time": "2024-03-13T10:13:29.724Z"
   },
   {
    "duration": 285,
    "start_time": "2024-03-13T10:13:30.057Z"
   },
   {
    "duration": 280,
    "start_time": "2024-03-13T10:13:30.344Z"
   },
   {
    "duration": 383,
    "start_time": "2024-03-13T10:13:30.626Z"
   },
   {
    "duration": 8,
    "start_time": "2024-03-13T10:13:31.011Z"
   },
   {
    "duration": 255,
    "start_time": "2024-03-13T10:13:31.020Z"
   },
   {
    "duration": 184,
    "start_time": "2024-03-13T10:13:31.276Z"
   },
   {
    "duration": 271,
    "start_time": "2024-03-13T10:13:31.461Z"
   },
   {
    "duration": 3,
    "start_time": "2024-03-13T10:13:31.734Z"
   },
   {
    "duration": 62,
    "start_time": "2024-03-13T10:13:31.739Z"
   },
   {
    "duration": 31,
    "start_time": "2024-03-13T10:13:31.803Z"
   },
   {
    "duration": 70,
    "start_time": "2024-03-13T10:13:31.835Z"
   },
   {
    "duration": 44,
    "start_time": "2024-03-13T10:13:31.909Z"
   },
   {
    "duration": 68,
    "start_time": "2024-03-13T10:13:31.955Z"
   },
   {
    "duration": 23,
    "start_time": "2024-03-13T10:13:32.025Z"
   },
   {
    "duration": 48,
    "start_time": "2024-03-13T10:13:32.050Z"
   },
   {
    "duration": 36,
    "start_time": "2024-03-13T10:13:32.100Z"
   },
   {
    "duration": 29,
    "start_time": "2024-03-13T10:13:32.138Z"
   },
   {
    "duration": 51,
    "start_time": "2024-03-13T10:13:32.169Z"
   },
   {
    "duration": 37,
    "start_time": "2024-03-13T10:13:32.222Z"
   },
   {
    "duration": 32,
    "start_time": "2024-03-13T10:13:32.261Z"
   },
   {
    "duration": 22,
    "start_time": "2024-03-13T10:13:32.301Z"
   },
   {
    "duration": 21,
    "start_time": "2024-03-13T10:13:32.325Z"
   },
   {
    "duration": 334,
    "start_time": "2024-03-13T10:13:32.348Z"
   },
   {
    "duration": 14,
    "start_time": "2024-03-13T10:13:32.684Z"
   },
   {
    "duration": 301,
    "start_time": "2024-03-13T10:13:32.699Z"
   },
   {
    "duration": 27,
    "start_time": "2024-03-13T10:13:33.005Z"
   },
   {
    "duration": 108,
    "start_time": "2024-03-13T10:13:33.034Z"
   },
   {
    "duration": 0,
    "start_time": "2024-03-13T10:13:33.144Z"
   },
   {
    "duration": 0,
    "start_time": "2024-03-13T10:13:33.146Z"
   },
   {
    "duration": 0,
    "start_time": "2024-03-13T10:13:33.147Z"
   },
   {
    "duration": 0,
    "start_time": "2024-03-13T10:13:33.148Z"
   },
   {
    "duration": 0,
    "start_time": "2024-03-13T10:13:33.149Z"
   },
   {
    "duration": 0,
    "start_time": "2024-03-13T10:13:33.151Z"
   },
   {
    "duration": 0,
    "start_time": "2024-03-13T10:13:33.152Z"
   },
   {
    "duration": 0,
    "start_time": "2024-03-13T10:13:33.153Z"
   },
   {
    "duration": 0,
    "start_time": "2024-03-13T10:13:33.153Z"
   },
   {
    "duration": 0,
    "start_time": "2024-03-13T10:13:33.155Z"
   },
   {
    "duration": 0,
    "start_time": "2024-03-13T10:13:33.156Z"
   },
   {
    "duration": 0,
    "start_time": "2024-03-13T10:13:33.156Z"
   },
   {
    "duration": 0,
    "start_time": "2024-03-13T10:13:33.158Z"
   },
   {
    "duration": 0,
    "start_time": "2024-03-13T10:13:33.159Z"
   },
   {
    "duration": 0,
    "start_time": "2024-03-13T10:13:33.160Z"
   },
   {
    "duration": 0,
    "start_time": "2024-03-13T10:13:33.161Z"
   },
   {
    "duration": 0,
    "start_time": "2024-03-13T10:13:33.162Z"
   },
   {
    "duration": 0,
    "start_time": "2024-03-13T10:13:33.163Z"
   },
   {
    "duration": 0,
    "start_time": "2024-03-13T10:13:33.164Z"
   },
   {
    "duration": 0,
    "start_time": "2024-03-13T10:13:33.165Z"
   },
   {
    "duration": 0,
    "start_time": "2024-03-13T10:13:33.166Z"
   },
   {
    "duration": 0,
    "start_time": "2024-03-13T10:13:33.167Z"
   },
   {
    "duration": 1142,
    "start_time": "2024-03-13T10:13:46.625Z"
   },
   {
    "duration": 87,
    "start_time": "2024-03-13T10:13:47.769Z"
   },
   {
    "duration": 29,
    "start_time": "2024-03-13T10:13:47.858Z"
   },
   {
    "duration": 32,
    "start_time": "2024-03-13T10:13:47.889Z"
   },
   {
    "duration": 3,
    "start_time": "2024-03-13T10:13:47.923Z"
   },
   {
    "duration": 20,
    "start_time": "2024-03-13T10:13:47.927Z"
   },
   {
    "duration": 26,
    "start_time": "2024-03-13T10:13:47.948Z"
   },
   {
    "duration": 18,
    "start_time": "2024-03-13T10:13:47.975Z"
   },
   {
    "duration": 34,
    "start_time": "2024-03-13T10:13:48.001Z"
   },
   {
    "duration": 28,
    "start_time": "2024-03-13T10:13:48.037Z"
   },
   {
    "duration": 23,
    "start_time": "2024-03-13T10:13:48.066Z"
   },
   {
    "duration": 26,
    "start_time": "2024-03-13T10:13:48.091Z"
   },
   {
    "duration": 15,
    "start_time": "2024-03-13T10:13:48.119Z"
   },
   {
    "duration": 41,
    "start_time": "2024-03-13T10:13:48.136Z"
   },
   {
    "duration": 24,
    "start_time": "2024-03-13T10:13:48.179Z"
   },
   {
    "duration": 58,
    "start_time": "2024-03-13T10:13:48.206Z"
   },
   {
    "duration": 48,
    "start_time": "2024-03-13T10:13:48.266Z"
   },
   {
    "duration": 20,
    "start_time": "2024-03-13T10:13:48.316Z"
   },
   {
    "duration": 13,
    "start_time": "2024-03-13T10:13:48.338Z"
   },
   {
    "duration": 23,
    "start_time": "2024-03-13T10:13:48.353Z"
   },
   {
    "duration": 22,
    "start_time": "2024-03-13T10:13:48.379Z"
   },
   {
    "duration": 22,
    "start_time": "2024-03-13T10:13:48.403Z"
   },
   {
    "duration": 14,
    "start_time": "2024-03-13T10:13:48.427Z"
   },
   {
    "duration": 21,
    "start_time": "2024-03-13T10:13:48.442Z"
   },
   {
    "duration": 196,
    "start_time": "2024-03-13T10:13:48.465Z"
   },
   {
    "duration": 5,
    "start_time": "2024-03-13T10:13:48.663Z"
   },
   {
    "duration": 42,
    "start_time": "2024-03-13T10:13:48.670Z"
   },
   {
    "duration": 135,
    "start_time": "2024-03-13T10:13:48.717Z"
   },
   {
    "duration": 6,
    "start_time": "2024-03-13T10:13:48.854Z"
   },
   {
    "duration": 274,
    "start_time": "2024-03-13T10:13:48.861Z"
   },
   {
    "duration": 5,
    "start_time": "2024-03-13T10:13:49.136Z"
   },
   {
    "duration": 26,
    "start_time": "2024-03-13T10:13:49.142Z"
   },
   {
    "duration": 33,
    "start_time": "2024-03-13T10:13:49.169Z"
   },
   {
    "duration": 181,
    "start_time": "2024-03-13T10:13:49.203Z"
   },
   {
    "duration": 26,
    "start_time": "2024-03-13T10:13:49.386Z"
   },
   {
    "duration": 349,
    "start_time": "2024-03-13T10:13:49.414Z"
   },
   {
    "duration": 291,
    "start_time": "2024-03-13T10:13:49.765Z"
   },
   {
    "duration": 302,
    "start_time": "2024-03-13T10:13:50.058Z"
   },
   {
    "duration": 369,
    "start_time": "2024-03-13T10:13:50.362Z"
   },
   {
    "duration": 9,
    "start_time": "2024-03-13T10:13:50.732Z"
   },
   {
    "duration": 253,
    "start_time": "2024-03-13T10:13:50.743Z"
   },
   {
    "duration": 173,
    "start_time": "2024-03-13T10:13:50.998Z"
   },
   {
    "duration": 179,
    "start_time": "2024-03-13T10:13:51.173Z"
   },
   {
    "duration": 4,
    "start_time": "2024-03-13T10:13:51.354Z"
   },
   {
    "duration": 30,
    "start_time": "2024-03-13T10:13:51.359Z"
   },
   {
    "duration": 39,
    "start_time": "2024-03-13T10:13:51.391Z"
   },
   {
    "duration": 42,
    "start_time": "2024-03-13T10:13:51.432Z"
   },
   {
    "duration": 40,
    "start_time": "2024-03-13T10:13:51.475Z"
   },
   {
    "duration": 36,
    "start_time": "2024-03-13T10:13:51.518Z"
   },
   {
    "duration": 32,
    "start_time": "2024-03-13T10:13:51.555Z"
   },
   {
    "duration": 50,
    "start_time": "2024-03-13T10:13:51.589Z"
   },
   {
    "duration": 37,
    "start_time": "2024-03-13T10:13:51.640Z"
   },
   {
    "duration": 36,
    "start_time": "2024-03-13T10:13:51.678Z"
   },
   {
    "duration": 33,
    "start_time": "2024-03-13T10:13:51.716Z"
   },
   {
    "duration": 36,
    "start_time": "2024-03-13T10:13:51.750Z"
   },
   {
    "duration": 50,
    "start_time": "2024-03-13T10:13:51.787Z"
   },
   {
    "duration": 36,
    "start_time": "2024-03-13T10:13:51.840Z"
   },
   {
    "duration": 43,
    "start_time": "2024-03-13T10:13:51.877Z"
   },
   {
    "duration": 321,
    "start_time": "2024-03-13T10:13:51.921Z"
   },
   {
    "duration": 8,
    "start_time": "2024-03-13T10:13:52.243Z"
   },
   {
    "duration": 328,
    "start_time": "2024-03-13T10:13:52.252Z"
   },
   {
    "duration": 18,
    "start_time": "2024-03-13T10:13:52.582Z"
   },
   {
    "duration": 214,
    "start_time": "2024-03-13T10:13:52.603Z"
   },
   {
    "duration": 393,
    "start_time": "2024-03-13T10:13:52.819Z"
   },
   {
    "duration": 8,
    "start_time": "2024-03-13T10:13:53.214Z"
   },
   {
    "duration": 328,
    "start_time": "2024-03-13T10:13:53.224Z"
   },
   {
    "duration": 11,
    "start_time": "2024-03-13T10:13:53.553Z"
   },
   {
    "duration": 198,
    "start_time": "2024-03-13T10:13:53.565Z"
   },
   {
    "duration": 39,
    "start_time": "2024-03-13T10:13:53.765Z"
   },
   {
    "duration": 15,
    "start_time": "2024-03-13T10:13:53.806Z"
   },
   {
    "duration": 39,
    "start_time": "2024-03-13T10:13:53.822Z"
   },
   {
    "duration": 21,
    "start_time": "2024-03-13T10:13:53.862Z"
   },
   {
    "duration": 40,
    "start_time": "2024-03-13T10:13:53.886Z"
   },
   {
    "duration": 31,
    "start_time": "2024-03-13T10:13:53.928Z"
   },
   {
    "duration": 55,
    "start_time": "2024-03-13T10:13:53.960Z"
   },
   {
    "duration": 35,
    "start_time": "2024-03-13T10:13:54.016Z"
   },
   {
    "duration": 40,
    "start_time": "2024-03-13T10:13:54.053Z"
   },
   {
    "duration": 61,
    "start_time": "2024-03-13T10:13:54.095Z"
   },
   {
    "duration": 13,
    "start_time": "2024-03-13T10:13:54.157Z"
   },
   {
    "duration": 43,
    "start_time": "2024-03-13T10:13:54.171Z"
   },
   {
    "duration": 28,
    "start_time": "2024-03-13T10:13:54.216Z"
   },
   {
    "duration": 1934,
    "start_time": "2024-03-13T10:13:54.249Z"
   },
   {
    "duration": 12,
    "start_time": "2024-03-13T10:13:56.185Z"
   },
   {
    "duration": 35972,
    "start_time": "2024-03-13T10:13:56.201Z"
   },
   {
    "duration": 98,
    "start_time": "2024-03-13T10:18:56.470Z"
   },
   {
    "duration": 106,
    "start_time": "2024-03-13T10:23:51.314Z"
   },
   {
    "duration": 21,
    "start_time": "2024-03-13T10:25:32.708Z"
   },
   {
    "duration": 20,
    "start_time": "2024-03-13T10:25:55.297Z"
   },
   {
    "duration": 16,
    "start_time": "2024-03-13T10:25:59.735Z"
   },
   {
    "duration": 1178,
    "start_time": "2024-03-13T10:26:11.638Z"
   },
   {
    "duration": 92,
    "start_time": "2024-03-13T10:26:12.818Z"
   },
   {
    "duration": 29,
    "start_time": "2024-03-13T10:26:12.913Z"
   },
   {
    "duration": 15,
    "start_time": "2024-03-13T10:26:12.945Z"
   },
   {
    "duration": 19,
    "start_time": "2024-03-13T10:26:12.961Z"
   },
   {
    "duration": 43,
    "start_time": "2024-03-13T10:26:12.982Z"
   },
   {
    "duration": 12,
    "start_time": "2024-03-13T10:26:13.027Z"
   },
   {
    "duration": 12,
    "start_time": "2024-03-13T10:26:13.041Z"
   },
   {
    "duration": 7,
    "start_time": "2024-03-13T10:26:13.054Z"
   },
   {
    "duration": 9,
    "start_time": "2024-03-13T10:26:13.064Z"
   },
   {
    "duration": 12,
    "start_time": "2024-03-13T10:26:13.074Z"
   },
   {
    "duration": 17,
    "start_time": "2024-03-13T10:26:13.088Z"
   },
   {
    "duration": 11,
    "start_time": "2024-03-13T10:26:13.108Z"
   },
   {
    "duration": 14,
    "start_time": "2024-03-13T10:26:13.121Z"
   },
   {
    "duration": 6,
    "start_time": "2024-03-13T10:26:13.137Z"
   },
   {
    "duration": 7,
    "start_time": "2024-03-13T10:26:13.145Z"
   },
   {
    "duration": 5,
    "start_time": "2024-03-13T10:26:13.154Z"
   },
   {
    "duration": 7,
    "start_time": "2024-03-13T10:26:13.161Z"
   },
   {
    "duration": 36,
    "start_time": "2024-03-13T10:26:13.170Z"
   },
   {
    "duration": 5,
    "start_time": "2024-03-13T10:26:13.209Z"
   },
   {
    "duration": 11,
    "start_time": "2024-03-13T10:26:13.215Z"
   },
   {
    "duration": 7,
    "start_time": "2024-03-13T10:26:13.228Z"
   },
   {
    "duration": 14,
    "start_time": "2024-03-13T10:26:13.236Z"
   },
   {
    "duration": 13,
    "start_time": "2024-03-13T10:26:13.251Z"
   },
   {
    "duration": 190,
    "start_time": "2024-03-13T10:26:13.266Z"
   },
   {
    "duration": 6,
    "start_time": "2024-03-13T10:26:13.458Z"
   },
   {
    "duration": 7,
    "start_time": "2024-03-13T10:26:13.465Z"
   },
   {
    "duration": 127,
    "start_time": "2024-03-13T10:26:13.476Z"
   },
   {
    "duration": 9,
    "start_time": "2024-03-13T10:26:13.604Z"
   },
   {
    "duration": 223,
    "start_time": "2024-03-13T10:26:13.614Z"
   },
   {
    "duration": 4,
    "start_time": "2024-03-13T10:26:13.839Z"
   },
   {
    "duration": 13,
    "start_time": "2024-03-13T10:26:13.844Z"
   },
   {
    "duration": 10,
    "start_time": "2024-03-13T10:26:13.859Z"
   },
   {
    "duration": 205,
    "start_time": "2024-03-13T10:26:13.871Z"
   },
   {
    "duration": 9,
    "start_time": "2024-03-13T10:26:14.077Z"
   },
   {
    "duration": 347,
    "start_time": "2024-03-13T10:26:14.093Z"
   },
   {
    "duration": 292,
    "start_time": "2024-03-13T10:26:14.441Z"
   },
   {
    "duration": 291,
    "start_time": "2024-03-13T10:26:14.734Z"
   },
   {
    "duration": 361,
    "start_time": "2024-03-13T10:26:15.026Z"
   },
   {
    "duration": 12,
    "start_time": "2024-03-13T10:26:15.389Z"
   },
   {
    "duration": 286,
    "start_time": "2024-03-13T10:26:15.403Z"
   },
   {
    "duration": 167,
    "start_time": "2024-03-13T10:26:15.691Z"
   },
   {
    "duration": 188,
    "start_time": "2024-03-13T10:26:15.860Z"
   },
   {
    "duration": 4,
    "start_time": "2024-03-13T10:26:16.050Z"
   },
   {
    "duration": 20,
    "start_time": "2024-03-13T10:26:16.055Z"
   },
   {
    "duration": 11,
    "start_time": "2024-03-13T10:26:16.077Z"
   },
   {
    "duration": 25,
    "start_time": "2024-03-13T10:26:16.090Z"
   },
   {
    "duration": 14,
    "start_time": "2024-03-13T10:26:16.117Z"
   },
   {
    "duration": 33,
    "start_time": "2024-03-13T10:26:16.133Z"
   },
   {
    "duration": 39,
    "start_time": "2024-03-13T10:26:16.168Z"
   },
   {
    "duration": 44,
    "start_time": "2024-03-13T10:26:16.209Z"
   },
   {
    "duration": 14,
    "start_time": "2024-03-13T10:26:16.255Z"
   },
   {
    "duration": 51,
    "start_time": "2024-03-13T10:26:16.270Z"
   },
   {
    "duration": 99,
    "start_time": "2024-03-13T10:26:16.322Z"
   },
   {
    "duration": 11,
    "start_time": "2024-03-13T10:26:16.422Z"
   },
   {
    "duration": 35,
    "start_time": "2024-03-13T10:26:16.435Z"
   },
   {
    "duration": 17,
    "start_time": "2024-03-13T10:26:16.471Z"
   },
   {
    "duration": 32,
    "start_time": "2024-03-13T10:26:16.490Z"
   },
   {
    "duration": 342,
    "start_time": "2024-03-13T10:26:16.523Z"
   },
   {
    "duration": 8,
    "start_time": "2024-03-13T10:26:16.867Z"
   },
   {
    "duration": 310,
    "start_time": "2024-03-13T10:26:16.877Z"
   },
   {
    "duration": 9,
    "start_time": "2024-03-13T10:26:17.193Z"
   },
   {
    "duration": 268,
    "start_time": "2024-03-13T10:26:17.203Z"
   },
   {
    "duration": 411,
    "start_time": "2024-03-13T10:26:17.473Z"
   },
   {
    "duration": 22,
    "start_time": "2024-03-13T10:26:17.885Z"
   },
   {
    "duration": 335,
    "start_time": "2024-03-13T10:26:17.908Z"
   },
   {
    "duration": 8,
    "start_time": "2024-03-13T10:26:18.245Z"
   },
   {
    "duration": 206,
    "start_time": "2024-03-13T10:26:18.254Z"
   },
   {
    "duration": 108,
    "start_time": "2024-03-13T10:26:18.461Z"
   },
   {
    "duration": 0,
    "start_time": "2024-03-13T10:26:18.571Z"
   },
   {
    "duration": 0,
    "start_time": "2024-03-13T10:26:18.572Z"
   },
   {
    "duration": 0,
    "start_time": "2024-03-13T10:26:18.573Z"
   },
   {
    "duration": 0,
    "start_time": "2024-03-13T10:26:18.574Z"
   },
   {
    "duration": 0,
    "start_time": "2024-03-13T10:26:18.576Z"
   },
   {
    "duration": 0,
    "start_time": "2024-03-13T10:26:18.577Z"
   },
   {
    "duration": 1,
    "start_time": "2024-03-13T10:26:18.577Z"
   },
   {
    "duration": 0,
    "start_time": "2024-03-13T10:26:18.578Z"
   },
   {
    "duration": 0,
    "start_time": "2024-03-13T10:26:18.593Z"
   },
   {
    "duration": 0,
    "start_time": "2024-03-13T10:26:18.594Z"
   },
   {
    "duration": 0,
    "start_time": "2024-03-13T10:26:18.595Z"
   },
   {
    "duration": 0,
    "start_time": "2024-03-13T10:26:18.595Z"
   },
   {
    "duration": 0,
    "start_time": "2024-03-13T10:26:18.596Z"
   },
   {
    "duration": 1,
    "start_time": "2024-03-13T10:26:18.597Z"
   },
   {
    "duration": 0,
    "start_time": "2024-03-13T10:26:18.598Z"
   },
   {
    "duration": 5,
    "start_time": "2024-03-13T10:27:37.327Z"
   },
   {
    "duration": 39,
    "start_time": "2024-03-13T10:27:57.275Z"
   },
   {
    "duration": 18,
    "start_time": "2024-03-13T10:28:04.131Z"
   },
   {
    "duration": 9,
    "start_time": "2024-03-13T10:28:06.972Z"
   },
   {
    "duration": 25,
    "start_time": "2024-03-13T10:28:18.455Z"
   },
   {
    "duration": 15,
    "start_time": "2024-03-13T10:28:22.853Z"
   },
   {
    "duration": 9,
    "start_time": "2024-03-13T10:28:28.966Z"
   },
   {
    "duration": 4,
    "start_time": "2024-03-13T10:28:30.762Z"
   },
   {
    "duration": 13,
    "start_time": "2024-03-13T10:28:32.807Z"
   },
   {
    "duration": 15,
    "start_time": "2024-03-13T10:29:04.123Z"
   },
   {
    "duration": 98,
    "start_time": "2024-03-13T10:39:39.955Z"
   },
   {
    "duration": 149,
    "start_time": "2024-03-13T10:58:35.144Z"
   },
   {
    "duration": 5472,
    "start_time": "2024-03-13T10:58:44.944Z"
   },
   {
    "duration": 621,
    "start_time": "2024-03-13T10:59:42.578Z"
   },
   {
    "duration": 840,
    "start_time": "2024-03-13T11:00:55.720Z"
   },
   {
    "duration": 31,
    "start_time": "2024-03-13T11:01:06.261Z"
   },
   {
    "duration": 845,
    "start_time": "2024-03-13T11:01:27.174Z"
   },
   {
    "duration": 832,
    "start_time": "2024-03-13T11:01:37.972Z"
   },
   {
    "duration": 113,
    "start_time": "2024-03-13T11:02:57.110Z"
   },
   {
    "duration": 662,
    "start_time": "2024-03-13T11:03:02.987Z"
   },
   {
    "duration": 298,
    "start_time": "2024-03-13T11:03:13.965Z"
   },
   {
    "duration": 308,
    "start_time": "2024-03-13T11:03:40.366Z"
   },
   {
    "duration": 266,
    "start_time": "2024-03-13T11:04:00.914Z"
   },
   {
    "duration": 258,
    "start_time": "2024-03-13T11:04:56.192Z"
   },
   {
    "duration": 107,
    "start_time": "2024-03-13T11:07:43.047Z"
   },
   {
    "duration": 1936,
    "start_time": "2024-03-13T11:08:30.933Z"
   },
   {
    "duration": 107,
    "start_time": "2024-03-13T11:15:27.624Z"
   },
   {
    "duration": 1119,
    "start_time": "2024-03-13T11:16:10.154Z"
   },
   {
    "duration": 85,
    "start_time": "2024-03-13T11:16:11.274Z"
   },
   {
    "duration": 28,
    "start_time": "2024-03-13T11:16:11.360Z"
   },
   {
    "duration": 36,
    "start_time": "2024-03-13T11:16:11.390Z"
   },
   {
    "duration": 8,
    "start_time": "2024-03-13T11:16:11.427Z"
   },
   {
    "duration": 46,
    "start_time": "2024-03-13T11:16:11.436Z"
   },
   {
    "duration": 47,
    "start_time": "2024-03-13T11:16:11.484Z"
   },
   {
    "duration": 24,
    "start_time": "2024-03-13T11:16:11.538Z"
   },
   {
    "duration": 36,
    "start_time": "2024-03-13T11:16:11.564Z"
   },
   {
    "duration": 36,
    "start_time": "2024-03-13T11:16:11.604Z"
   },
   {
    "duration": 25,
    "start_time": "2024-03-13T11:16:11.642Z"
   },
   {
    "duration": 44,
    "start_time": "2024-03-13T11:16:11.668Z"
   },
   {
    "duration": 20,
    "start_time": "2024-03-13T11:16:11.716Z"
   },
   {
    "duration": 31,
    "start_time": "2024-03-13T11:16:11.737Z"
   },
   {
    "duration": 30,
    "start_time": "2024-03-13T11:16:11.769Z"
   },
   {
    "duration": 24,
    "start_time": "2024-03-13T11:16:11.800Z"
   },
   {
    "duration": 33,
    "start_time": "2024-03-13T11:16:11.825Z"
   },
   {
    "duration": 34,
    "start_time": "2024-03-13T11:16:11.859Z"
   },
   {
    "duration": 29,
    "start_time": "2024-03-13T11:16:11.904Z"
   },
   {
    "duration": 17,
    "start_time": "2024-03-13T11:16:11.935Z"
   },
   {
    "duration": 30,
    "start_time": "2024-03-13T11:16:11.954Z"
   },
   {
    "duration": 23,
    "start_time": "2024-03-13T11:16:11.986Z"
   },
   {
    "duration": 26,
    "start_time": "2024-03-13T11:16:12.011Z"
   },
   {
    "duration": 17,
    "start_time": "2024-03-13T11:16:12.039Z"
   },
   {
    "duration": 214,
    "start_time": "2024-03-13T11:16:12.058Z"
   },
   {
    "duration": 6,
    "start_time": "2024-03-13T11:16:12.273Z"
   },
   {
    "duration": 36,
    "start_time": "2024-03-13T11:16:12.280Z"
   },
   {
    "duration": 133,
    "start_time": "2024-03-13T11:16:12.324Z"
   },
   {
    "duration": 7,
    "start_time": "2024-03-13T11:16:12.459Z"
   },
   {
    "duration": 268,
    "start_time": "2024-03-13T11:16:12.467Z"
   },
   {
    "duration": 4,
    "start_time": "2024-03-13T11:16:12.737Z"
   },
   {
    "duration": 31,
    "start_time": "2024-03-13T11:16:12.743Z"
   },
   {
    "duration": 54,
    "start_time": "2024-03-13T11:16:12.775Z"
   },
   {
    "duration": 251,
    "start_time": "2024-03-13T11:16:12.832Z"
   },
   {
    "duration": 13,
    "start_time": "2024-03-13T11:16:13.084Z"
   },
   {
    "duration": 368,
    "start_time": "2024-03-13T11:16:13.101Z"
   },
   {
    "duration": 294,
    "start_time": "2024-03-13T11:16:13.471Z"
   },
   {
    "duration": 311,
    "start_time": "2024-03-13T11:16:13.767Z"
   },
   {
    "duration": 412,
    "start_time": "2024-03-13T11:16:14.080Z"
   },
   {
    "duration": 11,
    "start_time": "2024-03-13T11:16:14.496Z"
   },
   {
    "duration": 271,
    "start_time": "2024-03-13T11:16:14.509Z"
   },
   {
    "duration": 185,
    "start_time": "2024-03-13T11:16:14.781Z"
   },
   {
    "duration": 198,
    "start_time": "2024-03-13T11:16:14.968Z"
   },
   {
    "duration": 3,
    "start_time": "2024-03-13T11:16:15.168Z"
   },
   {
    "duration": 50,
    "start_time": "2024-03-13T11:16:15.173Z"
   },
   {
    "duration": 195,
    "start_time": "2024-03-13T11:16:15.225Z"
   },
   {
    "duration": 163,
    "start_time": "2024-03-13T11:16:15.422Z"
   },
   {
    "duration": 129,
    "start_time": "2024-03-13T11:16:15.586Z"
   },
   {
    "duration": 42,
    "start_time": "2024-03-13T11:16:15.716Z"
   },
   {
    "duration": 17,
    "start_time": "2024-03-13T11:16:15.761Z"
   },
   {
    "duration": 56,
    "start_time": "2024-03-13T11:16:15.780Z"
   },
   {
    "duration": 69,
    "start_time": "2024-03-13T11:16:15.838Z"
   },
   {
    "duration": 24,
    "start_time": "2024-03-13T11:16:15.910Z"
   },
   {
    "duration": 24,
    "start_time": "2024-03-13T11:16:15.936Z"
   },
   {
    "duration": 60,
    "start_time": "2024-03-13T11:16:15.961Z"
   },
   {
    "duration": 30,
    "start_time": "2024-03-13T11:16:16.023Z"
   },
   {
    "duration": 56,
    "start_time": "2024-03-13T11:16:16.055Z"
   },
   {
    "duration": 19,
    "start_time": "2024-03-13T11:16:16.116Z"
   },
   {
    "duration": 321,
    "start_time": "2024-03-13T11:16:16.137Z"
   },
   {
    "duration": 9,
    "start_time": "2024-03-13T11:16:16.459Z"
   },
   {
    "duration": 350,
    "start_time": "2024-03-13T11:16:16.469Z"
   },
   {
    "duration": 11,
    "start_time": "2024-03-13T11:16:16.822Z"
   },
   {
    "duration": 214,
    "start_time": "2024-03-13T11:16:16.834Z"
   },
   {
    "duration": 412,
    "start_time": "2024-03-13T11:16:17.050Z"
   },
   {
    "duration": 11,
    "start_time": "2024-03-13T11:16:17.464Z"
   },
   {
    "duration": 359,
    "start_time": "2024-03-13T11:16:17.477Z"
   },
   {
    "duration": 8,
    "start_time": "2024-03-13T11:16:17.837Z"
   },
   {
    "duration": 209,
    "start_time": "2024-03-13T11:16:17.847Z"
   },
   {
    "duration": 24,
    "start_time": "2024-03-13T11:16:18.058Z"
   },
   {
    "duration": 32,
    "start_time": "2024-03-13T11:16:18.084Z"
   },
   {
    "duration": 19,
    "start_time": "2024-03-13T11:16:18.117Z"
   },
   {
    "duration": 16,
    "start_time": "2024-03-13T11:16:18.138Z"
   },
   {
    "duration": 27,
    "start_time": "2024-03-13T11:16:18.156Z"
   },
   {
    "duration": 30,
    "start_time": "2024-03-13T11:16:18.184Z"
   },
   {
    "duration": 17,
    "start_time": "2024-03-13T11:16:18.216Z"
   },
   {
    "duration": 23,
    "start_time": "2024-03-13T11:16:18.235Z"
   },
   {
    "duration": 27,
    "start_time": "2024-03-13T11:16:18.260Z"
   },
   {
    "duration": 31,
    "start_time": "2024-03-13T11:16:18.289Z"
   },
   {
    "duration": 38,
    "start_time": "2024-03-13T11:16:18.327Z"
   },
   {
    "duration": 11,
    "start_time": "2024-03-13T11:16:18.367Z"
   },
   {
    "duration": 10,
    "start_time": "2024-03-13T11:16:18.380Z"
   },
   {
    "duration": 263,
    "start_time": "2024-03-13T11:16:18.404Z"
   },
   {
    "duration": 1983,
    "start_time": "2024-03-13T11:16:18.669Z"
   },
   {
    "duration": 7,
    "start_time": "2024-03-13T11:16:20.654Z"
   },
   {
    "duration": 38064,
    "start_time": "2024-03-13T11:16:20.663Z"
   },
   {
    "duration": 0,
    "start_time": "2024-03-13T11:16:58.831Z"
   },
   {
    "duration": 1166,
    "start_time": "2024-03-13T11:17:17.192Z"
   },
   {
    "duration": 82,
    "start_time": "2024-03-13T11:17:18.360Z"
   },
   {
    "duration": 28,
    "start_time": "2024-03-13T11:17:18.443Z"
   },
   {
    "duration": 15,
    "start_time": "2024-03-13T11:17:18.473Z"
   },
   {
    "duration": 27,
    "start_time": "2024-03-13T11:17:18.489Z"
   },
   {
    "duration": 23,
    "start_time": "2024-03-13T11:17:18.517Z"
   },
   {
    "duration": 15,
    "start_time": "2024-03-13T11:17:18.541Z"
   },
   {
    "duration": 11,
    "start_time": "2024-03-13T11:17:18.558Z"
   },
   {
    "duration": 9,
    "start_time": "2024-03-13T11:17:18.570Z"
   },
   {
    "duration": 11,
    "start_time": "2024-03-13T11:17:18.581Z"
   },
   {
    "duration": 37,
    "start_time": "2024-03-13T11:17:18.593Z"
   },
   {
    "duration": 16,
    "start_time": "2024-03-13T11:17:18.632Z"
   },
   {
    "duration": 9,
    "start_time": "2024-03-13T11:17:18.649Z"
   },
   {
    "duration": 25,
    "start_time": "2024-03-13T11:17:18.660Z"
   },
   {
    "duration": 24,
    "start_time": "2024-03-13T11:17:18.686Z"
   },
   {
    "duration": 19,
    "start_time": "2024-03-13T11:17:18.711Z"
   },
   {
    "duration": 18,
    "start_time": "2024-03-13T11:17:18.731Z"
   },
   {
    "duration": 17,
    "start_time": "2024-03-13T11:17:18.751Z"
   },
   {
    "duration": 40,
    "start_time": "2024-03-13T11:17:18.769Z"
   },
   {
    "duration": 16,
    "start_time": "2024-03-13T11:17:18.813Z"
   },
   {
    "duration": 22,
    "start_time": "2024-03-13T11:17:18.830Z"
   },
   {
    "duration": 99,
    "start_time": "2024-03-13T11:17:18.854Z"
   },
   {
    "duration": 109,
    "start_time": "2024-03-13T11:17:18.954Z"
   },
   {
    "duration": 60,
    "start_time": "2024-03-13T11:17:19.065Z"
   },
   {
    "duration": 206,
    "start_time": "2024-03-13T11:17:19.126Z"
   },
   {
    "duration": 6,
    "start_time": "2024-03-13T11:17:19.333Z"
   },
   {
    "duration": 28,
    "start_time": "2024-03-13T11:17:19.340Z"
   },
   {
    "duration": 161,
    "start_time": "2024-03-13T11:17:19.372Z"
   },
   {
    "duration": 6,
    "start_time": "2024-03-13T11:17:19.534Z"
   },
   {
    "duration": 270,
    "start_time": "2024-03-13T11:17:19.542Z"
   },
   {
    "duration": 10,
    "start_time": "2024-03-13T11:17:19.813Z"
   },
   {
    "duration": 16,
    "start_time": "2024-03-13T11:17:19.829Z"
   },
   {
    "duration": 36,
    "start_time": "2024-03-13T11:17:19.846Z"
   },
   {
    "duration": 208,
    "start_time": "2024-03-13T11:17:19.883Z"
   },
   {
    "duration": 24,
    "start_time": "2024-03-13T11:17:20.093Z"
   },
   {
    "duration": 329,
    "start_time": "2024-03-13T11:17:20.119Z"
   },
   {
    "duration": 305,
    "start_time": "2024-03-13T11:17:20.450Z"
   },
   {
    "duration": 313,
    "start_time": "2024-03-13T11:17:20.757Z"
   },
   {
    "duration": 388,
    "start_time": "2024-03-13T11:17:21.071Z"
   },
   {
    "duration": 8,
    "start_time": "2024-03-13T11:17:21.461Z"
   },
   {
    "duration": 272,
    "start_time": "2024-03-13T11:17:21.470Z"
   },
   {
    "duration": 187,
    "start_time": "2024-03-13T11:17:21.743Z"
   },
   {
    "duration": 196,
    "start_time": "2024-03-13T11:17:21.933Z"
   },
   {
    "duration": 3,
    "start_time": "2024-03-13T11:17:22.131Z"
   },
   {
    "duration": 20,
    "start_time": "2024-03-13T11:17:22.135Z"
   },
   {
    "duration": 46,
    "start_time": "2024-03-13T11:17:22.157Z"
   },
   {
    "duration": 31,
    "start_time": "2024-03-13T11:17:22.210Z"
   },
   {
    "duration": 22,
    "start_time": "2024-03-13T11:17:22.243Z"
   },
   {
    "duration": 48,
    "start_time": "2024-03-13T11:17:22.266Z"
   },
   {
    "duration": 4,
    "start_time": "2024-03-13T11:17:22.316Z"
   },
   {
    "duration": 18,
    "start_time": "2024-03-13T11:17:22.322Z"
   },
   {
    "duration": 21,
    "start_time": "2024-03-13T11:17:22.341Z"
   },
   {
    "duration": 27,
    "start_time": "2024-03-13T11:17:22.363Z"
   },
   {
    "duration": 46,
    "start_time": "2024-03-13T11:17:22.392Z"
   },
   {
    "duration": 4,
    "start_time": "2024-03-13T11:17:22.440Z"
   },
   {
    "duration": 21,
    "start_time": "2024-03-13T11:17:22.445Z"
   },
   {
    "duration": 52,
    "start_time": "2024-03-13T11:17:22.468Z"
   },
   {
    "duration": 15,
    "start_time": "2024-03-13T11:17:22.525Z"
   },
   {
    "duration": 323,
    "start_time": "2024-03-13T11:17:22.542Z"
   },
   {
    "duration": 7,
    "start_time": "2024-03-13T11:17:22.867Z"
   },
   {
    "duration": 305,
    "start_time": "2024-03-13T11:17:22.876Z"
   },
   {
    "duration": 37,
    "start_time": "2024-03-13T11:17:23.182Z"
   },
   {
    "duration": 224,
    "start_time": "2024-03-13T11:17:23.222Z"
   },
   {
    "duration": 426,
    "start_time": "2024-03-13T11:17:23.448Z"
   },
   {
    "duration": 10,
    "start_time": "2024-03-13T11:17:23.876Z"
   },
   {
    "duration": 335,
    "start_time": "2024-03-13T11:17:23.895Z"
   },
   {
    "duration": 8,
    "start_time": "2024-03-13T11:17:24.232Z"
   },
   {
    "duration": 207,
    "start_time": "2024-03-13T11:17:24.241Z"
   },
   {
    "duration": 26,
    "start_time": "2024-03-13T11:17:24.449Z"
   },
   {
    "duration": 33,
    "start_time": "2024-03-13T11:17:24.477Z"
   },
   {
    "duration": 8,
    "start_time": "2024-03-13T11:17:24.522Z"
   },
   {
    "duration": 10,
    "start_time": "2024-03-13T11:17:24.531Z"
   },
   {
    "duration": 23,
    "start_time": "2024-03-13T11:17:24.542Z"
   },
   {
    "duration": 43,
    "start_time": "2024-03-13T11:17:24.566Z"
   },
   {
    "duration": 36,
    "start_time": "2024-03-13T11:17:24.610Z"
   },
   {
    "duration": 12,
    "start_time": "2024-03-13T11:17:24.647Z"
   },
   {
    "duration": 49,
    "start_time": "2024-03-13T11:17:24.660Z"
   },
   {
    "duration": 17,
    "start_time": "2024-03-13T11:17:24.711Z"
   },
   {
    "duration": 28,
    "start_time": "2024-03-13T11:17:24.730Z"
   },
   {
    "duration": 11,
    "start_time": "2024-03-13T11:17:24.759Z"
   },
   {
    "duration": 53,
    "start_time": "2024-03-13T11:17:24.772Z"
   },
   {
    "duration": 282,
    "start_time": "2024-03-13T11:17:24.830Z"
   },
   {
    "duration": 1934,
    "start_time": "2024-03-13T11:17:25.115Z"
   },
   {
    "duration": 5,
    "start_time": "2024-03-13T11:17:27.050Z"
   },
   {
    "duration": 38132,
    "start_time": "2024-03-13T11:17:27.057Z"
   },
   {
    "duration": 182,
    "start_time": "2024-03-13T11:18:12.778Z"
   },
   {
    "duration": 190,
    "start_time": "2024-03-13T11:18:33.154Z"
   },
   {
    "duration": 265,
    "start_time": "2024-03-13T11:18:43.691Z"
   },
   {
    "duration": 194,
    "start_time": "2024-03-13T11:18:57.531Z"
   },
   {
    "duration": 1160,
    "start_time": "2024-03-13T11:19:04.507Z"
   },
   {
    "duration": 85,
    "start_time": "2024-03-13T11:19:05.669Z"
   },
   {
    "duration": 28,
    "start_time": "2024-03-13T11:19:05.755Z"
   },
   {
    "duration": 32,
    "start_time": "2024-03-13T11:19:05.785Z"
   },
   {
    "duration": 4,
    "start_time": "2024-03-13T11:19:05.819Z"
   },
   {
    "duration": 24,
    "start_time": "2024-03-13T11:19:05.826Z"
   },
   {
    "duration": 13,
    "start_time": "2024-03-13T11:19:05.852Z"
   },
   {
    "duration": 43,
    "start_time": "2024-03-13T11:19:05.867Z"
   },
   {
    "duration": 32,
    "start_time": "2024-03-13T11:19:05.911Z"
   },
   {
    "duration": 20,
    "start_time": "2024-03-13T11:19:05.946Z"
   },
   {
    "duration": 17,
    "start_time": "2024-03-13T11:19:05.968Z"
   },
   {
    "duration": 33,
    "start_time": "2024-03-13T11:19:05.986Z"
   },
   {
    "duration": 11,
    "start_time": "2024-03-13T11:19:06.020Z"
   },
   {
    "duration": 28,
    "start_time": "2024-03-13T11:19:06.033Z"
   },
   {
    "duration": 18,
    "start_time": "2024-03-13T11:19:06.062Z"
   },
   {
    "duration": 24,
    "start_time": "2024-03-13T11:19:06.083Z"
   },
   {
    "duration": 21,
    "start_time": "2024-03-13T11:19:06.108Z"
   },
   {
    "duration": 9,
    "start_time": "2024-03-13T11:19:06.131Z"
   },
   {
    "duration": 9,
    "start_time": "2024-03-13T11:19:06.141Z"
   },
   {
    "duration": 18,
    "start_time": "2024-03-13T11:19:06.152Z"
   },
   {
    "duration": 8,
    "start_time": "2024-03-13T11:19:06.171Z"
   },
   {
    "duration": 44,
    "start_time": "2024-03-13T11:19:06.181Z"
   },
   {
    "duration": 11,
    "start_time": "2024-03-13T11:19:06.227Z"
   },
   {
    "duration": 23,
    "start_time": "2024-03-13T11:19:06.240Z"
   },
   {
    "duration": 197,
    "start_time": "2024-03-13T11:19:06.265Z"
   },
   {
    "duration": 5,
    "start_time": "2024-03-13T11:19:06.464Z"
   },
   {
    "duration": 16,
    "start_time": "2024-03-13T11:19:06.471Z"
   },
   {
    "duration": 116,
    "start_time": "2024-03-13T11:19:06.491Z"
   },
   {
    "duration": 8,
    "start_time": "2024-03-13T11:19:06.616Z"
   },
   {
    "duration": 247,
    "start_time": "2024-03-13T11:19:06.626Z"
   },
   {
    "duration": 4,
    "start_time": "2024-03-13T11:19:06.875Z"
   },
   {
    "duration": 45,
    "start_time": "2024-03-13T11:19:06.880Z"
   },
   {
    "duration": 17,
    "start_time": "2024-03-13T11:19:06.926Z"
   },
   {
    "duration": 224,
    "start_time": "2024-03-13T11:19:06.945Z"
   },
   {
    "duration": 9,
    "start_time": "2024-03-13T11:19:07.172Z"
   },
   {
    "duration": 380,
    "start_time": "2024-03-13T11:19:07.182Z"
   },
   {
    "duration": 304,
    "start_time": "2024-03-13T11:19:07.564Z"
   },
   {
    "duration": 294,
    "start_time": "2024-03-13T11:19:07.870Z"
   },
   {
    "duration": 385,
    "start_time": "2024-03-13T11:19:08.166Z"
   },
   {
    "duration": 7,
    "start_time": "2024-03-13T11:19:08.553Z"
   },
   {
    "duration": 244,
    "start_time": "2024-03-13T11:19:08.562Z"
   },
   {
    "duration": 230,
    "start_time": "2024-03-13T11:19:08.807Z"
   },
   {
    "duration": 192,
    "start_time": "2024-03-13T11:19:09.039Z"
   },
   {
    "duration": 4,
    "start_time": "2024-03-13T11:19:09.233Z"
   },
   {
    "duration": 8,
    "start_time": "2024-03-13T11:19:09.239Z"
   },
   {
    "duration": 8,
    "start_time": "2024-03-13T11:19:09.249Z"
   },
   {
    "duration": 16,
    "start_time": "2024-03-13T11:19:09.258Z"
   },
   {
    "duration": 47,
    "start_time": "2024-03-13T11:19:09.276Z"
   },
   {
    "duration": 22,
    "start_time": "2024-03-13T11:19:09.325Z"
   },
   {
    "duration": 7,
    "start_time": "2024-03-13T11:19:09.349Z"
   },
   {
    "duration": 14,
    "start_time": "2024-03-13T11:19:09.357Z"
   },
   {
    "duration": 29,
    "start_time": "2024-03-13T11:19:09.373Z"
   },
   {
    "duration": 21,
    "start_time": "2024-03-13T11:19:09.404Z"
   },
   {
    "duration": 16,
    "start_time": "2024-03-13T11:19:09.427Z"
   },
   {
    "duration": 55,
    "start_time": "2024-03-13T11:19:09.444Z"
   },
   {
    "duration": 66,
    "start_time": "2024-03-13T11:19:09.501Z"
   },
   {
    "duration": 15,
    "start_time": "2024-03-13T11:19:09.569Z"
   },
   {
    "duration": 36,
    "start_time": "2024-03-13T11:19:09.585Z"
   },
   {
    "duration": 314,
    "start_time": "2024-03-13T11:19:09.624Z"
   },
   {
    "duration": 8,
    "start_time": "2024-03-13T11:19:09.939Z"
   },
   {
    "duration": 332,
    "start_time": "2024-03-13T11:19:09.948Z"
   },
   {
    "duration": 22,
    "start_time": "2024-03-13T11:19:10.282Z"
   },
   {
    "duration": 199,
    "start_time": "2024-03-13T11:19:10.312Z"
   },
   {
    "duration": 406,
    "start_time": "2024-03-13T11:19:10.512Z"
   },
   {
    "duration": 10,
    "start_time": "2024-03-13T11:19:10.919Z"
   },
   {
    "duration": 332,
    "start_time": "2024-03-13T11:19:10.930Z"
   },
   {
    "duration": 8,
    "start_time": "2024-03-13T11:19:11.263Z"
   },
   {
    "duration": 240,
    "start_time": "2024-03-13T11:19:11.273Z"
   },
   {
    "duration": 38,
    "start_time": "2024-03-13T11:19:11.515Z"
   },
   {
    "duration": 18,
    "start_time": "2024-03-13T11:19:11.555Z"
   },
   {
    "duration": 9,
    "start_time": "2024-03-13T11:19:11.574Z"
   },
   {
    "duration": 18,
    "start_time": "2024-03-13T11:19:11.594Z"
   },
   {
    "duration": 57,
    "start_time": "2024-03-13T11:19:11.614Z"
   },
   {
    "duration": 49,
    "start_time": "2024-03-13T11:19:11.672Z"
   },
   {
    "duration": 6,
    "start_time": "2024-03-13T11:19:11.725Z"
   },
   {
    "duration": 11,
    "start_time": "2024-03-13T11:19:11.733Z"
   },
   {
    "duration": 32,
    "start_time": "2024-03-13T11:19:11.746Z"
   },
   {
    "duration": 23,
    "start_time": "2024-03-13T11:19:11.780Z"
   },
   {
    "duration": 31,
    "start_time": "2024-03-13T11:19:11.804Z"
   },
   {
    "duration": 12,
    "start_time": "2024-03-13T11:19:11.836Z"
   },
   {
    "duration": 16,
    "start_time": "2024-03-13T11:19:11.850Z"
   },
   {
    "duration": 292,
    "start_time": "2024-03-13T11:19:11.873Z"
   },
   {
    "duration": 1970,
    "start_time": "2024-03-13T11:19:12.167Z"
   },
   {
    "duration": 5,
    "start_time": "2024-03-13T11:19:14.139Z"
   },
   {
    "duration": 38305,
    "start_time": "2024-03-13T11:19:14.146Z"
   },
   {
    "duration": 118,
    "start_time": "2024-03-13T11:21:55.393Z"
   },
   {
    "duration": 10,
    "start_time": "2024-03-13T11:22:08.495Z"
   },
   {
    "duration": 25,
    "start_time": "2024-03-13T11:22:11.312Z"
   },
   {
    "duration": 10,
    "start_time": "2024-03-13T11:22:29.700Z"
   },
   {
    "duration": 18,
    "start_time": "2024-03-13T11:22:30.885Z"
   },
   {
    "duration": 7,
    "start_time": "2024-03-13T11:22:35.862Z"
   },
   {
    "duration": 1956,
    "start_time": "2024-03-13T11:27:09.888Z"
   },
   {
    "duration": 1897,
    "start_time": "2024-03-13T11:28:21.714Z"
   },
   {
    "duration": 35943,
    "start_time": "2024-03-13T11:28:56.247Z"
   },
   {
    "duration": 1122,
    "start_time": "2024-03-13T11:30:16.929Z"
   },
   {
    "duration": 81,
    "start_time": "2024-03-13T11:30:18.052Z"
   },
   {
    "duration": 27,
    "start_time": "2024-03-13T11:30:18.134Z"
   },
   {
    "duration": 22,
    "start_time": "2024-03-13T11:30:18.163Z"
   },
   {
    "duration": 18,
    "start_time": "2024-03-13T11:30:18.186Z"
   },
   {
    "duration": 40,
    "start_time": "2024-03-13T11:30:18.208Z"
   },
   {
    "duration": 34,
    "start_time": "2024-03-13T11:30:18.249Z"
   },
   {
    "duration": 40,
    "start_time": "2024-03-13T11:30:18.285Z"
   },
   {
    "duration": 39,
    "start_time": "2024-03-13T11:30:18.327Z"
   },
   {
    "duration": 42,
    "start_time": "2024-03-13T11:30:18.369Z"
   },
   {
    "duration": 44,
    "start_time": "2024-03-13T11:30:18.412Z"
   },
   {
    "duration": 33,
    "start_time": "2024-03-13T11:30:18.458Z"
   },
   {
    "duration": 18,
    "start_time": "2024-03-13T11:30:18.493Z"
   },
   {
    "duration": 27,
    "start_time": "2024-03-13T11:30:18.512Z"
   },
   {
    "duration": 23,
    "start_time": "2024-03-13T11:30:18.541Z"
   },
   {
    "duration": 51,
    "start_time": "2024-03-13T11:30:18.565Z"
   },
   {
    "duration": 33,
    "start_time": "2024-03-13T11:30:18.619Z"
   },
   {
    "duration": 11,
    "start_time": "2024-03-13T11:30:18.654Z"
   },
   {
    "duration": 57,
    "start_time": "2024-03-13T11:30:18.667Z"
   },
   {
    "duration": 24,
    "start_time": "2024-03-13T11:30:18.725Z"
   },
   {
    "duration": 28,
    "start_time": "2024-03-13T11:30:18.750Z"
   },
   {
    "duration": 42,
    "start_time": "2024-03-13T11:30:18.779Z"
   },
   {
    "duration": 11,
    "start_time": "2024-03-13T11:30:18.822Z"
   },
   {
    "duration": 30,
    "start_time": "2024-03-13T11:30:18.834Z"
   },
   {
    "duration": 231,
    "start_time": "2024-03-13T11:30:18.866Z"
   },
   {
    "duration": 11,
    "start_time": "2024-03-13T11:30:19.098Z"
   },
   {
    "duration": 32,
    "start_time": "2024-03-13T11:30:19.111Z"
   },
   {
    "duration": 108,
    "start_time": "2024-03-13T11:30:19.148Z"
   },
   {
    "duration": 6,
    "start_time": "2024-03-13T11:30:19.257Z"
   },
   {
    "duration": 222,
    "start_time": "2024-03-13T11:30:19.264Z"
   },
   {
    "duration": 12,
    "start_time": "2024-03-13T11:30:19.487Z"
   },
   {
    "duration": 5,
    "start_time": "2024-03-13T11:30:19.521Z"
   },
   {
    "duration": 53,
    "start_time": "2024-03-13T11:30:19.528Z"
   },
   {
    "duration": 227,
    "start_time": "2024-03-13T11:30:19.582Z"
   },
   {
    "duration": 14,
    "start_time": "2024-03-13T11:30:19.810Z"
   },
   {
    "duration": 341,
    "start_time": "2024-03-13T11:30:19.828Z"
   },
   {
    "duration": 278,
    "start_time": "2024-03-13T11:30:20.170Z"
   },
   {
    "duration": 277,
    "start_time": "2024-03-13T11:30:20.449Z"
   },
   {
    "duration": 354,
    "start_time": "2024-03-13T11:30:20.728Z"
   },
   {
    "duration": 31,
    "start_time": "2024-03-13T11:30:21.084Z"
   },
   {
    "duration": 239,
    "start_time": "2024-03-13T11:30:21.121Z"
   },
   {
    "duration": 182,
    "start_time": "2024-03-13T11:30:21.361Z"
   },
   {
    "duration": 185,
    "start_time": "2024-03-13T11:30:21.545Z"
   },
   {
    "duration": 5,
    "start_time": "2024-03-13T11:30:21.732Z"
   },
   {
    "duration": 30,
    "start_time": "2024-03-13T11:30:21.738Z"
   },
   {
    "duration": 16,
    "start_time": "2024-03-13T11:30:21.769Z"
   },
   {
    "duration": 43,
    "start_time": "2024-03-13T11:30:21.786Z"
   },
   {
    "duration": 28,
    "start_time": "2024-03-13T11:30:21.830Z"
   },
   {
    "duration": 21,
    "start_time": "2024-03-13T11:30:21.860Z"
   },
   {
    "duration": 38,
    "start_time": "2024-03-13T11:30:21.883Z"
   },
   {
    "duration": 26,
    "start_time": "2024-03-13T11:30:21.923Z"
   },
   {
    "duration": 11,
    "start_time": "2024-03-13T11:30:21.950Z"
   },
   {
    "duration": 13,
    "start_time": "2024-03-13T11:30:21.962Z"
   },
   {
    "duration": 41,
    "start_time": "2024-03-13T11:30:21.976Z"
   },
   {
    "duration": 7,
    "start_time": "2024-03-13T11:30:22.020Z"
   },
   {
    "duration": 9,
    "start_time": "2024-03-13T11:30:22.028Z"
   },
   {
    "duration": 24,
    "start_time": "2024-03-13T11:30:22.039Z"
   },
   {
    "duration": 6,
    "start_time": "2024-03-13T11:30:22.064Z"
   },
   {
    "duration": 339,
    "start_time": "2024-03-13T11:30:22.071Z"
   },
   {
    "duration": 13,
    "start_time": "2024-03-13T11:30:22.423Z"
   },
   {
    "duration": 309,
    "start_time": "2024-03-13T11:30:22.439Z"
   },
   {
    "duration": 9,
    "start_time": "2024-03-13T11:30:22.749Z"
   },
   {
    "duration": 205,
    "start_time": "2024-03-13T11:30:22.760Z"
   },
   {
    "duration": 375,
    "start_time": "2024-03-13T11:30:22.967Z"
   },
   {
    "duration": 8,
    "start_time": "2024-03-13T11:30:23.343Z"
   },
   {
    "duration": 311,
    "start_time": "2024-03-13T11:30:23.352Z"
   },
   {
    "duration": 7,
    "start_time": "2024-03-13T11:30:23.665Z"
   },
   {
    "duration": 194,
    "start_time": "2024-03-13T11:30:23.673Z"
   },
   {
    "duration": 58,
    "start_time": "2024-03-13T11:30:23.869Z"
   },
   {
    "duration": 20,
    "start_time": "2024-03-13T11:30:23.935Z"
   },
   {
    "duration": 10,
    "start_time": "2024-03-13T11:30:23.957Z"
   },
   {
    "duration": 5,
    "start_time": "2024-03-13T11:30:23.968Z"
   },
   {
    "duration": 51,
    "start_time": "2024-03-13T11:30:23.974Z"
   },
   {
    "duration": 13,
    "start_time": "2024-03-13T11:30:24.030Z"
   },
   {
    "duration": 9,
    "start_time": "2024-03-13T11:30:24.044Z"
   },
   {
    "duration": 27,
    "start_time": "2024-03-13T11:30:24.055Z"
   },
   {
    "duration": 18,
    "start_time": "2024-03-13T11:30:24.083Z"
   },
   {
    "duration": 21,
    "start_time": "2024-03-13T11:30:24.102Z"
   },
   {
    "duration": 6,
    "start_time": "2024-03-13T11:30:24.126Z"
   },
   {
    "duration": 74,
    "start_time": "2024-03-13T11:30:24.134Z"
   },
   {
    "duration": 11,
    "start_time": "2024-03-13T11:30:24.210Z"
   },
   {
    "duration": 274,
    "start_time": "2024-03-13T11:30:24.232Z"
   },
   {
    "duration": 1914,
    "start_time": "2024-03-13T11:30:24.508Z"
   },
   {
    "duration": 6,
    "start_time": "2024-03-13T11:30:26.423Z"
   },
   {
    "duration": 35796,
    "start_time": "2024-03-13T11:30:26.433Z"
   },
   {
    "duration": 1043,
    "start_time": "2024-03-13T18:59:41.204Z"
   },
   {
    "duration": 72,
    "start_time": "2024-03-13T18:59:42.249Z"
   },
   {
    "duration": 28,
    "start_time": "2024-03-13T18:59:42.323Z"
   },
   {
    "duration": 16,
    "start_time": "2024-03-13T18:59:42.353Z"
   },
   {
    "duration": 3,
    "start_time": "2024-03-13T18:59:42.370Z"
   },
   {
    "duration": 14,
    "start_time": "2024-03-13T18:59:42.374Z"
   },
   {
    "duration": 12,
    "start_time": "2024-03-13T18:59:42.390Z"
   },
   {
    "duration": 19,
    "start_time": "2024-03-13T18:59:42.404Z"
   },
   {
    "duration": 7,
    "start_time": "2024-03-13T18:59:42.425Z"
   },
   {
    "duration": 6,
    "start_time": "2024-03-13T18:59:42.434Z"
   },
   {
    "duration": 10,
    "start_time": "2024-03-13T18:59:42.441Z"
   },
   {
    "duration": 9,
    "start_time": "2024-03-13T18:59:42.453Z"
   },
   {
    "duration": 3,
    "start_time": "2024-03-13T18:59:42.464Z"
   },
   {
    "duration": 10,
    "start_time": "2024-03-13T18:59:42.468Z"
   },
   {
    "duration": 6,
    "start_time": "2024-03-13T18:59:42.515Z"
   },
   {
    "duration": 13,
    "start_time": "2024-03-13T18:59:42.522Z"
   },
   {
    "duration": 6,
    "start_time": "2024-03-13T18:59:42.537Z"
   },
   {
    "duration": 6,
    "start_time": "2024-03-13T18:59:42.545Z"
   },
   {
    "duration": 10,
    "start_time": "2024-03-13T18:59:42.553Z"
   },
   {
    "duration": 6,
    "start_time": "2024-03-13T18:59:42.565Z"
   },
   {
    "duration": 45,
    "start_time": "2024-03-13T18:59:42.572Z"
   },
   {
    "duration": 8,
    "start_time": "2024-03-13T18:59:42.619Z"
   },
   {
    "duration": 5,
    "start_time": "2024-03-13T18:59:42.628Z"
   },
   {
    "duration": 6,
    "start_time": "2024-03-13T18:59:42.634Z"
   },
   {
    "duration": 211,
    "start_time": "2024-03-13T18:59:42.642Z"
   },
   {
    "duration": 8,
    "start_time": "2024-03-13T18:59:42.855Z"
   },
   {
    "duration": 15,
    "start_time": "2024-03-13T18:59:42.865Z"
   },
   {
    "duration": 122,
    "start_time": "2024-03-13T18:59:42.884Z"
   },
   {
    "duration": 12,
    "start_time": "2024-03-13T18:59:43.008Z"
   },
   {
    "duration": 249,
    "start_time": "2024-03-13T18:59:43.022Z"
   },
   {
    "duration": 4,
    "start_time": "2024-03-13T18:59:43.273Z"
   },
   {
    "duration": 5,
    "start_time": "2024-03-13T18:59:43.279Z"
   },
   {
    "duration": 26,
    "start_time": "2024-03-13T18:59:43.286Z"
   },
   {
    "duration": 188,
    "start_time": "2024-03-13T18:59:43.314Z"
   },
   {
    "duration": 13,
    "start_time": "2024-03-13T18:59:43.504Z"
   },
   {
    "duration": 313,
    "start_time": "2024-03-13T18:59:43.519Z"
   },
   {
    "duration": 287,
    "start_time": "2024-03-13T18:59:43.834Z"
   },
   {
    "duration": 334,
    "start_time": "2024-03-13T18:59:44.123Z"
   },
   {
    "duration": 370,
    "start_time": "2024-03-13T18:59:44.459Z"
   },
   {
    "duration": 10,
    "start_time": "2024-03-13T18:59:44.832Z"
   },
   {
    "duration": 241,
    "start_time": "2024-03-13T18:59:44.844Z"
   },
   {
    "duration": 180,
    "start_time": "2024-03-13T18:59:45.087Z"
   },
   {
    "duration": 179,
    "start_time": "2024-03-13T18:59:45.269Z"
   },
   {
    "duration": 4,
    "start_time": "2024-03-13T18:59:45.449Z"
   },
   {
    "duration": 24,
    "start_time": "2024-03-13T18:59:45.454Z"
   },
   {
    "duration": 10,
    "start_time": "2024-03-13T18:59:45.479Z"
   },
   {
    "duration": 12,
    "start_time": "2024-03-13T18:59:45.491Z"
   },
   {
    "duration": 24,
    "start_time": "2024-03-13T18:59:45.505Z"
   },
   {
    "duration": 36,
    "start_time": "2024-03-13T18:59:45.531Z"
   },
   {
    "duration": 6,
    "start_time": "2024-03-13T18:59:45.569Z"
   },
   {
    "duration": 17,
    "start_time": "2024-03-13T18:59:45.576Z"
   },
   {
    "duration": 26,
    "start_time": "2024-03-13T18:59:45.594Z"
   },
   {
    "duration": 14,
    "start_time": "2024-03-13T18:59:45.622Z"
   },
   {
    "duration": 19,
    "start_time": "2024-03-13T18:59:45.637Z"
   },
   {
    "duration": 10,
    "start_time": "2024-03-13T18:59:45.658Z"
   },
   {
    "duration": 26,
    "start_time": "2024-03-13T18:59:45.669Z"
   },
   {
    "duration": 23,
    "start_time": "2024-03-13T18:59:45.696Z"
   },
   {
    "duration": 14,
    "start_time": "2024-03-13T18:59:45.721Z"
   },
   {
    "duration": 305,
    "start_time": "2024-03-13T18:59:45.737Z"
   },
   {
    "duration": 10,
    "start_time": "2024-03-13T18:59:46.044Z"
   },
   {
    "duration": 293,
    "start_time": "2024-03-13T18:59:46.055Z"
   },
   {
    "duration": 9,
    "start_time": "2024-03-13T18:59:46.350Z"
   },
   {
    "duration": 201,
    "start_time": "2024-03-13T18:59:46.361Z"
   },
   {
    "duration": 403,
    "start_time": "2024-03-13T18:59:46.564Z"
   },
   {
    "duration": 9,
    "start_time": "2024-03-13T18:59:46.969Z"
   },
   {
    "duration": 300,
    "start_time": "2024-03-13T18:59:46.979Z"
   },
   {
    "duration": 8,
    "start_time": "2024-03-13T18:59:47.281Z"
   },
   {
    "duration": 204,
    "start_time": "2024-03-13T18:59:47.291Z"
   },
   {
    "duration": 35,
    "start_time": "2024-03-13T18:59:47.497Z"
   },
   {
    "duration": 16,
    "start_time": "2024-03-13T18:59:47.534Z"
   },
   {
    "duration": 9,
    "start_time": "2024-03-13T18:59:47.552Z"
   },
   {
    "duration": 4,
    "start_time": "2024-03-13T18:59:47.563Z"
   },
   {
    "duration": 14,
    "start_time": "2024-03-13T18:59:47.568Z"
   },
   {
    "duration": 43,
    "start_time": "2024-03-13T18:59:47.584Z"
   },
   {
    "duration": 7,
    "start_time": "2024-03-13T18:59:47.628Z"
   },
   {
    "duration": 6,
    "start_time": "2024-03-13T18:59:47.637Z"
   },
   {
    "duration": 7,
    "start_time": "2024-03-13T18:59:47.644Z"
   },
   {
    "duration": 10,
    "start_time": "2024-03-13T18:59:47.652Z"
   },
   {
    "duration": 7,
    "start_time": "2024-03-13T18:59:47.664Z"
   },
   {
    "duration": 48,
    "start_time": "2024-03-13T18:59:47.672Z"
   },
   {
    "duration": 8,
    "start_time": "2024-03-13T18:59:47.721Z"
   },
   {
    "duration": 338,
    "start_time": "2024-03-13T18:59:47.734Z"
   },
   {
    "duration": 1944,
    "start_time": "2024-03-13T18:59:48.074Z"
   },
   {
    "duration": 6,
    "start_time": "2024-03-13T18:59:50.019Z"
   },
   {
    "duration": 36821,
    "start_time": "2024-03-13T18:59:50.027Z"
   },
   {
    "duration": 45,
    "start_time": "2024-05-08T09:53:59.284Z"
   },
   {
    "duration": 1059,
    "start_time": "2024-05-08T09:54:05.235Z"
   },
   {
    "duration": 120,
    "start_time": "2024-05-08T09:54:08.203Z"
   },
   {
    "duration": 88,
    "start_time": "2024-05-08T09:54:09.959Z"
   },
   {
    "duration": 59,
    "start_time": "2024-05-08T09:54:10.556Z"
   },
   {
    "duration": 3,
    "start_time": "2024-05-08T09:54:11.176Z"
   },
   {
    "duration": 13,
    "start_time": "2024-05-08T09:54:12.156Z"
   },
   {
    "duration": 14,
    "start_time": "2024-05-08T09:54:15.919Z"
   },
   {
    "duration": 13,
    "start_time": "2024-05-08T09:54:15.952Z"
   },
   {
    "duration": 60,
    "start_time": "2024-05-08T09:54:18.455Z"
   },
   {
    "duration": 49,
    "start_time": "2024-05-08T09:54:44.956Z"
   },
   {
    "duration": 46,
    "start_time": "2024-05-08T09:55:02.036Z"
   },
   {
    "duration": 12,
    "start_time": "2024-05-08T09:55:10.230Z"
   },
   {
    "duration": 50,
    "start_time": "2024-05-08T09:55:24.018Z"
   },
   {
    "duration": 8,
    "start_time": "2024-05-08T09:55:47.706Z"
   },
   {
    "duration": 8,
    "start_time": "2024-05-08T09:55:57.743Z"
   }
  ],
  "kernelspec": {
   "display_name": "Python 3 (ipykernel)",
   "language": "python",
   "name": "python3"
  },
  "language_info": {
   "codemirror_mode": {
    "name": "ipython",
    "version": 3
   },
   "file_extension": ".py",
   "mimetype": "text/x-python",
   "name": "python",
   "nbconvert_exporter": "python",
   "pygments_lexer": "ipython3",
   "version": "3.11.7"
  },
  "toc": {
   "base_numbering": 1,
   "nav_menu": {},
   "number_sections": true,
   "sideBar": true,
   "skip_h1_title": true,
   "title_cell": "Table of Contents",
   "title_sidebar": "Contents",
   "toc_cell": false,
   "toc_position": {
    "height": "calc(100% - 180px)",
    "left": "10px",
    "top": "150px",
    "width": "460.8px"
   },
   "toc_section_display": true,
   "toc_window_display": false
  }
 },
 "nbformat": 4,
 "nbformat_minor": 5
}
