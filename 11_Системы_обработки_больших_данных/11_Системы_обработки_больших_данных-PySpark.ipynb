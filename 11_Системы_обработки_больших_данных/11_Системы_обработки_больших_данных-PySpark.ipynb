{
 "cells": [
  {
   "cell_type": "markdown",
   "id": "GEqQaHzsZ_bA",
   "metadata": {
    "id": "GEqQaHzsZ_bA"
   },
   "source": [
    "# Предсказание стоимости жилья"
   ]
  },
  {
   "cell_type": "markdown",
   "id": "3b237b6d",
   "metadata": {},
   "source": [
    "**Описание и цели проекта:**\n",
    "В рамках данного проекта  необходимо:\n",
    "- обучить модель линейной регрессии на данных о жилье в Калифорнии в 1990 году;\n",
    "- выполнить предсказание медианной стоимость дома в жилом массиве;\n",
    "- обучить модель и сделать предсказания на тестовой выборке;\n",
    "- для оценки качества модели использовать метрики RMSE, MAE и R2."
   ]
  },
  {
   "cell_type": "markdown",
   "id": "a68e83b9",
   "metadata": {},
   "source": [
    "**Описание данных:**\n",
    "\n",
    "*longitude* — широта;  \n",
    "\n",
    "*latitude* — долгота;  \n",
    "\n",
    "*housing_median_age* — медианный возраст жителей жилого массива;  \n",
    "\n",
    "*total_rooms* — общее количество комнат в домах жилого массива;  \n",
    "\n",
    "*total_bedrooms* — общее количество спален в домах жилого массива;  \n",
    "\n",
    "*population* — количество человек, которые проживают в жилом массиве;  \n",
    "\n",
    "*households* — количество домовладений в жилом массиве;  \n",
    "\n",
    "*median_income* — медианный доход жителей жилого массива;  \n",
    "\n",
    "*median_house_value* — медианная стоимость дома в жилом массиве;  \n",
    "\n",
    "*ocean_proximity* — близость к океану."
   ]
  },
  {
   "cell_type": "markdown",
   "id": "f458e886",
   "metadata": {},
   "source": [
    "**План работы:**\n",
    "    \n",
    "1. [Инициализация локальной Spark-сессии](#section_id)  \n",
    "\n",
    "\n",
    "2. [Чтение и загрузка необходимых данных](#section_id2)  \n",
    "\n",
    "\n",
    "3. [Предобработка данных:](#section_id3)  \n",
    "\n",
    "- исследовать данные на наличие пропусков и заполнить их, при наличии\n",
    "- преобразовать колонки с категориальными значениями (при наличии) техникой One hot encoding.\n",
    "- преобразовать колонки с количественными значениями c помощью StandardScaler\n",
    "\n",
    "4. [Построение моделей линейной регрессии на разных наборах данных:](#section_id4)  \n",
    "\n",
    "- использовать все данные из файла;\n",
    "- используя только числовые признаки, исключив категориальные\n",
    "- используя все данные из файла + синтетические данные\n",
    "- используя только числовые признаки + синтетические данные\n",
    "\n",
    "5. [Сравнение результатов работы модели на разных наборах данных.Выводы.](#section_id5)  "
   ]
  },
  {
   "cell_type": "markdown",
   "id": "fa64029a",
   "metadata": {},
   "source": [
    "Импортируем необходимые для выполнения исследования библиотеки и константы:"
   ]
  },
  {
   "cell_type": "code",
   "execution_count": 1,
   "id": "83d1ac45",
   "metadata": {},
   "outputs": [
    {
     "name": "stdout",
     "output_type": "stream",
     "text": [
      "Requirement already satisfied: pyspark in /opt/conda/lib/python3.9/site-packages (3.5.2)\n",
      "Requirement already satisfied: py4j==0.10.9.7 in /opt/conda/lib/python3.9/site-packages (from pyspark) (0.10.9.7)\n"
     ]
    }
   ],
   "source": [
    "import pandas as pd\n",
    "import numpy as np\n",
    "from matplotlib import pyplot as plt\n",
    "import seaborn as sns\n",
    "!pip install --upgrade pyspark\n",
    "import pyspark\n",
    "from pyspark.sql import SparkSession\n",
    "from pyspark.sql.types import *\n",
    "import pyspark.sql.functions as F\n",
    "from pyspark.ml.feature import OneHotEncoder, StringIndexer, VectorAssembler, StandardScaler\n",
    "from pyspark.ml.regression import LinearRegression\n",
    "from pyspark.ml.evaluation import RegressionEvaluator\n",
    "import warnings \n",
    "warnings.filterwarnings('ignore')"
   ]
  },
  {
   "cell_type": "code",
   "execution_count": 2,
   "id": "5f2d2e66",
   "metadata": {},
   "outputs": [
    {
     "data": {
      "text/plain": [
       "'3.5.2'"
      ]
     },
     "execution_count": 2,
     "metadata": {},
     "output_type": "execute_result"
    }
   ],
   "source": [
    "pyspark.__version__"
   ]
  },
  {
   "cell_type": "code",
   "execution_count": 3,
   "id": "3c315afd",
   "metadata": {},
   "outputs": [],
   "source": [
    "RANDOM_SEED = 42"
   ]
  },
  {
   "cell_type": "markdown",
   "id": "53871372",
   "metadata": {
    "id": "53871372"
   },
   "source": [
    "# Инициализация локальной Spark-сессии <a id='section_id'></a>"
   ]
  },
  {
   "cell_type": "markdown",
   "id": "84724f45",
   "metadata": {},
   "source": [
    "Инициализируем локальную Spark - сессию:"
   ]
  },
  {
   "cell_type": "code",
   "execution_count": 4,
   "id": "df92e3ec",
   "metadata": {
    "id": "df92e3ec"
   },
   "outputs": [
    {
     "name": "stderr",
     "output_type": "stream",
     "text": [
      "Setting default log level to \"WARN\".\n",
      "To adjust logging level use sc.setLogLevel(newLevel). For SparkR, use setLogLevel(newLevel).\n",
      "24/08/19 17:15:18 WARN NativeCodeLoader: Unable to load native-hadoop library for your platform... using builtin-java classes where applicable\n"
     ]
    }
   ],
   "source": [
    "spark = SparkSession.builder \\\n",
    "                    .master('local') \\\n",
    "                    .appName('California_housing') \\\n",
    "                    .getOrCreate()"
   ]
  },
  {
   "cell_type": "markdown",
   "id": "18390e69",
   "metadata": {},
   "source": [
    "**Вывод:** Локальная Spark-сессия запущена \n",
    "<a id='section_id2'></a>"
   ]
  },
  {
   "cell_type": "markdown",
   "id": "9f0a82f3",
   "metadata": {
    "id": "9f0a82f3"
   },
   "source": [
    "# Чтение и загрузка необходимых данных"
   ]
  },
  {
   "cell_type": "markdown",
   "id": "04901b7b",
   "metadata": {
    "id": "bddb08c4"
   },
   "source": [
    "Загрузим необходимые для выполнения исследрвания данные:"
   ]
  },
  {
   "cell_type": "code",
   "execution_count": 5,
   "id": "e4406a09",
   "metadata": {},
   "outputs": [
    {
     "name": "stderr",
     "output_type": "stream",
     "text": [
      "                                                                                \r"
     ]
    }
   ],
   "source": [
    "df = spark.read.load('/datasets/housing.csv', format='csv', inferSchema=True, header = 'true')"
   ]
  },
  {
   "cell_type": "markdown",
   "id": "9de17d67",
   "metadata": {},
   "source": [
    "Проверим, что данные загружены корректно и выведем первые 5 строк датафрейма"
   ]
  },
  {
   "cell_type": "code",
   "execution_count": 6,
   "id": "c3681a4a",
   "metadata": {},
   "outputs": [
    {
     "name": "stdout",
     "output_type": "stream",
     "text": [
      "+---------+--------+------------------+-----------+--------------+----------+----------+-------------+------------------+---------------+\n",
      "|longitude|latitude|housing_median_age|total_rooms|total_bedrooms|population|households|median_income|median_house_value|ocean_proximity|\n",
      "+---------+--------+------------------+-----------+--------------+----------+----------+-------------+------------------+---------------+\n",
      "|  -122.23|   37.88|              41.0|      880.0|         129.0|     322.0|     126.0|       8.3252|          452600.0|       NEAR BAY|\n",
      "|  -122.22|   37.86|              21.0|     7099.0|        1106.0|    2401.0|    1138.0|       8.3014|          358500.0|       NEAR BAY|\n",
      "|  -122.24|   37.85|              52.0|     1467.0|         190.0|     496.0|     177.0|       7.2574|          352100.0|       NEAR BAY|\n",
      "|  -122.25|   37.85|              52.0|     1274.0|         235.0|     558.0|     219.0|       5.6431|          341300.0|       NEAR BAY|\n",
      "|  -122.25|   37.85|              52.0|     1627.0|         280.0|     565.0|     259.0|       3.8462|          342200.0|       NEAR BAY|\n",
      "+---------+--------+------------------+-----------+--------------+----------+----------+-------------+------------------+---------------+\n",
      "only showing top 5 rows\n",
      "\n"
     ]
    }
   ],
   "source": [
    "df.show(5)"
   ]
  },
  {
   "cell_type": "markdown",
   "id": "6f7e0427",
   "metadata": {},
   "source": [
    "Выведем типы данных данных в столбцах:"
   ]
  },
  {
   "cell_type": "code",
   "execution_count": 8,
   "id": "79bf890a",
   "metadata": {},
   "outputs": [
    {
     "name": "stdout",
     "output_type": "stream",
     "text": [
      "root\n",
      " |-- longitude: double (nullable = true)\n",
      " |-- latitude: double (nullable = true)\n",
      " |-- housing_median_age: double (nullable = true)\n",
      " |-- total_rooms: double (nullable = true)\n",
      " |-- total_bedrooms: double (nullable = true)\n",
      " |-- population: double (nullable = true)\n",
      " |-- households: double (nullable = true)\n",
      " |-- median_income: double (nullable = true)\n",
      " |-- median_house_value: double (nullable = true)\n",
      " |-- ocean_proximity: string (nullable = true)\n",
      "\n"
     ]
    }
   ],
   "source": [
    "df.printSchema()"
   ]
  },
  {
   "cell_type": "markdown",
   "id": "4e8229fd",
   "metadata": {},
   "source": [
    "Выведем базовые статистичнсеские показатели датафрейма:"
   ]
  },
  {
   "cell_type": "code",
   "execution_count": 9,
   "id": "059310fc",
   "metadata": {},
   "outputs": [
    {
     "name": "stderr",
     "output_type": "stream",
     "text": [
      "24/08/19 17:15:39 WARN SparkStringUtils: Truncated the string representation of a plan since it was too large. This behavior can be adjusted by setting 'spark.sql.debug.maxToStringFields'.\n",
      "                                                                                \r"
     ]
    },
    {
     "data": {
      "text/html": [
       "<div>\n",
       "<style scoped>\n",
       "    .dataframe tbody tr th:only-of-type {\n",
       "        vertical-align: middle;\n",
       "    }\n",
       "\n",
       "    .dataframe tbody tr th {\n",
       "        vertical-align: top;\n",
       "    }\n",
       "\n",
       "    .dataframe thead th {\n",
       "        text-align: right;\n",
       "    }\n",
       "</style>\n",
       "<table border=\"1\" class=\"dataframe\">\n",
       "  <thead>\n",
       "    <tr style=\"text-align: right;\">\n",
       "      <th></th>\n",
       "      <th>0</th>\n",
       "      <th>1</th>\n",
       "      <th>2</th>\n",
       "      <th>3</th>\n",
       "      <th>4</th>\n",
       "    </tr>\n",
       "  </thead>\n",
       "  <tbody>\n",
       "    <tr>\n",
       "      <th>summary</th>\n",
       "      <td>count</td>\n",
       "      <td>mean</td>\n",
       "      <td>stddev</td>\n",
       "      <td>min</td>\n",
       "      <td>max</td>\n",
       "    </tr>\n",
       "    <tr>\n",
       "      <th>longitude</th>\n",
       "      <td>20640</td>\n",
       "      <td>-119.56970445736148</td>\n",
       "      <td>2.003531723502584</td>\n",
       "      <td>-124.35</td>\n",
       "      <td>-114.31</td>\n",
       "    </tr>\n",
       "    <tr>\n",
       "      <th>latitude</th>\n",
       "      <td>20640</td>\n",
       "      <td>35.6318614341087</td>\n",
       "      <td>2.135952397457101</td>\n",
       "      <td>32.54</td>\n",
       "      <td>41.95</td>\n",
       "    </tr>\n",
       "    <tr>\n",
       "      <th>housing_median_age</th>\n",
       "      <td>20640</td>\n",
       "      <td>28.639486434108527</td>\n",
       "      <td>12.58555761211163</td>\n",
       "      <td>1.0</td>\n",
       "      <td>52.0</td>\n",
       "    </tr>\n",
       "    <tr>\n",
       "      <th>total_rooms</th>\n",
       "      <td>20640</td>\n",
       "      <td>2635.7630813953488</td>\n",
       "      <td>2181.6152515827944</td>\n",
       "      <td>2.0</td>\n",
       "      <td>39320.0</td>\n",
       "    </tr>\n",
       "    <tr>\n",
       "      <th>total_bedrooms</th>\n",
       "      <td>20433</td>\n",
       "      <td>537.8705525375618</td>\n",
       "      <td>421.38507007403115</td>\n",
       "      <td>1.0</td>\n",
       "      <td>6445.0</td>\n",
       "    </tr>\n",
       "    <tr>\n",
       "      <th>population</th>\n",
       "      <td>20640</td>\n",
       "      <td>1425.4767441860465</td>\n",
       "      <td>1132.46212176534</td>\n",
       "      <td>3.0</td>\n",
       "      <td>35682.0</td>\n",
       "    </tr>\n",
       "    <tr>\n",
       "      <th>households</th>\n",
       "      <td>20640</td>\n",
       "      <td>499.5396802325581</td>\n",
       "      <td>382.3297528316098</td>\n",
       "      <td>1.0</td>\n",
       "      <td>6082.0</td>\n",
       "    </tr>\n",
       "    <tr>\n",
       "      <th>median_income</th>\n",
       "      <td>20640</td>\n",
       "      <td>3.8706710029070246</td>\n",
       "      <td>1.899821717945263</td>\n",
       "      <td>0.4999</td>\n",
       "      <td>15.0001</td>\n",
       "    </tr>\n",
       "    <tr>\n",
       "      <th>median_house_value</th>\n",
       "      <td>20640</td>\n",
       "      <td>206855.81690891474</td>\n",
       "      <td>115395.61587441359</td>\n",
       "      <td>14999.0</td>\n",
       "      <td>500001.0</td>\n",
       "    </tr>\n",
       "    <tr>\n",
       "      <th>ocean_proximity</th>\n",
       "      <td>20640</td>\n",
       "      <td>None</td>\n",
       "      <td>None</td>\n",
       "      <td>&lt;1H OCEAN</td>\n",
       "      <td>NEAR OCEAN</td>\n",
       "    </tr>\n",
       "  </tbody>\n",
       "</table>\n",
       "</div>"
      ],
      "text/plain": [
       "                        0                    1                   2          3  \\\n",
       "summary             count                 mean              stddev        min   \n",
       "longitude           20640  -119.56970445736148   2.003531723502584    -124.35   \n",
       "latitude            20640     35.6318614341087   2.135952397457101      32.54   \n",
       "housing_median_age  20640   28.639486434108527   12.58555761211163        1.0   \n",
       "total_rooms         20640   2635.7630813953488  2181.6152515827944        2.0   \n",
       "total_bedrooms      20433    537.8705525375618  421.38507007403115        1.0   \n",
       "population          20640   1425.4767441860465    1132.46212176534        3.0   \n",
       "households          20640    499.5396802325581   382.3297528316098        1.0   \n",
       "median_income       20640   3.8706710029070246   1.899821717945263     0.4999   \n",
       "median_house_value  20640   206855.81690891474  115395.61587441359    14999.0   \n",
       "ocean_proximity     20640                 None                None  <1H OCEAN   \n",
       "\n",
       "                             4  \n",
       "summary                    max  \n",
       "longitude              -114.31  \n",
       "latitude                 41.95  \n",
       "housing_median_age        52.0  \n",
       "total_rooms            39320.0  \n",
       "total_bedrooms          6445.0  \n",
       "population             35682.0  \n",
       "households              6082.0  \n",
       "median_income          15.0001  \n",
       "median_house_value    500001.0  \n",
       "ocean_proximity     NEAR OCEAN  "
      ]
     },
     "execution_count": 9,
     "metadata": {},
     "output_type": "execute_result"
    }
   ],
   "source": [
    "df.describe().toPandas().T"
   ]
  },
  {
   "cell_type": "markdown",
   "id": "becd64ac",
   "metadata": {},
   "source": [
    "**Вывод:**  Необходимые для выполнения исследования данные, успешно загружены. Выведены типы данных параметров методами pySpark. Выведены базовые статистики по столбцам датафрейма.\n",
    "<a id='section_id3'></a>"
   ]
  },
  {
   "cell_type": "markdown",
   "id": "757fd103",
   "metadata": {
    "id": "757fd103"
   },
   "source": [
    "# Предобработка данных"
   ]
  },
  {
   "cell_type": "markdown",
   "id": "16ab2cdc",
   "metadata": {},
   "source": [
    "Исследуем данные на наличие пропусков:"
   ]
  },
  {
   "cell_type": "code",
   "execution_count": 10,
   "id": "1fdb336c",
   "metadata": {},
   "outputs": [
    {
     "name": "stdout",
     "output_type": "stream",
     "text": [
      "longitude 0\n",
      "latitude 0\n",
      "housing_median_age 0\n",
      "total_rooms 0\n",
      "total_bedrooms 207\n",
      "population 0\n",
      "households 0\n",
      "median_income 0\n",
      "median_house_value 0\n",
      "ocean_proximity 0\n"
     ]
    }
   ],
   "source": [
    "columns = df.columns\n",
    "\n",
    "for column in columns:\n",
    "    check_col = F.col(column).isNull()\n",
    "    print(column, df.filter(check_col).count())"
   ]
  },
  {
   "cell_type": "markdown",
   "id": "25274af8",
   "metadata": {},
   "source": [
    "Обнаружено 207 пропущенных значений в столбце 'total_bedrooms'. Заменим их на  медианное значение по данному столбцу. "
   ]
  },
  {
   "cell_type": "code",
   "execution_count": 11,
   "id": "a81270e9",
   "metadata": {},
   "outputs": [],
   "source": [
    "df = df.fillna(df.agg(F.median('total_bedrooms')).collect()[0][0], 'total_bedrooms')"
   ]
  },
  {
   "cell_type": "markdown",
   "id": "82fac59d",
   "metadata": {},
   "source": [
    "Выполним замену пропусков в столбце 'total_bedrooms' на медианное значение по данному столбцу."
   ]
  },
  {
   "cell_type": "markdown",
   "id": "0f461707",
   "metadata": {},
   "source": [
    "Проверим результат проведенной замены:"
   ]
  },
  {
   "cell_type": "code",
   "execution_count": 12,
   "id": "1d35e1a6",
   "metadata": {},
   "outputs": [
    {
     "name": "stdout",
     "output_type": "stream",
     "text": [
      "longitude 0\n",
      "latitude 0\n",
      "housing_median_age 0\n",
      "total_rooms 0\n",
      "total_bedrooms 0\n",
      "population 0\n",
      "households 0\n",
      "median_income 0\n",
      "median_house_value 0\n",
      "ocean_proximity 0\n"
     ]
    }
   ],
   "source": [
    "columns = df.columns\n",
    "\n",
    "for column in columns:\n",
    "    check_col = F.col(column).isNull()\n",
    "    print(column, df.filter(check_col).count())"
   ]
  },
  {
   "cell_type": "markdown",
   "id": "1277f4e1",
   "metadata": {},
   "source": [
    "Пропуски в датафрейме устранены."
   ]
  },
  {
   "cell_type": "markdown",
   "id": "5a103d19",
   "metadata": {},
   "source": [
    "Подготовим датасет для последующей работы с моделью.   \n",
    "Выделим колонки содержащие категориальные и количественные признаки, а также таргет:"
   ]
  },
  {
   "cell_type": "code",
   "execution_count": 13,
   "id": "b37d3b28",
   "metadata": {},
   "outputs": [],
   "source": [
    "categorical_cols = 'ocean_proximity'\n",
    "numerical_cols  = [\n",
    "    'longitude', 'latitude', 'housing_median_age', \n",
    "    'total_rooms', 'total_bedrooms', 'population', \n",
    "    'households', 'median_income'\n",
    "]\n",
    "target = 'median_house_value'"
   ]
  },
  {
   "cell_type": "markdown",
   "id": "5079832b",
   "metadata": {},
   "source": [
    "Также, разделим датасет на обучающую и тестовую выборки:"
   ]
  },
  {
   "cell_type": "code",
   "execution_count": 14,
   "id": "703d3a71",
   "metadata": {},
   "outputs": [
    {
     "name": "stderr",
     "output_type": "stream",
     "text": [
      "                                                                                \r"
     ]
    },
    {
     "name": "stdout",
     "output_type": "stream",
     "text": [
      "16560 4080\n"
     ]
    }
   ],
   "source": [
    "train_data, test_data = df.randomSplit([.8,.2], seed=RANDOM_SEED)\n",
    "print(train_data.count(), test_data.count()) "
   ]
  },
  {
   "cell_type": "markdown",
   "id": "f9da1b25",
   "metadata": {},
   "source": [
    "Выполним преобразование колонки 'ocean_proximity' с категориальными значениями техникой One hot encoding. Для этого предварительно преобразуем значения столбца 'ocean_proximity' из строкового формата в числовой с помощью StringIndexer:"
   ]
  },
  {
   "cell_type": "code",
   "execution_count": 15,
   "id": "04377b21",
   "metadata": {},
   "outputs": [
    {
     "name": "stderr",
     "output_type": "stream",
     "text": [
      "                                                                                \r"
     ]
    },
    {
     "name": "stdout",
     "output_type": "stream",
     "text": [
      "+---------------+-------------------+\n",
      "|ocean_proximity|ocean_proximity_idx|\n",
      "+---------------+-------------------+\n",
      "|     NEAR OCEAN|                2.0|\n",
      "|     NEAR OCEAN|                2.0|\n",
      "|     NEAR OCEAN|                2.0|\n",
      "|     NEAR OCEAN|                2.0|\n",
      "|     NEAR OCEAN|                2.0|\n",
      "+---------------+-------------------+\n",
      "only showing top 5 rows\n",
      "\n",
      "+---------------+-------------------+\n",
      "|ocean_proximity|ocean_proximity_idx|\n",
      "+---------------+-------------------+\n",
      "|     NEAR OCEAN|                2.0|\n",
      "|     NEAR OCEAN|                2.0|\n",
      "|     NEAR OCEAN|                2.0|\n",
      "|     NEAR OCEAN|                2.0|\n",
      "|     NEAR OCEAN|                2.0|\n",
      "+---------------+-------------------+\n",
      "only showing top 5 rows\n",
      "\n"
     ]
    }
   ],
   "source": [
    "indexer = StringIndexer(inputCols = ['ocean_proximity'], \n",
    "                        outputCols = ['ocean_proximity_idx']).fit(train_data) \n",
    "\n",
    "train_data = indexer.transform(train_data)\n",
    "test_data = indexer.transform(test_data) \n",
    "\n",
    "cols = [c for c in train_data.columns if (c.startswith('o'))]\n",
    "\n",
    "train_data.select(cols).show(5) \n",
    "\n",
    "test_data.select(cols).show(5) \n"
   ]
  },
  {
   "cell_type": "markdown",
   "id": "cf236367",
   "metadata": {},
   "source": [
    "Затем выполним дополнительную обработку значений с помощью One hot encoding"
   ]
  },
  {
   "cell_type": "code",
   "execution_count": 16,
   "id": "d8b595bf",
   "metadata": {},
   "outputs": [
    {
     "name": "stdout",
     "output_type": "stream",
     "text": [
      "+---------------+-------------------+-------------------+\n",
      "|ocean_proximity|ocean_proximity_idx|ocean_proximity_ohe|\n",
      "+---------------+-------------------+-------------------+\n",
      "|     NEAR OCEAN|                2.0|      (4,[2],[1.0])|\n",
      "|     NEAR OCEAN|                2.0|      (4,[2],[1.0])|\n",
      "|     NEAR OCEAN|                2.0|      (4,[2],[1.0])|\n",
      "|     NEAR OCEAN|                2.0|      (4,[2],[1.0])|\n",
      "|     NEAR OCEAN|                2.0|      (4,[2],[1.0])|\n",
      "+---------------+-------------------+-------------------+\n",
      "only showing top 5 rows\n",
      "\n",
      "+---------------+-------------------+-------------------+\n",
      "|ocean_proximity|ocean_proximity_idx|ocean_proximity_ohe|\n",
      "+---------------+-------------------+-------------------+\n",
      "|     NEAR OCEAN|                2.0|      (4,[2],[1.0])|\n",
      "|     NEAR OCEAN|                2.0|      (4,[2],[1.0])|\n",
      "|     NEAR OCEAN|                2.0|      (4,[2],[1.0])|\n",
      "|     NEAR OCEAN|                2.0|      (4,[2],[1.0])|\n",
      "|     NEAR OCEAN|                2.0|      (4,[2],[1.0])|\n",
      "+---------------+-------------------+-------------------+\n",
      "only showing top 5 rows\n",
      "\n"
     ]
    }
   ],
   "source": [
    "encoder = OneHotEncoder(inputCols = ['ocean_proximity_idx'],\n",
    "                        outputCols = ['ocean_proximity_ohe']).fit(train_data)\n",
    "train_data = encoder.transform(train_data)\n",
    "\n",
    "test_data = encoder.transform(test_data)\n",
    "\n",
    "cols = [c for c in train_data.columns if (c.startswith('o'))]\n",
    "\n",
    "train_data.select(cols).show(5) \n",
    "\n",
    "test_data.select(cols).show(5) "
   ]
  },
  {
   "cell_type": "markdown",
   "id": "0a5e3f07",
   "metadata": {},
   "source": [
    "Объеденим полученные признаки в единый вектор. для дальнейшего использования в модели МО:"
   ]
  },
  {
   "cell_type": "code",
   "execution_count": 17,
   "id": "a552ed60",
   "metadata": {},
   "outputs": [],
   "source": [
    "categorical_assembler = (\n",
    "        VectorAssembler(inputCols=['ocean_proximity_ohe'],\n",
    "                        outputCol='categorical_feature')\n",
    ")\n",
    "\n",
    "train_data = categorical_assembler.transform(train_data) \n",
    "\n",
    "test_data = categorical_assembler.transform(test_data) "
   ]
  },
  {
   "cell_type": "markdown",
   "id": "417b9b10",
   "metadata": {},
   "source": [
    "Отмасштабируем столбцы с количественными значениями:"
   ]
  },
  {
   "cell_type": "code",
   "execution_count": 18,
   "id": "6b9b10e4",
   "metadata": {},
   "outputs": [],
   "source": [
    "numerical_assembler = (\n",
    "    VectorAssembler(inputCols=numerical_cols,\n",
    "                    outputCol='numerical_features')\n",
    ")\n",
    "\n",
    "train_data = numerical_assembler.transform(train_data)\n",
    "\n",
    "test_data = numerical_assembler.transform(test_data)"
   ]
  },
  {
   "cell_type": "markdown",
   "id": "33aa52bd",
   "metadata": {},
   "source": [
    "Отмасштабируем значения количественных параметров с помощью StandardScaler:"
   ]
  },
  {
   "cell_type": "code",
   "execution_count": 19,
   "id": "3e447a50",
   "metadata": {},
   "outputs": [
    {
     "name": "stderr",
     "output_type": "stream",
     "text": [
      "                                                                                \r"
     ]
    }
   ],
   "source": [
    "standardScaler = (\n",
    "    StandardScaler(inputCol='numerical_features',\n",
    "                   outputCol=\"numerical_features_scaled\").fit(train_data)\n",
    ")\n",
    "\n",
    "train_data = standardScaler.transform(train_data) \n",
    "\n",
    "test_data = standardScaler.transform(test_data) "
   ]
  },
  {
   "cell_type": "markdown",
   "id": "7e56a709",
   "metadata": {},
   "source": [
    "Выведем все столбцы датафрейма с учетом произведенных преобразований:"
   ]
  },
  {
   "cell_type": "code",
   "execution_count": 20,
   "id": "d17d4425",
   "metadata": {},
   "outputs": [
    {
     "name": "stdout",
     "output_type": "stream",
     "text": [
      "longitude\n",
      "latitude\n",
      "housing_median_age\n",
      "total_rooms\n",
      "total_bedrooms\n",
      "population\n",
      "households\n",
      "median_income\n",
      "median_house_value\n",
      "ocean_proximity\n",
      "ocean_proximity_idx\n",
      "ocean_proximity_ohe\n",
      "categorical_feature\n",
      "numerical_features\n",
      "numerical_features_scaled\n"
     ]
    }
   ],
   "source": [
    "for col in train_data.columns:\n",
    "    print(col)"
   ]
  },
  {
   "cell_type": "code",
   "execution_count": 21,
   "id": "5f88eaa6",
   "metadata": {},
   "outputs": [
    {
     "name": "stdout",
     "output_type": "stream",
     "text": [
      "longitude\n",
      "latitude\n",
      "housing_median_age\n",
      "total_rooms\n",
      "total_bedrooms\n",
      "population\n",
      "households\n",
      "median_income\n",
      "median_house_value\n",
      "ocean_proximity\n",
      "ocean_proximity_idx\n",
      "ocean_proximity_ohe\n",
      "categorical_feature\n",
      "numerical_features\n",
      "numerical_features_scaled\n"
     ]
    }
   ],
   "source": [
    "for col in test_data.columns:\n",
    "    print(col)"
   ]
  },
  {
   "cell_type": "markdown",
   "id": "76bbce88",
   "metadata": {},
   "source": [
    "Соберем финально обработанные признаки в итоговый вектор:"
   ]
  },
  {
   "cell_type": "code",
   "execution_count": 22,
   "id": "8256873b",
   "metadata": {},
   "outputs": [
    {
     "name": "stdout",
     "output_type": "stream",
     "text": [
      "+-------------------+-------------------------+\n",
      "|categorical_feature|numerical_features_scaled|\n",
      "+-------------------+-------------------------+\n",
      "|      (4,[2],[1.0])|     [-61.931952286653...|\n",
      "|      (4,[2],[1.0])|     [-61.907050013920...|\n",
      "|      (4,[2],[1.0])|     [-61.892108650280...|\n",
      "|      (4,[2],[1.0])|     [-61.887128195733...|\n",
      "|      (4,[2],[1.0])|     [-61.882147741187...|\n",
      "+-------------------+-------------------------+\n",
      "only showing top 5 rows\n",
      "\n",
      "+-------------------+-------------------------+\n",
      "|categorical_feature|numerical_features_scaled|\n",
      "+-------------------+-------------------------+\n",
      "|      (4,[2],[1.0])|     [-61.907050013920...|\n",
      "|      (4,[2],[1.0])|     [-61.872186832094...|\n",
      "|      (4,[2],[1.0])|     [-61.872186832094...|\n",
      "|      (4,[2],[1.0])|     [-61.852265013907...|\n",
      "|      (4,[2],[1.0])|     [-61.847284559361...|\n",
      "+-------------------+-------------------------+\n",
      "only showing top 5 rows\n",
      "\n"
     ]
    }
   ],
   "source": [
    "all_features = ['categorical_feature','numerical_features_scaled']\n",
    "\n",
    "final_assembler = VectorAssembler(inputCols=all_features, \n",
    "                                  outputCol='features') \n",
    "train_data = final_assembler.transform(train_data)\n",
    "\n",
    "test_data = final_assembler.transform(test_data)\n",
    "\n",
    "\n",
    "train_data.select(all_features).show(5) \n",
    "test_data.select(all_features).show(5) "
   ]
  },
  {
   "cell_type": "markdown",
   "id": "c06625d4",
   "metadata": {},
   "source": [
    "**Выводы:**  В рамках предобработки данных датасет проверен на наличие пропусков. Выявлены пропуски в столбце 'total_bedroms', заменены на медианное значение по данному столбцу. Также столбец 'ocean_proximity' содержащий категориальные значения, обработан с помощью StringIndexer и OneHotEncoder, количественные признаки обработаны с помощью StandardScaler. Все трансформированные признаки собраны в итоговый вектор.\n",
    "<a id='section_id4'></a>"
   ]
  },
  {
   "cell_type": "markdown",
   "id": "ed0272be",
   "metadata": {},
   "source": [
    "# Построение моделей линейной регрессии на разных наборах данных:\n"
   ]
  },
  {
   "cell_type": "markdown",
   "id": "d8f397f6",
   "metadata": {},
   "source": [
    "## Модель линейной регрессии с использованием категориальных и количественных признаков:"
   ]
  },
  {
   "cell_type": "markdown",
   "id": "4d509f40",
   "metadata": {},
   "source": [
    "Инициализируем и обучим модельь линейной регрессии:"
   ]
  },
  {
   "cell_type": "code",
   "execution_count": 23,
   "id": "c639269b",
   "metadata": {},
   "outputs": [
    {
     "name": "stderr",
     "output_type": "stream",
     "text": [
      "24/08/19 17:16:06 WARN Instrumentation: [b811786a] regParam is zero, which might cause numerical instability and overfitting.\n",
      "24/08/19 17:16:06 WARN InstanceBuilder: Failed to load implementation from:dev.ludovic.netlib.blas.JNIBLAS\n",
      "24/08/19 17:16:07 WARN InstanceBuilder: Failed to load implementation from:dev.ludovic.netlib.lapack.JNILAPACK\n",
      "                                                                                \r"
     ]
    }
   ],
   "source": [
    "lr = LinearRegression(labelCol=target, featuresCol='features')\n",
    "\n",
    "model = lr.fit(train_data) "
   ]
  },
  {
   "cell_type": "markdown",
   "id": "ab458c58",
   "metadata": {},
   "source": [
    "Получим предсказания на тестовой выборке:"
   ]
  },
  {
   "cell_type": "code",
   "execution_count": 24,
   "id": "9cc09dfe",
   "metadata": {},
   "outputs": [
    {
     "name": "stdout",
     "output_type": "stream",
     "text": [
      "+------------------+------------------+\n",
      "|median_house_value|        prediction|\n",
      "+------------------+------------------+\n",
      "|          103600.0|150533.04666316602|\n",
      "|          106700.0| 217624.6519294884|\n",
      "|           73200.0|125169.93075912353|\n",
      "|           90100.0| 195019.3159925216|\n",
      "|           67000.0|152291.13957492262|\n",
      "|           86400.0| 186076.1616788553|\n",
      "|           70500.0|163936.40808554646|\n",
      "|           85100.0|180008.60114514176|\n",
      "|           80500.0|181580.61779531697|\n",
      "|           96000.0|170314.90779798012|\n",
      "+------------------+------------------+\n",
      "only showing top 10 rows\n",
      "\n"
     ]
    }
   ],
   "source": [
    "predictions = model.transform(test_data)\n",
    "\n",
    "predictedLabes = predictions.select('median_house_value', 'prediction')\n",
    "predictedLabes.show(10) "
   ]
  },
  {
   "cell_type": "markdown",
   "id": "ff6513c9",
   "metadata": {},
   "source": [
    "Вычислим метрики качества работы модели RMSE, MAE, R2:"
   ]
  },
  {
   "cell_type": "code",
   "execution_count": 25,
   "id": "c68a84cf",
   "metadata": {},
   "outputs": [
    {
     "name": "stdout",
     "output_type": "stream",
     "text": [
      "RMSE:  68275.64811234415\n",
      "MAE:  49529.28174129566\n",
      "R-squared:  0.6462958477899968\n"
     ]
    }
   ],
   "source": [
    "print(\"RMSE: \", model.summary.rootMeanSquaredError)\n",
    "print(\"MAE: \", model.summary.meanAbsoluteError)\n",
    "print(\"R-squared: \", model.summary.r2) "
   ]
  },
  {
   "cell_type": "markdown",
   "id": "be8c3550",
   "metadata": {},
   "source": [
    "## Модель линейной регрессии с использованием только количественных признаков:"
   ]
  },
  {
   "cell_type": "markdown",
   "id": "797683d5",
   "metadata": {},
   "source": [
    "Выполним обучение и предсказание таргета, используя только количественные переменные:"
   ]
  },
  {
   "cell_type": "code",
   "execution_count": 26,
   "id": "29f242d6",
   "metadata": {},
   "outputs": [
    {
     "name": "stderr",
     "output_type": "stream",
     "text": [
      "24/08/19 17:16:10 WARN Instrumentation: [358fc9c1] regParam is zero, which might cause numerical instability and overfitting.\n",
      "                                                                                \r"
     ]
    }
   ],
   "source": [
    "lr_num = LinearRegression(labelCol=target, featuresCol='numerical_features_scaled')\n",
    "\n",
    "model_num = lr_num.fit(train_data) "
   ]
  },
  {
   "cell_type": "markdown",
   "id": "ea67596a",
   "metadata": {},
   "source": [
    "Получим предсказания на тестовой выборке:"
   ]
  },
  {
   "cell_type": "code",
   "execution_count": 27,
   "id": "7e112758",
   "metadata": {},
   "outputs": [
    {
     "name": "stdout",
     "output_type": "stream",
     "text": [
      "+------------------+------------------+\n",
      "|median_house_value|        prediction|\n",
      "+------------------+------------------+\n",
      "|          103600.0|100751.20280909259|\n",
      "|          106700.0|190787.23973705387|\n",
      "|           73200.0| 74736.22098583262|\n",
      "|           90100.0|162342.36984607764|\n",
      "|           67000.0| 119469.7378415009|\n",
      "|           86400.0| 155921.9725331883|\n",
      "|           70500.0|131193.75530479848|\n",
      "|           85100.0|150446.14696751628|\n",
      "|           80500.0|150167.76520445198|\n",
      "|           96000.0| 133759.4025147278|\n",
      "+------------------+------------------+\n",
      "only showing top 10 rows\n",
      "\n"
     ]
    }
   ],
   "source": [
    "predictions = model_num.transform(test_data)\n",
    "\n",
    "predictedLabes = predictions.select('median_house_value', 'prediction')\n",
    "predictedLabes.show(10) "
   ]
  },
  {
   "cell_type": "markdown",
   "id": "a53778e8",
   "metadata": {},
   "source": [
    "Вычислим метрики качества работы модели RMSE, MAE, R2:"
   ]
  },
  {
   "cell_type": "code",
   "execution_count": 28,
   "id": "5112efc3",
   "metadata": {},
   "outputs": [
    {
     "name": "stdout",
     "output_type": "stream",
     "text": [
      "RMSE:  69208.31730808293\n",
      "MAE:  50642.13150832837\n",
      "R-squared:  0.6365664003046897\n"
     ]
    }
   ],
   "source": [
    "print(\"RMSE: \", model_num.summary.rootMeanSquaredError)\n",
    "print(\"MAE: \", model_num.summary.meanAbsoluteError)\n",
    "print(\"R-squared: \", model_num.summary.r2) "
   ]
  },
  {
   "cell_type": "markdown",
   "id": "26132eaa",
   "metadata": {},
   "source": [
    "## Модель линейной регрессии с использованием категориальных и количественных признаков + синтетические признаки:"
   ]
  },
  {
   "cell_type": "markdown",
   "id": "4814e810",
   "metadata": {},
   "source": [
    "Добавим синтетические количественные признаки, такие как:\n",
    "- rooms_per_household: отношение общего количества комнат на одно домовладение;\n",
    "- population_in_household: количество жильцов в одном домовладении\n",
    "- bedroom_index: отношение количества спальных комнат к общему числу комнат"
   ]
  },
  {
   "cell_type": "code",
   "execution_count": 29,
   "id": "af1f1f28",
   "metadata": {},
   "outputs": [
    {
     "name": "stdout",
     "output_type": "stream",
     "text": [
      "root\n",
      " |-- longitude: double (nullable = true)\n",
      " |-- latitude: double (nullable = true)\n",
      " |-- housing_median_age: double (nullable = true)\n",
      " |-- total_rooms: double (nullable = true)\n",
      " |-- total_bedrooms: double (nullable = false)\n",
      " |-- population: double (nullable = true)\n",
      " |-- households: double (nullable = true)\n",
      " |-- median_income: double (nullable = true)\n",
      " |-- median_house_value: double (nullable = true)\n",
      " |-- ocean_proximity: string (nullable = true)\n",
      " |-- rooms_per_household: double (nullable = true)\n",
      " |-- population_in_household: double (nullable = true)\n",
      " |-- bedroom_index: double (nullable = true)\n",
      "\n"
     ]
    }
   ],
   "source": [
    "df_sint = (\n",
    "    df\n",
    "      .select(\n",
    "        [\n",
    "            'longitude', 'latitude', 'housing_median_age', 'total_rooms',\n",
    "        'total_bedrooms', 'population', 'households', 'median_income',\n",
    "        'median_house_value', 'ocean_proximity'\n",
    "        ]\n",
    "      )\n",
    "      .withColumn('rooms_per_household', F.col('total_rooms') / F.col('households'))\n",
    "      .withColumn('population_in_household', F.col('population') / F.col('households'))\n",
    "      .withColumn('bedroom_index', F.col('total_bedrooms') / F.col('total_rooms'))\n",
    ")\n",
    "df_sint.printSchema()"
   ]
  },
  {
   "cell_type": "markdown",
   "id": "0adfebcf",
   "metadata": {},
   "source": [
    "Добавим полученные признаки в список с количественными переменными:"
   ]
  },
  {
   "cell_type": "code",
   "execution_count": 30,
   "id": "3be4c422",
   "metadata": {},
   "outputs": [],
   "source": [
    "numerical_cols  = [\n",
    "    'longitude', 'latitude', 'housing_median_age', \n",
    "    'total_rooms', 'total_bedrooms', 'population', \n",
    "    'households', 'median_income', 'rooms_per_household', \n",
    "    'population_in_household', 'bedroom_index']"
   ]
  },
  {
   "cell_type": "markdown",
   "id": "ad633d3d",
   "metadata": {},
   "source": [
    "Разделим датасет на выборки:"
   ]
  },
  {
   "cell_type": "code",
   "execution_count": 31,
   "id": "6017a187",
   "metadata": {},
   "outputs": [],
   "source": [
    "train_data, test_data = df_sint.randomSplit([.8,.2], seed=RANDOM_SEED)"
   ]
  },
  {
   "cell_type": "markdown",
   "id": "523ef6db",
   "metadata": {},
   "source": [
    "Выполним кодирование категориальных переменных"
   ]
  },
  {
   "cell_type": "code",
   "execution_count": 32,
   "id": "7092deac",
   "metadata": {},
   "outputs": [
    {
     "name": "stdout",
     "output_type": "stream",
     "text": [
      "+---------------+-------------------+\n",
      "|ocean_proximity|ocean_proximity_idx|\n",
      "+---------------+-------------------+\n",
      "|     NEAR OCEAN|                2.0|\n",
      "|     NEAR OCEAN|                2.0|\n",
      "|     NEAR OCEAN|                2.0|\n",
      "|     NEAR OCEAN|                2.0|\n",
      "|     NEAR OCEAN|                2.0|\n",
      "+---------------+-------------------+\n",
      "only showing top 5 rows\n",
      "\n",
      "+---------------+-------------------+\n",
      "|ocean_proximity|ocean_proximity_idx|\n",
      "+---------------+-------------------+\n",
      "|     NEAR OCEAN|                2.0|\n",
      "|     NEAR OCEAN|                2.0|\n",
      "|     NEAR OCEAN|                2.0|\n",
      "|     NEAR OCEAN|                2.0|\n",
      "|     NEAR OCEAN|                2.0|\n",
      "+---------------+-------------------+\n",
      "only showing top 5 rows\n",
      "\n"
     ]
    }
   ],
   "source": [
    "indexer = StringIndexer(inputCols = ['ocean_proximity'], \n",
    "                        outputCols = ['ocean_proximity_idx']).fit(train_data) \n",
    "\n",
    "train_data = indexer.transform(train_data)\n",
    "\n",
    "test_data = indexer.transform(test_data)\n",
    "\n",
    "cols = [c for c in train_data.columns if (c.startswith('o'))]\n",
    "\n",
    "train_data.select(cols).show(5) \n",
    "test_data.select(cols).show(5) "
   ]
  },
  {
   "cell_type": "code",
   "execution_count": 33,
   "id": "0a11a4c4",
   "metadata": {},
   "outputs": [
    {
     "name": "stdout",
     "output_type": "stream",
     "text": [
      "+---------------+-------------------+-------------------+\n",
      "|ocean_proximity|ocean_proximity_idx|ocean_proximity_ohe|\n",
      "+---------------+-------------------+-------------------+\n",
      "|     NEAR OCEAN|                2.0|      (4,[2],[1.0])|\n",
      "|     NEAR OCEAN|                2.0|      (4,[2],[1.0])|\n",
      "|     NEAR OCEAN|                2.0|      (4,[2],[1.0])|\n",
      "|     NEAR OCEAN|                2.0|      (4,[2],[1.0])|\n",
      "|     NEAR OCEAN|                2.0|      (4,[2],[1.0])|\n",
      "+---------------+-------------------+-------------------+\n",
      "only showing top 5 rows\n",
      "\n",
      "+---------------+-------------------+-------------------+\n",
      "|ocean_proximity|ocean_proximity_idx|ocean_proximity_ohe|\n",
      "+---------------+-------------------+-------------------+\n",
      "|     NEAR OCEAN|                2.0|      (4,[2],[1.0])|\n",
      "|     NEAR OCEAN|                2.0|      (4,[2],[1.0])|\n",
      "|     NEAR OCEAN|                2.0|      (4,[2],[1.0])|\n",
      "|     NEAR OCEAN|                2.0|      (4,[2],[1.0])|\n",
      "|     NEAR OCEAN|                2.0|      (4,[2],[1.0])|\n",
      "+---------------+-------------------+-------------------+\n",
      "only showing top 5 rows\n",
      "\n"
     ]
    }
   ],
   "source": [
    "encoder = OneHotEncoder(inputCols = ['ocean_proximity_idx'],\n",
    "                        outputCols = ['ocean_proximity_ohe']).fit(train_data) \n",
    "\n",
    "train_data = encoder.transform(train_data)\n",
    "\n",
    "test_data = encoder.transform(test_data)\n",
    "\n",
    "cols = [c for c in train_data.columns if (c.startswith('o'))]\n",
    "\n",
    "train_data.select(cols).show(5) \n",
    "test_data.select(cols).show(5) "
   ]
  },
  {
   "cell_type": "code",
   "execution_count": 34,
   "id": "2bb10596",
   "metadata": {},
   "outputs": [],
   "source": [
    "categorical_assembler = (\n",
    "        VectorAssembler(inputCols=['ocean_proximity_ohe'],\n",
    "                        outputCol='categorical_feature')\n",
    ")\n",
    "\n",
    "train_data = categorical_assembler.transform(train_data) \n",
    "test_data = categorical_assembler.transform(test_data) "
   ]
  },
  {
   "cell_type": "markdown",
   "id": "455c914e",
   "metadata": {},
   "source": [
    "Отмасштабируем количественные переменные:"
   ]
  },
  {
   "cell_type": "code",
   "execution_count": 35,
   "id": "bd938b32",
   "metadata": {},
   "outputs": [],
   "source": [
    "numerical_assembler = (\n",
    "    VectorAssembler(inputCols=numerical_cols,\n",
    "                    outputCol='numerical_features')\n",
    ")\n",
    "\n",
    "train_data = numerical_assembler.transform(train_data)\n",
    "test_data = numerical_assembler.transform(test_data) "
   ]
  },
  {
   "cell_type": "code",
   "execution_count": 36,
   "id": "f46cfb64",
   "metadata": {},
   "outputs": [],
   "source": [
    "standardScaler = (\n",
    "    StandardScaler(inputCol='numerical_features',\n",
    "                   outputCol=\"numerical_features_scaled_sint\").fit(train_data)\n",
    ")\n",
    "\n",
    "train_data = standardScaler.transform(train_data) \n",
    "test_data = standardScaler.transform(test_data) "
   ]
  },
  {
   "cell_type": "markdown",
   "id": "3fab3f67",
   "metadata": {},
   "source": [
    "Объеденим обработанные параметры в единый вектор:"
   ]
  },
  {
   "cell_type": "code",
   "execution_count": 37,
   "id": "d889b9d1",
   "metadata": {},
   "outputs": [
    {
     "name": "stdout",
     "output_type": "stream",
     "text": [
      "+-------------------+------------------------------+\n",
      "|categorical_feature|numerical_features_scaled_sint|\n",
      "+-------------------+------------------------------+\n",
      "|      (4,[2],[1.0])|          [-61.931952286653...|\n",
      "|      (4,[2],[1.0])|          [-61.907050013920...|\n",
      "|      (4,[2],[1.0])|          [-61.892108650280...|\n",
      "|      (4,[2],[1.0])|          [-61.887128195733...|\n",
      "|      (4,[2],[1.0])|          [-61.882147741187...|\n",
      "+-------------------+------------------------------+\n",
      "only showing top 5 rows\n",
      "\n",
      "+-------------------+------------------------------+\n",
      "|categorical_feature|numerical_features_scaled_sint|\n",
      "+-------------------+------------------------------+\n",
      "|      (4,[2],[1.0])|          [-61.907050013920...|\n",
      "|      (4,[2],[1.0])|          [-61.872186832094...|\n",
      "|      (4,[2],[1.0])|          [-61.872186832094...|\n",
      "|      (4,[2],[1.0])|          [-61.852265013907...|\n",
      "|      (4,[2],[1.0])|          [-61.847284559361...|\n",
      "+-------------------+------------------------------+\n",
      "only showing top 5 rows\n",
      "\n"
     ]
    }
   ],
   "source": [
    "all_features = ['categorical_feature','numerical_features_scaled_sint']\n",
    "\n",
    "final_assembler = VectorAssembler(inputCols=all_features, \n",
    "                                  outputCol='features') \n",
    "train_data = final_assembler.transform(train_data)\n",
    "test_data = final_assembler.transform(test_data)\n",
    "\n",
    "train_data.select(all_features).show(5) \n",
    "test_data.select(all_features).show(5) "
   ]
  },
  {
   "cell_type": "markdown",
   "id": "1560577f",
   "metadata": {},
   "source": [
    "Обучим модель:"
   ]
  },
  {
   "cell_type": "code",
   "execution_count": 38,
   "id": "3479ab3f",
   "metadata": {},
   "outputs": [
    {
     "name": "stderr",
     "output_type": "stream",
     "text": [
      "24/08/19 17:16:19 WARN Instrumentation: [b86dec75] regParam is zero, which might cause numerical instability and overfitting.\n",
      "                                                                                \r"
     ]
    }
   ],
   "source": [
    "lr_sint = LinearRegression(labelCol=target, featuresCol='features')\n",
    "\n",
    "model_sint = lr_sint.fit(train_data) "
   ]
  },
  {
   "cell_type": "markdown",
   "id": "c379db50",
   "metadata": {},
   "source": [
    "Получим предсказания:"
   ]
  },
  {
   "cell_type": "code",
   "execution_count": 39,
   "id": "de383820",
   "metadata": {},
   "outputs": [
    {
     "name": "stdout",
     "output_type": "stream",
     "text": [
      "+------------------+------------------+\n",
      "|median_house_value|        prediction|\n",
      "+------------------+------------------+\n",
      "|          103600.0| 143149.1305572451|\n",
      "|          106700.0|211487.42533095786|\n",
      "|           73200.0|116373.69551048987|\n",
      "|           90100.0|189979.04517336376|\n",
      "|           67000.0|   147965.61785752|\n",
      "|           86400.0|180114.74099615915|\n",
      "|           70500.0|158470.41957549006|\n",
      "|           85100.0|175297.91066487553|\n",
      "|           80500.0| 179603.7597574396|\n",
      "|           96000.0|164368.05219191546|\n",
      "+------------------+------------------+\n",
      "only showing top 10 rows\n",
      "\n"
     ]
    }
   ],
   "source": [
    "predictions = model_sint.transform(test_data)\n",
    "\n",
    "predictedLabes = predictions.select('median_house_value', 'prediction')\n",
    "predictedLabes.show(10) "
   ]
  },
  {
   "cell_type": "markdown",
   "id": "3188f447",
   "metadata": {},
   "source": [
    "Вычислим метрики качества работы модели RMSE, MAE, R2, с учетом синтетических признаков:"
   ]
  },
  {
   "cell_type": "code",
   "execution_count": 40,
   "id": "ba33d334",
   "metadata": {},
   "outputs": [
    {
     "name": "stdout",
     "output_type": "stream",
     "text": [
      "RMSE:  67603.84182770473\n",
      "MAE:  48897.450947981124\n",
      "R-squared:  0.6532222301999069\n"
     ]
    }
   ],
   "source": [
    "print(\"RMSE: \", model_sint.summary.rootMeanSquaredError)\n",
    "print(\"MAE: \", model_sint.summary.meanAbsoluteError)\n",
    "print(\"R-squared: \", model_sint.summary.r2) "
   ]
  },
  {
   "cell_type": "markdown",
   "id": "4e3d6055",
   "metadata": {},
   "source": [
    "## Модель линейной регрессии с использованием только количественных признаков + синтетические признаки:"
   ]
  },
  {
   "cell_type": "markdown",
   "id": "75e90dbf",
   "metadata": {},
   "source": [
    "Выполним обучение и предсказание таргета, используя только количественные переменные, с учетом синтетических признаков, добавленных в предыдущем раздлеле:"
   ]
  },
  {
   "cell_type": "markdown",
   "id": "2e7a8fce",
   "metadata": {},
   "source": [
    "Обучим модель:"
   ]
  },
  {
   "cell_type": "code",
   "execution_count": 41,
   "id": "15853839",
   "metadata": {},
   "outputs": [
    {
     "name": "stderr",
     "output_type": "stream",
     "text": [
      "24/08/19 17:16:22 WARN Instrumentation: [f285a085] regParam is zero, which might cause numerical instability and overfitting.\n",
      "                                                                                \r"
     ]
    }
   ],
   "source": [
    "lr_sint_num = LinearRegression(labelCol=target, featuresCol='numerical_features_scaled_sint')\n",
    "\n",
    "model_sint_num = lr_sint_num.fit(train_data) "
   ]
  },
  {
   "cell_type": "markdown",
   "id": "4af6bcdc",
   "metadata": {},
   "source": [
    "Получим предсказания:"
   ]
  },
  {
   "cell_type": "code",
   "execution_count": 42,
   "id": "fd15f8b7",
   "metadata": {},
   "outputs": [
    {
     "name": "stdout",
     "output_type": "stream",
     "text": [
      "+------------------+------------------+\n",
      "|median_house_value|        prediction|\n",
      "+------------------+------------------+\n",
      "|          103600.0| 97433.52642005822|\n",
      "|          106700.0|186046.66599742137|\n",
      "|           73200.0| 69918.51765725994|\n",
      "|           90100.0|159691.44031975046|\n",
      "|           67000.0|117620.54859615443|\n",
      "|           86400.0|151906.66451797634|\n",
      "|           70500.0|127956.29838354839|\n",
      "|           85100.0| 147769.2753434647|\n",
      "|           80500.0|150667.28933509253|\n",
      "|           96000.0|130577.68817683496|\n",
      "+------------------+------------------+\n",
      "only showing top 10 rows\n",
      "\n"
     ]
    }
   ],
   "source": [
    "predictions = model_sint_num.transform(test_data)\n",
    "\n",
    "predictedLabes = predictions.select('median_house_value', 'prediction')\n",
    "predictedLabes.show(10) "
   ]
  },
  {
   "cell_type": "markdown",
   "id": "5ce4f02e",
   "metadata": {},
   "source": [
    "Вычислим метрики качества работы модели RMSE, MAE, R2 используя только количественные переменные, с учетом синтетических признаков:"
   ]
  },
  {
   "cell_type": "code",
   "execution_count": 43,
   "id": "0a5b0050",
   "metadata": {},
   "outputs": [
    {
     "name": "stdout",
     "output_type": "stream",
     "text": [
      "RMSE:  68369.89640425712\n",
      "MAE:  49781.18515374171\n",
      "R-squared:  0.6453186612888183\n"
     ]
    }
   ],
   "source": [
    "print(\"RMSE: \", model_sint_num.summary.rootMeanSquaredError)\n",
    "print(\"MAE: \", model_sint_num.summary.meanAbsoluteError)\n",
    "print(\"R-squared: \", model_sint_num.summary.r2) "
   ]
  },
  {
   "cell_type": "markdown",
   "id": "6d70f655",
   "metadata": {},
   "source": [
    "**Вывод:** В рамках данного раздела были получены предсказания таргета, с использованием модели линейной регрессии, на 4-х наборах данных:\n",
    "- весь набор признаков, содержащийся в исходном наборе данных;\n",
    "- использование только количественных признаков, содержащихся в исходном наборе;\n",
    "- использование набора всех признаков, с учетом добавленных синтетических данных;\n",
    "- использование только количественных признаков, с учетом добавленных синтетических данных.\n",
    "\n",
    "Качество работы модели оценивалось метриками RMSE, MAE и R2.\n",
    "<a id='section_id5'></a>\n"
   ]
  },
  {
   "cell_type": "markdown",
   "id": "7c45652a",
   "metadata": {},
   "source": [
    "# Сравнение результатов работы модели на двух наборах данных. Выводы."
   ]
  },
  {
   "cell_type": "markdown",
   "id": "fa6f929c",
   "metadata": {},
   "source": [
    "Сравним результаты работы модели на 4-х разных наборах данных, полученные в разделе выше."
   ]
  },
  {
   "cell_type": "markdown",
   "id": "c7835b9b",
   "metadata": {},
   "source": [
    "Сформируем отдельные датафреймы, содержащий значения метрик по результату работы модели на 4-х наборах данных и выведем их в виде графиков.\n",
    "\n",
    "Для различных наборов данных, будем использовать следующие обозначения:\n",
    " - NUM+CAT: весь набор признаков, содержащийся в исходном наборе данных;\n",
    " - NUM: только количественныt признакb, содержащихся в исходном наборе данных;\n",
    " - NUM+CAT+SINT: набора всех признаков, с учетом добавленных синтетических данных;\n",
    " - NUM+SINT: только количественные признаки, с учетом добавленных синтетических данных."
   ]
  },
  {
   "cell_type": "markdown",
   "id": "82f1aa71",
   "metadata": {},
   "source": [
    "Создадим датафрейм со значениями метрики RMSE, по резульаьам работы модели линейной регресси на 4-х наборах данных:"
   ]
  },
  {
   "cell_type": "code",
   "execution_count": 44,
   "id": "e86ab81d",
   "metadata": {},
   "outputs": [
    {
     "data": {
      "text/html": [
       "<div>\n",
       "<style scoped>\n",
       "    .dataframe tbody tr th:only-of-type {\n",
       "        vertical-align: middle;\n",
       "    }\n",
       "\n",
       "    .dataframe tbody tr th {\n",
       "        vertical-align: top;\n",
       "    }\n",
       "\n",
       "    .dataframe thead th {\n",
       "        text-align: right;\n",
       "    }\n",
       "</style>\n",
       "<table border=\"1\" class=\"dataframe\">\n",
       "  <thead>\n",
       "    <tr style=\"text-align: right;\">\n",
       "      <th></th>\n",
       "      <th>Schema</th>\n",
       "      <th>RMSE</th>\n",
       "    </tr>\n",
       "  </thead>\n",
       "  <tbody>\n",
       "    <tr>\n",
       "      <th>2</th>\n",
       "      <td>NUM+CAT+SINT</td>\n",
       "      <td>67603.841828</td>\n",
       "    </tr>\n",
       "    <tr>\n",
       "      <th>0</th>\n",
       "      <td>NUM+CAT</td>\n",
       "      <td>68275.648112</td>\n",
       "    </tr>\n",
       "    <tr>\n",
       "      <th>3</th>\n",
       "      <td>NUM+SINT</td>\n",
       "      <td>68369.896404</td>\n",
       "    </tr>\n",
       "    <tr>\n",
       "      <th>1</th>\n",
       "      <td>NUM</td>\n",
       "      <td>69208.317308</td>\n",
       "    </tr>\n",
       "  </tbody>\n",
       "</table>\n",
       "</div>"
      ],
      "text/plain": [
       "         Schema          RMSE\n",
       "2  NUM+CAT+SINT  67603.841828\n",
       "0       NUM+CAT  68275.648112\n",
       "3      NUM+SINT  68369.896404\n",
       "1           NUM  69208.317308"
      ]
     },
     "execution_count": 44,
     "metadata": {},
     "output_type": "execute_result"
    }
   ],
   "source": [
    "rmse_list = [\n",
    "    ['NUM+CAT', model.summary.rootMeanSquaredError],\n",
    "    ['NUM', model_num.summary.rootMeanSquaredError],\n",
    "    ['NUM+CAT+SINT', model_sint.summary.rootMeanSquaredError],\n",
    "    ['NUM+SINT', model_sint_num.summary.rootMeanSquaredError]\n",
    "]\n",
    "\n",
    "rmse = pd.DataFrame(rmse_list, columns = ['Schema', 'RMSE']).sort_values(by='RMSE')\n",
    "\n",
    "rmse"
   ]
  },
  {
   "cell_type": "markdown",
   "id": "41cf1e4c",
   "metadata": {},
   "source": [
    "Для удобства анализа графиков, напишем функцию, которая добавляет значение рассмтариваемого параметра, над колонкой графика barplot:"
   ]
  },
  {
   "cell_type": "code",
   "execution_count": 45,
   "id": "853c7a46",
   "metadata": {},
   "outputs": [],
   "source": [
    "def show_values(axs, orient=\"v\"):\n",
    "\n",
    "    for p in ax.patches:\n",
    "        _x = p.get_x() + p.get_width() / 2\n",
    "        _y = p.get_y() + p.get_height() + (p.get_height()*0.002)\n",
    "        value = '{:.3f}'.format(p.get_height())\n",
    "        ax.text(_x, _y, value, ha=\"center\") "
   ]
  },
  {
   "cell_type": "markdown",
   "id": "27e6ee9a",
   "metadata": {},
   "source": [
    "Выведем полученные значения RMSE на график. Для удобства чтения графика, выведем только верхний интервал по оси y (выше значения 60_000):"
   ]
  },
  {
   "cell_type": "code",
   "execution_count": 46,
   "id": "643661b8",
   "metadata": {},
   "outputs": [
    {
     "data": {
      "image/png": "[encoded data removed]",
      "text/plain": [
       "<Figure size 1080x720 with 1 Axes>"
      ]
     },
     "metadata": {
      "needs_background": "light"
     },
     "output_type": "display_data"
    }
   ],
   "source": [
    "fig, ax = plt.subplots(figsize = (15,10))\n",
    "ax.set_ylim(60_000, 72_000)\n",
    "\n",
    "show_values(sns.barplot(x='Schema', y='RMSE', data=rmse, ci=None))\n"
   ]
  },
  {
   "cell_type": "code",
   "execution_count": 47,
   "id": "eb9ec484",
   "metadata": {},
   "outputs": [
    {
     "data": {
      "text/plain": [
       "2    67603.841828\n",
       "0    68275.648112\n",
       "3    68369.896404\n",
       "1    69208.317308\n",
       "Name: RMSE, dtype: float64"
      ]
     },
     "execution_count": 47,
     "metadata": {},
     "output_type": "execute_result"
    }
   ],
   "source": [
    "rmse['RMSE'].sort_values()"
   ]
  },
  {
   "cell_type": "markdown",
   "id": "a597b5d6",
   "metadata": {},
   "source": [
    "Как видно из графика, метрика RMSE распределилась следующим образом(от лучшей к худшей):\n",
    "- модель, которой был передан набор всех данных из исходного набора + синтетические признаки;\n",
    "- модель, которой был передан набор всех данных из исходного набора;\n",
    "- модель, которой был передан набор только количественных данных + синтетческие признаки;\n",
    "- модель, которой был передан набор только количественных данных из исходного набора;"
   ]
  },
  {
   "cell_type": "code",
   "execution_count": 48,
   "id": "93043730",
   "metadata": {},
   "outputs": [
    {
     "data": {
      "text/html": [
       "<div>\n",
       "<style scoped>\n",
       "    .dataframe tbody tr th:only-of-type {\n",
       "        vertical-align: middle;\n",
       "    }\n",
       "\n",
       "    .dataframe tbody tr th {\n",
       "        vertical-align: top;\n",
       "    }\n",
       "\n",
       "    .dataframe thead th {\n",
       "        text-align: right;\n",
       "    }\n",
       "</style>\n",
       "<table border=\"1\" class=\"dataframe\">\n",
       "  <thead>\n",
       "    <tr style=\"text-align: right;\">\n",
       "      <th></th>\n",
       "      <th>Schema</th>\n",
       "      <th>MAE</th>\n",
       "    </tr>\n",
       "  </thead>\n",
       "  <tbody>\n",
       "    <tr>\n",
       "      <th>2</th>\n",
       "      <td>NUM+CAT+SINT</td>\n",
       "      <td>48897.450948</td>\n",
       "    </tr>\n",
       "    <tr>\n",
       "      <th>0</th>\n",
       "      <td>NUM+CAT</td>\n",
       "      <td>49529.281741</td>\n",
       "    </tr>\n",
       "    <tr>\n",
       "      <th>3</th>\n",
       "      <td>NUM+SINT</td>\n",
       "      <td>49781.185154</td>\n",
       "    </tr>\n",
       "    <tr>\n",
       "      <th>1</th>\n",
       "      <td>NUM</td>\n",
       "      <td>50642.131508</td>\n",
       "    </tr>\n",
       "  </tbody>\n",
       "</table>\n",
       "</div>"
      ],
      "text/plain": [
       "         Schema           MAE\n",
       "2  NUM+CAT+SINT  48897.450948\n",
       "0       NUM+CAT  49529.281741\n",
       "3      NUM+SINT  49781.185154\n",
       "1           NUM  50642.131508"
      ]
     },
     "execution_count": 48,
     "metadata": {},
     "output_type": "execute_result"
    }
   ],
   "source": [
    "mae_list = [\n",
    "    ['NUM+CAT', model.summary.meanAbsoluteError],\n",
    "    ['NUM', model_num.summary.meanAbsoluteError],\n",
    "    ['NUM+CAT+SINT', model_sint.summary.meanAbsoluteError],\n",
    "    ['NUM+SINT', model_sint_num.summary.meanAbsoluteError]\n",
    "]\n",
    "\n",
    "mae = pd.DataFrame(mae_list, columns = ['Schema', 'MAE']).sort_values(by='MAE')\n",
    "\n",
    "mae"
   ]
  },
  {
   "cell_type": "code",
   "execution_count": 49,
   "id": "df133852",
   "metadata": {},
   "outputs": [
    {
     "data": {
      "image/png": "[encoded data removed]",
      "text/plain": [
       "<Figure size 1080x720 with 1 Axes>"
      ]
     },
     "metadata": {
      "needs_background": "light"
     },
     "output_type": "display_data"
    }
   ],
   "source": [
    "fig, ax = plt.subplots(figsize = (15,10))\n",
    "ax.set_ylim(40_000, 52_000)\n",
    "\n",
    "show_values(sns.barplot(x='Schema', y='MAE', data=mae, ci=None))\n"
   ]
  },
  {
   "cell_type": "markdown",
   "id": "2d3b9b6f",
   "metadata": {},
   "source": [
    "Как видно из графика, метрика MAE распределилась следующим образом(от лучшей к худшей):\n",
    "\n",
    "модель, которой был передан набор всех данных из исходного набора + синтетические признаки;\n",
    "модель, которой был передан набор всех данных из исходного набора;\n",
    "модель, которой был передан набор только количественных данных + синтетческие признаки;\n",
    "модель, которой был передан набор только количественных данных из исходного набора;"
   ]
  },
  {
   "cell_type": "code",
   "execution_count": 50,
   "id": "c84ba604",
   "metadata": {},
   "outputs": [
    {
     "data": {
      "text/html": [
       "<div>\n",
       "<style scoped>\n",
       "    .dataframe tbody tr th:only-of-type {\n",
       "        vertical-align: middle;\n",
       "    }\n",
       "\n",
       "    .dataframe tbody tr th {\n",
       "        vertical-align: top;\n",
       "    }\n",
       "\n",
       "    .dataframe thead th {\n",
       "        text-align: right;\n",
       "    }\n",
       "</style>\n",
       "<table border=\"1\" class=\"dataframe\">\n",
       "  <thead>\n",
       "    <tr style=\"text-align: right;\">\n",
       "      <th></th>\n",
       "      <th>Schema</th>\n",
       "      <th>R2</th>\n",
       "    </tr>\n",
       "  </thead>\n",
       "  <tbody>\n",
       "    <tr>\n",
       "      <th>2</th>\n",
       "      <td>NUM+CAT+SINT</td>\n",
       "      <td>0.653222</td>\n",
       "    </tr>\n",
       "    <tr>\n",
       "      <th>0</th>\n",
       "      <td>NUM+CAT</td>\n",
       "      <td>0.646296</td>\n",
       "    </tr>\n",
       "    <tr>\n",
       "      <th>3</th>\n",
       "      <td>NUM+SINT</td>\n",
       "      <td>0.645319</td>\n",
       "    </tr>\n",
       "    <tr>\n",
       "      <th>1</th>\n",
       "      <td>NUM</td>\n",
       "      <td>0.636566</td>\n",
       "    </tr>\n",
       "  </tbody>\n",
       "</table>\n",
       "</div>"
      ],
      "text/plain": [
       "         Schema        R2\n",
       "2  NUM+CAT+SINT  0.653222\n",
       "0       NUM+CAT  0.646296\n",
       "3      NUM+SINT  0.645319\n",
       "1           NUM  0.636566"
      ]
     },
     "execution_count": 50,
     "metadata": {},
     "output_type": "execute_result"
    }
   ],
   "source": [
    "r2_list = [\n",
    "    ['NUM+CAT', model.summary.r2],\n",
    "    ['NUM', model_num.summary.r2],\n",
    "    ['NUM+CAT+SINT', model_sint.summary.r2],\n",
    "    ['NUM+SINT', model_sint_num.summary.r2]\n",
    "]\n",
    "\n",
    "r2 = pd.DataFrame(r2_list, columns = ['Schema', 'R2']).sort_values(by='R2', ascending=False)\n",
    "\n",
    "r2"
   ]
  },
  {
   "cell_type": "code",
   "execution_count": 51,
   "id": "d73cd689",
   "metadata": {},
   "outputs": [
    {
     "data": {
      "image/png": "[encoded data removed]",
      "text/plain": [
       "<Figure size 1080x720 with 1 Axes>"
      ]
     },
     "metadata": {
      "needs_background": "light"
     },
     "output_type": "display_data"
    }
   ],
   "source": [
    "fig, ax = plt.subplots(figsize = (15,10))\n",
    "ax.set_ylim(0.6, 0.66)\n",
    "\n",
    "show_values(sns.barplot(x=r2['Schema'], y=r2['R2']))"
   ]
  },
  {
   "cell_type": "code",
   "execution_count": 52,
   "id": "c4457e9a",
   "metadata": {},
   "outputs": [],
   "source": [
    "spark.stop()"
   ]
  },
  {
   "cell_type": "markdown",
   "id": "8578d76a",
   "metadata": {},
   "source": [
    "Как видно из графика, метрика R2 распределилась следующим образом(от лучшей к худшей):\n",
    "\n",
    "модель, которой был передан набор всех данных из исходного набора + синтетические признаки;\n",
    "модель, которой был передан набор всех данных из исходного набора;\n",
    "модель, которой был передан набор только количественных данных + синтетческие признаки;\n",
    "модель, которой был передан набор только количественных данных из исходного набора;"
   ]
  },
  {
   "cell_type": "markdown",
   "id": "bcce5efe",
   "metadata": {},
   "source": [
    "**Вывод:** Как видно из графиков выше, для всех трех ранее полученных метрик: RMSE, MAE и R2 справедлива следующая зависимость их распределения, в зависимости от набора данных преданных для обучения модели (далее модели перечислены от лучшего результата к худшему):\n",
    "- модель, которой был передан набор всех данных из исходного набора + синтетические признаки;\n",
    "- модель, которой был передан набор всех данных из исходного набора;\n",
    "- модель, которой был передан набор только количественных данных + синтетческие признаки;\n",
    "- модель, которой был передан набор только количественных данных из исходного набора.\n",
    "\n",
    "Отсюда можно прийти к выводу что категориальные данные, содержащиеся в столбце 'ocean_proximity' улучшают обобщающую способность модели и повышают исследуемые метрики. \n",
    "СТоит также обратить внимание, что использование синтетических признаков, также повышают точность прогноза модели и практически могут нивелировать отстутсвие категориального признака в передаваемых для обучения данных."
   ]
  },
  {
   "cell_type": "markdown",
   "id": "ebadc6f3",
   "metadata": {},
   "source": [
    "**Общий вывод:** \n",
    "    Целью данного проекта являлось:\n",
    "- обучить модель линейной регрессии на данных о жилье в Калифорнии в 1990 году;\n",
    "- выполнить предсказание медианной стоимость дома в жилом массиве;\n",
    "- обучить модель и сделать предсказания на тестовой выборке;\n",
    "- для оценки качества модели использовать метрики RMSE, MAE и R2.\n",
    "\n",
    "В рамках выполнения данного проекта:\n",
    "- инициализована локальная Spark-сессия;\n",
    "- загружены необходимые для выполнения исследования данные. Выведены типы данных параметров методами pySpark. Выведены базовые статистики по столбцам датафрейма.\n",
    "- в рамках предобработки данных датасет проверен на наличие пропусков. Выявленные пропуски в столбце 'total_bedroms', заменены на медианное значение по данному столбцу. Также столбец 'ocean_proximity' содержащий категориальные значения, обработан с помощью StringIndexer и OneHotEncoder, количественные признаки обработаны с помощью StandardScaler. Все трансформированные признаки собраны в итоговый вектор.\n",
    "- получены предсказания таргета, с использованием модели линейной регрессии, на 4-х наборах данных:\n",
    "1. весь набор признаков, содержащийся в исходном наборе данных;\n",
    "2. использование только количественных признаков, содержащихся в исходном наборе;\n",
    "3. использование набора всех признаков, с учетом добавленных синтетических данных;\n",
    "4. использование только количественных признаков, с учетом добавленных синтетических данных.\n",
    "Качество работы модели оценено метриками RMSE, MAE и R2.\n",
    "\n",
    "- для всех трех полученных метрик: RMSE, MAE и R2 справедлива следующая зависимость их распределения, в зависимости от набора данных преданных для обучения модели (далее модели перечислены от лучшего результата к худшему):\n",
    "\n",
    "1. модель, которой был передан набор всех данных из исходного набора + синтетические признаки (RMSE = 67_604 , MAE = 48_897, R2 = 0.653);\n",
    "2. модель, которой был передан набор всех данных из исходного набора (RMSE = 68_276, MAE = 49_529 , R2 = 0.646);\n",
    "3. модель, которой был передан набор только количественных данных + синтетческие признаки (RMSE = 68_370, MAE = 49_781, R2 = 0.645);\n",
    "4. модель, которой был передан набор только количественных данных из исходного набора (RMSE = 69_208, MAE = 50_642 , R2 = 0.637)\n",
    "\n",
    "Отсюда можно прийти к выводу что категориальные данные, содержащиеся в столбце 'ocean_proximity' улучшают обобщающую способность модели и повышают исследуемые метрики. Стоит обратить внимание, что использование синтетических признаков, также повышают точность прогноза модели и может практически нивелировать отстутсвие категориального признака, в передаваемых для обучения данных."
   ]
  }
 ],
 "metadata": {
  "ExecuteTimeLog": [
   {
    "duration": 83,
    "start_time": "2024-08-15T14:54:58.536Z"
   },
   {
    "duration": 68,
    "start_time": "2024-08-15T15:07:45.993Z"
   },
   {
    "duration": 375,
    "start_time": "2024-08-15T15:08:15.522Z"
   },
   {
    "duration": 64,
    "start_time": "2024-08-15T15:08:17.464Z"
   },
   {
    "duration": 14324,
    "start_time": "2024-08-15T15:08:31.600Z"
   },
   {
    "duration": 63,
    "start_time": "2024-08-15T15:10:34.480Z"
   },
   {
    "duration": 4,
    "start_time": "2024-08-15T15:11:09.812Z"
   },
   {
    "duration": 61,
    "start_time": "2024-08-15T15:16:26.549Z"
   },
   {
    "duration": 2749,
    "start_time": "2024-08-15T15:20:16.221Z"
   },
   {
    "duration": 4765,
    "start_time": "2024-08-15T15:20:47.044Z"
   },
   {
    "duration": 14,
    "start_time": "2024-08-15T15:21:15.718Z"
   },
   {
    "duration": 380,
    "start_time": "2024-08-15T15:21:32.722Z"
   },
   {
    "duration": 899,
    "start_time": "2024-08-15T15:21:54.121Z"
   },
   {
    "duration": 186,
    "start_time": "2024-08-15T15:21:57.700Z"
   },
   {
    "duration": 521,
    "start_time": "2024-08-15T15:22:24.179Z"
   },
   {
    "duration": 204,
    "start_time": "2024-08-15T15:22:25.489Z"
   },
   {
    "duration": 699,
    "start_time": "2024-08-15T15:22:41.905Z"
   },
   {
    "duration": 381,
    "start_time": "2024-08-15T15:22:43.681Z"
   },
   {
    "duration": 309,
    "start_time": "2024-08-15T15:22:52.690Z"
   },
   {
    "duration": 159,
    "start_time": "2024-08-15T15:22:53.632Z"
   },
   {
    "duration": 513,
    "start_time": "2024-08-15T15:23:02.009Z"
   },
   {
    "duration": 158,
    "start_time": "2024-08-15T15:23:03.033Z"
   },
   {
    "duration": 276,
    "start_time": "2024-08-15T15:23:11.020Z"
   },
   {
    "duration": 160,
    "start_time": "2024-08-15T15:23:11.430Z"
   },
   {
    "duration": 290,
    "start_time": "2024-08-15T15:23:19.826Z"
   },
   {
    "duration": 92,
    "start_time": "2024-08-15T15:23:20.543Z"
   },
   {
    "duration": 3,
    "start_time": "2024-08-15T15:23:28.907Z"
   },
   {
    "duration": 380,
    "start_time": "2024-08-15T15:23:41.130Z"
   },
   {
    "duration": 14482,
    "start_time": "2024-08-15T15:23:41.512Z"
   },
   {
    "duration": 7091,
    "start_time": "2024-08-15T15:23:55.995Z"
   },
   {
    "duration": 598,
    "start_time": "2024-08-15T15:24:03.088Z"
   },
   {
    "duration": 14,
    "start_time": "2024-08-15T15:24:03.688Z"
   },
   {
    "duration": 1272,
    "start_time": "2024-08-15T15:25:36.221Z"
   },
   {
    "duration": 490,
    "start_time": "2024-08-15T15:25:37.494Z"
   },
   {
    "duration": 3,
    "start_time": "2024-08-15T15:25:39.398Z"
   },
   {
    "duration": 333,
    "start_time": "2024-08-15T15:25:58.177Z"
   },
   {
    "duration": 1011,
    "start_time": "2024-08-15T15:26:27.100Z"
   },
   {
    "duration": 776,
    "start_time": "2024-08-15T15:26:38.207Z"
   },
   {
    "duration": 496,
    "start_time": "2024-08-15T15:26:46.471Z"
   },
   {
    "duration": 62,
    "start_time": "2024-08-15T15:27:25.690Z"
   },
   {
    "duration": 66,
    "start_time": "2024-08-15T15:28:12.505Z"
   },
   {
    "duration": 353,
    "start_time": "2024-08-15T15:28:41.775Z"
   },
   {
    "duration": 362,
    "start_time": "2024-08-15T15:30:04.003Z"
   },
   {
    "duration": 335,
    "start_time": "2024-08-15T15:31:12.100Z"
   },
   {
    "duration": 264,
    "start_time": "2024-08-15T15:48:15.495Z"
   },
   {
    "duration": 7,
    "start_time": "2024-08-15T15:48:56.946Z"
   },
   {
    "duration": 485,
    "start_time": "2024-08-15T15:49:05.159Z"
   },
   {
    "duration": 64,
    "start_time": "2024-08-15T15:50:22.471Z"
   },
   {
    "duration": 2978,
    "start_time": "2024-08-15T15:51:07.736Z"
   },
   {
    "duration": 1210,
    "start_time": "2024-08-15T15:52:07.582Z"
   },
   {
    "duration": 3,
    "start_time": "2024-08-15T15:53:31.401Z"
   },
   {
    "duration": 8,
    "start_time": "2024-08-15T15:55:02.333Z"
   },
   {
    "duration": 199,
    "start_time": "2024-08-15T15:56:12.399Z"
   },
   {
    "duration": 169,
    "start_time": "2024-08-15T15:56:20.056Z"
   },
   {
    "duration": 3298,
    "start_time": "2024-08-15T15:57:35.832Z"
   },
   {
    "duration": 413,
    "start_time": "2024-08-15T15:58:11.920Z"
   },
   {
    "duration": 12,
    "start_time": "2024-08-15T15:58:21.529Z"
   },
   {
    "duration": 2765,
    "start_time": "2024-08-15T15:58:28.718Z"
   },
   {
    "duration": 346,
    "start_time": "2024-08-15T15:58:49.152Z"
   },
   {
    "duration": 906,
    "start_time": "2024-08-15T15:59:15.297Z"
   },
   {
    "duration": 852,
    "start_time": "2024-08-15T15:59:28.883Z"
   },
   {
    "duration": 20,
    "start_time": "2024-08-15T15:59:39.533Z"
   },
   {
    "duration": 2322,
    "start_time": "2024-08-15T16:00:02.778Z"
   },
   {
    "duration": 1981,
    "start_time": "2024-08-15T16:00:15.540Z"
   },
   {
    "duration": 12,
    "start_time": "2024-08-15T16:02:14.673Z"
   },
   {
    "duration": 1895,
    "start_time": "2024-08-15T16:02:20.404Z"
   },
   {
    "duration": 11,
    "start_time": "2024-08-15T16:02:24.747Z"
   },
   {
    "duration": 1736,
    "start_time": "2024-08-15T16:02:34.536Z"
   },
   {
    "duration": 2386,
    "start_time": "2024-08-15T16:05:42.032Z"
   },
   {
    "duration": 1962,
    "start_time": "2024-08-15T16:06:40.298Z"
   },
   {
    "duration": 10,
    "start_time": "2024-08-15T16:06:49.563Z"
   },
   {
    "duration": 1486,
    "start_time": "2024-08-15T16:08:32.734Z"
   },
   {
    "duration": 269,
    "start_time": "2024-08-15T16:08:37.445Z"
   },
   {
    "duration": 21,
    "start_time": "2024-08-15T16:08:37.752Z"
   },
   {
    "duration": 1424,
    "start_time": "2024-08-15T16:08:58.642Z"
   },
   {
    "duration": 699,
    "start_time": "2024-08-15T16:09:08.092Z"
   },
   {
    "duration": 44,
    "start_time": "2024-08-16T07:38:42.946Z"
   },
   {
    "duration": 362,
    "start_time": "2024-08-16T07:38:51.343Z"
   },
   {
    "duration": 14729,
    "start_time": "2024-08-16T07:38:51.957Z"
   },
   {
    "duration": 8703,
    "start_time": "2024-08-16T07:39:06.690Z"
   },
   {
    "duration": 698,
    "start_time": "2024-08-16T07:39:15.395Z"
   },
   {
    "duration": 1310,
    "start_time": "2024-08-16T07:39:16.095Z"
   },
   {
    "duration": 5,
    "start_time": "2024-08-16T07:39:17.407Z"
   },
   {
    "duration": 4408,
    "start_time": "2024-08-16T07:39:17.414Z"
   },
   {
    "duration": 2488,
    "start_time": "2024-08-16T07:39:21.823Z"
   },
   {
    "duration": 914,
    "start_time": "2024-08-16T07:39:24.312Z"
   },
   {
    "duration": 79,
    "start_time": "2024-08-16T07:39:25.228Z"
   },
   {
    "duration": 106,
    "start_time": "2024-08-16T07:39:25.310Z"
   },
   {
    "duration": 15,
    "start_time": "2024-08-16T07:40:44.700Z"
   },
   {
    "duration": 31,
    "start_time": "2024-08-16T07:41:51.076Z"
   },
   {
    "duration": 23,
    "start_time": "2024-08-16T07:42:15.325Z"
   },
   {
    "duration": 586,
    "start_time": "2024-08-16T07:42:21.905Z"
   },
   {
    "duration": 5,
    "start_time": "2024-08-16T07:42:22.493Z"
   },
   {
    "duration": 3,
    "start_time": "2024-08-16T07:42:40.113Z"
   },
   {
    "duration": 4,
    "start_time": "2024-08-16T07:42:41.642Z"
   },
   {
    "duration": 536,
    "start_time": "2024-08-16T07:42:42.564Z"
   },
   {
    "duration": 194,
    "start_time": "2024-08-16T07:42:43.895Z"
   },
   {
    "duration": 613,
    "start_time": "2024-08-16T07:42:44.305Z"
   },
   {
    "duration": 4,
    "start_time": "2024-08-16T07:42:45.632Z"
   },
   {
    "duration": 1167,
    "start_time": "2024-08-16T07:42:46.148Z"
   },
   {
    "duration": 1342,
    "start_time": "2024-08-16T07:42:50.039Z"
   },
   {
    "duration": 544,
    "start_time": "2024-08-16T07:42:51.383Z"
   },
   {
    "duration": 20,
    "start_time": "2024-08-16T07:42:51.929Z"
   },
   {
    "duration": 71,
    "start_time": "2024-08-16T07:44:16.567Z"
   },
   {
    "duration": 10,
    "start_time": "2024-08-16T07:44:25.067Z"
   },
   {
    "duration": 4,
    "start_time": "2024-08-16T07:48:04.204Z"
   },
   {
    "duration": 8,
    "start_time": "2024-08-16T07:48:15.775Z"
   },
   {
    "duration": 6,
    "start_time": "2024-08-16T07:48:23.177Z"
   },
   {
    "duration": 6,
    "start_time": "2024-08-16T07:48:32.467Z"
   },
   {
    "duration": 7,
    "start_time": "2024-08-16T07:48:41.375Z"
   },
   {
    "duration": 3,
    "start_time": "2024-08-16T07:48:49.773Z"
   },
   {
    "duration": 8,
    "start_time": "2024-08-16T07:58:05.092Z"
   },
   {
    "duration": 15,
    "start_time": "2024-08-16T07:58:21.168Z"
   },
   {
    "duration": 294,
    "start_time": "2024-08-16T07:59:59.198Z"
   },
   {
    "duration": 145,
    "start_time": "2024-08-16T08:00:12.889Z"
   },
   {
    "duration": 157,
    "start_time": "2024-08-16T08:00:25.074Z"
   },
   {
    "duration": 78,
    "start_time": "2024-08-16T08:01:00.198Z"
   },
   {
    "duration": 8,
    "start_time": "2024-08-16T08:01:08.083Z"
   },
   {
    "duration": 7,
    "start_time": "2024-08-16T08:01:19.552Z"
   },
   {
    "duration": 12,
    "start_time": "2024-08-16T08:02:32.563Z"
   },
   {
    "duration": 8,
    "start_time": "2024-08-16T08:03:30.728Z"
   },
   {
    "duration": 8,
    "start_time": "2024-08-16T08:03:49.672Z"
   },
   {
    "duration": 16,
    "start_time": "2024-08-16T08:05:34.530Z"
   },
   {
    "duration": 11,
    "start_time": "2024-08-16T08:05:51.755Z"
   },
   {
    "duration": 7,
    "start_time": "2024-08-16T08:06:08.732Z"
   },
   {
    "duration": 8,
    "start_time": "2024-08-16T08:06:15.490Z"
   },
   {
    "duration": 14,
    "start_time": "2024-08-16T08:06:46.108Z"
   },
   {
    "duration": 20,
    "start_time": "2024-08-16T08:07:13.349Z"
   },
   {
    "duration": 6,
    "start_time": "2024-08-16T08:07:20.412Z"
   },
   {
    "duration": 335,
    "start_time": "2024-08-16T08:07:30.960Z"
   },
   {
    "duration": 12,
    "start_time": "2024-08-16T08:07:47.959Z"
   },
   {
    "duration": 198,
    "start_time": "2024-08-16T08:07:49.187Z"
   },
   {
    "duration": 24,
    "start_time": "2024-08-16T08:08:48.477Z"
   },
   {
    "duration": 64,
    "start_time": "2024-08-16T08:09:22.401Z"
   },
   {
    "duration": 22,
    "start_time": "2024-08-16T08:09:35.684Z"
   },
   {
    "duration": 20,
    "start_time": "2024-08-16T08:10:18.078Z"
   },
   {
    "duration": 14,
    "start_time": "2024-08-16T08:10:24.734Z"
   },
   {
    "duration": 16,
    "start_time": "2024-08-16T08:10:49.004Z"
   },
   {
    "duration": 14,
    "start_time": "2024-08-16T08:10:59.961Z"
   },
   {
    "duration": 70,
    "start_time": "2024-08-16T08:11:51.263Z"
   },
   {
    "duration": 247,
    "start_time": "2024-08-16T08:11:55.257Z"
   },
   {
    "duration": 238,
    "start_time": "2024-08-16T08:12:03.244Z"
   },
   {
    "duration": 202,
    "start_time": "2024-08-16T08:12:09.183Z"
   },
   {
    "duration": 17,
    "start_time": "2024-08-16T08:12:48.915Z"
   },
   {
    "duration": 14,
    "start_time": "2024-08-16T08:13:33.050Z"
   },
   {
    "duration": 14,
    "start_time": "2024-08-16T08:13:49.229Z"
   },
   {
    "duration": 7,
    "start_time": "2024-08-16T08:14:07.788Z"
   },
   {
    "duration": 4,
    "start_time": "2024-08-16T08:14:13.220Z"
   },
   {
    "duration": 3,
    "start_time": "2024-08-16T08:14:14.660Z"
   },
   {
    "duration": 557,
    "start_time": "2024-08-16T08:14:15.650Z"
   },
   {
    "duration": 124,
    "start_time": "2024-08-16T08:14:16.365Z"
   },
   {
    "duration": 486,
    "start_time": "2024-08-16T08:14:17.697Z"
   },
   {
    "duration": 3,
    "start_time": "2024-08-16T08:14:19.335Z"
   },
   {
    "duration": 1114,
    "start_time": "2024-08-16T08:14:20.678Z"
   },
   {
    "duration": 7,
    "start_time": "2024-08-16T08:14:23.432Z"
   },
   {
    "duration": 2770,
    "start_time": "2024-08-16T08:14:58.145Z"
   },
   {
    "duration": 2,
    "start_time": "2024-08-16T08:16:03.477Z"
   },
   {
    "duration": 4,
    "start_time": "2024-08-16T08:16:07.880Z"
   },
   {
    "duration": 4,
    "start_time": "2024-08-16T08:16:41.160Z"
   },
   {
    "duration": 115,
    "start_time": "2024-08-16T08:17:09.832Z"
   },
   {
    "duration": 8,
    "start_time": "2024-08-16T08:17:25.704Z"
   },
   {
    "duration": 1772,
    "start_time": "2024-08-16T08:17:56.015Z"
   },
   {
    "duration": 12,
    "start_time": "2024-08-16T08:18:21.205Z"
   },
   {
    "duration": 1464,
    "start_time": "2024-08-16T08:18:26.428Z"
   },
   {
    "duration": 3,
    "start_time": "2024-08-16T08:18:36.975Z"
   },
   {
    "duration": 3,
    "start_time": "2024-08-16T08:18:38.306Z"
   },
   {
    "duration": 279,
    "start_time": "2024-08-16T08:18:39.535Z"
   },
   {
    "duration": 157,
    "start_time": "2024-08-16T08:18:39.974Z"
   },
   {
    "duration": 20,
    "start_time": "2024-08-16T08:25:00.261Z"
   },
   {
    "duration": 161,
    "start_time": "2024-08-16T08:25:07.223Z"
   },
   {
    "duration": 7,
    "start_time": "2024-08-16T08:25:26.578Z"
   },
   {
    "duration": 16,
    "start_time": "2024-08-16T08:25:35.691Z"
   },
   {
    "duration": 143,
    "start_time": "2024-08-16T08:25:37.329Z"
   },
   {
    "duration": 11,
    "start_time": "2024-08-16T08:25:44.299Z"
   },
   {
    "duration": 170,
    "start_time": "2024-08-16T08:25:44.907Z"
   },
   {
    "duration": 7,
    "start_time": "2024-08-16T08:28:28.851Z"
   },
   {
    "duration": 96,
    "start_time": "2024-08-16T08:30:46.580Z"
   },
   {
    "duration": 7,
    "start_time": "2024-08-16T08:30:58.254Z"
   },
   {
    "duration": 10,
    "start_time": "2024-08-16T08:31:39.943Z"
   },
   {
    "duration": 7,
    "start_time": "2024-08-16T08:32:50.587Z"
   },
   {
    "duration": 9,
    "start_time": "2024-08-16T08:32:54.202Z"
   },
   {
    "duration": 7,
    "start_time": "2024-08-16T08:34:04.418Z"
   },
   {
    "duration": 5,
    "start_time": "2024-08-16T08:34:14.761Z"
   },
   {
    "duration": 84,
    "start_time": "2024-08-16T08:35:34.130Z"
   },
   {
    "duration": 38492,
    "start_time": "2024-08-16T08:35:39.242Z"
   },
   {
    "duration": 4,
    "start_time": "2024-08-16T08:36:21.533Z"
   },
   {
    "duration": 4,
    "start_time": "2024-08-16T08:36:30.479Z"
   },
   {
    "duration": 2483,
    "start_time": "2024-08-16T08:36:36.075Z"
   },
   {
    "duration": 4,
    "start_time": "2024-08-16T08:36:38.561Z"
   },
   {
    "duration": 15,
    "start_time": "2024-08-16T08:36:38.566Z"
   },
   {
    "duration": 10,
    "start_time": "2024-08-16T08:37:12.631Z"
   },
   {
    "duration": 7,
    "start_time": "2024-08-16T08:37:16.113Z"
   },
   {
    "duration": 3043,
    "start_time": "2024-08-16T09:12:40.350Z"
   },
   {
    "duration": 8,
    "start_time": "2024-08-16T09:12:43.395Z"
   },
   {
    "duration": 13382,
    "start_time": "2024-08-16T09:12:43.405Z"
   },
   {
    "duration": 11014,
    "start_time": "2024-08-16T09:12:56.790Z"
   },
   {
    "duration": 784,
    "start_time": "2024-08-16T09:13:07.805Z"
   },
   {
    "duration": 1232,
    "start_time": "2024-08-16T09:13:08.591Z"
   },
   {
    "duration": 4,
    "start_time": "2024-08-16T09:13:09.825Z"
   },
   {
    "duration": 4471,
    "start_time": "2024-08-16T09:13:09.830Z"
   },
   {
    "duration": 4809,
    "start_time": "2024-08-16T09:13:14.303Z"
   },
   {
    "duration": 168,
    "start_time": "2024-08-16T09:13:19.114Z"
   },
   {
    "duration": 0,
    "start_time": "2024-08-16T09:13:19.284Z"
   },
   {
    "duration": 0,
    "start_time": "2024-08-16T09:13:19.285Z"
   },
   {
    "duration": 2945,
    "start_time": "2024-08-16T09:13:39.930Z"
   },
   {
    "duration": 9,
    "start_time": "2024-08-16T09:13:42.877Z"
   },
   {
    "duration": 14662,
    "start_time": "2024-08-16T09:13:42.887Z"
   },
   {
    "duration": 10558,
    "start_time": "2024-08-16T09:13:57.552Z"
   },
   {
    "duration": 791,
    "start_time": "2024-08-16T09:14:08.111Z"
   },
   {
    "duration": 1681,
    "start_time": "2024-08-16T09:14:08.903Z"
   },
   {
    "duration": 6,
    "start_time": "2024-08-16T09:14:10.586Z"
   },
   {
    "duration": 4494,
    "start_time": "2024-08-16T09:14:10.594Z"
   },
   {
    "duration": 4207,
    "start_time": "2024-08-16T09:14:15.090Z"
   },
   {
    "duration": 127,
    "start_time": "2024-08-16T09:14:19.299Z"
   },
   {
    "duration": 0,
    "start_time": "2024-08-16T09:14:19.482Z"
   },
   {
    "duration": 0,
    "start_time": "2024-08-16T09:14:19.483Z"
   },
   {
    "duration": 2505,
    "start_time": "2024-08-16T09:14:51.952Z"
   },
   {
    "duration": 3047,
    "start_time": "2024-08-16T09:15:02.265Z"
   },
   {
    "duration": 8,
    "start_time": "2024-08-16T09:15:05.314Z"
   },
   {
    "duration": 13367,
    "start_time": "2024-08-16T09:15:05.324Z"
   },
   {
    "duration": 10994,
    "start_time": "2024-08-16T09:15:18.693Z"
   },
   {
    "duration": 803,
    "start_time": "2024-08-16T09:15:29.689Z"
   },
   {
    "duration": 1492,
    "start_time": "2024-08-16T09:15:30.494Z"
   },
   {
    "duration": 5,
    "start_time": "2024-08-16T09:15:31.988Z"
   },
   {
    "duration": 4309,
    "start_time": "2024-08-16T09:15:31.994Z"
   },
   {
    "duration": 4390,
    "start_time": "2024-08-16T09:15:36.306Z"
   },
   {
    "duration": 126,
    "start_time": "2024-08-16T09:15:40.698Z"
   },
   {
    "duration": 0,
    "start_time": "2024-08-16T09:15:40.826Z"
   },
   {
    "duration": 0,
    "start_time": "2024-08-16T09:15:40.827Z"
   },
   {
    "duration": 44,
    "start_time": "2024-08-16T09:17:59.298Z"
   },
   {
    "duration": 25,
    "start_time": "2024-08-16T09:18:10.714Z"
   },
   {
    "duration": 34,
    "start_time": "2024-08-16T09:18:20.597Z"
   },
   {
    "duration": 620,
    "start_time": "2024-08-16T09:18:28.691Z"
   },
   {
    "duration": 3,
    "start_time": "2024-08-16T09:18:48.181Z"
   },
   {
    "duration": 450,
    "start_time": "2024-08-16T09:18:57.771Z"
   },
   {
    "duration": 380,
    "start_time": "2024-08-16T09:19:03.914Z"
   },
   {
    "duration": 652,
    "start_time": "2024-08-16T09:19:14.461Z"
   },
   {
    "duration": 476,
    "start_time": "2024-08-16T09:19:36.088Z"
   },
   {
    "duration": 9,
    "start_time": "2024-08-16T09:19:36.565Z"
   },
   {
    "duration": 13710,
    "start_time": "2024-08-16T09:19:36.582Z"
   },
   {
    "duration": 10891,
    "start_time": "2024-08-16T09:19:50.294Z"
   },
   {
    "duration": 802,
    "start_time": "2024-08-16T09:20:01.187Z"
   },
   {
    "duration": 1420,
    "start_time": "2024-08-16T09:20:01.991Z"
   },
   {
    "duration": 5,
    "start_time": "2024-08-16T09:20:03.413Z"
   },
   {
    "duration": 4176,
    "start_time": "2024-08-16T09:20:03.420Z"
   },
   {
    "duration": 4518,
    "start_time": "2024-08-16T09:20:07.597Z"
   },
   {
    "duration": 770,
    "start_time": "2024-08-16T09:20:12.117Z"
   },
   {
    "duration": 125,
    "start_time": "2024-08-16T09:20:12.889Z"
   },
   {
    "duration": 0,
    "start_time": "2024-08-16T09:20:13.015Z"
   },
   {
    "duration": 0,
    "start_time": "2024-08-16T09:20:13.017Z"
   },
   {
    "duration": 504,
    "start_time": "2024-08-16T09:20:26.168Z"
   },
   {
    "duration": 12,
    "start_time": "2024-08-16T09:20:26.674Z"
   },
   {
    "duration": 13600,
    "start_time": "2024-08-16T09:20:26.687Z"
   },
   {
    "duration": 10794,
    "start_time": "2024-08-16T09:20:40.289Z"
   },
   {
    "duration": 898,
    "start_time": "2024-08-16T09:20:51.085Z"
   },
   {
    "duration": 1413,
    "start_time": "2024-08-16T09:20:51.985Z"
   },
   {
    "duration": 4,
    "start_time": "2024-08-16T09:20:53.400Z"
   },
   {
    "duration": 4401,
    "start_time": "2024-08-16T09:20:53.406Z"
   },
   {
    "duration": 4486,
    "start_time": "2024-08-16T09:20:57.809Z"
   },
   {
    "duration": 794,
    "start_time": "2024-08-16T09:21:02.297Z"
   },
   {
    "duration": 141,
    "start_time": "2024-08-16T09:21:03.093Z"
   },
   {
    "duration": 0,
    "start_time": "2024-08-16T09:21:03.236Z"
   },
   {
    "duration": 1,
    "start_time": "2024-08-16T09:21:03.239Z"
   },
   {
    "duration": 0,
    "start_time": "2024-08-16T09:21:03.241Z"
   },
   {
    "duration": 0,
    "start_time": "2024-08-16T09:21:03.282Z"
   },
   {
    "duration": 0,
    "start_time": "2024-08-16T09:21:03.283Z"
   },
   {
    "duration": 3,
    "start_time": "2024-08-16T09:21:05.298Z"
   },
   {
    "duration": 3,
    "start_time": "2024-08-16T09:21:06.175Z"
   },
   {
    "duration": 504,
    "start_time": "2024-08-16T09:21:26.772Z"
   },
   {
    "duration": 8,
    "start_time": "2024-08-16T09:21:27.278Z"
   },
   {
    "duration": 13507,
    "start_time": "2024-08-16T09:21:27.288Z"
   },
   {
    "duration": 10715,
    "start_time": "2024-08-16T09:21:40.797Z"
   },
   {
    "duration": 714,
    "start_time": "2024-08-16T09:21:51.581Z"
   },
   {
    "duration": 1409,
    "start_time": "2024-08-16T09:21:52.296Z"
   },
   {
    "duration": 4,
    "start_time": "2024-08-16T09:21:53.707Z"
   },
   {
    "duration": 4285,
    "start_time": "2024-08-16T09:21:53.712Z"
   },
   {
    "duration": 4615,
    "start_time": "2024-08-16T09:21:57.999Z"
   },
   {
    "duration": 809,
    "start_time": "2024-08-16T09:22:02.616Z"
   },
   {
    "duration": 118,
    "start_time": "2024-08-16T09:22:03.483Z"
   },
   {
    "duration": 0,
    "start_time": "2024-08-16T09:22:03.603Z"
   },
   {
    "duration": 648,
    "start_time": "2024-08-16T09:24:12.035Z"
   },
   {
    "duration": 16,
    "start_time": "2024-08-16T09:24:28.932Z"
   },
   {
    "duration": 374,
    "start_time": "2024-08-16T09:24:32.239Z"
   },
   {
    "duration": 18,
    "start_time": "2024-08-16T09:28:25.172Z"
   },
   {
    "duration": 25,
    "start_time": "2024-08-16T09:28:34.490Z"
   },
   {
    "duration": 3114,
    "start_time": "2024-08-16T09:28:47.085Z"
   },
   {
    "duration": 15,
    "start_time": "2024-08-16T09:29:08.411Z"
   },
   {
    "duration": 125,
    "start_time": "2024-08-16T09:29:20.367Z"
   },
   {
    "duration": 70,
    "start_time": "2024-08-16T09:29:27.533Z"
   },
   {
    "duration": 3148,
    "start_time": "2024-08-16T09:29:58.253Z"
   },
   {
    "duration": 9,
    "start_time": "2024-08-16T09:30:01.403Z"
   },
   {
    "duration": 14054,
    "start_time": "2024-08-16T09:30:10.747Z"
   },
   {
    "duration": 12794,
    "start_time": "2024-08-16T09:30:24.803Z"
   },
   {
    "duration": 1001,
    "start_time": "2024-08-16T09:30:37.599Z"
   },
   {
    "duration": 1883,
    "start_time": "2024-08-16T09:30:38.603Z"
   },
   {
    "duration": 6,
    "start_time": "2024-08-16T09:30:40.490Z"
   },
   {
    "duration": 5387,
    "start_time": "2024-08-16T09:30:40.498Z"
   },
   {
    "duration": 4628,
    "start_time": "2024-08-16T09:30:45.887Z"
   },
   {
    "duration": 614,
    "start_time": "2024-08-16T09:30:50.517Z"
   },
   {
    "duration": 0,
    "start_time": "2024-08-16T09:30:51.133Z"
   },
   {
    "duration": 20,
    "start_time": "2024-08-16T09:31:08.911Z"
   },
   {
    "duration": 715,
    "start_time": "2024-08-16T09:31:12.307Z"
   },
   {
    "duration": 24,
    "start_time": "2024-08-16T09:31:15.569Z"
   },
   {
    "duration": 3516,
    "start_time": "2024-08-16T09:31:20.381Z"
   },
   {
    "duration": 24,
    "start_time": "2024-08-16T09:31:29.113Z"
   },
   {
    "duration": 2673,
    "start_time": "2024-08-16T09:31:34.409Z"
   },
   {
    "duration": 15,
    "start_time": "2024-08-16T09:31:37.085Z"
   },
   {
    "duration": 327,
    "start_time": "2024-08-16T09:31:37.102Z"
   },
   {
    "duration": 15,
    "start_time": "2024-08-16T09:31:37.483Z"
   },
   {
    "duration": 13,
    "start_time": "2024-08-16T09:31:40.772Z"
   },
   {
    "duration": 16,
    "start_time": "2024-08-16T09:33:10.154Z"
   },
   {
    "duration": 2463,
    "start_time": "2024-08-16T09:33:12.919Z"
   },
   {
    "duration": 15,
    "start_time": "2024-08-16T09:33:27.562Z"
   },
   {
    "duration": 1222,
    "start_time": "2024-08-16T09:33:29.304Z"
   },
   {
    "duration": 3086,
    "start_time": "2024-08-16T09:36:31.067Z"
   },
   {
    "duration": 8,
    "start_time": "2024-08-16T09:36:34.155Z"
   },
   {
    "duration": 13582,
    "start_time": "2024-08-16T09:36:35.441Z"
   },
   {
    "duration": 10576,
    "start_time": "2024-08-16T09:36:49.025Z"
   },
   {
    "duration": 888,
    "start_time": "2024-08-16T09:36:59.603Z"
   },
   {
    "duration": 1391,
    "start_time": "2024-08-16T09:37:00.493Z"
   },
   {
    "duration": 5,
    "start_time": "2024-08-16T09:37:01.885Z"
   },
   {
    "duration": 4315,
    "start_time": "2024-08-16T09:37:01.891Z"
   },
   {
    "duration": 4180,
    "start_time": "2024-08-16T09:37:06.207Z"
   },
   {
    "duration": 21,
    "start_time": "2024-08-16T09:37:10.389Z"
   },
   {
    "duration": 709,
    "start_time": "2024-08-16T09:37:10.412Z"
   },
   {
    "duration": 3414,
    "start_time": "2024-08-16T09:43:46.269Z"
   },
   {
    "duration": 72,
    "start_time": "2024-08-16T09:44:16.170Z"
   },
   {
    "duration": 3174,
    "start_time": "2024-08-16T09:44:30.002Z"
   },
   {
    "duration": 8,
    "start_time": "2024-08-16T09:44:33.178Z"
   },
   {
    "duration": 13403,
    "start_time": "2024-08-16T09:44:33.188Z"
   },
   {
    "duration": 11616,
    "start_time": "2024-08-16T09:44:46.594Z"
   },
   {
    "duration": 783,
    "start_time": "2024-08-16T09:44:58.212Z"
   },
   {
    "duration": 1705,
    "start_time": "2024-08-16T09:44:58.997Z"
   },
   {
    "duration": 6,
    "start_time": "2024-08-16T09:45:00.704Z"
   },
   {
    "duration": 4485,
    "start_time": "2024-08-16T09:45:00.711Z"
   },
   {
    "duration": 4795,
    "start_time": "2024-08-16T09:45:05.198Z"
   },
   {
    "duration": 22,
    "start_time": "2024-08-16T09:45:09.995Z"
   },
   {
    "duration": 716,
    "start_time": "2024-08-16T09:45:10.083Z"
   },
   {
    "duration": 83,
    "start_time": "2024-08-16T09:45:10.801Z"
   },
   {
    "duration": 3850,
    "start_time": "2024-08-16T09:46:43.932Z"
   },
   {
    "duration": 4,
    "start_time": "2024-08-16T09:53:36.096Z"
   },
   {
    "duration": 21,
    "start_time": "2024-08-16T09:53:42.962Z"
   },
   {
    "duration": 2406,
    "start_time": "2024-08-16T09:53:47.533Z"
   },
   {
    "duration": 2974,
    "start_time": "2024-08-16T09:54:08.662Z"
   },
   {
    "duration": 8,
    "start_time": "2024-08-16T09:54:11.638Z"
   },
   {
    "duration": 13537,
    "start_time": "2024-08-16T09:54:11.647Z"
   },
   {
    "duration": 10813,
    "start_time": "2024-08-16T09:54:25.186Z"
   },
   {
    "duration": 887,
    "start_time": "2024-08-16T09:54:36.001Z"
   },
   {
    "duration": 1632,
    "start_time": "2024-08-16T09:54:36.890Z"
   },
   {
    "duration": 5,
    "start_time": "2024-08-16T09:54:38.523Z"
   },
   {
    "duration": 4480,
    "start_time": "2024-08-16T09:54:38.532Z"
   },
   {
    "duration": 4796,
    "start_time": "2024-08-16T09:54:43.014Z"
   },
   {
    "duration": 85,
    "start_time": "2024-08-16T09:54:47.812Z"
   },
   {
    "duration": 786,
    "start_time": "2024-08-16T09:54:47.899Z"
   },
   {
    "duration": 156,
    "start_time": "2024-08-16T09:54:48.687Z"
   },
   {
    "duration": 22,
    "start_time": "2024-08-16T09:55:08.261Z"
   },
   {
    "duration": 18,
    "start_time": "2024-08-16T09:55:23.314Z"
   },
   {
    "duration": 8,
    "start_time": "2024-08-16T09:55:50.861Z"
   },
   {
    "duration": 2935,
    "start_time": "2024-08-16T09:56:01.829Z"
   },
   {
    "duration": 19,
    "start_time": "2024-08-16T09:56:04.765Z"
   },
   {
    "duration": 13615,
    "start_time": "2024-08-16T09:56:04.786Z"
   },
   {
    "duration": 11086,
    "start_time": "2024-08-16T09:56:18.403Z"
   },
   {
    "duration": 899,
    "start_time": "2024-08-16T09:56:29.491Z"
   },
   {
    "duration": 1496,
    "start_time": "2024-08-16T09:56:30.391Z"
   },
   {
    "duration": 6,
    "start_time": "2024-08-16T09:56:31.888Z"
   },
   {
    "duration": 4517,
    "start_time": "2024-08-16T09:56:31.895Z"
   },
   {
    "duration": 4677,
    "start_time": "2024-08-16T09:56:36.413Z"
   },
   {
    "duration": 20,
    "start_time": "2024-08-16T09:56:41.092Z"
   },
   {
    "duration": 704,
    "start_time": "2024-08-16T09:56:41.113Z"
   },
   {
    "duration": 179,
    "start_time": "2024-08-16T09:56:41.819Z"
   },
   {
    "duration": 24,
    "start_time": "2024-08-16T09:59:03.374Z"
   },
   {
    "duration": 3,
    "start_time": "2024-08-16T09:59:45.463Z"
   },
   {
    "duration": 3,
    "start_time": "2024-08-16T10:00:05.223Z"
   },
   {
    "duration": 31,
    "start_time": "2024-08-16T10:00:27.036Z"
   },
   {
    "duration": 67,
    "start_time": "2024-08-16T10:01:25.820Z"
   },
   {
    "duration": 11,
    "start_time": "2024-08-16T10:01:29.911Z"
   },
   {
    "duration": 7,
    "start_time": "2024-08-16T10:01:31.752Z"
   },
   {
    "duration": 11,
    "start_time": "2024-08-16T10:01:36.401Z"
   },
   {
    "duration": 7,
    "start_time": "2024-08-16T10:01:37.692Z"
   },
   {
    "duration": 9,
    "start_time": "2024-08-16T10:01:45.506Z"
   },
   {
    "duration": 7,
    "start_time": "2024-08-16T10:01:48.241Z"
   },
   {
    "duration": 19,
    "start_time": "2024-08-16T10:02:00.162Z"
   },
   {
    "duration": 421,
    "start_time": "2024-08-16T10:02:01.075Z"
   },
   {
    "duration": 15,
    "start_time": "2024-08-16T10:03:38.525Z"
   },
   {
    "duration": 377,
    "start_time": "2024-08-16T10:03:39.139Z"
   },
   {
    "duration": 20,
    "start_time": "2024-08-16T10:03:41.903Z"
   },
   {
    "duration": 316,
    "start_time": "2024-08-16T10:04:28.495Z"
   },
   {
    "duration": 11,
    "start_time": "2024-08-16T10:05:05.671Z"
   },
   {
    "duration": 8,
    "start_time": "2024-08-16T10:05:11.606Z"
   },
   {
    "duration": 8,
    "start_time": "2024-08-16T10:05:18.980Z"
   },
   {
    "duration": 8,
    "start_time": "2024-08-16T10:05:23.708Z"
   },
   {
    "duration": 8,
    "start_time": "2024-08-16T10:05:27.068Z"
   },
   {
    "duration": 7,
    "start_time": "2024-08-16T10:05:34.364Z"
   },
   {
    "duration": 406,
    "start_time": "2024-08-16T10:06:27.806Z"
   },
   {
    "duration": 7,
    "start_time": "2024-08-16T10:07:37.118Z"
   },
   {
    "duration": 16,
    "start_time": "2024-08-16T10:07:46.145Z"
   },
   {
    "duration": 375,
    "start_time": "2024-08-16T10:07:54.629Z"
   },
   {
    "duration": 36,
    "start_time": "2024-08-16T10:08:29.855Z"
   },
   {
    "duration": 11,
    "start_time": "2024-08-16T10:08:54.636Z"
   },
   {
    "duration": 249,
    "start_time": "2024-08-16T10:09:34.060Z"
   },
   {
    "duration": 7,
    "start_time": "2024-08-16T10:09:58.124Z"
   },
   {
    "duration": 8,
    "start_time": "2024-08-16T10:10:07.668Z"
   },
   {
    "duration": 7,
    "start_time": "2024-08-16T10:10:11.966Z"
   },
   {
    "duration": 8,
    "start_time": "2024-08-16T10:10:18.502Z"
   },
   {
    "duration": 8,
    "start_time": "2024-08-16T10:10:28.133Z"
   },
   {
    "duration": 1251,
    "start_time": "2024-08-16T10:10:43.385Z"
   },
   {
    "duration": 1222,
    "start_time": "2024-08-16T10:10:52.628Z"
   },
   {
    "duration": 48,
    "start_time": "2024-08-16T10:10:57.517Z"
   },
   {
    "duration": 997,
    "start_time": "2024-08-16T10:11:11.138Z"
   },
   {
    "duration": 47,
    "start_time": "2024-08-16T10:11:16.564Z"
   },
   {
    "duration": 39,
    "start_time": "2024-08-16T10:11:26.906Z"
   },
   {
    "duration": 45,
    "start_time": "2024-08-16T10:11:34.276Z"
   },
   {
    "duration": 3,
    "start_time": "2024-08-16T10:11:45.236Z"
   },
   {
    "duration": 19,
    "start_time": "2024-08-16T10:11:52.313Z"
   },
   {
    "duration": 2822,
    "start_time": "2024-08-16T10:12:21.691Z"
   },
   {
    "duration": 5,
    "start_time": "2024-08-16T10:12:56.405Z"
   },
   {
    "duration": 23,
    "start_time": "2024-08-16T10:18:03.198Z"
   },
   {
    "duration": 16,
    "start_time": "2024-08-16T10:18:11.084Z"
   },
   {
    "duration": 40,
    "start_time": "2024-08-16T10:18:23.372Z"
   },
   {
    "duration": 14,
    "start_time": "2024-08-16T10:18:39.653Z"
   },
   {
    "duration": 16,
    "start_time": "2024-08-16T10:18:55.115Z"
   },
   {
    "duration": 15,
    "start_time": "2024-08-16T10:19:07.813Z"
   },
   {
    "duration": 449,
    "start_time": "2024-08-16T10:19:12.646Z"
   },
   {
    "duration": 291,
    "start_time": "2024-08-16T10:19:22.618Z"
   },
   {
    "duration": 308,
    "start_time": "2024-08-16T10:19:28.095Z"
   },
   {
    "duration": 17,
    "start_time": "2024-08-16T10:19:50.924Z"
   },
   {
    "duration": 14,
    "start_time": "2024-08-16T10:20:00.342Z"
   },
   {
    "duration": 21,
    "start_time": "2024-08-16T10:20:08.231Z"
   },
   {
    "duration": 6,
    "start_time": "2024-08-16T10:20:10.175Z"
   },
   {
    "duration": 7,
    "start_time": "2024-08-16T10:20:21.236Z"
   },
   {
    "duration": 15,
    "start_time": "2024-08-16T10:20:28.813Z"
   },
   {
    "duration": 14,
    "start_time": "2024-08-16T10:20:35.672Z"
   },
   {
    "duration": 1321,
    "start_time": "2024-08-16T10:20:45.811Z"
   },
   {
    "duration": 36,
    "start_time": "2024-08-16T10:21:01.273Z"
   },
   {
    "duration": 4,
    "start_time": "2024-08-16T10:21:31.686Z"
   },
   {
    "duration": 250,
    "start_time": "2024-08-16T10:21:46.639Z"
   },
   {
    "duration": 7,
    "start_time": "2024-08-16T10:22:44.188Z"
   },
   {
    "duration": 8,
    "start_time": "2024-08-16T10:22:52.378Z"
   },
   {
    "duration": 8,
    "start_time": "2024-08-16T10:23:00.996Z"
   },
   {
    "duration": 8,
    "start_time": "2024-08-16T10:23:09.275Z"
   },
   {
    "duration": 8,
    "start_time": "2024-08-16T10:23:17.774Z"
   },
   {
    "duration": 7,
    "start_time": "2024-08-16T10:23:32.110Z"
   },
   {
    "duration": 320,
    "start_time": "2024-08-16T10:23:48.290Z"
   },
   {
    "duration": 233,
    "start_time": "2024-08-16T10:24:26.384Z"
   },
   {
    "duration": 14,
    "start_time": "2024-08-16T10:24:27.484Z"
   },
   {
    "duration": 8,
    "start_time": "2024-08-16T10:24:32.630Z"
   },
   {
    "duration": 882,
    "start_time": "2024-08-16T10:24:43.590Z"
   },
   {
    "duration": 69,
    "start_time": "2024-08-16T10:24:57.011Z"
   },
   {
    "duration": 5,
    "start_time": "2024-08-16T10:25:03.965Z"
   },
   {
    "duration": 4,
    "start_time": "2024-08-16T10:25:08.879Z"
   },
   {
    "duration": 6,
    "start_time": "2024-08-16T10:25:25.365Z"
   },
   {
    "duration": 3,
    "start_time": "2024-08-16T10:25:30.792Z"
   },
   {
    "duration": 11,
    "start_time": "2024-08-16T10:25:56.085Z"
   },
   {
    "duration": 2071,
    "start_time": "2024-08-16T10:26:06.018Z"
   },
   {
    "duration": 3115,
    "start_time": "2024-08-16T10:26:14.735Z"
   },
   {
    "duration": 7,
    "start_time": "2024-08-16T10:26:17.852Z"
   },
   {
    "duration": 14237,
    "start_time": "2024-08-16T10:26:17.861Z"
   },
   {
    "duration": 11992,
    "start_time": "2024-08-16T10:26:32.102Z"
   },
   {
    "duration": 819,
    "start_time": "2024-08-16T10:26:44.096Z"
   },
   {
    "duration": 1679,
    "start_time": "2024-08-16T10:26:44.916Z"
   },
   {
    "duration": 5,
    "start_time": "2024-08-16T10:26:46.597Z"
   },
   {
    "duration": 5003,
    "start_time": "2024-08-16T10:26:46.603Z"
   },
   {
    "duration": 4997,
    "start_time": "2024-08-16T10:26:51.607Z"
   },
   {
    "duration": 785,
    "start_time": "2024-08-16T10:26:56.606Z"
   },
   {
    "duration": 6,
    "start_time": "2024-08-16T10:26:57.398Z"
   },
   {
    "duration": 6,
    "start_time": "2024-08-16T10:26:57.405Z"
   },
   {
    "duration": 84,
    "start_time": "2024-08-16T10:26:57.413Z"
   },
   {
    "duration": 3601,
    "start_time": "2024-08-16T10:26:57.501Z"
   },
   {
    "duration": 99,
    "start_time": "2024-08-16T10:28:02.141Z"
   },
   {
    "duration": 83,
    "start_time": "2024-08-16T10:28:05.418Z"
   },
   {
    "duration": 4,
    "start_time": "2024-08-16T10:44:04.915Z"
   },
   {
    "duration": 16,
    "start_time": "2024-08-16T10:44:05.866Z"
   },
   {
    "duration": 2639,
    "start_time": "2024-08-16T10:44:08.089Z"
   },
   {
    "duration": 14,
    "start_time": "2024-08-16T10:45:16.083Z"
   },
   {
    "duration": 73,
    "start_time": "2024-08-16T11:11:53.340Z"
   },
   {
    "duration": 720,
    "start_time": "2024-08-16T11:12:06.776Z"
   },
   {
    "duration": 8,
    "start_time": "2024-08-16T11:12:59.216Z"
   },
   {
    "duration": 464,
    "start_time": "2024-08-16T11:13:08.294Z"
   },
   {
    "duration": 394,
    "start_time": "2024-08-16T11:13:14.848Z"
   },
   {
    "duration": 650,
    "start_time": "2024-08-16T11:21:31.185Z"
   },
   {
    "duration": 2,
    "start_time": "2024-08-16T11:24:06.529Z"
   },
   {
    "duration": 2887,
    "start_time": "2024-08-16T11:26:02.756Z"
   },
   {
    "duration": 20,
    "start_time": "2024-08-16T11:34:54.523Z"
   },
   {
    "duration": 8,
    "start_time": "2024-08-16T11:35:21.147Z"
   },
   {
    "duration": 86,
    "start_time": "2024-08-16T11:35:38.270Z"
   },
   {
    "duration": 45,
    "start_time": "2024-08-16T11:36:13.678Z"
   },
   {
    "duration": 61,
    "start_time": "2024-08-16T11:36:35.211Z"
   },
   {
    "duration": 47,
    "start_time": "2024-08-16T11:36:41.429Z"
   },
   {
    "duration": 45,
    "start_time": "2024-08-16T11:36:47.778Z"
   },
   {
    "duration": 18,
    "start_time": "2024-08-16T11:38:57.650Z"
   },
   {
    "duration": 3265,
    "start_time": "2024-08-16T11:39:20.364Z"
   },
   {
    "duration": 8,
    "start_time": "2024-08-16T11:39:23.631Z"
   },
   {
    "duration": 13456,
    "start_time": "2024-08-16T11:39:23.640Z"
   },
   {
    "duration": 10983,
    "start_time": "2024-08-16T11:39:37.099Z"
   },
   {
    "duration": 809,
    "start_time": "2024-08-16T11:39:48.084Z"
   },
   {
    "duration": 1309,
    "start_time": "2024-08-16T11:39:48.895Z"
   },
   {
    "duration": 7,
    "start_time": "2024-08-16T11:39:50.206Z"
   },
   {
    "duration": 4483,
    "start_time": "2024-08-16T11:39:50.215Z"
   },
   {
    "duration": 4515,
    "start_time": "2024-08-16T11:39:54.699Z"
   },
   {
    "duration": 815,
    "start_time": "2024-08-16T11:39:59.283Z"
   },
   {
    "duration": 76,
    "start_time": "2024-08-16T11:40:00.108Z"
   },
   {
    "duration": 183,
    "start_time": "2024-08-16T11:40:00.186Z"
   },
   {
    "duration": 38,
    "start_time": "2024-08-16T11:40:00.371Z"
   },
   {
    "duration": 77,
    "start_time": "2024-08-16T11:40:00.411Z"
   },
   {
    "duration": 3394,
    "start_time": "2024-08-16T11:40:00.490Z"
   },
   {
    "duration": 740,
    "start_time": "2024-08-16T11:40:03.885Z"
   },
   {
    "duration": 3,
    "start_time": "2024-08-16T11:40:04.626Z"
   },
   {
    "duration": 116,
    "start_time": "2024-08-16T11:40:04.630Z"
   },
   {
    "duration": 0,
    "start_time": "2024-08-16T11:40:04.748Z"
   },
   {
    "duration": 2516,
    "start_time": "2024-08-16T12:13:55.001Z"
   },
   {
    "duration": 4,
    "start_time": "2024-08-16T12:15:14.680Z"
   },
   {
    "duration": 29,
    "start_time": "2024-08-16T12:15:30.848Z"
   },
   {
    "duration": 17,
    "start_time": "2024-08-16T12:16:09.145Z"
   },
   {
    "duration": 16,
    "start_time": "2024-08-16T12:16:22.898Z"
   },
   {
    "duration": 3260,
    "start_time": "2024-08-16T12:18:13.882Z"
   },
   {
    "duration": 7,
    "start_time": "2024-08-16T12:18:17.144Z"
   },
   {
    "duration": 13546,
    "start_time": "2024-08-16T12:18:17.153Z"
   },
   {
    "duration": 10821,
    "start_time": "2024-08-16T12:18:30.701Z"
   },
   {
    "duration": 913,
    "start_time": "2024-08-16T12:18:41.583Z"
   },
   {
    "duration": 1290,
    "start_time": "2024-08-16T12:18:42.497Z"
   },
   {
    "duration": 4,
    "start_time": "2024-08-16T12:18:43.789Z"
   },
   {
    "duration": 4391,
    "start_time": "2024-08-16T12:18:43.795Z"
   },
   {
    "duration": 4500,
    "start_time": "2024-08-16T12:18:48.188Z"
   },
   {
    "duration": 727,
    "start_time": "2024-08-16T12:18:52.691Z"
   },
   {
    "duration": 6,
    "start_time": "2024-08-16T12:18:53.481Z"
   },
   {
    "duration": 20,
    "start_time": "2024-08-16T12:18:53.489Z"
   },
   {
    "duration": 73,
    "start_time": "2024-08-16T12:18:53.510Z"
   },
   {
    "duration": 24,
    "start_time": "2024-08-16T12:18:53.584Z"
   },
   {
    "duration": 3191,
    "start_time": "2024-08-16T12:18:53.609Z"
   },
   {
    "duration": 1070,
    "start_time": "2024-08-16T12:18:56.802Z"
   },
   {
    "duration": 2,
    "start_time": "2024-08-16T12:18:57.873Z"
   },
   {
    "duration": 109,
    "start_time": "2024-08-16T12:18:57.881Z"
   },
   {
    "duration": 0,
    "start_time": "2024-08-16T12:18:57.992Z"
   },
   {
    "duration": 0,
    "start_time": "2024-08-16T12:18:57.993Z"
   },
   {
    "duration": 1761,
    "start_time": "2024-08-16T12:19:55.438Z"
   },
   {
    "duration": 707,
    "start_time": "2024-08-16T12:20:31.913Z"
   },
   {
    "duration": 4,
    "start_time": "2024-08-16T12:21:30.183Z"
   },
   {
    "duration": 4,
    "start_time": "2024-08-16T12:21:45.739Z"
   },
   {
    "duration": 53,
    "start_time": "2024-08-16T12:21:57.205Z"
   },
   {
    "duration": 3298,
    "start_time": "2024-08-16T12:22:15.548Z"
   },
   {
    "duration": 8,
    "start_time": "2024-08-16T12:22:18.848Z"
   },
   {
    "duration": 13540,
    "start_time": "2024-08-16T12:22:18.858Z"
   },
   {
    "duration": 10780,
    "start_time": "2024-08-16T12:22:32.401Z"
   },
   {
    "duration": 821,
    "start_time": "2024-08-16T12:22:43.183Z"
   },
   {
    "duration": 1312,
    "start_time": "2024-08-16T12:22:44.082Z"
   },
   {
    "duration": 5,
    "start_time": "2024-08-16T12:22:45.395Z"
   },
   {
    "duration": 4215,
    "start_time": "2024-08-16T12:22:45.401Z"
   },
   {
    "duration": 4428,
    "start_time": "2024-08-16T12:22:49.681Z"
   },
   {
    "duration": 704,
    "start_time": "2024-08-16T12:22:54.112Z"
   },
   {
    "duration": 8,
    "start_time": "2024-08-16T12:22:54.881Z"
   },
   {
    "duration": 4,
    "start_time": "2024-08-16T12:22:54.892Z"
   },
   {
    "duration": 4,
    "start_time": "2024-08-16T12:22:54.898Z"
   },
   {
    "duration": 81,
    "start_time": "2024-08-16T12:22:54.904Z"
   },
   {
    "duration": 3118,
    "start_time": "2024-08-16T12:22:54.986Z"
   },
   {
    "duration": 1038,
    "start_time": "2024-08-16T12:22:58.106Z"
   },
   {
    "duration": 3,
    "start_time": "2024-08-16T12:22:59.145Z"
   },
   {
    "duration": 1455,
    "start_time": "2024-08-16T12:22:59.149Z"
   },
   {
    "duration": 0,
    "start_time": "2024-08-16T12:23:00.605Z"
   },
   {
    "duration": 0,
    "start_time": "2024-08-16T12:23:00.607Z"
   },
   {
    "duration": 4,
    "start_time": "2024-08-16T12:23:14.211Z"
   },
   {
    "duration": 52,
    "start_time": "2024-08-16T12:24:04.499Z"
   },
   {
    "duration": 3487,
    "start_time": "2024-08-16T12:24:15.555Z"
   },
   {
    "duration": 8,
    "start_time": "2024-08-16T12:24:19.043Z"
   },
   {
    "duration": 13633,
    "start_time": "2024-08-16T12:24:19.053Z"
   },
   {
    "duration": 11108,
    "start_time": "2024-08-16T12:24:32.689Z"
   },
   {
    "duration": 889,
    "start_time": "2024-08-16T12:24:43.799Z"
   },
   {
    "duration": 1393,
    "start_time": "2024-08-16T12:24:44.690Z"
   },
   {
    "duration": 5,
    "start_time": "2024-08-16T12:24:46.084Z"
   },
   {
    "duration": 4310,
    "start_time": "2024-08-16T12:24:46.091Z"
   },
   {
    "duration": 4579,
    "start_time": "2024-08-16T12:24:50.403Z"
   },
   {
    "duration": 718,
    "start_time": "2024-08-16T12:24:54.985Z"
   },
   {
    "duration": 6,
    "start_time": "2024-08-16T12:24:55.705Z"
   },
   {
    "duration": 13,
    "start_time": "2024-08-16T12:24:55.713Z"
   },
   {
    "duration": 56,
    "start_time": "2024-08-16T12:24:55.727Z"
   },
   {
    "duration": 33,
    "start_time": "2024-08-16T12:24:55.784Z"
   },
   {
    "duration": 3482,
    "start_time": "2024-08-16T12:24:55.819Z"
   },
   {
    "duration": 884,
    "start_time": "2024-08-16T12:24:59.303Z"
   },
   {
    "duration": 4,
    "start_time": "2024-08-16T12:25:00.189Z"
   },
   {
    "duration": 1427,
    "start_time": "2024-08-16T12:25:00.195Z"
   },
   {
    "duration": 0,
    "start_time": "2024-08-16T12:25:01.623Z"
   },
   {
    "duration": 0,
    "start_time": "2024-08-16T12:25:01.624Z"
   },
   {
    "duration": 63,
    "start_time": "2024-08-16T12:28:05.242Z"
   },
   {
    "duration": 3229,
    "start_time": "2024-08-16T12:28:16.412Z"
   },
   {
    "duration": 8,
    "start_time": "2024-08-16T12:28:19.644Z"
   },
   {
    "duration": 13541,
    "start_time": "2024-08-16T12:28:19.653Z"
   },
   {
    "duration": 11111,
    "start_time": "2024-08-16T12:28:33.196Z"
   },
   {
    "duration": 882,
    "start_time": "2024-08-16T12:28:44.309Z"
   },
   {
    "duration": 1326,
    "start_time": "2024-08-16T12:28:45.193Z"
   },
   {
    "duration": 5,
    "start_time": "2024-08-16T12:28:46.520Z"
   },
   {
    "duration": 4368,
    "start_time": "2024-08-16T12:28:46.526Z"
   },
   {
    "duration": 4421,
    "start_time": "2024-08-16T12:28:50.896Z"
   },
   {
    "duration": 628,
    "start_time": "2024-08-16T12:28:55.383Z"
   },
   {
    "duration": 71,
    "start_time": "2024-08-16T12:28:56.013Z"
   },
   {
    "duration": 25,
    "start_time": "2024-08-16T12:28:56.085Z"
   },
   {
    "duration": 21,
    "start_time": "2024-08-16T12:28:56.112Z"
   },
   {
    "duration": 62,
    "start_time": "2024-08-16T12:28:56.136Z"
   },
   {
    "duration": 3294,
    "start_time": "2024-08-16T12:28:56.200Z"
   },
   {
    "duration": 737,
    "start_time": "2024-08-16T12:28:59.496Z"
   },
   {
    "duration": 2,
    "start_time": "2024-08-16T12:29:00.235Z"
   },
   {
    "duration": 1961,
    "start_time": "2024-08-16T12:29:00.239Z"
   },
   {
    "duration": 913,
    "start_time": "2024-08-16T12:29:02.203Z"
   },
   {
    "duration": 83,
    "start_time": "2024-08-16T12:29:03.117Z"
   },
   {
    "duration": 157,
    "start_time": "2024-08-16T12:33:00.252Z"
   },
   {
    "duration": 3243,
    "start_time": "2024-08-16T12:33:34.153Z"
   },
   {
    "duration": 8,
    "start_time": "2024-08-16T12:33:37.398Z"
   },
   {
    "duration": 13580,
    "start_time": "2024-08-16T12:33:37.407Z"
   },
   {
    "duration": 11121,
    "start_time": "2024-08-16T12:33:50.989Z"
   },
   {
    "duration": 1272,
    "start_time": "2024-08-16T12:34:02.112Z"
   },
   {
    "duration": 1210,
    "start_time": "2024-08-16T12:34:03.386Z"
   },
   {
    "duration": 4,
    "start_time": "2024-08-16T12:34:04.598Z"
   },
   {
    "duration": 4207,
    "start_time": "2024-08-16T12:34:04.604Z"
   },
   {
    "duration": 4780,
    "start_time": "2024-08-16T12:34:08.813Z"
   },
   {
    "duration": 599,
    "start_time": "2024-08-16T12:34:13.596Z"
   },
   {
    "duration": 6,
    "start_time": "2024-08-16T12:34:14.196Z"
   },
   {
    "duration": 10,
    "start_time": "2024-08-16T12:34:14.204Z"
   },
   {
    "duration": 13,
    "start_time": "2024-08-16T12:34:14.215Z"
   },
   {
    "duration": 73,
    "start_time": "2024-08-16T12:34:14.229Z"
   },
   {
    "duration": 2985,
    "start_time": "2024-08-16T12:34:14.303Z"
   },
   {
    "duration": 797,
    "start_time": "2024-08-16T12:34:17.290Z"
   },
   {
    "duration": 3,
    "start_time": "2024-08-16T12:34:18.088Z"
   },
   {
    "duration": 202,
    "start_time": "2024-08-16T12:34:18.093Z"
   },
   {
    "duration": 0,
    "start_time": "2024-08-16T12:34:18.296Z"
   },
   {
    "duration": 3284,
    "start_time": "2024-08-16T12:35:33.963Z"
   },
   {
    "duration": 8,
    "start_time": "2024-08-16T12:35:37.249Z"
   },
   {
    "duration": 13335,
    "start_time": "2024-08-16T12:35:37.258Z"
   },
   {
    "duration": 11294,
    "start_time": "2024-08-16T12:35:50.596Z"
   },
   {
    "duration": 799,
    "start_time": "2024-08-16T12:36:01.891Z"
   },
   {
    "duration": 1393,
    "start_time": "2024-08-16T12:36:02.692Z"
   },
   {
    "duration": 5,
    "start_time": "2024-08-16T12:36:04.086Z"
   },
   {
    "duration": 4499,
    "start_time": "2024-08-16T12:36:04.092Z"
   },
   {
    "duration": 4710,
    "start_time": "2024-08-16T12:36:08.593Z"
   },
   {
    "duration": 686,
    "start_time": "2024-08-16T12:36:13.305Z"
   },
   {
    "duration": 7,
    "start_time": "2024-08-16T12:36:13.992Z"
   },
   {
    "duration": 4,
    "start_time": "2024-08-16T12:36:14.001Z"
   },
   {
    "duration": 76,
    "start_time": "2024-08-16T12:36:14.007Z"
   },
   {
    "duration": 96,
    "start_time": "2024-08-16T12:36:14.085Z"
   },
   {
    "duration": 3726,
    "start_time": "2024-08-16T12:36:14.183Z"
   },
   {
    "duration": 784,
    "start_time": "2024-08-16T12:36:17.911Z"
   },
   {
    "duration": 3,
    "start_time": "2024-08-16T12:36:18.696Z"
   },
   {
    "duration": 1984,
    "start_time": "2024-08-16T12:36:18.701Z"
   },
   {
    "duration": 201,
    "start_time": "2024-08-16T12:36:20.687Z"
   },
   {
    "duration": 0,
    "start_time": "2024-08-16T12:36:20.890Z"
   },
   {
    "duration": 756,
    "start_time": "2024-08-16T12:37:14.751Z"
   },
   {
    "duration": 43,
    "start_time": "2024-08-16T12:38:56.299Z"
   },
   {
    "duration": 3211,
    "start_time": "2024-08-16T12:39:04.602Z"
   },
   {
    "duration": 8,
    "start_time": "2024-08-16T12:39:07.815Z"
   },
   {
    "duration": 13471,
    "start_time": "2024-08-16T12:39:07.825Z"
   },
   {
    "duration": 11110,
    "start_time": "2024-08-16T12:39:21.298Z"
   },
   {
    "duration": 883,
    "start_time": "2024-08-16T12:39:32.410Z"
   },
   {
    "duration": 1527,
    "start_time": "2024-08-16T12:39:33.294Z"
   },
   {
    "duration": 4,
    "start_time": "2024-08-16T12:39:34.822Z"
   },
   {
    "duration": 4804,
    "start_time": "2024-08-16T12:39:34.882Z"
   },
   {
    "duration": 4628,
    "start_time": "2024-08-16T12:39:39.688Z"
   },
   {
    "duration": 601,
    "start_time": "2024-08-16T12:39:44.381Z"
   },
   {
    "duration": 6,
    "start_time": "2024-08-16T12:39:44.984Z"
   },
   {
    "duration": 61,
    "start_time": "2024-08-16T12:39:44.991Z"
   },
   {
    "duration": 37,
    "start_time": "2024-08-16T12:39:45.053Z"
   },
   {
    "duration": 96,
    "start_time": "2024-08-16T12:39:45.091Z"
   },
   {
    "duration": 3329,
    "start_time": "2024-08-16T12:39:45.189Z"
   },
   {
    "duration": 900,
    "start_time": "2024-08-16T12:39:48.520Z"
   },
   {
    "duration": 2,
    "start_time": "2024-08-16T12:39:49.422Z"
   },
   {
    "duration": 1415,
    "start_time": "2024-08-16T12:39:49.483Z"
   },
   {
    "duration": 0,
    "start_time": "2024-08-16T12:39:50.900Z"
   },
   {
    "duration": 0,
    "start_time": "2024-08-16T12:39:50.901Z"
   },
   {
    "duration": 3244,
    "start_time": "2024-08-16T12:40:46.497Z"
   },
   {
    "duration": 8,
    "start_time": "2024-08-16T12:40:49.743Z"
   },
   {
    "duration": 13442,
    "start_time": "2024-08-16T12:40:49.753Z"
   },
   {
    "duration": 11096,
    "start_time": "2024-08-16T12:41:03.197Z"
   },
   {
    "duration": 813,
    "start_time": "2024-08-16T12:41:14.295Z"
   },
   {
    "duration": 1485,
    "start_time": "2024-08-16T12:41:15.110Z"
   },
   {
    "duration": 6,
    "start_time": "2024-08-16T12:41:16.597Z"
   },
   {
    "duration": 4507,
    "start_time": "2024-08-16T12:41:16.604Z"
   },
   {
    "duration": 4484,
    "start_time": "2024-08-16T12:41:21.113Z"
   },
   {
    "duration": 618,
    "start_time": "2024-08-16T12:41:25.599Z"
   },
   {
    "duration": 69,
    "start_time": "2024-08-16T12:41:26.218Z"
   },
   {
    "duration": 5,
    "start_time": "2024-08-16T12:41:26.288Z"
   },
   {
    "duration": 5,
    "start_time": "2024-08-16T12:41:26.294Z"
   },
   {
    "duration": 84,
    "start_time": "2024-08-16T12:41:26.302Z"
   },
   {
    "duration": 3123,
    "start_time": "2024-08-16T12:41:26.388Z"
   },
   {
    "duration": 1210,
    "start_time": "2024-08-16T12:41:29.513Z"
   },
   {
    "duration": 3,
    "start_time": "2024-08-16T12:41:30.724Z"
   },
   {
    "duration": 2019,
    "start_time": "2024-08-16T12:41:30.728Z"
   },
   {
    "duration": 724,
    "start_time": "2024-08-16T12:41:32.782Z"
   },
   {
    "duration": 79,
    "start_time": "2024-08-16T12:41:33.508Z"
   },
   {
    "duration": 3315,
    "start_time": "2024-08-16T12:42:15.888Z"
   },
   {
    "duration": 8,
    "start_time": "2024-08-16T12:42:19.205Z"
   },
   {
    "duration": 13673,
    "start_time": "2024-08-16T12:42:19.214Z"
   },
   {
    "duration": 10711,
    "start_time": "2024-08-16T12:42:32.889Z"
   },
   {
    "duration": 786,
    "start_time": "2024-08-16T12:42:43.602Z"
   },
   {
    "duration": 1494,
    "start_time": "2024-08-16T12:42:44.389Z"
   },
   {
    "duration": 4,
    "start_time": "2024-08-16T12:42:45.884Z"
   },
   {
    "duration": 4212,
    "start_time": "2024-08-16T12:42:45.890Z"
   },
   {
    "duration": 4590,
    "start_time": "2024-08-16T12:42:50.104Z"
   },
   {
    "duration": 624,
    "start_time": "2024-08-16T12:42:54.697Z"
   },
   {
    "duration": 64,
    "start_time": "2024-08-16T12:42:55.324Z"
   },
   {
    "duration": 12,
    "start_time": "2024-08-16T12:42:55.390Z"
   },
   {
    "duration": 5,
    "start_time": "2024-08-16T12:42:55.404Z"
   },
   {
    "duration": 91,
    "start_time": "2024-08-16T12:42:55.410Z"
   },
   {
    "duration": 3012,
    "start_time": "2024-08-16T12:42:55.503Z"
   },
   {
    "duration": 1016,
    "start_time": "2024-08-16T12:42:58.516Z"
   },
   {
    "duration": 3,
    "start_time": "2024-08-16T12:42:59.533Z"
   },
   {
    "duration": 1834,
    "start_time": "2024-08-16T12:42:59.537Z"
   },
   {
    "duration": 812,
    "start_time": "2024-08-16T12:43:01.382Z"
   },
   {
    "duration": 87,
    "start_time": "2024-08-16T12:43:02.196Z"
   },
   {
    "duration": 145,
    "start_time": "2024-08-16T12:43:33.193Z"
   },
   {
    "duration": 4401,
    "start_time": "2024-08-16T12:43:39.043Z"
   },
   {
    "duration": 8,
    "start_time": "2024-08-16T12:43:43.446Z"
   },
   {
    "duration": 13238,
    "start_time": "2024-08-16T12:43:43.456Z"
   },
   {
    "duration": 11307,
    "start_time": "2024-08-16T12:43:56.696Z"
   },
   {
    "duration": 805,
    "start_time": "2024-08-16T12:44:08.005Z"
   },
   {
    "duration": 1497,
    "start_time": "2024-08-16T12:44:08.811Z"
   },
   {
    "duration": 5,
    "start_time": "2024-08-16T12:44:10.310Z"
   },
   {
    "duration": 4275,
    "start_time": "2024-08-16T12:44:10.317Z"
   },
   {
    "duration": 4311,
    "start_time": "2024-08-16T12:44:14.594Z"
   },
   {
    "duration": 695,
    "start_time": "2024-08-16T12:44:18.907Z"
   },
   {
    "duration": 5,
    "start_time": "2024-08-16T12:44:19.604Z"
   },
   {
    "duration": 71,
    "start_time": "2024-08-16T12:44:19.611Z"
   },
   {
    "duration": 10,
    "start_time": "2024-08-16T12:44:19.684Z"
   },
   {
    "duration": 33,
    "start_time": "2024-08-16T12:44:19.695Z"
   },
   {
    "duration": 3278,
    "start_time": "2024-08-16T12:44:19.730Z"
   },
   {
    "duration": 702,
    "start_time": "2024-08-16T12:44:23.010Z"
   },
   {
    "duration": 3,
    "start_time": "2024-08-16T12:44:23.713Z"
   },
   {
    "duration": 1677,
    "start_time": "2024-08-16T12:44:23.717Z"
   },
   {
    "duration": 733,
    "start_time": "2024-08-16T12:44:25.396Z"
   },
   {
    "duration": 88,
    "start_time": "2024-08-16T12:44:26.183Z"
   },
   {
    "duration": 68,
    "start_time": "2024-08-16T12:55:06.242Z"
   },
   {
    "duration": 87,
    "start_time": "2024-08-16T12:56:50.509Z"
   },
   {
    "duration": 82,
    "start_time": "2024-08-16T12:59:59.314Z"
   },
   {
    "duration": 29,
    "start_time": "2024-08-16T13:01:48.371Z"
   },
   {
    "duration": 1285,
    "start_time": "2024-08-16T13:01:49.101Z"
   },
   {
    "duration": 4,
    "start_time": "2024-08-16T13:02:02.709Z"
   },
   {
    "duration": 3,
    "start_time": "2024-08-16T13:06:26.397Z"
   },
   {
    "duration": 4,
    "start_time": "2024-08-16T13:07:03.975Z"
   },
   {
    "duration": 507,
    "start_time": "2024-08-16T13:08:00.803Z"
   },
   {
    "duration": 2,
    "start_time": "2024-08-16T13:11:47.453Z"
   },
   {
    "duration": 3300,
    "start_time": "2024-08-16T13:13:28.794Z"
   },
   {
    "duration": 3,
    "start_time": "2024-08-16T13:14:14.362Z"
   },
   {
    "duration": 1621,
    "start_time": "2024-08-16T13:14:19.072Z"
   },
   {
    "duration": 2595,
    "start_time": "2024-08-16T13:15:22.976Z"
   },
   {
    "duration": 2635,
    "start_time": "2024-08-16T13:16:36.005Z"
   },
   {
    "duration": 62,
    "start_time": "2024-08-16T13:17:18.470Z"
   },
   {
    "duration": 9,
    "start_time": "2024-08-16T13:19:03.030Z"
   },
   {
    "duration": 2498,
    "start_time": "2024-08-16T13:20:16.494Z"
   },
   {
    "duration": 3529,
    "start_time": "2024-08-16T13:20:25.467Z"
   },
   {
    "duration": 772,
    "start_time": "2024-08-16T13:22:20.255Z"
   },
   {
    "duration": 12,
    "start_time": "2024-08-16T14:37:29.109Z"
   },
   {
    "duration": 2520,
    "start_time": "2024-08-16T14:37:35.228Z"
   },
   {
    "duration": 14,
    "start_time": "2024-08-16T14:37:40.560Z"
   },
   {
    "duration": 72,
    "start_time": "2024-08-16T14:38:44.264Z"
   },
   {
    "duration": 52,
    "start_time": "2024-08-16T14:39:05.334Z"
   },
   {
    "duration": 48,
    "start_time": "2024-08-16T14:39:53.973Z"
   },
   {
    "duration": 67,
    "start_time": "2024-08-16T14:41:10.059Z"
   },
   {
    "duration": 37,
    "start_time": "2024-08-16T14:41:15.794Z"
   },
   {
    "duration": 41,
    "start_time": "2024-08-16T14:41:28.395Z"
   },
   {
    "duration": 43,
    "start_time": "2024-08-16T14:41:36.896Z"
   },
   {
    "duration": 46,
    "start_time": "2024-08-16T14:42:26.960Z"
   },
   {
    "duration": 41,
    "start_time": "2024-08-16T14:42:47.040Z"
   },
   {
    "duration": 88,
    "start_time": "2024-08-16T14:45:32.718Z"
   },
   {
    "duration": 1051,
    "start_time": "2024-08-16T14:45:41.933Z"
   },
   {
    "duration": 43,
    "start_time": "2024-08-16T14:45:52.993Z"
   },
   {
    "duration": 4,
    "start_time": "2024-08-16T14:47:29.352Z"
   },
   {
    "duration": 46,
    "start_time": "2024-08-16T14:47:33.243Z"
   },
   {
    "duration": 8,
    "start_time": "2024-08-16T14:47:40.729Z"
   },
   {
    "duration": 4,
    "start_time": "2024-08-16T14:47:41.129Z"
   },
   {
    "duration": 48,
    "start_time": "2024-08-16T14:47:41.436Z"
   },
   {
    "duration": 3211,
    "start_time": "2024-08-16T14:47:48.730Z"
   },
   {
    "duration": 9,
    "start_time": "2024-08-16T14:47:51.943Z"
   },
   {
    "duration": 10,
    "start_time": "2024-08-16T14:47:51.953Z"
   },
   {
    "duration": 13127,
    "start_time": "2024-08-16T14:47:51.965Z"
   },
   {
    "duration": 11311,
    "start_time": "2024-08-16T14:48:05.094Z"
   },
   {
    "duration": 984,
    "start_time": "2024-08-16T14:48:16.406Z"
   },
   {
    "duration": 1461,
    "start_time": "2024-08-16T14:48:17.392Z"
   },
   {
    "duration": 4,
    "start_time": "2024-08-16T14:48:18.855Z"
   },
   {
    "duration": 4845,
    "start_time": "2024-08-16T14:48:18.861Z"
   },
   {
    "duration": 4990,
    "start_time": "2024-08-16T14:48:23.708Z"
   },
   {
    "duration": 699,
    "start_time": "2024-08-16T14:48:28.700Z"
   },
   {
    "duration": 10,
    "start_time": "2024-08-16T14:48:29.401Z"
   },
   {
    "duration": 69,
    "start_time": "2024-08-16T14:48:29.413Z"
   },
   {
    "duration": 17,
    "start_time": "2024-08-16T14:48:29.485Z"
   },
   {
    "duration": 86,
    "start_time": "2024-08-16T14:48:29.504Z"
   },
   {
    "duration": 3311,
    "start_time": "2024-08-16T14:48:29.593Z"
   },
   {
    "duration": 1379,
    "start_time": "2024-08-16T14:48:32.907Z"
   },
   {
    "duration": 4,
    "start_time": "2024-08-16T14:48:34.287Z"
   },
   {
    "duration": 1863,
    "start_time": "2024-08-16T14:48:34.292Z"
   },
   {
    "duration": 918,
    "start_time": "2024-08-16T14:48:36.183Z"
   },
   {
    "duration": 213,
    "start_time": "2024-08-16T14:48:37.103Z"
   },
   {
    "duration": 163,
    "start_time": "2024-08-16T14:48:37.319Z"
   },
   {
    "duration": 1428,
    "start_time": "2024-08-16T14:48:37.484Z"
   },
   {
    "duration": 6,
    "start_time": "2024-08-16T14:48:38.914Z"
   },
   {
    "duration": 582,
    "start_time": "2024-08-16T14:48:38.922Z"
   },
   {
    "duration": 3277,
    "start_time": "2024-08-16T14:48:39.506Z"
   },
   {
    "duration": 3407,
    "start_time": "2024-08-16T14:48:42.785Z"
   },
   {
    "duration": 1089,
    "start_time": "2024-08-16T14:48:46.195Z"
   },
   {
    "duration": 17,
    "start_time": "2024-08-16T14:48:47.286Z"
   },
   {
    "duration": 4,
    "start_time": "2024-08-16T14:48:47.305Z"
   },
   {
    "duration": 211,
    "start_time": "2024-08-16T14:48:47.311Z"
   },
   {
    "duration": 0,
    "start_time": "2024-08-16T14:48:47.524Z"
   },
   {
    "duration": 0,
    "start_time": "2024-08-16T14:48:47.526Z"
   },
   {
    "duration": 36,
    "start_time": "2024-08-16T14:51:07.061Z"
   },
   {
    "duration": 25,
    "start_time": "2024-08-16T14:51:29.694Z"
   },
   {
    "duration": 17,
    "start_time": "2024-08-16T14:51:41.802Z"
   },
   {
    "duration": 36,
    "start_time": "2024-08-16T14:51:47.401Z"
   },
   {
    "duration": 848,
    "start_time": "2024-08-16T14:51:50.168Z"
   },
   {
    "duration": 8,
    "start_time": "2024-08-16T14:51:54.879Z"
   },
   {
    "duration": 40,
    "start_time": "2024-08-16T14:52:01.738Z"
   },
   {
    "duration": 43,
    "start_time": "2024-08-16T14:52:13.720Z"
   },
   {
    "duration": 7,
    "start_time": "2024-08-16T14:53:34.627Z"
   },
   {
    "duration": 12,
    "start_time": "2024-08-16T14:53:44.168Z"
   },
   {
    "duration": 16,
    "start_time": "2024-08-16T14:53:54.423Z"
   },
   {
    "duration": 36,
    "start_time": "2024-08-16T14:54:04.322Z"
   },
   {
    "duration": 88,
    "start_time": "2024-08-16T15:18:52.404Z"
   },
   {
    "duration": 34,
    "start_time": "2024-08-16T15:19:17.905Z"
   },
   {
    "duration": 584,
    "start_time": "2024-08-16T15:19:57.121Z"
   },
   {
    "duration": 891,
    "start_time": "2024-08-16T15:20:19.342Z"
   },
   {
    "duration": 7,
    "start_time": "2024-08-16T15:20:58.971Z"
   },
   {
    "duration": 4,
    "start_time": "2024-08-16T15:21:00.310Z"
   },
   {
    "duration": 36,
    "start_time": "2024-08-16T15:21:02.361Z"
   },
   {
    "duration": 7,
    "start_time": "2024-08-16T15:21:15.828Z"
   },
   {
    "duration": 12,
    "start_time": "2024-08-16T15:21:23.342Z"
   },
   {
    "duration": 35,
    "start_time": "2024-08-16T15:21:44.342Z"
   },
   {
    "duration": 61,
    "start_time": "2024-08-16T15:25:11.287Z"
   },
   {
    "duration": 6,
    "start_time": "2024-08-16T15:27:05.465Z"
   },
   {
    "duration": 4,
    "start_time": "2024-08-16T15:27:14.578Z"
   },
   {
    "duration": 8,
    "start_time": "2024-08-16T15:27:22.271Z"
   },
   {
    "duration": 8,
    "start_time": "2024-08-16T15:28:46.861Z"
   },
   {
    "duration": 12,
    "start_time": "2024-08-16T15:30:16.647Z"
   },
   {
    "duration": 6,
    "start_time": "2024-08-16T15:30:26.068Z"
   },
   {
    "duration": 3233,
    "start_time": "2024-08-16T15:31:44.413Z"
   },
   {
    "duration": 9,
    "start_time": "2024-08-16T15:31:47.648Z"
   },
   {
    "duration": 15,
    "start_time": "2024-08-16T15:31:47.658Z"
   },
   {
    "duration": 13312,
    "start_time": "2024-08-16T15:31:47.681Z"
   },
   {
    "duration": 11201,
    "start_time": "2024-08-16T15:32:00.995Z"
   },
   {
    "duration": 799,
    "start_time": "2024-08-16T15:32:12.199Z"
   },
   {
    "duration": 1387,
    "start_time": "2024-08-16T15:32:13.000Z"
   },
   {
    "duration": 5,
    "start_time": "2024-08-16T15:32:14.389Z"
   },
   {
    "duration": 4200,
    "start_time": "2024-08-16T15:32:14.396Z"
   },
   {
    "duration": 4717,
    "start_time": "2024-08-16T15:32:18.600Z"
   },
   {
    "duration": 681,
    "start_time": "2024-08-16T15:32:23.319Z"
   },
   {
    "duration": 5,
    "start_time": "2024-08-16T15:32:24.002Z"
   },
   {
    "duration": 9,
    "start_time": "2024-08-16T15:32:24.009Z"
   },
   {
    "duration": 8,
    "start_time": "2024-08-16T15:32:24.083Z"
   },
   {
    "duration": 34,
    "start_time": "2024-08-16T15:32:24.092Z"
   },
   {
    "duration": 3506,
    "start_time": "2024-08-16T15:32:24.183Z"
   },
   {
    "duration": 760,
    "start_time": "2024-08-16T15:32:27.691Z"
   },
   {
    "duration": 3,
    "start_time": "2024-08-16T15:32:28.452Z"
   },
   {
    "duration": 1839,
    "start_time": "2024-08-16T15:32:28.456Z"
   },
   {
    "duration": 917,
    "start_time": "2024-08-16T15:32:30.296Z"
   },
   {
    "duration": 182,
    "start_time": "2024-08-16T15:32:31.215Z"
   },
   {
    "duration": 95,
    "start_time": "2024-08-16T15:32:31.399Z"
   },
   {
    "duration": 1495,
    "start_time": "2024-08-16T15:32:31.496Z"
   },
   {
    "duration": 5,
    "start_time": "2024-08-16T15:32:32.993Z"
   },
   {
    "duration": 596,
    "start_time": "2024-08-16T15:32:32.999Z"
   },
   {
    "duration": 3906,
    "start_time": "2024-08-16T15:32:33.597Z"
   },
   {
    "duration": 3889,
    "start_time": "2024-08-16T15:32:37.504Z"
   },
   {
    "duration": 1392,
    "start_time": "2024-08-16T15:32:41.396Z"
   },
   {
    "duration": 7,
    "start_time": "2024-08-16T15:32:42.790Z"
   },
   {
    "duration": 49,
    "start_time": "2024-08-17T07:03:50.836Z"
   },
   {
    "duration": 45966,
    "start_time": "2024-08-17T07:03:59.860Z"
   },
   {
    "duration": 22,
    "start_time": "2024-08-17T07:04:45.828Z"
   },
   {
    "duration": 19,
    "start_time": "2024-08-17T07:04:45.853Z"
   },
   {
    "duration": 14976,
    "start_time": "2024-08-17T07:04:45.875Z"
   },
   {
    "duration": 12429,
    "start_time": "2024-08-17T07:05:00.854Z"
   },
   {
    "duration": 872,
    "start_time": "2024-08-17T07:05:13.284Z"
   },
   {
    "duration": 1588,
    "start_time": "2024-08-17T07:05:14.158Z"
   },
   {
    "duration": 5,
    "start_time": "2024-08-17T07:05:15.749Z"
   },
   {
    "duration": 4924,
    "start_time": "2024-08-17T07:05:15.755Z"
   },
   {
    "duration": 4721,
    "start_time": "2024-08-17T07:05:20.748Z"
   },
   {
    "duration": 781,
    "start_time": "2024-08-17T07:05:25.471Z"
   },
   {
    "duration": 8,
    "start_time": "2024-08-17T07:05:26.254Z"
   },
   {
    "duration": 6,
    "start_time": "2024-08-17T07:05:26.263Z"
   },
   {
    "duration": 6,
    "start_time": "2024-08-17T07:05:26.270Z"
   },
   {
    "duration": 86,
    "start_time": "2024-08-17T07:05:26.278Z"
   },
   {
    "duration": 3216,
    "start_time": "2024-08-17T07:05:26.366Z"
   },
   {
    "duration": 1136,
    "start_time": "2024-08-17T07:05:29.646Z"
   },
   {
    "duration": 3,
    "start_time": "2024-08-17T07:05:30.785Z"
   },
   {
    "duration": 1874,
    "start_time": "2024-08-17T07:05:30.790Z"
   },
   {
    "duration": 813,
    "start_time": "2024-08-17T07:05:32.666Z"
   },
   {
    "duration": 264,
    "start_time": "2024-08-17T07:05:33.482Z"
   },
   {
    "duration": 101,
    "start_time": "2024-08-17T07:05:33.748Z"
   },
   {
    "duration": 1423,
    "start_time": "2024-08-17T07:05:33.850Z"
   },
   {
    "duration": 72,
    "start_time": "2024-08-17T07:05:35.275Z"
   },
   {
    "duration": 530,
    "start_time": "2024-08-17T07:05:35.349Z"
   },
   {
    "duration": 3667,
    "start_time": "2024-08-17T07:05:35.880Z"
   },
   {
    "duration": 4225,
    "start_time": "2024-08-17T07:05:39.549Z"
   },
   {
    "duration": 1205,
    "start_time": "2024-08-17T07:05:43.778Z"
   },
   {
    "duration": 68,
    "start_time": "2024-08-17T07:05:44.984Z"
   },
   {
    "duration": 88,
    "start_time": "2024-08-17T07:10:57.029Z"
   },
   {
    "duration": 133,
    "start_time": "2024-08-17T07:11:10.136Z"
   },
   {
    "duration": 3631,
    "start_time": "2024-08-17T07:11:26.220Z"
   },
   {
    "duration": 8,
    "start_time": "2024-08-17T07:11:29.853Z"
   },
   {
    "duration": 15,
    "start_time": "2024-08-17T07:11:29.863Z"
   },
   {
    "duration": 15172,
    "start_time": "2024-08-17T07:11:29.881Z"
   },
   {
    "duration": 12610,
    "start_time": "2024-08-17T07:11:45.055Z"
   },
   {
    "duration": 991,
    "start_time": "2024-08-17T07:11:57.668Z"
   },
   {
    "duration": 1927,
    "start_time": "2024-08-17T07:11:58.661Z"
   },
   {
    "duration": 60,
    "start_time": "2024-08-17T07:12:00.589Z"
   },
   {
    "duration": 6214,
    "start_time": "2024-08-17T07:12:00.651Z"
   },
   {
    "duration": 5200,
    "start_time": "2024-08-17T07:12:06.869Z"
   },
   {
    "duration": 720,
    "start_time": "2024-08-17T07:12:12.072Z"
   },
   {
    "duration": 9,
    "start_time": "2024-08-17T07:12:12.847Z"
   },
   {
    "duration": 8,
    "start_time": "2024-08-17T07:12:12.858Z"
   },
   {
    "duration": 5,
    "start_time": "2024-08-17T07:12:12.868Z"
   },
   {
    "duration": 85,
    "start_time": "2024-08-17T07:12:12.875Z"
   },
   {
    "duration": 2984,
    "start_time": "2024-08-17T07:12:12.962Z"
   },
   {
    "duration": 1327,
    "start_time": "2024-08-17T07:12:15.949Z"
   },
   {
    "duration": 3,
    "start_time": "2024-08-17T07:12:17.278Z"
   },
   {
    "duration": 1881,
    "start_time": "2024-08-17T07:12:17.282Z"
   },
   {
    "duration": 888,
    "start_time": "2024-08-17T07:12:19.166Z"
   },
   {
    "duration": 131,
    "start_time": "2024-08-17T07:12:20.056Z"
   },
   {
    "duration": 106,
    "start_time": "2024-08-17T07:12:20.246Z"
   },
   {
    "duration": 1611,
    "start_time": "2024-08-17T07:12:20.354Z"
   },
   {
    "duration": 6,
    "start_time": "2024-08-17T07:12:21.967Z"
   },
   {
    "duration": 605,
    "start_time": "2024-08-17T07:12:21.974Z"
   },
   {
    "duration": 3994,
    "start_time": "2024-08-17T07:12:22.581Z"
   },
   {
    "duration": 4080,
    "start_time": "2024-08-17T07:12:26.577Z"
   },
   {
    "duration": 988,
    "start_time": "2024-08-17T07:12:30.660Z"
   },
   {
    "duration": 8,
    "start_time": "2024-08-17T07:12:31.650Z"
   },
   {
    "duration": 245,
    "start_time": "2024-08-17T07:12:31.660Z"
   },
   {
    "duration": 3520,
    "start_time": "2024-08-17T07:13:49.177Z"
   },
   {
    "duration": 8,
    "start_time": "2024-08-17T07:13:52.700Z"
   },
   {
    "duration": 6,
    "start_time": "2024-08-17T07:13:52.710Z"
   },
   {
    "duration": 14243,
    "start_time": "2024-08-17T07:13:52.719Z"
   },
   {
    "duration": 12009,
    "start_time": "2024-08-17T07:14:06.964Z"
   },
   {
    "duration": 873,
    "start_time": "2024-08-17T07:14:18.975Z"
   },
   {
    "duration": 1613,
    "start_time": "2024-08-17T07:14:19.850Z"
   },
   {
    "duration": 6,
    "start_time": "2024-08-17T07:14:21.465Z"
   },
   {
    "duration": 4798,
    "start_time": "2024-08-17T07:14:21.473Z"
   },
   {
    "duration": 4894,
    "start_time": "2024-08-17T07:14:26.274Z"
   },
   {
    "duration": 610,
    "start_time": "2024-08-17T07:14:31.169Z"
   },
   {
    "duration": 70,
    "start_time": "2024-08-17T07:14:31.780Z"
   },
   {
    "duration": 13,
    "start_time": "2024-08-17T07:14:31.852Z"
   },
   {
    "duration": 6,
    "start_time": "2024-08-17T07:14:31.867Z"
   },
   {
    "duration": 78,
    "start_time": "2024-08-17T07:14:31.874Z"
   },
   {
    "duration": 3098,
    "start_time": "2024-08-17T07:14:31.954Z"
   },
   {
    "duration": 1195,
    "start_time": "2024-08-17T07:14:35.054Z"
   },
   {
    "duration": 3,
    "start_time": "2024-08-17T07:14:36.251Z"
   },
   {
    "duration": 1998,
    "start_time": "2024-08-17T07:14:36.255Z"
   },
   {
    "duration": 812,
    "start_time": "2024-08-17T07:14:38.255Z"
   },
   {
    "duration": 191,
    "start_time": "2024-08-17T07:14:39.069Z"
   },
   {
    "duration": 104,
    "start_time": "2024-08-17T07:14:39.262Z"
   },
   {
    "duration": 1512,
    "start_time": "2024-08-17T07:14:39.368Z"
   },
   {
    "duration": 68,
    "start_time": "2024-08-17T07:14:40.882Z"
   },
   {
    "duration": 521,
    "start_time": "2024-08-17T07:14:40.952Z"
   },
   {
    "duration": 3298,
    "start_time": "2024-08-17T07:14:41.475Z"
   },
   {
    "duration": 3992,
    "start_time": "2024-08-17T07:14:44.776Z"
   },
   {
    "duration": 991,
    "start_time": "2024-08-17T07:14:48.771Z"
   },
   {
    "duration": 8,
    "start_time": "2024-08-17T07:14:49.763Z"
   },
   {
    "duration": 493,
    "start_time": "2024-08-17T07:14:49.772Z"
   },
   {
    "duration": 136,
    "start_time": "2024-08-17T07:16:17.850Z"
   },
   {
    "duration": 3411,
    "start_time": "2024-08-17T07:17:23.399Z"
   },
   {
    "duration": 8,
    "start_time": "2024-08-17T07:17:26.812Z"
   },
   {
    "duration": 11,
    "start_time": "2024-08-17T07:17:26.822Z"
   },
   {
    "duration": 14319,
    "start_time": "2024-08-17T07:17:26.835Z"
   },
   {
    "duration": 11609,
    "start_time": "2024-08-17T07:17:41.156Z"
   },
   {
    "duration": 802,
    "start_time": "2024-08-17T07:17:52.767Z"
   },
   {
    "duration": 1424,
    "start_time": "2024-08-17T07:17:53.572Z"
   },
   {
    "duration": 6,
    "start_time": "2024-08-17T07:17:55.046Z"
   },
   {
    "duration": 4821,
    "start_time": "2024-08-17T07:17:55.053Z"
   },
   {
    "duration": 5005,
    "start_time": "2024-08-17T07:17:59.877Z"
   },
   {
    "duration": 716,
    "start_time": "2024-08-17T07:18:04.947Z"
   },
   {
    "duration": 7,
    "start_time": "2024-08-17T07:18:05.664Z"
   },
   {
    "duration": 74,
    "start_time": "2024-08-17T07:18:05.672Z"
   },
   {
    "duration": 70,
    "start_time": "2024-08-17T07:18:05.748Z"
   },
   {
    "duration": 58,
    "start_time": "2024-08-17T07:18:05.820Z"
   },
   {
    "duration": 3493,
    "start_time": "2024-08-17T07:18:05.880Z"
   },
   {
    "duration": 1174,
    "start_time": "2024-08-17T07:18:09.375Z"
   },
   {
    "duration": 2,
    "start_time": "2024-08-17T07:18:10.551Z"
   },
   {
    "duration": 1905,
    "start_time": "2024-08-17T07:18:10.555Z"
   },
   {
    "duration": 892,
    "start_time": "2024-08-17T07:18:12.462Z"
   },
   {
    "duration": 192,
    "start_time": "2024-08-17T07:18:13.355Z"
   },
   {
    "duration": 99,
    "start_time": "2024-08-17T07:18:13.550Z"
   },
   {
    "duration": 1327,
    "start_time": "2024-08-17T07:18:13.651Z"
   },
   {
    "duration": 71,
    "start_time": "2024-08-17T07:18:14.979Z"
   },
   {
    "duration": 629,
    "start_time": "2024-08-17T07:18:15.052Z"
   },
   {
    "duration": 3571,
    "start_time": "2024-08-17T07:18:15.683Z"
   },
   {
    "duration": 4100,
    "start_time": "2024-08-17T07:18:19.257Z"
   },
   {
    "duration": 1033,
    "start_time": "2024-08-17T07:18:23.360Z"
   },
   {
    "duration": 52,
    "start_time": "2024-08-17T07:18:24.396Z"
   },
   {
    "duration": 408,
    "start_time": "2024-08-17T07:18:24.450Z"
   },
   {
    "duration": 198,
    "start_time": "2024-08-17T07:18:24.860Z"
   },
   {
    "duration": 5202,
    "start_time": "2024-08-17T07:20:10.608Z"
   },
   {
    "duration": 13,
    "start_time": "2024-08-17T07:21:32.427Z"
   },
   {
    "duration": 4581,
    "start_time": "2024-08-17T07:24:50.880Z"
   },
   {
    "duration": 31,
    "start_time": "2024-08-17T07:27:03.387Z"
   },
   {
    "duration": 1260,
    "start_time": "2024-08-17T07:27:17.006Z"
   },
   {
    "duration": 1647,
    "start_time": "2024-08-17T07:27:34.415Z"
   },
   {
    "duration": 47,
    "start_time": "2024-08-17T07:27:39.329Z"
   },
   {
    "duration": 3476,
    "start_time": "2024-08-17T07:27:47.740Z"
   },
   {
    "duration": 10,
    "start_time": "2024-08-17T07:27:51.218Z"
   },
   {
    "duration": 21,
    "start_time": "2024-08-17T07:27:51.230Z"
   },
   {
    "duration": 14282,
    "start_time": "2024-08-17T07:27:51.253Z"
   },
   {
    "duration": 11525,
    "start_time": "2024-08-17T07:28:05.537Z"
   },
   {
    "duration": 911,
    "start_time": "2024-08-17T07:28:17.064Z"
   },
   {
    "duration": 1579,
    "start_time": "2024-08-17T07:28:17.978Z"
   },
   {
    "duration": 5,
    "start_time": "2024-08-17T07:28:19.559Z"
   },
   {
    "duration": 4898,
    "start_time": "2024-08-17T07:28:19.566Z"
   },
   {
    "duration": 5185,
    "start_time": "2024-08-17T07:28:24.467Z"
   },
   {
    "duration": 707,
    "start_time": "2024-08-17T07:28:29.654Z"
   },
   {
    "duration": 6,
    "start_time": "2024-08-17T07:28:30.363Z"
   },
   {
    "duration": 77,
    "start_time": "2024-08-17T07:28:30.371Z"
   },
   {
    "duration": 31,
    "start_time": "2024-08-17T07:28:30.450Z"
   },
   {
    "duration": 72,
    "start_time": "2024-08-17T07:28:30.483Z"
   },
   {
    "duration": 3209,
    "start_time": "2024-08-17T07:28:30.557Z"
   },
   {
    "duration": 1125,
    "start_time": "2024-08-17T07:28:33.768Z"
   },
   {
    "duration": 3,
    "start_time": "2024-08-17T07:28:34.894Z"
   },
   {
    "duration": 1716,
    "start_time": "2024-08-17T07:28:34.898Z"
   },
   {
    "duration": 854,
    "start_time": "2024-08-17T07:28:36.616Z"
   },
   {
    "duration": 200,
    "start_time": "2024-08-17T07:28:37.473Z"
   },
   {
    "duration": 101,
    "start_time": "2024-08-17T07:28:37.675Z"
   },
   {
    "duration": 1496,
    "start_time": "2024-08-17T07:28:37.778Z"
   },
   {
    "duration": 6,
    "start_time": "2024-08-17T07:28:39.275Z"
   },
   {
    "duration": 488,
    "start_time": "2024-08-17T07:28:39.283Z"
   },
   {
    "duration": 4479,
    "start_time": "2024-08-17T07:28:39.773Z"
   },
   {
    "duration": 5331,
    "start_time": "2024-08-17T07:28:44.253Z"
   },
   {
    "duration": 1368,
    "start_time": "2024-08-17T07:28:49.589Z"
   },
   {
    "duration": 8,
    "start_time": "2024-08-17T07:28:50.959Z"
   },
   {
    "duration": 95,
    "start_time": "2024-08-17T07:28:50.969Z"
   },
   {
    "duration": 1924,
    "start_time": "2024-08-17T07:28:51.066Z"
   },
   {
    "duration": 1559,
    "start_time": "2024-08-17T07:28:52.992Z"
   },
   {
    "duration": 415,
    "start_time": "2024-08-17T07:28:54.553Z"
   },
   {
    "duration": 290,
    "start_time": "2024-08-17T07:28:54.970Z"
   },
   {
    "duration": 1711,
    "start_time": "2024-08-17T07:30:10.985Z"
   },
   {
    "duration": 3502,
    "start_time": "2024-08-17T07:31:05.805Z"
   },
   {
    "duration": 9,
    "start_time": "2024-08-17T07:31:09.309Z"
   },
   {
    "duration": 24,
    "start_time": "2024-08-17T07:31:09.322Z"
   },
   {
    "duration": 14519,
    "start_time": "2024-08-17T07:31:09.348Z"
   },
   {
    "duration": 11600,
    "start_time": "2024-08-17T07:31:23.870Z"
   },
   {
    "duration": 881,
    "start_time": "2024-08-17T07:31:35.472Z"
   },
   {
    "duration": 1717,
    "start_time": "2024-08-17T07:31:36.355Z"
   },
   {
    "duration": 5,
    "start_time": "2024-08-17T07:31:38.074Z"
   },
   {
    "duration": 4879,
    "start_time": "2024-08-17T07:31:38.082Z"
   },
   {
    "duration": 4685,
    "start_time": "2024-08-17T07:31:42.962Z"
   },
   {
    "duration": 711,
    "start_time": "2024-08-17T07:31:47.649Z"
   },
   {
    "duration": 8,
    "start_time": "2024-08-17T07:31:48.363Z"
   },
   {
    "duration": 10,
    "start_time": "2024-08-17T07:31:48.373Z"
   },
   {
    "duration": 9,
    "start_time": "2024-08-17T07:31:48.384Z"
   },
   {
    "duration": 66,
    "start_time": "2024-08-17T07:31:48.395Z"
   },
   {
    "duration": 3601,
    "start_time": "2024-08-17T07:31:48.463Z"
   },
   {
    "duration": 999,
    "start_time": "2024-08-17T07:31:52.066Z"
   },
   {
    "duration": 3,
    "start_time": "2024-08-17T07:31:53.067Z"
   },
   {
    "duration": 1792,
    "start_time": "2024-08-17T07:31:53.071Z"
   },
   {
    "duration": 811,
    "start_time": "2024-08-17T07:31:54.865Z"
   },
   {
    "duration": 191,
    "start_time": "2024-08-17T07:31:55.677Z"
   },
   {
    "duration": 92,
    "start_time": "2024-08-17T07:31:55.869Z"
   },
   {
    "duration": 1496,
    "start_time": "2024-08-17T07:31:55.963Z"
   },
   {
    "duration": 7,
    "start_time": "2024-08-17T07:31:57.462Z"
   },
   {
    "duration": 580,
    "start_time": "2024-08-17T07:31:57.471Z"
   },
   {
    "duration": 3594,
    "start_time": "2024-08-17T07:31:58.053Z"
   },
   {
    "duration": 3426,
    "start_time": "2024-08-17T07:32:01.651Z"
   },
   {
    "duration": 1096,
    "start_time": "2024-08-17T07:32:05.079Z"
   },
   {
    "duration": 9,
    "start_time": "2024-08-17T07:32:06.177Z"
   },
   {
    "duration": 82,
    "start_time": "2024-08-17T07:32:06.188Z"
   },
   {
    "duration": 1981,
    "start_time": "2024-08-17T07:32:06.272Z"
   },
   {
    "duration": 1709,
    "start_time": "2024-08-17T07:32:08.255Z"
   },
   {
    "duration": 498,
    "start_time": "2024-08-17T07:32:09.966Z"
   },
   {
    "duration": 324,
    "start_time": "2024-08-17T07:32:10.466Z"
   },
   {
    "duration": 64,
    "start_time": "2024-08-17T07:34:26.681Z"
   },
   {
    "duration": 89,
    "start_time": "2024-08-17T07:34:38.559Z"
   },
   {
    "duration": 3433,
    "start_time": "2024-08-17T07:35:16.462Z"
   },
   {
    "duration": 8,
    "start_time": "2024-08-17T07:35:19.897Z"
   },
   {
    "duration": 11,
    "start_time": "2024-08-17T07:35:19.906Z"
   },
   {
    "duration": 14327,
    "start_time": "2024-08-17T07:35:19.919Z"
   },
   {
    "duration": 11509,
    "start_time": "2024-08-17T07:35:34.248Z"
   },
   {
    "duration": 912,
    "start_time": "2024-08-17T07:35:45.759Z"
   },
   {
    "duration": 1441,
    "start_time": "2024-08-17T07:35:46.746Z"
   },
   {
    "duration": 5,
    "start_time": "2024-08-17T07:35:48.246Z"
   },
   {
    "duration": 4829,
    "start_time": "2024-08-17T07:35:48.252Z"
   },
   {
    "duration": 4630,
    "start_time": "2024-08-17T07:35:53.145Z"
   },
   {
    "duration": 631,
    "start_time": "2024-08-17T07:35:57.846Z"
   },
   {
    "duration": 68,
    "start_time": "2024-08-17T07:35:58.479Z"
   },
   {
    "duration": 11,
    "start_time": "2024-08-17T07:35:58.549Z"
   },
   {
    "duration": 14,
    "start_time": "2024-08-17T07:35:58.562Z"
   },
   {
    "duration": 89,
    "start_time": "2024-08-17T07:35:58.578Z"
   },
   {
    "duration": 3504,
    "start_time": "2024-08-17T07:35:58.669Z"
   },
   {
    "duration": 1285,
    "start_time": "2024-08-17T07:36:02.175Z"
   },
   {
    "duration": 3,
    "start_time": "2024-08-17T07:36:03.462Z"
   },
   {
    "duration": 1948,
    "start_time": "2024-08-17T07:36:03.467Z"
   },
   {
    "duration": 732,
    "start_time": "2024-08-17T07:36:05.416Z"
   },
   {
    "duration": 197,
    "start_time": "2024-08-17T07:36:06.151Z"
   },
   {
    "duration": 98,
    "start_time": "2024-08-17T07:36:06.350Z"
   },
   {
    "duration": 1525,
    "start_time": "2024-08-17T07:36:06.450Z"
   },
   {
    "duration": 6,
    "start_time": "2024-08-17T07:36:07.977Z"
   },
   {
    "duration": 539,
    "start_time": "2024-08-17T07:36:08.046Z"
   },
   {
    "duration": 3602,
    "start_time": "2024-08-17T07:36:08.645Z"
   },
   {
    "duration": 4205,
    "start_time": "2024-08-17T07:36:12.249Z"
   },
   {
    "duration": 899,
    "start_time": "2024-08-17T07:36:16.457Z"
   },
   {
    "duration": 8,
    "start_time": "2024-08-17T07:36:17.359Z"
   },
   {
    "duration": 106,
    "start_time": "2024-08-17T07:36:17.369Z"
   },
   {
    "duration": 1650,
    "start_time": "2024-08-17T07:36:17.477Z"
   },
   {
    "duration": 1526,
    "start_time": "2024-08-17T07:36:19.129Z"
   },
   {
    "duration": 420,
    "start_time": "2024-08-17T07:36:20.657Z"
   },
   {
    "duration": 205,
    "start_time": "2024-08-17T07:36:21.079Z"
   },
   {
    "duration": 3594,
    "start_time": "2024-08-17T07:39:34.819Z"
   },
   {
    "duration": 8,
    "start_time": "2024-08-17T07:39:38.415Z"
   },
   {
    "duration": 49,
    "start_time": "2024-08-17T07:39:38.425Z"
   },
   {
    "duration": 14455,
    "start_time": "2024-08-17T07:39:38.477Z"
   },
   {
    "duration": 11819,
    "start_time": "2024-08-17T07:39:52.934Z"
   },
   {
    "duration": 805,
    "start_time": "2024-08-17T07:40:04.756Z"
   },
   {
    "duration": 1500,
    "start_time": "2024-08-17T07:40:05.564Z"
   },
   {
    "duration": 5,
    "start_time": "2024-08-17T07:40:07.066Z"
   },
   {
    "duration": 5195,
    "start_time": "2024-08-17T07:40:07.073Z"
   },
   {
    "duration": 4790,
    "start_time": "2024-08-17T07:40:12.270Z"
   },
   {
    "duration": 790,
    "start_time": "2024-08-17T07:40:17.062Z"
   },
   {
    "duration": 7,
    "start_time": "2024-08-17T07:40:17.854Z"
   },
   {
    "duration": 83,
    "start_time": "2024-08-17T07:40:17.863Z"
   },
   {
    "duration": 9,
    "start_time": "2024-08-17T07:40:17.948Z"
   },
   {
    "duration": 88,
    "start_time": "2024-08-17T07:40:17.958Z"
   },
   {
    "duration": 3524,
    "start_time": "2024-08-17T07:40:18.048Z"
   },
   {
    "duration": 891,
    "start_time": "2024-08-17T07:40:21.574Z"
   },
   {
    "duration": 4,
    "start_time": "2024-08-17T07:40:22.467Z"
   },
   {
    "duration": 1886,
    "start_time": "2024-08-17T07:40:22.473Z"
   },
   {
    "duration": 830,
    "start_time": "2024-08-17T07:40:24.361Z"
   },
   {
    "duration": 125,
    "start_time": "2024-08-17T07:40:25.247Z"
   },
   {
    "duration": 81,
    "start_time": "2024-08-17T07:40:25.374Z"
   },
   {
    "duration": 1413,
    "start_time": "2024-08-17T07:40:25.456Z"
   },
   {
    "duration": 6,
    "start_time": "2024-08-17T07:40:26.871Z"
   },
   {
    "duration": 573,
    "start_time": "2024-08-17T07:40:26.879Z"
   },
   {
    "duration": 3529,
    "start_time": "2024-08-17T07:40:27.454Z"
   },
   {
    "duration": 3732,
    "start_time": "2024-08-17T07:40:31.047Z"
   },
   {
    "duration": 1070,
    "start_time": "2024-08-17T07:40:34.782Z"
   },
   {
    "duration": 10,
    "start_time": "2024-08-17T07:40:35.855Z"
   },
   {
    "duration": 79,
    "start_time": "2024-08-17T07:40:35.867Z"
   },
   {
    "duration": 44,
    "start_time": "2024-08-17T07:40:35.949Z"
   },
   {
    "duration": 51,
    "start_time": "2024-08-17T07:40:35.995Z"
   },
   {
    "duration": 71,
    "start_time": "2024-08-17T07:40:36.047Z"
   },
   {
    "duration": 0,
    "start_time": "2024-08-17T07:40:36.120Z"
   },
   {
    "duration": 3,
    "start_time": "2024-08-17T07:41:55.197Z"
   },
   {
    "duration": 2528,
    "start_time": "2024-08-17T07:41:56.528Z"
   },
   {
    "duration": 1151,
    "start_time": "2024-08-17T07:42:34.109Z"
   },
   {
    "duration": 6,
    "start_time": "2024-08-17T07:42:43.457Z"
   },
   {
    "duration": 6,
    "start_time": "2024-08-17T07:43:07.697Z"
   },
   {
    "duration": 57,
    "start_time": "2024-08-17T08:34:10.615Z"
   },
   {
    "duration": 72,
    "start_time": "2024-08-17T08:36:31.416Z"
   },
   {
    "duration": 170,
    "start_time": "2024-08-17T08:37:18.957Z"
   },
   {
    "duration": 3,
    "start_time": "2024-08-17T08:40:07.176Z"
   },
   {
    "duration": 59,
    "start_time": "2024-08-17T08:40:26.529Z"
   },
   {
    "duration": 54,
    "start_time": "2024-08-17T08:40:52.335Z"
   },
   {
    "duration": 1669,
    "start_time": "2024-08-17T08:41:34.216Z"
   },
   {
    "duration": 38296,
    "start_time": "2024-08-19T08:21:36.496Z"
   },
   {
    "duration": 8,
    "start_time": "2024-08-19T08:22:14.794Z"
   },
   {
    "duration": 21,
    "start_time": "2024-08-19T08:22:14.804Z"
   },
   {
    "duration": 14366,
    "start_time": "2024-08-19T08:22:14.827Z"
   },
   {
    "duration": 11945,
    "start_time": "2024-08-19T08:22:29.195Z"
   },
   {
    "duration": 796,
    "start_time": "2024-08-19T08:22:41.142Z"
   },
   {
    "duration": 1390,
    "start_time": "2024-08-19T08:22:41.940Z"
   },
   {
    "duration": 4,
    "start_time": "2024-08-19T08:22:43.332Z"
   },
   {
    "duration": 4599,
    "start_time": "2024-08-19T08:22:43.338Z"
   },
   {
    "duration": 5590,
    "start_time": "2024-08-19T08:22:47.940Z"
   },
   {
    "duration": 717,
    "start_time": "2024-08-19T08:22:53.532Z"
   },
   {
    "duration": 7,
    "start_time": "2024-08-19T08:22:54.251Z"
   },
   {
    "duration": 3,
    "start_time": "2024-08-19T08:22:54.323Z"
   },
   {
    "duration": 12,
    "start_time": "2024-08-19T08:22:54.329Z"
   },
   {
    "duration": 81,
    "start_time": "2024-08-19T08:22:54.343Z"
   },
   {
    "duration": 3620,
    "start_time": "2024-08-19T08:22:54.426Z"
   },
   {
    "duration": 878,
    "start_time": "2024-08-19T08:22:58.047Z"
   },
   {
    "duration": 3,
    "start_time": "2024-08-19T08:22:58.927Z"
   },
   {
    "duration": 1945,
    "start_time": "2024-08-19T08:22:58.931Z"
   },
   {
    "duration": 770,
    "start_time": "2024-08-19T08:23:00.878Z"
   },
   {
    "duration": 209,
    "start_time": "2024-08-19T08:23:01.651Z"
   },
   {
    "duration": 93,
    "start_time": "2024-08-19T08:23:01.861Z"
   },
   {
    "duration": 1492,
    "start_time": "2024-08-19T08:23:01.956Z"
   },
   {
    "duration": 6,
    "start_time": "2024-08-19T08:23:03.449Z"
   },
   {
    "duration": 586,
    "start_time": "2024-08-19T08:23:03.456Z"
   },
   {
    "duration": 4087,
    "start_time": "2024-08-19T08:23:04.044Z"
   },
   {
    "duration": 4511,
    "start_time": "2024-08-19T08:23:08.132Z"
   },
   {
    "duration": 1383,
    "start_time": "2024-08-19T08:23:12.647Z"
   },
   {
    "duration": 9,
    "start_time": "2024-08-19T08:23:14.032Z"
   },
   {
    "duration": 3001,
    "start_time": "2024-08-19T08:23:14.043Z"
   },
   {
    "duration": 1300,
    "start_time": "2024-08-19T08:23:17.047Z"
   },
   {
    "duration": 7,
    "start_time": "2024-08-19T08:23:18.349Z"
   },
   {
    "duration": 118,
    "start_time": "2024-08-19T08:23:18.425Z"
   },
   {
    "duration": 3,
    "start_time": "2024-08-19T08:23:18.545Z"
   },
   {
    "duration": 110,
    "start_time": "2024-08-19T08:23:18.549Z"
   },
   {
    "duration": 199,
    "start_time": "2024-08-19T08:23:18.661Z"
   },
   {
    "duration": 0,
    "start_time": "2024-08-19T08:23:18.862Z"
   },
   {
    "duration": 0,
    "start_time": "2024-08-19T08:23:18.863Z"
   },
   {
    "duration": 0,
    "start_time": "2024-08-19T08:23:18.864Z"
   },
   {
    "duration": 0,
    "start_time": "2024-08-19T08:23:18.865Z"
   },
   {
    "duration": 0,
    "start_time": "2024-08-19T08:23:18.866Z"
   },
   {
    "duration": 3579,
    "start_time": "2024-08-19T08:25:23.216Z"
   },
   {
    "duration": 10,
    "start_time": "2024-08-19T08:25:26.797Z"
   },
   {
    "duration": 3,
    "start_time": "2024-08-19T08:25:26.824Z"
   },
   {
    "duration": 14008,
    "start_time": "2024-08-19T08:25:26.829Z"
   },
   {
    "duration": 11701,
    "start_time": "2024-08-19T08:25:40.840Z"
   },
   {
    "duration": 894,
    "start_time": "2024-08-19T08:25:52.543Z"
   },
   {
    "duration": 1500,
    "start_time": "2024-08-19T08:25:53.439Z"
   },
   {
    "duration": 5,
    "start_time": "2024-08-19T08:25:54.941Z"
   },
   {
    "duration": 4985,
    "start_time": "2024-08-19T08:25:54.948Z"
   },
   {
    "duration": 4613,
    "start_time": "2024-08-19T08:25:59.936Z"
   },
   {
    "duration": 701,
    "start_time": "2024-08-19T08:26:04.551Z"
   },
   {
    "duration": 6,
    "start_time": "2024-08-19T08:26:05.253Z"
   },
   {
    "duration": 3,
    "start_time": "2024-08-19T08:26:05.325Z"
   },
   {
    "duration": 18,
    "start_time": "2024-08-19T08:26:05.330Z"
   },
   {
    "duration": 86,
    "start_time": "2024-08-19T08:26:05.350Z"
   },
   {
    "duration": 3336,
    "start_time": "2024-08-19T08:26:05.439Z"
   },
   {
    "duration": 1186,
    "start_time": "2024-08-19T08:26:08.825Z"
   },
   {
    "duration": 4,
    "start_time": "2024-08-19T08:26:10.023Z"
   },
   {
    "duration": 2108,
    "start_time": "2024-08-19T08:26:10.029Z"
   },
   {
    "duration": 815,
    "start_time": "2024-08-19T08:26:12.138Z"
   },
   {
    "duration": 178,
    "start_time": "2024-08-19T08:26:12.955Z"
   },
   {
    "duration": 90,
    "start_time": "2024-08-19T08:26:13.134Z"
   },
   {
    "duration": 1347,
    "start_time": "2024-08-19T08:26:13.226Z"
   },
   {
    "duration": 5,
    "start_time": "2024-08-19T08:26:14.625Z"
   },
   {
    "duration": 515,
    "start_time": "2024-08-19T08:26:14.632Z"
   },
   {
    "duration": 3577,
    "start_time": "2024-08-19T08:26:15.149Z"
   },
   {
    "duration": 3619,
    "start_time": "2024-08-19T08:26:18.728Z"
   },
   {
    "duration": 1190,
    "start_time": "2024-08-19T08:26:22.351Z"
   },
   {
    "duration": 9,
    "start_time": "2024-08-19T08:26:23.543Z"
   },
   {
    "duration": 2788,
    "start_time": "2024-08-19T08:26:23.554Z"
   },
   {
    "duration": 932,
    "start_time": "2024-08-19T08:26:26.343Z"
   },
   {
    "duration": 50,
    "start_time": "2024-08-19T08:26:27.277Z"
   },
   {
    "duration": 128,
    "start_time": "2024-08-19T08:26:27.328Z"
   },
   {
    "duration": 3,
    "start_time": "2024-08-19T08:26:27.458Z"
   },
   {
    "duration": 113,
    "start_time": "2024-08-19T08:26:27.462Z"
   },
   {
    "duration": 833,
    "start_time": "2024-08-19T08:26:27.625Z"
   },
   {
    "duration": 200,
    "start_time": "2024-08-19T08:26:28.461Z"
   },
   {
    "duration": 0,
    "start_time": "2024-08-19T08:26:28.663Z"
   },
   {
    "duration": 0,
    "start_time": "2024-08-19T08:26:28.664Z"
   },
   {
    "duration": 0,
    "start_time": "2024-08-19T08:26:28.665Z"
   },
   {
    "duration": 0,
    "start_time": "2024-08-19T08:26:28.666Z"
   },
   {
    "duration": 3251,
    "start_time": "2024-08-19T08:30:21.083Z"
   },
   {
    "duration": 9,
    "start_time": "2024-08-19T08:30:24.336Z"
   },
   {
    "duration": 18,
    "start_time": "2024-08-19T08:30:24.347Z"
   },
   {
    "duration": 13869,
    "start_time": "2024-08-19T08:30:24.367Z"
   },
   {
    "duration": 11786,
    "start_time": "2024-08-19T08:30:38.239Z"
   },
   {
    "duration": 1108,
    "start_time": "2024-08-19T08:30:50.027Z"
   },
   {
    "duration": 1309,
    "start_time": "2024-08-19T08:30:51.138Z"
   },
   {
    "duration": 5,
    "start_time": "2024-08-19T08:30:52.449Z"
   },
   {
    "duration": 4492,
    "start_time": "2024-08-19T08:30:52.455Z"
   },
   {
    "duration": 5200,
    "start_time": "2024-08-19T08:30:56.949Z"
   },
   {
    "duration": 699,
    "start_time": "2024-08-19T08:31:02.150Z"
   },
   {
    "duration": 7,
    "start_time": "2024-08-19T08:31:02.851Z"
   },
   {
    "duration": 67,
    "start_time": "2024-08-19T08:31:02.859Z"
   },
   {
    "duration": 17,
    "start_time": "2024-08-19T08:31:02.929Z"
   },
   {
    "duration": 79,
    "start_time": "2024-08-19T08:31:02.948Z"
   },
   {
    "duration": 3327,
    "start_time": "2024-08-19T08:31:03.030Z"
   },
   {
    "duration": 814,
    "start_time": "2024-08-19T08:31:06.358Z"
   },
   {
    "duration": 2,
    "start_time": "2024-08-19T08:31:07.174Z"
   },
   {
    "duration": 1960,
    "start_time": "2024-08-19T08:31:07.178Z"
   },
   {
    "duration": 805,
    "start_time": "2024-08-19T08:31:09.140Z"
   },
   {
    "duration": 192,
    "start_time": "2024-08-19T08:31:09.946Z"
   },
   {
    "duration": 89,
    "start_time": "2024-08-19T08:31:10.141Z"
   },
   {
    "duration": 1708,
    "start_time": "2024-08-19T08:31:10.232Z"
   },
   {
    "duration": 6,
    "start_time": "2024-08-19T08:31:11.942Z"
   },
   {
    "duration": 586,
    "start_time": "2024-08-19T08:31:11.949Z"
   },
   {
    "duration": 2926,
    "start_time": "2024-08-19T08:31:12.537Z"
   },
   {
    "duration": 4232,
    "start_time": "2024-08-19T08:31:15.525Z"
   },
   {
    "duration": 1074,
    "start_time": "2024-08-19T08:31:19.758Z"
   },
   {
    "duration": 8,
    "start_time": "2024-08-19T08:31:20.834Z"
   },
   {
    "duration": 2306,
    "start_time": "2024-08-19T08:31:20.845Z"
   },
   {
    "duration": 915,
    "start_time": "2024-08-19T08:31:23.153Z"
   },
   {
    "duration": 5,
    "start_time": "2024-08-19T08:31:24.070Z"
   },
   {
    "duration": 96,
    "start_time": "2024-08-19T08:31:24.077Z"
   },
   {
    "duration": 49,
    "start_time": "2024-08-19T08:31:24.175Z"
   },
   {
    "duration": 805,
    "start_time": "2024-08-19T08:31:24.226Z"
   },
   {
    "duration": 339,
    "start_time": "2024-08-19T08:31:25.033Z"
   },
   {
    "duration": 158,
    "start_time": "2024-08-19T08:31:25.374Z"
   },
   {
    "duration": 26,
    "start_time": "2024-08-19T08:31:25.534Z"
   },
   {
    "duration": 899,
    "start_time": "2024-08-19T08:31:25.562Z"
   },
   {
    "duration": 473,
    "start_time": "2024-08-19T08:31:26.462Z"
   },
   {
    "duration": 12,
    "start_time": "2024-08-19T08:31:26.938Z"
   },
   {
    "duration": 2792,
    "start_time": "2024-08-19T08:31:26.952Z"
   },
   {
    "duration": 1007,
    "start_time": "2024-08-19T08:31:29.746Z"
   },
   {
    "duration": 8,
    "start_time": "2024-08-19T08:31:30.755Z"
   },
   {
    "duration": 3365,
    "start_time": "2024-08-19T08:39:53.211Z"
   },
   {
    "duration": 8,
    "start_time": "2024-08-19T08:39:56.578Z"
   },
   {
    "duration": 14,
    "start_time": "2024-08-19T08:39:56.588Z"
   },
   {
    "duration": 14188,
    "start_time": "2024-08-19T08:39:56.604Z"
   },
   {
    "duration": 11434,
    "start_time": "2024-08-19T08:40:10.794Z"
   },
   {
    "duration": 809,
    "start_time": "2024-08-19T08:40:22.230Z"
   },
   {
    "duration": 1450,
    "start_time": "2024-08-19T08:40:23.041Z"
   },
   {
    "duration": 35,
    "start_time": "2024-08-19T08:40:24.492Z"
   },
   {
    "duration": 4511,
    "start_time": "2024-08-19T08:40:24.529Z"
   },
   {
    "duration": 4694,
    "start_time": "2024-08-19T08:40:29.043Z"
   },
   {
    "duration": 688,
    "start_time": "2024-08-19T08:40:33.738Z"
   },
   {
    "duration": 6,
    "start_time": "2024-08-19T08:40:34.428Z"
   },
   {
    "duration": 5,
    "start_time": "2024-08-19T08:40:34.436Z"
   },
   {
    "duration": 5,
    "start_time": "2024-08-19T08:40:34.442Z"
   },
   {
    "duration": 94,
    "start_time": "2024-08-19T08:40:34.449Z"
   },
   {
    "duration": 3397,
    "start_time": "2024-08-19T08:40:34.545Z"
   },
   {
    "duration": 1293,
    "start_time": "2024-08-19T08:40:37.943Z"
   },
   {
    "duration": 3,
    "start_time": "2024-08-19T08:40:39.237Z"
   },
   {
    "duration": 1886,
    "start_time": "2024-08-19T08:40:39.242Z"
   },
   {
    "duration": 815,
    "start_time": "2024-08-19T08:40:41.130Z"
   },
   {
    "duration": 196,
    "start_time": "2024-08-19T08:40:41.947Z"
   },
   {
    "duration": 96,
    "start_time": "2024-08-19T08:40:42.146Z"
   },
   {
    "duration": 1505,
    "start_time": "2024-08-19T08:40:42.244Z"
   },
   {
    "duration": 6,
    "start_time": "2024-08-19T08:40:43.751Z"
   },
   {
    "duration": 669,
    "start_time": "2024-08-19T08:40:43.759Z"
   },
   {
    "duration": 4108,
    "start_time": "2024-08-19T08:40:44.430Z"
   },
   {
    "duration": 4794,
    "start_time": "2024-08-19T08:40:48.539Z"
   },
   {
    "duration": 1121,
    "start_time": "2024-08-19T08:40:53.336Z"
   },
   {
    "duration": 69,
    "start_time": "2024-08-19T08:40:54.458Z"
   },
   {
    "duration": 2300,
    "start_time": "2024-08-19T08:40:54.529Z"
   },
   {
    "duration": 1136,
    "start_time": "2024-08-19T08:40:56.831Z"
   },
   {
    "duration": 8,
    "start_time": "2024-08-19T08:40:58.025Z"
   },
   {
    "duration": 123,
    "start_time": "2024-08-19T08:40:58.035Z"
   },
   {
    "duration": 3,
    "start_time": "2024-08-19T08:40:58.159Z"
   },
   {
    "duration": 967,
    "start_time": "2024-08-19T08:40:58.164Z"
   },
   {
    "duration": 398,
    "start_time": "2024-08-19T08:40:59.133Z"
   },
   {
    "duration": 112,
    "start_time": "2024-08-19T08:40:59.533Z"
   },
   {
    "duration": 96,
    "start_time": "2024-08-19T08:40:59.647Z"
   },
   {
    "duration": 918,
    "start_time": "2024-08-19T08:40:59.745Z"
   },
   {
    "duration": 405,
    "start_time": "2024-08-19T08:41:00.665Z"
   },
   {
    "duration": 53,
    "start_time": "2024-08-19T08:41:01.072Z"
   },
   {
    "duration": 3033,
    "start_time": "2024-08-19T08:41:01.128Z"
   },
   {
    "duration": 917,
    "start_time": "2024-08-19T08:41:04.163Z"
   },
   {
    "duration": 7,
    "start_time": "2024-08-19T08:41:05.082Z"
   },
   {
    "duration": 135,
    "start_time": "2024-08-19T08:41:05.091Z"
   },
   {
    "duration": 0,
    "start_time": "2024-08-19T08:41:05.228Z"
   },
   {
    "duration": 0,
    "start_time": "2024-08-19T08:41:05.229Z"
   },
   {
    "duration": 2073,
    "start_time": "2024-08-19T09:02:07.778Z"
   },
   {
    "duration": 1056,
    "start_time": "2024-08-19T09:02:20.987Z"
   },
   {
    "duration": 6,
    "start_time": "2024-08-19T09:02:26.209Z"
   },
   {
    "duration": 3,
    "start_time": "2024-08-19T09:05:46.608Z"
   },
   {
    "duration": 3673,
    "start_time": "2024-08-19T09:13:30.907Z"
   },
   {
    "duration": 8,
    "start_time": "2024-08-19T09:13:34.582Z"
   },
   {
    "duration": 4,
    "start_time": "2024-08-19T09:13:34.591Z"
   },
   {
    "duration": 14537,
    "start_time": "2024-08-19T09:13:34.597Z"
   },
   {
    "duration": 12314,
    "start_time": "2024-08-19T09:13:49.135Z"
   },
   {
    "duration": 1094,
    "start_time": "2024-08-19T09:14:01.451Z"
   },
   {
    "duration": 1139,
    "start_time": "2024-08-19T09:14:02.625Z"
   },
   {
    "duration": 5,
    "start_time": "2024-08-19T09:14:03.765Z"
   },
   {
    "duration": 5458,
    "start_time": "2024-08-19T09:14:03.772Z"
   },
   {
    "duration": 5005,
    "start_time": "2024-08-19T09:14:09.233Z"
   },
   {
    "duration": 699,
    "start_time": "2024-08-19T09:14:14.240Z"
   },
   {
    "duration": 9,
    "start_time": "2024-08-19T09:14:14.941Z"
   },
   {
    "duration": 7,
    "start_time": "2024-08-19T09:14:14.952Z"
   },
   {
    "duration": 66,
    "start_time": "2024-08-19T09:14:14.961Z"
   },
   {
    "duration": 60,
    "start_time": "2024-08-19T09:14:15.028Z"
   },
   {
    "duration": 3348,
    "start_time": "2024-08-19T09:14:15.091Z"
   },
   {
    "duration": 824,
    "start_time": "2024-08-19T09:14:18.442Z"
   },
   {
    "duration": 3,
    "start_time": "2024-08-19T09:14:19.267Z"
   },
   {
    "duration": 1868,
    "start_time": "2024-08-19T09:14:19.272Z"
   },
   {
    "duration": 791,
    "start_time": "2024-08-19T09:14:21.142Z"
   },
   {
    "duration": 505,
    "start_time": "2024-08-19T09:14:21.935Z"
   },
   {
    "duration": 197,
    "start_time": "2024-08-19T09:14:22.442Z"
   },
   {
    "duration": 1495,
    "start_time": "2024-08-19T09:14:22.641Z"
   },
   {
    "duration": 7,
    "start_time": "2024-08-19T09:14:24.138Z"
   },
   {
    "duration": 597,
    "start_time": "2024-08-19T09:14:24.146Z"
   },
   {
    "duration": 3191,
    "start_time": "2024-08-19T09:14:24.744Z"
   },
   {
    "duration": 4427,
    "start_time": "2024-08-19T09:14:27.937Z"
   },
   {
    "duration": 1397,
    "start_time": "2024-08-19T09:14:32.427Z"
   },
   {
    "duration": 10,
    "start_time": "2024-08-19T09:14:33.827Z"
   },
   {
    "duration": 2600,
    "start_time": "2024-08-19T09:14:33.838Z"
   },
   {
    "duration": 905,
    "start_time": "2024-08-19T09:14:36.441Z"
   },
   {
    "duration": 7,
    "start_time": "2024-08-19T09:14:37.348Z"
   },
   {
    "duration": 170,
    "start_time": "2024-08-19T09:14:37.357Z"
   },
   {
    "duration": 4,
    "start_time": "2024-08-19T09:14:37.529Z"
   },
   {
    "duration": 798,
    "start_time": "2024-08-19T09:14:37.535Z"
   },
   {
    "duration": 415,
    "start_time": "2024-08-19T09:14:38.335Z"
   },
   {
    "duration": 183,
    "start_time": "2024-08-19T09:14:38.752Z"
   },
   {
    "duration": 86,
    "start_time": "2024-08-19T09:14:38.938Z"
   },
   {
    "duration": 1008,
    "start_time": "2024-08-19T09:14:39.026Z"
   },
   {
    "duration": 505,
    "start_time": "2024-08-19T09:14:40.037Z"
   },
   {
    "duration": 15,
    "start_time": "2024-08-19T09:14:40.544Z"
   },
   {
    "duration": 3114,
    "start_time": "2024-08-19T09:14:40.625Z"
   },
   {
    "duration": 1340,
    "start_time": "2024-08-19T09:14:43.741Z"
   },
   {
    "duration": 9,
    "start_time": "2024-08-19T09:14:45.125Z"
   },
   {
    "duration": 204,
    "start_time": "2024-08-19T09:14:45.137Z"
   },
   {
    "duration": 4,
    "start_time": "2024-08-19T09:14:45.343Z"
   },
   {
    "duration": 819,
    "start_time": "2024-08-19T09:14:45.348Z"
   },
   {
    "duration": 354,
    "start_time": "2024-08-19T09:14:46.170Z"
   },
   {
    "duration": 112,
    "start_time": "2024-08-19T09:14:46.527Z"
   },
   {
    "duration": 90,
    "start_time": "2024-08-19T09:14:46.641Z"
   },
   {
    "duration": 830,
    "start_time": "2024-08-19T09:14:46.733Z"
   },
   {
    "duration": 591,
    "start_time": "2024-08-19T09:14:47.565Z"
   },
   {
    "duration": 67,
    "start_time": "2024-08-19T09:14:48.158Z"
   },
   {
    "duration": 2607,
    "start_time": "2024-08-19T09:14:48.227Z"
   },
   {
    "duration": 1088,
    "start_time": "2024-08-19T09:14:50.837Z"
   },
   {
    "duration": 7,
    "start_time": "2024-08-19T09:14:51.927Z"
   },
   {
    "duration": 2198,
    "start_time": "2024-08-19T09:14:51.936Z"
   },
   {
    "duration": 1253,
    "start_time": "2024-08-19T09:14:54.136Z"
   },
   {
    "duration": 38,
    "start_time": "2024-08-19T09:14:55.391Z"
   },
   {
    "duration": 7,
    "start_time": "2024-08-19T09:14:55.431Z"
   },
   {
    "duration": 3411,
    "start_time": "2024-08-19T09:15:46.791Z"
   },
   {
    "duration": 23,
    "start_time": "2024-08-19T09:15:50.204Z"
   },
   {
    "duration": 7,
    "start_time": "2024-08-19T09:15:50.229Z"
   },
   {
    "duration": 14498,
    "start_time": "2024-08-19T09:15:50.239Z"
   },
   {
    "duration": 11995,
    "start_time": "2024-08-19T09:16:04.740Z"
   },
   {
    "duration": 1004,
    "start_time": "2024-08-19T09:16:16.737Z"
   },
   {
    "duration": 1741,
    "start_time": "2024-08-19T09:16:17.743Z"
   },
   {
    "duration": 5,
    "start_time": "2024-08-19T09:16:19.486Z"
   },
   {
    "duration": 4938,
    "start_time": "2024-08-19T09:16:19.492Z"
   },
   {
    "duration": 4821,
    "start_time": "2024-08-19T09:16:24.434Z"
   },
   {
    "duration": 705,
    "start_time": "2024-08-19T09:16:29.257Z"
   },
   {
    "duration": 65,
    "start_time": "2024-08-19T09:16:29.965Z"
   },
   {
    "duration": 56,
    "start_time": "2024-08-19T09:16:30.031Z"
   },
   {
    "duration": 31,
    "start_time": "2024-08-19T09:16:30.089Z"
   },
   {
    "duration": 96,
    "start_time": "2024-08-19T09:16:30.122Z"
   },
   {
    "duration": 2954,
    "start_time": "2024-08-19T09:16:30.220Z"
   },
   {
    "duration": 1170,
    "start_time": "2024-08-19T09:16:33.176Z"
   },
   {
    "duration": 3,
    "start_time": "2024-08-19T09:16:34.349Z"
   },
   {
    "duration": 1986,
    "start_time": "2024-08-19T09:16:34.355Z"
   },
   {
    "duration": 811,
    "start_time": "2024-08-19T09:16:36.343Z"
   },
   {
    "duration": 193,
    "start_time": "2024-08-19T09:16:37.156Z"
   },
   {
    "duration": 98,
    "start_time": "2024-08-19T09:16:37.351Z"
   },
   {
    "duration": 1596,
    "start_time": "2024-08-19T09:16:37.451Z"
   },
   {
    "duration": 6,
    "start_time": "2024-08-19T09:16:39.050Z"
   },
   {
    "duration": 543,
    "start_time": "2024-08-19T09:16:39.124Z"
   },
   {
    "duration": 4010,
    "start_time": "2024-08-19T09:16:39.725Z"
   },
   {
    "duration": 4094,
    "start_time": "2024-08-19T09:16:43.737Z"
   },
   {
    "duration": 1193,
    "start_time": "2024-08-19T09:16:47.835Z"
   },
   {
    "duration": 11,
    "start_time": "2024-08-19T09:16:49.030Z"
   },
   {
    "duration": 2488,
    "start_time": "2024-08-19T09:16:49.043Z"
   },
   {
    "duration": 948,
    "start_time": "2024-08-19T09:16:51.533Z"
   },
   {
    "duration": 44,
    "start_time": "2024-08-19T09:16:52.483Z"
   },
   {
    "duration": 107,
    "start_time": "2024-08-19T09:16:52.529Z"
   },
   {
    "duration": 3,
    "start_time": "2024-08-19T09:16:52.637Z"
   },
   {
    "duration": 852,
    "start_time": "2024-08-19T09:16:52.641Z"
   },
   {
    "duration": 288,
    "start_time": "2024-08-19T09:16:53.495Z"
   },
   {
    "duration": 90,
    "start_time": "2024-08-19T09:16:53.785Z"
   },
   {
    "duration": 23,
    "start_time": "2024-08-19T09:16:53.923Z"
   },
   {
    "duration": 877,
    "start_time": "2024-08-19T09:16:53.947Z"
   },
   {
    "duration": 413,
    "start_time": "2024-08-19T09:16:54.826Z"
   },
   {
    "duration": 13,
    "start_time": "2024-08-19T09:16:55.242Z"
   },
   {
    "duration": 3077,
    "start_time": "2024-08-19T09:16:55.257Z"
   },
   {
    "duration": 1215,
    "start_time": "2024-08-19T09:16:58.336Z"
   },
   {
    "duration": 7,
    "start_time": "2024-08-19T09:16:59.553Z"
   },
   {
    "duration": 2235,
    "start_time": "2024-08-19T09:16:59.625Z"
   },
   {
    "duration": 952,
    "start_time": "2024-08-19T09:17:01.925Z"
   },
   {
    "duration": 7,
    "start_time": "2024-08-19T09:17:02.879Z"
   },
   {
    "duration": 51,
    "start_time": "2024-08-19T09:17:02.887Z"
   },
   {
    "duration": 7,
    "start_time": "2024-08-19T09:20:27.255Z"
   },
   {
    "duration": 78,
    "start_time": "2024-08-19T09:21:45.694Z"
   },
   {
    "duration": 9,
    "start_time": "2024-08-19T09:24:16.940Z"
   },
   {
    "duration": 12,
    "start_time": "2024-08-19T09:24:24.312Z"
   },
   {
    "duration": 1017,
    "start_time": "2024-08-19T09:25:04.351Z"
   },
   {
    "duration": 108,
    "start_time": "2024-08-19T09:25:12.491Z"
   },
   {
    "duration": 40,
    "start_time": "2024-08-19T09:25:20.224Z"
   },
   {
    "duration": 106,
    "start_time": "2024-08-19T09:25:25.037Z"
   },
   {
    "duration": 106,
    "start_time": "2024-08-19T09:25:45.209Z"
   },
   {
    "duration": 21,
    "start_time": "2024-08-19T09:26:13.795Z"
   },
   {
    "duration": 123,
    "start_time": "2024-08-19T09:26:52.387Z"
   },
   {
    "duration": 203,
    "start_time": "2024-08-19T09:26:57.505Z"
   },
   {
    "duration": 121,
    "start_time": "2024-08-19T09:27:53.722Z"
   },
   {
    "duration": 3,
    "start_time": "2024-08-19T09:28:24.442Z"
   },
   {
    "duration": 117,
    "start_time": "2024-08-19T09:28:28.744Z"
   },
   {
    "duration": 11,
    "start_time": "2024-08-19T09:38:56.768Z"
   },
   {
    "duration": 121,
    "start_time": "2024-08-19T09:39:32.506Z"
   },
   {
    "duration": 143,
    "start_time": "2024-08-19T09:39:39.776Z"
   },
   {
    "duration": 162,
    "start_time": "2024-08-19T09:39:47.252Z"
   },
   {
    "duration": 162,
    "start_time": "2024-08-19T09:41:27.297Z"
   },
   {
    "duration": 160,
    "start_time": "2024-08-19T09:41:53.102Z"
   },
   {
    "duration": 198,
    "start_time": "2024-08-19T09:42:13.380Z"
   },
   {
    "duration": 187,
    "start_time": "2024-08-19T09:42:35.096Z"
   },
   {
    "duration": 162,
    "start_time": "2024-08-19T09:43:33.762Z"
   },
   {
    "duration": 159,
    "start_time": "2024-08-19T09:43:40.931Z"
   },
   {
    "duration": 153,
    "start_time": "2024-08-19T09:45:19.789Z"
   },
   {
    "duration": 260,
    "start_time": "2024-08-19T09:45:28.656Z"
   },
   {
    "duration": 150,
    "start_time": "2024-08-19T09:45:36.438Z"
   },
   {
    "duration": 2724,
    "start_time": "2024-08-19T09:47:06.961Z"
   },
   {
    "duration": 14,
    "start_time": "2024-08-19T09:47:32.670Z"
   },
   {
    "duration": 995,
    "start_time": "2024-08-19T09:47:50.993Z"
   },
   {
    "duration": 145,
    "start_time": "2024-08-19T09:48:06.284Z"
   },
   {
    "duration": 155,
    "start_time": "2024-08-19T09:48:15.364Z"
   },
   {
    "duration": 162,
    "start_time": "2024-08-19T09:48:30.528Z"
   },
   {
    "duration": 152,
    "start_time": "2024-08-19T09:48:41.988Z"
   },
   {
    "duration": 11,
    "start_time": "2024-08-19T09:51:18.968Z"
   },
   {
    "duration": 155,
    "start_time": "2024-08-19T09:51:43.610Z"
   },
   {
    "duration": 155,
    "start_time": "2024-08-19T09:51:56.960Z"
   },
   {
    "duration": 11,
    "start_time": "2024-08-19T09:52:32.186Z"
   },
   {
    "duration": 154,
    "start_time": "2024-08-19T09:52:34.745Z"
   },
   {
    "duration": 151,
    "start_time": "2024-08-19T09:52:56.471Z"
   },
   {
    "duration": 158,
    "start_time": "2024-08-19T09:53:05.055Z"
   },
   {
    "duration": 151,
    "start_time": "2024-08-19T09:56:46.753Z"
   },
   {
    "duration": 82,
    "start_time": "2024-08-19T09:56:54.024Z"
   },
   {
    "duration": 161,
    "start_time": "2024-08-19T09:57:02.420Z"
   },
   {
    "duration": 276,
    "start_time": "2024-08-19T09:57:37.135Z"
   },
   {
    "duration": 159,
    "start_time": "2024-08-19T09:58:06.114Z"
   },
   {
    "duration": 166,
    "start_time": "2024-08-19T09:58:19.642Z"
   },
   {
    "duration": 164,
    "start_time": "2024-08-19T09:58:47.280Z"
   },
   {
    "duration": 77,
    "start_time": "2024-08-19T09:59:46.786Z"
   },
   {
    "duration": 69,
    "start_time": "2024-08-19T10:00:09.610Z"
   },
   {
    "duration": 76,
    "start_time": "2024-08-19T10:00:25.072Z"
   },
   {
    "duration": 102,
    "start_time": "2024-08-19T10:00:44.426Z"
   },
   {
    "duration": 4,
    "start_time": "2024-08-19T10:02:16.384Z"
   },
   {
    "duration": 4,
    "start_time": "2024-08-19T10:02:40.651Z"
   },
   {
    "duration": 3,
    "start_time": "2024-08-19T10:02:53.759Z"
   },
   {
    "duration": 6,
    "start_time": "2024-08-19T10:04:14.245Z"
   },
   {
    "duration": 5,
    "start_time": "2024-08-19T10:04:32.165Z"
   },
   {
    "duration": 5,
    "start_time": "2024-08-19T10:04:45.888Z"
   },
   {
    "duration": 70,
    "start_time": "2024-08-19T10:04:52.441Z"
   },
   {
    "duration": 6,
    "start_time": "2024-08-19T10:05:42.310Z"
   },
   {
    "duration": 68,
    "start_time": "2024-08-19T10:06:04.121Z"
   },
   {
    "duration": 162,
    "start_time": "2024-08-19T10:06:08.148Z"
   },
   {
    "duration": 7,
    "start_time": "2024-08-19T10:06:36.377Z"
   },
   {
    "duration": 11,
    "start_time": "2024-08-19T10:06:37.822Z"
   },
   {
    "duration": 180,
    "start_time": "2024-08-19T10:06:38.631Z"
   },
   {
    "duration": 6,
    "start_time": "2024-08-19T10:06:52.865Z"
   },
   {
    "duration": 12,
    "start_time": "2024-08-19T10:06:53.683Z"
   },
   {
    "duration": 165,
    "start_time": "2024-08-19T10:06:53.991Z"
   },
   {
    "duration": 6,
    "start_time": "2024-08-19T10:07:05.773Z"
   },
   {
    "duration": 11,
    "start_time": "2024-08-19T10:07:07.098Z"
   },
   {
    "duration": 166,
    "start_time": "2024-08-19T10:07:07.405Z"
   },
   {
    "duration": 170,
    "start_time": "2024-08-19T10:07:17.338Z"
   },
   {
    "duration": 6,
    "start_time": "2024-08-19T10:08:04.647Z"
   },
   {
    "duration": 9,
    "start_time": "2024-08-19T10:08:04.955Z"
   },
   {
    "duration": 6,
    "start_time": "2024-08-19T10:08:36.289Z"
   },
   {
    "duration": 11,
    "start_time": "2024-08-19T10:08:37.722Z"
   },
   {
    "duration": 171,
    "start_time": "2024-08-19T10:08:38.439Z"
   },
   {
    "duration": 6,
    "start_time": "2024-08-19T10:09:00.968Z"
   },
   {
    "duration": 11,
    "start_time": "2024-08-19T10:09:01.787Z"
   },
   {
    "duration": 173,
    "start_time": "2024-08-19T10:09:01.992Z"
   },
   {
    "duration": 5,
    "start_time": "2024-08-19T10:09:10.696Z"
   },
   {
    "duration": 11,
    "start_time": "2024-08-19T10:09:11.106Z"
   },
   {
    "duration": 166,
    "start_time": "2024-08-19T10:09:11.515Z"
   },
   {
    "duration": 5,
    "start_time": "2024-08-19T10:09:19.810Z"
   },
   {
    "duration": 11,
    "start_time": "2024-08-19T10:09:20.526Z"
   },
   {
    "duration": 168,
    "start_time": "2024-08-19T10:09:20.731Z"
   },
   {
    "duration": 4,
    "start_time": "2024-08-19T10:10:12.136Z"
   },
   {
    "duration": 11,
    "start_time": "2024-08-19T10:10:13.263Z"
   },
   {
    "duration": 275,
    "start_time": "2024-08-19T10:10:13.569Z"
   },
   {
    "duration": 3,
    "start_time": "2024-08-19T10:10:42.037Z"
   },
   {
    "duration": 12,
    "start_time": "2024-08-19T10:10:42.447Z"
   },
   {
    "duration": 187,
    "start_time": "2024-08-19T10:10:43.061Z"
   },
   {
    "duration": 3,
    "start_time": "2024-08-19T10:10:58.524Z"
   },
   {
    "duration": 12,
    "start_time": "2024-08-19T10:10:58.933Z"
   },
   {
    "duration": 167,
    "start_time": "2024-08-19T10:10:59.342Z"
   },
   {
    "duration": 4,
    "start_time": "2024-08-19T10:11:05.282Z"
   },
   {
    "duration": 11,
    "start_time": "2024-08-19T10:11:05.509Z"
   },
   {
    "duration": 172,
    "start_time": "2024-08-19T10:11:05.999Z"
   },
   {
    "duration": 4,
    "start_time": "2024-08-19T10:11:12.758Z"
   },
   {
    "duration": 11,
    "start_time": "2024-08-19T10:11:13.167Z"
   },
   {
    "duration": 171,
    "start_time": "2024-08-19T10:11:13.586Z"
   },
   {
    "duration": 163,
    "start_time": "2024-08-19T10:11:57.590Z"
   },
   {
    "duration": 163,
    "start_time": "2024-08-19T10:12:27.408Z"
   },
   {
    "duration": 165,
    "start_time": "2024-08-19T10:12:34.482Z"
   },
   {
    "duration": 3,
    "start_time": "2024-08-19T10:13:04.699Z"
   },
   {
    "duration": 12,
    "start_time": "2024-08-19T10:13:04.989Z"
   },
   {
    "duration": 173,
    "start_time": "2024-08-19T10:13:05.194Z"
   },
   {
    "duration": 10,
    "start_time": "2024-08-19T10:13:05.399Z"
   },
   {
    "duration": 166,
    "start_time": "2024-08-19T10:13:05.706Z"
   },
   {
    "duration": 12,
    "start_time": "2024-08-19T10:13:06.948Z"
   },
   {
    "duration": 164,
    "start_time": "2024-08-19T10:13:07.370Z"
   },
   {
    "duration": 4,
    "start_time": "2024-08-19T10:13:20.452Z"
   },
   {
    "duration": 11,
    "start_time": "2024-08-19T10:13:20.759Z"
   },
   {
    "duration": 169,
    "start_time": "2024-08-19T10:13:20.965Z"
   },
   {
    "duration": 11,
    "start_time": "2024-08-19T10:13:22.397Z"
   },
   {
    "duration": 164,
    "start_time": "2024-08-19T10:13:23.933Z"
   },
   {
    "duration": 11,
    "start_time": "2024-08-19T10:13:24.138Z"
   },
   {
    "duration": 268,
    "start_time": "2024-08-19T10:13:24.467Z"
   },
   {
    "duration": 4,
    "start_time": "2024-08-19T10:13:50.763Z"
   },
   {
    "duration": 12,
    "start_time": "2024-08-19T10:13:52.093Z"
   },
   {
    "duration": 168,
    "start_time": "2024-08-19T10:13:52.708Z"
   },
   {
    "duration": 3,
    "start_time": "2024-08-19T10:14:37.765Z"
   },
   {
    "duration": 11,
    "start_time": "2024-08-19T10:14:37.898Z"
   },
   {
    "duration": 170,
    "start_time": "2024-08-19T10:14:38.173Z"
   },
   {
    "duration": 12,
    "start_time": "2024-08-19T10:14:38.394Z"
   },
   {
    "duration": 166,
    "start_time": "2024-08-19T10:14:39.100Z"
   },
   {
    "duration": 17,
    "start_time": "2024-08-19T10:14:39.621Z"
   },
   {
    "duration": 173,
    "start_time": "2024-08-19T10:14:40.324Z"
   },
   {
    "duration": 5154,
    "start_time": "2024-08-19T10:17:55.602Z"
   },
   {
    "duration": 101,
    "start_time": "2024-08-19T10:27:04.985Z"
   },
   {
    "duration": 63,
    "start_time": "2024-08-19T10:35:11.619Z"
   },
   {
    "duration": 80,
    "start_time": "2024-08-19T10:53:40.203Z"
   },
   {
    "duration": 173,
    "start_time": "2024-08-19T10:57:42.754Z"
   },
   {
    "duration": 170,
    "start_time": "2024-08-19T11:13:59.224Z"
   },
   {
    "duration": 165,
    "start_time": "2024-08-19T11:14:23.129Z"
   },
   {
    "duration": 65,
    "start_time": "2024-08-19T11:14:49.036Z"
   },
   {
    "duration": 143,
    "start_time": "2024-08-19T11:15:20.781Z"
   },
   {
    "duration": 70,
    "start_time": "2024-08-19T11:16:27.374Z"
   },
   {
    "duration": 157,
    "start_time": "2024-08-19T11:16:36.973Z"
   },
   {
    "duration": 152,
    "start_time": "2024-08-19T11:16:49.972Z"
   },
   {
    "duration": 303,
    "start_time": "2024-08-19T11:16:54.273Z"
   },
   {
    "duration": 4,
    "start_time": "2024-08-19T11:17:13.114Z"
   },
   {
    "duration": 151,
    "start_time": "2024-08-19T11:17:18.439Z"
   },
   {
    "duration": 5,
    "start_time": "2024-08-19T11:17:36.466Z"
   },
   {
    "duration": 5,
    "start_time": "2024-08-19T11:17:49.466Z"
   },
   {
    "duration": 9,
    "start_time": "2024-08-19T11:18:01.965Z"
   },
   {
    "duration": 9,
    "start_time": "2024-08-19T11:18:36.469Z"
   },
   {
    "duration": 6,
    "start_time": "2024-08-19T11:18:45.889Z"
   },
   {
    "duration": 175,
    "start_time": "2024-08-19T11:19:12.821Z"
   },
   {
    "duration": 143,
    "start_time": "2024-08-19T11:19:35.042Z"
   },
   {
    "duration": 144,
    "start_time": "2024-08-19T11:19:50.812Z"
   },
   {
    "duration": 159,
    "start_time": "2024-08-19T11:20:05.762Z"
   },
   {
    "duration": 167,
    "start_time": "2024-08-19T11:21:00.137Z"
   },
   {
    "duration": 158,
    "start_time": "2024-08-19T11:21:07.408Z"
   },
   {
    "duration": 166,
    "start_time": "2024-08-19T11:23:07.427Z"
   },
   {
    "duration": 148,
    "start_time": "2024-08-19T11:23:23.293Z"
   },
   {
    "duration": 80,
    "start_time": "2024-08-19T11:23:52.478Z"
   },
   {
    "duration": 180,
    "start_time": "2024-08-19T11:24:10.090Z"
   },
   {
    "duration": 168,
    "start_time": "2024-08-19T11:24:37.022Z"
   },
   {
    "duration": 165,
    "start_time": "2024-08-19T11:25:43.499Z"
   },
   {
    "duration": 157,
    "start_time": "2024-08-19T11:28:44.872Z"
   },
   {
    "duration": 161,
    "start_time": "2024-08-19T11:29:02.344Z"
   },
   {
    "duration": 219,
    "start_time": "2024-08-19T11:29:11.149Z"
   },
   {
    "duration": 160,
    "start_time": "2024-08-19T11:29:26.000Z"
   },
   {
    "duration": 13,
    "start_time": "2024-08-19T11:29:51.393Z"
   },
   {
    "duration": 12,
    "start_time": "2024-08-19T11:30:01.428Z"
   },
   {
    "duration": 3,
    "start_time": "2024-08-19T11:30:02.673Z"
   },
   {
    "duration": 156,
    "start_time": "2024-08-19T11:30:03.588Z"
   },
   {
    "duration": 11,
    "start_time": "2024-08-19T11:31:24.066Z"
   },
   {
    "duration": 161,
    "start_time": "2024-08-19T11:31:25.011Z"
   },
   {
    "duration": 83,
    "start_time": "2024-08-19T11:31:55.606Z"
   },
   {
    "duration": 11,
    "start_time": "2024-08-19T11:32:25.302Z"
   },
   {
    "duration": 161,
    "start_time": "2024-08-19T11:32:26.326Z"
   },
   {
    "duration": 69,
    "start_time": "2024-08-19T11:43:11.048Z"
   },
   {
    "duration": 10,
    "start_time": "2024-08-19T11:58:12.173Z"
   },
   {
    "duration": 9,
    "start_time": "2024-08-19T11:58:37.364Z"
   },
   {
    "duration": 1699,
    "start_time": "2024-08-19T11:59:14.842Z"
   },
   {
    "duration": 621,
    "start_time": "2024-08-19T11:59:21.805Z"
   },
   {
    "duration": 508,
    "start_time": "2024-08-19T11:59:42.388Z"
   },
   {
    "duration": 4,
    "start_time": "2024-08-19T12:00:03.188Z"
   },
   {
    "duration": 357,
    "start_time": "2024-08-19T12:00:04.204Z"
   },
   {
    "duration": 6,
    "start_time": "2024-08-19T12:00:04.562Z"
   },
   {
    "duration": 13,
    "start_time": "2024-08-19T12:00:06.145Z"
   },
   {
    "duration": 163,
    "start_time": "2024-08-19T12:00:06.349Z"
   },
   {
    "duration": 12,
    "start_time": "2024-08-19T12:00:07.681Z"
   },
   {
    "duration": 160,
    "start_time": "2024-08-19T12:00:07.898Z"
   },
   {
    "duration": 628,
    "start_time": "2024-08-19T12:00:10.856Z"
   },
   {
    "duration": 487,
    "start_time": "2024-08-19T12:02:13.027Z"
   },
   {
    "duration": 509,
    "start_time": "2024-08-19T12:02:46.301Z"
   },
   {
    "duration": 4,
    "start_time": "2024-08-19T12:03:45.290Z"
   },
   {
    "duration": 163,
    "start_time": "2024-08-19T12:03:45.692Z"
   },
   {
    "duration": 5,
    "start_time": "2024-08-19T12:03:45.897Z"
   },
   {
    "duration": 12,
    "start_time": "2024-08-19T12:03:46.230Z"
   },
   {
    "duration": 170,
    "start_time": "2024-08-19T12:03:47.127Z"
   },
   {
    "duration": 11,
    "start_time": "2024-08-19T12:03:48.048Z"
   },
   {
    "duration": 164,
    "start_time": "2024-08-19T12:03:48.355Z"
   },
   {
    "duration": 3961,
    "start_time": "2024-08-19T12:21:38.056Z"
   },
   {
    "duration": 6,
    "start_time": "2024-08-19T12:21:42.019Z"
   },
   {
    "duration": 3,
    "start_time": "2024-08-19T12:21:42.026Z"
   },
   {
    "duration": 14104,
    "start_time": "2024-08-19T12:21:42.031Z"
   },
   {
    "duration": 11111,
    "start_time": "2024-08-19T12:21:56.138Z"
   },
   {
    "duration": 885,
    "start_time": "2024-08-19T12:22:07.251Z"
   },
   {
    "duration": 1628,
    "start_time": "2024-08-19T12:22:08.137Z"
   },
   {
    "duration": 57,
    "start_time": "2024-08-19T12:22:09.767Z"
   },
   {
    "duration": 4600,
    "start_time": "2024-08-19T12:22:09.826Z"
   },
   {
    "duration": 4827,
    "start_time": "2024-08-19T12:22:14.428Z"
   },
   {
    "duration": 702,
    "start_time": "2024-08-19T12:22:19.325Z"
   },
   {
    "duration": 7,
    "start_time": "2024-08-19T12:22:20.029Z"
   },
   {
    "duration": 5,
    "start_time": "2024-08-19T12:22:20.037Z"
   },
   {
    "duration": 11,
    "start_time": "2024-08-19T12:22:20.043Z"
   },
   {
    "duration": 90,
    "start_time": "2024-08-19T12:22:20.055Z"
   },
   {
    "duration": 3499,
    "start_time": "2024-08-19T12:22:20.147Z"
   },
   {
    "duration": 3,
    "start_time": "2024-08-19T12:22:23.648Z"
   },
   {
    "duration": 1943,
    "start_time": "2024-08-19T12:22:23.653Z"
   },
   {
    "duration": 70,
    "start_time": "2024-08-19T12:22:25.598Z"
   },
   {
    "duration": 0,
    "start_time": "2024-08-19T12:22:25.670Z"
   },
   {
    "duration": 0,
    "start_time": "2024-08-19T12:22:25.672Z"
   },
   {
    "duration": 0,
    "start_time": "2024-08-19T12:22:25.674Z"
   },
   {
    "duration": 0,
    "start_time": "2024-08-19T12:22:25.675Z"
   },
   {
    "duration": 0,
    "start_time": "2024-08-19T12:22:25.676Z"
   },
   {
    "duration": 0,
    "start_time": "2024-08-19T12:22:25.677Z"
   },
   {
    "duration": 0,
    "start_time": "2024-08-19T12:22:25.678Z"
   },
   {
    "duration": 0,
    "start_time": "2024-08-19T12:22:25.679Z"
   },
   {
    "duration": 0,
    "start_time": "2024-08-19T12:22:25.680Z"
   },
   {
    "duration": 0,
    "start_time": "2024-08-19T12:22:25.681Z"
   },
   {
    "duration": 0,
    "start_time": "2024-08-19T12:22:25.682Z"
   },
   {
    "duration": 0,
    "start_time": "2024-08-19T12:22:25.683Z"
   },
   {
    "duration": 0,
    "start_time": "2024-08-19T12:22:25.684Z"
   },
   {
    "duration": 0,
    "start_time": "2024-08-19T12:22:25.685Z"
   },
   {
    "duration": 0,
    "start_time": "2024-08-19T12:22:25.686Z"
   },
   {
    "duration": 0,
    "start_time": "2024-08-19T12:22:25.724Z"
   },
   {
    "duration": 0,
    "start_time": "2024-08-19T12:22:25.725Z"
   },
   {
    "duration": 0,
    "start_time": "2024-08-19T12:22:25.726Z"
   },
   {
    "duration": 0,
    "start_time": "2024-08-19T12:22:25.728Z"
   },
   {
    "duration": 0,
    "start_time": "2024-08-19T12:22:25.729Z"
   },
   {
    "duration": 0,
    "start_time": "2024-08-19T12:22:25.731Z"
   },
   {
    "duration": 0,
    "start_time": "2024-08-19T12:22:25.732Z"
   },
   {
    "duration": 0,
    "start_time": "2024-08-19T12:22:25.733Z"
   },
   {
    "duration": 0,
    "start_time": "2024-08-19T12:22:25.735Z"
   },
   {
    "duration": 0,
    "start_time": "2024-08-19T12:22:25.737Z"
   },
   {
    "duration": 0,
    "start_time": "2024-08-19T12:22:25.738Z"
   },
   {
    "duration": 0,
    "start_time": "2024-08-19T12:22:25.740Z"
   },
   {
    "duration": 0,
    "start_time": "2024-08-19T12:22:25.742Z"
   },
   {
    "duration": 0,
    "start_time": "2024-08-19T12:22:25.743Z"
   },
   {
    "duration": 0,
    "start_time": "2024-08-19T12:22:25.744Z"
   },
   {
    "duration": 0,
    "start_time": "2024-08-19T12:22:25.747Z"
   },
   {
    "duration": 0,
    "start_time": "2024-08-19T12:22:25.748Z"
   },
   {
    "duration": 0,
    "start_time": "2024-08-19T12:22:25.751Z"
   },
   {
    "duration": 0,
    "start_time": "2024-08-19T12:22:25.825Z"
   },
   {
    "duration": 0,
    "start_time": "2024-08-19T12:22:25.827Z"
   },
   {
    "duration": 0,
    "start_time": "2024-08-19T12:22:25.829Z"
   },
   {
    "duration": 0,
    "start_time": "2024-08-19T12:22:25.831Z"
   },
   {
    "duration": 3908,
    "start_time": "2024-08-19T12:23:34.524Z"
   },
   {
    "duration": 5,
    "start_time": "2024-08-19T12:23:38.434Z"
   },
   {
    "duration": 21,
    "start_time": "2024-08-19T12:23:38.441Z"
   },
   {
    "duration": 14161,
    "start_time": "2024-08-19T12:23:38.465Z"
   },
   {
    "duration": 11611,
    "start_time": "2024-08-19T12:23:52.628Z"
   },
   {
    "duration": 807,
    "start_time": "2024-08-19T12:24:04.241Z"
   },
   {
    "duration": 1660,
    "start_time": "2024-08-19T12:24:05.049Z"
   },
   {
    "duration": 14,
    "start_time": "2024-08-19T12:24:06.710Z"
   },
   {
    "duration": 4412,
    "start_time": "2024-08-19T12:24:06.726Z"
   },
   {
    "duration": 4604,
    "start_time": "2024-08-19T12:24:11.141Z"
   },
   {
    "duration": 690,
    "start_time": "2024-08-19T12:24:15.747Z"
   },
   {
    "duration": 7,
    "start_time": "2024-08-19T12:24:16.439Z"
   },
   {
    "duration": 16,
    "start_time": "2024-08-19T12:24:16.448Z"
   },
   {
    "duration": 5,
    "start_time": "2024-08-19T12:24:16.466Z"
   },
   {
    "duration": 29,
    "start_time": "2024-08-19T12:24:16.524Z"
   },
   {
    "duration": 3270,
    "start_time": "2024-08-19T12:24:16.555Z"
   },
   {
    "duration": 3,
    "start_time": "2024-08-19T12:24:19.827Z"
   },
   {
    "duration": 2098,
    "start_time": "2024-08-19T12:24:19.831Z"
   },
   {
    "duration": 744,
    "start_time": "2024-08-19T12:24:21.930Z"
   },
   {
    "duration": 132,
    "start_time": "2024-08-19T12:24:22.725Z"
   },
   {
    "duration": 90,
    "start_time": "2024-08-19T12:24:22.858Z"
   },
   {
    "duration": 1411,
    "start_time": "2024-08-19T12:24:22.950Z"
   },
   {
    "duration": 62,
    "start_time": "2024-08-19T12:24:24.362Z"
   },
   {
    "duration": 433,
    "start_time": "2024-08-19T12:24:24.426Z"
   },
   {
    "duration": 3364,
    "start_time": "2024-08-19T12:24:24.861Z"
   },
   {
    "duration": 3809,
    "start_time": "2024-08-19T12:24:28.226Z"
   },
   {
    "duration": 961,
    "start_time": "2024-08-19T12:24:32.037Z"
   },
   {
    "duration": 68,
    "start_time": "2024-08-19T12:24:33.024Z"
   },
   {
    "duration": 0,
    "start_time": "2024-08-19T12:24:33.093Z"
   },
   {
    "duration": 0,
    "start_time": "2024-08-19T12:24:33.095Z"
   },
   {
    "duration": 0,
    "start_time": "2024-08-19T12:24:33.096Z"
   },
   {
    "duration": 0,
    "start_time": "2024-08-19T12:24:33.097Z"
   },
   {
    "duration": 0,
    "start_time": "2024-08-19T12:24:33.097Z"
   },
   {
    "duration": 0,
    "start_time": "2024-08-19T12:24:33.099Z"
   },
   {
    "duration": 0,
    "start_time": "2024-08-19T12:24:33.100Z"
   },
   {
    "duration": 0,
    "start_time": "2024-08-19T12:24:33.101Z"
   },
   {
    "duration": 0,
    "start_time": "2024-08-19T12:24:33.102Z"
   },
   {
    "duration": 0,
    "start_time": "2024-08-19T12:24:33.103Z"
   },
   {
    "duration": 0,
    "start_time": "2024-08-19T12:24:33.104Z"
   },
   {
    "duration": 0,
    "start_time": "2024-08-19T12:24:33.124Z"
   },
   {
    "duration": 0,
    "start_time": "2024-08-19T12:24:33.125Z"
   },
   {
    "duration": 0,
    "start_time": "2024-08-19T12:24:33.126Z"
   },
   {
    "duration": 0,
    "start_time": "2024-08-19T12:24:33.127Z"
   },
   {
    "duration": 0,
    "start_time": "2024-08-19T12:24:33.128Z"
   },
   {
    "duration": 0,
    "start_time": "2024-08-19T12:24:33.129Z"
   },
   {
    "duration": 0,
    "start_time": "2024-08-19T12:24:33.130Z"
   },
   {
    "duration": 0,
    "start_time": "2024-08-19T12:24:33.131Z"
   },
   {
    "duration": 0,
    "start_time": "2024-08-19T12:24:33.132Z"
   },
   {
    "duration": 0,
    "start_time": "2024-08-19T12:24:33.133Z"
   },
   {
    "duration": 0,
    "start_time": "2024-08-19T12:24:33.134Z"
   },
   {
    "duration": 0,
    "start_time": "2024-08-19T12:24:33.135Z"
   },
   {
    "duration": 0,
    "start_time": "2024-08-19T12:24:33.136Z"
   },
   {
    "duration": 0,
    "start_time": "2024-08-19T12:24:33.137Z"
   },
   {
    "duration": 0,
    "start_time": "2024-08-19T12:24:33.138Z"
   },
   {
    "duration": 0,
    "start_time": "2024-08-19T12:24:33.139Z"
   },
   {
    "duration": 4035,
    "start_time": "2024-08-19T12:24:55.991Z"
   },
   {
    "duration": 6,
    "start_time": "2024-08-19T12:25:00.028Z"
   },
   {
    "duration": 38,
    "start_time": "2024-08-19T12:25:00.036Z"
   },
   {
    "duration": 13755,
    "start_time": "2024-08-19T12:25:00.077Z"
   },
   {
    "duration": 11323,
    "start_time": "2024-08-19T12:25:13.835Z"
   },
   {
    "duration": 975,
    "start_time": "2024-08-19T12:25:25.160Z"
   },
   {
    "duration": 1908,
    "start_time": "2024-08-19T12:25:26.137Z"
   },
   {
    "duration": 5,
    "start_time": "2024-08-19T12:25:28.048Z"
   },
   {
    "duration": 4899,
    "start_time": "2024-08-19T12:25:28.056Z"
   },
   {
    "duration": 4501,
    "start_time": "2024-08-19T12:25:32.958Z"
   },
   {
    "duration": 643,
    "start_time": "2024-08-19T12:25:37.525Z"
   },
   {
    "duration": 9,
    "start_time": "2024-08-19T12:25:38.225Z"
   },
   {
    "duration": 5,
    "start_time": "2024-08-19T12:25:38.236Z"
   },
   {
    "duration": 5,
    "start_time": "2024-08-19T12:25:38.242Z"
   },
   {
    "duration": 78,
    "start_time": "2024-08-19T12:25:38.249Z"
   },
   {
    "duration": 3422,
    "start_time": "2024-08-19T12:25:38.329Z"
   },
   {
    "duration": 3,
    "start_time": "2024-08-19T12:25:41.753Z"
   },
   {
    "duration": 2285,
    "start_time": "2024-08-19T12:25:41.757Z"
   },
   {
    "duration": 780,
    "start_time": "2024-08-19T12:25:44.044Z"
   },
   {
    "duration": 121,
    "start_time": "2024-08-19T12:25:44.826Z"
   },
   {
    "duration": 113,
    "start_time": "2024-08-19T12:25:44.949Z"
   },
   {
    "duration": 1665,
    "start_time": "2024-08-19T12:25:45.064Z"
   },
   {
    "duration": 6,
    "start_time": "2024-08-19T12:25:46.731Z"
   },
   {
    "duration": 511,
    "start_time": "2024-08-19T12:25:46.739Z"
   },
   {
    "duration": 4077,
    "start_time": "2024-08-19T12:25:47.252Z"
   },
   {
    "duration": 4311,
    "start_time": "2024-08-19T12:25:51.331Z"
   },
   {
    "duration": 1302,
    "start_time": "2024-08-19T12:25:55.644Z"
   },
   {
    "duration": 101,
    "start_time": "2024-08-19T12:25:57.023Z"
   },
   {
    "duration": 0,
    "start_time": "2024-08-19T12:25:57.125Z"
   },
   {
    "duration": 0,
    "start_time": "2024-08-19T12:25:57.126Z"
   },
   {
    "duration": 0,
    "start_time": "2024-08-19T12:25:57.127Z"
   },
   {
    "duration": 0,
    "start_time": "2024-08-19T12:25:57.128Z"
   },
   {
    "duration": 0,
    "start_time": "2024-08-19T12:25:57.129Z"
   },
   {
    "duration": 0,
    "start_time": "2024-08-19T12:25:57.130Z"
   },
   {
    "duration": 0,
    "start_time": "2024-08-19T12:25:57.131Z"
   },
   {
    "duration": 0,
    "start_time": "2024-08-19T12:25:57.132Z"
   },
   {
    "duration": 0,
    "start_time": "2024-08-19T12:25:57.133Z"
   },
   {
    "duration": 0,
    "start_time": "2024-08-19T12:25:57.133Z"
   },
   {
    "duration": 0,
    "start_time": "2024-08-19T12:25:57.135Z"
   },
   {
    "duration": 0,
    "start_time": "2024-08-19T12:25:57.136Z"
   },
   {
    "duration": 0,
    "start_time": "2024-08-19T12:25:57.137Z"
   },
   {
    "duration": 0,
    "start_time": "2024-08-19T12:25:57.137Z"
   },
   {
    "duration": 0,
    "start_time": "2024-08-19T12:25:57.138Z"
   },
   {
    "duration": 0,
    "start_time": "2024-08-19T12:25:57.139Z"
   },
   {
    "duration": 0,
    "start_time": "2024-08-19T12:25:57.140Z"
   },
   {
    "duration": 0,
    "start_time": "2024-08-19T12:25:57.141Z"
   },
   {
    "duration": 0,
    "start_time": "2024-08-19T12:25:57.142Z"
   },
   {
    "duration": 0,
    "start_time": "2024-08-19T12:25:57.143Z"
   },
   {
    "duration": 0,
    "start_time": "2024-08-19T12:25:57.144Z"
   },
   {
    "duration": 0,
    "start_time": "2024-08-19T12:25:57.145Z"
   },
   {
    "duration": 0,
    "start_time": "2024-08-19T12:25:57.145Z"
   },
   {
    "duration": 0,
    "start_time": "2024-08-19T12:25:57.146Z"
   },
   {
    "duration": 0,
    "start_time": "2024-08-19T12:25:57.147Z"
   },
   {
    "duration": 0,
    "start_time": "2024-08-19T12:25:57.148Z"
   },
   {
    "duration": 0,
    "start_time": "2024-08-19T12:25:57.149Z"
   },
   {
    "duration": 3860,
    "start_time": "2024-08-19T12:26:16.887Z"
   },
   {
    "duration": 6,
    "start_time": "2024-08-19T12:26:20.749Z"
   },
   {
    "duration": 30,
    "start_time": "2024-08-19T12:26:20.757Z"
   },
   {
    "duration": 13949,
    "start_time": "2024-08-19T12:26:20.789Z"
   },
   {
    "duration": 10884,
    "start_time": "2024-08-19T12:26:34.740Z"
   },
   {
    "duration": 814,
    "start_time": "2024-08-19T12:26:45.626Z"
   },
   {
    "duration": 1628,
    "start_time": "2024-08-19T12:26:46.441Z"
   },
   {
    "duration": 5,
    "start_time": "2024-08-19T12:26:48.071Z"
   },
   {
    "duration": 4448,
    "start_time": "2024-08-19T12:26:48.077Z"
   },
   {
    "duration": 4498,
    "start_time": "2024-08-19T12:26:52.529Z"
   },
   {
    "duration": 707,
    "start_time": "2024-08-19T12:26:57.029Z"
   },
   {
    "duration": 6,
    "start_time": "2024-08-19T12:26:57.737Z"
   },
   {
    "duration": 7,
    "start_time": "2024-08-19T12:26:57.745Z"
   },
   {
    "duration": 8,
    "start_time": "2024-08-19T12:26:57.753Z"
   },
   {
    "duration": 80,
    "start_time": "2024-08-19T12:26:57.762Z"
   },
   {
    "duration": 3309,
    "start_time": "2024-08-19T12:26:57.844Z"
   },
   {
    "duration": 4,
    "start_time": "2024-08-19T12:27:01.154Z"
   },
   {
    "duration": 1978,
    "start_time": "2024-08-19T12:27:01.160Z"
   },
   {
    "duration": 807,
    "start_time": "2024-08-19T12:27:03.140Z"
   },
   {
    "duration": 196,
    "start_time": "2024-08-19T12:27:03.949Z"
   },
   {
    "duration": 100,
    "start_time": "2024-08-19T12:27:04.146Z"
   },
   {
    "duration": 1492,
    "start_time": "2024-08-19T12:27:04.248Z"
   },
   {
    "duration": 7,
    "start_time": "2024-08-19T12:27:05.742Z"
   },
   {
    "duration": 589,
    "start_time": "2024-08-19T12:27:05.751Z"
   },
   {
    "duration": 3889,
    "start_time": "2024-08-19T12:27:06.342Z"
   },
   {
    "duration": 4296,
    "start_time": "2024-08-19T12:27:10.233Z"
   },
   {
    "duration": 1214,
    "start_time": "2024-08-19T12:27:14.531Z"
   },
   {
    "duration": 8,
    "start_time": "2024-08-19T12:27:15.749Z"
   },
   {
    "duration": 2677,
    "start_time": "2024-08-19T12:27:15.759Z"
   },
   {
    "duration": 1124,
    "start_time": "2024-08-19T12:27:18.437Z"
   },
   {
    "duration": 68,
    "start_time": "2024-08-19T12:27:19.563Z"
   },
   {
    "duration": 193,
    "start_time": "2024-08-19T12:27:19.635Z"
   },
   {
    "duration": 4,
    "start_time": "2024-08-19T12:27:19.829Z"
   },
   {
    "duration": 736,
    "start_time": "2024-08-19T12:27:19.834Z"
   },
   {
    "duration": 307,
    "start_time": "2024-08-19T12:27:20.571Z"
   },
   {
    "duration": 146,
    "start_time": "2024-08-19T12:27:20.880Z"
   },
   {
    "duration": 21,
    "start_time": "2024-08-19T12:27:21.027Z"
   },
   {
    "duration": 805,
    "start_time": "2024-08-19T12:27:21.050Z"
   },
   {
    "duration": 380,
    "start_time": "2024-08-19T12:27:21.857Z"
   },
   {
    "duration": 10,
    "start_time": "2024-08-19T12:27:22.239Z"
   },
   {
    "duration": 2495,
    "start_time": "2024-08-19T12:27:22.251Z"
   },
   {
    "duration": 1400,
    "start_time": "2024-08-19T12:27:24.747Z"
   },
   {
    "duration": 6,
    "start_time": "2024-08-19T12:27:26.149Z"
   },
   {
    "duration": 2573,
    "start_time": "2024-08-19T12:27:26.157Z"
   },
   {
    "duration": 1131,
    "start_time": "2024-08-19T12:27:28.732Z"
   },
   {
    "duration": 63,
    "start_time": "2024-08-19T12:27:29.865Z"
   },
   {
    "duration": 35,
    "start_time": "2024-08-19T12:27:29.929Z"
   },
   {
    "duration": 3,
    "start_time": "2024-08-19T12:27:29.966Z"
   },
   {
    "duration": 317,
    "start_time": "2024-08-19T12:27:29.971Z"
   },
   {
    "duration": 5,
    "start_time": "2024-08-19T12:27:30.290Z"
   },
   {
    "duration": 65,
    "start_time": "2024-08-19T12:27:30.297Z"
   },
   {
    "duration": 168,
    "start_time": "2024-08-19T12:27:30.363Z"
   },
   {
    "duration": 13,
    "start_time": "2024-08-19T12:27:30.533Z"
   },
   {
    "duration": 249,
    "start_time": "2024-08-19T12:27:30.548Z"
   },
   {
    "duration": 4008,
    "start_time": "2024-08-19T12:31:12.061Z"
   },
   {
    "duration": 6,
    "start_time": "2024-08-19T12:31:16.071Z"
   },
   {
    "duration": 13,
    "start_time": "2024-08-19T12:31:16.079Z"
   },
   {
    "duration": 15098,
    "start_time": "2024-08-19T12:31:16.094Z"
   },
   {
    "duration": 12967,
    "start_time": "2024-08-19T12:31:31.194Z"
   },
   {
    "duration": 981,
    "start_time": "2024-08-19T12:31:44.163Z"
   },
   {
    "duration": 1806,
    "start_time": "2024-08-19T12:31:45.146Z"
   },
   {
    "duration": 4,
    "start_time": "2024-08-19T12:31:46.954Z"
   },
   {
    "duration": 5567,
    "start_time": "2024-08-19T12:31:46.959Z"
   },
   {
    "duration": 5804,
    "start_time": "2024-08-19T12:31:52.530Z"
   },
   {
    "duration": 900,
    "start_time": "2024-08-19T12:31:58.336Z"
   },
   {
    "duration": 7,
    "start_time": "2024-08-19T12:31:59.238Z"
   },
   {
    "duration": 10,
    "start_time": "2024-08-19T12:31:59.247Z"
   },
   {
    "duration": 11,
    "start_time": "2024-08-19T12:31:59.259Z"
   },
   {
    "duration": 117,
    "start_time": "2024-08-19T12:31:59.325Z"
   },
   {
    "duration": 0,
    "start_time": "2024-08-19T12:31:59.444Z"
   },
   {
    "duration": 0,
    "start_time": "2024-08-19T12:31:59.445Z"
   },
   {
    "duration": 0,
    "start_time": "2024-08-19T12:31:59.446Z"
   },
   {
    "duration": 0,
    "start_time": "2024-08-19T12:31:59.447Z"
   },
   {
    "duration": 0,
    "start_time": "2024-08-19T12:31:59.449Z"
   },
   {
    "duration": 0,
    "start_time": "2024-08-19T12:31:59.450Z"
   },
   {
    "duration": 0,
    "start_time": "2024-08-19T12:31:59.451Z"
   },
   {
    "duration": 0,
    "start_time": "2024-08-19T12:31:59.452Z"
   },
   {
    "duration": 0,
    "start_time": "2024-08-19T12:31:59.453Z"
   },
   {
    "duration": 0,
    "start_time": "2024-08-19T12:31:59.454Z"
   },
   {
    "duration": 0,
    "start_time": "2024-08-19T12:31:59.455Z"
   },
   {
    "duration": 0,
    "start_time": "2024-08-19T12:31:59.457Z"
   },
   {
    "duration": 0,
    "start_time": "2024-08-19T12:31:59.458Z"
   },
   {
    "duration": 0,
    "start_time": "2024-08-19T12:31:59.459Z"
   },
   {
    "duration": 0,
    "start_time": "2024-08-19T12:31:59.460Z"
   },
   {
    "duration": 0,
    "start_time": "2024-08-19T12:31:59.461Z"
   },
   {
    "duration": 0,
    "start_time": "2024-08-19T12:31:59.462Z"
   },
   {
    "duration": 0,
    "start_time": "2024-08-19T12:31:59.464Z"
   },
   {
    "duration": 0,
    "start_time": "2024-08-19T12:31:59.465Z"
   },
   {
    "duration": 0,
    "start_time": "2024-08-19T12:31:59.467Z"
   },
   {
    "duration": 0,
    "start_time": "2024-08-19T12:31:59.468Z"
   },
   {
    "duration": 0,
    "start_time": "2024-08-19T12:31:59.470Z"
   },
   {
    "duration": 0,
    "start_time": "2024-08-19T12:31:59.471Z"
   },
   {
    "duration": 0,
    "start_time": "2024-08-19T12:31:59.472Z"
   },
   {
    "duration": 0,
    "start_time": "2024-08-19T12:31:59.474Z"
   },
   {
    "duration": 0,
    "start_time": "2024-08-19T12:31:59.524Z"
   },
   {
    "duration": 0,
    "start_time": "2024-08-19T12:31:59.526Z"
   },
   {
    "duration": 0,
    "start_time": "2024-08-19T12:31:59.529Z"
   },
   {
    "duration": 0,
    "start_time": "2024-08-19T12:31:59.533Z"
   },
   {
    "duration": 0,
    "start_time": "2024-08-19T12:31:59.535Z"
   },
   {
    "duration": 0,
    "start_time": "2024-08-19T12:31:59.537Z"
   },
   {
    "duration": 0,
    "start_time": "2024-08-19T12:31:59.538Z"
   },
   {
    "duration": 0,
    "start_time": "2024-08-19T12:31:59.540Z"
   },
   {
    "duration": 0,
    "start_time": "2024-08-19T12:31:59.541Z"
   },
   {
    "duration": 0,
    "start_time": "2024-08-19T12:31:59.543Z"
   },
   {
    "duration": 0,
    "start_time": "2024-08-19T12:31:59.545Z"
   },
   {
    "duration": 0,
    "start_time": "2024-08-19T12:31:59.547Z"
   },
   {
    "duration": 0,
    "start_time": "2024-08-19T12:31:59.549Z"
   },
   {
    "duration": 0,
    "start_time": "2024-08-19T12:31:59.551Z"
   },
   {
    "duration": 5,
    "start_time": "2024-08-19T12:42:48.526Z"
   },
   {
    "duration": 32,
    "start_time": "2024-08-19T12:42:57.137Z"
   },
   {
    "duration": 23,
    "start_time": "2024-08-19T12:43:11.669Z"
   },
   {
    "duration": 27,
    "start_time": "2024-08-19T12:47:08.216Z"
   },
   {
    "duration": 463,
    "start_time": "2024-08-19T12:55:57.975Z"
   },
   {
    "duration": 4239,
    "start_time": "2024-08-19T12:56:08.501Z"
   },
   {
    "duration": 6,
    "start_time": "2024-08-19T12:56:12.742Z"
   },
   {
    "duration": 57,
    "start_time": "2024-08-19T12:56:12.750Z"
   },
   {
    "duration": 14321,
    "start_time": "2024-08-19T12:56:12.809Z"
   },
   {
    "duration": 11614,
    "start_time": "2024-08-19T12:56:27.132Z"
   },
   {
    "duration": 795,
    "start_time": "2024-08-19T12:56:38.748Z"
   },
   {
    "duration": 1721,
    "start_time": "2024-08-19T12:56:39.546Z"
   },
   {
    "duration": 4,
    "start_time": "2024-08-19T12:56:41.269Z"
   },
   {
    "duration": 4664,
    "start_time": "2024-08-19T12:56:41.275Z"
   },
   {
    "duration": 4681,
    "start_time": "2024-08-19T12:56:45.943Z"
   },
   {
    "duration": 715,
    "start_time": "2024-08-19T12:56:50.627Z"
   },
   {
    "duration": 6,
    "start_time": "2024-08-19T12:56:51.344Z"
   },
   {
    "duration": 5,
    "start_time": "2024-08-19T12:56:51.351Z"
   },
   {
    "duration": 6,
    "start_time": "2024-08-19T12:56:51.357Z"
   },
   {
    "duration": 461,
    "start_time": "2024-08-19T12:56:51.364Z"
   },
   {
    "duration": 3153,
    "start_time": "2024-08-19T12:56:51.827Z"
   },
   {
    "duration": 43,
    "start_time": "2024-08-19T12:56:54.981Z"
   },
   {
    "duration": 2355,
    "start_time": "2024-08-19T12:56:55.026Z"
   },
   {
    "duration": 778,
    "start_time": "2024-08-19T12:56:57.383Z"
   },
   {
    "duration": 141,
    "start_time": "2024-08-19T12:56:58.224Z"
   },
   {
    "duration": 39,
    "start_time": "2024-08-19T12:56:58.425Z"
   },
   {
    "duration": 1620,
    "start_time": "2024-08-19T12:56:58.465Z"
   },
   {
    "duration": 0,
    "start_time": "2024-08-19T12:57:00.088Z"
   },
   {
    "duration": 0,
    "start_time": "2024-08-19T12:57:00.124Z"
   },
   {
    "duration": 1,
    "start_time": "2024-08-19T12:57:00.125Z"
   },
   {
    "duration": 0,
    "start_time": "2024-08-19T12:57:00.127Z"
   },
   {
    "duration": 0,
    "start_time": "2024-08-19T12:57:00.128Z"
   },
   {
    "duration": 0,
    "start_time": "2024-08-19T12:57:00.129Z"
   },
   {
    "duration": 0,
    "start_time": "2024-08-19T12:57:00.131Z"
   },
   {
    "duration": 0,
    "start_time": "2024-08-19T12:57:00.133Z"
   },
   {
    "duration": 0,
    "start_time": "2024-08-19T12:57:00.134Z"
   },
   {
    "duration": 0,
    "start_time": "2024-08-19T12:57:00.136Z"
   },
   {
    "duration": 0,
    "start_time": "2024-08-19T12:57:00.137Z"
   },
   {
    "duration": 0,
    "start_time": "2024-08-19T12:57:00.139Z"
   },
   {
    "duration": 0,
    "start_time": "2024-08-19T12:57:00.141Z"
   },
   {
    "duration": 0,
    "start_time": "2024-08-19T12:57:00.142Z"
   },
   {
    "duration": 0,
    "start_time": "2024-08-19T12:57:00.144Z"
   },
   {
    "duration": 0,
    "start_time": "2024-08-19T12:57:00.146Z"
   },
   {
    "duration": 0,
    "start_time": "2024-08-19T12:57:00.147Z"
   },
   {
    "duration": 0,
    "start_time": "2024-08-19T12:57:00.148Z"
   },
   {
    "duration": 0,
    "start_time": "2024-08-19T12:57:00.149Z"
   },
   {
    "duration": 0,
    "start_time": "2024-08-19T12:57:00.224Z"
   },
   {
    "duration": 0,
    "start_time": "2024-08-19T12:57:00.227Z"
   },
   {
    "duration": 0,
    "start_time": "2024-08-19T12:57:00.231Z"
   },
   {
    "duration": 0,
    "start_time": "2024-08-19T12:57:00.232Z"
   },
   {
    "duration": 0,
    "start_time": "2024-08-19T12:57:00.233Z"
   },
   {
    "duration": 0,
    "start_time": "2024-08-19T12:57:00.237Z"
   },
   {
    "duration": 0,
    "start_time": "2024-08-19T12:57:00.239Z"
   },
   {
    "duration": 0,
    "start_time": "2024-08-19T12:57:00.241Z"
   },
   {
    "duration": 0,
    "start_time": "2024-08-19T12:57:00.242Z"
   },
   {
    "duration": 0,
    "start_time": "2024-08-19T12:57:00.244Z"
   },
   {
    "duration": 0,
    "start_time": "2024-08-19T12:57:00.245Z"
   },
   {
    "duration": 0,
    "start_time": "2024-08-19T12:57:00.247Z"
   },
   {
    "duration": 0,
    "start_time": "2024-08-19T12:57:00.248Z"
   },
   {
    "duration": 4142,
    "start_time": "2024-08-19T12:58:40.311Z"
   },
   {
    "duration": 6,
    "start_time": "2024-08-19T12:58:44.455Z"
   },
   {
    "duration": 11,
    "start_time": "2024-08-19T12:58:44.462Z"
   },
   {
    "duration": 14355,
    "start_time": "2024-08-19T12:58:44.475Z"
   },
   {
    "duration": 11525,
    "start_time": "2024-08-19T12:58:58.832Z"
   },
   {
    "duration": 872,
    "start_time": "2024-08-19T12:59:10.359Z"
   },
   {
    "duration": 1723,
    "start_time": "2024-08-19T12:59:11.233Z"
   },
   {
    "duration": 5,
    "start_time": "2024-08-19T12:59:12.958Z"
   },
   {
    "duration": 4365,
    "start_time": "2024-08-19T12:59:12.964Z"
   },
   {
    "duration": 4797,
    "start_time": "2024-08-19T12:59:17.332Z"
   },
   {
    "duration": 717,
    "start_time": "2024-08-19T12:59:22.130Z"
   },
   {
    "duration": 7,
    "start_time": "2024-08-19T12:59:22.849Z"
   },
   {
    "duration": 66,
    "start_time": "2024-08-19T12:59:22.858Z"
   },
   {
    "duration": 5,
    "start_time": "2024-08-19T12:59:22.926Z"
   },
   {
    "duration": 23,
    "start_time": "2024-08-19T12:59:22.932Z"
   },
   {
    "duration": 3885,
    "start_time": "2024-08-19T12:59:22.957Z"
   },
   {
    "duration": 3,
    "start_time": "2024-08-19T12:59:26.844Z"
   },
   {
    "duration": 1902,
    "start_time": "2024-08-19T12:59:26.849Z"
   },
   {
    "duration": 971,
    "start_time": "2024-08-19T12:59:28.753Z"
   },
   {
    "duration": 131,
    "start_time": "2024-08-19T12:59:29.726Z"
   },
   {
    "duration": 185,
    "start_time": "2024-08-19T12:59:29.859Z"
   },
   {
    "duration": 1613,
    "start_time": "2024-08-19T12:59:30.046Z"
   },
   {
    "duration": 7,
    "start_time": "2024-08-19T12:59:31.724Z"
   },
   {
    "duration": 708,
    "start_time": "2024-08-19T12:59:31.733Z"
   },
   {
    "duration": 3488,
    "start_time": "2024-08-19T12:59:32.442Z"
   },
   {
    "duration": 3907,
    "start_time": "2024-08-19T12:59:35.932Z"
   },
   {
    "duration": 1003,
    "start_time": "2024-08-19T12:59:39.841Z"
   },
   {
    "duration": 9,
    "start_time": "2024-08-19T12:59:40.849Z"
   },
   {
    "duration": 2596,
    "start_time": "2024-08-19T12:59:40.860Z"
   },
   {
    "duration": 969,
    "start_time": "2024-08-19T12:59:43.458Z"
   },
   {
    "duration": 5,
    "start_time": "2024-08-19T12:59:44.429Z"
   },
   {
    "duration": 127,
    "start_time": "2024-08-19T12:59:44.435Z"
   },
   {
    "duration": 3,
    "start_time": "2024-08-19T12:59:44.563Z"
   },
   {
    "duration": 808,
    "start_time": "2024-08-19T12:59:44.624Z"
   },
   {
    "duration": 310,
    "start_time": "2024-08-19T12:59:45.434Z"
   },
   {
    "duration": 85,
    "start_time": "2024-08-19T12:59:45.746Z"
   },
   {
    "duration": 22,
    "start_time": "2024-08-19T12:59:45.833Z"
   },
   {
    "duration": 883,
    "start_time": "2024-08-19T12:59:45.857Z"
   },
   {
    "duration": 394,
    "start_time": "2024-08-19T12:59:46.742Z"
   },
   {
    "duration": 11,
    "start_time": "2024-08-19T12:59:47.138Z"
   },
   {
    "duration": 2984,
    "start_time": "2024-08-19T12:59:47.151Z"
   },
   {
    "duration": 1168,
    "start_time": "2024-08-19T12:59:50.138Z"
   },
   {
    "duration": 6,
    "start_time": "2024-08-19T12:59:51.323Z"
   },
   {
    "duration": 2308,
    "start_time": "2024-08-19T12:59:51.331Z"
   },
   {
    "duration": 925,
    "start_time": "2024-08-19T12:59:53.641Z"
   },
   {
    "duration": 5,
    "start_time": "2024-08-19T12:59:54.568Z"
   },
   {
    "duration": 57,
    "start_time": "2024-08-19T12:59:54.575Z"
   },
   {
    "duration": 5,
    "start_time": "2024-08-19T12:59:54.634Z"
   },
   {
    "duration": 214,
    "start_time": "2024-08-19T12:59:54.641Z"
   },
   {
    "duration": 6,
    "start_time": "2024-08-19T12:59:54.857Z"
   },
   {
    "duration": 15,
    "start_time": "2024-08-19T12:59:54.865Z"
   },
   {
    "duration": 201,
    "start_time": "2024-08-19T12:59:54.881Z"
   },
   {
    "duration": 14,
    "start_time": "2024-08-19T12:59:55.085Z"
   },
   {
    "duration": 200,
    "start_time": "2024-08-19T12:59:55.100Z"
   },
   {
    "duration": 24,
    "start_time": "2024-08-19T13:01:28.391Z"
   },
   {
    "duration": 3960,
    "start_time": "2024-08-19T13:01:44.877Z"
   },
   {
    "duration": 7,
    "start_time": "2024-08-19T13:01:48.840Z"
   },
   {
    "duration": 3,
    "start_time": "2024-08-19T13:01:48.848Z"
   },
   {
    "duration": 14257,
    "start_time": "2024-08-19T13:01:48.854Z"
   },
   {
    "duration": 12016,
    "start_time": "2024-08-19T13:02:03.113Z"
   },
   {
    "duration": 911,
    "start_time": "2024-08-19T13:02:15.131Z"
   },
   {
    "duration": 1705,
    "start_time": "2024-08-19T13:02:16.044Z"
   },
   {
    "duration": 5,
    "start_time": "2024-08-19T13:02:17.751Z"
   },
   {
    "duration": 4580,
    "start_time": "2024-08-19T13:02:17.757Z"
   },
   {
    "duration": 4804,
    "start_time": "2024-08-19T13:02:22.340Z"
   },
   {
    "duration": 821,
    "start_time": "2024-08-19T13:02:27.146Z"
   },
   {
    "duration": 7,
    "start_time": "2024-08-19T13:02:28.024Z"
   },
   {
    "duration": 5,
    "start_time": "2024-08-19T13:02:28.033Z"
   },
   {
    "duration": 4,
    "start_time": "2024-08-19T13:02:28.040Z"
   },
   {
    "duration": 80,
    "start_time": "2024-08-19T13:02:28.046Z"
   },
   {
    "duration": 4095,
    "start_time": "2024-08-19T13:02:28.129Z"
   },
   {
    "duration": 3,
    "start_time": "2024-08-19T13:02:32.226Z"
   },
   {
    "duration": 1936,
    "start_time": "2024-08-19T13:02:32.231Z"
   },
   {
    "duration": 957,
    "start_time": "2024-08-19T13:02:34.169Z"
   },
   {
    "duration": 200,
    "start_time": "2024-08-19T13:02:35.128Z"
   },
   {
    "duration": 94,
    "start_time": "2024-08-19T13:02:35.330Z"
   },
   {
    "duration": 1612,
    "start_time": "2024-08-19T13:02:35.426Z"
   },
   {
    "duration": 8,
    "start_time": "2024-08-19T13:02:37.040Z"
   },
   {
    "duration": 499,
    "start_time": "2024-08-19T13:02:37.050Z"
   },
   {
    "duration": 3702,
    "start_time": "2024-08-19T13:02:37.551Z"
   },
   {
    "duration": 3800,
    "start_time": "2024-08-19T13:02:41.255Z"
   },
   {
    "duration": 1188,
    "start_time": "2024-08-19T13:02:45.057Z"
   },
   {
    "duration": 8,
    "start_time": "2024-08-19T13:02:46.249Z"
   },
   {
    "duration": 2384,
    "start_time": "2024-08-19T13:02:46.258Z"
   },
   {
    "duration": 1005,
    "start_time": "2024-08-19T13:02:48.644Z"
   },
   {
    "duration": 8,
    "start_time": "2024-08-19T13:02:49.650Z"
   },
   {
    "duration": 95,
    "start_time": "2024-08-19T13:02:49.659Z"
   },
   {
    "duration": 3,
    "start_time": "2024-08-19T13:02:49.756Z"
   },
   {
    "duration": 837,
    "start_time": "2024-08-19T13:02:49.761Z"
   },
   {
    "duration": 233,
    "start_time": "2024-08-19T13:02:50.600Z"
   },
   {
    "duration": 121,
    "start_time": "2024-08-19T13:02:50.835Z"
   },
   {
    "duration": 92,
    "start_time": "2024-08-19T13:02:50.958Z"
   },
   {
    "duration": 890,
    "start_time": "2024-08-19T13:02:51.052Z"
   },
   {
    "duration": 396,
    "start_time": "2024-08-19T13:02:51.943Z"
   },
   {
    "duration": 14,
    "start_time": "2024-08-19T13:02:52.341Z"
   },
   {
    "duration": 2776,
    "start_time": "2024-08-19T13:02:52.357Z"
   },
   {
    "duration": 930,
    "start_time": "2024-08-19T13:02:55.135Z"
   },
   {
    "duration": 7,
    "start_time": "2024-08-19T13:02:56.067Z"
   },
   {
    "duration": 2050,
    "start_time": "2024-08-19T13:02:56.076Z"
   },
   {
    "duration": 832,
    "start_time": "2024-08-19T13:02:58.128Z"
   },
   {
    "duration": 7,
    "start_time": "2024-08-19T13:02:58.962Z"
   },
   {
    "duration": 19,
    "start_time": "2024-08-19T13:02:58.971Z"
   },
   {
    "duration": 6,
    "start_time": "2024-08-19T13:02:59.023Z"
   },
   {
    "duration": 200,
    "start_time": "2024-08-19T13:02:59.031Z"
   },
   {
    "duration": 6,
    "start_time": "2024-08-19T13:02:59.233Z"
   },
   {
    "duration": 18,
    "start_time": "2024-08-19T13:02:59.241Z"
   },
   {
    "duration": 198,
    "start_time": "2024-08-19T13:02:59.261Z"
   },
   {
    "duration": 13,
    "start_time": "2024-08-19T13:02:59.461Z"
   },
   {
    "duration": 218,
    "start_time": "2024-08-19T13:02:59.476Z"
   },
   {
    "duration": 4010,
    "start_time": "2024-08-19T13:04:05.379Z"
   },
   {
    "duration": 6,
    "start_time": "2024-08-19T13:04:09.391Z"
   },
   {
    "duration": 9,
    "start_time": "2024-08-19T13:04:09.399Z"
   },
   {
    "duration": 14290,
    "start_time": "2024-08-19T13:04:09.410Z"
   },
   {
    "duration": 12123,
    "start_time": "2024-08-19T13:04:23.702Z"
   },
   {
    "duration": 1013,
    "start_time": "2024-08-19T13:04:35.827Z"
   },
   {
    "duration": 1801,
    "start_time": "2024-08-19T13:04:36.843Z"
   },
   {
    "duration": 6,
    "start_time": "2024-08-19T13:04:38.646Z"
   },
   {
    "duration": 5005,
    "start_time": "2024-08-19T13:04:38.654Z"
   },
   {
    "duration": 4701,
    "start_time": "2024-08-19T13:04:43.723Z"
   },
   {
    "duration": 726,
    "start_time": "2024-08-19T13:04:48.426Z"
   },
   {
    "duration": 69,
    "start_time": "2024-08-19T13:04:49.155Z"
   },
   {
    "duration": 3,
    "start_time": "2024-08-19T13:04:49.226Z"
   },
   {
    "duration": 5,
    "start_time": "2024-08-19T13:04:49.231Z"
   },
   {
    "duration": 99,
    "start_time": "2024-08-19T13:04:49.238Z"
   },
   {
    "duration": 3885,
    "start_time": "2024-08-19T13:04:49.339Z"
   },
   {
    "duration": 3,
    "start_time": "2024-08-19T13:04:53.226Z"
   },
   {
    "duration": 1809,
    "start_time": "2024-08-19T13:04:53.230Z"
   },
   {
    "duration": 808,
    "start_time": "2024-08-19T13:04:55.041Z"
   },
   {
    "duration": 189,
    "start_time": "2024-08-19T13:04:55.851Z"
   },
   {
    "duration": 95,
    "start_time": "2024-08-19T13:04:56.041Z"
   },
   {
    "duration": 1498,
    "start_time": "2024-08-19T13:04:56.137Z"
   },
   {
    "duration": 6,
    "start_time": "2024-08-19T13:04:57.637Z"
   },
   {
    "duration": 603,
    "start_time": "2024-08-19T13:04:57.645Z"
   },
   {
    "duration": 3711,
    "start_time": "2024-08-19T13:04:58.251Z"
   },
   {
    "duration": 3708,
    "start_time": "2024-08-19T13:05:01.964Z"
   },
   {
    "duration": 909,
    "start_time": "2024-08-19T13:05:05.725Z"
   },
   {
    "duration": 8,
    "start_time": "2024-08-19T13:05:06.640Z"
   },
   {
    "duration": 2474,
    "start_time": "2024-08-19T13:05:06.650Z"
   },
   {
    "duration": 935,
    "start_time": "2024-08-19T13:05:09.126Z"
   },
   {
    "duration": 6,
    "start_time": "2024-08-19T13:05:10.063Z"
   },
   {
    "duration": 100,
    "start_time": "2024-08-19T13:05:10.071Z"
   },
   {
    "duration": 6,
    "start_time": "2024-08-19T13:05:10.228Z"
   },
   {
    "duration": 853,
    "start_time": "2024-08-19T13:05:10.236Z"
   },
   {
    "duration": 340,
    "start_time": "2024-08-19T13:05:11.091Z"
   },
   {
    "duration": 101,
    "start_time": "2024-08-19T13:05:11.433Z"
   },
   {
    "duration": 25,
    "start_time": "2024-08-19T13:05:11.537Z"
   },
   {
    "duration": 883,
    "start_time": "2024-08-19T13:05:11.564Z"
   },
   {
    "duration": 390,
    "start_time": "2024-08-19T13:05:12.449Z"
   },
   {
    "duration": 12,
    "start_time": "2024-08-19T13:05:12.840Z"
   },
   {
    "duration": 3001,
    "start_time": "2024-08-19T13:05:12.854Z"
   },
   {
    "duration": 930,
    "start_time": "2024-08-19T13:05:15.856Z"
   },
   {
    "duration": 6,
    "start_time": "2024-08-19T13:05:16.788Z"
   },
   {
    "duration": 2066,
    "start_time": "2024-08-19T13:05:16.795Z"
   },
   {
    "duration": 928,
    "start_time": "2024-08-19T13:05:18.863Z"
   },
   {
    "duration": 6,
    "start_time": "2024-08-19T13:05:19.793Z"
   },
   {
    "duration": 14,
    "start_time": "2024-08-19T13:05:19.825Z"
   },
   {
    "duration": 4,
    "start_time": "2024-08-19T13:05:19.841Z"
   },
   {
    "duration": 216,
    "start_time": "2024-08-19T13:05:19.846Z"
   },
   {
    "duration": 6,
    "start_time": "2024-08-19T13:05:20.064Z"
   },
   {
    "duration": 36,
    "start_time": "2024-08-19T13:05:20.072Z"
   },
   {
    "duration": 194,
    "start_time": "2024-08-19T13:05:20.109Z"
   },
   {
    "duration": 26,
    "start_time": "2024-08-19T13:05:20.305Z"
   },
   {
    "duration": 176,
    "start_time": "2024-08-19T13:05:20.333Z"
   },
   {
    "duration": 4030,
    "start_time": "2024-08-19T13:05:58.329Z"
   },
   {
    "duration": 6,
    "start_time": "2024-08-19T13:06:02.361Z"
   },
   {
    "duration": 5,
    "start_time": "2024-08-19T13:06:02.369Z"
   },
   {
    "duration": 14162,
    "start_time": "2024-08-19T13:06:02.376Z"
   },
   {
    "duration": 11911,
    "start_time": "2024-08-19T13:06:16.540Z"
   },
   {
    "duration": 988,
    "start_time": "2024-08-19T13:06:28.453Z"
   },
   {
    "duration": 1742,
    "start_time": "2024-08-19T13:06:29.523Z"
   },
   {
    "duration": 5,
    "start_time": "2024-08-19T13:06:31.324Z"
   },
   {
    "duration": 4622,
    "start_time": "2024-08-19T13:06:31.331Z"
   },
   {
    "duration": 5001,
    "start_time": "2024-08-19T13:06:36.024Z"
   },
   {
    "duration": 725,
    "start_time": "2024-08-19T13:06:41.027Z"
   },
   {
    "duration": 6,
    "start_time": "2024-08-19T13:06:41.754Z"
   },
   {
    "duration": 62,
    "start_time": "2024-08-19T13:06:41.762Z"
   },
   {
    "duration": 5,
    "start_time": "2024-08-19T13:06:41.826Z"
   },
   {
    "duration": 100,
    "start_time": "2024-08-19T13:06:41.833Z"
   },
   {
    "duration": 3629,
    "start_time": "2024-08-19T13:06:41.934Z"
   },
   {
    "duration": 3,
    "start_time": "2024-08-19T13:06:45.564Z"
   },
   {
    "duration": 2016,
    "start_time": "2024-08-19T13:06:45.624Z"
   },
   {
    "duration": 987,
    "start_time": "2024-08-19T13:06:47.642Z"
   },
   {
    "duration": 193,
    "start_time": "2024-08-19T13:06:48.631Z"
   },
   {
    "duration": 98,
    "start_time": "2024-08-19T13:06:48.826Z"
   },
   {
    "duration": 1431,
    "start_time": "2024-08-19T13:06:48.926Z"
   },
   {
    "duration": 69,
    "start_time": "2024-08-19T13:06:50.359Z"
   },
   {
    "duration": 624,
    "start_time": "2024-08-19T13:06:50.430Z"
   },
   {
    "duration": 3767,
    "start_time": "2024-08-19T13:06:51.057Z"
   },
   {
    "duration": 4006,
    "start_time": "2024-08-19T13:06:54.826Z"
   },
   {
    "duration": 1325,
    "start_time": "2024-08-19T13:06:58.834Z"
   },
   {
    "duration": 68,
    "start_time": "2024-08-19T13:07:00.163Z"
   },
   {
    "duration": 2595,
    "start_time": "2024-08-19T13:07:00.233Z"
   },
   {
    "duration": 1114,
    "start_time": "2024-08-19T13:07:02.830Z"
   },
   {
    "duration": 6,
    "start_time": "2024-08-19T13:07:03.946Z"
   },
   {
    "duration": 177,
    "start_time": "2024-08-19T13:07:03.953Z"
   },
   {
    "duration": 3,
    "start_time": "2024-08-19T13:07:04.132Z"
   },
   {
    "duration": 756,
    "start_time": "2024-08-19T13:07:04.136Z"
   },
   {
    "duration": 286,
    "start_time": "2024-08-19T13:07:04.893Z"
   },
   {
    "duration": 20,
    "start_time": "2024-08-19T13:07:05.227Z"
   },
   {
    "duration": 83,
    "start_time": "2024-08-19T13:07:05.248Z"
   },
   {
    "duration": 801,
    "start_time": "2024-08-19T13:07:05.333Z"
   },
   {
    "duration": 445,
    "start_time": "2024-08-19T13:07:06.136Z"
   },
   {
    "duration": 14,
    "start_time": "2024-08-19T13:07:06.583Z"
   },
   {
    "duration": 3031,
    "start_time": "2024-08-19T13:07:06.599Z"
   },
   {
    "duration": 1138,
    "start_time": "2024-08-19T13:07:09.632Z"
   },
   {
    "duration": 6,
    "start_time": "2024-08-19T13:07:10.772Z"
   },
   {
    "duration": 2748,
    "start_time": "2024-08-19T13:07:10.779Z"
   },
   {
    "duration": 969,
    "start_time": "2024-08-19T13:07:13.529Z"
   },
   {
    "duration": 26,
    "start_time": "2024-08-19T13:07:14.500Z"
   },
   {
    "duration": 15,
    "start_time": "2024-08-19T13:07:14.528Z"
   },
   {
    "duration": 30,
    "start_time": "2024-08-19T13:07:14.545Z"
   },
   {
    "duration": 190,
    "start_time": "2024-08-19T13:07:14.577Z"
   },
   {
    "duration": 6,
    "start_time": "2024-08-19T13:07:14.769Z"
   },
   {
    "duration": 12,
    "start_time": "2024-08-19T13:07:14.776Z"
   },
   {
    "duration": 190,
    "start_time": "2024-08-19T13:07:14.790Z"
   },
   {
    "duration": 12,
    "start_time": "2024-08-19T13:07:14.981Z"
   },
   {
    "duration": 186,
    "start_time": "2024-08-19T13:07:14.995Z"
   },
   {
    "duration": 3908,
    "start_time": "2024-08-19T13:08:11.472Z"
   },
   {
    "duration": 5,
    "start_time": "2024-08-19T13:08:15.382Z"
   },
   {
    "duration": 12,
    "start_time": "2024-08-19T13:08:15.389Z"
   },
   {
    "duration": 13936,
    "start_time": "2024-08-19T13:08:15.403Z"
   },
   {
    "duration": 11593,
    "start_time": "2024-08-19T13:08:29.342Z"
   },
   {
    "duration": 894,
    "start_time": "2024-08-19T13:08:40.937Z"
   },
   {
    "duration": 1618,
    "start_time": "2024-08-19T13:08:41.833Z"
   },
   {
    "duration": 5,
    "start_time": "2024-08-19T13:08:43.453Z"
   },
   {
    "duration": 4897,
    "start_time": "2024-08-19T13:08:43.459Z"
   },
   {
    "duration": 5193,
    "start_time": "2024-08-19T13:08:48.360Z"
   },
   {
    "duration": 797,
    "start_time": "2024-08-19T13:08:53.556Z"
   },
   {
    "duration": 73,
    "start_time": "2024-08-19T13:08:54.356Z"
   },
   {
    "duration": 4,
    "start_time": "2024-08-19T13:08:54.431Z"
   },
   {
    "duration": 5,
    "start_time": "2024-08-19T13:08:54.437Z"
   },
   {
    "duration": 92,
    "start_time": "2024-08-19T13:08:54.444Z"
   },
   {
    "duration": 3502,
    "start_time": "2024-08-19T13:08:54.538Z"
   },
   {
    "duration": 3,
    "start_time": "2024-08-19T13:08:58.041Z"
   },
   {
    "duration": 2291,
    "start_time": "2024-08-19T13:08:58.046Z"
   },
   {
    "duration": 887,
    "start_time": "2024-08-19T13:09:00.338Z"
   },
   {
    "duration": 199,
    "start_time": "2024-08-19T13:09:01.227Z"
   },
   {
    "duration": 34,
    "start_time": "2024-08-19T13:09:01.429Z"
   },
   {
    "duration": 1642,
    "start_time": "2024-08-19T13:09:01.523Z"
   },
   {
    "duration": 63,
    "start_time": "2024-08-19T13:09:03.166Z"
   },
   {
    "duration": 523,
    "start_time": "2024-08-19T13:09:03.232Z"
   },
   {
    "duration": 3672,
    "start_time": "2024-08-19T13:09:03.757Z"
   },
   {
    "duration": 4103,
    "start_time": "2024-08-19T13:09:07.431Z"
   },
   {
    "duration": 1195,
    "start_time": "2024-08-19T13:09:11.536Z"
   },
   {
    "duration": 9,
    "start_time": "2024-08-19T13:09:12.734Z"
   },
   {
    "duration": 2713,
    "start_time": "2024-08-19T13:09:12.744Z"
   },
   {
    "duration": 1030,
    "start_time": "2024-08-19T13:09:15.459Z"
   },
   {
    "duration": 38,
    "start_time": "2024-08-19T13:09:16.491Z"
   },
   {
    "duration": 129,
    "start_time": "2024-08-19T13:09:16.531Z"
   },
   {
    "duration": 3,
    "start_time": "2024-08-19T13:09:16.724Z"
   },
   {
    "duration": 866,
    "start_time": "2024-08-19T13:09:16.729Z"
   },
   {
    "duration": 335,
    "start_time": "2024-08-19T13:09:17.596Z"
   },
   {
    "duration": 112,
    "start_time": "2024-08-19T13:09:17.932Z"
   },
   {
    "duration": 79,
    "start_time": "2024-08-19T13:09:18.047Z"
   },
   {
    "duration": 837,
    "start_time": "2024-08-19T13:09:18.128Z"
   },
   {
    "duration": 415,
    "start_time": "2024-08-19T13:09:19.023Z"
   },
   {
    "duration": 12,
    "start_time": "2024-08-19T13:09:19.440Z"
   },
   {
    "duration": 2971,
    "start_time": "2024-08-19T13:09:19.454Z"
   },
   {
    "duration": 918,
    "start_time": "2024-08-19T13:09:22.427Z"
   },
   {
    "duration": 6,
    "start_time": "2024-08-19T13:09:23.347Z"
   },
   {
    "duration": 2320,
    "start_time": "2024-08-19T13:09:23.354Z"
   },
   {
    "duration": 960,
    "start_time": "2024-08-19T13:09:25.724Z"
   },
   {
    "duration": 6,
    "start_time": "2024-08-19T13:09:26.685Z"
   },
   {
    "duration": 40,
    "start_time": "2024-08-19T13:09:26.693Z"
   },
   {
    "duration": 4,
    "start_time": "2024-08-19T13:09:26.734Z"
   },
   {
    "duration": 205,
    "start_time": "2024-08-19T13:09:26.740Z"
   },
   {
    "duration": 6,
    "start_time": "2024-08-19T13:09:26.947Z"
   },
   {
    "duration": 15,
    "start_time": "2024-08-19T13:09:26.954Z"
   },
   {
    "duration": 196,
    "start_time": "2024-08-19T13:09:26.971Z"
   },
   {
    "duration": 12,
    "start_time": "2024-08-19T13:09:27.169Z"
   },
   {
    "duration": 184,
    "start_time": "2024-08-19T13:09:27.182Z"
   },
   {
    "duration": 44366,
    "start_time": "2024-08-19T14:05:01.019Z"
   },
   {
    "duration": 6,
    "start_time": "2024-08-19T14:05:45.387Z"
   },
   {
    "duration": 25,
    "start_time": "2024-08-19T14:05:45.394Z"
   },
   {
    "duration": 15622,
    "start_time": "2024-08-19T14:05:45.421Z"
   },
   {
    "duration": 12227,
    "start_time": "2024-08-19T14:06:01.045Z"
   },
   {
    "duration": 1882,
    "start_time": "2024-08-19T14:06:13.276Z"
   },
   {
    "duration": 3204,
    "start_time": "2024-08-19T14:06:15.160Z"
   },
   {
    "duration": 5,
    "start_time": "2024-08-19T14:06:18.366Z"
   },
   {
    "duration": 5805,
    "start_time": "2024-08-19T14:06:18.372Z"
   },
   {
    "duration": 5477,
    "start_time": "2024-08-19T14:06:24.181Z"
   },
   {
    "duration": 707,
    "start_time": "2024-08-19T14:06:29.661Z"
   },
   {
    "duration": 5,
    "start_time": "2024-08-19T14:06:30.370Z"
   },
   {
    "duration": 61,
    "start_time": "2024-08-19T14:06:30.377Z"
   },
   {
    "duration": 15,
    "start_time": "2024-08-19T14:06:30.446Z"
   },
   {
    "duration": 60,
    "start_time": "2024-08-19T14:06:30.462Z"
   },
   {
    "duration": 3,
    "start_time": "2024-08-19T14:06:52.733Z"
   },
   {
    "duration": 481,
    "start_time": "2024-08-19T14:06:56.101Z"
   },
   {
    "duration": 627,
    "start_time": "2024-08-19T14:06:59.624Z"
   },
   {
    "duration": 2835,
    "start_time": "2024-08-19T14:36:01.401Z"
   },
   {
    "duration": 4,
    "start_time": "2024-08-19T14:36:04.239Z"
   },
   {
    "duration": 11,
    "start_time": "2024-08-19T14:36:04.244Z"
   },
   {
    "duration": 16,
    "start_time": "2024-08-19T14:36:06.215Z"
   },
   {
    "duration": 947,
    "start_time": "2024-08-19T14:36:09.697Z"
   },
   {
    "duration": 142,
    "start_time": "2024-08-19T14:36:13.584Z"
   },
   {
    "duration": 570,
    "start_time": "2024-08-19T14:36:19.425Z"
   },
   {
    "duration": 68,
    "start_time": "2024-08-19T14:51:24.578Z"
   },
   {
    "duration": 61,
    "start_time": "2024-08-19T14:53:13.532Z"
   },
   {
    "duration": 68,
    "start_time": "2024-08-19T14:53:22.923Z"
   },
   {
    "duration": 66,
    "start_time": "2024-08-19T14:53:35.745Z"
   },
   {
    "duration": 63,
    "start_time": "2024-08-19T14:54:40.557Z"
   },
   {
    "duration": 66,
    "start_time": "2024-08-19T14:54:54.982Z"
   },
   {
    "duration": 68,
    "start_time": "2024-08-19T14:55:27.599Z"
   },
   {
    "duration": 494,
    "start_time": "2024-08-19T14:55:46.805Z"
   },
   {
    "duration": 67,
    "start_time": "2024-08-19T14:56:16.902Z"
   },
   {
    "duration": 67,
    "start_time": "2024-08-19T15:04:34.879Z"
   },
   {
    "duration": 253,
    "start_time": "2024-08-19T15:06:07.086Z"
   },
   {
    "duration": 77,
    "start_time": "2024-08-19T15:06:17.280Z"
   },
   {
    "duration": 16,
    "start_time": "2024-08-19T15:06:42.778Z"
   },
   {
    "duration": 3991,
    "start_time": "2024-08-19T15:08:17.909Z"
   },
   {
    "duration": 6,
    "start_time": "2024-08-19T15:08:21.902Z"
   },
   {
    "duration": 11,
    "start_time": "2024-08-19T15:08:21.909Z"
   },
   {
    "duration": 14320,
    "start_time": "2024-08-19T15:08:21.921Z"
   },
   {
    "duration": 11796,
    "start_time": "2024-08-19T15:08:36.244Z"
   },
   {
    "duration": 992,
    "start_time": "2024-08-19T15:08:48.041Z"
   },
   {
    "duration": 1734,
    "start_time": "2024-08-19T15:08:49.034Z"
   },
   {
    "duration": 5,
    "start_time": "2024-08-19T15:08:50.825Z"
   },
   {
    "duration": 4822,
    "start_time": "2024-08-19T15:08:50.832Z"
   },
   {
    "duration": 4669,
    "start_time": "2024-08-19T15:08:55.656Z"
   },
   {
    "duration": 818,
    "start_time": "2024-08-19T15:09:00.327Z"
   },
   {
    "duration": 227,
    "start_time": "2024-08-19T15:09:01.147Z"
   },
   {
    "duration": 0,
    "start_time": "2024-08-19T15:09:01.377Z"
   },
   {
    "duration": 0,
    "start_time": "2024-08-19T15:09:01.378Z"
   },
   {
    "duration": 0,
    "start_time": "2024-08-19T15:09:01.379Z"
   },
   {
    "duration": 0,
    "start_time": "2024-08-19T15:09:01.380Z"
   },
   {
    "duration": 0,
    "start_time": "2024-08-19T15:09:01.381Z"
   },
   {
    "duration": 0,
    "start_time": "2024-08-19T15:09:01.382Z"
   },
   {
    "duration": 0,
    "start_time": "2024-08-19T15:09:01.383Z"
   },
   {
    "duration": 0,
    "start_time": "2024-08-19T15:09:01.384Z"
   },
   {
    "duration": 0,
    "start_time": "2024-08-19T15:09:01.385Z"
   },
   {
    "duration": 0,
    "start_time": "2024-08-19T15:09:01.387Z"
   },
   {
    "duration": 0,
    "start_time": "2024-08-19T15:09:01.424Z"
   },
   {
    "duration": 0,
    "start_time": "2024-08-19T15:09:01.425Z"
   },
   {
    "duration": 0,
    "start_time": "2024-08-19T15:09:01.427Z"
   },
   {
    "duration": 0,
    "start_time": "2024-08-19T15:09:01.428Z"
   },
   {
    "duration": 0,
    "start_time": "2024-08-19T15:09:01.429Z"
   },
   {
    "duration": 0,
    "start_time": "2024-08-19T15:09:01.430Z"
   },
   {
    "duration": 0,
    "start_time": "2024-08-19T15:09:01.431Z"
   },
   {
    "duration": 0,
    "start_time": "2024-08-19T15:09:01.433Z"
   },
   {
    "duration": 0,
    "start_time": "2024-08-19T15:09:01.434Z"
   },
   {
    "duration": 0,
    "start_time": "2024-08-19T15:09:01.435Z"
   },
   {
    "duration": 0,
    "start_time": "2024-08-19T15:09:01.436Z"
   },
   {
    "duration": 0,
    "start_time": "2024-08-19T15:09:01.438Z"
   },
   {
    "duration": 0,
    "start_time": "2024-08-19T15:09:01.439Z"
   },
   {
    "duration": 0,
    "start_time": "2024-08-19T15:09:01.440Z"
   },
   {
    "duration": 0,
    "start_time": "2024-08-19T15:09:01.441Z"
   },
   {
    "duration": 0,
    "start_time": "2024-08-19T15:09:01.441Z"
   },
   {
    "duration": 0,
    "start_time": "2024-08-19T15:09:01.442Z"
   },
   {
    "duration": 0,
    "start_time": "2024-08-19T15:09:01.444Z"
   },
   {
    "duration": 0,
    "start_time": "2024-08-19T15:09:01.445Z"
   },
   {
    "duration": 0,
    "start_time": "2024-08-19T15:09:01.446Z"
   },
   {
    "duration": 0,
    "start_time": "2024-08-19T15:09:01.447Z"
   },
   {
    "duration": 0,
    "start_time": "2024-08-19T15:09:01.448Z"
   },
   {
    "duration": 0,
    "start_time": "2024-08-19T15:09:01.450Z"
   },
   {
    "duration": 0,
    "start_time": "2024-08-19T15:09:01.451Z"
   },
   {
    "duration": 0,
    "start_time": "2024-08-19T15:09:01.452Z"
   },
   {
    "duration": 0,
    "start_time": "2024-08-19T15:09:01.453Z"
   },
   {
    "duration": 0,
    "start_time": "2024-08-19T15:09:01.454Z"
   },
   {
    "duration": 0,
    "start_time": "2024-08-19T15:09:01.455Z"
   },
   {
    "duration": 0,
    "start_time": "2024-08-19T15:09:01.457Z"
   },
   {
    "duration": 0,
    "start_time": "2024-08-19T15:09:01.458Z"
   },
   {
    "duration": 0,
    "start_time": "2024-08-19T15:09:01.459Z"
   },
   {
    "duration": 3920,
    "start_time": "2024-08-19T15:09:36.165Z"
   },
   {
    "duration": 7,
    "start_time": "2024-08-19T15:09:40.087Z"
   },
   {
    "duration": 28,
    "start_time": "2024-08-19T15:09:40.095Z"
   },
   {
    "duration": 14013,
    "start_time": "2024-08-19T15:09:40.125Z"
   },
   {
    "duration": 11790,
    "start_time": "2024-08-19T15:09:54.140Z"
   },
   {
    "duration": 793,
    "start_time": "2024-08-19T15:10:05.932Z"
   },
   {
    "duration": 1698,
    "start_time": "2024-08-19T15:10:06.727Z"
   },
   {
    "duration": 5,
    "start_time": "2024-08-19T15:10:08.427Z"
   },
   {
    "duration": 5002,
    "start_time": "2024-08-19T15:10:08.434Z"
   },
   {
    "duration": 4723,
    "start_time": "2024-08-19T15:10:13.439Z"
   },
   {
    "duration": 725,
    "start_time": "2024-08-19T15:10:18.225Z"
   },
   {
    "duration": 3714,
    "start_time": "2024-08-19T15:10:18.952Z"
   },
   {
    "duration": 4,
    "start_time": "2024-08-19T15:10:22.723Z"
   },
   {
    "duration": 61,
    "start_time": "2024-08-19T15:10:22.729Z"
   },
   {
    "duration": 0,
    "start_time": "2024-08-19T15:10:22.792Z"
   },
   {
    "duration": 0,
    "start_time": "2024-08-19T15:10:22.794Z"
   },
   {
    "duration": 0,
    "start_time": "2024-08-19T15:10:22.795Z"
   },
   {
    "duration": 0,
    "start_time": "2024-08-19T15:10:22.796Z"
   },
   {
    "duration": 0,
    "start_time": "2024-08-19T15:10:22.798Z"
   },
   {
    "duration": 0,
    "start_time": "2024-08-19T15:10:22.799Z"
   },
   {
    "duration": 0,
    "start_time": "2024-08-19T15:10:22.801Z"
   },
   {
    "duration": 0,
    "start_time": "2024-08-19T15:10:22.824Z"
   },
   {
    "duration": 0,
    "start_time": "2024-08-19T15:10:22.825Z"
   },
   {
    "duration": 0,
    "start_time": "2024-08-19T15:10:22.826Z"
   },
   {
    "duration": 0,
    "start_time": "2024-08-19T15:10:22.828Z"
   },
   {
    "duration": 0,
    "start_time": "2024-08-19T15:10:22.829Z"
   },
   {
    "duration": 0,
    "start_time": "2024-08-19T15:10:22.830Z"
   },
   {
    "duration": 0,
    "start_time": "2024-08-19T15:10:22.831Z"
   },
   {
    "duration": 0,
    "start_time": "2024-08-19T15:10:22.833Z"
   },
   {
    "duration": 0,
    "start_time": "2024-08-19T15:10:22.834Z"
   },
   {
    "duration": 0,
    "start_time": "2024-08-19T15:10:22.835Z"
   },
   {
    "duration": 0,
    "start_time": "2024-08-19T15:10:22.836Z"
   },
   {
    "duration": 0,
    "start_time": "2024-08-19T15:10:22.837Z"
   },
   {
    "duration": 0,
    "start_time": "2024-08-19T15:10:22.838Z"
   },
   {
    "duration": 0,
    "start_time": "2024-08-19T15:10:22.839Z"
   },
   {
    "duration": 0,
    "start_time": "2024-08-19T15:10:22.840Z"
   },
   {
    "duration": 0,
    "start_time": "2024-08-19T15:10:22.841Z"
   },
   {
    "duration": 0,
    "start_time": "2024-08-19T15:10:22.842Z"
   },
   {
    "duration": 0,
    "start_time": "2024-08-19T15:10:22.843Z"
   },
   {
    "duration": 0,
    "start_time": "2024-08-19T15:10:22.844Z"
   },
   {
    "duration": 0,
    "start_time": "2024-08-19T15:10:22.845Z"
   },
   {
    "duration": 0,
    "start_time": "2024-08-19T15:10:22.846Z"
   },
   {
    "duration": 0,
    "start_time": "2024-08-19T15:10:22.847Z"
   },
   {
    "duration": 0,
    "start_time": "2024-08-19T15:10:22.848Z"
   },
   {
    "duration": 0,
    "start_time": "2024-08-19T15:10:22.849Z"
   },
   {
    "duration": 0,
    "start_time": "2024-08-19T15:10:22.850Z"
   },
   {
    "duration": 0,
    "start_time": "2024-08-19T15:10:22.852Z"
   },
   {
    "duration": 0,
    "start_time": "2024-08-19T15:10:22.853Z"
   },
   {
    "duration": 0,
    "start_time": "2024-08-19T15:10:22.854Z"
   },
   {
    "duration": 0,
    "start_time": "2024-08-19T15:10:22.855Z"
   },
   {
    "duration": 0,
    "start_time": "2024-08-19T15:10:22.856Z"
   },
   {
    "duration": 0,
    "start_time": "2024-08-19T15:10:22.857Z"
   },
   {
    "duration": 4206,
    "start_time": "2024-08-19T15:12:07.709Z"
   },
   {
    "duration": 8,
    "start_time": "2024-08-19T15:12:11.917Z"
   },
   {
    "duration": 7,
    "start_time": "2024-08-19T15:12:11.927Z"
   },
   {
    "duration": 14104,
    "start_time": "2024-08-19T15:12:11.936Z"
   },
   {
    "duration": 12318,
    "start_time": "2024-08-19T15:12:26.042Z"
   },
   {
    "duration": 921,
    "start_time": "2024-08-19T15:12:38.425Z"
   },
   {
    "duration": 2023,
    "start_time": "2024-08-19T15:12:39.348Z"
   },
   {
    "duration": 5,
    "start_time": "2024-08-19T15:12:41.425Z"
   },
   {
    "duration": 4693,
    "start_time": "2024-08-19T15:12:41.432Z"
   },
   {
    "duration": 4994,
    "start_time": "2024-08-19T15:12:46.130Z"
   },
   {
    "duration": 724,
    "start_time": "2024-08-19T15:12:51.126Z"
   },
   {
    "duration": 3382,
    "start_time": "2024-08-19T15:12:51.852Z"
   },
   {
    "duration": 3,
    "start_time": "2024-08-19T15:12:55.236Z"
   },
   {
    "duration": 2184,
    "start_time": "2024-08-19T15:12:55.241Z"
   },
   {
    "duration": 2027,
    "start_time": "2024-08-19T15:12:57.427Z"
   },
   {
    "duration": 808,
    "start_time": "2024-08-19T15:12:59.456Z"
   },
   {
    "duration": 170,
    "start_time": "2024-08-19T15:13:00.265Z"
   },
   {
    "duration": 87,
    "start_time": "2024-08-19T15:13:00.437Z"
   },
   {
    "duration": 1399,
    "start_time": "2024-08-19T15:13:00.526Z"
   },
   {
    "duration": 8,
    "start_time": "2024-08-19T15:13:01.927Z"
   },
   {
    "duration": 621,
    "start_time": "2024-08-19T15:13:01.937Z"
   },
   {
    "duration": 280,
    "start_time": "2024-08-19T15:13:02.559Z"
   },
   {
    "duration": 0,
    "start_time": "2024-08-19T15:13:02.842Z"
   },
   {
    "duration": 0,
    "start_time": "2024-08-19T15:13:02.843Z"
   },
   {
    "duration": 0,
    "start_time": "2024-08-19T15:13:02.844Z"
   },
   {
    "duration": 0,
    "start_time": "2024-08-19T15:13:02.845Z"
   },
   {
    "duration": 0,
    "start_time": "2024-08-19T15:13:02.847Z"
   },
   {
    "duration": 0,
    "start_time": "2024-08-19T15:13:02.848Z"
   },
   {
    "duration": 0,
    "start_time": "2024-08-19T15:13:02.849Z"
   },
   {
    "duration": 0,
    "start_time": "2024-08-19T15:13:02.850Z"
   },
   {
    "duration": 0,
    "start_time": "2024-08-19T15:13:02.851Z"
   },
   {
    "duration": 0,
    "start_time": "2024-08-19T15:13:02.852Z"
   },
   {
    "duration": 0,
    "start_time": "2024-08-19T15:13:02.853Z"
   },
   {
    "duration": 0,
    "start_time": "2024-08-19T15:13:02.855Z"
   },
   {
    "duration": 0,
    "start_time": "2024-08-19T15:13:02.856Z"
   },
   {
    "duration": 0,
    "start_time": "2024-08-19T15:13:02.857Z"
   },
   {
    "duration": 0,
    "start_time": "2024-08-19T15:13:02.858Z"
   },
   {
    "duration": 0,
    "start_time": "2024-08-19T15:13:02.859Z"
   },
   {
    "duration": 0,
    "start_time": "2024-08-19T15:13:02.860Z"
   },
   {
    "duration": 0,
    "start_time": "2024-08-19T15:13:02.861Z"
   },
   {
    "duration": 0,
    "start_time": "2024-08-19T15:13:02.862Z"
   },
   {
    "duration": 0,
    "start_time": "2024-08-19T15:13:02.863Z"
   },
   {
    "duration": 0,
    "start_time": "2024-08-19T15:13:02.864Z"
   },
   {
    "duration": 0,
    "start_time": "2024-08-19T15:13:02.865Z"
   },
   {
    "duration": 0,
    "start_time": "2024-08-19T15:13:02.866Z"
   },
   {
    "duration": 0,
    "start_time": "2024-08-19T15:13:02.867Z"
   },
   {
    "duration": 0,
    "start_time": "2024-08-19T15:13:02.869Z"
   },
   {
    "duration": 0,
    "start_time": "2024-08-19T15:13:02.925Z"
   },
   {
    "duration": 0,
    "start_time": "2024-08-19T15:13:02.927Z"
   },
   {
    "duration": 0,
    "start_time": "2024-08-19T15:13:02.928Z"
   },
   {
    "duration": 0,
    "start_time": "2024-08-19T15:13:02.929Z"
   },
   {
    "duration": 2149,
    "start_time": "2024-08-19T15:15:37.413Z"
   },
   {
    "duration": 4618,
    "start_time": "2024-08-19T15:16:17.273Z"
   },
   {
    "duration": 6,
    "start_time": "2024-08-19T15:16:21.893Z"
   },
   {
    "duration": 7,
    "start_time": "2024-08-19T15:16:21.900Z"
   },
   {
    "duration": 13861,
    "start_time": "2024-08-19T15:16:21.909Z"
   },
   {
    "duration": 12179,
    "start_time": "2024-08-19T15:16:35.773Z"
   },
   {
    "duration": 888,
    "start_time": "2024-08-19T15:16:47.953Z"
   },
   {
    "duration": 1917,
    "start_time": "2024-08-19T15:16:48.843Z"
   },
   {
    "duration": 61,
    "start_time": "2024-08-19T15:16:50.762Z"
   },
   {
    "duration": 4832,
    "start_time": "2024-08-19T15:16:50.825Z"
   },
   {
    "duration": 4567,
    "start_time": "2024-08-19T15:16:55.660Z"
   },
   {
    "duration": 718,
    "start_time": "2024-08-19T15:17:00.230Z"
   },
   {
    "duration": 3322,
    "start_time": "2024-08-19T15:17:00.950Z"
   },
   {
    "duration": 3,
    "start_time": "2024-08-19T15:17:04.325Z"
   },
   {
    "duration": 1895,
    "start_time": "2024-08-19T15:17:04.330Z"
   },
   {
    "duration": 3231,
    "start_time": "2024-08-19T15:17:06.227Z"
   },
   {
    "duration": 516,
    "start_time": "2024-08-19T15:17:09.460Z"
   },
   {
    "duration": 296,
    "start_time": "2024-08-19T15:17:09.977Z"
   },
   {
    "duration": 0,
    "start_time": "2024-08-19T15:17:10.276Z"
   },
   {
    "duration": 0,
    "start_time": "2024-08-19T15:17:10.278Z"
   },
   {
    "duration": 0,
    "start_time": "2024-08-19T15:17:10.279Z"
   },
   {
    "duration": 0,
    "start_time": "2024-08-19T15:17:10.280Z"
   },
   {
    "duration": 0,
    "start_time": "2024-08-19T15:17:10.281Z"
   },
   {
    "duration": 0,
    "start_time": "2024-08-19T15:17:10.282Z"
   },
   {
    "duration": 0,
    "start_time": "2024-08-19T15:17:10.283Z"
   },
   {
    "duration": 0,
    "start_time": "2024-08-19T15:17:10.285Z"
   },
   {
    "duration": 0,
    "start_time": "2024-08-19T15:17:10.286Z"
   },
   {
    "duration": 0,
    "start_time": "2024-08-19T15:17:10.287Z"
   },
   {
    "duration": 0,
    "start_time": "2024-08-19T15:17:10.288Z"
   },
   {
    "duration": 0,
    "start_time": "2024-08-19T15:17:10.289Z"
   },
   {
    "duration": 0,
    "start_time": "2024-08-19T15:17:10.326Z"
   },
   {
    "duration": 0,
    "start_time": "2024-08-19T15:17:10.328Z"
   },
   {
    "duration": 0,
    "start_time": "2024-08-19T15:17:10.330Z"
   },
   {
    "duration": 0,
    "start_time": "2024-08-19T15:17:10.333Z"
   },
   {
    "duration": 0,
    "start_time": "2024-08-19T15:17:10.335Z"
   },
   {
    "duration": 0,
    "start_time": "2024-08-19T15:17:10.336Z"
   },
   {
    "duration": 0,
    "start_time": "2024-08-19T15:17:10.337Z"
   },
   {
    "duration": 0,
    "start_time": "2024-08-19T15:17:10.339Z"
   },
   {
    "duration": 1,
    "start_time": "2024-08-19T15:17:10.341Z"
   },
   {
    "duration": 0,
    "start_time": "2024-08-19T15:17:10.343Z"
   },
   {
    "duration": 0,
    "start_time": "2024-08-19T15:17:10.345Z"
   },
   {
    "duration": 0,
    "start_time": "2024-08-19T15:17:10.346Z"
   },
   {
    "duration": 0,
    "start_time": "2024-08-19T15:17:10.348Z"
   },
   {
    "duration": 0,
    "start_time": "2024-08-19T15:17:10.350Z"
   },
   {
    "duration": 0,
    "start_time": "2024-08-19T15:17:10.351Z"
   },
   {
    "duration": 0,
    "start_time": "2024-08-19T15:17:10.353Z"
   },
   {
    "duration": 0,
    "start_time": "2024-08-19T15:17:10.354Z"
   },
   {
    "duration": 0,
    "start_time": "2024-08-19T15:17:10.355Z"
   },
   {
    "duration": 0,
    "start_time": "2024-08-19T15:17:10.356Z"
   },
   {
    "duration": 0,
    "start_time": "2024-08-19T15:17:10.357Z"
   },
   {
    "duration": 0,
    "start_time": "2024-08-19T15:17:10.358Z"
   },
   {
    "duration": 0,
    "start_time": "2024-08-19T15:17:10.359Z"
   },
   {
    "duration": 0,
    "start_time": "2024-08-19T15:17:10.360Z"
   },
   {
    "duration": 4082,
    "start_time": "2024-08-19T15:17:36.419Z"
   },
   {
    "duration": 6,
    "start_time": "2024-08-19T15:17:40.503Z"
   },
   {
    "duration": 41,
    "start_time": "2024-08-19T15:17:40.510Z"
   },
   {
    "duration": 14179,
    "start_time": "2024-08-19T15:17:40.554Z"
   },
   {
    "duration": 11923,
    "start_time": "2024-08-19T15:17:54.735Z"
   },
   {
    "duration": 1100,
    "start_time": "2024-08-19T15:18:06.725Z"
   },
   {
    "duration": 1615,
    "start_time": "2024-08-19T15:18:07.827Z"
   },
   {
    "duration": 5,
    "start_time": "2024-08-19T15:18:09.444Z"
   },
   {
    "duration": 4988,
    "start_time": "2024-08-19T15:18:09.451Z"
   },
   {
    "duration": 4407,
    "start_time": "2024-08-19T15:18:14.442Z"
   },
   {
    "duration": 1073,
    "start_time": "2024-08-19T15:18:18.851Z"
   },
   {
    "duration": 3536,
    "start_time": "2024-08-19T15:18:19.927Z"
   },
   {
    "duration": 60,
    "start_time": "2024-08-19T15:18:23.465Z"
   },
   {
    "duration": 1535,
    "start_time": "2024-08-19T15:18:23.527Z"
   },
   {
    "duration": 4209,
    "start_time": "2024-08-19T15:18:25.124Z"
   },
   {
    "duration": 446,
    "start_time": "2024-08-19T15:18:29.335Z"
   },
   {
    "duration": 290,
    "start_time": "2024-08-19T15:18:29.783Z"
   },
   {
    "duration": 0,
    "start_time": "2024-08-19T15:18:30.076Z"
   },
   {
    "duration": 0,
    "start_time": "2024-08-19T15:18:30.077Z"
   },
   {
    "duration": 0,
    "start_time": "2024-08-19T15:18:30.078Z"
   },
   {
    "duration": 0,
    "start_time": "2024-08-19T15:18:30.079Z"
   },
   {
    "duration": 0,
    "start_time": "2024-08-19T15:18:30.081Z"
   },
   {
    "duration": 0,
    "start_time": "2024-08-19T15:18:30.082Z"
   },
   {
    "duration": 0,
    "start_time": "2024-08-19T15:18:30.083Z"
   },
   {
    "duration": 0,
    "start_time": "2024-08-19T15:18:30.084Z"
   },
   {
    "duration": 0,
    "start_time": "2024-08-19T15:18:30.085Z"
   },
   {
    "duration": 0,
    "start_time": "2024-08-19T15:18:30.087Z"
   },
   {
    "duration": 0,
    "start_time": "2024-08-19T15:18:30.124Z"
   },
   {
    "duration": 0,
    "start_time": "2024-08-19T15:18:30.125Z"
   },
   {
    "duration": 0,
    "start_time": "2024-08-19T15:18:30.127Z"
   },
   {
    "duration": 0,
    "start_time": "2024-08-19T15:18:30.128Z"
   },
   {
    "duration": 0,
    "start_time": "2024-08-19T15:18:30.129Z"
   },
   {
    "duration": 0,
    "start_time": "2024-08-19T15:18:30.131Z"
   },
   {
    "duration": 0,
    "start_time": "2024-08-19T15:18:30.133Z"
   },
   {
    "duration": 0,
    "start_time": "2024-08-19T15:18:30.134Z"
   },
   {
    "duration": 0,
    "start_time": "2024-08-19T15:18:30.135Z"
   },
   {
    "duration": 0,
    "start_time": "2024-08-19T15:18:30.137Z"
   },
   {
    "duration": 0,
    "start_time": "2024-08-19T15:18:30.138Z"
   },
   {
    "duration": 0,
    "start_time": "2024-08-19T15:18:30.140Z"
   },
   {
    "duration": 0,
    "start_time": "2024-08-19T15:18:30.141Z"
   },
   {
    "duration": 0,
    "start_time": "2024-08-19T15:18:30.143Z"
   },
   {
    "duration": 0,
    "start_time": "2024-08-19T15:18:30.144Z"
   },
   {
    "duration": 0,
    "start_time": "2024-08-19T15:18:30.147Z"
   },
   {
    "duration": 0,
    "start_time": "2024-08-19T15:18:30.149Z"
   },
   {
    "duration": 0,
    "start_time": "2024-08-19T15:18:30.151Z"
   },
   {
    "duration": 0,
    "start_time": "2024-08-19T15:18:30.153Z"
   },
   {
    "duration": 0,
    "start_time": "2024-08-19T15:18:30.154Z"
   },
   {
    "duration": 0,
    "start_time": "2024-08-19T15:18:30.156Z"
   },
   {
    "duration": 0,
    "start_time": "2024-08-19T15:18:30.158Z"
   },
   {
    "duration": 0,
    "start_time": "2024-08-19T15:18:30.159Z"
   },
   {
    "duration": 0,
    "start_time": "2024-08-19T15:18:30.161Z"
   },
   {
    "duration": 0,
    "start_time": "2024-08-19T15:18:30.225Z"
   },
   {
    "duration": 4150,
    "start_time": "2024-08-19T15:42:49.192Z"
   },
   {
    "duration": 7,
    "start_time": "2024-08-19T15:42:53.344Z"
   },
   {
    "duration": 3,
    "start_time": "2024-08-19T15:42:53.352Z"
   },
   {
    "duration": 14678,
    "start_time": "2024-08-19T15:42:53.357Z"
   },
   {
    "duration": 12301,
    "start_time": "2024-08-19T15:43:08.038Z"
   },
   {
    "duration": 901,
    "start_time": "2024-08-19T15:43:20.342Z"
   },
   {
    "duration": 1711,
    "start_time": "2024-08-19T15:43:21.244Z"
   },
   {
    "duration": 5,
    "start_time": "2024-08-19T15:43:22.957Z"
   },
   {
    "duration": 5076,
    "start_time": "2024-08-19T15:43:22.964Z"
   },
   {
    "duration": 5112,
    "start_time": "2024-08-19T15:43:28.043Z"
   },
   {
    "duration": 804,
    "start_time": "2024-08-19T15:43:33.224Z"
   },
   {
    "duration": 3624,
    "start_time": "2024-08-19T15:43:34.030Z"
   },
   {
    "duration": 69,
    "start_time": "2024-08-19T15:43:37.656Z"
   },
   {
    "duration": 2023,
    "start_time": "2024-08-19T15:43:37.727Z"
   },
   {
    "duration": 2119,
    "start_time": "2024-08-19T15:43:39.752Z"
   },
   {
    "duration": 0,
    "start_time": "2024-08-19T15:43:41.873Z"
   },
   {
    "duration": 0,
    "start_time": "2024-08-19T15:43:41.875Z"
   },
   {
    "duration": 0,
    "start_time": "2024-08-19T15:43:41.876Z"
   },
   {
    "duration": 0,
    "start_time": "2024-08-19T15:43:41.877Z"
   },
   {
    "duration": 0,
    "start_time": "2024-08-19T15:43:41.878Z"
   },
   {
    "duration": 0,
    "start_time": "2024-08-19T15:43:41.879Z"
   },
   {
    "duration": 1,
    "start_time": "2024-08-19T15:43:41.880Z"
   },
   {
    "duration": 0,
    "start_time": "2024-08-19T15:43:41.882Z"
   },
   {
    "duration": 0,
    "start_time": "2024-08-19T15:43:41.883Z"
   },
   {
    "duration": 0,
    "start_time": "2024-08-19T15:43:41.884Z"
   },
   {
    "duration": 0,
    "start_time": "2024-08-19T15:43:41.885Z"
   },
   {
    "duration": 0,
    "start_time": "2024-08-19T15:43:41.886Z"
   },
   {
    "duration": 0,
    "start_time": "2024-08-19T15:43:41.888Z"
   },
   {
    "duration": 0,
    "start_time": "2024-08-19T15:43:41.889Z"
   },
   {
    "duration": 0,
    "start_time": "2024-08-19T15:43:41.890Z"
   },
   {
    "duration": 0,
    "start_time": "2024-08-19T15:43:41.891Z"
   },
   {
    "duration": 0,
    "start_time": "2024-08-19T15:43:41.892Z"
   },
   {
    "duration": 1,
    "start_time": "2024-08-19T15:43:41.924Z"
   },
   {
    "duration": 0,
    "start_time": "2024-08-19T15:43:41.926Z"
   },
   {
    "duration": 0,
    "start_time": "2024-08-19T15:43:41.927Z"
   },
   {
    "duration": 0,
    "start_time": "2024-08-19T15:43:41.928Z"
   },
   {
    "duration": 0,
    "start_time": "2024-08-19T15:43:41.929Z"
   },
   {
    "duration": 0,
    "start_time": "2024-08-19T15:43:41.930Z"
   },
   {
    "duration": 0,
    "start_time": "2024-08-19T15:43:41.931Z"
   },
   {
    "duration": 0,
    "start_time": "2024-08-19T15:43:41.932Z"
   },
   {
    "duration": 0,
    "start_time": "2024-08-19T15:43:41.933Z"
   },
   {
    "duration": 0,
    "start_time": "2024-08-19T15:43:41.934Z"
   },
   {
    "duration": 0,
    "start_time": "2024-08-19T15:43:41.935Z"
   },
   {
    "duration": 0,
    "start_time": "2024-08-19T15:43:41.936Z"
   },
   {
    "duration": 0,
    "start_time": "2024-08-19T15:43:41.937Z"
   },
   {
    "duration": 0,
    "start_time": "2024-08-19T15:43:41.938Z"
   },
   {
    "duration": 0,
    "start_time": "2024-08-19T15:43:41.939Z"
   },
   {
    "duration": 0,
    "start_time": "2024-08-19T15:43:41.941Z"
   },
   {
    "duration": 0,
    "start_time": "2024-08-19T15:43:41.942Z"
   },
   {
    "duration": 0,
    "start_time": "2024-08-19T15:43:41.942Z"
   },
   {
    "duration": 0,
    "start_time": "2024-08-19T15:43:41.944Z"
   },
   {
    "duration": 0,
    "start_time": "2024-08-19T15:43:41.945Z"
   },
   {
    "duration": 3954,
    "start_time": "2024-08-19T15:44:52.087Z"
   },
   {
    "duration": 6,
    "start_time": "2024-08-19T15:44:56.044Z"
   },
   {
    "duration": 3,
    "start_time": "2024-08-19T15:44:56.051Z"
   },
   {
    "duration": 13984,
    "start_time": "2024-08-19T15:44:56.056Z"
   },
   {
    "duration": 13107,
    "start_time": "2024-08-19T15:45:10.042Z"
   },
   {
    "duration": 882,
    "start_time": "2024-08-19T15:45:23.151Z"
   },
   {
    "duration": 1668,
    "start_time": "2024-08-19T15:45:24.035Z"
   },
   {
    "duration": 6,
    "start_time": "2024-08-19T15:45:25.705Z"
   },
   {
    "duration": 4723,
    "start_time": "2024-08-19T15:45:25.712Z"
   },
   {
    "duration": 4792,
    "start_time": "2024-08-19T15:45:30.438Z"
   },
   {
    "duration": 720,
    "start_time": "2024-08-19T15:45:35.232Z"
   },
   {
    "duration": 3188,
    "start_time": "2024-08-19T15:45:35.954Z"
   },
   {
    "duration": 3,
    "start_time": "2024-08-19T15:45:39.145Z"
   },
   {
    "duration": 2079,
    "start_time": "2024-08-19T15:45:39.150Z"
   },
   {
    "duration": 2002,
    "start_time": "2024-08-19T15:45:41.231Z"
   },
   {
    "duration": 0,
    "start_time": "2024-08-19T15:45:43.236Z"
   },
   {
    "duration": 0,
    "start_time": "2024-08-19T15:45:43.237Z"
   },
   {
    "duration": 0,
    "start_time": "2024-08-19T15:45:43.238Z"
   },
   {
    "duration": 0,
    "start_time": "2024-08-19T15:45:43.240Z"
   },
   {
    "duration": 0,
    "start_time": "2024-08-19T15:45:43.241Z"
   },
   {
    "duration": 0,
    "start_time": "2024-08-19T15:45:43.242Z"
   },
   {
    "duration": 0,
    "start_time": "2024-08-19T15:45:43.244Z"
   },
   {
    "duration": 0,
    "start_time": "2024-08-19T15:45:43.245Z"
   },
   {
    "duration": 0,
    "start_time": "2024-08-19T15:45:43.246Z"
   },
   {
    "duration": 0,
    "start_time": "2024-08-19T15:45:43.248Z"
   },
   {
    "duration": 0,
    "start_time": "2024-08-19T15:45:43.249Z"
   },
   {
    "duration": 0,
    "start_time": "2024-08-19T15:45:43.251Z"
   },
   {
    "duration": 0,
    "start_time": "2024-08-19T15:45:43.252Z"
   },
   {
    "duration": 0,
    "start_time": "2024-08-19T15:45:43.254Z"
   },
   {
    "duration": 0,
    "start_time": "2024-08-19T15:45:43.255Z"
   },
   {
    "duration": 0,
    "start_time": "2024-08-19T15:45:43.256Z"
   },
   {
    "duration": 0,
    "start_time": "2024-08-19T15:45:43.256Z"
   },
   {
    "duration": 0,
    "start_time": "2024-08-19T15:45:43.257Z"
   },
   {
    "duration": 0,
    "start_time": "2024-08-19T15:45:43.257Z"
   },
   {
    "duration": 0,
    "start_time": "2024-08-19T15:45:43.258Z"
   },
   {
    "duration": 0,
    "start_time": "2024-08-19T15:45:43.258Z"
   },
   {
    "duration": 0,
    "start_time": "2024-08-19T15:45:43.259Z"
   },
   {
    "duration": 0,
    "start_time": "2024-08-19T15:45:43.326Z"
   },
   {
    "duration": 0,
    "start_time": "2024-08-19T15:45:43.328Z"
   },
   {
    "duration": 0,
    "start_time": "2024-08-19T15:45:43.330Z"
   },
   {
    "duration": 0,
    "start_time": "2024-08-19T15:45:43.331Z"
   },
   {
    "duration": 0,
    "start_time": "2024-08-19T15:45:43.333Z"
   },
   {
    "duration": 0,
    "start_time": "2024-08-19T15:45:43.335Z"
   },
   {
    "duration": 0,
    "start_time": "2024-08-19T15:45:43.336Z"
   },
   {
    "duration": 0,
    "start_time": "2024-08-19T15:45:43.338Z"
   },
   {
    "duration": 0,
    "start_time": "2024-08-19T15:45:43.340Z"
   },
   {
    "duration": 0,
    "start_time": "2024-08-19T15:45:43.341Z"
   },
   {
    "duration": 1,
    "start_time": "2024-08-19T15:45:43.343Z"
   },
   {
    "duration": 0,
    "start_time": "2024-08-19T15:45:43.345Z"
   },
   {
    "duration": 0,
    "start_time": "2024-08-19T15:45:43.346Z"
   },
   {
    "duration": 0,
    "start_time": "2024-08-19T15:45:43.348Z"
   },
   {
    "duration": 0,
    "start_time": "2024-08-19T15:45:43.425Z"
   },
   {
    "duration": 4018,
    "start_time": "2024-08-19T16:15:45.935Z"
   },
   {
    "duration": 6,
    "start_time": "2024-08-19T16:15:49.956Z"
   },
   {
    "duration": 8,
    "start_time": "2024-08-19T16:15:49.963Z"
   },
   {
    "duration": 13994,
    "start_time": "2024-08-19T16:15:49.973Z"
   },
   {
    "duration": 11663,
    "start_time": "2024-08-19T16:16:03.969Z"
   },
   {
    "duration": 991,
    "start_time": "2024-08-19T16:16:15.634Z"
   },
   {
    "duration": 1626,
    "start_time": "2024-08-19T16:16:16.627Z"
   },
   {
    "duration": 6,
    "start_time": "2024-08-19T16:16:18.254Z"
   },
   {
    "duration": 4764,
    "start_time": "2024-08-19T16:16:18.261Z"
   },
   {
    "duration": 4895,
    "start_time": "2024-08-19T16:16:23.029Z"
   },
   {
    "duration": 727,
    "start_time": "2024-08-19T16:16:27.926Z"
   },
   {
    "duration": 3498,
    "start_time": "2024-08-19T16:16:28.655Z"
   },
   {
    "duration": 3,
    "start_time": "2024-08-19T16:16:32.155Z"
   },
   {
    "duration": 1837,
    "start_time": "2024-08-19T16:16:32.223Z"
   },
   {
    "duration": 1995,
    "start_time": "2024-08-19T16:16:34.062Z"
   },
   {
    "duration": 0,
    "start_time": "2024-08-19T16:16:36.060Z"
   },
   {
    "duration": 0,
    "start_time": "2024-08-19T16:16:36.062Z"
   },
   {
    "duration": 0,
    "start_time": "2024-08-19T16:16:36.063Z"
   },
   {
    "duration": 0,
    "start_time": "2024-08-19T16:16:36.064Z"
   },
   {
    "duration": 0,
    "start_time": "2024-08-19T16:16:36.065Z"
   },
   {
    "duration": 0,
    "start_time": "2024-08-19T16:16:36.066Z"
   },
   {
    "duration": 0,
    "start_time": "2024-08-19T16:16:36.067Z"
   },
   {
    "duration": 0,
    "start_time": "2024-08-19T16:16:36.068Z"
   },
   {
    "duration": 0,
    "start_time": "2024-08-19T16:16:36.069Z"
   },
   {
    "duration": 0,
    "start_time": "2024-08-19T16:16:36.070Z"
   },
   {
    "duration": 0,
    "start_time": "2024-08-19T16:16:36.071Z"
   },
   {
    "duration": 0,
    "start_time": "2024-08-19T16:16:36.073Z"
   },
   {
    "duration": 0,
    "start_time": "2024-08-19T16:16:36.074Z"
   },
   {
    "duration": 0,
    "start_time": "2024-08-19T16:16:36.075Z"
   },
   {
    "duration": 0,
    "start_time": "2024-08-19T16:16:36.076Z"
   },
   {
    "duration": 0,
    "start_time": "2024-08-19T16:16:36.077Z"
   },
   {
    "duration": 0,
    "start_time": "2024-08-19T16:16:36.078Z"
   },
   {
    "duration": 0,
    "start_time": "2024-08-19T16:16:36.078Z"
   },
   {
    "duration": 0,
    "start_time": "2024-08-19T16:16:36.079Z"
   },
   {
    "duration": 0,
    "start_time": "2024-08-19T16:16:36.081Z"
   },
   {
    "duration": 0,
    "start_time": "2024-08-19T16:16:36.082Z"
   },
   {
    "duration": 0,
    "start_time": "2024-08-19T16:16:36.083Z"
   },
   {
    "duration": 0,
    "start_time": "2024-08-19T16:16:36.125Z"
   },
   {
    "duration": 0,
    "start_time": "2024-08-19T16:16:36.126Z"
   },
   {
    "duration": 0,
    "start_time": "2024-08-19T16:16:36.127Z"
   },
   {
    "duration": 0,
    "start_time": "2024-08-19T16:16:36.128Z"
   },
   {
    "duration": 0,
    "start_time": "2024-08-19T16:16:36.129Z"
   },
   {
    "duration": 0,
    "start_time": "2024-08-19T16:16:36.130Z"
   },
   {
    "duration": 0,
    "start_time": "2024-08-19T16:16:36.131Z"
   },
   {
    "duration": 0,
    "start_time": "2024-08-19T16:16:36.132Z"
   },
   {
    "duration": 0,
    "start_time": "2024-08-19T16:16:36.133Z"
   },
   {
    "duration": 0,
    "start_time": "2024-08-19T16:16:36.134Z"
   },
   {
    "duration": 0,
    "start_time": "2024-08-19T16:16:36.135Z"
   },
   {
    "duration": 0,
    "start_time": "2024-08-19T16:16:36.136Z"
   },
   {
    "duration": 0,
    "start_time": "2024-08-19T16:16:36.137Z"
   },
   {
    "duration": 0,
    "start_time": "2024-08-19T16:16:36.138Z"
   },
   {
    "duration": 0,
    "start_time": "2024-08-19T16:16:36.139Z"
   },
   {
    "duration": 4009,
    "start_time": "2024-08-19T16:17:20.969Z"
   },
   {
    "duration": 6,
    "start_time": "2024-08-19T16:17:24.980Z"
   },
   {
    "duration": 14,
    "start_time": "2024-08-19T16:17:24.988Z"
   },
   {
    "duration": 14233,
    "start_time": "2024-08-19T16:17:25.004Z"
   },
   {
    "duration": 12007,
    "start_time": "2024-08-19T16:17:39.240Z"
   },
   {
    "duration": 1180,
    "start_time": "2024-08-19T16:17:51.248Z"
   },
   {
    "duration": 1255,
    "start_time": "2024-08-19T16:17:52.429Z"
   },
   {
    "duration": 4,
    "start_time": "2024-08-19T16:17:53.686Z"
   },
   {
    "duration": 4655,
    "start_time": "2024-08-19T16:17:53.692Z"
   },
   {
    "duration": 5082,
    "start_time": "2024-08-19T16:17:58.350Z"
   },
   {
    "duration": 799,
    "start_time": "2024-08-19T16:18:03.434Z"
   },
   {
    "duration": 3309,
    "start_time": "2024-08-19T16:18:04.235Z"
   },
   {
    "duration": 3,
    "start_time": "2024-08-19T16:18:07.546Z"
   },
   {
    "duration": 1885,
    "start_time": "2024-08-19T16:18:07.550Z"
   },
   {
    "duration": 1861,
    "start_time": "2024-08-19T16:18:09.436Z"
   },
   {
    "duration": 0,
    "start_time": "2024-08-19T16:18:11.300Z"
   },
   {
    "duration": 0,
    "start_time": "2024-08-19T16:18:11.301Z"
   },
   {
    "duration": 0,
    "start_time": "2024-08-19T16:18:11.302Z"
   },
   {
    "duration": 0,
    "start_time": "2024-08-19T16:18:11.303Z"
   },
   {
    "duration": 0,
    "start_time": "2024-08-19T16:18:11.304Z"
   },
   {
    "duration": 0,
    "start_time": "2024-08-19T16:18:11.305Z"
   },
   {
    "duration": 0,
    "start_time": "2024-08-19T16:18:11.324Z"
   },
   {
    "duration": 0,
    "start_time": "2024-08-19T16:18:11.325Z"
   },
   {
    "duration": 0,
    "start_time": "2024-08-19T16:18:11.327Z"
   },
   {
    "duration": 0,
    "start_time": "2024-08-19T16:18:11.328Z"
   },
   {
    "duration": 0,
    "start_time": "2024-08-19T16:18:11.329Z"
   },
   {
    "duration": 0,
    "start_time": "2024-08-19T16:18:11.330Z"
   },
   {
    "duration": 0,
    "start_time": "2024-08-19T16:18:11.332Z"
   },
   {
    "duration": 0,
    "start_time": "2024-08-19T16:18:11.333Z"
   },
   {
    "duration": 0,
    "start_time": "2024-08-19T16:18:11.334Z"
   },
   {
    "duration": 0,
    "start_time": "2024-08-19T16:18:11.335Z"
   },
   {
    "duration": 0,
    "start_time": "2024-08-19T16:18:11.336Z"
   },
   {
    "duration": 0,
    "start_time": "2024-08-19T16:18:11.337Z"
   },
   {
    "duration": 0,
    "start_time": "2024-08-19T16:18:11.338Z"
   },
   {
    "duration": 0,
    "start_time": "2024-08-19T16:18:11.339Z"
   },
   {
    "duration": 0,
    "start_time": "2024-08-19T16:18:11.340Z"
   },
   {
    "duration": 0,
    "start_time": "2024-08-19T16:18:11.341Z"
   },
   {
    "duration": 0,
    "start_time": "2024-08-19T16:18:11.342Z"
   },
   {
    "duration": 0,
    "start_time": "2024-08-19T16:18:11.343Z"
   },
   {
    "duration": 0,
    "start_time": "2024-08-19T16:18:11.345Z"
   },
   {
    "duration": 0,
    "start_time": "2024-08-19T16:18:11.346Z"
   },
   {
    "duration": 0,
    "start_time": "2024-08-19T16:18:11.346Z"
   },
   {
    "duration": 0,
    "start_time": "2024-08-19T16:18:11.348Z"
   },
   {
    "duration": 0,
    "start_time": "2024-08-19T16:18:11.349Z"
   },
   {
    "duration": 0,
    "start_time": "2024-08-19T16:18:11.350Z"
   },
   {
    "duration": 0,
    "start_time": "2024-08-19T16:18:11.351Z"
   },
   {
    "duration": 0,
    "start_time": "2024-08-19T16:18:11.352Z"
   },
   {
    "duration": 0,
    "start_time": "2024-08-19T16:18:11.353Z"
   },
   {
    "duration": 0,
    "start_time": "2024-08-19T16:18:11.354Z"
   },
   {
    "duration": 0,
    "start_time": "2024-08-19T16:18:11.355Z"
   },
   {
    "duration": 0,
    "start_time": "2024-08-19T16:18:11.356Z"
   },
   {
    "duration": 0,
    "start_time": "2024-08-19T16:18:11.356Z"
   },
   {
    "duration": 4039,
    "start_time": "2024-08-19T16:28:13.372Z"
   },
   {
    "duration": 6,
    "start_time": "2024-08-19T16:28:17.413Z"
   },
   {
    "duration": 4,
    "start_time": "2024-08-19T16:28:17.424Z"
   },
   {
    "duration": 14173,
    "start_time": "2024-08-19T16:28:17.430Z"
   },
   {
    "duration": 12159,
    "start_time": "2024-08-19T16:28:31.605Z"
   },
   {
    "duration": 815,
    "start_time": "2024-08-19T16:28:43.823Z"
   },
   {
    "duration": 1776,
    "start_time": "2024-08-19T16:28:44.640Z"
   },
   {
    "duration": 8,
    "start_time": "2024-08-19T16:28:46.418Z"
   },
   {
    "duration": 5002,
    "start_time": "2024-08-19T16:28:46.428Z"
   },
   {
    "duration": 4803,
    "start_time": "2024-08-19T16:28:51.434Z"
   },
   {
    "duration": 788,
    "start_time": "2024-08-19T16:28:56.239Z"
   },
   {
    "duration": 3219,
    "start_time": "2024-08-19T16:28:57.029Z"
   },
   {
    "duration": 3,
    "start_time": "2024-08-19T16:29:00.250Z"
   },
   {
    "duration": 2002,
    "start_time": "2024-08-19T16:29:00.254Z"
   },
   {
    "duration": 3008,
    "start_time": "2024-08-19T16:29:02.258Z"
   },
   {
    "duration": 411,
    "start_time": "2024-08-19T16:29:05.268Z"
   },
   {
    "duration": 0,
    "start_time": "2024-08-19T16:29:05.682Z"
   },
   {
    "duration": 0,
    "start_time": "2024-08-19T16:29:05.683Z"
   },
   {
    "duration": 0,
    "start_time": "2024-08-19T16:29:05.684Z"
   },
   {
    "duration": 0,
    "start_time": "2024-08-19T16:29:05.685Z"
   },
   {
    "duration": 0,
    "start_time": "2024-08-19T16:29:05.687Z"
   },
   {
    "duration": 0,
    "start_time": "2024-08-19T16:29:05.688Z"
   },
   {
    "duration": 0,
    "start_time": "2024-08-19T16:29:05.689Z"
   },
   {
    "duration": 0,
    "start_time": "2024-08-19T16:29:05.690Z"
   },
   {
    "duration": 0,
    "start_time": "2024-08-19T16:29:05.691Z"
   },
   {
    "duration": 0,
    "start_time": "2024-08-19T16:29:05.693Z"
   },
   {
    "duration": 0,
    "start_time": "2024-08-19T16:29:05.694Z"
   },
   {
    "duration": 0,
    "start_time": "2024-08-19T16:29:05.695Z"
   },
   {
    "duration": 0,
    "start_time": "2024-08-19T16:29:05.697Z"
   },
   {
    "duration": 0,
    "start_time": "2024-08-19T16:29:05.725Z"
   },
   {
    "duration": 0,
    "start_time": "2024-08-19T16:29:05.726Z"
   },
   {
    "duration": 0,
    "start_time": "2024-08-19T16:29:05.727Z"
   },
   {
    "duration": 0,
    "start_time": "2024-08-19T16:29:05.729Z"
   },
   {
    "duration": 0,
    "start_time": "2024-08-19T16:29:05.730Z"
   },
   {
    "duration": 0,
    "start_time": "2024-08-19T16:29:05.731Z"
   },
   {
    "duration": 0,
    "start_time": "2024-08-19T16:29:05.732Z"
   },
   {
    "duration": 0,
    "start_time": "2024-08-19T16:29:05.734Z"
   },
   {
    "duration": 0,
    "start_time": "2024-08-19T16:29:05.734Z"
   },
   {
    "duration": 0,
    "start_time": "2024-08-19T16:29:05.735Z"
   },
   {
    "duration": 0,
    "start_time": "2024-08-19T16:29:05.737Z"
   },
   {
    "duration": 0,
    "start_time": "2024-08-19T16:29:05.739Z"
   },
   {
    "duration": 0,
    "start_time": "2024-08-19T16:29:05.740Z"
   },
   {
    "duration": 0,
    "start_time": "2024-08-19T16:29:05.741Z"
   },
   {
    "duration": 0,
    "start_time": "2024-08-19T16:29:05.742Z"
   },
   {
    "duration": 0,
    "start_time": "2024-08-19T16:29:05.743Z"
   },
   {
    "duration": 0,
    "start_time": "2024-08-19T16:29:05.744Z"
   },
   {
    "duration": 0,
    "start_time": "2024-08-19T16:29:05.745Z"
   },
   {
    "duration": 0,
    "start_time": "2024-08-19T16:29:05.746Z"
   },
   {
    "duration": 0,
    "start_time": "2024-08-19T16:29:05.748Z"
   },
   {
    "duration": 0,
    "start_time": "2024-08-19T16:29:05.749Z"
   },
   {
    "duration": 0,
    "start_time": "2024-08-19T16:29:05.750Z"
   },
   {
    "duration": 0,
    "start_time": "2024-08-19T16:29:05.751Z"
   },
   {
    "duration": 4007,
    "start_time": "2024-08-19T16:29:53.411Z"
   },
   {
    "duration": 7,
    "start_time": "2024-08-19T16:29:57.423Z"
   },
   {
    "duration": 7,
    "start_time": "2024-08-19T16:29:57.432Z"
   },
   {
    "duration": 14097,
    "start_time": "2024-08-19T16:29:57.441Z"
   },
   {
    "duration": 11507,
    "start_time": "2024-08-19T16:30:11.540Z"
   },
   {
    "duration": 896,
    "start_time": "2024-08-19T16:30:23.049Z"
   },
   {
    "duration": 1993,
    "start_time": "2024-08-19T16:30:23.947Z"
   },
   {
    "duration": 5,
    "start_time": "2024-08-19T16:30:25.942Z"
   },
   {
    "duration": 4896,
    "start_time": "2024-08-19T16:30:25.949Z"
   },
   {
    "duration": 4785,
    "start_time": "2024-08-19T16:30:30.848Z"
   },
   {
    "duration": 716,
    "start_time": "2024-08-19T16:30:35.635Z"
   },
   {
    "duration": 3384,
    "start_time": "2024-08-19T16:30:36.353Z"
   },
   {
    "duration": 3,
    "start_time": "2024-08-19T16:30:39.739Z"
   },
   {
    "duration": 1499,
    "start_time": "2024-08-19T16:30:39.744Z"
   },
   {
    "duration": 3117,
    "start_time": "2024-08-19T16:30:41.245Z"
   },
   {
    "duration": 1788,
    "start_time": "2024-08-19T16:30:44.364Z"
   },
   {
    "duration": 204,
    "start_time": "2024-08-19T16:30:46.154Z"
   },
   {
    "duration": 106,
    "start_time": "2024-08-19T16:30:46.360Z"
   },
   {
    "duration": 1903,
    "start_time": "2024-08-19T16:30:46.468Z"
   },
   {
    "duration": 0,
    "start_time": "2024-08-19T16:30:48.425Z"
   },
   {
    "duration": 0,
    "start_time": "2024-08-19T16:30:48.426Z"
   },
   {
    "duration": 0,
    "start_time": "2024-08-19T16:30:48.428Z"
   },
   {
    "duration": 0,
    "start_time": "2024-08-19T16:30:48.429Z"
   },
   {
    "duration": 0,
    "start_time": "2024-08-19T16:30:48.431Z"
   },
   {
    "duration": 0,
    "start_time": "2024-08-19T16:30:48.433Z"
   },
   {
    "duration": 0,
    "start_time": "2024-08-19T16:30:48.435Z"
   },
   {
    "duration": 0,
    "start_time": "2024-08-19T16:30:48.436Z"
   },
   {
    "duration": 0,
    "start_time": "2024-08-19T16:30:48.438Z"
   },
   {
    "duration": 0,
    "start_time": "2024-08-19T16:30:48.439Z"
   },
   {
    "duration": 0,
    "start_time": "2024-08-19T16:30:48.441Z"
   },
   {
    "duration": 0,
    "start_time": "2024-08-19T16:30:48.443Z"
   },
   {
    "duration": 0,
    "start_time": "2024-08-19T16:30:48.444Z"
   },
   {
    "duration": 0,
    "start_time": "2024-08-19T16:30:48.446Z"
   },
   {
    "duration": 0,
    "start_time": "2024-08-19T16:30:48.447Z"
   },
   {
    "duration": 0,
    "start_time": "2024-08-19T16:30:48.448Z"
   },
   {
    "duration": 0,
    "start_time": "2024-08-19T16:30:48.450Z"
   },
   {
    "duration": 0,
    "start_time": "2024-08-19T16:30:48.451Z"
   },
   {
    "duration": 0,
    "start_time": "2024-08-19T16:30:48.525Z"
   },
   {
    "duration": 0,
    "start_time": "2024-08-19T16:30:48.526Z"
   },
   {
    "duration": 0,
    "start_time": "2024-08-19T16:30:48.528Z"
   },
   {
    "duration": 0,
    "start_time": "2024-08-19T16:30:48.529Z"
   },
   {
    "duration": 0,
    "start_time": "2024-08-19T16:30:48.531Z"
   },
   {
    "duration": 0,
    "start_time": "2024-08-19T16:30:48.532Z"
   },
   {
    "duration": 0,
    "start_time": "2024-08-19T16:30:48.533Z"
   },
   {
    "duration": 0,
    "start_time": "2024-08-19T16:30:48.535Z"
   },
   {
    "duration": 0,
    "start_time": "2024-08-19T16:30:48.536Z"
   },
   {
    "duration": 0,
    "start_time": "2024-08-19T16:30:48.537Z"
   },
   {
    "duration": 0,
    "start_time": "2024-08-19T16:30:48.538Z"
   },
   {
    "duration": 0,
    "start_time": "2024-08-19T16:30:48.539Z"
   },
   {
    "duration": 0,
    "start_time": "2024-08-19T16:30:48.540Z"
   },
   {
    "duration": 0,
    "start_time": "2024-08-19T16:30:48.541Z"
   },
   {
    "duration": 0,
    "start_time": "2024-08-19T16:30:48.543Z"
   },
   {
    "duration": 4031,
    "start_time": "2024-08-19T16:31:15.748Z"
   },
   {
    "duration": 6,
    "start_time": "2024-08-19T16:31:19.781Z"
   },
   {
    "duration": 6,
    "start_time": "2024-08-19T16:31:19.788Z"
   },
   {
    "duration": 14041,
    "start_time": "2024-08-19T16:31:19.796Z"
   },
   {
    "duration": 11986,
    "start_time": "2024-08-19T16:31:33.839Z"
   },
   {
    "duration": 905,
    "start_time": "2024-08-19T16:31:45.827Z"
   },
   {
    "duration": 1687,
    "start_time": "2024-08-19T16:31:46.734Z"
   },
   {
    "duration": 5,
    "start_time": "2024-08-19T16:31:48.422Z"
   },
   {
    "duration": 4725,
    "start_time": "2024-08-19T16:31:48.429Z"
   },
   {
    "duration": 5024,
    "start_time": "2024-08-19T16:31:53.225Z"
   },
   {
    "duration": 696,
    "start_time": "2024-08-19T16:31:58.251Z"
   },
   {
    "duration": 3480,
    "start_time": "2024-08-19T16:31:58.949Z"
   },
   {
    "duration": 3,
    "start_time": "2024-08-19T16:32:02.431Z"
   },
   {
    "duration": 1800,
    "start_time": "2024-08-19T16:32:02.435Z"
   },
   {
    "duration": 2909,
    "start_time": "2024-08-19T16:32:04.237Z"
   },
   {
    "duration": 1206,
    "start_time": "2024-08-19T16:32:07.148Z"
   },
   {
    "duration": 193,
    "start_time": "2024-08-19T16:32:08.356Z"
   },
   {
    "duration": 108,
    "start_time": "2024-08-19T16:32:08.551Z"
   },
   {
    "duration": 64,
    "start_time": "2024-08-19T16:32:08.661Z"
   },
   {
    "duration": 0,
    "start_time": "2024-08-19T16:32:08.729Z"
   },
   {
    "duration": 0,
    "start_time": "2024-08-19T16:32:08.730Z"
   },
   {
    "duration": 0,
    "start_time": "2024-08-19T16:32:08.732Z"
   },
   {
    "duration": 0,
    "start_time": "2024-08-19T16:32:08.733Z"
   },
   {
    "duration": 0,
    "start_time": "2024-08-19T16:32:08.735Z"
   },
   {
    "duration": 0,
    "start_time": "2024-08-19T16:32:08.737Z"
   },
   {
    "duration": 0,
    "start_time": "2024-08-19T16:32:08.738Z"
   },
   {
    "duration": 0,
    "start_time": "2024-08-19T16:32:08.740Z"
   },
   {
    "duration": 0,
    "start_time": "2024-08-19T16:32:08.741Z"
   },
   {
    "duration": 0,
    "start_time": "2024-08-19T16:32:08.742Z"
   },
   {
    "duration": 0,
    "start_time": "2024-08-19T16:32:08.744Z"
   },
   {
    "duration": 0,
    "start_time": "2024-08-19T16:32:08.745Z"
   },
   {
    "duration": 0,
    "start_time": "2024-08-19T16:32:08.746Z"
   },
   {
    "duration": 0,
    "start_time": "2024-08-19T16:32:08.748Z"
   },
   {
    "duration": 0,
    "start_time": "2024-08-19T16:32:08.750Z"
   },
   {
    "duration": 0,
    "start_time": "2024-08-19T16:32:08.751Z"
   },
   {
    "duration": 0,
    "start_time": "2024-08-19T16:32:08.753Z"
   },
   {
    "duration": 0,
    "start_time": "2024-08-19T16:32:08.754Z"
   },
   {
    "duration": 0,
    "start_time": "2024-08-19T16:32:08.756Z"
   },
   {
    "duration": 0,
    "start_time": "2024-08-19T16:32:08.825Z"
   },
   {
    "duration": 0,
    "start_time": "2024-08-19T16:32:08.826Z"
   },
   {
    "duration": 0,
    "start_time": "2024-08-19T16:32:08.828Z"
   },
   {
    "duration": 0,
    "start_time": "2024-08-19T16:32:08.829Z"
   },
   {
    "duration": 0,
    "start_time": "2024-08-19T16:32:08.831Z"
   },
   {
    "duration": 0,
    "start_time": "2024-08-19T16:32:08.832Z"
   },
   {
    "duration": 0,
    "start_time": "2024-08-19T16:32:08.834Z"
   },
   {
    "duration": 0,
    "start_time": "2024-08-19T16:32:08.835Z"
   },
   {
    "duration": 0,
    "start_time": "2024-08-19T16:32:08.837Z"
   },
   {
    "duration": 0,
    "start_time": "2024-08-19T16:32:08.838Z"
   },
   {
    "duration": 0,
    "start_time": "2024-08-19T16:32:08.839Z"
   },
   {
    "duration": 0,
    "start_time": "2024-08-19T16:32:08.841Z"
   },
   {
    "duration": 0,
    "start_time": "2024-08-19T16:32:08.842Z"
   },
   {
    "duration": 0,
    "start_time": "2024-08-19T16:32:08.844Z"
   },
   {
    "duration": 3987,
    "start_time": "2024-08-19T16:32:43.698Z"
   },
   {
    "duration": 5,
    "start_time": "2024-08-19T16:32:47.687Z"
   },
   {
    "duration": 3,
    "start_time": "2024-08-19T16:32:47.694Z"
   },
   {
    "duration": 14041,
    "start_time": "2024-08-19T16:32:47.698Z"
   },
   {
    "duration": 11206,
    "start_time": "2024-08-19T16:33:01.741Z"
   },
   {
    "duration": 996,
    "start_time": "2024-08-19T16:33:12.949Z"
   },
   {
    "duration": 1468,
    "start_time": "2024-08-19T16:33:14.024Z"
   },
   {
    "duration": 4,
    "start_time": "2024-08-19T16:33:15.494Z"
   },
   {
    "duration": 4824,
    "start_time": "2024-08-19T16:33:15.500Z"
   },
   {
    "duration": 5021,
    "start_time": "2024-08-19T16:33:20.327Z"
   },
   {
    "duration": 703,
    "start_time": "2024-08-19T16:33:25.350Z"
   },
   {
    "duration": 3712,
    "start_time": "2024-08-19T16:33:26.124Z"
   },
   {
    "duration": 3,
    "start_time": "2024-08-19T16:33:29.838Z"
   },
   {
    "duration": 1516,
    "start_time": "2024-08-19T16:33:29.843Z"
   },
   {
    "duration": 2833,
    "start_time": "2024-08-19T16:33:31.360Z"
   },
   {
    "duration": 1028,
    "start_time": "2024-08-19T16:33:34.196Z"
   },
   {
    "duration": 211,
    "start_time": "2024-08-19T16:33:35.226Z"
   },
   {
    "duration": 111,
    "start_time": "2024-08-19T16:33:35.439Z"
   },
   {
    "duration": 1790,
    "start_time": "2024-08-19T16:33:35.553Z"
   },
   {
    "duration": 10,
    "start_time": "2024-08-19T16:33:37.345Z"
   },
   {
    "duration": 7,
    "start_time": "2024-08-19T16:33:37.425Z"
   },
   {
    "duration": 1391,
    "start_time": "2024-08-19T16:33:37.434Z"
   },
   {
    "duration": 3703,
    "start_time": "2024-08-19T16:33:38.827Z"
   },
   {
    "duration": 692,
    "start_time": "2024-08-19T16:33:42.532Z"
   },
   {
    "duration": 8,
    "start_time": "2024-08-19T16:33:43.226Z"
   },
   {
    "duration": 1619,
    "start_time": "2024-08-19T16:33:43.236Z"
   },
   {
    "duration": 580,
    "start_time": "2024-08-19T16:33:44.856Z"
   },
   {
    "duration": 6,
    "start_time": "2024-08-19T16:33:45.441Z"
   },
   {
    "duration": 175,
    "start_time": "2024-08-19T16:33:45.449Z"
   },
   {
    "duration": 3,
    "start_time": "2024-08-19T16:33:45.626Z"
   },
   {
    "duration": 801,
    "start_time": "2024-08-19T16:33:45.631Z"
   },
   {
    "duration": 381,
    "start_time": "2024-08-19T16:33:46.433Z"
   },
   {
    "duration": 48,
    "start_time": "2024-08-19T16:33:46.816Z"
   },
   {
    "duration": 84,
    "start_time": "2024-08-19T16:33:46.865Z"
   },
   {
    "duration": 805,
    "start_time": "2024-08-19T16:33:46.951Z"
   },
   {
    "duration": 423,
    "start_time": "2024-08-19T16:33:47.758Z"
   },
   {
    "duration": 11,
    "start_time": "2024-08-19T16:33:48.182Z"
   },
   {
    "duration": 3268,
    "start_time": "2024-08-19T16:33:48.195Z"
   },
   {
    "duration": 1017,
    "start_time": "2024-08-19T16:33:51.465Z"
   },
   {
    "duration": 45,
    "start_time": "2024-08-19T16:33:52.483Z"
   },
   {
    "duration": 2343,
    "start_time": "2024-08-19T16:33:52.530Z"
   },
   {
    "duration": 918,
    "start_time": "2024-08-19T16:33:54.874Z"
   },
   {
    "duration": 7,
    "start_time": "2024-08-19T16:33:55.794Z"
   },
   {
    "duration": 16,
    "start_time": "2024-08-19T16:33:55.802Z"
   },
   {
    "duration": 4,
    "start_time": "2024-08-19T16:33:55.819Z"
   },
   {
    "duration": 179,
    "start_time": "2024-08-19T16:33:55.825Z"
   },
   {
    "duration": 5,
    "start_time": "2024-08-19T16:33:56.006Z"
   },
   {
    "duration": 11,
    "start_time": "2024-08-19T16:33:56.025Z"
   },
   {
    "duration": 177,
    "start_time": "2024-08-19T16:33:56.037Z"
   },
   {
    "duration": 13,
    "start_time": "2024-08-19T16:33:56.224Z"
   },
   {
    "duration": 187,
    "start_time": "2024-08-19T16:33:56.239Z"
   },
   {
    "duration": 408,
    "start_time": "2024-08-19T16:33:56.427Z"
   },
   {
    "duration": 586,
    "start_time": "2024-08-19T16:35:12.473Z"
   },
   {
    "duration": 4083,
    "start_time": "2024-08-19T16:36:07.998Z"
   },
   {
    "duration": 6,
    "start_time": "2024-08-19T16:36:12.083Z"
   },
   {
    "duration": 3,
    "start_time": "2024-08-19T16:36:12.090Z"
   },
   {
    "duration": 14200,
    "start_time": "2024-08-19T16:36:12.095Z"
   },
   {
    "duration": 11563,
    "start_time": "2024-08-19T16:36:26.297Z"
   },
   {
    "duration": 818,
    "start_time": "2024-08-19T16:36:37.924Z"
   },
   {
    "duration": 1694,
    "start_time": "2024-08-19T16:36:38.744Z"
   },
   {
    "duration": 4,
    "start_time": "2024-08-19T16:36:40.440Z"
   },
   {
    "duration": 4680,
    "start_time": "2024-08-19T16:36:40.446Z"
   },
   {
    "duration": 4713,
    "start_time": "2024-08-19T16:36:45.129Z"
   },
   {
    "duration": 809,
    "start_time": "2024-08-19T16:36:49.844Z"
   },
   {
    "duration": 3570,
    "start_time": "2024-08-19T16:36:50.655Z"
   },
   {
    "duration": 3,
    "start_time": "2024-08-19T16:36:54.227Z"
   },
   {
    "duration": 1696,
    "start_time": "2024-08-19T16:36:54.232Z"
   },
   {
    "duration": 3136,
    "start_time": "2024-08-19T16:36:55.930Z"
   },
   {
    "duration": 685,
    "start_time": "2024-08-19T16:36:59.067Z"
   },
   {
    "duration": 582,
    "start_time": "2024-08-19T16:36:59.754Z"
   },
   {
    "duration": 1107,
    "start_time": "2024-08-19T16:37:00.338Z"
   },
   {
    "duration": 877,
    "start_time": "2024-08-19T16:37:01.447Z"
   },
   {
    "duration": 429,
    "start_time": "2024-08-19T16:37:02.325Z"
   },
   {
    "duration": 183,
    "start_time": "2024-08-19T16:37:02.756Z"
   },
   {
    "duration": 105,
    "start_time": "2024-08-19T16:37:02.941Z"
   },
   {
    "duration": 1387,
    "start_time": "2024-08-19T16:37:03.048Z"
   },
   {
    "duration": 10,
    "start_time": "2024-08-19T16:37:04.436Z"
   },
   {
    "duration": 7,
    "start_time": "2024-08-19T16:37:04.447Z"
   },
   {
    "duration": 1228,
    "start_time": "2024-08-19T16:37:04.524Z"
   },
   {
    "duration": 3889,
    "start_time": "2024-08-19T16:37:05.754Z"
   },
   {
    "duration": 782,
    "start_time": "2024-08-19T16:37:09.648Z"
   },
   {
    "duration": 8,
    "start_time": "2024-08-19T16:37:10.433Z"
   },
   {
    "duration": 1789,
    "start_time": "2024-08-19T16:37:10.443Z"
   },
   {
    "duration": 497,
    "start_time": "2024-08-19T16:37:12.234Z"
   },
   {
    "duration": 6,
    "start_time": "2024-08-19T16:37:12.732Z"
   },
   {
    "duration": 111,
    "start_time": "2024-08-19T16:37:12.739Z"
   },
   {
    "duration": 2,
    "start_time": "2024-08-19T16:37:12.852Z"
   },
   {
    "duration": 1018,
    "start_time": "2024-08-19T16:37:12.856Z"
   },
   {
    "duration": 459,
    "start_time": "2024-08-19T16:37:13.876Z"
   },
   {
    "duration": 103,
    "start_time": "2024-08-19T16:37:14.337Z"
   },
   {
    "duration": 83,
    "start_time": "2024-08-19T16:37:14.442Z"
   },
   {
    "duration": 838,
    "start_time": "2024-08-19T16:37:14.527Z"
   },
   {
    "duration": 481,
    "start_time": "2024-08-19T16:37:15.367Z"
   },
   {
    "duration": 12,
    "start_time": "2024-08-19T16:37:15.850Z"
   },
   {
    "duration": 3065,
    "start_time": "2024-08-19T16:37:15.864Z"
   },
   {
    "duration": 1195,
    "start_time": "2024-08-19T16:37:18.931Z"
   },
   {
    "duration": 8,
    "start_time": "2024-08-19T16:37:20.127Z"
   },
   {
    "duration": 2094,
    "start_time": "2024-08-19T16:37:20.137Z"
   },
   {
    "duration": 1071,
    "start_time": "2024-08-19T16:37:22.233Z"
   },
   {
    "duration": 7,
    "start_time": "2024-08-19T16:37:23.306Z"
   },
   {
    "duration": 17,
    "start_time": "2024-08-19T16:37:23.324Z"
   },
   {
    "duration": 5,
    "start_time": "2024-08-19T16:37:23.343Z"
   },
   {
    "duration": 252,
    "start_time": "2024-08-19T16:37:23.350Z"
   },
   {
    "duration": 6,
    "start_time": "2024-08-19T16:37:23.604Z"
   },
   {
    "duration": 27,
    "start_time": "2024-08-19T16:37:23.611Z"
   },
   {
    "duration": 230,
    "start_time": "2024-08-19T16:37:23.640Z"
   },
   {
    "duration": 11,
    "start_time": "2024-08-19T16:37:23.872Z"
   },
   {
    "duration": 212,
    "start_time": "2024-08-19T16:37:23.885Z"
   },
   {
    "duration": 442,
    "start_time": "2024-08-19T16:37:24.099Z"
   },
   {
    "duration": 3930,
    "start_time": "2024-08-19T16:38:40.095Z"
   },
   {
    "duration": 6,
    "start_time": "2024-08-19T16:38:44.027Z"
   },
   {
    "duration": 4,
    "start_time": "2024-08-19T16:38:44.034Z"
   },
   {
    "duration": 14329,
    "start_time": "2024-08-19T16:38:44.040Z"
   },
   {
    "duration": 10968,
    "start_time": "2024-08-19T16:38:58.371Z"
   },
   {
    "duration": 896,
    "start_time": "2024-08-19T16:39:09.341Z"
   },
   {
    "duration": 1735,
    "start_time": "2024-08-19T16:39:10.239Z"
   },
   {
    "duration": 5,
    "start_time": "2024-08-19T16:39:11.975Z"
   },
   {
    "duration": 4743,
    "start_time": "2024-08-19T16:39:11.981Z"
   },
   {
    "duration": 4703,
    "start_time": "2024-08-19T16:39:16.727Z"
   },
   {
    "duration": 716,
    "start_time": "2024-08-19T16:39:21.432Z"
   },
   {
    "duration": 3074,
    "start_time": "2024-08-19T16:39:22.150Z"
   },
   {
    "duration": 3,
    "start_time": "2024-08-19T16:39:25.226Z"
   },
   {
    "duration": 1995,
    "start_time": "2024-08-19T16:39:25.231Z"
   },
   {
    "duration": 2703,
    "start_time": "2024-08-19T16:39:27.227Z"
   },
   {
    "duration": 1802,
    "start_time": "2024-08-19T16:39:29.932Z"
   },
   {
    "duration": 225,
    "start_time": "2024-08-19T16:39:31.736Z"
   },
   {
    "duration": 112,
    "start_time": "2024-08-19T16:39:32.025Z"
   },
   {
    "duration": 1488,
    "start_time": "2024-08-19T16:39:32.139Z"
   },
   {
    "duration": 10,
    "start_time": "2024-08-19T16:39:33.629Z"
   },
   {
    "duration": 6,
    "start_time": "2024-08-19T16:39:33.641Z"
   },
   {
    "duration": 1338,
    "start_time": "2024-08-19T16:39:33.649Z"
   },
   {
    "duration": 3325,
    "start_time": "2024-08-19T16:39:35.023Z"
   },
   {
    "duration": 774,
    "start_time": "2024-08-19T16:39:38.350Z"
   },
   {
    "duration": 7,
    "start_time": "2024-08-19T16:39:39.126Z"
   },
   {
    "duration": 1996,
    "start_time": "2024-08-19T16:39:39.134Z"
   },
   {
    "duration": 545,
    "start_time": "2024-08-19T16:39:41.133Z"
   },
   {
    "duration": 42,
    "start_time": "2024-08-19T16:39:41.684Z"
   },
   {
    "duration": 108,
    "start_time": "2024-08-19T16:39:41.728Z"
   },
   {
    "duration": 3,
    "start_time": "2024-08-19T16:39:41.837Z"
   },
   {
    "duration": 801,
    "start_time": "2024-08-19T16:39:41.841Z"
   },
   {
    "duration": 393,
    "start_time": "2024-08-19T16:39:42.644Z"
   },
   {
    "duration": 21,
    "start_time": "2024-08-19T16:39:43.038Z"
   },
   {
    "duration": 72,
    "start_time": "2024-08-19T16:39:43.060Z"
   },
   {
    "duration": 732,
    "start_time": "2024-08-19T16:39:43.134Z"
   },
   {
    "duration": 377,
    "start_time": "2024-08-19T16:39:43.925Z"
   },
   {
    "duration": 20,
    "start_time": "2024-08-19T16:39:44.304Z"
   },
   {
    "duration": 2703,
    "start_time": "2024-08-19T16:39:44.325Z"
   },
   {
    "duration": 897,
    "start_time": "2024-08-19T16:39:47.029Z"
   },
   {
    "duration": 7,
    "start_time": "2024-08-19T16:39:47.927Z"
   },
   {
    "duration": 2412,
    "start_time": "2024-08-19T16:39:47.936Z"
   },
   {
    "duration": 949,
    "start_time": "2024-08-19T16:39:50.349Z"
   },
   {
    "duration": 25,
    "start_time": "2024-08-19T16:39:51.300Z"
   },
   {
    "duration": 14,
    "start_time": "2024-08-19T16:39:51.326Z"
   },
   {
    "duration": 13,
    "start_time": "2024-08-19T16:39:51.342Z"
   },
   {
    "duration": 211,
    "start_time": "2024-08-19T16:39:51.357Z"
   },
   {
    "duration": 5,
    "start_time": "2024-08-19T16:39:51.570Z"
   },
   {
    "duration": 22,
    "start_time": "2024-08-19T16:39:51.577Z"
   },
   {
    "duration": 178,
    "start_time": "2024-08-19T16:39:51.600Z"
   },
   {
    "duration": 13,
    "start_time": "2024-08-19T16:39:51.779Z"
   },
   {
    "duration": 195,
    "start_time": "2024-08-19T16:39:51.793Z"
   },
   {
    "duration": 640,
    "start_time": "2024-08-19T16:39:51.989Z"
   },
   {
    "duration": 3951,
    "start_time": "2024-08-19T16:41:41.215Z"
   },
   {
    "duration": 6,
    "start_time": "2024-08-19T16:41:45.168Z"
   },
   {
    "duration": 42,
    "start_time": "2024-08-19T16:41:45.175Z"
   },
   {
    "duration": 13920,
    "start_time": "2024-08-19T16:41:45.219Z"
   },
   {
    "duration": 11397,
    "start_time": "2024-08-19T16:41:59.142Z"
   },
   {
    "duration": 883,
    "start_time": "2024-08-19T16:42:10.541Z"
   },
   {
    "duration": 1506,
    "start_time": "2024-08-19T16:42:11.426Z"
   },
   {
    "duration": 5,
    "start_time": "2024-08-19T16:42:12.933Z"
   },
   {
    "duration": 4306,
    "start_time": "2024-08-19T16:42:12.940Z"
   },
   {
    "duration": 4807,
    "start_time": "2024-08-19T16:42:17.249Z"
   },
   {
    "duration": 691,
    "start_time": "2024-08-19T16:42:22.058Z"
   },
   {
    "duration": 3500,
    "start_time": "2024-08-19T16:42:22.751Z"
   },
   {
    "duration": 3,
    "start_time": "2024-08-19T16:42:26.253Z"
   },
   {
    "duration": 1379,
    "start_time": "2024-08-19T16:42:26.257Z"
   },
   {
    "duration": 3492,
    "start_time": "2024-08-19T16:42:27.638Z"
   },
   {
    "duration": 1392,
    "start_time": "2024-08-19T16:42:31.132Z"
   },
   {
    "duration": 208,
    "start_time": "2024-08-19T16:42:32.527Z"
   },
   {
    "duration": 91,
    "start_time": "2024-08-19T16:42:32.736Z"
   },
   {
    "duration": 1502,
    "start_time": "2024-08-19T16:42:32.830Z"
   },
   {
    "duration": 10,
    "start_time": "2024-08-19T16:42:34.334Z"
   },
   {
    "duration": 5,
    "start_time": "2024-08-19T16:42:34.346Z"
   },
   {
    "duration": 1376,
    "start_time": "2024-08-19T16:42:34.352Z"
   },
   {
    "duration": 3808,
    "start_time": "2024-08-19T16:42:35.729Z"
   },
   {
    "duration": 697,
    "start_time": "2024-08-19T16:42:39.538Z"
   },
   {
    "duration": 8,
    "start_time": "2024-08-19T16:42:40.237Z"
   },
   {
    "duration": 1883,
    "start_time": "2024-08-19T16:42:40.247Z"
   },
   {
    "duration": 500,
    "start_time": "2024-08-19T16:42:42.132Z"
   },
   {
    "duration": 5,
    "start_time": "2024-08-19T16:42:42.636Z"
   },
   {
    "duration": 113,
    "start_time": "2024-08-19T16:42:42.643Z"
   },
   {
    "duration": 3,
    "start_time": "2024-08-19T16:42:42.758Z"
   },
   {
    "duration": 863,
    "start_time": "2024-08-19T16:42:42.762Z"
   },
   {
    "duration": 416,
    "start_time": "2024-08-19T16:42:43.626Z"
   },
   {
    "duration": 122,
    "start_time": "2024-08-19T16:42:44.044Z"
   },
   {
    "duration": 78,
    "start_time": "2024-08-19T16:42:44.168Z"
   },
   {
    "duration": 982,
    "start_time": "2024-08-19T16:42:44.248Z"
   },
   {
    "duration": 481,
    "start_time": "2024-08-19T16:42:45.233Z"
   },
   {
    "duration": 13,
    "start_time": "2024-08-19T16:42:45.723Z"
   },
   {
    "duration": 3291,
    "start_time": "2024-08-19T16:42:45.738Z"
   },
   {
    "duration": 894,
    "start_time": "2024-08-19T16:42:49.030Z"
   },
   {
    "duration": 7,
    "start_time": "2024-08-19T16:42:49.926Z"
   },
   {
    "duration": 2306,
    "start_time": "2024-08-19T16:42:49.935Z"
   },
   {
    "duration": 1096,
    "start_time": "2024-08-19T16:42:52.243Z"
   },
   {
    "duration": 5,
    "start_time": "2024-08-19T16:42:53.341Z"
   },
   {
    "duration": 13,
    "start_time": "2024-08-19T16:42:53.348Z"
   },
   {
    "duration": 3,
    "start_time": "2024-08-19T16:42:53.363Z"
   },
   {
    "duration": 218,
    "start_time": "2024-08-19T16:42:53.368Z"
   },
   {
    "duration": 5,
    "start_time": "2024-08-19T16:42:53.588Z"
   },
   {
    "duration": 18,
    "start_time": "2024-08-19T16:42:53.594Z"
   },
   {
    "duration": 175,
    "start_time": "2024-08-19T16:42:53.625Z"
   },
   {
    "duration": 24,
    "start_time": "2024-08-19T16:42:53.801Z"
   },
   {
    "duration": 164,
    "start_time": "2024-08-19T16:42:53.827Z"
   },
   {
    "duration": 657,
    "start_time": "2024-08-19T16:42:53.992Z"
   },
   {
    "duration": 3904,
    "start_time": "2024-08-19T16:43:33.580Z"
   },
   {
    "duration": 5,
    "start_time": "2024-08-19T16:43:37.486Z"
   },
   {
    "duration": 17,
    "start_time": "2024-08-19T16:43:37.493Z"
   },
   {
    "duration": 13726,
    "start_time": "2024-08-19T16:43:37.511Z"
   },
   {
    "duration": 11219,
    "start_time": "2024-08-19T16:43:51.239Z"
   },
   {
    "duration": 807,
    "start_time": "2024-08-19T16:44:02.524Z"
   },
   {
    "duration": 1607,
    "start_time": "2024-08-19T16:44:03.333Z"
   },
   {
    "duration": 6,
    "start_time": "2024-08-19T16:44:04.941Z"
   },
   {
    "duration": 4591,
    "start_time": "2024-08-19T16:44:04.948Z"
   },
   {
    "duration": 4897,
    "start_time": "2024-08-19T16:44:09.542Z"
   },
   {
    "duration": 715,
    "start_time": "2024-08-19T16:44:14.441Z"
   },
   {
    "duration": 3396,
    "start_time": "2024-08-19T16:44:15.158Z"
   },
   {
    "duration": 2,
    "start_time": "2024-08-19T16:44:18.556Z"
   },
   {
    "duration": 2029,
    "start_time": "2024-08-19T16:44:18.623Z"
   },
   {
    "duration": 2704,
    "start_time": "2024-08-19T16:44:20.653Z"
   },
   {
    "duration": 1466,
    "start_time": "2024-08-19T16:44:23.359Z"
   },
   {
    "duration": 215,
    "start_time": "2024-08-19T16:44:24.827Z"
   },
   {
    "duration": 108,
    "start_time": "2024-08-19T16:44:25.044Z"
   },
   {
    "duration": 1580,
    "start_time": "2024-08-19T16:44:25.155Z"
   },
   {
    "duration": 10,
    "start_time": "2024-08-19T16:44:26.737Z"
   },
   {
    "duration": 77,
    "start_time": "2024-08-19T16:44:26.749Z"
   },
   {
    "duration": 1437,
    "start_time": "2024-08-19T16:44:26.828Z"
   },
   {
    "duration": 4083,
    "start_time": "2024-08-19T16:44:28.267Z"
   },
   {
    "duration": 724,
    "start_time": "2024-08-19T16:44:32.351Z"
   },
   {
    "duration": 51,
    "start_time": "2024-08-19T16:44:33.077Z"
   },
   {
    "duration": 1702,
    "start_time": "2024-08-19T16:44:33.130Z"
   },
   {
    "duration": 530,
    "start_time": "2024-08-19T16:44:34.834Z"
   },
   {
    "duration": 7,
    "start_time": "2024-08-19T16:44:35.367Z"
   },
   {
    "duration": 101,
    "start_time": "2024-08-19T16:44:35.375Z"
   },
   {
    "duration": 3,
    "start_time": "2024-08-19T16:44:35.524Z"
   },
   {
    "duration": 754,
    "start_time": "2024-08-19T16:44:35.530Z"
   },
   {
    "duration": 444,
    "start_time": "2024-08-19T16:44:36.285Z"
   },
   {
    "duration": 107,
    "start_time": "2024-08-19T16:44:36.731Z"
   },
   {
    "duration": 20,
    "start_time": "2024-08-19T16:44:36.840Z"
   },
   {
    "duration": 1123,
    "start_time": "2024-08-19T16:44:36.923Z"
   },
   {
    "duration": 399,
    "start_time": "2024-08-19T16:44:38.047Z"
   },
   {
    "duration": 12,
    "start_time": "2024-08-19T16:44:38.447Z"
   },
   {
    "duration": 3069,
    "start_time": "2024-08-19T16:44:38.461Z"
   },
   {
    "duration": 893,
    "start_time": "2024-08-19T16:44:41.532Z"
   },
   {
    "duration": 6,
    "start_time": "2024-08-19T16:44:42.426Z"
   },
   {
    "duration": 2402,
    "start_time": "2024-08-19T16:44:42.433Z"
   },
   {
    "duration": 988,
    "start_time": "2024-08-19T16:44:44.837Z"
   },
   {
    "duration": 6,
    "start_time": "2024-08-19T16:44:45.827Z"
   },
   {
    "duration": 13,
    "start_time": "2024-08-19T16:44:45.834Z"
   },
   {
    "duration": 4,
    "start_time": "2024-08-19T16:44:45.849Z"
   },
   {
    "duration": 214,
    "start_time": "2024-08-19T16:44:45.855Z"
   },
   {
    "duration": 5,
    "start_time": "2024-08-19T16:44:46.071Z"
   },
   {
    "duration": 14,
    "start_time": "2024-08-19T16:44:46.078Z"
   },
   {
    "duration": 187,
    "start_time": "2024-08-19T16:44:46.093Z"
   },
   {
    "duration": 12,
    "start_time": "2024-08-19T16:44:46.282Z"
   },
   {
    "duration": 174,
    "start_time": "2024-08-19T16:44:46.295Z"
   },
   {
    "duration": 562,
    "start_time": "2024-08-19T16:44:46.470Z"
   },
   {
    "duration": 3924,
    "start_time": "2024-08-19T16:47:17.506Z"
   },
   {
    "duration": 5,
    "start_time": "2024-08-19T16:47:21.432Z"
   },
   {
    "duration": 10,
    "start_time": "2024-08-19T16:47:21.438Z"
   },
   {
    "duration": 13792,
    "start_time": "2024-08-19T16:47:21.449Z"
   },
   {
    "duration": 11595,
    "start_time": "2024-08-19T16:47:35.244Z"
   },
   {
    "duration": 797,
    "start_time": "2024-08-19T16:47:46.841Z"
   },
   {
    "duration": 1590,
    "start_time": "2024-08-19T16:47:47.640Z"
   },
   {
    "duration": 5,
    "start_time": "2024-08-19T16:47:49.232Z"
   },
   {
    "duration": 4421,
    "start_time": "2024-08-19T16:47:49.238Z"
   },
   {
    "duration": 4524,
    "start_time": "2024-08-19T16:47:53.724Z"
   },
   {
    "duration": 1080,
    "start_time": "2024-08-19T16:47:58.250Z"
   },
   {
    "duration": 3392,
    "start_time": "2024-08-19T16:47:59.332Z"
   },
   {
    "duration": 4,
    "start_time": "2024-08-19T16:48:02.727Z"
   },
   {
    "duration": 1623,
    "start_time": "2024-08-19T16:48:02.735Z"
   },
   {
    "duration": 3306,
    "start_time": "2024-08-19T16:48:04.359Z"
   },
   {
    "duration": 1436,
    "start_time": "2024-08-19T16:48:07.667Z"
   },
   {
    "duration": 220,
    "start_time": "2024-08-19T16:48:09.104Z"
   },
   {
    "duration": 202,
    "start_time": "2024-08-19T16:48:09.326Z"
   },
   {
    "duration": 1816,
    "start_time": "2024-08-19T16:48:09.530Z"
   },
   {
    "duration": 12,
    "start_time": "2024-08-19T16:48:11.347Z"
   },
   {
    "duration": 12,
    "start_time": "2024-08-19T16:48:11.360Z"
   },
   {
    "duration": 1383,
    "start_time": "2024-08-19T16:48:11.373Z"
   },
   {
    "duration": 3985,
    "start_time": "2024-08-19T16:48:12.758Z"
   },
   {
    "duration": 786,
    "start_time": "2024-08-19T16:48:16.745Z"
   },
   {
    "duration": 8,
    "start_time": "2024-08-19T16:48:17.533Z"
   },
   {
    "duration": 1496,
    "start_time": "2024-08-19T16:48:17.543Z"
   },
   {
    "duration": 601,
    "start_time": "2024-08-19T16:48:19.041Z"
   },
   {
    "duration": 9,
    "start_time": "2024-08-19T16:48:19.644Z"
   },
   {
    "duration": 172,
    "start_time": "2024-08-19T16:48:19.655Z"
   },
   {
    "duration": 3,
    "start_time": "2024-08-19T16:48:19.829Z"
   },
   {
    "duration": 897,
    "start_time": "2024-08-19T16:48:19.834Z"
   },
   {
    "duration": 366,
    "start_time": "2024-08-19T16:48:20.733Z"
   },
   {
    "duration": 49,
    "start_time": "2024-08-19T16:48:21.100Z"
   },
   {
    "duration": 79,
    "start_time": "2024-08-19T16:48:21.150Z"
   },
   {
    "duration": 823,
    "start_time": "2024-08-19T16:48:21.232Z"
   },
   {
    "duration": 390,
    "start_time": "2024-08-19T16:48:22.057Z"
   },
   {
    "duration": 13,
    "start_time": "2024-08-19T16:48:22.449Z"
   },
   {
    "duration": 2962,
    "start_time": "2024-08-19T16:48:22.463Z"
   },
   {
    "duration": 1199,
    "start_time": "2024-08-19T16:48:25.426Z"
   },
   {
    "duration": 7,
    "start_time": "2024-08-19T16:48:26.626Z"
   },
   {
    "duration": 2144,
    "start_time": "2024-08-19T16:48:26.638Z"
   },
   {
    "duration": 897,
    "start_time": "2024-08-19T16:48:28.783Z"
   },
   {
    "duration": 6,
    "start_time": "2024-08-19T16:48:29.681Z"
   },
   {
    "duration": 57,
    "start_time": "2024-08-19T16:48:29.688Z"
   },
   {
    "duration": 4,
    "start_time": "2024-08-19T16:48:29.746Z"
   },
   {
    "duration": 175,
    "start_time": "2024-08-19T16:48:29.752Z"
   },
   {
    "duration": 5,
    "start_time": "2024-08-19T16:48:29.929Z"
   },
   {
    "duration": 31,
    "start_time": "2024-08-19T16:48:29.935Z"
   },
   {
    "duration": 187,
    "start_time": "2024-08-19T16:48:29.968Z"
   },
   {
    "duration": 17,
    "start_time": "2024-08-19T16:48:30.157Z"
   },
   {
    "duration": 225,
    "start_time": "2024-08-19T16:48:30.177Z"
   },
   {
    "duration": 469,
    "start_time": "2024-08-19T16:48:30.403Z"
   },
   {
    "duration": 3900,
    "start_time": "2024-08-19T16:49:06.345Z"
   },
   {
    "duration": 6,
    "start_time": "2024-08-19T16:49:10.247Z"
   },
   {
    "duration": 7,
    "start_time": "2024-08-19T16:49:10.255Z"
   },
   {
    "duration": 13975,
    "start_time": "2024-08-19T16:49:10.264Z"
   },
   {
    "duration": 12314,
    "start_time": "2024-08-19T16:49:24.241Z"
   },
   {
    "duration": 806,
    "start_time": "2024-08-19T16:49:36.625Z"
   },
   {
    "duration": 1615,
    "start_time": "2024-08-19T16:49:37.434Z"
   },
   {
    "duration": 6,
    "start_time": "2024-08-19T16:49:39.050Z"
   },
   {
    "duration": 4773,
    "start_time": "2024-08-19T16:49:39.058Z"
   },
   {
    "duration": 4704,
    "start_time": "2024-08-19T16:49:43.834Z"
   },
   {
    "duration": 705,
    "start_time": "2024-08-19T16:49:48.540Z"
   },
   {
    "duration": 3309,
    "start_time": "2024-08-19T16:49:49.247Z"
   },
   {
    "duration": 4,
    "start_time": "2024-08-19T16:49:52.558Z"
   },
   {
    "duration": 1999,
    "start_time": "2024-08-19T16:49:52.625Z"
   },
   {
    "duration": 3116,
    "start_time": "2024-08-19T16:49:54.626Z"
   },
   {
    "duration": 1631,
    "start_time": "2024-08-19T16:49:57.744Z"
   },
   {
    "duration": 199,
    "start_time": "2024-08-19T16:49:59.425Z"
   },
   {
    "duration": 116,
    "start_time": "2024-08-19T16:49:59.627Z"
   },
   {
    "duration": 1499,
    "start_time": "2024-08-19T16:49:59.746Z"
   },
   {
    "duration": 7,
    "start_time": "2024-08-19T16:50:01.247Z"
   },
   {
    "duration": 74,
    "start_time": "2024-08-19T16:50:01.256Z"
   },
   {
    "duration": 1318,
    "start_time": "2024-08-19T16:50:01.332Z"
   },
   {
    "duration": 4191,
    "start_time": "2024-08-19T16:50:02.652Z"
   },
   {
    "duration": 704,
    "start_time": "2024-08-19T16:50:06.845Z"
   },
   {
    "duration": 7,
    "start_time": "2024-08-19T16:50:07.551Z"
   },
   {
    "duration": 1793,
    "start_time": "2024-08-19T16:50:07.560Z"
   },
   {
    "duration": 686,
    "start_time": "2024-08-19T16:50:09.355Z"
   },
   {
    "duration": 6,
    "start_time": "2024-08-19T16:50:10.046Z"
   },
   {
    "duration": 181,
    "start_time": "2024-08-19T16:50:10.054Z"
   },
   {
    "duration": 4,
    "start_time": "2024-08-19T16:50:10.238Z"
   },
   {
    "duration": 818,
    "start_time": "2024-08-19T16:50:10.244Z"
   },
   {
    "duration": 452,
    "start_time": "2024-08-19T16:50:11.064Z"
   },
   {
    "duration": 49,
    "start_time": "2024-08-19T16:50:11.518Z"
   },
   {
    "duration": 79,
    "start_time": "2024-08-19T16:50:11.569Z"
   },
   {
    "duration": 1282,
    "start_time": "2024-08-19T16:50:11.650Z"
   },
   {
    "duration": 405,
    "start_time": "2024-08-19T16:50:12.933Z"
   },
   {
    "duration": 12,
    "start_time": "2024-08-19T16:50:13.339Z"
   },
   {
    "duration": 3176,
    "start_time": "2024-08-19T16:50:13.353Z"
   },
   {
    "duration": 845,
    "start_time": "2024-08-19T16:50:16.531Z"
   },
   {
    "duration": 47,
    "start_time": "2024-08-19T16:50:17.379Z"
   },
   {
    "duration": 2501,
    "start_time": "2024-08-19T16:50:17.427Z"
   },
   {
    "duration": 1118,
    "start_time": "2024-08-19T16:50:19.930Z"
   },
   {
    "duration": 6,
    "start_time": "2024-08-19T16:50:21.049Z"
   },
   {
    "duration": 75,
    "start_time": "2024-08-19T16:50:21.056Z"
   },
   {
    "duration": 3,
    "start_time": "2024-08-19T16:50:21.133Z"
   },
   {
    "duration": 211,
    "start_time": "2024-08-19T16:50:21.137Z"
   },
   {
    "duration": 5,
    "start_time": "2024-08-19T16:50:21.349Z"
   },
   {
    "duration": 12,
    "start_time": "2024-08-19T16:50:21.356Z"
   },
   {
    "duration": 175,
    "start_time": "2024-08-19T16:50:21.369Z"
   },
   {
    "duration": 11,
    "start_time": "2024-08-19T16:50:21.545Z"
   },
   {
    "duration": 182,
    "start_time": "2024-08-19T16:50:21.558Z"
   },
   {
    "duration": 199,
    "start_time": "2024-08-19T16:50:21.742Z"
   },
   {
    "duration": 4081,
    "start_time": "2024-08-19T16:58:25.778Z"
   },
   {
    "duration": 6,
    "start_time": "2024-08-19T16:58:29.862Z"
   },
   {
    "duration": 4,
    "start_time": "2024-08-19T16:58:29.870Z"
   },
   {
    "duration": 14617,
    "start_time": "2024-08-19T16:58:29.876Z"
   },
   {
    "duration": 11732,
    "start_time": "2024-08-19T16:58:44.495Z"
   },
   {
    "duration": 810,
    "start_time": "2024-08-19T16:58:56.229Z"
   },
   {
    "duration": 1535,
    "start_time": "2024-08-19T16:58:57.041Z"
   },
   {
    "duration": 4,
    "start_time": "2024-08-19T16:58:58.578Z"
   },
   {
    "duration": 4649,
    "start_time": "2024-08-19T16:58:58.584Z"
   },
   {
    "duration": 4813,
    "start_time": "2024-08-19T16:59:03.236Z"
   },
   {
    "duration": 796,
    "start_time": "2024-08-19T16:59:08.051Z"
   },
   {
    "duration": 3487,
    "start_time": "2024-08-19T16:59:08.849Z"
   },
   {
    "duration": 3,
    "start_time": "2024-08-19T16:59:12.338Z"
   },
   {
    "duration": 2285,
    "start_time": "2024-08-19T16:59:12.342Z"
   },
   {
    "duration": 2896,
    "start_time": "2024-08-19T16:59:14.629Z"
   },
   {
    "duration": 1624,
    "start_time": "2024-08-19T16:59:17.526Z"
   },
   {
    "duration": 207,
    "start_time": "2024-08-19T16:59:19.151Z"
   },
   {
    "duration": 173,
    "start_time": "2024-08-19T16:59:19.360Z"
   },
   {
    "duration": 1506,
    "start_time": "2024-08-19T16:59:19.535Z"
   },
   {
    "duration": 6,
    "start_time": "2024-08-19T16:59:21.043Z"
   },
   {
    "duration": 11,
    "start_time": "2024-08-19T16:59:21.051Z"
   },
   {
    "duration": 1299,
    "start_time": "2024-08-19T16:59:21.064Z"
   },
   {
    "duration": 4266,
    "start_time": "2024-08-19T16:59:22.365Z"
   },
   {
    "duration": 798,
    "start_time": "2024-08-19T16:59:26.632Z"
   },
   {
    "duration": 8,
    "start_time": "2024-08-19T16:59:27.432Z"
   },
   {
    "duration": 2090,
    "start_time": "2024-08-19T16:59:27.441Z"
   },
   {
    "duration": 520,
    "start_time": "2024-08-19T16:59:29.533Z"
   },
   {
    "duration": 6,
    "start_time": "2024-08-19T16:59:30.057Z"
   },
   {
    "duration": 163,
    "start_time": "2024-08-19T16:59:30.064Z"
   },
   {
    "duration": 3,
    "start_time": "2024-08-19T16:59:30.229Z"
   },
   {
    "duration": 36,
    "start_time": "2024-08-19T16:59:30.234Z"
   },
   {
    "duration": 2159,
    "start_time": "2024-08-19T16:59:30.272Z"
   },
   {
    "duration": 1307,
    "start_time": "2024-08-19T16:59:32.433Z"
   },
   {
    "duration": 201,
    "start_time": "2024-08-19T16:59:33.741Z"
   },
   {
    "duration": 96,
    "start_time": "2024-08-19T16:59:33.945Z"
   },
   {
    "duration": 321,
    "start_time": "2024-08-19T16:59:34.042Z"
   },
   {
    "duration": 0,
    "start_time": "2024-08-19T16:59:34.365Z"
   },
   {
    "duration": 0,
    "start_time": "2024-08-19T16:59:34.367Z"
   },
   {
    "duration": 0,
    "start_time": "2024-08-19T16:59:34.425Z"
   },
   {
    "duration": 0,
    "start_time": "2024-08-19T16:59:34.427Z"
   },
   {
    "duration": 0,
    "start_time": "2024-08-19T16:59:34.429Z"
   },
   {
    "duration": 0,
    "start_time": "2024-08-19T16:59:34.431Z"
   },
   {
    "duration": 0,
    "start_time": "2024-08-19T16:59:34.433Z"
   },
   {
    "duration": 0,
    "start_time": "2024-08-19T16:59:34.434Z"
   },
   {
    "duration": 0,
    "start_time": "2024-08-19T16:59:34.435Z"
   },
   {
    "duration": 0,
    "start_time": "2024-08-19T16:59:34.438Z"
   },
   {
    "duration": 0,
    "start_time": "2024-08-19T16:59:34.440Z"
   },
   {
    "duration": 0,
    "start_time": "2024-08-19T16:59:34.441Z"
   },
   {
    "duration": 0,
    "start_time": "2024-08-19T16:59:34.443Z"
   },
   {
    "duration": 0,
    "start_time": "2024-08-19T16:59:34.445Z"
   },
   {
    "duration": 0,
    "start_time": "2024-08-19T16:59:34.446Z"
   },
   {
    "duration": 0,
    "start_time": "2024-08-19T16:59:34.447Z"
   },
   {
    "duration": 4566,
    "start_time": "2024-08-19T17:00:05.499Z"
   },
   {
    "duration": 6,
    "start_time": "2024-08-19T17:00:10.068Z"
   },
   {
    "duration": 13,
    "start_time": "2024-08-19T17:00:10.076Z"
   },
   {
    "duration": 14913,
    "start_time": "2024-08-19T17:00:10.092Z"
   },
   {
    "duration": 12348,
    "start_time": "2024-08-19T17:00:25.008Z"
   },
   {
    "duration": 872,
    "start_time": "2024-08-19T17:00:37.359Z"
   },
   {
    "duration": 1663,
    "start_time": "2024-08-19T17:00:38.233Z"
   },
   {
    "duration": 5,
    "start_time": "2024-08-19T17:00:39.898Z"
   },
   {
    "duration": 4948,
    "start_time": "2024-08-19T17:00:39.904Z"
   },
   {
    "duration": 5214,
    "start_time": "2024-08-19T17:00:44.924Z"
   },
   {
    "duration": 803,
    "start_time": "2024-08-19T17:00:50.141Z"
   },
   {
    "duration": 3790,
    "start_time": "2024-08-19T17:00:50.946Z"
   },
   {
    "duration": 3,
    "start_time": "2024-08-19T17:00:54.738Z"
   },
   {
    "duration": 1620,
    "start_time": "2024-08-19T17:00:54.742Z"
   },
   {
    "duration": 3006,
    "start_time": "2024-08-19T17:00:56.425Z"
   },
   {
    "duration": 1638,
    "start_time": "2024-08-19T17:00:59.432Z"
   },
   {
    "duration": 136,
    "start_time": "2024-08-19T17:01:01.123Z"
   },
   {
    "duration": 164,
    "start_time": "2024-08-19T17:01:01.261Z"
   },
   {
    "duration": 1401,
    "start_time": "2024-08-19T17:01:01.427Z"
   },
   {
    "duration": 7,
    "start_time": "2024-08-19T17:01:02.830Z"
   },
   {
    "duration": 13,
    "start_time": "2024-08-19T17:01:02.838Z"
   },
   {
    "duration": 1218,
    "start_time": "2024-08-19T17:01:02.853Z"
   },
   {
    "duration": 3661,
    "start_time": "2024-08-19T17:01:04.073Z"
   },
   {
    "duration": 711,
    "start_time": "2024-08-19T17:01:07.735Z"
   },
   {
    "duration": 8,
    "start_time": "2024-08-19T17:01:08.448Z"
   },
   {
    "duration": 1666,
    "start_time": "2024-08-19T17:01:08.458Z"
   },
   {
    "duration": 704,
    "start_time": "2024-08-19T17:01:10.126Z"
   },
   {
    "duration": 7,
    "start_time": "2024-08-19T17:01:10.833Z"
   },
   {
    "duration": 118,
    "start_time": "2024-08-19T17:01:10.842Z"
   },
   {
    "duration": 4,
    "start_time": "2024-08-19T17:01:10.962Z"
   },
   {
    "duration": 11,
    "start_time": "2024-08-19T17:01:11.024Z"
   },
   {
    "duration": 2402,
    "start_time": "2024-08-19T17:01:11.037Z"
   },
   {
    "duration": 1388,
    "start_time": "2024-08-19T17:01:13.441Z"
   },
   {
    "duration": 116,
    "start_time": "2024-08-19T17:01:14.831Z"
   },
   {
    "duration": 94,
    "start_time": "2024-08-19T17:01:14.950Z"
   },
   {
    "duration": 791,
    "start_time": "2024-08-19T17:01:15.047Z"
   },
   {
    "duration": 1093,
    "start_time": "2024-08-19T17:01:15.840Z"
   },
   {
    "duration": 2089,
    "start_time": "2024-08-19T17:01:16.935Z"
   },
   {
    "duration": 598,
    "start_time": "2024-08-19T17:01:19.026Z"
   },
   {
    "duration": 9,
    "start_time": "2024-08-19T17:01:19.626Z"
   },
   {
    "duration": 1823,
    "start_time": "2024-08-19T17:01:19.637Z"
   },
   {
    "duration": 567,
    "start_time": "2024-08-19T17:01:21.462Z"
   },
   {
    "duration": 6,
    "start_time": "2024-08-19T17:01:22.031Z"
   },
   {
    "duration": 12,
    "start_time": "2024-08-19T17:01:22.038Z"
   },
   {
    "duration": 4,
    "start_time": "2024-08-19T17:01:22.051Z"
   },
   {
    "duration": 210,
    "start_time": "2024-08-19T17:01:22.056Z"
   },
   {
    "duration": 5,
    "start_time": "2024-08-19T17:01:22.268Z"
   },
   {
    "duration": 24,
    "start_time": "2024-08-19T17:01:22.274Z"
   },
   {
    "duration": 198,
    "start_time": "2024-08-19T17:01:22.303Z"
   },
   {
    "duration": 23,
    "start_time": "2024-08-19T17:01:22.502Z"
   },
   {
    "duration": 166,
    "start_time": "2024-08-19T17:01:22.526Z"
   },
   {
    "duration": 637,
    "start_time": "2024-08-19T17:01:22.694Z"
   },
   {
    "duration": 74,
    "start_time": "2024-08-19T17:09:40.361Z"
   },
   {
    "duration": 4176,
    "start_time": "2024-08-19T17:15:05.103Z"
   },
   {
    "duration": 6,
    "start_time": "2024-08-19T17:15:09.281Z"
   },
   {
    "duration": 8,
    "start_time": "2024-08-19T17:15:09.288Z"
   },
   {
    "duration": 14906,
    "start_time": "2024-08-19T17:15:09.297Z"
   },
   {
    "duration": 12750,
    "start_time": "2024-08-19T17:15:24.205Z"
   },
   {
    "duration": 1183,
    "start_time": "2024-08-19T17:15:36.957Z"
   },
   {
    "duration": 6,
    "start_time": "2024-08-19T17:15:38.142Z"
   },
   {
    "duration": 5,
    "start_time": "2024-08-19T17:15:38.150Z"
   },
   {
    "duration": 6196,
    "start_time": "2024-08-19T17:15:38.157Z"
   },
   {
    "duration": 5681,
    "start_time": "2024-08-19T17:15:44.357Z"
   },
   {
    "duration": 913,
    "start_time": "2024-08-19T17:15:50.043Z"
   },
   {
    "duration": 3796,
    "start_time": "2024-08-19T17:15:50.958Z"
   },
   {
    "duration": 3,
    "start_time": "2024-08-19T17:15:54.756Z"
   },
   {
    "duration": 2210,
    "start_time": "2024-08-19T17:15:54.828Z"
   },
   {
    "duration": 3226,
    "start_time": "2024-08-19T17:15:57.040Z"
   },
   {
    "duration": 1817,
    "start_time": "2024-08-19T17:16:00.325Z"
   },
   {
    "duration": 214,
    "start_time": "2024-08-19T17:16:02.144Z"
   },
   {
    "duration": 164,
    "start_time": "2024-08-19T17:16:02.360Z"
   },
   {
    "duration": 1405,
    "start_time": "2024-08-19T17:16:02.526Z"
   },
   {
    "duration": 8,
    "start_time": "2024-08-19T17:16:03.932Z"
   },
   {
    "duration": 15,
    "start_time": "2024-08-19T17:16:03.942Z"
   },
   {
    "duration": 1366,
    "start_time": "2024-08-19T17:16:03.959Z"
   },
   {
    "duration": 4112,
    "start_time": "2024-08-19T17:16:05.327Z"
   },
   {
    "duration": 784,
    "start_time": "2024-08-19T17:16:09.441Z"
   },
   {
    "duration": 19,
    "start_time": "2024-08-19T17:16:10.228Z"
   },
   {
    "duration": 1788,
    "start_time": "2024-08-19T17:16:10.249Z"
   },
   {
    "duration": 620,
    "start_time": "2024-08-19T17:16:12.039Z"
   },
   {
    "duration": 5,
    "start_time": "2024-08-19T17:16:12.663Z"
   },
   {
    "duration": 168,
    "start_time": "2024-08-19T17:16:12.669Z"
   },
   {
    "duration": 4,
    "start_time": "2024-08-19T17:16:12.838Z"
   },
   {
    "duration": 17,
    "start_time": "2024-08-19T17:16:12.843Z"
   },
   {
    "duration": 2062,
    "start_time": "2024-08-19T17:16:12.862Z"
   },
   {
    "duration": 1600,
    "start_time": "2024-08-19T17:16:14.926Z"
   },
   {
    "duration": 111,
    "start_time": "2024-08-19T17:16:16.528Z"
   },
   {
    "duration": 100,
    "start_time": "2024-08-19T17:16:16.641Z"
   },
   {
    "duration": 1113,
    "start_time": "2024-08-19T17:16:16.742Z"
   },
   {
    "duration": 1244,
    "start_time": "2024-08-19T17:16:17.857Z"
   },
   {
    "duration": 2655,
    "start_time": "2024-08-19T17:16:19.103Z"
   },
   {
    "duration": 699,
    "start_time": "2024-08-19T17:16:21.760Z"
   },
   {
    "duration": 6,
    "start_time": "2024-08-19T17:16:22.461Z"
   },
   {
    "duration": 1882,
    "start_time": "2024-08-19T17:16:22.469Z"
   },
   {
    "duration": 683,
    "start_time": "2024-08-19T17:16:24.353Z"
   },
   {
    "duration": 6,
    "start_time": "2024-08-19T17:16:25.038Z"
   },
   {
    "duration": 18,
    "start_time": "2024-08-19T17:16:25.046Z"
   },
   {
    "duration": 4,
    "start_time": "2024-08-19T17:16:25.065Z"
   },
   {
    "duration": 235,
    "start_time": "2024-08-19T17:16:25.071Z"
   },
   {
    "duration": 5,
    "start_time": "2024-08-19T17:16:25.308Z"
   },
   {
    "duration": 21,
    "start_time": "2024-08-19T17:16:25.314Z"
   },
   {
    "duration": 195,
    "start_time": "2024-08-19T17:16:25.337Z"
   },
   {
    "duration": 11,
    "start_time": "2024-08-19T17:16:25.534Z"
   },
   {
    "duration": 196,
    "start_time": "2024-08-19T17:16:25.547Z"
   },
   {
    "duration": 290,
    "start_time": "2024-08-19T17:16:25.745Z"
   }
  ],
  "colab": {
   "name": "PySparkSprint.ipynb",
   "provenance": []
  },
  "kernelspec": {
   "display_name": "Python 3 (ipykernel)",
   "language": "python",
   "name": "python3"
  },
  "language_info": {
   "codemirror_mode": {
    "name": "ipython",
    "version": 3
   },
   "file_extension": ".py",
   "mimetype": "text/x-python",
   "name": "python",
   "nbconvert_exporter": "python",
   "pygments_lexer": "ipython3",
   "version": "3.11.7"
  },
  "toc": {
   "base_numbering": 1,
   "nav_menu": {},
   "number_sections": true,
   "sideBar": true,
   "skip_h1_title": true,
   "title_cell": "Table of Contents",
   "title_sidebar": "Contents",
   "toc_cell": false,
   "toc_position": {},
   "toc_section_display": true,
   "toc_window_display": false
  }
 },
 "nbformat": 4,
 "nbformat_minor": 5
}
