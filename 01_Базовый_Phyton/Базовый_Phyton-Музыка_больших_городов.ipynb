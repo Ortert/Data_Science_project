{
 "cells": [
  {
   "cell_type": "markdown",
   "metadata": {
    "deletable": false,
    "editable": false,
    "id": "E0vqbgi9ay0H"
   },
   "source": [
    "# Яндекс Музыка"
   ]
  },
  {
   "cell_type": "markdown",
   "metadata": {
    "deletable": false,
    "editable": false,
    "id": "VUC88oWjTJw2"
   },
   "source": [
    "Сравнение Москвы и Петербурга окружено мифами. Например:\n",
    " * Москва — мегаполис, подчинённый жёсткому ритму рабочей недели;\n",
    " * Петербург — культурная столица, со своими вкусами.\n",
    "\n",
    "На данных Яндекс Музыки вы сравните поведение пользователей двух столиц.\n",
    "\n",
    "**Цель исследования** — проверьте три гипотезы:\n",
    "1. Активность пользователей зависит от дня недели. Причём в Москве и Петербурге это проявляется по-разному.\n",
    "2. В понедельник утром в Москве преобладают одни жанры, а в Петербурге — другие. Так же и вечером пятницы преобладают разные жанры — в зависимости от города.\n",
    "3. Москва и Петербург предпочитают разные жанры музыки. В Москве чаще слушают поп-музыку, в Петербурге — русский рэп.\n",
    "\n",
    "**Ход исследования**\n",
    "\n",
    "Данные о поведении пользователей вы получите из файла `yandex_music_project.csv`. О качестве данных ничего не известно. Поэтому перед проверкой гипотез понадобится обзор данных.\n",
    "\n",
    "Вы проверите данные на ошибки и оцените их влияние на исследование. Затем, на этапе предобработки вы поищете возможность исправить самые критичные ошибки данных.\n",
    "\n",
    "Таким образом, исследование пройдёт в три этапа:\n",
    " 1. Обзор данных.\n",
    " 2. Предобработка данных.\n",
    " 3. Проверка гипотез.\n",
    "\n"
   ]
  },
  {
   "cell_type": "markdown",
   "metadata": {
    "deletable": false,
    "editable": false,
    "id": "Ml1hmfXC_Zcs"
   },
   "source": [
    "## Обзор данных\n",
    "\n",
    "Составьте первое представление о данных Яндекс Музыки.\n",
    "\n",
    "\n"
   ]
  },
  {
   "cell_type": "markdown",
   "metadata": {
    "deletable": false,
    "editable": false,
    "id": "57eAOGIz_Zcs",
    "tags": [
     "start_task"
    ]
   },
   "source": [
    "**Задание 1**\n",
    "\n",
    "Основной инструмент аналитика — `pandas`. Импортируйте эту библиотеку."
   ]
  },
  {
   "cell_type": "code",
   "execution_count": 3,
   "metadata": {
    "deletable": false,
    "id": "AXN7PHPN_Zcs"
   },
   "outputs": [],
   "source": [
    "import pandas as pd # импорт библиотеки pandas"
   ]
  },
  {
   "cell_type": "markdown",
   "metadata": {
    "deletable": false,
    "editable": false,
    "id": "SG23P8tt_Zcs",
    "tags": [
     "start_task"
    ]
   },
   "source": [
    "**Задание 2**\n",
    "\n",
    "Прочитайте файл `yandex_music_project.csv` из папки `/datasets` и сохраните его в переменной `df`:"
   ]
  },
  {
   "cell_type": "code",
   "execution_count": 4,
   "metadata": {
    "deletable": false,
    "id": "fFVu7vqh_Zct"
   },
   "outputs": [],
   "source": [
    "df = pd.read_csv('/datasets/yandex_music_project.csv') # чтение файла с данными и сохранение в df"
   ]
  },
  {
   "cell_type": "markdown",
   "metadata": {
    "deletable": false,
    "editable": false,
    "id": "rDoOMd3uTqnZ",
    "tags": [
     "start_task"
    ]
   },
   "source": [
    "**Задание 3**\n",
    "\n",
    "\n",
    "Выведите на экран первые десять строк таблицы:"
   ]
  },
  {
   "cell_type": "code",
   "execution_count": 5,
   "metadata": {
    "deletable": false,
    "id": "oWTVX3gW_Zct"
   },
   "outputs": [
    {
     "data": {
      "text/html": [
       "<div>\n",
       "<style scoped>\n",
       "    .dataframe tbody tr th:only-of-type {\n",
       "        vertical-align: middle;\n",
       "    }\n",
       "\n",
       "    .dataframe tbody tr th {\n",
       "        vertical-align: top;\n",
       "    }\n",
       "\n",
       "    .dataframe thead th {\n",
       "        text-align: right;\n",
       "    }\n",
       "</style>\n",
       "<table border=\"1\" class=\"dataframe\">\n",
       "  <thead>\n",
       "    <tr style=\"text-align: right;\">\n",
       "      <th></th>\n",
       "      <th>userID</th>\n",
       "      <th>Track</th>\n",
       "      <th>artist</th>\n",
       "      <th>genre</th>\n",
       "      <th>City</th>\n",
       "      <th>time</th>\n",
       "      <th>Day</th>\n",
       "    </tr>\n",
       "  </thead>\n",
       "  <tbody>\n",
       "    <tr>\n",
       "      <th>0</th>\n",
       "      <td>FFB692EC</td>\n",
       "      <td>Kamigata To Boots</td>\n",
       "      <td>The Mass Missile</td>\n",
       "      <td>rock</td>\n",
       "      <td>Saint-Petersburg</td>\n",
       "      <td>20:28:33</td>\n",
       "      <td>Wednesday</td>\n",
       "    </tr>\n",
       "    <tr>\n",
       "      <th>1</th>\n",
       "      <td>55204538</td>\n",
       "      <td>Delayed Because of Accident</td>\n",
       "      <td>Andreas Rönnberg</td>\n",
       "      <td>rock</td>\n",
       "      <td>Moscow</td>\n",
       "      <td>14:07:09</td>\n",
       "      <td>Friday</td>\n",
       "    </tr>\n",
       "    <tr>\n",
       "      <th>2</th>\n",
       "      <td>20EC38</td>\n",
       "      <td>Funiculì funiculà</td>\n",
       "      <td>Mario Lanza</td>\n",
       "      <td>pop</td>\n",
       "      <td>Saint-Petersburg</td>\n",
       "      <td>20:58:07</td>\n",
       "      <td>Wednesday</td>\n",
       "    </tr>\n",
       "    <tr>\n",
       "      <th>3</th>\n",
       "      <td>A3DD03C9</td>\n",
       "      <td>Dragons in the Sunset</td>\n",
       "      <td>Fire + Ice</td>\n",
       "      <td>folk</td>\n",
       "      <td>Saint-Petersburg</td>\n",
       "      <td>08:37:09</td>\n",
       "      <td>Monday</td>\n",
       "    </tr>\n",
       "    <tr>\n",
       "      <th>4</th>\n",
       "      <td>E2DC1FAE</td>\n",
       "      <td>Soul People</td>\n",
       "      <td>Space Echo</td>\n",
       "      <td>dance</td>\n",
       "      <td>Moscow</td>\n",
       "      <td>08:34:34</td>\n",
       "      <td>Monday</td>\n",
       "    </tr>\n",
       "    <tr>\n",
       "      <th>5</th>\n",
       "      <td>842029A1</td>\n",
       "      <td>Преданная</td>\n",
       "      <td>IMPERVTOR</td>\n",
       "      <td>rusrap</td>\n",
       "      <td>Saint-Petersburg</td>\n",
       "      <td>13:09:41</td>\n",
       "      <td>Friday</td>\n",
       "    </tr>\n",
       "    <tr>\n",
       "      <th>6</th>\n",
       "      <td>4CB90AA5</td>\n",
       "      <td>True</td>\n",
       "      <td>Roman Messer</td>\n",
       "      <td>dance</td>\n",
       "      <td>Moscow</td>\n",
       "      <td>13:00:07</td>\n",
       "      <td>Wednesday</td>\n",
       "    </tr>\n",
       "    <tr>\n",
       "      <th>7</th>\n",
       "      <td>F03E1C1F</td>\n",
       "      <td>Feeling This Way</td>\n",
       "      <td>Polina Griffith</td>\n",
       "      <td>dance</td>\n",
       "      <td>Moscow</td>\n",
       "      <td>20:47:49</td>\n",
       "      <td>Wednesday</td>\n",
       "    </tr>\n",
       "    <tr>\n",
       "      <th>8</th>\n",
       "      <td>8FA1D3BE</td>\n",
       "      <td>И вновь продолжается бой</td>\n",
       "      <td>NaN</td>\n",
       "      <td>ruspop</td>\n",
       "      <td>Moscow</td>\n",
       "      <td>09:17:40</td>\n",
       "      <td>Friday</td>\n",
       "    </tr>\n",
       "    <tr>\n",
       "      <th>9</th>\n",
       "      <td>E772D5C0</td>\n",
       "      <td>Pessimist</td>\n",
       "      <td>NaN</td>\n",
       "      <td>dance</td>\n",
       "      <td>Saint-Petersburg</td>\n",
       "      <td>21:20:49</td>\n",
       "      <td>Wednesday</td>\n",
       "    </tr>\n",
       "  </tbody>\n",
       "</table>\n",
       "</div>"
      ],
      "text/plain": [
       "     userID                        Track            artist   genre  \\\n",
       "0  FFB692EC            Kamigata To Boots  The Mass Missile    rock   \n",
       "1  55204538  Delayed Because of Accident  Andreas Rönnberg    rock   \n",
       "2    20EC38            Funiculì funiculà       Mario Lanza     pop   \n",
       "3  A3DD03C9        Dragons in the Sunset        Fire + Ice    folk   \n",
       "4  E2DC1FAE                  Soul People        Space Echo   dance   \n",
       "5  842029A1                    Преданная         IMPERVTOR  rusrap   \n",
       "6  4CB90AA5                         True      Roman Messer   dance   \n",
       "7  F03E1C1F             Feeling This Way   Polina Griffith   dance   \n",
       "8  8FA1D3BE     И вновь продолжается бой               NaN  ruspop   \n",
       "9  E772D5C0                    Pessimist               NaN   dance   \n",
       "\n",
       "             City        time        Day  \n",
       "0  Saint-Petersburg  20:28:33  Wednesday  \n",
       "1            Moscow  14:07:09     Friday  \n",
       "2  Saint-Petersburg  20:58:07  Wednesday  \n",
       "3  Saint-Petersburg  08:37:09     Monday  \n",
       "4            Moscow  08:34:34     Monday  \n",
       "5  Saint-Petersburg  13:09:41     Friday  \n",
       "6            Moscow  13:00:07  Wednesday  \n",
       "7            Moscow  20:47:49  Wednesday  \n",
       "8            Moscow  09:17:40     Friday  \n",
       "9  Saint-Petersburg  21:20:49  Wednesday  "
      ]
     },
     "execution_count": 5,
     "metadata": {},
     "output_type": "execute_result"
    }
   ],
   "source": [
    "df.head(10) # получение первых 10 строк таблицы df"
   ]
  },
  {
   "cell_type": "markdown",
   "metadata": {
    "deletable": false,
    "editable": false,
    "id": "EO73Kwic_Zct",
    "tags": [
     "start_task"
    ]
   },
   "source": [
    "**Задание 4**\n",
    "\n",
    "\n",
    "Одной командой получить общую информацию о таблице c помощью метода `info()`:"
   ]
  },
  {
   "cell_type": "code",
   "execution_count": 6,
   "metadata": {
    "deletable": false,
    "id": "DSf2kIb-_Zct"
   },
   "outputs": [
    {
     "name": "stdout",
     "output_type": "stream",
     "text": [
      "<class 'pandas.core.frame.DataFrame'>\n",
      "RangeIndex: 65079 entries, 0 to 65078\n",
      "Data columns (total 7 columns):\n",
      " #   Column    Non-Null Count  Dtype \n",
      "---  ------    --------------  ----- \n",
      " 0     userID  65079 non-null  object\n",
      " 1   Track     63848 non-null  object\n",
      " 2   artist    57876 non-null  object\n",
      " 3   genre     63881 non-null  object\n",
      " 4     City    65079 non-null  object\n",
      " 5   time      65079 non-null  object\n",
      " 6   Day       65079 non-null  object\n",
      "dtypes: object(7)\n",
      "memory usage: 3.5+ MB\n"
     ]
    }
   ],
   "source": [
    "df.info() # получение общей информации о данных в таблице df"
   ]
  },
  {
   "cell_type": "markdown",
   "metadata": {
    "deletable": false,
    "editable": false,
    "id": "TaQ2Iwbr_Zct"
   },
   "source": [
    "Итак, в таблице семь столбцов. Тип данных во всех столбцах — `object`.\n",
    "\n",
    "Согласно документации к данным:\n",
    "* `userID` — идентификатор пользователя;\n",
    "* `Track` — название трека;  \n",
    "* `artist` — имя исполнителя;\n",
    "* `genre` — название жанра;\n",
    "* `City` — город пользователя;\n",
    "* `time` — время начала прослушивания;\n",
    "* `Day` — день недели.\n",
    "\n",
    "Количество значений в столбцах различается. Значит, в данных есть пропущенные значения."
   ]
  },
  {
   "cell_type": "markdown",
   "metadata": {
    "deletable": false,
    "editable": false,
    "id": "4P0UCWzswgEm",
    "tags": [
     "start_task"
    ]
   },
   "source": [
    "**Задание 5**\n",
    "\n",
    "**Вопрос со свободной формой ответа**\n",
    "\n",
    "В названиях колонок видны три нарушения стиля:\n",
    "1. Строчные буквы сочетаются с прописными.\n",
    "2. Встречаются пробелы."
   ]
  },
  {
   "cell_type": "code",
   "execution_count": 7,
   "metadata": {
    "id": "c137-ZstwgEm"
   },
   "outputs": [],
   "source": [
    "#Отсутствует \"змеиный\" регистр Напишите ваш ответ здесь комментарием. Не удаляйте символ #. Не меняйте тип этой ячейки на Markdown."
   ]
  },
  {
   "cell_type": "markdown",
   "metadata": {
    "deletable": false,
    "editable": false,
    "id": "MCB6-dXG_Zct"
   },
   "source": [
    "**Выводы**\n",
    "\n",
    "В каждой строке таблицы — данные о прослушанном треке. Часть колонок описывает саму композицию: название, исполнителя и жанр. Остальные данные рассказывают о пользователе: из какого он города, когда он слушал музыку.\n",
    "\n",
    "Предварительно можно утверждать, что данных достаточно для проверки гипотез. Но встречаются пропуски в данных, а в названиях колонок — расхождения с хорошим стилем.\n",
    "\n",
    "Чтобы двигаться дальше, нужно устранить проблемы в данных."
   ]
  },
  {
   "cell_type": "markdown",
   "metadata": {
    "deletable": false,
    "editable": false,
    "id": "SjYF6Ub9_Zct"
   },
   "source": [
    "## Предобработка данных\n",
    "Исправьте стиль в заголовках столбцов, исключите пропуски. Затем проверьте данные на дубликаты."
   ]
  },
  {
   "cell_type": "markdown",
   "metadata": {
    "deletable": false,
    "editable": false,
    "id": "dIaKXr29_Zct",
    "tags": [
     "start_task"
    ]
   },
   "source": [
    "### Стиль заголовков\n",
    "\n",
    "**Задание 6**\n",
    "\n",
    "Выведите на экран названия столбцов:"
   ]
  },
  {
   "cell_type": "code",
   "execution_count": 8,
   "metadata": {
    "deletable": false,
    "id": "oKOTdF_Q_Zct"
   },
   "outputs": [
    {
     "data": {
      "text/plain": [
       "Index(['  userID', 'Track', 'artist', 'genre', '  City  ', 'time', 'Day'], dtype='object')"
      ]
     },
     "execution_count": 8,
     "metadata": {},
     "output_type": "execute_result"
    }
   ],
   "source": [
    "df.columns # перечень названий столбцов таблицы df"
   ]
  },
  {
   "cell_type": "markdown",
   "metadata": {
    "deletable": false,
    "editable": false,
    "id": "zj5534cv_Zct",
    "tags": [
     "start_task"
    ]
   },
   "source": [
    "**Задание 7**\n",
    "\n",
    "\n",
    "Приведите названия в соответствие с хорошим стилем:\n",
    "* несколько слов в названии запишите в «змеином_регистре»,\n",
    "* все символы сделайте строчными,\n",
    "* устраните пробелы.\n",
    "\n",
    "Для этого переименуйте колонки так:\n",
    "* `'  userID'` → `'user_id'`;\n",
    "* `'Track'` → `'track'`;\n",
    "* `'  City  '` → `'city'`;\n",
    "* `'Day'` → `'day'`."
   ]
  },
  {
   "cell_type": "code",
   "execution_count": 9,
   "metadata": {
    "deletable": false,
    "id": "ISlFqs5y_Zct"
   },
   "outputs": [],
   "source": [
    "df = df.rename(columns={'  userID': 'user_id', 'Track': 'track', '  City  ': 'city', 'Day': 'day'}) # переименование столбцов"
   ]
  },
  {
   "cell_type": "markdown",
   "metadata": {
    "deletable": false,
    "editable": false,
    "id": "1dqbh00J_Zct",
    "tags": [
     "start_task"
    ]
   },
   "source": [
    "**Задание 8**\n",
    "\n",
    "\n",
    "Проверьте результат. Для этого ещё раз выведите на экран названия столбцов:"
   ]
  },
  {
   "cell_type": "code",
   "execution_count": 10,
   "metadata": {
    "deletable": false,
    "id": "d4NOAmTW_Zct"
   },
   "outputs": [
    {
     "data": {
      "text/plain": [
       "Index(['user_id', 'track', 'artist', 'genre', 'city', 'time', 'day'], dtype='object')"
      ]
     },
     "execution_count": 10,
     "metadata": {},
     "output_type": "execute_result"
    }
   ],
   "source": [
    "df.columns # проверка результатов - перечень названий столбцов"
   ]
  },
  {
   "cell_type": "markdown",
   "metadata": {
    "deletable": false,
    "editable": false,
    "id": "5ISfbcfY_Zct",
    "tags": [
     "start_task"
    ]
   },
   "source": [
    "### Пропуски значений\n",
    "\n",
    "**Задание 9**\n",
    "\n",
    "Сначала посчитайте, сколько в таблице пропущенных значений. Для этого достаточно двух методов `pandas`:"
   ]
  },
  {
   "cell_type": "code",
   "execution_count": 11,
   "metadata": {
    "deletable": false,
    "id": "RskX29qr_Zct"
   },
   "outputs": [
    {
     "data": {
      "text/plain": [
       "user_id       0\n",
       "track      1231\n",
       "artist     7203\n",
       "genre      1198\n",
       "city          0\n",
       "time          0\n",
       "day           0\n",
       "dtype: int64"
      ]
     },
     "execution_count": 11,
     "metadata": {},
     "output_type": "execute_result"
    }
   ],
   "source": [
    "df.isna().sum() # подсчёт пропусков"
   ]
  },
  {
   "cell_type": "markdown",
   "metadata": {
    "deletable": false,
    "editable": false,
    "id": "qubhgnlO_Zct"
   },
   "source": [
    "Не все пропущенные значения влияют на исследование. Так, в `track` и `artist` пропуски не важны для вашей работы. Достаточно заменить их явными обозначениями.\n",
    "\n",
    "Но пропуски в `genre` могут помешать сравнить музыкальные вкусы в Москве и Санкт-Петербурге. На практике было бы правильно установить причину пропусков и восстановить данные. Такой возможности нет в учебном проекте. Поэтому придётся:\n",
    "* заполнить и эти пропуски явными обозначениями;\n",
    "* оценить, насколько они повредят расчётам."
   ]
  },
  {
   "cell_type": "markdown",
   "metadata": {
    "deletable": false,
    "editable": false,
    "id": "fSv2laPA_Zct",
    "tags": [
     "start_task"
    ]
   },
   "source": [
    "**Задание 10**\n",
    "\n",
    "Замените пропущенные значения в столбцах `track`, `artist` и `genre` на строку `'unknown'`. Для этого создайте список `columns_to_replace`, переберите его элементы циклом `for` и для каждого столбца выполните замену пропущенных значений:"
   ]
  },
  {
   "cell_type": "code",
   "execution_count": 12,
   "metadata": {
    "deletable": false,
    "id": "KplB5qWs_Zct"
   },
   "outputs": [],
   "source": [
    "columns_to_replace = ['track', 'artist', 'genre'] # перебор названий столбцов в цикле и замена пропущенных значений на 'unknown'\n",
    "for column in columns_to_replace:\n",
    "    df[column] = df[column].fillna('unknown')"
   ]
  },
  {
   "cell_type": "markdown",
   "metadata": {
    "deletable": false,
    "editable": false,
    "id": "Ilsm-MZo_Zct",
    "tags": [
     "start_task"
    ]
   },
   "source": [
    "**Задание 11**\n",
    "\n",
    "Убедитесь, что в таблице не осталось пропусков. Для этого ещё раз посчитайте пропущенные значения."
   ]
  },
  {
   "cell_type": "code",
   "execution_count": 13,
   "metadata": {
    "deletable": false,
    "id": "Tq4nYRX4_Zct"
   },
   "outputs": [
    {
     "data": {
      "text/plain": [
       "user_id    0\n",
       "track      0\n",
       "artist     0\n",
       "genre      0\n",
       "city       0\n",
       "time       0\n",
       "day        0\n",
       "dtype: int64"
      ]
     },
     "execution_count": 13,
     "metadata": {},
     "output_type": "execute_result"
    }
   ],
   "source": [
    "df.isna().sum() # подсчёт пропусков"
   ]
  },
  {
   "cell_type": "markdown",
   "metadata": {
    "deletable": false,
    "editable": false,
    "id": "BWKRtBJ3_Zct",
    "tags": [
     "start_task"
    ]
   },
   "source": [
    "### Дубликаты\n",
    "\n",
    "**Задание 12**\n",
    "\n",
    "Посчитайте явные дубликаты в таблице одной командой:"
   ]
  },
  {
   "cell_type": "code",
   "execution_count": 14,
   "metadata": {
    "deletable": false,
    "id": "36eES_S0_Zct"
   },
   "outputs": [
    {
     "data": {
      "text/plain": [
       "3826"
      ]
     },
     "execution_count": 14,
     "metadata": {},
     "output_type": "execute_result"
    }
   ],
   "source": [
    "df.duplicated().sum() # подсчёт явных дубликатов"
   ]
  },
  {
   "cell_type": "markdown",
   "metadata": {
    "deletable": false,
    "editable": false,
    "id": "Ot25h6XR_Zct",
    "tags": [
     "start_task"
    ]
   },
   "source": [
    "**Задание 13**\n",
    "\n",
    "Вызовите специальный метод `pandas`, чтобы удалить явные дубликаты:"
   ]
  },
  {
   "cell_type": "code",
   "execution_count": 15,
   "metadata": {
    "deletable": false,
    "id": "exFHq6tt_Zct"
   },
   "outputs": [],
   "source": [
    "df = df.drop_duplicates() # удаление явных дубликатов"
   ]
  },
  {
   "cell_type": "markdown",
   "metadata": {
    "deletable": false,
    "editable": false,
    "id": "Im2YwBEG_Zct",
    "tags": [
     "start_task"
    ]
   },
   "source": [
    "**Задание 14**\n",
    "\n",
    "Ещё раз посчитайте явные дубликаты в таблице — убедитесь, что полностью от них избавились:"
   ]
  },
  {
   "cell_type": "code",
   "execution_count": 16,
   "metadata": {
    "deletable": false,
    "id": "-8PuNWQ0_Zct"
   },
   "outputs": [
    {
     "data": {
      "text/plain": [
       "0"
      ]
     },
     "execution_count": 16,
     "metadata": {},
     "output_type": "execute_result"
    }
   ],
   "source": [
    "df.duplicated().sum() # проверка на отсутствие дубликатов"
   ]
  },
  {
   "cell_type": "markdown",
   "metadata": {
    "deletable": false,
    "editable": false,
    "id": "QlFBsxAr_Zct"
   },
   "source": [
    "Теперь избавьтесь от неявных дубликатов в колонке `genre`. Например, название одного и того же жанра может быть записано немного по-разному. Такие ошибки тоже повлияют на результат исследования."
   ]
  },
  {
   "cell_type": "markdown",
   "metadata": {
    "deletable": false,
    "editable": false,
    "id": "eSjWwsOh_Zct",
    "tags": [
     "start_task"
    ]
   },
   "source": [
    "**Задание 15**\n",
    "\n",
    "Выведите на экран список уникальных названий жанров, отсортированный в алфавитном порядке. Для этого:\n",
    "* извлеките нужный столбец датафрейма;\n",
    "* примените к нему метод сортировки;\n",
    "* для отсортированного столбца вызовите метод, который вернёт уникальные значения из столбца."
   ]
  },
  {
   "cell_type": "code",
   "execution_count": 17,
   "metadata": {
    "deletable": false,
    "id": "JIUcqzZN_Zct"
   },
   "outputs": [
    {
     "data": {
      "text/plain": [
       "array(['acid', 'acoustic', 'action', 'adult', 'africa', 'afrikaans',\n",
       "       'alternative', 'alternativepunk', 'ambient', 'americana',\n",
       "       'animated', 'anime', 'arabesk', 'arabic', 'arena',\n",
       "       'argentinetango', 'art', 'audiobook', 'author', 'avantgarde',\n",
       "       'axé', 'baile', 'balkan', 'beats', 'bigroom', 'black', 'bluegrass',\n",
       "       'blues', 'bollywood', 'bossa', 'brazilian', 'breakbeat', 'breaks',\n",
       "       'broadway', 'cantautori', 'cantopop', 'canzone', 'caribbean',\n",
       "       'caucasian', 'celtic', 'chamber', 'chanson', 'children', 'chill',\n",
       "       'chinese', 'choral', 'christian', 'christmas', 'classical',\n",
       "       'classicmetal', 'club', 'colombian', 'comedy', 'conjazz',\n",
       "       'contemporary', 'country', 'cuban', 'dance', 'dancehall',\n",
       "       'dancepop', 'dark', 'death', 'deep', 'deutschrock', 'deutschspr',\n",
       "       'dirty', 'disco', 'dnb', 'documentary', 'downbeat', 'downtempo',\n",
       "       'drum', 'dub', 'dubstep', 'eastern', 'easy', 'electronic',\n",
       "       'electropop', 'emo', 'entehno', 'epicmetal', 'estrada', 'ethnic',\n",
       "       'eurofolk', 'european', 'experimental', 'extrememetal', 'fado',\n",
       "       'fairytail', 'film', 'fitness', 'flamenco', 'folk', 'folklore',\n",
       "       'folkmetal', 'folkrock', 'folktronica', 'forró', 'frankreich',\n",
       "       'französisch', 'french', 'funk', 'future', 'gangsta', 'garage',\n",
       "       'german', 'ghazal', 'gitarre', 'glitch', 'gospel', 'gothic',\n",
       "       'grime', 'grunge', 'gypsy', 'handsup', \"hard'n'heavy\", 'hardcore',\n",
       "       'hardstyle', 'hardtechno', 'hip', 'hip-hop', 'hiphop',\n",
       "       'historisch', 'holiday', 'hop', 'horror', 'house', 'hymn', 'idm',\n",
       "       'independent', 'indian', 'indie', 'indipop', 'industrial',\n",
       "       'inspirational', 'instrumental', 'international', 'irish', 'jam',\n",
       "       'japanese', 'jazz', 'jewish', 'jpop', 'jungle', 'k-pop',\n",
       "       'karadeniz', 'karaoke', 'kayokyoku', 'korean', 'laiko', 'latin',\n",
       "       'latino', 'leftfield', 'local', 'lounge', 'loungeelectronic',\n",
       "       'lovers', 'malaysian', 'mandopop', 'marschmusik', 'meditative',\n",
       "       'mediterranean', 'melodic', 'metal', 'metalcore', 'mexican',\n",
       "       'middle', 'minimal', 'miscellaneous', 'modern', 'mood', 'mpb',\n",
       "       'muslim', 'native', 'neoklassik', 'neue', 'new', 'newage',\n",
       "       'newwave', 'nu', 'nujazz', 'numetal', 'oceania', 'old', 'opera',\n",
       "       'orchestral', 'other', 'piano', 'podcasts', 'pop', 'popdance',\n",
       "       'popelectronic', 'popeurodance', 'poprussian', 'post',\n",
       "       'posthardcore', 'postrock', 'power', 'progmetal', 'progressive',\n",
       "       'psychedelic', 'punjabi', 'punk', 'quebecois', 'ragga', 'ram',\n",
       "       'rancheras', 'rap', 'rave', 'reggae', 'reggaeton', 'regional',\n",
       "       'relax', 'religious', 'retro', 'rhythm', 'rnb', 'rnr', 'rock',\n",
       "       'rockabilly', 'rockalternative', 'rockindie', 'rockother',\n",
       "       'romance', 'roots', 'ruspop', 'rusrap', 'rusrock', 'russian',\n",
       "       'salsa', 'samba', 'scenic', 'schlager', 'self', 'sertanejo',\n",
       "       'shanson', 'shoegazing', 'showtunes', 'singer', 'ska', 'skarock',\n",
       "       'slow', 'smooth', 'soft', 'soul', 'soulful', 'sound', 'soundtrack',\n",
       "       'southern', 'specialty', 'speech', 'spiritual', 'sport',\n",
       "       'stonerrock', 'surf', 'swing', 'synthpop', 'synthrock',\n",
       "       'sängerportrait', 'tango', 'tanzorchester', 'taraftar', 'tatar',\n",
       "       'tech', 'techno', 'teen', 'thrash', 'top', 'traditional',\n",
       "       'tradjazz', 'trance', 'tribal', 'trip', 'triphop', 'tropical',\n",
       "       'türk', 'türkçe', 'ukrrock', 'unknown', 'urban', 'uzbek',\n",
       "       'variété', 'vi', 'videogame', 'vocal', 'western', 'world',\n",
       "       'worldbeat', 'ïîï', 'электроника'], dtype=object)"
      ]
     },
     "execution_count": 17,
     "metadata": {},
     "output_type": "execute_result"
    }
   ],
   "source": [
    "genre_name = df['genre'].sort_values().unique() #  Просмотр уникальных названий жанров\n",
    "genre_name\n"
   ]
  },
  {
   "cell_type": "markdown",
   "metadata": {
    "deletable": false,
    "editable": false,
    "id": "qej-Qmuo_Zct",
    "tags": [
     "start_task"
    ]
   },
   "source": [
    "**Задание 16**\n",
    "\n",
    "Просмотрите список и найдите неявные дубликаты названия `hiphop`. Это могут быть названия с ошибками или альтернативные названия того же жанра.\n",
    "\n",
    "Вы увидите следующие неявные дубликаты:\n",
    "* *hip*,\n",
    "* *hop*,\n",
    "* *hip-hop*.\n",
    "\n",
    "Чтобы очистить от них таблицу, используйте метод `replace()` с двумя аргументами: списком строк-дубликатов (включающий *hip*, *hop* и *hip-hop*) и строкой с правильным значением. Вам нужно исправить колонку `genre` в таблице `df`: заменить каждое значение из списка дубликатов на верное. Вместо `hip`, `hop` и `hip-hop` в таблице должно быть значение `hiphop`:"
   ]
  },
  {
   "cell_type": "code",
   "execution_count": 18,
   "metadata": {
    "deletable": false,
    "id": "ErNDkmns_Zct"
   },
   "outputs": [],
   "source": [
    "duplicates = ['hip', 'hop', 'hip-hop']\n",
    "name = 'hiphop'\n",
    "df['genre'] = df['genre'].replace(duplicates, name) # Устранение неявных дубликатов"
   ]
  },
  {
   "cell_type": "markdown",
   "metadata": {
    "deletable": false,
    "editable": false,
    "id": "zQKF16_RG15m",
    "tags": [
     "start_task"
    ]
   },
   "source": [
    "**Задание 17**\n",
    "\n",
    "Проверьте, что заменили неправильные названия:\n",
    "\n",
    "*   *hip*,\n",
    "*   *hop*,\n",
    "*   *hip-hop*.\n",
    "\n",
    "Выведите отсортированный список уникальных значений столбца `genre`:"
   ]
  },
  {
   "cell_type": "code",
   "execution_count": 19,
   "metadata": {
    "deletable": false,
    "id": "wvixALnFG15m"
   },
   "outputs": [
    {
     "data": {
      "text/plain": [
       "array(['acid', 'acoustic', 'action', 'adult', 'africa', 'afrikaans',\n",
       "       'alternative', 'alternativepunk', 'ambient', 'americana',\n",
       "       'animated', 'anime', 'arabesk', 'arabic', 'arena',\n",
       "       'argentinetango', 'art', 'audiobook', 'author', 'avantgarde',\n",
       "       'axé', 'baile', 'balkan', 'beats', 'bigroom', 'black', 'bluegrass',\n",
       "       'blues', 'bollywood', 'bossa', 'brazilian', 'breakbeat', 'breaks',\n",
       "       'broadway', 'cantautori', 'cantopop', 'canzone', 'caribbean',\n",
       "       'caucasian', 'celtic', 'chamber', 'chanson', 'children', 'chill',\n",
       "       'chinese', 'choral', 'christian', 'christmas', 'classical',\n",
       "       'classicmetal', 'club', 'colombian', 'comedy', 'conjazz',\n",
       "       'contemporary', 'country', 'cuban', 'dance', 'dancehall',\n",
       "       'dancepop', 'dark', 'death', 'deep', 'deutschrock', 'deutschspr',\n",
       "       'dirty', 'disco', 'dnb', 'documentary', 'downbeat', 'downtempo',\n",
       "       'drum', 'dub', 'dubstep', 'eastern', 'easy', 'electronic',\n",
       "       'electropop', 'emo', 'entehno', 'epicmetal', 'estrada', 'ethnic',\n",
       "       'eurofolk', 'european', 'experimental', 'extrememetal', 'fado',\n",
       "       'fairytail', 'film', 'fitness', 'flamenco', 'folk', 'folklore',\n",
       "       'folkmetal', 'folkrock', 'folktronica', 'forró', 'frankreich',\n",
       "       'französisch', 'french', 'funk', 'future', 'gangsta', 'garage',\n",
       "       'german', 'ghazal', 'gitarre', 'glitch', 'gospel', 'gothic',\n",
       "       'grime', 'grunge', 'gypsy', 'handsup', \"hard'n'heavy\", 'hardcore',\n",
       "       'hardstyle', 'hardtechno', 'hiphop', 'historisch', 'holiday',\n",
       "       'horror', 'house', 'hymn', 'idm', 'independent', 'indian', 'indie',\n",
       "       'indipop', 'industrial', 'inspirational', 'instrumental',\n",
       "       'international', 'irish', 'jam', 'japanese', 'jazz', 'jewish',\n",
       "       'jpop', 'jungle', 'k-pop', 'karadeniz', 'karaoke', 'kayokyoku',\n",
       "       'korean', 'laiko', 'latin', 'latino', 'leftfield', 'local',\n",
       "       'lounge', 'loungeelectronic', 'lovers', 'malaysian', 'mandopop',\n",
       "       'marschmusik', 'meditative', 'mediterranean', 'melodic', 'metal',\n",
       "       'metalcore', 'mexican', 'middle', 'minimal', 'miscellaneous',\n",
       "       'modern', 'mood', 'mpb', 'muslim', 'native', 'neoklassik', 'neue',\n",
       "       'new', 'newage', 'newwave', 'nu', 'nujazz', 'numetal', 'oceania',\n",
       "       'old', 'opera', 'orchestral', 'other', 'piano', 'podcasts', 'pop',\n",
       "       'popdance', 'popelectronic', 'popeurodance', 'poprussian', 'post',\n",
       "       'posthardcore', 'postrock', 'power', 'progmetal', 'progressive',\n",
       "       'psychedelic', 'punjabi', 'punk', 'quebecois', 'ragga', 'ram',\n",
       "       'rancheras', 'rap', 'rave', 'reggae', 'reggaeton', 'regional',\n",
       "       'relax', 'religious', 'retro', 'rhythm', 'rnb', 'rnr', 'rock',\n",
       "       'rockabilly', 'rockalternative', 'rockindie', 'rockother',\n",
       "       'romance', 'roots', 'ruspop', 'rusrap', 'rusrock', 'russian',\n",
       "       'salsa', 'samba', 'scenic', 'schlager', 'self', 'sertanejo',\n",
       "       'shanson', 'shoegazing', 'showtunes', 'singer', 'ska', 'skarock',\n",
       "       'slow', 'smooth', 'soft', 'soul', 'soulful', 'sound', 'soundtrack',\n",
       "       'southern', 'specialty', 'speech', 'spiritual', 'sport',\n",
       "       'stonerrock', 'surf', 'swing', 'synthpop', 'synthrock',\n",
       "       'sängerportrait', 'tango', 'tanzorchester', 'taraftar', 'tatar',\n",
       "       'tech', 'techno', 'teen', 'thrash', 'top', 'traditional',\n",
       "       'tradjazz', 'trance', 'tribal', 'trip', 'triphop', 'tropical',\n",
       "       'türk', 'türkçe', 'ukrrock', 'unknown', 'urban', 'uzbek',\n",
       "       'variété', 'vi', 'videogame', 'vocal', 'western', 'world',\n",
       "       'worldbeat', 'ïîï', 'электроника'], dtype=object)"
      ]
     },
     "execution_count": 19,
     "metadata": {},
     "output_type": "execute_result"
    }
   ],
   "source": [
    "genre_name = df['genre'].sort_values().unique() # Проверка на неявные дубликаты\n",
    "genre_name"
   ]
  },
  {
   "cell_type": "markdown",
   "metadata": {
    "deletable": false,
    "editable": false,
    "id": "jz6a9-7HQUDd"
   },
   "source": [
    "**Выводы**\n",
    "\n",
    "Предобработка обнаружила три проблемы в данных:\n",
    "\n",
    "- нарушения в стиле заголовков,\n",
    "- пропущенные значения,\n",
    "- дубликаты — явные и неявные.\n",
    "\n",
    "Вы исправили заголовки, чтобы упростить работу с таблицей. Без дубликатов исследование станет более точным.\n",
    "\n",
    "Пропущенные значения вы заменили на `'unknown'`. Ещё предстоит увидеть, не повредят ли исследованию пропуски в колонке `genre`.\n",
    "\n",
    "Теперь можно перейти к проверке гипотез."
   ]
  },
  {
   "cell_type": "markdown",
   "metadata": {
    "deletable": false,
    "editable": false,
    "id": "WttZHXH0SqKk"
   },
   "source": [
    "## Проверка гипотез"
   ]
  },
  {
   "cell_type": "markdown",
   "metadata": {
    "deletable": false,
    "editable": false,
    "id": "Im936VVi_Zcu"
   },
   "source": [
    "### Сравнение поведения пользователей двух столиц"
   ]
  },
  {
   "cell_type": "markdown",
   "metadata": {
    "deletable": false,
    "editable": false,
    "id": "nwt_MuaL_Zcu"
   },
   "source": [
    "Первая гипотеза утверждает, что пользователи по-разному слушают музыку в Москве и Санкт-Петербурге. Проверьте это предположение по данным о трёх днях недели — понедельнике, среде и пятнице. Для этого:\n",
    "\n",
    "* Разделите пользователей Москвы и Санкт-Петербурга.\n",
    "* Сравните, сколько треков послушала каждая группа пользователей в понедельник, среду и пятницу.\n"
   ]
  },
  {
   "cell_type": "markdown",
   "metadata": {
    "deletable": false,
    "editable": false,
    "id": "8Dw_YMmT_Zcu",
    "tags": [
     "start_task"
    ]
   },
   "source": [
    "**Задание 18**\n",
    "\n",
    "Для тренировки сначала выполните каждый из расчётов по отдельности.\n",
    "\n",
    "Оцените активность пользователей в каждом городе. Сгруппируйте данные по городу и посчитайте прослушивания в каждой группе.\n",
    "\n"
   ]
  },
  {
   "cell_type": "code",
   "execution_count": 20,
   "metadata": {
    "deletable": false,
    "id": "0_Qs96oh_Zcu"
   },
   "outputs": [
    {
     "data": {
      "text/plain": [
       "city\n",
       "Moscow              42741\n",
       "Saint-Petersburg    18512\n",
       "Name: user_id, dtype: int64"
      ]
     },
     "execution_count": 20,
     "metadata": {},
     "output_type": "execute_result"
    }
   ],
   "source": [
    "city_plays_count = df.groupby('city')['user_id'].count() # Подсчёт прослушиваний в каждом городе\n",
    "city_plays_count"
   ]
  },
  {
   "cell_type": "markdown",
   "metadata": {
    "deletable": false,
    "editable": false,
    "id": "dzli3w8o_Zcu",
    "tags": [
     "start_task"
    ]
   },
   "source": [
    "В Москве прослушиваний больше, чем в Петербурге. Из этого не следует, что московские пользователи чаще слушают музыку. Просто самих пользователей в Москве больше.\n",
    "\n",
    "**Задание 19**\n",
    "\n",
    "Теперь сгруппируйте данные по дню недели и посчитайте прослушивания в понедельник, среду и пятницу. Учтите, что в данных есть информация о прослушиваниях только за эти дни.\n"
   ]
  },
  {
   "cell_type": "code",
   "execution_count": 21,
   "metadata": {
    "deletable": false,
    "id": "uZMKjiJz_Zcu"
   },
   "outputs": [
    {
     "data": {
      "text/plain": [
       "day\n",
       "Friday       21840\n",
       "Monday       21354\n",
       "Wednesday    18059\n",
       "Name: user_id, dtype: int64"
      ]
     },
     "execution_count": 21,
     "metadata": {},
     "output_type": "execute_result"
    }
   ],
   "source": [
    "day_plays_count = df.groupby('day')['user_id'].count() # Подсчёт прослушиваний в каждый из трёх дней\n",
    "day_plays_count"
   ]
  },
  {
   "cell_type": "markdown",
   "metadata": {
    "deletable": false,
    "editable": false,
    "id": "cC2tNrlL_Zcu"
   },
   "source": [
    "В среднем пользователи из двух городов менее активны по средам. Но картина может измениться, если рассмотреть каждый город в отдельности."
   ]
  },
  {
   "cell_type": "markdown",
   "metadata": {
    "deletable": false,
    "editable": false,
    "id": "POzs8bGa_Zcu",
    "tags": [
     "start_task"
    ]
   },
   "source": [
    "**Задание 20**\n",
    "\n",
    "\n",
    "Вы видели, как работает группировка по городу и по дням недели. Теперь напишите функцию, которая объединит два эти расчёта.\n",
    "\n",
    "Создайте функцию `number_tracks()`, которая посчитает прослушивания для заданного дня и города. Ей понадобятся два параметра:\n",
    "* день недели,\n",
    "* название города.\n",
    "\n",
    "В функции сохраните в переменную строки исходной таблицы, у которых значение:\n",
    "  * в колонке `day` равно параметру `day`,\n",
    "  * в колонке `city` равно параметру `city`.\n",
    "\n",
    "Для этого примените последовательную фильтрацию с логической индексацией (или сложные логические выражения в одну строку, если вы уже знакомы с ними).\n",
    "\n",
    "Затем посчитайте значения в столбце `user_id` получившейся таблицы. Результат сохраните в новую переменную. Верните эту переменную из функции."
   ]
  },
  {
   "cell_type": "code",
   "execution_count": 22,
   "metadata": {
    "deletable": false,
    "id": "Nz3GdQB1_Zcu"
   },
   "outputs": [],
   "source": [
    "# <создание функции number_tracks()>\n",
    "def number_tracks(day, city):\n",
    "    # Объявляется функция с двумя параметрами: day, city.\n",
    "    track_list = df[df['day'] == day] # В переменной track_list сохраняются те строки таблицы df, для которых\n",
    "    # значение в столбце 'day' равно параметру day и одновременно значение\n",
    "    track_list = track_list[track_list['city'] == city] # в столбце 'city' равно параметру city (используйте последовательную фильтрацию\n",
    "    # с помощью логической индексации или сложные логические выражения в одну строку, если вы уже знакомы с ними).\n",
    "    track_list_count = track_list['user_id'].count()\n",
    "    return track_list_count    # В переменной track_list_count сохраняется число значений столбца 'user_id',\n",
    "# рассчитанное методом count() для таблицы track_list.\n",
    "# Функция возвращает число - значение track_list_count.\n",
    "\n",
    "# Функция для подсчёта прослушиваний для конкретного города и дня.\n",
    "# С помощью последовательной фильтрации с логической индексацией она\n",
    "# сначала получит из исходной таблицы строки с нужным днём,\n",
    "# затем из результата отфильтрует строки с нужным городом,\n",
    "# методом count() посчитает количество значений в колонке user_id.\n",
    "# Это количество функция вернёт в качестве результата"
   ]
  },
  {
   "cell_type": "markdown",
   "metadata": {
    "deletable": false,
    "editable": false,
    "id": "ytf7xFrFJQ2r",
    "tags": [
     "start_task"
    ]
   },
   "source": [
    "**Задание 21**\n",
    "\n",
    "Вызовите `number_tracks()` шесть раз, меняя значение параметров — так, чтобы получить данные для каждого города в каждый из трёх дней."
   ]
  },
  {
   "cell_type": "code",
   "execution_count": 23,
   "metadata": {
    "deletable": false,
    "id": "rJcRATNQ_Zcu"
   },
   "outputs": [
    {
     "data": {
      "text/plain": [
       "15740"
      ]
     },
     "execution_count": 23,
     "metadata": {},
     "output_type": "execute_result"
    }
   ],
   "source": [
    "number_tracks('Monday', 'Moscow') # количество прослушиваний в Москве по понедельникам"
   ]
  },
  {
   "cell_type": "code",
   "execution_count": 24,
   "metadata": {
    "deletable": false,
    "id": "hq_ncZ5T_Zcu"
   },
   "outputs": [
    {
     "data": {
      "text/plain": [
       "5614"
      ]
     },
     "execution_count": 24,
     "metadata": {},
     "output_type": "execute_result"
    }
   ],
   "source": [
    "number_tracks('Monday', 'Saint-Petersburg') # количество прослушиваний в Санкт-Петербурге по понедельникам"
   ]
  },
  {
   "cell_type": "code",
   "execution_count": 25,
   "metadata": {
    "deletable": false,
    "id": "_NTy2VPU_Zcu"
   },
   "outputs": [
    {
     "data": {
      "text/plain": [
       "11056"
      ]
     },
     "execution_count": 25,
     "metadata": {},
     "output_type": "execute_result"
    }
   ],
   "source": [
    "number_tracks('Wednesday', 'Moscow') # количество прослушиваний в Москве по средам"
   ]
  },
  {
   "cell_type": "code",
   "execution_count": 26,
   "metadata": {
    "deletable": false,
    "id": "j2y3TAwo_Zcu"
   },
   "outputs": [
    {
     "data": {
      "text/plain": [
       "7003"
      ]
     },
     "execution_count": 26,
     "metadata": {},
     "output_type": "execute_result"
    }
   ],
   "source": [
    "number_tracks('Wednesday', 'Saint-Petersburg') # количество прослушиваний в Санкт-Петербурге по средам"
   ]
  },
  {
   "cell_type": "code",
   "execution_count": 27,
   "metadata": {
    "deletable": false,
    "id": "vYDw5u_K_Zcu"
   },
   "outputs": [
    {
     "data": {
      "text/plain": [
       "15945"
      ]
     },
     "execution_count": 27,
     "metadata": {},
     "output_type": "execute_result"
    }
   ],
   "source": [
    "number_tracks('Friday', 'Moscow') # количество прослушиваний в Москве по пятницам"
   ]
  },
  {
   "cell_type": "code",
   "execution_count": 28,
   "metadata": {
    "deletable": false,
    "id": "8_yzFtW3_Zcu"
   },
   "outputs": [
    {
     "data": {
      "text/plain": [
       "5895"
      ]
     },
     "execution_count": 28,
     "metadata": {},
     "output_type": "execute_result"
    }
   ],
   "source": [
    "number_tracks('Friday', 'Saint-Petersburg') # количество прослушиваний в Санкт-Петербурге по пятницам"
   ]
  },
  {
   "cell_type": "markdown",
   "metadata": {
    "deletable": false,
    "editable": false,
    "id": "7QXffbO-_Zcu",
    "tags": [
     "start_task"
    ]
   },
   "source": [
    "**Задание 22**\n",
    "\n",
    "С помощью конструктора `pd.DataFrame` создайте таблицу, где\n",
    "* названия колонок — `['city', 'monday', 'wednesday', 'friday']`;\n",
    "* данные — результаты, которые вы получили с помощью `number_tracks`."
   ]
  },
  {
   "cell_type": "code",
   "execution_count": 29,
   "metadata": {
    "deletable": false,
    "id": "APAcLpOr_Zcu"
   },
   "outputs": [
    {
     "data": {
      "text/html": [
       "<div>\n",
       "<style scoped>\n",
       "    .dataframe tbody tr th:only-of-type {\n",
       "        vertical-align: middle;\n",
       "    }\n",
       "\n",
       "    .dataframe tbody tr th {\n",
       "        vertical-align: top;\n",
       "    }\n",
       "\n",
       "    .dataframe thead th {\n",
       "        text-align: right;\n",
       "    }\n",
       "</style>\n",
       "<table border=\"1\" class=\"dataframe\">\n",
       "  <thead>\n",
       "    <tr style=\"text-align: right;\">\n",
       "      <th></th>\n",
       "      <th>city</th>\n",
       "      <th>monday</th>\n",
       "      <th>wednesday</th>\n",
       "      <th>friday</th>\n",
       "    </tr>\n",
       "  </thead>\n",
       "  <tbody>\n",
       "    <tr>\n",
       "      <th>0</th>\n",
       "      <td>Moscow</td>\n",
       "      <td>15740</td>\n",
       "      <td>11056</td>\n",
       "      <td>15945</td>\n",
       "    </tr>\n",
       "    <tr>\n",
       "      <th>1</th>\n",
       "      <td>Saint-Petersburg</td>\n",
       "      <td>5614</td>\n",
       "      <td>7003</td>\n",
       "      <td>5895</td>\n",
       "    </tr>\n",
       "  </tbody>\n",
       "</table>\n",
       "</div>"
      ],
      "text/plain": [
       "               city  monday  wednesday  friday\n",
       "0            Moscow   15740      11056   15945\n",
       "1  Saint-Petersburg    5614       7003    5895"
      ]
     },
     "execution_count": 29,
     "metadata": {},
     "output_type": "execute_result"
    }
   ],
   "source": [
    "info = pd.DataFrame(data=[['Moscow', 15740, 11056, 15945], ['Saint-Petersburg', 5614, 7003, 5895]], columns = ['city', 'monday', 'wednesday', 'friday'] ) # Таблица с результатами\n",
    "info"
   ]
  },
  {
   "cell_type": "markdown",
   "metadata": {
    "deletable": false,
    "editable": false,
    "id": "-EgPIHYu_Zcu"
   },
   "source": [
    "**Выводы**\n",
    "\n",
    "Данные показывают разницу поведения пользователей:\n",
    "\n",
    "- В Москве пик прослушиваний приходится на понедельник и пятницу, а в среду заметен спад.\n",
    "- В Петербурге, наоборот, больше слушают музыку по средам. Активность в понедельник и пятницу здесь почти в равной мере уступает среде.\n",
    "\n",
    "Значит, данные говорят в пользу первой гипотезы."
   ]
  },
  {
   "cell_type": "markdown",
   "metadata": {
    "deletable": false,
    "editable": false,
    "id": "atZAxtq4_Zcu"
   },
   "source": [
    "### Музыка в начале и в конце недели"
   ]
  },
  {
   "cell_type": "markdown",
   "metadata": {
    "deletable": false,
    "editable": false,
    "id": "eXrQqXFH_Zcu"
   },
   "source": [
    "Согласно второй гипотезе, утром в понедельник в Москве преобладают одни жанры, а в Петербурге — другие. Так же и вечером пятницы преобладают разные жанры — в зависимости от города."
   ]
  },
  {
   "cell_type": "markdown",
   "metadata": {
    "deletable": false,
    "editable": false,
    "id": "S8UcW6Hw_Zcu",
    "tags": [
     "start_task"
    ]
   },
   "source": [
    "**Задание 23**\n",
    "\n",
    "Сохраните таблицы с данными в две переменные:\n",
    "* по Москве — в `moscow_general`;\n",
    "* по Санкт-Петербургу — в `spb_general`."
   ]
  },
  {
   "cell_type": "code",
   "execution_count": 30,
   "metadata": {
    "deletable": false,
    "id": "qeaFfM_P_Zcu"
   },
   "outputs": [],
   "source": [
    "moscow_general = df[df['city'] == 'Moscow']  # получение таблицы moscow_general из тех строк таблицы df,\n",
    "# для которых значение в столбце 'city' равно 'Moscow'"
   ]
  },
  {
   "cell_type": "code",
   "execution_count": 31,
   "metadata": {
    "deletable": false,
    "id": "ORaVRKto_Zcu"
   },
   "outputs": [],
   "source": [
    "spb_general = df[df['city'] == 'Saint-Petersburg'] # получение таблицы spb_general из тех строк таблицы df,\n",
    "# для которых значение в столбце 'city' равно 'Saint-Petersburg'"
   ]
  },
  {
   "cell_type": "markdown",
   "metadata": {
    "deletable": false,
    "id": "MEJV-CX2_Zcu",
    "tags": [
     "start_task"
    ]
   },
   "source": [
    "**Задание 24**\n",
    "\n",
    "Создайте функцию `genre_weekday()` с четырьмя параметрами:\n",
    "* таблица (датафрейм) с данными,\n",
    "* день недели,\n",
    "* начальная временная метка в формате 'hh:mm',\n",
    "* последняя временная метка в формате 'hh:mm'.\n",
    "\n",
    "Функция должна вернуть информацию о топ-10 жанров тех треков, которые прослушивали в указанный день, в промежутке между двумя отметками времени."
   ]
  },
  {
   "cell_type": "code",
   "execution_count": 32,
   "metadata": {
    "deletable": false,
    "id": "laJT9BYl_Zcu"
   },
   "outputs": [],
   "source": [
    "# Объявление функции genre_weekday() с параметрами df, day, time1, time2,\n",
    "# которая возвращает информацию о самых популярных жанрах в указанный день в\n",
    "# заданное время:\n",
    "# 1) в переменную genre_df сохраняются те строки переданного датафрейма df, для\n",
    "#    которых одновременно:\n",
    "#    - значение в столбце day равно значению аргумента day\n",
    "#    - значение в столбце time больше значения аргумента time1\n",
    "#    - значение в столбце time меньше значения аргумента time2\n",
    "#    Используйте последовательную фильтрацию с помощью логической индексации.\n",
    "# 2) сгруппировать датафрейм genre_df по столбцу genre, взять один из его\n",
    "#    столбцов и посчитать методом count() количество записей для каждого из\n",
    "#    присутствующих жанров, получившийся Series записать в переменную\n",
    "#    genre_df_grouped\n",
    "# 3) отсортировать genre_df_grouped по убыванию встречаемости и сохранить\n",
    "#    в переменную genre_df_sorted\n",
    "# 4) вернуть Series из 10 первых значений genre_df_sorted, это будут топ-10\n",
    "#    популярных жанров (в указанный день, в заданное время)\n",
    "\n",
    "def genre_weekday(df, day, time1, time2):\n",
    "    # последовательная фильтрация\n",
    "    # оставляем в genre_df только те строки df, у которых день равен day\n",
    "    genre_df = df[df['day'] == day] # ваш код здесь\n",
    "    # оставляем в genre_df только те строки genre_df, у которых время меньше time2\n",
    "    genre_df = genre_df[genre_df['time'] < time2] # ваш код здесь\n",
    "    # оставляем в genre_df только те строки genre_df, у которых время больше time1\n",
    "    genre_df = genre_df[genre_df['time'] > time1] # ваш код здесь\n",
    "    # сгруппируем отфильтрованный датафрейм по столбцу с названиями жанров, возьмём столбец genre и посчитаем кол-во строк для каждого жанра методом count()\n",
    "    genre_df_grouped = genre_df.groupby('genre')['user_id'].count() # ваш код здесь\n",
    "    # отсортируем результат по убыванию (чтобы в начале Series оказались самые популярные жанры)\n",
    "    genre_df_sorted = genre_df_grouped.sort_values(ascending = False) # ваш код здесь\n",
    "    # вернём Series с 10 самыми популярными жанрами в указанный отрезок времени заданного дня\n",
    "    return genre_df_sorted[:10]"
   ]
  },
  {
   "cell_type": "markdown",
   "metadata": {
    "deletable": false,
    "editable": false,
    "id": "la2s2_PF_Zcu",
    "tags": [
     "start_task"
    ]
   },
   "source": [
    "**Задание 25**\n",
    "\n",
    "\n",
    "Cравните результаты функции `genre_weekday()` для Москвы и Санкт-Петербурга в понедельник утром (с 7:00 до 11:00) и в пятницу вечером (с 17:00 до 23:00):"
   ]
  },
  {
   "cell_type": "code",
   "execution_count": 33,
   "metadata": {
    "deletable": false,
    "id": "yz7itPUQ_Zcu"
   },
   "outputs": [
    {
     "data": {
      "text/plain": [
       "genre\n",
       "pop            781\n",
       "dance          549\n",
       "electronic     480\n",
       "rock           474\n",
       "hiphop         286\n",
       "ruspop         186\n",
       "world          181\n",
       "rusrap         175\n",
       "alternative    164\n",
       "unknown        161\n",
       "Name: user_id, dtype: int64"
      ]
     },
     "execution_count": 33,
     "metadata": {},
     "output_type": "execute_result"
    }
   ],
   "source": [
    "genre_weekday(moscow_general, 'Monday', '07:00', '11:00') # вызов функции для утра понедельника в Москве (вместо df — таблица moscow_general)\n",
    "# объекты, хранящие время, являются строками и сравниваются как строки\n",
    "# пример вызова: genre_weekday(moscow_general, 'Monday', '07:00', '11:00')"
   ]
  },
  {
   "cell_type": "code",
   "execution_count": 34,
   "metadata": {
    "deletable": false,
    "id": "kwUcHPdy_Zcu"
   },
   "outputs": [
    {
     "data": {
      "text/plain": [
       "genre\n",
       "pop            218\n",
       "dance          182\n",
       "rock           162\n",
       "electronic     147\n",
       "hiphop          80\n",
       "ruspop          64\n",
       "alternative     58\n",
       "rusrap          55\n",
       "jazz            44\n",
       "classical       40\n",
       "Name: user_id, dtype: int64"
      ]
     },
     "execution_count": 34,
     "metadata": {},
     "output_type": "execute_result"
    }
   ],
   "source": [
    "genre_weekday(spb_general, 'Monday', '07:00', '11:00') # вызов функции для утра понедельника в Петербурге (вместо df — таблица spb_general)"
   ]
  },
  {
   "cell_type": "code",
   "execution_count": 35,
   "metadata": {
    "deletable": false,
    "id": "EzXVRE1o_Zcu"
   },
   "outputs": [
    {
     "data": {
      "text/plain": [
       "genre\n",
       "pop            713\n",
       "rock           517\n",
       "dance          495\n",
       "electronic     482\n",
       "hiphop         273\n",
       "world          208\n",
       "ruspop         170\n",
       "alternative    163\n",
       "classical      163\n",
       "rusrap         142\n",
       "Name: user_id, dtype: int64"
      ]
     },
     "execution_count": 35,
     "metadata": {},
     "output_type": "execute_result"
    }
   ],
   "source": [
    "genre_weekday(moscow_general, 'Friday', '17:00', '23:00') # вызов функции для вечера пятницы в Москве"
   ]
  },
  {
   "cell_type": "code",
   "execution_count": 36,
   "metadata": {
    "deletable": false,
    "id": "JZaEKu5v_Zcu"
   },
   "outputs": [
    {
     "data": {
      "text/plain": [
       "genre\n",
       "pop            256\n",
       "electronic     216\n",
       "rock           216\n",
       "dance          210\n",
       "hiphop          97\n",
       "alternative     63\n",
       "jazz            61\n",
       "classical       60\n",
       "rusrap          59\n",
       "world           54\n",
       "Name: user_id, dtype: int64"
      ]
     },
     "execution_count": 36,
     "metadata": {},
     "output_type": "execute_result"
    }
   ],
   "source": [
    "genre_weekday(spb_general, 'Friday', '17:00', '23:00')# вызов функции для вечера пятницы в Петербурге"
   ]
  },
  {
   "cell_type": "markdown",
   "metadata": {
    "deletable": false,
    "editable": false,
    "id": "wrCe4MNX_Zcu"
   },
   "source": [
    "**Выводы**\n",
    "\n",
    "Если сравнить топ-10 жанров в понедельник утром, можно сделать такие выводы:\n",
    "\n",
    "1. В Москве и Петербурге слушают похожую музыку. Единственное различие — в московский рейтинг вошёл жанр “world”, а в петербургский — джаз и классика.\n",
    "\n",
    "2. В Москве пропущенных значений оказалось так много, что значение `'unknown'` заняло десятое место среди самых популярных жанров. Значит, пропущенные значения занимают существенную долю в данных и угрожают достоверности исследования.\n",
    "\n",
    "Вечер пятницы не меняет эту картину. Некоторые жанры поднимаются немного выше, другие спускаются, но в целом топ-10 остаётся тем же самым.\n",
    "\n",
    "Таким образом, вторая гипотеза подтвердилась лишь частично:\n",
    "* Пользователи слушают похожую музыку в начале недели и в конце.\n",
    "* Разница между Москвой и Петербургом не слишком выражена. В Москве чаще слушают русскую популярную музыку, в Петербурге — джаз.\n",
    "\n",
    "Однако пропуски в данных ставят под сомнение этот результат. В Москве их так много, что рейтинг топ-10 мог бы выглядеть иначе, если бы не утерянные  данные о жанрах."
   ]
  },
  {
   "cell_type": "markdown",
   "metadata": {
    "deletable": false,
    "editable": false,
    "id": "JolODAqr_Zcu"
   },
   "source": [
    "### Жанровые предпочтения в Москве и Петербурге\n",
    "\n",
    "Гипотеза: Петербург — столица рэпа, музыку этого жанра там слушают чаще, чем в Москве.  А Москва — город контрастов, в котором, тем не менее, преобладает поп-музыка."
   ]
  },
  {
   "cell_type": "markdown",
   "metadata": {
    "deletable": false,
    "editable": false,
    "id": "DlegSvaT_Zcu",
    "tags": [
     "start_task"
    ]
   },
   "source": [
    "**Задание 26**\n",
    "\n",
    "Сгруппируйте таблицу `moscow_general` по жанру и посчитайте прослушивания треков каждого жанра методом `count()`. Затем отсортируйте результат в порядке убывания и сохраните его в таблице `moscow_genres`."
   ]
  },
  {
   "cell_type": "code",
   "execution_count": 37,
   "metadata": {
    "deletable": false,
    "id": "r19lIPke_Zcu"
   },
   "outputs": [
    {
     "data": {
      "text/plain": [
       "genre\n",
       "pop            5892\n",
       "dance          4435\n",
       "rock           3965\n",
       "electronic     3786\n",
       "hiphop         2096\n",
       "               ... \n",
       "neoklassik        1\n",
       "mood              1\n",
       "metalcore         1\n",
       "marschmusik       1\n",
       "ïîï               1\n",
       "Name: genre, Length: 267, dtype: int64"
      ]
     },
     "execution_count": 37,
     "metadata": {},
     "output_type": "execute_result"
    }
   ],
   "source": [
    "moscow_genres = moscow_general.groupby('genre')['genre'].count().sort_values(ascending = False) # одной строкой: группировка таблицы moscow_general по столбцу 'genre',\n",
    "# подсчёт числа значений 'genre' в этой группировке методом count(),\n",
    "# сортировка получившегося Series в порядке убывания и сохранение в moscow_genres\n",
    "moscow_genres"
   ]
  },
  {
   "cell_type": "markdown",
   "metadata": {
    "deletable": false,
    "editable": false,
    "id": "6kMuomxTiIr8",
    "tags": [
     "start_task"
    ]
   },
   "source": [
    "**Задание 27**\n",
    "\n",
    "Выведите на экран первые десять строк `moscow_genres`:"
   ]
  },
  {
   "cell_type": "code",
   "execution_count": 38,
   "metadata": {
    "deletable": false,
    "id": "WhCSooF8_Zcv"
   },
   "outputs": [
    {
     "data": {
      "text/plain": [
       "genre\n",
       "pop            5892\n",
       "dance          4435\n",
       "rock           3965\n",
       "electronic     3786\n",
       "hiphop         2096\n",
       "classical      1616\n",
       "world          1432\n",
       "alternative    1379\n",
       "ruspop         1372\n",
       "rusrap         1161\n",
       "Name: genre, dtype: int64"
      ]
     },
     "execution_count": 38,
     "metadata": {},
     "output_type": "execute_result"
    }
   ],
   "source": [
    "moscow_genres.head(10) # просмотр первых 10 строк moscow_genres"
   ]
  },
  {
   "cell_type": "markdown",
   "metadata": {
    "deletable": false,
    "editable": false,
    "id": "cnPG2vnN_Zcv",
    "tags": [
     "start_task"
    ]
   },
   "source": [
    "**Задание 28**\n",
    "\n",
    "\n",
    "Теперь повторите то же и для Петербурга.\n",
    "\n",
    "Сгруппируйте таблицу `spb_general` по жанру. Посчитайте прослушивания треков каждого жанра. Результат отсортируйте в порядке убывания и сохраните в таблице `spb_genres`:\n"
   ]
  },
  {
   "cell_type": "code",
   "execution_count": 39,
   "metadata": {
    "deletable": false,
    "id": "gluLIpE7_Zcv"
   },
   "outputs": [],
   "source": [
    "spb_genres = spb_general.groupby('genre')['genre'].count().sort_values(ascending = False) # одной строкой: группировка таблицы spb_general по столбцу 'genre',\n",
    "# подсчёт числа значений 'genre' в этой группировке методом count(),\n",
    "# сортировка получившегося Series в порядке убывания и сохранение в spb_genres"
   ]
  },
  {
   "cell_type": "markdown",
   "metadata": {
    "deletable": false,
    "editable": false,
    "id": "5Doha_ODgyQ8",
    "tags": [
     "start_task"
    ]
   },
   "source": [
    "**Задание 29**\n",
    "\n",
    "Выведите на экран первые десять строк `spb_genres`:"
   ]
  },
  {
   "cell_type": "code",
   "execution_count": 40,
   "metadata": {
    "deletable": false,
    "id": "uaGJHjVU_Zcv"
   },
   "outputs": [
    {
     "data": {
      "text/plain": [
       "genre\n",
       "pop            2431\n",
       "dance          1932\n",
       "rock           1879\n",
       "electronic     1736\n",
       "hiphop          960\n",
       "alternative     649\n",
       "classical       646\n",
       "rusrap          564\n",
       "ruspop          538\n",
       "world           515\n",
       "Name: genre, dtype: int64"
      ]
     },
     "execution_count": 40,
     "metadata": {},
     "output_type": "execute_result"
    }
   ],
   "source": [
    "spb_genres.head(10) # просмотр первых 10 строк spb_genres"
   ]
  },
  {
   "cell_type": "markdown",
   "metadata": {
    "deletable": false,
    "editable": false,
    "id": "RY51YJYu_Zcv"
   },
   "source": [
    "**Выводы**"
   ]
  },
  {
   "cell_type": "markdown",
   "metadata": {
    "deletable": false,
    "editable": false,
    "id": "nVhnJEm__Zcv"
   },
   "source": [
    "Гипотеза частично подтвердилась:\n",
    "* Поп-музыка — самый популярный жанр в Москве, как и предполагала гипотеза. Более того, в топ-10 жанров встречается близкий жанр — русская популярная музыка.\n",
    "* Вопреки ожиданиям, рэп одинаково популярен в Москве и Петербурге.\n"
   ]
  },
  {
   "cell_type": "markdown",
   "metadata": {
    "deletable": false,
    "editable": false,
    "id": "ykKQ0N65_Zcv"
   },
   "source": [
    "## Итоги исследования"
   ]
  },
  {
   "cell_type": "markdown",
   "metadata": {
    "deletable": false,
    "editable": false,
    "id": "tjUwbHb3_Zcv"
   },
   "source": [
    "Вы проверили три гипотезы и установили:\n",
    "\n",
    "1. День недели по-разному влияет на активность пользователей в Москве и Петербурге.\n",
    "\n",
    "Первая гипотеза полностью подтвердилась.\n",
    "\n",
    "2. Музыкальные предпочтения не сильно меняются в течение недели — будь то Москва или Петербург. Небольшие различия заметны в начале недели, по понедельникам:\n",
    "* в Москве слушают музыку жанра “world”,\n",
    "* в Петербурге — джаз и классику.\n",
    "\n",
    "Таким образом, вторая гипотеза подтвердилась лишь отчасти. Этот результат мог оказаться иным, если бы не пропуски в данных.\n",
    "\n",
    "3. Во вкусах пользователей Москвы и Петербурга больше общего, чем различий. Вопреки ожиданиям, предпочтения жанров в Петербурге напоминают московские.\n",
    "\n",
    "Третья гипотеза не подтвердилась. Если различия в предпочтениях и существуют, на основной массе пользователей они незаметны.\n",
    "\n",
    "**На практике исследования содержат проверки статистических гипотез.**\n",
    "Из данных одного сервиса не всегда можно сделать вывод о всех жителях города.\n",
    "Проверки статистических гипотез покажут, насколько они достоверны, исходя из имеющихся данных.\n",
    "С методами проверок гипотез вы ещё познакомитесь в следующих темах."
   ]
  }
 ],
 "metadata": {
  "ExecuteTimeLog": [
   {
    "duration": 50,
    "start_time": "2023-12-06T15:06:41.522Z"
   },
   {
    "duration": 6,
    "start_time": "2023-12-06T15:06:58.272Z"
   },
   {
    "duration": 7,
    "start_time": "2023-12-06T15:07:33.410Z"
   },
   {
    "duration": 7,
    "start_time": "2023-12-06T15:07:52.014Z"
   },
   {
    "duration": 6,
    "start_time": "2023-12-06T15:08:03.407Z"
   },
   {
    "duration": 6,
    "start_time": "2023-12-06T15:08:32.736Z"
   },
   {
    "duration": 423,
    "start_time": "2023-12-06T15:09:39.692Z"
   },
   {
    "duration": 3,
    "start_time": "2023-12-06T15:09:45.325Z"
   },
   {
    "duration": 186,
    "start_time": "2023-12-06T15:10:58.244Z"
   },
   {
    "duration": 192,
    "start_time": "2023-12-06T15:11:01.978Z"
   },
   {
    "duration": 18,
    "start_time": "2023-12-06T15:11:33.711Z"
   },
   {
    "duration": 32,
    "start_time": "2023-12-06T15:12:48.085Z"
   },
   {
    "duration": 32,
    "start_time": "2023-12-06T15:13:23.026Z"
   },
   {
    "duration": 27,
    "start_time": "2023-12-06T15:20:07.580Z"
   },
   {
    "duration": 4,
    "start_time": "2023-12-06T15:20:46.381Z"
   },
   {
    "duration": 10,
    "start_time": "2023-12-06T15:24:30.293Z"
   },
   {
    "duration": 4,
    "start_time": "2023-12-06T15:24:50.702Z"
   },
   {
    "duration": 29,
    "start_time": "2023-12-06T15:26:28.234Z"
   },
   {
    "duration": 8,
    "start_time": "2023-12-06T15:31:09.869Z"
   },
   {
    "duration": 8,
    "start_time": "2023-12-06T15:32:32.878Z"
   },
   {
    "duration": 8,
    "start_time": "2023-12-06T15:32:41.757Z"
   },
   {
    "duration": 1392,
    "start_time": "2023-12-06T15:33:23.758Z"
   },
   {
    "duration": 1256,
    "start_time": "2023-12-06T15:35:25.111Z"
   },
   {
    "duration": 19,
    "start_time": "2023-12-06T15:36:27.548Z"
   },
   {
    "duration": 18,
    "start_time": "2023-12-06T15:36:33.255Z"
   },
   {
    "duration": 28,
    "start_time": "2023-12-06T15:37:35.660Z"
   },
   {
    "duration": 65,
    "start_time": "2023-12-06T15:39:19.379Z"
   },
   {
    "duration": 7,
    "start_time": "2023-12-06T15:39:47.884Z"
   },
   {
    "duration": 68,
    "start_time": "2023-12-06T15:42:01.007Z"
   },
   {
    "duration": 7,
    "start_time": "2023-12-06T15:43:55.720Z"
   },
   {
    "duration": 65,
    "start_time": "2023-12-06T15:44:09.482Z"
   },
   {
    "duration": 67,
    "start_time": "2023-12-06T15:44:12.722Z"
   },
   {
    "duration": 66,
    "start_time": "2023-12-06T15:45:24.401Z"
   },
   {
    "duration": 10,
    "start_time": "2023-12-06T15:47:24.385Z"
   },
   {
    "duration": 8,
    "start_time": "2023-12-06T15:47:37.608Z"
   },
   {
    "duration": 78,
    "start_time": "2023-12-06T15:48:48.179Z"
   },
   {
    "duration": 9,
    "start_time": "2023-12-06T15:48:59.061Z"
   },
   {
    "duration": 946,
    "start_time": "2023-12-06T15:54:29.237Z"
   },
   {
    "duration": 856,
    "start_time": "2023-12-06T15:58:59.142Z"
   },
   {
    "duration": 11,
    "start_time": "2023-12-06T15:59:50.919Z"
   },
   {
    "duration": 40,
    "start_time": "2023-12-06T16:01:27.549Z"
   },
   {
    "duration": 41,
    "start_time": "2023-12-06T16:01:34.150Z"
   },
   {
    "duration": 43,
    "start_time": "2023-12-06T16:01:36.535Z"
   },
   {
    "duration": 42,
    "start_time": "2023-12-06T16:01:40.946Z"
   },
   {
    "duration": 43,
    "start_time": "2023-12-06T16:01:42.602Z"
   },
   {
    "duration": 45,
    "start_time": "2023-12-06T16:02:05.324Z"
   },
   {
    "duration": 10,
    "start_time": "2023-12-06T16:12:48.145Z"
   },
   {
    "duration": 1754,
    "start_time": "2023-12-06T16:13:28.745Z"
   },
   {
    "duration": 14,
    "start_time": "2023-12-06T16:15:26.880Z"
   },
   {
    "duration": 12,
    "start_time": "2023-12-06T16:15:29.230Z"
   },
   {
    "duration": 5,
    "start_time": "2023-12-06T16:16:27.507Z"
   },
   {
    "duration": 46,
    "start_time": "2023-12-06T16:17:58.622Z"
   },
   {
    "duration": 44,
    "start_time": "2023-12-06T16:18:00.792Z"
   },
   {
    "duration": 43,
    "start_time": "2023-12-06T16:18:06.425Z"
   },
   {
    "duration": 45,
    "start_time": "2023-12-06T16:18:50.172Z"
   },
   {
    "duration": 3,
    "start_time": "2023-12-06T16:23:51.620Z"
   },
   {
    "duration": 3,
    "start_time": "2023-12-06T16:23:55.282Z"
   },
   {
    "duration": 3,
    "start_time": "2023-12-06T16:24:11.431Z"
   },
   {
    "duration": 3,
    "start_time": "2023-12-06T16:24:54.783Z"
   },
   {
    "duration": 13,
    "start_time": "2023-12-06T16:26:18.093Z"
   },
   {
    "duration": 11,
    "start_time": "2023-12-06T16:29:20.599Z"
   },
   {
    "duration": 11,
    "start_time": "2023-12-06T16:29:23.525Z"
   },
   {
    "duration": 10,
    "start_time": "2023-12-06T16:29:31.719Z"
   },
   {
    "duration": 11,
    "start_time": "2023-12-06T16:29:39.352Z"
   },
   {
    "duration": 14,
    "start_time": "2023-12-06T16:30:18.717Z"
   },
   {
    "duration": 78,
    "start_time": "2023-12-06T16:44:42.089Z"
   },
   {
    "duration": 81,
    "start_time": "2023-12-06T16:45:20.659Z"
   },
   {
    "duration": 4,
    "start_time": "2023-12-06T16:46:03.179Z"
   },
   {
    "duration": 3,
    "start_time": "2023-12-06T16:46:06.344Z"
   },
   {
    "duration": 7,
    "start_time": "2023-12-06T16:48:11.032Z"
   },
   {
    "duration": 7,
    "start_time": "2023-12-06T16:51:11.968Z"
   },
   {
    "duration": 7,
    "start_time": "2023-12-06T16:52:13.864Z"
   },
   {
    "duration": 17,
    "start_time": "2023-12-06T16:53:08.972Z"
   },
   {
    "duration": 19,
    "start_time": "2023-12-06T16:53:35.610Z"
   },
   {
    "duration": 17,
    "start_time": "2023-12-06T16:53:37.477Z"
   },
   {
    "duration": 17,
    "start_time": "2023-12-06T16:54:05.182Z"
   },
   {
    "duration": 15,
    "start_time": "2023-12-06T16:54:48.432Z"
   },
   {
    "duration": 15,
    "start_time": "2023-12-06T16:56:23.575Z"
   },
   {
    "duration": 15,
    "start_time": "2023-12-06T16:56:25.458Z"
   },
   {
    "duration": 17,
    "start_time": "2023-12-06T16:56:27.562Z"
   },
   {
    "duration": 16,
    "start_time": "2023-12-06T16:56:29.705Z"
   },
   {
    "duration": 14,
    "start_time": "2023-12-06T17:02:05.787Z"
   },
   {
    "duration": 13,
    "start_time": "2023-12-06T17:02:49.999Z"
   },
   {
    "duration": 13,
    "start_time": "2023-12-06T17:03:03.570Z"
   },
   {
    "duration": 77,
    "start_time": "2023-12-06T17:08:35.898Z"
   },
   {
    "duration": 5,
    "start_time": "2023-12-06T17:09:10.628Z"
   },
   {
    "duration": 8,
    "start_time": "2023-12-06T17:09:20.521Z"
   },
   {
    "duration": 48,
    "start_time": "2023-12-07T06:04:58.250Z"
   },
   {
    "duration": 6,
    "start_time": "2023-12-07T06:07:56.136Z"
   },
   {
    "duration": 5,
    "start_time": "2023-12-07T06:09:26.828Z"
   },
   {
    "duration": 8,
    "start_time": "2023-12-07T06:09:34.675Z"
   },
   {
    "duration": 6,
    "start_time": "2023-12-07T06:13:19.298Z"
   },
   {
    "duration": 6,
    "start_time": "2023-12-07T06:13:22.052Z"
   },
   {
    "duration": 7,
    "start_time": "2023-12-07T06:14:27.644Z"
   },
   {
    "duration": 7,
    "start_time": "2023-12-07T06:14:29.322Z"
   },
   {
    "duration": 8,
    "start_time": "2023-12-07T06:14:30.792Z"
   },
   {
    "duration": 6,
    "start_time": "2023-12-07T06:14:41.304Z"
   },
   {
    "duration": 6,
    "start_time": "2023-12-07T06:15:02.993Z"
   },
   {
    "duration": 6,
    "start_time": "2023-12-07T06:15:12.471Z"
   },
   {
    "duration": 6,
    "start_time": "2023-12-07T06:15:18.264Z"
   },
   {
    "duration": 424,
    "start_time": "2023-12-07T06:15:25.408Z"
   },
   {
    "duration": 2,
    "start_time": "2023-12-07T06:15:27.773Z"
   },
   {
    "duration": 233,
    "start_time": "2023-12-07T06:16:19.749Z"
   },
   {
    "duration": 197,
    "start_time": "2023-12-07T06:16:21.903Z"
   },
   {
    "duration": 17,
    "start_time": "2023-12-07T06:16:26.964Z"
   },
   {
    "duration": 32,
    "start_time": "2023-12-07T06:16:40.085Z"
   },
   {
    "duration": 1237,
    "start_time": "2023-12-07T06:16:54.417Z"
   },
   {
    "duration": 1298,
    "start_time": "2023-12-07T06:17:08.483Z"
   },
   {
    "duration": 1284,
    "start_time": "2023-12-07T06:17:10.901Z"
   },
   {
    "duration": 12,
    "start_time": "2023-12-07T06:18:10.388Z"
   },
   {
    "duration": 10,
    "start_time": "2023-12-07T06:18:24.118Z"
   },
   {
    "duration": 31,
    "start_time": "2023-12-07T06:18:26.762Z"
   },
   {
    "duration": 4,
    "start_time": "2023-12-07T06:18:34.638Z"
   },
   {
    "duration": 9,
    "start_time": "2023-12-07T06:18:37.816Z"
   },
   {
    "duration": 4,
    "start_time": "2023-12-07T06:18:41.719Z"
   },
   {
    "duration": 26,
    "start_time": "2023-12-07T06:18:45.940Z"
   },
   {
    "duration": 17,
    "start_time": "2023-12-07T06:18:48.639Z"
   },
   {
    "duration": 2,
    "start_time": "2023-12-07T06:18:55.085Z"
   },
   {
    "duration": 178,
    "start_time": "2023-12-07T06:18:55.089Z"
   },
   {
    "duration": 10,
    "start_time": "2023-12-07T06:18:55.268Z"
   },
   {
    "duration": 47,
    "start_time": "2023-12-07T06:18:55.280Z"
   },
   {
    "duration": 5,
    "start_time": "2023-12-07T06:18:55.328Z"
   },
   {
    "duration": 6,
    "start_time": "2023-12-07T06:18:55.334Z"
   },
   {
    "duration": 7,
    "start_time": "2023-12-07T06:18:55.342Z"
   },
   {
    "duration": 4,
    "start_time": "2023-12-07T06:18:55.350Z"
   },
   {
    "duration": 30,
    "start_time": "2023-12-07T06:18:55.357Z"
   },
   {
    "duration": 40,
    "start_time": "2023-12-07T06:18:55.389Z"
   },
   {
    "duration": 28,
    "start_time": "2023-12-07T06:18:55.431Z"
   },
   {
    "duration": 78,
    "start_time": "2023-12-07T06:18:55.460Z"
   },
   {
    "duration": 72,
    "start_time": "2023-12-07T06:18:55.539Z"
   },
   {
    "duration": 56,
    "start_time": "2023-12-07T06:18:55.613Z"
   },
   {
    "duration": 53,
    "start_time": "2023-12-07T06:18:55.671Z"
   },
   {
    "duration": 12,
    "start_time": "2023-12-07T06:18:55.726Z"
   },
   {
    "duration": 42,
    "start_time": "2023-12-07T06:18:55.740Z"
   },
   {
    "duration": 32,
    "start_time": "2023-12-07T06:18:55.784Z"
   },
   {
    "duration": 11,
    "start_time": "2023-12-07T06:18:55.817Z"
   },
   {
    "duration": 4,
    "start_time": "2023-12-07T06:18:55.829Z"
   },
   {
    "duration": 25,
    "start_time": "2023-12-07T06:18:55.834Z"
   },
   {
    "duration": 14,
    "start_time": "2023-12-07T06:18:55.861Z"
   },
   {
    "duration": 40,
    "start_time": "2023-12-07T06:18:55.877Z"
   },
   {
    "duration": 14,
    "start_time": "2023-12-07T06:18:55.920Z"
   },
   {
    "duration": 29,
    "start_time": "2023-12-07T06:18:55.935Z"
   },
   {
    "duration": 16,
    "start_time": "2023-12-07T06:18:55.966Z"
   },
   {
    "duration": 33,
    "start_time": "2023-12-07T06:18:55.984Z"
   },
   {
    "duration": 28,
    "start_time": "2023-12-07T06:18:56.019Z"
   },
   {
    "duration": 19,
    "start_time": "2023-12-07T06:18:56.048Z"
   },
   {
    "duration": 101,
    "start_time": "2023-12-07T06:18:56.069Z"
   },
   {
    "duration": 0,
    "start_time": "2023-12-07T06:18:56.171Z"
   },
   {
    "duration": 0,
    "start_time": "2023-12-07T06:18:56.173Z"
   },
   {
    "duration": 0,
    "start_time": "2023-12-07T06:18:56.174Z"
   },
   {
    "duration": 0,
    "start_time": "2023-12-07T06:18:56.175Z"
   },
   {
    "duration": 0,
    "start_time": "2023-12-07T06:18:56.176Z"
   },
   {
    "duration": 0,
    "start_time": "2023-12-07T06:18:56.177Z"
   },
   {
    "duration": 0,
    "start_time": "2023-12-07T06:18:56.178Z"
   },
   {
    "duration": 0,
    "start_time": "2023-12-07T06:18:56.179Z"
   },
   {
    "duration": 2,
    "start_time": "2023-12-07T06:19:48.433Z"
   },
   {
    "duration": 189,
    "start_time": "2023-12-07T06:19:48.437Z"
   },
   {
    "duration": 11,
    "start_time": "2023-12-07T06:19:48.627Z"
   },
   {
    "duration": 43,
    "start_time": "2023-12-07T06:19:48.639Z"
   },
   {
    "duration": 2,
    "start_time": "2023-12-07T06:19:48.684Z"
   },
   {
    "duration": 10,
    "start_time": "2023-12-07T06:19:48.688Z"
   },
   {
    "duration": 18,
    "start_time": "2023-12-07T06:19:48.699Z"
   },
   {
    "duration": 11,
    "start_time": "2023-12-07T06:19:48.718Z"
   },
   {
    "duration": 48,
    "start_time": "2023-12-07T06:19:48.732Z"
   },
   {
    "duration": 26,
    "start_time": "2023-12-07T06:19:48.782Z"
   },
   {
    "duration": 45,
    "start_time": "2023-12-07T06:19:48.809Z"
   },
   {
    "duration": 67,
    "start_time": "2023-12-07T06:19:48.856Z"
   },
   {
    "duration": 67,
    "start_time": "2023-12-07T06:19:48.925Z"
   },
   {
    "duration": 90,
    "start_time": "2023-12-07T06:19:48.994Z"
   },
   {
    "duration": 57,
    "start_time": "2023-12-07T06:19:49.086Z"
   },
   {
    "duration": 11,
    "start_time": "2023-12-07T06:19:49.144Z"
   },
   {
    "duration": 56,
    "start_time": "2023-12-07T06:19:49.156Z"
   },
   {
    "duration": 11,
    "start_time": "2023-12-07T06:19:49.214Z"
   },
   {
    "duration": 11,
    "start_time": "2023-12-07T06:19:49.227Z"
   },
   {
    "duration": 4,
    "start_time": "2023-12-07T06:19:49.239Z"
   },
   {
    "duration": 23,
    "start_time": "2023-12-07T06:19:49.244Z"
   },
   {
    "duration": 43,
    "start_time": "2023-12-07T06:19:49.269Z"
   },
   {
    "duration": 15,
    "start_time": "2023-12-07T06:19:49.313Z"
   },
   {
    "duration": 13,
    "start_time": "2023-12-07T06:19:49.331Z"
   },
   {
    "duration": 16,
    "start_time": "2023-12-07T06:19:49.346Z"
   },
   {
    "duration": 20,
    "start_time": "2023-12-07T06:19:49.363Z"
   },
   {
    "duration": 8,
    "start_time": "2023-12-07T06:19:49.411Z"
   },
   {
    "duration": 19,
    "start_time": "2023-12-07T06:19:49.420Z"
   },
   {
    "duration": 5,
    "start_time": "2023-12-07T06:32:24.622Z"
   },
   {
    "duration": 5,
    "start_time": "2023-12-07T06:32:27.670Z"
   },
   {
    "duration": 4,
    "start_time": "2023-12-07T06:35:23.772Z"
   },
   {
    "duration": 5,
    "start_time": "2023-12-07T06:35:28.760Z"
   },
   {
    "duration": 19,
    "start_time": "2023-12-07T06:38:24.230Z"
   },
   {
    "duration": 13,
    "start_time": "2023-12-07T06:51:29.428Z"
   },
   {
    "duration": 18,
    "start_time": "2023-12-07T06:51:38.398Z"
   },
   {
    "duration": 13,
    "start_time": "2023-12-07T06:51:40.030Z"
   },
   {
    "duration": 8,
    "start_time": "2023-12-07T06:58:36.104Z"
   },
   {
    "duration": 7,
    "start_time": "2023-12-07T06:59:20.171Z"
   },
   {
    "duration": 24,
    "start_time": "2023-12-07T07:00:45.398Z"
   },
   {
    "duration": 10,
    "start_time": "2023-12-07T07:02:06.416Z"
   },
   {
    "duration": 9,
    "start_time": "2023-12-07T07:02:49.513Z"
   },
   {
    "duration": 14,
    "start_time": "2023-12-07T07:03:01.457Z"
   },
   {
    "duration": 12,
    "start_time": "2023-12-07T07:03:07.837Z"
   },
   {
    "duration": 5,
    "start_time": "2023-12-07T07:04:00.855Z"
   },
   {
    "duration": 5,
    "start_time": "2023-12-07T07:04:45.575Z"
   },
   {
    "duration": 11,
    "start_time": "2023-12-07T07:05:04.146Z"
   },
   {
    "duration": 5,
    "start_time": "2023-12-07T07:05:06.052Z"
   },
   {
    "duration": 2,
    "start_time": "2023-12-07T07:05:11.065Z"
   },
   {
    "duration": 188,
    "start_time": "2023-12-07T07:05:11.069Z"
   },
   {
    "duration": 11,
    "start_time": "2023-12-07T07:05:11.258Z"
   },
   {
    "duration": 40,
    "start_time": "2023-12-07T07:05:11.271Z"
   },
   {
    "duration": 3,
    "start_time": "2023-12-07T07:05:11.313Z"
   },
   {
    "duration": 6,
    "start_time": "2023-12-07T07:05:11.317Z"
   },
   {
    "duration": 7,
    "start_time": "2023-12-07T07:05:11.325Z"
   },
   {
    "duration": 4,
    "start_time": "2023-12-07T07:05:11.333Z"
   },
   {
    "duration": 25,
    "start_time": "2023-12-07T07:05:11.340Z"
   },
   {
    "duration": 45,
    "start_time": "2023-12-07T07:05:11.367Z"
   },
   {
    "duration": 25,
    "start_time": "2023-12-07T07:05:11.414Z"
   },
   {
    "duration": 71,
    "start_time": "2023-12-07T07:05:11.441Z"
   },
   {
    "duration": 61,
    "start_time": "2023-12-07T07:05:11.513Z"
   },
   {
    "duration": 84,
    "start_time": "2023-12-07T07:05:11.576Z"
   },
   {
    "duration": 51,
    "start_time": "2023-12-07T07:05:11.662Z"
   },
   {
    "duration": 15,
    "start_time": "2023-12-07T07:05:11.715Z"
   },
   {
    "duration": 53,
    "start_time": "2023-12-07T07:05:11.732Z"
   },
   {
    "duration": 31,
    "start_time": "2023-12-07T07:05:11.787Z"
   },
   {
    "duration": 12,
    "start_time": "2023-12-07T07:05:11.819Z"
   },
   {
    "duration": 4,
    "start_time": "2023-12-07T07:05:11.832Z"
   },
   {
    "duration": 22,
    "start_time": "2023-12-07T07:05:11.837Z"
   },
   {
    "duration": 14,
    "start_time": "2023-12-07T07:05:11.861Z"
   },
   {
    "duration": 41,
    "start_time": "2023-12-07T07:05:11.876Z"
   },
   {
    "duration": 13,
    "start_time": "2023-12-07T07:05:11.920Z"
   },
   {
    "duration": 24,
    "start_time": "2023-12-07T07:05:11.935Z"
   },
   {
    "duration": 21,
    "start_time": "2023-12-07T07:05:11.962Z"
   },
   {
    "duration": 40,
    "start_time": "2023-12-07T07:05:11.984Z"
   },
   {
    "duration": 40,
    "start_time": "2023-12-07T07:05:12.026Z"
   },
   {
    "duration": 13,
    "start_time": "2023-12-07T07:05:12.067Z"
   },
   {
    "duration": 12,
    "start_time": "2023-12-07T07:05:12.081Z"
   },
   {
    "duration": 34,
    "start_time": "2023-12-07T07:05:12.095Z"
   },
   {
    "duration": 12,
    "start_time": "2023-12-07T07:05:12.130Z"
   },
   {
    "duration": 39,
    "start_time": "2023-12-07T07:05:12.144Z"
   },
   {
    "duration": 34,
    "start_time": "2023-12-07T07:05:12.185Z"
   },
   {
    "duration": 29,
    "start_time": "2023-12-07T07:05:12.220Z"
   },
   {
    "duration": 2,
    "start_time": "2023-12-07T07:05:44.656Z"
   },
   {
    "duration": 176,
    "start_time": "2023-12-07T07:05:44.660Z"
   },
   {
    "duration": 11,
    "start_time": "2023-12-07T07:05:44.838Z"
   },
   {
    "duration": 31,
    "start_time": "2023-12-07T07:05:44.850Z"
   },
   {
    "duration": 2,
    "start_time": "2023-12-07T07:05:44.883Z"
   },
   {
    "duration": 25,
    "start_time": "2023-12-07T07:05:44.887Z"
   },
   {
    "duration": 12,
    "start_time": "2023-12-07T07:05:44.913Z"
   },
   {
    "duration": 9,
    "start_time": "2023-12-07T07:05:44.926Z"
   },
   {
    "duration": 37,
    "start_time": "2023-12-07T07:05:44.936Z"
   },
   {
    "duration": 19,
    "start_time": "2023-12-07T07:05:44.975Z"
   },
   {
    "duration": 39,
    "start_time": "2023-12-07T07:05:44.997Z"
   },
   {
    "duration": 102,
    "start_time": "2023-12-07T07:05:45.038Z"
   },
   {
    "duration": 73,
    "start_time": "2023-12-07T07:05:45.142Z"
   },
   {
    "duration": 57,
    "start_time": "2023-12-07T07:05:45.217Z"
   },
   {
    "duration": 54,
    "start_time": "2023-12-07T07:05:45.276Z"
   },
   {
    "duration": 17,
    "start_time": "2023-12-07T07:05:45.331Z"
   },
   {
    "duration": 71,
    "start_time": "2023-12-07T07:05:45.349Z"
   },
   {
    "duration": 15,
    "start_time": "2023-12-07T07:05:45.421Z"
   },
   {
    "duration": 29,
    "start_time": "2023-12-07T07:05:45.437Z"
   },
   {
    "duration": 16,
    "start_time": "2023-12-07T07:05:45.468Z"
   },
   {
    "duration": 40,
    "start_time": "2023-12-07T07:05:45.485Z"
   },
   {
    "duration": 15,
    "start_time": "2023-12-07T07:05:45.526Z"
   },
   {
    "duration": 25,
    "start_time": "2023-12-07T07:05:45.543Z"
   },
   {
    "duration": 17,
    "start_time": "2023-12-07T07:05:45.570Z"
   },
   {
    "duration": 36,
    "start_time": "2023-12-07T07:05:45.588Z"
   },
   {
    "duration": 20,
    "start_time": "2023-12-07T07:05:45.625Z"
   },
   {
    "duration": 9,
    "start_time": "2023-12-07T07:05:45.646Z"
   },
   {
    "duration": 46,
    "start_time": "2023-12-07T07:05:45.656Z"
   },
   {
    "duration": 11,
    "start_time": "2023-12-07T07:05:45.706Z"
   },
   {
    "duration": 8,
    "start_time": "2023-12-07T07:05:45.719Z"
   },
   {
    "duration": 24,
    "start_time": "2023-12-07T07:05:45.728Z"
   },
   {
    "duration": 13,
    "start_time": "2023-12-07T07:05:45.753Z"
   },
   {
    "duration": 19,
    "start_time": "2023-12-07T07:05:45.768Z"
   },
   {
    "duration": 13,
    "start_time": "2023-12-07T07:05:45.811Z"
   },
   {
    "duration": 13,
    "start_time": "2023-12-07T07:05:45.826Z"
   },
   {
    "duration": 5,
    "start_time": "2023-12-07T07:05:59.740Z"
   },
   {
    "duration": 5,
    "start_time": "2023-12-07T07:06:09.687Z"
   },
   {
    "duration": 2,
    "start_time": "2023-12-07T07:06:19.788Z"
   },
   {
    "duration": 174,
    "start_time": "2023-12-07T07:06:19.792Z"
   },
   {
    "duration": 10,
    "start_time": "2023-12-07T07:06:19.967Z"
   },
   {
    "duration": 41,
    "start_time": "2023-12-07T07:06:19.978Z"
   },
   {
    "duration": 8,
    "start_time": "2023-12-07T07:06:20.021Z"
   },
   {
    "duration": 6,
    "start_time": "2023-12-07T07:06:20.030Z"
   },
   {
    "duration": 7,
    "start_time": "2023-12-07T07:06:20.037Z"
   },
   {
    "duration": 4,
    "start_time": "2023-12-07T07:06:20.045Z"
   },
   {
    "duration": 29,
    "start_time": "2023-12-07T07:06:20.050Z"
   },
   {
    "duration": 42,
    "start_time": "2023-12-07T07:06:20.080Z"
   },
   {
    "duration": 29,
    "start_time": "2023-12-07T07:06:20.125Z"
   },
   {
    "duration": 68,
    "start_time": "2023-12-07T07:06:20.156Z"
   },
   {
    "duration": 63,
    "start_time": "2023-12-07T07:06:20.225Z"
   },
   {
    "duration": 65,
    "start_time": "2023-12-07T07:06:20.290Z"
   },
   {
    "duration": 57,
    "start_time": "2023-12-07T07:06:20.357Z"
   },
   {
    "duration": 10,
    "start_time": "2023-12-07T07:06:20.416Z"
   },
   {
    "duration": 40,
    "start_time": "2023-12-07T07:06:20.428Z"
   },
   {
    "duration": 12,
    "start_time": "2023-12-07T07:06:20.469Z"
   },
   {
    "duration": 36,
    "start_time": "2023-12-07T07:06:20.483Z"
   },
   {
    "duration": 3,
    "start_time": "2023-12-07T07:06:20.521Z"
   },
   {
    "duration": 23,
    "start_time": "2023-12-07T07:06:20.526Z"
   },
   {
    "duration": 14,
    "start_time": "2023-12-07T07:06:20.551Z"
   },
   {
    "duration": 25,
    "start_time": "2023-12-07T07:06:20.566Z"
   },
   {
    "duration": 31,
    "start_time": "2023-12-07T07:06:20.593Z"
   },
   {
    "duration": 18,
    "start_time": "2023-12-07T07:06:20.626Z"
   },
   {
    "duration": 15,
    "start_time": "2023-12-07T07:06:20.645Z"
   },
   {
    "duration": 7,
    "start_time": "2023-12-07T07:06:20.662Z"
   },
   {
    "duration": 40,
    "start_time": "2023-12-07T07:06:20.671Z"
   },
   {
    "duration": 10,
    "start_time": "2023-12-07T07:06:20.714Z"
   },
   {
    "duration": 12,
    "start_time": "2023-12-07T07:06:20.726Z"
   },
   {
    "duration": 38,
    "start_time": "2023-12-07T07:06:20.740Z"
   },
   {
    "duration": 10,
    "start_time": "2023-12-07T07:06:20.779Z"
   },
   {
    "duration": 24,
    "start_time": "2023-12-07T07:06:20.791Z"
   },
   {
    "duration": 12,
    "start_time": "2023-12-07T07:06:20.817Z"
   },
   {
    "duration": 31,
    "start_time": "2023-12-07T07:06:20.830Z"
   },
   {
    "duration": 3,
    "start_time": "2023-12-07T07:07:39.640Z"
   },
   {
    "duration": 197,
    "start_time": "2023-12-07T07:07:39.645Z"
   },
   {
    "duration": 10,
    "start_time": "2023-12-07T07:07:39.843Z"
   },
   {
    "duration": 30,
    "start_time": "2023-12-07T07:07:39.855Z"
   },
   {
    "duration": 5,
    "start_time": "2023-12-07T07:07:39.887Z"
   },
   {
    "duration": 33,
    "start_time": "2023-12-07T07:07:39.911Z"
   },
   {
    "duration": 35,
    "start_time": "2023-12-07T07:07:39.945Z"
   },
   {
    "duration": 29,
    "start_time": "2023-12-07T07:07:39.982Z"
   },
   {
    "duration": 45,
    "start_time": "2023-12-07T07:07:40.013Z"
   },
   {
    "duration": 25,
    "start_time": "2023-12-07T07:07:40.060Z"
   },
   {
    "duration": 34,
    "start_time": "2023-12-07T07:07:40.087Z"
   },
   {
    "duration": 117,
    "start_time": "2023-12-07T07:07:40.122Z"
   },
   {
    "duration": 76,
    "start_time": "2023-12-07T07:07:40.240Z"
   },
   {
    "duration": 67,
    "start_time": "2023-12-07T07:07:40.318Z"
   },
   {
    "duration": 59,
    "start_time": "2023-12-07T07:07:40.387Z"
   },
   {
    "duration": 16,
    "start_time": "2023-12-07T07:07:40.447Z"
   },
   {
    "duration": 61,
    "start_time": "2023-12-07T07:07:40.465Z"
   },
   {
    "duration": 12,
    "start_time": "2023-12-07T07:07:40.528Z"
   },
   {
    "duration": 49,
    "start_time": "2023-12-07T07:07:40.543Z"
   },
   {
    "duration": 3,
    "start_time": "2023-12-07T07:07:40.593Z"
   },
   {
    "duration": 25,
    "start_time": "2023-12-07T07:07:40.598Z"
   },
   {
    "duration": 15,
    "start_time": "2023-12-07T07:07:40.624Z"
   },
   {
    "duration": 15,
    "start_time": "2023-12-07T07:07:40.641Z"
   },
   {
    "duration": 14,
    "start_time": "2023-12-07T07:07:40.659Z"
   },
   {
    "duration": 44,
    "start_time": "2023-12-07T07:07:40.675Z"
   },
   {
    "duration": 16,
    "start_time": "2023-12-07T07:07:40.720Z"
   },
   {
    "duration": 8,
    "start_time": "2023-12-07T07:07:40.738Z"
   },
   {
    "duration": 27,
    "start_time": "2023-12-07T07:07:40.747Z"
   },
   {
    "duration": 10,
    "start_time": "2023-12-07T07:07:40.775Z"
   },
   {
    "duration": 8,
    "start_time": "2023-12-07T07:07:40.787Z"
   },
   {
    "duration": 40,
    "start_time": "2023-12-07T07:07:40.796Z"
   },
   {
    "duration": 12,
    "start_time": "2023-12-07T07:07:40.838Z"
   },
   {
    "duration": 20,
    "start_time": "2023-12-07T07:07:40.852Z"
   },
   {
    "duration": 12,
    "start_time": "2023-12-07T07:07:40.874Z"
   },
   {
    "duration": 31,
    "start_time": "2023-12-07T07:07:40.888Z"
   },
   {
    "duration": 5,
    "start_time": "2023-12-07T07:07:40.920Z"
   },
   {
    "duration": 10,
    "start_time": "2023-12-07T07:07:40.926Z"
   },
   {
    "duration": 16,
    "start_time": "2023-12-07T07:07:40.937Z"
   },
   {
    "duration": 3,
    "start_time": "2023-12-07T07:08:10.753Z"
   },
   {
    "duration": 172,
    "start_time": "2023-12-07T07:08:10.758Z"
   },
   {
    "duration": 10,
    "start_time": "2023-12-07T07:08:10.932Z"
   },
   {
    "duration": 31,
    "start_time": "2023-12-07T07:08:10.944Z"
   },
   {
    "duration": 3,
    "start_time": "2023-12-07T07:08:10.976Z"
   },
   {
    "duration": 8,
    "start_time": "2023-12-07T07:08:10.980Z"
   },
   {
    "duration": 25,
    "start_time": "2023-12-07T07:08:10.990Z"
   },
   {
    "duration": 4,
    "start_time": "2023-12-07T07:08:11.016Z"
   },
   {
    "duration": 47,
    "start_time": "2023-12-07T07:08:11.021Z"
   },
   {
    "duration": 18,
    "start_time": "2023-12-07T07:08:11.070Z"
   },
   {
    "duration": 34,
    "start_time": "2023-12-07T07:08:11.089Z"
   },
   {
    "duration": 61,
    "start_time": "2023-12-07T07:08:11.125Z"
   },
   {
    "duration": 78,
    "start_time": "2023-12-07T07:08:11.188Z"
   },
   {
    "duration": 62,
    "start_time": "2023-12-07T07:08:11.268Z"
   },
   {
    "duration": 42,
    "start_time": "2023-12-07T07:08:11.332Z"
   },
   {
    "duration": 12,
    "start_time": "2023-12-07T07:08:11.375Z"
   },
   {
    "duration": 58,
    "start_time": "2023-12-07T07:08:11.389Z"
   },
   {
    "duration": 15,
    "start_time": "2023-12-07T07:08:11.448Z"
   },
   {
    "duration": 13,
    "start_time": "2023-12-07T07:08:11.464Z"
   },
   {
    "duration": 4,
    "start_time": "2023-12-07T07:08:11.479Z"
   },
   {
    "duration": 50,
    "start_time": "2023-12-07T07:08:11.485Z"
   },
   {
    "duration": 14,
    "start_time": "2023-12-07T07:08:11.537Z"
   },
   {
    "duration": 15,
    "start_time": "2023-12-07T07:08:11.553Z"
   },
   {
    "duration": 43,
    "start_time": "2023-12-07T07:08:11.569Z"
   },
   {
    "duration": 17,
    "start_time": "2023-12-07T07:08:11.614Z"
   },
   {
    "duration": 14,
    "start_time": "2023-12-07T07:08:11.633Z"
   },
   {
    "duration": 10,
    "start_time": "2023-12-07T07:08:11.649Z"
   },
   {
    "duration": 23,
    "start_time": "2023-12-07T07:08:11.662Z"
   },
   {
    "duration": 26,
    "start_time": "2023-12-07T07:08:11.687Z"
   },
   {
    "duration": 4,
    "start_time": "2023-12-07T07:08:11.715Z"
   },
   {
    "duration": 24,
    "start_time": "2023-12-07T07:08:11.721Z"
   },
   {
    "duration": 11,
    "start_time": "2023-12-07T07:08:11.747Z"
   },
   {
    "duration": 20,
    "start_time": "2023-12-07T07:08:11.760Z"
   },
   {
    "duration": 33,
    "start_time": "2023-12-07T07:08:11.782Z"
   },
   {
    "duration": 27,
    "start_time": "2023-12-07T07:08:11.817Z"
   },
   {
    "duration": 0,
    "start_time": "2023-12-07T07:08:11.845Z"
   },
   {
    "duration": 0,
    "start_time": "2023-12-07T07:08:11.846Z"
   },
   {
    "duration": 0,
    "start_time": "2023-12-07T07:08:11.847Z"
   },
   {
    "duration": 3,
    "start_time": "2023-12-07T07:08:25.278Z"
   },
   {
    "duration": 183,
    "start_time": "2023-12-07T07:08:25.284Z"
   },
   {
    "duration": 10,
    "start_time": "2023-12-07T07:08:25.468Z"
   },
   {
    "duration": 44,
    "start_time": "2023-12-07T07:08:25.480Z"
   },
   {
    "duration": 2,
    "start_time": "2023-12-07T07:08:25.526Z"
   },
   {
    "duration": 11,
    "start_time": "2023-12-07T07:08:25.529Z"
   },
   {
    "duration": 16,
    "start_time": "2023-12-07T07:08:25.541Z"
   },
   {
    "duration": 9,
    "start_time": "2023-12-07T07:08:25.559Z"
   },
   {
    "duration": 57,
    "start_time": "2023-12-07T07:08:25.570Z"
   },
   {
    "duration": 22,
    "start_time": "2023-12-07T07:08:25.628Z"
   },
   {
    "duration": 26,
    "start_time": "2023-12-07T07:08:25.652Z"
   },
   {
    "duration": 74,
    "start_time": "2023-12-07T07:08:25.679Z"
   },
   {
    "duration": 73,
    "start_time": "2023-12-07T07:08:25.755Z"
   },
   {
    "duration": 55,
    "start_time": "2023-12-07T07:08:25.830Z"
   },
   {
    "duration": 53,
    "start_time": "2023-12-07T07:08:25.886Z"
   },
   {
    "duration": 10,
    "start_time": "2023-12-07T07:08:25.941Z"
   },
   {
    "duration": 41,
    "start_time": "2023-12-07T07:08:25.953Z"
   },
   {
    "duration": 11,
    "start_time": "2023-12-07T07:08:26.012Z"
   },
   {
    "duration": 11,
    "start_time": "2023-12-07T07:08:26.025Z"
   },
   {
    "duration": 4,
    "start_time": "2023-12-07T07:08:26.037Z"
   },
   {
    "duration": 28,
    "start_time": "2023-12-07T07:08:26.042Z"
   },
   {
    "duration": 19,
    "start_time": "2023-12-07T07:08:26.072Z"
   },
   {
    "duration": 31,
    "start_time": "2023-12-07T07:08:26.092Z"
   },
   {
    "duration": 14,
    "start_time": "2023-12-07T07:08:26.126Z"
   },
   {
    "duration": 23,
    "start_time": "2023-12-07T07:08:26.142Z"
   },
   {
    "duration": 15,
    "start_time": "2023-12-07T07:08:26.167Z"
   },
   {
    "duration": 29,
    "start_time": "2023-12-07T07:08:26.183Z"
   },
   {
    "duration": 13,
    "start_time": "2023-12-07T07:08:26.214Z"
   },
   {
    "duration": 10,
    "start_time": "2023-12-07T07:08:26.229Z"
   },
   {
    "duration": 15,
    "start_time": "2023-12-07T07:08:26.240Z"
   },
   {
    "duration": 22,
    "start_time": "2023-12-07T07:08:26.256Z"
   },
   {
    "duration": 23,
    "start_time": "2023-12-07T07:08:26.279Z"
   },
   {
    "duration": 21,
    "start_time": "2023-12-07T07:08:26.303Z"
   },
   {
    "duration": 12,
    "start_time": "2023-12-07T07:08:26.325Z"
   },
   {
    "duration": 27,
    "start_time": "2023-12-07T07:08:26.339Z"
   },
   {
    "duration": 0,
    "start_time": "2023-12-07T07:08:26.368Z"
   },
   {
    "duration": 0,
    "start_time": "2023-12-07T07:08:26.369Z"
   },
   {
    "duration": 0,
    "start_time": "2023-12-07T07:08:26.370Z"
   },
   {
    "duration": 2,
    "start_time": "2023-12-07T07:08:55.479Z"
   },
   {
    "duration": 218,
    "start_time": "2023-12-07T07:08:55.483Z"
   },
   {
    "duration": 14,
    "start_time": "2023-12-07T07:08:55.702Z"
   },
   {
    "duration": 40,
    "start_time": "2023-12-07T07:08:55.719Z"
   },
   {
    "duration": 7,
    "start_time": "2023-12-07T07:08:55.761Z"
   },
   {
    "duration": 23,
    "start_time": "2023-12-07T07:08:55.769Z"
   },
   {
    "duration": 18,
    "start_time": "2023-12-07T07:08:55.794Z"
   },
   {
    "duration": 5,
    "start_time": "2023-12-07T07:08:55.813Z"
   },
   {
    "duration": 26,
    "start_time": "2023-12-07T07:08:55.820Z"
   },
   {
    "duration": 18,
    "start_time": "2023-12-07T07:08:55.848Z"
   },
   {
    "duration": 47,
    "start_time": "2023-12-07T07:08:55.868Z"
   },
   {
    "duration": 64,
    "start_time": "2023-12-07T07:08:55.916Z"
   },
   {
    "duration": 79,
    "start_time": "2023-12-07T07:08:55.981Z"
   },
   {
    "duration": 64,
    "start_time": "2023-12-07T07:08:56.062Z"
   },
   {
    "duration": 44,
    "start_time": "2023-12-07T07:08:56.128Z"
   },
   {
    "duration": 12,
    "start_time": "2023-12-07T07:08:56.174Z"
   },
   {
    "duration": 76,
    "start_time": "2023-12-07T07:08:56.187Z"
   },
   {
    "duration": 11,
    "start_time": "2023-12-07T07:08:56.264Z"
   },
   {
    "duration": 16,
    "start_time": "2023-12-07T07:08:56.277Z"
   },
   {
    "duration": 18,
    "start_time": "2023-12-07T07:08:56.294Z"
   },
   {
    "duration": 31,
    "start_time": "2023-12-07T07:08:56.313Z"
   },
   {
    "duration": 17,
    "start_time": "2023-12-07T07:08:56.345Z"
   },
   {
    "duration": 15,
    "start_time": "2023-12-07T07:08:56.363Z"
   },
   {
    "duration": 14,
    "start_time": "2023-12-07T07:08:56.380Z"
   },
   {
    "duration": 17,
    "start_time": "2023-12-07T07:08:56.411Z"
   },
   {
    "duration": 17,
    "start_time": "2023-12-07T07:08:56.430Z"
   },
   {
    "duration": 8,
    "start_time": "2023-12-07T07:08:56.449Z"
   },
   {
    "duration": 13,
    "start_time": "2023-12-07T07:08:56.459Z"
   },
   {
    "duration": 42,
    "start_time": "2023-12-07T07:08:56.474Z"
   },
   {
    "duration": 5,
    "start_time": "2023-12-07T07:08:56.517Z"
   },
   {
    "duration": 24,
    "start_time": "2023-12-07T07:08:56.523Z"
   },
   {
    "duration": 11,
    "start_time": "2023-12-07T07:08:56.549Z"
   },
   {
    "duration": 20,
    "start_time": "2023-12-07T07:08:56.562Z"
   },
   {
    "duration": 12,
    "start_time": "2023-12-07T07:08:56.611Z"
   },
   {
    "duration": 32,
    "start_time": "2023-12-07T07:08:56.625Z"
   },
   {
    "duration": 7,
    "start_time": "2023-12-07T07:08:56.659Z"
   },
   {
    "duration": 13,
    "start_time": "2023-12-07T07:08:56.668Z"
   },
   {
    "duration": 4,
    "start_time": "2023-12-07T07:08:56.682Z"
   },
   {
    "duration": 4,
    "start_time": "2023-12-07T07:09:52.045Z"
   },
   {
    "duration": 206,
    "start_time": "2023-12-07T07:09:52.051Z"
   },
   {
    "duration": 10,
    "start_time": "2023-12-07T07:09:52.259Z"
   },
   {
    "duration": 47,
    "start_time": "2023-12-07T07:09:52.271Z"
   },
   {
    "duration": 3,
    "start_time": "2023-12-07T07:09:52.319Z"
   },
   {
    "duration": 15,
    "start_time": "2023-12-07T07:09:52.324Z"
   },
   {
    "duration": 15,
    "start_time": "2023-12-07T07:09:52.341Z"
   },
   {
    "duration": 16,
    "start_time": "2023-12-07T07:09:52.358Z"
   },
   {
    "duration": 31,
    "start_time": "2023-12-07T07:09:52.377Z"
   },
   {
    "duration": 31,
    "start_time": "2023-12-07T07:09:52.410Z"
   },
   {
    "duration": 27,
    "start_time": "2023-12-07T07:09:52.442Z"
   },
   {
    "duration": 72,
    "start_time": "2023-12-07T07:09:52.471Z"
   },
   {
    "duration": 71,
    "start_time": "2023-12-07T07:09:52.545Z"
   },
   {
    "duration": 101,
    "start_time": "2023-12-07T07:09:52.617Z"
   },
   {
    "duration": 56,
    "start_time": "2023-12-07T07:09:52.719Z"
   },
   {
    "duration": 11,
    "start_time": "2023-12-07T07:09:52.776Z"
   },
   {
    "duration": 68,
    "start_time": "2023-12-07T07:09:52.788Z"
   },
   {
    "duration": 27,
    "start_time": "2023-12-07T07:09:52.858Z"
   },
   {
    "duration": 17,
    "start_time": "2023-12-07T07:09:52.887Z"
   },
   {
    "duration": 12,
    "start_time": "2023-12-07T07:09:52.906Z"
   },
   {
    "duration": 28,
    "start_time": "2023-12-07T07:09:52.920Z"
   },
   {
    "duration": 35,
    "start_time": "2023-12-07T07:09:52.949Z"
   },
   {
    "duration": 31,
    "start_time": "2023-12-07T07:09:52.986Z"
   },
   {
    "duration": 14,
    "start_time": "2023-12-07T07:09:53.021Z"
   },
   {
    "duration": 36,
    "start_time": "2023-12-07T07:09:53.036Z"
   },
   {
    "duration": 16,
    "start_time": "2023-12-07T07:09:53.073Z"
   },
   {
    "duration": 12,
    "start_time": "2023-12-07T07:09:53.090Z"
   },
   {
    "duration": 14,
    "start_time": "2023-12-07T07:09:53.111Z"
   },
   {
    "duration": 24,
    "start_time": "2023-12-07T07:09:53.127Z"
   },
   {
    "duration": 5,
    "start_time": "2023-12-07T07:09:53.152Z"
   },
   {
    "duration": 23,
    "start_time": "2023-12-07T07:09:53.159Z"
   },
   {
    "duration": 28,
    "start_time": "2023-12-07T07:09:53.184Z"
   },
   {
    "duration": 25,
    "start_time": "2023-12-07T07:09:53.214Z"
   },
   {
    "duration": 12,
    "start_time": "2023-12-07T07:09:53.242Z"
   },
   {
    "duration": 38,
    "start_time": "2023-12-07T07:09:53.256Z"
   },
   {
    "duration": 0,
    "start_time": "2023-12-07T07:09:53.297Z"
   },
   {
    "duration": 0,
    "start_time": "2023-12-07T07:09:53.298Z"
   },
   {
    "duration": 0,
    "start_time": "2023-12-07T07:09:53.299Z"
   },
   {
    "duration": 2,
    "start_time": "2023-12-07T07:10:29.461Z"
   },
   {
    "duration": 207,
    "start_time": "2023-12-07T07:10:29.465Z"
   },
   {
    "duration": 15,
    "start_time": "2023-12-07T07:10:29.675Z"
   },
   {
    "duration": 44,
    "start_time": "2023-12-07T07:10:29.692Z"
   },
   {
    "duration": 3,
    "start_time": "2023-12-07T07:10:29.737Z"
   },
   {
    "duration": 8,
    "start_time": "2023-12-07T07:10:29.742Z"
   },
   {
    "duration": 16,
    "start_time": "2023-12-07T07:10:29.751Z"
   },
   {
    "duration": 11,
    "start_time": "2023-12-07T07:10:29.769Z"
   },
   {
    "duration": 40,
    "start_time": "2023-12-07T07:10:29.783Z"
   },
   {
    "duration": 25,
    "start_time": "2023-12-07T07:10:29.825Z"
   },
   {
    "duration": 26,
    "start_time": "2023-12-07T07:10:29.852Z"
   },
   {
    "duration": 77,
    "start_time": "2023-12-07T07:10:29.879Z"
   },
   {
    "duration": 69,
    "start_time": "2023-12-07T07:10:29.957Z"
   },
   {
    "duration": 58,
    "start_time": "2023-12-07T07:10:30.028Z"
   },
   {
    "duration": 58,
    "start_time": "2023-12-07T07:10:30.088Z"
   },
   {
    "duration": 11,
    "start_time": "2023-12-07T07:10:30.148Z"
   },
   {
    "duration": 55,
    "start_time": "2023-12-07T07:10:30.161Z"
   },
   {
    "duration": 12,
    "start_time": "2023-12-07T07:10:30.218Z"
   },
   {
    "duration": 20,
    "start_time": "2023-12-07T07:10:30.232Z"
   },
   {
    "duration": 25,
    "start_time": "2023-12-07T07:10:30.254Z"
   },
   {
    "duration": 44,
    "start_time": "2023-12-07T07:10:30.280Z"
   },
   {
    "duration": 38,
    "start_time": "2023-12-07T07:10:30.326Z"
   },
   {
    "duration": 20,
    "start_time": "2023-12-07T07:10:30.366Z"
   },
   {
    "duration": 14,
    "start_time": "2023-12-07T07:10:30.390Z"
   },
   {
    "duration": 47,
    "start_time": "2023-12-07T07:10:30.405Z"
   },
   {
    "duration": 21,
    "start_time": "2023-12-07T07:10:30.453Z"
   },
   {
    "duration": 12,
    "start_time": "2023-12-07T07:10:30.475Z"
   },
   {
    "duration": 16,
    "start_time": "2023-12-07T07:10:30.488Z"
   },
   {
    "duration": 15,
    "start_time": "2023-12-07T07:10:30.505Z"
   },
   {
    "duration": 13,
    "start_time": "2023-12-07T07:10:30.521Z"
   },
   {
    "duration": 33,
    "start_time": "2023-12-07T07:10:30.535Z"
   },
   {
    "duration": 14,
    "start_time": "2023-12-07T07:10:30.569Z"
   },
   {
    "duration": 24,
    "start_time": "2023-12-07T07:10:30.585Z"
   },
   {
    "duration": 19,
    "start_time": "2023-12-07T07:10:30.611Z"
   },
   {
    "duration": 25,
    "start_time": "2023-12-07T07:10:30.632Z"
   },
   {
    "duration": 0,
    "start_time": "2023-12-07T07:10:30.658Z"
   },
   {
    "duration": 0,
    "start_time": "2023-12-07T07:10:30.659Z"
   },
   {
    "duration": 0,
    "start_time": "2023-12-07T07:10:30.660Z"
   },
   {
    "duration": 2,
    "start_time": "2023-12-07T07:10:48.012Z"
   },
   {
    "duration": 196,
    "start_time": "2023-12-07T07:10:48.015Z"
   },
   {
    "duration": 10,
    "start_time": "2023-12-07T07:10:48.213Z"
   },
   {
    "duration": 63,
    "start_time": "2023-12-07T07:10:48.225Z"
   },
   {
    "duration": 2,
    "start_time": "2023-12-07T07:10:48.291Z"
   },
   {
    "duration": 7,
    "start_time": "2023-12-07T07:10:48.294Z"
   },
   {
    "duration": 11,
    "start_time": "2023-12-07T07:10:48.302Z"
   },
   {
    "duration": 18,
    "start_time": "2023-12-07T07:10:48.314Z"
   },
   {
    "duration": 37,
    "start_time": "2023-12-07T07:10:48.333Z"
   },
   {
    "duration": 18,
    "start_time": "2023-12-07T07:10:48.372Z"
   },
   {
    "duration": 25,
    "start_time": "2023-12-07T07:10:48.392Z"
   },
   {
    "duration": 65,
    "start_time": "2023-12-07T07:10:48.419Z"
   },
   {
    "duration": 99,
    "start_time": "2023-12-07T07:10:48.486Z"
   },
   {
    "duration": 69,
    "start_time": "2023-12-07T07:10:48.587Z"
   },
   {
    "duration": 55,
    "start_time": "2023-12-07T07:10:48.657Z"
   },
   {
    "duration": 17,
    "start_time": "2023-12-07T07:10:48.714Z"
   },
   {
    "duration": 48,
    "start_time": "2023-12-07T07:10:48.733Z"
   },
   {
    "duration": 32,
    "start_time": "2023-12-07T07:10:48.782Z"
   },
   {
    "duration": 13,
    "start_time": "2023-12-07T07:10:48.816Z"
   },
   {
    "duration": 4,
    "start_time": "2023-12-07T07:10:48.830Z"
   },
   {
    "duration": 20,
    "start_time": "2023-12-07T07:10:48.835Z"
   },
   {
    "duration": 15,
    "start_time": "2023-12-07T07:10:48.856Z"
   },
   {
    "duration": 48,
    "start_time": "2023-12-07T07:10:48.873Z"
   },
   {
    "duration": 15,
    "start_time": "2023-12-07T07:10:48.922Z"
   },
   {
    "duration": 17,
    "start_time": "2023-12-07T07:10:48.939Z"
   },
   {
    "duration": 16,
    "start_time": "2023-12-07T07:10:48.958Z"
   },
   {
    "duration": 43,
    "start_time": "2023-12-07T07:10:48.975Z"
   },
   {
    "duration": 17,
    "start_time": "2023-12-07T07:10:49.019Z"
   },
   {
    "duration": 11,
    "start_time": "2023-12-07T07:10:49.039Z"
   },
   {
    "duration": 4,
    "start_time": "2023-12-07T07:10:49.052Z"
   },
   {
    "duration": 47,
    "start_time": "2023-12-07T07:10:49.058Z"
   },
   {
    "duration": 14,
    "start_time": "2023-12-07T07:10:49.106Z"
   },
   {
    "duration": 23,
    "start_time": "2023-12-07T07:10:49.121Z"
   },
   {
    "duration": 12,
    "start_time": "2023-12-07T07:10:49.146Z"
   },
   {
    "duration": 14,
    "start_time": "2023-12-07T07:10:49.159Z"
   },
   {
    "duration": 7,
    "start_time": "2023-12-07T07:10:49.174Z"
   },
   {
    "duration": 6,
    "start_time": "2023-12-07T07:10:49.183Z"
   },
   {
    "duration": 20,
    "start_time": "2023-12-07T07:10:49.191Z"
   },
   {
    "duration": 6,
    "start_time": "2023-12-07T07:11:29.629Z"
   },
   {
    "duration": 4,
    "start_time": "2023-12-07T07:11:34.642Z"
   },
   {
    "duration": 2,
    "start_time": "2023-12-07T07:11:51.363Z"
   },
   {
    "duration": 187,
    "start_time": "2023-12-07T07:11:51.367Z"
   },
   {
    "duration": 14,
    "start_time": "2023-12-07T07:11:51.556Z"
   },
   {
    "duration": 46,
    "start_time": "2023-12-07T07:11:51.572Z"
   },
   {
    "duration": 2,
    "start_time": "2023-12-07T07:11:51.620Z"
   },
   {
    "duration": 8,
    "start_time": "2023-12-07T07:11:51.624Z"
   },
   {
    "duration": 15,
    "start_time": "2023-12-07T07:11:51.634Z"
   },
   {
    "duration": 8,
    "start_time": "2023-12-07T07:11:51.650Z"
   },
   {
    "duration": 28,
    "start_time": "2023-12-07T07:11:51.660Z"
   },
   {
    "duration": 40,
    "start_time": "2023-12-07T07:11:51.689Z"
   },
   {
    "duration": 28,
    "start_time": "2023-12-07T07:11:51.730Z"
   },
   {
    "duration": 77,
    "start_time": "2023-12-07T07:11:51.759Z"
   },
   {
    "duration": 77,
    "start_time": "2023-12-07T07:11:51.838Z"
   },
   {
    "duration": 62,
    "start_time": "2023-12-07T07:11:51.919Z"
   },
   {
    "duration": 71,
    "start_time": "2023-12-07T07:11:51.983Z"
   },
   {
    "duration": 14,
    "start_time": "2023-12-07T07:11:52.056Z"
   },
   {
    "duration": 52,
    "start_time": "2023-12-07T07:11:52.072Z"
   },
   {
    "duration": 13,
    "start_time": "2023-12-07T07:11:52.125Z"
   },
   {
    "duration": 12,
    "start_time": "2023-12-07T07:11:52.140Z"
   },
   {
    "duration": 4,
    "start_time": "2023-12-07T07:11:52.154Z"
   },
   {
    "duration": 46,
    "start_time": "2023-12-07T07:11:52.159Z"
   },
   {
    "duration": 18,
    "start_time": "2023-12-07T07:11:52.207Z"
   },
   {
    "duration": 19,
    "start_time": "2023-12-07T07:11:52.226Z"
   },
   {
    "duration": 18,
    "start_time": "2023-12-07T07:11:52.247Z"
   },
   {
    "duration": 15,
    "start_time": "2023-12-07T07:11:52.266Z"
   },
   {
    "duration": 29,
    "start_time": "2023-12-07T07:11:52.283Z"
   },
   {
    "duration": 8,
    "start_time": "2023-12-07T07:11:52.313Z"
   },
   {
    "duration": 16,
    "start_time": "2023-12-07T07:11:52.322Z"
   },
   {
    "duration": 11,
    "start_time": "2023-12-07T07:11:52.339Z"
   },
   {
    "duration": 4,
    "start_time": "2023-12-07T07:11:52.352Z"
   },
   {
    "duration": 19,
    "start_time": "2023-12-07T07:11:52.358Z"
   },
   {
    "duration": 35,
    "start_time": "2023-12-07T07:11:52.378Z"
   },
   {
    "duration": 20,
    "start_time": "2023-12-07T07:11:52.414Z"
   },
   {
    "duration": 12,
    "start_time": "2023-12-07T07:11:52.435Z"
   },
   {
    "duration": 20,
    "start_time": "2023-12-07T07:11:52.449Z"
   },
   {
    "duration": 5,
    "start_time": "2023-12-07T07:11:52.470Z"
   },
   {
    "duration": 24,
    "start_time": "2023-12-07T07:11:52.476Z"
   },
   {
    "duration": 10,
    "start_time": "2023-12-07T07:11:52.501Z"
   },
   {
    "duration": 7,
    "start_time": "2023-12-07T07:14:15.971Z"
   },
   {
    "duration": 6,
    "start_time": "2023-12-07T07:14:18.539Z"
   },
   {
    "duration": 9,
    "start_time": "2023-12-07T07:14:34.480Z"
   },
   {
    "duration": 6,
    "start_time": "2023-12-07T07:14:36.352Z"
   },
   {
    "duration": 5,
    "start_time": "2023-12-07T07:15:05.308Z"
   },
   {
    "duration": 6,
    "start_time": "2023-12-07T07:15:06.949Z"
   },
   {
    "duration": 6,
    "start_time": "2023-12-07T07:15:09.163Z"
   },
   {
    "duration": 5,
    "start_time": "2023-12-07T07:15:13.170Z"
   },
   {
    "duration": 44,
    "start_time": "2024-01-16T19:54:06.333Z"
   },
   {
    "duration": 6,
    "start_time": "2024-01-16T19:54:43.432Z"
   },
   {
    "duration": 373,
    "start_time": "2024-01-16T19:54:56.361Z"
   },
   {
    "duration": 210,
    "start_time": "2024-01-16T19:54:56.735Z"
   },
   {
    "duration": 15,
    "start_time": "2024-01-16T19:54:56.946Z"
   },
   {
    "duration": 36,
    "start_time": "2024-01-16T19:54:56.962Z"
   },
   {
    "duration": 9,
    "start_time": "2024-01-16T19:54:57.000Z"
   },
   {
    "duration": 43,
    "start_time": "2024-01-16T19:54:57.010Z"
   },
   {
    "duration": 24,
    "start_time": "2024-01-16T19:54:57.054Z"
   },
   {
    "duration": 8,
    "start_time": "2024-01-16T19:54:57.080Z"
   },
   {
    "duration": 37,
    "start_time": "2024-01-16T19:54:57.089Z"
   },
   {
    "duration": 22,
    "start_time": "2024-01-16T19:54:57.127Z"
   },
   {
    "duration": 70,
    "start_time": "2024-01-16T19:54:57.150Z"
   },
   {
    "duration": 69,
    "start_time": "2024-01-16T19:54:57.222Z"
   },
   {
    "duration": 81,
    "start_time": "2024-01-16T19:54:57.293Z"
   },
   {
    "duration": 57,
    "start_time": "2024-01-16T19:54:57.377Z"
   },
   {
    "duration": 46,
    "start_time": "2024-01-16T19:54:57.436Z"
   },
   {
    "duration": 11,
    "start_time": "2024-01-16T19:54:57.483Z"
   },
   {
    "duration": 51,
    "start_time": "2024-01-16T19:54:57.495Z"
   },
   {
    "duration": 10,
    "start_time": "2024-01-16T19:54:57.548Z"
   },
   {
    "duration": 10,
    "start_time": "2024-01-16T19:54:57.560Z"
   },
   {
    "duration": 12,
    "start_time": "2024-01-16T19:54:57.571Z"
   },
   {
    "duration": 37,
    "start_time": "2024-01-16T19:54:57.585Z"
   },
   {
    "duration": 13,
    "start_time": "2024-01-16T19:54:57.623Z"
   },
   {
    "duration": 21,
    "start_time": "2024-01-16T19:54:57.637Z"
   },
   {
    "duration": 12,
    "start_time": "2024-01-16T19:54:57.659Z"
   },
   {
    "duration": 22,
    "start_time": "2024-01-16T19:54:57.672Z"
   },
   {
    "duration": 18,
    "start_time": "2024-01-16T19:54:57.695Z"
   },
   {
    "duration": 8,
    "start_time": "2024-01-16T19:54:57.714Z"
   },
   {
    "duration": 25,
    "start_time": "2024-01-16T19:54:57.724Z"
   },
   {
    "duration": 10,
    "start_time": "2024-01-16T19:54:57.750Z"
   },
   {
    "duration": 5,
    "start_time": "2024-01-16T19:54:57.761Z"
   },
   {
    "duration": 30,
    "start_time": "2024-01-16T19:54:57.768Z"
   },
   {
    "duration": 11,
    "start_time": "2024-01-16T19:54:57.800Z"
   },
   {
    "duration": 21,
    "start_time": "2024-01-16T19:54:57.812Z"
   },
   {
    "duration": 18,
    "start_time": "2024-01-16T19:54:57.834Z"
   },
   {
    "duration": 18,
    "start_time": "2024-01-16T19:54:57.854Z"
   },
   {
    "duration": 5,
    "start_time": "2024-01-16T19:54:57.874Z"
   },
   {
    "duration": 12,
    "start_time": "2024-01-16T19:54:57.880Z"
   },
   {
    "duration": 23,
    "start_time": "2024-01-16T19:54:57.894Z"
   }
  ],
  "colab": {
   "collapsed_sections": [
    "E0vqbgi9ay0H",
    "VUC88oWjTJw2"
   ],
   "provenance": []
  },
  "kernelspec": {
   "display_name": "Python 3 (ipykernel)",
   "language": "python",
   "name": "python3"
  },
  "language_info": {
   "codemirror_mode": {
    "name": "ipython",
    "version": 3
   },
   "file_extension": ".py",
   "mimetype": "text/x-python",
   "name": "python",
   "nbconvert_exporter": "python",
   "pygments_lexer": "ipython3",
   "version": "3.11.7"
  },
  "toc": {
   "base_numbering": 1,
   "nav_menu": {
    "height": "215px",
    "width": "403px"
   },
   "number_sections": true,
   "sideBar": true,
   "skip_h1_title": true,
   "title_cell": "Table of Contents",
   "title_sidebar": "Contents",
   "toc_cell": false,
   "toc_position": {
    "height": "calc(100% - 180px)",
    "left": "10px",
    "top": "150px",
    "width": "285.825px"
   },
   "toc_section_display": true,
   "toc_window_display": false
  }
 },
 "nbformat": 4,
 "nbformat_minor": 4
}
