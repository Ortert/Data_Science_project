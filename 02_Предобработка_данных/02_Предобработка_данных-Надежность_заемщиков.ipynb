{
 "cells": [
  {
   "cell_type": "markdown",
   "id": "e5835231",
   "metadata": {
    "deletable": false,
    "editable": false,
    "id": "c81daeeb"
   },
   "source": [
    "# Исследование надежности заемщиков\n"
   ]
  },
  {
   "cell_type": "markdown",
   "id": "55ba06c7",
   "metadata": {},
   "source": [
    "**Описание проекта**:\n",
    "\n",
    "Выполнить исследование о влиянии семейного положения, количества детей, дохода и целей получения кредита клиентом, на факт погашения кредита в срок. "
   ]
  },
  {
   "cell_type": "markdown",
   "id": "47905834",
   "metadata": {},
   "source": [
    "**Цель проекта:** \n",
    "\n",
    "Собрать данные для последующего формирования модели кредитного скоринга — специальной системы, которая оценивает способность потенциального заёмщика вернуть кредит банку"
   ]
  },
  {
   "cell_type": "markdown",
   "id": "7edfe744",
   "metadata": {},
   "source": [
    "**Описание данных:**\n",
    "\n",
    "Входные данные от банка — статистика о платёжеспособности клиентов, содержащая следующие сведения:\n",
    "\n",
    "\n",
    "*children* — количество детей в семье\n",
    "\n",
    "*days_employed* — общий трудовой стаж в днях\n",
    "\n",
    "*dob_years* — возраст клиента в годах\n",
    "\n",
    "*education* — уровень образования клиента\n",
    "\n",
    "*education_id* — идентификатор уровня образования\n",
    "\n",
    "*family_status* — семейное положение\n",
    "\n",
    "*family_status_id* — идентификатор семейного положения\n",
    "\n",
    "*gender* — пол клиента\n",
    "\n",
    "*income_type* — тип занятости\n",
    "\n",
    "*debt* — имел ли задолженность по возврату кредитов\n",
    "\n",
    "*total_income* — ежемесячный доход\n",
    "\n",
    "*purpose* — цель получения кредита"
   ]
  },
  {
   "cell_type": "markdown",
   "id": "f0cd6cc9",
   "metadata": {},
   "source": [
    "**План работы:**\n",
    "1. Изучить предоставленные данные.\n",
    "2. Выполнить предобработку данных \n",
    "3. Исследовать зависимость кол-ва детей у клиента на возврат кредита\n",
    "4. Исследовать зависимость семейного положения клиента на возврат кредита\n",
    "5. Исследовать зависимость дохода клиента на возврат кредита\n",
    "6. Исследовать зависимость цели получения кредита на возврат кредита\n",
    "7. Дать общий вывод по выполненному исследованию\n"
   ]
  },
  {
   "cell_type": "markdown",
   "id": "8d1a4912",
   "metadata": {
    "deletable": false,
    "editable": false,
    "id": "827c20bf"
   },
   "source": [
    "Во второй части проекта вы выполните шаги 3 и 4. Их вручную проверит ревьюер.\n",
    "Чтобы вам не пришлось писать код заново для шагов 1 и 2, мы добавили авторские решения в ячейки с кодом. \n",
    "\n"
   ]
  },
  {
   "cell_type": "markdown",
   "id": "621a8b8a",
   "metadata": {
    "deletable": false,
    "editable": false,
    "id": "744d7639"
   },
   "source": [
    "## Откройте таблицу и изучите общую информацию о данных"
   ]
  },
  {
   "cell_type": "markdown",
   "id": "fee0f556",
   "metadata": {
    "deletable": false,
    "editable": false,
    "id": "e7a14c31"
   },
   "source": [
    "**Задание 1. Импортируйте библиотеку pandas. Считайте данные из csv-файла в датафрейм и сохраните в переменную `data`. Путь к файлу:**\n",
    "\n",
    "`/datasets/data.csv`"
   ]
  },
  {
   "cell_type": "code",
   "execution_count": 9,
   "id": "e5d08a81",
   "metadata": {
    "deletable": false,
    "id": "7bcf75c9"
   },
   "outputs": [],
   "source": [
    "import pandas as pd\n",
    "\n",
    "try:\n",
    "    data = pd.read_csv('/datasets/data.csv')\n",
    "except:\n",
    "    data = pd.read_csv('https://code.s3.yandex.net/datasets/data.csv')"
   ]
  },
  {
   "cell_type": "markdown",
   "id": "6ea364cf",
   "metadata": {
    "deletable": false,
    "editable": false,
    "id": "b8038fe3"
   },
   "source": [
    "**Задание 2. Выведите первые 20 строчек датафрейма `data` на экран.**"
   ]
  },
  {
   "cell_type": "code",
   "execution_count": 11,
   "id": "8b95ae77",
   "metadata": {
    "deletable": false,
    "id": "2a7cab99",
    "outputId": "1a8f3ef2-d323-4ec2-ddf7-89670b5944c4"
   },
   "outputs": [
    {
     "data": {
      "text/html": [
       "<div>\n",
       "<style scoped>\n",
       "    .dataframe tbody tr th:only-of-type {\n",
       "        vertical-align: middle;\n",
       "    }\n",
       "\n",
       "    .dataframe tbody tr th {\n",
       "        vertical-align: top;\n",
       "    }\n",
       "\n",
       "    .dataframe thead th {\n",
       "        text-align: right;\n",
       "    }\n",
       "</style>\n",
       "<table border=\"1\" class=\"dataframe\">\n",
       "  <thead>\n",
       "    <tr style=\"text-align: right;\">\n",
       "      <th></th>\n",
       "      <th>children</th>\n",
       "      <th>days_employed</th>\n",
       "      <th>dob_years</th>\n",
       "      <th>education</th>\n",
       "      <th>education_id</th>\n",
       "      <th>family_status</th>\n",
       "      <th>family_status_id</th>\n",
       "      <th>gender</th>\n",
       "      <th>income_type</th>\n",
       "      <th>debt</th>\n",
       "      <th>total_income</th>\n",
       "      <th>purpose</th>\n",
       "    </tr>\n",
       "  </thead>\n",
       "  <tbody>\n",
       "    <tr>\n",
       "      <th>0</th>\n",
       "      <td>1</td>\n",
       "      <td>-8437.673028</td>\n",
       "      <td>42</td>\n",
       "      <td>высшее</td>\n",
       "      <td>0</td>\n",
       "      <td>женат / замужем</td>\n",
       "      <td>0</td>\n",
       "      <td>F</td>\n",
       "      <td>сотрудник</td>\n",
       "      <td>0</td>\n",
       "      <td>253875.639453</td>\n",
       "      <td>покупка жилья</td>\n",
       "    </tr>\n",
       "    <tr>\n",
       "      <th>1</th>\n",
       "      <td>1</td>\n",
       "      <td>-4024.803754</td>\n",
       "      <td>36</td>\n",
       "      <td>среднее</td>\n",
       "      <td>1</td>\n",
       "      <td>женат / замужем</td>\n",
       "      <td>0</td>\n",
       "      <td>F</td>\n",
       "      <td>сотрудник</td>\n",
       "      <td>0</td>\n",
       "      <td>112080.014102</td>\n",
       "      <td>приобретение автомобиля</td>\n",
       "    </tr>\n",
       "    <tr>\n",
       "      <th>2</th>\n",
       "      <td>0</td>\n",
       "      <td>-5623.422610</td>\n",
       "      <td>33</td>\n",
       "      <td>Среднее</td>\n",
       "      <td>1</td>\n",
       "      <td>женат / замужем</td>\n",
       "      <td>0</td>\n",
       "      <td>M</td>\n",
       "      <td>сотрудник</td>\n",
       "      <td>0</td>\n",
       "      <td>145885.952297</td>\n",
       "      <td>покупка жилья</td>\n",
       "    </tr>\n",
       "    <tr>\n",
       "      <th>3</th>\n",
       "      <td>3</td>\n",
       "      <td>-4124.747207</td>\n",
       "      <td>32</td>\n",
       "      <td>среднее</td>\n",
       "      <td>1</td>\n",
       "      <td>женат / замужем</td>\n",
       "      <td>0</td>\n",
       "      <td>M</td>\n",
       "      <td>сотрудник</td>\n",
       "      <td>0</td>\n",
       "      <td>267628.550329</td>\n",
       "      <td>дополнительное образование</td>\n",
       "    </tr>\n",
       "    <tr>\n",
       "      <th>4</th>\n",
       "      <td>0</td>\n",
       "      <td>340266.072047</td>\n",
       "      <td>53</td>\n",
       "      <td>среднее</td>\n",
       "      <td>1</td>\n",
       "      <td>гражданский брак</td>\n",
       "      <td>1</td>\n",
       "      <td>F</td>\n",
       "      <td>пенсионер</td>\n",
       "      <td>0</td>\n",
       "      <td>158616.077870</td>\n",
       "      <td>сыграть свадьбу</td>\n",
       "    </tr>\n",
       "    <tr>\n",
       "      <th>5</th>\n",
       "      <td>0</td>\n",
       "      <td>-926.185831</td>\n",
       "      <td>27</td>\n",
       "      <td>высшее</td>\n",
       "      <td>0</td>\n",
       "      <td>гражданский брак</td>\n",
       "      <td>1</td>\n",
       "      <td>M</td>\n",
       "      <td>компаньон</td>\n",
       "      <td>0</td>\n",
       "      <td>255763.565419</td>\n",
       "      <td>покупка жилья</td>\n",
       "    </tr>\n",
       "    <tr>\n",
       "      <th>6</th>\n",
       "      <td>0</td>\n",
       "      <td>-2879.202052</td>\n",
       "      <td>43</td>\n",
       "      <td>высшее</td>\n",
       "      <td>0</td>\n",
       "      <td>женат / замужем</td>\n",
       "      <td>0</td>\n",
       "      <td>F</td>\n",
       "      <td>компаньон</td>\n",
       "      <td>0</td>\n",
       "      <td>240525.971920</td>\n",
       "      <td>операции с жильем</td>\n",
       "    </tr>\n",
       "    <tr>\n",
       "      <th>7</th>\n",
       "      <td>0</td>\n",
       "      <td>-152.779569</td>\n",
       "      <td>50</td>\n",
       "      <td>СРЕДНЕЕ</td>\n",
       "      <td>1</td>\n",
       "      <td>женат / замужем</td>\n",
       "      <td>0</td>\n",
       "      <td>M</td>\n",
       "      <td>сотрудник</td>\n",
       "      <td>0</td>\n",
       "      <td>135823.934197</td>\n",
       "      <td>образование</td>\n",
       "    </tr>\n",
       "    <tr>\n",
       "      <th>8</th>\n",
       "      <td>2</td>\n",
       "      <td>-6929.865299</td>\n",
       "      <td>35</td>\n",
       "      <td>ВЫСШЕЕ</td>\n",
       "      <td>0</td>\n",
       "      <td>гражданский брак</td>\n",
       "      <td>1</td>\n",
       "      <td>F</td>\n",
       "      <td>сотрудник</td>\n",
       "      <td>0</td>\n",
       "      <td>95856.832424</td>\n",
       "      <td>на проведение свадьбы</td>\n",
       "    </tr>\n",
       "    <tr>\n",
       "      <th>9</th>\n",
       "      <td>0</td>\n",
       "      <td>-2188.756445</td>\n",
       "      <td>41</td>\n",
       "      <td>среднее</td>\n",
       "      <td>1</td>\n",
       "      <td>женат / замужем</td>\n",
       "      <td>0</td>\n",
       "      <td>M</td>\n",
       "      <td>сотрудник</td>\n",
       "      <td>0</td>\n",
       "      <td>144425.938277</td>\n",
       "      <td>покупка жилья для семьи</td>\n",
       "    </tr>\n",
       "    <tr>\n",
       "      <th>10</th>\n",
       "      <td>2</td>\n",
       "      <td>-4171.483647</td>\n",
       "      <td>36</td>\n",
       "      <td>высшее</td>\n",
       "      <td>0</td>\n",
       "      <td>женат / замужем</td>\n",
       "      <td>0</td>\n",
       "      <td>M</td>\n",
       "      <td>компаньон</td>\n",
       "      <td>0</td>\n",
       "      <td>113943.491460</td>\n",
       "      <td>покупка недвижимости</td>\n",
       "    </tr>\n",
       "    <tr>\n",
       "      <th>11</th>\n",
       "      <td>0</td>\n",
       "      <td>-792.701887</td>\n",
       "      <td>40</td>\n",
       "      <td>среднее</td>\n",
       "      <td>1</td>\n",
       "      <td>женат / замужем</td>\n",
       "      <td>0</td>\n",
       "      <td>F</td>\n",
       "      <td>сотрудник</td>\n",
       "      <td>0</td>\n",
       "      <td>77069.234271</td>\n",
       "      <td>покупка коммерческой недвижимости</td>\n",
       "    </tr>\n",
       "    <tr>\n",
       "      <th>12</th>\n",
       "      <td>0</td>\n",
       "      <td>NaN</td>\n",
       "      <td>65</td>\n",
       "      <td>среднее</td>\n",
       "      <td>1</td>\n",
       "      <td>гражданский брак</td>\n",
       "      <td>1</td>\n",
       "      <td>M</td>\n",
       "      <td>пенсионер</td>\n",
       "      <td>0</td>\n",
       "      <td>NaN</td>\n",
       "      <td>сыграть свадьбу</td>\n",
       "    </tr>\n",
       "    <tr>\n",
       "      <th>13</th>\n",
       "      <td>0</td>\n",
       "      <td>-1846.641941</td>\n",
       "      <td>54</td>\n",
       "      <td>неоконченное высшее</td>\n",
       "      <td>2</td>\n",
       "      <td>женат / замужем</td>\n",
       "      <td>0</td>\n",
       "      <td>F</td>\n",
       "      <td>сотрудник</td>\n",
       "      <td>0</td>\n",
       "      <td>130458.228857</td>\n",
       "      <td>приобретение автомобиля</td>\n",
       "    </tr>\n",
       "    <tr>\n",
       "      <th>14</th>\n",
       "      <td>0</td>\n",
       "      <td>-1844.956182</td>\n",
       "      <td>56</td>\n",
       "      <td>высшее</td>\n",
       "      <td>0</td>\n",
       "      <td>гражданский брак</td>\n",
       "      <td>1</td>\n",
       "      <td>F</td>\n",
       "      <td>компаньон</td>\n",
       "      <td>1</td>\n",
       "      <td>165127.911772</td>\n",
       "      <td>покупка жилой недвижимости</td>\n",
       "    </tr>\n",
       "    <tr>\n",
       "      <th>15</th>\n",
       "      <td>1</td>\n",
       "      <td>-972.364419</td>\n",
       "      <td>26</td>\n",
       "      <td>среднее</td>\n",
       "      <td>1</td>\n",
       "      <td>женат / замужем</td>\n",
       "      <td>0</td>\n",
       "      <td>F</td>\n",
       "      <td>сотрудник</td>\n",
       "      <td>0</td>\n",
       "      <td>116820.904450</td>\n",
       "      <td>строительство собственной недвижимости</td>\n",
       "    </tr>\n",
       "    <tr>\n",
       "      <th>16</th>\n",
       "      <td>0</td>\n",
       "      <td>-1719.934226</td>\n",
       "      <td>35</td>\n",
       "      <td>среднее</td>\n",
       "      <td>1</td>\n",
       "      <td>женат / замужем</td>\n",
       "      <td>0</td>\n",
       "      <td>F</td>\n",
       "      <td>сотрудник</td>\n",
       "      <td>0</td>\n",
       "      <td>289202.704229</td>\n",
       "      <td>недвижимость</td>\n",
       "    </tr>\n",
       "    <tr>\n",
       "      <th>17</th>\n",
       "      <td>0</td>\n",
       "      <td>-2369.999720</td>\n",
       "      <td>33</td>\n",
       "      <td>высшее</td>\n",
       "      <td>0</td>\n",
       "      <td>гражданский брак</td>\n",
       "      <td>1</td>\n",
       "      <td>M</td>\n",
       "      <td>сотрудник</td>\n",
       "      <td>0</td>\n",
       "      <td>90410.586745</td>\n",
       "      <td>строительство недвижимости</td>\n",
       "    </tr>\n",
       "    <tr>\n",
       "      <th>18</th>\n",
       "      <td>0</td>\n",
       "      <td>400281.136913</td>\n",
       "      <td>53</td>\n",
       "      <td>среднее</td>\n",
       "      <td>1</td>\n",
       "      <td>вдовец / вдова</td>\n",
       "      <td>2</td>\n",
       "      <td>F</td>\n",
       "      <td>пенсионер</td>\n",
       "      <td>0</td>\n",
       "      <td>56823.777243</td>\n",
       "      <td>на покупку подержанного автомобиля</td>\n",
       "    </tr>\n",
       "    <tr>\n",
       "      <th>19</th>\n",
       "      <td>0</td>\n",
       "      <td>-10038.818549</td>\n",
       "      <td>48</td>\n",
       "      <td>СРЕДНЕЕ</td>\n",
       "      <td>1</td>\n",
       "      <td>в разводе</td>\n",
       "      <td>3</td>\n",
       "      <td>F</td>\n",
       "      <td>сотрудник</td>\n",
       "      <td>0</td>\n",
       "      <td>242831.107982</td>\n",
       "      <td>на покупку своего автомобиля</td>\n",
       "    </tr>\n",
       "  </tbody>\n",
       "</table>\n",
       "</div>"
      ],
      "text/plain": [
       "    children  days_employed  dob_years            education  education_id  \\\n",
       "0          1   -8437.673028         42               высшее             0   \n",
       "1          1   -4024.803754         36              среднее             1   \n",
       "2          0   -5623.422610         33              Среднее             1   \n",
       "3          3   -4124.747207         32              среднее             1   \n",
       "4          0  340266.072047         53              среднее             1   \n",
       "5          0    -926.185831         27               высшее             0   \n",
       "6          0   -2879.202052         43               высшее             0   \n",
       "7          0    -152.779569         50              СРЕДНЕЕ             1   \n",
       "8          2   -6929.865299         35               ВЫСШЕЕ             0   \n",
       "9          0   -2188.756445         41              среднее             1   \n",
       "10         2   -4171.483647         36               высшее             0   \n",
       "11         0    -792.701887         40              среднее             1   \n",
       "12         0            NaN         65              среднее             1   \n",
       "13         0   -1846.641941         54  неоконченное высшее             2   \n",
       "14         0   -1844.956182         56               высшее             0   \n",
       "15         1    -972.364419         26              среднее             1   \n",
       "16         0   -1719.934226         35              среднее             1   \n",
       "17         0   -2369.999720         33               высшее             0   \n",
       "18         0  400281.136913         53              среднее             1   \n",
       "19         0  -10038.818549         48              СРЕДНЕЕ             1   \n",
       "\n",
       "       family_status  family_status_id gender income_type  debt  \\\n",
       "0    женат / замужем                 0      F   сотрудник     0   \n",
       "1    женат / замужем                 0      F   сотрудник     0   \n",
       "2    женат / замужем                 0      M   сотрудник     0   \n",
       "3    женат / замужем                 0      M   сотрудник     0   \n",
       "4   гражданский брак                 1      F   пенсионер     0   \n",
       "5   гражданский брак                 1      M   компаньон     0   \n",
       "6    женат / замужем                 0      F   компаньон     0   \n",
       "7    женат / замужем                 0      M   сотрудник     0   \n",
       "8   гражданский брак                 1      F   сотрудник     0   \n",
       "9    женат / замужем                 0      M   сотрудник     0   \n",
       "10   женат / замужем                 0      M   компаньон     0   \n",
       "11   женат / замужем                 0      F   сотрудник     0   \n",
       "12  гражданский брак                 1      M   пенсионер     0   \n",
       "13   женат / замужем                 0      F   сотрудник     0   \n",
       "14  гражданский брак                 1      F   компаньон     1   \n",
       "15   женат / замужем                 0      F   сотрудник     0   \n",
       "16   женат / замужем                 0      F   сотрудник     0   \n",
       "17  гражданский брак                 1      M   сотрудник     0   \n",
       "18    вдовец / вдова                 2      F   пенсионер     0   \n",
       "19         в разводе                 3      F   сотрудник     0   \n",
       "\n",
       "     total_income                                 purpose  \n",
       "0   253875.639453                           покупка жилья  \n",
       "1   112080.014102                 приобретение автомобиля  \n",
       "2   145885.952297                           покупка жилья  \n",
       "3   267628.550329              дополнительное образование  \n",
       "4   158616.077870                         сыграть свадьбу  \n",
       "5   255763.565419                           покупка жилья  \n",
       "6   240525.971920                       операции с жильем  \n",
       "7   135823.934197                             образование  \n",
       "8    95856.832424                   на проведение свадьбы  \n",
       "9   144425.938277                 покупка жилья для семьи  \n",
       "10  113943.491460                    покупка недвижимости  \n",
       "11   77069.234271       покупка коммерческой недвижимости  \n",
       "12            NaN                         сыграть свадьбу  \n",
       "13  130458.228857                 приобретение автомобиля  \n",
       "14  165127.911772              покупка жилой недвижимости  \n",
       "15  116820.904450  строительство собственной недвижимости  \n",
       "16  289202.704229                            недвижимость  \n",
       "17   90410.586745              строительство недвижимости  \n",
       "18   56823.777243      на покупку подержанного автомобиля  \n",
       "19  242831.107982            на покупку своего автомобиля  "
      ]
     },
     "execution_count": 11,
     "metadata": {},
     "output_type": "execute_result"
    }
   ],
   "source": [
    "data.head(20)"
   ]
  },
  {
   "cell_type": "markdown",
   "id": "0bd4ac0d",
   "metadata": {
    "deletable": false,
    "editable": false,
    "id": "1c12e233"
   },
   "source": [
    "**Задание 3. Выведите основную информацию о датафрейме с помощью метода `info()`.**"
   ]
  },
  {
   "cell_type": "code",
   "execution_count": 13,
   "id": "e40064b1",
   "metadata": {
    "deletable": false,
    "id": "2b757bca",
    "outputId": "15376089-8dad-46c9-b520-c05248d43158"
   },
   "outputs": [
    {
     "name": "stdout",
     "output_type": "stream",
     "text": [
      "<class 'pandas.core.frame.DataFrame'>\n",
      "RangeIndex: 21525 entries, 0 to 21524\n",
      "Data columns (total 12 columns):\n",
      " #   Column            Non-Null Count  Dtype  \n",
      "---  ------            --------------  -----  \n",
      " 0   children          21525 non-null  int64  \n",
      " 1   days_employed     19351 non-null  float64\n",
      " 2   dob_years         21525 non-null  int64  \n",
      " 3   education         21525 non-null  object \n",
      " 4   education_id      21525 non-null  int64  \n",
      " 5   family_status     21525 non-null  object \n",
      " 6   family_status_id  21525 non-null  int64  \n",
      " 7   gender            21525 non-null  object \n",
      " 8   income_type       21525 non-null  object \n",
      " 9   debt              21525 non-null  int64  \n",
      " 10  total_income      19351 non-null  float64\n",
      " 11  purpose           21525 non-null  object \n",
      "dtypes: float64(2), int64(5), object(5)\n",
      "memory usage: 2.0+ MB\n"
     ]
    }
   ],
   "source": [
    "data.info()"
   ]
  },
  {
   "cell_type": "markdown",
   "id": "d7e33055",
   "metadata": {
    "deletable": false,
    "editable": false,
    "id": "333ec665"
   },
   "source": [
    "## Предобработка данных"
   ]
  },
  {
   "cell_type": "markdown",
   "id": "7b2d603c",
   "metadata": {
    "deletable": false,
    "editable": false,
    "id": "02d92d53"
   },
   "source": [
    "### Удаление пропусков"
   ]
  },
  {
   "cell_type": "markdown",
   "id": "b71c6329",
   "metadata": {
    "deletable": false,
    "editable": false,
    "id": "cd84967c"
   },
   "source": [
    "**Задание 4. Выведите количество пропущенных значений для каждого столбца. Используйте комбинацию двух методов.**"
   ]
  },
  {
   "cell_type": "code",
   "execution_count": 17,
   "id": "c692d25c",
   "metadata": {
    "deletable": false,
    "id": "7f9b2309",
    "outputId": "81f4d817-781c-465c-ed15-91ce4446810d"
   },
   "outputs": [
    {
     "data": {
      "text/plain": [
       "children               0\n",
       "days_employed       2174\n",
       "dob_years              0\n",
       "education              0\n",
       "education_id           0\n",
       "family_status          0\n",
       "family_status_id       0\n",
       "gender                 0\n",
       "income_type            0\n",
       "debt                   0\n",
       "total_income        2174\n",
       "purpose                0\n",
       "dtype: int64"
      ]
     },
     "execution_count": 17,
     "metadata": {},
     "output_type": "execute_result"
    }
   ],
   "source": [
    "data.isna().sum()"
   ]
  },
  {
   "cell_type": "markdown",
   "id": "a89d9e38",
   "metadata": {
    "deletable": false,
    "editable": false,
    "id": "db86e27b"
   },
   "source": [
    "**Задание 5. В двух столбцах есть пропущенные значения. Один из них — `days_employed`. Пропуски в этом столбце вы обработаете на следующем этапе. Другой столбец с пропущенными значениями — `total_income` — хранит данные о доходах. На сумму дохода сильнее всего влияет тип занятости, поэтому заполнить пропуски в этом столбце нужно медианным значением по каждому типу из столбца `income_type`. Например, у человека с типом занятости `сотрудник` пропуск в столбце `total_income` должен быть заполнен медианным доходом среди всех записей с тем же типом.**"
   ]
  },
  {
   "cell_type": "code",
   "execution_count": 19,
   "id": "406cdd6c",
   "metadata": {
    "deletable": false,
    "id": "42006a93"
   },
   "outputs": [
    {
     "data": {
      "text/plain": [
       "children               0\n",
       "days_employed       2174\n",
       "dob_years              0\n",
       "education              0\n",
       "education_id           0\n",
       "family_status          0\n",
       "family_status_id       0\n",
       "gender                 0\n",
       "income_type            0\n",
       "debt                   0\n",
       "total_income           0\n",
       "purpose                0\n",
       "dtype: int64"
      ]
     },
     "execution_count": 19,
     "metadata": {},
     "output_type": "execute_result"
    }
   ],
   "source": [
    "for d in data['income_type'].unique():\n",
    "    data.loc[(data['income_type'] == d) & (data['total_income'].isna()), 'total_income'] = \\\n",
    "    data.loc[(data['income_type'] == d), 'total_income'].median()\n",
    "data.isna().sum()"
   ]
  },
  {
   "cell_type": "markdown",
   "id": "7303b449",
   "metadata": {
    "deletable": false,
    "editable": false,
    "id": "89da5ece"
   },
   "source": [
    "### Обработка аномальных значений"
   ]
  },
  {
   "cell_type": "markdown",
   "id": "ca467879",
   "metadata": {
    "deletable": false,
    "editable": false,
    "id": "57964554"
   },
   "source": [
    "**Задание 6. В данных могут встречаться артефакты (аномалии) — значения, которые не отражают действительность и появились по какой-то ошибке. таким артефактом будет отрицательное количество дней трудового стажа в столбце `days_employed`. Для реальных данных это нормально. Обработайте значения в этом столбце: замените все отрицательные значения положительными с помощью метода `abs()`.**"
   ]
  },
  {
   "cell_type": "code",
   "execution_count": 22,
   "id": "af5ae4b2",
   "metadata": {
    "deletable": false,
    "id": "f6f055bf"
   },
   "outputs": [],
   "source": [
    "data['days_employed'] = data['days_employed'].abs()"
   ]
  },
  {
   "cell_type": "markdown",
   "id": "3e02bf36",
   "metadata": {
    "deletable": false,
    "editable": false,
    "id": "6107dd2f"
   },
   "source": [
    "**Задание 7. Для каждого типа занятости выведите медианное значение трудового стажа `days_employed` в днях.**"
   ]
  },
  {
   "cell_type": "code",
   "execution_count": 24,
   "id": "b7888b52",
   "metadata": {
    "deletable": false,
    "id": "85a5faf6",
    "outputId": "801ef80e-522b-4668-f34e-565af7432bcf"
   },
   "outputs": [
    {
     "data": {
      "text/plain": [
       "income_type\n",
       "безработный        366413.652744\n",
       "в декрете            3296.759962\n",
       "госслужащий          2689.368353\n",
       "компаньон            1547.382223\n",
       "пенсионер          365213.306266\n",
       "предприниматель       520.848083\n",
       "сотрудник            1574.202821\n",
       "студент               578.751554\n",
       "Name: days_employed, dtype: float64"
      ]
     },
     "execution_count": 24,
     "metadata": {},
     "output_type": "execute_result"
    }
   ],
   "source": [
    "data.groupby('income_type')['days_employed'].agg('median')"
   ]
  },
  {
   "cell_type": "markdown",
   "id": "8e6573b1",
   "metadata": {
    "deletable": false,
    "editable": false,
    "id": "38d1a030"
   },
   "source": [
    "У двух типов (безработные и пенсионеры) получатся аномально большие значения. Исправить такие значения сложно, поэтому оставьте их как есть. Тем более этот столбец не понадобится вам для исследования."
   ]
  },
  {
   "cell_type": "markdown",
   "id": "54b07450",
   "metadata": {
    "deletable": false,
    "editable": false,
    "id": "d8a9f147"
   },
   "source": [
    "**Задание 8. Выведите перечень уникальных значений столбца `children`.**"
   ]
  },
  {
   "cell_type": "code",
   "execution_count": 27,
   "id": "5f00ff4d",
   "metadata": {
    "deletable": false,
    "id": "ef5056eb",
    "outputId": "6975b15c-7f95-4697-d16d-a0c79b657b03"
   },
   "outputs": [
    {
     "data": {
      "text/plain": [
       "array([ 1,  0,  3,  2, -1,  4, 20,  5])"
      ]
     },
     "execution_count": 27,
     "metadata": {},
     "output_type": "execute_result"
    }
   ],
   "source": [
    "data['children'].unique()"
   ]
  },
  {
   "cell_type": "markdown",
   "id": "4628a34c",
   "metadata": {
    "deletable": false,
    "editable": false,
    "id": "40b9ebf2"
   },
   "source": [
    "**Задание 9. В столбце `children` есть два аномальных значения. Удалите строки, в которых встречаются такие аномальные значения из датафрейма `data`.**"
   ]
  },
  {
   "cell_type": "code",
   "execution_count": 29,
   "id": "04482761",
   "metadata": {
    "deletable": false,
    "id": "3ff9801d"
   },
   "outputs": [],
   "source": [
    "data = data[(data['children'] != -1) & (data['children'] != 20)]"
   ]
  },
  {
   "cell_type": "markdown",
   "id": "b906d32c",
   "metadata": {
    "deletable": false,
    "editable": false,
    "id": "bbc4d0ce"
   },
   "source": [
    "**Задание 10. Ещё раз выведите перечень уникальных значений столбца `children`, чтобы убедиться, что артефакты удалены.**"
   ]
  },
  {
   "cell_type": "code",
   "execution_count": 31,
   "id": "e94c8f34",
   "metadata": {
    "deletable": false,
    "id": "ad4fa8b7",
    "outputId": "b2097101-d49d-44d9-901b-32a65c9463d1"
   },
   "outputs": [
    {
     "data": {
      "text/plain": [
       "array([1, 0, 3, 2, 4, 5])"
      ]
     },
     "execution_count": 31,
     "metadata": {},
     "output_type": "execute_result"
    }
   ],
   "source": [
    "data['children'].unique()"
   ]
  },
  {
   "cell_type": "markdown",
   "id": "ed6e9c08",
   "metadata": {
    "deletable": false,
    "editable": false,
    "id": "75440b63"
   },
   "source": [
    "### Удаление пропусков (продолжение)"
   ]
  },
  {
   "cell_type": "markdown",
   "id": "bad80a15",
   "metadata": {
    "deletable": false,
    "editable": false,
    "id": "f4ea573f"
   },
   "source": [
    "**Задание 11. Заполните пропуски в столбце `days_employed` медианными значениями по каждого типа занятости `income_type`.**"
   ]
  },
  {
   "cell_type": "code",
   "execution_count": 34,
   "id": "35090f83",
   "metadata": {
    "deletable": false,
    "id": "af6b1a7e"
   },
   "outputs": [],
   "source": [
    "for t in data['income_type'].unique():\n",
    "    data.loc[(data['income_type'] == t) & (data['days_employed'].isna()), 'days_employed'] = \\\n",
    "    data.loc[(data['income_type'] == t), 'days_employed'].median()"
   ]
  },
  {
   "cell_type": "markdown",
   "id": "a1750f76",
   "metadata": {
    "deletable": false,
    "editable": false,
    "id": "2753f40d"
   },
   "source": [
    "**Задание 12. Убедитесь, что все пропуски заполнены. Проверьте себя и ещё раз выведите количество пропущенных значений для каждого столбца с помощью двух методов.**"
   ]
  },
  {
   "cell_type": "code",
   "execution_count": 36,
   "id": "b7eff177",
   "metadata": {
    "deletable": false,
    "id": "55f78bc2",
    "outputId": "8da1e4e1-358e-4e87-98c9-f261bce0a7b2"
   },
   "outputs": [
    {
     "data": {
      "text/plain": [
       "children            0\n",
       "days_employed       0\n",
       "dob_years           0\n",
       "education           0\n",
       "education_id        0\n",
       "family_status       0\n",
       "family_status_id    0\n",
       "gender              0\n",
       "income_type         0\n",
       "debt                0\n",
       "total_income        0\n",
       "purpose             0\n",
       "dtype: int64"
      ]
     },
     "execution_count": 36,
     "metadata": {},
     "output_type": "execute_result"
    }
   ],
   "source": [
    "data.isna().sum()"
   ]
  },
  {
   "cell_type": "markdown",
   "id": "b86c9226",
   "metadata": {
    "deletable": false,
    "editable": false,
    "id": "ddc81e43"
   },
   "source": [
    "### Изменение типов данных"
   ]
  },
  {
   "cell_type": "markdown",
   "id": "b733d63d",
   "metadata": {
    "deletable": false,
    "editable": false,
    "id": "42d19d24"
   },
   "source": [
    "**Задание 13. Замените вещественный тип данных в столбце `total_income` на целочисленный с помощью метода `astype()`.**"
   ]
  },
  {
   "cell_type": "code",
   "execution_count": 39,
   "id": "135c334d",
   "metadata": {
    "deletable": false,
    "id": "920b65ad"
   },
   "outputs": [],
   "source": [
    "data['total_income'] = data['total_income'].astype(int)"
   ]
  },
  {
   "cell_type": "markdown",
   "id": "a91c8597",
   "metadata": {
    "deletable": false,
    "editable": false,
    "id": "80c420ba"
   },
   "source": [
    "### Обработка дубликатов"
   ]
  },
  {
   "cell_type": "markdown",
   "id": "cf27a961",
   "metadata": {
    "deletable": false,
    "editable": false
   },
   "source": [
    "**Задание 14. Обработайте неявные дубликаты в столбце `education`. В этом столбце есть одни и те же значения, но записанные по-разному: с использованием заглавных и строчных букв. Приведите их к нижнему регистру. Проверьте остальные столбцы.**"
   ]
  },
  {
   "cell_type": "code",
   "execution_count": 42,
   "id": "37cf67fa",
   "metadata": {
    "deletable": false
   },
   "outputs": [],
   "source": [
    "data['education'] = data['education'].str.lower()"
   ]
  },
  {
   "cell_type": "markdown",
   "id": "582726b7",
   "metadata": {
    "deletable": false,
    "editable": false,
    "id": "dc587695"
   },
   "source": [
    "**Задание 15. Выведите на экран количество строк-дубликатов в данных. Если такие строки присутствуют, удалите их.**"
   ]
  },
  {
   "cell_type": "code",
   "execution_count": 44,
   "id": "6c994d2a",
   "metadata": {
    "deletable": false,
    "id": "3ee445e4",
    "outputId": "9684deba-1934-42d1-99e1-cda61740f822"
   },
   "outputs": [
    {
     "data": {
      "text/plain": [
       "71"
      ]
     },
     "execution_count": 44,
     "metadata": {},
     "output_type": "execute_result"
    }
   ],
   "source": [
    "data.duplicated().sum()"
   ]
  },
  {
   "cell_type": "code",
   "execution_count": 45,
   "id": "8e10c42b",
   "metadata": {
    "deletable": false,
    "id": "8575fe05"
   },
   "outputs": [],
   "source": [
    "data = data.drop_duplicates()"
   ]
  },
  {
   "cell_type": "markdown",
   "id": "441c5d3c",
   "metadata": {
    "deletable": false,
    "editable": false,
    "id": "9904cf55"
   },
   "source": [
    "### Категоризация данных"
   ]
  },
  {
   "cell_type": "markdown",
   "id": "0477de3c",
   "metadata": {
    "deletable": false,
    "editable": false,
    "id": "72fcc8a2"
   },
   "source": [
    "**Задание 16. На основании диапазонов, указанных ниже, создайте в датафрейме `data` столбец `total_income_category` с категориями:**\n",
    "\n",
    "- 0–30000 — `'E'`;\n",
    "- 30001–50000 — `'D'`;\n",
    "- 50001–200000 — `'C'`;\n",
    "- 200001–1000000 — `'B'`;\n",
    "- 1000001 и выше — `'A'`.\n",
    "\n",
    "\n",
    "**Например, кредитополучателю с доходом 25000 нужно назначить категорию `'E'`, а клиенту, получающему 235000, — `'B'`. Используйте собственную функцию с именем `categorize_income()` и метод `apply()`.**"
   ]
  },
  {
   "cell_type": "code",
   "execution_count": 48,
   "id": "42dbc691",
   "metadata": {
    "deletable": false,
    "id": "e1771346"
   },
   "outputs": [],
   "source": [
    "def categorize_income(income):\n",
    "    try:\n",
    "        if 0 <= income <= 30000:\n",
    "            return 'E'\n",
    "        elif 30001 <= income <= 50000:\n",
    "            return 'D'\n",
    "        elif 50001 <= income <= 200000:\n",
    "            return 'C'\n",
    "        elif 200001 <= income <= 1000000:\n",
    "            return 'B'\n",
    "        elif income >= 1000001:\n",
    "            return 'A'\n",
    "    except:\n",
    "        pass"
   ]
  },
  {
   "cell_type": "code",
   "execution_count": 49,
   "id": "33d7ad7f",
   "metadata": {
    "deletable": false,
    "id": "d5f3586d"
   },
   "outputs": [],
   "source": [
    "data['total_income_category'] = data['total_income'].apply(categorize_income)"
   ]
  },
  {
   "cell_type": "markdown",
   "id": "8b5eec14",
   "metadata": {
    "deletable": false,
    "editable": false,
    "id": "dde49b5c"
   },
   "source": [
    "**Задание 17. Выведите на экран перечень уникальных целей взятия кредита из столбца `purpose`.**"
   ]
  },
  {
   "cell_type": "code",
   "execution_count": 51,
   "id": "8b59a94b",
   "metadata": {
    "deletable": false,
    "id": "f67ce9b3",
    "outputId": "673c12d9-7d7e-4ae0-9812-c622c89dd244"
   },
   "outputs": [
    {
     "data": {
      "text/plain": [
       "array(['покупка жилья', 'приобретение автомобиля',\n",
       "       'дополнительное образование', 'сыграть свадьбу',\n",
       "       'операции с жильем', 'образование', 'на проведение свадьбы',\n",
       "       'покупка жилья для семьи', 'покупка недвижимости',\n",
       "       'покупка коммерческой недвижимости', 'покупка жилой недвижимости',\n",
       "       'строительство собственной недвижимости', 'недвижимость',\n",
       "       'строительство недвижимости', 'на покупку подержанного автомобиля',\n",
       "       'на покупку своего автомобиля',\n",
       "       'операции с коммерческой недвижимостью',\n",
       "       'строительство жилой недвижимости', 'жилье',\n",
       "       'операции со своей недвижимостью', 'автомобили',\n",
       "       'заняться образованием', 'сделка с подержанным автомобилем',\n",
       "       'получение образования', 'автомобиль', 'свадьба',\n",
       "       'получение дополнительного образования', 'покупка своего жилья',\n",
       "       'операции с недвижимостью', 'получение высшего образования',\n",
       "       'свой автомобиль', 'сделка с автомобилем',\n",
       "       'профильное образование', 'высшее образование',\n",
       "       'покупка жилья для сдачи', 'на покупку автомобиля', 'ремонт жилью',\n",
       "       'заняться высшим образованием'], dtype=object)"
      ]
     },
     "execution_count": 51,
     "metadata": {},
     "output_type": "execute_result"
    }
   ],
   "source": [
    "data['purpose'].unique()"
   ]
  },
  {
   "cell_type": "markdown",
   "id": "3f8ad48a",
   "metadata": {
    "deletable": false,
    "editable": false,
    "id": "85d0aef0"
   },
   "source": [
    "**Задание 18. Создайте функцию, которая на основании данных из столбца `purpose` сформирует новый столбец `purpose_category`, в который войдут следующие категории:**\n",
    "\n",
    "- `'операции с автомобилем'`,\n",
    "- `'операции с недвижимостью'`,\n",
    "- `'проведение свадьбы'`,\n",
    "- `'получение образования'`.\n",
    "\n",
    "**Например, если в столбце `purpose` находится подстрока `'на покупку автомобиля'`, то в столбце `purpose_category` должна появиться строка `'операции с автомобилем'`.**\n",
    "\n",
    "**Используйте собственную функцию с именем `categorize_purpose()` и метод `apply()`. Изучите данные в столбце `purpose` и определите, какие подстроки помогут вам правильно определить категорию.**"
   ]
  },
  {
   "cell_type": "code",
   "execution_count": 53,
   "id": "33973d9a",
   "metadata": {
    "deletable": false,
    "id": "e149fab4"
   },
   "outputs": [],
   "source": [
    "def categorize_purpose(row):\n",
    "    try:\n",
    "        if 'автом' in row:\n",
    "            return 'операции с автомобилем'\n",
    "        elif 'жил' in row or 'недвиж' in row:\n",
    "            return 'операции с недвижимостью'\n",
    "        elif 'свад' in row:\n",
    "            return 'проведение свадьбы'\n",
    "        elif 'образов' in row:\n",
    "            return 'получение образования'\n",
    "    except:\n",
    "        return 'нет категории'"
   ]
  },
  {
   "cell_type": "code",
   "execution_count": 54,
   "id": "c4d4ecee",
   "metadata": {
    "deletable": false,
    "id": "bf36e69b"
   },
   "outputs": [],
   "source": [
    "data['purpose_category'] = data['purpose'].apply(categorize_purpose)"
   ]
  },
  {
   "cell_type": "markdown",
   "id": "392fcbbf",
   "metadata": {
    "deletable": false,
    "editable": false,
    "id": "09b242bf"
   },
   "source": [
    "### Шаг 3. Исследуйте данные и ответьте на вопросы"
   ]
  },
  {
   "cell_type": "markdown",
   "id": "bf70a179",
   "metadata": {
    "deletable": false,
    "editable": false,
    "id": "c5d66278"
   },
   "source": [
    "#### 3.1 Есть ли зависимость между количеством детей и возвратом кредита в срок?"
   ]
  },
  {
   "cell_type": "code",
   "execution_count": 57,
   "id": "a3e04669",
   "metadata": {
    "deletable": false,
    "id": "2cacfc4a"
   },
   "outputs": [
    {
     "data": {
      "text/html": [
       "<div>\n",
       "<style scoped>\n",
       "    .dataframe tbody tr th:only-of-type {\n",
       "        vertical-align: middle;\n",
       "    }\n",
       "\n",
       "    .dataframe tbody tr th {\n",
       "        vertical-align: top;\n",
       "    }\n",
       "\n",
       "    .dataframe thead tr th {\n",
       "        text-align: left;\n",
       "    }\n",
       "\n",
       "    .dataframe thead tr:last-of-type th {\n",
       "        text-align: right;\n",
       "    }\n",
       "</style>\n",
       "<table border=\"1\" class=\"dataframe\">\n",
       "  <thead>\n",
       "    <tr>\n",
       "      <th></th>\n",
       "      <th colspan=\"3\" halign=\"left\">debt</th>\n",
       "    </tr>\n",
       "    <tr>\n",
       "      <th></th>\n",
       "      <th>count</th>\n",
       "      <th>sum</th>\n",
       "      <th>mean</th>\n",
       "    </tr>\n",
       "    <tr>\n",
       "      <th>children</th>\n",
       "      <th></th>\n",
       "      <th></th>\n",
       "      <th></th>\n",
       "    </tr>\n",
       "  </thead>\n",
       "  <tbody>\n",
       "    <tr>\n",
       "      <th>4</th>\n",
       "      <td>41</td>\n",
       "      <td>4</td>\n",
       "      <td>0.097561</td>\n",
       "    </tr>\n",
       "    <tr>\n",
       "      <th>2</th>\n",
       "      <td>2052</td>\n",
       "      <td>194</td>\n",
       "      <td>0.094542</td>\n",
       "    </tr>\n",
       "    <tr>\n",
       "      <th>1</th>\n",
       "      <td>4808</td>\n",
       "      <td>444</td>\n",
       "      <td>0.092346</td>\n",
       "    </tr>\n",
       "    <tr>\n",
       "      <th>3</th>\n",
       "      <td>330</td>\n",
       "      <td>27</td>\n",
       "      <td>0.081818</td>\n",
       "    </tr>\n",
       "    <tr>\n",
       "      <th>0</th>\n",
       "      <td>14091</td>\n",
       "      <td>1063</td>\n",
       "      <td>0.075438</td>\n",
       "    </tr>\n",
       "    <tr>\n",
       "      <th>5</th>\n",
       "      <td>9</td>\n",
       "      <td>0</td>\n",
       "      <td>0.000000</td>\n",
       "    </tr>\n",
       "  </tbody>\n",
       "</table>\n",
       "</div>"
      ],
      "text/plain": [
       "           debt                \n",
       "          count   sum      mean\n",
       "children                       \n",
       "4            41     4  0.097561\n",
       "2          2052   194  0.094542\n",
       "1          4808   444  0.092346\n",
       "3           330    27  0.081818\n",
       "0         14091  1063  0.075438\n",
       "5             9     0  0.000000"
      ]
     },
     "execution_count": 57,
     "metadata": {},
     "output_type": "execute_result"
    }
   ],
   "source": [
    "# сгруппируем клиентов по числу детей, посчитаем их общее количество и количество клиентов имеющих задолженность\n",
    "# общее количество клиентов сгруппированных по количеству детей найдем с помощью метода .count()\n",
    "# т.к. 1 в столбце debt означает задолженность, количество клиентов имеющих задолженность найдем методом .sum() \n",
    "# найдем среднее количество должников по группам mean_debt, разделив количество должников на общее количество клиентов в группе\n",
    "# отсортируем полученные значения mean_debt в порядке убывания\n",
    "# выведем датафрейм, с целью контроля результата\n",
    "children_grouped = data.groupby('children').agg({'debt':['count', 'sum', 'mean']})\n",
    "children_grouped.sort_values(('debt', 'mean'), ascending=False)"
   ]
  },
  {
   "cell_type": "markdown",
   "id": "a36ad568",
   "metadata": {
    "deletable": false,
    "id": "3a6b99ec"
   },
   "source": [
    "**Вывод:** На первый взгляд кажется, будто бы зависимость между возвратом кредита и количеством детей у клиента отсутствует, т.к. по группе клиентов имеющих 5 детей, должников не имеется, а доля должников у клиентов имеющих трех детей, меньше чем у клиентов имеющих по 1, 2 и 4 ребенка.\n",
    "Однако если посмотреть на количество клиентов, то можно заметить, что выборка по клиентам имеющим 3,4 и 5 детей не сопоставима по объему, с выборкой клиентов не имеющих детей или имеющих одного или двух детей.\n",
    "Сравнивая среднюю задолженность по клиентам с сопоставимыми объемами выборки (например больше 1000), а это соответственно 0, 1 и 2 ребенка, мы можем увидеть, что с ростом количества детей средняя задолженность увеличивается, однако т.к. разница в средней задолженности между людьми имеющими 1 и 2 детей несущественна, можно говорить скорее о зависимости возврата кредита от наличия детей, а не от их количества, т.к. среднее количество должников по группе клиентов не имеющих детей, существенно ниже всех остальных групп."
   ]
  },
  {
   "cell_type": "markdown",
   "id": "24362964",
   "metadata": {
    "deletable": false,
    "editable": false,
    "id": "97be82ca"
   },
   "source": [
    "#### 3.2 Есть ли зависимость между семейным положением и возвратом кредита в срок?"
   ]
  },
  {
   "cell_type": "code",
   "execution_count": 60,
   "id": "5809b5fa",
   "metadata": {
    "deletable": false,
    "id": "dc3f7ee8"
   },
   "outputs": [
    {
     "data": {
      "text/html": [
       "<div>\n",
       "<style scoped>\n",
       "    .dataframe tbody tr th:only-of-type {\n",
       "        vertical-align: middle;\n",
       "    }\n",
       "\n",
       "    .dataframe tbody tr th {\n",
       "        vertical-align: top;\n",
       "    }\n",
       "\n",
       "    .dataframe thead tr th {\n",
       "        text-align: left;\n",
       "    }\n",
       "\n",
       "    .dataframe thead tr:last-of-type th {\n",
       "        text-align: right;\n",
       "    }\n",
       "</style>\n",
       "<table border=\"1\" class=\"dataframe\">\n",
       "  <thead>\n",
       "    <tr>\n",
       "      <th></th>\n",
       "      <th colspan=\"3\" halign=\"left\">debt</th>\n",
       "    </tr>\n",
       "    <tr>\n",
       "      <th></th>\n",
       "      <th>count</th>\n",
       "      <th>sum</th>\n",
       "      <th>mean</th>\n",
       "    </tr>\n",
       "    <tr>\n",
       "      <th>family_status</th>\n",
       "      <th></th>\n",
       "      <th></th>\n",
       "      <th></th>\n",
       "    </tr>\n",
       "  </thead>\n",
       "  <tbody>\n",
       "    <tr>\n",
       "      <th>Не женат / не замужем</th>\n",
       "      <td>2796</td>\n",
       "      <td>273</td>\n",
       "      <td>0.097639</td>\n",
       "    </tr>\n",
       "    <tr>\n",
       "      <th>гражданский брак</th>\n",
       "      <td>4134</td>\n",
       "      <td>385</td>\n",
       "      <td>0.093130</td>\n",
       "    </tr>\n",
       "    <tr>\n",
       "      <th>женат / замужем</th>\n",
       "      <td>12261</td>\n",
       "      <td>927</td>\n",
       "      <td>0.075606</td>\n",
       "    </tr>\n",
       "    <tr>\n",
       "      <th>в разводе</th>\n",
       "      <td>1189</td>\n",
       "      <td>84</td>\n",
       "      <td>0.070648</td>\n",
       "    </tr>\n",
       "    <tr>\n",
       "      <th>вдовец / вдова</th>\n",
       "      <td>951</td>\n",
       "      <td>63</td>\n",
       "      <td>0.066246</td>\n",
       "    </tr>\n",
       "  </tbody>\n",
       "</table>\n",
       "</div>"
      ],
      "text/plain": [
       "                        debt               \n",
       "                       count  sum      mean\n",
       "family_status                              \n",
       "Не женат / не замужем   2796  273  0.097639\n",
       "гражданский брак        4134  385  0.093130\n",
       "женат / замужем        12261  927  0.075606\n",
       "в разводе               1189   84  0.070648\n",
       "вдовец / вдова           951   63  0.066246"
      ]
     },
     "execution_count": 60,
     "metadata": {},
     "output_type": "execute_result"
    }
   ],
   "source": [
    "# сгруппируем клиентов по типу семейного положения, посчитаем их общее количество и количество клиентов имеющих задолженность\n",
    "# общее количество клиентов сгруппированных по типу семейного положения, найдем с помощью метода .count()\n",
    "# т.к. 1 в столбце debt означает задолженность, количество клиентов имеющих задолженность найдем методом .sum() \n",
    "# найдем среднее количество должников по группам mean_debt, разделив количество должников на общее количество клиентов в группе\n",
    "# отсортируем полученные значения mean_debt в порядке убывания \n",
    "# выведем датафрейм, с целью контроля результата\n",
    "data_grouped = data.groupby('family_status').agg({'debt':['count', 'sum', 'mean']})\n",
    "data_grouped.sort_values(('debt', 'mean'), ascending=False)"
   ]
  },
  {
   "cell_type": "markdown",
   "id": "06feaee3",
   "metadata": {
    "deletable": false,
    "id": "1cef7837"
   },
   "source": [
    "**Вывод:** В данном случае мы имеем сопоставимые по объему выборки (более 1000), менее 1000 является выборка клиентов с семейным статусом \"вдова/вдовец\", однако, т.к. число 951 близко к 1000, включим данную группу в анализ и посмотрим на ее поведение. По результату сравнения среднего количества должников по каждому типу семейного статуса, можно придти к следующему выводу:\n",
    "1. Меньше всего должников имеется среди людей, ранее бывших в браке (группа 2 - \"вдовец / вдова\" и группа 3 - \"в разводе\".\n",
    "2. Следом идут люди находящиеся в браке (группа 0 - \"женат / замужем\")\n",
    "3. Больше всего должников среди холостых людей или людей находящихся в гражданском браке (группа 1 - \"гражданский брак\", группа 4 - \"Не женат / не замужем\")\n",
    "\n",
    "Обратим внимание на тот факт, что количество должников в группе \"гражданский брак\" ближе к группе \"Не женат / не замужем\", чем к группе \"женат / замужем\".\n",
    "Отсюда приходим к выводу, что сам факт пребывания человека в официальном браке(в настоящем или прошлом), значительно повышает вероятность возврата кредита в срок, в то время как люди не имеющие такого опыта (группа \"гражданский брак\" и \"Не женат / не замужем\") имеют схожие доли средней задолженности.\n",
    "Т.к. поведение по выборке группы 2 - \"вдовец / вдова\", вписалось в общую логику исследования, оставим данную выборку в анализе "
   ]
  },
  {
   "cell_type": "markdown",
   "id": "f088a96e",
   "metadata": {
    "deletable": false,
    "editable": false,
    "id": "1e8b2fca"
   },
   "source": [
    "#### 3.3 Есть ли зависимость между уровнем дохода и возвратом кредита в срок?"
   ]
  },
  {
   "cell_type": "code",
   "execution_count": 63,
   "id": "919cf381",
   "metadata": {
    "deletable": false,
    "id": "cd7e3720"
   },
   "outputs": [
    {
     "data": {
      "text/html": [
       "<div>\n",
       "<style scoped>\n",
       "    .dataframe tbody tr th:only-of-type {\n",
       "        vertical-align: middle;\n",
       "    }\n",
       "\n",
       "    .dataframe tbody tr th {\n",
       "        vertical-align: top;\n",
       "    }\n",
       "\n",
       "    .dataframe thead tr th {\n",
       "        text-align: left;\n",
       "    }\n",
       "\n",
       "    .dataframe thead tr:last-of-type th {\n",
       "        text-align: right;\n",
       "    }\n",
       "</style>\n",
       "<table border=\"1\" class=\"dataframe\">\n",
       "  <thead>\n",
       "    <tr>\n",
       "      <th></th>\n",
       "      <th colspan=\"3\" halign=\"left\">debt</th>\n",
       "    </tr>\n",
       "    <tr>\n",
       "      <th></th>\n",
       "      <th>count</th>\n",
       "      <th>sum</th>\n",
       "      <th>mean</th>\n",
       "    </tr>\n",
       "    <tr>\n",
       "      <th>total_income_category</th>\n",
       "      <th></th>\n",
       "      <th></th>\n",
       "      <th></th>\n",
       "    </tr>\n",
       "  </thead>\n",
       "  <tbody>\n",
       "    <tr>\n",
       "      <th>E</th>\n",
       "      <td>22</td>\n",
       "      <td>2</td>\n",
       "      <td>0.090909</td>\n",
       "    </tr>\n",
       "    <tr>\n",
       "      <th>C</th>\n",
       "      <td>15921</td>\n",
       "      <td>1353</td>\n",
       "      <td>0.084982</td>\n",
       "    </tr>\n",
       "    <tr>\n",
       "      <th>A</th>\n",
       "      <td>25</td>\n",
       "      <td>2</td>\n",
       "      <td>0.080000</td>\n",
       "    </tr>\n",
       "    <tr>\n",
       "      <th>B</th>\n",
       "      <td>5014</td>\n",
       "      <td>354</td>\n",
       "      <td>0.070602</td>\n",
       "    </tr>\n",
       "    <tr>\n",
       "      <th>D</th>\n",
       "      <td>349</td>\n",
       "      <td>21</td>\n",
       "      <td>0.060172</td>\n",
       "    </tr>\n",
       "  </tbody>\n",
       "</table>\n",
       "</div>"
      ],
      "text/plain": [
       "                        debt                \n",
       "                       count   sum      mean\n",
       "total_income_category                       \n",
       "E                         22     2  0.090909\n",
       "C                      15921  1353  0.084982\n",
       "A                         25     2  0.080000\n",
       "B                       5014   354  0.070602\n",
       "D                        349    21  0.060172"
      ]
     },
     "execution_count": 63,
     "metadata": {},
     "output_type": "execute_result"
    }
   ],
   "source": [
    "# в первой части данного исследования мы категоризировали клиентов по уровню дохода, присвоив им следующие категории:\n",
    "# E: 0–30000\n",
    "# D: 30001–50000 \n",
    "# C: 50001–200000\n",
    "# B: 200001–1000000 \n",
    "# A: 1000001 и выше \n",
    "# для удобства анализа сгруппируем клиентов по числуданным категориям, посчитаем их общее количество \n",
    "# и количество клиентов имеющих задолженность\n",
    "# общее количество клиентов сгруппированных по категории дохода найдем с помощью метода .count()\n",
    "# т.к. 1 в столбце debt означает задолженность, количество клиентов имеющих задолженность найдем методом .sum() \n",
    "# найдем среднее количество должников по группам mean_debt, разделив количество должников на общее количество клиентов в группе\n",
    "# отсортируем полученные значения mean_debt в порядке убывания и выведем весь датафрейм для оценки результата\n",
    "total_income_grouped = data.groupby('total_income_category').agg({'debt': ['count', 'sum', 'mean']})\n",
    "total_income_grouped.sort_values(('debt', 'mean'), ascending=False)"
   ]
  },
  {
   "cell_type": "markdown",
   "id": "8d40efd6",
   "metadata": {
    "deletable": false,
    "id": "e8593def"
   },
   "source": [
    "**Вывод:** В данном случае, объемами выборки достаточной для сравнения (более 1000) обладают категории B (доход диапазона 200001–1000000) и С (доход диапазона 50001–200000). \n",
    "По данным категориям мы можем прийти к выводу, что клиенты с доходом дипазона С, имеют существенно большую долю должников, чем клиенты с доходом диапазона B. Однако, имеющиеся у нас данные, позволяют сделать заключение только по данным двум категориям дохода клиентов, выборки по остальным категориям слишком малы для включения их в анализ. "
   ]
  },
  {
   "cell_type": "markdown",
   "id": "954021e4",
   "metadata": {
    "deletable": false,
    "editable": false,
    "id": "99ecbd1f"
   },
   "source": [
    "#### 3.4 Как разные цели кредита влияют на его возврат в срок?"
   ]
  },
  {
   "cell_type": "code",
   "execution_count": 66,
   "id": "c8251755",
   "metadata": {
    "deletable": false,
    "id": "2b687290"
   },
   "outputs": [
    {
     "data": {
      "text/html": [
       "<div>\n",
       "<style scoped>\n",
       "    .dataframe tbody tr th:only-of-type {\n",
       "        vertical-align: middle;\n",
       "    }\n",
       "\n",
       "    .dataframe tbody tr th {\n",
       "        vertical-align: top;\n",
       "    }\n",
       "\n",
       "    .dataframe thead tr th {\n",
       "        text-align: left;\n",
       "    }\n",
       "\n",
       "    .dataframe thead tr:last-of-type th {\n",
       "        text-align: right;\n",
       "    }\n",
       "</style>\n",
       "<table border=\"1\" class=\"dataframe\">\n",
       "  <thead>\n",
       "    <tr>\n",
       "      <th></th>\n",
       "      <th colspan=\"3\" halign=\"left\">debt</th>\n",
       "    </tr>\n",
       "    <tr>\n",
       "      <th></th>\n",
       "      <th>count</th>\n",
       "      <th>sum</th>\n",
       "      <th>mean</th>\n",
       "    </tr>\n",
       "    <tr>\n",
       "      <th>purpose_category</th>\n",
       "      <th></th>\n",
       "      <th></th>\n",
       "      <th></th>\n",
       "    </tr>\n",
       "  </thead>\n",
       "  <tbody>\n",
       "    <tr>\n",
       "      <th>операции с автомобилем</th>\n",
       "      <td>4279</td>\n",
       "      <td>400</td>\n",
       "      <td>0.093480</td>\n",
       "    </tr>\n",
       "    <tr>\n",
       "      <th>получение образования</th>\n",
       "      <td>3988</td>\n",
       "      <td>369</td>\n",
       "      <td>0.092528</td>\n",
       "    </tr>\n",
       "    <tr>\n",
       "      <th>проведение свадьбы</th>\n",
       "      <td>2313</td>\n",
       "      <td>183</td>\n",
       "      <td>0.079118</td>\n",
       "    </tr>\n",
       "    <tr>\n",
       "      <th>операции с недвижимостью</th>\n",
       "      <td>10751</td>\n",
       "      <td>780</td>\n",
       "      <td>0.072551</td>\n",
       "    </tr>\n",
       "  </tbody>\n",
       "</table>\n",
       "</div>"
      ],
      "text/plain": [
       "                           debt               \n",
       "                          count  sum      mean\n",
       "purpose_category                              \n",
       "операции с автомобилем     4279  400  0.093480\n",
       "получение образования      3988  369  0.092528\n",
       "проведение свадьбы         2313  183  0.079118\n",
       "операции с недвижимостью  10751  780  0.072551"
      ]
     },
     "execution_count": 66,
     "metadata": {},
     "output_type": "execute_result"
    }
   ],
   "source": [
    "# в первой части данного исследования мы категоризировали клиентов по целям получения кредита на следующие категории:\n",
    "# Операции с автомобилем\n",
    "# Получение образования\n",
    "# Проведение свадьбы\n",
    "# Операции с недвижимостью \n",
    "# для удобства анализа сгруппируем клиентов по числуданным категориям, посчитаем их общее количество \n",
    "# и количество клиентов имеющих задолженность\n",
    "# общее количество клиентов сгруппированных по категории дохода найдем с помощью метода .count()\n",
    "# т.к. 1 в столбце debt означает задолженность, количество клиентов имеющих задолженность найдем методом .sum() \n",
    "# найдем среднее количество должников по группам mean_debt, разделив количество должников на общее количество клиентов в группе\n",
    "# отсортируем полученные значения mean_debt в порядке убывания и выведем весь датафрейм для оценки результата\n",
    "purpose_category_grouped = data.groupby('purpose_category').agg({'debt': ['count', 'sum', 'mean']})\n",
    "purpose_category_grouped.sort_values(('debt', 'mean'), ascending=False)"
   ]
  },
  {
   "cell_type": "markdown",
   "id": "ee47b351",
   "metadata": {
    "deletable": false,
    "id": "b4bb2ce6"
   },
   "source": [
    "**Вывод:** В данном случае, объемы выборки по всем категориям клиентов достаточны для сравнения (более 1000). \n",
    "По результатам анализа среднего количества задолжников по категории \"Цель получения кредита\", можно придти к следующим выводам:\n",
    "1. Максимальное количество должников находятся в категориях \"Операции с автомобилем\" и \"Получение образования\", доли должников по данным категориям отличаются незначительно.\n",
    "2. Количество должников по категории \"Проведение свадьбы\" меньше, чем в двух вышеуказанных категориях, но больше чем в категории \"Операции с недвижимостью\" \n",
    "3. Количество должников по категории \"Операции с недвижимостью\" является наименьшим, скорее всего, по причине того, что получение такого займа требует залога покупаемой недвижимости"
   ]
  },
  {
   "cell_type": "markdown",
   "id": "517c31ad",
   "metadata": {
    "deletable": false,
    "editable": false,
    "id": "09c3ac4c"
   },
   "source": [
    "#### 3.5 Приведите возможные причины появления пропусков в исходных данных."
   ]
  },
  {
   "cell_type": "markdown",
   "id": "98def59b",
   "metadata": {
    "deletable": false,
    "id": "9da2ceda"
   },
   "source": [
    "*Ответ:* Пропуски данных содержались в столбцах days_employed - \"общий трудовой стаж в днях\" и total_income - \"ежемесячный доход\". Скорее всего причина образования этих пропусков в том, что данные сведения не были указаны клиентом при заполнении анкеты.\n",
    "Причиной может быть как отсутствие трудового стажа и ежемесячного дохода у клиента, так и сокрытия клиентом данной информации, ввиду того что он считает величину своего трудового стажа или ежемесячный дохода недостаточными для одобрения заявки. \n",
    "Также, такие пропуски могут быть вызваны техническим сбоем при формировании исходных данных."
   ]
  },
  {
   "cell_type": "markdown",
   "id": "264f3a5c",
   "metadata": {
    "deletable": false,
    "editable": false,
    "id": "7b0487d6"
   },
   "source": [
    "#### 3.6 Объясните, почему заполнить пропуски медианным значением — лучшее решение для количественных переменных."
   ]
  },
  {
   "cell_type": "markdown",
   "id": "091c0f52",
   "metadata": {
    "deletable": false,
    "id": "7ecf2b8e"
   },
   "source": [
    "*Ответ:* Заполнение количественных пропусков медианным значением максимально приближено к реальному распределению значений в рассматриваемой группе, т.к. в отличие от среднего значения, не учитывает влияние \"выбросов\" (аномально высоких или низких значений), приводящих к искажению представления о среднем распределении в группе."
   ]
  },
  {
   "cell_type": "markdown",
   "id": "2e278d20",
   "metadata": {
    "deletable": false,
    "editable": false,
    "id": "6db5255a"
   },
   "source": [
    "### Шаг 4: общий вывод."
   ]
  },
  {
   "cell_type": "markdown",
   "id": "e2f445f0",
   "metadata": {
    "deletable": false,
    "id": "bad65432"
   },
   "source": [
    "По результатам проведенного исследования о надежности заемщиков в зависимости от количества детей, семейного положения, уровнем дохода и целей кредита, можно придти к следующим выводам:\n",
    "1. Можно говорить скорее о зависимости возврата кредита от наличия детей, а не от их количества, т.к. среднее количество должников по группе клиентов не имеющих детей, существенно ниже всех остальных групп.\n",
    "2. Факт пребывания человека в официальном браке(в настоящем или прошлом), значительно повышает вероятность возврата кредита в срок, в то время как люди не имеющие такого опыта (группа \"гражданский брак\" и \"Не женат / не замужем\") имеют схожие доли средней задолженности.\n",
    "3. По надежности заемщиков в зависимости от уровня дохода, мы можем прийти к выводу, что клиенты с доходом дипазона 50001–200000, имеют существенно большую долю должников, чем клиенты с доходом диапазона 200001–1000000. Однако, имеющиеся у нас данные, позволяют сделать заключение только по данным двум категориям дохода клиентов, выборки по остальным категориям слишком малы для включения их в анализ.\n",
    "4. В зависимости от целей кредита надежность заемщиков распределена следующим образом:\n",
    "а) Максимальное количество должников находятся в категориях \"Операции с автомобилем\" и \"Получение образования\"\n",
    "б) Количество должников по категории \"Проведение свадьбы\" меньше, чем в двух вышеуказанных категориях, но больше чем в категории \"Операции с недвижимостью\" \n",
    "в) Количество должников по категории \"Операции с недвижимостью\" является наименьшим, скорее всего, по причине того, что получение такого займа требует залога покупаемой недвижимости."
   ]
  }
 ],
 "metadata": {
  "ExecuteTimeLog": [
   {
    "duration": 46,
    "start_time": "2023-12-27T06:50:22.456Z"
   },
   {
    "duration": 488,
    "start_time": "2023-12-27T06:50:36.076Z"
   },
   {
    "duration": 32,
    "start_time": "2023-12-27T06:50:36.566Z"
   },
   {
    "duration": 21,
    "start_time": "2023-12-27T06:50:36.599Z"
   },
   {
    "duration": 10,
    "start_time": "2023-12-27T06:50:36.622Z"
   },
   {
    "duration": 35,
    "start_time": "2023-12-27T06:50:36.633Z"
   },
   {
    "duration": 4,
    "start_time": "2023-12-27T06:50:36.669Z"
   },
   {
    "duration": 9,
    "start_time": "2023-12-27T06:50:36.674Z"
   },
   {
    "duration": 5,
    "start_time": "2023-12-27T06:50:36.684Z"
   },
   {
    "duration": 9,
    "start_time": "2023-12-27T06:50:36.715Z"
   },
   {
    "duration": 4,
    "start_time": "2023-12-27T06:50:36.726Z"
   },
   {
    "duration": 37,
    "start_time": "2023-12-27T06:50:36.732Z"
   },
   {
    "duration": 9,
    "start_time": "2023-12-27T06:50:36.771Z"
   },
   {
    "duration": 3,
    "start_time": "2023-12-27T06:50:36.782Z"
   },
   {
    "duration": 38,
    "start_time": "2023-12-27T06:50:36.786Z"
   },
   {
    "duration": 20,
    "start_time": "2023-12-27T06:50:36.825Z"
   },
   {
    "duration": 17,
    "start_time": "2023-12-27T06:50:36.847Z"
   },
   {
    "duration": 3,
    "start_time": "2023-12-27T06:50:36.866Z"
   },
   {
    "duration": 12,
    "start_time": "2023-12-27T06:50:36.871Z"
   },
   {
    "duration": 5,
    "start_time": "2023-12-27T06:50:36.885Z"
   },
   {
    "duration": 5,
    "start_time": "2023-12-27T06:50:36.915Z"
   },
   {
    "duration": 12,
    "start_time": "2023-12-27T06:50:36.921Z"
   },
   {
    "duration": 13,
    "start_time": "2023-12-27T06:50:36.935Z"
   },
   {
    "duration": 5,
    "start_time": "2023-12-27T06:50:36.949Z"
   },
   {
    "duration": 4,
    "start_time": "2023-12-27T06:50:36.956Z"
   },
   {
    "duration": 3,
    "start_time": "2023-12-27T06:50:36.962Z"
   },
   {
    "duration": 4,
    "start_time": "2023-12-27T06:52:30.852Z"
   },
   {
    "duration": 3,
    "start_time": "2023-12-27T06:52:36.130Z"
   },
   {
    "duration": 5,
    "start_time": "2023-12-27T06:52:47.546Z"
   },
   {
    "duration": 6,
    "start_time": "2023-12-27T06:53:16.015Z"
   },
   {
    "duration": 5,
    "start_time": "2023-12-27T06:53:25.623Z"
   },
   {
    "duration": 8,
    "start_time": "2023-12-27T06:57:56.587Z"
   },
   {
    "duration": 7,
    "start_time": "2023-12-27T06:58:14.129Z"
   },
   {
    "duration": 47,
    "start_time": "2023-12-27T06:59:01.881Z"
   },
   {
    "duration": 55,
    "start_time": "2023-12-27T07:00:01.476Z"
   },
   {
    "duration": 53,
    "start_time": "2023-12-27T07:01:17.043Z"
   },
   {
    "duration": 60,
    "start_time": "2023-12-27T07:01:38.937Z"
   },
   {
    "duration": 48,
    "start_time": "2023-12-27T07:01:44.212Z"
   },
   {
    "duration": 46,
    "start_time": "2023-12-27T07:02:23.415Z"
   },
   {
    "duration": 45,
    "start_time": "2023-12-27T07:02:40.698Z"
   },
   {
    "duration": 60,
    "start_time": "2023-12-27T07:05:12.262Z"
   },
   {
    "duration": 47,
    "start_time": "2023-12-27T07:05:18.226Z"
   },
   {
    "duration": 7,
    "start_time": "2023-12-27T07:05:37.755Z"
   },
   {
    "duration": 53,
    "start_time": "2023-12-27T07:06:22.278Z"
   },
   {
    "duration": 41,
    "start_time": "2023-12-27T07:06:32.204Z"
   },
   {
    "duration": 8,
    "start_time": "2023-12-27T07:07:30.807Z"
   },
   {
    "duration": 31,
    "start_time": "2023-12-27T07:08:30.365Z"
   },
   {
    "duration": 7,
    "start_time": "2023-12-27T07:08:56.310Z"
   },
   {
    "duration": 7,
    "start_time": "2023-12-27T07:09:33.469Z"
   },
   {
    "duration": 12,
    "start_time": "2023-12-27T07:10:02.133Z"
   },
   {
    "duration": 6,
    "start_time": "2023-12-27T07:10:21.829Z"
   },
   {
    "duration": 7,
    "start_time": "2023-12-27T07:10:36.404Z"
   },
   {
    "duration": 8,
    "start_time": "2023-12-27T07:18:33.877Z"
   },
   {
    "duration": 9,
    "start_time": "2023-12-27T07:18:49.576Z"
   },
   {
    "duration": 11,
    "start_time": "2023-12-27T07:19:02.996Z"
   },
   {
    "duration": 11,
    "start_time": "2023-12-27T07:24:09.568Z"
   },
   {
    "duration": 16,
    "start_time": "2023-12-27T07:25:28.172Z"
   },
   {
    "duration": 13,
    "start_time": "2023-12-27T07:27:41.817Z"
   },
   {
    "duration": 53,
    "start_time": "2023-12-27T07:27:54.929Z"
   },
   {
    "duration": 13,
    "start_time": "2023-12-27T07:28:00.149Z"
   },
   {
    "duration": 17,
    "start_time": "2023-12-27T07:28:27.386Z"
   },
   {
    "duration": 13,
    "start_time": "2023-12-27T07:28:57.598Z"
   },
   {
    "duration": 13,
    "start_time": "2023-12-27T07:29:05.293Z"
   },
   {
    "duration": 15,
    "start_time": "2023-12-27T08:05:14.870Z"
   },
   {
    "duration": 8,
    "start_time": "2023-12-27T08:11:10.757Z"
   },
   {
    "duration": 7,
    "start_time": "2023-12-27T08:13:16.031Z"
   },
   {
    "duration": 397,
    "start_time": "2023-12-27T08:13:23.201Z"
   },
   {
    "duration": 580,
    "start_time": "2023-12-27T08:13:32.975Z"
   },
   {
    "duration": 15,
    "start_time": "2023-12-27T08:14:14.023Z"
   },
   {
    "duration": 6,
    "start_time": "2023-12-27T08:14:38.970Z"
   },
   {
    "duration": 9,
    "start_time": "2023-12-27T08:16:02.339Z"
   },
   {
    "duration": 9,
    "start_time": "2023-12-27T08:16:19.644Z"
   },
   {
    "duration": 9,
    "start_time": "2023-12-27T08:17:32.783Z"
   },
   {
    "duration": 12,
    "start_time": "2023-12-27T08:17:46.366Z"
   },
   {
    "duration": 7,
    "start_time": "2023-12-27T08:20:06.435Z"
   },
   {
    "duration": 8,
    "start_time": "2023-12-27T08:20:08.805Z"
   },
   {
    "duration": 11,
    "start_time": "2023-12-27T08:21:49.206Z"
   },
   {
    "duration": 9,
    "start_time": "2023-12-27T08:22:22.466Z"
   },
   {
    "duration": 60,
    "start_time": "2023-12-27T08:25:47.419Z"
   },
   {
    "duration": 7,
    "start_time": "2023-12-27T08:26:20.927Z"
   },
   {
    "duration": 11,
    "start_time": "2023-12-27T08:26:38.166Z"
   },
   {
    "duration": 14,
    "start_time": "2023-12-27T08:29:03.692Z"
   },
   {
    "duration": 17,
    "start_time": "2023-12-27T08:29:24.438Z"
   },
   {
    "duration": 17,
    "start_time": "2023-12-27T08:30:14.349Z"
   },
   {
    "duration": 8,
    "start_time": "2023-12-27T08:39:48.216Z"
   },
   {
    "duration": 15,
    "start_time": "2023-12-27T09:05:16.081Z"
   },
   {
    "duration": 12,
    "start_time": "2023-12-27T09:10:19.416Z"
   },
   {
    "duration": 15,
    "start_time": "2023-12-27T09:12:25.357Z"
   },
   {
    "duration": 18,
    "start_time": "2023-12-27T09:13:15.853Z"
   },
   {
    "duration": 18,
    "start_time": "2023-12-27T09:31:40.958Z"
   },
   {
    "duration": 17,
    "start_time": "2023-12-27T09:32:55.735Z"
   },
   {
    "duration": 15,
    "start_time": "2023-12-27T09:35:30.520Z"
   },
   {
    "duration": 13,
    "start_time": "2023-12-27T09:37:43.131Z"
   },
   {
    "duration": 15,
    "start_time": "2023-12-27T09:39:14.837Z"
   },
   {
    "duration": 18,
    "start_time": "2023-12-27T09:39:51.000Z"
   },
   {
    "duration": 20,
    "start_time": "2023-12-27T10:23:54.964Z"
   },
   {
    "duration": 501,
    "start_time": "2023-12-27T11:24:51.288Z"
   },
   {
    "duration": 23,
    "start_time": "2023-12-27T11:24:51.791Z"
   },
   {
    "duration": 40,
    "start_time": "2023-12-27T11:24:51.815Z"
   },
   {
    "duration": 35,
    "start_time": "2023-12-27T11:24:51.858Z"
   },
   {
    "duration": 41,
    "start_time": "2023-12-27T11:24:51.894Z"
   },
   {
    "duration": 4,
    "start_time": "2023-12-27T11:24:51.936Z"
   },
   {
    "duration": 22,
    "start_time": "2023-12-27T11:24:51.941Z"
   },
   {
    "duration": 21,
    "start_time": "2023-12-27T11:24:51.964Z"
   },
   {
    "duration": 21,
    "start_time": "2023-12-27T11:24:51.986Z"
   },
   {
    "duration": 21,
    "start_time": "2023-12-27T11:24:52.010Z"
   },
   {
    "duration": 39,
    "start_time": "2023-12-27T11:24:52.032Z"
   },
   {
    "duration": 11,
    "start_time": "2023-12-27T11:24:52.072Z"
   },
   {
    "duration": 15,
    "start_time": "2023-12-27T11:24:52.084Z"
   },
   {
    "duration": 39,
    "start_time": "2023-12-27T11:24:52.101Z"
   },
   {
    "duration": 46,
    "start_time": "2023-12-27T11:24:52.141Z"
   },
   {
    "duration": 15,
    "start_time": "2023-12-27T11:24:52.189Z"
   },
   {
    "duration": 4,
    "start_time": "2023-12-27T11:24:52.206Z"
   },
   {
    "duration": 34,
    "start_time": "2023-12-27T11:24:52.212Z"
   },
   {
    "duration": 39,
    "start_time": "2023-12-27T11:24:52.247Z"
   },
   {
    "duration": 48,
    "start_time": "2023-12-27T11:24:52.287Z"
   },
   {
    "duration": 89,
    "start_time": "2023-12-27T11:24:52.336Z"
   },
   {
    "duration": 59,
    "start_time": "2023-12-27T11:24:52.426Z"
   },
   {
    "duration": 29,
    "start_time": "2023-12-27T11:24:52.487Z"
   },
   {
    "duration": 74,
    "start_time": "2023-12-27T11:24:52.518Z"
   },
   {
    "duration": 52,
    "start_time": "2023-12-27T11:24:52.594Z"
   },
   {
    "duration": 46,
    "start_time": "2023-12-27T11:24:52.648Z"
   },
   {
    "duration": 69,
    "start_time": "2023-12-27T11:24:52.696Z"
   },
   {
    "duration": 34,
    "start_time": "2023-12-27T11:24:52.769Z"
   },
   {
    "duration": 450,
    "start_time": "2023-12-27T11:29:26.955Z"
   },
   {
    "duration": 22,
    "start_time": "2023-12-27T11:29:27.407Z"
   },
   {
    "duration": 17,
    "start_time": "2023-12-27T11:29:27.431Z"
   },
   {
    "duration": 29,
    "start_time": "2023-12-27T11:29:27.451Z"
   },
   {
    "duration": 54,
    "start_time": "2023-12-27T11:29:27.481Z"
   },
   {
    "duration": 3,
    "start_time": "2023-12-27T11:29:27.536Z"
   },
   {
    "duration": 32,
    "start_time": "2023-12-27T11:29:27.540Z"
   },
   {
    "duration": 11,
    "start_time": "2023-12-27T11:29:27.573Z"
   },
   {
    "duration": 22,
    "start_time": "2023-12-27T11:29:27.586Z"
   },
   {
    "duration": 25,
    "start_time": "2023-12-27T11:29:27.611Z"
   },
   {
    "duration": 39,
    "start_time": "2023-12-27T11:29:27.638Z"
   },
   {
    "duration": 10,
    "start_time": "2023-12-27T11:29:27.679Z"
   },
   {
    "duration": 9,
    "start_time": "2023-12-27T11:29:27.690Z"
   },
   {
    "duration": 31,
    "start_time": "2023-12-27T11:29:27.700Z"
   },
   {
    "duration": 40,
    "start_time": "2023-12-27T11:29:27.733Z"
   },
   {
    "duration": 16,
    "start_time": "2023-12-27T11:29:27.774Z"
   },
   {
    "duration": 17,
    "start_time": "2023-12-27T11:29:27.791Z"
   },
   {
    "duration": 29,
    "start_time": "2023-12-27T11:29:27.810Z"
   },
   {
    "duration": 20,
    "start_time": "2023-12-27T11:29:27.841Z"
   },
   {
    "duration": 18,
    "start_time": "2023-12-27T11:29:27.863Z"
   },
   {
    "duration": 30,
    "start_time": "2023-12-27T11:29:27.883Z"
   },
   {
    "duration": 26,
    "start_time": "2023-12-27T11:29:27.915Z"
   },
   {
    "duration": 30,
    "start_time": "2023-12-27T11:29:27.942Z"
   },
   {
    "duration": 10,
    "start_time": "2023-12-27T11:29:27.973Z"
   },
   {
    "duration": 31,
    "start_time": "2023-12-27T11:29:27.984Z"
   },
   {
    "duration": 38,
    "start_time": "2023-12-27T11:29:28.016Z"
   },
   {
    "duration": 32,
    "start_time": "2023-12-27T11:29:28.056Z"
   },
   {
    "duration": 22,
    "start_time": "2023-12-27T11:29:28.092Z"
   },
   {
    "duration": 63,
    "start_time": "2023-12-27T12:00:11.356Z"
   },
   {
    "duration": 115,
    "start_time": "2023-12-27T12:00:29.630Z"
   },
   {
    "duration": 71,
    "start_time": "2023-12-27T12:11:22.634Z"
   },
   {
    "duration": 15,
    "start_time": "2023-12-27T12:21:16.185Z"
   },
   {
    "duration": 19,
    "start_time": "2023-12-27T12:22:27.858Z"
   },
   {
    "duration": 19,
    "start_time": "2023-12-27T12:25:44.396Z"
   },
   {
    "duration": 15,
    "start_time": "2023-12-27T12:28:15.161Z"
   },
   {
    "duration": 17,
    "start_time": "2023-12-27T12:29:10.818Z"
   },
   {
    "duration": 17,
    "start_time": "2023-12-27T12:29:47.251Z"
   },
   {
    "duration": 17,
    "start_time": "2023-12-27T12:37:00.392Z"
   },
   {
    "duration": 215,
    "start_time": "2023-12-27T12:38:02.317Z"
   },
   {
    "duration": 183,
    "start_time": "2023-12-27T12:38:35.284Z"
   },
   {
    "duration": 26,
    "start_time": "2023-12-27T12:41:12.522Z"
   },
   {
    "duration": 19,
    "start_time": "2023-12-27T12:41:21.450Z"
   },
   {
    "duration": 188,
    "start_time": "2023-12-27T12:41:29.713Z"
   },
   {
    "duration": 192,
    "start_time": "2023-12-27T12:41:58.998Z"
   },
   {
    "duration": 16,
    "start_time": "2023-12-27T12:43:59.180Z"
   },
   {
    "duration": 52,
    "start_time": "2023-12-27T12:48:17.433Z"
   },
   {
    "duration": 54,
    "start_time": "2023-12-27T12:48:25.722Z"
   },
   {
    "duration": 15,
    "start_time": "2023-12-27T12:48:30.949Z"
   },
   {
    "duration": 8,
    "start_time": "2023-12-27T12:53:27.316Z"
   },
   {
    "duration": 67,
    "start_time": "2023-12-27T12:53:53.500Z"
   },
   {
    "duration": 17,
    "start_time": "2023-12-27T12:54:06.054Z"
   },
   {
    "duration": 13,
    "start_time": "2023-12-27T12:54:20.944Z"
   },
   {
    "duration": 6,
    "start_time": "2023-12-27T12:54:35.219Z"
   },
   {
    "duration": 11,
    "start_time": "2023-12-27T12:54:52.543Z"
   },
   {
    "duration": 9,
    "start_time": "2023-12-27T12:56:49.774Z"
   },
   {
    "duration": 16,
    "start_time": "2023-12-27T12:57:17.767Z"
   },
   {
    "duration": 14,
    "start_time": "2023-12-27T12:58:20.333Z"
   },
   {
    "duration": 19,
    "start_time": "2023-12-27T12:59:30.953Z"
   },
   {
    "duration": 10,
    "start_time": "2023-12-27T13:08:18.151Z"
   },
   {
    "duration": 13,
    "start_time": "2023-12-27T13:10:16.468Z"
   },
   {
    "duration": 13,
    "start_time": "2023-12-27T13:10:33.077Z"
   },
   {
    "duration": 13,
    "start_time": "2023-12-27T13:11:23.380Z"
   },
   {
    "duration": 13,
    "start_time": "2023-12-27T13:12:04.992Z"
   },
   {
    "duration": 13,
    "start_time": "2023-12-27T13:12:23.755Z"
   },
   {
    "duration": 13,
    "start_time": "2023-12-27T13:12:28.830Z"
   },
   {
    "duration": 40,
    "start_time": "2023-12-27T13:13:38.453Z"
   },
   {
    "duration": 11,
    "start_time": "2023-12-27T13:14:02.774Z"
   },
   {
    "duration": 7,
    "start_time": "2023-12-27T13:14:11.722Z"
   },
   {
    "duration": 12,
    "start_time": "2023-12-27T13:14:20.195Z"
   },
   {
    "duration": 65,
    "start_time": "2023-12-27T13:19:50.082Z"
   },
   {
    "duration": 12,
    "start_time": "2023-12-27T13:19:56.463Z"
   },
   {
    "duration": 13,
    "start_time": "2023-12-27T13:21:29.219Z"
   },
   {
    "duration": 15,
    "start_time": "2023-12-27T13:21:43.085Z"
   },
   {
    "duration": 49,
    "start_time": "2023-12-27T13:24:12.801Z"
   },
   {
    "duration": 14,
    "start_time": "2023-12-27T13:24:19.486Z"
   },
   {
    "duration": 14,
    "start_time": "2023-12-27T13:24:32.569Z"
   },
   {
    "duration": 50,
    "start_time": "2023-12-27T13:27:58.754Z"
   },
   {
    "duration": 15,
    "start_time": "2023-12-27T13:32:14.762Z"
   },
   {
    "duration": 15,
    "start_time": "2023-12-27T13:33:03.296Z"
   },
   {
    "duration": 16,
    "start_time": "2023-12-27T13:34:23.260Z"
   },
   {
    "duration": 585,
    "start_time": "2024-01-31T16:36:36.619Z"
   },
   {
    "duration": 29,
    "start_time": "2024-01-31T16:36:37.207Z"
   },
   {
    "duration": 17,
    "start_time": "2024-01-31T16:36:37.238Z"
   },
   {
    "duration": 37,
    "start_time": "2024-01-31T16:36:37.257Z"
   },
   {
    "duration": 62,
    "start_time": "2024-01-31T16:36:37.296Z"
   },
   {
    "duration": 4,
    "start_time": "2024-01-31T16:36:37.360Z"
   },
   {
    "duration": 27,
    "start_time": "2024-01-31T16:36:37.366Z"
   },
   {
    "duration": 7,
    "start_time": "2024-01-31T16:36:37.396Z"
   },
   {
    "duration": 29,
    "start_time": "2024-01-31T16:36:37.405Z"
   },
   {
    "duration": 6,
    "start_time": "2024-01-31T16:36:37.437Z"
   },
   {
    "duration": 47,
    "start_time": "2024-01-31T16:36:37.444Z"
   },
   {
    "duration": 14,
    "start_time": "2024-01-31T16:36:37.492Z"
   },
   {
    "duration": 5,
    "start_time": "2024-01-31T16:36:37.508Z"
   },
   {
    "duration": 16,
    "start_time": "2024-01-31T16:36:37.515Z"
   },
   {
    "duration": 24,
    "start_time": "2024-01-31T16:36:37.533Z"
   },
   {
    "duration": 48,
    "start_time": "2024-01-31T16:36:37.559Z"
   },
   {
    "duration": 5,
    "start_time": "2024-01-31T16:36:37.609Z"
   },
   {
    "duration": 12,
    "start_time": "2024-01-31T16:36:37.616Z"
   },
   {
    "duration": 7,
    "start_time": "2024-01-31T16:36:37.630Z"
   },
   {
    "duration": 4,
    "start_time": "2024-01-31T16:36:37.638Z"
   },
   {
    "duration": 11,
    "start_time": "2024-01-31T16:36:37.644Z"
   },
   {
    "duration": 47,
    "start_time": "2024-01-31T16:36:37.657Z"
   },
   {
    "duration": 23,
    "start_time": "2024-01-31T16:36:37.707Z"
   },
   {
    "duration": 19,
    "start_time": "2024-01-31T16:36:37.733Z"
   },
   {
    "duration": 47,
    "start_time": "2024-01-31T16:36:37.754Z"
   },
   {
    "duration": 76,
    "start_time": "2024-01-31T16:49:59.931Z"
   },
   {
    "duration": 10,
    "start_time": "2024-01-31T16:50:22.242Z"
   },
   {
    "duration": 93,
    "start_time": "2024-01-31T16:50:27.654Z"
   },
   {
    "duration": 18,
    "start_time": "2024-01-31T16:50:27.749Z"
   },
   {
    "duration": 34,
    "start_time": "2024-01-31T16:50:27.769Z"
   },
   {
    "duration": 21,
    "start_time": "2024-01-31T16:50:27.805Z"
   },
   {
    "duration": 11,
    "start_time": "2024-01-31T16:50:27.828Z"
   },
   {
    "duration": 0,
    "start_time": "2024-01-31T16:50:27.843Z"
   },
   {
    "duration": 0,
    "start_time": "2024-01-31T16:50:27.844Z"
   },
   {
    "duration": 0,
    "start_time": "2024-01-31T16:50:27.845Z"
   },
   {
    "duration": 0,
    "start_time": "2024-01-31T16:50:27.846Z"
   },
   {
    "duration": 0,
    "start_time": "2024-01-31T16:50:27.847Z"
   },
   {
    "duration": 0,
    "start_time": "2024-01-31T16:50:27.848Z"
   },
   {
    "duration": 0,
    "start_time": "2024-01-31T16:50:27.849Z"
   },
   {
    "duration": 0,
    "start_time": "2024-01-31T16:50:27.851Z"
   },
   {
    "duration": 0,
    "start_time": "2024-01-31T16:50:27.851Z"
   },
   {
    "duration": 0,
    "start_time": "2024-01-31T16:50:27.853Z"
   },
   {
    "duration": 0,
    "start_time": "2024-01-31T16:50:27.854Z"
   },
   {
    "duration": 0,
    "start_time": "2024-01-31T16:50:27.855Z"
   },
   {
    "duration": 0,
    "start_time": "2024-01-31T16:50:27.856Z"
   },
   {
    "duration": 0,
    "start_time": "2024-01-31T16:50:27.891Z"
   },
   {
    "duration": 0,
    "start_time": "2024-01-31T16:50:27.892Z"
   },
   {
    "duration": 0,
    "start_time": "2024-01-31T16:50:27.894Z"
   },
   {
    "duration": 0,
    "start_time": "2024-01-31T16:50:27.895Z"
   },
   {
    "duration": 0,
    "start_time": "2024-01-31T16:50:27.896Z"
   },
   {
    "duration": 0,
    "start_time": "2024-01-31T16:50:27.897Z"
   },
   {
    "duration": 0,
    "start_time": "2024-01-31T16:50:27.898Z"
   },
   {
    "duration": 980,
    "start_time": "2024-01-31T17:44:50.891Z"
   },
   {
    "duration": 907,
    "start_time": "2024-01-31T17:45:00.525Z"
   },
   {
    "duration": 969,
    "start_time": "2024-01-31T17:45:14.082Z"
   },
   {
    "duration": 912,
    "start_time": "2024-01-31T17:45:32.183Z"
   },
   {
    "duration": 51,
    "start_time": "2024-01-31T17:45:41.373Z"
   },
   {
    "duration": 6,
    "start_time": "2024-01-31T17:48:41.815Z"
   },
   {
    "duration": 52,
    "start_time": "2024-02-04T08:29:51.199Z"
   }
  ],
  "colab": {
   "name": "dpp_template_part2.ipynb",
   "provenance": []
  },
  "kernelspec": {
   "display_name": "Python 3 (ipykernel)",
   "language": "python",
   "name": "python3"
  },
  "language_info": {
   "codemirror_mode": {
    "name": "ipython",
    "version": 3
   },
   "file_extension": ".py",
   "mimetype": "text/x-python",
   "name": "python",
   "nbconvert_exporter": "python",
   "pygments_lexer": "ipython3",
   "version": "3.11.7"
  },
  "toc": {
   "base_numbering": 1,
   "nav_menu": {},
   "number_sections": true,
   "sideBar": true,
   "skip_h1_title": true,
   "title_cell": "Table of Contents",
   "title_sidebar": "Contents",
   "toc_cell": false,
   "toc_position": {},
   "toc_section_display": true,
   "toc_window_display": true
  }
 },
 "nbformat": 4,
 "nbformat_minor": 5
}
